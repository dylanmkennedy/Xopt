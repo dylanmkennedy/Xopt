{
 "cells": [
  {
   "cell_type": "markdown",
   "metadata": {},
   "source": [
    "# Xopt basic example\n",
    "\n",
    "An Xopt problem can be described by a simple YAML file. Here we will demonstrate how this is used to optimize a well-known constrained multi-objective test function, TNK. The TNK function is defined with:\n",
    "\n",
    "$n=2$ variables:\n",
    "$x_i \\in [0, \\pi], i=1,2$\n",
    "\n",
    "Objectives:\n",
    "- $f_i(x) = x_i$\n",
    "\n",
    "Constraints:\n",
    "- $g_1(x) = -x_1^2 -x_2^2 + 1 + 0.1 \\cos\\left(16 \\arctan \\frac{x_1}{x_2}\\right) \\le 0$\n",
    "- $g_2(x) = (x_1 - 1/2)^2 + (x_2-1/2)^2 \\le 0.5$"
   ]
  },
  {
   "cell_type": "code",
   "execution_count": 1,
   "metadata": {
    "execution": {
     "iopub.execute_input": "2022-07-02T04:16:41.207662Z",
     "iopub.status.busy": "2022-07-02T04:16:41.207282Z",
     "iopub.status.idle": "2022-07-02T04:16:41.884950Z",
     "shell.execute_reply": "2022-07-02T04:16:41.884323Z"
    },
    "ExecuteTime": {
     "end_time": "2023-08-02T19:10:54.075916200Z",
     "start_time": "2023-08-02T19:10:51.105242800Z"
    }
   },
   "outputs": [],
   "source": [
    "# Import the class\n",
    "from xopt import Xopt"
   ]
  },
  {
   "cell_type": "code",
   "execution_count": 2,
   "metadata": {
    "ExecuteTime": {
     "end_time": "2023-08-02T19:10:54.090917600Z",
     "start_time": "2023-08-02T19:10:54.078917Z"
    }
   },
   "outputs": [],
   "source": [
    "# Nicer plotting\n",
    "%config InlineBackend.figure_format = 'retina'"
   ]
  },
  {
   "cell_type": "markdown",
   "metadata": {
    "collapsed": false
   },
   "source": [
    "## Xopt Components\n",
    "The definition of the Xopt object requires 4 parts, listed below:\n",
    "- The `Xopt` object itself, which controlls data flow, stores data and governs data\n",
    "loading and saving.\n",
    "- The `Evaluator` object, which evaluates input points using the arbitrary function\n",
    "specified by the `function` property.\n",
    "- The `Generator` object, which, when given data that has been evaluated, generates\n",
    "future points to evaluate using the evaluator.\n",
    "- The `VOCS` (variables, objectives, constraints, statics) object, which specifies the\n",
    "input domain, the objectives, constraints and constants passed to the evaluator\n",
    "function.\n",
    "\n",
    "Through the YAML interface these objects and their options are specified by name. \n",
    "Here we will make one:"
   ]
  },
  {
   "cell_type": "code",
   "execution_count": 3,
   "metadata": {
    "collapsed": false,
    "execution": {
     "iopub.execute_input": "2022-07-02T04:16:41.887258Z",
     "iopub.status.busy": "2022-07-02T04:16:41.886966Z",
     "iopub.status.idle": "2022-07-02T04:16:41.889280Z",
     "shell.execute_reply": "2022-07-02T04:16:41.889046Z"
    },
    "ExecuteTime": {
     "end_time": "2023-08-02T19:10:54.110253800Z",
     "start_time": "2023-08-02T19:10:54.091915500Z"
    }
   },
   "outputs": [],
   "source": [
    "# Make a proper input file.\n",
    "YAML = \"\"\"\n",
    "xopt: {}\n",
    "evaluator:\n",
    "    function: xopt.resources.test_functions.tnk.evaluate_TNK\n",
    "    function_kwargs:\n",
    "        a: 999\n",
    "\n",
    "generator:\n",
    "    name: random\n",
    "\n",
    "vocs:\n",
    "    variables:\n",
    "        x1: [0, 3.14159]\n",
    "        x2: [0, 3.14159]\n",
    "    objectives: {y1: MINIMIZE, y2: MINIMIZE}\n",
    "    constraints:\n",
    "        c1: [GREATER_THAN, 0]\n",
    "        c2: [LESS_THAN, 0.5]\n",
    "    constants: {a: dummy_constant}\n",
    "\n",
    "\"\"\""
   ]
  },
  {
   "cell_type": "code",
   "execution_count": 4,
   "metadata": {
    "collapsed": false,
    "execution": {
     "iopub.execute_input": "2022-07-02T04:16:41.890795Z",
     "iopub.status.busy": "2022-07-02T04:16:41.890691Z",
     "iopub.status.idle": "2022-07-02T04:16:41.898916Z",
     "shell.execute_reply": "2022-07-02T04:16:41.898677Z"
    },
    "ExecuteTime": {
     "end_time": "2023-08-02T19:10:54.139591700Z",
     "start_time": "2023-08-02T19:10:54.107236500Z"
    }
   },
   "outputs": [],
   "source": [
    "# create Xopt object.\n",
    "X = Xopt(YAML)"
   ]
  },
  {
   "cell_type": "code",
   "execution_count": 5,
   "metadata": {
    "execution": {
     "iopub.execute_input": "2022-07-02T04:16:41.900325Z",
     "iopub.status.busy": "2022-07-02T04:16:41.900241Z",
     "iopub.status.idle": "2022-07-02T04:16:41.905569Z",
     "shell.execute_reply": "2022-07-02T04:16:41.905324Z"
    },
    "ExecuteTime": {
     "end_time": "2023-08-02T19:10:54.151617500Z",
     "start_time": "2023-08-02T19:10:54.142592100Z"
    }
   },
   "outputs": [
    {
     "data": {
      "text/plain": "\n            Xopt\n________________________________\nVersion: 2.0a1+37.g57efdf5.dirty\nData size: 0\nConfig as YAML:\nxopt: {asynch: false, strict: true, dump_file: null, max_evaluations: null}\ngenerator: {name: random}\nevaluator:\n  function: xopt.resources.test_functions.tnk.evaluate_TNK\n  max_workers: 1\n  function_kwargs: {sleep: 0, random_sleep: 0, raise_probability: 0, a: 999}\n  vectorized: false\nvocs:\n  variables:\n    x1: [0.0, 3.14159]\n    x2: [0.0, 3.14159]\n  constraints:\n    c1: [GREATER_THAN, 0.0]\n    c2: [LESS_THAN, 0.5]\n  objectives: {y1: MINIMIZE, y2: MINIMIZE}\n  constants: {a: dummy_constant}\n  observables: []\n"
     },
     "execution_count": 5,
     "metadata": {},
     "output_type": "execute_result"
    }
   ],
   "source": [
    "# Convenient representation of the state.\n",
    "X"
   ]
  },
  {
   "cell_type": "code",
   "execution_count": 6,
   "metadata": {
    "execution": {
     "iopub.execute_input": "2022-07-02T04:16:41.918454Z",
     "iopub.status.busy": "2022-07-02T04:16:41.918335Z",
     "iopub.status.idle": "2022-07-02T04:16:41.921126Z",
     "shell.execute_reply": "2022-07-02T04:16:41.920869Z"
    },
    "ExecuteTime": {
     "end_time": "2023-08-02T19:10:54.199284800Z",
     "start_time": "2023-08-02T19:10:54.152592600Z"
    }
   },
   "outputs": [
    {
     "data": {
      "text/plain": "          x1        x2               a        y1        y2         c1  \\\n1   2.399902  0.914964  dummy_constant  2.399902  0.914964   5.506877   \n2   2.577039  2.416578  dummy_constant  2.577039  2.416578  11.393899   \n3   0.079007  2.281094  dummy_constant  0.079007  2.281094   4.124587   \n4   1.399425  1.424787  dummy_constant  1.399425  1.424787   2.889437   \n5   1.204910  1.513285  dummy_constant  1.204910  1.513285   2.765285   \n6   1.982380  1.427349  dummy_constant  1.982380  1.427349   5.051893   \n7   1.862210  1.151401  dummy_constant  1.862210  1.151401   3.878033   \n8   1.106276  1.537716  dummy_constant  1.106276  1.537716   2.673483   \n9   2.906975  0.201726  dummy_constant  2.906975  0.201726   7.446601   \n10  0.355736  3.067256  dummy_constant  0.355736  3.067256   8.561919   \n\n          c2  xopt_runtime  xopt_error  \n1   3.781822      0.000026       False  \n2   7.987362      0.000007       False  \n3   3.349531      0.000006       False  \n4   1.664195      0.000005       False  \n5   1.523645      0.000005       False  \n6   3.057427      0.000005       False  \n7   2.279938      0.000005       False  \n8   1.444425      0.000005       False  \n9   5.882498      0.000005       False  \n10  6.611618      0.000004       False  ",
      "text/html": "<div>\n<style scoped>\n    .dataframe tbody tr th:only-of-type {\n        vertical-align: middle;\n    }\n\n    .dataframe tbody tr th {\n        vertical-align: top;\n    }\n\n    .dataframe thead th {\n        text-align: right;\n    }\n</style>\n<table border=\"1\" class=\"dataframe\">\n  <thead>\n    <tr style=\"text-align: right;\">\n      <th></th>\n      <th>x1</th>\n      <th>x2</th>\n      <th>a</th>\n      <th>y1</th>\n      <th>y2</th>\n      <th>c1</th>\n      <th>c2</th>\n      <th>xopt_runtime</th>\n      <th>xopt_error</th>\n    </tr>\n  </thead>\n  <tbody>\n    <tr>\n      <th>1</th>\n      <td>2.399902</td>\n      <td>0.914964</td>\n      <td>dummy_constant</td>\n      <td>2.399902</td>\n      <td>0.914964</td>\n      <td>5.506877</td>\n      <td>3.781822</td>\n      <td>0.000026</td>\n      <td>False</td>\n    </tr>\n    <tr>\n      <th>2</th>\n      <td>2.577039</td>\n      <td>2.416578</td>\n      <td>dummy_constant</td>\n      <td>2.577039</td>\n      <td>2.416578</td>\n      <td>11.393899</td>\n      <td>7.987362</td>\n      <td>0.000007</td>\n      <td>False</td>\n    </tr>\n    <tr>\n      <th>3</th>\n      <td>0.079007</td>\n      <td>2.281094</td>\n      <td>dummy_constant</td>\n      <td>0.079007</td>\n      <td>2.281094</td>\n      <td>4.124587</td>\n      <td>3.349531</td>\n      <td>0.000006</td>\n      <td>False</td>\n    </tr>\n    <tr>\n      <th>4</th>\n      <td>1.399425</td>\n      <td>1.424787</td>\n      <td>dummy_constant</td>\n      <td>1.399425</td>\n      <td>1.424787</td>\n      <td>2.889437</td>\n      <td>1.664195</td>\n      <td>0.000005</td>\n      <td>False</td>\n    </tr>\n    <tr>\n      <th>5</th>\n      <td>1.204910</td>\n      <td>1.513285</td>\n      <td>dummy_constant</td>\n      <td>1.204910</td>\n      <td>1.513285</td>\n      <td>2.765285</td>\n      <td>1.523645</td>\n      <td>0.000005</td>\n      <td>False</td>\n    </tr>\n    <tr>\n      <th>6</th>\n      <td>1.982380</td>\n      <td>1.427349</td>\n      <td>dummy_constant</td>\n      <td>1.982380</td>\n      <td>1.427349</td>\n      <td>5.051893</td>\n      <td>3.057427</td>\n      <td>0.000005</td>\n      <td>False</td>\n    </tr>\n    <tr>\n      <th>7</th>\n      <td>1.862210</td>\n      <td>1.151401</td>\n      <td>dummy_constant</td>\n      <td>1.862210</td>\n      <td>1.151401</td>\n      <td>3.878033</td>\n      <td>2.279938</td>\n      <td>0.000005</td>\n      <td>False</td>\n    </tr>\n    <tr>\n      <th>8</th>\n      <td>1.106276</td>\n      <td>1.537716</td>\n      <td>dummy_constant</td>\n      <td>1.106276</td>\n      <td>1.537716</td>\n      <td>2.673483</td>\n      <td>1.444425</td>\n      <td>0.000005</td>\n      <td>False</td>\n    </tr>\n    <tr>\n      <th>9</th>\n      <td>2.906975</td>\n      <td>0.201726</td>\n      <td>dummy_constant</td>\n      <td>2.906975</td>\n      <td>0.201726</td>\n      <td>7.446601</td>\n      <td>5.882498</td>\n      <td>0.000005</td>\n      <td>False</td>\n    </tr>\n    <tr>\n      <th>10</th>\n      <td>0.355736</td>\n      <td>3.067256</td>\n      <td>dummy_constant</td>\n      <td>0.355736</td>\n      <td>3.067256</td>\n      <td>8.561919</td>\n      <td>6.611618</td>\n      <td>0.000004</td>\n      <td>False</td>\n    </tr>\n  </tbody>\n</table>\n</div>"
     },
     "execution_count": 6,
     "metadata": {},
     "output_type": "execute_result"
    }
   ],
   "source": [
    "X.random_evaluate(10)"
   ]
  },
  {
   "cell_type": "markdown",
   "metadata": {
    "collapsed": false
   },
   "source": [
    "## Run Random data generation"
   ]
  },
  {
   "cell_type": "code",
   "execution_count": 7,
   "metadata": {
    "execution": {
     "iopub.execute_input": "2022-07-02T04:16:41.922643Z",
     "iopub.status.busy": "2022-07-02T04:16:41.922533Z",
     "iopub.status.idle": "2022-07-02T04:16:41.924244Z",
     "shell.execute_reply": "2022-07-02T04:16:41.923971Z"
    },
    "ExecuteTime": {
     "end_time": "2023-08-02T19:10:54.199284800Z",
     "start_time": "2023-08-02T19:10:54.184280800Z"
    }
   },
   "outputs": [],
   "source": [
    "import numpy as np\n",
    "np.random.seed(10)"
   ]
  },
  {
   "cell_type": "code",
   "execution_count": 8,
   "metadata": {
    "collapsed": false,
    "execution": {
     "iopub.execute_input": "2022-07-02T04:16:41.925680Z",
     "iopub.status.busy": "2022-07-02T04:16:41.925579Z",
     "iopub.status.idle": "2022-07-02T04:16:41.930411Z",
     "shell.execute_reply": "2022-07-02T04:16:41.930124Z"
    },
    "ExecuteTime": {
     "end_time": "2023-08-02T19:10:54.214280800Z",
     "start_time": "2023-08-02T19:10:54.198281600Z"
    }
   },
   "outputs": [],
   "source": [
    "# Take one step (generate a single point)\n",
    "X.step()"
   ]
  },
  {
   "cell_type": "code",
   "execution_count": 9,
   "metadata": {
    "collapsed": false,
    "execution": {
     "iopub.execute_input": "2022-07-02T04:16:41.931852Z",
     "iopub.status.busy": "2022-07-02T04:16:41.931750Z",
     "iopub.status.idle": "2022-07-02T04:16:41.937439Z",
     "shell.execute_reply": "2022-07-02T04:16:41.937164Z"
    },
    "ExecuteTime": {
     "end_time": "2023-08-02T19:10:54.242280400Z",
     "start_time": "2023-08-02T19:10:54.220281Z"
    }
   },
   "outputs": [
    {
     "data": {
      "text/plain": "          x1        x2               a        y1        y2         c1  \\\n1   2.399902  0.914964  dummy_constant  2.399902  0.914964   5.506877   \n2   2.577039  2.416578  dummy_constant  2.577039  2.416578  11.393899   \n3   0.079007  2.281094  dummy_constant  0.079007  2.281094   4.124587   \n4   1.399425  1.424787  dummy_constant  1.399425  1.424787   2.889437   \n5   1.204910  1.513285  dummy_constant  1.204910  1.513285   2.765285   \n6   1.982380  1.427349  dummy_constant  1.982380  1.427349   5.051893   \n7   1.862210  1.151401  dummy_constant  1.862210  1.151401   3.878033   \n8   1.106276  1.537716  dummy_constant  1.106276  1.537716   2.673483   \n9   2.906975  0.201726  dummy_constant  2.906975  0.201726   7.446601   \n10  0.355736  3.067256  dummy_constant  0.355736  3.067256   8.561919   \n11  0.718417  3.076396  dummy_constant  0.718417  3.076396   9.066664   \n\n          c2  xopt_runtime  xopt_error  \n1   3.781822      0.000026       False  \n2   7.987362      0.000007       False  \n3   3.349531      0.000006       False  \n4   1.664195      0.000005       False  \n5   1.523645      0.000005       False  \n6   3.057427      0.000005       False  \n7   2.279938      0.000005       False  \n8   1.444425      0.000005       False  \n9   5.882498      0.000005       False  \n10  6.611618      0.000004       False  \n11  6.685522      0.000022       False  ",
      "text/html": "<div>\n<style scoped>\n    .dataframe tbody tr th:only-of-type {\n        vertical-align: middle;\n    }\n\n    .dataframe tbody tr th {\n        vertical-align: top;\n    }\n\n    .dataframe thead th {\n        text-align: right;\n    }\n</style>\n<table border=\"1\" class=\"dataframe\">\n  <thead>\n    <tr style=\"text-align: right;\">\n      <th></th>\n      <th>x1</th>\n      <th>x2</th>\n      <th>a</th>\n      <th>y1</th>\n      <th>y2</th>\n      <th>c1</th>\n      <th>c2</th>\n      <th>xopt_runtime</th>\n      <th>xopt_error</th>\n    </tr>\n  </thead>\n  <tbody>\n    <tr>\n      <th>1</th>\n      <td>2.399902</td>\n      <td>0.914964</td>\n      <td>dummy_constant</td>\n      <td>2.399902</td>\n      <td>0.914964</td>\n      <td>5.506877</td>\n      <td>3.781822</td>\n      <td>0.000026</td>\n      <td>False</td>\n    </tr>\n    <tr>\n      <th>2</th>\n      <td>2.577039</td>\n      <td>2.416578</td>\n      <td>dummy_constant</td>\n      <td>2.577039</td>\n      <td>2.416578</td>\n      <td>11.393899</td>\n      <td>7.987362</td>\n      <td>0.000007</td>\n      <td>False</td>\n    </tr>\n    <tr>\n      <th>3</th>\n      <td>0.079007</td>\n      <td>2.281094</td>\n      <td>dummy_constant</td>\n      <td>0.079007</td>\n      <td>2.281094</td>\n      <td>4.124587</td>\n      <td>3.349531</td>\n      <td>0.000006</td>\n      <td>False</td>\n    </tr>\n    <tr>\n      <th>4</th>\n      <td>1.399425</td>\n      <td>1.424787</td>\n      <td>dummy_constant</td>\n      <td>1.399425</td>\n      <td>1.424787</td>\n      <td>2.889437</td>\n      <td>1.664195</td>\n      <td>0.000005</td>\n      <td>False</td>\n    </tr>\n    <tr>\n      <th>5</th>\n      <td>1.204910</td>\n      <td>1.513285</td>\n      <td>dummy_constant</td>\n      <td>1.204910</td>\n      <td>1.513285</td>\n      <td>2.765285</td>\n      <td>1.523645</td>\n      <td>0.000005</td>\n      <td>False</td>\n    </tr>\n    <tr>\n      <th>6</th>\n      <td>1.982380</td>\n      <td>1.427349</td>\n      <td>dummy_constant</td>\n      <td>1.982380</td>\n      <td>1.427349</td>\n      <td>5.051893</td>\n      <td>3.057427</td>\n      <td>0.000005</td>\n      <td>False</td>\n    </tr>\n    <tr>\n      <th>7</th>\n      <td>1.862210</td>\n      <td>1.151401</td>\n      <td>dummy_constant</td>\n      <td>1.862210</td>\n      <td>1.151401</td>\n      <td>3.878033</td>\n      <td>2.279938</td>\n      <td>0.000005</td>\n      <td>False</td>\n    </tr>\n    <tr>\n      <th>8</th>\n      <td>1.106276</td>\n      <td>1.537716</td>\n      <td>dummy_constant</td>\n      <td>1.106276</td>\n      <td>1.537716</td>\n      <td>2.673483</td>\n      <td>1.444425</td>\n      <td>0.000005</td>\n      <td>False</td>\n    </tr>\n    <tr>\n      <th>9</th>\n      <td>2.906975</td>\n      <td>0.201726</td>\n      <td>dummy_constant</td>\n      <td>2.906975</td>\n      <td>0.201726</td>\n      <td>7.446601</td>\n      <td>5.882498</td>\n      <td>0.000005</td>\n      <td>False</td>\n    </tr>\n    <tr>\n      <th>10</th>\n      <td>0.355736</td>\n      <td>3.067256</td>\n      <td>dummy_constant</td>\n      <td>0.355736</td>\n      <td>3.067256</td>\n      <td>8.561919</td>\n      <td>6.611618</td>\n      <td>0.000004</td>\n      <td>False</td>\n    </tr>\n    <tr>\n      <th>11</th>\n      <td>0.718417</td>\n      <td>3.076396</td>\n      <td>dummy_constant</td>\n      <td>0.718417</td>\n      <td>3.076396</td>\n      <td>9.066664</td>\n      <td>6.685522</td>\n      <td>0.000022</td>\n      <td>False</td>\n    </tr>\n  </tbody>\n</table>\n</div>"
     },
     "execution_count": 9,
     "metadata": {},
     "output_type": "execute_result"
    }
   ],
   "source": [
    "# examine the results\n",
    "X.data"
   ]
  },
  {
   "cell_type": "code",
   "execution_count": 10,
   "metadata": {
    "collapsed": false,
    "execution": {
     "iopub.execute_input": "2022-07-02T04:16:41.938929Z",
     "iopub.status.busy": "2022-07-02T04:16:41.938845Z",
     "iopub.status.idle": "2022-07-02T04:16:41.966369Z",
     "shell.execute_reply": "2022-07-02T04:16:41.966065Z"
    },
    "ExecuteTime": {
     "end_time": "2023-08-02T19:10:54.351282800Z",
     "start_time": "2023-08-02T19:10:54.229285100Z"
    }
   },
   "outputs": [
    {
     "data": {
      "text/plain": "          x1        x2               a        y1        y2         c1  \\\n1   2.399902  0.914964  dummy_constant  2.399902  0.914964   5.506877   \n2   2.577039  2.416578  dummy_constant  2.577039  2.416578  11.393899   \n3   0.079007  2.281094  dummy_constant  0.079007  2.281094   4.124587   \n4   1.399425  1.424787  dummy_constant  1.399425  1.424787   2.889437   \n5   1.204910  1.513285  dummy_constant  1.204910  1.513285   2.765285   \n6   1.982380  1.427349  dummy_constant  1.982380  1.427349   5.051893   \n7   1.862210  1.151401  dummy_constant  1.862210  1.151401   3.878033   \n8   1.106276  1.537716  dummy_constant  1.106276  1.537716   2.673483   \n9   2.906975  0.201726  dummy_constant  2.906975  0.201726   7.446601   \n10  0.355736  3.067256  dummy_constant  0.355736  3.067256   8.561919   \n11  0.718417  3.076396  dummy_constant  0.718417  3.076396   9.066664   \n12  1.150927  0.789155  dummy_constant  1.150927  0.789155   1.045563   \n13  1.575485  2.435371  dummy_constant  1.575485  2.435371   7.510380   \n14  2.519358  0.752314  dummy_constant  2.519358  0.752314   5.920078   \n15  2.610313  2.864063  dummy_constant  2.610313  2.864063  13.942816   \n16  0.988470  0.146419  dummy_constant  0.988470  0.146419   0.068991   \n17  3.129186  1.532492  dummy_constant  3.129186  1.532492  11.086588   \n18  0.588668  1.217284  dummy_constant  0.588668  1.217284   0.768029   \n19  0.874131  2.224635  dummy_constant  0.874131  2.224635   4.617362   \n20  0.258320  0.896686  dummy_constant  0.258320  0.896686  -0.106956   \n21  1.437138  2.694950  dummy_constant  1.437138  2.694950   8.326577   \n\n           c2  xopt_runtime  xopt_error  \n1    3.781822      0.000026       False  \n2    7.987362      0.000007       False  \n3    3.349531      0.000006       False  \n4    1.664195      0.000005       False  \n5    1.523645      0.000005       False  \n6    3.057427      0.000005       False  \n7    2.279938      0.000005       False  \n8    1.444425      0.000005       False  \n9    5.882498      0.000005       False  \n10   6.611618      0.000004       False  \n11   6.685522      0.000022       False  \n12   0.507317      0.000025       False  \n13   4.902330      0.000017       False  \n14   4.141468      0.000020       False  \n15  10.042213      0.000019       False  \n16   0.363623      0.000020       False  \n17   7.978659      0.000020       False  \n18   0.522359      0.000020       False  \n19   3.114340      0.000019       False  \n20   0.215769      0.000017       False  \n21   5.696033      0.000018       False  ",
      "text/html": "<div>\n<style scoped>\n    .dataframe tbody tr th:only-of-type {\n        vertical-align: middle;\n    }\n\n    .dataframe tbody tr th {\n        vertical-align: top;\n    }\n\n    .dataframe thead th {\n        text-align: right;\n    }\n</style>\n<table border=\"1\" class=\"dataframe\">\n  <thead>\n    <tr style=\"text-align: right;\">\n      <th></th>\n      <th>x1</th>\n      <th>x2</th>\n      <th>a</th>\n      <th>y1</th>\n      <th>y2</th>\n      <th>c1</th>\n      <th>c2</th>\n      <th>xopt_runtime</th>\n      <th>xopt_error</th>\n    </tr>\n  </thead>\n  <tbody>\n    <tr>\n      <th>1</th>\n      <td>2.399902</td>\n      <td>0.914964</td>\n      <td>dummy_constant</td>\n      <td>2.399902</td>\n      <td>0.914964</td>\n      <td>5.506877</td>\n      <td>3.781822</td>\n      <td>0.000026</td>\n      <td>False</td>\n    </tr>\n    <tr>\n      <th>2</th>\n      <td>2.577039</td>\n      <td>2.416578</td>\n      <td>dummy_constant</td>\n      <td>2.577039</td>\n      <td>2.416578</td>\n      <td>11.393899</td>\n      <td>7.987362</td>\n      <td>0.000007</td>\n      <td>False</td>\n    </tr>\n    <tr>\n      <th>3</th>\n      <td>0.079007</td>\n      <td>2.281094</td>\n      <td>dummy_constant</td>\n      <td>0.079007</td>\n      <td>2.281094</td>\n      <td>4.124587</td>\n      <td>3.349531</td>\n      <td>0.000006</td>\n      <td>False</td>\n    </tr>\n    <tr>\n      <th>4</th>\n      <td>1.399425</td>\n      <td>1.424787</td>\n      <td>dummy_constant</td>\n      <td>1.399425</td>\n      <td>1.424787</td>\n      <td>2.889437</td>\n      <td>1.664195</td>\n      <td>0.000005</td>\n      <td>False</td>\n    </tr>\n    <tr>\n      <th>5</th>\n      <td>1.204910</td>\n      <td>1.513285</td>\n      <td>dummy_constant</td>\n      <td>1.204910</td>\n      <td>1.513285</td>\n      <td>2.765285</td>\n      <td>1.523645</td>\n      <td>0.000005</td>\n      <td>False</td>\n    </tr>\n    <tr>\n      <th>6</th>\n      <td>1.982380</td>\n      <td>1.427349</td>\n      <td>dummy_constant</td>\n      <td>1.982380</td>\n      <td>1.427349</td>\n      <td>5.051893</td>\n      <td>3.057427</td>\n      <td>0.000005</td>\n      <td>False</td>\n    </tr>\n    <tr>\n      <th>7</th>\n      <td>1.862210</td>\n      <td>1.151401</td>\n      <td>dummy_constant</td>\n      <td>1.862210</td>\n      <td>1.151401</td>\n      <td>3.878033</td>\n      <td>2.279938</td>\n      <td>0.000005</td>\n      <td>False</td>\n    </tr>\n    <tr>\n      <th>8</th>\n      <td>1.106276</td>\n      <td>1.537716</td>\n      <td>dummy_constant</td>\n      <td>1.106276</td>\n      <td>1.537716</td>\n      <td>2.673483</td>\n      <td>1.444425</td>\n      <td>0.000005</td>\n      <td>False</td>\n    </tr>\n    <tr>\n      <th>9</th>\n      <td>2.906975</td>\n      <td>0.201726</td>\n      <td>dummy_constant</td>\n      <td>2.906975</td>\n      <td>0.201726</td>\n      <td>7.446601</td>\n      <td>5.882498</td>\n      <td>0.000005</td>\n      <td>False</td>\n    </tr>\n    <tr>\n      <th>10</th>\n      <td>0.355736</td>\n      <td>3.067256</td>\n      <td>dummy_constant</td>\n      <td>0.355736</td>\n      <td>3.067256</td>\n      <td>8.561919</td>\n      <td>6.611618</td>\n      <td>0.000004</td>\n      <td>False</td>\n    </tr>\n    <tr>\n      <th>11</th>\n      <td>0.718417</td>\n      <td>3.076396</td>\n      <td>dummy_constant</td>\n      <td>0.718417</td>\n      <td>3.076396</td>\n      <td>9.066664</td>\n      <td>6.685522</td>\n      <td>0.000022</td>\n      <td>False</td>\n    </tr>\n    <tr>\n      <th>12</th>\n      <td>1.150927</td>\n      <td>0.789155</td>\n      <td>dummy_constant</td>\n      <td>1.150927</td>\n      <td>0.789155</td>\n      <td>1.045563</td>\n      <td>0.507317</td>\n      <td>0.000025</td>\n      <td>False</td>\n    </tr>\n    <tr>\n      <th>13</th>\n      <td>1.575485</td>\n      <td>2.435371</td>\n      <td>dummy_constant</td>\n      <td>1.575485</td>\n      <td>2.435371</td>\n      <td>7.510380</td>\n      <td>4.902330</td>\n      <td>0.000017</td>\n      <td>False</td>\n    </tr>\n    <tr>\n      <th>14</th>\n      <td>2.519358</td>\n      <td>0.752314</td>\n      <td>dummy_constant</td>\n      <td>2.519358</td>\n      <td>0.752314</td>\n      <td>5.920078</td>\n      <td>4.141468</td>\n      <td>0.000020</td>\n      <td>False</td>\n    </tr>\n    <tr>\n      <th>15</th>\n      <td>2.610313</td>\n      <td>2.864063</td>\n      <td>dummy_constant</td>\n      <td>2.610313</td>\n      <td>2.864063</td>\n      <td>13.942816</td>\n      <td>10.042213</td>\n      <td>0.000019</td>\n      <td>False</td>\n    </tr>\n    <tr>\n      <th>16</th>\n      <td>0.988470</td>\n      <td>0.146419</td>\n      <td>dummy_constant</td>\n      <td>0.988470</td>\n      <td>0.146419</td>\n      <td>0.068991</td>\n      <td>0.363623</td>\n      <td>0.000020</td>\n      <td>False</td>\n    </tr>\n    <tr>\n      <th>17</th>\n      <td>3.129186</td>\n      <td>1.532492</td>\n      <td>dummy_constant</td>\n      <td>3.129186</td>\n      <td>1.532492</td>\n      <td>11.086588</td>\n      <td>7.978659</td>\n      <td>0.000020</td>\n      <td>False</td>\n    </tr>\n    <tr>\n      <th>18</th>\n      <td>0.588668</td>\n      <td>1.217284</td>\n      <td>dummy_constant</td>\n      <td>0.588668</td>\n      <td>1.217284</td>\n      <td>0.768029</td>\n      <td>0.522359</td>\n      <td>0.000020</td>\n      <td>False</td>\n    </tr>\n    <tr>\n      <th>19</th>\n      <td>0.874131</td>\n      <td>2.224635</td>\n      <td>dummy_constant</td>\n      <td>0.874131</td>\n      <td>2.224635</td>\n      <td>4.617362</td>\n      <td>3.114340</td>\n      <td>0.000019</td>\n      <td>False</td>\n    </tr>\n    <tr>\n      <th>20</th>\n      <td>0.258320</td>\n      <td>0.896686</td>\n      <td>dummy_constant</td>\n      <td>0.258320</td>\n      <td>0.896686</td>\n      <td>-0.106956</td>\n      <td>0.215769</td>\n      <td>0.000017</td>\n      <td>False</td>\n    </tr>\n    <tr>\n      <th>21</th>\n      <td>1.437138</td>\n      <td>2.694950</td>\n      <td>dummy_constant</td>\n      <td>1.437138</td>\n      <td>2.694950</td>\n      <td>8.326577</td>\n      <td>5.696033</td>\n      <td>0.000018</td>\n      <td>False</td>\n    </tr>\n  </tbody>\n</table>\n</div>"
     },
     "execution_count": 10,
     "metadata": {},
     "output_type": "execute_result"
    }
   ],
   "source": [
    "# take a couple of steps and examine the results\n",
    "for _ in range(10):\n",
    "    X.step()\n",
    "X.data"
   ]
  },
  {
   "cell_type": "markdown",
   "metadata": {
    "collapsed": false
   },
   "source": [
    "## Plotting\n",
    "Plot the objective results"
   ]
  },
  {
   "cell_type": "code",
   "execution_count": 11,
   "metadata": {
    "collapsed": false,
    "execution": {
     "iopub.execute_input": "2022-07-02T04:16:41.967929Z",
     "iopub.status.busy": "2022-07-02T04:16:41.967837Z",
     "iopub.status.idle": "2022-07-02T04:16:42.285669Z",
     "shell.execute_reply": "2022-07-02T04:16:42.285372Z"
    },
    "ExecuteTime": {
     "end_time": "2023-08-02T19:10:54.902518300Z",
     "start_time": "2023-08-02T19:10:54.273279600Z"
    }
   },
   "outputs": [
    {
     "data": {
      "text/plain": "<Axes: xlabel='y1', ylabel='y2'>"
     },
     "execution_count": 11,
     "metadata": {},
     "output_type": "execute_result"
    },
    {
     "data": {
      "text/plain": "<Figure size 640x480 with 1 Axes>",
      "image/png": "[encoded data removed]"
     },
     "metadata": {
      "image/png": {
       "width": 567,
       "height": 432
      }
     },
     "output_type": "display_data"
    }
   ],
   "source": [
    "import matplotlib.pyplot as plt\n",
    "\n",
    "X.data.plot(*X.vocs.objective_names, kind=\"scatter\")"
   ]
  },
  {
   "cell_type": "markdown",
   "metadata": {},
   "source": [
    "## Alternative initialization methods\n",
    "\n",
    "For convenience, if the first (and only) positional argument is present, then Xopt will automatically try to load from JSON, YAML str or files, or as a dict."
   ]
  },
  {
   "cell_type": "code",
   "execution_count": 12,
   "metadata": {
    "execution": {
     "iopub.execute_input": "2022-07-02T04:16:42.287349Z",
     "iopub.status.busy": "2022-07-02T04:16:42.287211Z",
     "iopub.status.idle": "2022-07-02T04:16:42.331639Z",
     "shell.execute_reply": "2022-07-02T04:16:42.331318Z"
    },
    "ExecuteTime": {
     "end_time": "2023-08-02T19:10:54.935530700Z",
     "start_time": "2023-08-02T19:10:54.918505900Z"
    }
   },
   "outputs": [],
   "source": [
    "import yaml\n",
    "import json\n",
    "\n",
    "config  = yaml.safe_load(YAML) \n",
    "# All these methods work\n",
    "\n",
    "X = Xopt(YAML)\n",
    "X = Xopt(config)\n",
    "X = Xopt(json.dumps(config, indent=4))\n"
   ]
  },
  {
   "cell_type": "markdown",
   "metadata": {},
   "source": [
    "## Convenience Methods"
   ]
  },
  {
   "cell_type": "code",
   "execution_count": 13,
   "metadata": {
    "execution": {
     "iopub.execute_input": "2022-07-02T04:16:42.344567Z",
     "iopub.status.busy": "2022-07-02T04:16:42.344463Z",
     "iopub.status.idle": "2022-07-02T04:16:42.346823Z",
     "shell.execute_reply": "2022-07-02T04:16:42.346569Z"
    },
    "ExecuteTime": {
     "end_time": "2023-08-02T19:10:54.948530700Z",
     "start_time": "2023-08-02T19:10:54.933506300Z"
    }
   },
   "outputs": [
    {
     "data": {
      "text/plain": "         x1        x2               a        y1        y2        c1        c2  \\\n1  1.968706  1.023739  dummy_constant  1.968706  1.023739  3.905785  2.431401   \n\n   xopt_runtime  xopt_error  \n1      0.000021       False  ",
      "text/html": "<div>\n<style scoped>\n    .dataframe tbody tr th:only-of-type {\n        vertical-align: middle;\n    }\n\n    .dataframe tbody tr th {\n        vertical-align: top;\n    }\n\n    .dataframe thead th {\n        text-align: right;\n    }\n</style>\n<table border=\"1\" class=\"dataframe\">\n  <thead>\n    <tr style=\"text-align: right;\">\n      <th></th>\n      <th>x1</th>\n      <th>x2</th>\n      <th>a</th>\n      <th>y1</th>\n      <th>y2</th>\n      <th>c1</th>\n      <th>c2</th>\n      <th>xopt_runtime</th>\n      <th>xopt_error</th>\n    </tr>\n  </thead>\n  <tbody>\n    <tr>\n      <th>1</th>\n      <td>1.968706</td>\n      <td>1.023739</td>\n      <td>dummy_constant</td>\n      <td>1.968706</td>\n      <td>1.023739</td>\n      <td>3.905785</td>\n      <td>2.431401</td>\n      <td>0.000021</td>\n      <td>False</td>\n    </tr>\n  </tbody>\n</table>\n</div>"
     },
     "execution_count": 13,
     "metadata": {},
     "output_type": "execute_result"
    }
   ],
   "source": [
    "# convenience method for evaluating a random sample\n",
    "X.random_evaluate()"
   ]
  },
  {
   "cell_type": "code",
   "execution_count": 16,
   "outputs": [
    {
     "data": {
      "text/plain": "         x1        x2               a        y1        y2        c1        c2  \\\n3  1.200819  1.502789  dummy_constant  1.200819  1.502789  2.721078  1.496733   \n4  1.529520  0.286988  dummy_constant  1.529520  0.286988  1.520284  1.105286   \n5  1.098309  2.138681  dummy_constant  1.098309  2.138681  4.754223  3.043249   \n6  1.253372  2.857404  dummy_constant  1.253372  2.857404  8.641116  6.124922   \n7  0.611909  2.196914  dummy_constant  0.611909  2.196914  4.236655  2.892040   \n\n   xopt_runtime  xopt_error  \n3      0.000077       False  \n4      0.000015       False  \n5      0.000012       False  \n6      0.000008       False  \n7      0.000008       False  ",
      "text/html": "<div>\n<style scoped>\n    .dataframe tbody tr th:only-of-type {\n        vertical-align: middle;\n    }\n\n    .dataframe tbody tr th {\n        vertical-align: top;\n    }\n\n    .dataframe thead th {\n        text-align: right;\n    }\n</style>\n<table border=\"1\" class=\"dataframe\">\n  <thead>\n    <tr style=\"text-align: right;\">\n      <th></th>\n      <th>x1</th>\n      <th>x2</th>\n      <th>a</th>\n      <th>y1</th>\n      <th>y2</th>\n      <th>c1</th>\n      <th>c2</th>\n      <th>xopt_runtime</th>\n      <th>xopt_error</th>\n    </tr>\n  </thead>\n  <tbody>\n    <tr>\n      <th>3</th>\n      <td>1.200819</td>\n      <td>1.502789</td>\n      <td>dummy_constant</td>\n      <td>1.200819</td>\n      <td>1.502789</td>\n      <td>2.721078</td>\n      <td>1.496733</td>\n      <td>0.000077</td>\n      <td>False</td>\n    </tr>\n    <tr>\n      <th>4</th>\n      <td>1.529520</td>\n      <td>0.286988</td>\n      <td>dummy_constant</td>\n      <td>1.529520</td>\n      <td>0.286988</td>\n      <td>1.520284</td>\n      <td>1.105286</td>\n      <td>0.000015</td>\n      <td>False</td>\n    </tr>\n    <tr>\n      <th>5</th>\n      <td>1.098309</td>\n      <td>2.138681</td>\n      <td>dummy_constant</td>\n      <td>1.098309</td>\n      <td>2.138681</td>\n      <td>4.754223</td>\n      <td>3.043249</td>\n      <td>0.000012</td>\n      <td>False</td>\n    </tr>\n    <tr>\n      <th>6</th>\n      <td>1.253372</td>\n      <td>2.857404</td>\n      <td>dummy_constant</td>\n      <td>1.253372</td>\n      <td>2.857404</td>\n      <td>8.641116</td>\n      <td>6.124922</td>\n      <td>0.000008</td>\n      <td>False</td>\n    </tr>\n    <tr>\n      <th>7</th>\n      <td>0.611909</td>\n      <td>2.196914</td>\n      <td>dummy_constant</td>\n      <td>0.611909</td>\n      <td>2.196914</td>\n      <td>4.236655</td>\n      <td>2.892040</td>\n      <td>0.000008</td>\n      <td>False</td>\n    </tr>\n  </tbody>\n</table>\n</div>"
     },
     "execution_count": 16,
     "metadata": {},
     "output_type": "execute_result"
    }
   ],
   "source": [
    "X.random_evaluate(5)"
   ],
   "metadata": {
    "collapsed": false,
    "ExecuteTime": {
     "end_time": "2023-08-02T19:11:12.175498600Z",
     "start_time": "2023-08-02T19:11:12.069468200Z"
    }
   }
  },
  {
   "cell_type": "markdown",
   "metadata": {},
   "source": [
    "## Logging\n",
    "\n",
    "Normally Xopt will not issue print statments, and instead issue logging messages. Below will enable these to be seen in the notebook"
   ]
  },
  {
   "cell_type": "code",
   "execution_count": 14,
   "metadata": {
    "execution": {
     "iopub.execute_input": "2022-07-02T04:16:42.348536Z",
     "iopub.status.busy": "2022-07-02T04:16:42.348278Z",
     "iopub.status.idle": "2022-07-02T04:16:42.350013Z",
     "shell.execute_reply": "2022-07-02T04:16:42.349722Z"
    },
    "ExecuteTime": {
     "end_time": "2023-08-02T19:10:54.975230300Z",
     "start_time": "2023-08-02T19:10:54.949506300Z"
    }
   },
   "outputs": [],
   "source": [
    "# Notebook printing output\n",
    "from xopt import output_notebook\n",
    "output_notebook()"
   ]
  },
  {
   "cell_type": "code",
   "execution_count": 15,
   "metadata": {
    "execution": {
     "iopub.execute_input": "2022-07-02T04:16:42.351443Z",
     "iopub.status.busy": "2022-07-02T04:16:42.351340Z",
     "iopub.status.idle": "2022-07-02T04:16:42.355782Z",
     "shell.execute_reply": "2022-07-02T04:16:42.355495Z"
    },
    "ExecuteTime": {
     "end_time": "2023-08-02T19:10:55.006379600Z",
     "start_time": "2023-08-02T19:10:54.964231600Z"
    }
   },
   "outputs": [
    {
     "name": "stdout",
     "output_type": "stream",
     "text": [
      "Running Xopt step\n"
     ]
    }
   ],
   "source": [
    "X.step()"
   ]
  }
 ],
 "metadata": {
  "interpreter": {
   "hash": "72034539424920dfb606fe3b820b3f27dca0cbf1c69938110810ec4641e275b1"
  },
  "kernelspec": {
   "display_name": "Python 3.9.12 ('xopt-dev')",
   "language": "python",
   "name": "python3"
  },
  "language_info": {
   "codemirror_mode": {
    "name": "ipython",
    "version": 3
   },
   "file_extension": ".py",
   "mimetype": "text/x-python",
   "name": "python",
   "nbconvert_exporter": "python",
   "pygments_lexer": "ipython3",
   "version": "3.9.13"
  }
 },
 "nbformat": 4,
 "nbformat_minor": 4
}
