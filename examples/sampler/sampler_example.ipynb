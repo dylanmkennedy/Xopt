{
 "cells": [
  {
   "cell_type": "code",
   "execution_count": 1,
   "metadata": {},
   "outputs": [],
   "source": [
    "# Useful for debugging\n",
    "%load_ext autoreload\n",
    "%autoreload 2"
   ]
  },
  {
   "cell_type": "markdown",
   "metadata": {},
   "source": [
    "# Random Sample example"
   ]
  },
  {
   "cell_type": "code",
   "execution_count": 2,
   "metadata": {},
   "outputs": [],
   "source": [
    "# This is the main function\n",
    "from xopt.sampler import random_sampler\n",
    "\n",
    "# Test function\n",
    "from xopt.tests.evaluators import TNK"
   ]
  },
  {
   "cell_type": "code",
   "execution_count": 3,
   "metadata": {},
   "outputs": [
    {
     "data": {
      "text/plain": [
       "{'name': 'TNK_test',\n",
       " 'description': 'Constrainted test function TNK. See Table V in https://www.iitk.ac.in/kangal/Deb_NSGA-II.pdf',\n",
       " 'simulation': 'test_TNK',\n",
       " 'variables': {'x1': [0, 3.14159], 'x2': [0, 3.14159]},\n",
       " 'objectives': {'y1': 'MINIMIZE', 'y2': 'MINIMIZE'},\n",
       " 'constraints': {'c1': ['GREATER_THAN', 0], 'c2': ['LESS_THAN', 0.5]},\n",
       " 'constants': {'a': 'dummy_constant'}}"
      ]
     },
     "execution_count": 3,
     "metadata": {},
     "output_type": "execute_result"
    }
   ],
   "source": [
    "# Get VOCS\n",
    "VOCS = TNK.VOCS\n",
    "VOCS"
   ]
  },
  {
   "cell_type": "code",
   "execution_count": 4,
   "metadata": {},
   "outputs": [
    {
     "data": {
      "text/plain": [
       "\u001b[0;31mSignature:\u001b[0m \u001b[0mEVALUATE\u001b[0m\u001b[0;34m(\u001b[0m\u001b[0minputs\u001b[0m\u001b[0;34m:\u001b[0m \u001b[0mDict\u001b[0m\u001b[0;34m,\u001b[0m \u001b[0mextra_option\u001b[0m\u001b[0;34m=\u001b[0m\u001b[0;34m'abc'\u001b[0m\u001b[0;34m,\u001b[0m \u001b[0;34m**\u001b[0m\u001b[0mparams\u001b[0m\u001b[0;34m)\u001b[0m\u001b[0;34m\u001b[0m\u001b[0;34m\u001b[0m\u001b[0m\n",
       "\u001b[0;31mDocstring:\u001b[0m <no docstring>\n",
       "\u001b[0;31mFile:\u001b[0m      ~/Code/GitHub/xopt/xopt/tests/evaluators/TNK.py\n",
       "\u001b[0;31mType:\u001b[0m      function\n"
      ]
     },
     "metadata": {},
     "output_type": "display_data"
    }
   ],
   "source": [
    "# Get evaluate function\n",
    "EVALUATE = TNK.evaluate_TNK\n",
    "?EVALUATE"
   ]
  },
  {
   "cell_type": "code",
   "execution_count": 5,
   "metadata": {},
   "outputs": [],
   "source": [
    "VOCS[\"variables\"][\"x1\"] = [0, 4]  # Extent to occasionally throw an exception"
   ]
  },
  {
   "cell_type": "code",
   "execution_count": 6,
   "metadata": {},
   "outputs": [
    {
     "name": "stderr",
     "output_type": "stream",
     "text": [
      "/Users/chrisonian/Code/GitHub/xopt/xopt/sampler.py:71: UserWarning: xopt.cnsga verbose option has been deprecated\n",
      "  warnings.warn('xopt.cnsga verbose option has been deprecated')\n",
      "Exception caught in xopt.sampler\n",
      "Exception caught in xopt.sampler\n",
      "Exception caught in xopt.sampler\n",
      "Exception caught in xopt.sampler\n",
      "Exception caught in xopt.sampler\n",
      "Exception caught in xopt.sampler\n",
      "Exception caught in xopt.sampler\n",
      "Exception caught in xopt.sampler\n",
      "Exception caught in xopt.sampler\n",
      "Exception caught in xopt.sampler\n",
      "Exception caught in xopt.sampler\n",
      "Exception caught in xopt.sampler\n",
      "Exception caught in xopt.sampler\n",
      "Exception caught in xopt.sampler\n",
      "Exception caught in xopt.sampler\n",
      "Exception caught in xopt.sampler\n"
     ]
    }
   ],
   "source": [
    "# Get a parallel executor\n",
    "from concurrent.futures import ProcessPoolExecutor\n",
    "\n",
    "executor = ProcessPoolExecutor()\n",
    "\n",
    "# Run\n",
    "results = random_sampler(\n",
    "    vocs=VOCS, evaluate_f=EVALUATE, executor=executor, verbose=True\n",
    ")"
   ]
  },
  {
   "cell_type": "code",
   "execution_count": 7,
   "metadata": {},
   "outputs": [
    {
     "name": "stderr",
     "output_type": "stream",
     "text": [
      "Exception caught in xopt.sampler\n",
      "Exception caught in xopt.sampler\n",
      "Exception caught in xopt.sampler\n",
      "Exception caught in xopt.sampler\n",
      "Exception caught in xopt.sampler\n",
      "Exception caught in xopt.sampler\n",
      "Exception caught in xopt.sampler\n",
      "Exception caught in xopt.sampler\n",
      "Exception caught in xopt.sampler\n",
      "Exception caught in xopt.sampler\n",
      "Exception caught in xopt.sampler\n",
      "Exception caught in xopt.sampler\n",
      "Exception caught in xopt.sampler\n",
      "Exception caught in xopt.sampler\n",
      "Exception caught in xopt.sampler\n",
      "Exception caught in xopt.sampler\n",
      "Exception caught in xopt.sampler\n",
      "Exception caught in xopt.sampler\n",
      "Exception caught in xopt.sampler\n",
      "Exception caught in xopt.sampler\n",
      "Exception caught in xopt.sampler\n"
     ]
    }
   ],
   "source": [
    "from tempfile import TemporaryDirectory\n",
    "\n",
    "SCRATCH = TemporaryDirectory()\n",
    "\n",
    "executor = ProcessPoolExecutor()\n",
    "\n",
    "# Run with output path\n",
    "results2 = random_sampler(\n",
    "    vocs=TNK.VOCS,\n",
    "    evaluate_f=TNK.evaluate_TNK,\n",
    "    output_path=SCRATCH.name,\n",
    "    executor=executor,\n",
    "    verbose=True,\n",
    ")"
   ]
  },
  {
   "cell_type": "markdown",
   "metadata": {},
   "source": [
    "# Class method"
   ]
  },
  {
   "cell_type": "code",
   "execution_count": 8,
   "metadata": {},
   "outputs": [
    {
     "name": "stdout",
     "output_type": "stream",
     "text": [
      "mkdir: temp: File exists\n"
     ]
    }
   ],
   "source": [
    "!mkdir temp"
   ]
  },
  {
   "cell_type": "code",
   "execution_count": 9,
   "metadata": {},
   "outputs": [
    {
     "data": {
      "text/plain": [
       "{'xopt': {'output_path': 'temp', 'verbose': True, 'algorithm': 'cnsga'},\n",
       " 'algorithm': {'name': 'random_sampler', 'options': {'verbose': 'T'}},\n",
       " 'simulation': {'name': 'test_TNK',\n",
       "  'evaluate': 'xopt.tests.evaluators.TNK.evaluate_TNK'},\n",
       " 'vocs': {'name': 'TNK_test',\n",
       "  'description': None,\n",
       "  'simulation': 'test_TNK',\n",
       "  'templates': None,\n",
       "  'variables': {'x1': [0, 3.14159], 'x2': [0, 3.14159]},\n",
       "  'objectives': {'y1': 'MINIMIZE', 'y2': 'MINIMIZE'},\n",
       "  'constraints': {'c1': ['GREATER_THAN', 0], 'c2': ['GREATER_THAN', 0]},\n",
       "  'linked_variables': {'x9': 'x1'},\n",
       "  'constants': {'a': 'dummy_constant'}}}"
      ]
     },
     "execution_count": 9,
     "metadata": {},
     "output_type": "execute_result"
    }
   ],
   "source": [
    "import yaml\n",
    "\n",
    "# Make a proper input file.\n",
    "YAML = \"\"\"\n",
    "xopt: {output_path: temp, verbose: true, algorithm: cnsga}\n",
    "\n",
    "algorithm:\n",
    "  name: random_sampler\n",
    "  options:\n",
    "    verbose: T\n",
    "    \n",
    "simulation: \n",
    "  name: test_TNK\n",
    "  evaluate: xopt.tests.evaluators.TNK.evaluate_TNK  \n",
    "  \n",
    "vocs:\n",
    "  name: TNK_test\n",
    "  description: null\n",
    "  simulation: test_TNK\n",
    "  templates: null\n",
    "  variables:\n",
    "    x1: [0, 3.14159]\n",
    "    x2: [0, 3.14159]\n",
    "  objectives: {y1: MINIMIZE, y2: MINIMIZE}\n",
    "  constraints:\n",
    "    c1: [GREATER_THAN, 0]\n",
    "    c2: [GREATER_THAN, 0]\n",
    "  linked_variables: {x9: x1}\n",
    "  constants: {a: dummy_constant}\n",
    "\n",
    "\"\"\"\n",
    "config = yaml.safe_load(YAML)\n",
    "config"
   ]
  },
  {
   "cell_type": "code",
   "execution_count": 10,
   "metadata": {},
   "outputs": [],
   "source": [
    "from xopt import Xopt\n",
    "from xopt.tools import load_config"
   ]
  },
  {
   "cell_type": "code",
   "execution_count": 11,
   "metadata": {},
   "outputs": [
    {
     "name": "stderr",
     "output_type": "stream",
     "text": [
      "/Users/chrisonian/Code/GitHub/xopt/xopt/legacy.py:30: UserWarning: `algorithm` keyword no longer allowed in xopt config, removing\n",
      "  warnings.warn('`algorithm` keyword no longer allowed in xopt config, removing')\n",
      "/Users/chrisonian/Code/GitHub/xopt/xopt/legacy.py:34: UserWarning: `verbose` keyword no longer allowed in xopt config\n",
      "  warnings.warn('`verbose` keyword no longer allowed in xopt config')\n",
      "`name` keyword no longer allowed in vocs config, removing\n",
      "`description` keyword no longer allowed in vocs config, removing\n",
      "`simulation` keyword no longer allowed in vocs config, removing\n",
      "`templates` keyword no longer allowed in vocs config, moving to simulation `options`\n"
     ]
    },
    {
     "data": {
      "text/plain": [
       "\n",
       "            Xopt \n",
       "________________________________           \n",
       "Version: 0.4.3+219.gfff1660.dirty\n",
       "Configured: True\n",
       "Config as YAML:\n",
       "xopt: {output_path: /Users/chrisonian/Code/GitHub/xopt/examples/sampler/temp}\n",
       "algorithm:\n",
       "  name: random_sampler\n",
       "  options: {verbose: T, chunk_size: 10, max_samples: 100}\n",
       "  function: xopt.sampler.random_sampler\n",
       "simulation:\n",
       "  name: test_TNK\n",
       "  evaluate: xopt.tests.evaluators.TNK.evaluate_TNK\n",
       "  options: {templates: null, extra_option: abc}\n",
       "vocs:\n",
       "  variables:\n",
       "    x1: [0, 3.14159]\n",
       "    x2: [0, 3.14159]\n",
       "  objectives: {y1: MINIMIZE, y2: MINIMIZE}\n",
       "  constraints:\n",
       "    c1: [GREATER_THAN, 0]\n",
       "    c2: [GREATER_THAN, 0]\n",
       "  linked_variables: {x9: x1}\n",
       "  constants: {a: dummy_constant}"
      ]
     },
     "execution_count": 11,
     "metadata": {},
     "output_type": "execute_result"
    }
   ],
   "source": [
    "executor = ProcessPoolExecutor()\n",
    "X = Xopt(YAML)\n",
    "X"
   ]
  },
  {
   "cell_type": "code",
   "execution_count": 12,
   "metadata": {},
   "outputs": [],
   "source": [
    "X.run(executor)"
   ]
  },
  {
   "cell_type": "code",
   "execution_count": 13,
   "metadata": {},
   "outputs": [
    {
     "data": {
      "text/plain": [
       "dict_keys(['vocs', 'inputs', 'outputs', 'error'])"
      ]
     },
     "execution_count": 13,
     "metadata": {},
     "output_type": "execute_result"
    }
   ],
   "source": [
    "X.results.keys()"
   ]
  },
  {
   "cell_type": "code",
   "execution_count": 14,
   "metadata": {},
   "outputs": [],
   "source": [
    "!rm -r temp"
   ]
  }
 ],
 "metadata": {
  "kernelspec": {
   "display_name": "Python 3 (ipykernel)",
   "language": "python",
   "name": "python3"
  },
  "language_info": {
   "codemirror_mode": {
    "name": "ipython",
    "version": 3
   },
   "file_extension": ".py",
   "mimetype": "text/x-python",
   "name": "python",
   "nbconvert_exporter": "python",
   "pygments_lexer": "ipython3",
   "version": "3.9.7"
  }
 },
 "nbformat": 4,
 "nbformat_minor": 4
}
