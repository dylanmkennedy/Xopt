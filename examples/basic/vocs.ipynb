{
 "cells": [
  {
   "cell_type": "markdown",
   "id": "9700f595",
   "metadata": {
    "pycharm": {
     "name": "#%% md\n"
    }
   },
   "source": [
    "# VOCS v1 data structure "
   ]
  },
  {
   "cell_type": "code",
   "execution_count": 1,
   "id": "32324ac0-b299-42ee-a6b9-e112dfaa5a45",
   "metadata": {
    "pycharm": {
     "name": "#%%\n"
    }
   },
   "outputs": [],
   "source": [
    "from xopt.vocs import VOCS, ObjectiveEnum, ConstraintEnum"
   ]
  },
  {
   "cell_type": "code",
   "execution_count": 2,
   "id": "354e92d2",
   "metadata": {
    "pycharm": {
     "name": "#%%\n"
    }
   },
   "outputs": [
    {
     "name": "stdout",
     "output_type": "stream",
     "text": [
      "\u001b[0;31mInit signature:\u001b[0m\n",
      "\u001b[0mVOCS\u001b[0m\u001b[0;34m(\u001b[0m\u001b[0;34m\u001b[0m\n",
      "\u001b[0;34m\u001b[0m    \u001b[0;34m*\u001b[0m\u001b[0;34m,\u001b[0m\u001b[0;34m\u001b[0m\n",
      "\u001b[0;34m\u001b[0m    \u001b[0mvariables\u001b[0m\u001b[0;34m:\u001b[0m \u001b[0mDict\u001b[0m\u001b[0;34m[\u001b[0m\u001b[0mstr\u001b[0m\u001b[0;34m,\u001b[0m \u001b[0mtypes\u001b[0m\u001b[0;34m.\u001b[0m\u001b[0mConstrainedListValue\u001b[0m\u001b[0;34m]\u001b[0m \u001b[0;34m=\u001b[0m \u001b[0;32mNone\u001b[0m\u001b[0;34m,\u001b[0m\u001b[0;34m\u001b[0m\n",
      "\u001b[0;34m\u001b[0m    \u001b[0mconstraints\u001b[0m\u001b[0;34m:\u001b[0m \u001b[0mDict\u001b[0m\u001b[0;34m[\u001b[0m\u001b[0mstr\u001b[0m\u001b[0;34m,\u001b[0m \u001b[0mtypes\u001b[0m\u001b[0;34m.\u001b[0m\u001b[0mConstrainedListValue\u001b[0m\u001b[0;34m]\u001b[0m \u001b[0;34m=\u001b[0m \u001b[0;32mNone\u001b[0m\u001b[0;34m,\u001b[0m\u001b[0;34m\u001b[0m\n",
      "\u001b[0;34m\u001b[0m    \u001b[0mobjectives\u001b[0m\u001b[0;34m:\u001b[0m \u001b[0mDict\u001b[0m\u001b[0;34m[\u001b[0m\u001b[0mstr\u001b[0m\u001b[0;34m,\u001b[0m \u001b[0mxopt\u001b[0m\u001b[0;34m.\u001b[0m\u001b[0mvocs\u001b[0m\u001b[0;34m.\u001b[0m\u001b[0mObjectiveEnum\u001b[0m\u001b[0;34m]\u001b[0m \u001b[0;34m=\u001b[0m \u001b[0;32mNone\u001b[0m\u001b[0;34m,\u001b[0m\u001b[0;34m\u001b[0m\n",
      "\u001b[0;34m\u001b[0m    \u001b[0mconstants\u001b[0m\u001b[0;34m:\u001b[0m \u001b[0mDict\u001b[0m\u001b[0;34m[\u001b[0m\u001b[0mstr\u001b[0m\u001b[0;34m,\u001b[0m \u001b[0mAny\u001b[0m\u001b[0;34m]\u001b[0m \u001b[0;34m=\u001b[0m \u001b[0;32mNone\u001b[0m\u001b[0;34m,\u001b[0m\u001b[0;34m\u001b[0m\n",
      "\u001b[0;34m\u001b[0m    \u001b[0mlinked_variables\u001b[0m\u001b[0;34m:\u001b[0m \u001b[0mDict\u001b[0m\u001b[0;34m[\u001b[0m\u001b[0mstr\u001b[0m\u001b[0;34m,\u001b[0m \u001b[0mstr\u001b[0m\u001b[0;34m]\u001b[0m \u001b[0;34m=\u001b[0m \u001b[0;32mNone\u001b[0m\u001b[0;34m,\u001b[0m\u001b[0;34m\u001b[0m\n",
      "\u001b[0;34m\u001b[0m\u001b[0;34m)\u001b[0m \u001b[0;34m->\u001b[0m \u001b[0;32mNone\u001b[0m\u001b[0;34m\u001b[0m\u001b[0;34m\u001b[0m\u001b[0m\n",
      "\u001b[0;31mInit docstring:\u001b[0m\n",
      "Create a new model by parsing and validating input data from keyword arguments.\n",
      "\n",
      "Raises ValidationError if the input data cannot be parsed to form a valid model.\n",
      "\u001b[0;31mFile:\u001b[0m           ~/Code/GitHub/Xopt/xopt/vocs.py\n",
      "\u001b[0;31mType:\u001b[0m           ModelMetaclass\n",
      "\u001b[0;31mSubclasses:\u001b[0m     \n"
     ]
    }
   ],
   "source": [
    "?VOCS"
   ]
  },
  {
   "cell_type": "code",
   "execution_count": 3,
   "id": "31a15253-14cd-4547-ab01-09f4b56f5bf5",
   "metadata": {
    "pycharm": {
     "name": "#%%\n"
    }
   },
   "outputs": [
    {
     "data": {
      "text/plain": [
       "VOCS(variables={'a': [0.0, 1000.0], 'b': [-1.0, 1.0]}, constraints={'e': ['LESS_THAN', 2.0], 'f': ['GREATER_THAN', 0.0]}, objectives={'c': 'MAXIMIZE', 'd': 'MINIMIZE'}, constants={'g': 1234}, linked_variables=None)"
      ]
     },
     "execution_count": 3,
     "metadata": {},
     "output_type": "execute_result"
    }
   ],
   "source": [
    "Y = \"\"\"\n",
    "variables:\n",
    "  a: [0, 1e3] # Note that 1e3 usually parses as a str with YAML. \n",
    "  b: [-1, 1]\n",
    "objectives:\n",
    "  c: maximize\n",
    "  d: minimize \n",
    "constraints:\n",
    "  e: ['Less_than', 2]\n",
    "  f: ['greater_than', 0]\n",
    "constants:\n",
    "  g: 1234\n",
    "\n",
    "\"\"\"\n",
    "\n",
    "vocs = VOCS.from_yaml(Y)\n",
    "vocs"
   ]
  },
  {
   "cell_type": "code",
   "execution_count": 4,
   "id": "304bcc89",
   "metadata": {
    "pycharm": {
     "name": "#%%\n"
    }
   },
   "outputs": [
    {
     "data": {
      "text/plain": [
       "{'variables': {'a': [0.0, 1000.0], 'b': [-1.0, 1.0]},\n",
       " 'constraints': {'e': ['LESS_THAN', 2.0], 'f': ['GREATER_THAN', 0.0]},\n",
       " 'objectives': {'c': 'MAXIMIZE', 'd': 'MINIMIZE'},\n",
       " 'constants': {'g': 1234},\n",
       " 'linked_variables': None}"
      ]
     },
     "execution_count": 4,
     "metadata": {},
     "output_type": "execute_result"
    }
   ],
   "source": [
    "# as dict\n",
    "vocs.dict()"
   ]
  },
  {
   "cell_type": "code",
   "execution_count": 5,
   "id": "b236bfb4",
   "metadata": {
    "pycharm": {
     "name": "#%%\n"
    }
   },
   "outputs": [],
   "source": [
    "#  re-parse dict\n",
    "vocs2 = VOCS.parse_obj(vocs.dict())"
   ]
  },
  {
   "cell_type": "code",
   "execution_count": 6,
   "id": "76c9a173",
   "metadata": {
    "pycharm": {
     "name": "#%%\n"
    }
   },
   "outputs": [
    {
     "data": {
      "text/plain": [
       "True"
      ]
     },
     "execution_count": 6,
     "metadata": {},
     "output_type": "execute_result"
    }
   ],
   "source": [
    "# Check that these are the same\n",
    "vocs2 == vocs\n"
   ]
  },
  {
   "cell_type": "code",
   "execution_count": 7,
   "id": "6a846f4d",
   "metadata": {
    "pycharm": {
     "name": "#%%\n"
    }
   },
   "outputs": [
    {
     "data": {
      "text/plain": [
       "{'a': [0.0, 1000.0], 'b': [-1.0, 1.0]}"
      ]
     },
     "execution_count": 7,
     "metadata": {},
     "output_type": "execute_result"
    }
   ],
   "source": [
    "# This replaces the old vocs[\"variables\"]\n",
    "getattr(vocs, \"variables\")"
   ]
  },
  {
   "cell_type": "code",
   "execution_count": 8,
   "id": "6fa2afc8",
   "metadata": {
    "pycharm": {
     "name": "#%%\n"
    }
   },
   "outputs": [
    {
     "data": {
      "text/plain": [
       "True"
      ]
     },
     "execution_count": 8,
     "metadata": {},
     "output_type": "execute_result"
    }
   ],
   "source": [
    "vocs.objectives['c']  == ObjectiveEnum.MAXIMIZE"
   ]
  },
  {
   "cell_type": "code",
   "execution_count": 9,
   "id": "713272b7",
   "metadata": {
    "pycharm": {
     "name": "#%%\n"
    }
   },
   "outputs": [
    {
     "data": {
      "text/plain": [
       "'{\"variables\": {\"a\": [0.0, 1000.0], \"b\": [-1.0, 1.0]}, \"constraints\": {\"e\": [\"LESS_THAN\", 2.0], \"f\": [\"GREATER_THAN\", 0.0]}, \"objectives\": {\"c\": \"MAXIMIZE\", \"d\": \"MINIMIZE\"}, \"constants\": {\"g\": 1234}, \"linked_variables\": null}'"
      ]
     },
     "execution_count": 9,
     "metadata": {},
     "output_type": "execute_result"
    }
   ],
   "source": [
    "# json\n",
    "vocs.json()"
   ]
  },
  {
   "cell_type": "code",
   "execution_count": 10,
   "id": "4cf2209d",
   "metadata": {
    "pycharm": {
     "name": "#%%\n"
    }
   },
   "outputs": [
    {
     "data": {
      "text/plain": [
       "{'title': 'VOCS',\n",
       " 'type': 'object',\n",
       " 'properties': {'variables': {'title': 'Variables',\n",
       "   'type': 'object',\n",
       "   'additionalProperties': {'type': 'array',\n",
       "    'items': {'type': 'number'},\n",
       "    'minItems': 2,\n",
       "    'maxItems': 2}},\n",
       "  'constraints': {'title': 'Constraints',\n",
       "   'type': 'object',\n",
       "   'additionalProperties': {'type': 'array',\n",
       "    'items': {'anyOf': [{'type': 'number'},\n",
       "      {'$ref': '#/definitions/ConstraintEnum'}]},\n",
       "    'minItems': 2,\n",
       "    'maxItems': 2}},\n",
       "  'objectives': {'type': 'object',\n",
       "   'additionalProperties': {'$ref': '#/definitions/ObjectiveEnum'}},\n",
       "  'constants': {'title': 'Constants', 'type': 'object'},\n",
       "  'linked_variables': {'title': 'Linked Variables',\n",
       "   'type': 'object',\n",
       "   'additionalProperties': {'type': 'string'}}},\n",
       " 'definitions': {'ConstraintEnum': {'title': 'ConstraintEnum',\n",
       "   'description': 'An enumeration.',\n",
       "   'enum': ['LESS_THAN', 'GREATER_THAN'],\n",
       "   'type': 'string'},\n",
       "  'ObjectiveEnum': {'title': 'ObjectiveEnum',\n",
       "   'description': 'An enumeration.',\n",
       "   'enum': ['MINIMIZE', 'MAXIMIZE'],\n",
       "   'type': 'string'}}}"
      ]
     },
     "execution_count": 10,
     "metadata": {},
     "output_type": "execute_result"
    }
   ],
   "source": [
    "vocs.schema()"
   ]
  },
  {
   "cell_type": "markdown",
   "id": "11167a85",
   "metadata": {
    "pycharm": {
     "name": "#%% md\n"
    }
   },
   "source": [
    "# Objective Evaluation"
   ]
  },
  {
   "cell_type": "code",
   "execution_count": 11,
   "id": "c4d150be",
   "metadata": {
    "pycharm": {
     "name": "#%%\n"
    }
   },
   "outputs": [
    {
     "data": {
      "text/html": [
       "<div>\n",
       "<style scoped>\n",
       "    .dataframe tbody tr th:only-of-type {\n",
       "        vertical-align: middle;\n",
       "    }\n",
       "\n",
       "    .dataframe tbody tr th {\n",
       "        vertical-align: top;\n",
       "    }\n",
       "\n",
       "    .dataframe thead th {\n",
       "        text-align: right;\n",
       "    }\n",
       "</style>\n",
       "<table border=\"1\" class=\"dataframe\">\n",
       "  <thead>\n",
       "    <tr style=\"text-align: right;\">\n",
       "      <th></th>\n",
       "      <th>a</th>\n",
       "      <th>b</th>\n",
       "      <th>g</th>\n",
       "      <th>c</th>\n",
       "      <th>d</th>\n",
       "      <th>e</th>\n",
       "      <th>f</th>\n",
       "    </tr>\n",
       "  </thead>\n",
       "  <tbody>\n",
       "    <tr>\n",
       "      <th>5</th>\n",
       "      <td>651.667038</td>\n",
       "      <td>-0.037769</td>\n",
       "      <td>1234</td>\n",
       "      <td>651.629269</td>\n",
       "      <td>651.704807</td>\n",
       "      <td>1303.258538</td>\n",
       "      <td>1303.409613</td>\n",
       "    </tr>\n",
       "    <tr>\n",
       "      <th>6</th>\n",
       "      <td>779.989487</td>\n",
       "      <td>-0.609896</td>\n",
       "      <td>1234</td>\n",
       "      <td>779.379591</td>\n",
       "      <td>780.599383</td>\n",
       "      <td>1558.759182</td>\n",
       "      <td>1561.198765</td>\n",
       "    </tr>\n",
       "    <tr>\n",
       "      <th>7</th>\n",
       "      <td>774.322585</td>\n",
       "      <td>0.689245</td>\n",
       "      <td>1234</td>\n",
       "      <td>775.011830</td>\n",
       "      <td>773.633340</td>\n",
       "      <td>1550.023660</td>\n",
       "      <td>1547.266681</td>\n",
       "    </tr>\n",
       "    <tr>\n",
       "      <th>8</th>\n",
       "      <td>510.261628</td>\n",
       "      <td>0.485039</td>\n",
       "      <td>1234</td>\n",
       "      <td>510.746667</td>\n",
       "      <td>509.776589</td>\n",
       "      <td>1021.493335</td>\n",
       "      <td>1019.553178</td>\n",
       "    </tr>\n",
       "    <tr>\n",
       "      <th>9</th>\n",
       "      <td>485.926718</td>\n",
       "      <td>0.095319</td>\n",
       "      <td>1234</td>\n",
       "      <td>486.022037</td>\n",
       "      <td>485.831399</td>\n",
       "      <td>972.044074</td>\n",
       "      <td>971.662799</td>\n",
       "    </tr>\n",
       "    <tr>\n",
       "      <th>10</th>\n",
       "      <td>143.703237</td>\n",
       "      <td>-0.072981</td>\n",
       "      <td>1234</td>\n",
       "      <td>143.630257</td>\n",
       "      <td>143.776218</td>\n",
       "      <td>287.260513</td>\n",
       "      <td>287.552436</td>\n",
       "    </tr>\n",
       "    <tr>\n",
       "      <th>11</th>\n",
       "      <td>154.490766</td>\n",
       "      <td>0.211557</td>\n",
       "      <td>1234</td>\n",
       "      <td>154.702323</td>\n",
       "      <td>154.279209</td>\n",
       "      <td>309.404646</td>\n",
       "      <td>308.558417</td>\n",
       "    </tr>\n",
       "    <tr>\n",
       "      <th>12</th>\n",
       "      <td>793.835894</td>\n",
       "      <td>-0.580539</td>\n",
       "      <td>1234</td>\n",
       "      <td>793.255355</td>\n",
       "      <td>794.416433</td>\n",
       "      <td>1586.510710</td>\n",
       "      <td>1588.832867</td>\n",
       "    </tr>\n",
       "    <tr>\n",
       "      <th>13</th>\n",
       "      <td>498.751919</td>\n",
       "      <td>-0.719754</td>\n",
       "      <td>1234</td>\n",
       "      <td>498.032166</td>\n",
       "      <td>499.471673</td>\n",
       "      <td>996.064332</td>\n",
       "      <td>998.943346</td>\n",
       "    </tr>\n",
       "    <tr>\n",
       "      <th>14</th>\n",
       "      <td>812.232960</td>\n",
       "      <td>-0.197208</td>\n",
       "      <td>1234</td>\n",
       "      <td>812.035752</td>\n",
       "      <td>812.430168</td>\n",
       "      <td>1624.071503</td>\n",
       "      <td>1624.860337</td>\n",
       "    </tr>\n",
       "  </tbody>\n",
       "</table>\n",
       "</div>"
      ],
      "text/plain": [
       "             a         b     g           c           d            e  \\\n",
       "5   651.667038 -0.037769  1234  651.629269  651.704807  1303.258538   \n",
       "6   779.989487 -0.609896  1234  779.379591  780.599383  1558.759182   \n",
       "7   774.322585  0.689245  1234  775.011830  773.633340  1550.023660   \n",
       "8   510.261628  0.485039  1234  510.746667  509.776589  1021.493335   \n",
       "9   485.926718  0.095319  1234  486.022037  485.831399   972.044074   \n",
       "10  143.703237 -0.072981  1234  143.630257  143.776218   287.260513   \n",
       "11  154.490766  0.211557  1234  154.702323  154.279209   309.404646   \n",
       "12  793.835894 -0.580539  1234  793.255355  794.416433  1586.510710   \n",
       "13  498.751919 -0.719754  1234  498.032166  499.471673   996.064332   \n",
       "14  812.232960 -0.197208  1234  812.035752  812.430168  1624.071503   \n",
       "\n",
       "              f  \n",
       "5   1303.409613  \n",
       "6   1561.198765  \n",
       "7   1547.266681  \n",
       "8   1019.553178  \n",
       "9    971.662799  \n",
       "10   287.552436  \n",
       "11   308.558417  \n",
       "12  1588.832867  \n",
       "13   998.943346  \n",
       "14  1624.860337  "
      ]
     },
     "execution_count": 11,
     "metadata": {},
     "output_type": "execute_result"
    }
   ],
   "source": [
    "from xopt.vocs import form_objective_data, form_constraint_data, form_feasibility_data\n",
    "import pandas as pd\n",
    "import numpy as np\n",
    "\n",
    "data = pd.DataFrame(vocs.random_inputs(10))\n",
    "# Add some outputs\n",
    "data['c']  = data['a'] + data['b']\n",
    "data['d']  = data['a'] - data['b']\n",
    "data['e']  = data['a']*2 + data['b']*2\n",
    "data['f']  = data['a']*2 - data['b']*2\n",
    "data.index = np.arange(len(data)) + 5 # custom index\n",
    "data\n"
   ]
  },
  {
   "cell_type": "code",
   "execution_count": 12,
   "id": "a695dc98",
   "metadata": {
    "pycharm": {
     "name": "#%%\n"
    }
   },
   "outputs": [
    {
     "data": {
      "text/plain": [
       "{'c': 'MAXIMIZE', 'd': 'MINIMIZE'}"
      ]
     },
     "execution_count": 12,
     "metadata": {},
     "output_type": "execute_result"
    }
   ],
   "source": [
    "vocs.objectives"
   ]
  },
  {
   "cell_type": "code",
   "execution_count": 13,
   "id": "226e2a0f",
   "metadata": {
    "pycharm": {
     "name": "#%%\n"
    }
   },
   "outputs": [
    {
     "name": "stdout",
     "output_type": "stream",
     "text": [
      "\u001b[0;31mSignature:\u001b[0m \u001b[0mform_objective_data\u001b[0m\u001b[0;34m(\u001b[0m\u001b[0mobjectives\u001b[0m\u001b[0;34m:\u001b[0m \u001b[0mDict\u001b[0m\u001b[0;34m,\u001b[0m \u001b[0mdata\u001b[0m\u001b[0;34m,\u001b[0m \u001b[0mprefix\u001b[0m\u001b[0;34m=\u001b[0m\u001b[0;34m'objective_'\u001b[0m\u001b[0;34m)\u001b[0m\u001b[0;34m\u001b[0m\u001b[0;34m\u001b[0m\u001b[0m\n",
      "\u001b[0;31mDocstring:\u001b[0m\n",
      "Use objective dict and data (dataframe) to generate objective data (dataframe)\n",
      "\n",
      "Weights are applied to convert all objectives into mimimization form.\n",
      "\n",
      "Returns a dataframe with the objective data intented to be minimized.\n",
      "\u001b[0;31mFile:\u001b[0m      ~/Code/GitHub/Xopt/xopt/vocs.py\n",
      "\u001b[0;31mType:\u001b[0m      function\n"
     ]
    }
   ],
   "source": [
    "?form_objective_data"
   ]
  },
  {
   "cell_type": "code",
   "execution_count": 14,
   "id": "43051b71",
   "metadata": {
    "pycharm": {
     "name": "#%%\n"
    }
   },
   "outputs": [
    {
     "data": {
      "text/html": [
       "<div>\n",
       "<style scoped>\n",
       "    .dataframe tbody tr th:only-of-type {\n",
       "        vertical-align: middle;\n",
       "    }\n",
       "\n",
       "    .dataframe tbody tr th {\n",
       "        vertical-align: top;\n",
       "    }\n",
       "\n",
       "    .dataframe thead th {\n",
       "        text-align: right;\n",
       "    }\n",
       "</style>\n",
       "<table border=\"1\" class=\"dataframe\">\n",
       "  <thead>\n",
       "    <tr style=\"text-align: right;\">\n",
       "      <th></th>\n",
       "      <th>objective_c</th>\n",
       "      <th>objective_d</th>\n",
       "    </tr>\n",
       "  </thead>\n",
       "  <tbody>\n",
       "    <tr>\n",
       "      <th>5</th>\n",
       "      <td>-651.629269</td>\n",
       "      <td>651.704807</td>\n",
       "    </tr>\n",
       "    <tr>\n",
       "      <th>6</th>\n",
       "      <td>-779.379591</td>\n",
       "      <td>780.599383</td>\n",
       "    </tr>\n",
       "    <tr>\n",
       "      <th>7</th>\n",
       "      <td>-775.011830</td>\n",
       "      <td>773.633340</td>\n",
       "    </tr>\n",
       "    <tr>\n",
       "      <th>8</th>\n",
       "      <td>-510.746667</td>\n",
       "      <td>509.776589</td>\n",
       "    </tr>\n",
       "    <tr>\n",
       "      <th>9</th>\n",
       "      <td>-486.022037</td>\n",
       "      <td>485.831399</td>\n",
       "    </tr>\n",
       "    <tr>\n",
       "      <th>10</th>\n",
       "      <td>-143.630257</td>\n",
       "      <td>143.776218</td>\n",
       "    </tr>\n",
       "    <tr>\n",
       "      <th>11</th>\n",
       "      <td>-154.702323</td>\n",
       "      <td>154.279209</td>\n",
       "    </tr>\n",
       "    <tr>\n",
       "      <th>12</th>\n",
       "      <td>-793.255355</td>\n",
       "      <td>794.416433</td>\n",
       "    </tr>\n",
       "    <tr>\n",
       "      <th>13</th>\n",
       "      <td>-498.032166</td>\n",
       "      <td>499.471673</td>\n",
       "    </tr>\n",
       "    <tr>\n",
       "      <th>14</th>\n",
       "      <td>-812.035752</td>\n",
       "      <td>812.430168</td>\n",
       "    </tr>\n",
       "  </tbody>\n",
       "</table>\n",
       "</div>"
      ],
      "text/plain": [
       "    objective_c  objective_d\n",
       "5   -651.629269   651.704807\n",
       "6   -779.379591   780.599383\n",
       "7   -775.011830   773.633340\n",
       "8   -510.746667   509.776589\n",
       "9   -486.022037   485.831399\n",
       "10  -143.630257   143.776218\n",
       "11  -154.702323   154.279209\n",
       "12  -793.255355   794.416433\n",
       "13  -498.032166   499.471673\n",
       "14  -812.035752   812.430168"
      ]
     },
     "execution_count": 14,
     "metadata": {},
     "output_type": "execute_result"
    }
   ],
   "source": [
    "# These are in standard form for minimization\n",
    "form_objective_data(vocs.objectives, data)"
   ]
  },
  {
   "cell_type": "code",
   "execution_count": 15,
   "id": "2ed50815",
   "metadata": {
    "pycharm": {
     "name": "#%%\n"
    }
   },
   "outputs": [
    {
     "data": {
      "text/html": [
       "<div>\n",
       "<style scoped>\n",
       "    .dataframe tbody tr th:only-of-type {\n",
       "        vertical-align: middle;\n",
       "    }\n",
       "\n",
       "    .dataframe tbody tr th {\n",
       "        vertical-align: top;\n",
       "    }\n",
       "\n",
       "    .dataframe thead th {\n",
       "        text-align: right;\n",
       "    }\n",
       "</style>\n",
       "<table border=\"1\" class=\"dataframe\">\n",
       "  <thead>\n",
       "    <tr style=\"text-align: right;\">\n",
       "      <th></th>\n",
       "      <th>objective_c</th>\n",
       "      <th>objective_d</th>\n",
       "    </tr>\n",
       "  </thead>\n",
       "  <tbody>\n",
       "    <tr>\n",
       "      <th>5</th>\n",
       "      <td>-651.629269</td>\n",
       "      <td>651.704807</td>\n",
       "    </tr>\n",
       "    <tr>\n",
       "      <th>6</th>\n",
       "      <td>-779.379591</td>\n",
       "      <td>780.599383</td>\n",
       "    </tr>\n",
       "    <tr>\n",
       "      <th>7</th>\n",
       "      <td>-775.011830</td>\n",
       "      <td>773.633340</td>\n",
       "    </tr>\n",
       "    <tr>\n",
       "      <th>8</th>\n",
       "      <td>-510.746667</td>\n",
       "      <td>509.776589</td>\n",
       "    </tr>\n",
       "    <tr>\n",
       "      <th>9</th>\n",
       "      <td>-486.022037</td>\n",
       "      <td>485.831399</td>\n",
       "    </tr>\n",
       "    <tr>\n",
       "      <th>10</th>\n",
       "      <td>-143.630257</td>\n",
       "      <td>143.776218</td>\n",
       "    </tr>\n",
       "    <tr>\n",
       "      <th>11</th>\n",
       "      <td>-154.702323</td>\n",
       "      <td>154.279209</td>\n",
       "    </tr>\n",
       "    <tr>\n",
       "      <th>12</th>\n",
       "      <td>-793.255355</td>\n",
       "      <td>794.416433</td>\n",
       "    </tr>\n",
       "    <tr>\n",
       "      <th>13</th>\n",
       "      <td>-498.032166</td>\n",
       "      <td>499.471673</td>\n",
       "    </tr>\n",
       "    <tr>\n",
       "      <th>14</th>\n",
       "      <td>-812.035752</td>\n",
       "      <td>812.430168</td>\n",
       "    </tr>\n",
       "  </tbody>\n",
       "</table>\n",
       "</div>"
      ],
      "text/plain": [
       "    objective_c  objective_d\n",
       "5   -651.629269   651.704807\n",
       "6   -779.379591   780.599383\n",
       "7   -775.011830   773.633340\n",
       "8   -510.746667   509.776589\n",
       "9   -486.022037   485.831399\n",
       "10  -143.630257   143.776218\n",
       "11  -154.702323   154.279209\n",
       "12  -793.255355   794.416433\n",
       "13  -498.032166   499.471673\n",
       "14  -812.035752   812.430168"
      ]
     },
     "execution_count": 15,
     "metadata": {},
     "output_type": "execute_result"
    }
   ],
   "source": [
    "# This is also available as a method\n",
    "vocs.objective_data(data)"
   ]
  },
  {
   "cell_type": "code",
   "execution_count": 16,
   "id": "9f4275d4",
   "metadata": {
    "pycharm": {
     "name": "#%%\n"
    }
   },
   "outputs": [
    {
     "data": {
      "text/plain": [
       "array([[-651.62926881,  651.70480674],\n",
       "       [-779.37959111,  780.59938263],\n",
       "       [-775.01182997,  773.63334033],\n",
       "       [-510.74666737,  509.77658875],\n",
       "       [-486.02203695,  485.83139926],\n",
       "       [-143.63025658,  143.77621787],\n",
       "       [-154.70232301,  154.27920872],\n",
       "       [-793.25535479,  794.41643348],\n",
       "       [-498.03216576,  499.47167315],\n",
       "       [-812.03575161,  812.43016833]])"
      ]
     },
     "execution_count": 16,
     "metadata": {},
     "output_type": "execute_result"
    }
   ],
   "source": [
    "# use the to_numpy() method to convert for low level use.\n",
    "vocs.objective_data(data).to_numpy()"
   ]
  },
  {
   "cell_type": "code",
   "execution_count": 17,
   "id": "74968450",
   "metadata": {
    "pycharm": {
     "name": "#%%\n"
    }
   },
   "outputs": [
    {
     "name": "stdout",
     "output_type": "stream",
     "text": [
      "\u001b[0;31mSignature:\u001b[0m \u001b[0mform_constraint_data\u001b[0m\u001b[0;34m(\u001b[0m\u001b[0mconstraints\u001b[0m\u001b[0;34m:\u001b[0m \u001b[0mDict\u001b[0m\u001b[0;34m,\u001b[0m \u001b[0mdata\u001b[0m\u001b[0;34m,\u001b[0m \u001b[0mprefix\u001b[0m\u001b[0;34m=\u001b[0m\u001b[0;34m'constraint_'\u001b[0m\u001b[0;34m)\u001b[0m\u001b[0;34m\u001b[0m\u001b[0;34m\u001b[0m\u001b[0m\n",
      "\u001b[0;31mDocstring:\u001b[0m\n",
      "Use constraint dict and data (dataframe) to generate constraint data (dataframe)\n",
      "A constraint is satisfied if the evaluation is < 0.\n",
      "\n",
      "Returns a dataframe with the constraint data.\n",
      "\u001b[0;31mFile:\u001b[0m      ~/Code/GitHub/Xopt/xopt/vocs.py\n",
      "\u001b[0;31mType:\u001b[0m      function\n"
     ]
    }
   ],
   "source": [
    "?form_constraint_data"
   ]
  },
  {
   "cell_type": "code",
   "execution_count": 18,
   "id": "29b73df4",
   "metadata": {
    "pycharm": {
     "name": "#%%\n"
    }
   },
   "outputs": [
    {
     "data": {
      "text/html": [
       "<div>\n",
       "<style scoped>\n",
       "    .dataframe tbody tr th:only-of-type {\n",
       "        vertical-align: middle;\n",
       "    }\n",
       "\n",
       "    .dataframe tbody tr th {\n",
       "        vertical-align: top;\n",
       "    }\n",
       "\n",
       "    .dataframe thead th {\n",
       "        text-align: right;\n",
       "    }\n",
       "</style>\n",
       "<table border=\"1\" class=\"dataframe\">\n",
       "  <thead>\n",
       "    <tr style=\"text-align: right;\">\n",
       "      <th></th>\n",
       "      <th>constraint_e</th>\n",
       "      <th>constraint_f</th>\n",
       "    </tr>\n",
       "  </thead>\n",
       "  <tbody>\n",
       "    <tr>\n",
       "      <th>5</th>\n",
       "      <td>1301.258538</td>\n",
       "      <td>-1303.409613</td>\n",
       "    </tr>\n",
       "    <tr>\n",
       "      <th>6</th>\n",
       "      <td>1556.759182</td>\n",
       "      <td>-1561.198765</td>\n",
       "    </tr>\n",
       "    <tr>\n",
       "      <th>7</th>\n",
       "      <td>1548.023660</td>\n",
       "      <td>-1547.266681</td>\n",
       "    </tr>\n",
       "    <tr>\n",
       "      <th>8</th>\n",
       "      <td>1019.493335</td>\n",
       "      <td>-1019.553178</td>\n",
       "    </tr>\n",
       "    <tr>\n",
       "      <th>9</th>\n",
       "      <td>970.044074</td>\n",
       "      <td>-971.662799</td>\n",
       "    </tr>\n",
       "    <tr>\n",
       "      <th>10</th>\n",
       "      <td>285.260513</td>\n",
       "      <td>-287.552436</td>\n",
       "    </tr>\n",
       "    <tr>\n",
       "      <th>11</th>\n",
       "      <td>307.404646</td>\n",
       "      <td>-308.558417</td>\n",
       "    </tr>\n",
       "    <tr>\n",
       "      <th>12</th>\n",
       "      <td>1584.510710</td>\n",
       "      <td>-1588.832867</td>\n",
       "    </tr>\n",
       "    <tr>\n",
       "      <th>13</th>\n",
       "      <td>994.064332</td>\n",
       "      <td>-998.943346</td>\n",
       "    </tr>\n",
       "    <tr>\n",
       "      <th>14</th>\n",
       "      <td>1622.071503</td>\n",
       "      <td>-1624.860337</td>\n",
       "    </tr>\n",
       "  </tbody>\n",
       "</table>\n",
       "</div>"
      ],
      "text/plain": [
       "    constraint_e  constraint_f\n",
       "5    1301.258538  -1303.409613\n",
       "6    1556.759182  -1561.198765\n",
       "7    1548.023660  -1547.266681\n",
       "8    1019.493335  -1019.553178\n",
       "9     970.044074   -971.662799\n",
       "10    285.260513   -287.552436\n",
       "11    307.404646   -308.558417\n",
       "12   1584.510710  -1588.832867\n",
       "13    994.064332   -998.943346\n",
       "14   1622.071503  -1624.860337"
      ]
     },
     "execution_count": 18,
     "metadata": {},
     "output_type": "execute_result"
    }
   ],
   "source": [
    "vocs.constraint_data(data)"
   ]
  },
  {
   "cell_type": "code",
   "execution_count": 19,
   "id": "984d66ab",
   "metadata": {
    "pycharm": {
     "name": "#%%\n"
    }
   },
   "outputs": [
    {
     "name": "stdout",
     "output_type": "stream",
     "text": [
      "\u001b[0;31mSignature:\u001b[0m \u001b[0mform_feasibility_data\u001b[0m\u001b[0;34m(\u001b[0m\u001b[0mconstraints\u001b[0m\u001b[0;34m:\u001b[0m \u001b[0mDict\u001b[0m\u001b[0;34m,\u001b[0m \u001b[0mdata\u001b[0m\u001b[0;34m,\u001b[0m \u001b[0mprefix\u001b[0m\u001b[0;34m=\u001b[0m\u001b[0;34m'feasible_'\u001b[0m\u001b[0;34m)\u001b[0m\u001b[0;34m\u001b[0m\u001b[0;34m\u001b[0m\u001b[0m\n",
      "\u001b[0;31mDocstring:\u001b[0m\n",
      "Use constraint dict and data to identify feasible points in the the dataset.\n",
      "\n",
      "Returns a dataframe with the feasibility data.\n",
      "\u001b[0;31mFile:\u001b[0m      ~/Code/GitHub/Xopt/xopt/vocs.py\n",
      "\u001b[0;31mType:\u001b[0m      function\n"
     ]
    }
   ],
   "source": [
    "?form_feasibility_data"
   ]
  },
  {
   "cell_type": "code",
   "execution_count": 20,
   "id": "e46a5e83",
   "metadata": {
    "pycharm": {
     "name": "#%%\n"
    }
   },
   "outputs": [
    {
     "data": {
      "text/html": [
       "<div>\n",
       "<style scoped>\n",
       "    .dataframe tbody tr th:only-of-type {\n",
       "        vertical-align: middle;\n",
       "    }\n",
       "\n",
       "    .dataframe tbody tr th {\n",
       "        vertical-align: top;\n",
       "    }\n",
       "\n",
       "    .dataframe thead th {\n",
       "        text-align: right;\n",
       "    }\n",
       "</style>\n",
       "<table border=\"1\" class=\"dataframe\">\n",
       "  <thead>\n",
       "    <tr style=\"text-align: right;\">\n",
       "      <th></th>\n",
       "      <th>feasible_e</th>\n",
       "      <th>feasible_f</th>\n",
       "      <th>feasible</th>\n",
       "    </tr>\n",
       "  </thead>\n",
       "  <tbody>\n",
       "    <tr>\n",
       "      <th>5</th>\n",
       "      <td>False</td>\n",
       "      <td>True</td>\n",
       "      <td>False</td>\n",
       "    </tr>\n",
       "    <tr>\n",
       "      <th>6</th>\n",
       "      <td>False</td>\n",
       "      <td>True</td>\n",
       "      <td>False</td>\n",
       "    </tr>\n",
       "    <tr>\n",
       "      <th>7</th>\n",
       "      <td>False</td>\n",
       "      <td>True</td>\n",
       "      <td>False</td>\n",
       "    </tr>\n",
       "    <tr>\n",
       "      <th>8</th>\n",
       "      <td>False</td>\n",
       "      <td>True</td>\n",
       "      <td>False</td>\n",
       "    </tr>\n",
       "    <tr>\n",
       "      <th>9</th>\n",
       "      <td>False</td>\n",
       "      <td>True</td>\n",
       "      <td>False</td>\n",
       "    </tr>\n",
       "    <tr>\n",
       "      <th>10</th>\n",
       "      <td>False</td>\n",
       "      <td>True</td>\n",
       "      <td>False</td>\n",
       "    </tr>\n",
       "    <tr>\n",
       "      <th>11</th>\n",
       "      <td>False</td>\n",
       "      <td>True</td>\n",
       "      <td>False</td>\n",
       "    </tr>\n",
       "    <tr>\n",
       "      <th>12</th>\n",
       "      <td>False</td>\n",
       "      <td>True</td>\n",
       "      <td>False</td>\n",
       "    </tr>\n",
       "    <tr>\n",
       "      <th>13</th>\n",
       "      <td>False</td>\n",
       "      <td>True</td>\n",
       "      <td>False</td>\n",
       "    </tr>\n",
       "    <tr>\n",
       "      <th>14</th>\n",
       "      <td>False</td>\n",
       "      <td>True</td>\n",
       "      <td>False</td>\n",
       "    </tr>\n",
       "  </tbody>\n",
       "</table>\n",
       "</div>"
      ],
      "text/plain": [
       "    feasible_e  feasible_f  feasible\n",
       "5        False        True     False\n",
       "6        False        True     False\n",
       "7        False        True     False\n",
       "8        False        True     False\n",
       "9        False        True     False\n",
       "10       False        True     False\n",
       "11       False        True     False\n",
       "12       False        True     False\n",
       "13       False        True     False\n",
       "14       False        True     False"
      ]
     },
     "execution_count": 20,
     "metadata": {},
     "output_type": "execute_result"
    }
   ],
   "source": [
    "vocs.feasibility_data(data)"
   ]
  }
 ],
 "metadata": {
  "kernelspec": {
   "display_name": "xopt",
   "language": "python",
   "name": "xopt"
  },
  "language_info": {
   "codemirror_mode": {
    "name": "ipython",
    "version": 3
   },
   "file_extension": ".py",
   "mimetype": "text/x-python",
   "name": "python",
   "nbconvert_exporter": "python",
   "pygments_lexer": "ipython3",
   "version": "3.9.10"
  }
 },
 "nbformat": 4,
 "nbformat_minor": 5
}
