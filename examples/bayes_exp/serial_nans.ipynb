{
 "cells": [
  {
   "cell_type": "code",
   "execution_count": 1,
   "id": "4a9be9bf-b3c5-468d-84f6-c7b8cf25806e",
   "metadata": {},
   "outputs": [],
   "source": [
    "# main function\n",
    "import numpy as np\n",
    "import torch\n",
    "import matplotlib.pyplot as plt\n",
    "import botorch\n",
    "\n",
    "from xopt.bayesian.algorithms import bayesian_exploration\n",
    "from xopt.bayesian.models.nan_enabled import NanEnabledModelListGP\n",
    "\n",
    "from botorch.models import SingleTaskGP, ModelListGP\n",
    "from botorch.fit import fit_gpytorch_model\n",
    "from gpytorch.mlls.exact_marginal_log_likelihood import ExactMarginalLogLikelihood\n",
    "\n",
    "\n",
    "# test function\n",
    "from xopt.evaluators import test_TNK\n"
   ]
  },
  {
   "cell_type": "code",
   "execution_count": 3,
   "id": "37b14413-2736-4f26-a308-611a9c10b48b",
   "metadata": {},
   "outputs": [
    {
     "name": "stdout",
     "output_type": "stream",
     "text": [
      "{'name': 'TNK_test', 'description': 'Constrainted test function TNK. See Table V in https://www.iitk.ac.in/kangal/Deb_NSGA-II.pdf', 'simulation': 'test_TNK', 'variables': {'x1': [0, 3.14159], 'x2': [0, 3.14159]}, 'objectives': {'y1': None}, 'constraints': {'c1': ['GREATER_THAN', 0], 'c2': ['LESS_THAN', 0.5]}, 'constants': {'a': 'dummy_constant'}, 'linked_variables': {'x9': 'x1'}}\n",
      "Candidate(s): tensor([[0.4597, 0.0000]], dtype=torch.float64)\n",
      "Candidate(s): tensor([[0.8393, 1.1534]], dtype=torch.float64)\n"
     ]
    }
   ],
   "source": [
    "\"\"\"\n",
    "    Example where we must use a custom botorch model to make predictions. \n",
    "    We modify the test_TNK function with a wrapper to return Nan values for the y1 objective if one of the constraints are not satisfied.\n",
    "    To accomidate this we define a ModelListGP model as a custom model to remove Nan values from the training data.\n",
    "\n",
    "\"\"\"\n",
    "\n",
    "# define a new test function that returns nans for y1 if c1 is not valid\n",
    "def nan_test_TNK(x):\n",
    "    outputs = test_TNK.evaluate_TNK(x)\n",
    "    if outputs['c1'] < 0:\n",
    "        outputs['y1'] = np.nan\n",
    "        \n",
    "    return outputs\n",
    "\n",
    "\n",
    "# Get VOCS\n",
    "VOCS = test_TNK.VOCS\n",
    "VOCS['objectives'] = {'y1' : None}\n",
    "\n",
    "# add reference point\n",
    "ref = torch.tensor((1.4, 1.4))\n",
    "\n",
    "print(VOCS)\n",
    "# Get evaluate function\n",
    "EVALUATE = nan_test_TNK\n",
    "\n",
    "# Run\n",
    "init_x = torch.tensor([[0.9, 0.9], [0.6, 0.6]])\n",
    "results = bayesian_exploration(VOCS, EVALUATE,\n",
    "                               custom_model = NanEnabledModelListGP,\n",
    "                               n_initial_samples=5,\n",
    "                               initial_x=None,\n",
    "                               use_gpu=False,\n",
    "                               n_steps=15, \n",
    "                               verbose=True)"
   ]
  },
  {
   "cell_type": "code",
   "execution_count": null,
   "id": "7d7b9312-17fe-438c-8120-c0fc458b6a3c",
   "metadata": {},
   "outputs": [],
   "source": [
    "fig, ax = plt.subplots()\n",
    "print(list(results.keys()))\n",
    "ax.plot(results['variables'][:, 0], results['variables'][:, 1], '.')\n",
    "\n",
    "plt.show()"
   ]
  },
  {
   "cell_type": "code",
   "execution_count": null,
   "id": "401629ca-9a2a-4be1-a463-d1f8a169a8cf",
   "metadata": {},
   "outputs": [],
   "source": []
  }
 ],
 "metadata": {
  "kernelspec": {
   "display_name": "xopt",
   "language": "python",
   "name": "xopt"
  },
  "language_info": {
   "codemirror_mode": {
    "name": "ipython",
    "version": 3
   },
   "file_extension": ".py",
   "mimetype": "text/x-python",
   "name": "python",
   "nbconvert_exporter": "python",
   "pygments_lexer": "ipython3",
   "version": "3.9.6"
  }
 },
 "nbformat": 4,
 "nbformat_minor": 5
}
