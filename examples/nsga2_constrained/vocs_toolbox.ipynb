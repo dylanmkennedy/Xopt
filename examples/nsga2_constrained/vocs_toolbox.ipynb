{
 "cells": [
  {
   "cell_type": "code",
   "execution_count": 1,
   "metadata": {},
   "outputs": [],
   "source": [
    "# Useful for debugging\n",
    "%load_ext autoreload\n",
    "%autoreload 2\n",
    "%matplotlib inline"
   ]
  },
  {
   "cell_type": "code",
   "execution_count": 2,
   "metadata": {},
   "outputs": [],
   "source": [
    "from xopt import creator, fitness_with_constraints, vocs_tools\n",
    "\n",
    "from deap import base, tools\n",
    "import array\n",
    "import random\n",
    "import numpy as np"
   ]
  },
  {
   "cell_type": "code",
   "execution_count": 3,
   "metadata": {},
   "outputs": [
    {
     "name": "stdout",
     "output_type": "stream",
     "text": [
      "TNK_test.json written\n"
     ]
    }
   ],
   "source": [
    "NAME = 'TNK'\n",
    "BOUND_LOW, BOUND_UP = [0.0, 0.0], [3.14159, 3.14159]  \n",
    "WEIGHTS = [-1, -1] # Minimize\n",
    "NDIM = 2\n",
    "N_CONSTRAINTS = 2\n",
    "\n",
    "def TNK(individual):    \n",
    "    x1=individual[0]\n",
    "    x2=individual[1]\n",
    "    objectives =  (x1, x2)\n",
    "    constraints = (x1**2+x2**2-1.0 - 0.1*np.cos(16*np.arctan2(x1, x2)), 0.5-(x1-0.5)**2-(x2-0.5)**2 )\n",
    "    return objectives, constraints\n",
    "\n",
    "F = TNK\n",
    "X_RANGE = [0, 1.4]\n",
    "Y_RANGE = [0, 1.4]\n",
    "\n",
    "\n",
    "\n",
    "\n",
    "VOCS = {\n",
    "    'name':'TNK_test',\n",
    "    \n",
    "    'variables': {\n",
    "        'x1':[0, 3.14159],\n",
    "        'x2':[0, 3.14159]\n",
    "    },\n",
    "    'objectives':{\n",
    "        'y1':'MINIMIZE',\n",
    "        'y2':'MINIMIZE'\n",
    "        \n",
    "    },\n",
    "    'constraints':{\n",
    "        'c1': ['GREATER_THAN', 0],\n",
    "        'c2': ['GREATER_THAN', 0]\n",
    "        \n",
    "    },\n",
    "    'constants':{'a':'dummy_constant'},\n",
    "    'linked_variables':{'x9':'x1'}\n",
    "    \n",
    "    \n",
    "}\n",
    "vocs_tools.save_vocs(VOCS)"
   ]
  },
  {
   "cell_type": "code",
   "execution_count": 5,
   "metadata": {},
   "outputs": [
    {
     "data": {
      "text/plain": [
       "{'y1': 2,\n",
       " 'y2': 1,\n",
       " 'c1': 3.957802752,\n",
       " 'c2': -2.0,\n",
       " 'some': 'info',\n",
       " 'about': ['the', 'run']}"
      ]
     },
     "execution_count": 5,
     "metadata": {},
     "output_type": "execute_result"
    }
   ],
   "source": [
    "def evaluate_TNK(inputs):\n",
    "    info = {'some':'info', 'about':['the', 'run']}\n",
    "    \n",
    "    ind = [inputs['x1'], inputs['x2']]\n",
    "    objectives, constraints = TNK(ind)\n",
    "    \n",
    "    outputs = {'y1':objectives[0], 'y2':objectives[1], 'c1':constraints[0], 'c2':constraints[1]}\n",
    "    \n",
    "    # Add this for testing\n",
    "    outputs.update(info)\n",
    "    \n",
    "    return outputs\n",
    "evaluate_TNK({'x1':2, 'x2':1})\n",
    "    "
   ]
  },
  {
   "cell_type": "code",
   "execution_count": 6,
   "metadata": {},
   "outputs": [
    {
     "data": {
      "text/plain": [
       "2"
      ]
     },
     "execution_count": 6,
     "metadata": {},
     "output_type": "execute_result"
    }
   ],
   "source": [
    "VAR, OBJ, CON = VOCS['variables'], VOCS['objectives'], VOCS['constraints']\n",
    "len(CON)"
   ]
  },
  {
   "cell_type": "code",
   "execution_count": 7,
   "metadata": {},
   "outputs": [],
   "source": [
    "def uniform(low, up, size=None):\n",
    "    try:\n",
    "        return [random.uniform(a, b) for a, b in zip(low, up)]\n",
    "    except TypeError:\n",
    "        return [random.uniform(a, b) for a, b in zip([low] * size, [up] * size)]"
   ]
  },
  {
   "cell_type": "code",
   "execution_count": 8,
   "metadata": {},
   "outputs": [],
   "source": [
    "\n",
    "\n",
    "def cnsga_toolbox(vocs, selection='auto', verbose=False):\n",
    "    \"\"\"\n",
    "    Creates a DEAP toolbox from VOCS dict\n",
    "    \"\"\"\n",
    "    \n",
    "    var, obj, con = vocs['variables'], vocs['objectives'], vocs['constraints']\n",
    "    n_var = len(var)\n",
    "    n_obj = len(obj)\n",
    "    n_con = len(con)\n",
    "    \n",
    "    var_labels = vocs_tools.skeys(var)\n",
    "    obj_labels = vocs_tools.skeys(obj)\n",
    "    \n",
    "    bound_low = vocs_tools.var_mins(var)\n",
    "    bound_up = vocs_tools.var_maxs(var)\n",
    "    \n",
    "    weights = vocs_tools.weight_list(obj)\n",
    "    \n",
    "    # Create MyFitness \n",
    "    if 'MyFitness' in dir(creator):\n",
    "        del creator.MyFitness\n",
    "        if verbose:\n",
    "            print('Warning: Redefining creator.MyFitness')\n",
    "    \n",
    "    if n_con == 0:\n",
    "        # Normal Fitness class\n",
    "        creator.create('MyFitness', base.Fitness, weights=weights, labels=obj_labels)\n",
    "    else:\n",
    "        # Fitness with Constraints\n",
    "        creator.create('MyFitness', fitness_with_constraints.FitnessWithConstraints, \n",
    "                   weights=weights, n_constraints=n_con, labels=obj_labels) \n",
    "    \n",
    "    # Create Individual\n",
    "    creator.create('Individual', array.array, typecode='d', fitness=creator.MyFitness, \n",
    "                   labels=var_labels)    \n",
    "    \n",
    "    if 'Individual' in dir(creator):\n",
    "        del creator.MyFitness\n",
    "        if verbose:\n",
    "            print('Warning in cnsga_toolbox: Redefining creator.Individual')\n",
    "      \n",
    "    # Make toolbox\n",
    "    toolbox = base.Toolbox()    \n",
    "    \n",
    "    # Register indivitual and population creation routines\n",
    "    toolbox.register('attr_float', uniform, bound_low, bound_up)\n",
    "    toolbox.register('individual', tools.initIterate, creator.Individual, toolbox.attr_float)\n",
    "    toolbox.register('population', tools.initRepeat, list, toolbox.individual)        \n",
    "    \n",
    "    # Register mate and mutate functions\n",
    "    toolbox.register('mate', tools.cxSimulatedBinaryBounded, low=bound_low, up=bound_up, eta=20.0)\n",
    "    toolbox.register('mutate', tools.mutPolynomialBounded, low=bound_low, up=bound_up, eta=20.0, indpb=1.0/n_var)\n",
    "    \n",
    "    # Register NSGA selection algorithm.\n",
    "    # NSGA-III should be better for 3 or more objectives\n",
    "    if selection == 'auto':\n",
    "        if len(obj) <= 2:\n",
    "            selection = 'nsga2'\n",
    "        else:\n",
    "            selection='nsga3'\n",
    "\n",
    "    if selection == 'nsga2':\n",
    "        toolbox.register('select', tools.selNSGA2)\n",
    "    elif selection == 'nsga3':\n",
    "        toolbox.register('select', tools.selNSGA3)\n",
    "    else:\n",
    "        print('Error: invalid selection algorithm', selection)\n",
    "        raise\n",
    "    \n",
    "    \n",
    "    if verbose:\n",
    "        print(f'Created toolbox with {n_var} variables, {n_con} constraints, and {n_obj} objectives.')\n",
    "        print(f'    Using slection algorithm: {selection}')\n",
    "    return toolbox\n",
    "    \n",
    "    \n",
    "    "
   ]
  },
  {
   "cell_type": "code",
   "execution_count": 9,
   "metadata": {},
   "outputs": [
    {
     "name": "stdout",
     "output_type": "stream",
     "text": [
      "Warning in cnsga_toolbox: Redefining creator.Individual\n",
      "Created toolbox with 2 variables, 2 constraints, and 2 objectives.\n",
      "    Using slection algorithm: nsga2\n"
     ]
    }
   ],
   "source": [
    "TOOLBOX = cnsga_toolbox(VOCS, verbose=True)"
   ]
  },
  {
   "cell_type": "markdown",
   "metadata": {},
   "source": [
    "# Test usage"
   ]
  },
  {
   "cell_type": "code",
   "execution_count": 10,
   "metadata": {},
   "outputs": [],
   "source": [
    "from xopt.cnsga import cnsga"
   ]
  },
  {
   "cell_type": "code",
   "execution_count": 11,
   "metadata": {},
   "outputs": [],
   "source": [
    "#from concurrent.futures import ProcessPoolExecutor as PoolExecutor\n",
    "from concurrent.futures import ThreadPoolExecutor as PoolExecutor\n",
    "\n",
    "executor = PoolExecutor()"
   ]
  },
  {
   "cell_type": "code",
   "execution_count": null,
   "metadata": {},
   "outputs": [],
   "source": [
    "from dask.distributed import Client\n",
    "executor = Client()\n",
    "executor"
   ]
  },
  {
   "cell_type": "code",
   "execution_count": null,
   "metadata": {},
   "outputs": [],
   "source": [
    "# Wrap evaluate to return the input and output\n",
    "def EVALUATE(vec):\n",
    "    #sleep_time = random.random() *2\n",
    "    #time.sleep(sleep_time)\n",
    "    fit = F(vec)\n",
    "    return vec, fit"
   ]
  },
  {
   "cell_type": "code",
   "execution_count": null,
   "metadata": {},
   "outputs": [],
   "source": [
    "def inputs_from_vec(vec, vocs=None):\n",
    "    \"\"\"\n",
    "    Forms labeled inputs from vector using vocs. If no vocs is given, labels are created in the form:\n",
    "        variable_{i}\n",
    "\n",
    "    \"\"\"\n",
    "    if not vocs:\n",
    "        vkeys = [f'variable_{i}' for i in range(len(vec))]\n",
    "        return dict(zip(keys, vec))\n",
    "    \n",
    "    # labeled inputs -> labeled outputs evaluate_f\n",
    "    vkeys =  skeys(vocs['variables'])\n",
    "    inputs = dict(zip(vkeys, vec))\n",
    "    \n",
    "    # Constants    \n",
    "    if 'constants' in vocs:\n",
    "        inputs.update(vocs['constants'])\n",
    "        \n",
    "    # Handle linked variables\n",
    "    if 'linked_variables' in vocs:\n",
    "        for k, v in vocs['linked_variables'].items():\n",
    "            inputs[k] = inputs[v]    \n",
    "    \n",
    "    return inputs"
   ]
  },
  {
   "cell_type": "code",
   "execution_count": 39,
   "metadata": {},
   "outputs": [
    {
     "data": {
      "text/plain": [
       "{'inputs': {'x1': 1, 'x2': 0.1, 'a': 'dummy_constant', 'x9': 1},\n",
       " 'outputs': {'y1': 1,\n",
       "  'y2': 0.1,\n",
       "  'c1': 0.01238998372053216,\n",
       "  'c2': 0.08999999999999997,\n",
       "  'some': 'info',\n",
       "  'about': ['the', 'run']},\n",
       " 'vec': [1, 0.1],\n",
       " 'obj': [1, 0.1],\n",
       " 'con': [0.01238998372053216, 0.08999999999999997]}"
      ]
     },
     "execution_count": 39,
     "metadata": {},
     "output_type": "execute_result"
    }
   ],
   "source": [
    "def cnsga_evaluate(vec, evaluate_f=None, vocs=None, include_inputs_and_outputs=True, verbose=False):\n",
    "    \"\"\"\n",
    "    Evaluation function wrapper for use with cngsa. Returns dict with:\n",
    "        'vec', 'obj', 'con'\n",
    "    \n",
    "    If a vocs is given, the function evaluate_f is assumed to have labeled inputs and outputs,\n",
    "    and vocs will be used to form the output above. If include_inputs_and_outputs, these will be added \n",
    "    to the result. \n",
    "    \n",
    "    Otherwise, evaluate_f should return pure numbers as:\n",
    "        vec -> (objectives, constraints)\n",
    "\n",
    "    This function will be evaulated by a worker. \n",
    "    \n",
    "    Any exceptions will be caught, and this will return:\n",
    "        0 for all objectives\n",
    "        -666.0 for all constraints\n",
    "\n",
    "    \"\"\"\n",
    "    \n",
    "    result = {}\n",
    "    \n",
    "    # Make this \n",
    "    try:\n",
    "        \n",
    "        if vocs:\n",
    "            # labeled inputs -> labeled outputs evaluate_f\n",
    "            inputs = vocs_tools.inputs_from_vec(vec, vocs=vocs)\n",
    "    \n",
    "            # Evaluation\n",
    "            outputs = evaluate_f(inputs)\n",
    "        \n",
    "            obj_eval = vocs_tools.evaluate_objectives(vocs['objectives'], outputs)\n",
    "            con_eval = vocs_tools.evaluate_constraints(vocs['constraints'], outputs)\n",
    "            \n",
    "            # Add these to result\n",
    "            if include_inputs_and_outputs:\n",
    "                result['inputs'] = inputs\n",
    "                result['outputs'] = outputs\n",
    "        \n",
    "        else:\n",
    "        # Pure number function\n",
    "            obj_eval, con_eval = evaluate_f(vec)\n",
    "        \n",
    "    except Exception as ex:\n",
    "        if verbose:\n",
    "            print('Exception caught in cnsga_evaluate:', ex)\n",
    "\n",
    "        # Dummy output\n",
    "        obj_eval = [0.0]*len(vocs['objectives'])\n",
    "        con_eval = [-666.0]*len(vocs['constraints'])\n",
    "    \n",
    "    result['vec'] = vec\n",
    "    result['obj'] = obj_eval\n",
    "    result['con'] = con_eval\n",
    "\n",
    "    return result\n",
    "\n",
    "cnsga_evaluate([1,.1], vocs=VOCS, evaluate_f=evaluate_TNK)    \n",
    "    "
   ]
  },
  {
   "cell_type": "code",
   "execution_count": 40,
   "metadata": {},
   "outputs": [
    {
     "name": "stdout",
     "output_type": "stream",
     "text": [
      "Exception caught in cnsga_evaluate: division by zero\n"
     ]
    },
    {
     "data": {
      "text/plain": [
       "{'vec': [1, 0.1], 'obj': [0.0, 0.0], 'con': [-666.0, -666.0]}"
      ]
     },
     "execution_count": 40,
     "metadata": {},
     "output_type": "execute_result"
    }
   ],
   "source": [
    "def crash(inputs):\n",
    "    inputs = 1/0\n",
    "cnsga_evaluate([1,.1], vocs=VOCS, evaluate_f=crash, verbose=True)        "
   ]
  },
  {
   "cell_type": "code",
   "execution_count": 35,
   "metadata": {},
   "outputs": [
    {
     "data": {
      "text/plain": [
       "{'x1': array([3.00255139, 2.72840182, 0.44932331, 0.46881555, 0.57584562,\n",
       "        0.30057676, 1.23617971, 1.48650211, 1.53000581, 1.6508795 ]),\n",
       " 'x2': array([1.83592836, 2.60138122, 0.45596838, 0.49124443, 0.11108919,\n",
       "        2.42928918, 1.03832257, 0.80333756, 2.74336943, 1.44354263]),\n",
       " 'a': 'dummy_constant',\n",
       " 'x9': array([3.00255139, 2.72840182, 0.44932331, 0.46881555, 0.57584562,\n",
       "        0.30057676, 1.23617971, 1.48650211, 1.53000581, 1.6508795 ])}"
      ]
     },
     "execution_count": 35,
     "metadata": {},
     "output_type": "execute_result"
    }
   ],
   "source": [
    "vocs_tools.random_inputs(VOCS, 10)"
   ]
  },
  {
   "cell_type": "code",
   "execution_count": 15,
   "metadata": {},
   "outputs": [],
   "source": [
    "#TOOLBOX.register('evaluate', evaluator, vocs=VOCS, f=evaluate_TNK)\n",
    "TOOLBOX.register('evaluate', cnsga_evaluate, evaluate_f=TNK)"
   ]
  },
  {
   "cell_type": "code",
   "execution_count": 16,
   "metadata": {},
   "outputs": [
    {
     "data": {
      "text/plain": [
       "{'vec': [1, 1], 'obj': (1, 1), 'con': (0.9, 0.0)}"
      ]
     },
     "execution_count": 16,
     "metadata": {},
     "output_type": "execute_result"
    }
   ],
   "source": [
    "TOOLBOX.evaluate([1,1])"
   ]
  },
  {
   "cell_type": "code",
   "execution_count": 17,
   "metadata": {},
   "outputs": [
    {
     "data": {
      "text/plain": [
       "[0.01238998372053216, 0.08999999999999997]"
      ]
     },
     "execution_count": 17,
     "metadata": {},
     "output_type": "execute_result"
    }
   ],
   "source": [
    "vocs_tools.evaluate_constraints(VOCS['constraints'], \n",
    "                                {'y1': 1, 'y2': 0.1, 'c1': 0.01238998372053216, 'c2': 0.08999999999999997})"
   ]
  },
  {
   "cell_type": "code",
   "execution_count": 18,
   "metadata": {},
   "outputs": [],
   "source": [
    "INPUTS = vocs_tools.random_inputs(VOCS,64)"
   ]
  },
  {
   "cell_type": "code",
   "execution_count": null,
   "metadata": {},
   "outputs": [],
   "source": []
  },
  {
   "cell_type": "code",
   "execution_count": 19,
   "metadata": {},
   "outputs": [
    {
     "data": {
      "text/plain": [
       "array('d', [1.0, 2.0])"
      ]
     },
     "execution_count": 19,
     "metadata": {},
     "output_type": "execute_result"
    }
   ],
   "source": [
    "import array\n",
    "array.array('d', np.array([1,2]))"
   ]
  },
  {
   "cell_type": "code",
   "execution_count": null,
   "metadata": {},
   "outputs": [],
   "source": [
    "d"
   ]
  },
  {
   "cell_type": "code",
   "execution_count": 20,
   "metadata": {},
   "outputs": [
    {
     "data": {
      "text/plain": [
       "[Individual('d', [1.5362536769138877, 2.2912024611421846]),\n",
       " Individual('d', [1.9007636099248888, 1.8650931051367343]),\n",
       " Individual('d', [1.9210113836194627, 1.2537303967740918]),\n",
       " Individual('d', [2.6606893573224233, 2.8417830837361757]),\n",
       " Individual('d', [1.8219247104939131, 2.045604940689235]),\n",
       " Individual('d', [1.3735503287491415, 1.0495949975420418]),\n",
       " Individual('d', [2.2114200815551293, 2.9097571924379526]),\n",
       " Individual('d', [2.3633054020847504, 0.8012417946946429]),\n",
       " Individual('d', [2.963797364116796, 1.7182965955427285]),\n",
       " Individual('d', [2.578735126563337, 0.9511015297495895]),\n",
       " Individual('d', [2.5872849524439143, 2.343697350003944]),\n",
       " Individual('d', [2.366110540341852, 1.9272909319401883]),\n",
       " Individual('d', [0.30331847656426936, 0.13359540361621738]),\n",
       " Individual('d', [3.120498770564387, 1.451341589521077]),\n",
       " Individual('d', [1.8895095371713424, 1.3959044448956086]),\n",
       " Individual('d', [1.9285116799770732, 1.8019307342901756]),\n",
       " Individual('d', [2.505777588788074, 2.7081487140682867]),\n",
       " Individual('d', [1.7770476902043508, 2.1262942451179745]),\n",
       " Individual('d', [0.47510782985321653, 0.6709923677702305]),\n",
       " Individual('d', [1.5985178056827494, 2.5198732222307063]),\n",
       " Individual('d', [1.4353466704240592, 1.7365011995587456]),\n",
       " Individual('d', [0.4651467534576433, 2.0042440143229094]),\n",
       " Individual('d', [0.9630898173973199, 1.927348187822333]),\n",
       " Individual('d', [0.14093575871030842, 1.3792406775559511]),\n",
       " Individual('d', [0.7221089087898905, 2.9587228086734427]),\n",
       " Individual('d', [2.595438490850047, 2.3199717536417968]),\n",
       " Individual('d', [0.3554699092534177, 2.3681850640057958]),\n",
       " Individual('d', [2.3390050245183254, 1.241762801899008]),\n",
       " Individual('d', [1.6154768194521536, 0.9015815571324104]),\n",
       " Individual('d', [2.623885968282752, 1.339306967583041]),\n",
       " Individual('d', [1.928954371812291, 0.25919547386194647]),\n",
       " Individual('d', [2.5667746313269717, 0.4723187969994117]),\n",
       " Individual('d', [1.9224133322293406, 1.4840544973154857]),\n",
       " Individual('d', [2.7942634358788623, 2.9530063287021244]),\n",
       " Individual('d', [2.4947199143701546, 0.5192957743210073]),\n",
       " Individual('d', [1.7471582181000531, 1.0156833861093741]),\n",
       " Individual('d', [2.717779701100365, 1.708681921862475]),\n",
       " Individual('d', [0.6800193385388791, 2.14346242421595]),\n",
       " Individual('d', [2.044930380817448, 0.9085768907562847]),\n",
       " Individual('d', [2.1497465962445523, 0.18695169038439896]),\n",
       " Individual('d', [1.0290207942139906, 1.663632158403917]),\n",
       " Individual('d', [2.7556765043311766, 0.06366647772553377]),\n",
       " Individual('d', [2.0141703543605334, 0.6479383311545149]),\n",
       " Individual('d', [2.4419789454009924, 1.38718385251556]),\n",
       " Individual('d', [0.563011816742786, 0.5623901845391373]),\n",
       " Individual('d', [1.4288086020045945, 0.11349647599898313]),\n",
       " Individual('d', [1.6228770191909954, 2.7074799444492315]),\n",
       " Individual('d', [2.910839340669484, 0.28360907087821047]),\n",
       " Individual('d', [1.7588623813250999, 1.5774053649994237]),\n",
       " Individual('d', [0.6139563032240611, 1.2386380638971983]),\n",
       " Individual('d', [0.9778825044592847, 3.0925455544035385]),\n",
       " Individual('d', [1.1648088915795125, 2.4522887622229312]),\n",
       " Individual('d', [1.9573052490546476, 1.6399378559602305]),\n",
       " Individual('d', [2.76474773144142, 2.1266180934338967]),\n",
       " Individual('d', [0.9164243586426943, 1.528568324986407]),\n",
       " Individual('d', [2.789612892107587, 0.7771127139884979]),\n",
       " Individual('d', [1.0004018881163694, 1.3313861790833803]),\n",
       " Individual('d', [3.011394251496142, 2.9112769984263798]),\n",
       " Individual('d', [0.23378453943855712, 0.4167886089093843]),\n",
       " Individual('d', [0.40452050500298153, 3.0920494849198947]),\n",
       " Individual('d', [2.5814222232169435, 0.3890719876003868]),\n",
       " Individual('d', [2.0534796812740796, 2.4960965796943104]),\n",
       " Individual('d', [0.7001629038011838, 0.27324186813512547]),\n",
       " Individual('d', [1.4596923214112187, 0.11004181034347804])]"
      ]
     },
     "execution_count": 20,
     "metadata": {},
     "output_type": "execute_result"
    }
   ],
   "source": [
    "def population_init(data, vocs):\n",
    "    \"\"\"\n",
    "    Initialize a population from keyed data and vocs.\n",
    "    \"\"\"\n",
    "    # Get keys to look for in data\n",
    "    varkeys = vocs_tools.skeys(vocs['variables'])\n",
    "    \n",
    "    # extract vecs\n",
    "    vecs = np.array([data[k] for k in varkeys]).T \n",
    "    \n",
    "    # Form individuals\n",
    "    pop = []\n",
    "    for vec in vecs:\n",
    "        ind = creator.Individual(vec)\n",
    "        pop.append(ind)\n",
    "    \n",
    "    # TODO\n",
    "    # Extract relevant output to form fitness\n",
    "    #objkeys = vocs_tools.skeys(vocs['objectives'])\n",
    "    #conkeys = vocs_tools.skeys(vocs['constraints'])\n",
    "    #np.array([data[k] for k in skeys(objective_dict)])       \n",
    "    \n",
    "    return pop\n",
    "    \n",
    "population_init(INPUTS, VOCS)"
   ]
  },
  {
   "cell_type": "code",
   "execution_count": 26,
   "metadata": {},
   "outputs": [
    {
     "name": "stdout",
     "output_type": "stream",
     "text": [
      "Generation 0 completed\n",
      "Generation 1 completed\n",
      "Generation 2 completed\n",
      "Generation 3 completed\n",
      "Generation 4 completed\n",
      "Generation 5 completed\n",
      "Generation 6 completed\n",
      "Generation 7 completed\n",
      "Generation 8 completed\n",
      "Generation 9 completed\n",
      "Generation 10 completed\n",
      "Generation 11 completed\n",
      "Generation 12 completed\n",
      "Generation 13 completed\n",
      "Generation 14 completed\n",
      "Generation 15 completed\n",
      "Generation 16 completed\n",
      "Generation 17 completed\n",
      "Generation 18 completed\n",
      "Generation 19 completed\n",
      "Generation 20 completed\n",
      "Generation 21 completed\n",
      "Generation 22 completed\n",
      "Generation 23 completed\n",
      "Generation 24 completed\n",
      "Generation 25 completed\n",
      "Generation 26 completed\n",
      "Generation 27 completed\n",
      "Generation 28 completed\n",
      "Generation 29 completed\n",
      "Generation 30 completed\n",
      "Generation 31 completed\n",
      "Generation 32 completed\n",
      "Generation 33 completed\n",
      "Generation 34 completed\n",
      "Generation 35 completed\n",
      "Generation 36 completed\n",
      "Generation 37 completed\n",
      "Generation 38 completed\n",
      "Generation 39 completed\n"
     ]
    }
   ],
   "source": [
    "TOOLBOX.register('evaluate', cnsga_evaluate, vocs=VOCS, evaluate_f=evaluate_TNK)\n",
    "\n",
    "pop = cnsga(executor, toolbox=TOOLBOX, max_generations = 40, population_size=64) \n",
    "#pop = cnsga(executor, vocs=VOCS, evaluate_f=evaluate_TNK, max_generations = 40, population_size=64) "
   ]
  },
  {
   "cell_type": "code",
   "execution_count": 27,
   "metadata": {},
   "outputs": [
    {
     "data": {
      "image/png": "[encoded data removed]",
      "text/plain": [
       "<Figure size 360x360 with 1 Axes>"
      ]
     },
     "metadata": {
      "needs_background": "light"
     },
     "output_type": "display_data"
    }
   ],
   "source": [
    "import matplotlib.pyplot as plt\n",
    "\n",
    "def plot_pop(pop):\n",
    "    fig, ax = plt.subplots(figsize=(5,5))\n",
    "\n",
    "    front = np.array([ind.fitness.values for ind in pop])\n",
    "    ax.scatter(front[:,0], front[:,1], color='blue')\n",
    "    ax.set_xlim(X_RANGE)\n",
    "    ax.set_ylim(Y_RANGE)\n",
    "    ax.set_aspect('auto')\n",
    "    ax.set_title(NAME)\n",
    "plot_pop(pop)"
   ]
  },
  {
   "cell_type": "code",
   "execution_count": null,
   "metadata": {},
   "outputs": [],
   "source": []
  }
 ],
 "metadata": {
  "kernelspec": {
   "display_name": "Python 3",
   "language": "python",
   "name": "python3"
  },
  "language_info": {
   "codemirror_mode": {
    "name": "ipython",
    "version": 3
   },
   "file_extension": ".py",
   "mimetype": "text/x-python",
   "name": "python",
   "nbconvert_exporter": "python",
   "pygments_lexer": "ipython3",
   "version": "3.7.6"
  }
 },
 "nbformat": 4,
 "nbformat_minor": 4
}
