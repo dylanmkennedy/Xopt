{
 "cells": [
  {
   "cell_type": "markdown",
   "metadata": {},
   "source": [
    "# Working with Xopt generators\n",
    "\n"
   ]
  },
  {
   "cell_type": "code",
   "execution_count": 1,
   "metadata": {
    "execution": {
     "iopub.execute_input": "2022-07-02T04:16:26.687184Z",
     "iopub.status.busy": "2022-07-02T04:16:26.686764Z",
     "iopub.status.idle": "2022-07-02T04:16:27.371066Z",
     "shell.execute_reply": "2022-07-02T04:16:27.370553Z"
    }
   },
   "outputs": [],
   "source": [
    "# Import the class\n",
    "from xopt.generators import generators, get_generator"
   ]
  },
  {
   "cell_type": "code",
   "execution_count": 2,
   "metadata": {
    "execution": {
     "iopub.execute_input": "2022-07-02T04:16:27.373373Z",
     "iopub.status.busy": "2022-07-02T04:16:27.373055Z",
     "iopub.status.idle": "2022-07-02T04:16:27.378140Z",
     "shell.execute_reply": "2022-07-02T04:16:27.377898Z"
    }
   },
   "outputs": [
    {
     "data": {
      "text/plain": "dict_keys(['random', 'extremum_seeking', 'rcds', 'cnsga', 'upper_confidence_bound', 'mobo', 'bayesian_exploration', 'time_dependent_upper_confidence_bound', 'expected_improvement', 'multi_fidelity', 'mggpo', 'neldermead'])"
     },
     "execution_count": 2,
     "metadata": {},
     "output_type": "execute_result"
    }
   ],
   "source": [
    "# named generators\n",
    "generators.keys()"
   ]
  },
  {
   "cell_type": "code",
   "execution_count": 3,
   "metadata": {
    "collapsed": false,
    "execution": {
     "iopub.execute_input": "2022-07-02T04:16:27.391055Z",
     "iopub.status.busy": "2022-07-02T04:16:27.390924Z",
     "iopub.status.idle": "2022-07-02T04:16:27.392692Z",
     "shell.execute_reply": "2022-07-02T04:16:27.392429Z"
    }
   },
   "outputs": [],
   "source": [
    "# get default options for the upper confidence bound generator\n",
    "generator_type = get_generator(\"upper_confidence_bound\")"
   ]
  },
  {
   "cell_type": "code",
   "execution_count": 4,
   "metadata": {
    "collapsed": false,
    "execution": {
     "iopub.execute_input": "2022-07-02T04:16:27.397162Z",
     "iopub.status.busy": "2022-07-02T04:16:27.397058Z",
     "iopub.status.idle": "2022-07-02T04:16:27.399002Z",
     "shell.execute_reply": "2022-07-02T04:16:27.398783Z"
    }
   },
   "outputs": [],
   "source": [
    "# define vocs for the problem\n",
    "from xopt.vocs import VOCS\n",
    "import math\n",
    "\n",
    "vocs = VOCS(\n",
    "    variables={\"x\": [0, 2 * math.pi]},\n",
    "    objectives={\"f\": \"MINIMIZE\"},\n",
    ")"
   ]
  },
  {
   "cell_type": "code",
   "execution_count": 5,
   "metadata": {
    "collapsed": false,
    "execution": {
     "iopub.execute_input": "2022-07-02T04:16:27.406301Z",
     "iopub.status.busy": "2022-07-02T04:16:27.406216Z",
     "iopub.status.idle": "2022-07-02T04:16:27.408065Z",
     "shell.execute_reply": "2022-07-02T04:16:27.407838Z"
    }
   },
   "outputs": [],
   "source": [
    "# define a test function to optimize\n",
    "import numpy as np\n",
    "\n",
    "\n",
    "def test_function(input_dict):\n",
    "    return {\"f\": np.sin(input_dict[\"x\"])}"
   ]
  },
  {
   "cell_type": "code",
   "execution_count": 6,
   "metadata": {
    "collapsed": false,
    "execution": {
     "iopub.execute_input": "2022-07-02T04:16:27.409553Z",
     "iopub.status.busy": "2022-07-02T04:16:27.409476Z",
     "iopub.status.idle": "2022-07-02T04:16:27.415101Z",
     "shell.execute_reply": "2022-07-02T04:16:27.414850Z"
    }
   },
   "outputs": [
    {
     "data": {
      "text/plain": "XoptOptions(asynch=False, strict=False, dump_file=None, max_evaluations=None)"
     },
     "execution_count": 6,
     "metadata": {},
     "output_type": "execute_result"
    }
   ],
   "source": [
    "# create xopt evaluator and run the optimization\n",
    "from xopt import Evaluator, Xopt\n",
    "\n",
    "evaluator = Evaluator(function=test_function)\n",
    "generator = generator_type(vocs=vocs)\n",
    "X = Xopt(generator=generator, evaluator=evaluator, vocs=vocs)\n",
    "X.options"
   ]
  },
  {
   "cell_type": "code",
   "execution_count": 7,
   "metadata": {
    "collapsed": false,
    "execution": {
     "iopub.execute_input": "2022-07-02T04:16:27.416515Z",
     "iopub.status.busy": "2022-07-02T04:16:27.416431Z",
     "iopub.status.idle": "2022-07-02T04:16:29.427160Z",
     "shell.execute_reply": "2022-07-02T04:16:29.426825Z"
    }
   },
   "outputs": [],
   "source": [
    "# run the optimization for a couple of iterations (see bayes_opt folder for\n",
    "# more examples of ucb)\n",
    "X.random_evaluate(2)\n",
    "for i in range(4):\n",
    "    X.step()"
   ]
  },
  {
   "cell_type": "code",
   "execution_count": 8,
   "metadata": {
    "collapsed": false,
    "execution": {
     "iopub.execute_input": "2022-07-02T04:16:29.429084Z",
     "iopub.status.busy": "2022-07-02T04:16:29.428957Z",
     "iopub.status.idle": "2022-07-02T04:16:29.433765Z",
     "shell.execute_reply": "2022-07-02T04:16:29.433510Z"
    }
   },
   "outputs": [
    {
     "data": {
      "text/plain": "          x         f  xopt_runtime  xopt_error\n1  2.475482  0.617932      0.000013       False\n2  3.729064 -0.554258      0.000002       False\n3  6.129676 -0.152907      0.000007       False\n4  4.721298 -0.999960      0.000006       False\n5  4.448413 -0.965360      0.000007       False\n6  4.784952 -0.997368      0.000007       False",
      "text/html": "<div>\n<style scoped>\n    .dataframe tbody tr th:only-of-type {\n        vertical-align: middle;\n    }\n\n    .dataframe tbody tr th {\n        vertical-align: top;\n    }\n\n    .dataframe thead th {\n        text-align: right;\n    }\n</style>\n<table border=\"1\" class=\"dataframe\">\n  <thead>\n    <tr style=\"text-align: right;\">\n      <th></th>\n      <th>x</th>\n      <th>f</th>\n      <th>xopt_runtime</th>\n      <th>xopt_error</th>\n    </tr>\n  </thead>\n  <tbody>\n    <tr>\n      <th>1</th>\n      <td>2.475482</td>\n      <td>0.617932</td>\n      <td>0.000013</td>\n      <td>False</td>\n    </tr>\n    <tr>\n      <th>2</th>\n      <td>3.729064</td>\n      <td>-0.554258</td>\n      <td>0.000002</td>\n      <td>False</td>\n    </tr>\n    <tr>\n      <th>3</th>\n      <td>6.129676</td>\n      <td>-0.152907</td>\n      <td>0.000007</td>\n      <td>False</td>\n    </tr>\n    <tr>\n      <th>4</th>\n      <td>4.721298</td>\n      <td>-0.999960</td>\n      <td>0.000006</td>\n      <td>False</td>\n    </tr>\n    <tr>\n      <th>5</th>\n      <td>4.448413</td>\n      <td>-0.965360</td>\n      <td>0.000007</td>\n      <td>False</td>\n    </tr>\n    <tr>\n      <th>6</th>\n      <td>4.784952</td>\n      <td>-0.997368</td>\n      <td>0.000007</td>\n      <td>False</td>\n    </tr>\n  </tbody>\n</table>\n</div>"
     },
     "execution_count": 8,
     "metadata": {},
     "output_type": "execute_result"
    }
   ],
   "source": [
    "X.data"
   ]
  },
  {
   "cell_type": "code",
   "execution_count": 8,
   "metadata": {
    "collapsed": false
   },
   "outputs": [],
   "source": []
  },
  {
   "cell_type": "code",
   "execution_count": 8,
   "metadata": {},
   "outputs": [],
   "source": []
  }
 ],
 "metadata": {
  "kernelspec": {
   "display_name": "Python 3.9.13 ('xopt-dev')",
   "language": "python",
   "name": "python3"
  },
  "language_info": {
   "codemirror_mode": {
    "name": "ipython",
    "version": 3
   },
   "file_extension": ".py",
   "mimetype": "text/x-python",
   "name": "python",
   "nbconvert_exporter": "python",
   "pygments_lexer": "ipython3",
   "version": "3.9.13"
  },
  "vscode": {
   "interpreter": {
    "hash": "e3625c9a0de9d330a79359c7c8508d3b9f835fd7259469d66057de346104c5ec"
   }
  }
 },
 "nbformat": 4,
 "nbformat_minor": 4
}
