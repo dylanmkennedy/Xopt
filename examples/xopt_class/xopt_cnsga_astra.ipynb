{
 "cells": [
  {
   "cell_type": "code",
   "execution_count": 1,
   "metadata": {},
   "outputs": [],
   "source": [
    "# Useful for debugging\n",
    "%load_ext autoreload\n",
    "%autoreload 2"
   ]
  },
  {
   "cell_type": "markdown",
   "metadata": {},
   "source": [
    "# Xopt class, Astra kekgun example\n",
    "\n",
    "This is the class method for running Xopt."
   ]
  },
  {
   "cell_type": "code",
   "execution_count": 2,
   "metadata": {},
   "outputs": [],
   "source": [
    "from xopt import Xopt"
   ]
  },
  {
   "cell_type": "code",
   "execution_count": 3,
   "metadata": {},
   "outputs": [
    {
     "name": "stdout",
     "output_type": "stream",
     "text": [
      "mkdir: temp/: File exists\n"
     ]
    }
   ],
   "source": [
    "!mkdir temp/"
   ]
  },
  {
   "cell_type": "code",
   "execution_count": 4,
   "metadata": {},
   "outputs": [
    {
     "data": {
      "text/plain": [
       "{'xopt': {'output_path': 'temp', 'verbose': True, 'algorithm': 'cnsga'},\n",
       " 'algorithm': {'name': 'cnsga',\n",
       "  'options': {'max_generations': 3,\n",
       "   'population_size': 8,\n",
       "   'crossover_probability': 0.9,\n",
       "   'mutation_probability': 1.0,\n",
       "   'selection': 'auto',\n",
       "   'verbose': True,\n",
       "   'population': None}},\n",
       " 'simulation': {'name': 'astra_with_generator',\n",
       "  'evaluate': 'astra.evaluate.evaluate_astra_with_generator'},\n",
       " 'vocs': '../templates/kekgun/kekgun_vocs.yaml'}"
      ]
     },
     "execution_count": 4,
     "metadata": {},
     "output_type": "execute_result"
    }
   ],
   "source": [
    "import yaml\n",
    "\n",
    "# Make a proper input file. \n",
    "\n",
    "YAML=\"\"\"\n",
    "xopt: {output_path: temp, verbose: true,\n",
    "  algorithm: cnsga}\n",
    "  \n",
    "algorithm:\n",
    "  name: cnsga\n",
    "  options: {max_generations: 3, population_size: 8, crossover_probability: 0.9, mutation_probability: 1.0,\n",
    "  selection: auto, verbose: true, population: null}\n",
    "\n",
    "simulation:\n",
    "  name: astra_with_generator\n",
    "  evaluate: astra.evaluate.evaluate_astra_with_generator\n",
    "\n",
    "# Note that you can call another file in the top level group:\n",
    "vocs: ../templates/kekgun/kekgun_vocs.yaml\n",
    "\n",
    "\"\"\"\n",
    "config = yaml.safe_load(YAML)\n",
    "config"
   ]
  },
  {
   "cell_type": "code",
   "execution_count": 5,
   "metadata": {},
   "outputs": [
    {
     "name": "stdout",
     "output_type": "stream",
     "text": [
      "Loading config as dict.\n",
      "Warning: No path set for key simulation : options : archive_path\n"
     ]
    },
    {
     "data": {
      "text/plain": [
       "\n",
       "            Xopt \n",
       "________________________________           \n",
       "Version: 0.4.3\n",
       "Configured: True\n",
       "Config as YAML:\n",
       "xopt: {output_path: /Users/chrisonian/Code/GitHub/xopt/examples/xopt_class/temp, verbose: true,\n",
       "  algorithm: cnsga}\n",
       "algorithm:\n",
       "  name: cnsga\n",
       "  function: xopt.cnsga.cnsga\n",
       "  options: {max_generations: 3, population_size: 8, crossover_probability: 0.9, mutation_probability: 1.0,\n",
       "    selection: auto, verbose: true, population: null, seed: null}\n",
       "simulation:\n",
       "  name: astra_with_generator\n",
       "  evaluate: astra.evaluate.evaluate_astra_with_generator\n",
       "  options: {astra_input_file: /Users/chrisonian/Code/GitHub/xopt/examples/templates/kekgun/kekgun.in,\n",
       "    generator_input_file: /Users/chrisonian/Code/GitHub/xopt/examples/templates/kekgun/dist004.in,\n",
       "    workdir: null, astra_bin: /Users/chrisonian/Code/astra/bin/Astra, generator_bin: /Users/chrisonian/Code/astra/bin/generator,\n",
       "    timeout: 2500, verbose: false, auto_set_spacecharge_mesh: true, archive_path: null,\n",
       "    merit_f: null}\n",
       "vocs:\n",
       "  name: kekgun\n",
       "  description: Test case\n",
       "  simulation: astra_with_generator\n",
       "  templates: {astra_input_file: /Users/chrisonian/Code/GitHub/xopt/examples/templates/kekgun/kekgun.in,\n",
       "    generator_input_file: /Users/chrisonian/Code/GitHub/xopt/examples/templates/kekgun/dist004.in}\n",
       "  variables:\n",
       "    sig_x: [0.05, 1]\n",
       "    lt: [0.005, 0.07]\n",
       "    maxe(1): [20, 50]\n",
       "    phi(1): [-30, 30]\n",
       "    maxb(1): [0, 0.4]\n",
       "    maxe(2): [0, 32]\n",
       "    phi(2): [-180, 180]\n",
       "    maxb(2): [0, 0.3]\n",
       "    maxe(3): [0, 32]\n",
       "    maxe(4): [0, 32]\n",
       "    phi(3): [-45, 45]\n",
       "    phi(4): [-45, 45]\n",
       "    phi(6): [-45, 45]\n",
       "  constants: {ipart: 1000, lspch: true, zstop: 16.54}\n",
       "  objectives: {end_core_emit_95percent_x: MINIMIZE, end_sigma_z: MINIMIZE}\n",
       "  constraints:\n",
       "    end_sigma_z: [LESS_THAN, 0.0015]\n",
       "    end_core_emit_95percent_x: [LESS_THAN, 9.0e-07]\n",
       "    end_sigma_energy: [LESS_THAN, 200000.0]\n",
       "    end_higher_order_energy_spread: [LESS_THAN, 5000.0]\n",
       "    end_mean_kinetic_energy: [GREATER_THAN, 90000000.0]\n",
       "    end_n_particle_loss: [LESS_THAN, 1]\n",
       "  linked_variables: null"
      ]
     },
     "execution_count": 5,
     "metadata": {},
     "output_type": "execute_result"
    }
   ],
   "source": [
    "# Create object\n",
    "X = Xopt(config=config, verbose=True)\n",
    "X"
   ]
  },
  {
   "cell_type": "code",
   "execution_count": 6,
   "metadata": {},
   "outputs": [
    {
     "name": "stdout",
     "output_type": "stream",
     "text": [
      "Loading config as dict.\n",
      "Warning: No path set for key simulation : options : archive_path\n"
     ]
    },
    {
     "data": {
      "text/plain": [
       "\n",
       "            Xopt \n",
       "________________________________           \n",
       "Version: 0.4.3\n",
       "Configured: True\n",
       "Config as YAML:\n",
       "xopt: {output_path: /Users/chrisonian/Code/GitHub/xopt/examples/xopt_class/temp, verbose: true,\n",
       "  algorithm: cnsga}\n",
       "algorithm:\n",
       "  name: cnsga\n",
       "  function: xopt.cnsga.cnsga\n",
       "  options: {max_generations: 3, population_size: 8, crossover_probability: 0.9, mutation_probability: 1.0,\n",
       "    selection: auto, verbose: true, population: null, seed: null}\n",
       "simulation:\n",
       "  name: astra_with_generator\n",
       "  evaluate: astra.evaluate.evaluate_astra_with_generator\n",
       "  options: {astra_input_file: /Users/chrisonian/Code/GitHub/xopt/examples/templates/kekgun/kekgun.in,\n",
       "    generator_input_file: /Users/chrisonian/Code/GitHub/xopt/examples/templates/kekgun/dist004.in,\n",
       "    workdir: null, astra_bin: /Users/chrisonian/Code/astra/bin/Astra, generator_bin: /Users/chrisonian/Code/astra/bin/generator,\n",
       "    timeout: 2500, verbose: false, auto_set_spacecharge_mesh: true, archive_path: null,\n",
       "    merit_f: null}\n",
       "vocs:\n",
       "  name: kekgun\n",
       "  description: Test case\n",
       "  simulation: astra_with_generator\n",
       "  templates: {astra_input_file: /Users/chrisonian/Code/GitHub/xopt/examples/templates/kekgun/kekgun.in,\n",
       "    generator_input_file: /Users/chrisonian/Code/GitHub/xopt/examples/templates/kekgun/dist004.in}\n",
       "  variables:\n",
       "    sig_x: [0.05, 1]\n",
       "    lt: [0.005, 0.07]\n",
       "    maxe(1): [20, 50]\n",
       "    phi(1): [-30, 30]\n",
       "    maxb(1): [0, 0.4]\n",
       "    maxe(2): [0, 32]\n",
       "    phi(2): [-180, 180]\n",
       "    maxb(2): [0, 0.3]\n",
       "    maxe(3): [0, 32]\n",
       "    maxe(4): [0, 32]\n",
       "    phi(3): [-45, 45]\n",
       "    phi(4): [-45, 45]\n",
       "    phi(6): [-45, 45]\n",
       "  constants: {ipart: 1000, lspch: true, zstop: 0.2}\n",
       "  objectives: {end_core_emit_95percent_x: MINIMIZE, end_sigma_z: MINIMIZE}\n",
       "  constraints:\n",
       "    end_sigma_z: [LESS_THAN, 0.0015]\n",
       "    end_core_emit_95percent_x: [LESS_THAN, 9.0e-07]\n",
       "    end_sigma_energy: [LESS_THAN, 200000.0]\n",
       "    end_higher_order_energy_spread: [LESS_THAN, 5000.0]\n",
       "    end_mean_kinetic_energy: [GREATER_THAN, 90000000.0]\n",
       "    end_n_particle_loss: [LESS_THAN, 1]\n",
       "  linked_variables: null"
      ]
     },
     "execution_count": 6,
     "metadata": {},
     "output_type": "execute_result"
    }
   ],
   "source": [
    "# Create object\n",
    "X = Xopt(config=config)\n",
    "\n",
    "# Change some things to make it run faster\n",
    "X.vocs['constants']['lspch'] = True\n",
    "X.vocs['constants']['ipart'] = 1000\n",
    "X.vocs['constants']['zstop'] = 0.2\n",
    "\n",
    "# Show config\n",
    "X"
   ]
  },
  {
   "cell_type": "code",
   "execution_count": 7,
   "metadata": {},
   "outputs": [
    {
     "data": {
      "text/plain": [
       "{'sig_x': 0.6192902760173662,\n",
       " 'lt': 0.024434948855268892,\n",
       " 'maxe(1)': 40.77955852116868,\n",
       " 'phi(1)': 4.844411564740476,\n",
       " 'maxb(1)': 0.1483026113388984,\n",
       " 'maxe(2)': 16.78598494724957,\n",
       " 'phi(2)': -12.86297495612348,\n",
       " 'maxb(2)': 0.23716567319099913,\n",
       " 'maxe(3)': 21.364712246812772,\n",
       " 'maxe(4)': 7.987737667932635,\n",
       " 'phi(3)': 10.379364963719965,\n",
       " 'phi(4)': 28.249608685583098,\n",
       " 'phi(6)': 34.602668807103555,\n",
       " 'ipart': 1000,\n",
       " 'lspch': True,\n",
       " 'zstop': 0.2}"
      ]
     },
     "execution_count": 7,
     "metadata": {},
     "output_type": "execute_result"
    }
   ],
   "source": [
    "# Check random inputs \n",
    "X.random_inputs()"
   ]
  },
  {
   "cell_type": "code",
   "execution_count": 8,
   "metadata": {},
   "outputs": [
    {
     "data": {
      "text/plain": [
       "{'error': False,\n",
       " 'end_mean_z': 0.2,\n",
       " 'end_norm_emit_x': 3.6377e-07,\n",
       " 'end_core_emit_95percent_x': 2.464e-07,\n",
       " 'end_core_emit_90percent_x': 2.0333e-07,\n",
       " 'end_core_emit_80percent_x': 1.3782e-07,\n",
       " 'end_norm_emit_y': 3.619e-07,\n",
       " 'end_core_emit_95percent_y': 2.4596e-07,\n",
       " 'end_core_emit_90percent_y': 2.0308999999999997e-07,\n",
       " 'end_core_emit_80percent_y': 1.3819999999999998e-07,\n",
       " 'end_norm_emit_z': 12.845,\n",
       " 'end_core_emit_95percent_z': 1.0246e-05,\n",
       " 'end_core_emit_905percent_z': 8.504300000000001e-06,\n",
       " 'end_core_emit_80percent_z': 6.086e-06,\n",
       " 'end_mean_t': 7.1444e-10,\n",
       " 'end_mean_x': 1.1971e-06,\n",
       " 'end_sigma_x': 0.00087335,\n",
       " 'end_sigma_xp': 0.0038271000000000004,\n",
       " 'end_cov_x__xp': 3.3419611099999997e-06,\n",
       " 'end_mean_y': 1.9815000000000004e-06,\n",
       " 'end_sigma_y': 0.0008733800000000001,\n",
       " 'end_sigma_yp': 0.003828,\n",
       " 'end_cov_y__yp': 3.3428619500000005e-06,\n",
       " 'end_mean_kinetic_energy': 2996800.0,\n",
       " 'end_sigma_z': 0.0023518,\n",
       " 'end_sigma_energy': 13976.0,\n",
       " 'end_cov_z__energy': -30.255906999999997,\n",
       " 'end_n_particle_loss': 0,\n",
       " 'end_total_charge': 9.989999999999999e-11,\n",
       " 'end_higher_order_energy_spread': 913.3695898555574,\n",
       " 'fingerprint': '2689c557d170a2185d461177f3c8d4d5'}"
      ]
     },
     "execution_count": 8,
     "metadata": {},
     "output_type": "execute_result"
    }
   ],
   "source": [
    "# Evaluate with some particular settings\n",
    "X.evaluate(\n",
    "    {'ipart': 1000,\n",
    " 'lspch': True,\n",
    " 'zstop': 0.2})"
   ]
  },
  {
   "cell_type": "code",
   "execution_count": 9,
   "metadata": {},
   "outputs": [
    {
     "name": "stdout",
     "output_type": "stream",
     "text": [
      "CPU times: user 438 ms, sys: 39.7 ms, total: 478 ms\n",
      "Wall time: 5.62 s\n"
     ]
    },
    {
     "data": {
      "text/plain": [
       "{'error': False,\n",
       " 'end_mean_z': 0.2,\n",
       " 'end_norm_emit_x': 9.677999999999999e-07,\n",
       " 'end_core_emit_95percent_x': 6.483899999999999e-07,\n",
       " 'end_core_emit_90percent_x': 5.2589e-07,\n",
       " 'end_core_emit_80percent_x': 3.6087000000000003e-07,\n",
       " 'end_norm_emit_y': 9.499399999999999e-07,\n",
       " 'end_core_emit_95percent_y': 6.4785e-07,\n",
       " 'end_core_emit_90percent_y': 5.3044e-07,\n",
       " 'end_core_emit_80percent_y': 3.627e-07,\n",
       " 'end_norm_emit_z': 1.4494,\n",
       " 'end_core_emit_95percent_z': 9.469999999999999e-07,\n",
       " 'end_core_emit_905percent_z': 7.7254e-07,\n",
       " 'end_core_emit_80percent_z': 5.3756e-07,\n",
       " 'end_mean_t': 7.274100000000001e-10,\n",
       " 'end_mean_x': -6.1529e-07,\n",
       " 'end_sigma_x': 0.00043968,\n",
       " 'end_sigma_xp': 0.0010781,\n",
       " 'end_cov_x__xp': 4.3989983999999996e-07,\n",
       " 'end_mean_y': -2.8677e-07,\n",
       " 'end_sigma_y': 0.00043937,\n",
       " 'end_sigma_yp': 0.0010735,\n",
       " 'end_cov_y__yp': 4.3868897649999996e-07,\n",
       " 'end_mean_kinetic_energy': 2337100.0,\n",
       " 'end_sigma_z': 0.0009668900000000001,\n",
       " 'end_sigma_energy': 29999.0,\n",
       " 'end_cov_z__energy': 28.969958180000003,\n",
       " 'end_n_particle_loss': 0,\n",
       " 'end_total_charge': 9.989999999999999e-11,\n",
       " 'end_higher_order_energy_spread': 1462.6144637148736,\n",
       " 'fingerprint': '0866fed9b5e84299ff42f94e7fa415c1'}"
      ]
     },
     "execution_count": 9,
     "metadata": {},
     "output_type": "execute_result"
    }
   ],
   "source": [
    "%%time\n",
    "# Do a random evaluate to check that everything will run\n",
    "output = X.random_evaluate()\n",
    "output"
   ]
  },
  {
   "cell_type": "code",
   "execution_count": 10,
   "metadata": {},
   "outputs": [
    {
     "data": {
      "text/plain": [
       "{'max_generations': 3,\n",
       " 'population_size': 8,\n",
       " 'crossover_probability': 0.9,\n",
       " 'mutation_probability': 1.0,\n",
       " 'selection': 'auto',\n",
       " 'verbose': True,\n",
       " 'population': None,\n",
       " 'seed': None}"
      ]
     },
     "execution_count": 10,
     "metadata": {},
     "output_type": "execute_result"
    }
   ],
   "source": [
    "# These are the algorithm options\n",
    "X.algorithm['options']"
   ]
  },
  {
   "cell_type": "code",
   "execution_count": 11,
   "metadata": {},
   "outputs": [
    {
     "data": {
      "text/plain": [
       "{'astra_input_file': '/Users/chrisonian/Code/GitHub/xopt/examples/templates/kekgun/kekgun.in',\n",
       " 'generator_input_file': '/Users/chrisonian/Code/GitHub/xopt/examples/templates/kekgun/dist004.in',\n",
       " 'workdir': None,\n",
       " 'astra_bin': '/Users/chrisonian/Code/astra/bin/Astra',\n",
       " 'generator_bin': '/Users/chrisonian/Code/astra/bin/generator',\n",
       " 'timeout': 2500,\n",
       " 'verbose': False,\n",
       " 'auto_set_spacecharge_mesh': True,\n",
       " 'archive_path': None,\n",
       " 'merit_f': None}"
      ]
     },
     "execution_count": 11,
     "metadata": {},
     "output_type": "execute_result"
    }
   ],
   "source": [
    "# These are the options in the evaluate function\n",
    "X.simulation['options']"
   ]
  },
  {
   "cell_type": "markdown",
   "metadata": {},
   "source": [
    "# Run CNSGA using processes or threads"
   ]
  },
  {
   "cell_type": "code",
   "execution_count": 13,
   "metadata": {},
   "outputs": [],
   "source": [
    "from concurrent.futures import ProcessPoolExecutor as PoolExecutor\n",
    "#from concurrent.futures import ThreadPoolExecutor as PoolExecutor\n",
    "executor = PoolExecutor()"
   ]
  },
  {
   "cell_type": "code",
   "execution_count": 14,
   "metadata": {},
   "outputs": [
    {
     "name": "stdout",
     "output_type": "stream",
     "text": [
      "Loading config as dict.\n",
      "Warning: No path set for key simulation : options : archive_path\n"
     ]
    }
   ],
   "source": [
    "# Create object\n",
    "X = Xopt(config=config)\n",
    "\n",
    "# Change some things to make it run faster\n",
    "X.vocs['constants']['lspch'] = True\n",
    "X.vocs['constants']['ipart'] = 1000\n",
    "X.vocs['constants']['zstop'] = 0.2\n",
    "X.results\n"
   ]
  },
  {
   "cell_type": "code",
   "execution_count": 15,
   "metadata": {},
   "outputs": [
    {
     "name": "stdout",
     "output_type": "stream",
     "text": [
      "Starting at time 2021-08-10T20:16:26-07:00\n",
      "\n",
      "\n",
      "\n",
      " ▄████▄   ███▄    █   ██████   ▄████  ▄▄▄      \n",
      "▒██▀ ▀█   ██ ▀█   █ ▒██    ▒  ██▒ ▀█▒▒████▄    \n",
      "▒▓█    ▄ ▓██  ▀█ ██▒░ ▓██▄   ▒██░▄▄▄░▒██  ▀█▄  \n",
      "▒▓▓▄ ▄██▒▓██▒  ▐▌██▒  ▒   ██▒░▓█  ██▓░██▄▄▄▄██ \n",
      "▒ ▓███▀ ░▒██░   ▓██░▒██████▒▒░▒▓███▀▒ ▓█   ▓██▒\n",
      "░ ░▒ ▒  ░░ ▒░   ▒ ▒ ▒ ▒▓▒ ▒ ░ ░▒   ▒  ▒▒   ▓▒█░\n",
      "  ░  ▒   ░ ░░   ░ ▒░░ ░▒  ░ ░  ░   ░   ▒   ▒▒ ░\n",
      "░           ░   ░ ░ ░  ░  ░  ░ ░   ░   ░   ▒   \n",
      "░ ░               ░       ░        ░       ░  ░\n",
      "░                                              \n",
      "\n",
      "\n",
      "Continuous Non-dominated Sorting Genetic Algorithm\n",
      "Version 0.4.3\n",
      "\n",
      "Creating toolbox from vocs.\n",
      "Created toolbox with 13 variables, 6 constraints, and 2 objectives.\n",
      "    Using selection algorithm: nsga2\n",
      "vocs:\n",
      "{'constants': {'ipart': 1000, 'lspch': True, 'zstop': 0.2},\n",
      " 'constraints': {'end_core_emit_95percent_x': ['LESS_THAN', 9e-07],\n",
      "                 'end_higher_order_energy_spread': ['LESS_THAN', 5000.0],\n",
      "                 'end_mean_kinetic_energy': ['GREATER_THAN', 90000000.0],\n",
      "                 'end_n_particle_loss': ['LESS_THAN', 1],\n",
      "                 'end_sigma_energy': ['LESS_THAN', 200000.0],\n",
      "                 'end_sigma_z': ['LESS_THAN', 0.0015]},\n",
      " 'description': 'Test case',\n",
      " 'linked_variables': None,\n",
      " 'name': 'kekgun',\n",
      " 'objectives': {'end_core_emit_95percent_x': 'MINIMIZE',\n",
      "                'end_sigma_z': 'MINIMIZE'},\n",
      " 'simulation': 'astra_with_generator',\n",
      " 'templates': {'astra_input_file': '/Users/chrisonian/Code/GitHub/xopt/examples/templates/kekgun/kekgun.in',\n",
      "               'generator_input_file': '/Users/chrisonian/Code/GitHub/xopt/examples/templates/kekgun/dist004.in'},\n",
      " 'variables': {'lt': [0.005, 0.07],\n",
      "               'maxb(1)': [0, 0.4],\n",
      "               'maxb(2)': [0, 0.3],\n",
      "               'maxe(1)': [20, 50],\n",
      "               'maxe(2)': [0, 32],\n",
      "               'maxe(3)': [0, 32],\n",
      "               'maxe(4)': [0, 32],\n",
      "               'phi(1)': [-30, 30],\n",
      "               'phi(2)': [-180, 180],\n",
      "               'phi(3)': [-45, 45],\n",
      "               'phi(4)': [-45, 45],\n",
      "               'phi(6)': [-45, 45],\n",
      "               'sig_x': [0.05, 1]}}\n",
      "Initializing with a new population, size 8\n",
      "Maximum generations: 3\n",
      "____________________________________________________\n",
      "8 fitness calculations for initial generation\n",
      "........done.\n",
      "Submitting first batch of children\n",
      "Pop written to /Users/chrisonian/Code/GitHub/xopt/examples/xopt_class/temp/initial_pop_0.json\n",
      ".........done.\n",
      "__________________________________________________________\n",
      "Generation 0 completed in 0.63375 minutes\n",
      "Pop written to /Users/chrisonian/Code/GitHub/xopt/examples/xopt_class/temp/gen_1.json\n",
      "Pop written to /Users/chrisonian/Code/GitHub/xopt/examples/xopt_class/temp/pop_1.json\n",
      "........done.\n",
      "__________________________________________________________\n",
      "Generation 1 completed in 0.38332 minutes\n",
      "Pop written to /Users/chrisonian/Code/GitHub/xopt/examples/xopt_class/temp/gen_2.json\n",
      "Pop written to /Users/chrisonian/Code/GitHub/xopt/examples/xopt_class/temp/pop_2.json\n",
      "........done.\n",
      "__________________________________________________________\n",
      "Generation 2 completed in 0.30699 minutes\n",
      "Pop written to /Users/chrisonian/Code/GitHub/xopt/examples/xopt_class/temp/gen_3.json\n",
      "Pop written to /Users/chrisonian/Code/GitHub/xopt/examples/xopt_class/temp/pop_3.json\n"
     ]
    }
   ],
   "source": [
    "# Run\n",
    "X.run(executor)"
   ]
  },
  {
   "cell_type": "code",
   "execution_count": 16,
   "metadata": {},
   "outputs": [
    {
     "data": {
      "text/plain": [
       "[False, False, False, False, False, False, False, False]"
      ]
     },
     "execution_count": 16,
     "metadata": {},
     "output_type": "execute_result"
    }
   ],
   "source": [
    "# Check for errors\n",
    "X.results['error']"
   ]
  },
  {
   "cell_type": "markdown",
   "metadata": {},
   "source": [
    "# Write this configuration"
   ]
  },
  {
   "cell_type": "code",
   "execution_count": 17,
   "metadata": {},
   "outputs": [
    {
     "name": "stdout",
     "output_type": "stream",
     "text": [
      "Config written as YAML to test.yaml\n"
     ]
    }
   ],
   "source": [
    "X.config['algorithm']['options']['population'] = '/Users/chrisonian/Code/GitHub/xopt/examples/xopt_class/temp/pop_3.json'\n",
    "X.save('test.yaml')"
   ]
  },
  {
   "cell_type": "code",
   "execution_count": 18,
   "metadata": {},
   "outputs": [
    {
     "name": "stdout",
     "output_type": "stream",
     "text": [
      "xopt: {output_path: /Users/chrisonian/Code/GitHub/xopt/examples/xopt_class/temp, verbose: true,\n",
      "  algorithm: cnsga}\n",
      "algorithm:\n",
      "  name: cnsga\n",
      "  function: xopt.cnsga.cnsga\n",
      "  options: {max_generations: 3, population_size: 8, crossover_probability: 0.9, mutation_probability: 1.0,\n",
      "    selection: auto, verbose: true, population: /Users/chrisonian/Code/GitHub/xopt/examples/xopt_class/temp/pop_3.json,\n",
      "    seed: null}\n",
      "simulation:\n",
      "  name: astra_with_generator\n",
      "  evaluate: astra.evaluate.evaluate_astra_with_generator\n",
      "  options: {astra_input_file: /Users/chrisonian/Code/GitHub/xopt/examples/templates/kekgun/kekgun.in,\n",
      "    generator_input_file: /Users/chrisonian/Code/GitHub/xopt/examples/templates/kekgun/dist004.in,\n",
      "    workdir: null, astra_bin: /Users/chrisonian/Code/astra/bin/Astra, generator_bin: /Users/chrisonian/Code/astra/bin/generator,\n",
      "    timeout: 2500, verbose: false, auto_set_spacecharge_mesh: true, archive_path: null,\n",
      "    merit_f: null}\n",
      "vocs:\n",
      "  name: kekgun\n",
      "  description: Test case\n",
      "  simulation: astra_with_generator\n",
      "  templates: {astra_input_file: /Users/chrisonian/Code/GitHub/xopt/examples/templates/kekgun/kekgun.in,\n",
      "    generator_input_file: /Users/chrisonian/Code/GitHub/xopt/examples/templates/kekgun/dist004.in}\n",
      "  variables:\n",
      "    sig_x: [0.05, 1]\n",
      "    lt: [0.005, 0.07]\n",
      "    maxe(1): [20, 50]\n",
      "    phi(1): [-30, 30]\n",
      "    maxb(1): [0, 0.4]\n",
      "    maxe(2): [0, 32]\n",
      "    phi(2): [-180, 180]\n",
      "    maxb(2): [0, 0.3]\n",
      "    maxe(3): [0, 32]\n",
      "    maxe(4): [0, 32]\n",
      "    phi(3): [-45, 45]\n",
      "    phi(4): [-45, 45]\n",
      "    phi(6): [-45, 45]\n",
      "  constants: {ipart: 1000, lspch: true, zstop: 0.2}\n",
      "  objectives: {end_core_emit_95percent_x: MINIMIZE, end_sigma_z: MINIMIZE}\n",
      "  constraints:\n",
      "    end_sigma_z: [LESS_THAN, 0.0015]\n",
      "    end_core_emit_95percent_x: [LESS_THAN, 9.0e-07]\n",
      "    end_sigma_energy: [LESS_THAN, 200000.0]\n",
      "    end_higher_order_energy_spread: [LESS_THAN, 5000.0]\n",
      "    end_mean_kinetic_energy: [GREATER_THAN, 90000000.0]\n",
      "    end_n_particle_loss: [LESS_THAN, 1]\n",
      "  linked_variables: null\n"
     ]
    }
   ],
   "source": [
    "!cat test.yaml"
   ]
  },
  {
   "cell_type": "markdown",
   "metadata": {},
   "source": [
    "# Run with MPI"
   ]
  },
  {
   "cell_type": "code",
   "execution_count": 19,
   "metadata": {},
   "outputs": [
    {
     "name": "stdout",
     "output_type": "stream",
     "text": [
      "  _   \n",
      "                | |  \n",
      "__  _____  _ __ | |_ \n",
      "\\ \\/ / _ \\| '_ \\| __|\n",
      " >  < (_) | |_) | |_ \n",
      "/_/\\_\\___/| .__/ \\__|\n",
      "          | |        \n",
      "          |_|        \n",
      "\n",
      "_________________________________\n",
      "Parallel execution with 4 workers\n",
      "Loading as YAML file: test.yaml\n",
      "Warning: No path set for key simulation : options : archive_path\n",
      "\n",
      "            Xopt \n",
      "________________________________           \n",
      "Version: 0.4.3\n",
      "Configured: True\n",
      "Config as YAML:\n",
      "xopt: {output_path: /Users/chrisonian/Code/GitHub/xopt/examples/xopt_class/temp, verbose: true,\n",
      "  algorithm: cnsga}\n",
      "algorithm:\n",
      "  name: cnsga\n",
      "  function: xopt.cnsga.cnsga\n",
      "  options: {max_generations: 3, population_size: 8, crossover_probability: 0.9, mutation_probability: 1.0,\n",
      "    selection: auto, verbose: true, population: /Users/chrisonian/Code/GitHub/xopt/examples/xopt_class/temp/pop_3.json,\n",
      "    seed: null}\n",
      "simulation:\n",
      "  name: astra_with_generator\n",
      "  evaluate: astra.evaluate.evaluate_astra_with_generator\n",
      "  options: {astra_input_file: /Users/chrisonian/Code/GitHub/xopt/examples/templates/kekgun/kekgun.in,\n",
      "    generator_input_file: /Users/chrisonian/Code/GitHub/xopt/examples/templates/kekgun/dist004.in,\n",
      "    workdir: null, astra_bin: /Users/chrisonian/Code/astra/bin/Astra, generator_bin: /Users/chrisonian/Code/astra/bin/generator,\n",
      "    timeout: 2500, verbose: false, auto_set_spacecharge_mesh: true, archive_path: null,\n",
      "    merit_f: null}\n",
      "vocs:\n",
      "  name: kekgun\n",
      "  description: Test case\n",
      "  simulation: astra_with_generator\n",
      "  templates: {astra_input_file: /Users/chrisonian/Code/GitHub/xopt/examples/templates/kekgun/kekgun.in,\n",
      "    generator_input_file: /Users/chrisonian/Code/GitHub/xopt/examples/templates/kekgun/dist004.in}\n",
      "  variables:\n",
      "    sig_x: [0.05, 1]\n",
      "    lt: [0.005, 0.07]\n",
      "    maxe(1): [20, 50]\n",
      "    phi(1): [-30, 30]\n",
      "    maxb(1): [0, 0.4]\n",
      "    maxe(2): [0, 32]\n",
      "    phi(2): [-180, 180]\n",
      "    maxb(2): [0, 0.3]\n",
      "    maxe(3): [0, 32]\n",
      "    maxe(4): [0, 32]\n",
      "    phi(3): [-45, 45]\n",
      "    phi(4): [-45, 45]\n",
      "    phi(6): [-45, 45]\n",
      "  constants: {ipart: 1000, lspch: true, zstop: 0.2}\n",
      "  objectives: {end_core_emit_95percent_x: MINIMIZE, end_sigma_z: MINIMIZE}\n",
      "  constraints:\n",
      "    end_sigma_z: [LESS_THAN, 0.0015]\n",
      "    end_core_emit_95percent_x: [LESS_THAN, 9.0e-07]\n",
      "    end_sigma_energy: [LESS_THAN, 200000.0]\n",
      "    end_higher_order_energy_spread: [LESS_THAN, 5000.0]\n",
      "    end_mean_kinetic_energy: [GREATER_THAN, 90000000.0]\n",
      "    end_n_particle_loss: [LESS_THAN, 1]\n",
      "  linked_variables: null\n",
      "\n",
      "Starting at time 2021-08-10T20:18:17-07:00\n",
      "\n",
      "\n",
      "\n",
      " ▄████▄   ███▄    █   ██████   ▄████  ▄▄▄      \n",
      "▒██▀ ▀█   ██ ▀█   █ ▒██    ▒  ██▒ ▀█▒▒████▄    \n",
      "▒▓█    ▄ ▓██  ▀█ ██▒░ ▓██▄   ▒██░▄▄▄░▒██  ▀█▄  \n",
      "▒▓▓▄ ▄██▒▓██▒  ▐▌██▒  ▒   ██▒░▓█  ██▓░██▄▄▄▄██ \n",
      "▒ ▓███▀ ░▒██░   ▓██░▒██████▒▒░▒▓███▀▒ ▓█   ▓██▒\n",
      "░ ░▒ ▒  ░░ ▒░   ▒ ▒ ▒ ▒▓▒ ▒ ░ ░▒   ▒  ▒▒   ▓▒█░\n",
      "  ░  ▒   ░ ░░   ░ ▒░░ ░▒  ░ ░  ░   ░   ▒   ▒▒ ░\n",
      "░           ░   ░ ░ ░  ░  ░  ░ ░   ░   ░   ▒   \n",
      "░ ░               ░       ░        ░       ░  ░\n",
      "░                                              \n",
      "\n",
      "\n",
      "Continuous Non-dominated Sorting Genetic Algorithm\n",
      "Version 0.4.3\n",
      "\n",
      "Creating toolbox from vocs.\n",
      "Created toolbox with 13 variables, 6 constraints, and 2 objectives.\n",
      "    Using selection algorithm: nsga2\n",
      "vocs:\n",
      "{'constants': {'ipart': 1000, 'lspch': True, 'zstop': 0.2},\n",
      " 'constraints': {'end_core_emit_95percent_x': ['LESS_THAN', 9e-07],\n",
      "                 'end_higher_order_energy_spread': ['LESS_THAN', 5000.0],\n",
      "                 'end_mean_kinetic_energy': ['GREATER_THAN', 90000000.0],\n",
      "                 'end_n_particle_loss': ['LESS_THAN', 1],\n",
      "                 'end_sigma_energy': ['LESS_THAN', 200000.0],\n",
      "                 'end_sigma_z': ['LESS_THAN', 0.0015]},\n",
      " 'description': 'Test case',\n",
      " 'linked_variables': None,\n",
      " 'name': 'kekgun',\n",
      " 'objectives': {'end_core_emit_95percent_x': 'MINIMIZE',\n",
      "                'end_sigma_z': 'MINIMIZE'},\n",
      " 'simulation': 'astra_with_generator',\n",
      " 'templates': {'astra_input_file': '/Users/chrisonian/Code/GitHub/xopt/examples/templates/kekgun/kekgun.in',\n",
      "               'generator_input_file': '/Users/chrisonian/Code/GitHub/xopt/examples/templates/kekgun/dist004.in'},\n",
      " 'variables': {'lt': [0.005, 0.07],\n",
      "               'maxb(1)': [0, 0.4],\n",
      "               'maxb(2)': [0, 0.3],\n",
      "               'maxe(1)': [20, 50],\n",
      "               'maxe(2)': [0, 32],\n",
      "               'maxe(3)': [0, 32],\n",
      "               'maxe(4)': [0, 32],\n",
      "               'phi(1)': [-30, 30],\n",
      "               'phi(2)': [-180, 180],\n",
      "               'phi(3)': [-45, 45],\n",
      "               'phi(4)': [-45, 45],\n",
      "               'phi(6)': [-45, 45],\n",
      "               'sig_x': [0.05, 1]}}\n",
      "Loading as JSON file: /Users/chrisonian/Code/GitHub/xopt/examples/xopt_class/temp/pop_3.json\n",
      "Initializing with existing population, size 8\n",
      "Maximum generations: 7\n",
      "____________________________________________________\n",
      "8 fitness calculations for initial generation\n",
      "........done.\n",
      "Submitting first batch of children\n",
      "Pop written to /Users/chrisonian/Code/GitHub/xopt/examples/xopt_class/temp/initial_pop_4.json\n",
      ".........done.\n",
      "__________________________________________________________\n",
      "Generation 4 completed in 0.45618 minutes\n",
      "Pop written to /Users/chrisonian/Code/GitHub/xopt/examples/xopt_class/temp/gen_5.json\n",
      "Pop written to /Users/chrisonian/Code/GitHub/xopt/examples/xopt_class/temp/pop_5.json\n",
      "........done.\n",
      "__________________________________________________________\n",
      "Generation 5 completed in 0.46100 minutes\n",
      "Pop written to /Users/chrisonian/Code/GitHub/xopt/examples/xopt_class/temp/gen_6.json\n",
      "Pop written to /Users/chrisonian/Code/GitHub/xopt/examples/xopt_class/temp/pop_6.json\n",
      "........done.\n",
      "__________________________________________________________\n",
      "Generation 6 completed in 0.43052 minutes\n",
      "Pop written to /Users/chrisonian/Code/GitHub/xopt/examples/xopt_class/temp/gen_7.json\n",
      "Pop written to /Users/chrisonian/Code/GitHub/xopt/examples/xopt_class/temp/pop_7.json\n"
     ]
    }
   ],
   "source": [
    "!mpirun -n 4 python -m mpi4py.futures -m xopt.mpi.run test.yaml"
   ]
  },
  {
   "cell_type": "markdown",
   "metadata": {},
   "source": [
    "# Dask "
   ]
  },
  {
   "cell_type": "code",
   "execution_count": 20,
   "metadata": {},
   "outputs": [
    {
     "data": {
      "text/html": [
       "\n",
       "            <div>\n",
       "                <div style=\"\n",
       "                    width: 24px;\n",
       "                    height: 24px;\n",
       "                    background-color: #e1e1e1;\n",
       "                    border: 3px solid #9D9D9D;\n",
       "                    border-radius: 5px;\n",
       "                    position: absolute;\"> </div>\n",
       "                <div style=\"margin-left: 48px;\">\n",
       "                    <h3 style=\"margin-bottom: 0px;\">Client</h3>\n",
       "                    <p style=\"color: #9D9D9D; margin-bottom: 0px;\">Client-0e9d78f0-fa53-11eb-8e59-acde48001122</p>\n",
       "                    <table style=\"width: 100%; text-align: left;\">\n",
       "                    \n",
       "                <tr>\n",
       "                    <td style=\"text-align: left;\"><strong>Connection method:</strong> Cluster object</td>\n",
       "                    <td style=\"text-align: left;\"><strong>Cluster type:</strong> LocalCluster</td>\n",
       "                </tr>\n",
       "                \n",
       "                <tr>\n",
       "                    <td style=\"text-align: left;\">\n",
       "                        <strong>Dashboard: </strong>\n",
       "                        <a href=\"http://127.0.0.1:8787/status\">http://127.0.0.1:8787/status</a>\n",
       "                    </td>\n",
       "                    <td style=\"text-align: left;\"></td>\n",
       "                </tr>\n",
       "                \n",
       "                    </table>\n",
       "                    \n",
       "                <details>\n",
       "                <summary style=\"margin-bottom: 20px;\"><h3 style=\"display: inline;\">Cluster Info</h3></summary>\n",
       "                \n",
       "            <div class=\"jp-RenderedHTMLCommon jp-RenderedHTML jp-mod-trusted jp-OutputArea-output\">\n",
       "                <div style=\"\n",
       "                    width: 24px;\n",
       "                    height: 24px;\n",
       "                    background-color: #e1e1e1;\n",
       "                    border: 3px solid #9D9D9D;\n",
       "                    border-radius: 5px;\n",
       "                    position: absolute;\"> </div>\n",
       "                <div style=\"margin-left: 48px;\">\n",
       "                    <h3 style=\"margin-bottom: 0px; margin-top: 0px;\">LocalCluster</h3>\n",
       "                    <p style=\"color: #9D9D9D; margin-bottom: 0px;\">b9a35b7e</p>\n",
       "                    <table style=\"width: 100%; text-align: left;\">\n",
       "                    \n",
       "            <tr>\n",
       "                <td style=\"text-align: left;\"><strong>Status:</strong> running</td>\n",
       "                <td style=\"text-align: left;\"><strong>Using processes:</strong> True</td>\n",
       "            </tr>\n",
       "        \n",
       "            <tr>\n",
       "                <td style=\"text-align: left;\">\n",
       "                    <strong>Dashboard:</strong> <a href=\"http://127.0.0.1:8787/status\">http://127.0.0.1:8787/status</a>\n",
       "                </td>\n",
       "                <td style=\"text-align: left;\"><strong>Workers:</strong> 4</td>\n",
       "            </tr>\n",
       "            <tr>\n",
       "                <td style=\"text-align: left;\">\n",
       "                    <strong>Total threads:</strong>\n",
       "                    8\n",
       "                </td>\n",
       "                <td style=\"text-align: left;\">\n",
       "                    <strong>Total memory:</strong>\n",
       "                    16.00 GiB\n",
       "                </td>\n",
       "            </tr>\n",
       "        \n",
       "                    </table>\n",
       "                    <details>\n",
       "                    <summary style=\"margin-bottom: 20px;\"><h3 style=\"display: inline;\">Scheduler Info</h3></summary>\n",
       "                    \n",
       "        <div style=\"\">\n",
       "            \n",
       "            <div>\n",
       "                <div style=\"\n",
       "                    width: 24px;\n",
       "                    height: 24px;\n",
       "                    background-color: #FFF7E5;\n",
       "                    border: 3px solid #FF6132;\n",
       "                    border-radius: 5px;\n",
       "                    position: absolute;\"> </div>\n",
       "                <div style=\"margin-left: 48px;\">\n",
       "                    <h3 style=\"margin-bottom: 0px;\">Scheduler</h3>\n",
       "                    <p style=\"color: #9D9D9D; margin-bottom: 0px;\">Scheduler-8b616c27-d589-4c67-b3db-f6f4ed14289a</p>\n",
       "                    <table style=\"width: 100%; text-align: left;\">\n",
       "                        <tr>\n",
       "                            <td style=\"text-align: left;\"><strong>Comm:</strong> tcp://127.0.0.1:57408</td>\n",
       "                            <td style=\"text-align: left;\"><strong>Workers:</strong> 4</td>\n",
       "                        </tr>\n",
       "                        <tr>\n",
       "                            <td style=\"text-align: left;\">\n",
       "                                <strong>Dashboard:</strong> <a href=\"http://127.0.0.1:8787/status\">http://127.0.0.1:8787/status</a>\n",
       "                            </td>\n",
       "                            <td style=\"text-align: left;\">\n",
       "                                <strong>Total threads:</strong>\n",
       "                                8\n",
       "                            </td>\n",
       "                        </tr>\n",
       "                        <tr>\n",
       "                            <td style=\"text-align: left;\">\n",
       "                                <strong>Started:</strong>\n",
       "                                Just now\n",
       "                            </td>\n",
       "                            <td style=\"text-align: left;\">\n",
       "                                <strong>Total memory:</strong>\n",
       "                                16.00 GiB\n",
       "                            </td>\n",
       "                        </tr>\n",
       "                    </table>\n",
       "                </div>\n",
       "            </div>\n",
       "        \n",
       "            <details style=\"margin-left: 48px;\">\n",
       "            <summary style=\"margin-bottom: 20px;\"><h3 style=\"display: inline;\">Workers</h3></summary>\n",
       "            \n",
       "            <div style=\"margin-bottom: 20px;\">\n",
       "                <div style=\"width: 24px;\n",
       "                            height: 24px;\n",
       "                            background-color: #DBF5FF;\n",
       "                            border: 3px solid #4CC9FF;\n",
       "                            border-radius: 5px;\n",
       "                            position: absolute;\"> </div>\n",
       "                <div style=\"margin-left: 48px;\">\n",
       "                <details>\n",
       "                    <summary>\n",
       "                        <h4 style=\"margin-bottom: 0px; display: inline;\">Worker: 0</h4>\n",
       "                    </summary>\n",
       "                    <table style=\"width: 100%; text-align: left;\">\n",
       "                        <tr>\n",
       "                            <td style=\"text-align: left;\"><strong>Comm: </strong> tcp://127.0.0.1:57421</td>\n",
       "                            <td style=\"text-align: left;\"><strong>Total threads: </strong> 2</td>\n",
       "                        </tr>\n",
       "                        <tr>\n",
       "                            <td style=\"text-align: left;\">\n",
       "                                <strong>Dashboard: </strong>\n",
       "                                <a href=\"http://127.0.0.1:57425/status\">http://127.0.0.1:57425/status</a>\n",
       "                            </td>\n",
       "                            <td style=\"text-align: left;\">\n",
       "                                <strong>Memory: </strong>\n",
       "                                4.00 GiB\n",
       "                            </td>\n",
       "                        </tr>\n",
       "                        <tr>\n",
       "                            <td style=\"text-align: left;\"><strong>Nanny: </strong> tcp://127.0.0.1:57410</td>\n",
       "                            <td style=\"text-align: left;\"></td>\n",
       "                        </tr>\n",
       "                        <tr>\n",
       "                            <td colspan=\"2\" style=\"text-align: left;\">\n",
       "                                <strong>Local directory: </strong>\n",
       "                                /Users/chrisonian/Code/GitHub/xopt/examples/xopt_class/dask-worker-space/worker-t30299pk\n",
       "                            </td>\n",
       "                        </tr>\n",
       "                        \n",
       "                        \n",
       "                    </table>\n",
       "                </details>\n",
       "                </div>\n",
       "            </div>\n",
       "            \n",
       "            <div style=\"margin-bottom: 20px;\">\n",
       "                <div style=\"width: 24px;\n",
       "                            height: 24px;\n",
       "                            background-color: #DBF5FF;\n",
       "                            border: 3px solid #4CC9FF;\n",
       "                            border-radius: 5px;\n",
       "                            position: absolute;\"> </div>\n",
       "                <div style=\"margin-left: 48px;\">\n",
       "                <details>\n",
       "                    <summary>\n",
       "                        <h4 style=\"margin-bottom: 0px; display: inline;\">Worker: 1</h4>\n",
       "                    </summary>\n",
       "                    <table style=\"width: 100%; text-align: left;\">\n",
       "                        <tr>\n",
       "                            <td style=\"text-align: left;\"><strong>Comm: </strong> tcp://127.0.0.1:57422</td>\n",
       "                            <td style=\"text-align: left;\"><strong>Total threads: </strong> 2</td>\n",
       "                        </tr>\n",
       "                        <tr>\n",
       "                            <td style=\"text-align: left;\">\n",
       "                                <strong>Dashboard: </strong>\n",
       "                                <a href=\"http://127.0.0.1:57429/status\">http://127.0.0.1:57429/status</a>\n",
       "                            </td>\n",
       "                            <td style=\"text-align: left;\">\n",
       "                                <strong>Memory: </strong>\n",
       "                                4.00 GiB\n",
       "                            </td>\n",
       "                        </tr>\n",
       "                        <tr>\n",
       "                            <td style=\"text-align: left;\"><strong>Nanny: </strong> tcp://127.0.0.1:57411</td>\n",
       "                            <td style=\"text-align: left;\"></td>\n",
       "                        </tr>\n",
       "                        <tr>\n",
       "                            <td colspan=\"2\" style=\"text-align: left;\">\n",
       "                                <strong>Local directory: </strong>\n",
       "                                /Users/chrisonian/Code/GitHub/xopt/examples/xopt_class/dask-worker-space/worker-7fsdzi1_\n",
       "                            </td>\n",
       "                        </tr>\n",
       "                        \n",
       "                        \n",
       "                    </table>\n",
       "                </details>\n",
       "                </div>\n",
       "            </div>\n",
       "            \n",
       "            <div style=\"margin-bottom: 20px;\">\n",
       "                <div style=\"width: 24px;\n",
       "                            height: 24px;\n",
       "                            background-color: #DBF5FF;\n",
       "                            border: 3px solid #4CC9FF;\n",
       "                            border-radius: 5px;\n",
       "                            position: absolute;\"> </div>\n",
       "                <div style=\"margin-left: 48px;\">\n",
       "                <details>\n",
       "                    <summary>\n",
       "                        <h4 style=\"margin-bottom: 0px; display: inline;\">Worker: 2</h4>\n",
       "                    </summary>\n",
       "                    <table style=\"width: 100%; text-align: left;\">\n",
       "                        <tr>\n",
       "                            <td style=\"text-align: left;\"><strong>Comm: </strong> tcp://127.0.0.1:57419</td>\n",
       "                            <td style=\"text-align: left;\"><strong>Total threads: </strong> 2</td>\n",
       "                        </tr>\n",
       "                        <tr>\n",
       "                            <td style=\"text-align: left;\">\n",
       "                                <strong>Dashboard: </strong>\n",
       "                                <a href=\"http://127.0.0.1:57423/status\">http://127.0.0.1:57423/status</a>\n",
       "                            </td>\n",
       "                            <td style=\"text-align: left;\">\n",
       "                                <strong>Memory: </strong>\n",
       "                                4.00 GiB\n",
       "                            </td>\n",
       "                        </tr>\n",
       "                        <tr>\n",
       "                            <td style=\"text-align: left;\"><strong>Nanny: </strong> tcp://127.0.0.1:57413</td>\n",
       "                            <td style=\"text-align: left;\"></td>\n",
       "                        </tr>\n",
       "                        <tr>\n",
       "                            <td colspan=\"2\" style=\"text-align: left;\">\n",
       "                                <strong>Local directory: </strong>\n",
       "                                /Users/chrisonian/Code/GitHub/xopt/examples/xopt_class/dask-worker-space/worker-xd9zcn9o\n",
       "                            </td>\n",
       "                        </tr>\n",
       "                        \n",
       "                        \n",
       "                    </table>\n",
       "                </details>\n",
       "                </div>\n",
       "            </div>\n",
       "            \n",
       "            <div style=\"margin-bottom: 20px;\">\n",
       "                <div style=\"width: 24px;\n",
       "                            height: 24px;\n",
       "                            background-color: #DBF5FF;\n",
       "                            border: 3px solid #4CC9FF;\n",
       "                            border-radius: 5px;\n",
       "                            position: absolute;\"> </div>\n",
       "                <div style=\"margin-left: 48px;\">\n",
       "                <details>\n",
       "                    <summary>\n",
       "                        <h4 style=\"margin-bottom: 0px; display: inline;\">Worker: 3</h4>\n",
       "                    </summary>\n",
       "                    <table style=\"width: 100%; text-align: left;\">\n",
       "                        <tr>\n",
       "                            <td style=\"text-align: left;\"><strong>Comm: </strong> tcp://127.0.0.1:57420</td>\n",
       "                            <td style=\"text-align: left;\"><strong>Total threads: </strong> 2</td>\n",
       "                        </tr>\n",
       "                        <tr>\n",
       "                            <td style=\"text-align: left;\">\n",
       "                                <strong>Dashboard: </strong>\n",
       "                                <a href=\"http://127.0.0.1:57424/status\">http://127.0.0.1:57424/status</a>\n",
       "                            </td>\n",
       "                            <td style=\"text-align: left;\">\n",
       "                                <strong>Memory: </strong>\n",
       "                                4.00 GiB\n",
       "                            </td>\n",
       "                        </tr>\n",
       "                        <tr>\n",
       "                            <td style=\"text-align: left;\"><strong>Nanny: </strong> tcp://127.0.0.1:57412</td>\n",
       "                            <td style=\"text-align: left;\"></td>\n",
       "                        </tr>\n",
       "                        <tr>\n",
       "                            <td colspan=\"2\" style=\"text-align: left;\">\n",
       "                                <strong>Local directory: </strong>\n",
       "                                /Users/chrisonian/Code/GitHub/xopt/examples/xopt_class/dask-worker-space/worker-5yi8apdt\n",
       "                            </td>\n",
       "                        </tr>\n",
       "                        \n",
       "                        \n",
       "                    </table>\n",
       "                </details>\n",
       "                </div>\n",
       "            </div>\n",
       "            \n",
       "            </details>\n",
       "        </div>\n",
       "        \n",
       "                    </details>\n",
       "                </div>\n",
       "            </div>\n",
       "        \n",
       "                </details>\n",
       "                \n",
       "                </div>\n",
       "            </div>\n",
       "        "
      ],
      "text/plain": [
       "<Client: 'tcp://127.0.0.1:57408' processes=4 threads=8, memory=16.00 GiB>"
      ]
     },
     "execution_count": 20,
     "metadata": {},
     "output_type": "execute_result"
    }
   ],
   "source": [
    "from dask.distributed import Client\n",
    "executor = Client()\n",
    "#executor = Client(processes=True)\n",
    "executor"
   ]
  },
  {
   "cell_type": "code",
   "execution_count": 21,
   "metadata": {},
   "outputs": [],
   "source": [
    "# Wait a few seconds for the Dask cluster to start\n",
    "from time import sleep\n",
    "sleep(5)"
   ]
  },
  {
   "cell_type": "code",
   "execution_count": 22,
   "metadata": {},
   "outputs": [
    {
     "name": "stdout",
     "output_type": "stream",
     "text": [
      "Starting at time 2021-08-10T20:20:27-07:00\n",
      "\n",
      "\n",
      "\n",
      " ▄████▄   ███▄    █   ██████   ▄████  ▄▄▄      \n",
      "▒██▀ ▀█   ██ ▀█   █ ▒██    ▒  ██▒ ▀█▒▒████▄    \n",
      "▒▓█    ▄ ▓██  ▀█ ██▒░ ▓██▄   ▒██░▄▄▄░▒██  ▀█▄  \n",
      "▒▓▓▄ ▄██▒▓██▒  ▐▌██▒  ▒   ██▒░▓█  ██▓░██▄▄▄▄██ \n",
      "▒ ▓███▀ ░▒██░   ▓██░▒██████▒▒░▒▓███▀▒ ▓█   ▓██▒\n",
      "░ ░▒ ▒  ░░ ▒░   ▒ ▒ ▒ ▒▓▒ ▒ ░ ░▒   ▒  ▒▒   ▓▒█░\n",
      "  ░  ▒   ░ ░░   ░ ▒░░ ░▒  ░ ░  ░   ░   ▒   ▒▒ ░\n",
      "░           ░   ░ ░ ░  ░  ░  ░ ░   ░   ░   ▒   \n",
      "░ ░               ░       ░        ░       ░  ░\n",
      "░                                              \n",
      "\n",
      "\n",
      "Continuous Non-dominated Sorting Genetic Algorithm\n",
      "Version 0.4.3\n",
      "\n",
      "Creating toolbox from vocs.\n",
      "Warning: Redefining creator.MyFitness\n",
      "Warning in cnsga_toolbox: Redefining creator.Individual\n",
      "Created toolbox with 13 variables, 6 constraints, and 2 objectives.\n",
      "    Using selection algorithm: nsga2\n",
      "vocs:\n",
      "{'constants': {'ipart': 1000, 'lspch': True, 'zstop': 0.2},\n",
      " 'constraints': {'end_core_emit_95percent_x': ['LESS_THAN', 9e-07],\n",
      "                 'end_higher_order_energy_spread': ['LESS_THAN', 5000.0],\n",
      "                 'end_mean_kinetic_energy': ['GREATER_THAN', 90000000.0],\n",
      "                 'end_n_particle_loss': ['LESS_THAN', 1],\n",
      "                 'end_sigma_energy': ['LESS_THAN', 200000.0],\n",
      "                 'end_sigma_z': ['LESS_THAN', 0.0015]},\n",
      " 'description': 'Test case',\n",
      " 'linked_variables': None,\n",
      " 'name': 'kekgun',\n",
      " 'objectives': {'end_core_emit_95percent_x': 'MINIMIZE',\n",
      "                'end_sigma_z': 'MINIMIZE'},\n",
      " 'simulation': 'astra_with_generator',\n",
      " 'templates': {'astra_input_file': '/Users/chrisonian/Code/GitHub/xopt/examples/templates/kekgun/kekgun.in',\n",
      "               'generator_input_file': '/Users/chrisonian/Code/GitHub/xopt/examples/templates/kekgun/dist004.in'},\n",
      " 'variables': {'lt': [0.005, 0.07],\n",
      "               'maxb(1)': [0, 0.4],\n",
      "               'maxb(2)': [0, 0.3],\n",
      "               'maxe(1)': [20, 50],\n",
      "               'maxe(2)': [0, 32],\n",
      "               'maxe(3)': [0, 32],\n",
      "               'maxe(4)': [0, 32],\n",
      "               'phi(1)': [-30, 30],\n",
      "               'phi(2)': [-180, 180],\n",
      "               'phi(3)': [-45, 45],\n",
      "               'phi(4)': [-45, 45],\n",
      "               'phi(6)': [-45, 45],\n",
      "               'sig_x': [0.05, 1]}}\n",
      "Loading config as dict.\n",
      "Initializing with existing population, size 8\n",
      "Maximum generations: 7\n",
      "____________________________________________________\n",
      "8 fitness calculations for initial generation\n",
      "........done.\n",
      "Submitting first batch of children\n",
      "Pop written to /Users/chrisonian/Code/GitHub/xopt/examples/xopt_class/temp/initial_pop_4.json\n",
      ".........done.\n",
      "__________________________________________________________\n",
      "Generation 4 completed in 0.65988 minutes\n",
      "Pop written to /Users/chrisonian/Code/GitHub/xopt/examples/xopt_class/temp/gen_5.json\n",
      "Pop written to /Users/chrisonian/Code/GitHub/xopt/examples/xopt_class/temp/pop_5.json\n",
      "........done.\n",
      "__________________________________________________________\n",
      "Generation 5 completed in 0.34258 minutes\n",
      "Pop written to /Users/chrisonian/Code/GitHub/xopt/examples/xopt_class/temp/gen_6.json\n",
      "Pop written to /Users/chrisonian/Code/GitHub/xopt/examples/xopt_class/temp/pop_6.json\n",
      "........done.\n",
      "__________________________________________________________\n",
      "Generation 6 completed in 0.31340 minutes\n",
      "Pop written to /Users/chrisonian/Code/GitHub/xopt/examples/xopt_class/temp/gen_7.json\n",
      "Pop written to /Users/chrisonian/Code/GitHub/xopt/examples/xopt_class/temp/pop_7.json\n"
     ]
    }
   ],
   "source": [
    "# Run again\n",
    "X.run(executor)"
   ]
  },
  {
   "cell_type": "code",
   "execution_count": 23,
   "metadata": {},
   "outputs": [
    {
     "data": {
      "text/plain": [
       "[False, False, False, False, False, False, False, False]"
      ]
     },
     "execution_count": 23,
     "metadata": {},
     "output_type": "execute_result"
    }
   ],
   "source": [
    "X.results['error']"
   ]
  },
  {
   "cell_type": "markdown",
   "metadata": {},
   "source": [
    "# Cleanup"
   ]
  },
  {
   "cell_type": "code",
   "execution_count": 24,
   "metadata": {},
   "outputs": [],
   "source": [
    "!rm -r dask-worker-space"
   ]
  },
  {
   "cell_type": "code",
   "execution_count": 25,
   "metadata": {},
   "outputs": [],
   "source": [
    "!rm test.yaml"
   ]
  },
  {
   "cell_type": "code",
   "execution_count": 26,
   "metadata": {},
   "outputs": [],
   "source": [
    "!rm -r temp"
   ]
  },
  {
   "cell_type": "code",
   "execution_count": 27,
   "metadata": {},
   "outputs": [
    {
     "name": "stdout",
     "output_type": "stream",
     "text": [
      "rm: NORRAN: No such file or directory\n"
     ]
    }
   ],
   "source": [
    "!rm NORRAN"
   ]
  }
 ],
 "metadata": {
  "kernelspec": {
   "display_name": "Python 3 (ipykernel)",
   "language": "python",
   "name": "python3"
  },
  "language_info": {
   "codemirror_mode": {
    "name": "ipython",
    "version": 3
   },
   "file_extension": ".py",
   "mimetype": "text/x-python",
   "name": "python",
   "nbconvert_exporter": "python",
   "pygments_lexer": "ipython3",
   "version": "3.9.2"
  }
 },
 "nbformat": 4,
 "nbformat_minor": 4
}
