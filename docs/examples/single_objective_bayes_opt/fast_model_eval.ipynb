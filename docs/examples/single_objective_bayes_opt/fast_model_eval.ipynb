{
 "cells": [
  {
   "cell_type": "markdown",
   "id": "1025b9a3653a65a7",
   "metadata": {},
   "source": "# Fast GP model evaluation"
  },
  {
   "cell_type": "markdown",
   "id": "cc7e5ad0613179cf",
   "metadata": {},
   "source": [
    "For visualization in tools like Badger, same model is frequently reused many times. It is possible to use advanced\n",
    "PyTorch functionality to speed up the evaluation of the model and acquisition function. This comes with many caveats\n",
    "that limit the flexibility and dynamic/conditional features. As a general rule, if any non-tensor model parameter is\n",
    "changed, objects must be recompiled."
   ]
  },
  {
   "cell_type": "code",
   "id": "initial_id",
   "metadata": {
    "collapsed": true
   },
   "source": [
    "from copy import deepcopy\n",
    "from xopt import Xopt, Evaluator\n",
    "from xopt.generators.bayesian import UpperConfidenceBoundGenerator\n",
    "from xopt.resources.test_functions.tnk import evaluate_TNK, tnk_vocs\n",
    "\n",
    "# Ignore all warnings\n",
    "import warnings\n",
    "\n",
    "warnings.filterwarnings(\"ignore\")\n",
    "\n",
    "vocs = deepcopy(tnk_vocs)\n",
    "vocs.objectives = {\"y2\": \"MINIMIZE\"}\n",
    "\n",
    "generator = UpperConfidenceBoundGenerator(vocs=vocs)\n",
    "generator.use_cuda = True\n",
    "\n",
    "evaluator = Evaluator(function=evaluate_TNK)\n",
    "\n",
    "X = Xopt(generator=generator, evaluator=evaluator, vocs=vocs)\n",
    "generator = X.generator"
   ],
   "outputs": [],
   "execution_count": null
  },
  {
   "cell_type": "code",
   "id": "4e83a8ad3ff67fe6",
   "metadata": {},
   "source": [
    "# add a lot of points, slowing down model\n",
    "X.random_evaluate(1000);"
   ],
   "outputs": [],
   "execution_count": null
  },
  {
   "cell_type": "code",
   "id": "3d41fe15f758e839",
   "metadata": {},
   "source": "X.generator.train_model();",
   "outputs": [],
   "execution_count": null
  },
  {
   "metadata": {},
   "cell_type": "code",
   "source": "m = deepcopy(X.generator.model)",
   "id": "58bf20e09688dba6",
   "outputs": [],
   "execution_count": null
  },
  {
   "metadata": {},
   "cell_type": "code",
   "source": [
    "fig, ax = X.generator.visualize_model(n_grid=30,\n",
    "                                      output_names=[\"y2\"],\n",
    "                                      show_acquisition=False, show_samples=False)"
   ],
   "id": "dd3af5e935e15b1c",
   "outputs": [],
   "execution_count": null
  },
  {
   "metadata": {},
   "cell_type": "code",
   "source": "X.generator.model = m",
   "id": "af23d2ac1112ebf",
   "outputs": [],
   "execution_count": null
  },
  {
   "cell_type": "code",
   "id": "cb360c48826d3ff4",
   "metadata": {},
   "source": [
    "# first call does tracing\n",
    "fig, ax = X.generator.visualize_model(n_grid=30, model_compile_mode=\"trace\", output_names=[\"y2\"],\n",
    "                                      show_acquisition=False, show_samples=False)"
   ],
   "outputs": [],
   "execution_count": null
  },
  {
   "metadata": {},
   "cell_type": "code",
   "source": [
    "# second invocation uses a pre-traced model and is a tiny bit faster (most of walltime is used by plotting)\n",
    "fig, ax = X.generator.visualize_model(n_grid=30, model_compile_mode=\"trace\", output_names=[\"y2\"],\n",
    "                                      show_acquisition=False, show_samples=False)"
   ],
   "id": "f0697f9465d346d8",
   "outputs": [],
   "execution_count": null
  },
  {
   "metadata": {},
   "cell_type": "code",
   "source": "",
   "id": "2729a8de2b53692",
   "outputs": [],
   "execution_count": null
  }
 ],
 "metadata": {
  "kernelspec": {
   "display_name": "Python 3",
   "language": "python",
   "name": "python3"
  },
  "language_info": {
   "codemirror_mode": {
    "name": "ipython",
    "version": 2
   },
   "file_extension": ".py",
   "mimetype": "text/x-python",
   "name": "python",
   "nbconvert_exporter": "python",
   "pygments_lexer": "ipython2",
   "version": "2.7.6"
  }
 },
 "nbformat": 4,
 "nbformat_minor": 5
}
