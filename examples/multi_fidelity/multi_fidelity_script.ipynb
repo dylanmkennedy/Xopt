{
 "cells": [
  {
   "cell_type": "markdown",
   "id": "d36e79eb-4e48-490d-84bd-201e08adf85e",
   "metadata": {},
   "source": [
    "## Optimize a multi-fidelity test function using Knowledge Gradient https://botorch.org/tutorials/multi_fidelity_bo"
   ]
  },
  {
   "cell_type": "code",
   "execution_count": 1,
   "id": "1470283c-3554-4717-a6f2-46d4e9cba260",
   "metadata": {},
   "outputs": [],
   "source": [
    "# test function\n",
    "from xopt.evaluators import test_multi_fidelity\n",
    "from xopt.bayesian.algorithms import multi_fidelity_optimize\n",
    "from xopt.bayesian.generators.multi_fidelity import MultiFidelityGenerator\n",
    "from xopt.bayesian.models.multi_fidelity import generate_multi_fidelity_model\n",
    "from botorch.test_functions.multi_fidelity import AugmentedHartmann\n"
   ]
  },
  {
   "cell_type": "code",
   "execution_count": 2,
   "id": "e4c85390-65b3-498a-8608-25a9c6a6ce1e",
   "metadata": {},
   "outputs": [
    {
     "name": "stdout",
     "output_type": "stream",
     "text": [
      "{'name': 'AugmentedHartmann', 'description': 'Augmented hartmann multi-fideldity optimization problem, provided by botorch, see https://botorch.org/tutorials/multi_fidelity_bo', 'simulation': 'AugmentedHartmann', 'variables': {'x1': [0, 1.0], 'x2': [0, 1.0], 'x3': [0, 1.0], 'x4': [0, 1.0], 'x5': [0, 1.0], 'x6': [0, 1.0], 'cost': [0, 1.0]}, 'objectives': {'y1': 'MINIMIZE'}, 'constraints': {}, 'constants': {}}\n"
     ]
    }
   ],
   "source": [
    "# Get VOCS\n",
    "VOCS = test_multi_fidelity.VOCS\n",
    "\n",
    "print(VOCS)\n",
    "# Get evaluate function\n",
    "EVALUATE = test_multi_fidelity.evaluate\n",
    "\n",
    "# VOCS['variables']['x1'] = [0, 4]  # Extent to occasionally throw an exception\n",
    "\n",
    "# Run\n",
    "\n",
    "results = multi_fidelity_optimize(VOCS, EVALUATE,\n",
    "                                  n_initial_samples = 16,\n",
    "                                  generator_options = {'batch_size': 4},\n",
    "                                  use_gpu = False,\n",
    "                                  n_steps=6, verbose=False)\n"
   ]
  },
  {
   "cell_type": "markdown",
   "id": "5abd2557-0ea9-44f2-89f4-2455865012ba",
   "metadata": {},
   "source": [
    "## Make prediction of best point at highest fidelity setting"
   ]
  },
  {
   "cell_type": "code",
   "execution_count": 3,
   "id": "fca3c034-5154-43d2-9e9b-341eb76d3d4f",
   "metadata": {},
   "outputs": [],
   "source": [
    "# create generator object\n",
    "gen = MultiFidelityGenerator()"
   ]
  },
  {
   "cell_type": "code",
   "execution_count": 4,
   "id": "8bd6bd86-7996-458b-93de-a86ed53e81d1",
   "metadata": {},
   "outputs": [],
   "source": [
    "# create model\n",
    "model = generate_multi_fidelity_model(results['variables'], results['corrected_objectives'], results['corrected_constraints'], VOCS)"
   ]
  },
  {
   "cell_type": "code",
   "execution_count": 5,
   "id": "00ab2914-a95d-4ea0-bdd8-cc00ac765234",
   "metadata": {},
   "outputs": [
    {
     "data": {
      "text/plain": [
       "tensor([-3.3183])"
      ]
     },
     "execution_count": 5,
     "metadata": {},
     "output_type": "execute_result"
    }
   ],
   "source": [
    "rec = gen.get_recommendation(model, VOCS)\n",
    "problem = AugmentedHartmann(negate=False)\n",
    "problem(rec)"
   ]
  },
  {
   "cell_type": "code",
   "execution_count": null,
   "id": "af33a8b5-ed82-4a14-aa24-62214f969d8b",
   "metadata": {},
   "outputs": [],
   "source": []
  }
 ],
 "metadata": {
  "kernelspec": {
   "display_name": "xopt",
   "language": "python",
   "name": "xopt"
  },
  "language_info": {
   "codemirror_mode": {
    "name": "ipython",
    "version": 3
   },
   "file_extension": ".py",
   "mimetype": "text/x-python",
   "name": "python",
   "nbconvert_exporter": "python",
   "pygments_lexer": "ipython3",
   "version": "3.9.6"
  }
 },
 "nbformat": 4,
 "nbformat_minor": 5
}
