{
 "cells": [
  {
   "cell_type": "markdown",
   "metadata": {},
   "source": [
    "# Bayesian Exploration with Xopt - with restart file"
   ]
  },
  {
   "cell_type": "markdown",
   "metadata": {},
   "source": [
    "## TNK test function\n",
    "\n",
    "This is the class method for running Xopt. Use Bayesian exploration to explore the input space.\n",
    "\n",
    "TNK function\n",
    "$n=2$ variables:\n",
    "$x_i \\in [0, \\pi], i=1,2$\n",
    "\n",
    "Objectives:\n",
    "- $f_i(x) = x_i$\n",
    "\n",
    "Constraints:\n",
    "- $g_1(x) = -x_1^2 -x_2^2 + 1 + 0.1 \\cos\\left(16 \\arctan \\frac{x_1}{x_2}\\right) \\le 0$\n",
    "- $g_2(x) = (x_1 - 1/2)^2 + (x_2-1/2)^2 \\le 0.5$"
   ]
  },
  {
   "cell_type": "code",
   "execution_count": 1,
   "metadata": {},
   "outputs": [],
   "source": [
    "# Import the class\n",
    "from xopt import Xopt\n",
    "\n",
    "import os\n",
    "SMOKE_TEST = os.environ.get('SMOKE_TEST')"
   ]
  },
  {
   "cell_type": "code",
   "execution_count": 2,
   "metadata": {},
   "outputs": [],
   "source": [
    "# To see log messages\n",
    "from xopt import output_notebook\n",
    "output_notebook()"
   ]
  },
  {
   "cell_type": "markdown",
   "metadata": {},
   "source": [
    "The `Xopt` object can be instantiated from a JSON or YAML file, or a dict, with the proper structure.\n",
    "\n",
    "Here we will make one"
   ]
  },
  {
   "cell_type": "code",
   "execution_count": 3,
   "metadata": {},
   "outputs": [],
   "source": [
    "import yaml\n",
    "# Make a proper input file. \n",
    "YAML=\"\"\"\n",
    "xopt: {output_path: null}\n",
    "\n",
    "algorithm:\n",
    "  name: bayesian_exploration\n",
    "  options:  \n",
    "      n_initial_samples: 5\n",
    "      n_steps: 1\n",
    "      generator_options:                     ## options for bayesian exploration acquisition function\n",
    "          batch_size: 1                      ## batch size for parallelized optimization\n",
    "          #sigma: [0.1, 0.1]   ## proximal biasing term\n",
    "\n",
    "  \n",
    "simulation: \n",
    "  name: test_TNK\n",
    "  evaluate: xopt.tests.evaluators.TNK.evaluate_TNK\n",
    "  \n",
    "vocs:\n",
    "  name: TNK_test\n",
    "  variables:\n",
    "    x1: [0, 3.14159]\n",
    "    x2: [0, 3.14159]\n",
    "  objectives: {y1: None}\n",
    "  constraints:\n",
    "    c1: [GREATER_THAN, 0]\n",
    "    c2: ['LESS_THAN', 0.5]\n",
    "  linked_variables: {}\n",
    "  constants: {a: dummy_constant}\n",
    "\n",
    "\"\"\"\n",
    "config = yaml.safe_load(YAML)\n",
    "\n",
    "if SMOKE_TEST:\n",
    "    config['algorithm']['options']['n_steps'] = 3\n",
    "    config['algorithm']['options']['generator_options']['num_restarts'] = 2\n",
    "    config['algorithm']['options']['generator_options']['raw_samples'] = 2"
   ]
  },
  {
   "cell_type": "code",
   "execution_count": 4,
   "metadata": {},
   "outputs": [
    {
     "name": "stdout",
     "output_type": "stream",
     "text": [
      "Loading config from dict.\n",
      "Loading config from dict.\n",
      "Loading config from dict.\n",
      "Loading config from dict.\n",
      "Loading config from dict.\n",
      "`name` keyword no longer allowed in vocs config, removing\n",
      "Warning: No path set for key xopt : output_path\n"
     ]
    },
    {
     "data": {
      "text/plain": "\n            Xopt \n________________________________           \nVersion: 0.5.0+3.g31c23b5.dirty\nConfigured: True\nConfig as YAML:\nxopt: {output_path: null}\nalgorithm:\n  name: bayesian_exploration\n  options:\n    n_initial_samples: 5\n    n_steps: 1\n    generator_options: {batch_size: 1}\n  function: xopt.bayesian.algorithms.bayesian_exploration\nsimulation:\n  name: test_TNK\n  evaluate: xopt.tests.evaluators.TNK.evaluate_TNK\n  options: {extra_option: abc}\nvocs:\n  variables:\n    x1: [0, 3.14159]\n    x2: [0, 3.14159]\n  objectives: {y1: None}\n  constraints:\n    c1: [GREATER_THAN, 0]\n    c2: [LESS_THAN, 0.5]\n  linked_variables: {}\n  constants: {a: dummy_constant}"
     },
     "execution_count": 4,
     "metadata": {},
     "output_type": "execute_result"
    }
   ],
   "source": [
    "X = Xopt(config)\n",
    "X"
   ]
  },
  {
   "cell_type": "markdown",
   "metadata": {},
   "source": [
    "# Run BayesOpt"
   ]
  },
  {
   "cell_type": "code",
   "execution_count": 5,
   "metadata": {},
   "outputs": [],
   "source": [
    "# Pick one of these\n",
    "from concurrent.futures import ThreadPoolExecutor as PoolExecutor\n",
    "#from concurrent.futures import ProcessPoolExecutor as PoolExecutor\n",
    "\n",
    "executor = PoolExecutor()\n",
    "# This will also work. \n",
    "#executor=None"
   ]
  },
  {
   "cell_type": "code",
   "execution_count": 6,
   "metadata": {},
   "outputs": [
    {
     "name": "stdout",
     "output_type": "stream",
     "text": [
      "Starting at time 2021-12-01T10:55:37-06:00\n",
      "started running optimization with generator: <xopt.bayesian.generators.exploration.BayesianExplorationGenerator object at 0x000001489E6237C0>\n",
      "submitting initial candidates\n",
      "starting optimization loop\n",
      "submitting candidates\n"
     ]
    }
   ],
   "source": [
    "# Change max generations\n",
    "X.run(executor=executor)"
   ]
  },
  {
   "cell_type": "markdown",
   "source": [
    "## Use restart file\n",
    "Use a restart file to run the rest of bayesian exploration."
   ],
   "metadata": {
    "collapsed": false,
    "pycharm": {
     "name": "#%% md\n"
    }
   }
  },
  {
   "cell_type": "code",
   "execution_count": 7,
   "outputs": [
    {
     "name": "stdout",
     "output_type": "stream",
     "text": [
      "Loading config from dict.\n",
      "Loading config from dict.\n",
      "Loading config from dict.\n",
      "Loading config from dict.\n",
      "Loading config from dict.\n",
      "`name` keyword no longer allowed in vocs config, removing\n",
      "Warning: No path set for key xopt : output_path\n",
      "Starting at time 2021-12-01T10:55:38-06:00\n",
      "started running optimization with generator: <xopt.bayesian.generators.exploration.BayesianExplorationGenerator object at 0x0000014895A24CD0>\n",
      "starting optimization loop\n",
      "submitting candidates\n",
      "submitting candidates\n",
      "submitting candidates\n",
      "submitting candidates\n",
      "submitting candidates\n",
      "submitting candidates\n",
      "submitting candidates\n",
      "submitting candidates\n",
      "submitting candidates\n",
      "submitting candidates\n",
      "submitting candidates\n",
      "submitting candidates\n",
      "submitting candidates\n",
      "submitting candidates\n",
      "submitting candidates\n",
      "submitting candidates\n",
      "submitting candidates\n",
      "submitting candidates\n",
      "submitting candidates\n",
      "submitting candidates\n",
      "submitting candidates\n",
      "submitting candidates\n",
      "submitting candidates\n",
      "submitting candidates\n",
      "submitting candidates\n"
     ]
    }
   ],
   "source": [
    "config['algorithm']['options']['restart_file'] = 'results.json'\n",
    "config['algorithm']['options']['n_steps'] = 25\n",
    "X = Xopt(config)\n",
    "X.run()"
   ],
   "metadata": {
    "collapsed": false,
    "pycharm": {
     "name": "#%%\n"
    }
   }
  },
  {
   "cell_type": "markdown",
   "metadata": {},
   "source": [
    "# Plot\n",
    "- plot input space samples -> yellow points satisfy constraints and purple points do not"
   ]
  },
  {
   "cell_type": "code",
   "execution_count": 8,
   "metadata": {},
   "outputs": [
    {
     "name": "stdout",
     "output_type": "stream",
     "text": [
      "dict_keys(['variables', 'objectives', 'corrected_objectives', 'constraint_status', 'feasibility', 'model', 'constraints', 'corrected_constraints'])\n"
     ]
    },
    {
     "data": {
      "text/plain": "<Figure size 432x288 with 1 Axes>",
      "image/png": "[encoded data removed]"
     },
     "metadata": {
      "needs_background": "light"
     },
     "output_type": "display_data"
    }
   ],
   "source": [
    "import matplotlib.pyplot as plt\n",
    "%matplotlib inline\n",
    "\n",
    "# plot exploration results and path - exploration should explore the feasible region of the TNK problem - See Table V in https://www.iitk.ac.in/kangal/Deb_NSGA-II.pdf\n",
    "fig, ax = plt.subplots()\n",
    "\n",
    "results = X.results\n",
    "print(results.keys())\n",
    "variables = results['variables']\n",
    "valid = results['variables'][results['feasibility'].flatten()]\n",
    "ax.plot(variables[:, 0], variables[:, 1], '-o', label = 'all')\n",
    "ax.plot(valid[:, 0], valid[:, 1], 'o', label = 'valid')\n",
    "ax.set_xlabel('$x_1$')\n",
    "ax.set_ylabel('$x_2$')\n",
    "ax.legend()\n",
    "\n",
    "plt.show()"
   ]
  }
 ],
 "metadata": {
  "kernelspec": {
   "name": "xopt",
   "language": "python",
   "display_name": "xopt"
  },
  "language_info": {
   "codemirror_mode": {
    "name": "ipython",
    "version": 3
   },
   "file_extension": ".py",
   "mimetype": "text/x-python",
   "name": "python",
   "nbconvert_exporter": "python",
   "pygments_lexer": "ipython3",
   "version": "3.9.7"
  }
 },
 "nbformat": 4,
 "nbformat_minor": 4
}