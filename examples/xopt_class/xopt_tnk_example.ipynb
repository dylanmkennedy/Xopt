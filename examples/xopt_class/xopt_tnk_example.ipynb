{
 "cells": [
  {
   "cell_type": "code",
   "execution_count": 1,
   "metadata": {},
   "outputs": [],
   "source": [
    "# Useful for debugging\n",
    "%load_ext autoreload\n",
    "%autoreload 2"
   ]
  },
  {
   "cell_type": "markdown",
   "metadata": {},
   "source": [
    "# Xopt class, TNK test function\n",
    "\n",
    "This is the class method for running Xopt.\n",
    "\n",
    "TNK function\n",
    "$n=2$ variables:\n",
    "$x_i \\in [0, \\pi], i=1,2$\n",
    "\n",
    "Objectives:\n",
    "- $f_i(x) = x_i$\n",
    "\n",
    "Constraints:\n",
    "- $g_1(x) = -x_1^2 -x_2^2 + 1 + 0.1 \\cos\\left(16 \\arctan \\frac{x_1}{x_2}\\right) \\le 0$\n",
    "- $g_2(x) = (x_1 - 1/2)^2 + (x_2-1/2)^2 \\le 0.5$"
   ]
  },
  {
   "cell_type": "code",
   "execution_count": 2,
   "metadata": {},
   "outputs": [],
   "source": [
    "# Import the class\n",
    "from xopt import Xopt"
   ]
  },
  {
   "cell_type": "markdown",
   "metadata": {},
   "source": [
    "The `Xopt` object can be instantiated from a JSON or YAML file, or a dict, with the proper structure.\n",
    "\n",
    "Here we will make one"
   ]
  },
  {
   "cell_type": "code",
   "execution_count": 3,
   "metadata": {},
   "outputs": [],
   "source": [
    "import yaml\n",
    "# Make a proper input file. \n",
    "YAML=\"\"\"\n",
    "xopt: {output_path: null, verbose: true, algorithm: cnsga}\n",
    "\n",
    "algorithm:\n",
    "  name: cnsga\n",
    "  options: {max_generations: 50, population_size: 128, crossover_probability: 0.9, mutation_probability: 1.0,\n",
    "  selection: auto, verbose: true, population: null}\n",
    "  \n",
    "simulation: \n",
    "  name: test_TNK\n",
    "  evaluate: xopt.evaluators.test_TNK.evaluate_TNK  \n",
    "  \n",
    "vocs:\n",
    "  name: TNK_test\n",
    "  description: null\n",
    "  simulation: test_TNK\n",
    "  templates: null\n",
    "  variables:\n",
    "    x1: [0, 3.14159]\n",
    "    x2: [0, 3.14159]\n",
    "  objectives: {y1: MINIMIZE, y2: MINIMIZE}\n",
    "  constraints:\n",
    "    c1: [GREATER_THAN, 0]\n",
    "    c2: [GREATER_THAN, 0]\n",
    "  linked_variables: {x9: x1}\n",
    "  constants: {a: dummy_constant}\n",
    "\n",
    "\"\"\"\n",
    "config = yaml.safe_load(YAML)"
   ]
  },
  {
   "cell_type": "code",
   "execution_count": 4,
   "metadata": {},
   "outputs": [
    {
     "name": "stdout",
     "output_type": "stream",
     "text": [
      "Loading config as dict.\n",
      "Warning: No path set for key xopt : output_path\n"
     ]
    },
    {
     "data": {
      "text/plain": [
       "\n",
       "            Xopt\n",
       "________________________________           \n",
       "\n",
       "Configured: True\n",
       "\n",
       "Config as YAML:\n",
       "xopt: {output_path: null, verbose: true, algorithm: cnsga}\n",
       "algorithm:\n",
       "  name: cnsga\n",
       "  function: xopt.cnsga.cnsga\n",
       "  options: {max_generations: 50, population_size: 128, crossover_probability: 0.9,\n",
       "    mutation_probability: 1.0, selection: auto, verbose: true, population: null, seed: null}\n",
       "simulation:\n",
       "  name: test_TNK\n",
       "  evaluate: xopt.evaluators.test_TNK.evaluate_TNK\n",
       "  options: {extra_option: abc}\n",
       "vocs:\n",
       "  name: TNK_test\n",
       "  description: null\n",
       "  simulation: test_TNK\n",
       "  templates: null\n",
       "  variables:\n",
       "    x1: [0, 3.14159]\n",
       "    x2: [0, 3.14159]\n",
       "  objectives: {y1: MINIMIZE, y2: MINIMIZE}\n",
       "  constraints:\n",
       "    c1: [GREATER_THAN, 0]\n",
       "    c2: [GREATER_THAN, 0]\n",
       "  linked_variables: {x9: x1}\n",
       "  constants: {a: dummy_constant}"
      ]
     },
     "execution_count": 4,
     "metadata": {},
     "output_type": "execute_result"
    }
   ],
   "source": [
    "# Optional: Connect the function directly\n",
    "#from xopt.evaluators.test_TNK import evaluate_TNK \n",
    "#config['simulation']['evaluate'] = evaluate_TNK \n",
    "\n",
    "X = Xopt(config)\n",
    "X"
   ]
  },
  {
   "cell_type": "code",
   "execution_count": 5,
   "metadata": {},
   "outputs": [
    {
     "data": {
      "text/plain": [
       "{'y1': 2.1130187086994665,\n",
       " 'y2': 0.5451438401968843,\n",
       " 'c1': 3.824331644212743,\n",
       " 'c2': -2.1038673209222165}"
      ]
     },
     "execution_count": 5,
     "metadata": {},
     "output_type": "execute_result"
    }
   ],
   "source": [
    "# Note that the repr string contains all of the config information\n",
    "X.random_evaluate()"
   ]
  },
  {
   "cell_type": "markdown",
   "metadata": {},
   "source": [
    "# Run CNSGA\n",
    "\n",
    "CNSGA is designed to run in parallel with an asynchronous executor as defined in PEP 3148"
   ]
  },
  {
   "cell_type": "code",
   "execution_count": 6,
   "metadata": {},
   "outputs": [],
   "source": [
    "# Pick one of these\n",
    "#from concurrent.futures import ThreadPoolExecutor as PoolExecutor\n",
    "from concurrent.futures import ProcessPoolExecutor as PoolExecutor\n",
    "\n",
    "executor = PoolExecutor()\n",
    "# This will also work. \n",
    "#executor=None"
   ]
  },
  {
   "cell_type": "code",
   "execution_count": 7,
   "metadata": {},
   "outputs": [
    {
     "name": "stdout",
     "output_type": "stream",
     "text": [
      "Starting at time 2020-04-21T15:21:35-07:00\n",
      "\n",
      "\n",
      "\n",
      " ▄████▄   ███▄    █   ██████   ▄████  ▄▄▄      \n",
      "▒██▀ ▀█   ██ ▀█   █ ▒██    ▒  ██▒ ▀█▒▒████▄    \n",
      "▒▓█    ▄ ▓██  ▀█ ██▒░ ▓██▄   ▒██░▄▄▄░▒██  ▀█▄  \n",
      "▒▓▓▄ ▄██▒▓██▒  ▐▌██▒  ▒   ██▒░▓█  ██▓░██▄▄▄▄██ \n",
      "▒ ▓███▀ ░▒██░   ▓██░▒██████▒▒░▒▓███▀▒ ▓█   ▓██▒\n",
      "░ ░▒ ▒  ░░ ▒░   ▒ ▒ ▒ ▒▓▒ ▒ ░ ░▒   ▒  ▒▒   ▓▒█░\n",
      "  ░  ▒   ░ ░░   ░ ▒░░ ░▒  ░ ░  ░   ░   ▒   ▒▒ ░\n",
      "░           ░   ░ ░ ░  ░  ░  ░ ░   ░   ░   ▒   \n",
      "░ ░               ░       ░        ░       ░  ░\n",
      "░                                              \n",
      "\n",
      "\n",
      "Continuous Non-dominated Sorting Genetic Algorithm\n",
      "\n",
      "\n",
      "Creating toolbox from vocs.\n",
      "Created toolbox with 2 variables, 2 constraints, and 2 objectives.\n",
      "    Using selection algorithm: nsga2\n",
      "vocs:\n",
      "{'constants': {'a': 'dummy_constant'},\n",
      " 'constraints': {'c1': ['GREATER_THAN', 0], 'c2': ['GREATER_THAN', 0]},\n",
      " 'description': None,\n",
      " 'linked_variables': {'x9': 'x1'},\n",
      " 'name': 'TNK_test',\n",
      " 'objectives': {'y1': 'MINIMIZE', 'y2': 'MINIMIZE'},\n",
      " 'simulation': 'test_TNK',\n",
      " 'templates': None,\n",
      " 'variables': {'x1': [0, 3.14159], 'x2': [0, 3.14159]}}\n",
      "Initializing with a new population, size 128\n",
      "Maximum generations: 10\n",
      "____________________________________________________\n",
      "128 fitness calculations for initial generation\n",
      "................................................................................................................................done.\n",
      "Submitting first batch of children\n",
      ".................................................................................................................................done.\n",
      "__________________________________________________________\n",
      "Generation 0 completed in 0.00469 minutes\n",
      "................................................................................................................................done.\n",
      "__________________________________________________________\n",
      "Generation 1 completed in 0.00908 minutes\n",
      "................................................................................................................................done.\n",
      "__________________________________________________________\n",
      "Generation 2 completed in 0.00924 minutes\n",
      "................................................................................................................................done.\n",
      "__________________________________________________________\n",
      "Generation 3 completed in 0.01019 minutes\n",
      "................................................................................................................................done.\n",
      "__________________________________________________________\n",
      "Generation 4 completed in 0.00860 minutes\n",
      "................................................................................................................................done.\n",
      "__________________________________________________________\n",
      "Generation 5 completed in 0.00955 minutes\n",
      "................................................................................................................................done.\n",
      "__________________________________________________________\n",
      "Generation 6 completed in 0.00919 minutes\n",
      "................................................................................................................................done.\n",
      "__________________________________________________________\n",
      "Generation 7 completed in 0.00895 minutes\n",
      "................................................................................................................................done.\n",
      "__________________________________________________________\n",
      "Generation 8 completed in 0.00884 minutes\n",
      "................................................................................................................................done.\n",
      "__________________________________________________________\n",
      "Generation 9 completed in 0.00850 minutes\n",
      "..............................................................................................................................."
     ]
    }
   ],
   "source": [
    "# Change max generations\n",
    "X.algorithm['options']['max_generations'] = 10\n",
    "X.run(executor=executor)"
   ]
  },
  {
   "cell_type": "code",
   "execution_count": 8,
   "metadata": {},
   "outputs": [
    {
     "data": {
      "text/plain": [
       "['variables', 'generation', 'vocs', 'error', 'inputs', 'outputs']"
      ]
     },
     "execution_count": 8,
     "metadata": {},
     "output_type": "execute_result"
    }
   ],
   "source": [
    "# The last population is saved internally:\n",
    "list(X.population)"
   ]
  },
  {
   "cell_type": "code",
   "execution_count": 9,
   "metadata": {},
   "outputs": [
    {
     "name": "stdout",
     "output_type": "stream",
     "text": [
      "Starting at time 2020-04-21T15:21:41-07:00\n",
      "\n",
      "\n",
      "\n",
      " ▄████▄   ███▄    █   ██████   ▄████  ▄▄▄      \n",
      "▒██▀ ▀█   ██ ▀█   █ ▒██    ▒  ██▒ ▀█▒▒████▄    \n",
      "▒▓█    ▄ ▓██  ▀█ ██▒░ ▓██▄   ▒██░▄▄▄░▒██  ▀█▄  \n",
      "▒▓▓▄ ▄██▒▓██▒  ▐▌██▒  ▒   ██▒░▓█  ██▓░██▄▄▄▄██ \n",
      "▒ ▓███▀ ░▒██░   ▓██░▒██████▒▒░▒▓███▀▒ ▓█   ▓██▒\n",
      "░ ░▒ ▒  ░░ ▒░   ▒ ▒ ▒ ▒▓▒ ▒ ░ ░▒   ▒  ▒▒   ▓▒█░\n",
      "  ░  ▒   ░ ░░   ░ ▒░░ ░▒  ░ ░  ░   ░   ▒   ▒▒ ░\n",
      "░           ░   ░ ░ ░  ░  ░  ░ ░   ░   ░   ▒   \n",
      "░ ░               ░       ░        ░       ░  ░\n",
      "░                                              \n",
      "\n",
      "\n",
      "Continuous Non-dominated Sorting Genetic Algorithm\n",
      "\n",
      "\n",
      "Creating toolbox from vocs.\n",
      "Warning: Redefining creator.MyFitness\n",
      "Warning in cnsga_toolbox: Redefining creator.Individual\n",
      "Created toolbox with 2 variables, 2 constraints, and 2 objectives.\n",
      "    Using selection algorithm: nsga2\n",
      "vocs:\n",
      "{'constants': {'a': 'dummy_constant'},\n",
      " 'constraints': {'c1': ['GREATER_THAN', 0], 'c2': ['GREATER_THAN', 0]},\n",
      " 'description': None,\n",
      " 'linked_variables': {'x9': 'x1'},\n",
      " 'name': 'TNK_test',\n",
      " 'objectives': {'y1': 'MINIMIZE', 'y2': 'MINIMIZE'},\n",
      " 'simulation': 'test_TNK',\n",
      " 'templates': None,\n",
      " 'variables': {'x1': [0, 3.14159], 'x2': [0, 3.14159]}}\n",
      "Initializing with a new population, size 128\n",
      "Maximum generations: 20\n",
      "____________________________________________________\n",
      "128 fitness calculations for initial generation\n",
      "................................................................................................................................done.\n",
      "Submitting first batch of children\n",
      ".................................................................................................................................done.\n",
      "__________________________________________________________\n",
      "Generation 0 completed in 0.01030 minutes\n",
      "................................................................................................................................done.\n",
      "__________________________________________________________\n",
      "Generation 1 completed in 0.01214 minutes\n",
      "................................................................................................................................done.\n",
      "__________________________________________________________\n",
      "Generation 2 completed in 0.01145 minutes\n",
      "................................................................................................................................done.\n",
      "__________________________________________________________\n",
      "Generation 3 completed in 0.01366 minutes\n",
      "................................................................................................................................done.\n",
      "__________________________________________________________\n",
      "Generation 4 completed in 0.01172 minutes\n",
      "................................................................................................................................done.\n",
      "__________________________________________________________\n",
      "Generation 5 completed in 0.01213 minutes\n",
      "................................................................................................................................done.\n",
      "__________________________________________________________\n",
      "Generation 6 completed in 0.01105 minutes\n",
      "................................................................................................................................done.\n",
      "__________________________________________________________\n",
      "Generation 7 completed in 0.01083 minutes\n",
      "................................................................................................................................done.\n",
      "__________________________________________________________\n",
      "Generation 8 completed in 0.01038 minutes\n",
      "................................................................................................................................done.\n",
      "__________________________________________________________\n",
      "Generation 9 completed in 0.01418 minutes\n",
      "................................................................................................................................done.\n",
      "__________________________________________________________\n",
      "Generation 10 completed in 0.01091 minutes\n",
      "................................................................................................................................done.\n",
      "__________________________________________________________\n",
      "Generation 11 completed in 0.01329 minutes\n",
      "................................................................................................................................done.\n",
      "__________________________________________________________\n",
      "Generation 12 completed in 0.01117 minutes\n",
      "................................................................................................................................done.\n",
      "__________________________________________________________\n",
      "Generation 13 completed in 0.00969 minutes\n",
      "................................................................................................................................done.\n",
      "__________________________________________________________\n",
      "Generation 14 completed in 0.01079 minutes\n",
      "................................................................................................................................done.\n",
      "__________________________________________________________\n",
      "Generation 15 completed in 0.01297 minutes\n",
      "................................................................................................................................done.\n",
      "__________________________________________________________\n",
      "Generation 16 completed in 0.00988 minutes\n",
      "................................................................................................................................done.\n",
      "__________________________________________________________\n",
      "Generation 17 completed in 0.01100 minutes\n",
      "................................................................................................................................done.\n",
      "__________________________________________________________\n",
      "Generation 18 completed in 0.01181 minutes\n",
      "................................................................................................................................done.\n",
      "__________________________________________________________\n",
      "Generation 19 completed in 0.01226 minutes\n",
      "..............................................................................................................................."
     ]
    }
   ],
   "source": [
    "# Increase the max_generations, and it will continue where it left off\n",
    "X.algorithm['options']['max_generations'] = 20\n",
    "X.run(executor=executor)"
   ]
  },
  {
   "cell_type": "markdown",
   "metadata": {},
   "source": [
    "# Plot"
   ]
  },
  {
   "cell_type": "code",
   "execution_count": 10,
   "metadata": {},
   "outputs": [
    {
     "data": {
      "image/png": "[encoded data removed]",
      "text/plain": [
       "<Figure size 360x360 with 1 Axes>"
      ]
     },
     "metadata": {
      "needs_background": "light"
     },
     "output_type": "display_data"
    }
   ],
   "source": [
    "# Extract objectives from output\n",
    "key1, key2 = list(X.vocs['objectives'])\n",
    "\n",
    "x = [o[key1] for o in X.population['outputs']]\n",
    "y = [o[key2] for o in X.population['outputs']]\n",
    "\n",
    "import matplotlib.pyplot as plt\n",
    "%matplotlib inline\n",
    "\n",
    "fig, ax = plt.subplots(figsize=(5,5))\n",
    "\n",
    "ax.scatter(x, y, color='blue')\n",
    "#ax.set_xlim(X_RANGE)\n",
    "#ax.set_ylim(Y_RANGE)\n",
    "ax.set_xlabel(key1)\n",
    "ax.set_xlabel(key2)\n",
    "ax.set_aspect('auto')\n",
    "#ax.set_title(NAME)"
   ]
  },
  {
   "cell_type": "code",
   "execution_count": null,
   "metadata": {},
   "outputs": [],
   "source": []
  }
 ],
 "metadata": {
  "kernelspec": {
   "display_name": "Python 3",
   "language": "python",
   "name": "python3"
  },
  "language_info": {
   "codemirror_mode": {
    "name": "ipython",
    "version": 3
   },
   "file_extension": ".py",
   "mimetype": "text/x-python",
   "name": "python",
   "nbconvert_exporter": "python",
   "pygments_lexer": "ipython3",
   "version": "3.7.6"
  }
 },
 "nbformat": 4,
 "nbformat_minor": 4
}
