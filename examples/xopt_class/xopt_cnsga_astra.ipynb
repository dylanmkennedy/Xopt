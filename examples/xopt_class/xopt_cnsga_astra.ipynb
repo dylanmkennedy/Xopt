{
 "cells": [
  {
   "cell_type": "code",
   "execution_count": 6,
   "metadata": {},
   "outputs": [
    {
     "name": "stdout",
     "output_type": "stream",
     "text": [
      "The autoreload extension is already loaded. To reload it, use:\n",
      "  %reload_ext autoreload\n"
     ]
    }
   ],
   "source": [
    "# Useful for debugging\n",
    "%load_ext autoreload\n",
    "%autoreload 2"
   ]
  },
  {
   "cell_type": "markdown",
   "metadata": {},
   "source": [
    "# Xopt class, Astra kekgun example\n",
    "\n",
    "This is the class method for running Xopt."
   ]
  },
  {
   "cell_type": "code",
   "execution_count": 7,
   "metadata": {},
   "outputs": [],
   "source": [
    "from xopt import Xopt"
   ]
  },
  {
   "cell_type": "code",
   "execution_count": 8,
   "metadata": {},
   "outputs": [
    {
     "name": "stderr",
     "output_type": "stream",
     "text": [
      "The syntax of the command is incorrect.\n"
     ]
    }
   ],
   "source": [
    "!mkdir temp/"
   ]
  },
  {
   "cell_type": "code",
   "execution_count": 9,
   "metadata": {},
   "outputs": [
    {
     "data": {
      "text/plain": "{'xopt': {'output_path': 'temp', 'verbose': True},\n 'algorithm': {'name': 'random_sampler',\n  'options': {'verbose': 'T', 'chunk_size': 4, 'max_samples': 10}},\n 'simulation': {'name': 'astra_with_generator',\n  'function': 'astra.evaluate.evaluate_astra_with_generator',\n  'options': {'astra_input_file': '../templates/kekgun/kekgun.in',\n   'generator_input_file': '../templates/kekgun/dist004.in'}},\n 'vocs': '../templates/kekgun/kekgun_vocs.yaml'}"
     },
     "execution_count": 9,
     "metadata": {},
     "output_type": "execute_result"
    }
   ],
   "source": [
    "import yaml\n",
    "from xopt import Xopt\n",
    "\n",
    "YAML=\"\"\"\n",
    "xopt: {output_path: temp, verbose: true}\n",
    "\n",
    "algorithm:\n",
    "  name: random_sampler\n",
    "  options: {verbose: T, chunk_size: 4, max_samples: 10}\n",
    "\n",
    "simulation:\n",
    "  name: astra_with_generator\n",
    "  function: astra.evaluate.evaluate_astra_with_generator\n",
    "  options:\n",
    "    astra_input_file: ../templates/kekgun/kekgun.in\n",
    "    generator_input_file: ../templates/kekgun/dist004.in\n",
    "\n",
    "# Note that you can call another file in the top level group:\n",
    "vocs:\n",
    "    variables:\n",
    "      sig_x: [0.05, 1]\n",
    "      lt: [0.005, 0.07]\n",
    "      maxe(1): [20, 50]\n",
    "      phi(1): [-30, 30]\n",
    "      maxb(1): [0, 0.4]\n",
    "      maxe(2): [0, 32]\n",
    "      phi(2): [-180, 180]\n",
    "      maxb(2): [0, 0.3]\n",
    "      maxe(3): [0, 32]\n",
    "      maxe(4): [0, 32]\n",
    "      phi(3): [-45, 45]\n",
    "      phi(4): [-45, 45]\n",
    "      phi(6): [-45, 45]\n",
    "    constants:\n",
    "      ipart: 1000\n",
    "      lspch: true\n",
    "      zstop: 16.54\n",
    "\n",
    "    objectives:\n",
    "      end_core_emit_95percent_x: MINIMIZE\n",
    "      end_sigma_z: MINIMIZE\n",
    "    constraints:\n",
    "      end_sigma_z: [LESS_THAN, 0.0015]\n",
    "      end_core_emit_95percent_x: [LESS_THAN, 9.0e-07]\n",
    "      end_sigma_energy: [LESS_THAN, 200000.0]\n",
    "      end_higher_order_energy_spread: [LESS_THAN, 5000.0]\n",
    "      end_mean_kinetic_energy: [GREATER_THAN, 90000000.0]\n",
    "      end_n_particle_loss: [LESS_THAN, 1]\n",
    "    linked_variables: null\n",
    "\n",
    "\"\"\"\n",
    "config = yaml.safe_load(YAML)\n",
    "config"
   ]
  },
  {
   "cell_type": "code",
   "execution_count": 10,
   "metadata": {},
   "outputs": [
    {
     "name": "stderr",
     "output_type": "stream",
     "text": [
      "INFO:xopt.tools:Loading config from dict.\n",
      "INFO:xopt.tools:Loading config from dict.\n",
      "INFO:xopt.tools:Loading config from dict.\n",
      "INFO:xopt.tools:Loading config from dict.\n",
      "INFO:xopt.tools:Loading from YAML file: ../templates/kekgun/kekgun_vocs.yaml\n",
      "WARNING:xopt.legacy:`verbose` keyword no longer allowed in xopt config, renaming to `logging`\n",
      "INFO:xopt.tools:Loading config from dict.\n",
      "INFO:xopt.tools:Loading config from dict.\n",
      "INFO:xopt.tools:Loading config from dict.\n",
      "INFO:xopt.tools:Loading config from dict.\n"
     ]
    },
    {
     "name": "stdout",
     "output_type": "stream",
     "text": [
      "{'variables': {'sig_x': [0.05, 1], 'lt': [0.005, 0.07], 'maxe(1)': [20, 50], 'phi(1)': [-30, 30], 'maxb(1)': [0, 0.4], 'maxe(2)': [0, 32], 'phi(2)': [-180, 180], 'maxb(2)': [0, 0.3], 'maxe(3)': [0, 32], 'maxe(4)': [0, 32], 'phi(3)': [-45, 45], 'phi(4)': [-45, 45], 'phi(6)': [-45, 45]}, 'constants': {'ipart': 1000, 'lspch': True, 'zstop': 16.54}, 'objectives': {'end_core_emit_95percent_x': 'MINIMIZE', 'end_sigma_z': 'MINIMIZE'}, 'constraints': {'end_sigma_z': ['LESS_THAN', 0.0015], 'end_core_emit_95percent_x': ['LESS_THAN', 9e-07], 'end_sigma_energy': ['LESS_THAN', 200000.0], 'end_higher_order_energy_spread': ['LESS_THAN', 5000.0], 'end_mean_kinetic_energy': ['GREATER_THAN', 90000000.0], 'end_n_particle_loss': ['LESS_THAN', 1]}, 'linked_variables': None}\n",
      "{'xopt': {'output_path': 'temp', 'logging': 20}, 'algorithm': {'name': 'random_sampler', 'options': {'verbose': 'T', 'chunk_size': 4, 'max_samples': 10}, 'function': 'xopt.sampler.random_sampler', 'verbose': 'T', 'chunk_size': 4, 'max_samples': 10, 'executor': None, 'output_path': None}, 'simulation': {'name': 'astra_with_generator', 'function': 'astra.evaluate.evaluate_astra_with_generator', 'options': {'astra_input_file': '../templates/kekgun/kekgun.in', 'generator_input_file': '../templates/kekgun/dist004.in', 'workdir': None, 'astra_bin': '$ASTRA_BIN', 'generator_bin': '$GENERATOR_BIN', 'timeout': 2500, 'verbose': False, 'auto_set_spacecharge_mesh': True, 'archive_path': None, 'merit_f': None}, 'evaluate': 'astra.evaluate.evaluate_astra_with_generator'}, 'vocs': {'variables': {'sig_x': [0.05, 1], 'lt': [0.005, 0.07], 'maxe(1)': [20, 50], 'phi(1)': [-30, 30], 'maxb(1)': [0, 0.4], 'maxe(2)': [0, 32], 'phi(2)': [-180, 180], 'maxb(2)': [0, 0.3], 'maxe(3)': [0, 32], 'maxe(4)': [0, 32], 'phi(3)': [-45, 45], 'phi(4)': [-45, 45], 'phi(6)': [-45, 45]}, 'constants': {'ipart': 1000, 'lspch': True, 'zstop': 16.54}, 'objectives': {'end_core_emit_95percent_x': 'MINIMIZE', 'end_sigma_z': 'MINIMIZE'}, 'constraints': {'end_sigma_z': ['LESS_THAN', 0.0015], 'end_core_emit_95percent_x': ['LESS_THAN', 9e-07], 'end_sigma_energy': ['LESS_THAN', 200000.0], 'end_higher_order_energy_spread': ['LESS_THAN', 5000.0], 'end_mean_kinetic_energy': ['GREATER_THAN', 90000000.0], 'end_n_particle_loss': ['LESS_THAN', 1]}, 'linked_variables': None}}\n",
      "Warning: No path set for key algorithm : output_path\n",
      "Warning: No path set for key simulation : options : archive_path\n"
     ]
    },
    {
     "data": {
      "text/plain": "\n            Xopt \n________________________________           \nVersion: 0.4.3+168.g7d48d79.dirty\nConfigured: True\nConfig as YAML:\nxopt: {output_path: 'C:\\Users\\Ryan Roussel\\Documents\\GitHub\\xopt\\examples\\xopt_class\\temp',\n  logging: 20}\nalgorithm:\n  name: random_sampler\n  options: {verbose: T, chunk_size: 4, max_samples: 10}\n  function: xopt.sampler.random_sampler\n  verbose: T\n  chunk_size: 4\n  max_samples: 10\n  executor: null\n  output_path: null\nsimulation:\n  name: astra_with_generator\n  function: astra.evaluate.evaluate_astra_with_generator\n  options: {astra_input_file: 'C:\\Users\\Ryan Roussel\\Documents\\GitHub\\xopt\\examples\\templates\\kekgun\\kekgun.in',\n    generator_input_file: 'C:\\Users\\Ryan Roussel\\Documents\\GitHub\\xopt\\examples\\templates\\kekgun\\dist004.in',\n    workdir: null, astra_bin: 'C:\\Users\\Ryan Roussel\\Documents\\bin\\Astra', generator_bin: 'C:\\Users\\Ryan\n      Roussel\\Documents\\bin\\generator', timeout: 2500, verbose: false, auto_set_spacecharge_mesh: true,\n    archive_path: null, merit_f: null}\n  evaluate: astra.evaluate.evaluate_astra_with_generator\nvocs:\n  variables:\n    sig_x: [0.05, 1]\n    lt: [0.005, 0.07]\n    maxe(1): [20, 50]\n    phi(1): [-30, 30]\n    maxb(1): [0, 0.4]\n    maxe(2): [0, 32]\n    phi(2): [-180, 180]\n    maxb(2): [0, 0.3]\n    maxe(3): [0, 32]\n    maxe(4): [0, 32]\n    phi(3): [-45, 45]\n    phi(4): [-45, 45]\n    phi(6): [-45, 45]\n  constants: {ipart: 1000, lspch: true, zstop: 0.2}\n  objectives: {end_core_emit_95percent_x: MINIMIZE, end_sigma_z: MINIMIZE}\n  constraints:\n    end_sigma_z: [LESS_THAN, 0.0015]\n    end_core_emit_95percent_x: [LESS_THAN, 9.0e-07]\n    end_sigma_energy: [LESS_THAN, 200000.0]\n    end_higher_order_energy_spread: [LESS_THAN, 5000.0]\n    end_mean_kinetic_energy: [GREATER_THAN, 90000000.0]\n    end_n_particle_loss: [LESS_THAN, 1]\n  linked_variables: null"
     },
     "execution_count": 10,
     "metadata": {},
     "output_type": "execute_result"
    }
   ],
   "source": [
    "# Create object\n",
    "X = Xopt(config=config)\n",
    "\n",
    "# Change some things to make it run faster\n",
    "X.vocs['constants']['lspch'] = True\n",
    "X.vocs['constants']['ipart'] = 1000\n",
    "X.vocs['constants']['zstop'] = 0.2\n",
    "\n",
    "# Show config\n",
    "X"
   ]
  },
  {
   "cell_type": "code",
   "execution_count": 11,
   "metadata": {},
   "outputs": [
    {
     "data": {
      "text/plain": "{'sig_x': 0.6998690379903608,\n 'lt': 0.037675321488999144,\n 'maxe(1)': 36.44499978333602,\n 'phi(1)': -10.35527993769263,\n 'maxb(1)': 0.19719219873885466,\n 'maxe(2)': 14.509441393879282,\n 'phi(2)': 87.3279024079543,\n 'maxb(2)': 0.26775469778979427,\n 'maxe(3)': 23.864920584800977,\n 'maxe(4)': 4.9018804808006635,\n 'phi(3)': -35.68541558185238,\n 'phi(4)': -11.09746073513329,\n 'phi(6)': 31.00797047119768,\n 'ipart': 1000,\n 'lspch': True,\n 'zstop': 0.2}"
     },
     "execution_count": 11,
     "metadata": {},
     "output_type": "execute_result"
    }
   ],
   "source": [
    "# Check random inputs \n",
    "X.random_inputs()"
   ]
  },
  {
   "cell_type": "code",
   "execution_count": 12,
   "metadata": {},
   "outputs": [
    {
     "data": {
      "text/plain": "{'error': False,\n 'end_mean_z': 0.2,\n 'end_norm_emit_x': 3.6377e-07,\n 'end_core_emit_95percent_x': 2.464e-07,\n 'end_core_emit_90percent_x': 2.0333e-07,\n 'end_core_emit_80percent_x': 1.3782e-07,\n 'end_norm_emit_y': 3.619e-07,\n 'end_core_emit_95percent_y': 2.4596e-07,\n 'end_core_emit_90percent_y': 2.0308999999999997e-07,\n 'end_core_emit_80percent_y': 1.3819999999999998e-07,\n 'end_norm_emit_z': 12.845,\n 'end_core_emit_95percent_z': 1.0246e-05,\n 'end_core_emit_905percent_z': 8.504300000000001e-06,\n 'end_core_emit_80percent_z': 6.086e-06,\n 'end_mean_t': 7.1444e-10,\n 'end_mean_x': 1.1971e-06,\n 'end_sigma_x': 0.00087335,\n 'end_sigma_xp': 0.0038271000000000004,\n 'end_cov_x__xp': 3.3419611099999997e-06,\n 'end_mean_y': 1.9815000000000004e-06,\n 'end_sigma_y': 0.0008733800000000001,\n 'end_sigma_yp': 0.003828,\n 'end_cov_y__yp': 3.3428619500000005e-06,\n 'end_mean_kinetic_energy': 2996800.0,\n 'end_sigma_z': 0.0023518,\n 'end_sigma_energy': 13976.0,\n 'end_cov_z__energy': -30.255906999999997,\n 'end_n_particle_loss': 0,\n 'end_total_charge': 9.989999999999999e-11,\n 'end_higher_order_energy_spread': 913.3695908934252,\n 'fingerprint': 'c25f55cee06f2e22618e805ff35dda4e'}"
     },
     "execution_count": 12,
     "metadata": {},
     "output_type": "execute_result"
    }
   ],
   "source": [
    "# Evaluate with some particular settings\n",
    "X.evaluate(\n",
    "    {'ipart': 1000,\n",
    " 'lspch': True,\n",
    " 'zstop': 0.2})"
   ]
  },
  {
   "cell_type": "code",
   "execution_count": 13,
   "metadata": {},
   "outputs": [
    {
     "name": "stdout",
     "output_type": "stream",
     "text": [
      "Wall time: 5.45 s\n"
     ]
    },
    {
     "data": {
      "text/plain": "{'error': False,\n 'end_mean_z': 0.2,\n 'end_norm_emit_x': 3.0089e-07,\n 'end_core_emit_95percent_x': 2.3438999999999997e-07,\n 'end_core_emit_90percent_x': 1.9975e-07,\n 'end_core_emit_80percent_x': 1.4766000000000001e-07,\n 'end_norm_emit_y': 2.9748e-07,\n 'end_core_emit_95percent_y': 2.3548e-07,\n 'end_core_emit_90percent_y': 1.9994e-07,\n 'end_core_emit_80percent_y': 1.4566999999999998e-07,\n 'end_norm_emit_z': 111.69,\n 'end_core_emit_95percent_z': 9.1147e-05,\n 'end_core_emit_905percent_z': 7.5778e-05,\n 'end_core_emit_80percent_z': 5.4189e-05,\n 'end_mean_t': 7.338000000000001e-10,\n 'end_mean_x': 7.668e-07,\n 'end_sigma_x': 0.00019589000000000002,\n 'end_sigma_xp': 0.00046539000000000004,\n 'end_cov_x__xp': 6.98445795e-08,\n 'end_mean_y': 7.489900000000001e-07,\n 'end_sigma_y': 0.00019571,\n 'end_sigma_yp': 0.00046242,\n 'end_cov_y__yp': 6.953380590000001e-08,\n 'end_mean_kinetic_energy': 2162500.0,\n 'end_sigma_z': 0.0052932,\n 'end_sigma_energy': 48156.0,\n 'end_cov_z__energy': -229.13204159999998,\n 'end_n_particle_loss': 0,\n 'end_total_charge': 9.989999999999999e-11,\n 'end_higher_order_energy_spread': 277.3710816360986,\n 'fingerprint': 'c9eb2c6ad359ad0cb27bfd26cc8371b3'}"
     },
     "execution_count": 13,
     "metadata": {},
     "output_type": "execute_result"
    }
   ],
   "source": [
    "%%time\n",
    "# Do a random evaluate to check that everything will run\n",
    "output = X.random_evaluate()\n",
    "output"
   ]
  },
  {
   "cell_type": "code",
   "execution_count": 14,
   "metadata": {},
   "outputs": [
    {
     "data": {
      "text/plain": "{'verbose': 'T', 'chunk_size': 4, 'max_samples': 10}"
     },
     "execution_count": 14,
     "metadata": {},
     "output_type": "execute_result"
    }
   ],
   "source": [
    "# These are the algorithm options\n",
    "X.algorithm['options']"
   ]
  },
  {
   "cell_type": "code",
   "execution_count": 15,
   "metadata": {},
   "outputs": [
    {
     "data": {
      "text/plain": "{'astra_input_file': 'C:\\\\Users\\\\Ryan Roussel\\\\Documents\\\\GitHub\\\\xopt\\\\examples\\\\templates\\\\kekgun\\\\kekgun.in',\n 'generator_input_file': 'C:\\\\Users\\\\Ryan Roussel\\\\Documents\\\\GitHub\\\\xopt\\\\examples\\\\templates\\\\kekgun\\\\dist004.in',\n 'workdir': None,\n 'astra_bin': 'C:\\\\Users\\\\Ryan Roussel\\\\Documents\\\\bin\\\\Astra',\n 'generator_bin': 'C:\\\\Users\\\\Ryan Roussel\\\\Documents\\\\bin\\\\generator',\n 'timeout': 2500,\n 'verbose': False,\n 'auto_set_spacecharge_mesh': True,\n 'archive_path': None,\n 'merit_f': None}"
     },
     "execution_count": 15,
     "metadata": {},
     "output_type": "execute_result"
    }
   ],
   "source": [
    "# These are the options in the evaluate function\n",
    "X.simulation['options']"
   ]
  },
  {
   "cell_type": "markdown",
   "metadata": {},
   "source": [
    "# Run CNSGA using processes or threads"
   ]
  },
  {
   "cell_type": "code",
   "execution_count": 16,
   "metadata": {},
   "outputs": [],
   "source": [
    "from concurrent.futures import ProcessPoolExecutor as PoolExecutor\n",
    "#from concurrent.futures import ThreadPoolExecutor as PoolExecutor\n",
    "executor = PoolExecutor()"
   ]
  },
  {
   "cell_type": "code",
   "execution_count": 17,
   "metadata": {},
   "outputs": [
    {
     "name": "stderr",
     "output_type": "stream",
     "text": [
      "INFO:xopt.tools:Loading config from dict.\n",
      "INFO:xopt.tools:Loading config from dict.\n",
      "INFO:xopt.tools:Loading config from dict.\n",
      "INFO:xopt.tools:Loading config from dict.\n",
      "INFO:xopt.tools:Loading from YAML file: ../templates/kekgun/kekgun_vocs.yaml\n",
      "WARNING:xopt.legacy:`verbose` keyword no longer allowed in xopt config, renaming to `logging`\n",
      "INFO:xopt.tools:Loading config from dict.\n",
      "INFO:xopt.tools:Loading config from dict.\n",
      "INFO:xopt.tools:Loading config from dict.\n",
      "INFO:xopt.tools:Loading config from dict.\n"
     ]
    },
    {
     "name": "stdout",
     "output_type": "stream",
     "text": [
      "{'variables': {'sig_x': [0.05, 1], 'lt': [0.005, 0.07], 'maxe(1)': [20, 50], 'phi(1)': [-30, 30], 'maxb(1)': [0, 0.4], 'maxe(2)': [0, 32], 'phi(2)': [-180, 180], 'maxb(2)': [0, 0.3], 'maxe(3)': [0, 32], 'maxe(4)': [0, 32], 'phi(3)': [-45, 45], 'phi(4)': [-45, 45], 'phi(6)': [-45, 45]}, 'constants': {'ipart': 1000, 'lspch': True, 'zstop': 16.54}, 'objectives': {'end_core_emit_95percent_x': 'MINIMIZE', 'end_sigma_z': 'MINIMIZE'}, 'constraints': {'end_sigma_z': ['LESS_THAN', 0.0015], 'end_core_emit_95percent_x': ['LESS_THAN', 9e-07], 'end_sigma_energy': ['LESS_THAN', 200000.0], 'end_higher_order_energy_spread': ['LESS_THAN', 5000.0], 'end_mean_kinetic_energy': ['GREATER_THAN', 90000000.0], 'end_n_particle_loss': ['LESS_THAN', 1]}, 'linked_variables': None}\n",
      "{'xopt': {'output_path': 'temp', 'logging': 20}, 'algorithm': {'name': 'random_sampler', 'options': {'verbose': 'T', 'chunk_size': 4, 'max_samples': 10}, 'function': 'xopt.sampler.random_sampler', 'verbose': 'T', 'chunk_size': 4, 'max_samples': 10, 'executor': None, 'output_path': None}, 'simulation': {'name': 'astra_with_generator', 'function': 'astra.evaluate.evaluate_astra_with_generator', 'options': {'astra_input_file': '../templates/kekgun/kekgun.in', 'generator_input_file': '../templates/kekgun/dist004.in', 'workdir': None, 'astra_bin': '$ASTRA_BIN', 'generator_bin': '$GENERATOR_BIN', 'timeout': 2500, 'verbose': False, 'auto_set_spacecharge_mesh': True, 'archive_path': None, 'merit_f': None}, 'evaluate': 'astra.evaluate.evaluate_astra_with_generator'}, 'vocs': {'variables': {'sig_x': [0.05, 1], 'lt': [0.005, 0.07], 'maxe(1)': [20, 50], 'phi(1)': [-30, 30], 'maxb(1)': [0, 0.4], 'maxe(2)': [0, 32], 'phi(2)': [-180, 180], 'maxb(2)': [0, 0.3], 'maxe(3)': [0, 32], 'maxe(4)': [0, 32], 'phi(3)': [-45, 45], 'phi(4)': [-45, 45], 'phi(6)': [-45, 45]}, 'constants': {'ipart': 1000, 'lspch': True, 'zstop': 16.54}, 'objectives': {'end_core_emit_95percent_x': 'MINIMIZE', 'end_sigma_z': 'MINIMIZE'}, 'constraints': {'end_sigma_z': ['LESS_THAN', 0.0015], 'end_core_emit_95percent_x': ['LESS_THAN', 9e-07], 'end_sigma_energy': ['LESS_THAN', 200000.0], 'end_higher_order_energy_spread': ['LESS_THAN', 5000.0], 'end_mean_kinetic_energy': ['GREATER_THAN', 90000000.0], 'end_n_particle_loss': ['LESS_THAN', 1]}, 'linked_variables': None}}\n",
      "Warning: No path set for key algorithm : output_path\n",
      "Warning: No path set for key simulation : options : archive_path\n"
     ]
    }
   ],
   "source": [
    "# Create object\n",
    "X = Xopt(config=config)\n",
    "\n",
    "# Change some things to make it run faster\n",
    "X.vocs['constants']['lspch'] = True\n",
    "X.vocs['constants']['ipart'] = 10\n",
    "X.vocs['constants']['zstop'] = 0.2\n",
    "X.results\n"
   ]
  },
  {
   "cell_type": "code",
   "execution_count": 18,
   "metadata": {},
   "outputs": [
    {
     "name": "stderr",
     "output_type": "stream",
     "text": [
      "INFO:xopt.xopt:Starting at time 2021-09-24T12:53:06-05:00\n"
     ]
    },
    {
     "name": "stdout",
     "output_type": "stream",
     "text": [
      "\n",
      "\n",
      "███████╗ █████╗ ███╗   ███╗██████╗ ██╗     ███████╗██████╗ \n",
      "██╔════╝██╔══██╗████╗ ████║██╔══██╗██║     ██╔════╝██╔══██╗\n",
      "███████╗███████║██╔████╔██║██████╔╝██║     █████╗  ██████╔╝\n",
      "╚════██║██╔══██║██║╚██╔╝██║██╔═══╝ ██║     ██╔══╝  ██╔══██╗\n",
      "███████║██║  ██║██║ ╚═╝ ██║██║     ███████╗███████╗██║  ██║\n",
      "╚══════╝╚═╝  ╚═╝╚═╝     ╚═╝╚═╝     ╚══════╝╚══════╝╚═╝  ╚═╝\n",
      "                                                           \n",
      "\n",
      "Xopt Random Sampler\n",
      "Version 0.4.3+168.g7d48d79.dirty\n",
      "\n"
     ]
    },
    {
     "ename": "PicklingError",
     "evalue": "Can't pickle <class 'xopt.xopt.Xopt'>: it's not the same object as xopt.xopt.Xopt",
     "output_type": "error",
     "traceback": [
      "\u001B[1;31m---------------------------------------------------------------------------\u001B[0m",
      "\u001B[1;31m_RemoteTraceback\u001B[0m                          Traceback (most recent call last)",
      "\u001B[1;31m_RemoteTraceback\u001B[0m: \n\"\"\"\nTraceback (most recent call last):\n  File \"C:\\ProgramData\\Miniconda3\\envs\\xopt\\lib\\multiprocessing\\queues.py\", line 245, in _feed\n    obj = _ForkingPickler.dumps(obj)\n  File \"C:\\ProgramData\\Miniconda3\\envs\\xopt\\lib\\multiprocessing\\reduction.py\", line 51, in dumps\n    cls(buf, protocol).dump(obj)\n_pickle.PicklingError: Can't pickle <class 'xopt.xopt.Xopt'>: it's not the same object as xopt.xopt.Xopt\n\"\"\"",
      "\nThe above exception was the direct cause of the following exception:\n",
      "\u001B[1;31mPicklingError\u001B[0m                             Traceback (most recent call last)",
      "\u001B[1;32mC:\\Users\\RYANRO~1\\AppData\\Local\\Temp/ipykernel_14672/130601807.py\u001B[0m in \u001B[0;36m<module>\u001B[1;34m\u001B[0m\n\u001B[0;32m      1\u001B[0m \u001B[1;31m# Run\u001B[0m\u001B[1;33m\u001B[0m\u001B[1;33m\u001B[0m\u001B[1;33m\u001B[0m\u001B[0m\n\u001B[1;32m----> 2\u001B[1;33m \u001B[0mX\u001B[0m\u001B[1;33m.\u001B[0m\u001B[0mrun\u001B[0m\u001B[1;33m(\u001B[0m\u001B[0mexecutor\u001B[0m\u001B[1;33m)\u001B[0m\u001B[1;33m\u001B[0m\u001B[1;33m\u001B[0m\u001B[0m\n\u001B[0m\u001B[0;32m      3\u001B[0m \u001B[1;33m\u001B[0m\u001B[0m\n",
      "\u001B[1;32m~\\Documents\\GitHub\\xopt\\xopt\\xopt.py\u001B[0m in \u001B[0;36mrun\u001B[1;34m(self, executor)\u001B[0m\n\u001B[0;32m    152\u001B[0m             \u001B[0mopts\u001B[0m\u001B[1;33m[\u001B[0m\u001B[1;34m'population'\u001B[0m\u001B[1;33m]\u001B[0m \u001B[1;33m=\u001B[0m \u001B[0mself\u001B[0m\u001B[1;33m.\u001B[0m\u001B[0mresults\u001B[0m\u001B[1;33m\u001B[0m\u001B[1;33m\u001B[0m\u001B[0m\n\u001B[0;32m    153\u001B[0m \u001B[1;33m\u001B[0m\u001B[0m\n\u001B[1;32m--> 154\u001B[1;33m         self.results = self.run_f(vocs=self.vocs,\n\u001B[0m\u001B[0;32m    155\u001B[0m                                   \u001B[0mevaluate_f\u001B[0m\u001B[1;33m=\u001B[0m\u001B[0mself\u001B[0m\u001B[1;33m.\u001B[0m\u001B[0mevaluate\u001B[0m\u001B[1;33m,\u001B[0m\u001B[1;33m\u001B[0m\u001B[1;33m\u001B[0m\u001B[0m\n\u001B[0;32m    156\u001B[0m                                   \u001B[0mexecutor\u001B[0m\u001B[1;33m=\u001B[0m\u001B[0mexecutor\u001B[0m\u001B[1;33m,\u001B[0m\u001B[1;33m\u001B[0m\u001B[1;33m\u001B[0m\u001B[0m\n",
      "\u001B[1;32m~\\Documents\\GitHub\\xopt\\xopt\\sampler.py\u001B[0m in \u001B[0;36mrandom_sampler\u001B[1;34m(vocs, evaluate_f, executor, output_path, chunk_size, max_samples, verbose)\u001B[0m\n\u001B[0;32m    119\u001B[0m \u001B[1;33m\u001B[0m\u001B[0m\n\u001B[0;32m    120\u001B[0m             \u001B[1;31m# Future is done.\u001B[0m\u001B[1;33m\u001B[0m\u001B[1;33m\u001B[0m\u001B[1;33m\u001B[0m\u001B[0m\n\u001B[1;32m--> 121\u001B[1;33m             \u001B[0mresults\u001B[0m\u001B[1;33m.\u001B[0m\u001B[0mappend\u001B[0m\u001B[1;33m(\u001B[0m\u001B[0mfut\u001B[0m\u001B[1;33m.\u001B[0m\u001B[0mresult\u001B[0m\u001B[1;33m(\u001B[0m\u001B[1;33m)\u001B[0m\u001B[1;33m)\u001B[0m\u001B[1;33m\u001B[0m\u001B[1;33m\u001B[0m\u001B[0m\n\u001B[0m\u001B[0;32m    122\u001B[0m             \u001B[0mall_results\u001B[0m\u001B[1;33m.\u001B[0m\u001B[0mappend\u001B[0m\u001B[1;33m(\u001B[0m\u001B[0mfut\u001B[0m\u001B[1;33m.\u001B[0m\u001B[0mresult\u001B[0m\u001B[1;33m(\u001B[0m\u001B[1;33m)\u001B[0m\u001B[1;33m)\u001B[0m\u001B[1;33m\u001B[0m\u001B[1;33m\u001B[0m\u001B[0m\n\u001B[0;32m    123\u001B[0m             \u001B[0mvprint\u001B[0m\u001B[1;33m(\u001B[0m\u001B[1;34m'.'\u001B[0m\u001B[1;33m,\u001B[0m \u001B[0mend\u001B[0m\u001B[1;33m=\u001B[0m\u001B[1;34m''\u001B[0m\u001B[1;33m)\u001B[0m\u001B[1;33m\u001B[0m\u001B[1;33m\u001B[0m\u001B[0m\n",
      "\u001B[1;32mC:\\ProgramData\\Miniconda3\\envs\\xopt\\lib\\concurrent\\futures\\_base.py\u001B[0m in \u001B[0;36mresult\u001B[1;34m(self, timeout)\u001B[0m\n\u001B[0;32m    436\u001B[0m                     \u001B[1;32mraise\u001B[0m \u001B[0mCancelledError\u001B[0m\u001B[1;33m(\u001B[0m\u001B[1;33m)\u001B[0m\u001B[1;33m\u001B[0m\u001B[1;33m\u001B[0m\u001B[0m\n\u001B[0;32m    437\u001B[0m                 \u001B[1;32melif\u001B[0m \u001B[0mself\u001B[0m\u001B[1;33m.\u001B[0m\u001B[0m_state\u001B[0m \u001B[1;33m==\u001B[0m \u001B[0mFINISHED\u001B[0m\u001B[1;33m:\u001B[0m\u001B[1;33m\u001B[0m\u001B[1;33m\u001B[0m\u001B[0m\n\u001B[1;32m--> 438\u001B[1;33m                     \u001B[1;32mreturn\u001B[0m \u001B[0mself\u001B[0m\u001B[1;33m.\u001B[0m\u001B[0m__get_result\u001B[0m\u001B[1;33m(\u001B[0m\u001B[1;33m)\u001B[0m\u001B[1;33m\u001B[0m\u001B[1;33m\u001B[0m\u001B[0m\n\u001B[0m\u001B[0;32m    439\u001B[0m \u001B[1;33m\u001B[0m\u001B[0m\n\u001B[0;32m    440\u001B[0m                 \u001B[0mself\u001B[0m\u001B[1;33m.\u001B[0m\u001B[0m_condition\u001B[0m\u001B[1;33m.\u001B[0m\u001B[0mwait\u001B[0m\u001B[1;33m(\u001B[0m\u001B[0mtimeout\u001B[0m\u001B[1;33m)\u001B[0m\u001B[1;33m\u001B[0m\u001B[1;33m\u001B[0m\u001B[0m\n",
      "\u001B[1;32mC:\\ProgramData\\Miniconda3\\envs\\xopt\\lib\\concurrent\\futures\\_base.py\u001B[0m in \u001B[0;36m__get_result\u001B[1;34m(self)\u001B[0m\n\u001B[0;32m    388\u001B[0m         \u001B[1;32mif\u001B[0m \u001B[0mself\u001B[0m\u001B[1;33m.\u001B[0m\u001B[0m_exception\u001B[0m\u001B[1;33m:\u001B[0m\u001B[1;33m\u001B[0m\u001B[1;33m\u001B[0m\u001B[0m\n\u001B[0;32m    389\u001B[0m             \u001B[1;32mtry\u001B[0m\u001B[1;33m:\u001B[0m\u001B[1;33m\u001B[0m\u001B[1;33m\u001B[0m\u001B[0m\n\u001B[1;32m--> 390\u001B[1;33m                 \u001B[1;32mraise\u001B[0m \u001B[0mself\u001B[0m\u001B[1;33m.\u001B[0m\u001B[0m_exception\u001B[0m\u001B[1;33m\u001B[0m\u001B[1;33m\u001B[0m\u001B[0m\n\u001B[0m\u001B[0;32m    391\u001B[0m             \u001B[1;32mfinally\u001B[0m\u001B[1;33m:\u001B[0m\u001B[1;33m\u001B[0m\u001B[1;33m\u001B[0m\u001B[0m\n\u001B[0;32m    392\u001B[0m                 \u001B[1;31m# Break a reference cycle with the exception in self._exception\u001B[0m\u001B[1;33m\u001B[0m\u001B[1;33m\u001B[0m\u001B[1;33m\u001B[0m\u001B[0m\n",
      "\u001B[1;32mC:\\ProgramData\\Miniconda3\\envs\\xopt\\lib\\multiprocessing\\queues.py\u001B[0m in \u001B[0;36m_feed\u001B[1;34m(buffer, notempty, send_bytes, writelock, close, ignore_epipe, onerror, queue_sem)\u001B[0m\n\u001B[0;32m    243\u001B[0m \u001B[1;33m\u001B[0m\u001B[0m\n\u001B[0;32m    244\u001B[0m                         \u001B[1;31m# serialize the data before acquiring the lock\u001B[0m\u001B[1;33m\u001B[0m\u001B[1;33m\u001B[0m\u001B[1;33m\u001B[0m\u001B[0m\n\u001B[1;32m--> 245\u001B[1;33m                         \u001B[0mobj\u001B[0m \u001B[1;33m=\u001B[0m \u001B[0m_ForkingPickler\u001B[0m\u001B[1;33m.\u001B[0m\u001B[0mdumps\u001B[0m\u001B[1;33m(\u001B[0m\u001B[0mobj\u001B[0m\u001B[1;33m)\u001B[0m\u001B[1;33m\u001B[0m\u001B[1;33m\u001B[0m\u001B[0m\n\u001B[0m\u001B[0;32m    246\u001B[0m                         \u001B[1;32mif\u001B[0m \u001B[0mwacquire\u001B[0m \u001B[1;32mis\u001B[0m \u001B[1;32mNone\u001B[0m\u001B[1;33m:\u001B[0m\u001B[1;33m\u001B[0m\u001B[1;33m\u001B[0m\u001B[0m\n\u001B[0;32m    247\u001B[0m                             \u001B[0msend_bytes\u001B[0m\u001B[1;33m(\u001B[0m\u001B[0mobj\u001B[0m\u001B[1;33m)\u001B[0m\u001B[1;33m\u001B[0m\u001B[1;33m\u001B[0m\u001B[0m\n",
      "\u001B[1;32mC:\\ProgramData\\Miniconda3\\envs\\xopt\\lib\\multiprocessing\\reduction.py\u001B[0m in \u001B[0;36mdumps\u001B[1;34m(cls, obj, protocol)\u001B[0m\n\u001B[0;32m     49\u001B[0m     \u001B[1;32mdef\u001B[0m \u001B[0mdumps\u001B[0m\u001B[1;33m(\u001B[0m\u001B[0mcls\u001B[0m\u001B[1;33m,\u001B[0m \u001B[0mobj\u001B[0m\u001B[1;33m,\u001B[0m \u001B[0mprotocol\u001B[0m\u001B[1;33m=\u001B[0m\u001B[1;32mNone\u001B[0m\u001B[1;33m)\u001B[0m\u001B[1;33m:\u001B[0m\u001B[1;33m\u001B[0m\u001B[1;33m\u001B[0m\u001B[0m\n\u001B[0;32m     50\u001B[0m         \u001B[0mbuf\u001B[0m \u001B[1;33m=\u001B[0m \u001B[0mio\u001B[0m\u001B[1;33m.\u001B[0m\u001B[0mBytesIO\u001B[0m\u001B[1;33m(\u001B[0m\u001B[1;33m)\u001B[0m\u001B[1;33m\u001B[0m\u001B[1;33m\u001B[0m\u001B[0m\n\u001B[1;32m---> 51\u001B[1;33m         \u001B[0mcls\u001B[0m\u001B[1;33m(\u001B[0m\u001B[0mbuf\u001B[0m\u001B[1;33m,\u001B[0m \u001B[0mprotocol\u001B[0m\u001B[1;33m)\u001B[0m\u001B[1;33m.\u001B[0m\u001B[0mdump\u001B[0m\u001B[1;33m(\u001B[0m\u001B[0mobj\u001B[0m\u001B[1;33m)\u001B[0m\u001B[1;33m\u001B[0m\u001B[1;33m\u001B[0m\u001B[0m\n\u001B[0m\u001B[0;32m     52\u001B[0m         \u001B[1;32mreturn\u001B[0m \u001B[0mbuf\u001B[0m\u001B[1;33m.\u001B[0m\u001B[0mgetbuffer\u001B[0m\u001B[1;33m(\u001B[0m\u001B[1;33m)\u001B[0m\u001B[1;33m\u001B[0m\u001B[1;33m\u001B[0m\u001B[0m\n\u001B[0;32m     53\u001B[0m \u001B[1;33m\u001B[0m\u001B[0m\n",
      "\u001B[1;31mPicklingError\u001B[0m: Can't pickle <class 'xopt.xopt.Xopt'>: it's not the same object as xopt.xopt.Xopt"
     ]
    }
   ],
   "source": [
    "# Run\n",
    "X.run(executor)"
   ]
  },
  {
   "cell_type": "code",
   "execution_count": null,
   "metadata": {},
   "outputs": [],
   "source": [
    "# Check for errors\n",
    "X.results['error']"
   ]
  },
  {
   "cell_type": "markdown",
   "metadata": {},
   "source": [
    "# Run with MPI"
   ]
  },
  {
   "cell_type": "code",
   "execution_count": null,
   "metadata": {},
   "outputs": [],
   "source": [
    "!mpirun -n 4 python -m mpi4py.futures -m xopt.mpi.run test.yaml"
   ]
  },
  {
   "cell_type": "markdown",
   "metadata": {},
   "source": [
    "# Dask "
   ]
  },
  {
   "cell_type": "code",
   "execution_count": null,
   "metadata": {},
   "outputs": [],
   "source": [
    "from dask.distributed import Client\n",
    "executor = Client()\n",
    "#executor = Client(processes=True)\n",
    "executor"
   ]
  },
  {
   "cell_type": "code",
   "execution_count": null,
   "metadata": {},
   "outputs": [],
   "source": [
    "# Wait a few seconds for the Dask cluster to start\n",
    "from time import sleep\n",
    "sleep(5)"
   ]
  },
  {
   "cell_type": "code",
   "execution_count": null,
   "metadata": {},
   "outputs": [],
   "source": [
    "# Run again\n",
    "X.run(executor)\n",
    "executor.close()\n"
   ]
  },
  {
   "cell_type": "code",
   "execution_count": null,
   "metadata": {},
   "outputs": [],
   "source": [
    "X.results['error']"
   ]
  },
  {
   "cell_type": "markdown",
   "metadata": {},
   "source": []
  },
  {
   "cell_type": "markdown",
   "metadata": {
    "pycharm": {
     "name": "#%% md\n"
    }
   },
   "source": [
    "# Cleanup"
   ]
  },
  {
   "cell_type": "code",
   "execution_count": null,
   "metadata": {
    "pycharm": {
     "name": "#%%\n"
    }
   },
   "outputs": [],
   "source": [
    "import shutil\n",
    "import os\n",
    "os.chmod('dask-worker-space/',0o777)\n",
    "shutil.rmtree('dask-worker-space/')\n",
    "#os.chmod('test.yaml',0o777)\n",
    "#os.remove('test.yaml')\n",
    "#os.chmod('NORRAN',0o777)\n",
    "#os.remove('NORRAN')"
   ]
  }
 ],
 "metadata": {
  "kernelspec": {
   "display_name": "Python 3 (ipykernel)",
   "language": "python",
   "name": "python3"
  },
  "language_info": {
   "codemirror_mode": {
    "name": "ipython",
    "version": 3
   },
   "file_extension": ".py",
   "mimetype": "text/x-python",
   "name": "python",
   "nbconvert_exporter": "python",
   "pygments_lexer": "ipython3",
   "version": "3.9.2"
  }
 },
 "nbformat": 4,
 "nbformat_minor": 4
}