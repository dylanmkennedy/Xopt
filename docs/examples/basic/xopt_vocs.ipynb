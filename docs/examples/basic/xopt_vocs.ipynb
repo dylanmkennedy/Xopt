{
 "cells": [
  {
   "cell_type": "markdown",
   "id": "9700f595",
   "metadata": {
    "pycharm": {
     "name": "#%% md\n"
    }
   },
   "source": [
    "# VOCS data structure \n",
    "\n",
    "Variables, Objectives, Constraints, and other Settings (VOCS) helps define our optimization problems. "
   ]
  },
  {
   "cell_type": "code",
   "execution_count": 1,
   "id": "32324ac0-b299-42ee-a6b9-e112dfaa5a45",
   "metadata": {
    "pycharm": {
     "name": "#%%\n"
    },
    "ExecuteTime": {
     "end_time": "2023-10-27T16:46:04.425862200Z",
     "start_time": "2023-10-27T16:46:01.206803200Z"
    }
   },
   "outputs": [],
   "source": [
    "from xopt.vocs import VOCS"
   ]
  },
  {
   "cell_type": "code",
   "execution_count": 2,
   "id": "31a15253-14cd-4547-ab01-09f4b56f5bf5",
   "metadata": {
    "pycharm": {
     "name": "#%%\n"
    },
    "ExecuteTime": {
     "end_time": "2023-10-27T16:46:04.440220800Z",
     "start_time": "2023-10-27T16:46:04.427862900Z"
    }
   },
   "outputs": [
    {
     "data": {
      "text/plain": "VOCS(variables={'a': [0.0, 1000.0], 'b': [-1.0, 1.0]}, constraints={'e': ['LESS_THAN', 2.0], 'f': ['GREATER_THAN', 0.0]}, objectives={'c': 'MAXIMIZE', 'd': 'MINIMIZE'}, constants={'g': 1234}, observables=[])"
     },
     "execution_count": 2,
     "metadata": {},
     "output_type": "execute_result"
    }
   ],
   "source": [
    "Y = \"\"\"\n",
    "variables:\n",
    "  a: [0, 1e3] # Note that 1e3 usually parses as a str with YAML. \n",
    "  b: [-1, 1]\n",
    "objectives:\n",
    "  c: maximize\n",
    "  d: minimize \n",
    "constraints:\n",
    "  e: ['Less_than', 2]\n",
    "  f: ['greater_than', 0]\n",
    "constants:\n",
    "  g: 1234\n",
    "\n",
    "\"\"\"\n",
    "\n",
    "vocs = VOCS.from_yaml(Y)\n",
    "vocs"
   ]
  },
  {
   "cell_type": "code",
   "execution_count": 3,
   "id": "304bcc89",
   "metadata": {
    "pycharm": {
     "name": "#%%\n"
    },
    "ExecuteTime": {
     "end_time": "2023-10-27T16:46:04.484822200Z",
     "start_time": "2023-10-27T16:46:04.442248900Z"
    }
   },
   "outputs": [
    {
     "data": {
      "text/plain": "{'variables': {'a': [0.0, 1000.0], 'b': [-1.0, 1.0]},\n 'constraints': {'e': ['LESS_THAN', 2.0], 'f': ['GREATER_THAN', 0.0]},\n 'objectives': {'c': 'MAXIMIZE', 'd': 'MINIMIZE'},\n 'constants': {'g': 1234},\n 'observables': []}"
     },
     "execution_count": 3,
     "metadata": {},
     "output_type": "execute_result"
    }
   ],
   "source": [
    "# as dict\n",
    "dict(vocs)"
   ]
  },
  {
   "cell_type": "code",
   "execution_count": 4,
   "id": "b236bfb4",
   "metadata": {
    "pycharm": {
     "name": "#%%\n"
    },
    "ExecuteTime": {
     "end_time": "2023-10-27T16:46:04.493762900Z",
     "start_time": "2023-10-27T16:46:04.458284400Z"
    }
   },
   "outputs": [],
   "source": [
    "#  re-parse dict\n",
    "vocs2 = VOCS.from_dict(dict(vocs))"
   ]
  },
  {
   "cell_type": "code",
   "execution_count": 5,
   "id": "76c9a173",
   "metadata": {
    "pycharm": {
     "name": "#%%\n"
    },
    "ExecuteTime": {
     "end_time": "2023-10-27T16:46:04.493762900Z",
     "start_time": "2023-10-27T16:46:04.471285600Z"
    }
   },
   "outputs": [
    {
     "data": {
      "text/plain": "True"
     },
     "execution_count": 5,
     "metadata": {},
     "output_type": "execute_result"
    }
   ],
   "source": [
    "# Check that these are the same\n",
    "vocs2 == vocs"
   ]
  },
  {
   "cell_type": "code",
   "execution_count": 6,
   "id": "6a846f4d",
   "metadata": {
    "pycharm": {
     "name": "#%%\n"
    },
    "ExecuteTime": {
     "end_time": "2023-10-27T16:46:04.503771300Z",
     "start_time": "2023-10-27T16:46:04.486737500Z"
    }
   },
   "outputs": [
    {
     "data": {
      "text/plain": "{'a': [0.0, 1000.0], 'b': [-1.0, 1.0]}"
     },
     "execution_count": 6,
     "metadata": {},
     "output_type": "execute_result"
    }
   ],
   "source": [
    "# This replaces the old vocs[\"variables\"]\n",
    "getattr(vocs, \"variables\")"
   ]
  },
  {
   "cell_type": "code",
   "execution_count": 7,
   "id": "6fa2afc8",
   "metadata": {
    "pycharm": {
     "name": "#%%\n"
    },
    "ExecuteTime": {
     "end_time": "2023-10-27T16:46:04.544770800Z",
     "start_time": "2023-10-27T16:46:04.504768500Z"
    }
   },
   "outputs": [
    {
     "data": {
      "text/plain": "True"
     },
     "execution_count": 7,
     "metadata": {},
     "output_type": "execute_result"
    }
   ],
   "source": [
    "vocs.objectives[\"c\"] == 'MAXIMIZE'"
   ]
  },
  {
   "cell_type": "code",
   "execution_count": 8,
   "id": "713272b7",
   "metadata": {
    "pycharm": {
     "name": "#%%\n"
    },
    "ExecuteTime": {
     "end_time": "2023-10-27T16:46:04.544770800Z",
     "start_time": "2023-10-27T16:46:04.518770200Z"
    }
   },
   "outputs": [
    {
     "data": {
      "text/plain": "'{\"variables\":{\"a\":[0.0,1000.0],\"b\":[-1.0,1.0]},\"constraints\":{\"e\":[\"LESS_THAN\",2.0],\"f\":[\"GREATER_THAN\",0.0]},\"objectives\":{\"c\":\"MAXIMIZE\",\"d\":\"MINIMIZE\"},\"constants\":{\"g\":1234},\"observables\":[]}'"
     },
     "execution_count": 8,
     "metadata": {},
     "output_type": "execute_result"
    }
   ],
   "source": [
    "# json\n",
    "vocs.to_json()"
   ]
  },
  {
   "cell_type": "markdown",
   "id": "11167a85",
   "metadata": {
    "pycharm": {
     "name": "#%% md\n"
    }
   },
   "source": [
    "# Objective Evaluation"
   ]
  },
  {
   "cell_type": "code",
   "execution_count": 9,
   "id": "c4d150be",
   "metadata": {
    "pycharm": {
     "name": "#%%\n"
    },
    "ExecuteTime": {
     "end_time": "2023-10-27T16:46:04.566771500Z",
     "start_time": "2023-10-27T16:46:04.534772500Z"
    }
   },
   "outputs": [
    {
     "data": {
      "text/plain": "             a         b     g           c           d            e  \\\n5   457.389102 -0.358454  1234  457.030648  457.747555   914.061296   \n6   909.170245 -0.010033  1234  909.160212  909.180278  1818.320425   \n7   422.776529 -0.677400  1234  422.099130  423.453929   844.198259   \n8   454.479496 -0.870863  1234  453.608632  455.350359   907.217264   \n9     4.632875  0.255194  1234    4.888069    4.377681     9.776139   \n10  278.216342 -0.254661  1234  277.961681  278.471003   555.923363   \n11  138.994960  0.163017  1234  139.157977  138.831944   278.315954   \n12  963.238898 -0.741689  1234  962.497210  963.980587  1924.994420   \n13  673.537035 -0.543064  1234  672.993971  674.080099  1345.987942   \n14   67.162800 -0.899678  1234   66.263122   68.062478   132.526244   \n\n              f  \n5    915.495111  \n6   1818.360555  \n7    846.907858  \n8    910.700718  \n9      8.755363  \n10   556.942006  \n11   277.663887  \n12  1927.961174  \n13  1348.160198  \n14   136.124956  ",
      "text/html": "<div>\n<style scoped>\n    .dataframe tbody tr th:only-of-type {\n        vertical-align: middle;\n    }\n\n    .dataframe tbody tr th {\n        vertical-align: top;\n    }\n\n    .dataframe thead th {\n        text-align: right;\n    }\n</style>\n<table border=\"1\" class=\"dataframe\">\n  <thead>\n    <tr style=\"text-align: right;\">\n      <th></th>\n      <th>a</th>\n      <th>b</th>\n      <th>g</th>\n      <th>c</th>\n      <th>d</th>\n      <th>e</th>\n      <th>f</th>\n    </tr>\n  </thead>\n  <tbody>\n    <tr>\n      <th>5</th>\n      <td>457.389102</td>\n      <td>-0.358454</td>\n      <td>1234</td>\n      <td>457.030648</td>\n      <td>457.747555</td>\n      <td>914.061296</td>\n      <td>915.495111</td>\n    </tr>\n    <tr>\n      <th>6</th>\n      <td>909.170245</td>\n      <td>-0.010033</td>\n      <td>1234</td>\n      <td>909.160212</td>\n      <td>909.180278</td>\n      <td>1818.320425</td>\n      <td>1818.360555</td>\n    </tr>\n    <tr>\n      <th>7</th>\n      <td>422.776529</td>\n      <td>-0.677400</td>\n      <td>1234</td>\n      <td>422.099130</td>\n      <td>423.453929</td>\n      <td>844.198259</td>\n      <td>846.907858</td>\n    </tr>\n    <tr>\n      <th>8</th>\n      <td>454.479496</td>\n      <td>-0.870863</td>\n      <td>1234</td>\n      <td>453.608632</td>\n      <td>455.350359</td>\n      <td>907.217264</td>\n      <td>910.700718</td>\n    </tr>\n    <tr>\n      <th>9</th>\n      <td>4.632875</td>\n      <td>0.255194</td>\n      <td>1234</td>\n      <td>4.888069</td>\n      <td>4.377681</td>\n      <td>9.776139</td>\n      <td>8.755363</td>\n    </tr>\n    <tr>\n      <th>10</th>\n      <td>278.216342</td>\n      <td>-0.254661</td>\n      <td>1234</td>\n      <td>277.961681</td>\n      <td>278.471003</td>\n      <td>555.923363</td>\n      <td>556.942006</td>\n    </tr>\n    <tr>\n      <th>11</th>\n      <td>138.994960</td>\n      <td>0.163017</td>\n      <td>1234</td>\n      <td>139.157977</td>\n      <td>138.831944</td>\n      <td>278.315954</td>\n      <td>277.663887</td>\n    </tr>\n    <tr>\n      <th>12</th>\n      <td>963.238898</td>\n      <td>-0.741689</td>\n      <td>1234</td>\n      <td>962.497210</td>\n      <td>963.980587</td>\n      <td>1924.994420</td>\n      <td>1927.961174</td>\n    </tr>\n    <tr>\n      <th>13</th>\n      <td>673.537035</td>\n      <td>-0.543064</td>\n      <td>1234</td>\n      <td>672.993971</td>\n      <td>674.080099</td>\n      <td>1345.987942</td>\n      <td>1348.160198</td>\n    </tr>\n    <tr>\n      <th>14</th>\n      <td>67.162800</td>\n      <td>-0.899678</td>\n      <td>1234</td>\n      <td>66.263122</td>\n      <td>68.062478</td>\n      <td>132.526244</td>\n      <td>136.124956</td>\n    </tr>\n  </tbody>\n</table>\n</div>"
     },
     "execution_count": 9,
     "metadata": {},
     "output_type": "execute_result"
    }
   ],
   "source": [
    "from xopt.vocs import form_objective_data, form_constraint_data, form_feasibility_data\n",
    "import pandas as pd\n",
    "import numpy as np\n",
    "\n",
    "data = pd.DataFrame(vocs.random_inputs(10))\n",
    "# Add some outputs\n",
    "data[\"c\"] = data[\"a\"] + data[\"b\"]\n",
    "data[\"d\"] = data[\"a\"] - data[\"b\"]\n",
    "data[\"e\"] = data[\"a\"] * 2 + data[\"b\"] * 2\n",
    "data[\"f\"] = data[\"a\"] * 2 - data[\"b\"] * 2\n",
    "data.index = np.arange(len(data)) + 5  # custom index\n",
    "data"
   ]
  },
  {
   "cell_type": "code",
   "execution_count": 10,
   "id": "a695dc98",
   "metadata": {
    "pycharm": {
     "name": "#%%\n"
    },
    "ExecuteTime": {
     "end_time": "2023-10-27T16:46:04.604993200Z",
     "start_time": "2023-10-27T16:46:04.563770500Z"
    }
   },
   "outputs": [
    {
     "data": {
      "text/plain": "{'c': 'MAXIMIZE', 'd': 'MINIMIZE'}"
     },
     "execution_count": 10,
     "metadata": {},
     "output_type": "execute_result"
    }
   ],
   "source": [
    "vocs.objectives"
   ]
  },
  {
   "cell_type": "code",
   "execution_count": 11,
   "id": "43051b71",
   "metadata": {
    "pycharm": {
     "name": "#%%\n"
    },
    "ExecuteTime": {
     "end_time": "2023-10-27T16:46:04.635082700Z",
     "start_time": "2023-10-27T16:46:04.582806500Z"
    }
   },
   "outputs": [
    {
     "data": {
      "text/plain": "    objective_c  objective_d\n5   -457.030648   457.747555\n6   -909.160212   909.180278\n7   -422.099130   423.453929\n8   -453.608632   455.350359\n9     -4.888069     4.377681\n10  -277.961681   278.471003\n11  -139.157977   138.831944\n12  -962.497210   963.980587\n13  -672.993971   674.080099\n14   -66.263122    68.062478",
      "text/html": "<div>\n<style scoped>\n    .dataframe tbody tr th:only-of-type {\n        vertical-align: middle;\n    }\n\n    .dataframe tbody tr th {\n        vertical-align: top;\n    }\n\n    .dataframe thead th {\n        text-align: right;\n    }\n</style>\n<table border=\"1\" class=\"dataframe\">\n  <thead>\n    <tr style=\"text-align: right;\">\n      <th></th>\n      <th>objective_c</th>\n      <th>objective_d</th>\n    </tr>\n  </thead>\n  <tbody>\n    <tr>\n      <th>5</th>\n      <td>-457.030648</td>\n      <td>457.747555</td>\n    </tr>\n    <tr>\n      <th>6</th>\n      <td>-909.160212</td>\n      <td>909.180278</td>\n    </tr>\n    <tr>\n      <th>7</th>\n      <td>-422.099130</td>\n      <td>423.453929</td>\n    </tr>\n    <tr>\n      <th>8</th>\n      <td>-453.608632</td>\n      <td>455.350359</td>\n    </tr>\n    <tr>\n      <th>9</th>\n      <td>-4.888069</td>\n      <td>4.377681</td>\n    </tr>\n    <tr>\n      <th>10</th>\n      <td>-277.961681</td>\n      <td>278.471003</td>\n    </tr>\n    <tr>\n      <th>11</th>\n      <td>-139.157977</td>\n      <td>138.831944</td>\n    </tr>\n    <tr>\n      <th>12</th>\n      <td>-962.497210</td>\n      <td>963.980587</td>\n    </tr>\n    <tr>\n      <th>13</th>\n      <td>-672.993971</td>\n      <td>674.080099</td>\n    </tr>\n    <tr>\n      <th>14</th>\n      <td>-66.263122</td>\n      <td>68.062478</td>\n    </tr>\n  </tbody>\n</table>\n</div>"
     },
     "execution_count": 11,
     "metadata": {},
     "output_type": "execute_result"
    }
   ],
   "source": [
    "# These are in standard form for minimization\n",
    "form_objective_data(vocs.objectives, data)"
   ]
  },
  {
   "cell_type": "code",
   "execution_count": 12,
   "id": "2ed50815",
   "metadata": {
    "pycharm": {
     "name": "#%%\n"
    },
    "ExecuteTime": {
     "end_time": "2023-10-27T16:46:04.635997800Z",
     "start_time": "2023-10-27T16:46:04.592809200Z"
    }
   },
   "outputs": [
    {
     "data": {
      "text/plain": "    objective_c  objective_d\n5   -457.030648   457.747555\n6   -909.160212   909.180278\n7   -422.099130   423.453929\n8   -453.608632   455.350359\n9     -4.888069     4.377681\n10  -277.961681   278.471003\n11  -139.157977   138.831944\n12  -962.497210   963.980587\n13  -672.993971   674.080099\n14   -66.263122    68.062478",
      "text/html": "<div>\n<style scoped>\n    .dataframe tbody tr th:only-of-type {\n        vertical-align: middle;\n    }\n\n    .dataframe tbody tr th {\n        vertical-align: top;\n    }\n\n    .dataframe thead th {\n        text-align: right;\n    }\n</style>\n<table border=\"1\" class=\"dataframe\">\n  <thead>\n    <tr style=\"text-align: right;\">\n      <th></th>\n      <th>objective_c</th>\n      <th>objective_d</th>\n    </tr>\n  </thead>\n  <tbody>\n    <tr>\n      <th>5</th>\n      <td>-457.030648</td>\n      <td>457.747555</td>\n    </tr>\n    <tr>\n      <th>6</th>\n      <td>-909.160212</td>\n      <td>909.180278</td>\n    </tr>\n    <tr>\n      <th>7</th>\n      <td>-422.099130</td>\n      <td>423.453929</td>\n    </tr>\n    <tr>\n      <th>8</th>\n      <td>-453.608632</td>\n      <td>455.350359</td>\n    </tr>\n    <tr>\n      <th>9</th>\n      <td>-4.888069</td>\n      <td>4.377681</td>\n    </tr>\n    <tr>\n      <th>10</th>\n      <td>-277.961681</td>\n      <td>278.471003</td>\n    </tr>\n    <tr>\n      <th>11</th>\n      <td>-139.157977</td>\n      <td>138.831944</td>\n    </tr>\n    <tr>\n      <th>12</th>\n      <td>-962.497210</td>\n      <td>963.980587</td>\n    </tr>\n    <tr>\n      <th>13</th>\n      <td>-672.993971</td>\n      <td>674.080099</td>\n    </tr>\n    <tr>\n      <th>14</th>\n      <td>-66.263122</td>\n      <td>68.062478</td>\n    </tr>\n  </tbody>\n</table>\n</div>"
     },
     "execution_count": 12,
     "metadata": {},
     "output_type": "execute_result"
    }
   ],
   "source": [
    "# This is also available as a method\n",
    "vocs.objective_data(data)"
   ]
  },
  {
   "cell_type": "code",
   "execution_count": 13,
   "id": "9f4275d4",
   "metadata": {
    "pycharm": {
     "name": "#%%\n"
    },
    "ExecuteTime": {
     "end_time": "2023-10-27T16:46:04.665088600Z",
     "start_time": "2023-10-27T16:46:04.607996700Z"
    }
   },
   "outputs": [
    {
     "data": {
      "text/plain": "array([[-457.03064787,  457.74755543],\n       [-909.16021234,  909.18027752],\n       [-422.09912972,  423.45392906],\n       [-453.60863224,  455.35035884],\n       [  -4.88806927,    4.37768142],\n       [-277.96168136,  278.47100295],\n       [-139.15797679,  138.83194372],\n       [-962.49720987,  963.98058709],\n       [-672.99397107,  674.08009891],\n       [ -66.26312196,   68.06247775]])"
     },
     "execution_count": 13,
     "metadata": {},
     "output_type": "execute_result"
    }
   ],
   "source": [
    "# use the to_numpy() method to convert for low level use.\n",
    "vocs.objective_data(data).to_numpy()"
   ]
  },
  {
   "cell_type": "code",
   "execution_count": 14,
   "id": "29b73df4",
   "metadata": {
    "pycharm": {
     "name": "#%%\n"
    },
    "ExecuteTime": {
     "end_time": "2023-10-27T16:46:04.702034Z",
     "start_time": "2023-10-27T16:46:04.622998Z"
    }
   },
   "outputs": [
    {
     "data": {
      "text/plain": "    constraint_e  constraint_f\n5     912.061296   -915.495111\n6    1816.320425  -1818.360555\n7     842.198259   -846.907858\n8     905.217264   -910.700718\n9       7.776139     -8.755363\n10    553.923363   -556.942006\n11    276.315954   -277.663887\n12   1922.994420  -1927.961174\n13   1343.987942  -1348.160198\n14    130.526244   -136.124956",
      "text/html": "<div>\n<style scoped>\n    .dataframe tbody tr th:only-of-type {\n        vertical-align: middle;\n    }\n\n    .dataframe tbody tr th {\n        vertical-align: top;\n    }\n\n    .dataframe thead th {\n        text-align: right;\n    }\n</style>\n<table border=\"1\" class=\"dataframe\">\n  <thead>\n    <tr style=\"text-align: right;\">\n      <th></th>\n      <th>constraint_e</th>\n      <th>constraint_f</th>\n    </tr>\n  </thead>\n  <tbody>\n    <tr>\n      <th>5</th>\n      <td>912.061296</td>\n      <td>-915.495111</td>\n    </tr>\n    <tr>\n      <th>6</th>\n      <td>1816.320425</td>\n      <td>-1818.360555</td>\n    </tr>\n    <tr>\n      <th>7</th>\n      <td>842.198259</td>\n      <td>-846.907858</td>\n    </tr>\n    <tr>\n      <th>8</th>\n      <td>905.217264</td>\n      <td>-910.700718</td>\n    </tr>\n    <tr>\n      <th>9</th>\n      <td>7.776139</td>\n      <td>-8.755363</td>\n    </tr>\n    <tr>\n      <th>10</th>\n      <td>553.923363</td>\n      <td>-556.942006</td>\n    </tr>\n    <tr>\n      <th>11</th>\n      <td>276.315954</td>\n      <td>-277.663887</td>\n    </tr>\n    <tr>\n      <th>12</th>\n      <td>1922.994420</td>\n      <td>-1927.961174</td>\n    </tr>\n    <tr>\n      <th>13</th>\n      <td>1343.987942</td>\n      <td>-1348.160198</td>\n    </tr>\n    <tr>\n      <th>14</th>\n      <td>130.526244</td>\n      <td>-136.124956</td>\n    </tr>\n  </tbody>\n</table>\n</div>"
     },
     "execution_count": 14,
     "metadata": {},
     "output_type": "execute_result"
    }
   ],
   "source": [
    "vocs.constraint_data(data)"
   ]
  },
  {
   "cell_type": "code",
   "execution_count": 15,
   "id": "e46a5e83",
   "metadata": {
    "pycharm": {
     "name": "#%%\n"
    },
    "ExecuteTime": {
     "end_time": "2023-10-27T16:46:04.703032900Z",
     "start_time": "2023-10-27T16:46:04.642000500Z"
    }
   },
   "outputs": [
    {
     "data": {
      "text/plain": "    feasible_e  feasible_f  feasible\n5        False        True     False\n6        False        True     False\n7        False        True     False\n8        False        True     False\n9        False        True     False\n10       False        True     False\n11       False        True     False\n12       False        True     False\n13       False        True     False\n14       False        True     False",
      "text/html": "<div>\n<style scoped>\n    .dataframe tbody tr th:only-of-type {\n        vertical-align: middle;\n    }\n\n    .dataframe tbody tr th {\n        vertical-align: top;\n    }\n\n    .dataframe thead th {\n        text-align: right;\n    }\n</style>\n<table border=\"1\" class=\"dataframe\">\n  <thead>\n    <tr style=\"text-align: right;\">\n      <th></th>\n      <th>feasible_e</th>\n      <th>feasible_f</th>\n      <th>feasible</th>\n    </tr>\n  </thead>\n  <tbody>\n    <tr>\n      <th>5</th>\n      <td>False</td>\n      <td>True</td>\n      <td>False</td>\n    </tr>\n    <tr>\n      <th>6</th>\n      <td>False</td>\n      <td>True</td>\n      <td>False</td>\n    </tr>\n    <tr>\n      <th>7</th>\n      <td>False</td>\n      <td>True</td>\n      <td>False</td>\n    </tr>\n    <tr>\n      <th>8</th>\n      <td>False</td>\n      <td>True</td>\n      <td>False</td>\n    </tr>\n    <tr>\n      <th>9</th>\n      <td>False</td>\n      <td>True</td>\n      <td>False</td>\n    </tr>\n    <tr>\n      <th>10</th>\n      <td>False</td>\n      <td>True</td>\n      <td>False</td>\n    </tr>\n    <tr>\n      <th>11</th>\n      <td>False</td>\n      <td>True</td>\n      <td>False</td>\n    </tr>\n    <tr>\n      <th>12</th>\n      <td>False</td>\n      <td>True</td>\n      <td>False</td>\n    </tr>\n    <tr>\n      <th>13</th>\n      <td>False</td>\n      <td>True</td>\n      <td>False</td>\n    </tr>\n    <tr>\n      <th>14</th>\n      <td>False</td>\n      <td>True</td>\n      <td>False</td>\n    </tr>\n  </tbody>\n</table>\n</div>"
     },
     "execution_count": 15,
     "metadata": {},
     "output_type": "execute_result"
    }
   ],
   "source": [
    "vocs.feasibility_data(data)"
   ]
  },
  {
   "cell_type": "code",
   "execution_count": 16,
   "outputs": [
    {
     "data": {
      "text/plain": "           a         b\n5   0.457389  0.320773\n6   0.909170  0.494984\n7   0.422777  0.161300\n8   0.454479  0.064568\n9   0.004633  0.627597\n10  0.278216  0.372670\n11  0.138995  0.581508\n12  0.963239  0.129156\n13  0.673537  0.228468\n14  0.067163  0.050161",
      "text/html": "<div>\n<style scoped>\n    .dataframe tbody tr th:only-of-type {\n        vertical-align: middle;\n    }\n\n    .dataframe tbody tr th {\n        vertical-align: top;\n    }\n\n    .dataframe thead th {\n        text-align: right;\n    }\n</style>\n<table border=\"1\" class=\"dataframe\">\n  <thead>\n    <tr style=\"text-align: right;\">\n      <th></th>\n      <th>a</th>\n      <th>b</th>\n    </tr>\n  </thead>\n  <tbody>\n    <tr>\n      <th>5</th>\n      <td>0.457389</td>\n      <td>0.320773</td>\n    </tr>\n    <tr>\n      <th>6</th>\n      <td>0.909170</td>\n      <td>0.494984</td>\n    </tr>\n    <tr>\n      <th>7</th>\n      <td>0.422777</td>\n      <td>0.161300</td>\n    </tr>\n    <tr>\n      <th>8</th>\n      <td>0.454479</td>\n      <td>0.064568</td>\n    </tr>\n    <tr>\n      <th>9</th>\n      <td>0.004633</td>\n      <td>0.627597</td>\n    </tr>\n    <tr>\n      <th>10</th>\n      <td>0.278216</td>\n      <td>0.372670</td>\n    </tr>\n    <tr>\n      <th>11</th>\n      <td>0.138995</td>\n      <td>0.581508</td>\n    </tr>\n    <tr>\n      <th>12</th>\n      <td>0.963239</td>\n      <td>0.129156</td>\n    </tr>\n    <tr>\n      <th>13</th>\n      <td>0.673537</td>\n      <td>0.228468</td>\n    </tr>\n    <tr>\n      <th>14</th>\n      <td>0.067163</td>\n      <td>0.050161</td>\n    </tr>\n  </tbody>\n</table>\n</div>"
     },
     "execution_count": 16,
     "metadata": {},
     "output_type": "execute_result"
    }
   ],
   "source": [
    "# normalize inputs to unit domain [0,1]\n",
    "vocs.normalize_inputs(data)"
   ],
   "metadata": {
    "collapsed": false,
    "ExecuteTime": {
     "end_time": "2023-10-27T16:46:04.703032900Z",
     "start_time": "2023-10-27T16:46:04.665088600Z"
    }
   }
  },
  {
   "cell_type": "markdown",
   "id": "59041be7",
   "metadata": {},
   "source": [
    "# Error handling"
   ]
  },
  {
   "cell_type": "code",
   "execution_count": 17,
   "id": "f9171ede",
   "metadata": {
    "ExecuteTime": {
     "end_time": "2023-10-27T16:46:04.719064600Z",
     "start_time": "2023-10-27T16:46:04.668031Z"
    }
   },
   "outputs": [],
   "source": [
    "Y = \"\"\"\n",
    "variables:\n",
    "  a: [0, 1e3] # Note that 1e3 usually parses as a str with YAML. \n",
    "  b: [-1, 1]\n",
    "objectives:\n",
    "  c: maximize\n",
    "  d: minimize \n",
    "constraints:\n",
    "  e: ['Less_than', 2]\n",
    "  f: ['greater_than', 0]\n",
    "constants:\n",
    "  g: 1234\n",
    "\n",
    "\"\"\"\n",
    "\n",
    "vocs = VOCS.from_yaml(Y)"
   ]
  },
  {
   "cell_type": "code",
   "execution_count": 18,
   "id": "b5513539",
   "metadata": {
    "ExecuteTime": {
     "end_time": "2023-10-27T16:46:04.763060700Z",
     "start_time": "2023-10-27T16:46:04.686996500Z"
    }
   },
   "outputs": [
    {
     "data": {
      "text/plain": "0   NaN\n1   NaN\n2   NaN\nName: b, dtype: float64"
     },
     "execution_count": 18,
     "metadata": {},
     "output_type": "execute_result"
    }
   ],
   "source": [
    "d = {'a': [1,2,3]}\n",
    "\n",
    "df = pd.DataFrame(d)\n",
    "df2 = pd.DataFrame(df).copy()\n",
    "\n",
    "df2['b'] = np.nan\n",
    "df2['b'] - 1"
   ]
  },
  {
   "cell_type": "code",
   "execution_count": 19,
   "id": "30f3b3b4",
   "metadata": {
    "ExecuteTime": {
     "end_time": "2023-10-27T16:46:04.800032400Z",
     "start_time": "2023-10-27T16:46:04.698034700Z"
    }
   },
   "outputs": [],
   "source": [
    "data['a']  = np.nan"
   ]
  },
  {
   "cell_type": "code",
   "execution_count": 20,
   "id": "6393376b",
   "metadata": {
    "ExecuteTime": {
     "end_time": "2023-10-27T16:46:04.877099700Z",
     "start_time": "2023-10-27T16:46:04.715062Z"
    }
   },
   "outputs": [
    {
     "data": {
      "text/plain": "2"
     },
     "execution_count": 20,
     "metadata": {},
     "output_type": "execute_result"
    }
   ],
   "source": [
    "a = 2\n",
    "def f(x=a):\n",
    "    return x\n",
    "a=99\n",
    "f()"
   ]
  },
  {
   "cell_type": "code",
   "execution_count": 21,
   "id": "cb0ecd74",
   "metadata": {
    "ExecuteTime": {
     "end_time": "2023-10-27T16:46:04.880100300Z",
     "start_time": "2023-10-27T16:46:04.728063600Z"
    }
   },
   "outputs": [
    {
     "data": {
      "text/plain": "              A\n1  6.000000e+66\n2  6.000000e+66\n3  6.000000e+66",
      "text/html": "<div>\n<style scoped>\n    .dataframe tbody tr th:only-of-type {\n        vertical-align: middle;\n    }\n\n    .dataframe tbody tr th {\n        vertical-align: top;\n    }\n\n    .dataframe thead th {\n        text-align: right;\n    }\n</style>\n<table border=\"1\" class=\"dataframe\">\n  <thead>\n    <tr style=\"text-align: right;\">\n      <th></th>\n      <th>A</th>\n    </tr>\n  </thead>\n  <tbody>\n    <tr>\n      <th>1</th>\n      <td>6.000000e+66</td>\n    </tr>\n    <tr>\n      <th>2</th>\n      <td>6.000000e+66</td>\n    </tr>\n    <tr>\n      <th>3</th>\n      <td>6.000000e+66</td>\n    </tr>\n  </tbody>\n</table>\n</div>"
     },
     "execution_count": 21,
     "metadata": {},
     "output_type": "execute_result"
    }
   ],
   "source": [
    "pd.DataFrame(6e66, index=[1,2,3], columns=['A'])"
   ]
  },
  {
   "cell_type": "code",
   "execution_count": 22,
   "id": "88bb8253",
   "metadata": {
    "ExecuteTime": {
     "end_time": "2023-10-27T16:46:04.896129200Z",
     "start_time": "2023-10-27T16:46:04.744036400Z"
    }
   },
   "outputs": [
    {
     "data": {
      "text/plain": "   objective_c  objective_d\n9         -1.0          inf\n3         -2.0          inf\n4         -3.0          inf\n5         -4.0          inf",
      "text/html": "<div>\n<style scoped>\n    .dataframe tbody tr th:only-of-type {\n        vertical-align: middle;\n    }\n\n    .dataframe tbody tr th {\n        vertical-align: top;\n    }\n\n    .dataframe thead th {\n        text-align: right;\n    }\n</style>\n<table border=\"1\" class=\"dataframe\">\n  <thead>\n    <tr style=\"text-align: right;\">\n      <th></th>\n      <th>objective_c</th>\n      <th>objective_d</th>\n    </tr>\n  </thead>\n  <tbody>\n    <tr>\n      <th>9</th>\n      <td>-1.0</td>\n      <td>inf</td>\n    </tr>\n    <tr>\n      <th>3</th>\n      <td>-2.0</td>\n      <td>inf</td>\n    </tr>\n    <tr>\n      <th>4</th>\n      <td>-3.0</td>\n      <td>inf</td>\n    </tr>\n    <tr>\n      <th>5</th>\n      <td>-4.0</td>\n      <td>inf</td>\n    </tr>\n  </tbody>\n</table>\n</div>"
     },
     "execution_count": 22,
     "metadata": {},
     "output_type": "execute_result"
    }
   ],
   "source": [
    "# These are in standard form for minimization\n",
    "\n",
    "data = pd.DataFrame({'c':[1,2,3,4]}, index=[9,3,4,5])\n",
    "\n",
    "form_objective_data(vocs.objectives, data)"
   ]
  }
 ],
 "metadata": {
  "interpreter": {
   "hash": "60703f99bc9a1e465ed9e894ac1e8f256837fa55699b4912a7939def4ae95691"
  },
  "kernelspec": {
   "display_name": "Python 3 (ipykernel)",
   "language": "python",
   "name": "python3"
  },
  "language_info": {
   "codemirror_mode": {
    "name": "ipython",
    "version": 3
   },
   "file_extension": ".py",
   "mimetype": "text/x-python",
   "name": "python",
   "nbconvert_exporter": "python",
   "pygments_lexer": "ipython3",
   "version": "3.9.18"
  }
 },
 "nbformat": 4,
 "nbformat_minor": 5
}
