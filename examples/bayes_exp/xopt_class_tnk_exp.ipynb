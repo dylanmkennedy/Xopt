{
 "cells": [
  {
   "cell_type": "code",
   "execution_count": 1,
   "metadata": {},
   "outputs": [],
   "source": [
    "# Useful for debugging\n",
    "%load_ext autoreload\n",
    "%autoreload 2"
   ]
  },
  {
   "cell_type": "markdown",
   "metadata": {},
   "source": [
    "# Xopt class, TNK test function\n",
    "\n",
    "This is the class method for running Xopt.\n",
    "\n",
    "TNK function\n",
    "$n=2$ variables:\n",
    "$x_i \\in [0, \\pi], i=1,2$\n",
    "\n",
    "Objectives:\n",
    "- $f_i(x) = x_i$\n",
    "\n",
    "Constraints:\n",
    "- $g_1(x) = -x_1^2 -x_2^2 + 1 + 0.1 \\cos\\left(16 \\arctan \\frac{x_1}{x_2}\\right) \\le 0$\n",
    "- $g_2(x) = (x_1 - 1/2)^2 + (x_2-1/2)^2 \\le 0.5$"
   ]
  },
  {
   "cell_type": "code",
   "execution_count": 2,
   "metadata": {},
   "outputs": [],
   "source": [
    "# Import the class\n",
    "from xopt import Xopt"
   ]
  },
  {
   "cell_type": "markdown",
   "metadata": {},
   "source": [
    "The `Xopt` object can be instantiated from a JSON or YAML file, or a dict, with the proper structure.\n",
    "\n",
    "Here we will make one"
   ]
  },
  {
   "cell_type": "code",
   "execution_count": 3,
   "metadata": {},
   "outputs": [],
   "source": [
    "import yaml\n",
    "# Make a proper input file. \n",
    "YAML=\"\"\"\n",
    "xopt: {output_path: null, verbose: true}\n",
    "\n",
    "algorithm:\n",
    "  name: bayesian_exploration\n",
    "  options: {n_initial_samples: 5,\n",
    "            use_gpu: False,\n",
    "            n_steps: 20, \n",
    "            verbose: True}\n",
    "  \n",
    "simulation: \n",
    "  name: test_TNK\n",
    "  evaluate: xopt.evaluators.test_TNK.evaluate_TNK  \n",
    "  \n",
    "vocs:\n",
    "  name: TNK_test\n",
    "  description: null\n",
    "  simulation: test_TNK\n",
    "  templates: null\n",
    "  variables:\n",
    "    x1: [0, 3.14159]\n",
    "    x2: [0, 3.14159]\n",
    "  objectives: {y1: None}\n",
    "  constraints:\n",
    "    c1: [GREATER_THAN, 0]\n",
    "    c2: ['LESS_THAN', 0.5]\n",
    "  linked_variables: {x9: x1}\n",
    "  constants: {a: dummy_constant}\n",
    "\n",
    "\"\"\"\n",
    "config = yaml.safe_load(YAML)"
   ]
  },
  {
   "cell_type": "code",
   "execution_count": 4,
   "metadata": {},
   "outputs": [
    {
     "name": "stdout",
     "output_type": "stream",
     "text": [
      "Loading config as dict.\n",
      "Warning: No path set for key xopt : output_path\n"
     ]
    },
    {
     "data": {
      "text/plain": [
       "\n",
       "            Xopt \n",
       "________________________________           \n",
       "Version: 0.4.3\n",
       "Configured: True\n",
       "Config as YAML:\n",
       "xopt: {output_path: null, verbose: true}\n",
       "algorithm:\n",
       "  name: bayesian_exploration\n",
       "  function: xopt.bayesian_exploration.bayesian_exploration\n",
       "  options: {n_initial_samples: 5, use_gpu: false, n_steps: 20, verbose: true}\n",
       "simulation:\n",
       "  name: test_TNK\n",
       "  evaluate: xopt.evaluators.test_TNK.evaluate_TNK\n",
       "  options: {extra_option: abc}\n",
       "vocs:\n",
       "  name: TNK_test\n",
       "  description: null\n",
       "  simulation: test_TNK\n",
       "  templates: null\n",
       "  variables:\n",
       "    x1: [0, 3.14159]\n",
       "    x2: [0, 3.14159]\n",
       "  objectives: {y1: None}\n",
       "  constraints:\n",
       "    c1: [GREATER_THAN, 0]\n",
       "    c2: [LESS_THAN, 0.5]\n",
       "  linked_variables: {x9: x1}\n",
       "  constants: {a: dummy_constant}"
      ]
     },
     "execution_count": 4,
     "metadata": {},
     "output_type": "execute_result"
    }
   ],
   "source": [
    "# Optional: Connect the function directly\n",
    "#from xopt.evaluators.test_TNK import evaluate_TNK \n",
    "#config['simulation']['evaluate'] = evaluate_TNK \n",
    "\n",
    "X = Xopt(config)\n",
    "X"
   ]
  },
  {
   "cell_type": "code",
   "execution_count": 5,
   "metadata": {},
   "outputs": [
    {
     "data": {
      "text/plain": [
       "{'y1': 1.246512204862633,\n",
       " 'y2': 2.9007254728982272,\n",
       " 'c1': 8.870211640899418,\n",
       " 'c2': 6.320763268231286,\n",
       " 'some_array': array([1, 2, 3])}"
      ]
     },
     "execution_count": 5,
     "metadata": {},
     "output_type": "execute_result"
    }
   ],
   "source": [
    "# Note that the repr string contains all of the config information\n",
    "X.random_evaluate()"
   ]
  },
  {
   "cell_type": "markdown",
   "metadata": {},
   "source": [
    "# Run CNSGA\n",
    "\n",
    "CNSGA is designed to run in parallel with an asynchronous executor as defined in PEP 3148"
   ]
  },
  {
   "cell_type": "code",
   "execution_count": 6,
   "metadata": {},
   "outputs": [],
   "source": [
    "# Pick one of these\n",
    "from concurrent.futures import ThreadPoolExecutor as PoolExecutor\n",
    "#from concurrent.futures import ProcessPoolExecutor as PoolExecutor\n",
    "\n",
    "executor = PoolExecutor()\n",
    "# This will also work. \n",
    "#executor=None"
   ]
  },
  {
   "cell_type": "code",
   "execution_count": 7,
   "metadata": {},
   "outputs": [
    {
     "name": "stdout",
     "output_type": "stream",
     "text": [
      "Starting at time 2021-08-04T10:24:25-05:00\n",
      "tensor([[0.2792, 0.4639]], dtype=torch.float64)\n",
      "6\n",
      "tensor([[0.9320, 0.9352]], dtype=torch.float64)\n",
      "7\n",
      "tensor([[0.0000, 1.1984]], dtype=torch.float64)\n",
      "8\n",
      "tensor([[0.6292, 1.0423]], dtype=torch.float64)\n",
      "9\n",
      "tensor([[1.0020, 0.2338]], dtype=torch.float64)\n",
      "10\n",
      "tensor([[1.1069, 0.6179]], dtype=torch.float64)\n",
      "11\n",
      "tensor([[0.3235, 1.0827]], dtype=torch.float64)\n",
      "12\n",
      "tensor([[1.0067, 0.0978]], dtype=torch.float64)\n",
      "13\n",
      "tensor([[0.8232, 0.6844]], dtype=torch.float64)\n",
      "14\n",
      "tensor([[0.9723, 0.9839]], dtype=torch.float64)\n",
      "15\n",
      "tensor([[1.1717, 0.6273]], dtype=torch.float64)\n",
      "16\n",
      "tensor([[0.6489, 1.1504]], dtype=torch.float64)\n",
      "17\n",
      "tensor([[1.0307, 0.0657]], dtype=torch.float64)\n",
      "18\n",
      "tensor([[0.1685, 1.0565]], dtype=torch.float64)\n",
      "19\n",
      "tensor([[0.5980, 0.8358]], dtype=torch.float64)\n",
      "20\n",
      "tensor([[0.3902, 1.1716]], dtype=torch.float64)\n",
      "21\n",
      "tensor([[0.0000, 0.9322]], dtype=torch.float64)\n",
      "22\n",
      "tensor([[0.8735, 0.5280]], dtype=torch.float64)\n",
      "23\n",
      "tensor([[0.8226, 1.1055]], dtype=torch.float64)\n",
      "24\n",
      "tensor([[1.1500, 0.7321]], dtype=torch.float64)\n",
      "25\n"
     ]
    }
   ],
   "source": [
    "# Change max generations\n",
    "X.run(executor=executor)"
   ]
  },
  {
   "cell_type": "markdown",
   "metadata": {},
   "source": [
    "# Plot"
   ]
  },
  {
   "cell_type": "code",
   "execution_count": 8,
   "metadata": {},
   "outputs": [
    {
     "name": "stdout",
     "output_type": "stream",
     "text": [
      "tensor([[3.1175, 1.8267],\n",
      "        [0.2910, 1.9205],\n",
      "        [1.9441, 0.6129],\n",
      "        [1.4840, 0.2225],\n",
      "        [1.8743, 2.8733],\n",
      "        [0.2792, 0.4639],\n",
      "        [0.9320, 0.9352],\n",
      "        [0.0000, 1.1984],\n",
      "        [0.6292, 1.0423],\n",
      "        [1.0020, 0.2338],\n",
      "        [1.1069, 0.6179],\n",
      "        [0.3235, 1.0827],\n",
      "        [1.0067, 0.0978],\n",
      "        [0.8232, 0.6844],\n",
      "        [0.9723, 0.9839],\n",
      "        [1.1717, 0.6273],\n",
      "        [0.6489, 1.1504],\n",
      "        [1.0307, 0.0657],\n",
      "        [0.1685, 1.0565],\n",
      "        [0.5980, 0.8358],\n",
      "        [0.3902, 1.1716],\n",
      "        [0.0000, 0.9322],\n",
      "        [0.8735, 0.5280],\n",
      "        [0.8226, 1.1055],\n",
      "        [1.1500, 0.7321]], dtype=torch.float64)\n"
     ]
    },
    {
     "data": {
      "text/plain": [
       "<matplotlib.collections.PathCollection at 0x2828ee96370>"
      ]
     },
     "execution_count": 8,
     "metadata": {},
     "output_type": "execute_result"
    },
    {
     "data": {
      "image/png": "[encoded data removed]",
      "text/plain": [
       "<Figure size 360x360 with 1 Axes>"
      ]
     },
     "metadata": {
      "needs_background": "light"
     },
     "output_type": "display_data"
    }
   ],
   "source": [
    "import matplotlib.pyplot as plt\n",
    "%matplotlib inline\n",
    "\n",
    "train_x = X.results['inputs']\n",
    "print(train_x)\n",
    "feas = X.results['feasibility']\n",
    "fig, ax = plt.subplots(figsize=(5,5))\n",
    "\n",
    "ax.scatter(*train_x.T, c = feas.int())\n"
   ]
  },
  {
   "cell_type": "code",
   "execution_count": null,
   "metadata": {},
   "outputs": [],
   "source": []
  }
 ],
 "metadata": {
  "kernelspec": {
   "display_name": "xopt",
   "language": "python",
   "name": "xopt"
  },
  "language_info": {
   "codemirror_mode": {
    "name": "ipython",
    "version": 3
   },
   "file_extension": ".py",
   "mimetype": "text/x-python",
   "name": "python",
   "nbconvert_exporter": "python",
   "pygments_lexer": "ipython3",
   "version": "3.9.6"
  }
 },
 "nbformat": 4,
 "nbformat_minor": 4
}
