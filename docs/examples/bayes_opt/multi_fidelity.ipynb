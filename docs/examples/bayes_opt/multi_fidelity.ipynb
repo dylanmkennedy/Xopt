{
 "cells": [
  {
   "cell_type": "markdown",
   "source": [
    "## Multi-fidelity Bayesian Optimization"
   ],
   "metadata": {
    "collapsed": false
   }
  },
  {
   "cell_type": "code",
   "execution_count": 1,
   "outputs": [],
   "source": [
    "import matplotlib.pyplot as plt\n",
    "import numpy as np\n",
    "import math\n",
    "\n",
    "import pandas as pd\n",
    "import torch\n",
    "\n",
    "from botorch.test_functions.multi_fidelity import AugmentedHartmann\n",
    "problem = AugmentedHartmann()\n",
    "\n",
    "def test_function(input_dict):\n",
    "    x = torch.tensor([input_dict[f\"x{i}\"] for i in range(1,7)])\n",
    "    s = torch.tensor(input_dict[\"s\"]).unsqueeze(0)\n",
    "    return {\"f\": problem(torch.cat((x,s))).numpy()}\n",
    "\n",
    "\n",
    "# define vocs\n",
    "from xopt import VOCS\n",
    "vocs = VOCS(\n",
    "    variables={\n",
    "        \"x1\": [0, 1],\n",
    "        \"x2\": [0, 1],\n",
    "        \"x3\": [0, 1],\n",
    "        \"x4\": [0, 1],\n",
    "        \"x5\": [0, 1],\n",
    "        \"x6\": [0, 1],\n",
    "    },\n",
    "    objectives={\"f\": \"MINIMIZE\"},\n",
    ")"
   ],
   "metadata": {
    "collapsed": false
   }
  },
  {
   "cell_type": "code",
   "execution_count": 2,
   "outputs": [
    {
     "ename": "ValueError",
     "evalue": "\"MultiFidelityAcqOptions\" object has no field \"base_cost\"",
     "output_type": "error",
     "traceback": [
      "\u001B[1;31m---------------------------------------------------------------------------\u001B[0m",
      "\u001B[1;31mValueError\u001B[0m                                Traceback (most recent call last)",
      "Cell \u001B[1;32mIn[2], line 9\u001B[0m\n\u001B[0;32m      6\u001B[0m options \u001B[38;5;241m=\u001B[39m MultiFidelityBayesianGenerator\u001B[38;5;241m.\u001B[39mdefault_options()\n\u001B[0;32m      8\u001B[0m \u001B[38;5;66;03m# set the base cost of evaluating the function\u001B[39;00m\n\u001B[1;32m----> 9\u001B[0m \u001B[43moptions\u001B[49m\u001B[38;5;241;43m.\u001B[39;49m\u001B[43macq\u001B[49m\u001B[38;5;241;43m.\u001B[39;49m\u001B[43mbase_cost\u001B[49m \u001B[38;5;241m=\u001B[39m \u001B[38;5;241m5.0\u001B[39m\n\u001B[0;32m     10\u001B[0m options\u001B[38;5;241m.\u001B[39macq\u001B[38;5;241m.\u001B[39mfidelities \u001B[38;5;241m=\u001B[39m [\u001B[38;5;241m0.5\u001B[39m,\u001B[38;5;241m0.75\u001B[39m,\u001B[38;5;241m1.0\u001B[39m]\n\u001B[0;32m     12\u001B[0m generator \u001B[38;5;241m=\u001B[39m MultiFidelityBayesianGenerator(vocs, options\u001B[38;5;241m=\u001B[39moptions)\n",
      "File \u001B[1;32m~\\.conda\\envs\\xopt-dev\\lib\\site-packages\\pydantic\\main.py:358\u001B[0m, in \u001B[0;36mpydantic.main.BaseModel.__setattr__\u001B[1;34m()\u001B[0m\n",
      "\u001B[1;31mValueError\u001B[0m: \"MultiFidelityAcqOptions\" object has no field \"base_cost\""
     ]
    }
   ],
   "source": [
    "# create xopt object\n",
    "from xopt.generators import MultiFidelityBayesianGenerator\n",
    "from xopt import Evaluator, Xopt\n",
    "\n",
    "# get and modify default generator options\n",
    "options = MultiFidelityBayesianGenerator.default_options()\n",
    "\n",
    "# set the base cost of evaluating the function\n",
    "options.acq.base_cost = 5.0\n",
    "options.acq.fidelities = [0.5,0.75,1.0]\n",
    "\n",
    "generator = MultiFidelityBayesianGenerator(vocs, options=options)\n",
    "evaluator = Evaluator(function=test_function)\n",
    "\n",
    "X = Xopt(vocs=vocs, generator=generator, evaluator=evaluator)\n",
    "X.options.strict = True"
   ],
   "metadata": {
    "collapsed": false
   }
  },
  {
   "cell_type": "code",
   "execution_count": null,
   "outputs": [],
   "source": [
    "# evaluate random initial points at mixed fidelities to seed optimization and view data\n",
    "X.evaluate_data(\n",
    "    pd.DataFrame(np.random.rand(5,7), columns=X.vocs.variable_names + [\"s\"])\n",
    ")\n",
    "X.data"
   ],
   "metadata": {
    "collapsed": false
   }
  },
  {
   "cell_type": "code",
   "execution_count": null,
   "outputs": [],
   "source": [
    "# get the total cost of previous observations (base_cost + s for each measurement)\n",
    "X.generator.calculate_total_cost()"
   ],
   "metadata": {
    "collapsed": false
   }
  },
  {
   "cell_type": "code",
   "execution_count": null,
   "outputs": [],
   "source": [
    "# run optimization until the cost budget is exhausted\n",
    "budget = 10\n",
    "while X.generator.calculate_total_cost() < budget:\n",
    "    print(\"step\")\n",
    "    X.step()"
   ],
   "metadata": {
    "collapsed": false
   }
  },
  {
   "cell_type": "code",
   "execution_count": null,
   "outputs": [],
   "source": [
    "X.data"
   ],
   "metadata": {
    "collapsed": false
   }
  },
  {
   "cell_type": "code",
   "execution_count": null,
   "outputs": [],
   "source": [
    "X.generator.calculate_total_cost()"
   ],
   "metadata": {
    "collapsed": false
   }
  },
  {
   "cell_type": "code",
   "execution_count": null,
   "outputs": [],
   "source": [],
   "metadata": {
    "collapsed": false
   }
  }
 ],
 "metadata": {
  "kernelspec": {
   "display_name": "Python 3",
   "language": "python",
   "name": "python3"
  },
  "language_info": {
   "codemirror_mode": {
    "name": "ipython",
    "version": 2
   },
   "file_extension": ".py",
   "mimetype": "text/x-python",
   "name": "python",
   "nbconvert_exporter": "python",
   "pygments_lexer": "ipython2",
   "version": "2.7.6"
  }
 },
 "nbformat": 4,
 "nbformat_minor": 0
}
