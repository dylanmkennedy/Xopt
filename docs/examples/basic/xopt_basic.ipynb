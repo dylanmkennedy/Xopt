{
 "cells": [
  {
   "cell_type": "markdown",
   "metadata": {},
   "source": [
    "# Xopt basic example\n",
    "\n",
    "An Xopt problem can be described by a simple YAML file. Here we will demonstrate how this is used to optimize a well-known constrained multi-objective test function, TNK. The TNK function is defined with:\n",
    "\n",
    "$n=2$ variables:\n",
    "$x_i \\in [0, \\pi], i=1,2$\n",
    "\n",
    "Objectives:\n",
    "- $f_i(x) = x_i$\n",
    "\n",
    "Constraints:\n",
    "- $g_1(x) = -x_1^2 -x_2^2 + 1 + 0.1 \\cos\\left(16 \\arctan \\frac{x_1}{x_2}\\right) \\le 0$\n",
    "- $g_2(x) = (x_1 - 1/2)^2 + (x_2-1/2)^2 \\le 0.5$"
   ]
  },
  {
   "cell_type": "code",
   "execution_count": 1,
   "metadata": {
    "execution": {
     "iopub.execute_input": "2022-07-02T04:16:41.207662Z",
     "iopub.status.busy": "2022-07-02T04:16:41.207282Z",
     "iopub.status.idle": "2022-07-02T04:16:41.884950Z",
     "shell.execute_reply": "2022-07-02T04:16:41.884323Z"
    },
    "ExecuteTime": {
     "end_time": "2023-09-06T19:32:17.321289100Z",
     "start_time": "2023-09-06T19:32:14.289030500Z"
    }
   },
   "outputs": [],
   "source": [
    "# Import the class\n",
    "from xopt import Xopt"
   ]
  },
  {
   "cell_type": "code",
   "execution_count": 2,
   "metadata": {
    "ExecuteTime": {
     "end_time": "2023-09-06T19:32:17.336942400Z",
     "start_time": "2023-09-06T19:32:17.325290300Z"
    }
   },
   "outputs": [],
   "source": [
    "# Nicer plotting\n",
    "%config InlineBackend.figure_format = 'retina'"
   ]
  },
  {
   "cell_type": "markdown",
   "metadata": {
    "collapsed": false
   },
   "source": [
    "## Xopt Components\n",
    "The definition of the Xopt object requires 4 parts, listed below:\n",
    "- The `Evaluator` object, which evaluates input points using the arbitrary function\n",
    "specified by the `function` property.\n",
    "- The `Generator` object, which, when given data that has been evaluated, generates\n",
    "future points to evaluate using the evaluator.\n",
    "- The `VOCS` (variables, objectives, constraints, statics) object, which specifies the\n",
    "input domain, the objectives, constraints and constants passed to the evaluator\n",
    "function.\n",
    "\n",
    "Through the YAML interface these objects and their options are specified by name. \n",
    "Here we will make one:"
   ]
  },
  {
   "cell_type": "code",
   "execution_count": 3,
   "metadata": {
    "collapsed": false,
    "execution": {
     "iopub.execute_input": "2022-07-02T04:16:41.887258Z",
     "iopub.status.busy": "2022-07-02T04:16:41.886966Z",
     "iopub.status.idle": "2022-07-02T04:16:41.889280Z",
     "shell.execute_reply": "2022-07-02T04:16:41.889046Z"
    },
    "ExecuteTime": {
     "end_time": "2023-09-06T19:32:17.353941500Z",
     "start_time": "2023-09-06T19:32:17.337943400Z"
    }
   },
   "outputs": [],
   "source": [
    "# Make a proper input file.\n",
    "YAML = \"\"\"\n",
    "evaluator:\n",
    "    function: xopt.resources.test_functions.tnk.evaluate_TNK\n",
    "    function_kwargs:\n",
    "        a: 999\n",
    "\n",
    "generator:\n",
    "    name: random\n",
    "\n",
    "vocs:\n",
    "    variables:\n",
    "        x1: [0, 3.14159]\n",
    "        x2: [0, 3.14159]\n",
    "    objectives: {y1: MINIMIZE, y2: MINIMIZE}\n",
    "    constraints:\n",
    "        c1: [GREATER_THAN, 0]\n",
    "        c2: [LESS_THAN, 0.5]\n",
    "    constants: {a: dummy_constant}\n",
    "\n",
    "\"\"\""
   ]
  },
  {
   "cell_type": "code",
   "execution_count": 4,
   "metadata": {
    "collapsed": false,
    "execution": {
     "iopub.execute_input": "2022-07-02T04:16:41.890795Z",
     "iopub.status.busy": "2022-07-02T04:16:41.890691Z",
     "iopub.status.idle": "2022-07-02T04:16:41.898916Z",
     "shell.execute_reply": "2022-07-02T04:16:41.898677Z"
    },
    "ExecuteTime": {
     "end_time": "2023-09-06T19:32:17.366942400Z",
     "start_time": "2023-09-06T19:32:17.355943500Z"
    }
   },
   "outputs": [],
   "source": [
    "# create Xopt object.\n",
    "\n",
    "X = Xopt.from_yaml(YAML)"
   ]
  },
  {
   "cell_type": "code",
   "execution_count": 5,
   "metadata": {
    "execution": {
     "iopub.execute_input": "2022-07-02T04:16:41.900325Z",
     "iopub.status.busy": "2022-07-02T04:16:41.900241Z",
     "iopub.status.idle": "2022-07-02T04:16:41.905569Z",
     "shell.execute_reply": "2022-07-02T04:16:41.905324Z"
    },
    "ExecuteTime": {
     "end_time": "2023-09-06T19:32:17.409787100Z",
     "start_time": "2023-09-06T19:32:17.367942300Z"
    }
   },
   "outputs": [
    {
     "data": {
      "text/plain": "\n            Xopt\n________________________________\nVersion: 2.0a1+84.g3b769dc3.dirty\nData size: 0\nConfig as YAML:\ndump_file: null\nevaluator:\n  function: !!python/name:xopt.resources.test_functions.tnk.evaluate_TNK ''\n  function_kwargs:\n    a: 999\n    raise_probability: 0\n    random_sleep: 0\n    sleep: 0\n  max_workers: 1\n  vectorized: false\ngenerator:\n  name: random\nmax_evaluations: null\nserialize_torch: false\nstrict: true\nvocs:\n  constants:\n    a: dummy_constant\n  constraints:\n    c1:\n    - GREATER_THAN\n    - 0.0\n    c2:\n    - LESS_THAN\n    - 0.5\n  objectives:\n    y1: MINIMIZE\n    y2: MINIMIZE\n  observables: []\n  variables:\n    x1:\n    - 0.0\n    - 3.14159\n    x2:\n    - 0.0\n    - 3.14159\n"
     },
     "execution_count": 5,
     "metadata": {},
     "output_type": "execute_result"
    }
   ],
   "source": [
    "# Convenient representation of the state.\n",
    "X"
   ]
  },
  {
   "cell_type": "code",
   "execution_count": 6,
   "metadata": {
    "execution": {
     "iopub.execute_input": "2022-07-02T04:16:41.918454Z",
     "iopub.status.busy": "2022-07-02T04:16:41.918335Z",
     "iopub.status.idle": "2022-07-02T04:16:41.921126Z",
     "shell.execute_reply": "2022-07-02T04:16:41.920869Z"
    },
    "ExecuteTime": {
     "end_time": "2023-09-06T19:32:17.416723700Z",
     "start_time": "2023-09-06T19:32:17.382855Z"
    }
   },
   "outputs": [
    {
     "data": {
      "text/plain": "         x1        x2        y1        y2         c1         c2  xopt_runtime  \\\n0  2.417620  0.921036  2.417620  0.921036   5.603559   3.854539      0.000030   \n1  2.461017  0.216352  2.461017  0.216352   5.086711   3.926045      0.000008   \n2  2.472681  0.157693  2.472681  0.157693   5.086595   4.008643      0.000006   \n3  1.789844  3.000941  1.789844  3.000941  11.277399   7.918404      0.000005   \n4  2.580470  1.352507  2.580470  1.352507   7.475167   5.055125      0.000005   \n5  2.450977  1.428915  2.450977  1.428915   7.104820   4.669193      0.000005   \n6  2.202541  2.057103  2.202541  2.057103   7.997402   5.323215      0.000005   \n7  1.463149  0.486551  1.463149  0.486551   1.336382   0.927836      0.000005   \n8  1.097304  1.623158  1.097304  1.623158   2.938343   1.618255      0.000005   \n9  3.111273  2.595879  3.111273  2.595879  15.405661  11.211453      0.000005   \n\n   xopt_error  \n0       False  \n1       False  \n2       False  \n3       False  \n4       False  \n5       False  \n6       False  \n7       False  \n8       False  \n9       False  ",
      "text/html": "<div>\n<style scoped>\n    .dataframe tbody tr th:only-of-type {\n        vertical-align: middle;\n    }\n\n    .dataframe tbody tr th {\n        vertical-align: top;\n    }\n\n    .dataframe thead th {\n        text-align: right;\n    }\n</style>\n<table border=\"1\" class=\"dataframe\">\n  <thead>\n    <tr style=\"text-align: right;\">\n      <th></th>\n      <th>x1</th>\n      <th>x2</th>\n      <th>y1</th>\n      <th>y2</th>\n      <th>c1</th>\n      <th>c2</th>\n      <th>xopt_runtime</th>\n      <th>xopt_error</th>\n    </tr>\n  </thead>\n  <tbody>\n    <tr>\n      <th>0</th>\n      <td>2.417620</td>\n      <td>0.921036</td>\n      <td>2.417620</td>\n      <td>0.921036</td>\n      <td>5.603559</td>\n      <td>3.854539</td>\n      <td>0.000030</td>\n      <td>False</td>\n    </tr>\n    <tr>\n      <th>1</th>\n      <td>2.461017</td>\n      <td>0.216352</td>\n      <td>2.461017</td>\n      <td>0.216352</td>\n      <td>5.086711</td>\n      <td>3.926045</td>\n      <td>0.000008</td>\n      <td>False</td>\n    </tr>\n    <tr>\n      <th>2</th>\n      <td>2.472681</td>\n      <td>0.157693</td>\n      <td>2.472681</td>\n      <td>0.157693</td>\n      <td>5.086595</td>\n      <td>4.008643</td>\n      <td>0.000006</td>\n      <td>False</td>\n    </tr>\n    <tr>\n      <th>3</th>\n      <td>1.789844</td>\n      <td>3.000941</td>\n      <td>1.789844</td>\n      <td>3.000941</td>\n      <td>11.277399</td>\n      <td>7.918404</td>\n      <td>0.000005</td>\n      <td>False</td>\n    </tr>\n    <tr>\n      <th>4</th>\n      <td>2.580470</td>\n      <td>1.352507</td>\n      <td>2.580470</td>\n      <td>1.352507</td>\n      <td>7.475167</td>\n      <td>5.055125</td>\n      <td>0.000005</td>\n      <td>False</td>\n    </tr>\n    <tr>\n      <th>5</th>\n      <td>2.450977</td>\n      <td>1.428915</td>\n      <td>2.450977</td>\n      <td>1.428915</td>\n      <td>7.104820</td>\n      <td>4.669193</td>\n      <td>0.000005</td>\n      <td>False</td>\n    </tr>\n    <tr>\n      <th>6</th>\n      <td>2.202541</td>\n      <td>2.057103</td>\n      <td>2.202541</td>\n      <td>2.057103</td>\n      <td>7.997402</td>\n      <td>5.323215</td>\n      <td>0.000005</td>\n      <td>False</td>\n    </tr>\n    <tr>\n      <th>7</th>\n      <td>1.463149</td>\n      <td>0.486551</td>\n      <td>1.463149</td>\n      <td>0.486551</td>\n      <td>1.336382</td>\n      <td>0.927836</td>\n      <td>0.000005</td>\n      <td>False</td>\n    </tr>\n    <tr>\n      <th>8</th>\n      <td>1.097304</td>\n      <td>1.623158</td>\n      <td>1.097304</td>\n      <td>1.623158</td>\n      <td>2.938343</td>\n      <td>1.618255</td>\n      <td>0.000005</td>\n      <td>False</td>\n    </tr>\n    <tr>\n      <th>9</th>\n      <td>3.111273</td>\n      <td>2.595879</td>\n      <td>3.111273</td>\n      <td>2.595879</td>\n      <td>15.405661</td>\n      <td>11.211453</td>\n      <td>0.000005</td>\n      <td>False</td>\n    </tr>\n  </tbody>\n</table>\n</div>"
     },
     "execution_count": 6,
     "metadata": {},
     "output_type": "execute_result"
    }
   ],
   "source": [
    "X.random_evaluate(10)"
   ]
  },
  {
   "cell_type": "markdown",
   "metadata": {
    "collapsed": false
   },
   "source": [
    "## Run Random data generation"
   ]
  },
  {
   "cell_type": "code",
   "execution_count": 7,
   "metadata": {
    "execution": {
     "iopub.execute_input": "2022-07-02T04:16:41.922643Z",
     "iopub.status.busy": "2022-07-02T04:16:41.922533Z",
     "iopub.status.idle": "2022-07-02T04:16:41.924244Z",
     "shell.execute_reply": "2022-07-02T04:16:41.923971Z"
    },
    "ExecuteTime": {
     "end_time": "2023-09-06T19:32:17.426451900Z",
     "start_time": "2023-09-06T19:32:17.413726100Z"
    }
   },
   "outputs": [],
   "source": [
    "import numpy as np\n",
    "np.random.seed(10)"
   ]
  },
  {
   "cell_type": "code",
   "execution_count": 8,
   "metadata": {
    "collapsed": false,
    "execution": {
     "iopub.execute_input": "2022-07-02T04:16:41.925680Z",
     "iopub.status.busy": "2022-07-02T04:16:41.925579Z",
     "iopub.status.idle": "2022-07-02T04:16:41.930411Z",
     "shell.execute_reply": "2022-07-02T04:16:41.930124Z"
    },
    "ExecuteTime": {
     "end_time": "2023-09-06T19:32:17.450817600Z",
     "start_time": "2023-09-06T19:32:17.427698800Z"
    }
   },
   "outputs": [],
   "source": [
    "# Take one step (generate a single point)\n",
    "X.step()"
   ]
  },
  {
   "cell_type": "code",
   "execution_count": 9,
   "metadata": {
    "collapsed": false,
    "execution": {
     "iopub.execute_input": "2022-07-02T04:16:41.931852Z",
     "iopub.status.busy": "2022-07-02T04:16:41.931750Z",
     "iopub.status.idle": "2022-07-02T04:16:41.937439Z",
     "shell.execute_reply": "2022-07-02T04:16:41.937164Z"
    },
    "ExecuteTime": {
     "end_time": "2023-09-06T19:32:17.510487500Z",
     "start_time": "2023-09-06T19:32:17.442793900Z"
    }
   },
   "outputs": [
    {
     "data": {
      "text/plain": "          x1        x2        y1        y2         c1         c2  \\\n0   2.417620  0.921036  2.417620  0.921036   5.603559   3.854539   \n1   2.461017  0.216352  2.461017  0.216352   5.086711   3.926045   \n2   2.472681  0.157693  2.472681  0.157693   5.086595   4.008643   \n3   1.789844  3.000941  1.789844  3.000941  11.277399   7.918404   \n4   2.580470  1.352507  2.580470  1.352507   7.475167   5.055125   \n5   2.450977  1.428915  2.450977  1.428915   7.104820   4.669193   \n6   2.202541  2.057103  2.202541  2.057103   7.997402   5.323215   \n7   1.463149  0.486551  1.463149  0.486551   1.336382   0.927836   \n8   1.097304  1.623158  1.097304  1.623158   2.938343   1.618255   \n9   3.111273  2.595879  3.111273  2.595879  15.405661  11.211453   \n11  0.718417  3.076396  0.718417  3.076396   9.066664   6.685522   \n\n    xopt_runtime  xopt_error  \n0       0.000030       False  \n1       0.000008       False  \n2       0.000006       False  \n3       0.000005       False  \n4       0.000005       False  \n5       0.000005       False  \n6       0.000005       False  \n7       0.000005       False  \n8       0.000005       False  \n9       0.000005       False  \n11      0.000030       False  ",
      "text/html": "<div>\n<style scoped>\n    .dataframe tbody tr th:only-of-type {\n        vertical-align: middle;\n    }\n\n    .dataframe tbody tr th {\n        vertical-align: top;\n    }\n\n    .dataframe thead th {\n        text-align: right;\n    }\n</style>\n<table border=\"1\" class=\"dataframe\">\n  <thead>\n    <tr style=\"text-align: right;\">\n      <th></th>\n      <th>x1</th>\n      <th>x2</th>\n      <th>y1</th>\n      <th>y2</th>\n      <th>c1</th>\n      <th>c2</th>\n      <th>xopt_runtime</th>\n      <th>xopt_error</th>\n    </tr>\n  </thead>\n  <tbody>\n    <tr>\n      <th>0</th>\n      <td>2.417620</td>\n      <td>0.921036</td>\n      <td>2.417620</td>\n      <td>0.921036</td>\n      <td>5.603559</td>\n      <td>3.854539</td>\n      <td>0.000030</td>\n      <td>False</td>\n    </tr>\n    <tr>\n      <th>1</th>\n      <td>2.461017</td>\n      <td>0.216352</td>\n      <td>2.461017</td>\n      <td>0.216352</td>\n      <td>5.086711</td>\n      <td>3.926045</td>\n      <td>0.000008</td>\n      <td>False</td>\n    </tr>\n    <tr>\n      <th>2</th>\n      <td>2.472681</td>\n      <td>0.157693</td>\n      <td>2.472681</td>\n      <td>0.157693</td>\n      <td>5.086595</td>\n      <td>4.008643</td>\n      <td>0.000006</td>\n      <td>False</td>\n    </tr>\n    <tr>\n      <th>3</th>\n      <td>1.789844</td>\n      <td>3.000941</td>\n      <td>1.789844</td>\n      <td>3.000941</td>\n      <td>11.277399</td>\n      <td>7.918404</td>\n      <td>0.000005</td>\n      <td>False</td>\n    </tr>\n    <tr>\n      <th>4</th>\n      <td>2.580470</td>\n      <td>1.352507</td>\n      <td>2.580470</td>\n      <td>1.352507</td>\n      <td>7.475167</td>\n      <td>5.055125</td>\n      <td>0.000005</td>\n      <td>False</td>\n    </tr>\n    <tr>\n      <th>5</th>\n      <td>2.450977</td>\n      <td>1.428915</td>\n      <td>2.450977</td>\n      <td>1.428915</td>\n      <td>7.104820</td>\n      <td>4.669193</td>\n      <td>0.000005</td>\n      <td>False</td>\n    </tr>\n    <tr>\n      <th>6</th>\n      <td>2.202541</td>\n      <td>2.057103</td>\n      <td>2.202541</td>\n      <td>2.057103</td>\n      <td>7.997402</td>\n      <td>5.323215</td>\n      <td>0.000005</td>\n      <td>False</td>\n    </tr>\n    <tr>\n      <th>7</th>\n      <td>1.463149</td>\n      <td>0.486551</td>\n      <td>1.463149</td>\n      <td>0.486551</td>\n      <td>1.336382</td>\n      <td>0.927836</td>\n      <td>0.000005</td>\n      <td>False</td>\n    </tr>\n    <tr>\n      <th>8</th>\n      <td>1.097304</td>\n      <td>1.623158</td>\n      <td>1.097304</td>\n      <td>1.623158</td>\n      <td>2.938343</td>\n      <td>1.618255</td>\n      <td>0.000005</td>\n      <td>False</td>\n    </tr>\n    <tr>\n      <th>9</th>\n      <td>3.111273</td>\n      <td>2.595879</td>\n      <td>3.111273</td>\n      <td>2.595879</td>\n      <td>15.405661</td>\n      <td>11.211453</td>\n      <td>0.000005</td>\n      <td>False</td>\n    </tr>\n    <tr>\n      <th>11</th>\n      <td>0.718417</td>\n      <td>3.076396</td>\n      <td>0.718417</td>\n      <td>3.076396</td>\n      <td>9.066664</td>\n      <td>6.685522</td>\n      <td>0.000030</td>\n      <td>False</td>\n    </tr>\n  </tbody>\n</table>\n</div>"
     },
     "execution_count": 9,
     "metadata": {},
     "output_type": "execute_result"
    }
   ],
   "source": [
    "# examine the results\n",
    "X.data"
   ]
  },
  {
   "cell_type": "code",
   "execution_count": 10,
   "metadata": {
    "collapsed": false,
    "execution": {
     "iopub.execute_input": "2022-07-02T04:16:41.938929Z",
     "iopub.status.busy": "2022-07-02T04:16:41.938845Z",
     "iopub.status.idle": "2022-07-02T04:16:41.966369Z",
     "shell.execute_reply": "2022-07-02T04:16:41.966065Z"
    },
    "ExecuteTime": {
     "end_time": "2023-09-06T19:32:17.530501500Z",
     "start_time": "2023-09-06T19:32:17.457797700Z"
    }
   },
   "outputs": [
    {
     "data": {
      "text/plain": "          x1        x2        y1        y2         c1         c2  \\\n0   2.417620  0.921036  2.417620  0.921036   5.603559   3.854539   \n1   2.461017  0.216352  2.461017  0.216352   5.086711   3.926045   \n2   2.472681  0.157693  2.472681  0.157693   5.086595   4.008643   \n3   1.789844  3.000941  1.789844  3.000941  11.277399   7.918404   \n4   2.580470  1.352507  2.580470  1.352507   7.475167   5.055125   \n5   2.450977  1.428915  2.450977  1.428915   7.104820   4.669193   \n6   2.202541  2.057103  2.202541  2.057103   7.997402   5.323215   \n7   1.463149  0.486551  1.463149  0.486551   1.336382   0.927836   \n8   1.097304  1.623158  1.097304  1.623158   2.938343   1.618255   \n9   3.111273  2.595879  3.111273  2.595879  15.405661  11.211453   \n11  0.718417  3.076396  0.718417  3.076396   9.066664   6.685522   \n12  1.150927  0.789155  1.150927  0.789155   1.045563   0.507317   \n13  1.575485  2.435371  1.575485  2.435371   7.510380   4.902330   \n14  2.519358  0.752314  2.519358  0.752314   5.920078   4.141468   \n15  2.610313  2.864063  2.610313  2.864063  13.942816  10.042213   \n16  0.988470  0.146419  0.988470  0.146419   0.068991   0.363623   \n17  3.129186  1.532492  3.129186  1.532492  11.086588   7.978659   \n18  0.588668  1.217284  0.588668  1.217284   0.768029   0.522359   \n19  0.874131  2.224635  0.874131  2.224635   4.617362   3.114340   \n20  0.258320  0.896686  0.258320  0.896686  -0.106956   0.215769   \n21  1.437138  2.694950  1.437138  2.694950   8.326577   5.696033   \n\n    xopt_runtime  xopt_error  \n0       0.000030       False  \n1       0.000008       False  \n2       0.000006       False  \n3       0.000005       False  \n4       0.000005       False  \n5       0.000005       False  \n6       0.000005       False  \n7       0.000005       False  \n8       0.000005       False  \n9       0.000005       False  \n11      0.000030       False  \n12      0.000023       False  \n13      0.000322       False  \n14      0.000017       False  \n15      0.000018       False  \n16      0.000019       False  \n17      0.000018       False  \n18      0.000016       False  \n19      0.000016       False  \n20      0.000016       False  \n21      0.000016       False  ",
      "text/html": "<div>\n<style scoped>\n    .dataframe tbody tr th:only-of-type {\n        vertical-align: middle;\n    }\n\n    .dataframe tbody tr th {\n        vertical-align: top;\n    }\n\n    .dataframe thead th {\n        text-align: right;\n    }\n</style>\n<table border=\"1\" class=\"dataframe\">\n  <thead>\n    <tr style=\"text-align: right;\">\n      <th></th>\n      <th>x1</th>\n      <th>x2</th>\n      <th>y1</th>\n      <th>y2</th>\n      <th>c1</th>\n      <th>c2</th>\n      <th>xopt_runtime</th>\n      <th>xopt_error</th>\n    </tr>\n  </thead>\n  <tbody>\n    <tr>\n      <th>0</th>\n      <td>2.417620</td>\n      <td>0.921036</td>\n      <td>2.417620</td>\n      <td>0.921036</td>\n      <td>5.603559</td>\n      <td>3.854539</td>\n      <td>0.000030</td>\n      <td>False</td>\n    </tr>\n    <tr>\n      <th>1</th>\n      <td>2.461017</td>\n      <td>0.216352</td>\n      <td>2.461017</td>\n      <td>0.216352</td>\n      <td>5.086711</td>\n      <td>3.926045</td>\n      <td>0.000008</td>\n      <td>False</td>\n    </tr>\n    <tr>\n      <th>2</th>\n      <td>2.472681</td>\n      <td>0.157693</td>\n      <td>2.472681</td>\n      <td>0.157693</td>\n      <td>5.086595</td>\n      <td>4.008643</td>\n      <td>0.000006</td>\n      <td>False</td>\n    </tr>\n    <tr>\n      <th>3</th>\n      <td>1.789844</td>\n      <td>3.000941</td>\n      <td>1.789844</td>\n      <td>3.000941</td>\n      <td>11.277399</td>\n      <td>7.918404</td>\n      <td>0.000005</td>\n      <td>False</td>\n    </tr>\n    <tr>\n      <th>4</th>\n      <td>2.580470</td>\n      <td>1.352507</td>\n      <td>2.580470</td>\n      <td>1.352507</td>\n      <td>7.475167</td>\n      <td>5.055125</td>\n      <td>0.000005</td>\n      <td>False</td>\n    </tr>\n    <tr>\n      <th>5</th>\n      <td>2.450977</td>\n      <td>1.428915</td>\n      <td>2.450977</td>\n      <td>1.428915</td>\n      <td>7.104820</td>\n      <td>4.669193</td>\n      <td>0.000005</td>\n      <td>False</td>\n    </tr>\n    <tr>\n      <th>6</th>\n      <td>2.202541</td>\n      <td>2.057103</td>\n      <td>2.202541</td>\n      <td>2.057103</td>\n      <td>7.997402</td>\n      <td>5.323215</td>\n      <td>0.000005</td>\n      <td>False</td>\n    </tr>\n    <tr>\n      <th>7</th>\n      <td>1.463149</td>\n      <td>0.486551</td>\n      <td>1.463149</td>\n      <td>0.486551</td>\n      <td>1.336382</td>\n      <td>0.927836</td>\n      <td>0.000005</td>\n      <td>False</td>\n    </tr>\n    <tr>\n      <th>8</th>\n      <td>1.097304</td>\n      <td>1.623158</td>\n      <td>1.097304</td>\n      <td>1.623158</td>\n      <td>2.938343</td>\n      <td>1.618255</td>\n      <td>0.000005</td>\n      <td>False</td>\n    </tr>\n    <tr>\n      <th>9</th>\n      <td>3.111273</td>\n      <td>2.595879</td>\n      <td>3.111273</td>\n      <td>2.595879</td>\n      <td>15.405661</td>\n      <td>11.211453</td>\n      <td>0.000005</td>\n      <td>False</td>\n    </tr>\n    <tr>\n      <th>11</th>\n      <td>0.718417</td>\n      <td>3.076396</td>\n      <td>0.718417</td>\n      <td>3.076396</td>\n      <td>9.066664</td>\n      <td>6.685522</td>\n      <td>0.000030</td>\n      <td>False</td>\n    </tr>\n    <tr>\n      <th>12</th>\n      <td>1.150927</td>\n      <td>0.789155</td>\n      <td>1.150927</td>\n      <td>0.789155</td>\n      <td>1.045563</td>\n      <td>0.507317</td>\n      <td>0.000023</td>\n      <td>False</td>\n    </tr>\n    <tr>\n      <th>13</th>\n      <td>1.575485</td>\n      <td>2.435371</td>\n      <td>1.575485</td>\n      <td>2.435371</td>\n      <td>7.510380</td>\n      <td>4.902330</td>\n      <td>0.000322</td>\n      <td>False</td>\n    </tr>\n    <tr>\n      <th>14</th>\n      <td>2.519358</td>\n      <td>0.752314</td>\n      <td>2.519358</td>\n      <td>0.752314</td>\n      <td>5.920078</td>\n      <td>4.141468</td>\n      <td>0.000017</td>\n      <td>False</td>\n    </tr>\n    <tr>\n      <th>15</th>\n      <td>2.610313</td>\n      <td>2.864063</td>\n      <td>2.610313</td>\n      <td>2.864063</td>\n      <td>13.942816</td>\n      <td>10.042213</td>\n      <td>0.000018</td>\n      <td>False</td>\n    </tr>\n    <tr>\n      <th>16</th>\n      <td>0.988470</td>\n      <td>0.146419</td>\n      <td>0.988470</td>\n      <td>0.146419</td>\n      <td>0.068991</td>\n      <td>0.363623</td>\n      <td>0.000019</td>\n      <td>False</td>\n    </tr>\n    <tr>\n      <th>17</th>\n      <td>3.129186</td>\n      <td>1.532492</td>\n      <td>3.129186</td>\n      <td>1.532492</td>\n      <td>11.086588</td>\n      <td>7.978659</td>\n      <td>0.000018</td>\n      <td>False</td>\n    </tr>\n    <tr>\n      <th>18</th>\n      <td>0.588668</td>\n      <td>1.217284</td>\n      <td>0.588668</td>\n      <td>1.217284</td>\n      <td>0.768029</td>\n      <td>0.522359</td>\n      <td>0.000016</td>\n      <td>False</td>\n    </tr>\n    <tr>\n      <th>19</th>\n      <td>0.874131</td>\n      <td>2.224635</td>\n      <td>0.874131</td>\n      <td>2.224635</td>\n      <td>4.617362</td>\n      <td>3.114340</td>\n      <td>0.000016</td>\n      <td>False</td>\n    </tr>\n    <tr>\n      <th>20</th>\n      <td>0.258320</td>\n      <td>0.896686</td>\n      <td>0.258320</td>\n      <td>0.896686</td>\n      <td>-0.106956</td>\n      <td>0.215769</td>\n      <td>0.000016</td>\n      <td>False</td>\n    </tr>\n    <tr>\n      <th>21</th>\n      <td>1.437138</td>\n      <td>2.694950</td>\n      <td>1.437138</td>\n      <td>2.694950</td>\n      <td>8.326577</td>\n      <td>5.696033</td>\n      <td>0.000016</td>\n      <td>False</td>\n    </tr>\n  </tbody>\n</table>\n</div>"
     },
     "execution_count": 10,
     "metadata": {},
     "output_type": "execute_result"
    }
   ],
   "source": [
    "# take a couple of steps and examine the results\n",
    "for _ in range(10):\n",
    "    X.step()\n",
    "X.data"
   ]
  },
  {
   "cell_type": "markdown",
   "metadata": {
    "collapsed": false
   },
   "source": [
    "## Plotting\n",
    "Plot the objective results"
   ]
  },
  {
   "cell_type": "code",
   "execution_count": 11,
   "metadata": {
    "collapsed": false,
    "execution": {
     "iopub.execute_input": "2022-07-02T04:16:41.967929Z",
     "iopub.status.busy": "2022-07-02T04:16:41.967837Z",
     "iopub.status.idle": "2022-07-02T04:16:42.285669Z",
     "shell.execute_reply": "2022-07-02T04:16:42.285372Z"
    },
    "ExecuteTime": {
     "end_time": "2023-09-06T19:32:18.257251400Z",
     "start_time": "2023-09-06T19:32:17.518151800Z"
    }
   },
   "outputs": [
    {
     "data": {
      "text/plain": "<Axes: xlabel='y1', ylabel='y2'>"
     },
     "execution_count": 11,
     "metadata": {},
     "output_type": "execute_result"
    },
    {
     "data": {
      "text/plain": "<Figure size 640x480 with 1 Axes>",
      "image/png": "[encoded data removed]"
     },
     "metadata": {
      "image/png": {
       "width": 567,
       "height": 432
      }
     },
     "output_type": "display_data"
    }
   ],
   "source": [
    "import matplotlib.pyplot as plt\n",
    "\n",
    "X.data.plot(*X.vocs.objective_names, kind=\"scatter\")"
   ]
  },
  {
   "cell_type": "markdown",
   "metadata": {},
   "source": [
    "## Alternative initialization methods\n",
    "\n",
    "For convenience you can also use ```Xopt.from_dict``` to create Xopt objects from dictionaries."
   ]
  },
  {
   "cell_type": "code",
   "execution_count": 12,
   "metadata": {
    "execution": {
     "iopub.execute_input": "2022-07-02T04:16:42.287349Z",
     "iopub.status.busy": "2022-07-02T04:16:42.287211Z",
     "iopub.status.idle": "2022-07-02T04:16:42.331639Z",
     "shell.execute_reply": "2022-07-02T04:16:42.331318Z"
    },
    "ExecuteTime": {
     "end_time": "2023-09-06T19:32:18.366279100Z",
     "start_time": "2023-09-06T19:32:18.260271700Z"
    }
   },
   "outputs": [],
   "source": [
    "import yaml\n",
    "\n",
    "config  = yaml.safe_load(YAML)\n",
    "X = Xopt.from_dict(config)\n"
   ]
  },
  {
   "cell_type": "markdown",
   "metadata": {},
   "source": [
    "## Convenience Methods"
   ]
  },
  {
   "cell_type": "code",
   "execution_count": 13,
   "metadata": {
    "execution": {
     "iopub.execute_input": "2022-07-02T04:16:42.344567Z",
     "iopub.status.busy": "2022-07-02T04:16:42.344463Z",
     "iopub.status.idle": "2022-07-02T04:16:42.346823Z",
     "shell.execute_reply": "2022-07-02T04:16:42.346569Z"
    },
    "ExecuteTime": {
     "end_time": "2023-09-06T19:32:18.366279100Z",
     "start_time": "2023-09-06T19:32:18.352277900Z"
    }
   },
   "outputs": [
    {
     "data": {
      "text/plain": "         x1        x2        y1        y2        c1        c2  xopt_runtime  \\\n1  1.968706  1.023739  1.968706  1.023739  3.905785  2.431401      0.000041   \n\n   xopt_error  \n1       False  ",
      "text/html": "<div>\n<style scoped>\n    .dataframe tbody tr th:only-of-type {\n        vertical-align: middle;\n    }\n\n    .dataframe tbody tr th {\n        vertical-align: top;\n    }\n\n    .dataframe thead th {\n        text-align: right;\n    }\n</style>\n<table border=\"1\" class=\"dataframe\">\n  <thead>\n    <tr style=\"text-align: right;\">\n      <th></th>\n      <th>x1</th>\n      <th>x2</th>\n      <th>y1</th>\n      <th>y2</th>\n      <th>c1</th>\n      <th>c2</th>\n      <th>xopt_runtime</th>\n      <th>xopt_error</th>\n    </tr>\n  </thead>\n  <tbody>\n    <tr>\n      <th>1</th>\n      <td>1.968706</td>\n      <td>1.023739</td>\n      <td>1.968706</td>\n      <td>1.023739</td>\n      <td>3.905785</td>\n      <td>2.431401</td>\n      <td>0.000041</td>\n      <td>False</td>\n    </tr>\n  </tbody>\n</table>\n</div>"
     },
     "execution_count": 13,
     "metadata": {},
     "output_type": "execute_result"
    }
   ],
   "source": [
    "# convenience method for evaluating a random sample\n",
    "X.random_evaluate()"
   ]
  },
  {
   "cell_type": "code",
   "execution_count": 14,
   "outputs": [
    {
     "data": {
      "text/plain": "         x1        x2        y1        y2        c1        c2  xopt_runtime  \\\n0  1.753531  1.253372  1.753531  1.253372  3.733363  2.138910      0.000031   \n1  1.778096  0.611909  1.778096  0.611909  2.480365  1.646053      0.000009   \n2  1.200819  1.502789  1.200819  1.502789  2.721078  1.496733      0.000008   \n3  1.529520  0.286988  1.529520  0.286988  1.520284  1.105286      0.000009   \n4  1.098309  2.138681  1.098309  2.138681  4.754223  3.043249      0.000009   \n\n   xopt_error  \n0       False  \n1       False  \n2       False  \n3       False  \n4       False  ",
      "text/html": "<div>\n<style scoped>\n    .dataframe tbody tr th:only-of-type {\n        vertical-align: middle;\n    }\n\n    .dataframe tbody tr th {\n        vertical-align: top;\n    }\n\n    .dataframe thead th {\n        text-align: right;\n    }\n</style>\n<table border=\"1\" class=\"dataframe\">\n  <thead>\n    <tr style=\"text-align: right;\">\n      <th></th>\n      <th>x1</th>\n      <th>x2</th>\n      <th>y1</th>\n      <th>y2</th>\n      <th>c1</th>\n      <th>c2</th>\n      <th>xopt_runtime</th>\n      <th>xopt_error</th>\n    </tr>\n  </thead>\n  <tbody>\n    <tr>\n      <th>0</th>\n      <td>1.753531</td>\n      <td>1.253372</td>\n      <td>1.753531</td>\n      <td>1.253372</td>\n      <td>3.733363</td>\n      <td>2.138910</td>\n      <td>0.000031</td>\n      <td>False</td>\n    </tr>\n    <tr>\n      <th>1</th>\n      <td>1.778096</td>\n      <td>0.611909</td>\n      <td>1.778096</td>\n      <td>0.611909</td>\n      <td>2.480365</td>\n      <td>1.646053</td>\n      <td>0.000009</td>\n      <td>False</td>\n    </tr>\n    <tr>\n      <th>2</th>\n      <td>1.200819</td>\n      <td>1.502789</td>\n      <td>1.200819</td>\n      <td>1.502789</td>\n      <td>2.721078</td>\n      <td>1.496733</td>\n      <td>0.000008</td>\n      <td>False</td>\n    </tr>\n    <tr>\n      <th>3</th>\n      <td>1.529520</td>\n      <td>0.286988</td>\n      <td>1.529520</td>\n      <td>0.286988</td>\n      <td>1.520284</td>\n      <td>1.105286</td>\n      <td>0.000009</td>\n      <td>False</td>\n    </tr>\n    <tr>\n      <th>4</th>\n      <td>1.098309</td>\n      <td>2.138681</td>\n      <td>1.098309</td>\n      <td>2.138681</td>\n      <td>4.754223</td>\n      <td>3.043249</td>\n      <td>0.000009</td>\n      <td>False</td>\n    </tr>\n  </tbody>\n</table>\n</div>"
     },
     "execution_count": 14,
     "metadata": {},
     "output_type": "execute_result"
    }
   ],
   "source": [
    "X.random_evaluate(5)"
   ],
   "metadata": {
    "collapsed": false,
    "ExecuteTime": {
     "end_time": "2023-09-06T19:32:18.366279100Z",
     "start_time": "2023-09-06T19:32:18.353277800Z"
    }
   }
  },
  {
   "cell_type": "markdown",
   "metadata": {},
   "source": [
    "## Logging\n",
    "\n",
    "Normally Xopt will not issue print statments, and instead issue logging messages. Below will enable these to be seen in the notebook"
   ]
  },
  {
   "cell_type": "code",
   "execution_count": 15,
   "metadata": {
    "execution": {
     "iopub.execute_input": "2022-07-02T04:16:42.348536Z",
     "iopub.status.busy": "2022-07-02T04:16:42.348278Z",
     "iopub.status.idle": "2022-07-02T04:16:42.350013Z",
     "shell.execute_reply": "2022-07-02T04:16:42.349722Z"
    },
    "ExecuteTime": {
     "end_time": "2023-09-06T19:32:18.366279100Z",
     "start_time": "2023-09-06T19:32:18.353277800Z"
    }
   },
   "outputs": [],
   "source": [
    "# Notebook printing output\n",
    "from xopt import output_notebook\n",
    "output_notebook()"
   ]
  },
  {
   "cell_type": "code",
   "execution_count": 16,
   "metadata": {
    "execution": {
     "iopub.execute_input": "2022-07-02T04:16:42.351443Z",
     "iopub.status.busy": "2022-07-02T04:16:42.351340Z",
     "iopub.status.idle": "2022-07-02T04:16:42.355782Z",
     "shell.execute_reply": "2022-07-02T04:16:42.355495Z"
    },
    "ExecuteTime": {
     "end_time": "2023-09-06T19:32:18.366279100Z",
     "start_time": "2023-09-06T19:32:18.353277800Z"
    }
   },
   "outputs": [
    {
     "name": "stdout",
     "output_type": "stream",
     "text": [
      "Running Xopt step\n"
     ]
    }
   ],
   "source": [
    "X.step()"
   ]
  }
 ],
 "metadata": {
  "interpreter": {
   "hash": "72034539424920dfb606fe3b820b3f27dca0cbf1c69938110810ec4641e275b1"
  },
  "kernelspec": {
   "display_name": "Python 3.9.12 ('xopt-dev')",
   "language": "python",
   "name": "python3"
  },
  "language_info": {
   "codemirror_mode": {
    "name": "ipython",
    "version": 3
   },
   "file_extension": ".py",
   "mimetype": "text/x-python",
   "name": "python",
   "nbconvert_exporter": "python",
   "pygments_lexer": "ipython3",
   "version": "3.9.13"
  }
 },
 "nbformat": 4,
 "nbformat_minor": 4
}
