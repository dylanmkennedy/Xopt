{
 "cells": [
  {
   "cell_type": "code",
   "execution_count": 5,
   "metadata": {},
   "outputs": [
    {
     "name": "stdout",
     "output_type": "stream",
     "text": [
      "The autoreload extension is already loaded. To reload it, use:\n",
      "  %reload_ext autoreload\n"
     ]
    }
   ],
   "source": [
    "# Useful for debugging\n",
    "%load_ext autoreload\n",
    "%autoreload 2"
   ]
  },
  {
   "cell_type": "markdown",
   "metadata": {},
   "source": [
    "# Xopt class, TNK test function\n",
    "\n",
    "This is the class method for running Xopt. Use Bayesian exploration to explore the input space.\n",
    "\n",
    "TNK function\n",
    "$n=2$ variables:\n",
    "$x_i \\in [0, \\pi], i=1,2$\n",
    "\n",
    "Objectives:\n",
    "- $f_i(x) = x_i$\n",
    "\n",
    "Constraints:\n",
    "- $g_1(x) = -x_1^2 -x_2^2 + 1 + 0.1 \\cos\\left(16 \\arctan \\frac{x_1}{x_2}\\right) \\le 0$\n",
    "- $g_2(x) = (x_1 - 1/2)^2 + (x_2-1/2)^2 \\le 0.5$"
   ]
  },
  {
   "cell_type": "code",
   "execution_count": 6,
   "metadata": {},
   "outputs": [],
   "source": [
    "# Import the class\n",
    "from xopt import Xopt\n",
    "\n",
    "import os\n",
    "SMOKE_TEST = os.environ.get('SMOKE_TEST')"
   ]
  },
  {
   "cell_type": "markdown",
   "metadata": {},
   "source": [
    "The `Xopt` object can be instantiated from a JSON or YAML file, or a dict, with the proper structure.\n",
    "\n",
    "Here we will make one"
   ]
  },
  {
   "cell_type": "code",
   "execution_count": 7,
   "metadata": {},
   "outputs": [],
   "source": [
    "import yaml\n",
    "# Make a proper input file. \n",
    "YAML=\"\"\"\n",
    "xopt: {output_path: null, verbose: true}\n",
    "\n",
    "algorithm:\n",
    "  name: bayesian_exploration\n",
    "  options:  \n",
    "      n_initial_samples: 5\n",
    "      n_steps: 25\n",
    "      verbose: True\n",
    "      generator_options:                     ## options for bayesian exploration acquisition function\n",
    "          batch_size: 1                      ## batch size for parallelized optimization\n",
    "          #sigma: [[0.01, 0.0], [0.0,0.01]]   ## proximal biasing term\n",
    "          use_gpu: False\n",
    "\n",
    "  \n",
    "simulation: \n",
    "  name: test_TNK\n",
    "  evaluate: xopt.tests.evaluators.TNK.evaluate_TNK\n",
    "  \n",
    "vocs:\n",
    "  name: TNK_test\n",
    "  description: null\n",
    "  simulation: test_TNK\n",
    "  templates: null\n",
    "  variables:\n",
    "    x1: [0, 3.14159]\n",
    "    x2: [0, 3.14159]\n",
    "  objectives: {y1: None}\n",
    "  constraints:\n",
    "    c1: [GREATER_THAN, 0]\n",
    "    c2: ['LESS_THAN', 0.5]\n",
    "  linked_variables: {}\n",
    "  constants: {a: dummy_constant}\n",
    "\n",
    "\"\"\"\n",
    "config = yaml.safe_load(YAML)\n",
    "\n",
    "if SMOKE_TEST:\n",
    "    config['algorithm']['options']['n_steps'] = 3\n",
    "    config['algorithm']['options']['generator_options']['num_restarts'] = 2\n",
    "    config['algorithm']['options']['generator_options']['raw_samples'] = 2"
   ]
  },
  {
   "cell_type": "code",
   "execution_count": 8,
   "metadata": {},
   "outputs": [
    {
     "name": "stderr",
     "output_type": "stream",
     "text": [
      "INFO:xopt.tools:Loading config from dict.\n",
      "WARNING:xopt.legacy:`verbose` keyword no longer allowed in xopt config, renaming to `logging`\n",
      "WARNING:xopt.legacy:`evaluate` keyword no longer allowed in simulation config, moving to `function`\n",
      "WARNING:xopt.legacy:`name` keyword no longer allowed in xopt config, removing\n",
      "WARNING:xopt.legacy:`description` keyword no longer allowed in xopt config, removing\n",
      "WARNING:xopt.legacy:`simulation` keyword no longer allowed in xopt config, removing\n",
      "WARNING:xopt.legacy:`templates` keyword no longer allowed in vocs config, moving to simulation `options`\n",
      "INFO:xopt.tools:Loading config from dict.\n",
      "INFO:xopt.tools:Loading config from dict.\n",
      "INFO:xopt.tools:Loading config from dict.\n",
      "INFO:xopt.tools:Loading config from dict.\n"
     ]
    },
    {
     "name": "stdout",
     "output_type": "stream",
     "text": [
      "{'variables': {'x1': [0, 3.14159], 'x2': [0, 3.14159]}, 'objectives': {'y1': 'None'}, 'constraints': {'c1': ['GREATER_THAN', 0], 'c2': ['LESS_THAN', 0.5]}, 'linked_variables': None, 'constants': {'a': 'dummy_constant'}}\n",
      "{'xopt': {'output_path': None, 'logging': 20}, 'algorithm': {'name': 'bayesian_exploration', 'options': {'n_initial_samples': 5, 'n_steps': 25, 'verbose': True, 'generator_options': {'batch_size': 1, 'use_gpu': False}}, 'function': 'xopt.bayesian.algorithms.bayesian_exploration', 'n_initial_samples': 5, 'n_steps': 25, 'verbose': True, 'generator_options': {'batch_size': 1, 'use_gpu': False}, 'output_path': None, 'custom_model': None, 'executor': None, 'restart_file': None, 'initial_x': None}, 'simulation': {'name': 'test_TNK', 'function': 'xopt.tests.evaluators.TNK.evaluate_TNK', 'options': {'templates': None, 'extra_option': 'abc'}, 'evaluate': 'xopt.tests.evaluators.TNK.evaluate_TNK'}, 'vocs': {'variables': {'x1': [0, 3.14159], 'x2': [0, 3.14159]}, 'objectives': {'y1': 'None'}, 'constraints': {'c1': ['GREATER_THAN', 0], 'c2': ['LESS_THAN', 0.5]}, 'linked_variables': None, 'constants': {'a': 'dummy_constant'}}}\n",
      "Warning: No path set for key xopt : output_path\n",
      "Warning: No path set for key algorithm : output_path\n",
      "Warning: No path set for key algorithm : restart_file\n"
     ]
    },
    {
     "data": {
      "text/plain": "\n            Xopt \n________________________________           \nVersion: 0.4.3+168.g7d48d79.dirty\nConfigured: True\nConfig as YAML:\nxopt: {output_path: null, logging: 20}\nalgorithm:\n  name: bayesian_exploration\n  options:\n    n_initial_samples: 5\n    n_steps: 25\n    verbose: true\n    generator_options: {batch_size: 1, use_gpu: false}\n  function: xopt.bayesian.algorithms.bayesian_exploration\n  n_initial_samples: 5\n  n_steps: 25\n  verbose: true\n  generator_options: {batch_size: 1, use_gpu: false}\n  output_path: null\n  custom_model: null\n  executor: null\n  restart_file: null\n  initial_x: null\nsimulation:\n  name: test_TNK\n  function: xopt.tests.evaluators.TNK.evaluate_TNK\n  options: {templates: null, extra_option: abc}\n  evaluate: xopt.tests.evaluators.TNK.evaluate_TNK\nvocs:\n  variables:\n    x1: [0, 3.14159]\n    x2: [0, 3.14159]\n  objectives: {y1: None}\n  constraints:\n    c1: [GREATER_THAN, 0]\n    c2: [LESS_THAN, 0.5]\n  linked_variables: null\n  constants: {a: dummy_constant}"
     },
     "execution_count": 8,
     "metadata": {},
     "output_type": "execute_result"
    }
   ],
   "source": [
    "X = Xopt(config)\n",
    "X"
   ]
  },
  {
   "cell_type": "markdown",
   "metadata": {},
   "source": [
    "# Run BayesOpt"
   ]
  },
  {
   "cell_type": "code",
   "execution_count": 9,
   "metadata": {},
   "outputs": [],
   "source": [
    "# Pick one of these\n",
    "from concurrent.futures import ThreadPoolExecutor as PoolExecutor\n",
    "#from concurrent.futures import ProcessPoolExecutor as PoolExecutor\n",
    "\n",
    "executor = PoolExecutor()\n",
    "# This will also work. \n",
    "#executor=None"
   ]
  },
  {
   "cell_type": "code",
   "execution_count": 10,
   "metadata": {},
   "outputs": [
    {
     "name": "stderr",
     "output_type": "stream",
     "text": [
      "INFO:xopt.xopt:Starting at time 2021-09-24T11:16:44-05:00\n",
      "INFO:xopt.bayesian.optimize:started running optimization with generator: <xopt.bayesian.generators.exploration.BayesianExplorationGenerator object at 0x0000018FC48FC7C0>\n",
      "INFO:xopt.bayesian.optimize:submitting initial candidates at time 2021-09-24T11:16:44-05:00\n",
      "INFO:xopt.bayesian.optimize:starting optimization loop\n",
      "INFO:xopt.bayesian.optimize:submitting candidates at time 2021-09-24T11:16:46-05:00\n",
      "INFO:xopt.bayesian.optimize:submitting candidates at time 2021-09-24T11:16:47-05:00\n",
      "INFO:xopt.bayesian.optimize:submitting candidates at time 2021-09-24T11:16:48-05:00\n",
      "INFO:xopt.bayesian.optimize:submitting candidates at time 2021-09-24T11:16:50-05:00\n",
      "INFO:xopt.bayesian.optimize:submitting candidates at time 2021-09-24T11:16:51-05:00\n",
      "INFO:xopt.bayesian.optimize:submitting candidates at time 2021-09-24T11:16:52-05:00\n",
      "INFO:xopt.bayesian.optimize:submitting candidates at time 2021-09-24T11:16:54-05:00\n",
      "INFO:xopt.bayesian.optimize:submitting candidates at time 2021-09-24T11:16:55-05:00\n",
      "INFO:xopt.bayesian.optimize:submitting candidates at time 2021-09-24T11:16:57-05:00\n",
      "INFO:xopt.bayesian.optimize:submitting candidates at time 2021-09-24T11:16:59-05:00\n",
      "INFO:xopt.bayesian.optimize:submitting candidates at time 2021-09-24T11:17:00-05:00\n",
      "INFO:xopt.bayesian.optimize:submitting candidates at time 2021-09-24T11:17:02-05:00\n",
      "INFO:xopt.bayesian.optimize:submitting candidates at time 2021-09-24T11:17:05-05:00\n",
      "INFO:xopt.bayesian.optimize:submitting candidates at time 2021-09-24T11:17:07-05:00\n",
      "INFO:xopt.bayesian.optimize:submitting candidates at time 2021-09-24T11:17:09-05:00\n",
      "INFO:xopt.bayesian.optimize:submitting candidates at time 2021-09-24T11:17:11-05:00\n",
      "INFO:xopt.bayesian.optimize:submitting candidates at time 2021-09-24T11:17:13-05:00\n",
      "INFO:xopt.bayesian.optimize:submitting candidates at time 2021-09-24T11:17:15-05:00\n",
      "INFO:xopt.bayesian.optimize:submitting candidates at time 2021-09-24T11:17:17-05:00\n",
      "INFO:xopt.bayesian.optimize:submitting candidates at time 2021-09-24T11:17:19-05:00\n",
      "INFO:xopt.bayesian.optimize:submitting candidates at time 2021-09-24T11:17:21-05:00\n",
      "INFO:xopt.bayesian.optimize:submitting candidates at time 2021-09-24T11:17:23-05:00\n",
      "INFO:xopt.bayesian.optimize:submitting candidates at time 2021-09-24T11:17:25-05:00\n",
      "INFO:xopt.bayesian.optimize:submitting candidates at time 2021-09-24T11:17:28-05:00\n",
      "INFO:xopt.bayesian.optimize:submitting candidates at time 2021-09-24T11:17:30-05:00\n"
     ]
    }
   ],
   "source": [
    "# Change max generations\n",
    "X.run(executor=executor)"
   ]
  },
  {
   "cell_type": "markdown",
   "metadata": {},
   "source": [
    "# Plot\n",
    "- plot input space samples -> yellow points satisfy constraints and purple points do not"
   ]
  },
  {
   "cell_type": "code",
   "execution_count": 11,
   "metadata": {},
   "outputs": [
    {
     "name": "stdout",
     "output_type": "stream",
     "text": [
      "dict_keys(['variables', 'objectives', 'corrected_objectives', 'constraint_status', 'feasibility', 'model', 'constraints', 'corrected_constraints'])\n"
     ]
    },
    {
     "data": {
      "text/plain": "<Figure size 432x288 with 1 Axes>",
      "image/png": "[encoded data removed]"
     },
     "metadata": {
      "needs_background": "light"
     },
     "output_type": "display_data"
    }
   ],
   "source": [
    "\n",
    "\n",
    "import matplotlib.pyplot as plt\n",
    "%matplotlib inline\n",
    "\n",
    "# plot exploration results and path - exploration should explore the feasible region of the TNK problem - See Table V in https://www.iitk.ac.in/kangal/Deb_NSGA-II.pdf\n",
    "fig, ax = plt.subplots()\n",
    "\n",
    "results = X.results\n",
    "print(results.keys())\n",
    "variables = results['variables']\n",
    "valid = results['variables'][results['feasibility'].flatten()]\n",
    "ax.plot(variables[:, 0], variables[:, 1], '-o', label = 'all')\n",
    "ax.plot(valid[:, 0], valid[:, 1], 'o', label = 'valid')\n",
    "ax.set_xlabel('$x_1$')\n",
    "ax.set_ylabel('$x_2$')\n",
    "ax.legend()\n",
    "\n",
    "plt.show()"
   ]
  },
  {
   "cell_type": "code",
   "execution_count": 11,
   "metadata": {},
   "outputs": [],
   "source": []
  },
  {
   "cell_type": "code",
   "execution_count": 11,
   "metadata": {},
   "outputs": [],
   "source": []
  }
 ],
 "metadata": {
  "kernelspec": {
   "display_name": "xopt",
   "language": "python",
   "name": "xopt"
  },
  "language_info": {
   "codemirror_mode": {
    "name": "ipython",
    "version": 3
   },
   "file_extension": ".py",
   "mimetype": "text/x-python",
   "name": "python",
   "nbconvert_exporter": "python",
   "pygments_lexer": "ipython3",
   "version": "3.9.6"
  }
 },
 "nbformat": 4,
 "nbformat_minor": 4
}