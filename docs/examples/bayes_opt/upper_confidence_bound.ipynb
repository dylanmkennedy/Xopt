{
 "cells": [
  {
   "cell_type": "markdown",
   "metadata": {
    "pycharm": {
     "name": "#%% md\n"
    }
   },
   "source": [
    "# Upper Confidence Bound BO\n"
   ]
  },
  {
   "cell_type": "code",
   "execution_count": 1,
   "metadata": {
    "execution": {
     "iopub.execute_input": "2022-07-02T04:15:03.843712Z",
     "iopub.status.busy": "2022-07-02T04:15:03.843424Z",
     "iopub.status.idle": "2022-07-02T04:15:04.772187Z",
     "shell.execute_reply": "2022-07-02T04:15:04.771689Z"
    },
    "pycharm": {
     "name": "#%%\n"
    }
   },
   "outputs": [],
   "source": [
    "# Import the class\n",
    "\n",
    "# Ignore all warnings\n",
    "import warnings\n",
    "warnings.filterwarnings(\"ignore\")\n",
    "\n",
    "import torch\n",
    "import yaml\n",
    "\n",
    "import matplotlib.pyplot as plt\n",
    "from xopt import Xopt"
   ]
  },
  {
   "cell_type": "markdown",
   "metadata": {
    "collapsed": false,
    "pycharm": {
     "name": "#%% md\n"
    }
   },
   "source": [
    "## Customizing the UpperConfidenceBound Generator\n",
    "First lets examine the possible options that we can specify for the\n",
    "UpperConfidenceBound generator. We can use these keys to customize optimization."
   ]
  },
  {
   "cell_type": "code",
   "execution_count": 2,
   "metadata": {
    "collapsed": false,
    "execution": {
     "iopub.execute_input": "2022-07-02T04:15:04.774584Z",
     "iopub.status.busy": "2022-07-02T04:15:04.774205Z",
     "iopub.status.idle": "2022-07-02T04:15:04.777577Z",
     "shell.execute_reply": "2022-07-02T04:15:04.777331Z"
    },
    "pycharm": {
     "name": "#%%\n"
    }
   },
   "outputs": [
    {
     "name": "stdout",
     "output_type": "stream",
     "text": [
      "acq:\n",
      "  beta: 2.0\n",
      "  monte_carlo_samples: 128\n",
      "  proximal_lengthscales: null\n",
      "  use_transformed_proximal_weights: true\n",
      "model:\n",
      "  function: !!python/name:xopt.generators.bayesian.models.standard.create_standard_model ''\n",
      "  kwargs:\n",
      "    use_conservative_prior_lengthscale: false\n",
      "    use_conservative_prior_mean: false\n",
      "    use_low_noise_prior: false\n",
      "n_initial: 3\n",
      "optim:\n",
      "  max_travel_distances: null\n",
      "  num_restarts: 5\n",
      "  raw_samples: 20\n",
      "  sequential: true\n",
      "  use_nearby_initial_points: true\n",
      "\n"
     ]
    }
   ],
   "source": [
    "from xopt.generators import get_generator_and_defaults\n",
    "gen, options = get_generator_and_defaults(\"upper_confidence_bound\")\n",
    "print(yaml.dump(options.dict()))"
   ]
  },
  {
   "cell_type": "markdown",
   "metadata": {
    "pycharm": {
     "name": "#%% md\n"
    }
   },
   "source": [
    "The `Xopt` object can be instantiated from a JSON or YAML file, or a dict, with the proper structure.\n",
    "\n",
    "Here we will make one"
   ]
  },
  {
   "cell_type": "code",
   "execution_count": 3,
   "metadata": {
    "execution": {
     "iopub.execute_input": "2022-07-02T04:15:04.790446Z",
     "iopub.status.busy": "2022-07-02T04:15:04.790318Z",
     "iopub.status.idle": "2022-07-02T04:15:04.793274Z",
     "shell.execute_reply": "2022-07-02T04:15:04.793009Z"
    },
    "pycharm": {
     "name": "#%%\n"
    }
   },
   "outputs": [],
   "source": [
    "# Make a proper input file.\n",
    "YAML = \"\"\"\n",
    "xopt: \n",
    "    dump_file: dump.yaml\n",
    "generator:\n",
    "  name: upper_confidence_bound\n",
    "  n_initial: 2\n",
    "  acq:\n",
    "    beta: 0.1\n",
    "\n",
    "evaluator:\n",
    "  function: xopt.resources.test_functions.sinusoid_1d.evaluate_sinusoid\n",
    "\n",
    "vocs:\n",
    "  variables:\n",
    "    x1: [0, 6.28]\n",
    "  objectives:\n",
    "    y1: 'MINIMIZE'\n",
    "\"\"\"\n",
    "config = yaml.safe_load(YAML)"
   ]
  },
  {
   "cell_type": "code",
   "execution_count": 4,
   "metadata": {
    "execution": {
     "iopub.execute_input": "2022-07-02T04:15:04.794759Z",
     "iopub.status.busy": "2022-07-02T04:15:04.794652Z",
     "iopub.status.idle": "2022-07-02T04:15:04.805490Z",
     "shell.execute_reply": "2022-07-02T04:15:04.805237Z"
    },
    "pycharm": {
     "name": "#%%\n"
    }
   },
   "outputs": [
    {
     "data": {
      "text/plain": "\n            Xopt\n________________________________\nVersion: 1.1.2+57.g381fea2.dirty\nData size: 0\nConfig as YAML:\nxopt: {asynch: false, strict: false, dump_file: dump.yaml, max_evaluations: null}\ngenerator:\n  name: upper_confidence_bound\n  optim: {num_restarts: 5, raw_samples: 20, sequential: true, use_nearby_initial_points: true,\n    max_travel_distances: null}\n  acq: {proximal_lengthscales: null, use_transformed_proximal_weights: true, monte_carlo_samples: 128,\n    beta: 0.1}\n  model:\n    function: xopt.generators.bayesian.models.standard.create_standard_model\n    kwargs: {use_conservative_prior_lengthscale: false, use_conservative_prior_mean: false,\n      use_low_noise_prior: false}\n  n_initial: 2\nevaluator:\n  function: xopt.resources.test_functions.sinusoid_1d.evaluate_sinusoid\n  max_workers: 1\n  function_kwargs: {}\n  vectorized: false\nvocs:\n  variables:\n    x1: [0.0, 6.28]\n  constraints: {}\n  objectives: {y1: MINIMIZE}\n  constants: {}\n  linked_variables: {}\n"
     },
     "execution_count": 4,
     "metadata": {},
     "output_type": "execute_result"
    }
   ],
   "source": [
    "X = Xopt(config=config)\n",
    "X"
   ]
  },
  {
   "cell_type": "markdown",
   "metadata": {
    "pycharm": {
     "name": "#%% md\n"
    }
   },
   "source": [
    "## Run Optimization"
   ]
  },
  {
   "cell_type": "code",
   "execution_count": 5,
   "metadata": {
    "execution": {
     "iopub.execute_input": "2022-07-02T04:15:04.806997Z",
     "iopub.status.busy": "2022-07-02T04:15:04.806907Z",
     "iopub.status.idle": "2022-07-02T04:15:07.873006Z",
     "shell.execute_reply": "2022-07-02T04:15:07.872662Z"
    },
    "pycharm": {
     "name": "#%%\n"
    }
   },
   "outputs": [
    {
     "name": "stdout",
     "output_type": "stream",
     "text": [
      "0\n",
      "1\n",
      "2\n",
      "3\n",
      "4\n"
     ]
    }
   ],
   "source": [
    "for i in range(5):\n",
    "    print(i)\n",
    "    X.step()"
   ]
  },
  {
   "cell_type": "markdown",
   "metadata": {
    "collapsed": false,
    "pycharm": {
     "name": "#%% md\n"
    }
   },
   "source": [
    "## View output data"
   ]
  },
  {
   "cell_type": "code",
   "execution_count": 6,
   "metadata": {
    "collapsed": false,
    "execution": {
     "iopub.execute_input": "2022-07-02T04:15:07.875181Z",
     "iopub.status.busy": "2022-07-02T04:15:07.874844Z",
     "iopub.status.idle": "2022-07-02T04:15:07.879906Z",
     "shell.execute_reply": "2022-07-02T04:15:07.879654Z"
    },
    "pycharm": {
     "name": "#%%\n"
    }
   },
   "outputs": [
    {
     "data": {
      "text/plain": "         x1        y1         c1  xopt_runtime  xopt_error\n1  0.554305  0.526352  -4.909686      0.000014       False\n2  3.158460 -0.016866  -9.786455      0.000003       False\n3  4.307220 -0.919036 -19.644081      0.000009       False\n4  5.505136 -0.701892 -15.776386      0.000009       False\n5  4.879915 -0.986000 -18.972323      0.000009       False\n6  4.687942 -0.999701 -18.511619      0.000010       False",
      "text/html": "<div>\n<style scoped>\n    .dataframe tbody tr th:only-of-type {\n        vertical-align: middle;\n    }\n\n    .dataframe tbody tr th {\n        vertical-align: top;\n    }\n\n    .dataframe thead th {\n        text-align: right;\n    }\n</style>\n<table border=\"1\" class=\"dataframe\">\n  <thead>\n    <tr style=\"text-align: right;\">\n      <th></th>\n      <th>x1</th>\n      <th>y1</th>\n      <th>c1</th>\n      <th>xopt_runtime</th>\n      <th>xopt_error</th>\n    </tr>\n  </thead>\n  <tbody>\n    <tr>\n      <th>1</th>\n      <td>0.554305</td>\n      <td>0.526352</td>\n      <td>-4.909686</td>\n      <td>0.000014</td>\n      <td>False</td>\n    </tr>\n    <tr>\n      <th>2</th>\n      <td>3.158460</td>\n      <td>-0.016866</td>\n      <td>-9.786455</td>\n      <td>0.000003</td>\n      <td>False</td>\n    </tr>\n    <tr>\n      <th>3</th>\n      <td>4.307220</td>\n      <td>-0.919036</td>\n      <td>-19.644081</td>\n      <td>0.000009</td>\n      <td>False</td>\n    </tr>\n    <tr>\n      <th>4</th>\n      <td>5.505136</td>\n      <td>-0.701892</td>\n      <td>-15.776386</td>\n      <td>0.000009</td>\n      <td>False</td>\n    </tr>\n    <tr>\n      <th>5</th>\n      <td>4.879915</td>\n      <td>-0.986000</td>\n      <td>-18.972323</td>\n      <td>0.000009</td>\n      <td>False</td>\n    </tr>\n    <tr>\n      <th>6</th>\n      <td>4.687942</td>\n      <td>-0.999701</td>\n      <td>-18.511619</td>\n      <td>0.000010</td>\n      <td>False</td>\n    </tr>\n  </tbody>\n</table>\n</div>"
     },
     "execution_count": 6,
     "metadata": {},
     "output_type": "execute_result"
    }
   ],
   "source": [
    "X.data"
   ]
  },
  {
   "cell_type": "markdown",
   "metadata": {
    "collapsed": false,
    "pycharm": {
     "name": "#%% md\n"
    }
   },
   "source": [
    "## Visualize model used by upper confidence bound\n",
    "Models are kept in a list, in this case that list has one element, the model\n",
    "created for the objective `y1`.\n"
   ]
  },
  {
   "cell_type": "code",
   "execution_count": 7,
   "metadata": {
    "collapsed": false,
    "execution": {
     "iopub.execute_input": "2022-07-02T04:15:07.881446Z",
     "iopub.status.busy": "2022-07-02T04:15:07.881359Z",
     "iopub.status.idle": "2022-07-02T04:15:07.936006Z",
     "shell.execute_reply": "2022-07-02T04:15:07.935717Z"
    },
    "pycharm": {
     "name": "#%%\n"
    }
   },
   "outputs": [
    {
     "data": {
      "text/plain": "Text(0, 0.5, 'y1')"
     },
     "execution_count": 7,
     "metadata": {},
     "output_type": "execute_result"
    },
    {
     "data": {
      "text/plain": "<Figure size 640x480 with 1 Axes>",
      "image/png": "[encoded data removed]"
     },
     "metadata": {},
     "output_type": "display_data"
    }
   ],
   "source": [
    "model = X.generator.model\n",
    "bounds = X.vocs.bounds\n",
    "\n",
    "test_x = torch.linspace(*bounds.flatten(), 100).double()\n",
    "\n",
    "train_x = torch.tensor(X.data[\"x1\"].to_numpy())\n",
    "train_y = torch.tensor(X.data[\"y1\"].to_numpy())\n",
    "\n",
    "fig, ax = plt.subplots()\n",
    "with torch.no_grad():\n",
    "    post = model.models[0].posterior(test_x.reshape(-1,1,1))\n",
    "    mean = post.mean.flatten()\n",
    "    std = post.variance.sqrt().flatten()\n",
    "\n",
    "    lower = mean - std\n",
    "    upper = mean + std\n",
    "\n",
    "ax.plot(test_x, mean)\n",
    "ax.fill_between(test_x, lower, upper, alpha=0.5)\n",
    "ax.plot(\n",
    "    train_x.flatten(),\n",
    "    train_y.flatten(),\n",
    "    \"+\"\n",
    ")\n",
    "ax.set_xlabel(\"x1\")\n",
    "ax.set_ylabel(\"y1\")\n"
   ]
  },
  {
   "cell_type": "code",
   "execution_count": 8,
   "metadata": {
    "collapsed": false,
    "execution": {
     "iopub.execute_input": "2022-07-02T04:15:07.937539Z",
     "iopub.status.busy": "2022-07-02T04:15:07.937432Z",
     "iopub.status.idle": "2022-07-02T04:15:08.202741Z",
     "shell.execute_reply": "2022-07-02T04:15:08.202032Z"
    },
    "pycharm": {
     "name": "#%%\n"
    }
   },
   "outputs": [
    {
     "name": "stderr",
     "output_type": "stream",
     "text": [
      "'rm' is not recognized as an internal or external command,\n",
      "operable program or batch file.\n"
     ]
    }
   ],
   "source": [
    "# Cleanup\n",
    "!rm dump.yaml"
   ]
  }
 ],
 "metadata": {
  "kernelspec": {
   "display_name": "Python 3 (ipykernel)",
   "language": "python",
   "name": "python3"
  },
  "language_info": {
   "codemirror_mode": {
    "name": "ipython",
    "version": 3
   },
   "file_extension": ".py",
   "mimetype": "text/x-python",
   "name": "python",
   "nbconvert_exporter": "python",
   "pygments_lexer": "ipython3",
   "version": "3.9.13"
  }
 },
 "nbformat": 4,
 "nbformat_minor": 4
}