{
 "cells": [
  {
   "cell_type": "code",
   "execution_count": 1,
   "metadata": {},
   "outputs": [],
   "source": [
    "# Useful for debugging\n",
    "%load_ext autoreload\n",
    "%autoreload 2"
   ]
  },
  {
   "cell_type": "markdown",
   "metadata": {},
   "source": [
    "# Xopt class, TNK test function\n",
    "\n",
    "This is the class method for running Xopt. Use Bayesian exploration to explore the input space.\n",
    "\n",
    "TNK function\n",
    "$n=2$ variables:\n",
    "$x_i \\in [0, \\pi], i=1,2$\n",
    "\n",
    "Objectives:\n",
    "- $f_i(x) = x_i$\n",
    "\n",
    "Constraints:\n",
    "- $g_1(x) = -x_1^2 -x_2^2 + 1 + 0.1 \\cos\\left(16 \\arctan \\frac{x_1}{x_2}\\right) \\le 0$\n",
    "- $g_2(x) = (x_1 - 1/2)^2 + (x_2-1/2)^2 \\le 0.5$"
   ]
  },
  {
   "cell_type": "code",
   "execution_count": 2,
   "metadata": {},
   "outputs": [],
   "source": [
    "# Import the class\n",
    "from xopt import Xopt"
   ]
  },
  {
   "cell_type": "markdown",
   "metadata": {},
   "source": [
    "The `Xopt` object can be instantiated from a JSON or YAML file, or a dict, with the proper structure.\n",
    "\n",
    "Here we will make one"
   ]
  },
  {
   "cell_type": "code",
   "execution_count": 3,
   "metadata": {},
   "outputs": [],
   "source": [
    "import yaml\n",
    "# Make a proper input file. \n",
    "YAML=\"\"\"\n",
    "xopt: {output_path: null, verbose: true}\n",
    "\n",
    "algorithm:\n",
    "  name: bayesian_exploration\n",
    "  options:  \n",
    "      n_initial_samples: 5\n",
    "      n_steps: 25\n",
    "      verbose: True\n",
    "      use_gpu: False\n",
    "      generator_options:                     ## options for bayesian exploration acquisition function\n",
    "          batch_size: 1                      ## batch size for parallelized optimization\n",
    "          #sigma: [[0.01, 0.0], [0.0,0.01]]   ## proximal biasing term\n",
    "          \n",
    "  \n",
    "simulation: \n",
    "  name: test_TNK\n",
    "  evaluate: xopt.evaluators.test_TNK.evaluate_TNK  \n",
    "  \n",
    "vocs:\n",
    "  name: TNK_test\n",
    "  description: null\n",
    "  simulation: test_TNK\n",
    "  templates: null\n",
    "  variables:\n",
    "    x1: [0, 3.14159]\n",
    "    x2: [0, 3.14159]\n",
    "  objectives: {y1: None}\n",
    "  constraints:\n",
    "    c1: [GREATER_THAN, 0]\n",
    "    c2: ['LESS_THAN', 0.5]\n",
    "  linked_variables: {x9: x1}\n",
    "  constants: {a: dummy_constant}\n",
    "\n",
    "\"\"\"\n",
    "config = yaml.safe_load(YAML)"
   ]
  },
  {
   "cell_type": "code",
   "execution_count": 4,
   "metadata": {},
   "outputs": [
    {
     "name": "stdout",
     "output_type": "stream",
     "text": [
      "Loading config as dict.\n",
      "Warning: No path set for key xopt : output_path\n",
      "Warning: No path set for key algorithm : options : restart_file\n"
     ]
    },
    {
     "data": {
      "text/plain": [
       "\n",
       "            Xopt \n",
       "________________________________           \n",
       "Version: 0.4.3\n",
       "Configured: True\n",
       "Config as YAML:\n",
       "xopt: {output_path: null, verbose: true, algorithm: cnsga}\n",
       "algorithm:\n",
       "  name: bayesian_exploration\n",
       "  function: xopt.bayesian.algorithms.bayesian_exploration\n",
       "  options:\n",
       "    n_initial_samples: 5\n",
       "    n_steps: 25\n",
       "    verbose: true\n",
       "    use_gpu: false\n",
       "    generator_options: {batch_size: 1}\n",
       "    custom_model: null\n",
       "    restart_file: null\n",
       "    initial_x: null\n",
       "simulation:\n",
       "  name: test_TNK\n",
       "  evaluate: xopt.evaluators.test_TNK.evaluate_TNK\n",
       "  options: {extra_option: abc}\n",
       "vocs:\n",
       "  name: TNK_test\n",
       "  description: null\n",
       "  simulation: test_TNK\n",
       "  templates: null\n",
       "  variables:\n",
       "    x1: [0, 3.14159]\n",
       "    x2: [0, 3.14159]\n",
       "  objectives: {y1: None}\n",
       "  constraints:\n",
       "    c1: [GREATER_THAN, 0]\n",
       "    c2: [LESS_THAN, 0.5]\n",
       "  linked_variables: {x9: x1}\n",
       "  constants: {a: dummy_constant}"
      ]
     },
     "execution_count": 4,
     "metadata": {},
     "output_type": "execute_result"
    }
   ],
   "source": [
    "X = Xopt(config)\n",
    "X"
   ]
  },
  {
   "cell_type": "markdown",
   "metadata": {},
   "source": [
    "# Run BayesOpt"
   ]
  },
  {
   "cell_type": "code",
   "execution_count": 5,
   "metadata": {},
   "outputs": [],
   "source": [
    "# Pick one of these\n",
    "from concurrent.futures import ThreadPoolExecutor as PoolExecutor\n",
    "#from concurrent.futures import ProcessPoolExecutor as PoolExecutor\n",
    "\n",
    "executor = PoolExecutor()\n",
    "# This will also work. \n",
    "#executor=None"
   ]
  },
  {
   "cell_type": "code",
   "execution_count": 6,
   "metadata": {},
   "outputs": [
    {
     "name": "stdout",
     "output_type": "stream",
     "text": [
      "Starting at time 2021-08-12T07:51:06-07:00\n",
      "Model creation time: 1.042 s\n",
      "Candidate generation time: 1.356 s\n",
      "Candidate(s): tensor([[0., 0.]], dtype=torch.float64)\n",
      "Model creation time: 0.8309 s\n",
      "Candidate generation time: 1.123 s\n",
      "Candidate(s): tensor([[2.2261, 0.0000]], dtype=torch.float64)\n",
      "Model creation time: 0.6462 s\n",
      "Candidate generation time: 1.428 s\n",
      "Candidate(s): tensor([[0.9405, 0.0000]], dtype=torch.float64)\n",
      "Model creation time: 0.7745 s\n",
      "Candidate generation time: 1.445 s\n",
      "Candidate(s): tensor([[0.5793, 1.0447]], dtype=torch.float64)\n",
      "Model creation time: 0.7864 s\n",
      "Candidate generation time: 2.132 s\n",
      "Candidate(s): tensor([[1.0517, 0.6203]], dtype=torch.float64)\n",
      "Model creation time: 1.089 s\n",
      "Candidate generation time: 2.475 s\n",
      "Candidate(s): tensor([[0.3299, 1.0208]], dtype=torch.float64)\n",
      "Model creation time: 0.7429 s\n",
      "Candidate generation time: 2.758 s\n",
      "Candidate(s): tensor([[0.8112, 0.7119]], dtype=torch.float64)\n",
      "Model creation time: 0.9587 s\n",
      "Candidate generation time: 2.196 s\n",
      "Candidate(s): tensor([[0.1482, 1.0582]], dtype=torch.float64)\n",
      "Model creation time: 0.9183 s\n",
      "Candidate generation time: 2.817 s\n",
      "Candidate(s): tensor([[1.1602, 0.5152]], dtype=torch.float64)\n",
      "Model creation time: 0.9108 s\n",
      "Candidate generation time: 3.101 s\n",
      "Candidate(s): tensor([[0.0607, 1.0250]], dtype=torch.float64)\n",
      "Model creation time: 1.345 s\n",
      "Candidate generation time: 3.02 s\n",
      "Candidate(s): tensor([[1.1147, 0.2483]], dtype=torch.float64)\n",
      "Model creation time: 0.9877 s\n",
      "Candidate generation time: 2.99 s\n",
      "Candidate(s): tensor([[0.6350, 1.1646]], dtype=torch.float64)\n",
      "Model creation time: 0.7392 s\n",
      "Candidate generation time: 3.18 s\n",
      "Candidate(s): tensor([[1.1724, 0.6129]], dtype=torch.float64)\n",
      "Model creation time: 0.8318 s\n",
      "Candidate generation time: 2.312 s\n",
      "Candidate(s): tensor([[1.0998, 0.1665]], dtype=torch.float64)\n",
      "Model creation time: 1.261 s\n",
      "Candidate generation time: 2.994 s\n",
      "Candidate(s): tensor([[0.6555, 0.8416]], dtype=torch.float64)\n",
      "Model creation time: 1.167 s\n",
      "Candidate generation time: 2.055 s\n",
      "Candidate(s): tensor([[1.0233, 0.9079]], dtype=torch.float64)\n",
      "Model creation time: 0.7818 s\n",
      "Candidate generation time: 2.547 s\n",
      "Candidate(s): tensor([[0.3610, 0.9811]], dtype=torch.float64)\n",
      "Model creation time: 0.9308 s\n",
      "Candidate generation time: 3.383 s\n",
      "Candidate(s): tensor([[0.9331, 0.5092]], dtype=torch.float64)\n",
      "Model creation time: 1.121 s\n",
      "Candidate generation time: 4.509 s\n",
      "Candidate(s): tensor([[0.0646, 1.0420]], dtype=torch.float64)\n",
      "Model creation time: 0.8299 s\n",
      "Candidate generation time: 4.742 s\n",
      "Candidate(s): tensor([[0.4955, 1.1865]], dtype=torch.float64)\n",
      "Model creation time: 1.225 s\n",
      "Candidate generation time: 3.336 s\n",
      "Candidate(s): tensor([[1.1890, 0.5791]], dtype=torch.float64)\n",
      "Model creation time: 0.8232 s\n",
      "Candidate generation time: 3.524 s\n",
      "Candidate(s): tensor([[1.0468, 0.0763]], dtype=torch.float64)\n",
      "Model creation time: 1.005 s\n",
      "Candidate generation time: 2.907 s\n",
      "Candidate(s): tensor([[0.7787, 1.1302]], dtype=torch.float64)\n",
      "Model creation time: 1.015 s\n",
      "Candidate generation time: 2.94 s\n",
      "Candidate(s): tensor([[0.6701, 0.7974]], dtype=torch.float64)\n",
      "Model creation time: 0.8552 s\n",
      "Candidate generation time: 3.611 s\n",
      "Candidate(s): tensor([[1.0657, 0.8932]], dtype=torch.float64)\n"
     ]
    }
   ],
   "source": [
    "# Change max generations\n",
    "X.run(executor=executor)"
   ]
  },
  {
   "cell_type": "markdown",
   "metadata": {},
   "source": [
    "# Plot\n",
    "- plot input space samples -> yellow points satisfy constraints and purple points do not"
   ]
  },
  {
   "cell_type": "code",
   "execution_count": 7,
   "metadata": {},
   "outputs": [
    {
     "name": "stdout",
     "output_type": "stream",
     "text": [
      "dict_keys(['variables', 'objectives', 'constraints', 'constraint_status', 'feasibility', 'model'])\n"
     ]
    },
    {
     "data": {
      "image/png": "[encoded data removed]",
      "text/plain": [
       "<Figure size 432x288 with 1 Axes>"
      ]
     },
     "metadata": {
      "needs_background": "light"
     },
     "output_type": "display_data"
    }
   ],
   "source": [
    "\n",
    "\n",
    "import matplotlib.pyplot as plt\n",
    "%matplotlib inline\n",
    "\n",
    "# plot exploration results and path - exploration should explore the feasible region of the TNK problem - See Table V in https://www.iitk.ac.in/kangal/Deb_NSGA-II.pdf\n",
    "fig, ax = plt.subplots()\n",
    "\n",
    "results = X.results\n",
    "print(results.keys())\n",
    "variables = results['variables']\n",
    "valid = results['variables'][results['feasibility'].flatten()]\n",
    "ax.plot(variables[:, 0], variables[:, 1], '-o', label = 'all')\n",
    "ax.plot(valid[:, 0], valid[:, 1], 'o', label = 'valid')\n",
    "ax.set_xlabel('$x_1$')\n",
    "ax.set_ylabel('$x_2$')\n",
    "ax.legend()\n",
    "\n",
    "plt.show()"
   ]
  },
  {
   "cell_type": "code",
   "execution_count": null,
   "metadata": {},
   "outputs": [],
   "source": []
  }
 ],
 "metadata": {
  "kernelspec": {
   "display_name": "xopt",
   "language": "python",
   "name": "xopt"
  },
  "language_info": {
   "codemirror_mode": {
    "name": "ipython",
    "version": 3
   },
   "file_extension": ".py",
   "mimetype": "text/x-python",
   "name": "python",
   "nbconvert_exporter": "python",
   "pygments_lexer": "ipython3",
   "version": "3.9.6"
  }
 },
 "nbformat": 4,
 "nbformat_minor": 4
}
