{
 "cells": [
  {
   "cell_type": "markdown",
   "id": "9e1b3d38-fe20-4a94-9901-9fe80e3fb1d8",
   "metadata": {},
   "source": [
    "# Bayesian exploration using script"
   ]
  },
  {
   "cell_type": "code",
   "execution_count": 1,
   "id": "4a9be9bf-b3c5-468d-84f6-c7b8cf25806e",
   "metadata": {},
   "outputs": [
    {
     "name": "stdout",
     "output_type": "stream",
     "text": [
      "\n",
      "        Bayesian exploration algorithm\n",
      "\n",
      "        Parameters\n",
      "        ----------\n",
      "        config : dict\n",
      "            Varabiles, objectives, constraints and statics dictionary, see xopt documentation for detials\n",
      "\n",
      "        evaluate_f : callable\n",
      "            Returns dict of outputs after problem has been evaluated\n",
      "\n",
      "\n",
      "        Optional kwargs arguments\n",
      "        --------\n",
      "        n_steps : int, default: 30\n",
      "            Number of optimization steps to take\n",
      "\n",
      "        executor : futures.Executor, default: None\n",
      "            Executor object to evaluate problem using multiple threads or processors\n",
      "\n",
      "        n_initial_samples : int, defualt: 5\n",
      "            Number of initial sobel_random samples to take to start optimization. Ignored if initial_x is not None.\n",
      "\n",
      "        custom_model : callable, optional\n",
      "            Function in the form f(train_x, train_y) that returns a botorch model instance\n",
      "\n",
      "        output_path : str, optional\n",
      "            Location to save optimization data and models.\n",
      "\n",
      "        verbose : bool, default: False\n",
      "            Specify if the algorithm should print optimization progress.\n",
      "\n",
      "        restart_data_file : str, optional\n",
      "            Pickled pandas data frame object containing initial data for restarting optimization.\n",
      "\n",
      "        initial_x : torch.Tensor, optional\n",
      "            Initial input points to sample evaluator at, causes sampling to ignore n_initial_samples\n",
      "\n",
      "        use_gpu : bool, False\n",
      "            Specify if the algorithm should use GPU resources if available. Only use on large problems!\n",
      "\n",
      "        eval_args : list, []\n",
      "            List of positional arguments for evaluation function\n",
      "\n",
      "        Returns\n",
      "        -------\n",
      "        results : dict\n",
      "            Dictionary object containing optimization points + other info\n",
      "\n",
      "        \n"
     ]
    }
   ],
   "source": [
    "# main function\n",
    "import numpy as np\n",
    "import torch\n",
    "import matplotlib.pyplot as plt\n",
    "\n",
    "from xopt.bayesian_exploration import bayesian_exploration\n",
    "\n",
    "# test function\n",
    "from xopt.evaluators import test_TNK\n",
    "\n",
    "?bayesian_exploration"
   ]
  },
  {
   "cell_type": "code",
   "execution_count": 2,
   "id": "c408bff1-fd32-4b08-a6f2-779cce3fed7c",
   "metadata": {},
   "outputs": [
    {
     "name": "stdout",
     "output_type": "stream",
     "text": [
      "No executor given. Running in serial mode.\n",
      "tensor([[0.6245, 0.8146]], dtype=torch.float64)\n",
      "tensor([[0., 0.]], dtype=torch.float64)\n",
      "tensor([[1.3845, 0.0000]], dtype=torch.float64)\n",
      "tensor([[0.0000, 1.0527]], dtype=torch.float64)\n",
      "tensor([[0.9647, 0.7378]], dtype=torch.float64)\n"
     ]
    }
   ],
   "source": [
    "# Get VOCS\n",
    "VOCS = test_TNK.VOCS\n",
    "VOCS['objectives'] = {'y1' : None}\n",
    "\n",
    "# Get evaluate function\n",
    "EVALUATE = test_TNK.evaluate_TNK\n",
    "\n",
    "\n",
    "# Run - see comments for example options\n",
    "results = bayesian_exploration(VOCS, EVALUATE,\n",
    "                               n_initial_samples=5,                   ## Specify number of initial random samples\n",
    "                               initial_x=None,                        ## Specify explicit initial sample locations (overwrites n_initial_samples)\n",
    "                               use_gpu=False,                         ## Use GPU\n",
    "                               n_steps=5,                             ## number of optimization step\n",
    "                               # restart_data_file = 'results.json',  ## restart optimization file\n",
    "                               # batch_size = 5,                      ## Specify batched exploration\n",
    "                               # custom_model = myCustomModel,        ## Specify custom model creation function\n",
    "                               # sigma=torch.eye(2) * 0.01,           ## Specify proximal term (requires batch_size = 1)\n",
    "                               verbose=True)"
   ]
  },
  {
   "cell_type": "code",
   "execution_count": 3,
   "id": "7d7b9312-17fe-438c-8120-c0fc458b6a3c",
   "metadata": {},
   "outputs": [
    {
     "name": "stdout",
     "output_type": "stream",
     "text": [
      "['inputs', 'objectives', 'constraints', 'constraint_status', 'feasibility', 'model']\n"
     ]
    },
    {
     "data": {
      "image/png": "[encoded data removed]",
      "text/plain": [
       "<Figure size 432x288 with 1 Axes>"
      ]
     },
     "metadata": {
      "needs_background": "light"
     },
     "output_type": "display_data"
    }
   ],
   "source": [
    "# plot exploration results and path\n",
    "\n",
    "fig, ax = plt.subplots()\n",
    "print(list(results.keys()))\n",
    "ax.plot(results['variables'][:, 0], results['variables'][:, 1], '-o')\n",
    "ax.set_xlabel('$x_1$')\n",
    "ax.set_ylabel('$x_2$')\n",
    "\n",
    "plt.show()"
   ]
  }
 ],
 "metadata": {
  "kernelspec": {
   "display_name": "xopt",
   "language": "python",
   "name": "xopt"
  },
  "language_info": {
   "codemirror_mode": {
    "name": "ipython",
    "version": 3
   },
   "file_extension": ".py",
   "mimetype": "text/x-python",
   "name": "python",
   "nbconvert_exporter": "python",
   "pygments_lexer": "ipython3",
   "version": "3.9.6"
  }
 },
 "nbformat": 4,
 "nbformat_minor": 5
}
