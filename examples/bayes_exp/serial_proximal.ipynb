{
 "cells": [
  {
   "cell_type": "code",
   "execution_count": 1,
   "id": "4a9be9bf-b3c5-468d-84f6-c7b8cf25806e",
   "metadata": {},
   "outputs": [],
   "source": [
    "# main function\n",
    "import numpy as np\n",
    "import torch\n",
    "import matplotlib.pyplot as plt\n",
    "\n",
    "from xopt.bayesian_exploration import bayesian_exploration\n",
    "\n",
    "# test function\n",
    "from xopt.evaluators import test_TNK\n"
   ]
  },
  {
   "cell_type": "code",
   "execution_count": 2,
   "id": "d738f30f-6946-444f-a432-f29ce4eb5ee3",
   "metadata": {},
   "outputs": [
    {
     "name": "stdout",
     "output_type": "stream",
     "text": [
      "{'name': 'TNK_test', 'description': 'Constrainted test function TNK. See Table V in https://www.iitk.ac.in/kangal/Deb_NSGA-II.pdf', 'simulation': 'test_TNK', 'variables': {'x1': [0, 3.14159], 'x2': [0, 3.14159]}, 'objectives': {'y1': None}, 'constraints': {'c1': ['GREATER_THAN', 0], 'c2': ['LESS_THAN', 0.5]}, 'constants': {'a': 'dummy_constant'}, 'linked_variables': {'x9': 'x1'}}\n",
      "No executor given. Running in serial mode.\n",
      "tensor([[0.5545, 0.5407]], dtype=torch.float64)\n",
      "tensor([[0.4210, 0.5330]], dtype=torch.float64)\n",
      "tensor([[0.4022, 0.6969]], dtype=torch.float64)\n",
      "tensor([[0.2556, 0.8034]], dtype=torch.float64)\n",
      "tensor([[0.3721, 0.9296]], dtype=torch.float64)\n",
      "tensor([[0.4535, 0.9852]], dtype=torch.float64)\n",
      "tensor([[0.5329, 1.0042]], dtype=torch.float64)\n",
      "tensor([[0.6091, 1.0198]], dtype=torch.float64)\n",
      "tensor([[0.6835, 1.0315]], dtype=torch.float64)\n",
      "tensor([[0.7574, 1.0391]], dtype=torch.float64)\n",
      "tensor([[0.8303, 1.0441]], dtype=torch.float64)\n",
      "tensor([[0.8959, 1.0368]], dtype=torch.float64)\n",
      "tensor([[0.9482, 1.0070]], dtype=torch.float64)\n",
      "tensor([[0.9928, 0.9667]], dtype=torch.float64)\n",
      "tensor([[1.0313, 0.9237]], dtype=torch.float64)\n",
      "tensor([[1.0639, 0.8796]], dtype=torch.float64)\n",
      "tensor([[1.0542, 0.8172]], dtype=torch.float64)\n",
      "tensor([[1.0290, 0.7638]], dtype=torch.float64)\n",
      "tensor([[1.0057, 0.7196]], dtype=torch.float64)\n",
      "tensor([[0.9876, 0.6787]], dtype=torch.float64)\n"
     ]
    }
   ],
   "source": [
    "# Get VOCS\n",
    "VOCS = test_TNK.VOCS\n",
    "VOCS['objectives'] = {'y1' : None}\n",
    "\n",
    "# add reference point\n",
    "ref = torch.tensor((1.4, 1.4))\n",
    "\n",
    "print(VOCS)\n",
    "# Get evaluate function\n",
    "EVALUATE = test_TNK.evaluate_TNK\n",
    "\n",
    "# Run\n",
    "init_x = torch.tensor([[0.9, 0.9], [0.6, 0.6]])\n",
    "results = bayesian_exploration(VOCS, EVALUATE,\n",
    "                                n_initial_samples=5,\n",
    "                                initial_x=None,\n",
    "                             use_gpu=False,\n",
    "                             sigma=torch.eye(2) * 0.01,\n",
    "                             n_steps=20, verbose=True)"
   ]
  },
  {
   "cell_type": "code",
   "execution_count": 3,
   "id": "7d7b9312-17fe-438c-8120-c0fc458b6a3c",
   "metadata": {},
   "outputs": [
    {
     "name": "stdout",
     "output_type": "stream",
     "text": [
      "['inputs', 'objectives', 'constraints', 'constraint_status', 'feasibility', 'model']\n"
     ]
    },
    {
     "data": {
      "image/png": "[encoded data removed]",
      "text/plain": [
       "<Figure size 432x288 with 1 Axes>"
      ]
     },
     "metadata": {
      "needs_background": "light"
     },
     "output_type": "display_data"
    }
   ],
   "source": [
    "fig, ax = plt.subplots()\n",
    "print(list(results.keys()))\n",
    "ax.plot(results['inputs'][:, 0], results['inputs'][:, 1], '-o')\n",
    "\n",
    "plt.show()"
   ]
  },
  {
   "cell_type": "code",
   "execution_count": null,
   "id": "e9540a37-a0e8-4eff-a5ff-f11c9e68b06c",
   "metadata": {},
   "outputs": [],
   "source": []
  }
 ],
 "metadata": {
  "kernelspec": {
   "display_name": "xopt",
   "language": "python",
   "name": "xopt"
  },
  "language_info": {
   "codemirror_mode": {
    "name": "ipython",
    "version": 3
   },
   "file_extension": ".py",
   "mimetype": "text/x-python",
   "name": "python",
   "nbconvert_exporter": "python",
   "pygments_lexer": "ipython3",
   "version": "3.9.6"
  }
 },
 "nbformat": 4,
 "nbformat_minor": 5
}
