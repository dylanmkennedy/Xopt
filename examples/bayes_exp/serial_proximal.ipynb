{
 "cells": [
  {
   "cell_type": "code",
   "execution_count": 1,
   "id": "4a9be9bf-b3c5-468d-84f6-c7b8cf25806e",
   "metadata": {},
   "outputs": [],
   "source": [
    "# main function\n",
    "import numpy as np\n",
    "import torch\n",
    "import matplotlib.pyplot as plt\n",
    "\n",
    "from xopt.bayesian_exploration import bayesian_exploration\n",
    "\n",
    "# test function\n",
    "from xopt.evaluators import test_TNK\n"
   ]
  },
  {
   "cell_type": "code",
   "execution_count": 10,
   "id": "d738f30f-6946-444f-a432-f29ce4eb5ee3",
   "metadata": {},
   "outputs": [
    {
     "name": "stdout",
     "output_type": "stream",
     "text": [
      "{'name': 'TNK_test', 'description': 'Constrainted test function TNK. See Table V in https://www.iitk.ac.in/kangal/Deb_NSGA-II.pdf', 'simulation': 'test_TNK', 'variables': {'x1': [0, 3.14159], 'x2': [0, 3.14159]}, 'objectives': {'y1': None}, 'constraints': {'c1': ['GREATER_THAN', 0], 'c2': ['LESS_THAN', 0.5]}, 'constants': {'a': 'dummy_constant'}, 'linked_variables': {'x9': 'x1'}}\n",
      "No executor given. Running in serial mode.\n",
      "tensor([[1.7201, 0.8708]], dtype=torch.float64)\n",
      "tensor([[1.4775, 0.9055]], dtype=torch.float64)\n",
      "tensor([[1.3033, 0.7462]], dtype=torch.float64)\n",
      "tensor([[1.1518, 0.7472]], dtype=torch.float64)\n",
      "tensor([[1.0845, 0.7924]], dtype=torch.float64)\n",
      "tensor([[1.0330, 0.8513]], dtype=torch.float64)\n",
      "tensor([[0.9750, 0.8993]], dtype=torch.float64)\n",
      "tensor([[0.9061, 0.9345]], dtype=torch.float64)\n",
      "tensor([[0.8302, 0.9559]], dtype=torch.float64)\n",
      "tensor([[0.7509, 0.9662]], dtype=torch.float64)\n",
      "tensor([[0.6705, 0.9679]], dtype=torch.float64)\n",
      "tensor([[0.5914, 0.9627]], dtype=torch.float64)\n",
      "tensor([[0.5140, 0.9524]], dtype=torch.float64)\n",
      "tensor([[0.4645, 0.9534]], dtype=torch.float64)\n",
      "tensor([[0.4380, 1.0274]], dtype=torch.float64)\n",
      "tensor([[0.4065, 1.0920]], dtype=torch.float64)\n",
      "tensor([[0.3379, 1.1181]], dtype=torch.float64)\n",
      "tensor([[0.2552, 1.0987]], dtype=torch.float64)\n",
      "tensor([[0.1863, 1.0666]], dtype=torch.float64)\n",
      "tensor([[0.1272, 1.0290]], dtype=torch.float64)\n"
     ]
    }
   ],
   "source": [
    "# Get VOCS\n",
    "VOCS = test_TNK.VOCS\n",
    "VOCS['objectives'] = {'y1' : None}\n",
    "\n",
    "# add reference point\n",
    "ref = torch.tensor((1.4, 1.4))\n",
    "\n",
    "print(VOCS)\n",
    "# Get evaluate function\n",
    "EVALUATE = test_TNK.evaluate_TNK\n",
    "\n",
    "# Run\n",
    "init_x = torch.tensor([[0.9, 0.9], [0.6, 0.6]])\n",
    "train_x, train_y, train_c = bayesian_exploration(VOCS, EVALUATE,\n",
    "                                                 n_initial_samples=5,\n",
    "                                                 mc_samples=128, initial_x=None,\n",
    "                                                 use_gpu=False,\n",
    "                                                 sigma=torch.eye(2) * 0.01,\n",
    "                                                 n_steps=20, verbose=True)"
   ]
  },
  {
   "cell_type": "code",
   "execution_count": 11,
   "id": "7d7b9312-17fe-438c-8120-c0fc458b6a3c",
   "metadata": {},
   "outputs": [
    {
     "data": {
      "image/png": "[encoded data removed]",
      "text/plain": [
       "<Figure size 432x288 with 1 Axes>"
      ]
     },
     "metadata": {
      "needs_background": "light"
     },
     "output_type": "display_data"
    }
   ],
   "source": [
    "fig, ax = plt.subplots()\n",
    "ax.plot(train_x[:, 0], train_x[:, 1], '-o')\n",
    "\n",
    "plt.show()"
   ]
  },
  {
   "cell_type": "code",
   "execution_count": null,
   "id": "e9540a37-a0e8-4eff-a5ff-f11c9e68b06c",
   "metadata": {},
   "outputs": [],
   "source": []
  }
 ],
 "metadata": {
  "kernelspec": {
   "display_name": "xopt",
   "language": "python",
   "name": "xopt"
  },
  "language_info": {
   "codemirror_mode": {
    "name": "ipython",
    "version": 3
   },
   "file_extension": ".py",
   "mimetype": "text/x-python",
   "name": "python",
   "nbconvert_exporter": "python",
   "pygments_lexer": "ipython3",
   "version": "3.9.6"
  }
 },
 "nbformat": 4,
 "nbformat_minor": 5
}
