{
 "cells": [
  {
   "cell_type": "code",
   "execution_count": 1,
   "metadata": {},
   "outputs": [],
   "source": [
    "# Useful for debugging\n",
    "%load_ext autoreload\n",
    "%autoreload 2"
   ]
  },
  {
   "cell_type": "markdown",
   "metadata": {},
   "source": [
    "# Xopt class, Astra kekgun example\n",
    "\n",
    "This is the class method for running Xopt."
   ]
  },
  {
   "cell_type": "code",
   "execution_count": 2,
   "metadata": {},
   "outputs": [],
   "source": [
    "from xopt import Xopt"
   ]
  },
  {
   "cell_type": "code",
   "execution_count": 3,
   "metadata": {},
   "outputs": [],
   "source": [
    "import yaml\n",
    "\n",
    "# Make a proper input file. \n",
    "\n",
    "YAML=\"\"\"\n",
    "xopt: {output_path: null, verbose: true,\n",
    "  algorithm: cnsga}\n",
    "cnsga: {max_generations: 5, population_size: 8, crossover_probability: 0.9, mutation_probability: 1.0,\n",
    "  selection: auto, verbose: true}\n",
    "\n",
    "simulation:\n",
    "  name: astra_with_generator\n",
    "  evaluate: astra.evaluate.evaluate_astra_with_generator\n",
    "\n",
    "# Note that you can call another file in the top level group:\n",
    "vocs: $XOPT_DIR/examples/kekgun/kekgun_vocs.json\n",
    "\n",
    "\"\"\"\n",
    "config = yaml.safe_load(YAML)"
   ]
  },
  {
   "cell_type": "code",
   "execution_count": 4,
   "metadata": {},
   "outputs": [
    {
     "name": "stdout",
     "output_type": "stream",
     "text": [
      "{'name': 'astra_with_generator', 'evaluate': 'astra.evaluate.evaluate_astra_with_generator'}\n",
      "Warning: Path None does not exist for key xopt::output_path\n"
     ]
    },
    {
     "data": {
      "text/plain": [
       "\n",
       "            Xopt\n",
       "________________________________           \n",
       "\n",
       "Configured: True\n",
       "\n",
       "Config as YAML:\n",
       "xopt: {output_path: null, verbose: true, algorithm: cnsga}\n",
       "cnsga: {max_generations: 5, population_size: 8, crossover_probability: 0.9, mutation_probability: 1.0,\n",
       "  selection: auto, verbose: true}\n",
       "simulation: {name: astra_with_generator, evaluate: astra.evaluate.evaluate_astra_with_generator}\n",
       "vocs:\n",
       "  name: kekgun\n",
       "  description: Test case\n",
       "  simulation: astra_with_generator\n",
       "  templates: {astra_input_file: /Users/chrisonian/Code/GitHub/xopt/examples/kekgun/template/kekgun.in,\n",
       "    generator_input_file: /Users/chrisonian/Code/GitHub/xopt/examples/kekgun/template/dist004.in}\n",
       "  variables:\n",
       "    sig_x: [0.05, 1]\n",
       "    lt: [0.005, 0.07]\n",
       "    maxe(1): [20, 50]\n",
       "    phi(1): [-30, 30]\n",
       "    maxb(1): [0, 0.4]\n",
       "    maxe(2): [0, 32]\n",
       "    phi(2): [-180, 180]\n",
       "    maxb(2): [0, 0.3]\n",
       "    maxe(3): [0, 32]\n",
       "    maxe(4): [0, 32]\n",
       "    phi(3): [-45, 45]\n",
       "    phi(4): [-45, 45]\n",
       "    phi(6): [-45, 45]\n",
       "  constants: {ipart: 1000, lspch: true, zstop: 0.2}\n",
       "  objectives: {end_x_coreemit_95percent: MINIMIZE, end_z_rms: MINIMIZE}\n",
       "  constraints:\n",
       "    end_z_rms: [LESS_THAN, 0.0015]\n",
       "    end_x_coreemit_95percent: [LESS_THAN, 9.0e-07]\n",
       "    end_deltaE_rms: [LESS_THAN, 200000.0]\n",
       "    end_higher_order_energy_spread: [LESS_THAN, 5000.0]\n",
       "    end_E_kinetic: [GREATER_THAN, 90000000.0]\n",
       "    end_n_particle_loss: [LESS_THAN, 1]\n",
       "  linked_variables: null"
      ]
     },
     "execution_count": 4,
     "metadata": {},
     "output_type": "execute_result"
    }
   ],
   "source": [
    "# Create object\n",
    "X = Xopt(config=config)\n",
    "\n",
    "\n",
    "# Change some things to make it run faster\n",
    "X.vocs['constants']['lspch'] = True\n",
    "X.vocs['constants']['ipart'] = 1000\n",
    "X.vocs['constants']['zstop'] = 0.2\n",
    "\n",
    "# Show config\n",
    "X"
   ]
  },
  {
   "cell_type": "code",
   "execution_count": 5,
   "metadata": {},
   "outputs": [
    {
     "data": {
      "text/plain": [
       "{'sig_x': 0.3026058708634514,\n",
       " 'lt': 0.03354634711750615,\n",
       " 'maxe(1)': 27.504003709123147,\n",
       " 'phi(1)': 27.52477728789833,\n",
       " 'maxb(1)': 0.058481401440356295,\n",
       " 'maxe(2)': 25.068089697800332,\n",
       " 'phi(2)': -106.73898251204531,\n",
       " 'maxb(2)': 0.13259954095084628,\n",
       " 'maxe(3)': 22.591551004163893,\n",
       " 'maxe(4)': 6.922901941279019,\n",
       " 'phi(3)': 8.827971558081323,\n",
       " 'phi(4)': 21.0905680549034,\n",
       " 'phi(6)': 38.99511842520499,\n",
       " 'ipart': 1000,\n",
       " 'lspch': True,\n",
       " 'zstop': 0.2}"
      ]
     },
     "execution_count": 5,
     "metadata": {},
     "output_type": "execute_result"
    }
   ],
   "source": [
    "# Check random inputs \n",
    "X.random_inputs()"
   ]
  },
  {
   "cell_type": "code",
   "execution_count": 6,
   "metadata": {},
   "outputs": [
    {
     "name": "stdout",
     "output_type": "stream",
     "text": [
      "CPU times: user 58.4 ms, sys: 10.1 ms, total: 68.5 ms\n",
      "Wall time: 7.59 s\n"
     ]
    },
    {
     "data": {
      "text/plain": [
       "{'error': False,\n",
       " 'end_z_for_coreemit': 0.2,\n",
       " 'end_x_normemit': 3.7821e-07,\n",
       " 'end_x_coreemit_95percent': 2.9526e-07,\n",
       " 'end_x_coreemit_90percent': 2.5085e-07,\n",
       " 'end_x_coreemit_80percent': 1.8434e-07,\n",
       " 'end_y_normemit': 3.7541999999999996e-07,\n",
       " 'end_y_coreemit_95percent': 2.9579e-07,\n",
       " 'end_y_coreemit_90percent': 2.5145e-07,\n",
       " 'end_y_coreemit_80percent': 1.8296999999999998e-07,\n",
       " 'end_z_normemit': 54.383,\n",
       " 'end_z_coreemit_95percent': 4.4225e-05,\n",
       " 'end_z_coreemit_90percent': 3.6929e-05,\n",
       " 'end_z_coreemit_80percent': 2.6571e-05,\n",
       " 'end_z': 0.2,\n",
       " 'end_t': 7.3189e-10,\n",
       " 'end_x_average': 5.511900000000001e-07,\n",
       " 'end_x_rms': 0.00012670000000000002,\n",
       " 'end_xp_rms': 0.00055897,\n",
       " 'end_xxp_average': 8.1407e-05,\n",
       " 'end_y_average': 4.1543e-07,\n",
       " 'end_y_rms': 0.0001265,\n",
       " 'end_yp_rms': 0.00055542,\n",
       " 'end_yyp_average': 7.8694e-05,\n",
       " 'end_E_kinetic': 2294300.0,\n",
       " 'end_z_rms': 0.0038144,\n",
       " 'end_deltaE_rms': 116660.0,\n",
       " 'end_zEp_average': -115790.0,\n",
       " 'start_time': 1579927694.247912,\n",
       " 'run_time': 7.55971097946167,\n",
       " 'run_error': False,\n",
       " 'end_higher_order_energy_spread': 317.6786841506027,\n",
       " 'end_n_particle_loss': 0,\n",
       " 'fingerprint': '2da8bc05a6eb6526140b9946ca6b9f95'}"
      ]
     },
     "execution_count": 6,
     "metadata": {},
     "output_type": "execute_result"
    }
   ],
   "source": [
    "%%time\n",
    "# Do a random evaluate to check that everything will run\n",
    "X.random_evaluate()"
   ]
  },
  {
   "cell_type": "code",
   "execution_count": 7,
   "metadata": {},
   "outputs": [
    {
     "data": {
      "text/plain": [
       "{'archive_path': None,\n",
       " 'merit_f': None,\n",
       " 'astra_input_file': '$XOPT_DIR/examples/kekgun/template/kekgun.in',\n",
       " 'generator_input_file': '$XOPT_DIR/examples/kekgun/template/dist004.in'}"
      ]
     },
     "execution_count": 7,
     "metadata": {},
     "output_type": "execute_result"
    }
   ],
   "source": [
    "# These are the options in the evaluate function\n",
    "X.simulation['options']"
   ]
  },
  {
   "cell_type": "markdown",
   "metadata": {},
   "source": [
    "# Run CNSGA using processes or threads"
   ]
  },
  {
   "cell_type": "code",
   "execution_count": 8,
   "metadata": {},
   "outputs": [],
   "source": [
    "from concurrent.futures import ProcessPoolExecutor as PoolExecutor\n",
    "#from concurrent.futures import ThreadPoolExecutor as PoolExecutor\n",
    "executor = PoolExecutor()"
   ]
  },
  {
   "cell_type": "code",
   "execution_count": 9,
   "metadata": {},
   "outputs": [
    {
     "name": "stdout",
     "output_type": "stream",
     "text": [
      "\n",
      "\n",
      "\n",
      " ▄████▄   ███▄    █   ██████   ▄████  ▄▄▄      \n",
      "▒██▀ ▀█   ██ ▀█   █ ▒██    ▒  ██▒ ▀█▒▒████▄    \n",
      "▒▓█    ▄ ▓██  ▀█ ██▒░ ▓██▄   ▒██░▄▄▄░▒██  ▀█▄  \n",
      "▒▓▓▄ ▄██▒▓██▒  ▐▌██▒  ▒   ██▒░▓█  ██▓░██▄▄▄▄██ \n",
      "▒ ▓███▀ ░▒██░   ▓██░▒██████▒▒░▒▓███▀▒ ▓█   ▓██▒\n",
      "░ ░▒ ▒  ░░ ▒░   ▒ ▒ ▒ ▒▓▒ ▒ ░ ░▒   ▒  ▒▒   ▓▒█░\n",
      "  ░  ▒   ░ ░░   ░ ▒░░ ░▒  ░ ░  ░   ░   ▒   ▒▒ ░\n",
      "░           ░   ░ ░ ░  ░  ░  ░ ░   ░   ░   ▒   \n",
      "░ ░               ░       ░        ░       ░  ░\n",
      "░                                              \n",
      "\n",
      "\n",
      "Continous Non-dominated Sorting Genetic Algorithm\n",
      "\n",
      "\n",
      "Creating toolbox from vocs.\n",
      "Created toolbox with 13 variables, 6 constraints, and 2 objectives.\n",
      "    Using selection algorithm: nsga2\n",
      "vocs:\n",
      "{'constants': {'ipart': 1000, 'lspch': True, 'zstop': 0.2},\n",
      " 'constraints': {'end_E_kinetic': ['GREATER_THAN', 90000000.0],\n",
      "                 'end_deltaE_rms': ['LESS_THAN', 200000.0],\n",
      "                 'end_higher_order_energy_spread': ['LESS_THAN', 5000.0],\n",
      "                 'end_n_particle_loss': ['LESS_THAN', 1],\n",
      "                 'end_x_coreemit_95percent': ['LESS_THAN', 9e-07],\n",
      "                 'end_z_rms': ['LESS_THAN', 0.0015]},\n",
      " 'description': 'Test case',\n",
      " 'linked_variables': None,\n",
      " 'name': 'kekgun',\n",
      " 'objectives': {'end_x_coreemit_95percent': 'MINIMIZE',\n",
      "                'end_z_rms': 'MINIMIZE'},\n",
      " 'simulation': 'astra_with_generator',\n",
      " 'templates': {'astra_input_file': '/Users/chrisonian/Code/GitHub/xopt/examples/kekgun/template/kekgun.in',\n",
      "               'generator_input_file': '/Users/chrisonian/Code/GitHub/xopt/examples/kekgun/template/dist004.in'},\n",
      " 'variables': {'lt': [0.005, 0.07],\n",
      "               'maxb(1)': [0, 0.4],\n",
      "               'maxb(2)': [0, 0.3],\n",
      "               'maxe(1)': [20, 50],\n",
      "               'maxe(2)': [0, 32],\n",
      "               'maxe(3)': [0, 32],\n",
      "               'maxe(4)': [0, 32],\n",
      "               'phi(1)': [-30, 30],\n",
      "               'phi(2)': [-180, 180],\n",
      "               'phi(3)': [-45, 45],\n",
      "               'phi(4)': [-45, 45],\n",
      "               'phi(6)': [-45, 45],\n",
      "               'sig_x': [0.05, 1]}}\n",
      "Initializing with a new population, size 8\n",
      "____________________________________________________\n",
      "8 fitness calculations for initial generation\n",
      "........done.\n",
      "Submitting first batch of children\n",
      ".........done.\n",
      "__________________________________________________________\n",
      "Generation 0 completed in 0.30333 minutes\n",
      "........done.\n",
      "__________________________________________________________\n",
      "Generation 1 completed in 0.14879 minutes\n",
      "........done.\n",
      "__________________________________________________________\n",
      "Generation 2 completed in 0.21126 minutes\n",
      "........done.\n",
      "__________________________________________________________\n",
      "Generation 3 completed in 0.18911 minutes\n",
      "........done.\n",
      "__________________________________________________________\n",
      "Generation 4 completed in 0.18530 minutes\n"
     ]
    }
   ],
   "source": [
    "X.run_cnsga(executor)"
   ]
  },
  {
   "cell_type": "code",
   "execution_count": 10,
   "metadata": {},
   "outputs": [
    {
     "data": {
      "text/plain": [
       "[False, False, False, False, False, False, False, False]"
      ]
     },
     "execution_count": 10,
     "metadata": {},
     "output_type": "execute_result"
    }
   ],
   "source": [
    "# Check for errors\n",
    "X.population['errors']"
   ]
  },
  {
   "cell_type": "markdown",
   "metadata": {},
   "source": [
    "# Write this configuration"
   ]
  },
  {
   "cell_type": "code",
   "execution_count": 11,
   "metadata": {},
   "outputs": [
    {
     "name": "stdout",
     "output_type": "stream",
     "text": [
      "Config written as YAML to test.yaml\n"
     ]
    }
   ],
   "source": [
    "X.save('test.yaml')"
   ]
  },
  {
   "cell_type": "code",
   "execution_count": 12,
   "metadata": {},
   "outputs": [
    {
     "name": "stdout",
     "output_type": "stream",
     "text": [
      "xopt: {output_path: null, verbose: true, algorithm: cnsga}\n",
      "cnsga: {max_generations: 5, population_size: 8, crossover_probability: 0.9, mutation_probability: 1.0,\n",
      "  selection: auto, verbose: true}\n",
      "simulation: {name: astra_with_generator, evaluate: astra.evaluate.evaluate_astra_with_generator}\n",
      "vocs:\n",
      "  name: kekgun\n",
      "  description: Test case\n",
      "  simulation: astra_with_generator\n",
      "  templates: {astra_input_file: /Users/chrisonian/Code/GitHub/xopt/examples/kekgun/template/kekgun.in,\n",
      "    generator_input_file: /Users/chrisonian/Code/GitHub/xopt/examples/kekgun/template/dist004.in}\n",
      "  variables:\n",
      "    sig_x: [0.05, 1]\n",
      "    lt: [0.005, 0.07]\n",
      "    maxe(1): [20, 50]\n",
      "    phi(1): [-30, 30]\n",
      "    maxb(1): [0, 0.4]\n",
      "    maxe(2): [0, 32]\n",
      "    phi(2): [-180, 180]\n",
      "    maxb(2): [0, 0.3]\n",
      "    maxe(3): [0, 32]\n",
      "    maxe(4): [0, 32]\n",
      "    phi(3): [-45, 45]\n",
      "    phi(4): [-45, 45]\n",
      "    phi(6): [-45, 45]\n",
      "  constants: {ipart: 1000, lspch: true, zstop: 0.2}\n",
      "  objectives: {end_x_coreemit_95percent: MINIMIZE, end_z_rms: MINIMIZE}\n",
      "  constraints:\n",
      "    end_z_rms: [LESS_THAN, 0.0015]\n",
      "    end_x_coreemit_95percent: [LESS_THAN, 9.0e-07]\n",
      "    end_deltaE_rms: [LESS_THAN, 200000.0]\n",
      "    end_higher_order_energy_spread: [LESS_THAN, 5000.0]\n",
      "    end_E_kinetic: [GREATER_THAN, 90000000.0]\n",
      "    end_n_particle_loss: [LESS_THAN, 1]\n",
      "  linked_variables: null\n"
     ]
    }
   ],
   "source": [
    "!cat test.yaml"
   ]
  },
  {
   "cell_type": "markdown",
   "metadata": {},
   "source": [
    "# Run with MPI"
   ]
  },
  {
   "cell_type": "code",
   "execution_count": 13,
   "metadata": {},
   "outputs": [
    {
     "name": "stdout",
     "output_type": "stream",
     "text": [
      "Loading /Users/chrisonian/Code/GitHub/xopt/examples/xopt_class/test.yaml as YAML \n",
      "{'name': 'astra_with_generator', 'evaluate': 'astra.evaluate.evaluate_astra_with_generator'}\n",
      "Warning: Path None does not exist for key xopt::output_path\n",
      "  _   \n",
      "                | |  \n",
      "__  _____  _ __ | |_ \n",
      "\\ \\/ / _ \\| '_ \\| __|\n",
      " >  < (_) | |_) | |_ \n",
      "/_/\\_\\___/| .__/ \\__|\n",
      "          | |        \n",
      "          |_|        \n",
      "\n",
      "_________________________________\n",
      "Parallel execution with 4 workers\n",
      "\n",
      "\n",
      "\n",
      " ▄████▄   ███▄    █   ██████   ▄████  ▄▄▄      \n",
      "▒██▀ ▀█   ██ ▀█   █ ▒██    ▒  ██▒ ▀█▒▒████▄    \n",
      "▒▓█    ▄ ▓██  ▀█ ██▒░ ▓██▄   ▒██░▄▄▄░▒██  ▀█▄  \n",
      "▒▓▓▄ ▄██▒▓██▒  ▐▌██▒  ▒   ██▒░▓█  ██▓░██▄▄▄▄██ \n",
      "▒ ▓███▀ ░▒██░   ▓██░▒██████▒▒░▒▓███▀▒ ▓█   ▓██▒\n",
      "░ ░▒ ▒  ░░ ▒░   ▒ ▒ ▒ ▒▓▒ ▒ ░ ░▒   ▒  ▒▒   ▓▒█░\n",
      "  ░  ▒   ░ ░░   ░ ▒░░ ░▒  ░ ░  ░   ░   ▒   ▒▒ ░\n",
      "░           ░   ░ ░ ░  ░  ░  ░ ░   ░   ░   ▒   \n",
      "░ ░               ░       ░        ░       ░  ░\n",
      "░                                              \n",
      "\n",
      "\n",
      "Continous Non-dominated Sorting Genetic Algorithm\n",
      "\n",
      "\n",
      "Creating toolbox from vocs.\n",
      "Created toolbox with 13 variables, 6 constraints, and 2 objectives.\n",
      "    Using selection algorithm: nsga2\n",
      "vocs:\n",
      "{'constants': {'ipart': 1000, 'lspch': True, 'zstop': 0.2},\n",
      " 'constraints': {'end_E_kinetic': ['GREATER_THAN', 90000000.0],\n",
      "                 'end_deltaE_rms': ['LESS_THAN', 200000.0],\n",
      "                 'end_higher_order_energy_spread': ['LESS_THAN', 5000.0],\n",
      "                 'end_n_particle_loss': ['LESS_THAN', 1],\n",
      "                 'end_x_coreemit_95percent': ['LESS_THAN', 9e-07],\n",
      "                 'end_z_rms': ['LESS_THAN', 0.0015]},\n",
      " 'description': 'Test case',\n",
      " 'linked_variables': None,\n",
      " 'name': 'kekgun',\n",
      " 'objectives': {'end_x_coreemit_95percent': 'MINIMIZE',\n",
      "                'end_z_rms': 'MINIMIZE'},\n",
      " 'simulation': 'astra_with_generator',\n",
      " 'templates': {'astra_input_file': '/Users/chrisonian/Code/GitHub/xopt/examples/kekgun/template/kekgun.in',\n",
      "               'generator_input_file': '/Users/chrisonian/Code/GitHub/xopt/examples/kekgun/template/dist004.in'},\n",
      " 'variables': {'lt': [0.005, 0.07],\n",
      "               'maxb(1)': [0, 0.4],\n",
      "               'maxb(2)': [0, 0.3],\n",
      "               'maxe(1)': [20, 50],\n",
      "               'maxe(2)': [0, 32],\n",
      "               'maxe(3)': [0, 32],\n",
      "               'maxe(4)': [0, 32],\n",
      "               'phi(1)': [-30, 30],\n",
      "               'phi(2)': [-180, 180],\n",
      "               'phi(3)': [-45, 45],\n",
      "               'phi(4)': [-45, 45],\n",
      "               'phi(6)': [-45, 45],\n",
      "               'sig_x': [0.05, 1]}}\n",
      "Initializing with a new population, size 8\n",
      "____________________________________________________\n",
      "8 fitness calculations for initial generation\n",
      "Loading /Users/chrisonian/Code/GitHub/xopt/examples/xopt_class/test.yaml as YAML \n",
      "Loading /Users/chrisonian/Code/GitHub/xopt/examples/xopt_class/test.yaml as YAML \n",
      "Loading /Users/chrisonian/Code/GitHub/xopt/examples/xopt_class/test.yaml as YAML \n",
      "{'name': 'astra_with_generator', 'evaluate': 'astra.evaluate.evaluate_astra_with_generator'}\n",
      "{'name': 'astra_with_generator', 'evaluate': 'astra.evaluate.evaluate_astra_with_generator'}\n",
      "{'name': 'astra_with_generator', 'evaluate': 'astra.evaluate.evaluate_astra_with_generator'}\n",
      "Warning: Path None does not exist for key xopt::output_path\n",
      "Warning: Path None does not exist for key xopt::output_path\n",
      "Warning: Path None does not exist for key xopt::output_path\n",
      "........done.\n",
      "Submitting first batch of children\n",
      ".........done.\n",
      "__________________________________________________________\n",
      "Generation 0 completed in 0.37292 minutes\n",
      "........done.\n",
      "__________________________________________________________\n",
      "Generation 1 completed in 0.35423 minutes\n",
      "........done.\n",
      "__________________________________________________________\n",
      "Generation 2 completed in 0.33083 minutes\n",
      "........done.\n",
      "__________________________________________________________\n",
      "Generation 3 completed in 0.35338 minutes\n",
      "........done.\n",
      "__________________________________________________________\n",
      "Generation 4 completed in 0.33119 minutes\n"
     ]
    }
   ],
   "source": [
    "!mpirun -n 4 python -m mpi4py.futures $XOPT_DIR/drivers/xopt_mpi.py test.yaml"
   ]
  },
  {
   "cell_type": "markdown",
   "metadata": {},
   "source": [
    "# Dask "
   ]
  },
  {
   "cell_type": "code",
   "execution_count": 14,
   "metadata": {},
   "outputs": [
    {
     "data": {
      "text/html": [
       "<table style=\"border: 2px solid white;\">\n",
       "<tr>\n",
       "<td style=\"vertical-align: top; border: 0px solid white\">\n",
       "<h3 style=\"text-align: left;\">Client</h3>\n",
       "<ul style=\"text-align: left; list-style: none; margin: 0; padding: 0;\">\n",
       "  <li><b>Scheduler: </b>tcp://127.0.0.1:63903</li>\n",
       "  <li><b>Dashboard: </b><a href='http://127.0.0.1:8787/status' target='_blank'>http://127.0.0.1:8787/status</a>\n",
       "</ul>\n",
       "</td>\n",
       "<td style=\"vertical-align: top; border: 0px solid white\">\n",
       "<h3 style=\"text-align: left;\">Cluster</h3>\n",
       "<ul style=\"text-align: left; list-style:none; margin: 0; padding: 0;\">\n",
       "  <li><b>Workers: </b>4</li>\n",
       "  <li><b>Cores: </b>8</li>\n",
       "  <li><b>Memory: </b>17.18 GB</li>\n",
       "</ul>\n",
       "</td>\n",
       "</tr>\n",
       "</table>"
      ],
      "text/plain": [
       "<Client: 'tcp://127.0.0.1:63903' processes=4 threads=8, memory=17.18 GB>"
      ]
     },
     "execution_count": 14,
     "metadata": {},
     "output_type": "execute_result"
    }
   ],
   "source": [
    "from dask.distributed import Client\n",
    "executor = Client()\n",
    "executor"
   ]
  },
  {
   "cell_type": "code",
   "execution_count": 15,
   "metadata": {},
   "outputs": [],
   "source": [
    "# Wait a few seconds for the Dask cluster to start\n",
    "from time import sleep\n",
    "sleep(5)"
   ]
  },
  {
   "cell_type": "code",
   "execution_count": 16,
   "metadata": {},
   "outputs": [
    {
     "name": "stdout",
     "output_type": "stream",
     "text": [
      "\n",
      "\n",
      "\n",
      " ▄████▄   ███▄    █   ██████   ▄████  ▄▄▄      \n",
      "▒██▀ ▀█   ██ ▀█   █ ▒██    ▒  ██▒ ▀█▒▒████▄    \n",
      "▒▓█    ▄ ▓██  ▀█ ██▒░ ▓██▄   ▒██░▄▄▄░▒██  ▀█▄  \n",
      "▒▓▓▄ ▄██▒▓██▒  ▐▌██▒  ▒   ██▒░▓█  ██▓░██▄▄▄▄██ \n",
      "▒ ▓███▀ ░▒██░   ▓██░▒██████▒▒░▒▓███▀▒ ▓█   ▓██▒\n",
      "░ ░▒ ▒  ░░ ▒░   ▒ ▒ ▒ ▒▓▒ ▒ ░ ░▒   ▒  ▒▒   ▓▒█░\n",
      "  ░  ▒   ░ ░░   ░ ▒░░ ░▒  ░ ░  ░   ░   ▒   ▒▒ ░\n",
      "░           ░   ░ ░ ░  ░  ░  ░ ░   ░   ░   ▒   \n",
      "░ ░               ░       ░        ░       ░  ░\n",
      "░                                              \n",
      "\n",
      "\n",
      "Continous Non-dominated Sorting Genetic Algorithm\n",
      "\n",
      "\n",
      "Creating toolbox from vocs.\n",
      "Warning: Redefining creator.MyFitness\n",
      "Warning in cnsga_toolbox: Redefining creator.Individual\n",
      "Created toolbox with 13 variables, 6 constraints, and 2 objectives.\n",
      "    Using selection algorithm: nsga2\n",
      "vocs:\n",
      "{'constants': {'ipart': 1000, 'lspch': True, 'zstop': 0.2},\n",
      " 'constraints': {'end_E_kinetic': ['GREATER_THAN', 90000000.0],\n",
      "                 'end_deltaE_rms': ['LESS_THAN', 200000.0],\n",
      "                 'end_higher_order_energy_spread': ['LESS_THAN', 5000.0],\n",
      "                 'end_n_particle_loss': ['LESS_THAN', 1],\n",
      "                 'end_x_coreemit_95percent': ['LESS_THAN', 9e-07],\n",
      "                 'end_z_rms': ['LESS_THAN', 0.0015]},\n",
      " 'description': 'Test case',\n",
      " 'linked_variables': None,\n",
      " 'name': 'kekgun',\n",
      " 'objectives': {'end_x_coreemit_95percent': 'MINIMIZE',\n",
      "                'end_z_rms': 'MINIMIZE'},\n",
      " 'simulation': 'astra_with_generator',\n",
      " 'templates': {'astra_input_file': '/Users/chrisonian/Code/GitHub/xopt/examples/kekgun/template/kekgun.in',\n",
      "               'generator_input_file': '/Users/chrisonian/Code/GitHub/xopt/examples/kekgun/template/dist004.in'},\n",
      " 'variables': {'lt': [0.005, 0.07],\n",
      "               'maxb(1)': [0, 0.4],\n",
      "               'maxb(2)': [0, 0.3],\n",
      "               'maxe(1)': [20, 50],\n",
      "               'maxe(2)': [0, 32],\n",
      "               'maxe(3)': [0, 32],\n",
      "               'maxe(4)': [0, 32],\n",
      "               'phi(1)': [-30, 30],\n",
      "               'phi(2)': [-180, 180],\n",
      "               'phi(3)': [-45, 45],\n",
      "               'phi(4)': [-45, 45],\n",
      "               'phi(6)': [-45, 45],\n",
      "               'sig_x': [0.05, 1]}}\n",
      "Initializing with existing population, size 8\n",
      "____________________________________________________\n",
      "8 fitness calculations for initial generation\n",
      "........done.\n",
      "Submitting first batch of children\n",
      ".........done.\n",
      "__________________________________________________________\n",
      "Generation 6 completed in 0.00203 minutes\n",
      "........done.\n",
      "__________________________________________________________\n",
      "Generation 7 completed in 0.00139 minutes\n",
      "........done.\n",
      "__________________________________________________________\n",
      "Generation 8 completed in 0.00133 minutes\n",
      "........done.\n",
      "__________________________________________________________\n",
      "Generation 9 completed in 0.00122 minutes\n"
     ]
    }
   ],
   "source": [
    "# Increase the number of generations\n",
    "X['cnsga']['max_generations'] = 10\n",
    "X.run_cnsga(executor)"
   ]
  },
  {
   "cell_type": "markdown",
   "metadata": {},
   "source": [
    "# Cleanup"
   ]
  },
  {
   "cell_type": "code",
   "execution_count": 17,
   "metadata": {},
   "outputs": [],
   "source": [
    "!rm -r dask-worker-space"
   ]
  },
  {
   "cell_type": "code",
   "execution_count": 18,
   "metadata": {},
   "outputs": [],
   "source": [
    "!rm test.yaml"
   ]
  }
 ],
 "metadata": {
  "kernelspec": {
   "display_name": "Python 3",
   "language": "python",
   "name": "python3"
  },
  "language_info": {
   "codemirror_mode": {
    "name": "ipython",
    "version": 3
   },
   "file_extension": ".py",
   "mimetype": "text/x-python",
   "name": "python",
   "nbconvert_exporter": "python",
   "pygments_lexer": "ipython3",
   "version": "3.7.6"
  }
 },
 "nbformat": 4,
 "nbformat_minor": 4
}
