{
 "cells": [
  {
   "cell_type": "code",
   "execution_count": 1,
   "metadata": {},
   "outputs": [],
   "source": [
    "# Useful for debugging\n",
    "%load_ext autoreload\n",
    "%autoreload 2"
   ]
  },
  {
   "cell_type": "markdown",
   "metadata": {},
   "source": [
    "# Xopt class, TNK test function\n",
    "\n",
    "This is the class method for running Xopt.\n",
    "\n",
    "TNK function\n",
    "$n=2$ variables:\n",
    "$x_i \\in [0, \\pi], i=1,2$\n",
    "\n",
    "Objectives:\n",
    "- $f_i(x) = x_i$\n",
    "\n",
    "Constraints:\n",
    "- $g_1(x) = -x_1^2 -x_2^2 + 1 + 0.1 \\cos\\left(16 \\arctan \\frac{x_1}{x_2}\\right) \\le 0$\n",
    "- $g_2(x) = (x_1 - 1/2)^2 + (x_2-1/2)^2 \\le 0.5$"
   ]
  },
  {
   "cell_type": "code",
   "execution_count": 2,
   "metadata": {},
   "outputs": [],
   "source": [
    "# Import the class\n",
    "from xopt import Xopt"
   ]
  },
  {
   "cell_type": "markdown",
   "metadata": {},
   "source": [
    "The `Xopt` object can be instantiated from a JSON or YAML file, or a dict, with the proper structure.\n",
    "\n",
    "Here we will make one"
   ]
  },
  {
   "cell_type": "code",
   "execution_count": 3,
   "metadata": {},
   "outputs": [],
   "source": [
    "import yaml\n",
    "# Make a proper input file. \n",
    "YAML=\"\"\"\n",
    "xopt: {output_path: null, verbose: true}\n",
    "\n",
    "algorithm:\n",
    "  name: bayesian_exploration\n",
    "  options: {n_initial_samples: 5,\n",
    "            use_gpu: False,\n",
    "            restart_data_file: opt_data.json,\n",
    "            n_steps: 20, \n",
    "            verbose: True}\n",
    "  \n",
    "simulation: \n",
    "  name: test_TNK\n",
    "  evaluate: xopt.evaluators.test_TNK.evaluate_TNK  \n",
    "  \n",
    "vocs:\n",
    "  name: TNK_test\n",
    "  description: null\n",
    "  simulation: test_TNK\n",
    "  templates: null\n",
    "  variables:\n",
    "    x1: [0, 3.14159]\n",
    "    x2: [0, 3.14159]\n",
    "  objectives: {y1: None}\n",
    "  constraints:\n",
    "    c1: [GREATER_THAN, 0]\n",
    "    c2: ['LESS_THAN', 0.5]\n",
    "  linked_variables: {x9: x1}\n",
    "  constants: {a: dummy_constant}\n",
    "\n",
    "\"\"\"\n",
    "config = yaml.safe_load(YAML)"
   ]
  },
  {
   "cell_type": "code",
   "execution_count": 4,
   "metadata": {},
   "outputs": [
    {
     "name": "stdout",
     "output_type": "stream",
     "text": [
      "Loading config as dict.\n",
      "Warning: No path set for key xopt : output_path\n"
     ]
    },
    {
     "data": {
      "text/plain": [
       "\n",
       "            Xopt \n",
       "________________________________           \n",
       "Version: 0.4.3\n",
       "Configured: True\n",
       "Config as YAML:\n",
       "xopt: {output_path: null, verbose: true}\n",
       "algorithm:\n",
       "  name: bayesian_exploration\n",
       "  function: xopt.bayesian_exploration.bayesian_exploration\n",
       "  options: {n_initial_samples: 5, use_gpu: false, restart_data_file: 'C:\\Users\\Ryan\n",
       "      Roussel\\Documents\\GitHub\\xopt\\examples\\bayes_exp\\opt_data.json', n_steps: 20,\n",
       "    verbose: true}\n",
       "simulation:\n",
       "  name: test_TNK\n",
       "  evaluate: xopt.evaluators.test_TNK.evaluate_TNK\n",
       "  options: {extra_option: abc}\n",
       "vocs:\n",
       "  name: TNK_test\n",
       "  description: null\n",
       "  simulation: test_TNK\n",
       "  templates: null\n",
       "  variables:\n",
       "    x1: [0, 3.14159]\n",
       "    x2: [0, 3.14159]\n",
       "  objectives: {y1: None}\n",
       "  constraints:\n",
       "    c1: [GREATER_THAN, 0]\n",
       "    c2: [LESS_THAN, 0.5]\n",
       "  linked_variables: {x9: x1}\n",
       "  constants: {a: dummy_constant}"
      ]
     },
     "execution_count": 4,
     "metadata": {},
     "output_type": "execute_result"
    }
   ],
   "source": [
    "# Optional: Connect the function directly\n",
    "#from xopt.evaluators.test_TNK import evaluate_TNK \n",
    "#config['simulation']['evaluate'] = evaluate_TNK \n",
    "\n",
    "X = Xopt(config)\n",
    "X"
   ]
  },
  {
   "cell_type": "code",
   "execution_count": 5,
   "metadata": {},
   "outputs": [
    {
     "data": {
      "text/plain": [
       "{'y1': 0.5969391388717775,\n",
       " 'y2': 2.6361117867569437,\n",
       " 'c1': 6.3966707349049985,\n",
       " 'c2': 4.572370762167144,\n",
       " 'some_array': array([1, 2, 3])}"
      ]
     },
     "execution_count": 5,
     "metadata": {},
     "output_type": "execute_result"
    }
   ],
   "source": [
    "# Note that the repr string contains all of the config information\n",
    "X.random_evaluate()"
   ]
  },
  {
   "cell_type": "markdown",
   "metadata": {},
   "source": [
    "# Run CNSGA\n",
    "\n",
    "CNSGA is designed to run in parallel with an asynchronous executor as defined in PEP 3148"
   ]
  },
  {
   "cell_type": "code",
   "execution_count": 6,
   "metadata": {},
   "outputs": [],
   "source": [
    "# Pick one of these\n",
    "from concurrent.futures import ThreadPoolExecutor as PoolExecutor\n",
    "#from concurrent.futures import ProcessPoolExecutor as PoolExecutor\n",
    "\n",
    "executor = PoolExecutor()\n",
    "# This will also work. \n",
    "#executor=None"
   ]
  },
  {
   "cell_type": "code",
   "execution_count": 7,
   "metadata": {},
   "outputs": [
    {
     "name": "stdout",
     "output_type": "stream",
     "text": [
      "Starting at time 2021-08-05T15:40:42-05:00\n",
      "tensor([[0.0730, 1.0480]], dtype=torch.float64)\n",
      "tensor([[0.4476, 0.9536]], dtype=torch.float64)\n",
      "tensor([[0., 0.]], dtype=torch.float64)\n",
      "tensor([[1.0516, 0.0798]], dtype=torch.float64)\n",
      "tensor([[1.1902, 0.5480]], dtype=torch.float64)\n",
      "tensor([[0.5835, 0.8279]], dtype=torch.float64)\n",
      "tensor([[0.9679, 1.0085]], dtype=torch.float64)\n",
      "tensor([[0.8815, 0.4928]], dtype=torch.float64)\n",
      "tensor([[0.5928, 1.1866]], dtype=torch.float64)\n",
      "tensor([[0.5661, 0.7996]], dtype=torch.float64)\n",
      "tensor([[1.0420, 0.0650]], dtype=torch.float64)\n",
      "tensor([[0.2898, 1.1576]], dtype=torch.float64)\n",
      "tensor([[1.1449, 0.7550]], dtype=torch.float64)\n",
      "tensor([[0.2616, 1.0042]], dtype=torch.float64)\n",
      "tensor([[1.1787, 0.3514]], dtype=torch.float64)\n",
      "tensor([[0.2565, 0.9634]], dtype=torch.float64)\n",
      "tensor([[0.0625, 1.0417]], dtype=torch.float64)\n",
      "tensor([[0.8759, 0.4783]], dtype=torch.float64)\n",
      "tensor([[0.8710, 1.0873]], dtype=torch.float64)\n",
      "tensor([[0.4857, 1.1951]], dtype=torch.float64)\n"
     ]
    }
   ],
   "source": [
    "# Change max generations\n",
    "X.run(executor=executor)"
   ]
  },
  {
   "cell_type": "markdown",
   "metadata": {},
   "source": [
    "# Plot"
   ]
  },
  {
   "cell_type": "code",
   "execution_count": 8,
   "metadata": {},
   "outputs": [
    {
     "name": "stdout",
     "output_type": "stream",
     "text": [
      "tensor([[2.9214, 1.8261],\n",
      "        [2.7454, 2.0206],\n",
      "        [0.1240, 2.9701],\n",
      "        [0.6984, 1.0525],\n",
      "        [0.5987, 0.1152],\n",
      "        [0.0000, 0.6866],\n",
      "        [1.2437, 0.4494],\n",
      "        [0.9667, 0.8179],\n",
      "        [0.4193, 1.0537],\n",
      "        [1.1114, 0.2730],\n",
      "        [0.7844, 0.8239],\n",
      "        [0.9674, 0.0669],\n",
      "        [0.2792, 1.1071],\n",
      "        [0.8768, 1.0475],\n",
      "        [0.1429, 1.0756],\n",
      "        [1.1035, 0.7980],\n",
      "        [0.9737, 0.5174],\n",
      "        [0.0796, 1.0464],\n",
      "        [0.5853, 1.1669],\n",
      "        [1.0707, 0.1146],\n",
      "        [0.6005, 0.9138],\n",
      "        [1.0902, 0.8550],\n",
      "        [0.7887, 1.1251],\n",
      "        [0.9304, 0.5161],\n",
      "        [0.4449, 1.1842],\n",
      "        [0.0730, 1.0480],\n",
      "        [0.4476, 0.9536],\n",
      "        [0.0000, 0.0000],\n",
      "        [1.0516, 0.0798],\n",
      "        [1.1902, 0.5480],\n",
      "        [0.5835, 0.8279],\n",
      "        [0.9679, 1.0085],\n",
      "        [0.8815, 0.4928],\n",
      "        [0.5928, 1.1866],\n",
      "        [0.5661, 0.7996],\n",
      "        [1.0420, 0.0650],\n",
      "        [0.2898, 1.1576],\n",
      "        [1.1449, 0.7550],\n",
      "        [0.2616, 1.0042],\n",
      "        [1.1787, 0.3514],\n",
      "        [0.2565, 0.9634],\n",
      "        [0.0625, 1.0417],\n",
      "        [0.8759, 0.4783],\n",
      "        [0.8710, 1.0873],\n",
      "        [0.4857, 1.1951]], dtype=torch.float64)\n"
     ]
    },
    {
     "data": {
      "text/plain": [
       "<matplotlib.collections.PathCollection at 0x1c1373b5520>"
      ]
     },
     "execution_count": 8,
     "metadata": {},
     "output_type": "execute_result"
    },
    {
     "data": {
      "image/png": "[encoded data removed]",
      "text/plain": [
       "<Figure size 360x360 with 1 Axes>"
      ]
     },
     "metadata": {
      "needs_background": "light"
     },
     "output_type": "display_data"
    }
   ],
   "source": [
    "import matplotlib.pyplot as plt\n",
    "%matplotlib inline\n",
    "\n",
    "train_x = X.results['inputs']\n",
    "print(train_x)\n",
    "feas = X.results['feasibility']\n",
    "fig, ax = plt.subplots(figsize=(5,5))\n",
    "\n",
    "ax.scatter(*train_x.T, c = feas.int())\n"
   ]
  },
  {
   "cell_type": "code",
   "execution_count": null,
   "metadata": {},
   "outputs": [],
   "source": []
  }
 ],
 "metadata": {
  "kernelspec": {
   "display_name": "xopt",
   "language": "python",
   "name": "xopt"
  },
  "language_info": {
   "codemirror_mode": {
    "name": "ipython",
    "version": 3
   },
   "file_extension": ".py",
   "mimetype": "text/x-python",
   "name": "python",
   "nbconvert_exporter": "python",
   "pygments_lexer": "ipython3",
   "version": "3.9.6"
  }
 },
 "nbformat": 4,
 "nbformat_minor": 4
}
