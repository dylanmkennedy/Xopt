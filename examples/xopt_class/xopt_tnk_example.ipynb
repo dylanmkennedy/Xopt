{
 "cells": [
  {
   "cell_type": "code",
   "execution_count": 1,
   "metadata": {},
   "outputs": [],
   "source": [
    "# Useful for debugging\n",
    "%load_ext autoreload\n",
    "%autoreload 2"
   ]
  },
  {
   "cell_type": "markdown",
   "metadata": {},
   "source": [
    "# Xopt class, TNK test function\n",
    "\n",
    "This is the class method for running Xopt.\n",
    "\n",
    "TNK function\n",
    "$n=2$ variables:\n",
    "$x_i \\in [0, \\pi], i=1,2$\n",
    "\n",
    "Objectives:\n",
    "- $f_i(x) = x_i$\n",
    "\n",
    "Constraints:\n",
    "- $g_1(x) = -x_1^2 -x_2^2 + 1 + 0.1 \\cos\\left(16 \\arctan \\frac{x_1}{x_2}\\right) \\le 0$\n",
    "- $g_2(x) = (x_1 - 1/2)^2 + (x_2-1/2)^2 \\le 0.5$"
   ]
  },
  {
   "cell_type": "code",
   "execution_count": 2,
   "metadata": {},
   "outputs": [],
   "source": [
    "# Import the class\n",
    "from xopt import Xopt"
   ]
  },
  {
   "cell_type": "markdown",
   "metadata": {},
   "source": [
    "The `Xopt` object can be instantiated from a JSON or YAML file, or a dict, with the proper structure.\n",
    "\n",
    "Here we will make one"
   ]
  },
  {
   "cell_type": "code",
   "execution_count": 3,
   "metadata": {},
   "outputs": [],
   "source": [
    "import yaml\n",
    "\n",
    "# Make a proper input file. \n",
    "YAML=\"\"\"\n",
    "xopt: {output_path: null, verbose: true, algorithm: cnsga}\n",
    "\n",
    "cnsga: {max_generations: 50, population_size: 128, crossover_probability: 0.9, mutation_probability: 1.0,\n",
    "  selection: auto, verbose: true, population: null}\n",
    "  \n",
    "simulation: \n",
    "  name: test_TNK\n",
    "  evaluate: xopt.evaluators.test_TNK.evaluate_TNK  \n",
    "  \n",
    "vocs:\n",
    "  name: TNK_test\n",
    "  description: null\n",
    "  simulation: test_TNK\n",
    "  templates: null\n",
    "  variables:\n",
    "    x1: [0, 3.14159]\n",
    "    x2: [0, 3.14159]\n",
    "  objectives: {y1: MINIMIZE, y2: MINIMIZE}\n",
    "  constraints:\n",
    "    c1: [GREATER_THAN, 0]\n",
    "    c2: [GREATER_THAN, 0]\n",
    "  linked_variables: {x9: x1}\n",
    "  constants: {a: dummy_constant}\n",
    "\n",
    "\"\"\"\n",
    "config = yaml.safe_load(YAML)"
   ]
  },
  {
   "cell_type": "code",
   "execution_count": 4,
   "metadata": {},
   "outputs": [
    {
     "name": "stdout",
     "output_type": "stream",
     "text": [
      "{'name': 'test_TNK', 'evaluate': 'xopt.evaluators.test_TNK.evaluate_TNK'}\n",
      "Warning: Path None does not exist for key xopt::output_path\n"
     ]
    }
   ],
   "source": [
    "# Intantiate from a proper configuration\n",
    "X = Xopt(config)"
   ]
  },
  {
   "cell_type": "code",
   "execution_count": 5,
   "metadata": {},
   "outputs": [
    {
     "data": {
      "text/plain": [
       "{'y1': 0.6470186685758872,\n",
       " 'y2': 1.8377836727571266,\n",
       " 'c1': 2.7313686322676616,\n",
       " 'c2': -1.3112796440053733}"
      ]
     },
     "execution_count": 5,
     "metadata": {},
     "output_type": "execute_result"
    }
   ],
   "source": [
    "# Note that the repr string contains all of the config information\n",
    "X.random_evaluate()"
   ]
  },
  {
   "cell_type": "markdown",
   "metadata": {},
   "source": [
    "# Run CNSGA\n",
    "\n",
    "CNSGA is designed to run in parallel with an asynchronous executor as defined in PEP 3148"
   ]
  },
  {
   "cell_type": "code",
   "execution_count": 6,
   "metadata": {},
   "outputs": [],
   "source": [
    "# Pick one of these\n",
    "#from concurrent.futures import ThreadPoolExecutor as PoolExecutor\n",
    "from concurrent.futures import ProcessPoolExecutor as PoolExecutor\n",
    "executor = PoolExecutor()"
   ]
  },
  {
   "cell_type": "code",
   "execution_count": 7,
   "metadata": {},
   "outputs": [
    {
     "name": "stdout",
     "output_type": "stream",
     "text": [
      "\n",
      "\n",
      "\n",
      " ▄████▄   ███▄    █   ██████   ▄████  ▄▄▄      \n",
      "▒██▀ ▀█   ██ ▀█   █ ▒██    ▒  ██▒ ▀█▒▒████▄    \n",
      "▒▓█    ▄ ▓██  ▀█ ██▒░ ▓██▄   ▒██░▄▄▄░▒██  ▀█▄  \n",
      "▒▓▓▄ ▄██▒▓██▒  ▐▌██▒  ▒   ██▒░▓█  ██▓░██▄▄▄▄██ \n",
      "▒ ▓███▀ ░▒██░   ▓██░▒██████▒▒░▒▓███▀▒ ▓█   ▓██▒\n",
      "░ ░▒ ▒  ░░ ▒░   ▒ ▒ ▒ ▒▓▒ ▒ ░ ░▒   ▒  ▒▒   ▓▒█░\n",
      "  ░  ▒   ░ ░░   ░ ▒░░ ░▒  ░ ░  ░   ░   ▒   ▒▒ ░\n",
      "░           ░   ░ ░ ░  ░  ░  ░ ░   ░   ░   ▒   \n",
      "░ ░               ░       ░        ░       ░  ░\n",
      "░                                              \n",
      "\n",
      "\n",
      "Continous Non-dominated Sorting Genetic Algorithm\n",
      "\n",
      "\n",
      "Creating toolbox from vocs.\n",
      "Created toolbox with 2 variables, 2 constraints, and 2 objectives.\n",
      "    Using selection algorithm: nsga2\n",
      "vocs:\n",
      "{'constants': {'a': 'dummy_constant'},\n",
      " 'constraints': {'c1': ['GREATER_THAN', 0], 'c2': ['GREATER_THAN', 0]},\n",
      " 'description': None,\n",
      " 'linked_variables': {'x9': 'x1'},\n",
      " 'name': 'TNK_test',\n",
      " 'objectives': {'y1': 'MINIMIZE', 'y2': 'MINIMIZE'},\n",
      " 'simulation': 'test_TNK',\n",
      " 'templates': None,\n",
      " 'variables': {'x1': [0, 3.14159], 'x2': [0, 3.14159]}}\n",
      "Initializing with a new population, size 128\n",
      "____________________________________________________\n",
      "128 fitness calculations for initial generation\n",
      "................................................................................................................................done.\n",
      "Submitting first batch of children\n",
      ".................................................................................................................................done.\n",
      "__________________________________________________________\n",
      "Generation 0 completed in 0.00372 minutes\n",
      "................................................................................................................................done.\n",
      "__________________________________________________________\n",
      "Generation 1 completed in 0.00681 minutes\n",
      "................................................................................................................................done.\n",
      "__________________________________________________________\n",
      "Generation 2 completed in 0.00649 minutes\n",
      "................................................................................................................................done.\n",
      "__________________________________________________________\n",
      "Generation 3 completed in 0.00718 minutes\n",
      "................................................................................................................................done.\n",
      "__________________________________________________________\n",
      "Generation 4 completed in 0.00653 minutes\n",
      "................................................................................................................................done.\n",
      "__________________________________________________________\n",
      "Generation 5 completed in 0.00638 minutes\n",
      "................................................................................................................................done.\n",
      "__________________________________________________________\n",
      "Generation 6 completed in 0.00719 minutes\n",
      "................................................................................................................................done.\n",
      "__________________________________________________________\n",
      "Generation 7 completed in 0.00605 minutes\n",
      "................................................................................................................................done.\n",
      "__________________________________________________________\n",
      "Generation 8 completed in 0.00576 minutes\n",
      "................................................................................................................................done.\n",
      "__________________________________________________________\n",
      "Generation 9 completed in 0.00679 minutes\n",
      "..............................................................................................................................."
     ]
    }
   ],
   "source": [
    "X['cnsga']['max_generations'] = 10\n",
    "X.run(executor=executor)"
   ]
  },
  {
   "cell_type": "code",
   "execution_count": 8,
   "metadata": {},
   "outputs": [
    {
     "data": {
      "text/plain": [
       "['variables', 'generation', 'errors', 'inputs', 'outputs']"
      ]
     },
     "execution_count": 8,
     "metadata": {},
     "output_type": "execute_result"
    }
   ],
   "source": [
    "# The last population is saved internally:\n",
    "list(X.population)"
   ]
  },
  {
   "cell_type": "code",
   "execution_count": 9,
   "metadata": {},
   "outputs": [
    {
     "name": "stdout",
     "output_type": "stream",
     "text": [
      "\n",
      "\n",
      "\n",
      " ▄████▄   ███▄    █   ██████   ▄████  ▄▄▄      \n",
      "▒██▀ ▀█   ██ ▀█   █ ▒██    ▒  ██▒ ▀█▒▒████▄    \n",
      "▒▓█    ▄ ▓██  ▀█ ██▒░ ▓██▄   ▒██░▄▄▄░▒██  ▀█▄  \n",
      "▒▓▓▄ ▄██▒▓██▒  ▐▌██▒  ▒   ██▒░▓█  ██▓░██▄▄▄▄██ \n",
      "▒ ▓███▀ ░▒██░   ▓██░▒██████▒▒░▒▓███▀▒ ▓█   ▓██▒\n",
      "░ ░▒ ▒  ░░ ▒░   ▒ ▒ ▒ ▒▓▒ ▒ ░ ░▒   ▒  ▒▒   ▓▒█░\n",
      "  ░  ▒   ░ ░░   ░ ▒░░ ░▒  ░ ░  ░   ░   ▒   ▒▒ ░\n",
      "░           ░   ░ ░ ░  ░  ░  ░ ░   ░   ░   ▒   \n",
      "░ ░               ░       ░        ░       ░  ░\n",
      "░                                              \n",
      "\n",
      "\n",
      "Continous Non-dominated Sorting Genetic Algorithm\n",
      "\n",
      "\n",
      "Creating toolbox from vocs.\n",
      "Warning: Redefining creator.MyFitness\n",
      "Warning in cnsga_toolbox: Redefining creator.Individual\n",
      "Created toolbox with 2 variables, 2 constraints, and 2 objectives.\n",
      "    Using selection algorithm: nsga2\n",
      "vocs:\n",
      "{'constants': {'a': 'dummy_constant'},\n",
      " 'constraints': {'c1': ['GREATER_THAN', 0], 'c2': ['GREATER_THAN', 0]},\n",
      " 'description': None,\n",
      " 'linked_variables': {'x9': 'x1'},\n",
      " 'name': 'TNK_test',\n",
      " 'objectives': {'y1': 'MINIMIZE', 'y2': 'MINIMIZE'},\n",
      " 'simulation': 'test_TNK',\n",
      " 'templates': None,\n",
      " 'variables': {'x1': [0, 3.14159], 'x2': [0, 3.14159]}}\n",
      "Initializing with existing population, size 128\n",
      "____________________________________________________\n",
      "128 fitness calculations for initial generation\n",
      "................................................................................................................................done.\n",
      "Submitting first batch of children\n",
      ".................................................................................................................................done.\n",
      "__________________________________________________________\n",
      "Generation 11 completed in 0.00604 minutes\n",
      "................................................................................................................................done.\n",
      "__________________________________________________________\n",
      "Generation 12 completed in 0.00730 minutes\n",
      "................................................................................................................................done.\n",
      "__________________________________________________________\n",
      "Generation 13 completed in 0.00807 minutes\n",
      "................................................................................................................................done.\n",
      "__________________________________________________________\n",
      "Generation 14 completed in 0.00739 minutes\n",
      "................................................................................................................................done.\n",
      "__________________________________________________________\n",
      "Generation 15 completed in 0.00713 minutes\n",
      "................................................................................................................................done.\n",
      "__________________________________________________________\n",
      "Generation 16 completed in 0.00728 minutes\n",
      "................................................................................................................................done.\n",
      "__________________________________________________________\n",
      "Generation 17 completed in 0.00636 minutes\n",
      "................................................................................................................................done.\n",
      "__________________________________________________________\n",
      "Generation 18 completed in 0.00742 minutes\n",
      "................................................................................................................................done.\n",
      "__________________________________________________________\n",
      "Generation 19 completed in 0.00625 minutes\n",
      "..............................................................................................................................."
     ]
    }
   ],
   "source": [
    "# Increase the max_generations, and it will continue where it left off\n",
    "X['cnsga']['max_generations'] = 20\n",
    "X.run(executor=executor)"
   ]
  },
  {
   "cell_type": "markdown",
   "metadata": {},
   "source": [
    "# Plot"
   ]
  },
  {
   "cell_type": "code",
   "execution_count": 10,
   "metadata": {},
   "outputs": [
    {
     "data": {
      "image/png": "[encoded data removed]",
      "text/plain": [
       "<Figure size 360x360 with 1 Axes>"
      ]
     },
     "metadata": {
      "needs_background": "light"
     },
     "output_type": "display_data"
    }
   ],
   "source": [
    "# Extract objectives from output\n",
    "key1, key2 = list(X.vocs['objectives'])\n",
    "x, y = X.population['outputs'][key1], X.population['outputs'][key2]\n",
    "\n",
    "import matplotlib.pyplot as plt\n",
    "%matplotlib inline\n",
    "\n",
    "fig, ax = plt.subplots(figsize=(5,5))\n",
    "\n",
    "ax.scatter(x, y, color='blue')\n",
    "#ax.set_xlim(X_RANGE)\n",
    "#ax.set_ylim(Y_RANGE)\n",
    "ax.set_xlabel(key1)\n",
    "ax.set_xlabel(key2)\n",
    "ax.set_aspect('auto')\n",
    "#ax.set_title(NAME)"
   ]
  },
  {
   "cell_type": "code",
   "execution_count": null,
   "metadata": {},
   "outputs": [],
   "source": []
  },
  {
   "cell_type": "code",
   "execution_count": null,
   "metadata": {},
   "outputs": [],
   "source": []
  },
  {
   "cell_type": "code",
   "execution_count": null,
   "metadata": {},
   "outputs": [],
   "source": []
  }
 ],
 "metadata": {
  "kernelspec": {
   "display_name": "Python 3",
   "language": "python",
   "name": "python3"
  },
  "language_info": {
   "codemirror_mode": {
    "name": "ipython",
    "version": 3
   },
   "file_extension": ".py",
   "mimetype": "text/x-python",
   "name": "python",
   "nbconvert_exporter": "python",
   "pygments_lexer": "ipython3",
   "version": "3.7.6"
  }
 },
 "nbformat": 4,
 "nbformat_minor": 4
}
