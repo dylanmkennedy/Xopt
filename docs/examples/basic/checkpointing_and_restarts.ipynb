{
 "cells": [
  {
   "cell_type": "markdown",
   "metadata": {
    "collapsed": false
   },
   "source": [
    "# Checkpointing and Restarts\n",
    "If `dump_file` is provided Xopt will save the data and the Xopt configuration in a\n",
    "yaml file. This can be used directly to create a new Xopt object."
   ]
  },
  {
   "cell_type": "code",
   "execution_count": 1,
   "metadata": {
    "collapsed": false,
    "execution": {
     "iopub.execute_input": "2022-07-02T04:16:24.059517Z",
     "iopub.status.busy": "2022-07-02T04:16:24.059152Z",
     "iopub.status.idle": "2022-07-02T04:16:24.728959Z",
     "shell.execute_reply": "2022-07-02T04:16:24.728499Z"
    }
   },
   "outputs": [],
   "source": [
    "# Import the class\n",
    "from xopt import Xopt\n",
    "\n",
    "# Make a proper input file.\n",
    "YAML = \"\"\"\n",
    "xopt:\n",
    "    dump_file: dump.yaml\n",
    "\n",
    "generator:\n",
    "    name: random\n",
    "\n",
    "evaluator:\n",
    "    function: xopt.resources.test_functions.tnk.evaluate_TNK\n",
    "    function_kwargs:\n",
    "        a: 999\n",
    "\n",
    "vocs:\n",
    "    variables:\n",
    "        x1: [0, 3.14159]\n",
    "        x2: [0, 3.14159]\n",
    "    objectives: {y1: MINIMIZE, y2: MINIMIZE}\n",
    "    constraints:\n",
    "        c1: [GREATER_THAN, 0]\n",
    "        c2: [LESS_THAN, 0.5]\n",
    "    constants: {a: dummy_constant}\n",
    "\n",
    "\"\"\""
   ]
  },
  {
   "cell_type": "markdown",
   "metadata": {
    "collapsed": false
   },
   "source": [
    "## Checkpoints\n",
    "Since we specified a dump file Xopt will dump the data and all of the options\n",
    "required to create a new Xopt object that continues the run."
   ]
  },
  {
   "cell_type": "code",
   "execution_count": 2,
   "metadata": {
    "collapsed": false,
    "execution": {
     "iopub.execute_input": "2022-07-02T04:16:24.731290Z",
     "iopub.status.busy": "2022-07-02T04:16:24.730930Z",
     "iopub.status.idle": "2022-07-02T04:16:24.827500Z",
     "shell.execute_reply": "2022-07-02T04:16:24.827230Z"
    }
   },
   "outputs": [
    {
     "data": {
      "text/plain": "          x1        x2               a        x9        y1        y2  \\\n1   2.796333  1.245052  dummy_constant  2.796333  2.796333  1.245052   \n2   1.643312  0.210066  dummy_constant  1.643312  1.643312  0.210066   \n3   3.051576  2.982716  dummy_constant  3.051576  3.051576  2.982716   \n4   1.907081  0.789015  dummy_constant  1.907081  1.907081  0.789015   \n5   2.145082  0.859016  dummy_constant  2.145082  2.145082  0.859016   \n6   1.239212  0.131111  dummy_constant  1.239212  1.239212  0.131111   \n7   0.615181  1.082322  dummy_constant  0.615181  0.615181  1.082322   \n8   0.388659  0.461661  dummy_constant  0.388659  0.388659  0.461661   \n9   1.406154  1.926402  dummy_constant  1.406154  1.406154  1.926402   \n10  1.829259  2.257456  dummy_constant  1.829259  1.829259  2.257456   \n\n           c1         c2 some_array  xopt_runtime  xopt_error  \n1    8.278287   5.828248  [1, 2, 3]      0.000283       False  \n2    1.789308   1.391224  [1, 2, 3]      0.000034       False  \n3   17.110374  12.674420  [1, 2, 3]      0.000029       False  \n4    3.159506   2.063408  [1, 2, 3]      0.000024       False  \n5    4.241064   2.835189  [1, 2, 3]      0.000329       False  \n6    0.564386   0.682513  [1, 2, 3]      0.000042       False  \n7    0.590249   0.352366  [1, 2, 3]      0.000235       False  \n8   -0.655731   0.013867  [1, 2, 3]      0.000040       False  \n9    4.767057   2.855737  [1, 2, 3]      0.000109       False  \n10   7.452235   4.855581  [1, 2, 3]      0.000044       False  ",
      "text/html": "<div>\n<style scoped>\n    .dataframe tbody tr th:only-of-type {\n        vertical-align: middle;\n    }\n\n    .dataframe tbody tr th {\n        vertical-align: top;\n    }\n\n    .dataframe thead th {\n        text-align: right;\n    }\n</style>\n<table border=\"1\" class=\"dataframe\">\n  <thead>\n    <tr style=\"text-align: right;\">\n      <th></th>\n      <th>x1</th>\n      <th>x2</th>\n      <th>a</th>\n      <th>x9</th>\n      <th>y1</th>\n      <th>y2</th>\n      <th>c1</th>\n      <th>c2</th>\n      <th>some_array</th>\n      <th>xopt_runtime</th>\n      <th>xopt_error</th>\n    </tr>\n  </thead>\n  <tbody>\n    <tr>\n      <th>1</th>\n      <td>2.796333</td>\n      <td>1.245052</td>\n      <td>dummy_constant</td>\n      <td>2.796333</td>\n      <td>2.796333</td>\n      <td>1.245052</td>\n      <td>8.278287</td>\n      <td>5.828248</td>\n      <td>[1, 2, 3]</td>\n      <td>0.000283</td>\n      <td>False</td>\n    </tr>\n    <tr>\n      <th>2</th>\n      <td>1.643312</td>\n      <td>0.210066</td>\n      <td>dummy_constant</td>\n      <td>1.643312</td>\n      <td>1.643312</td>\n      <td>0.210066</td>\n      <td>1.789308</td>\n      <td>1.391224</td>\n      <td>[1, 2, 3]</td>\n      <td>0.000034</td>\n      <td>False</td>\n    </tr>\n    <tr>\n      <th>3</th>\n      <td>3.051576</td>\n      <td>2.982716</td>\n      <td>dummy_constant</td>\n      <td>3.051576</td>\n      <td>3.051576</td>\n      <td>2.982716</td>\n      <td>17.110374</td>\n      <td>12.674420</td>\n      <td>[1, 2, 3]</td>\n      <td>0.000029</td>\n      <td>False</td>\n    </tr>\n    <tr>\n      <th>4</th>\n      <td>1.907081</td>\n      <td>0.789015</td>\n      <td>dummy_constant</td>\n      <td>1.907081</td>\n      <td>1.907081</td>\n      <td>0.789015</td>\n      <td>3.159506</td>\n      <td>2.063408</td>\n      <td>[1, 2, 3]</td>\n      <td>0.000024</td>\n      <td>False</td>\n    </tr>\n    <tr>\n      <th>5</th>\n      <td>2.145082</td>\n      <td>0.859016</td>\n      <td>dummy_constant</td>\n      <td>2.145082</td>\n      <td>2.145082</td>\n      <td>0.859016</td>\n      <td>4.241064</td>\n      <td>2.835189</td>\n      <td>[1, 2, 3]</td>\n      <td>0.000329</td>\n      <td>False</td>\n    </tr>\n    <tr>\n      <th>6</th>\n      <td>1.239212</td>\n      <td>0.131111</td>\n      <td>dummy_constant</td>\n      <td>1.239212</td>\n      <td>1.239212</td>\n      <td>0.131111</td>\n      <td>0.564386</td>\n      <td>0.682513</td>\n      <td>[1, 2, 3]</td>\n      <td>0.000042</td>\n      <td>False</td>\n    </tr>\n    <tr>\n      <th>7</th>\n      <td>0.615181</td>\n      <td>1.082322</td>\n      <td>dummy_constant</td>\n      <td>0.615181</td>\n      <td>0.615181</td>\n      <td>1.082322</td>\n      <td>0.590249</td>\n      <td>0.352366</td>\n      <td>[1, 2, 3]</td>\n      <td>0.000235</td>\n      <td>False</td>\n    </tr>\n    <tr>\n      <th>8</th>\n      <td>0.388659</td>\n      <td>0.461661</td>\n      <td>dummy_constant</td>\n      <td>0.388659</td>\n      <td>0.388659</td>\n      <td>0.461661</td>\n      <td>-0.655731</td>\n      <td>0.013867</td>\n      <td>[1, 2, 3]</td>\n      <td>0.000040</td>\n      <td>False</td>\n    </tr>\n    <tr>\n      <th>9</th>\n      <td>1.406154</td>\n      <td>1.926402</td>\n      <td>dummy_constant</td>\n      <td>1.406154</td>\n      <td>1.406154</td>\n      <td>1.926402</td>\n      <td>4.767057</td>\n      <td>2.855737</td>\n      <td>[1, 2, 3]</td>\n      <td>0.000109</td>\n      <td>False</td>\n    </tr>\n    <tr>\n      <th>10</th>\n      <td>1.829259</td>\n      <td>2.257456</td>\n      <td>dummy_constant</td>\n      <td>1.829259</td>\n      <td>1.829259</td>\n      <td>2.257456</td>\n      <td>7.452235</td>\n      <td>4.855581</td>\n      <td>[1, 2, 3]</td>\n      <td>0.000044</td>\n      <td>False</td>\n    </tr>\n  </tbody>\n</table>\n</div>"
     },
     "execution_count": 2,
     "metadata": {},
     "output_type": "execute_result"
    }
   ],
   "source": [
    "import yaml\n",
    "\n",
    "# create Xopt object.\n",
    "X = Xopt(YAML)\n",
    "\n",
    "# take 10 steps and view data\n",
    "for _ in range(10):\n",
    "    X.step()\n",
    "\n",
    "X.data"
   ]
  },
  {
   "cell_type": "markdown",
   "metadata": {
    "collapsed": false
   },
   "source": [
    "## Create Xopt object from dump file"
   ]
  },
  {
   "cell_type": "code",
   "execution_count": 3,
   "metadata": {
    "collapsed": false,
    "execution": {
     "iopub.execute_input": "2022-07-02T04:16:24.840404Z",
     "iopub.status.busy": "2022-07-02T04:16:24.840276Z",
     "iopub.status.idle": "2022-07-02T04:16:24.856388Z",
     "shell.execute_reply": "2022-07-02T04:16:24.856138Z"
    }
   },
   "outputs": [
    {
     "name": "stdout",
     "output_type": "stream",
     "text": [
      "asynch=False strict=False dump_file='dump.yaml' max_evaluations=None\n",
      "<xopt.generators.random.RandomGenerator object at 0x000001C54B399EE0>\n",
      "function=<function evaluate_TNK at 0x000001C54B3A03A0> max_workers=1 executor=NormalExecutor[DummyExecutor](loader=ObjLoader[DummyExecutor](object=None, loader=CallableModel(callable=<class 'xopt.evaluator.DummyExecutor'>, signature=Kwargs_DummyExecutor(args=[], kwarg_order=[])), object_type=<class 'xopt.evaluator.DummyExecutor'>), executor_type=<class 'xopt.evaluator.DummyExecutor'>, submit_callable='submit', map_callable='map', shutdown_callable='shutdown', executor=<xopt.evaluator.DummyExecutor object at 0x000001C54B3E78B0>) function_kwargs={'sleep': 0, 'random_sleep': 0, 'raise_probability': 0, 'a': 999} vectorized=False\n"
     ]
    },
    {
     "data": {
      "text/plain": "                 a         c1         c2 some_array        x1        x2  \\\n1   dummy_constant   8.278287   5.828248  [1, 2, 3]  2.796333  1.245052   \n10  dummy_constant   7.452235   4.855581  [1, 2, 3]  1.829259  2.257456   \n2   dummy_constant   1.789308   1.391224  [1, 2, 3]  1.643312  0.210066   \n3   dummy_constant  17.110374  12.674420  [1, 2, 3]  3.051576  2.982716   \n4   dummy_constant   3.159506   2.063408  [1, 2, 3]  1.907081  0.789015   \n5   dummy_constant   4.241064   2.835189  [1, 2, 3]  2.145082  0.859016   \n6   dummy_constant   0.564386   0.682513  [1, 2, 3]  1.239212  0.131111   \n7   dummy_constant   0.590249   0.352366  [1, 2, 3]  0.615181  1.082322   \n8   dummy_constant  -0.655731   0.013867  [1, 2, 3]  0.388659  0.461661   \n9   dummy_constant   4.767057   2.855737  [1, 2, 3]  1.406154  1.926402   \n\n          x9  xopt_error  xopt_runtime        y1        y2  \n1   2.796333       False      0.000283  2.796333  1.245052  \n10  1.829259       False      0.000044  1.829259  2.257456  \n2   1.643312       False      0.000034  1.643312  0.210066  \n3   3.051576       False      0.000029  3.051576  2.982716  \n4   1.907081       False      0.000024  1.907081  0.789015  \n5   2.145082       False      0.000329  2.145082  0.859016  \n6   1.239212       False      0.000042  1.239212  0.131111  \n7   0.615181       False      0.000235  0.615181  1.082322  \n8   0.388659       False      0.000040  0.388659  0.461661  \n9   1.406154       False      0.000109  1.406154  1.926402  ",
      "text/html": "<div>\n<style scoped>\n    .dataframe tbody tr th:only-of-type {\n        vertical-align: middle;\n    }\n\n    .dataframe tbody tr th {\n        vertical-align: top;\n    }\n\n    .dataframe thead th {\n        text-align: right;\n    }\n</style>\n<table border=\"1\" class=\"dataframe\">\n  <thead>\n    <tr style=\"text-align: right;\">\n      <th></th>\n      <th>a</th>\n      <th>c1</th>\n      <th>c2</th>\n      <th>some_array</th>\n      <th>x1</th>\n      <th>x2</th>\n      <th>x9</th>\n      <th>xopt_error</th>\n      <th>xopt_runtime</th>\n      <th>y1</th>\n      <th>y2</th>\n    </tr>\n  </thead>\n  <tbody>\n    <tr>\n      <th>1</th>\n      <td>dummy_constant</td>\n      <td>8.278287</td>\n      <td>5.828248</td>\n      <td>[1, 2, 3]</td>\n      <td>2.796333</td>\n      <td>1.245052</td>\n      <td>2.796333</td>\n      <td>False</td>\n      <td>0.000283</td>\n      <td>2.796333</td>\n      <td>1.245052</td>\n    </tr>\n    <tr>\n      <th>10</th>\n      <td>dummy_constant</td>\n      <td>7.452235</td>\n      <td>4.855581</td>\n      <td>[1, 2, 3]</td>\n      <td>1.829259</td>\n      <td>2.257456</td>\n      <td>1.829259</td>\n      <td>False</td>\n      <td>0.000044</td>\n      <td>1.829259</td>\n      <td>2.257456</td>\n    </tr>\n    <tr>\n      <th>2</th>\n      <td>dummy_constant</td>\n      <td>1.789308</td>\n      <td>1.391224</td>\n      <td>[1, 2, 3]</td>\n      <td>1.643312</td>\n      <td>0.210066</td>\n      <td>1.643312</td>\n      <td>False</td>\n      <td>0.000034</td>\n      <td>1.643312</td>\n      <td>0.210066</td>\n    </tr>\n    <tr>\n      <th>3</th>\n      <td>dummy_constant</td>\n      <td>17.110374</td>\n      <td>12.674420</td>\n      <td>[1, 2, 3]</td>\n      <td>3.051576</td>\n      <td>2.982716</td>\n      <td>3.051576</td>\n      <td>False</td>\n      <td>0.000029</td>\n      <td>3.051576</td>\n      <td>2.982716</td>\n    </tr>\n    <tr>\n      <th>4</th>\n      <td>dummy_constant</td>\n      <td>3.159506</td>\n      <td>2.063408</td>\n      <td>[1, 2, 3]</td>\n      <td>1.907081</td>\n      <td>0.789015</td>\n      <td>1.907081</td>\n      <td>False</td>\n      <td>0.000024</td>\n      <td>1.907081</td>\n      <td>0.789015</td>\n    </tr>\n    <tr>\n      <th>5</th>\n      <td>dummy_constant</td>\n      <td>4.241064</td>\n      <td>2.835189</td>\n      <td>[1, 2, 3]</td>\n      <td>2.145082</td>\n      <td>0.859016</td>\n      <td>2.145082</td>\n      <td>False</td>\n      <td>0.000329</td>\n      <td>2.145082</td>\n      <td>0.859016</td>\n    </tr>\n    <tr>\n      <th>6</th>\n      <td>dummy_constant</td>\n      <td>0.564386</td>\n      <td>0.682513</td>\n      <td>[1, 2, 3]</td>\n      <td>1.239212</td>\n      <td>0.131111</td>\n      <td>1.239212</td>\n      <td>False</td>\n      <td>0.000042</td>\n      <td>1.239212</td>\n      <td>0.131111</td>\n    </tr>\n    <tr>\n      <th>7</th>\n      <td>dummy_constant</td>\n      <td>0.590249</td>\n      <td>0.352366</td>\n      <td>[1, 2, 3]</td>\n      <td>0.615181</td>\n      <td>1.082322</td>\n      <td>0.615181</td>\n      <td>False</td>\n      <td>0.000235</td>\n      <td>0.615181</td>\n      <td>1.082322</td>\n    </tr>\n    <tr>\n      <th>8</th>\n      <td>dummy_constant</td>\n      <td>-0.655731</td>\n      <td>0.013867</td>\n      <td>[1, 2, 3]</td>\n      <td>0.388659</td>\n      <td>0.461661</td>\n      <td>0.388659</td>\n      <td>False</td>\n      <td>0.000040</td>\n      <td>0.388659</td>\n      <td>0.461661</td>\n    </tr>\n    <tr>\n      <th>9</th>\n      <td>dummy_constant</td>\n      <td>4.767057</td>\n      <td>2.855737</td>\n      <td>[1, 2, 3]</td>\n      <td>1.406154</td>\n      <td>1.926402</td>\n      <td>1.406154</td>\n      <td>False</td>\n      <td>0.000109</td>\n      <td>1.406154</td>\n      <td>1.926402</td>\n    </tr>\n  </tbody>\n</table>\n</div>"
     },
     "execution_count": 3,
     "metadata": {},
     "output_type": "execute_result"
    }
   ],
   "source": [
    "config = yaml.safe_load(open(\"dump.yaml\"))\n",
    "X2 = Xopt(config)\n",
    "print(X2.options)\n",
    "print(X2.generator)\n",
    "print(X2.evaluator)\n",
    "\n",
    "X2.data"
   ]
  },
  {
   "cell_type": "code",
   "execution_count": 4,
   "metadata": {
    "collapsed": false,
    "execution": {
     "iopub.execute_input": "2022-07-02T04:16:24.857845Z",
     "iopub.status.busy": "2022-07-02T04:16:24.857744Z",
     "iopub.status.idle": "2022-07-02T04:16:25.001169Z",
     "shell.execute_reply": "2022-07-02T04:16:25.000896Z"
    }
   },
   "outputs": [
    {
     "data": {
      "text/plain": "                 a         c1         c2 some_array        x1        x2  \\\n1   dummy_constant   8.278287   5.828248  [1, 2, 3]  2.796333  1.245052   \n10  dummy_constant   7.452235   4.855581  [1, 2, 3]  1.829259  2.257456   \n2   dummy_constant   1.789308   1.391224  [1, 2, 3]  1.643312  0.210066   \n3   dummy_constant  17.110374  12.674420  [1, 2, 3]  3.051576  2.982716   \n4   dummy_constant   3.159506   2.063408  [1, 2, 3]  1.907081  0.789015   \n5   dummy_constant   4.241064   2.835189  [1, 2, 3]  2.145082  0.859016   \n6   dummy_constant   0.564386   0.682513  [1, 2, 3]  1.239212  0.131111   \n7   dummy_constant   0.590249   0.352366  [1, 2, 3]  0.615181  1.082322   \n8   dummy_constant  -0.655731   0.013867  [1, 2, 3]  0.388659  0.461661   \n9   dummy_constant   4.767057   2.855737  [1, 2, 3]  1.406154  1.926402   \n11  dummy_constant   5.579247   3.917243  [1, 2, 3]  0.611657  2.476050   \n12  dummy_constant   8.008087   5.862955  [1, 2, 3]  2.917818  0.630805   \n13  dummy_constant   1.096826   1.027853  [1, 2, 3]  1.445251  0.133457   \n14  dummy_constant   1.760178   0.899382  [1, 2, 3]  1.309756  0.993637   \n15  dummy_constant   2.907178   2.249210  [1, 2, 3]  1.967733  0.191828   \n16  dummy_constant   0.845203   0.629284  [1, 2, 3]  0.521899  1.292972   \n17  dummy_constant   6.766071   4.409196  [1, 2, 3]  2.395804  1.402842   \n18  dummy_constant   3.056848   1.690370  [1, 2, 3]  1.167528  1.615696   \n19  dummy_constant   1.881681   1.506367  [1, 2, 3]  1.684550  0.178738   \n20  dummy_constant   6.986659   4.526289  [1, 2, 3]  1.841102  2.151585   \n\n          x9  xopt_error  xopt_runtime        y1        y2  \n1   2.796333       False      0.000283  2.796333  1.245052  \n10  1.829259       False      0.000044  1.829259  2.257456  \n2   1.643312       False      0.000034  1.643312  0.210066  \n3   3.051576       False      0.000029  3.051576  2.982716  \n4   1.907081       False      0.000024  1.907081  0.789015  \n5   2.145082       False      0.000329  2.145082  0.859016  \n6   1.239212       False      0.000042  1.239212  0.131111  \n7   0.615181       False      0.000235  0.615181  1.082322  \n8   0.388659       False      0.000040  0.388659  0.461661  \n9   1.406154       False      0.000109  1.406154  1.926402  \n11  0.611657       False      0.000030  0.611657  2.476050  \n12  2.917818       False      0.000032  2.917818  0.630805  \n13  1.445251       False      0.000022  1.445251  0.133457  \n14  1.309756       False      0.000038  1.309756  0.993637  \n15  1.967733       False      0.000781  1.967733  0.191828  \n16  0.521899       False      0.000031  0.521899  1.292972  \n17  2.395804       False      0.000034  2.395804  1.402842  \n18  1.167528       False      0.000030  1.167528  1.615696  \n19  1.684550       False      0.000028  1.684550  0.178738  \n20  1.841102       False      0.000021  1.841102  2.151585  ",
      "text/html": "<div>\n<style scoped>\n    .dataframe tbody tr th:only-of-type {\n        vertical-align: middle;\n    }\n\n    .dataframe tbody tr th {\n        vertical-align: top;\n    }\n\n    .dataframe thead th {\n        text-align: right;\n    }\n</style>\n<table border=\"1\" class=\"dataframe\">\n  <thead>\n    <tr style=\"text-align: right;\">\n      <th></th>\n      <th>a</th>\n      <th>c1</th>\n      <th>c2</th>\n      <th>some_array</th>\n      <th>x1</th>\n      <th>x2</th>\n      <th>x9</th>\n      <th>xopt_error</th>\n      <th>xopt_runtime</th>\n      <th>y1</th>\n      <th>y2</th>\n    </tr>\n  </thead>\n  <tbody>\n    <tr>\n      <th>1</th>\n      <td>dummy_constant</td>\n      <td>8.278287</td>\n      <td>5.828248</td>\n      <td>[1, 2, 3]</td>\n      <td>2.796333</td>\n      <td>1.245052</td>\n      <td>2.796333</td>\n      <td>False</td>\n      <td>0.000283</td>\n      <td>2.796333</td>\n      <td>1.245052</td>\n    </tr>\n    <tr>\n      <th>10</th>\n      <td>dummy_constant</td>\n      <td>7.452235</td>\n      <td>4.855581</td>\n      <td>[1, 2, 3]</td>\n      <td>1.829259</td>\n      <td>2.257456</td>\n      <td>1.829259</td>\n      <td>False</td>\n      <td>0.000044</td>\n      <td>1.829259</td>\n      <td>2.257456</td>\n    </tr>\n    <tr>\n      <th>2</th>\n      <td>dummy_constant</td>\n      <td>1.789308</td>\n      <td>1.391224</td>\n      <td>[1, 2, 3]</td>\n      <td>1.643312</td>\n      <td>0.210066</td>\n      <td>1.643312</td>\n      <td>False</td>\n      <td>0.000034</td>\n      <td>1.643312</td>\n      <td>0.210066</td>\n    </tr>\n    <tr>\n      <th>3</th>\n      <td>dummy_constant</td>\n      <td>17.110374</td>\n      <td>12.674420</td>\n      <td>[1, 2, 3]</td>\n      <td>3.051576</td>\n      <td>2.982716</td>\n      <td>3.051576</td>\n      <td>False</td>\n      <td>0.000029</td>\n      <td>3.051576</td>\n      <td>2.982716</td>\n    </tr>\n    <tr>\n      <th>4</th>\n      <td>dummy_constant</td>\n      <td>3.159506</td>\n      <td>2.063408</td>\n      <td>[1, 2, 3]</td>\n      <td>1.907081</td>\n      <td>0.789015</td>\n      <td>1.907081</td>\n      <td>False</td>\n      <td>0.000024</td>\n      <td>1.907081</td>\n      <td>0.789015</td>\n    </tr>\n    <tr>\n      <th>5</th>\n      <td>dummy_constant</td>\n      <td>4.241064</td>\n      <td>2.835189</td>\n      <td>[1, 2, 3]</td>\n      <td>2.145082</td>\n      <td>0.859016</td>\n      <td>2.145082</td>\n      <td>False</td>\n      <td>0.000329</td>\n      <td>2.145082</td>\n      <td>0.859016</td>\n    </tr>\n    <tr>\n      <th>6</th>\n      <td>dummy_constant</td>\n      <td>0.564386</td>\n      <td>0.682513</td>\n      <td>[1, 2, 3]</td>\n      <td>1.239212</td>\n      <td>0.131111</td>\n      <td>1.239212</td>\n      <td>False</td>\n      <td>0.000042</td>\n      <td>1.239212</td>\n      <td>0.131111</td>\n    </tr>\n    <tr>\n      <th>7</th>\n      <td>dummy_constant</td>\n      <td>0.590249</td>\n      <td>0.352366</td>\n      <td>[1, 2, 3]</td>\n      <td>0.615181</td>\n      <td>1.082322</td>\n      <td>0.615181</td>\n      <td>False</td>\n      <td>0.000235</td>\n      <td>0.615181</td>\n      <td>1.082322</td>\n    </tr>\n    <tr>\n      <th>8</th>\n      <td>dummy_constant</td>\n      <td>-0.655731</td>\n      <td>0.013867</td>\n      <td>[1, 2, 3]</td>\n      <td>0.388659</td>\n      <td>0.461661</td>\n      <td>0.388659</td>\n      <td>False</td>\n      <td>0.000040</td>\n      <td>0.388659</td>\n      <td>0.461661</td>\n    </tr>\n    <tr>\n      <th>9</th>\n      <td>dummy_constant</td>\n      <td>4.767057</td>\n      <td>2.855737</td>\n      <td>[1, 2, 3]</td>\n      <td>1.406154</td>\n      <td>1.926402</td>\n      <td>1.406154</td>\n      <td>False</td>\n      <td>0.000109</td>\n      <td>1.406154</td>\n      <td>1.926402</td>\n    </tr>\n    <tr>\n      <th>11</th>\n      <td>dummy_constant</td>\n      <td>5.579247</td>\n      <td>3.917243</td>\n      <td>[1, 2, 3]</td>\n      <td>0.611657</td>\n      <td>2.476050</td>\n      <td>0.611657</td>\n      <td>False</td>\n      <td>0.000030</td>\n      <td>0.611657</td>\n      <td>2.476050</td>\n    </tr>\n    <tr>\n      <th>12</th>\n      <td>dummy_constant</td>\n      <td>8.008087</td>\n      <td>5.862955</td>\n      <td>[1, 2, 3]</td>\n      <td>2.917818</td>\n      <td>0.630805</td>\n      <td>2.917818</td>\n      <td>False</td>\n      <td>0.000032</td>\n      <td>2.917818</td>\n      <td>0.630805</td>\n    </tr>\n    <tr>\n      <th>13</th>\n      <td>dummy_constant</td>\n      <td>1.096826</td>\n      <td>1.027853</td>\n      <td>[1, 2, 3]</td>\n      <td>1.445251</td>\n      <td>0.133457</td>\n      <td>1.445251</td>\n      <td>False</td>\n      <td>0.000022</td>\n      <td>1.445251</td>\n      <td>0.133457</td>\n    </tr>\n    <tr>\n      <th>14</th>\n      <td>dummy_constant</td>\n      <td>1.760178</td>\n      <td>0.899382</td>\n      <td>[1, 2, 3]</td>\n      <td>1.309756</td>\n      <td>0.993637</td>\n      <td>1.309756</td>\n      <td>False</td>\n      <td>0.000038</td>\n      <td>1.309756</td>\n      <td>0.993637</td>\n    </tr>\n    <tr>\n      <th>15</th>\n      <td>dummy_constant</td>\n      <td>2.907178</td>\n      <td>2.249210</td>\n      <td>[1, 2, 3]</td>\n      <td>1.967733</td>\n      <td>0.191828</td>\n      <td>1.967733</td>\n      <td>False</td>\n      <td>0.000781</td>\n      <td>1.967733</td>\n      <td>0.191828</td>\n    </tr>\n    <tr>\n      <th>16</th>\n      <td>dummy_constant</td>\n      <td>0.845203</td>\n      <td>0.629284</td>\n      <td>[1, 2, 3]</td>\n      <td>0.521899</td>\n      <td>1.292972</td>\n      <td>0.521899</td>\n      <td>False</td>\n      <td>0.000031</td>\n      <td>0.521899</td>\n      <td>1.292972</td>\n    </tr>\n    <tr>\n      <th>17</th>\n      <td>dummy_constant</td>\n      <td>6.766071</td>\n      <td>4.409196</td>\n      <td>[1, 2, 3]</td>\n      <td>2.395804</td>\n      <td>1.402842</td>\n      <td>2.395804</td>\n      <td>False</td>\n      <td>0.000034</td>\n      <td>2.395804</td>\n      <td>1.402842</td>\n    </tr>\n    <tr>\n      <th>18</th>\n      <td>dummy_constant</td>\n      <td>3.056848</td>\n      <td>1.690370</td>\n      <td>[1, 2, 3]</td>\n      <td>1.167528</td>\n      <td>1.615696</td>\n      <td>1.167528</td>\n      <td>False</td>\n      <td>0.000030</td>\n      <td>1.167528</td>\n      <td>1.615696</td>\n    </tr>\n    <tr>\n      <th>19</th>\n      <td>dummy_constant</td>\n      <td>1.881681</td>\n      <td>1.506367</td>\n      <td>[1, 2, 3]</td>\n      <td>1.684550</td>\n      <td>0.178738</td>\n      <td>1.684550</td>\n      <td>False</td>\n      <td>0.000028</td>\n      <td>1.684550</td>\n      <td>0.178738</td>\n    </tr>\n    <tr>\n      <th>20</th>\n      <td>dummy_constant</td>\n      <td>6.986659</td>\n      <td>4.526289</td>\n      <td>[1, 2, 3]</td>\n      <td>1.841102</td>\n      <td>2.151585</td>\n      <td>1.841102</td>\n      <td>False</td>\n      <td>0.000021</td>\n      <td>1.841102</td>\n      <td>2.151585</td>\n    </tr>\n  </tbody>\n</table>\n</div>"
     },
     "execution_count": 4,
     "metadata": {},
     "output_type": "execute_result"
    }
   ],
   "source": [
    "for _ in range(10):\n",
    "    X2.step()\n",
    "\n",
    "X2.data"
   ]
  },
  {
   "cell_type": "code",
   "execution_count": 4,
   "metadata": {
    "collapsed": false
   },
   "outputs": [],
   "source": []
  }
 ],
 "metadata": {
  "kernelspec": {
   "display_name": "Python 3",
   "language": "python",
   "name": "python3"
  },
  "language_info": {
   "codemirror_mode": {
    "name": "ipython",
    "version": 3
   },
   "file_extension": ".py",
   "mimetype": "text/x-python",
   "name": "python",
   "nbconvert_exporter": "python",
   "pygments_lexer": "ipython3",
   "version": "3.9.13"
  }
 },
 "nbformat": 4,
 "nbformat_minor": 0
}
