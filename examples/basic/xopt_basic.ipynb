{
 "cells": [
  {
   "cell_type": "markdown",
   "metadata": {
    "pycharm": {
     "name": "#%% md\n"
    }
   },
   "source": [
    "# Xopt basic example\n",
    "\n",
    "An Xopt problem can be described by a simple YAML file. Here we will demonstrate how this is used to optimize a well-known constrained multi-objective test function, TNK.\n",
    "\n",
    "## TNK test function\n",
    "\n",
    "The TNK function is defined with:\n",
    "\n",
    "$n=2$ variables:\n",
    "$x_i \\in [0, \\pi], i=1,2$\n",
    "\n",
    "Objectives:\n",
    "- $f_i(x) = x_i$\n",
    "\n",
    "Constraints:\n",
    "- $g_1(x) = -x_1^2 -x_2^2 + 1 + 0.1 \\cos\\left(16 \\arctan \\frac{x_1}{x_2}\\right) \\le 0$\n",
    "- $g_2(x) = (x_1 - 1/2)^2 + (x_2-1/2)^2 \\le 0.5$"
   ]
  },
  {
   "cell_type": "code",
   "execution_count": 9,
   "metadata": {
    "pycharm": {
     "name": "#%%\n"
    }
   },
   "outputs": [],
   "source": [
    "# Import the class\n",
    "import yaml\n",
    "\n",
    "from xopt import Xopt"
   ]
  },
  {
   "cell_type": "code",
   "execution_count": 10,
   "metadata": {
    "pycharm": {
     "name": "#%%\n"
    }
   },
   "outputs": [
    {
     "name": "stderr",
     "output_type": "stream",
     "text": [
      "A subdirectory or file temp already exists.\n"
     ]
    }
   ],
   "source": [
    "!mkdir temp"
   ]
  },
  {
   "cell_type": "markdown",
   "metadata": {
    "pycharm": {
     "name": "#%% md\n"
    }
   },
   "source": [
    "The `Xopt` object can be instantiated from a JSON or YAML file, or a dict, with the proper structure.\n",
    "\n",
    "Here we will make one"
   ]
  },
  {
   "cell_type": "code",
   "execution_count": 11,
   "metadata": {
    "pycharm": {
     "name": "#%%\n"
    }
   },
   "outputs": [],
   "source": [
    "# Make a proper input file. \n",
    "YAML=\"\"\"\n",
    "xopt: {}\n",
    "generator:\n",
    "    name: random\n",
    "\n",
    "evaluator:\n",
    "    name: test_TNK\n",
    "    function: xopt.resources.test_functions.tnk.evaluate_TNK\n",
    "\n",
    "vocs:\n",
    "    variables:\n",
    "        x1: [0, 3.14159]\n",
    "        x2: [0, 3.14159]\n",
    "    objectives: {y1: MINIMIZE, y2: MINIMIZE}\n",
    "    constraints:\n",
    "        c1: [GREATER_THAN, 0]\n",
    "        c2: [LESS_THAN, 0.5]\n",
    "    linked_variables: {x9: x1}\n",
    "    constants: {a: dummy_constant}\n",
    "\n",
    "\"\"\""
   ]
  },
  {
   "cell_type": "code",
   "execution_count": 12,
   "metadata": {
    "pycharm": {
     "name": "#%%\n"
    }
   },
   "outputs": [],
   "source": [
    "# create Xopt object\n",
    "X = Xopt(config=yaml.safe_load(YAML))\n",
    "\n"
   ]
  },
  {
   "cell_type": "code",
   "execution_count": 12,
   "outputs": [],
   "source": [],
   "metadata": {
    "collapsed": false,
    "pycharm": {
     "name": "#%%\n"
    }
   }
  },
  {
   "cell_type": "markdown",
   "source": [],
   "metadata": {
    "collapsed": false,
    "pycharm": {
     "name": "#%% md\n"
    }
   }
  },
  {
   "cell_type": "markdown",
   "metadata": {
    "pycharm": {
     "name": "#%% md\n"
    }
   },
   "source": [
    "# Run Random data generation"
   ]
  },
  {
   "cell_type": "code",
   "execution_count": 13,
   "metadata": {
    "pycharm": {
     "name": "#%%\n"
    }
   },
   "outputs": [],
   "source": [
    "# Take one step (generate a single point)\n",
    "X.step()"
   ]
  },
  {
   "cell_type": "code",
   "execution_count": 14,
   "metadata": {
    "pycharm": {
     "name": "#%%\n"
    }
   },
   "outputs": [
    {
     "data": {
      "text/plain": "         x1        x2               a        x9        y1        y2        c1  \\\n1  1.757537  1.922947  dummy_constant  1.757537  1.757537  1.922947  5.711387   \n\n         c2 some_array  xopt_error xopt_error_str  \n1  3.606177  [1, 2, 3]       False                 ",
      "text/html": "<div>\n<style scoped>\n    .dataframe tbody tr th:only-of-type {\n        vertical-align: middle;\n    }\n\n    .dataframe tbody tr th {\n        vertical-align: top;\n    }\n\n    .dataframe thead th {\n        text-align: right;\n    }\n</style>\n<table border=\"1\" class=\"dataframe\">\n  <thead>\n    <tr style=\"text-align: right;\">\n      <th></th>\n      <th>x1</th>\n      <th>x2</th>\n      <th>a</th>\n      <th>x9</th>\n      <th>y1</th>\n      <th>y2</th>\n      <th>c1</th>\n      <th>c2</th>\n      <th>some_array</th>\n      <th>xopt_error</th>\n      <th>xopt_error_str</th>\n    </tr>\n  </thead>\n  <tbody>\n    <tr>\n      <th>1</th>\n      <td>1.757537</td>\n      <td>1.922947</td>\n      <td>dummy_constant</td>\n      <td>1.757537</td>\n      <td>1.757537</td>\n      <td>1.922947</td>\n      <td>5.711387</td>\n      <td>3.606177</td>\n      <td>[1, 2, 3]</td>\n      <td>False</td>\n      <td></td>\n    </tr>\n  </tbody>\n</table>\n</div>"
     },
     "execution_count": 14,
     "metadata": {},
     "output_type": "execute_result"
    }
   ],
   "source": [
    "# examine the results\n",
    "X.data"
   ]
  },
  {
   "cell_type": "code",
   "execution_count": 15,
   "metadata": {
    "pycharm": {
     "name": "#%%\n"
    }
   },
   "outputs": [
    {
     "data": {
      "text/plain": "          x1        x2               a        x9        y1        y2  \\\n1   1.757537  1.922947  dummy_constant  1.757537  1.757537  1.922947   \n2   2.877787  0.358340  dummy_constant  2.877787  2.877787  0.358340   \n3   2.453365  0.485950  dummy_constant  2.453365  2.453365  0.485950   \n4   1.477776  2.438408  dummy_constant  1.477776  1.477776  2.438408   \n5   2.981470  0.184916  dummy_constant  2.981470  2.981470  0.184916   \n6   3.065569  0.529014  dummy_constant  3.065569  3.065569  0.529014   \n7   2.093836  0.457224  dummy_constant  2.093836  2.093836  0.457224   \n8   2.819999  1.987454  dummy_constant  2.819999  2.819999  1.987454   \n9   1.933462  0.049955  dummy_constant  1.933462  1.933462  0.049955   \n10  1.852856  2.910068  dummy_constant  1.852856  1.852856  2.910068   \n11  2.637524  2.064408  dummy_constant  2.637524  2.637524  2.064408   \n\n           c1        c2 some_array  xopt_error xopt_error_str  \n1    5.711387  3.606177  [1, 2, 3]       False                 \n2    7.450048  5.673940  [1, 2, 3]       False                 \n3    5.355139  3.815832  [1, 2, 3]       False                 \n4    7.205678  4.713473  [1, 2, 3]       False                 \n5    7.868578  6.256971  [1, 2, 3]       False                 \n6    8.769380  6.582985  [1, 2, 3]       False                 \n7    3.688787  2.542143  [1, 2, 3]       False                 \n8   10.994556  7.594917  [1, 2, 3]       False                 \n9    2.649192  2.257354  [1, 2, 3]       False                 \n10  10.995400  7.638649  [1, 2, 3]       False                 \n11  10.254461  7.016381  [1, 2, 3]       False                 ",
      "text/html": "<div>\n<style scoped>\n    .dataframe tbody tr th:only-of-type {\n        vertical-align: middle;\n    }\n\n    .dataframe tbody tr th {\n        vertical-align: top;\n    }\n\n    .dataframe thead th {\n        text-align: right;\n    }\n</style>\n<table border=\"1\" class=\"dataframe\">\n  <thead>\n    <tr style=\"text-align: right;\">\n      <th></th>\n      <th>x1</th>\n      <th>x2</th>\n      <th>a</th>\n      <th>x9</th>\n      <th>y1</th>\n      <th>y2</th>\n      <th>c1</th>\n      <th>c2</th>\n      <th>some_array</th>\n      <th>xopt_error</th>\n      <th>xopt_error_str</th>\n    </tr>\n  </thead>\n  <tbody>\n    <tr>\n      <th>1</th>\n      <td>1.757537</td>\n      <td>1.922947</td>\n      <td>dummy_constant</td>\n      <td>1.757537</td>\n      <td>1.757537</td>\n      <td>1.922947</td>\n      <td>5.711387</td>\n      <td>3.606177</td>\n      <td>[1, 2, 3]</td>\n      <td>False</td>\n      <td></td>\n    </tr>\n    <tr>\n      <th>2</th>\n      <td>2.877787</td>\n      <td>0.358340</td>\n      <td>dummy_constant</td>\n      <td>2.877787</td>\n      <td>2.877787</td>\n      <td>0.358340</td>\n      <td>7.450048</td>\n      <td>5.673940</td>\n      <td>[1, 2, 3]</td>\n      <td>False</td>\n      <td></td>\n    </tr>\n    <tr>\n      <th>3</th>\n      <td>2.453365</td>\n      <td>0.485950</td>\n      <td>dummy_constant</td>\n      <td>2.453365</td>\n      <td>2.453365</td>\n      <td>0.485950</td>\n      <td>5.355139</td>\n      <td>3.815832</td>\n      <td>[1, 2, 3]</td>\n      <td>False</td>\n      <td></td>\n    </tr>\n    <tr>\n      <th>4</th>\n      <td>1.477776</td>\n      <td>2.438408</td>\n      <td>dummy_constant</td>\n      <td>1.477776</td>\n      <td>1.477776</td>\n      <td>2.438408</td>\n      <td>7.205678</td>\n      <td>4.713473</td>\n      <td>[1, 2, 3]</td>\n      <td>False</td>\n      <td></td>\n    </tr>\n    <tr>\n      <th>5</th>\n      <td>2.981470</td>\n      <td>0.184916</td>\n      <td>dummy_constant</td>\n      <td>2.981470</td>\n      <td>2.981470</td>\n      <td>0.184916</td>\n      <td>7.868578</td>\n      <td>6.256971</td>\n      <td>[1, 2, 3]</td>\n      <td>False</td>\n      <td></td>\n    </tr>\n    <tr>\n      <th>6</th>\n      <td>3.065569</td>\n      <td>0.529014</td>\n      <td>dummy_constant</td>\n      <td>3.065569</td>\n      <td>3.065569</td>\n      <td>0.529014</td>\n      <td>8.769380</td>\n      <td>6.582985</td>\n      <td>[1, 2, 3]</td>\n      <td>False</td>\n      <td></td>\n    </tr>\n    <tr>\n      <th>7</th>\n      <td>2.093836</td>\n      <td>0.457224</td>\n      <td>dummy_constant</td>\n      <td>2.093836</td>\n      <td>2.093836</td>\n      <td>0.457224</td>\n      <td>3.688787</td>\n      <td>2.542143</td>\n      <td>[1, 2, 3]</td>\n      <td>False</td>\n      <td></td>\n    </tr>\n    <tr>\n      <th>8</th>\n      <td>2.819999</td>\n      <td>1.987454</td>\n      <td>dummy_constant</td>\n      <td>2.819999</td>\n      <td>2.819999</td>\n      <td>1.987454</td>\n      <td>10.994556</td>\n      <td>7.594917</td>\n      <td>[1, 2, 3]</td>\n      <td>False</td>\n      <td></td>\n    </tr>\n    <tr>\n      <th>9</th>\n      <td>1.933462</td>\n      <td>0.049955</td>\n      <td>dummy_constant</td>\n      <td>1.933462</td>\n      <td>1.933462</td>\n      <td>0.049955</td>\n      <td>2.649192</td>\n      <td>2.257354</td>\n      <td>[1, 2, 3]</td>\n      <td>False</td>\n      <td></td>\n    </tr>\n    <tr>\n      <th>10</th>\n      <td>1.852856</td>\n      <td>2.910068</td>\n      <td>dummy_constant</td>\n      <td>1.852856</td>\n      <td>1.852856</td>\n      <td>2.910068</td>\n      <td>10.995400</td>\n      <td>7.638649</td>\n      <td>[1, 2, 3]</td>\n      <td>False</td>\n      <td></td>\n    </tr>\n    <tr>\n      <th>11</th>\n      <td>2.637524</td>\n      <td>2.064408</td>\n      <td>dummy_constant</td>\n      <td>2.637524</td>\n      <td>2.637524</td>\n      <td>2.064408</td>\n      <td>10.254461</td>\n      <td>7.016381</td>\n      <td>[1, 2, 3]</td>\n      <td>False</td>\n      <td></td>\n    </tr>\n  </tbody>\n</table>\n</div>"
     },
     "execution_count": 15,
     "metadata": {},
     "output_type": "execute_result"
    }
   ],
   "source": [
    "# take a couple of steps and examine the results\n",
    "for _ in range(10):\n",
    "    X.step()\n",
    "X.data"
   ]
  },
  {
   "cell_type": "markdown",
   "metadata": {
    "pycharm": {
     "name": "#%% md\n"
    }
   },
   "source": [
    "# Plotting\n",
    "Plot the objective results"
   ]
  },
  {
   "cell_type": "code",
   "execution_count": 16,
   "metadata": {
    "pycharm": {
     "name": "#%%\n"
    }
   },
   "outputs": [
    {
     "data": {
      "text/plain": "<AxesSubplot:xlabel='y1', ylabel='y2'>"
     },
     "execution_count": 16,
     "metadata": {},
     "output_type": "execute_result"
    },
    {
     "data": {
      "text/plain": "<Figure size 432x288 with 1 Axes>",
      "image/png": "[encoded data removed]"
     },
     "metadata": {
      "needs_background": "light"
     },
     "output_type": "display_data"
    }
   ],
   "source": [
    "import matplotlib.pyplot as plt\n",
    "X.data.plot(*X.vocs.objective_names, kind='scatter')"
   ]
  },
  {
   "cell_type": "code",
   "execution_count": 17,
   "metadata": {
    "pycharm": {
     "name": "#%%\n"
    }
   },
   "outputs": [
    {
     "name": "stderr",
     "output_type": "stream",
     "text": [
      "'rm' is not recognized as an internal or external command,\n",
      "operable program or batch file.\n"
     ]
    }
   ],
   "source": [
    "# Cleanup\n",
    "!rm -r temp"
   ]
  }
 ],
 "metadata": {
  "kernelspec": {
   "name": "xopt",
   "language": "python",
   "display_name": "xopt"
  },
  "language_info": {
   "codemirror_mode": {
    "name": "ipython",
    "version": 3
   },
   "file_extension": ".py",
   "mimetype": "text/x-python",
   "name": "python",
   "nbconvert_exporter": "python",
   "pygments_lexer": "ipython3",
   "version": "3.9.7"
  }
 },
 "nbformat": 4,
 "nbformat_minor": 4
}