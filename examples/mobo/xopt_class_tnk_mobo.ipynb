{
 "cells": [
  {
   "cell_type": "code",
   "execution_count": 1,
   "metadata": {},
   "outputs": [],
   "source": [
    "# Useful for debugging\n",
    "%load_ext autoreload\n",
    "%autoreload 2"
   ]
  },
  {
   "cell_type": "markdown",
   "metadata": {},
   "source": [
    "# Xopt class, TNK test function\n",
    "\n",
    "This is the class method for running Xopt.\n",
    "\n",
    "TNK function\n",
    "$n=2$ variables:\n",
    "$x_i \\in [0, \\pi], i=1,2$\n",
    "\n",
    "Objectives:\n",
    "- $f_i(x) = x_i$\n",
    "\n",
    "Constraints:\n",
    "- $g_1(x) = -x_1^2 -x_2^2 + 1 + 0.1 \\cos\\left(16 \\arctan \\frac{x_1}{x_2}\\right) \\le 0$\n",
    "- $g_2(x) = (x_1 - 1/2)^2 + (x_2-1/2)^2 \\le 0.5$"
   ]
  },
  {
   "cell_type": "code",
   "execution_count": 2,
   "metadata": {},
   "outputs": [],
   "source": [
    "# Import the class\n",
    "from xopt import Xopt\n",
    "import matplotlib.pyplot as plt\n",
    "from botorch.utils.multi_objective.pareto import is_non_dominated\n"
   ]
  },
  {
   "cell_type": "markdown",
   "metadata": {},
   "source": [
    "The `Xopt` object can be instantiated from a JSON or YAML file, or a dict, with the proper structure.\n",
    "\n",
    "Here we will make one"
   ]
  },
  {
   "cell_type": "code",
   "execution_count": 3,
   "metadata": {},
   "outputs": [],
   "source": [
    "import yaml\n",
    "# Make a proper input file. \n",
    "YAML=\"\"\"\n",
    "xopt: {output_path: null, verbose: true}\n",
    "\n",
    "algorithm:\n",
    "  name: mobo\n",
    "  options: {ref: [1.4, 1.4],\n",
    "            n_initial_samples: 5,\n",
    "            use_gpu: False,\n",
    "            n_steps: 20, \n",
    "            verbose: True}\n",
    "  \n",
    "simulation: \n",
    "  name: test_TNK\n",
    "  evaluate: xopt.evaluators.test_TNK.evaluate_TNK  \n",
    "  \n",
    "vocs:\n",
    "  name: TNK_test\n",
    "  description: null\n",
    "  simulation: test_TNK\n",
    "  templates: null\n",
    "  variables:\n",
    "    x1: [0, 3.14159]\n",
    "    x2: [0, 3.14159]\n",
    "  objectives: {y1: MINIMIZE, y2: MINIMIZE}\n",
    "  constraints:\n",
    "    c1: [GREATER_THAN, 0]\n",
    "    c2: ['LESS_THAN', 0.5]\n",
    "  linked_variables: {x9: x1}\n",
    "  constants: {a: dummy_constant}\n",
    "\n",
    "\"\"\"\n",
    "config = yaml.safe_load(YAML)"
   ]
  },
  {
   "cell_type": "code",
   "execution_count": 4,
   "metadata": {},
   "outputs": [
    {
     "name": "stdout",
     "output_type": "stream",
     "text": [
      "Loading config as dict.\n",
      "Warning: No path set for key xopt : output_path\n"
     ]
    },
    {
     "data": {
      "text/plain": [
       "\n",
       "            Xopt \n",
       "________________________________           \n",
       "Version: 0.4.3\n",
       "Configured: True\n",
       "Config as YAML:\n",
       "xopt: {output_path: null, verbose: true}\n",
       "algorithm:\n",
       "  name: mobo\n",
       "  function: xopt.bayesian.algorithms.mobo\n",
       "  options:\n",
       "    ref: [1.4, 1.4]\n",
       "    n_initial_samples: 5\n",
       "    use_gpu: false\n",
       "    n_steps: 20\n",
       "    verbose: true\n",
       "simulation:\n",
       "  name: test_TNK\n",
       "  evaluate: xopt.evaluators.test_TNK.evaluate_TNK\n",
       "  options: {extra_option: abc}\n",
       "vocs:\n",
       "  name: TNK_test\n",
       "  description: null\n",
       "  simulation: test_TNK\n",
       "  templates: null\n",
       "  variables:\n",
       "    x1: [0, 3.14159]\n",
       "    x2: [0, 3.14159]\n",
       "  objectives: {y1: MINIMIZE, y2: MINIMIZE}\n",
       "  constraints:\n",
       "    c1: [GREATER_THAN, 0]\n",
       "    c2: [LESS_THAN, 0.5]\n",
       "  linked_variables: {x9: x1}\n",
       "  constants: {a: dummy_constant}"
      ]
     },
     "execution_count": 4,
     "metadata": {},
     "output_type": "execute_result"
    }
   ],
   "source": [
    "# Optional: Connect the function directly\n",
    "#from xopt.evaluators.test_TNK import evaluate_TNK \n",
    "#config['simulation']['evaluate'] = evaluate_TNK \n",
    "\n",
    "X = Xopt(config)\n",
    "X"
   ]
  },
  {
   "cell_type": "markdown",
   "metadata": {},
   "source": [
    "# Run MOBO\n",
    "\n",
    "MOBO is designed to run in serial or parallel"
   ]
  },
  {
   "cell_type": "code",
   "execution_count": 5,
   "metadata": {},
   "outputs": [],
   "source": [
    "# Pick one of these\n",
    "from concurrent.futures import ThreadPoolExecutor as PoolExecutor\n",
    "#from concurrent.futures import ProcessPoolExecutor as PoolExecutor\n",
    "\n",
    "#executor = PoolExecutor()\n",
    "# This will also work. \n",
    "executor=None"
   ]
  },
  {
   "cell_type": "code",
   "execution_count": 6,
   "metadata": {},
   "outputs": [
    {
     "name": "stdout",
     "output_type": "stream",
     "text": [
      "Starting at time 2021-08-10T10:45:00-05:00\n",
      "Candidate(s): tensor([[0.2261, 0.0000]], dtype=torch.float64)\n",
      "Candidate(s): tensor([[0.0000, 0.5280]], dtype=torch.float64)\n",
      "Candidate(s): tensor([[0.1857, 0.9011]], dtype=torch.float64)\n",
      "Candidate(s): tensor([[0.1955, 0.9838]], dtype=torch.float64)\n",
      "Candidate(s): tensor([[1.0008e+00, 1.5517e-04]], dtype=torch.float64)\n",
      "Candidate(s): tensor([[1.0311, 0.0738]], dtype=torch.float64)\n",
      "Candidate(s): tensor([[0.8113, 0.5734]], dtype=torch.float64)\n",
      "Candidate(s): tensor([[0.0522, 0.9785]], dtype=torch.float64)\n",
      "Candidate(s): tensor([[0.0798, 1.0389]], dtype=torch.float64)\n",
      "Candidate(s): tensor([[0.3126, 0.8978]], dtype=torch.float64)\n",
      "Candidate(s): tensor([[0.6049, 0.8115]], dtype=torch.float64)\n",
      "Candidate(s): tensor([[0.9277, 0.3641]], dtype=torch.float64)\n",
      "Candidate(s): tensor([[1.0271, 0.0396]], dtype=torch.float64)\n",
      "Candidate(s): tensor([[1.0320, 0.0437]], dtype=torch.float64)\n",
      "Candidate(s): tensor([[0.6225, 0.0000]], dtype=torch.float64)\n",
      "Candidate(s): tensor([[0.1830, 0.9376]], dtype=torch.float64)\n",
      "Candidate(s): tensor([[0.6926, 0.6776]], dtype=torch.float64)\n",
      "Candidate(s): tensor([[0.9438, 0.3892]], dtype=torch.float64)\n",
      "Candidate(s): tensor([[1.0326, 0.0437]], dtype=torch.float64)\n",
      "Candidate(s): tensor([[0.9489, 0.4052]], dtype=torch.float64)\n"
     ]
    }
   ],
   "source": [
    "# Change max generations\n",
    "X.run(executor=executor)"
   ]
  },
  {
   "cell_type": "markdown",
   "metadata": {},
   "source": [
    "# Plot"
   ]
  },
  {
   "cell_type": "code",
   "execution_count": 7,
   "metadata": {},
   "outputs": [
    {
     "data": {
      "image/png": "[encoded data removed]",
      "text/plain": [
       "<Figure size 432x288 with 1 Axes>"
      ]
     },
     "metadata": {
      "needs_background": "light"
     },
     "output_type": "display_data"
    }
   ],
   "source": [
    "fig, ax = plt.subplots()\n",
    "\n",
    "# get results and get valid observations\n",
    "results = X.results\n",
    "train_y = results['objectives']\n",
    "valid_y = train_y[results['feasibility'].flatten()]\n",
    "\n",
    "# plot results\n",
    "ax.plot(train_y[:, 0], train_y[:, 1], '.')\n",
    "ax.set_ylabel('$f_2$')\n",
    "ax.set_xlabel('$f_1$')\n",
    "\n",
    "# highlight Pareto front, ONLY using valid observations (note botorch assumes maximization when determing dominant points)\n",
    "non_dom = is_non_dominated(-valid_y)\n",
    "ax.plot(valid_y[:,0][non_dom],valid_y[:,1][non_dom],'C1o')\n",
    "\n",
    "plt.show()"
   ]
  },
  {
   "cell_type": "code",
   "execution_count": null,
   "metadata": {},
   "outputs": [],
   "source": []
  }
 ],
 "metadata": {
  "kernelspec": {
   "display_name": "xopt",
   "language": "python",
   "name": "xopt"
  },
  "language_info": {
   "codemirror_mode": {
    "name": "ipython",
    "version": 3
   },
   "file_extension": ".py",
   "mimetype": "text/x-python",
   "name": "python",
   "nbconvert_exporter": "python",
   "pygments_lexer": "ipython3",
   "version": "3.9.6"
  }
 },
 "nbformat": 4,
 "nbformat_minor": 4
}
