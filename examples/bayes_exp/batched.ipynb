{
 "cells": [
  {
   "cell_type": "code",
   "execution_count": 1,
   "id": "4a9be9bf-b3c5-468d-84f6-c7b8cf25806e",
   "metadata": {},
   "outputs": [],
   "source": [
    "# main function\n",
    "import numpy as np\n",
    "import torch\n",
    "import matplotlib.pyplot as plt\n",
    "\n",
    "from xopt.bayesian_exploration import bayesian_exploration\n",
    "\n",
    "# test function\n",
    "from xopt.evaluators import test_TNK\n",
    "from concurrent.futures import ThreadPoolExecutor as PoolExecutor\n"
   ]
  },
  {
   "cell_type": "code",
   "execution_count": 2,
   "id": "d738f30f-6946-444f-a432-f29ce4eb5ee3",
   "metadata": {},
   "outputs": [
    {
     "name": "stdout",
     "output_type": "stream",
     "text": [
      "{'name': 'TNK_test', 'description': 'Constrainted test function TNK. See Table V in https://www.iitk.ac.in/kangal/Deb_NSGA-II.pdf', 'simulation': 'test_TNK', 'variables': {'x1': [0, 3.14159], 'x2': [0, 3.14159]}, 'objectives': {'y1': None}, 'constraints': {'c1': ['GREATER_THAN', 0], 'c2': ['LESS_THAN', 0.5]}, 'constants': {'a': 'dummy_constant'}, 'linked_variables': {'x9': 'x1'}}\n",
      "tensor([[0.0000, 1.0659],\n",
      "        [1.1190, 0.7238],\n",
      "        [0.6571, 0.0000],\n",
      "        [0.0000, 1.7109],\n",
      "        [0.1859, 0.4712]], dtype=torch.float64)\n",
      "tensor([[1.4522, 0.0000],\n",
      "        [0.8847, 0.8201],\n",
      "        [2.1245, 0.0000],\n",
      "        [1.1597, 0.1787],\n",
      "        [1.7701, 0.0000]], dtype=torch.float64)\n",
      "tensor([[0.3523, 1.0868],\n",
      "        [0.9172, 1.0255],\n",
      "        [0.7714, 0.7724],\n",
      "        [1.0373, 0.0971],\n",
      "        [1.1356, 0.7620]], dtype=torch.float64)\n",
      "tensor([[0.2510, 1.1249],\n",
      "        [0.9366, 0.4453],\n",
      "        [0.5632, 0.9095],\n",
      "        [1.1814, 0.5898],\n",
      "        [0.8000, 1.1221]], dtype=torch.float64)\n",
      "tensor([[0.1198, 1.0745],\n",
      "        [1.0638, 0.0974],\n",
      "        [0.9811, 1.0011],\n",
      "        [0.4524, 1.1908],\n",
      "        [1.1877, 0.5666]], dtype=torch.float64)\n",
      "tensor([[0.6176, 0.8596],\n",
      "        [1.0511, 0.0783],\n",
      "        [0.0682, 1.0391],\n",
      "        [0.7604, 1.1464],\n",
      "        [0.3726, 1.1815]], dtype=torch.float64)\n"
     ]
    }
   ],
   "source": [
    "# Get VOCS\n",
    "VOCS = test_TNK.VOCS\n",
    "VOCS['objectives'] = {'y1' : None}\n",
    "\n",
    "print(VOCS)\n",
    "# Get evaluate function\n",
    "EVALUATE = test_TNK.evaluate_TNK\n",
    "\n",
    "# Run\n",
    "executor = PoolExecutor()\n",
    "\n",
    "# Run\n",
    "init_x = torch.tensor([[0.9, 0.9], [0.6, 0.6]])\n",
    "results = bayesian_exploration(VOCS, EVALUATE, executor = executor,\n",
    "                                 batch_size = 5,\n",
    "                                 n_initial_samples=5,\n",
    "                                 initial_x=None,\n",
    "                                 use_gpu=False,\n",
    "                                 n_steps=6, verbose=True)"
   ]
  },
  {
   "cell_type": "code",
   "execution_count": 3,
   "id": "7d7b9312-17fe-438c-8120-c0fc458b6a3c",
   "metadata": {},
   "outputs": [
    {
     "data": {
      "image/png": "[encoded data removed]",
      "text/plain": [
       "<Figure size 432x288 with 1 Axes>"
      ]
     },
     "metadata": {
      "needs_background": "light"
     },
     "output_type": "display_data"
    }
   ],
   "source": [
    "fig, ax = plt.subplots()\n",
    "ax.plot(results['inputs'][:, 0], results['inputs'][:, 1], '.')\n",
    "\n",
    "plt.show()"
   ]
  },
  {
   "cell_type": "code",
   "execution_count": null,
   "id": "e9540a37-a0e8-4eff-a5ff-f11c9e68b06c",
   "metadata": {},
   "outputs": [],
   "source": []
  }
 ],
 "metadata": {
  "kernelspec": {
   "display_name": "xopt",
   "language": "python",
   "name": "xopt"
  },
  "language_info": {
   "codemirror_mode": {
    "name": "ipython",
    "version": 3
   },
   "file_extension": ".py",
   "mimetype": "text/x-python",
   "name": "python",
   "nbconvert_exporter": "python",
   "pygments_lexer": "ipython3",
   "version": "3.9.6"
  }
 },
 "nbformat": 4,
 "nbformat_minor": 5
}
