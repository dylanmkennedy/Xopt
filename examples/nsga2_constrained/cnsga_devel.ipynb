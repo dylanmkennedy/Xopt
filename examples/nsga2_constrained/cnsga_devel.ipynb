{
 "cells": [
  {
   "cell_type": "code",
   "execution_count": null,
   "metadata": {},
   "outputs": [],
   "source": [
    "# Useful for debugging\n",
    "#%load_ext autoreload\n",
    "#%autoreload 2\n",
    "#%matplotlib inline"
   ]
  },
  {
   "cell_type": "code",
   "execution_count": 2,
   "metadata": {},
   "outputs": [],
   "source": [
    "from xopt import nsga2, creator\n",
    "from xopt.cnsga import cnsga_toolbox\n",
    "\n",
    "import array\n",
    "import time\n",
    "from deap import base, tools,  algorithms\n",
    "from deap.benchmarks.tools import diversity, convergence, hypervolume\n",
    "import numpy as np\n",
    "\n",
    "import random"
   ]
  },
  {
   "cell_type": "markdown",
   "metadata": {},
   "source": [
    "# Test Problems"
   ]
  },
  {
   "cell_type": "code",
   "execution_count": 3,
   "metadata": {},
   "outputs": [],
   "source": [
    "NAME = 'TNK'\n",
    "BOUND_LOW, BOUND_UP = [0.0, 0.0], [3.14159, 3.14159]  \n",
    "\n",
    "\n",
    "X_RANGE = [0, 1.4]\n",
    "Y_RANGE = [0, 1.4]\n",
    "\n",
    "# Pure number version\n",
    "def TNK(individual):    \n",
    "    x1=individual[0]\n",
    "    x2=individual[1]\n",
    "    objectives =  (x1, x2)\n",
    "    constraints = (x1**2+x2**2-1.0 - 0.1*np.cos(16*np.arctan2(x1, x2)), 0.5-(x1-0.5)**2-(x2-0.5)**2 )\n",
    "    return objectives, constraints\n",
    "\n",
    "# labeled version\n",
    "def evaluate_TNK(inputs):\n",
    "    \n",
    "    info = {'some':'info', 'about':['the', 'run']}\n",
    "    ind = [inputs['x1'], inputs['x2']]\n",
    "    objectives, constraints = TNK(ind)    \n",
    "    outputs = {'y1':objectives[0], 'y2':objectives[1], 'c1':constraints[0], 'c2':constraints[1]}\n",
    "    \n",
    "    return outputs\n",
    "\n",
    "VOCS = {\n",
    "    'name':'TNK_test',\n",
    "    \n",
    "    'variables': {\n",
    "        'x1':[0, 3.14159],\n",
    "        'x2':[0, 3.14159]\n",
    "    },\n",
    "    'objectives':{\n",
    "        'y1':'MINIMIZE',\n",
    "        'y2':'MINIMIZE'\n",
    "        \n",
    "    },\n",
    "    'constraints':{\n",
    "        'c1': ['GREATER_THAN', 0],\n",
    "        'c2': ['GREATER_THAN', 0]\n",
    "        \n",
    "    },\n",
    "    'constants':{'a':'dummy_constant'},\n",
    "    'linked_variables':{'x9':'x1'}\n",
    "    \n",
    "    \n",
    "}\n",
    "\n",
    "\n",
    "\n"
   ]
  },
  {
   "cell_type": "markdown",
   "metadata": {},
   "source": [
    "# Setup Toolbox"
   ]
  },
  {
   "cell_type": "code",
   "execution_count": 4,
   "metadata": {},
   "outputs": [],
   "source": [
    "toolbox = cnsga_toolbox(VOCS)"
   ]
  },
  {
   "cell_type": "code",
   "execution_count": 5,
   "metadata": {},
   "outputs": [],
   "source": [
    "# Register test proglem as toolbox.evaluate\n",
    "toolbox.register('evaluate', TNK)"
   ]
  },
  {
   "cell_type": "markdown",
   "metadata": {},
   "source": [
    "# Test"
   ]
  },
  {
   "cell_type": "code",
   "execution_count": 6,
   "metadata": {},
   "outputs": [
    {
     "data": {
      "text/plain": [
       "[Individual('d', [2.0306380637585226, 0.3942967723826019]),\n",
       " Individual('d', [2.6492010150071414, 2.278103335369328]),\n",
       " Individual('d', [3.082319634002765, 2.2961530173032525]),\n",
       " Individual('d', [0.26991981000443266, 1.4426360118562362]),\n",
       " Individual('d', [0.00930667040500935, 2.4030931450939037]),\n",
       " Individual('d', [2.854989288009313, 3.0024731133578695]),\n",
       " Individual('d', [3.056885865127728, 2.743146350742753]),\n",
       " Individual('d', [1.7135559881076985, 1.0122144600210479]),\n",
       " Individual('d', [0.3057407089849712, 0.512632249250411]),\n",
       " Individual('d', [3.1166631103488114, 1.4035701989583504])]"
      ]
     },
     "execution_count": 6,
     "metadata": {},
     "output_type": "execute_result"
    }
   ],
   "source": [
    "toolbox.population(n=10)"
   ]
  },
  {
   "cell_type": "code",
   "execution_count": 7,
   "metadata": {},
   "outputs": [
    {
     "data": {
      "text/plain": [
       "Individual('d', [1.0, 2.0, 3.0])"
      ]
     },
     "execution_count": 7,
     "metadata": {},
     "output_type": "execute_result"
    }
   ],
   "source": [
    "creator.Individual([1,2,3])"
   ]
  },
  {
   "cell_type": "code",
   "execution_count": 13,
   "metadata": {},
   "outputs": [
    {
     "data": {
      "text/plain": [
       "((1.0, 2.0), (3.957802752, -2.0))"
      ]
     },
     "execution_count": 13,
     "metadata": {},
     "output_type": "execute_result"
    }
   ],
   "source": [
    "toolbox.evaluate(\n",
    "    creator.Individual([1,2,3])\n",
    ")"
   ]
  },
  {
   "cell_type": "markdown",
   "metadata": {},
   "source": [
    "# Parallel method"
   ]
  },
  {
   "cell_type": "code",
   "execution_count": null,
   "metadata": {},
   "outputs": [],
   "source": [
    "#from concurrent.futures import ProcessPoolExecutor as PoolExecutor\n",
    "#from concurrent.futures import ThreadPoolExecutor as PoolExecutor"
   ]
  },
  {
   "cell_type": "markdown",
   "metadata": {},
   "source": [
    "# Continuous NSGA-II, -III Loop"
   ]
  },
  {
   "cell_type": "code",
   "execution_count": 22,
   "metadata": {},
   "outputs": [],
   "source": [
    "def cnsga(executor,\n",
    "          toolbox=None,\n",
    "          seed=None,\n",
    "          evaluate_f=None,\n",
    "          max_generations = 2,\n",
    "          population_size = 4,\n",
    "          crossover_probability = 0.9,\n",
    "          mutation_probability = 1.0,\n",
    "         \n",
    "         ):\n",
    "    \"\"\"\n",
    "    \n",
    "    Continuous NSGA-II, NSGA-III\n",
    "    \n",
    "    Futures method, uses an executor as described in:\n",
    "    https://www.python.org/dev/peps/pep-3148/\n",
    "    \n",
    "    Works with executors instantiated from:\n",
    "       concurrent.futures.ProcessPoolExecutor\n",
    "       concurrent.futures.ThreadPoolExecutor\n",
    "       mpi4py.futures.MPIPoolExecutor\n",
    "       dask.distributed.Client\n",
    "       \n",
    "    \n",
    "    \n",
    "    \"\"\"\n",
    "    random.seed(seed)\n",
    "    MU = population_size\n",
    "    CXPB = crossover_probability\n",
    "    MUTPB = mutation_probability\n",
    "    \n",
    "    assert MU % 4 == 0, f'Population size (here {MU}) must be a multiple of 4'\n",
    "    # Initial population\n",
    "    pop = toolbox.population(n=MU)\n",
    "\n",
    "    \n",
    "    # Wrap evaluate to return the input and output\n",
    "    #def evaluate(vec):\n",
    "        #sleep_time = random.random() *2\n",
    "        #time.sleep(sleep_time)\n",
    "    #    fit = evaluate_f(vec)\n",
    "    #    return vec, fit\n",
    "    # FIXME\n",
    "    #evaluate = EVALUATE\n",
    "    #evaluate = evaluate_f\n",
    "    evaluate = toolbox.evaluate\n",
    "    \n",
    "    # function to reform individual\n",
    "    def form_ind(vec, fit):\n",
    "        print('vec: ', vec, 'fit', fit)\n",
    "        ind = creator.Individual(vec)\n",
    "        ind.fitness.values = fit[0]\n",
    "        ind.fitness.cvalues = fit[1]\n",
    "        return ind\n",
    "\n",
    "    # Only allow vectors to be sent to evaluate\n",
    "    def get_vec(ind):\n",
    "        return array.array('d', [float(x) for x in ind])\n",
    "    def get_vecs(inds):\n",
    "        return [get_vec(ind) for ind in inds]\n",
    "    \n",
    "    # Individuals that need evaluating\n",
    "    vecs = [get_vec(ind) for ind in pop if not ind.fitness.valid]\n",
    "    \n",
    "    futures = [executor.submit(evaluate, vec) for vec in vecs] \n",
    "    \n",
    "    # Clear pop\n",
    "    pop = []\n",
    "    for future in futures:\n",
    "        vec, fit = future.result()\n",
    "        ind = form_ind(vec, fit)\n",
    "        pop.append(ind)\n",
    "    \n",
    "    # This is just to assign the crowding distance to the individuals\n",
    "    # no actual selection is done\n",
    "    pop = toolbox.select(pop, len(pop))\n",
    "    \n",
    "    # Make inital offspring to start the iteration\n",
    "    vecs0 = get_vecs(algorithms.varAnd(pop, toolbox, CXPB, MUTPB) )\n",
    "\n",
    "    # Submit evaluation of initial population\n",
    "    futures = [executor.submit(evaluate, vec) for vec in vecs0] \n",
    "    \n",
    "    generation = 0\n",
    "    new_vecs = get_vecs(algorithms.varAnd(pop, toolbox, CXPB, MUTPB))\n",
    "    new_offspring = []\n",
    "       \n",
    "    # Continuous loop\n",
    "    done = False\n",
    "    while not done:\n",
    "        # Check the status of all futures\n",
    "        for ix in range(len(futures)):\n",
    "         \n",
    "            # Examine a future\n",
    "            fut = futures[ix]\n",
    "    \n",
    "            if fut.done():\n",
    "                vec, fit = fut.result()\n",
    "                ind = form_ind(vec, fit)\n",
    "                new_offspring.append(ind)   \n",
    "                \n",
    "                # Refill inputs\n",
    "                if len(new_vecs) == 0:\n",
    "                    pop = toolbox.select(pop + new_offspring, MU)\n",
    "                    new_offspring = []\n",
    "                    # New offspring\n",
    "                    new_vecs = get_vecs(algorithms.varAnd(pop, toolbox, CXPB, MUTPB))                    \n",
    "                    \n",
    "                    print(f'Generation {generation} completed')\n",
    "                    generation += 1\n",
    "                    if generation == max_generations:\n",
    "                        done = True\n",
    "                            \n",
    "                # Add new job for worker\n",
    "                vec = new_vecs.pop()\n",
    "                future = executor.submit(evaluate, vec)\n",
    "                futures[ix] = future        \n",
    "        \n",
    "        # Slow down polling. Needed for MPI to work well. \n",
    "        time.sleep(0.001)\n",
    "    \n",
    "    # Cancel remaining jobs\n",
    "    for future in futures:\n",
    "        future.cancel()\n",
    "            \n",
    "    return pop\n",
    "\n",
    "\n",
    "#with PoolExecutor() as executor:\n",
    "#    pop = cnsga(executor, evaluate_f=F)\n",
    "\n",
    "\n",
    "\n",
    "\n"
   ]
  },
  {
   "cell_type": "markdown",
   "metadata": {},
   "source": [
    "# Parallel method"
   ]
  },
  {
   "cell_type": "code",
   "execution_count": 19,
   "metadata": {},
   "outputs": [
    {
     "data": {
      "text/html": [
       "<table style=\"border: 2px solid white;\">\n",
       "<tr>\n",
       "<td style=\"vertical-align: top; border: 0px solid white\">\n",
       "<h3 style=\"text-align: left;\">Client</h3>\n",
       "<ul style=\"text-align: left; list-style: none; margin: 0; padding: 0;\">\n",
       "  <li><b>Scheduler: </b>tcp://127.0.0.1:51109</li>\n",
       "  <li><b>Dashboard: </b><a href='http://127.0.0.1:51110/status' target='_blank'>http://127.0.0.1:51110/status</a>\n",
       "</ul>\n",
       "</td>\n",
       "<td style=\"vertical-align: top; border: 0px solid white\">\n",
       "<h3 style=\"text-align: left;\">Cluster</h3>\n",
       "<ul style=\"text-align: left; list-style:none; margin: 0; padding: 0;\">\n",
       "  <li><b>Workers: </b>4</li>\n",
       "  <li><b>Cores: </b>8</li>\n",
       "  <li><b>Memory: </b>17.18 GB</li>\n",
       "</ul>\n",
       "</td>\n",
       "</tr>\n",
       "</table>"
      ],
      "text/plain": [
       "<Client: 'tcp://127.0.0.1:51109' processes=4 threads=8, memory=17.18 GB>"
      ]
     },
     "execution_count": 19,
     "metadata": {},
     "output_type": "execute_result"
    }
   ],
   "source": [
    "# Dask distributed\n",
    "\n",
    "from dask.distributed import Client\n",
    "client = Client()\n",
    "client"
   ]
  },
  {
   "cell_type": "code",
   "execution_count": 23,
   "metadata": {},
   "outputs": [
    {
     "name": "stdout",
     "output_type": "stream",
     "text": [
      "vec:  (0.5162240691529653, 0.6500145333500754) fit (-0.2856020399750927, 0.4772324193638789)\n"
     ]
    },
    {
     "ename": "TypeError",
     "evalue": "Both weights and assigned values must be a sequence of numbers when assigning to values of <class 'xopt.creator.MyFitness'>. Currently assigning value(s) -0.2856020399750927 of <class 'numpy.float64'> to a fitness with weights [-1.0, -1.0].",
     "output_type": "error",
     "traceback": [
      "\u001b[0;31m---------------------------------------------------------------------------\u001b[0m",
      "\u001b[0;31mTypeError\u001b[0m                                 Traceback (most recent call last)",
      "\u001b[0;32m~/Code/GitHub/xopt/xopt/fitness_with_constraints.py\u001b[0m in \u001b[0;36msetValues\u001b[0;34m(self, values)\u001b[0m\n\u001b[1;32m    173\u001b[0m         \u001b[0;32mtry\u001b[0m\u001b[0;34m:\u001b[0m\u001b[0;34m\u001b[0m\u001b[0;34m\u001b[0m\u001b[0m\n\u001b[0;32m--> 174\u001b[0;31m             \u001b[0mself\u001b[0m\u001b[0;34m.\u001b[0m\u001b[0mwvalues\u001b[0m \u001b[0;34m=\u001b[0m \u001b[0mtuple\u001b[0m\u001b[0;34m(\u001b[0m\u001b[0mmap\u001b[0m\u001b[0;34m(\u001b[0m\u001b[0mmul\u001b[0m\u001b[0;34m,\u001b[0m \u001b[0mvalues\u001b[0m\u001b[0;34m,\u001b[0m \u001b[0mself\u001b[0m\u001b[0;34m.\u001b[0m\u001b[0mweights\u001b[0m\u001b[0;34m)\u001b[0m\u001b[0;34m)\u001b[0m\u001b[0;34m\u001b[0m\u001b[0;34m\u001b[0m\u001b[0m\n\u001b[0m\u001b[1;32m    175\u001b[0m         \u001b[0;32mexcept\u001b[0m \u001b[0mTypeError\u001b[0m\u001b[0;34m:\u001b[0m\u001b[0;34m\u001b[0m\u001b[0;34m\u001b[0m\u001b[0m\n",
      "\u001b[0;31mTypeError\u001b[0m: 'numpy.float64' object is not iterable",
      "\nDuring handling of the above exception, another exception occurred:\n",
      "\u001b[0;31mTypeError\u001b[0m                                 Traceback (most recent call last)",
      "\u001b[0;32m<ipython-input-23-949e0b8502eb>\u001b[0m in \u001b[0;36m<module>\u001b[0;34m\u001b[0m\n\u001b[1;32m      1\u001b[0m \u001b[0;31m#toolbox.register('evaluate', EVALUATE)\u001b[0m\u001b[0;34m\u001b[0m\u001b[0;34m\u001b[0m\u001b[0;34m\u001b[0m\u001b[0m\n\u001b[0;32m----> 2\u001b[0;31m \u001b[0mpop\u001b[0m \u001b[0;34m=\u001b[0m \u001b[0mcnsga\u001b[0m\u001b[0;34m(\u001b[0m\u001b[0mclient\u001b[0m\u001b[0;34m,\u001b[0m \u001b[0mtoolbox\u001b[0m\u001b[0;34m=\u001b[0m\u001b[0mtoolbox\u001b[0m\u001b[0;34m,\u001b[0m \u001b[0mmax_generations\u001b[0m \u001b[0;34m=\u001b[0m \u001b[0;36m40\u001b[0m\u001b[0;34m,\u001b[0m \u001b[0mpopulation_size\u001b[0m\u001b[0;34m=\u001b[0m\u001b[0;36m64\u001b[0m\u001b[0;34m)\u001b[0m\u001b[0;34m\u001b[0m\u001b[0;34m\u001b[0m\u001b[0m\n\u001b[0m",
      "\u001b[0;32m<ipython-input-22-d354e12c998b>\u001b[0m in \u001b[0;36mcnsga\u001b[0;34m(executor, toolbox, seed, evaluate_f, max_generations, population_size, crossover_probability, mutation_probability)\u001b[0m\n\u001b[1;32m     69\u001b[0m     \u001b[0;32mfor\u001b[0m \u001b[0mfuture\u001b[0m \u001b[0;32min\u001b[0m \u001b[0mfutures\u001b[0m\u001b[0;34m:\u001b[0m\u001b[0;34m\u001b[0m\u001b[0;34m\u001b[0m\u001b[0m\n\u001b[1;32m     70\u001b[0m         \u001b[0mvec\u001b[0m\u001b[0;34m,\u001b[0m \u001b[0mfit\u001b[0m \u001b[0;34m=\u001b[0m \u001b[0mfuture\u001b[0m\u001b[0;34m.\u001b[0m\u001b[0mresult\u001b[0m\u001b[0;34m(\u001b[0m\u001b[0;34m)\u001b[0m\u001b[0;34m\u001b[0m\u001b[0;34m\u001b[0m\u001b[0m\n\u001b[0;32m---> 71\u001b[0;31m         \u001b[0mind\u001b[0m \u001b[0;34m=\u001b[0m \u001b[0mform_ind\u001b[0m\u001b[0;34m(\u001b[0m\u001b[0mvec\u001b[0m\u001b[0;34m,\u001b[0m \u001b[0mfit\u001b[0m\u001b[0;34m)\u001b[0m\u001b[0;34m\u001b[0m\u001b[0;34m\u001b[0m\u001b[0m\n\u001b[0m\u001b[1;32m     72\u001b[0m         \u001b[0mpop\u001b[0m\u001b[0;34m.\u001b[0m\u001b[0mappend\u001b[0m\u001b[0;34m(\u001b[0m\u001b[0mind\u001b[0m\u001b[0;34m)\u001b[0m\u001b[0;34m\u001b[0m\u001b[0;34m\u001b[0m\u001b[0m\n\u001b[1;32m     73\u001b[0m \u001b[0;34m\u001b[0m\u001b[0m\n",
      "\u001b[0;32m<ipython-input-22-d354e12c998b>\u001b[0m in \u001b[0;36mform_ind\u001b[0;34m(vec, fit)\u001b[0m\n\u001b[1;32m     50\u001b[0m         \u001b[0mprint\u001b[0m\u001b[0;34m(\u001b[0m\u001b[0;34m'vec: '\u001b[0m\u001b[0;34m,\u001b[0m \u001b[0mvec\u001b[0m\u001b[0;34m,\u001b[0m \u001b[0;34m'fit'\u001b[0m\u001b[0;34m,\u001b[0m \u001b[0mfit\u001b[0m\u001b[0;34m)\u001b[0m\u001b[0;34m\u001b[0m\u001b[0;34m\u001b[0m\u001b[0m\n\u001b[1;32m     51\u001b[0m         \u001b[0mind\u001b[0m \u001b[0;34m=\u001b[0m \u001b[0mcreator\u001b[0m\u001b[0;34m.\u001b[0m\u001b[0mIndividual\u001b[0m\u001b[0;34m(\u001b[0m\u001b[0mvec\u001b[0m\u001b[0;34m)\u001b[0m\u001b[0;34m\u001b[0m\u001b[0;34m\u001b[0m\u001b[0m\n\u001b[0;32m---> 52\u001b[0;31m         \u001b[0mind\u001b[0m\u001b[0;34m.\u001b[0m\u001b[0mfitness\u001b[0m\u001b[0;34m.\u001b[0m\u001b[0mvalues\u001b[0m \u001b[0;34m=\u001b[0m \u001b[0mfit\u001b[0m\u001b[0;34m[\u001b[0m\u001b[0;36m0\u001b[0m\u001b[0;34m]\u001b[0m\u001b[0;34m\u001b[0m\u001b[0;34m\u001b[0m\u001b[0m\n\u001b[0m\u001b[1;32m     53\u001b[0m         \u001b[0mind\u001b[0m\u001b[0;34m.\u001b[0m\u001b[0mfitness\u001b[0m\u001b[0;34m.\u001b[0m\u001b[0mcvalues\u001b[0m \u001b[0;34m=\u001b[0m \u001b[0mfit\u001b[0m\u001b[0;34m[\u001b[0m\u001b[0;36m1\u001b[0m\u001b[0;34m]\u001b[0m\u001b[0;34m\u001b[0m\u001b[0;34m\u001b[0m\u001b[0m\n\u001b[1;32m     54\u001b[0m         \u001b[0;32mreturn\u001b[0m \u001b[0mind\u001b[0m\u001b[0;34m\u001b[0m\u001b[0;34m\u001b[0m\u001b[0m\n",
      "\u001b[0;32m~/Code/GitHub/xopt/xopt/fitness_with_constraints.py\u001b[0m in \u001b[0;36msetValues\u001b[0;34m(self, values)\u001b[0m\n\u001b[1;32m    179\u001b[0m             \u001b[0;34m\"%r. Currently assigning value(s) %r of %r to a fitness with \"\u001b[0m\u001b[0;34m\u001b[0m\u001b[0;34m\u001b[0m\u001b[0m\n\u001b[1;32m    180\u001b[0m             \u001b[0;34m\"weights %s.\"\u001b[0m\u001b[0;34m\u001b[0m\u001b[0;34m\u001b[0m\u001b[0m\n\u001b[0;32m--> 181\u001b[0;31m             % (self.__class__, values, type(values), self.weights)).with_traceback(traceback)\n\u001b[0m\u001b[1;32m    182\u001b[0m \u001b[0;34m\u001b[0m\u001b[0m\n\u001b[1;32m    183\u001b[0m     \u001b[0;32mdef\u001b[0m \u001b[0mdelValues\u001b[0m\u001b[0;34m(\u001b[0m\u001b[0mself\u001b[0m\u001b[0;34m)\u001b[0m\u001b[0;34m:\u001b[0m\u001b[0;34m\u001b[0m\u001b[0;34m\u001b[0m\u001b[0m\n",
      "\u001b[0;32m~/Code/GitHub/xopt/xopt/fitness_with_constraints.py\u001b[0m in \u001b[0;36msetValues\u001b[0;34m(self, values)\u001b[0m\n\u001b[1;32m    172\u001b[0m     \u001b[0;32mdef\u001b[0m \u001b[0msetValues\u001b[0m\u001b[0;34m(\u001b[0m\u001b[0mself\u001b[0m\u001b[0;34m,\u001b[0m \u001b[0mvalues\u001b[0m\u001b[0;34m)\u001b[0m\u001b[0;34m:\u001b[0m\u001b[0;34m\u001b[0m\u001b[0;34m\u001b[0m\u001b[0m\n\u001b[1;32m    173\u001b[0m         \u001b[0;32mtry\u001b[0m\u001b[0;34m:\u001b[0m\u001b[0;34m\u001b[0m\u001b[0;34m\u001b[0m\u001b[0m\n\u001b[0;32m--> 174\u001b[0;31m             \u001b[0mself\u001b[0m\u001b[0;34m.\u001b[0m\u001b[0mwvalues\u001b[0m \u001b[0;34m=\u001b[0m \u001b[0mtuple\u001b[0m\u001b[0;34m(\u001b[0m\u001b[0mmap\u001b[0m\u001b[0;34m(\u001b[0m\u001b[0mmul\u001b[0m\u001b[0;34m,\u001b[0m \u001b[0mvalues\u001b[0m\u001b[0;34m,\u001b[0m \u001b[0mself\u001b[0m\u001b[0;34m.\u001b[0m\u001b[0mweights\u001b[0m\u001b[0;34m)\u001b[0m\u001b[0;34m)\u001b[0m\u001b[0;34m\u001b[0m\u001b[0;34m\u001b[0m\u001b[0m\n\u001b[0m\u001b[1;32m    175\u001b[0m         \u001b[0;32mexcept\u001b[0m \u001b[0mTypeError\u001b[0m\u001b[0;34m:\u001b[0m\u001b[0;34m\u001b[0m\u001b[0;34m\u001b[0m\u001b[0m\n\u001b[1;32m    176\u001b[0m             \u001b[0m_\u001b[0m\u001b[0;34m,\u001b[0m \u001b[0m_\u001b[0m\u001b[0;34m,\u001b[0m \u001b[0mtraceback\u001b[0m \u001b[0;34m=\u001b[0m \u001b[0msys\u001b[0m\u001b[0;34m.\u001b[0m\u001b[0mexc_info\u001b[0m\u001b[0;34m(\u001b[0m\u001b[0;34m)\u001b[0m\u001b[0;34m\u001b[0m\u001b[0;34m\u001b[0m\u001b[0m\n",
      "\u001b[0;31mTypeError\u001b[0m: Both weights and assigned values must be a sequence of numbers when assigning to values of <class 'xopt.creator.MyFitness'>. Currently assigning value(s) -0.2856020399750927 of <class 'numpy.float64'> to a fitness with weights [-1.0, -1.0]."
     ]
    }
   ],
   "source": [
    "#toolbox.register('evaluate', EVALUATE)\n",
    "pop = cnsga(client, toolbox=toolbox, max_generations = 40, population_size=64) "
   ]
  },
  {
   "cell_type": "code",
   "execution_count": null,
   "metadata": {},
   "outputs": [],
   "source": [
    "#pop = cnsga(client, toolbox=toolbox, evaluate_f=F) "
   ]
  },
  {
   "cell_type": "markdown",
   "metadata": {},
   "source": [
    "# Recreate plots in Deb paper"
   ]
  },
  {
   "cell_type": "code",
   "execution_count": null,
   "metadata": {},
   "outputs": [],
   "source": [
    "import matplotlib.pyplot as plt\n",
    "\n",
    "def plot_pop(pop):\n",
    "    fig, ax = plt.subplots(figsize=(5,5))\n",
    "\n",
    "    front = np.array([ind.fitness.values for ind in pop])\n",
    "    ax.scatter(front[:,0], front[:,1], color='blue')\n",
    "    ax.set_xlim(X_RANGE)\n",
    "    ax.set_ylim(Y_RANGE)\n",
    "    ax.set_aspect('auto')\n",
    "    ax.set_title(NAME)\n",
    "#plot_pop(pop)"
   ]
  },
  {
   "cell_type": "markdown",
   "metadata": {},
   "source": [
    "# MPI"
   ]
  },
  {
   "cell_type": "code",
   "execution_count": null,
   "metadata": {},
   "outputs": [],
   "source": [
    "from mpi4py.futures import MPIPoolExecutor as PoolExecutor"
   ]
  },
  {
   "cell_type": "code",
   "execution_count": null,
   "metadata": {},
   "outputs": [],
   "source": [
    "from xopt import vocs_tools\n",
    "from xopt.cnsga import cnsga as xcnsga\n",
    "VOCS = vocs_tools.load_vocs('TNK_test.json')"
   ]
  },
  {
   "cell_type": "code",
   "execution_count": null,
   "metadata": {},
   "outputs": [],
   "source": [
    "if __name__ == '__main__':\n",
    "    with PoolExecutor() as executor:\n",
    "        #pop = cnsga(executor, toolbox=toolbox, evaluate_f=EVALUATE) \n",
    "        \n",
    "        pop=xcnsga(executor, vocs=VOCS, evaluate_f=evaluate_TNK, max_generations=10, population_size=40)\n",
    "        plot_pop(pop)"
   ]
  },
  {
   "cell_type": "code",
   "execution_count": null,
   "metadata": {},
   "outputs": [],
   "source": [
    "#!jupyter nbconvert --to script cnsga.ipynb"
   ]
  },
  {
   "cell_type": "code",
   "execution_count": null,
   "metadata": {},
   "outputs": [],
   "source": []
  }
 ],
 "metadata": {
  "kernelspec": {
   "display_name": "Python 3",
   "language": "python",
   "name": "python3"
  },
  "language_info": {
   "codemirror_mode": {
    "name": "ipython",
    "version": 3
   },
   "file_extension": ".py",
   "mimetype": "text/x-python",
   "name": "python",
   "nbconvert_exporter": "python",
   "pygments_lexer": "ipython3",
   "version": "3.7.5"
  }
 },
 "nbformat": 4,
 "nbformat_minor": 4
}
