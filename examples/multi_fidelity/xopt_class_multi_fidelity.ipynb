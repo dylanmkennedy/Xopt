{
 "cells": [
  {
   "cell_type": "code",
   "execution_count": 1,
   "metadata": {},
   "outputs": [],
   "source": [
    "# Useful for debugging\n",
    "%load_ext autoreload\n",
    "%autoreload 2"
   ]
  },
  {
   "cell_type": "markdown",
   "metadata": {},
   "source": [
    "# Multi-fidelity (MF) optimization\n",
    "\n",
    "In most cases it is better to do many cheap evaluations of an approximation to the target function than it is to only optimize the target function. This example demonstrates the 'multi-fidelity' capabilities of xopt. \n",
    "\n",
    "We follow the implementation of multi-fidelity bayesian optimization used in botorch https://botorch.org/tutorials/multi_fidelity_bo to optimize the synthetic test function AugmentedHartmann https://botorch.org/api/test_functions.html.\n",
    "\n",
    "The difference between normal Bayesian optimization and MF optimization is that we specify a 'cost' to making observations at a given fidelity. For this example we assume a base cost of 5 and a fidelity cost between 0-1. The algorithm should make many observations at lower fidelity relative to higher fidelity, lowering the total observation cost. \n",
    "\n",
    "NOTE: The cost parameter is required to be the LAST element of the variables list. Also this method is best suited for parallel observations of the test function."
   ]
  },
  {
   "cell_type": "code",
   "execution_count": 2,
   "metadata": {},
   "outputs": [],
   "source": [
    "# Import the class\n",
    "from xopt import Xopt\n",
    "from xopt.bayesian.generators.multi_fidelity import MultiFidelityGenerator\n",
    "from xopt.bayesian.models.models import create_multi_fidelity_model\n",
    "from botorch.test_functions.multi_fidelity import AugmentedHartmann\n"
   ]
  },
  {
   "cell_type": "markdown",
   "metadata": {},
   "source": [
    "The `Xopt` object can be instantiated from a JSON or YAML file, or a dict, with the proper structure.\n",
    "\n",
    "Here we will make one"
   ]
  },
  {
   "cell_type": "code",
   "execution_count": 3,
   "metadata": {},
   "outputs": [],
   "source": [
    "import yaml\n",
    "# Make a proper input file. \n",
    "YAML = \"\"\"\n",
    "xopt: {output_path: null, verbose: true}\n",
    "\n",
    "algorithm:\n",
    "  name: multi_fidelity\n",
    "  options:  \n",
    "      n_initial_samples: 16\n",
    "      n_steps: 10\n",
    "      verbose: True\n",
    "      use_gpu: False\n",
    "      generator_options:                     ## options for bayesian exploration acquisition function\n",
    "          batch_size: 4                      ## batch size for parallelized optimization\n",
    "          acq: custom_acq.acq                ## custom acquisition function if needed\n",
    "          fixed_cost: 5.0                    ## fixed cost added onto fidelity cost\n",
    "\n",
    "\n",
    "simulation: \n",
    "  name: test_multi_fidelity\n",
    "  evaluate: xopt.evaluators.test_multi_fidelity.evaluate\n",
    "\n",
    "vocs:\n",
    "  name: test_multi_fidelity\n",
    "  description: null\n",
    "  simulation: test_multi_fidelity\n",
    "  templates: null\n",
    "  variables:\n",
    "    x1: [0, 1.0]\n",
    "    x2: [0, 1.0]\n",
    "    x3: [0, 1.0]\n",
    "    x4: [0, 1.0]\n",
    "    x5: [0, 1.0]\n",
    "    x6: [0, 1.0]\n",
    "    cost: [0, 1.0]                          ## NOTE: THIS IS REQUIRED FOR MULTI-FIDELITY OPTIMIZATION\n",
    "  objectives:\n",
    "    y1: 'MINIMIZE'\n",
    "  linked_variables: {}\n",
    "  constants: {a: dummy_constant}\n",
    "\n",
    "\"\"\"\n",
    "config = yaml.safe_load(YAML)"
   ]
  },
  {
   "cell_type": "code",
   "execution_count": 4,
   "metadata": {},
   "outputs": [
    {
     "name": "stdout",
     "output_type": "stream",
     "text": [
      "Loading config as dict.\n",
      "Warning: No path set for key xopt : output_path\n",
      "Warning: No path set for key algorithm : options : restart_file\n"
     ]
    },
    {
     "data": {
      "text/plain": [
       "\n",
       "            Xopt \n",
       "________________________________           \n",
       "Version: 0.4.3+92.ga35bcf3.dirty\n",
       "Configured: True\n",
       "Config as YAML:\n",
       "xopt: {output_path: null, verbose: true, algorithm: cnsga}\n",
       "algorithm:\n",
       "  name: multi_fidelity\n",
       "  function: xopt.bayesian.algorithms.multi_fidelity_optimize\n",
       "  options:\n",
       "    n_initial_samples: 16\n",
       "    n_steps: 10\n",
       "    verbose: true\n",
       "    use_gpu: false\n",
       "    generator_options: {batch_size: 4, acq: !!python/name:custom_acq.acq '', fixed_cost: 5.0}\n",
       "    custom_model: !!python/name:xopt.bayesian.models.models.create_multi_fidelity_model ''\n",
       "    restart_file: null\n",
       "    initial_x: null\n",
       "simulation:\n",
       "  name: test_multi_fidelity\n",
       "  evaluate: xopt.evaluators.test_multi_fidelity.evaluate\n",
       "  options: {extra_option: abc}\n",
       "vocs:\n",
       "  name: test_multi_fidelity\n",
       "  description: null\n",
       "  simulation: test_multi_fidelity\n",
       "  templates: null\n",
       "  variables:\n",
       "    x1: [0, 1.0]\n",
       "    x2: [0, 1.0]\n",
       "    x3: [0, 1.0]\n",
       "    x4: [0, 1.0]\n",
       "    x5: [0, 1.0]\n",
       "    x6: [0, 1.0]\n",
       "    cost: [0, 1.0]\n",
       "  objectives: {y1: MINIMIZE}\n",
       "  linked_variables: {}\n",
       "  constants: {a: dummy_constant}\n",
       "  constraints: {}"
      ]
     },
     "execution_count": 4,
     "metadata": {},
     "output_type": "execute_result"
    }
   ],
   "source": [
    "X = Xopt(config)\n",
    "X"
   ]
  },
  {
   "cell_type": "markdown",
   "metadata": {},
   "source": [
    "# Run BayesOpt"
   ]
  },
  {
   "cell_type": "code",
   "execution_count": 5,
   "metadata": {},
   "outputs": [],
   "source": [
    "# Pick one of these\n",
    "from concurrent.futures import ThreadPoolExecutor as PoolExecutor\n",
    "#from concurrent.futures import ProcessPoolExecutor as PoolExecutor\n",
    "\n",
    "executor = PoolExecutor()\n",
    "# This will also work. \n",
    "#executor=None"
   ]
  },
  {
   "cell_type": "code",
   "execution_count": 6,
   "metadata": {},
   "outputs": [
    {
     "name": "stdout",
     "output_type": "stream",
     "text": [
      "Starting at time 2021-08-23T11:40:08-05:00\n",
      "<class 'function'>\n",
      "started running optimization with generator: <xopt.bayesian.generators.multi_fidelity.MultiFidelityGenerator object at 0x00000193FEA67F10>\n",
      "submitting initial candidates at time 2021-08-23T11:40:08-05:00\n",
      "starting optimization loop\n",
      "Model creation time: 0.132 s\n",
      "Candidate generation time: 24.5 s\n",
      "Candidate(s): tensor([[0.1445, 0.7707, 0.2275, 0.3497, 0.4089, 0.1356, 0.5591],\n",
      "        [0.2800, 0.8747, 0.1747, 0.4736, 0.4827, 0.2292, 0.5830],\n",
      "        [0.1684, 0.8617, 0.0270, 0.2846, 0.4888, 0.2897, 0.5406],\n",
      "        [0.2594, 0.7251, 0.0403, 0.4023, 0.3323, 0.2560, 0.5287]],\n",
      "       dtype=torch.float64)\n",
      "submitting candidates at time 2021-08-23T11:40:32-05:00\n",
      "Model creation time: 0.144 s\n",
      "Candidate generation time: 27.34 s\n",
      "Candidate(s): tensor([[0.3293, 0.9204, 0.1236, 0.5049, 0.4745, 0.2016, 0.5343],\n",
      "        [0.2990, 0.7272, 0.2154, 0.5186, 0.5282, 0.1847, 0.5658],\n",
      "        [0.9994, 0.7731, 0.7041, 0.7553, 0.5915, 0.7916, 0.6409],\n",
      "        [0.2914, 0.8945, 0.2491, 0.5193, 0.3488, 0.1514, 0.5249]],\n",
      "       dtype=torch.float64)\n",
      "submitting candidates at time 2021-08-23T11:41:00-05:00\n",
      "Model creation time: 0.181 s\n",
      "Candidate generation time: 27.84 s\n",
      "Candidate(s): tensor([[0.3799, 0.8376, 0.2262, 0.5415, 0.2572, 0.1667, 0.4358],\n",
      "        [0.3583, 0.9874, 0.3418, 0.5091, 0.4282, 0.0927, 0.3696],\n",
      "        [0.3166, 0.9832, 0.2766, 0.6334, 0.3590, 0.1904, 0.3845],\n",
      "        [0.3103, 0.9131, 0.1016, 0.5794, 0.3688, 0.0595, 0.4499]],\n",
      "       dtype=torch.float64)\n",
      "submitting candidates at time 2021-08-23T11:41:28-05:00\n",
      "Model creation time: 0.51 s\n",
      "Candidate generation time: 31.66 s\n",
      "Candidate(s): tensor([[0.3915, 0.9882, 0.1314, 0.5282, 0.2399, 0.0347, 0.5022],\n",
      "        [0.3753, 0.8797, 0.2783, 0.5635, 0.2622, 0.0050, 0.4965],\n",
      "        [0.0289, 0.2745, 0.3880, 0.5438, 0.6196, 0.8333, 0.9618],\n",
      "        [0.4178, 0.8969, 0.1407, 0.5639, 0.3853, 0.0336, 0.4969]],\n",
      "       dtype=torch.float64)\n",
      "submitting candidates at time 2021-08-23T11:42:00-05:00\n",
      "Model creation time: 0.568 s\n",
      "Candidate generation time: 40.44 s\n",
      "Candidate(s): tensor([[0.4314, 0.8992, 0.2980, 0.5969, 0.3653, 0.0000, 0.5050],\n",
      "        [0.4248, 0.8496, 0.2387, 0.5286, 0.3834, 0.0000, 0.4828],\n",
      "        [0.4584, 0.8752, 0.2661, 0.5541, 0.3065, 0.0237, 0.4550],\n",
      "        [0.4215, 0.8237, 0.1464, 0.5920, 0.2966, 0.0000, 0.4965]],\n",
      "       dtype=torch.float64)\n",
      "submitting candidates at time 2021-08-23T11:42:41-05:00\n",
      "Model creation time: 1.027 s\n",
      "Candidate generation time: 45.68 s\n",
      "Candidate(s): tensor([[0.5307, 0.7363, 0.4554, 0.7698, 0.7832, 0.0000, 1.0000],\n",
      "        [0.4083, 0.8644, 0.2700, 0.5823, 0.3534, 0.0561, 0.5099],\n",
      "        [0.9393, 0.4694, 0.9063, 0.9251, 0.3561, 0.8491, 1.0000],\n",
      "        [1.0000, 0.0000, 0.8704, 0.9292, 0.0111, 0.7663, 1.0000]],\n",
      "       dtype=torch.float64)\n",
      "submitting candidates at time 2021-08-23T11:43:28-05:00\n",
      "Model creation time: 0.737 s\n",
      "Candidate generation time: 46.88 s\n",
      "Candidate(s): tensor([[0.3925, 0.8766, 0.2287, 0.5885, 0.4019, 0.0327, 1.0000],\n",
      "        [0.4022, 0.9037, 0.3126, 0.5546, 0.3330, 0.0465, 1.0000],\n",
      "        [0.4031, 0.8949, 0.2063, 0.5957, 0.2747, 0.0476, 1.0000],\n",
      "        [0.4272, 0.3916, 0.0225, 0.5622, 0.2303, 0.0000, 1.0000]],\n",
      "       dtype=torch.float64)\n",
      "submitting candidates at time 2021-08-23T11:44:15-05:00\n",
      "Model creation time: 0.873 s\n",
      "Candidate generation time: 47.52 s\n",
      "Candidate(s): tensor([[0.4376, 0.9389, 0.3525, 0.1420, 0.5434, 0.0000, 0.9655],\n",
      "        [0.3925, 0.8878, 0.3685, 0.5995, 0.2892, 0.0434, 1.0000],\n",
      "        [0.1739, 0.8766, 0.5825, 0.0110, 0.4831, 0.8892, 0.9739],\n",
      "        [0.4270, 0.9111, 0.0998, 0.5966, 0.7227, 0.1252, 1.0000]],\n",
      "       dtype=torch.float64)\n",
      "submitting candidates at time 2021-08-23T11:45:04-05:00\n",
      "Model creation time: 0.856 s\n",
      "Candidate generation time: 47.4 s\n",
      "Candidate(s): tensor([[0.4140, 0.9008, 0.4141, 0.5869, 0.4040, 0.0579, 0.9986],\n",
      "        [0.2540, 0.6377, 0.6028, 0.4080, 0.3413, 0.6023, 1.0000],\n",
      "        [0.4756, 0.9090, 0.1760, 0.5816, 0.4437, 0.0000, 1.0000],\n",
      "        [0.4094, 0.8589, 0.4400, 0.5749, 0.2174, 0.0394, 1.0000]],\n",
      "       dtype=torch.float64)\n",
      "submitting candidates at time 2021-08-23T11:45:52-05:00\n",
      "Model creation time: 0.929 s\n",
      "Candidate generation time: 48.96 s\n",
      "Candidate(s): tensor([[0.4039, 0.7433, 0.7116, 0.4351, 0.1926, 0.3061, 1.0000],\n",
      "        [0.2304, 0.6526, 0.5330, 0.4013, 0.1218, 0.6152, 1.0000],\n",
      "        [0.4103, 0.8957, 0.5463, 0.5715, 0.1113, 0.0497, 1.0000],\n",
      "        [0.3252, 0.7010, 0.4055, 0.4366, 0.1667, 0.5586, 1.0000]],\n",
      "       dtype=torch.float64)\n",
      "submitting candidates at time 2021-08-23T11:46:42-05:00\n"
     ]
    }
   ],
   "source": [
    "# Change max generations\n",
    "X.run(executor=executor)\n",
    "results = X.results"
   ]
  },
  {
   "cell_type": "markdown",
   "metadata": {},
   "source": [
    "### Get highest fidelity global optimum"
   ]
  },
  {
   "cell_type": "code",
   "execution_count": 7,
   "metadata": {},
   "outputs": [],
   "source": [
    "# create generator object\n",
    "gen = MultiFidelityGenerator(X.vocs)"
   ]
  },
  {
   "cell_type": "code",
   "execution_count": 8,
   "metadata": {},
   "outputs": [],
   "source": [
    "# create model\n",
    "model = create_multi_fidelity_model(results['variables'], results['corrected_objectives'], results['corrected_constraints'], X.vocs)"
   ]
  },
  {
   "cell_type": "code",
   "execution_count": 9,
   "metadata": {},
   "outputs": [
    {
     "data": {
      "text/plain": [
       "tensor([-3.1795])"
      ]
     },
     "execution_count": 9,
     "metadata": {},
     "output_type": "execute_result"
    }
   ],
   "source": [
    "## NOTE: we want to get the minimum evaluated at the highest fidelity -> make sure to use get_recommendation\n",
    "rec = gen.get_recommendation(model)\n",
    "problem = AugmentedHartmann(negate=False)\n",
    "problem(rec) ## NOTE: the correct global minimum is -3.32237"
   ]
  },
  {
   "cell_type": "code",
   "execution_count": null,
   "metadata": {},
   "outputs": [],
   "source": []
  }
 ],
 "metadata": {
  "kernelspec": {
   "display_name": "xopt",
   "language": "python",
   "name": "xopt"
  },
  "language_info": {
   "codemirror_mode": {
    "name": "ipython",
    "version": 3
   },
   "file_extension": ".py",
   "mimetype": "text/x-python",
   "name": "python",
   "nbconvert_exporter": "python",
   "pygments_lexer": "ipython3",
   "version": "3.9.6"
  }
 },
 "nbformat": 4,
 "nbformat_minor": 4
}
