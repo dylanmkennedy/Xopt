{
 "cells": [
  {
   "cell_type": "markdown",
   "metadata": {},
   "source": [
    "# Pydantic-based executors\n",
    "The [PEP-3184](https://peps.python.org/pep-3148/) executor standard allows us to create an interface for executor objects and provide intelligent context for their execution. Pydantic validators allow the dynamic validation of executor initialization and execution based on signature inspection.\n",
    "\n",
    "Before you start, make sure you're using Pydantic >= 1.9.0. 1.8 has all sorts of bugs with json encoder propagation. "
   ]
  },
  {
   "cell_type": "code",
   "execution_count": 1,
   "metadata": {},
   "outputs": [],
   "source": [
    "# imports\n",
    "import contextlib\n",
    "import copy\n",
    "import inspect\n",
    "import logging\n",
    "from concurrent.futures import Future, ThreadPoolExecutor\n",
    "from importlib import import_module\n",
    "from typing import Any, Callable, Dict, Generic, Iterable, Optional, TypeVar, Tuple\n",
    "from types import FunctionType, MethodType\n",
    "from pydantic import BaseModel, Field, root_validator, validate_arguments, validator, ValidationError, Extra\n",
    "from pydantic.generics import GenericModel\n",
    "\n",
    "logger = logging.getLogger(\"__name__\")\n"
   ]
  },
  {
   "cell_type": "markdown",
   "metadata": {},
   "source": [
    "## GENERICS\n",
    "\n",
    "Because the executor classes take many forms, we'll be making use of Pydantic's generic class composition for executor type interpolation. We are able to do this by creating a placeholder TypeVar. Here, this is names ObjType, because the executor classes make use of a generalizable loading approach that could be extented to objects generally."
   ]
  },
  {
   "cell_type": "code",
   "execution_count": 2,
   "metadata": {},
   "outputs": [],
   "source": [
    "ObjType = TypeVar(\"ObjType\")"
   ]
  },
  {
   "cell_type": "markdown",
   "metadata": {},
   "source": [
    "## JSON Encoders\n",
    "\n",
    "Pydantic does not propogate JSON encoders to child classes, so we'll define a set of common encoders:"
   ]
  },
  {
   "cell_type": "code",
   "execution_count": 3,
   "metadata": {},
   "outputs": [],
   "source": [
    "import json\n",
    "\n",
    "def is_jsonable(x):\n",
    "    try:\n",
    "        json.dumps(x)\n",
    "        return True\n",
    "    except:\n",
    "        return False\n",
    "\n",
    "    \n",
    "class CallableKwargs(dict):\n",
    "    \n",
    "    def clean(self):\n",
    "        return {key: value for key, value in self.items() if is_jsonable(value)}\n",
    "\n",
    "    \n",
    "class CallableArgs(Tuple):\n",
    "    \n",
    "    def clean(self): \n",
    "        return tuple(value if is_jsonable(value) else None for value in self)\n",
    "    "
   ]
  },
  {
   "cell_type": "code",
   "execution_count": 4,
   "metadata": {},
   "outputs": [],
   "source": [
    "tpe = ThreadPoolExecutor()\n",
    "kwargs = CallableKwargs({\"hey\": 5, \"tpe\": tpe})"
   ]
  },
  {
   "cell_type": "code",
   "execution_count": 5,
   "metadata": {},
   "outputs": [
    {
     "data": {
      "text/plain": [
       "{'hey': 5}"
      ]
     },
     "execution_count": 5,
     "metadata": {},
     "output_type": "execute_result"
    }
   ],
   "source": [
    "kwargs.clean()"
   ]
  },
  {
   "cell_type": "code",
   "execution_count": 6,
   "metadata": {},
   "outputs": [
    {
     "data": {
      "text/plain": [
       "(None, 5)"
      ]
     },
     "execution_count": 6,
     "metadata": {},
     "output_type": "execute_result"
    }
   ],
   "source": [
    "args = CallableArgs((tpe, 5, ))\n",
    "args.clean()"
   ]
  },
  {
   "cell_type": "code",
   "execution_count": 7,
   "metadata": {},
   "outputs": [],
   "source": [
    "JSON_ENCODERS = {\n",
    "    # add callable types to the encoders\n",
    "    CallableArgs: lambda x: x.clean(),\n",
    "    CallableKwargs: lambda x: x.clean(),\n",
    "    # function/method type distinguished for class members and not recognized as callables\n",
    "    FunctionType: lambda x: f\"{x.__module__}:{x.__qualname__}\",\n",
    "    MethodType: lambda x: f\"{x.__module__}:{x.__qualname__}\",\n",
    "    Callable: lambda x: f\"{x.__module__}:{type(x).__qualname__}\",\n",
    "    type: lambda x: f\"{x.__module__}:{x.__name__}\",\n",
    "    # for encoding instances of the ObjType}\n",
    "    ObjType: lambda x: f\"{x.__module__}:{x.__class__.__qualname__}\",\n",
    "}"
   ]
  },
  {
   "cell_type": "markdown",
   "metadata": {},
   "source": [
    "## Utility functions for validating signatures and getting callables from strings\n",
    "\n",
    "Central to generalizablity between executors is the ability to validate signatures args/kwargs against the executor class. "
   ]
  },
  {
   "cell_type": "code",
   "execution_count": 8,
   "metadata": {},
   "outputs": [],
   "source": [
    "def get_callable_from_string(callable: str, bind: Any = None) -> Callable:\n",
    "    \"\"\"Get callable from a string. In the case that the callable points to a bound method,\n",
    "    the function returns a callable taking the bind instance as the first arg.\n",
    "\n",
    "    Args:\n",
    "        callable: String representation of callable abiding convention\n",
    "             __module__:callable\n",
    "        bind: Class to bind as self\n",
    "\n",
    "    Returns:\n",
    "        Callable\n",
    "    \"\"\"\n",
    "    callable_split = callable.rsplit(\":\")\n",
    "\n",
    "    if len(callable_split) != 2:\n",
    "        raise ValueError(f\"Improperly formatted callable string: {callable_split}\")\n",
    "\n",
    "    module_name, callable_name = callable_split\n",
    "\n",
    "    try:\n",
    "        module = import_module(module_name)\n",
    "    except ModuleNotFoundError as err:\n",
    "        logger.error(\"Unable to import module %s\", module_name)\n",
    "        raise err\n",
    "\n",
    "    # construct partial in case of bound method\n",
    "    if \".\" in callable_name:\n",
    "        bound_class, callable_name = callable_name.rsplit(\".\")\n",
    "\n",
    "        try:\n",
    "            bound_class = getattr(module, bound_class)\n",
    "        except Exception as e:\n",
    "            logger.error(\"Unable to get %s from %s\", bound_class, module_name)\n",
    "            raise e\n",
    "\n",
    "        # require right partial for assembly of callable\n",
    "        # https://funcy.readthedocs.io/en/stable/funcs.html#rpartial\n",
    "        def rpartial(func, *args):\n",
    "            return lambda *a: func(*(a + args))\n",
    "\n",
    "        callable = getattr(bound_class, callable_name)\n",
    "        params = inspect.signature(callable).parameters\n",
    "\n",
    "        # check bindings\n",
    "        is_bound = params.get(\"self\", None) is not None\n",
    "        if not is_bound and bind is not None:\n",
    "            raise ValueError(\"Cannot bind %s to %s.\", callable_name, bind)\n",
    "\n",
    "        # bound, return partial\n",
    "        if bind is not None:\n",
    "            if not isinstance(bind, (bound_class,)):\n",
    "                raise ValueError(\n",
    "                    \"Provided bind %s is not instance of %s\",\n",
    "                    bind,\n",
    "                    bound_class.__qualname__,\n",
    "                )\n",
    "\n",
    "        if is_bound and isinstance(callable, (FunctionType,)) and bind is None:\n",
    "            callable = rpartial(getattr, callable_name)\n",
    "\n",
    "        elif is_bound and isinstance(callable, (FunctionType,)) and bind is not None:\n",
    "            callable = getattr(bind, callable_name)\n",
    "\n",
    "    else:\n",
    "        if bind is not None:\n",
    "            raise ValueError(\"Cannot bind %s to %s.\", callable_name, type(bind))\n",
    "\n",
    "        try:\n",
    "            callable = getattr(module, callable_name)\n",
    "        except Exception as e:\n",
    "            logger.error(\"Unable to get %s from %s\", callable_name, module_name)\n",
    "            raise e\n",
    "\n",
    "    return callable\n",
    "\n",
    "\n",
    "import itertools\n",
    "def validate_and_compose_signature(callable: Callable, *args, **kwargs):\n",
    "    \n",
    "    # try partial bind to validate\n",
    "    signature = inspect.signature(callable)\n",
    "    bound_args = signature.bind_partial(*args, **kwargs)\n",
    "    \n",
    "    sig_pos_or_kw = {}\n",
    "    sig_kw_only = bound_args.arguments.get(\"kwargs\")\n",
    "    sig_args_only = bound_args.arguments.get(\"args\")\n",
    "    \n",
    "    n_args = len(args)\n",
    "    \n",
    "    # Now go parameter by parameter and assemble kwargs\n",
    "    for i, param in enumerate(signature.parameters.values()):\n",
    "\n",
    "        if param.kind == param.POSITIONAL_OR_KEYWORD:\n",
    "            sig_pos_or_kw[param.name] = param.default if not param.default == param.empty else None\n",
    "            \n",
    "            # assign via binding\n",
    "            if param.name in bound_args.arguments:\n",
    "                sig_pos_or_kw[param.name] = bound_args.arguments[param.name]\n",
    "                \n",
    "    \n",
    "    return sig_pos_or_kw, sig_kw_only, sig_args_only"
   ]
  },
  {
   "cell_type": "code",
   "execution_count": 9,
   "metadata": {},
   "outputs": [
    {
     "data": {
      "text/plain": [
       "({'x': 2, 'y': 5}, {'hi': 4}, None)"
      ]
     },
     "execution_count": 9,
     "metadata": {},
     "output_type": "execute_result"
    }
   ],
   "source": [
    "def test_fn(x, y=4, *args, m, **kwargs):\n",
    "    return x\n",
    "\n",
    "validate_and_compose_signature(test_fn, y=5, x=2, hi=4)"
   ]
  },
  {
   "cell_type": "markdown",
   "metadata": {},
   "source": [
    "## Representing callables as Pydantic models\n",
    "Representing callables as pydantic models allows us to take advantage of both pydantic serialization to json and pydantic's validation hooks for the kwarg validation upon creation, with possibility of delaying load. Here `CallableModel`, we can provide initialization kwargs for a to-be-instantiated-later object and reap the benefit of additional kwarg validation. "
   ]
  },
  {
   "cell_type": "code",
   "execution_count": 10,
   "metadata": {},
   "outputs": [],
   "source": [
    "class CallableModel(BaseModel):\n",
    "    callable: Callable\n",
    "  #  args: Optional[CallableArgs]\n",
    "    kwargs: Optional[CallableKwargs]\n",
    "\n",
    "    class Config:\n",
    "        arbitrary_types_allowed = True\n",
    "        json_encoders = JSON_ENCODERS\n",
    "        extra = Extra.forbid\n",
    "\n",
    "    @root_validator(pre=True)\n",
    "    def validate_all(cls, values):\n",
    "        callable = values.pop(\"callable\")\n",
    "\n",
    "        if not isinstance(\n",
    "            callable,\n",
    "            (\n",
    "                str,\n",
    "                Callable,\n",
    "            ),\n",
    "        ):\n",
    "            raise ValueError(\n",
    "                \"Callable must be object or a string. Provided %s\", type(callable)\n",
    "            )\n",
    "\n",
    "        # parse string to callable\n",
    "        if isinstance(callable, (str,)):\n",
    "\n",
    "            # for function loading\n",
    "            if \"bind\" in values:\n",
    "                callable = get_callable_from_string(callable, bind=values[\"bind\"])\n",
    "\n",
    "            else:\n",
    "                callable = get_callable_from_string(callable)\n",
    "        \n",
    "        values[\"callable\"] = callable\n",
    "\n",
    "        # for reloading:\n",
    "        kwargs = {}\n",
    "        args = ()\n",
    "        if \"args\" in values:\n",
    "            args = values.pop(\"args\")\n",
    "            \n",
    "        if \"kwargs\" in values:\n",
    "            kwargs = values[\"kwargs\"]\n",
    "\n",
    "        # ignore kwarg-only and arg-only args for now\n",
    "        values[\"kwargs\"], _, _ = validate_and_compose_signature(callable, *args, **kwargs)\n",
    "\n",
    "        return values\n",
    "\n",
    "    def __call__(self, *args, **kwargs):\n",
    "        if kwargs is None:\n",
    "            kwargs = {}\n",
    "            \n",
    "        # create self.kwarg copy\n",
    "        fn_kwargs = copy.copy(self.kwargs)\n",
    "        \n",
    "        # update kwargs w/ passed positional args\n",
    "        if len(args):\n",
    "            pos_args = args[:len(self.kwargs)]\n",
    "            for i, arg in enumerate(pos_args):\n",
    "                fn_kwargs.pop(list(self.kwargs.keys())[i])\n",
    "                \n",
    "        # update stored kwargs\n",
    "        fn_kwargs.update(kwargs)\n",
    "        \n",
    "        return self.callable(*args, **fn_kwargs)"
   ]
  },
  {
   "cell_type": "markdown",
   "metadata": {},
   "source": [
    "Let's test the callables on example function and class:"
   ]
  },
  {
   "cell_type": "code",
   "execution_count": 11,
   "metadata": {},
   "outputs": [],
   "source": [
    "def test_function(x: int, y: int = 5):\n",
    "    return x + y\n",
    "\n",
    "\n",
    "class TestClass:\n",
    "    def __init__(self, x, y):\n",
    "        self.x = x\n",
    "        self.y = y"
   ]
  },
  {
   "cell_type": "code",
   "execution_count": 12,
   "metadata": {},
   "outputs": [
    {
     "data": {
      "text/plain": [
       "{'x': 1, 'y': 3}"
      ]
     },
     "execution_count": 12,
     "metadata": {},
     "output_type": "execute_result"
    }
   ],
   "source": [
    "fn = CallableModel(callable=test_function, kwargs={\"x\":1, \"y\":3})\n",
    "\n",
    "fn.kwargs"
   ]
  },
  {
   "cell_type": "code",
   "execution_count": 13,
   "metadata": {},
   "outputs": [
    {
     "data": {
      "text/plain": [
       "{'x': 1, 'y': 3}"
      ]
     },
     "execution_count": 13,
     "metadata": {},
     "output_type": "execute_result"
    }
   ],
   "source": [
    "fn = CallableModel(callable=test_function, args=(1,3,))\n",
    "\n",
    "fn.kwargs"
   ]
  },
  {
   "cell_type": "code",
   "execution_count": 14,
   "metadata": {},
   "outputs": [
    {
     "data": {
      "text/plain": [
       "{'x': 1, 'y': 3}"
      ]
     },
     "execution_count": 14,
     "metadata": {},
     "output_type": "execute_result"
    }
   ],
   "source": [
    "fn = CallableModel(callable=test_function, args=(1,), kwargs={\"y\":3})\n",
    "\n",
    "fn.kwargs"
   ]
  },
  {
   "cell_type": "code",
   "execution_count": 15,
   "metadata": {},
   "outputs": [
    {
     "data": {
      "text/plain": [
       "{'callable': <function __main__.test_function(x: int, y: int = 5)>,\n",
       " 'kwargs': {'x': 1, 'y': 3}}"
      ]
     },
     "execution_count": 15,
     "metadata": {},
     "output_type": "execute_result"
    }
   ],
   "source": [
    "# dict rep\n",
    "fn_dict = fn.dict()\n",
    "fn_dict"
   ]
  },
  {
   "cell_type": "code",
   "execution_count": 16,
   "metadata": {},
   "outputs": [
    {
     "data": {
      "text/plain": [
       "4"
      ]
     },
     "execution_count": 16,
     "metadata": {},
     "output_type": "execute_result"
    }
   ],
   "source": [
    "# load from dict\n",
    "fn_from_dict = CallableModel(**fn.dict()) \n",
    "fn_from_dict()"
   ]
  },
  {
   "cell_type": "code",
   "execution_count": 17,
   "metadata": {},
   "outputs": [
    {
     "data": {
      "text/plain": [
       "'{\"callable\": \"__main__:test_function\", \"kwargs\": {\"x\": 1, \"y\": 3}}'"
      ]
     },
     "execution_count": 17,
     "metadata": {},
     "output_type": "execute_result"
    }
   ],
   "source": [
    "# json representation\n",
    "fn.json() "
   ]
  },
  {
   "cell_type": "code",
   "execution_count": 18,
   "metadata": {},
   "outputs": [
    {
     "data": {
      "text/plain": [
       "4"
      ]
     },
     "execution_count": 18,
     "metadata": {},
     "output_type": "execute_result"
    }
   ],
   "source": [
    "# callable from json\n",
    "fn_from_json = CallableModel.parse_raw(fn.json())\n",
    "fn_from_json()"
   ]
  },
  {
   "cell_type": "markdown",
   "metadata": {},
   "source": [
    "# With Classes"
   ]
  },
  {
   "cell_type": "code",
   "execution_count": 19,
   "metadata": {},
   "outputs": [],
   "source": [
    "# Class kwargs passed after\n",
    "parameterized_class = CallableModel(callable=TestClass, kwargs={\"x\":1, \"y\":3})\n",
    "test_class_obj = parameterized_class()\n",
    "assert isinstance(test_class_obj, (TestClass,))"
   ]
  },
  {
   "cell_type": "code",
   "execution_count": 20,
   "metadata": {},
   "outputs": [
    {
     "data": {
      "text/plain": [
       "{'callable': __main__.TestClass, 'kwargs': {'x': 1, 'y': 3}}"
      ]
     },
     "execution_count": 20,
     "metadata": {},
     "output_type": "execute_result"
    }
   ],
   "source": [
    "# dict rep\n",
    "parameterized_class_dict = parameterized_class.dict()\n",
    "parameterized_class_dict"
   ]
  },
  {
   "cell_type": "code",
   "execution_count": 21,
   "metadata": {},
   "outputs": [
    {
     "data": {
      "text/plain": [
       "CallableModel(callable=<class '__main__.TestClass'>, kwargs={'x': 1, 'y': 3})"
      ]
     },
     "execution_count": 21,
     "metadata": {},
     "output_type": "execute_result"
    }
   ],
   "source": [
    "# from dict\n",
    "parameterized_class_from_dict = CallableModel(**parameterized_class_dict)\n",
    "parameterized_class_from_dict"
   ]
  },
  {
   "cell_type": "code",
   "execution_count": 22,
   "metadata": {},
   "outputs": [],
   "source": [
    "parameterized_class_from_dict_obj = parameterized_class_from_dict()\n",
    "assert isinstance(parameterized_class_from_dict_obj, (TestClass,))"
   ]
  },
  {
   "cell_type": "code",
   "execution_count": 23,
   "metadata": {},
   "outputs": [
    {
     "data": {
      "text/plain": [
       "'{\"callable\": \"__main__:TestClass\", \"kwargs\": {\"x\": 1, \"y\": 3}}'"
      ]
     },
     "execution_count": 23,
     "metadata": {},
     "output_type": "execute_result"
    }
   ],
   "source": [
    "#json \n",
    "parameterized_class_json = parameterized_class.json()\n",
    "parameterized_class_json"
   ]
  },
  {
   "cell_type": "code",
   "execution_count": 24,
   "metadata": {},
   "outputs": [],
   "source": [
    "parameterized_class_from_json = CallableModel.parse_raw(parameterized_class_json)\n",
    "test_class_obj = parameterized_class_from_json()\n",
    "assert isinstance(test_class_obj, (TestClass,))"
   ]
  },
  {
   "cell_type": "markdown",
   "metadata": {},
   "source": [
    "We can use the callables to construct a dynamic object loader. The generic type allows us to use this same method for any executor. The syntax: `ObjLoader[ThreadPoolExecutor]` composes a new class entirely, this one specific to the `ThreadPoolExecutor`. "
   ]
  },
  {
   "cell_type": "code",
   "execution_count": 25,
   "metadata": {},
   "outputs": [],
   "source": [
    "class ObjLoader(\n",
    "    GenericModel,\n",
    "    Generic[ObjType],\n",
    "    arbitrary_types_allowed=True,\n",
    "    json_encoders=JSON_ENCODERS,\n",
    "):\n",
    "    object: Optional[ObjType]\n",
    "    loader: CallableModel = None\n",
    "    object_type: Optional[type]\n",
    "\n",
    "    @root_validator(pre=True)\n",
    "    def validate_all(cls, values):\n",
    "        # inspect class init signature\n",
    "        obj_type = cls.__fields__[\"object\"].type_\n",
    "        \n",
    "        # adjust for re init from json\n",
    "        if \"loader\" not in values:\n",
    "            loader = CallableModel(callable=obj_type, **values)\n",
    "\n",
    "        else:\n",
    "            # validate loader callable is same as obj type\n",
    "            if values[\"loader\"].get(\"callable\") is not None:\n",
    "                # unparameterized callable will handle parsing\n",
    "                callable = CallableModel(\n",
    "                    callable=values[\"loader\"][\"callable\"]\n",
    "                )\n",
    "                \n",
    "                if not callable.callable is obj_type:\n",
    "                    raise ValueError(\n",
    "                        \"Provided loader of type %s. ObjLoader parameterized for %s\",\n",
    "                        callable.callable.__name__,\n",
    "                        obj_type,\n",
    "                    )\n",
    "\n",
    "                # opt for obj type\n",
    "                values[\"loader\"].pop(\"callable\")\n",
    "\n",
    "            # re-init drop callable from loader vals to use new instance\n",
    "            loader = CallableModel(callable=obj_type, **values[\"loader\"])\n",
    "\n",
    "        # update the class json encoders. Will only execute on initial type construction\n",
    "        if obj_type not in cls.__config__.json_encoders:\n",
    "            cls.__config__.json_encoders[obj_type] = cls.__config__.json_encoders.pop(\n",
    "                ObjType\n",
    "            )\n",
    "        return {\"object_type\": obj_type, \"loader\": loader}\n",
    "\n",
    "    def load(self, store: bool = False):\n",
    "        # store object reference on loader\n",
    "        if store:\n",
    "            self.object = self.loader.call()\n",
    "            return self.object\n",
    "\n",
    "        # return loaded object w/o storing\n",
    "        else:\n",
    "            return self.loader()"
   ]
  },
  {
   "cell_type": "markdown",
   "metadata": {},
   "source": [
    "Let's test object loader on our `TestClass`:"
   ]
  },
  {
   "cell_type": "code",
   "execution_count": 26,
   "metadata": {},
   "outputs": [
    {
     "data": {
      "text/plain": [
       "<__main__.TestClass at 0x118377a00>"
      ]
     },
     "execution_count": 26,
     "metadata": {},
     "output_type": "execute_result"
    }
   ],
   "source": [
    "# create type\n",
    "TestClassLoader = ObjLoader[TestClass]\n",
    "\n",
    "obj_loader = TestClassLoader(kwargs={\"x\":1, \"y\":3})\n",
    "loaded = obj_loader.load()\n",
    "loaded"
   ]
  },
  {
   "cell_type": "markdown",
   "metadata": {},
   "source": [
    "Can do this for a generic object like `ThreadPoolExecutor`:"
   ]
  },
  {
   "cell_type": "code",
   "execution_count": 27,
   "metadata": {},
   "outputs": [],
   "source": [
    "# create Type\n",
    "TPELoader = ObjLoader[ThreadPoolExecutor]\n",
    "\n",
    "tpe_loader = TPELoader(kwargs={\"max_workers\":1})\n",
    "tpe = tpe_loader.load()\n",
    "tpe\n",
    "tpe_loader_json  = tpe_loader.json()\n",
    "tpe_loader_json\n",
    "tpe_loader_from_json = TPELoader.parse_raw(tpe_loader_json)\n",
    "\n",
    "\n",
    "# shutdown tpe\n",
    "tpe.shutdown()\n"
   ]
  },
  {
   "cell_type": "markdown",
   "metadata": {},
   "source": [
    "## Executors\n",
    "The previous classes were an attempt to demonstrate generic utility. The Executors to follow will build off of those common utilities to parameterize generic executors complying with the pep-3148 standard (the callables have been typified in case of deviation). Likewise, the following BaseExecutor outlines common executor fields and methods."
   ]
  },
  {
   "cell_type": "code",
   "execution_count": 28,
   "metadata": {},
   "outputs": [],
   "source": [
    "# COMMON BASE FOR EXECUTORS\n",
    "class BaseExecutor(\n",
    "    GenericModel,\n",
    "    Generic[ObjType],\n",
    "    arbitrary_types_allowed=True,\n",
    "    json_encoders=JSON_ENCODERS,\n",
    "):\n",
    "    # executor_type must comply with https://peps.python.org/pep-3148/ standard\n",
    "    loader: Optional[ObjLoader[ObjType]] # loader of executor type\n",
    "\n",
    "    # This is a utility field not included in reps. The typing lib has opened issues on access of generic type within class.\n",
    "    # This tracks for if-necessary future use.\n",
    "    executor_type: type = Field(None, exclude=True) \n",
    "    submit_callable: str = \"submit\"\n",
    "    map_callable: str = \"map\"\n",
    "    shutdown_callable: str = \"shutdown\"\n",
    "\n",
    "    # executor will not be explicitely serialized, but loaded using loader with class\n",
    "    # and kwargs\n",
    "    executor: Optional[ObjType]\n",
    "\n",
    "    @root_validator(pre=True)\n",
    "    def validate_all(cls, values):\n",
    "        executor_type = cls.__fields__[\"executor\"].type_ # introspect fields to get type\n",
    "\n",
    "        # check if executor provided\n",
    "        executor = values.get(\"executor\")\n",
    "        if executor is not None:\n",
    "            values.pop(\"executor\")\n",
    "        \n",
    "        # VALIDATE SUBMIT CALLABLE AGAINST EXECUTOR TYPE\n",
    "        if \"submit_callable\" not in values:\n",
    "            # use default\n",
    "            submit_callable = cls.__fields__[\"submit_callable\"].default\n",
    "        else:\n",
    "            submit_callable = values.pop(\"submit_callable\")\n",
    "\n",
    "        try:\n",
    "            getattr(executor_type, submit_callable)\n",
    "        except AttributeError:\n",
    "            raise ValueError(\n",
    "                \"Executor type %s has no submit method %s.\",\n",
    "                executor_type.__name__,\n",
    "                submit_callable,\n",
    "            )\n",
    "\n",
    "        # VALIDATE MAP CALLABLE AGAINST EXECUTOR TYPE\n",
    "        if not values.get(\"map_callable\"):\n",
    "            # use default\n",
    "            map_callable = cls.__fields__[\"map_callable\"].default\n",
    "        else:\n",
    "            map_callable = values.pop(\"map_callable\")\n",
    "\n",
    "        try:\n",
    "            getattr(executor_type, map_callable)\n",
    "        except AttributeError:\n",
    "            raise ValueError(\n",
    "                \"Executor type %s has no map method %s.\",\n",
    "                executor_type.__name__,\n",
    "                map_callable,\n",
    "            )\n",
    "\n",
    "        # VALIDATE SHUTDOWN CALLABLE AGAINST EXECUTOR TYPE\n",
    "        if not values.get(\"shutdown_callable\"):\n",
    "            # use default\n",
    "            shutdown_callable = cls.__fields__[\"shutdown_callable\"].default\n",
    "        else:\n",
    "            shutdown_callable = values.pop(\"shutdown_callable\")\n",
    "\n",
    "        try:\n",
    "            getattr(executor_type, shutdown_callable)\n",
    "        except AttributeError:\n",
    "            raise ValueError(\n",
    "                \"Executor type %s has no shutdown method %s.\",\n",
    "                executor_type.__name__,\n",
    "                shutdown_callable,\n",
    "            )\n",
    "\n",
    "        # Compose loader utility\n",
    "        if values.get(\"loader\") is not None:\n",
    "            loader_values = values.get(\"loader\")\n",
    "            loader = ObjLoader[executor_type](**loader_values)\n",
    "\n",
    "        else:\n",
    "            # maintain reference to original object\n",
    "            loader_values = copy.copy(values)\n",
    "\n",
    "            # if executor in values, need to remove\n",
    "            if \"executor\" in loader_values:\n",
    "                loader_values.pop(\"executor\")\n",
    "\n",
    "            loader = ObjLoader[executor_type](**loader_values)\n",
    "\n",
    "        # update encoders\n",
    "        # update the class json encoders. Will only execute on initial type construction\n",
    "        if executor_type not in cls.__config__.json_encoders:\n",
    "            cls.__config__.json_encoders[\n",
    "                executor_type\n",
    "            ] = cls.__config__.json_encoders.pop(ObjType)\n",
    "\n",
    "        return {\n",
    "            \"executor_type\": executor_type,\n",
    "            \"submit_callable\": submit_callable,\n",
    "            \"shutdown_callable\": shutdown_callable,\n",
    "            \"map_callable\": map_callable,\n",
    "            \"loader\": loader,\n",
    "            \"executor\": executor,\n",
    "        }\n",
    "\n",
    "    def shutdown(self) -> None:\n",
    "        shutdown_fn = getattr(self.executor, self.shutdown_callable)\n",
    "        shutdown_fn()"
   ]
  },
  {
   "cell_type": "markdown",
   "metadata": {},
   "source": [
    "## Normal, ContextExecutor\n",
    "Now, we subclass base to create two executors: `NormalExecutor`, and `ContextExecutor`. In the case that the user would like to create a persistent executor passed to the Evaluator, they would use the NormalExecutor. The ContextExecutor provides a context manager to dynamically create executor instances during execution."
   ]
  },
  {
   "cell_type": "code",
   "execution_count": 29,
   "metadata": {},
   "outputs": [],
   "source": [
    "# NormalExecutor with no context handling on submission and executor persistence\n",
    "class NormalExecutor(\n",
    "    BaseExecutor[ObjType],\n",
    "    Generic[ObjType],\n",
    "    arbitrary_types_allowed=True,\n",
    "    json_encoders=JSON_ENCODERS,\n",
    "):\n",
    "\n",
    "    @validator(\"executor\", always=True)\n",
    "    def validate_executor(cls, v, values):\n",
    "\n",
    "        if v is None:\n",
    "            v = values[\"loader\"].load()\n",
    "\n",
    "        # if not None, validate against executor type\n",
    "        else:\n",
    "            if not isinstance(v, (values[\"executor_type\"],)):\n",
    "                raise ValueError(\n",
    "                    \"Provided executor is not instance of %s\",\n",
    "                    values[\"executor_type\"].__name__,\n",
    "                )\n",
    "\n",
    "        return v\n",
    "\n",
    "    def submit(self, fn, **kwargs) -> Future:\n",
    "        submit_fn = getattr(self.executor, self.submit_callable)\n",
    "        return submit_fn(fn, **kwargs)\n",
    "\n",
    "    def map(self, fn, iter: Iterable) -> Iterable[Future]:\n",
    "        map_fn = getattr(self.executor, self.map_callable)\n",
    "        return map_fn(fn, *iter)"
   ]
  },
  {
   "cell_type": "markdown",
   "metadata": {},
   "source": [
    "Create some NormalExecutors: (must manually shutdown)"
   ]
  },
  {
   "cell_type": "code",
   "execution_count": 30,
   "metadata": {},
   "outputs": [
    {
     "data": {
      "text/plain": [
       "<Future at 0x118350af0 state=finished returned int>"
      ]
     },
     "execution_count": 30,
     "metadata": {},
     "output_type": "execute_result"
    }
   ],
   "source": [
    "# ThreadPool\n",
    "# create type\n",
    "NormTPExecutor = NormalExecutor[ThreadPoolExecutor]\n",
    "\n",
    "tpe_exec = NormTPExecutor(kwargs={\"max_workers\":1})\n",
    "# submit\n",
    "tpe_exec.submit(fn=test_function, x=1, y=8)"
   ]
  },
  {
   "cell_type": "code",
   "execution_count": 31,
   "metadata": {},
   "outputs": [
    {
     "data": {
      "text/plain": [
       "<generator object Executor.map.<locals>.result_iterator at 0x11837ac10>"
      ]
     },
     "execution_count": 31,
     "metadata": {},
     "output_type": "execute_result"
    }
   ],
   "source": [
    "# map\n",
    "tpe_exec.map(test_function, ((1, 4), (3, 4)))"
   ]
  },
  {
   "cell_type": "code",
   "execution_count": 32,
   "metadata": {},
   "outputs": [],
   "source": [
    "tpe_exec.shutdown()"
   ]
  },
  {
   "cell_type": "code",
   "execution_count": 33,
   "metadata": {},
   "outputs": [
    {
     "name": "stderr",
     "output_type": "stream",
     "text": [
      "2022-06-06 15:05:53,117 - distributed.diskutils - INFO - Found stale lock file and directory '/Users/jgarra/sandbox/Xopt/developer/dask-worker-space/worker-w6g1rimw', purging\n",
      "2022-06-06 15:05:53,119 - distributed.diskutils - INFO - Found stale lock file and directory '/Users/jgarra/sandbox/Xopt/developer/dask-worker-space/worker-na0d07pe', purging\n",
      "2022-06-06 15:05:53,120 - distributed.diskutils - INFO - Found stale lock file and directory '/Users/jgarra/sandbox/Xopt/developer/dask-worker-space/worker-krzkjnsh', purging\n"
     ]
    },
    {
     "data": {
      "text/plain": [
       "<Future at 0x12afa2f70 state=pending>"
      ]
     },
     "execution_count": 33,
     "metadata": {},
     "output_type": "execute_result"
    }
   ],
   "source": [
    "# Dask\n",
    "from distributed import Client\n",
    "from distributed.cfexecutor import ClientExecutor\n",
    "\n",
    "# Using an existing executor\n",
    "client = Client(silence_logs=logging.ERROR)\n",
    "executor = client.get_executor()\n",
    "\n",
    "# create type\n",
    "NormalDaskExecutor =  NormalExecutor[type(executor)]\n",
    "\n",
    "dask_executor = NormalDaskExecutor(executor=executor)\n",
    "dask_executor.submit(fn=test_function, x=1, y=8)"
   ]
  },
  {
   "cell_type": "code",
   "execution_count": 34,
   "metadata": {},
   "outputs": [],
   "source": [
    "res = dask_executor.map(test_function, ((1, 4), (3, 4)))"
   ]
  },
  {
   "cell_type": "code",
   "execution_count": 35,
   "metadata": {},
   "outputs": [
    {
     "name": "stdout",
     "output_type": "stream",
     "text": [
      "4\n",
      "8\n"
     ]
    }
   ],
   "source": [
    "for r in res:\n",
    "    print(r)"
   ]
  },
  {
   "cell_type": "code",
   "execution_count": 36,
   "metadata": {},
   "outputs": [
    {
     "data": {
      "text/plain": [
       "'{\"loader\": {\"object\": null, \"loader\": {\"callable\": \"distributed.cfexecutor:ClientExecutor\", \"kwargs\": {\"client\": null}}, \"object_type\": \"distributed.cfexecutor:ClientExecutor\"}, \"submit_callable\": \"submit\", \"map_callable\": \"map\", \"shutdown_callable\": \"shutdown\", \"executor\": \"distributed.cfexecutor:ClientExecutor\"}'"
      ]
     },
     "execution_count": 36,
     "metadata": {},
     "output_type": "execute_result"
    }
   ],
   "source": [
    "dask_executor_json = dask_executor.json()\n",
    "dask_executor_json"
   ]
  },
  {
   "cell_type": "code",
   "execution_count": 37,
   "metadata": {},
   "outputs": [],
   "source": [
    "dask_executor.shutdown()"
   ]
  },
  {
   "cell_type": "code",
   "execution_count": 38,
   "metadata": {},
   "outputs": [],
   "source": [
    "# this raises error because client not passed...\n",
    "# dask_executor_from_json = NormalDaskExecutor.parse_raw(dask_executor_json)"
   ]
  },
  {
   "cell_type": "markdown",
   "metadata": {},
   "source": [
    "Context managers handle shutdown for us:"
   ]
  },
  {
   "cell_type": "code",
   "execution_count": 39,
   "metadata": {},
   "outputs": [],
   "source": [
    "# ContexExecutor with context handling on submission and no executor persistence\n",
    "class ContextExecutor(\n",
    "    BaseExecutor[ObjType],\n",
    "    Generic[ObjType],\n",
    "    arbitrary_types_allowed=True,\n",
    "    json_encoders=JSON_ENCODERS,\n",
    "):\n",
    "    @contextlib.contextmanager\n",
    "    def context(self):\n",
    "\n",
    "        try:\n",
    "            self.executor = self.loader.load()\n",
    "            yield self.executor\n",
    "\n",
    "        finally:\n",
    "            self.shutdown()\n",
    "            self.executor = None\n",
    "\n",
    "    def submit(self, fn, **kwargs) -> Future:\n",
    "        with self.context() as ctxt:\n",
    "            submit_fn = getattr(ctxt, self.submit_callable)\n",
    "            return submit_fn(fn, **kwargs)\n",
    "        \n",
    "    def map(self, fn, iter: Iterable) -> Iterable[Future]:\n",
    "        with self.context() as ctxt:\n",
    "            map_fn = getattr(ctxt, self.map_callable)\n",
    "            return map_fn(fn, iter)\n"
   ]
  },
  {
   "cell_type": "markdown",
   "metadata": {},
   "source": [
    "Create some ContextExecutors"
   ]
  },
  {
   "cell_type": "code",
   "execution_count": 41,
   "metadata": {},
   "outputs": [
    {
     "data": {
      "text/plain": [
       "<Future at 0x118357700 state=finished returned int>"
      ]
     },
     "execution_count": 41,
     "metadata": {},
     "output_type": "execute_result"
    }
   ],
   "source": [
    "# ThreadPoolExecutor\n",
    "# create type\n",
    "\n",
    "ContextTPExecutor = ContextExecutor[ThreadPoolExecutor]\n",
    "\n",
    "context_exec = ContextTPExecutor(kwargs={\"max_workers\":1})\n",
    "context_exec.submit(fn=test_function, x=1, y=8)"
   ]
  },
  {
   "cell_type": "code",
   "execution_count": 42,
   "metadata": {},
   "outputs": [
    {
     "data": {
      "text/plain": [
       "<generator object Executor.map.<locals>.result_iterator at 0x12bb2feb0>"
      ]
     },
     "execution_count": 42,
     "metadata": {},
     "output_type": "execute_result"
    }
   ],
   "source": [
    "context_exec.map(test_function, ((1, 4), (3, 4)))"
   ]
  },
  {
   "cell_type": "code",
   "execution_count": 43,
   "metadata": {},
   "outputs": [
    {
     "data": {
      "text/plain": [
       "'{\"loader\": {\"object\": null, \"loader\": {\"callable\": \"concurrent.futures.thread:ThreadPoolExecutor\", \"kwargs\": {\"max_workers\": 1, \"thread_name_prefix\": \"\", \"initializer\": null, \"initargs\": []}}, \"object_type\": \"concurrent.futures.thread:ThreadPoolExecutor\"}, \"submit_callable\": \"submit\", \"map_callable\": \"map\", \"shutdown_callable\": \"shutdown\", \"executor\": null}'"
      ]
     },
     "execution_count": 43,
     "metadata": {},
     "output_type": "execute_result"
    }
   ],
   "source": [
    "context_exec_json = context_exec.json()\n",
    "context_exec_json"
   ]
  },
  {
   "cell_type": "code",
   "execution_count": 44,
   "metadata": {},
   "outputs": [
    {
     "data": {
      "text/plain": [
       "<Future at 0x118355310 state=finished returned int>"
      ]
     },
     "execution_count": 44,
     "metadata": {},
     "output_type": "execute_result"
    }
   ],
   "source": [
    "context_exec_from_json = ContextTPExecutor.parse_raw(\n",
    "        context_exec_json\n",
    "    )\n",
    "context_exec_from_json.submit(fn=test_function, x=1, y=8)"
   ]
  },
  {
   "cell_type": "code",
   "execution_count": 45,
   "metadata": {},
   "outputs": [
    {
     "data": {
      "text/plain": [
       "<generator object Executor.map.<locals>.result_iterator at 0x12bb2f040>"
      ]
     },
     "execution_count": 45,
     "metadata": {},
     "output_type": "execute_result"
    }
   ],
   "source": [
    "context_exec_from_json.map(test_function, ((1, 4), (3, 4)))"
   ]
  },
  {
   "cell_type": "markdown",
   "metadata": {},
   "source": [
    "Some executors are generated with Clients that manage sessions:\n",
    "** will require gathering results before shutdown..."
   ]
  },
  {
   "cell_type": "code",
   "execution_count": null,
   "metadata": {},
   "outputs": [],
   "source": []
  }
 ],
 "metadata": {
  "interpreter": {
   "hash": "72034539424920dfb606fe3b820b3f27dca0cbf1c69938110810ec4641e275b1"
  },
  "kernelspec": {
   "display_name": "Python 3 (ipykernel)",
   "language": "python",
   "name": "python3"
  },
  "language_info": {
   "codemirror_mode": {
    "name": "ipython",
    "version": 3
   },
   "file_extension": ".py",
   "mimetype": "text/x-python",
   "name": "python",
   "nbconvert_exporter": "python",
   "pygments_lexer": "ipython3",
   "version": "3.9.13"
  }
 },
 "nbformat": 4,
 "nbformat_minor": 2
}
