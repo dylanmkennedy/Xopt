{
 "cells": [
  {
   "cell_type": "code",
   "execution_count": 18,
   "metadata": {},
   "outputs": [
    {
     "name": "stdout",
     "output_type": "stream",
     "text": [
      "The autoreload extension is already loaded. To reload it, use:\n",
      "  %reload_ext autoreload\n"
     ]
    }
   ],
   "source": [
    "# Useful for debugging\n",
    "%load_ext autoreload\n",
    "%autoreload 2"
   ]
  },
  {
   "cell_type": "markdown",
   "metadata": {},
   "source": [
    "# Xopt class, GPT CBETA DC GUN example\n",
    "\n",
    "This is the class method for running Xopt."
   ]
  },
  {
   "cell_type": "code",
   "execution_count": 17,
   "metadata": {},
   "outputs": [],
   "source": [
    "from xopt import Xopt"
   ]
  },
  {
   "cell_type": "code",
   "execution_count": 135,
   "metadata": {},
   "outputs": [],
   "source": [
    "import yaml\n",
    "\n",
    "# Make a proper input file. \n",
    "\n",
    "YAML=\"\"\"\n",
    "xopt: {output_path: null, verbose: true,\n",
    "  algorithm: cnsga}\n",
    "  \n",
    "algorithm:\n",
    "  name: cnsga\n",
    "  options: {max_generations: 16, population_size: 24, crossover_probability: 0.9, mutation_probability: 1.0,\n",
    "  selection: auto, verbose: true, population: null}\n",
    "\n",
    "simulation:\n",
    "  name: gpt_with_distgen\n",
    "  evaluate: gpt.evaluate.evaluate_gpt_with_distgen\n",
    "  \n",
    "\n",
    "# Note that you can call another file in the top level group:\n",
    "vocs: ../templates/cbeta_dcgun/cbeta_dcgun_vocs.json\n",
    "\n",
    "\"\"\"\n",
    "config = yaml.safe_load(YAML)"
   ]
  },
  {
   "cell_type": "code",
   "execution_count": 136,
   "metadata": {},
   "outputs": [
    {
     "name": "stdout",
     "output_type": "stream",
     "text": [
      "Loading config as dict.\n",
      "Warning: No path set for key xopt : output_path\n",
      "Warning: No path set for key simulation : options : archive_path\n"
     ]
    },
    {
     "data": {
      "text/plain": [
       "\n",
       "            Xopt\n",
       "________________________________           \n",
       "\n",
       "Configured: True\n",
       "\n",
       "Config as YAML:\n",
       "xopt: {output_path: null, verbose: true, algorithm: cnsga}\n",
       "algorithm:\n",
       "  name: cnsga\n",
       "  function: xopt.cnsga.cnsga\n",
       "  options: {max_generations: 16, population_size: 24, crossover_probability: 0.9,\n",
       "    mutation_probability: 1.0, selection: auto, verbose: true, population: null, seed: null}\n",
       "simulation:\n",
       "  name: gpt_with_distgen\n",
       "  evaluate: gpt.evaluate.evaluate_gpt_with_distgen\n",
       "  options: {archive_path: null, merit_f: null, gpt_input_file: /Users/colwyngulliford/Documents/GitHub/xopt/examples/templates/cbeta_dcgun/cbeta_dcgun_gpt.in,\n",
       "    distgen_input_file: /Users/colwyngulliford/Documents/GitHub/xopt/examples/templates/cbeta_dcgun/cbeta_dcgun_distgen.yaml}\n",
       "vocs:\n",
       "  name: cu dcgun\n",
       "  description: Test case\n",
       "  simulation: gpt_with_distgen\n",
       "  templates: {gpt_input_file: /Users/colwyngulliford/Documents/GitHub/xopt/examples/templates/cbeta_dcgun/cbeta_dcgun_gpt.in,\n",
       "    distgen_input_file: /Users/colwyngulliford/Documents/GitHub/xopt/examples/templates/cbeta_dcgun/cbeta_dcgun_distgen.yaml}\n",
       "  variables:\n",
       "    r_dist:sigma_xy:value: [0.0, 10]\n",
       "    r_dist:alpha:value: [0.1, 1.0]\n",
       "    t_dist:sigma_t:value: [0.0, 0.57]\n",
       "    t_dist:alpha:value: [0.0, 1.0]\n",
       "    total_charge:value: [0.0, 5.0]\n",
       "    sol_1_current: [0.0, 5.0]\n",
       "  constants: {n_particle: 200, gun_voltage: 375}\n",
       "  objectives: {end_qbunch: MAXIMIZE, end_norm_emitt_x: MINIMIZE}\n",
       "  constraints:\n",
       "    end_n_lost: [LESS_THAN, 1]\n",
       "  linked_variables: null"
      ]
     },
     "execution_count": 136,
     "metadata": {},
     "output_type": "execute_result"
    }
   ],
   "source": [
    "# Create object\n",
    "X = Xopt(config=config)\n",
    "\n",
    "# Show config\n",
    "X"
   ]
  },
  {
   "cell_type": "code",
   "execution_count": 137,
   "metadata": {},
   "outputs": [
    {
     "data": {
      "text/plain": [
       "{'name': 'cu dcgun',\n",
       " 'description': 'Test case',\n",
       " 'simulation': 'gpt_with_distgen',\n",
       " 'templates': {'gpt_input_file': '/Users/colwyngulliford/Documents/GitHub/xopt/examples/templates/cbeta_dcgun/cbeta_dcgun_gpt.in',\n",
       "  'distgen_input_file': '/Users/colwyngulliford/Documents/GitHub/xopt/examples/templates/cbeta_dcgun/cbeta_dcgun_distgen.yaml'},\n",
       " 'variables': {'r_dist:sigma_xy:value': [0.0, 10],\n",
       "  'r_dist:alpha:value': [0.1, 1.0],\n",
       "  't_dist:sigma_t:value': [0.0, 0.57],\n",
       "  't_dist:alpha:value': [0.0, 1.0],\n",
       "  'total_charge:value': [0.0, 5.0],\n",
       "  'sol_1_current': [0.0, 5.0]},\n",
       " 'constants': {'n_particle': 200, 'gun_voltage': 375},\n",
       " 'objectives': {'end_qbunch': 'MAXIMIZE', 'end_norm_emitt_x': 'MINIMIZE'},\n",
       " 'constraints': {'end_n_lost': ['LESS_THAN', 1]},\n",
       " 'linked_variables': None}"
      ]
     },
     "execution_count": 137,
     "metadata": {},
     "output_type": "execute_result"
    }
   ],
   "source": [
    "# Check vocs\n",
    "X.vocs"
   ]
  },
  {
   "cell_type": "code",
   "execution_count": 138,
   "metadata": {},
   "outputs": [
    {
     "data": {
      "text/plain": [
       "{'r_dist:sigma_xy:value': 9.395276194607893,\n",
       " 'r_dist:alpha:value': 0.33445213041194494,\n",
       " 't_dist:sigma_t:value': 0.3294639899741078,\n",
       " 't_dist:alpha:value': 0.11143010408270693,\n",
       " 'total_charge:value': 0.12118028356290111,\n",
       " 'sol_1_current': 2.3043462795639287,\n",
       " 'n_particle': 200,\n",
       " 'gun_voltage': 375}"
      ]
     },
     "execution_count": 138,
     "metadata": {},
     "output_type": "execute_result"
    }
   ],
   "source": [
    "# Check random inputs\n",
    "X.random_inputs()"
   ]
  },
  {
   "cell_type": "code",
   "execution_count": 139,
   "metadata": {},
   "outputs": [
    {
     "name": "stdout",
     "output_type": "stream",
     "text": [
      "{'error': False, 'end_std_x': 0.012112954117420199, 'end_std_y': 0.011493749474016568, 'end_qbunch': 4.560993235053834e-10, 'end_norm_emitt_x': 2.158856587267534e-05, 'end_norm_emitt_y': 1.9410762122168382e-05, 'end_std_t': 5.067360011836034e-10, 'end_n_particle': 76, 'end_z_screen': 0.9219999999999998, 'end_n_lost': 124, 'fingerprint': 'fc5f9a014700b8cd66054641fe46e42d'}\n",
      "CPU times: user 91.8 ms, sys: 22.9 ms, total: 115 ms\n",
      "Wall time: 1.19 s\n"
     ]
    }
   ],
   "source": [
    "%%time\n",
    "# Do a random evaluate to check that everything will run\n",
    "x=X.random_evaluate()\n",
    "print(x)"
   ]
  },
  {
   "cell_type": "code",
   "execution_count": 140,
   "metadata": {},
   "outputs": [
    {
     "data": {
      "text/plain": [
       "{'end_n_lost': ['LESS_THAN', 1]}"
      ]
     },
     "execution_count": 140,
     "metadata": {},
     "output_type": "execute_result"
    }
   ],
   "source": [
    "X.vocs['constraints']"
   ]
  },
  {
   "cell_type": "code",
   "execution_count": 141,
   "metadata": {},
   "outputs": [
    {
     "data": {
      "text/plain": [
       "{'max_generations': 16,\n",
       " 'population_size': 24,\n",
       " 'crossover_probability': 0.9,\n",
       " 'mutation_probability': 1.0,\n",
       " 'selection': 'auto',\n",
       " 'verbose': True,\n",
       " 'population': None,\n",
       " 'seed': None}"
      ]
     },
     "execution_count": 141,
     "metadata": {},
     "output_type": "execute_result"
    }
   ],
   "source": [
    "# These are the algorithm options\n",
    "X.algorithm['options']"
   ]
  },
  {
   "cell_type": "code",
   "execution_count": 142,
   "metadata": {},
   "outputs": [
    {
     "data": {
      "text/plain": [
       "{'archive_path': None,\n",
       " 'merit_f': None,\n",
       " 'gpt_input_file': '/Users/colwyngulliford/Documents/GitHub/xopt/examples/templates/cbeta_dcgun/cbeta_dcgun_gpt.in',\n",
       " 'distgen_input_file': '/Users/colwyngulliford/Documents/GitHub/xopt/examples/templates/cbeta_dcgun/cbeta_dcgun_distgen.yaml'}"
      ]
     },
     "execution_count": 142,
     "metadata": {},
     "output_type": "execute_result"
    }
   ],
   "source": [
    "# These are the options in the evaluate function\n",
    "X.simulation['options']"
   ]
  },
  {
   "cell_type": "markdown",
   "metadata": {},
   "source": [
    "# Run CNSGA using processes or threads"
   ]
  },
  {
   "cell_type": "code",
   "execution_count": 143,
   "metadata": {},
   "outputs": [],
   "source": [
    "from concurrent.futures import ProcessPoolExecutor as PoolExecutor\n",
    "#from concurrent.futures import ThreadPoolExecutor as PoolExecutor\n",
    "executor = PoolExecutor()"
   ]
  },
  {
   "cell_type": "code",
   "execution_count": 144,
   "metadata": {},
   "outputs": [
    {
     "name": "stdout",
     "output_type": "stream",
     "text": [
      "\n",
      "\n",
      "\n",
      " ▄████▄   ███▄    █   ██████   ▄████  ▄▄▄      \n",
      "▒██▀ ▀█   ██ ▀█   █ ▒██    ▒  ██▒ ▀█▒▒████▄    \n",
      "▒▓█    ▄ ▓██  ▀█ ██▒░ ▓██▄   ▒██░▄▄▄░▒██  ▀█▄  \n",
      "▒▓▓▄ ▄██▒▓██▒  ▐▌██▒  ▒   ██▒░▓█  ██▓░██▄▄▄▄██ \n",
      "▒ ▓███▀ ░▒██░   ▓██░▒██████▒▒░▒▓███▀▒ ▓█   ▓██▒\n",
      "░ ░▒ ▒  ░░ ▒░   ▒ ▒ ▒ ▒▓▒ ▒ ░ ░▒   ▒  ▒▒   ▓▒█░\n",
      "  ░  ▒   ░ ░░   ░ ▒░░ ░▒  ░ ░  ░   ░   ▒   ▒▒ ░\n",
      "░           ░   ░ ░ ░  ░  ░  ░ ░   ░   ░   ▒   \n",
      "░ ░               ░       ░        ░       ░  ░\n",
      "░                                              \n",
      "\n",
      "\n",
      "Continous Non-dominated Sorting Genetic Algorithm\n",
      "\n",
      "\n",
      "Creating toolbox from vocs.\n",
      "Warning: Redefining creator.MyFitness\n",
      "Warning in cnsga_toolbox: Redefining creator.Individual\n",
      "Created toolbox with 6 variables, 1 constraints, and 2 objectives.\n",
      "    Using selection algorithm: nsga2\n",
      "vocs:\n",
      "{'constants': {'gun_voltage': 375, 'n_particle': 200},\n",
      " 'constraints': {'end_n_lost': ['LESS_THAN', 1]},\n",
      " 'description': 'Test case',\n",
      " 'linked_variables': None,\n",
      " 'name': 'cu dcgun',\n",
      " 'objectives': {'end_norm_emitt_x': 'MINIMIZE', 'end_qbunch': 'MAXIMIZE'},\n",
      " 'simulation': 'gpt_with_distgen',\n",
      " 'templates': {'distgen_input_file': '/Users/colwyngulliford/Documents/GitHub/xopt/examples/templates/cbeta_dcgun/cbeta_dcgun_distgen.yaml',\n",
      "               'gpt_input_file': '/Users/colwyngulliford/Documents/GitHub/xopt/examples/templates/cbeta_dcgun/cbeta_dcgun_gpt.in'},\n",
      " 'variables': {'r_dist:alpha:value': [0.1, 1.0],\n",
      "               'r_dist:sigma_xy:value': [0.0, 10],\n",
      "               'sol_1_current': [0.0, 5.0],\n",
      "               't_dist:alpha:value': [0.0, 1.0],\n",
      "               't_dist:sigma_t:value': [0.0, 0.57],\n",
      "               'total_charge:value': [0.0, 5.0]}}\n",
      "Initializing with a new population, size 24\n",
      "Maximum generations: 16\n",
      "____________________________________________________\n",
      "24 fitness calculations for initial generation\n",
      "Exception caught in cnsga_evaluate: No final screen in GPT data passed to gpt.evaluate.default_gpt_merit!\n",
      ".......Exception caught in cnsga_evaluate: No final screen in GPT data passed to gpt.evaluate.default_gpt_merit!\n",
      ".......Exception caught in cnsga_evaluate: No final screen in GPT data passed to gpt.evaluate.default_gpt_merit!\n",
      "..........done.\n",
      "Submitting first batch of children\n",
      "...................Exception caught in cnsga_evaluate: No final screen in GPT data passed to gpt.evaluate.default_gpt_merit!\n",
      "...Exception caught in cnsga_evaluate: No final screen in GPT data passed to gpt.evaluate.default_gpt_merit!\n",
      ".Exception caught in cnsga_evaluate: No final screen in GPT data passed to gpt.evaluate.default_gpt_merit!\n",
      ".Exception caught in cnsga_evaluate: No final screen in GPT data passed to gpt.evaluate.default_gpt_merit!\n",
      ".done.\n",
      "__________________________________________________________\n",
      "Generation 0 completed in 0.22779 minutes\n",
      "Exception caught in cnsga_evaluate: No final screen in GPT data passed to gpt.evaluate.default_gpt_merit!\n",
      ".Exception caught in cnsga_evaluate: No final screen in GPT data passed to gpt.evaluate.default_gpt_merit!\n",
      ".......................done.\n",
      "__________________________________________________________\n",
      "Generation 1 completed in 0.24397 minutes\n",
      "........................done.\n",
      "__________________________________________________________\n",
      "Generation 2 completed in 0.34413 minutes\n",
      "........................done.\n",
      "__________________________________________________________\n",
      "Generation 3 completed in 0.32490 minutes\n",
      "........................done.\n",
      "__________________________________________________________\n",
      "Generation 4 completed in 0.51190 minutes\n",
      "........................done.\n",
      "__________________________________________________________\n",
      "Generation 5 completed in 0.55135 minutes\n",
      "........................done.\n",
      "__________________________________________________________\n",
      "Generation 6 completed in 0.58643 minutes\n",
      "........................done.\n",
      "__________________________________________________________\n",
      "Generation 7 completed in 0.59589 minutes\n",
      "........................done.\n",
      "__________________________________________________________\n",
      "Generation 8 completed in 0.71941 minutes\n",
      "........................done.\n",
      "__________________________________________________________\n",
      "Generation 9 completed in 0.68119 minutes\n",
      "........................done.\n",
      "__________________________________________________________\n",
      "Generation 10 completed in 0.61236 minutes\n",
      "........................done.\n",
      "__________________________________________________________\n",
      "Generation 11 completed in 0.74969 minutes\n",
      "........................done.\n",
      "__________________________________________________________\n",
      "Generation 12 completed in 0.74847 minutes\n",
      "........................done.\n",
      "__________________________________________________________\n",
      "Generation 13 completed in 0.88218 minutes\n",
      "........................done.\n",
      "__________________________________________________________\n",
      "Generation 14 completed in 0.98667 minutes\n",
      "........................done.\n",
      "__________________________________________________________\n",
      "Generation 15 completed in 0.82251 minutes\n"
     ]
    }
   ],
   "source": [
    "X.run_cnsga(executor=executor)"
   ]
  },
  {
   "cell_type": "markdown",
   "metadata": {},
   "source": [
    "# Ouput\n",
    "The last generation, as well as important simulation data is saved in xopt.population:"
   ]
  },
  {
   "cell_type": "code",
   "execution_count": 145,
   "metadata": {},
   "outputs": [
    {
     "name": "stdout",
     "output_type": "stream",
     "text": [
      "Available population data: ['variables', 'generation', 'vocs', 'error', 'inputs', 'outputs']\n",
      "See which individuals had errors: [False, False, False, False, False, False, False, False, False, False, False, False, False, False, False, False, False, False, False, False, False, False, False, False]\n"
     ]
    }
   ],
   "source": [
    "print('Available population data:',list(X.population.keys()))\n",
    "print('See which individuals had errors:', X.population['error'])"
   ]
  },
  {
   "cell_type": "code",
   "execution_count": 146,
   "metadata": {},
   "outputs": [
    {
     "data": {
      "image/png": "[encoded data removed]",
      "text/plain": [
       "<Figure size 432x288 with 1 Axes>"
      ]
     },
     "metadata": {
      "image/png": {
       "height": 263,
       "width": 380
      },
      "needs_background": "light"
     },
     "output_type": "display_data"
    }
   ],
   "source": [
    "from matplotlib import pyplot as plt\n",
    "import matplotlib \n",
    "import numpy as np\n",
    "\n",
    "%matplotlib inline\n",
    "%config InlineBackend.figure_format = 'retina'\n",
    "\n",
    "qs =  np.array([indin['total_charge:value'] for indin in X.population['inputs']])\n",
    "ens = np.array([indout['end_norm_emitt_x'] for indout in X.population['outputs']])*1e6\n",
    "\n",
    "plt.plot(qs, ens, '*')\n",
    "plt.xlabel('$q_b$ (nC)')\n",
    "plt.ylabel('$\\epsilon_{n,x}$ ($\\mu$m)');"
   ]
  },
  {
   "cell_type": "markdown",
   "metadata": {},
   "source": [
    "# Write this configuration"
   ]
  },
  {
   "cell_type": "code",
   "execution_count": 10,
   "metadata": {},
   "outputs": [
    {
     "name": "stdout",
     "output_type": "stream",
     "text": [
      "Config written as YAML to test.yaml\n"
     ]
    }
   ],
   "source": [
    "X.save('test.yaml')"
   ]
  },
  {
   "cell_type": "code",
   "execution_count": 11,
   "metadata": {},
   "outputs": [
    {
     "name": "stdout",
     "output_type": "stream",
     "text": [
      "xopt: {output_path: null, verbose: true, algorithm: cnsga}\n",
      "algorithm:\n",
      "  name: cnsga\n",
      "  options: {max_generations: 16, population_size: 8, crossover_probability: 0.9, mutation_probability: 1.0,\n",
      "    selection: auto, verbose: true, seed: null}\n",
      "  max_generations: 16\n",
      "  population_size: 8\n",
      "  crossover_probability: 0.9\n",
      "  mutation_probability: 1.0\n",
      "  selection: auto\n",
      "  verbose: true\n",
      "  seed: null\n",
      "simulation: {name: gpt_with_distgen, evaluate: gpt.evaluate.evaluate_gpt_with_distgen}\n",
      "vocs:\n",
      "  constants: {gun_voltage: 375}\n",
      "  constraints:\n",
      "    end_std_t: [LESS_THAN, 0.0015]\n",
      "  description: Test case\n",
      "  name: CBETA DC GUN\n",
      "  objectives: {end_norm_emitt_x: MINIMIZE, end_qbunch: MAXIMIZE}\n",
      "  simulation: gpt_with_distgen\n",
      "  templates: {distgen_input_file: /Users/chrisonian/Code/GitHub/xopt/examples/cbeta.dcgun/template/cbeta.dcgun.distgen.in.json,\n",
      "    gpt_input_file: /Users/chrisonian/Code/GitHub/xopt/examples/cbeta.dcgun/template/cbeta.dcgun.gpt.in}\n",
      "  variables:\n",
      "    beam:params:sigma_xy:value: [0, 5]\n",
      "    beam:params:total_charge:value: [0, 500]\n",
      "    sol_1_current: [0, 5]\n",
      "  linked_variables: null\n"
     ]
    }
   ],
   "source": [
    "!cat test.yaml"
   ]
  },
  {
   "cell_type": "markdown",
   "metadata": {},
   "source": [
    "# Run with MPI"
   ]
  },
  {
   "cell_type": "code",
   "execution_count": 16,
   "metadata": {},
   "outputs": [
    {
     "name": "stdout",
     "output_type": "stream",
     "text": [
      "  _   \n",
      "                | |  \n",
      "__  _____  _ __ | |_ \n",
      "\\ \\/ / _ \\| '_ \\| __|\n",
      " >  < (_) | |_) | |_ \n",
      "/_/\\_\\___/| .__/ \\__|\n",
      "          | |        \n",
      "          |_|        \n",
      "\n",
      "_________________________________\n",
      "Parallel execution with 4 workers\n",
      "Loading /Users/chrisonian/Code/GitHub/xopt/examples/xopt_class/test.yaml as YAML \n",
      "Warning: No path set for key xopt::output_path\n",
      "\n",
      "{'max_generations': 16, 'population_size': 8, 'crossover_probability': 0.9, 'mutation_probability': 1.0, 'selection': 'auto', 'verbose': True, 'seed': None}\n",
      "\n",
      "\n",
      "\n",
      " ▄████▄   ███▄    █   ██████   ▄████  ▄▄▄      \n",
      "▒██▀ ▀█   ██ ▀█   █ ▒██    ▒  ██▒ ▀█▒▒████▄    \n",
      "▒▓█    ▄ ▓██  ▀█ ██▒░ ▓██▄   ▒██░▄▄▄░▒██  ▀█▄  \n",
      "▒▓▓▄ ▄██▒▓██▒  ▐▌██▒  ▒   ██▒░▓█  ██▓░██▄▄▄▄██ \n",
      "▒ ▓███▀ ░▒██░   ▓██░▒██████▒▒░▒▓███▀▒ ▓█   ▓██▒\n",
      "░ ░▒ ▒  ░░ ▒░   ▒ ▒ ▒ ▒▓▒ ▒ ░ ░▒   ▒  ▒▒   ▓▒█░\n",
      "  ░  ▒   ░ ░░   ░ ▒░░ ░▒  ░ ░  ░   ░   ▒   ▒▒ ░\n",
      "░           ░   ░ ░ ░  ░  ░  ░ ░   ░   ░   ▒   \n",
      "░ ░               ░       ░        ░       ░  ░\n",
      "░                                              \n",
      "\n",
      "\n",
      "Continous Non-dominated Sorting Genetic Algorithm\n",
      "\n",
      "\n",
      "Creating toolbox from vocs.\n",
      "Created toolbox with 3 variables, 1 constraints, and 2 objectives.\n",
      "    Using selection algorithm: nsga2\n",
      "vocs:\n",
      "{'constants': {'gun_voltage': 375},\n",
      " 'constraints': {'end_std_t': ['LESS_THAN', 0.0015]},\n",
      " 'description': 'Test case',\n",
      " 'linked_variables': None,\n",
      " 'name': 'CBETA DC GUN',\n",
      " 'objectives': {'end_norm_emitt_x': 'MINIMIZE', 'end_qbunch': 'MAXIMIZE'},\n",
      " 'simulation': 'gpt_with_distgen',\n",
      " 'templates': {'distgen_input_file': '/Users/chrisonian/Code/GitHub/xopt/examples/cbeta.dcgun/template/cbeta.dcgun.distgen.in.json',\n",
      "               'gpt_input_file': '/Users/chrisonian/Code/GitHub/xopt/examples/cbeta.dcgun/template/cbeta.dcgun.gpt.in'},\n",
      " 'variables': {'beam:params:sigma_xy:value': [0, 5],\n",
      "               'beam:params:total_charge:value': [0, 500],\n",
      "               'sol_1_current': [0, 5]}}\n",
      "Initializing with a new population, size 8\n",
      "____________________________________________________\n",
      "8 fitness calculations for initial generation\n",
      "........done.\n",
      "Submitting first batch of children\n",
      ".........done.\n",
      "__________________________________________________________\n",
      "Generation 0 completed in 0.09145 minutes\n",
      "........done.\n",
      "__________________________________________________________\n",
      "Generation 1 completed in 0.06515 minutes\n",
      "........done.\n",
      "__________________________________________________________\n",
      "Generation 2 completed in 0.05454 minutes\n",
      "........done.\n",
      "__________________________________________________________\n",
      "Generation 3 completed in 0.06319 minutes\n",
      "........done.\n",
      "__________________________________________________________\n",
      "Generation 4 completed in 0.06184 minutes\n",
      "........done.\n",
      "__________________________________________________________\n",
      "Generation 5 completed in 0.06411 minutes\n",
      "........done.\n",
      "__________________________________________________________\n",
      "Generation 6 completed in 0.06711 minutes\n",
      "........done.\n",
      "__________________________________________________________\n",
      "Generation 7 completed in 0.05403 minutes\n",
      "........done.\n",
      "__________________________________________________________\n",
      "Generation 8 completed in 0.05870 minutes\n",
      "........done.\n",
      "__________________________________________________________\n",
      "Generation 9 completed in 0.05523 minutes\n",
      "........done.\n",
      "__________________________________________________________\n",
      "Generation 10 completed in 0.04689 minutes\n",
      "........done.\n",
      "__________________________________________________________\n",
      "Generation 11 completed in 0.05825 minutes\n",
      "........done.\n",
      "__________________________________________________________\n",
      "Generation 12 completed in 0.05066 minutes\n",
      "........done.\n",
      "__________________________________________________________\n",
      "Generation 13 completed in 0.06418 minutes\n",
      "........done.\n",
      "__________________________________________________________\n",
      "Generation 14 completed in 0.04314 minutes\n",
      "........done.\n",
      "__________________________________________________________\n",
      "Generation 15 completed in 0.04927 minutes\n",
      "/Users/chrisonian/Code/miniconda3/envs/devel/lib/python3.7/site-packages/pint/quantity.py:221: BehaviorChangeWarning: The way Pint handles NumPy operations has changed with the\n",
      "implementation of NEP 18. Unimplemented NumPy operations will now fail instead of making\n",
      "assumptions about units. Some functions, eg concat, will now return Quanties with units, where\n",
      "they returned ndarrays previously. See https://github.com/hgrecco/pint/pull/905.\n",
      "\n",
      "To hide this warning, wrap your first creation of an array Quantity with\n",
      "warnings.catch_warnings(), like the following:\n",
      "\n",
      "import numpy as np\n",
      "import warnings\n",
      "from pint import Quantity\n",
      "\n",
      "with warnings.catch_warnings():\n",
      "    warnings.simplefilter(\"ignore\")\n",
      "    Quantity([])\n",
      "\n",
      "To disable the new behavior, see\n",
      "https://www.numpy.org/neps/nep-0018-array-function-protocol.html#implementation\n",
      "\n",
      "  warnings.warn(array_function_change_msg, BehaviorChangeWarning)\n",
      "/Users/chrisonian/Code/miniconda3/envs/devel/lib/python3.7/site-packages/pint/quantity.py:221: BehaviorChangeWarning: The way Pint handles NumPy operations has changed with the\n",
      "implementation of NEP 18. Unimplemented NumPy operations will now fail instead of making\n",
      "assumptions about units. Some functions, eg concat, will now return Quanties with units, where\n",
      "they returned ndarrays previously. See https://github.com/hgrecco/pint/pull/905.\n",
      "\n",
      "To hide this warning, wrap your first creation of an array Quantity with\n",
      "warnings.catch_warnings(), like the following:\n",
      "\n",
      "import numpy as np\n",
      "import warnings\n",
      "from pint import Quantity\n",
      "\n",
      "with warnings.catch_warnings():\n",
      "    warnings.simplefilter(\"ignore\")\n",
      "    Quantity([])\n",
      "\n",
      "To disable the new behavior, see\n",
      "https://www.numpy.org/neps/nep-0018-array-function-protocol.html#implementation\n",
      "\n",
      "  warnings.warn(array_function_change_msg, BehaviorChangeWarning)\n",
      "/Users/chrisonian/Code/miniconda3/envs/devel/lib/python3.7/site-packages/pint/quantity.py:221: BehaviorChangeWarning: The way Pint handles NumPy operations has changed with the\n",
      "implementation of NEP 18. Unimplemented NumPy operations will now fail instead of making\n",
      "assumptions about units. Some functions, eg concat, will now return Quanties with units, where\n",
      "they returned ndarrays previously. See https://github.com/hgrecco/pint/pull/905.\n",
      "\n",
      "To hide this warning, wrap your first creation of an array Quantity with\n",
      "warnings.catch_warnings(), like the following:\n",
      "\n",
      "import numpy as np\n",
      "import warnings\n",
      "from pint import Quantity\n",
      "\n",
      "with warnings.catch_warnings():\n",
      "    warnings.simplefilter(\"ignore\")\n",
      "    Quantity([])\n",
      "\n",
      "To disable the new behavior, see\n",
      "https://www.numpy.org/neps/nep-0018-array-function-protocol.html#implementation\n",
      "\n",
      "  warnings.warn(array_function_change_msg, BehaviorChangeWarning)\n"
     ]
    }
   ],
   "source": [
    "!mpirun -n 4 python -m mpi4py.futures -m xopt.mpi.run test.yaml"
   ]
  },
  {
   "cell_type": "markdown",
   "metadata": {},
   "source": [
    "# Dask "
   ]
  },
  {
   "cell_type": "code",
   "execution_count": null,
   "metadata": {},
   "outputs": [],
   "source": [
    "from dask.distributed import Client\n",
    "executor = Client()\n",
    "executor"
   ]
  },
  {
   "cell_type": "code",
   "execution_count": null,
   "metadata": {},
   "outputs": [],
   "source": [
    "# Wait a few seconds for the Dask cluster to start\n",
    "from time import sleep\n",
    "sleep(5)"
   ]
  },
  {
   "cell_type": "code",
   "execution_count": null,
   "metadata": {},
   "outputs": [],
   "source": [
    "# Increase the number of generations\n",
    "X.algorithm['options']['max_generations'] = 7\n",
    "X.run_cnsga(executor)"
   ]
  },
  {
   "cell_type": "code",
   "execution_count": null,
   "metadata": {},
   "outputs": [],
   "source": [
    "X.population"
   ]
  },
  {
   "cell_type": "markdown",
   "metadata": {},
   "source": [
    "# Cleanup"
   ]
  },
  {
   "cell_type": "code",
   "execution_count": null,
   "metadata": {},
   "outputs": [],
   "source": [
    "!rm -r dask-worker-space"
   ]
  },
  {
   "cell_type": "code",
   "execution_count": null,
   "metadata": {},
   "outputs": [],
   "source": [
    "!rm test.yaml"
   ]
  }
 ],
 "metadata": {
  "kernelspec": {
   "display_name": "Python 3",
   "language": "python",
   "name": "python3"
  },
  "language_info": {
   "codemirror_mode": {
    "name": "ipython",
    "version": 3
   },
   "file_extension": ".py",
   "mimetype": "text/x-python",
   "name": "python",
   "nbconvert_exporter": "python",
   "pygments_lexer": "ipython3",
   "version": "3.6.7"
  }
 },
 "nbformat": 4,
 "nbformat_minor": 4
}
