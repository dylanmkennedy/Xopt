{
 "cells": [
  {
   "cell_type": "markdown",
   "metadata": {
    "pycharm": {
     "name": "#%% md\n"
    }
   },
   "source": [
    "# Xopt basic example\n",
    "\n",
    "An Xopt problem can be described by a simple YAML file. Here we will demonstrate how this is used to optimize a well-known constrained multi-objective test function, TNK.\n",
    "\n",
    "## TNK test function\n",
    "\n",
    "The TNK function is defined with:\n",
    "\n",
    "$n=2$ variables:\n",
    "$x_i \\in [0, \\pi], i=1,2$\n",
    "\n",
    "Objectives:\n",
    "- $f_i(x) = x_i$\n",
    "\n",
    "Constraints:\n",
    "- $g_1(x) = -x_1^2 -x_2^2 + 1 + 0.1 \\cos\\left(16 \\arctan \\frac{x_1}{x_2}\\right) \\le 0$\n",
    "- $g_2(x) = (x_1 - 1/2)^2 + (x_2-1/2)^2 \\le 0.5$"
   ]
  },
  {
   "cell_type": "code",
   "execution_count": 1,
   "metadata": {
    "pycharm": {
     "name": "#%%\n"
    }
   },
   "outputs": [],
   "source": [
    "# Import the class\n",
    "from xopt import Xopt"
   ]
  },
  {
   "cell_type": "code",
   "execution_count": 2,
   "metadata": {
    "pycharm": {
     "name": "#%%\n"
    }
   },
   "outputs": [],
   "source": [
    "!mkdir -p temp"
   ]
  },
  {
   "cell_type": "markdown",
   "metadata": {
    "pycharm": {
     "name": "#%% md\n"
    }
   },
   "source": [
    "The `Xopt` object can be instantiated from a JSON or YAML file, or a dict, with the proper structure.\n",
    "\n",
    "Here we will make one"
   ]
  },
  {
   "cell_type": "code",
   "execution_count": 3,
   "metadata": {
    "collapsed": false,
    "pycharm": {
     "name": "#%%\n"
    }
   },
   "outputs": [],
   "source": [
    "# Make a proper input file.\n",
    "YAML = \"\"\"\n",
    "xopt: {}\n",
    "generator:\n",
    "    name: random\n",
    "\n",
    "evaluator:\n",
    "    function: xopt.resources.test_functions.tnk.evaluate_TNK\n",
    "\n",
    "vocs:\n",
    "    variables:\n",
    "        x1: [0, 3.14159]\n",
    "        x2: [0, 3.14159]\n",
    "    objectives: {y1: MINIMIZE, y2: MINIMIZE}\n",
    "    constraints:\n",
    "        c1: [GREATER_THAN, 0]\n",
    "        c2: [LESS_THAN, 0.5]\n",
    "    linked_variables: {x9: x1}\n",
    "    constants: {a: dummy_constant}\n",
    "\n",
    "\"\"\""
   ]
  },
  {
   "cell_type": "code",
   "execution_count": 4,
   "metadata": {
    "collapsed": false,
    "pycharm": {
     "name": "#%%\n"
    }
   },
   "outputs": [],
   "source": [
    "# create Xopt object.\n",
    "X = Xopt(YAML)"
   ]
  },
  {
   "cell_type": "code",
   "execution_count": 5,
   "metadata": {},
   "outputs": [
    {
     "data": {
      "text/plain": [
       "\n",
       "            Xopt \n",
       "________________________________           \n",
       "Version: 0.5.0+104.gaf8ee7d.dirty\n",
       "Data size: 0\n",
       "Config as YAML:\n",
       "xopt: {asynch: false, strict: false, dump_file: null, max_evaluations: null}\n",
       "generator: {name: random}\n",
       "evaluator:\n",
       "  function: xopt.resources.test_functions.tnk.evaluate_TNK\n",
       "  function_kwargs: {extra_option: abc, sleep: 0, random_sleep: 0}\n",
       "  max_workers: 1\n",
       "  executor: NormalExecutor\n",
       "vocs:\n",
       "  variables:\n",
       "    x1: [0.0, 3.14159]\n",
       "    x2: [0.0, 3.14159]\n",
       "  constraints:\n",
       "    c1: [GREATER_THAN, 0.0]\n",
       "    c2: [LESS_THAN, 0.5]\n",
       "  objectives: {y1: MINIMIZE, y2: MINIMIZE}\n",
       "  constants: {a: dummy_constant}\n",
       "  linked_variables: {x9: x1}\n"
      ]
     },
     "execution_count": 5,
     "metadata": {},
     "output_type": "execute_result"
    }
   ],
   "source": [
    "# Convenient representation of the state.\n",
    "X"
   ]
  },
  {
   "cell_type": "markdown",
   "metadata": {
    "collapsed": false,
    "pycharm": {
     "name": "#%% md\n"
    }
   },
   "source": []
  },
  {
   "cell_type": "code",
   "execution_count": 6,
   "metadata": {},
   "outputs": [
    {
     "data": {
      "text/plain": [
       "{'y1': array([1.46491625, 0.06779624, 1.78002768, 2.08753017, 0.02694074,\n",
       "        1.08545818, 0.60901242, 0.09455726, 3.12220857, 0.35700177]),\n",
       " 'y2': array([2.70563541, 2.00104993, 1.62548022, 1.90787294, 0.22343354,\n",
       "        1.55441052, 1.22470204, 1.15524309, 2.91130889, 0.64551066]),\n",
       " 'c1': array([ 8.47501937,  2.92312301,  4.73587489,  6.92251302, -0.91514152,\n",
       "         2.68905911,  0.82545343,  0.31742355, 17.13912974, -0.4331685 ]),\n",
       " 'c2': array([ 5.79589095,  2.43995099,  2.9051766 ,  4.50235826,  0.30027407,\n",
       "         1.45454283,  0.53707675,  0.59372732, 12.69038835,  0.04162185]),\n",
       " 'some_array': array([1, 2, 3])}"
      ]
     },
     "execution_count": 6,
     "metadata": {},
     "output_type": "execute_result"
    }
   ],
   "source": [
    "X.random_evaluate(10)"
   ]
  },
  {
   "cell_type": "markdown",
   "metadata": {
    "collapsed": false,
    "pycharm": {
     "name": "#%% md\n"
    }
   },
   "source": [
    "# Run Random data generation"
   ]
  },
  {
   "cell_type": "code",
   "execution_count": 7,
   "metadata": {
    "collapsed": false,
    "pycharm": {
     "name": "#%%\n"
    }
   },
   "outputs": [],
   "source": [
    "# Take one step (generate a single point)\n",
    "X.step()"
   ]
  },
  {
   "cell_type": "code",
   "execution_count": 8,
   "metadata": {
    "collapsed": false,
    "pycharm": {
     "name": "#%%\n"
    }
   },
   "outputs": [
    {
     "data": {
      "text/html": [
       "<div>\n",
       "<style scoped>\n",
       "    .dataframe tbody tr th:only-of-type {\n",
       "        vertical-align: middle;\n",
       "    }\n",
       "\n",
       "    .dataframe tbody tr th {\n",
       "        vertical-align: top;\n",
       "    }\n",
       "\n",
       "    .dataframe thead th {\n",
       "        text-align: right;\n",
       "    }\n",
       "</style>\n",
       "<table border=\"1\" class=\"dataframe\">\n",
       "  <thead>\n",
       "    <tr style=\"text-align: right;\">\n",
       "      <th></th>\n",
       "      <th>x1</th>\n",
       "      <th>x2</th>\n",
       "      <th>a</th>\n",
       "      <th>x9</th>\n",
       "      <th>y1</th>\n",
       "      <th>y2</th>\n",
       "      <th>c1</th>\n",
       "      <th>c2</th>\n",
       "      <th>some_array</th>\n",
       "      <th>xopt_error</th>\n",
       "      <th>xopt_error_str</th>\n",
       "    </tr>\n",
       "  </thead>\n",
       "  <tbody>\n",
       "    <tr>\n",
       "      <th>1</th>\n",
       "      <td>2.342932</td>\n",
       "      <td>2.312747</td>\n",
       "      <td>dummy_constant</td>\n",
       "      <td>2.342932</td>\n",
       "      <td>2.342932</td>\n",
       "      <td>2.312747</td>\n",
       "      <td>9.738662</td>\n",
       "      <td>6.682447</td>\n",
       "      <td>[1, 2, 3]</td>\n",
       "      <td>False</td>\n",
       "      <td></td>\n",
       "    </tr>\n",
       "  </tbody>\n",
       "</table>\n",
       "</div>"
      ],
      "text/plain": [
       "         x1        x2               a        x9        y1        y2        c1  \\\n",
       "1  2.342932  2.312747  dummy_constant  2.342932  2.342932  2.312747  9.738662   \n",
       "\n",
       "         c2 some_array  xopt_error xopt_error_str  \n",
       "1  6.682447  [1, 2, 3]       False                 "
      ]
     },
     "execution_count": 8,
     "metadata": {},
     "output_type": "execute_result"
    }
   ],
   "source": [
    "# examine the results\n",
    "X.data"
   ]
  },
  {
   "cell_type": "code",
   "execution_count": 9,
   "metadata": {
    "collapsed": false,
    "pycharm": {
     "name": "#%%\n"
    }
   },
   "outputs": [
    {
     "data": {
      "text/html": [
       "<div>\n",
       "<style scoped>\n",
       "    .dataframe tbody tr th:only-of-type {\n",
       "        vertical-align: middle;\n",
       "    }\n",
       "\n",
       "    .dataframe tbody tr th {\n",
       "        vertical-align: top;\n",
       "    }\n",
       "\n",
       "    .dataframe thead th {\n",
       "        text-align: right;\n",
       "    }\n",
       "</style>\n",
       "<table border=\"1\" class=\"dataframe\">\n",
       "  <thead>\n",
       "    <tr style=\"text-align: right;\">\n",
       "      <th></th>\n",
       "      <th>x1</th>\n",
       "      <th>x2</th>\n",
       "      <th>a</th>\n",
       "      <th>x9</th>\n",
       "      <th>y1</th>\n",
       "      <th>y2</th>\n",
       "      <th>c1</th>\n",
       "      <th>c2</th>\n",
       "      <th>some_array</th>\n",
       "      <th>xopt_error</th>\n",
       "      <th>xopt_error_str</th>\n",
       "    </tr>\n",
       "  </thead>\n",
       "  <tbody>\n",
       "    <tr>\n",
       "      <th>1</th>\n",
       "      <td>2.342932</td>\n",
       "      <td>2.312747</td>\n",
       "      <td>dummy_constant</td>\n",
       "      <td>2.342932</td>\n",
       "      <td>2.342932</td>\n",
       "      <td>2.312747</td>\n",
       "      <td>9.738662</td>\n",
       "      <td>6.682447</td>\n",
       "      <td>[1, 2, 3]</td>\n",
       "      <td>False</td>\n",
       "      <td></td>\n",
       "    </tr>\n",
       "    <tr>\n",
       "      <th>2</th>\n",
       "      <td>2.783804</td>\n",
       "      <td>0.371473</td>\n",
       "      <td>dummy_constant</td>\n",
       "      <td>2.783804</td>\n",
       "      <td>2.783804</td>\n",
       "      <td>0.371473</td>\n",
       "      <td>6.939973</td>\n",
       "      <td>5.232281</td>\n",
       "      <td>[1, 2, 3]</td>\n",
       "      <td>False</td>\n",
       "      <td></td>\n",
       "    </tr>\n",
       "    <tr>\n",
       "      <th>3</th>\n",
       "      <td>0.854244</td>\n",
       "      <td>1.330249</td>\n",
       "      <td>dummy_constant</td>\n",
       "      <td>0.854244</td>\n",
       "      <td>0.854244</td>\n",
       "      <td>1.330249</td>\n",
       "      <td>1.595088</td>\n",
       "      <td>0.814803</td>\n",
       "      <td>[1, 2, 3]</td>\n",
       "      <td>False</td>\n",
       "      <td></td>\n",
       "    </tr>\n",
       "    <tr>\n",
       "      <th>4</th>\n",
       "      <td>2.625216</td>\n",
       "      <td>1.795142</td>\n",
       "      <td>dummy_constant</td>\n",
       "      <td>2.625216</td>\n",
       "      <td>2.625216</td>\n",
       "      <td>1.795142</td>\n",
       "      <td>9.212824</td>\n",
       "      <td>6.193935</td>\n",
       "      <td>[1, 2, 3]</td>\n",
       "      <td>False</td>\n",
       "      <td></td>\n",
       "    </tr>\n",
       "    <tr>\n",
       "      <th>5</th>\n",
       "      <td>2.572399</td>\n",
       "      <td>1.653561</td>\n",
       "      <td>dummy_constant</td>\n",
       "      <td>2.572399</td>\n",
       "      <td>2.572399</td>\n",
       "      <td>1.653561</td>\n",
       "      <td>8.447495</td>\n",
       "      <td>5.625539</td>\n",
       "      <td>[1, 2, 3]</td>\n",
       "      <td>False</td>\n",
       "      <td></td>\n",
       "    </tr>\n",
       "    <tr>\n",
       "      <th>6</th>\n",
       "      <td>2.948624</td>\n",
       "      <td>0.117227</td>\n",
       "      <td>dummy_constant</td>\n",
       "      <td>2.948624</td>\n",
       "      <td>2.948624</td>\n",
       "      <td>0.117227</td>\n",
       "      <td>7.627664</td>\n",
       "      <td>6.142275</td>\n",
       "      <td>[1, 2, 3]</td>\n",
       "      <td>False</td>\n",
       "      <td></td>\n",
       "    </tr>\n",
       "    <tr>\n",
       "      <th>7</th>\n",
       "      <td>1.064323</td>\n",
       "      <td>2.734920</td>\n",
       "      <td>dummy_constant</td>\n",
       "      <td>1.064323</td>\n",
       "      <td>1.064323</td>\n",
       "      <td>2.734920</td>\n",
       "      <td>7.518465</td>\n",
       "      <td>5.313326</td>\n",
       "      <td>[1, 2, 3]</td>\n",
       "      <td>False</td>\n",
       "      <td></td>\n",
       "    </tr>\n",
       "    <tr>\n",
       "      <th>8</th>\n",
       "      <td>0.357485</td>\n",
       "      <td>0.671888</td>\n",
       "      <td>dummy_constant</td>\n",
       "      <td>0.357485</td>\n",
       "      <td>0.357485</td>\n",
       "      <td>0.671888</td>\n",
       "      <td>-0.423823</td>\n",
       "      <td>0.049856</td>\n",
       "      <td>[1, 2, 3]</td>\n",
       "      <td>False</td>\n",
       "      <td></td>\n",
       "    </tr>\n",
       "    <tr>\n",
       "      <th>9</th>\n",
       "      <td>1.615418</td>\n",
       "      <td>2.737898</td>\n",
       "      <td>dummy_constant</td>\n",
       "      <td>1.615418</td>\n",
       "      <td>1.615418</td>\n",
       "      <td>2.737898</td>\n",
       "      <td>9.168139</td>\n",
       "      <td>6.252347</td>\n",
       "      <td>[1, 2, 3]</td>\n",
       "      <td>False</td>\n",
       "      <td></td>\n",
       "    </tr>\n",
       "    <tr>\n",
       "      <th>10</th>\n",
       "      <td>1.793458</td>\n",
       "      <td>1.073320</td>\n",
       "      <td>dummy_constant</td>\n",
       "      <td>1.793458</td>\n",
       "      <td>1.793458</td>\n",
       "      <td>1.073320</td>\n",
       "      <td>3.438455</td>\n",
       "      <td>2.001730</td>\n",
       "      <td>[1, 2, 3]</td>\n",
       "      <td>False</td>\n",
       "      <td></td>\n",
       "    </tr>\n",
       "    <tr>\n",
       "      <th>11</th>\n",
       "      <td>2.531983</td>\n",
       "      <td>2.386242</td>\n",
       "      <td>dummy_constant</td>\n",
       "      <td>2.531983</td>\n",
       "      <td>2.531983</td>\n",
       "      <td>2.386242</td>\n",
       "      <td>11.016114</td>\n",
       "      <td>7.686865</td>\n",
       "      <td>[1, 2, 3]</td>\n",
       "      <td>False</td>\n",
       "      <td></td>\n",
       "    </tr>\n",
       "  </tbody>\n",
       "</table>\n",
       "</div>"
      ],
      "text/plain": [
       "          x1        x2               a        x9        y1        y2  \\\n",
       "1   2.342932  2.312747  dummy_constant  2.342932  2.342932  2.312747   \n",
       "2   2.783804  0.371473  dummy_constant  2.783804  2.783804  0.371473   \n",
       "3   0.854244  1.330249  dummy_constant  0.854244  0.854244  1.330249   \n",
       "4   2.625216  1.795142  dummy_constant  2.625216  2.625216  1.795142   \n",
       "5   2.572399  1.653561  dummy_constant  2.572399  2.572399  1.653561   \n",
       "6   2.948624  0.117227  dummy_constant  2.948624  2.948624  0.117227   \n",
       "7   1.064323  2.734920  dummy_constant  1.064323  1.064323  2.734920   \n",
       "8   0.357485  0.671888  dummy_constant  0.357485  0.357485  0.671888   \n",
       "9   1.615418  2.737898  dummy_constant  1.615418  1.615418  2.737898   \n",
       "10  1.793458  1.073320  dummy_constant  1.793458  1.793458  1.073320   \n",
       "11  2.531983  2.386242  dummy_constant  2.531983  2.531983  2.386242   \n",
       "\n",
       "           c1        c2 some_array  xopt_error xopt_error_str  \n",
       "1    9.738662  6.682447  [1, 2, 3]       False                 \n",
       "2    6.939973  5.232281  [1, 2, 3]       False                 \n",
       "3    1.595088  0.814803  [1, 2, 3]       False                 \n",
       "4    9.212824  6.193935  [1, 2, 3]       False                 \n",
       "5    8.447495  5.625539  [1, 2, 3]       False                 \n",
       "6    7.627664  6.142275  [1, 2, 3]       False                 \n",
       "7    7.518465  5.313326  [1, 2, 3]       False                 \n",
       "8   -0.423823  0.049856  [1, 2, 3]       False                 \n",
       "9    9.168139  6.252347  [1, 2, 3]       False                 \n",
       "10   3.438455  2.001730  [1, 2, 3]       False                 \n",
       "11  11.016114  7.686865  [1, 2, 3]       False                 "
      ]
     },
     "execution_count": 9,
     "metadata": {},
     "output_type": "execute_result"
    }
   ],
   "source": [
    "# take a couple of steps and examine the results\n",
    "for _ in range(10):\n",
    "    X.step()\n",
    "X.data"
   ]
  },
  {
   "cell_type": "markdown",
   "metadata": {
    "collapsed": false,
    "pycharm": {
     "name": "#%% md\n"
    }
   },
   "source": [
    "# Plotting\n",
    "Plot the objective results"
   ]
  },
  {
   "cell_type": "code",
   "execution_count": 10,
   "metadata": {
    "collapsed": false,
    "pycharm": {
     "name": "#%%\n"
    }
   },
   "outputs": [
    {
     "data": {
      "text/plain": [
       "<AxesSubplot:xlabel='y1', ylabel='y2'>"
      ]
     },
     "execution_count": 10,
     "metadata": {},
     "output_type": "execute_result"
    },
    {
     "data": {
      "image/png": "[encoded data removed]",
      "text/plain": [
       "<Figure size 432x288 with 1 Axes>"
      ]
     },
     "metadata": {
      "needs_background": "light"
     },
     "output_type": "display_data"
    }
   ],
   "source": [
    "import matplotlib.pyplot as plt\n",
    "\n",
    "X.data.plot(*X.vocs.objective_names, kind=\"scatter\")"
   ]
  },
  {
   "cell_type": "code",
   "execution_count": 11,
   "metadata": {
    "pycharm": {
     "name": "#%%\n"
    }
   },
   "outputs": [],
   "source": [
    "# Cleanup\n",
    "!rm -r temp"
   ]
  },
  {
   "cell_type": "markdown",
   "metadata": {},
   "source": [
    "# Alternative initialiation methods\n",
    "\n",
    "For convenience, if the first (and only) positional argument is present, then Xopt will automatically try to load from JSON, YAML str or files, or as a dict."
   ]
  },
  {
   "cell_type": "code",
   "execution_count": 12,
   "metadata": {},
   "outputs": [],
   "source": [
    "import yaml\n",
    "import json\n",
    "\n",
    "config  = yaml.safe_load(YAML) \n",
    "# All these methods work\n",
    "\n",
    "X = Xopt(YAML)\n",
    "X = Xopt(config)\n",
    "X = Xopt(json.dumps(config, indent=4))\n"
   ]
  },
  {
   "cell_type": "markdown",
   "metadata": {},
   "source": []
  }
 ],
 "metadata": {
  "interpreter": {
   "hash": "72034539424920dfb606fe3b820b3f27dca0cbf1c69938110810ec4641e275b1"
  },
  "kernelspec": {
   "display_name": "Python 3.9.12 ('xopt-dev')",
   "language": "python",
   "name": "python3"
  },
  "language_info": {
   "codemirror_mode": {
    "name": "ipython",
    "version": 3
   },
   "file_extension": ".py",
   "mimetype": "text/x-python",
   "name": "python",
   "nbconvert_exporter": "python",
   "pygments_lexer": "ipython3",
   "version": "3.9.12"
  }
 },
 "nbformat": 4,
 "nbformat_minor": 4
}
