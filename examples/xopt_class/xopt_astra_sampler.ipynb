{
 "cells": [
  {
   "cell_type": "code",
   "execution_count": 1,
   "metadata": {},
   "outputs": [],
   "source": [
    "# Useful for debugging\n",
    "%load_ext autoreload\n",
    "%autoreload 2"
   ]
  },
  {
   "cell_type": "markdown",
   "metadata": {},
   "source": [
    "# Xopt class, Astra kekgun example\n",
    "\n",
    "This is the class method for running Xopt."
   ]
  },
  {
   "cell_type": "code",
   "execution_count": 2,
   "metadata": {},
   "outputs": [],
   "source": [
    "from xopt import Xopt"
   ]
  },
  {
   "cell_type": "code",
   "execution_count": 3,
   "metadata": {},
   "outputs": [],
   "source": [
    "# Make a proper input file. \n",
    "YAML=\"\"\"\n",
    "xopt: {output_path: temp, verbose: true,\n",
    "  algorithm: random_sampler}\n",
    "  \n",
    "algorithm:\n",
    "  name: random_sampler\n",
    "  options: {verbose: T, chunk_size: 4, max_samples: 10} \n",
    "\n",
    "simulation:\n",
    "  name: astra_with_generator\n",
    "  evaluate: astra.evaluate.evaluate_astra_with_generator\n",
    "\n",
    "# Note that you can call another file in the top level group:\n",
    "vocs: ../templates/kekgun/kekgun_vocs.yaml\n",
    "\n",
    "\"\"\""
   ]
  },
  {
   "cell_type": "code",
   "execution_count": 4,
   "metadata": {},
   "outputs": [],
   "source": [
    "!mkdir temp/"
   ]
  },
  {
   "cell_type": "code",
   "execution_count": 5,
   "metadata": {},
   "outputs": [
    {
     "name": "stdout",
     "output_type": "stream",
     "text": [
      "Loading config as text\n",
      "Warning: No path set for key simulation : options : archive_path\n"
     ]
    },
    {
     "data": {
      "text/plain": [
       "\n",
       "            Xopt\n",
       "________________________________           \n",
       "\n",
       "Configured: True\n",
       "\n",
       "Config as YAML:\n",
       "xopt: {output_path: /Users/chrisonian/Code/GitHub/xopt/examples/xopt_class/temp, verbose: true,\n",
       "  algorithm: random_sampler}\n",
       "algorithm:\n",
       "  name: random_sampler\n",
       "  function: xopt.sampler.random_sampler\n",
       "  options: {verbose: T, chunk_size: 4, max_samples: 10}\n",
       "simulation:\n",
       "  name: astra_with_generator\n",
       "  evaluate: astra.evaluate.evaluate_astra_with_generator\n",
       "  options: {archive_path: null, merit_f: null, astra_input_file: /Users/chrisonian/Code/GitHub/xopt/examples/templates/kekgun/kekgun.in,\n",
       "    generator_input_file: /Users/chrisonian/Code/GitHub/xopt/examples/templates/kekgun/dist004.in}\n",
       "vocs:\n",
       "  name: kekgun\n",
       "  description: Test case\n",
       "  simulation: astra_with_generator\n",
       "  templates: {astra_input_file: /Users/chrisonian/Code/GitHub/xopt/examples/templates/kekgun/kekgun.in,\n",
       "    generator_input_file: /Users/chrisonian/Code/GitHub/xopt/examples/templates/kekgun/dist004.in}\n",
       "  variables:\n",
       "    sig_x: [0.05, 1]\n",
       "    lt: [0.005, 0.07]\n",
       "    maxe(1): [20, 50]\n",
       "    phi(1): [-30, 30]\n",
       "    maxb(1): [0, 0.4]\n",
       "    maxe(2): [0, 32]\n",
       "    phi(2): [-180, 180]\n",
       "    maxb(2): [0, 0.3]\n",
       "    maxe(3): [0, 32]\n",
       "    maxe(4): [0, 32]\n",
       "    phi(3): [-45, 45]\n",
       "    phi(4): [-45, 45]\n",
       "    phi(6): [-45, 45]\n",
       "  constants: {ipart: 1000, lspch: true, zstop: 0.2}\n",
       "  objectives: {end_core_emit_95percent_x: MINIMIZE, end_sigma_z: MINIMIZE}\n",
       "  constraints:\n",
       "    end_sigma_z: [LESS_THAN, 0.0015]\n",
       "    end_core_emit_95percent_x: [LESS_THAN, 9.0e-07]\n",
       "    end_sigma_energy: [LESS_THAN, 200000.0]\n",
       "    end_higher_order_energy_spread: [LESS_THAN, 5000.0]\n",
       "    end_mean_kinetic_energy: [GREATER_THAN, 90000000.0]\n",
       "    end_n_particle_loss: [LESS_THAN, 1]\n",
       "  linked_variables: null"
      ]
     },
     "execution_count": 5,
     "metadata": {},
     "output_type": "execute_result"
    }
   ],
   "source": [
    "# Create object\n",
    "X = Xopt(config=YAML)\n",
    "\n",
    "# Change some things to make it run faster\n",
    "X.vocs['constants']['lspch'] = True\n",
    "X.vocs['constants']['ipart'] = 1000\n",
    "X.vocs['constants']['zstop'] = 0.2\n",
    "\n",
    "# Show config\n",
    "X"
   ]
  },
  {
   "cell_type": "code",
   "execution_count": 6,
   "metadata": {},
   "outputs": [
    {
     "data": {
      "text/plain": [
       "{'sig_x': 0.3125087039190068,\n",
       " 'lt': 0.03587862531760073,\n",
       " 'maxe(1)': 21.048796957165067,\n",
       " 'phi(1)': -28.138426182906002,\n",
       " 'maxb(1)': 0.28927980245270796,\n",
       " 'maxe(2)': 3.559850900836569,\n",
       " 'phi(2)': -76.1261659263858,\n",
       " 'maxb(2)': 0.1013113963280232,\n",
       " 'maxe(3)': 8.961632963763591,\n",
       " 'maxe(4)': 15.741697433367396,\n",
       " 'phi(3)': 10.696016285724198,\n",
       " 'phi(4)': 4.121524091726776,\n",
       " 'phi(6)': 9.07009530916448,\n",
       " 'ipart': 1000,\n",
       " 'lspch': True,\n",
       " 'zstop': 0.2}"
      ]
     },
     "execution_count": 6,
     "metadata": {},
     "output_type": "execute_result"
    }
   ],
   "source": [
    "# Check random inputs \n",
    "X.random_inputs()"
   ]
  },
  {
   "cell_type": "code",
   "execution_count": 7,
   "metadata": {},
   "outputs": [
    {
     "name": "stdout",
     "output_type": "stream",
     "text": [
      "CPU times: user 88.2 ms, sys: 16.6 ms, total: 105 ms\n",
      "Wall time: 10.3 s\n"
     ]
    },
    {
     "data": {
      "text/plain": [
       "{'error': False,\n",
       " 'end_mean_z': 0.2,\n",
       " 'end_norm_emit_x': 1.9506e-06,\n",
       " 'end_core_emit_95percent_x': 1.5555e-06,\n",
       " 'end_core_emit_90percent_x': 1.2696e-06,\n",
       " 'end_core_emit_80percent_x': 8.696399999999999e-07,\n",
       " 'end_norm_emit_y': 2.0367999999999997e-06,\n",
       " 'end_core_emit_95percent_y': 1.6228e-06,\n",
       " 'end_core_emit_90percent_y': 1.356e-06,\n",
       " 'end_core_emit_80percent_y': 9.5781e-07,\n",
       " 'end_norm_emit_z': 8.4806,\n",
       " 'end_core_emit_95percent_z': 7.376699999999999e-06,\n",
       " 'end_core_emit_905percent_z': 6.5559e-06,\n",
       " 'end_core_emit_80percent_z': 5.151699999999999e-06,\n",
       " 'end_mean_t': 7.671900000000001e-10,\n",
       " 'end_mean_x': 5.9476000000000005e-06,\n",
       " 'end_sigma_x': 0.0018534,\n",
       " 'end_sigma_xp': 0.0087061,\n",
       " 'end_cov_x__xp': 1.612902816e-05,\n",
       " 'end_mean_y': 1.9978e-05,\n",
       " 'end_sigma_y': 0.0019029000000000001,\n",
       " 'end_sigma_yp': 0.0089346,\n",
       " 'end_cov_y__yp': 1.6994609610000002e-05,\n",
       " 'end_mean_kinetic_energy': 1667400.0,\n",
       " 'end_sigma_z': 0.0025594000000000003,\n",
       " 'end_sigma_energy': 40941.0,\n",
       " 'end_cov_z__energy': -104.44143580000001,\n",
       " 'end_n_particle_loss': 853,\n",
       " 'end_total_charge': 1.4699999999999998e-11,\n",
       " 'end_higher_order_energy_spread': 1647.6989645172491,\n",
       " 'fingerprint': 'a4ba10f641237da42f55abe39a05c12e'}"
      ]
     },
     "execution_count": 7,
     "metadata": {},
     "output_type": "execute_result"
    }
   ],
   "source": [
    "%%time\n",
    "# Do a random evaluate to check that everything will run\n",
    "output = X.random_evaluate()\n",
    "output"
   ]
  },
  {
   "cell_type": "code",
   "execution_count": 8,
   "metadata": {},
   "outputs": [
    {
     "data": {
      "text/plain": [
       "{'verbose': 'T', 'chunk_size': 4, 'max_samples': 10}"
      ]
     },
     "execution_count": 8,
     "metadata": {},
     "output_type": "execute_result"
    }
   ],
   "source": [
    "# These are the algorithm options\n",
    "X.algorithm['options']"
   ]
  },
  {
   "cell_type": "code",
   "execution_count": 9,
   "metadata": {},
   "outputs": [
    {
     "data": {
      "text/plain": [
       "{'archive_path': None,\n",
       " 'merit_f': None,\n",
       " 'astra_input_file': '/Users/chrisonian/Code/GitHub/xopt/examples/templates/kekgun/kekgun.in',\n",
       " 'generator_input_file': '/Users/chrisonian/Code/GitHub/xopt/examples/templates/kekgun/dist004.in'}"
      ]
     },
     "execution_count": 9,
     "metadata": {},
     "output_type": "execute_result"
    }
   ],
   "source": [
    "# These are the options in the evaluate function\n",
    "X.simulation['options']"
   ]
  },
  {
   "cell_type": "markdown",
   "metadata": {},
   "source": [
    "# Run Sampler using processes or threads"
   ]
  },
  {
   "cell_type": "code",
   "execution_count": 10,
   "metadata": {},
   "outputs": [],
   "source": [
    "from concurrent.futures import ProcessPoolExecutor as PoolExecutor\n",
    "#from concurrent.futures import ThreadPoolExecutor as PoolExecutor\n",
    "executor = PoolExecutor()"
   ]
  },
  {
   "cell_type": "code",
   "execution_count": 11,
   "metadata": {},
   "outputs": [
    {
     "name": "stdout",
     "output_type": "stream",
     "text": [
      "Starting at time 2020-04-21T15:00:06-07:00\n",
      "\n",
      "\n",
      "███████╗ █████╗ ███╗   ███╗██████╗ ██╗     ███████╗██████╗ \n",
      "██╔════╝██╔══██╗████╗ ████║██╔══██╗██║     ██╔════╝██╔══██╗\n",
      "███████╗███████║██╔████╔██║██████╔╝██║     █████╗  ██████╔╝\n",
      "╚════██║██╔══██║██║╚██╔╝██║██╔═══╝ ██║     ██╔══╝  ██╔══██╗\n",
      "███████║██║  ██║██║ ╚═╝ ██║██║     ███████╗███████╗██║  ██║\n",
      "╚══════╝╚═╝  ╚═╝╚═╝     ╚═╝╚═╝     ╚══════╝╚══════╝╚═╝  ╚═╝\n",
      "                                                           \n",
      "\n",
      "Xopt Random Sampler\n",
      "\n",
      "\n",
      "....4 samples completed in 0.19857 minutes\n",
      "Samples written to:\n",
      " /Users/chrisonian/Code/GitHub/xopt/examples/xopt_class/temp/sampler-2020-04-21-1.json\n",
      "....4 samples completed in 0.14265 minutes\n",
      "Samples written to:\n",
      " /Users/chrisonian/Code/GitHub/xopt/examples/xopt_class/temp/sampler-2020-04-21-2.json\n",
      "..."
     ]
    }
   ],
   "source": [
    "# Show config\n",
    "X.run(executor)"
   ]
  },
  {
   "cell_type": "code",
   "execution_count": 12,
   "metadata": {},
   "outputs": [
    {
     "data": {
      "text/plain": [
       "[False, False, False, False, False, False, False, False, False, False, False]"
      ]
     },
     "execution_count": 12,
     "metadata": {},
     "output_type": "execute_result"
    }
   ],
   "source": [
    "# Check for errors\n",
    "X.population['error']"
   ]
  },
  {
   "cell_type": "markdown",
   "metadata": {},
   "source": [
    "# Write this configuration"
   ]
  },
  {
   "cell_type": "code",
   "execution_count": 13,
   "metadata": {},
   "outputs": [
    {
     "name": "stdout",
     "output_type": "stream",
     "text": [
      "Config written as YAML to test.yaml\n"
     ]
    }
   ],
   "source": [
    "X.save('test.yaml')"
   ]
  },
  {
   "cell_type": "code",
   "execution_count": 14,
   "metadata": {},
   "outputs": [
    {
     "name": "stdout",
     "output_type": "stream",
     "text": [
      "xopt: {output_path: /Users/chrisonian/Code/GitHub/xopt/examples/xopt_class/temp, verbose: true,\n",
      "  algorithm: random_sampler}\n",
      "algorithm:\n",
      "  name: random_sampler\n",
      "  function: xopt.sampler.random_sampler\n",
      "  options: {verbose: T, chunk_size: 4, max_samples: 10}\n",
      "simulation:\n",
      "  name: astra_with_generator\n",
      "  evaluate: astra.evaluate.evaluate_astra_with_generator\n",
      "  options: {archive_path: null, merit_f: null, astra_input_file: /Users/chrisonian/Code/GitHub/xopt/examples/templates/kekgun/kekgun.in,\n",
      "    generator_input_file: /Users/chrisonian/Code/GitHub/xopt/examples/templates/kekgun/dist004.in}\n",
      "vocs:\n",
      "  name: kekgun\n",
      "  description: Test case\n",
      "  simulation: astra_with_generator\n",
      "  templates: {astra_input_file: /Users/chrisonian/Code/GitHub/xopt/examples/templates/kekgun/kekgun.in,\n",
      "    generator_input_file: /Users/chrisonian/Code/GitHub/xopt/examples/templates/kekgun/dist004.in}\n",
      "  variables:\n",
      "    sig_x: [0.05, 1]\n",
      "    lt: [0.005, 0.07]\n",
      "    maxe(1): [20, 50]\n",
      "    phi(1): [-30, 30]\n",
      "    maxb(1): [0, 0.4]\n",
      "    maxe(2): [0, 32]\n",
      "    phi(2): [-180, 180]\n",
      "    maxb(2): [0, 0.3]\n",
      "    maxe(3): [0, 32]\n",
      "    maxe(4): [0, 32]\n",
      "    phi(3): [-45, 45]\n",
      "    phi(4): [-45, 45]\n",
      "    phi(6): [-45, 45]\n",
      "  constants: {ipart: 1000, lspch: true, zstop: 0.2}\n",
      "  objectives: {end_core_emit_95percent_x: MINIMIZE, end_sigma_z: MINIMIZE}\n",
      "  constraints:\n",
      "    end_sigma_z: [LESS_THAN, 0.0015]\n",
      "    end_core_emit_95percent_x: [LESS_THAN, 9.0e-07]\n",
      "    end_sigma_energy: [LESS_THAN, 200000.0]\n",
      "    end_higher_order_energy_spread: [LESS_THAN, 5000.0]\n",
      "    end_mean_kinetic_energy: [GREATER_THAN, 90000000.0]\n",
      "    end_n_particle_loss: [LESS_THAN, 1]\n",
      "  linked_variables: null\n"
     ]
    }
   ],
   "source": [
    "!cat test.yaml"
   ]
  },
  {
   "cell_type": "markdown",
   "metadata": {},
   "source": [
    "# Run with MPI"
   ]
  },
  {
   "cell_type": "code",
   "execution_count": 15,
   "metadata": {},
   "outputs": [
    {
     "name": "stdout",
     "output_type": "stream",
     "text": [
      "  _   \n",
      "                | |  \n",
      "__  _____  _ __ | |_ \n",
      "\\ \\/ / _ \\| '_ \\| __|\n",
      " >  < (_) | |_) | |_ \n",
      "/_/\\_\\___/| .__/ \\__|\n",
      "          | |        \n",
      "          |_|        \n",
      "\n",
      "_________________________________\n",
      "Parallel execution with 4 workers\n",
      "Loading as YAML file: test.yaml\n",
      "Warning: No path set for key simulation : options : archive_path\n",
      "\n",
      "            Xopt\n",
      "________________________________           \n",
      "\n",
      "Configured: True\n",
      "\n",
      "Config as YAML:\n",
      "xopt: {output_path: /Users/chrisonian/Code/GitHub/xopt/examples/xopt_class/temp, verbose: true,\n",
      "  algorithm: random_sampler}\n",
      "algorithm:\n",
      "  name: random_sampler\n",
      "  function: xopt.sampler.random_sampler\n",
      "  options: {verbose: T, chunk_size: 4, max_samples: 10}\n",
      "simulation:\n",
      "  name: astra_with_generator\n",
      "  evaluate: astra.evaluate.evaluate_astra_with_generator\n",
      "  options: {archive_path: null, merit_f: null, astra_input_file: /Users/chrisonian/Code/GitHub/xopt/examples/templates/kekgun/kekgun.in,\n",
      "    generator_input_file: /Users/chrisonian/Code/GitHub/xopt/examples/templates/kekgun/dist004.in}\n",
      "vocs:\n",
      "  name: kekgun\n",
      "  description: Test case\n",
      "  simulation: astra_with_generator\n",
      "  templates: {astra_input_file: /Users/chrisonian/Code/GitHub/xopt/examples/templates/kekgun/kekgun.in,\n",
      "    generator_input_file: /Users/chrisonian/Code/GitHub/xopt/examples/templates/kekgun/dist004.in}\n",
      "  variables:\n",
      "    sig_x: [0.05, 1]\n",
      "    lt: [0.005, 0.07]\n",
      "    maxe(1): [20, 50]\n",
      "    phi(1): [-30, 30]\n",
      "    maxb(1): [0, 0.4]\n",
      "    maxe(2): [0, 32]\n",
      "    phi(2): [-180, 180]\n",
      "    maxb(2): [0, 0.3]\n",
      "    maxe(3): [0, 32]\n",
      "    maxe(4): [0, 32]\n",
      "    phi(3): [-45, 45]\n",
      "    phi(4): [-45, 45]\n",
      "    phi(6): [-45, 45]\n",
      "  constants: {ipart: 1000, lspch: true, zstop: 0.2}\n",
      "  objectives: {end_core_emit_95percent_x: MINIMIZE, end_sigma_z: MINIMIZE}\n",
      "  constraints:\n",
      "    end_sigma_z: [LESS_THAN, 0.0015]\n",
      "    end_core_emit_95percent_x: [LESS_THAN, 9.0e-07]\n",
      "    end_sigma_energy: [LESS_THAN, 200000.0]\n",
      "    end_higher_order_energy_spread: [LESS_THAN, 5000.0]\n",
      "    end_mean_kinetic_energy: [GREATER_THAN, 90000000.0]\n",
      "    end_n_particle_loss: [LESS_THAN, 1]\n",
      "  linked_variables: null\n",
      "\n",
      "Starting at time 2020-04-21T15:00:33-07:00\n",
      "\n",
      "\n",
      "███████╗ █████╗ ███╗   ███╗██████╗ ██╗     ███████╗██████╗ \n",
      "██╔════╝██╔══██╗████╗ ████║██╔══██╗██║     ██╔════╝██╔══██╗\n",
      "███████╗███████║██╔████╔██║██████╔╝██║     █████╗  ██████╔╝\n",
      "╚════██║██╔══██║██║╚██╔╝██║██╔═══╝ ██║     ██╔══╝  ██╔══██╗\n",
      "███████║██║  ██║██║ ╚═╝ ██║██║     ███████╗███████╗██║  ██║\n",
      "╚══════╝╚═╝  ╚═╝╚═╝     ╚═╝╚═╝     ╚══════╝╚══════╝╚═╝  ╚═╝\n",
      "                                                           \n",
      "\n",
      "Xopt Random Sampler\n",
      "\n",
      "\n",
      "....4 samples completed in 0.28913 minutes\n",
      "Samples written to:\n",
      " /Users/chrisonian/Code/GitHub/xopt/examples/xopt_class/temp/sampler-2020-04-21-3.json\n",
      "....4 samples completed in 0.15230 minutes\n",
      "Samples written to:\n",
      " /Users/chrisonian/Code/GitHub/xopt/examples/xopt_class/temp/sampler-2020-04-21-4.json\n",
      "..."
     ]
    }
   ],
   "source": [
    "!mpirun -n 4 python -m mpi4py.futures -m xopt.mpi.run test.yaml"
   ]
  },
  {
   "cell_type": "markdown",
   "metadata": {},
   "source": [
    "# Dask "
   ]
  },
  {
   "cell_type": "code",
   "execution_count": 16,
   "metadata": {},
   "outputs": [
    {
     "data": {
      "text/html": [
       "<table style=\"border: 2px solid white;\">\n",
       "<tr>\n",
       "<td style=\"vertical-align: top; border: 0px solid white\">\n",
       "<h3 style=\"text-align: left;\">Client</h3>\n",
       "<ul style=\"text-align: left; list-style: none; margin: 0; padding: 0;\">\n",
       "  <li><b>Scheduler: </b>tcp://127.0.0.1:56704</li>\n",
       "  <li><b>Dashboard: </b><a href='http://127.0.0.1:8787/status' target='_blank'>http://127.0.0.1:8787/status</a>\n",
       "</ul>\n",
       "</td>\n",
       "<td style=\"vertical-align: top; border: 0px solid white\">\n",
       "<h3 style=\"text-align: left;\">Cluster</h3>\n",
       "<ul style=\"text-align: left; list-style:none; margin: 0; padding: 0;\">\n",
       "  <li><b>Workers: </b>4</li>\n",
       "  <li><b>Cores: </b>8</li>\n",
       "  <li><b>Memory: </b>17.18 GB</li>\n",
       "</ul>\n",
       "</td>\n",
       "</tr>\n",
       "</table>"
      ],
      "text/plain": [
       "<Client: 'tcp://127.0.0.1:56704' processes=4 threads=8, memory=17.18 GB>"
      ]
     },
     "execution_count": 16,
     "metadata": {},
     "output_type": "execute_result"
    }
   ],
   "source": [
    "from dask.distributed import Client\n",
    "executor = Client()\n",
    "#executor = Client(processes=True)\n",
    "executor"
   ]
  },
  {
   "cell_type": "code",
   "execution_count": 17,
   "metadata": {},
   "outputs": [],
   "source": [
    "# Wait a few seconds for the Dask cluster to start\n",
    "from time import sleep\n",
    "sleep(5)"
   ]
  },
  {
   "cell_type": "code",
   "execution_count": 18,
   "metadata": {},
   "outputs": [
    {
     "name": "stdout",
     "output_type": "stream",
     "text": [
      "Starting at time 2020-04-21T15:01:22-07:00\n",
      "\n",
      "\n",
      "███████╗ █████╗ ███╗   ███╗██████╗ ██╗     ███████╗██████╗ \n",
      "██╔════╝██╔══██╗████╗ ████║██╔══██╗██║     ██╔════╝██╔══██╗\n",
      "███████╗███████║██╔████╔██║██████╔╝██║     █████╗  ██████╔╝\n",
      "╚════██║██╔══██║██║╚██╔╝██║██╔═══╝ ██║     ██╔══╝  ██╔══██╗\n",
      "███████║██║  ██║██║ ╚═╝ ██║██║     ███████╗███████╗██║  ██║\n",
      "╚══════╝╚═╝  ╚═╝╚═╝     ╚═╝╚═╝     ╚══════╝╚══════╝╚═╝  ╚═╝\n",
      "                                                           \n",
      "\n",
      "Xopt Random Sampler\n",
      "\n",
      "\n",
      "....4 samples completed in 0.18132 minutes\n",
      "Samples written to:\n",
      " /Users/chrisonian/Code/GitHub/xopt/examples/xopt_class/temp/sampler-2020-04-21-5.json\n",
      "....4 samples completed in 0.15038 minutes\n",
      "Samples written to:\n",
      " /Users/chrisonian/Code/GitHub/xopt/examples/xopt_class/temp/sampler-2020-04-21-6.json\n",
      "..."
     ]
    }
   ],
   "source": [
    "# Run some more\n",
    "X.run(executor)"
   ]
  },
  {
   "cell_type": "code",
   "execution_count": 19,
   "metadata": {},
   "outputs": [
    {
     "data": {
      "text/plain": [
       "[False, False, False, False, False, False, False, False, False, False, False]"
      ]
     },
     "execution_count": 19,
     "metadata": {},
     "output_type": "execute_result"
    }
   ],
   "source": [
    "X.population['error']"
   ]
  },
  {
   "cell_type": "markdown",
   "metadata": {},
   "source": [
    "# Load into Pandas"
   ]
  },
  {
   "cell_type": "code",
   "execution_count": 20,
   "metadata": {},
   "outputs": [],
   "source": [
    "import pandas as pd\n",
    "from glob import glob\n",
    "import json"
   ]
  },
  {
   "cell_type": "code",
   "execution_count": 21,
   "metadata": {},
   "outputs": [
    {
     "data": {
      "text/plain": [
       "['temp/sampler-2020-04-21-6.json',\n",
       " 'temp/sampler-2020-04-21-1.json',\n",
       " 'temp/sampler-2020-04-21-2.json',\n",
       " 'temp/sampler-2020-04-21-3.json',\n",
       " 'temp/sampler-2020-04-21-4.json',\n",
       " 'temp/sampler-2020-04-21-5.json']"
      ]
     },
     "execution_count": 21,
     "metadata": {},
     "output_type": "execute_result"
    }
   ],
   "source": [
    "jfiles = glob('temp/*json')\n",
    "jfiles"
   ]
  },
  {
   "cell_type": "code",
   "execution_count": 22,
   "metadata": {},
   "outputs": [
    {
     "data": {
      "text/plain": [
       "[False, False, False, False]"
      ]
     },
     "execution_count": 22,
     "metadata": {},
     "output_type": "execute_result"
    }
   ],
   "source": [
    "# Load a file\n",
    "data = json.load(open(jfiles[0]))\n",
    "\n",
    "data['inputs']\n",
    "data['outputs']\n",
    "data['error']"
   ]
  },
  {
   "cell_type": "code",
   "execution_count": 23,
   "metadata": {},
   "outputs": [
    {
     "data": {
      "text/html": [
       "<div>\n",
       "<style scoped>\n",
       "    .dataframe tbody tr th:only-of-type {\n",
       "        vertical-align: middle;\n",
       "    }\n",
       "\n",
       "    .dataframe tbody tr th {\n",
       "        vertical-align: top;\n",
       "    }\n",
       "\n",
       "    .dataframe thead th {\n",
       "        text-align: right;\n",
       "    }\n",
       "</style>\n",
       "<table border=\"1\" class=\"dataframe\">\n",
       "  <thead>\n",
       "    <tr style=\"text-align: right;\">\n",
       "      <th></th>\n",
       "      <th>sig_x</th>\n",
       "      <th>lt</th>\n",
       "      <th>maxe(1)</th>\n",
       "      <th>phi(1)</th>\n",
       "      <th>maxb(1)</th>\n",
       "      <th>maxe(2)</th>\n",
       "      <th>phi(2)</th>\n",
       "      <th>maxb(2)</th>\n",
       "      <th>maxe(3)</th>\n",
       "      <th>maxe(4)</th>\n",
       "      <th>phi(3)</th>\n",
       "      <th>phi(4)</th>\n",
       "      <th>phi(6)</th>\n",
       "      <th>ipart</th>\n",
       "      <th>lspch</th>\n",
       "      <th>zstop</th>\n",
       "    </tr>\n",
       "  </thead>\n",
       "  <tbody>\n",
       "    <tr>\n",
       "      <th>0</th>\n",
       "      <td>0.458119</td>\n",
       "      <td>0.019184</td>\n",
       "      <td>28.296020</td>\n",
       "      <td>11.927447</td>\n",
       "      <td>0.036612</td>\n",
       "      <td>0.248458</td>\n",
       "      <td>156.544670</td>\n",
       "      <td>0.142194</td>\n",
       "      <td>29.596363</td>\n",
       "      <td>2.819577</td>\n",
       "      <td>14.759856</td>\n",
       "      <td>-10.940609</td>\n",
       "      <td>-7.521021</td>\n",
       "      <td>1000</td>\n",
       "      <td>True</td>\n",
       "      <td>0.2</td>\n",
       "    </tr>\n",
       "    <tr>\n",
       "      <th>1</th>\n",
       "      <td>0.829987</td>\n",
       "      <td>0.036703</td>\n",
       "      <td>23.685865</td>\n",
       "      <td>15.694877</td>\n",
       "      <td>0.249237</td>\n",
       "      <td>0.830556</td>\n",
       "      <td>159.225886</td>\n",
       "      <td>0.010891</td>\n",
       "      <td>27.463231</td>\n",
       "      <td>9.444380</td>\n",
       "      <td>43.674402</td>\n",
       "      <td>-27.236831</td>\n",
       "      <td>-17.885944</td>\n",
       "      <td>1000</td>\n",
       "      <td>True</td>\n",
       "      <td>0.2</td>\n",
       "    </tr>\n",
       "    <tr>\n",
       "      <th>2</th>\n",
       "      <td>0.545738</td>\n",
       "      <td>0.043216</td>\n",
       "      <td>41.937983</td>\n",
       "      <td>3.789982</td>\n",
       "      <td>0.019387</td>\n",
       "      <td>17.498086</td>\n",
       "      <td>-75.726106</td>\n",
       "      <td>0.256919</td>\n",
       "      <td>20.420493</td>\n",
       "      <td>9.250528</td>\n",
       "      <td>15.486363</td>\n",
       "      <td>27.027219</td>\n",
       "      <td>25.436809</td>\n",
       "      <td>1000</td>\n",
       "      <td>True</td>\n",
       "      <td>0.2</td>\n",
       "    </tr>\n",
       "    <tr>\n",
       "      <th>3</th>\n",
       "      <td>0.530292</td>\n",
       "      <td>0.042600</td>\n",
       "      <td>44.715837</td>\n",
       "      <td>-16.112305</td>\n",
       "      <td>0.218165</td>\n",
       "      <td>26.915230</td>\n",
       "      <td>51.843489</td>\n",
       "      <td>0.067108</td>\n",
       "      <td>1.150015</td>\n",
       "      <td>26.411331</td>\n",
       "      <td>6.842652</td>\n",
       "      <td>-37.487604</td>\n",
       "      <td>20.773493</td>\n",
       "      <td>1000</td>\n",
       "      <td>True</td>\n",
       "      <td>0.2</td>\n",
       "    </tr>\n",
       "  </tbody>\n",
       "</table>\n",
       "</div>"
      ],
      "text/plain": [
       "      sig_x        lt    maxe(1)     phi(1)   maxb(1)    maxe(2)      phi(2)  \\\n",
       "0  0.458119  0.019184  28.296020  11.927447  0.036612   0.248458  156.544670   \n",
       "1  0.829987  0.036703  23.685865  15.694877  0.249237   0.830556  159.225886   \n",
       "2  0.545738  0.043216  41.937983   3.789982  0.019387  17.498086  -75.726106   \n",
       "3  0.530292  0.042600  44.715837 -16.112305  0.218165  26.915230   51.843489   \n",
       "\n",
       "    maxb(2)    maxe(3)    maxe(4)     phi(3)     phi(4)     phi(6)  ipart  \\\n",
       "0  0.142194  29.596363   2.819577  14.759856 -10.940609  -7.521021   1000   \n",
       "1  0.010891  27.463231   9.444380  43.674402 -27.236831 -17.885944   1000   \n",
       "2  0.256919  20.420493   9.250528  15.486363  27.027219  25.436809   1000   \n",
       "3  0.067108   1.150015  26.411331   6.842652 -37.487604  20.773493   1000   \n",
       "\n",
       "   lspch  zstop  \n",
       "0   True    0.2  \n",
       "1   True    0.2  \n",
       "2   True    0.2  \n",
       "3   True    0.2  "
      ]
     },
     "execution_count": 23,
     "metadata": {},
     "output_type": "execute_result"
    }
   ],
   "source": [
    "inputs = pd.DataFrame(data['inputs'])\n",
    "inputs"
   ]
  },
  {
   "cell_type": "code",
   "execution_count": 24,
   "metadata": {},
   "outputs": [
    {
     "data": {
      "text/html": [
       "<div>\n",
       "<style scoped>\n",
       "    .dataframe tbody tr th:only-of-type {\n",
       "        vertical-align: middle;\n",
       "    }\n",
       "\n",
       "    .dataframe tbody tr th {\n",
       "        vertical-align: top;\n",
       "    }\n",
       "\n",
       "    .dataframe thead th {\n",
       "        text-align: right;\n",
       "    }\n",
       "</style>\n",
       "<table border=\"1\" class=\"dataframe\">\n",
       "  <thead>\n",
       "    <tr style=\"text-align: right;\">\n",
       "      <th></th>\n",
       "      <th>error</th>\n",
       "      <th>end_mean_z</th>\n",
       "      <th>end_norm_emit_x</th>\n",
       "      <th>end_core_emit_95percent_x</th>\n",
       "      <th>end_core_emit_90percent_x</th>\n",
       "      <th>end_core_emit_80percent_x</th>\n",
       "      <th>end_norm_emit_y</th>\n",
       "      <th>end_core_emit_95percent_y</th>\n",
       "      <th>end_core_emit_90percent_y</th>\n",
       "      <th>end_core_emit_80percent_y</th>\n",
       "      <th>...</th>\n",
       "      <th>end_sigma_yp</th>\n",
       "      <th>end_cov_y__yp</th>\n",
       "      <th>end_mean_kinetic_energy</th>\n",
       "      <th>end_sigma_z</th>\n",
       "      <th>end_sigma_energy</th>\n",
       "      <th>end_cov_z__energy</th>\n",
       "      <th>end_n_particle_loss</th>\n",
       "      <th>end_total_charge</th>\n",
       "      <th>end_higher_order_energy_spread</th>\n",
       "      <th>fingerprint</th>\n",
       "    </tr>\n",
       "  </thead>\n",
       "  <tbody>\n",
       "    <tr>\n",
       "      <th>0</th>\n",
       "      <td>False</td>\n",
       "      <td>0.2</td>\n",
       "      <td>5.226900e-07</td>\n",
       "      <td>3.296300e-07</td>\n",
       "      <td>2.726400e-07</td>\n",
       "      <td>1.908600e-07</td>\n",
       "      <td>5.146200e-07</td>\n",
       "      <td>3.293000e-07</td>\n",
       "      <td>2.734300e-07</td>\n",
       "      <td>1.905500e-07</td>\n",
       "      <td>...</td>\n",
       "      <td>0.003877</td>\n",
       "      <td>3.628463e-06</td>\n",
       "      <td>1685300.0</td>\n",
       "      <td>0.002108</td>\n",
       "      <td>23024.0</td>\n",
       "      <td>48.304820</td>\n",
       "      <td>0</td>\n",
       "      <td>9.990000e-11</td>\n",
       "      <td>1174.338917</td>\n",
       "      <td>79c900052c1d4cf770471a9ad5456bfb</td>\n",
       "    </tr>\n",
       "    <tr>\n",
       "      <th>1</th>\n",
       "      <td>False</td>\n",
       "      <td>0.2</td>\n",
       "      <td>5.484500e-07</td>\n",
       "      <td>4.139900e-07</td>\n",
       "      <td>3.525700e-07</td>\n",
       "      <td>2.610600e-07</td>\n",
       "      <td>5.437500e-07</td>\n",
       "      <td>4.138100e-07</td>\n",
       "      <td>3.543500e-07</td>\n",
       "      <td>2.621000e-07</td>\n",
       "      <td>...</td>\n",
       "      <td>0.000916</td>\n",
       "      <td>6.110171e-08</td>\n",
       "      <td>1392700.0</td>\n",
       "      <td>0.003755</td>\n",
       "      <td>37465.0</td>\n",
       "      <td>139.637112</td>\n",
       "      <td>0</td>\n",
       "      <td>9.990000e-11</td>\n",
       "      <td>627.766413</td>\n",
       "      <td>268d75f5db93ba0f8b62e2db39c8b9b4</td>\n",
       "    </tr>\n",
       "    <tr>\n",
       "      <th>2</th>\n",
       "      <td>False</td>\n",
       "      <td>0.2</td>\n",
       "      <td>3.401700e-07</td>\n",
       "      <td>2.637800e-07</td>\n",
       "      <td>2.266700e-07</td>\n",
       "      <td>1.694900e-07</td>\n",
       "      <td>3.384800e-07</td>\n",
       "      <td>2.648200e-07</td>\n",
       "      <td>2.276000e-07</td>\n",
       "      <td>1.687200e-07</td>\n",
       "      <td>...</td>\n",
       "      <td>0.000353</td>\n",
       "      <td>3.670521e-09</td>\n",
       "      <td>2517300.0</td>\n",
       "      <td>0.003816</td>\n",
       "      <td>21073.0</td>\n",
       "      <td>68.373064</td>\n",
       "      <td>0</td>\n",
       "      <td>9.990000e-11</td>\n",
       "      <td>347.036927</td>\n",
       "      <td>fa037a926f6fe0144604381e686651f1</td>\n",
       "    </tr>\n",
       "    <tr>\n",
       "      <th>3</th>\n",
       "      <td>False</td>\n",
       "      <td>0.2</td>\n",
       "      <td>3.425400e-07</td>\n",
       "      <td>2.633900e-07</td>\n",
       "      <td>2.254800e-07</td>\n",
       "      <td>1.671100e-07</td>\n",
       "      <td>3.401100e-07</td>\n",
       "      <td>2.639600e-07</td>\n",
       "      <td>2.259000e-07</td>\n",
       "      <td>1.661800e-07</td>\n",
       "      <td>...</td>\n",
       "      <td>0.000361</td>\n",
       "      <td>1.734093e-08</td>\n",
       "      <td>2603300.0</td>\n",
       "      <td>0.003170</td>\n",
       "      <td>59766.0</td>\n",
       "      <td>-187.136030</td>\n",
       "      <td>0</td>\n",
       "      <td>9.990000e-11</td>\n",
       "      <td>530.412571</td>\n",
       "      <td>cb7c2df5e3ded8b1fb13cfd2ca268a1d</td>\n",
       "    </tr>\n",
       "  </tbody>\n",
       "</table>\n",
       "<p>4 rows × 31 columns</p>\n",
       "</div>"
      ],
      "text/plain": [
       "   error  end_mean_z  end_norm_emit_x  end_core_emit_95percent_x  \\\n",
       "0  False         0.2     5.226900e-07               3.296300e-07   \n",
       "1  False         0.2     5.484500e-07               4.139900e-07   \n",
       "2  False         0.2     3.401700e-07               2.637800e-07   \n",
       "3  False         0.2     3.425400e-07               2.633900e-07   \n",
       "\n",
       "   end_core_emit_90percent_x  end_core_emit_80percent_x  end_norm_emit_y  \\\n",
       "0               2.726400e-07               1.908600e-07     5.146200e-07   \n",
       "1               3.525700e-07               2.610600e-07     5.437500e-07   \n",
       "2               2.266700e-07               1.694900e-07     3.384800e-07   \n",
       "3               2.254800e-07               1.671100e-07     3.401100e-07   \n",
       "\n",
       "   end_core_emit_95percent_y  end_core_emit_90percent_y  \\\n",
       "0               3.293000e-07               2.734300e-07   \n",
       "1               4.138100e-07               3.543500e-07   \n",
       "2               2.648200e-07               2.276000e-07   \n",
       "3               2.639600e-07               2.259000e-07   \n",
       "\n",
       "   end_core_emit_80percent_y  ...  end_sigma_yp  end_cov_y__yp  \\\n",
       "0               1.905500e-07  ...      0.003877   3.628463e-06   \n",
       "1               2.621000e-07  ...      0.000916   6.110171e-08   \n",
       "2               1.687200e-07  ...      0.000353   3.670521e-09   \n",
       "3               1.661800e-07  ...      0.000361   1.734093e-08   \n",
       "\n",
       "   end_mean_kinetic_energy  end_sigma_z  end_sigma_energy  end_cov_z__energy  \\\n",
       "0                1685300.0     0.002108           23024.0          48.304820   \n",
       "1                1392700.0     0.003755           37465.0         139.637112   \n",
       "2                2517300.0     0.003816           21073.0          68.373064   \n",
       "3                2603300.0     0.003170           59766.0        -187.136030   \n",
       "\n",
       "   end_n_particle_loss  end_total_charge  end_higher_order_energy_spread  \\\n",
       "0                    0      9.990000e-11                     1174.338917   \n",
       "1                    0      9.990000e-11                      627.766413   \n",
       "2                    0      9.990000e-11                      347.036927   \n",
       "3                    0      9.990000e-11                      530.412571   \n",
       "\n",
       "                        fingerprint  \n",
       "0  79c900052c1d4cf770471a9ad5456bfb  \n",
       "1  268d75f5db93ba0f8b62e2db39c8b9b4  \n",
       "2  fa037a926f6fe0144604381e686651f1  \n",
       "3  cb7c2df5e3ded8b1fb13cfd2ca268a1d  \n",
       "\n",
       "[4 rows x 31 columns]"
      ]
     },
     "execution_count": 24,
     "metadata": {},
     "output_type": "execute_result"
    }
   ],
   "source": [
    "outputs = pd.DataFrame(data['outputs'])\n",
    "outputs"
   ]
  },
  {
   "cell_type": "markdown",
   "metadata": {},
   "source": [
    "# Cleanup"
   ]
  },
  {
   "cell_type": "code",
   "execution_count": 25,
   "metadata": {},
   "outputs": [],
   "source": [
    "!rm -r dask-worker-space"
   ]
  },
  {
   "cell_type": "code",
   "execution_count": 26,
   "metadata": {},
   "outputs": [],
   "source": [
    "!rm test.yaml"
   ]
  },
  {
   "cell_type": "code",
   "execution_count": 27,
   "metadata": {},
   "outputs": [],
   "source": [
    "!rm NORRAN"
   ]
  },
  {
   "cell_type": "code",
   "execution_count": 28,
   "metadata": {},
   "outputs": [],
   "source": [
    "!rm -r temp"
   ]
  }
 ],
 "metadata": {
  "kernelspec": {
   "display_name": "Python 3",
   "language": "python",
   "name": "python3"
  },
  "language_info": {
   "codemirror_mode": {
    "name": "ipython",
    "version": 3
   },
   "file_extension": ".py",
   "mimetype": "text/x-python",
   "name": "python",
   "nbconvert_exporter": "python",
   "pygments_lexer": "ipython3",
   "version": "3.7.6"
  }
 },
 "nbformat": 4,
 "nbformat_minor": 4
}
