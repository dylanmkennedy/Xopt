{
 "cells": [
  {
   "cell_type": "markdown",
   "metadata": {
    "collapsed": false
   },
   "source": [
    "# Checkpointing and Restarts\n",
    "If `dump_file` is provided Xopt will save the data and the Xopt configuration in a\n",
    "yaml file. This can be used directly to create a new Xopt object."
   ]
  },
  {
   "cell_type": "code",
   "execution_count": 1,
   "metadata": {
    "collapsed": false,
    "execution": {
     "iopub.execute_input": "2022-07-02T04:16:24.059517Z",
     "iopub.status.busy": "2022-07-02T04:16:24.059152Z",
     "iopub.status.idle": "2022-07-02T04:16:24.728959Z",
     "shell.execute_reply": "2022-07-02T04:16:24.728499Z"
    },
    "ExecuteTime": {
     "end_time": "2024-05-03T19:55:02.557814300Z",
     "start_time": "2024-05-03T19:54:59.954542500Z"
    }
   },
   "outputs": [],
   "source": [
    "# Import the class\n",
    "from xopt import Xopt\n",
    "\n",
    "# Make a proper input file.\n",
    "YAML = \"\"\"\n",
    "dump_file: dump.yml\n",
    "generator:\n",
    "    name: random\n",
    "\n",
    "evaluator:\n",
    "    function: xopt.resources.test_functions.tnk.evaluate_TNK\n",
    "    function_kwargs:\n",
    "        a: 999\n",
    "\n",
    "vocs:\n",
    "    variables:\n",
    "        x1: [0, 3.14159]\n",
    "        x2: [0, 3.14159]\n",
    "    objectives: {y1: MINIMIZE, y2: MINIMIZE}\n",
    "    constraints:\n",
    "        c1: [GREATER_THAN, 0]\n",
    "        c2: [LESS_THAN, 0.5]\n",
    "    constants: {a: dummy_constant}\n",
    "\n",
    "\"\"\""
   ]
  },
  {
   "cell_type": "markdown",
   "metadata": {
    "collapsed": false
   },
   "source": [
    "## Checkpoints\n",
    "Since we specified a dump file Xopt will dump the data and all of the options\n",
    "required to create a new Xopt object that continues the run."
   ]
  },
  {
   "cell_type": "code",
   "execution_count": 2,
   "metadata": {
    "collapsed": false,
    "execution": {
     "iopub.execute_input": "2022-07-02T04:16:24.731290Z",
     "iopub.status.busy": "2022-07-02T04:16:24.730930Z",
     "iopub.status.idle": "2022-07-02T04:16:24.827500Z",
     "shell.execute_reply": "2022-07-02T04:16:24.827230Z"
    },
    "ExecuteTime": {
     "end_time": "2024-05-03T19:55:02.741844900Z",
     "start_time": "2024-05-03T19:55:02.558814400Z"
    }
   },
   "outputs": [
    {
     "data": {
      "text/plain": "         x1        x2               a        y1        y2         c1  \\\n0  1.036543  1.729571  dummy_constant  1.036543  1.729571   3.136488   \n1  2.404737  0.586153  dummy_constant  2.404737  0.586153   5.203852   \n2  2.397879  0.412275  dummy_constant  2.397879  0.412275   5.011212   \n3  2.020390  1.249928  dummy_constant  2.020390  1.249928   4.729003   \n4  1.554656  3.077019  dummy_constant  1.554656  3.077019  10.848973   \n5  2.370592  2.134043  dummy_constant  2.370592  2.134043   9.107056   \n6  3.010966  0.317400  dummy_constant  3.010966  0.317400   8.177601   \n7  0.458600  0.457959  dummy_constant  0.458600  0.457959  -0.679953   \n8  0.782250  2.459779  dummy_constant  0.782250  2.459779   5.641187   \n9  0.875739  2.644944  dummy_constant  0.875739  2.644944   6.723388   \n\n         c2  xopt_runtime  xopt_error  \n0  1.799722      0.000029       False  \n1  3.635444      0.000026       False  \n2  3.609639      0.000019       False  \n3  2.873979      0.000020       False  \n4  7.753328      0.000020       False  \n5  6.169210      0.000020       False  \n6  6.338293      0.000021       False  \n7  0.003481      0.000018       False  \n8  3.920400      0.000018       False  \n9  4.741963      0.000019       False  ",
      "text/html": "<div>\n<style scoped>\n    .dataframe tbody tr th:only-of-type {\n        vertical-align: middle;\n    }\n\n    .dataframe tbody tr th {\n        vertical-align: top;\n    }\n\n    .dataframe thead th {\n        text-align: right;\n    }\n</style>\n<table border=\"1\" class=\"dataframe\">\n  <thead>\n    <tr style=\"text-align: right;\">\n      <th></th>\n      <th>x1</th>\n      <th>x2</th>\n      <th>a</th>\n      <th>y1</th>\n      <th>y2</th>\n      <th>c1</th>\n      <th>c2</th>\n      <th>xopt_runtime</th>\n      <th>xopt_error</th>\n    </tr>\n  </thead>\n  <tbody>\n    <tr>\n      <th>0</th>\n      <td>1.036543</td>\n      <td>1.729571</td>\n      <td>dummy_constant</td>\n      <td>1.036543</td>\n      <td>1.729571</td>\n      <td>3.136488</td>\n      <td>1.799722</td>\n      <td>0.000029</td>\n      <td>False</td>\n    </tr>\n    <tr>\n      <th>1</th>\n      <td>2.404737</td>\n      <td>0.586153</td>\n      <td>dummy_constant</td>\n      <td>2.404737</td>\n      <td>0.586153</td>\n      <td>5.203852</td>\n      <td>3.635444</td>\n      <td>0.000026</td>\n      <td>False</td>\n    </tr>\n    <tr>\n      <th>2</th>\n      <td>2.397879</td>\n      <td>0.412275</td>\n      <td>dummy_constant</td>\n      <td>2.397879</td>\n      <td>0.412275</td>\n      <td>5.011212</td>\n      <td>3.609639</td>\n      <td>0.000019</td>\n      <td>False</td>\n    </tr>\n    <tr>\n      <th>3</th>\n      <td>2.020390</td>\n      <td>1.249928</td>\n      <td>dummy_constant</td>\n      <td>2.020390</td>\n      <td>1.249928</td>\n      <td>4.729003</td>\n      <td>2.873979</td>\n      <td>0.000020</td>\n      <td>False</td>\n    </tr>\n    <tr>\n      <th>4</th>\n      <td>1.554656</td>\n      <td>3.077019</td>\n      <td>dummy_constant</td>\n      <td>1.554656</td>\n      <td>3.077019</td>\n      <td>10.848973</td>\n      <td>7.753328</td>\n      <td>0.000020</td>\n      <td>False</td>\n    </tr>\n    <tr>\n      <th>5</th>\n      <td>2.370592</td>\n      <td>2.134043</td>\n      <td>dummy_constant</td>\n      <td>2.370592</td>\n      <td>2.134043</td>\n      <td>9.107056</td>\n      <td>6.169210</td>\n      <td>0.000020</td>\n      <td>False</td>\n    </tr>\n    <tr>\n      <th>6</th>\n      <td>3.010966</td>\n      <td>0.317400</td>\n      <td>dummy_constant</td>\n      <td>3.010966</td>\n      <td>0.317400</td>\n      <td>8.177601</td>\n      <td>6.338293</td>\n      <td>0.000021</td>\n      <td>False</td>\n    </tr>\n    <tr>\n      <th>7</th>\n      <td>0.458600</td>\n      <td>0.457959</td>\n      <td>dummy_constant</td>\n      <td>0.458600</td>\n      <td>0.457959</td>\n      <td>-0.679953</td>\n      <td>0.003481</td>\n      <td>0.000018</td>\n      <td>False</td>\n    </tr>\n    <tr>\n      <th>8</th>\n      <td>0.782250</td>\n      <td>2.459779</td>\n      <td>dummy_constant</td>\n      <td>0.782250</td>\n      <td>2.459779</td>\n      <td>5.641187</td>\n      <td>3.920400</td>\n      <td>0.000018</td>\n      <td>False</td>\n    </tr>\n    <tr>\n      <th>9</th>\n      <td>0.875739</td>\n      <td>2.644944</td>\n      <td>dummy_constant</td>\n      <td>0.875739</td>\n      <td>2.644944</td>\n      <td>6.723388</td>\n      <td>4.741963</td>\n      <td>0.000019</td>\n      <td>False</td>\n    </tr>\n  </tbody>\n</table>\n</div>"
     },
     "execution_count": 2,
     "metadata": {},
     "output_type": "execute_result"
    }
   ],
   "source": [
    "# create Xopt object.\n",
    "X = Xopt.from_yaml(YAML)\n",
    "\n",
    "# take 10 steps and view data\n",
    "for _ in range(10):\n",
    "    X.step()\n",
    "\n",
    "X.data"
   ]
  },
  {
   "cell_type": "markdown",
   "metadata": {
    "collapsed": false
   },
   "source": [
    "## Create Xopt object from dump file"
   ]
  },
  {
   "cell_type": "code",
   "execution_count": 3,
   "metadata": {
    "collapsed": false,
    "execution": {
     "iopub.execute_input": "2022-07-02T04:16:24.840404Z",
     "iopub.status.busy": "2022-07-02T04:16:24.840276Z",
     "iopub.status.idle": "2022-07-02T04:16:24.856388Z",
     "shell.execute_reply": "2022-07-02T04:16:24.856138Z"
    },
    "ExecuteTime": {
     "end_time": "2024-05-03T19:55:02.813814500Z",
     "start_time": "2024-05-03T19:55:02.740817500Z"
    }
   },
   "outputs": [
    {
     "data": {
      "text/plain": "\n            Xopt\n________________________________\nVersion: 2.2.2+21.g52695a60.dirty\nData size: 10\nConfig as YAML:\ndump_file: dump.yml\nevaluator:\n  function: xopt.resources.test_functions.tnk.evaluate_TNK\n  function_kwargs:\n    a: 999\n    raise_probability: 0\n    random_sleep: 0\n    sleep: 0\n  max_workers: 1\n  vectorized: false\ngenerator:\n  name: random\n  supports_batch_generation: true\n  supports_multi_objective: true\nmax_evaluations: null\nserialize_inline: false\nserialize_torch: false\nstrict: true\nvocs:\n  constants:\n    a: dummy_constant\n  constraints:\n    c1:\n    - GREATER_THAN\n    - 0.0\n    c2:\n    - LESS_THAN\n    - 0.5\n  objectives:\n    y1: MINIMIZE\n    y2: MINIMIZE\n  observables: []\n  variables:\n    x1:\n    - 0.0\n    - 3.14159\n    x2:\n    - 0.0\n    - 3.14159\n"
     },
     "execution_count": 3,
     "metadata": {},
     "output_type": "execute_result"
    }
   ],
   "source": [
    "X2 = Xopt.from_file(\"dump.yml\")\n",
    "X2"
   ]
  },
  {
   "cell_type": "code",
   "execution_count": 4,
   "metadata": {
    "collapsed": false,
    "execution": {
     "iopub.execute_input": "2022-07-02T04:16:24.857845Z",
     "iopub.status.busy": "2022-07-02T04:16:24.857744Z",
     "iopub.status.idle": "2022-07-02T04:16:25.001169Z",
     "shell.execute_reply": "2022-07-02T04:16:25.000896Z"
    },
    "ExecuteTime": {
     "end_time": "2024-05-03T19:55:02.946844800Z",
     "start_time": "2024-05-03T19:55:02.782814900Z"
    }
   },
   "outputs": [
    {
     "data": {
      "text/plain": "                 a         c1        c2        x1        x2  xopt_error  \\\n0   dummy_constant   3.136488  1.799722  1.036543  1.729571       False   \n1   dummy_constant   5.203852  3.635444  2.404737  0.586153       False   \n2   dummy_constant   5.011212  3.609639  2.397879  0.412275       False   \n3   dummy_constant   4.729003  2.873979  2.020390  1.249928       False   \n4   dummy_constant  10.848973  7.753328  1.554656  3.077019       False   \n5   dummy_constant   9.107056  6.169210  2.370592  2.134043       False   \n6   dummy_constant   8.177601  6.338293  3.010966  0.317400       False   \n7   dummy_constant  -0.679953  0.003481  0.458600  0.457959       False   \n8   dummy_constant   5.641187  3.920400  0.782250  2.459779       False   \n9   dummy_constant   6.723388  4.741963  0.875739  2.644944       False   \n10  dummy_constant  11.585143  8.065377  2.063700  2.870700       False   \n11  dummy_constant   2.923302  1.911009  1.859185  0.752243       False   \n12  dummy_constant   3.958759  3.102109  0.165224  2.229172       False   \n13  dummy_constant   4.354619  2.988785  0.578750  2.227016       False   \n14  dummy_constant   1.081298  0.584255  1.234168  0.712726       False   \n15  dummy_constant   1.688435  0.899801  1.248105  1.083215       False   \n16  dummy_constant   6.616993  4.209961  1.674272  2.182571       False   \n17  dummy_constant   3.862881  2.361441  1.933104  1.054666       False   \n18  dummy_constant   6.383114  4.048997  2.119374  1.694413       False   \n19  dummy_constant   8.686859  5.783524  1.886028  2.465312       False   \n\n    xopt_runtime        y1        y2  \n0       0.000029  1.036543  1.729571  \n1       0.000026  2.404737  0.586153  \n2       0.000019  2.397879  0.412275  \n3       0.000019  2.020390  1.249928  \n4       0.000020  1.554656  3.077019  \n5       0.000020  2.370592  2.134043  \n6       0.000021  3.010966  0.317400  \n7       0.000018  0.458600  0.457959  \n8       0.000018  0.782250  2.459779  \n9       0.000019  0.875739  2.644944  \n10      0.000031  2.063700  2.870700  \n11      0.000028  1.859185  0.752243  \n12      0.000022  0.165224  2.229172  \n13      0.000019  0.578750  2.227016  \n14      0.000019  1.234168  0.712726  \n15      0.000020  1.248105  1.083215  \n16      0.000026  1.674272  2.182571  \n17      0.000018  1.933104  1.054666  \n18      0.000018  2.119374  1.694413  \n19      0.000019  1.886028  2.465312  ",
      "text/html": "<div>\n<style scoped>\n    .dataframe tbody tr th:only-of-type {\n        vertical-align: middle;\n    }\n\n    .dataframe tbody tr th {\n        vertical-align: top;\n    }\n\n    .dataframe thead th {\n        text-align: right;\n    }\n</style>\n<table border=\"1\" class=\"dataframe\">\n  <thead>\n    <tr style=\"text-align: right;\">\n      <th></th>\n      <th>a</th>\n      <th>c1</th>\n      <th>c2</th>\n      <th>x1</th>\n      <th>x2</th>\n      <th>xopt_error</th>\n      <th>xopt_runtime</th>\n      <th>y1</th>\n      <th>y2</th>\n    </tr>\n  </thead>\n  <tbody>\n    <tr>\n      <th>0</th>\n      <td>dummy_constant</td>\n      <td>3.136488</td>\n      <td>1.799722</td>\n      <td>1.036543</td>\n      <td>1.729571</td>\n      <td>False</td>\n      <td>0.000029</td>\n      <td>1.036543</td>\n      <td>1.729571</td>\n    </tr>\n    <tr>\n      <th>1</th>\n      <td>dummy_constant</td>\n      <td>5.203852</td>\n      <td>3.635444</td>\n      <td>2.404737</td>\n      <td>0.586153</td>\n      <td>False</td>\n      <td>0.000026</td>\n      <td>2.404737</td>\n      <td>0.586153</td>\n    </tr>\n    <tr>\n      <th>2</th>\n      <td>dummy_constant</td>\n      <td>5.011212</td>\n      <td>3.609639</td>\n      <td>2.397879</td>\n      <td>0.412275</td>\n      <td>False</td>\n      <td>0.000019</td>\n      <td>2.397879</td>\n      <td>0.412275</td>\n    </tr>\n    <tr>\n      <th>3</th>\n      <td>dummy_constant</td>\n      <td>4.729003</td>\n      <td>2.873979</td>\n      <td>2.020390</td>\n      <td>1.249928</td>\n      <td>False</td>\n      <td>0.000019</td>\n      <td>2.020390</td>\n      <td>1.249928</td>\n    </tr>\n    <tr>\n      <th>4</th>\n      <td>dummy_constant</td>\n      <td>10.848973</td>\n      <td>7.753328</td>\n      <td>1.554656</td>\n      <td>3.077019</td>\n      <td>False</td>\n      <td>0.000020</td>\n      <td>1.554656</td>\n      <td>3.077019</td>\n    </tr>\n    <tr>\n      <th>5</th>\n      <td>dummy_constant</td>\n      <td>9.107056</td>\n      <td>6.169210</td>\n      <td>2.370592</td>\n      <td>2.134043</td>\n      <td>False</td>\n      <td>0.000020</td>\n      <td>2.370592</td>\n      <td>2.134043</td>\n    </tr>\n    <tr>\n      <th>6</th>\n      <td>dummy_constant</td>\n      <td>8.177601</td>\n      <td>6.338293</td>\n      <td>3.010966</td>\n      <td>0.317400</td>\n      <td>False</td>\n      <td>0.000021</td>\n      <td>3.010966</td>\n      <td>0.317400</td>\n    </tr>\n    <tr>\n      <th>7</th>\n      <td>dummy_constant</td>\n      <td>-0.679953</td>\n      <td>0.003481</td>\n      <td>0.458600</td>\n      <td>0.457959</td>\n      <td>False</td>\n      <td>0.000018</td>\n      <td>0.458600</td>\n      <td>0.457959</td>\n    </tr>\n    <tr>\n      <th>8</th>\n      <td>dummy_constant</td>\n      <td>5.641187</td>\n      <td>3.920400</td>\n      <td>0.782250</td>\n      <td>2.459779</td>\n      <td>False</td>\n      <td>0.000018</td>\n      <td>0.782250</td>\n      <td>2.459779</td>\n    </tr>\n    <tr>\n      <th>9</th>\n      <td>dummy_constant</td>\n      <td>6.723388</td>\n      <td>4.741963</td>\n      <td>0.875739</td>\n      <td>2.644944</td>\n      <td>False</td>\n      <td>0.000019</td>\n      <td>0.875739</td>\n      <td>2.644944</td>\n    </tr>\n    <tr>\n      <th>10</th>\n      <td>dummy_constant</td>\n      <td>11.585143</td>\n      <td>8.065377</td>\n      <td>2.063700</td>\n      <td>2.870700</td>\n      <td>False</td>\n      <td>0.000031</td>\n      <td>2.063700</td>\n      <td>2.870700</td>\n    </tr>\n    <tr>\n      <th>11</th>\n      <td>dummy_constant</td>\n      <td>2.923302</td>\n      <td>1.911009</td>\n      <td>1.859185</td>\n      <td>0.752243</td>\n      <td>False</td>\n      <td>0.000028</td>\n      <td>1.859185</td>\n      <td>0.752243</td>\n    </tr>\n    <tr>\n      <th>12</th>\n      <td>dummy_constant</td>\n      <td>3.958759</td>\n      <td>3.102109</td>\n      <td>0.165224</td>\n      <td>2.229172</td>\n      <td>False</td>\n      <td>0.000022</td>\n      <td>0.165224</td>\n      <td>2.229172</td>\n    </tr>\n    <tr>\n      <th>13</th>\n      <td>dummy_constant</td>\n      <td>4.354619</td>\n      <td>2.988785</td>\n      <td>0.578750</td>\n      <td>2.227016</td>\n      <td>False</td>\n      <td>0.000019</td>\n      <td>0.578750</td>\n      <td>2.227016</td>\n    </tr>\n    <tr>\n      <th>14</th>\n      <td>dummy_constant</td>\n      <td>1.081298</td>\n      <td>0.584255</td>\n      <td>1.234168</td>\n      <td>0.712726</td>\n      <td>False</td>\n      <td>0.000019</td>\n      <td>1.234168</td>\n      <td>0.712726</td>\n    </tr>\n    <tr>\n      <th>15</th>\n      <td>dummy_constant</td>\n      <td>1.688435</td>\n      <td>0.899801</td>\n      <td>1.248105</td>\n      <td>1.083215</td>\n      <td>False</td>\n      <td>0.000020</td>\n      <td>1.248105</td>\n      <td>1.083215</td>\n    </tr>\n    <tr>\n      <th>16</th>\n      <td>dummy_constant</td>\n      <td>6.616993</td>\n      <td>4.209961</td>\n      <td>1.674272</td>\n      <td>2.182571</td>\n      <td>False</td>\n      <td>0.000026</td>\n      <td>1.674272</td>\n      <td>2.182571</td>\n    </tr>\n    <tr>\n      <th>17</th>\n      <td>dummy_constant</td>\n      <td>3.862881</td>\n      <td>2.361441</td>\n      <td>1.933104</td>\n      <td>1.054666</td>\n      <td>False</td>\n      <td>0.000018</td>\n      <td>1.933104</td>\n      <td>1.054666</td>\n    </tr>\n    <tr>\n      <th>18</th>\n      <td>dummy_constant</td>\n      <td>6.383114</td>\n      <td>4.048997</td>\n      <td>2.119374</td>\n      <td>1.694413</td>\n      <td>False</td>\n      <td>0.000018</td>\n      <td>2.119374</td>\n      <td>1.694413</td>\n    </tr>\n    <tr>\n      <th>19</th>\n      <td>dummy_constant</td>\n      <td>8.686859</td>\n      <td>5.783524</td>\n      <td>1.886028</td>\n      <td>2.465312</td>\n      <td>False</td>\n      <td>0.000019</td>\n      <td>1.886028</td>\n      <td>2.465312</td>\n    </tr>\n  </tbody>\n</table>\n</div>"
     },
     "execution_count": 4,
     "metadata": {},
     "output_type": "execute_result"
    }
   ],
   "source": [
    "for _ in range(10):\n",
    "    X2.step()\n",
    "\n",
    "X2.data"
   ]
  }
 ],
 "metadata": {
  "kernelspec": {
   "display_name": "Python 3",
   "language": "python",
   "name": "python3"
  },
  "language_info": {
   "codemirror_mode": {
    "name": "ipython",
    "version": 3
   },
   "file_extension": ".py",
   "mimetype": "text/x-python",
   "name": "python",
   "nbconvert_exporter": "python",
   "pygments_lexer": "ipython3",
   "version": "3.9.13"
  }
 },
 "nbformat": 4,
 "nbformat_minor": 0
}
