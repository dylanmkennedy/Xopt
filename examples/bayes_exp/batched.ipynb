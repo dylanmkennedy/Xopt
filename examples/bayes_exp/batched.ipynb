{
 "cells": [
  {
   "cell_type": "code",
   "execution_count": 1,
   "id": "4a9be9bf-b3c5-468d-84f6-c7b8cf25806e",
   "metadata": {},
   "outputs": [],
   "source": [
    "# main function\n",
    "import numpy as np\n",
    "import torch\n",
    "import matplotlib.pyplot as plt\n",
    "\n",
    "from xopt.bayesian_exploration import bayesian_exploration\n",
    "\n",
    "# test function\n",
    "from xopt.evaluators import test_TNK\n",
    "from concurrent.futures import ThreadPoolExecutor as PoolExecutor\n"
   ]
  },
  {
   "cell_type": "code",
   "execution_count": 2,
   "id": "d738f30f-6946-444f-a432-f29ce4eb5ee3",
   "metadata": {},
   "outputs": [
    {
     "name": "stdout",
     "output_type": "stream",
     "text": [
      "{'name': 'TNK_test', 'description': 'Constrainted test function TNK. See Table V in https://www.iitk.ac.in/kangal/Deb_NSGA-II.pdf', 'simulation': 'test_TNK', 'variables': {'x1': [0, 3.14159], 'x2': [0, 3.14159]}, 'objectives': {'y1': None}, 'constraints': {'c1': ['GREATER_THAN', 0], 'c2': ['LESS_THAN', 0.5]}, 'constants': {'a': 'dummy_constant'}, 'linked_variables': {'x9': 'x1'}}\n",
      "tensor([[0.7807, 0.4142],\n",
      "        [0.1219, 0.3152],\n",
      "        [1.2509, 0.0000],\n",
      "        [0.8883, 1.0644],\n",
      "        [0.6600, 0.1238]], dtype=torch.float64)\n",
      "tensor([[0.5784, 1.0143],\n",
      "        [0.0000, 1.3655],\n",
      "        [1.1429, 0.5863],\n",
      "        [0.3552, 1.1838],\n",
      "        [0.4310, 1.0445]], dtype=torch.float64)\n",
      "tensor([[1.0539, 0.1790],\n",
      "        [0.1988, 1.0776],\n",
      "        [1.0375, 0.9323],\n",
      "        [0.7055, 1.1400],\n",
      "        [0.9944, 0.0367]], dtype=torch.float64)\n",
      "tensor([[0.1082, 1.0515],\n",
      "        [0.8026, 0.7337],\n",
      "        [1.1885, 0.5061],\n",
      "        [0.6083, 1.1856],\n",
      "        [0.0344, 1.0069]], dtype=torch.float64)\n",
      "tensor([[1.0109, 0.9685],\n",
      "        [0.6251, 0.8709],\n",
      "        [1.1931, 0.4817],\n",
      "        [0.3179, 1.1674],\n",
      "        [1.0352, 0.0569]], dtype=torch.float64)\n",
      "tensor([[0.9202, 0.5324],\n",
      "        [0.4221, 0.9336],\n",
      "        [0.8092, 1.1207],\n",
      "        [1.1165, 0.8208],\n",
      "        [0.0591, 1.0371]], dtype=torch.float64)\n"
     ]
    }
   ],
   "source": [
    "# Get VOCS\n",
    "VOCS = test_TNK.VOCS\n",
    "VOCS['objectives'] = {'y1' : None}\n",
    "\n",
    "print(VOCS)\n",
    "# Get evaluate function\n",
    "EVALUATE = test_TNK.evaluate_TNK\n",
    "\n",
    "# Run\n",
    "executor = PoolExecutor()\n",
    "\n",
    "# Run\n",
    "init_x = torch.tensor([[0.9, 0.9], [0.6, 0.6]])\n",
    "results = bayesian_exploration(VOCS, EVALUATE, executor = executor,\n",
    "                                 batch_size = 5,\n",
    "                                 n_initial_samples=5,\n",
    "                                 initial_x=None,\n",
    "                                 use_gpu=False,\n",
    "                                 n_steps=6, verbose=True)"
   ]
  },
  {
   "cell_type": "code",
   "execution_count": 3,
   "id": "7d7b9312-17fe-438c-8120-c0fc458b6a3c",
   "metadata": {},
   "outputs": [
    {
     "data": {
      "image/png": "[encoded data removed]",
      "text/plain": [
       "<Figure size 432x288 with 1 Axes>"
      ]
     },
     "metadata": {
      "needs_background": "light"
     },
     "output_type": "display_data"
    }
   ],
   "source": [
    "fig, ax = plt.subplots()\n",
    "ax.plot(results['inputs'][:, 0], results['inputs'][:, 1], '.')\n",
    "\n",
    "plt.show()"
   ]
  },
  {
   "cell_type": "code",
   "execution_count": null,
   "id": "e9540a37-a0e8-4eff-a5ff-f11c9e68b06c",
   "metadata": {},
   "outputs": [],
   "source": []
  }
 ],
 "metadata": {
  "kernelspec": {
   "display_name": "xopt",
   "language": "python",
   "name": "xopt"
  },
  "language_info": {
   "codemirror_mode": {
    "name": "ipython",
    "version": 3
   },
   "file_extension": ".py",
   "mimetype": "text/x-python",
   "name": "python",
   "nbconvert_exporter": "python",
   "pygments_lexer": "ipython3",
   "version": "3.9.6"
  }
 },
 "nbformat": 4,
 "nbformat_minor": 5
}
