{
 "cells": [
  {
   "cell_type": "markdown",
   "id": "9700f595",
   "metadata": {},
   "source": [
    "# VOCS v1 data structure "
   ]
  },
  {
   "cell_type": "code",
   "execution_count": 1,
   "id": "35b31235-5214-4058-9882-faebda71c0cd",
   "metadata": {},
   "outputs": [],
   "source": [
    "%load_ext autoreload\n",
    "%autoreload 2"
   ]
  },
  {
   "cell_type": "code",
   "execution_count": 2,
   "id": "32324ac0-b299-42ee-a6b9-e112dfaa5a45",
   "metadata": {},
   "outputs": [],
   "source": [
    "from xopt.vocs import VOCS, ObjectiveEnum, ConstraintEnum"
   ]
  },
  {
   "cell_type": "code",
   "execution_count": 3,
   "id": "354e92d2",
   "metadata": {},
   "outputs": [
    {
     "name": "stdout",
     "output_type": "stream",
     "text": [
      "\u001b[0;31mInit signature:\u001b[0m\n",
      "\u001b[0mVOCS\u001b[0m\u001b[0;34m(\u001b[0m\u001b[0;34m\u001b[0m\n",
      "\u001b[0;34m\u001b[0m    \u001b[0;34m*\u001b[0m\u001b[0;34m,\u001b[0m\u001b[0;34m\u001b[0m\n",
      "\u001b[0;34m\u001b[0m    \u001b[0mvariables\u001b[0m\u001b[0;34m:\u001b[0m \u001b[0mDict\u001b[0m\u001b[0;34m[\u001b[0m\u001b[0mstr\u001b[0m\u001b[0;34m,\u001b[0m \u001b[0mtypes\u001b[0m\u001b[0;34m.\u001b[0m\u001b[0mConstrainedListValue\u001b[0m\u001b[0;34m]\u001b[0m \u001b[0;34m=\u001b[0m \u001b[0;32mNone\u001b[0m\u001b[0;34m,\u001b[0m\u001b[0;34m\u001b[0m\n",
      "\u001b[0;34m\u001b[0m    \u001b[0mconstraints\u001b[0m\u001b[0;34m:\u001b[0m \u001b[0mDict\u001b[0m\u001b[0;34m[\u001b[0m\u001b[0mstr\u001b[0m\u001b[0;34m,\u001b[0m \u001b[0mtypes\u001b[0m\u001b[0;34m.\u001b[0m\u001b[0mConstrainedListValue\u001b[0m\u001b[0;34m]\u001b[0m \u001b[0;34m=\u001b[0m \u001b[0;32mNone\u001b[0m\u001b[0;34m,\u001b[0m\u001b[0;34m\u001b[0m\n",
      "\u001b[0;34m\u001b[0m    \u001b[0mobjectives\u001b[0m\u001b[0;34m:\u001b[0m \u001b[0mDict\u001b[0m\u001b[0;34m[\u001b[0m\u001b[0mstr\u001b[0m\u001b[0;34m,\u001b[0m \u001b[0mxopt\u001b[0m\u001b[0;34m.\u001b[0m\u001b[0mvocs\u001b[0m\u001b[0;34m.\u001b[0m\u001b[0mObjectiveEnum\u001b[0m\u001b[0;34m]\u001b[0m \u001b[0;34m=\u001b[0m \u001b[0;32mNone\u001b[0m\u001b[0;34m,\u001b[0m\u001b[0;34m\u001b[0m\n",
      "\u001b[0;34m\u001b[0m    \u001b[0mconstants\u001b[0m\u001b[0;34m:\u001b[0m \u001b[0mDict\u001b[0m\u001b[0;34m[\u001b[0m\u001b[0mstr\u001b[0m\u001b[0;34m,\u001b[0m \u001b[0mAny\u001b[0m\u001b[0;34m]\u001b[0m \u001b[0;34m=\u001b[0m \u001b[0;32mNone\u001b[0m\u001b[0;34m,\u001b[0m\u001b[0;34m\u001b[0m\n",
      "\u001b[0;34m\u001b[0m    \u001b[0mlinked_variables\u001b[0m\u001b[0;34m:\u001b[0m \u001b[0mDict\u001b[0m\u001b[0;34m[\u001b[0m\u001b[0mstr\u001b[0m\u001b[0;34m,\u001b[0m \u001b[0mstr\u001b[0m\u001b[0;34m]\u001b[0m \u001b[0;34m=\u001b[0m \u001b[0;32mNone\u001b[0m\u001b[0;34m,\u001b[0m\u001b[0;34m\u001b[0m\n",
      "\u001b[0;34m\u001b[0m\u001b[0;34m)\u001b[0m \u001b[0;34m->\u001b[0m \u001b[0;32mNone\u001b[0m\u001b[0;34m\u001b[0m\u001b[0;34m\u001b[0m\u001b[0m\n",
      "\u001b[0;31mInit docstring:\u001b[0m\n",
      "Create a new model by parsing and validating input data from keyword arguments.\n",
      "\n",
      "Raises ValidationError if the input data cannot be parsed to form a valid model.\n",
      "\u001b[0;31mFile:\u001b[0m           ~/Code/GitHub/Xopt/xopt/vocs.py\n",
      "\u001b[0;31mType:\u001b[0m           ModelMetaclass\n",
      "\u001b[0;31mSubclasses:\u001b[0m     \n"
     ]
    }
   ],
   "source": [
    "?VOCS"
   ]
  },
  {
   "cell_type": "code",
   "execution_count": 4,
   "id": "31a15253-14cd-4547-ab01-09f4b56f5bf5",
   "metadata": {},
   "outputs": [
    {
     "data": {
      "text/plain": [
       "VOCS(variables={'a': [0.0, 1000.0], 'b': [-1.0, 1.0]}, constraints={'e': ['LESS_THAN', 2.0], 'f': ['GREATER_THAN', 0.0]}, objectives={'c': 'MAXIMIZE', 'd': 'MINIMIZE'}, constants={'g': 1234}, linked_variables=None)"
      ]
     },
     "execution_count": 4,
     "metadata": {},
     "output_type": "execute_result"
    }
   ],
   "source": [
    "Y = \"\"\"\n",
    "variables:\n",
    "  a: [0, 1e3] # Note that 1e3 usually parses as a str with YAML. \n",
    "  b: [-1, 1]\n",
    "objectives:\n",
    "  c: maximize\n",
    "  d: minimize \n",
    "constraints:\n",
    "  e: ['Less_than', 2]\n",
    "  f: ['greater_than', 0]\n",
    "constants:\n",
    "  g: 1234\n",
    "\n",
    "\"\"\"\n",
    "\n",
    "vocs = VOCS.from_yaml(Y)\n",
    "vocs"
   ]
  },
  {
   "cell_type": "code",
   "execution_count": 5,
   "id": "304bcc89",
   "metadata": {},
   "outputs": [
    {
     "data": {
      "text/plain": [
       "{'variables': {'a': [0.0, 1000.0], 'b': [-1.0, 1.0]},\n",
       " 'constraints': {'e': ['LESS_THAN', 2.0], 'f': ['GREATER_THAN', 0.0]},\n",
       " 'objectives': {'c': 'MAXIMIZE', 'd': 'MINIMIZE'},\n",
       " 'constants': {'g': 1234},\n",
       " 'linked_variables': None}"
      ]
     },
     "execution_count": 5,
     "metadata": {},
     "output_type": "execute_result"
    }
   ],
   "source": [
    "# as dict\n",
    "vocs.dict()"
   ]
  },
  {
   "cell_type": "code",
   "execution_count": 6,
   "id": "b236bfb4",
   "metadata": {},
   "outputs": [],
   "source": [
    "#  re-parse dict\n",
    "vocs2 = VOCS.parse_obj(vocs.dict())"
   ]
  },
  {
   "cell_type": "code",
   "execution_count": 7,
   "id": "76c9a173",
   "metadata": {},
   "outputs": [
    {
     "data": {
      "text/plain": [
       "True"
      ]
     },
     "execution_count": 7,
     "metadata": {},
     "output_type": "execute_result"
    }
   ],
   "source": [
    "# Check that these are the same\n",
    "vocs2 == vocs\n"
   ]
  },
  {
   "cell_type": "code",
   "execution_count": 8,
   "id": "6a846f4d",
   "metadata": {},
   "outputs": [
    {
     "data": {
      "text/plain": [
       "{'a': [0.0, 1000.0], 'b': [-1.0, 1.0]}"
      ]
     },
     "execution_count": 8,
     "metadata": {},
     "output_type": "execute_result"
    }
   ],
   "source": [
    "# This replaces the old vocs[\"variables\"]\n",
    "getattr(vocs, \"variables\")"
   ]
  },
  {
   "cell_type": "code",
   "execution_count": 9,
   "id": "6fa2afc8",
   "metadata": {},
   "outputs": [
    {
     "data": {
      "text/plain": [
       "True"
      ]
     },
     "execution_count": 9,
     "metadata": {},
     "output_type": "execute_result"
    }
   ],
   "source": [
    "vocs.objectives['c']  == ObjectiveEnum.MAXIMIZE"
   ]
  },
  {
   "cell_type": "code",
   "execution_count": 10,
   "id": "713272b7",
   "metadata": {},
   "outputs": [
    {
     "data": {
      "text/plain": [
       "'{\"variables\": {\"a\": [0.0, 1000.0], \"b\": [-1.0, 1.0]}, \"constraints\": {\"e\": [\"LESS_THAN\", 2.0], \"f\": [\"GREATER_THAN\", 0.0]}, \"objectives\": {\"c\": \"MAXIMIZE\", \"d\": \"MINIMIZE\"}, \"constants\": {\"g\": 1234}, \"linked_variables\": null}'"
      ]
     },
     "execution_count": 10,
     "metadata": {},
     "output_type": "execute_result"
    }
   ],
   "source": [
    "# json\n",
    "vocs.json()"
   ]
  },
  {
   "cell_type": "code",
   "execution_count": 11,
   "id": "4cf2209d",
   "metadata": {},
   "outputs": [
    {
     "data": {
      "text/plain": [
       "{'title': 'VOCS',\n",
       " 'type': 'object',\n",
       " 'properties': {'variables': {'title': 'Variables',\n",
       "   'type': 'object',\n",
       "   'additionalProperties': {'type': 'array',\n",
       "    'items': {'type': 'number'},\n",
       "    'minItems': 2,\n",
       "    'maxItems': 2}},\n",
       "  'constraints': {'title': 'Constraints',\n",
       "   'type': 'object',\n",
       "   'additionalProperties': {'type': 'array',\n",
       "    'items': {'anyOf': [{'type': 'number'},\n",
       "      {'$ref': '#/definitions/ConstraintEnum'}]},\n",
       "    'minItems': 2,\n",
       "    'maxItems': 2}},\n",
       "  'objectives': {'type': 'object',\n",
       "   'additionalProperties': {'$ref': '#/definitions/ObjectiveEnum'}},\n",
       "  'constants': {'title': 'Constants', 'type': 'object'},\n",
       "  'linked_variables': {'title': 'Linked Variables',\n",
       "   'type': 'object',\n",
       "   'additionalProperties': {'type': 'string'}}},\n",
       " 'definitions': {'ConstraintEnum': {'title': 'ConstraintEnum',\n",
       "   'description': 'An enumeration.',\n",
       "   'enum': ['LESS_THAN', 'GREATER_THAN'],\n",
       "   'type': 'string'},\n",
       "  'ObjectiveEnum': {'title': 'ObjectiveEnum',\n",
       "   'description': 'An enumeration.',\n",
       "   'enum': ['MINIMIZE', 'MAXIMIZE'],\n",
       "   'type': 'string'}}}"
      ]
     },
     "execution_count": 11,
     "metadata": {},
     "output_type": "execute_result"
    }
   ],
   "source": [
    "vocs.schema()"
   ]
  },
  {
   "cell_type": "markdown",
   "id": "11167a85",
   "metadata": {},
   "source": [
    "# Objective Evaluation"
   ]
  },
  {
   "cell_type": "code",
   "execution_count": 12,
   "id": "c4d150be",
   "metadata": {},
   "outputs": [
    {
     "data": {
      "text/html": [
       "<div>\n",
       "<style scoped>\n",
       "    .dataframe tbody tr th:only-of-type {\n",
       "        vertical-align: middle;\n",
       "    }\n",
       "\n",
       "    .dataframe tbody tr th {\n",
       "        vertical-align: top;\n",
       "    }\n",
       "\n",
       "    .dataframe thead th {\n",
       "        text-align: right;\n",
       "    }\n",
       "</style>\n",
       "<table border=\"1\" class=\"dataframe\">\n",
       "  <thead>\n",
       "    <tr style=\"text-align: right;\">\n",
       "      <th></th>\n",
       "      <th>a</th>\n",
       "      <th>b</th>\n",
       "      <th>g</th>\n",
       "      <th>c</th>\n",
       "      <th>d</th>\n",
       "      <th>e</th>\n",
       "      <th>f</th>\n",
       "    </tr>\n",
       "  </thead>\n",
       "  <tbody>\n",
       "    <tr>\n",
       "      <th>5</th>\n",
       "      <td>47.330197</td>\n",
       "      <td>-0.665136</td>\n",
       "      <td>1234</td>\n",
       "      <td>46.665061</td>\n",
       "      <td>47.995333</td>\n",
       "      <td>93.330122</td>\n",
       "      <td>95.990666</td>\n",
       "    </tr>\n",
       "    <tr>\n",
       "      <th>6</th>\n",
       "      <td>439.472656</td>\n",
       "      <td>-0.366679</td>\n",
       "      <td>1234</td>\n",
       "      <td>439.105978</td>\n",
       "      <td>439.839335</td>\n",
       "      <td>878.211955</td>\n",
       "      <td>879.678670</td>\n",
       "    </tr>\n",
       "    <tr>\n",
       "      <th>7</th>\n",
       "      <td>704.448081</td>\n",
       "      <td>0.898534</td>\n",
       "      <td>1234</td>\n",
       "      <td>705.346615</td>\n",
       "      <td>703.549547</td>\n",
       "      <td>1410.693230</td>\n",
       "      <td>1407.099094</td>\n",
       "    </tr>\n",
       "    <tr>\n",
       "      <th>8</th>\n",
       "      <td>711.319684</td>\n",
       "      <td>0.668119</td>\n",
       "      <td>1234</td>\n",
       "      <td>711.987803</td>\n",
       "      <td>710.651565</td>\n",
       "      <td>1423.975606</td>\n",
       "      <td>1421.303130</td>\n",
       "    </tr>\n",
       "    <tr>\n",
       "      <th>9</th>\n",
       "      <td>885.584861</td>\n",
       "      <td>-0.375376</td>\n",
       "      <td>1234</td>\n",
       "      <td>885.209485</td>\n",
       "      <td>885.960238</td>\n",
       "      <td>1770.418970</td>\n",
       "      <td>1771.920476</td>\n",
       "    </tr>\n",
       "    <tr>\n",
       "      <th>10</th>\n",
       "      <td>447.783647</td>\n",
       "      <td>-0.585419</td>\n",
       "      <td>1234</td>\n",
       "      <td>447.198228</td>\n",
       "      <td>448.369067</td>\n",
       "      <td>894.396456</td>\n",
       "      <td>896.738134</td>\n",
       "    </tr>\n",
       "    <tr>\n",
       "      <th>11</th>\n",
       "      <td>988.028448</td>\n",
       "      <td>-0.743927</td>\n",
       "      <td>1234</td>\n",
       "      <td>987.284521</td>\n",
       "      <td>988.772374</td>\n",
       "      <td>1974.569042</td>\n",
       "      <td>1977.544748</td>\n",
       "    </tr>\n",
       "    <tr>\n",
       "      <th>12</th>\n",
       "      <td>339.600880</td>\n",
       "      <td>0.082769</td>\n",
       "      <td>1234</td>\n",
       "      <td>339.683649</td>\n",
       "      <td>339.518111</td>\n",
       "      <td>679.367298</td>\n",
       "      <td>679.036223</td>\n",
       "    </tr>\n",
       "    <tr>\n",
       "      <th>13</th>\n",
       "      <td>973.873013</td>\n",
       "      <td>0.616529</td>\n",
       "      <td>1234</td>\n",
       "      <td>974.489542</td>\n",
       "      <td>973.256484</td>\n",
       "      <td>1948.979084</td>\n",
       "      <td>1946.512968</td>\n",
       "    </tr>\n",
       "    <tr>\n",
       "      <th>14</th>\n",
       "      <td>833.388710</td>\n",
       "      <td>-0.329753</td>\n",
       "      <td>1234</td>\n",
       "      <td>833.058957</td>\n",
       "      <td>833.718463</td>\n",
       "      <td>1666.117915</td>\n",
       "      <td>1667.436926</td>\n",
       "    </tr>\n",
       "  </tbody>\n",
       "</table>\n",
       "</div>"
      ],
      "text/plain": [
       "             a         b     g           c           d            e  \\\n",
       "5    47.330197 -0.665136  1234   46.665061   47.995333    93.330122   \n",
       "6   439.472656 -0.366679  1234  439.105978  439.839335   878.211955   \n",
       "7   704.448081  0.898534  1234  705.346615  703.549547  1410.693230   \n",
       "8   711.319684  0.668119  1234  711.987803  710.651565  1423.975606   \n",
       "9   885.584861 -0.375376  1234  885.209485  885.960238  1770.418970   \n",
       "10  447.783647 -0.585419  1234  447.198228  448.369067   894.396456   \n",
       "11  988.028448 -0.743927  1234  987.284521  988.772374  1974.569042   \n",
       "12  339.600880  0.082769  1234  339.683649  339.518111   679.367298   \n",
       "13  973.873013  0.616529  1234  974.489542  973.256484  1948.979084   \n",
       "14  833.388710 -0.329753  1234  833.058957  833.718463  1666.117915   \n",
       "\n",
       "              f  \n",
       "5     95.990666  \n",
       "6    879.678670  \n",
       "7   1407.099094  \n",
       "8   1421.303130  \n",
       "9   1771.920476  \n",
       "10   896.738134  \n",
       "11  1977.544748  \n",
       "12   679.036223  \n",
       "13  1946.512968  \n",
       "14  1667.436926  "
      ]
     },
     "execution_count": 12,
     "metadata": {},
     "output_type": "execute_result"
    }
   ],
   "source": [
    "from xopt.vocs import objective_data, constraint_data   \n",
    "import pandas as pd\n",
    "import numpy as np\n",
    "\n",
    "data = pd.DataFrame(vocs.random_inputs(10))\n",
    "# Add some outputs\n",
    "data['c']  = data['a'] + data['b']\n",
    "data['d']  = data['a'] - data['b']\n",
    "data['e']  = data['a']*2 + data['b']*2\n",
    "data['f']  = data['a']*2 - data['b']*2\n",
    "data.index = np.arange(len(data)) + 5 # custom index\n",
    "data\n"
   ]
  },
  {
   "cell_type": "code",
   "execution_count": 13,
   "id": "a695dc98",
   "metadata": {},
   "outputs": [
    {
     "data": {
      "text/plain": [
       "{'c': 'MAXIMIZE', 'd': 'MINIMIZE'}"
      ]
     },
     "execution_count": 13,
     "metadata": {},
     "output_type": "execute_result"
    }
   ],
   "source": [
    "vocs.objectives"
   ]
  },
  {
   "cell_type": "code",
   "execution_count": 14,
   "id": "226e2a0f",
   "metadata": {},
   "outputs": [
    {
     "name": "stdout",
     "output_type": "stream",
     "text": [
      "\u001b[0;31mSignature:\u001b[0m \u001b[0mobjective_data\u001b[0m\u001b[0;34m(\u001b[0m\u001b[0mvocs\u001b[0m\u001b[0;34m,\u001b[0m \u001b[0mdata\u001b[0m\u001b[0;34m,\u001b[0m \u001b[0mprefix\u001b[0m\u001b[0;34m=\u001b[0m\u001b[0;34m'objective_'\u001b[0m\u001b[0;34m)\u001b[0m\u001b[0;34m\u001b[0m\u001b[0;34m\u001b[0m\u001b[0m\n",
      "\u001b[0;31mDocstring:\u001b[0m\n",
      "Use objective dict and data (dataframe) to generate objective data (dataframe)\n",
      "\n",
      "Weights are applied to convert all objectives into mimimization form.\n",
      "\n",
      "Returns a dataframe with the objective data intented to be minimized.\n",
      "\u001b[0;31mFile:\u001b[0m      ~/Code/GitHub/Xopt/xopt/vocs.py\n",
      "\u001b[0;31mType:\u001b[0m      function\n"
     ]
    }
   ],
   "source": [
    "?objective_data"
   ]
  },
  {
   "cell_type": "code",
   "execution_count": 15,
   "id": "43051b71",
   "metadata": {},
   "outputs": [
    {
     "data": {
      "text/html": [
       "<div>\n",
       "<style scoped>\n",
       "    .dataframe tbody tr th:only-of-type {\n",
       "        vertical-align: middle;\n",
       "    }\n",
       "\n",
       "    .dataframe tbody tr th {\n",
       "        vertical-align: top;\n",
       "    }\n",
       "\n",
       "    .dataframe thead th {\n",
       "        text-align: right;\n",
       "    }\n",
       "</style>\n",
       "<table border=\"1\" class=\"dataframe\">\n",
       "  <thead>\n",
       "    <tr style=\"text-align: right;\">\n",
       "      <th></th>\n",
       "      <th>objective_c</th>\n",
       "      <th>objective_d</th>\n",
       "    </tr>\n",
       "  </thead>\n",
       "  <tbody>\n",
       "    <tr>\n",
       "      <th>5</th>\n",
       "      <td>-46.665061</td>\n",
       "      <td>47.995333</td>\n",
       "    </tr>\n",
       "    <tr>\n",
       "      <th>6</th>\n",
       "      <td>-439.105978</td>\n",
       "      <td>439.839335</td>\n",
       "    </tr>\n",
       "    <tr>\n",
       "      <th>7</th>\n",
       "      <td>-705.346615</td>\n",
       "      <td>703.549547</td>\n",
       "    </tr>\n",
       "    <tr>\n",
       "      <th>8</th>\n",
       "      <td>-711.987803</td>\n",
       "      <td>710.651565</td>\n",
       "    </tr>\n",
       "    <tr>\n",
       "      <th>9</th>\n",
       "      <td>-885.209485</td>\n",
       "      <td>885.960238</td>\n",
       "    </tr>\n",
       "    <tr>\n",
       "      <th>10</th>\n",
       "      <td>-447.198228</td>\n",
       "      <td>448.369067</td>\n",
       "    </tr>\n",
       "    <tr>\n",
       "      <th>11</th>\n",
       "      <td>-987.284521</td>\n",
       "      <td>988.772374</td>\n",
       "    </tr>\n",
       "    <tr>\n",
       "      <th>12</th>\n",
       "      <td>-339.683649</td>\n",
       "      <td>339.518111</td>\n",
       "    </tr>\n",
       "    <tr>\n",
       "      <th>13</th>\n",
       "      <td>-974.489542</td>\n",
       "      <td>973.256484</td>\n",
       "    </tr>\n",
       "    <tr>\n",
       "      <th>14</th>\n",
       "      <td>-833.058957</td>\n",
       "      <td>833.718463</td>\n",
       "    </tr>\n",
       "  </tbody>\n",
       "</table>\n",
       "</div>"
      ],
      "text/plain": [
       "    objective_c  objective_d\n",
       "5    -46.665061    47.995333\n",
       "6   -439.105978   439.839335\n",
       "7   -705.346615   703.549547\n",
       "8   -711.987803   710.651565\n",
       "9   -885.209485   885.960238\n",
       "10  -447.198228   448.369067\n",
       "11  -987.284521   988.772374\n",
       "12  -339.683649   339.518111\n",
       "13  -974.489542   973.256484\n",
       "14  -833.058957   833.718463"
      ]
     },
     "execution_count": 15,
     "metadata": {},
     "output_type": "execute_result"
    }
   ],
   "source": [
    "# These are in standard form for minimization\n",
    "objective_data(vocs, data)"
   ]
  },
  {
   "cell_type": "code",
   "execution_count": 16,
   "id": "9f4275d4",
   "metadata": {},
   "outputs": [
    {
     "data": {
      "text/plain": [
       "array([[ -46.66506091,   47.995333  ],\n",
       "       [-439.10597769,  439.83933523],\n",
       "       [-705.34661495,  703.54954689],\n",
       "       [-711.98780315,  710.65156496],\n",
       "       [-885.20948516,  885.96023779],\n",
       "       [-447.19822786,  448.36906677],\n",
       "       [-987.28452096,  988.77237416],\n",
       "       [-339.68364912,  339.51811142],\n",
       "       [-974.48954205,  973.25648408],\n",
       "       [-833.05895736,  833.71846296]])"
      ]
     },
     "execution_count": 16,
     "metadata": {},
     "output_type": "execute_result"
    }
   ],
   "source": [
    "# use the to_numpy() method to convert for low level use.\n",
    "objective_data(vocs, data).to_numpy()"
   ]
  },
  {
   "cell_type": "code",
   "execution_count": 17,
   "id": "39300e67",
   "metadata": {},
   "outputs": [
    {
     "data": {
      "text/plain": [
       "{'e': ['LESS_THAN', 2.0], 'f': ['GREATER_THAN', 0.0]}"
      ]
     },
     "execution_count": 17,
     "metadata": {},
     "output_type": "execute_result"
    }
   ],
   "source": [
    "vocs.constraints"
   ]
  },
  {
   "cell_type": "code",
   "execution_count": 18,
   "id": "74968450",
   "metadata": {},
   "outputs": [
    {
     "name": "stdout",
     "output_type": "stream",
     "text": [
      "\u001b[0;31mSignature:\u001b[0m \u001b[0mconstraint_data\u001b[0m\u001b[0;34m(\u001b[0m\u001b[0mvocs\u001b[0m\u001b[0;34m,\u001b[0m \u001b[0mdata\u001b[0m\u001b[0;34m,\u001b[0m \u001b[0mprefix\u001b[0m\u001b[0;34m=\u001b[0m\u001b[0;34m'constraint_'\u001b[0m\u001b[0;34m)\u001b[0m\u001b[0;34m\u001b[0m\u001b[0;34m\u001b[0m\u001b[0m\n",
      "\u001b[0;31mDocstring:\u001b[0m\n",
      "Use constraint dict and data (dataframe) to generate constraint data (dataframe)\n",
      "A constraint is satisfied if the evaluation is > 0.\n",
      "\n",
      "Returns a dataframe with the constraint data.\n",
      "\u001b[0;31mFile:\u001b[0m      ~/Code/GitHub/Xopt/xopt/vocs.py\n",
      "\u001b[0;31mType:\u001b[0m      function\n"
     ]
    }
   ],
   "source": [
    "?constraint_data"
   ]
  },
  {
   "cell_type": "code",
   "execution_count": 19,
   "id": "29b73df4",
   "metadata": {},
   "outputs": [
    {
     "data": {
      "text/html": [
       "<div>\n",
       "<style scoped>\n",
       "    .dataframe tbody tr th:only-of-type {\n",
       "        vertical-align: middle;\n",
       "    }\n",
       "\n",
       "    .dataframe tbody tr th {\n",
       "        vertical-align: top;\n",
       "    }\n",
       "\n",
       "    .dataframe thead th {\n",
       "        text-align: right;\n",
       "    }\n",
       "</style>\n",
       "<table border=\"1\" class=\"dataframe\">\n",
       "  <thead>\n",
       "    <tr style=\"text-align: right;\">\n",
       "      <th></th>\n",
       "      <th>constraint_e</th>\n",
       "      <th>constraint_f</th>\n",
       "    </tr>\n",
       "  </thead>\n",
       "  <tbody>\n",
       "    <tr>\n",
       "      <th>5</th>\n",
       "      <td>-91.330122</td>\n",
       "      <td>95.990666</td>\n",
       "    </tr>\n",
       "    <tr>\n",
       "      <th>6</th>\n",
       "      <td>-876.211955</td>\n",
       "      <td>879.678670</td>\n",
       "    </tr>\n",
       "    <tr>\n",
       "      <th>7</th>\n",
       "      <td>-1408.693230</td>\n",
       "      <td>1407.099094</td>\n",
       "    </tr>\n",
       "    <tr>\n",
       "      <th>8</th>\n",
       "      <td>-1421.975606</td>\n",
       "      <td>1421.303130</td>\n",
       "    </tr>\n",
       "    <tr>\n",
       "      <th>9</th>\n",
       "      <td>-1768.418970</td>\n",
       "      <td>1771.920476</td>\n",
       "    </tr>\n",
       "    <tr>\n",
       "      <th>10</th>\n",
       "      <td>-892.396456</td>\n",
       "      <td>896.738134</td>\n",
       "    </tr>\n",
       "    <tr>\n",
       "      <th>11</th>\n",
       "      <td>-1972.569042</td>\n",
       "      <td>1977.544748</td>\n",
       "    </tr>\n",
       "    <tr>\n",
       "      <th>12</th>\n",
       "      <td>-677.367298</td>\n",
       "      <td>679.036223</td>\n",
       "    </tr>\n",
       "    <tr>\n",
       "      <th>13</th>\n",
       "      <td>-1946.979084</td>\n",
       "      <td>1946.512968</td>\n",
       "    </tr>\n",
       "    <tr>\n",
       "      <th>14</th>\n",
       "      <td>-1664.117915</td>\n",
       "      <td>1667.436926</td>\n",
       "    </tr>\n",
       "  </tbody>\n",
       "</table>\n",
       "</div>"
      ],
      "text/plain": [
       "    constraint_e  constraint_f\n",
       "5     -91.330122     95.990666\n",
       "6    -876.211955    879.678670\n",
       "7   -1408.693230   1407.099094\n",
       "8   -1421.975606   1421.303130\n",
       "9   -1768.418970   1771.920476\n",
       "10   -892.396456    896.738134\n",
       "11  -1972.569042   1977.544748\n",
       "12   -677.367298    679.036223\n",
       "13  -1946.979084   1946.512968\n",
       "14  -1664.117915   1667.436926"
      ]
     },
     "execution_count": 19,
     "metadata": {},
     "output_type": "execute_result"
    }
   ],
   "source": [
    "constraint_data(vocs, data)"
   ]
  },
  {
   "cell_type": "code",
   "execution_count": null,
   "id": "e46a5e83",
   "metadata": {},
   "outputs": [],
   "source": []
  },
  {
   "cell_type": "code",
   "execution_count": null,
   "id": "5016ded8",
   "metadata": {},
   "outputs": [],
   "source": []
  }
 ],
 "metadata": {
  "kernelspec": {
   "display_name": "Python 3 (ipykernel)",
   "language": "python",
   "name": "python3"
  },
  "language_info": {
   "codemirror_mode": {
    "name": "ipython",
    "version": 3
   },
   "file_extension": ".py",
   "mimetype": "text/x-python",
   "name": "python",
   "nbconvert_exporter": "python",
   "pygments_lexer": "ipython3",
   "version": "3.9.10"
  }
 },
 "nbformat": 4,
 "nbformat_minor": 5
}
