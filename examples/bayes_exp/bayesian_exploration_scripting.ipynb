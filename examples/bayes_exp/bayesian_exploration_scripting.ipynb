{
 "cells": [
  {
   "cell_type": "markdown",
   "id": "9e1b3d38-fe20-4a94-9901-9fe80e3fb1d8",
   "metadata": {},
   "source": [
    "# Bayesian exploration using script"
   ]
  },
  {
   "cell_type": "code",
   "execution_count": 1,
   "id": "4a9be9bf-b3c5-468d-84f6-c7b8cf25806e",
   "metadata": {},
   "outputs": [],
   "source": [
    "# main function\n",
    "import numpy as np\n",
    "import torch\n",
    "import matplotlib.pyplot as plt\n",
    "%matplotlib inline\n",
    "\n",
    "import os\n",
    "SMOKE_TEST = os.environ.get('SMOKE_TEST')\n",
    "\n",
    "from xopt.bayesian.algorithms import bayesian_exploration\n",
    "\n",
    "# test function\n",
    "from xopt.tests.evaluators import TNK"
   ]
  },
  {
   "cell_type": "code",
   "execution_count": 2,
   "id": "1d46c3b6-89a1-494e-b612-f94b836e0ad3",
   "metadata": {},
   "outputs": [],
   "source": [
    "# To see log messages\n",
    "from xopt import output_notebook\n",
    "output_notebook()"
   ]
  },
  {
   "cell_type": "code",
   "execution_count": 3,
   "id": "c408bff1-fd32-4b08-a6f2-779cce3fed7c",
   "metadata": {},
   "outputs": [
    {
     "name": "stdout",
     "output_type": "stream",
     "text": [
      "started running optimization with generator: <xopt.bayesian.generators.exploration.BayesianExplorationGenerator object at 0x12f642190>\n",
      "submitting initial candidates\n",
      "starting optimization loop\n",
      "submitting candidates\n",
      "submitting candidates\n",
      "submitting candidates\n",
      "submitting candidates\n",
      "submitting candidates\n",
      "submitting candidates\n",
      "submitting candidates\n",
      "submitting candidates\n",
      "submitting candidates\n",
      "submitting candidates\n",
      "submitting candidates\n",
      "submitting candidates\n",
      "submitting candidates\n",
      "submitting candidates\n",
      "submitting candidates\n",
      "submitting candidates\n",
      "submitting candidates\n",
      "submitting candidates\n",
      "submitting candidates\n",
      "submitting candidates\n",
      "submitting candidates\n",
      "submitting candidates\n",
      "submitting candidates\n",
      "submitting candidates\n",
      "submitting candidates\n",
      "submitting candidates\n",
      "submitting candidates\n",
      "submitting candidates\n",
      "submitting candidates\n",
      "submitting candidates\n"
     ]
    }
   ],
   "source": [
    "# Get VOCS\n",
    "VOCS = TNK.VOCS\n",
    "\n",
    "# technically this is not necessary, but its good to be explict\n",
    "VOCS['objectives'] = {'y1' : None}\n",
    "\n",
    "# Get evaluate function\n",
    "EVALUATE = TNK.evaluate_TNK\n",
    "\n",
    "n_steps = 30\n",
    "generator_options = {}\n",
    "\n",
    "\n",
    "if SMOKE_TEST:\n",
    "    generator_options = {'batch_size': 1,\n",
    "                           'num_restarts': 2,\n",
    "                           'raw_samples': 2}\n",
    "    n_steps = 3\n",
    "\n",
    "# Run - see comments for example options\n",
    "results = bayesian_exploration(VOCS, EVALUATE,\n",
    "                               n_initial_samples=5,                   ## Specify number of initial random samples\n",
    "                               initial_x=None,                        ## Specify explicit initial sample locations (overwrites n_initial_samples)\n",
    "                               n_steps=n_steps,                       ## number of optimization step\n",
    "                               generator_options=generator_options)"
   ]
  },
  {
   "cell_type": "code",
   "execution_count": 4,
   "id": "7d7b9312-17fe-438c-8120-c0fc458b6a3c",
   "metadata": {},
   "outputs": [
    {
     "name": "stdout",
     "output_type": "stream",
     "text": [
      "dict_keys(['variables', 'objectives', 'corrected_objectives', 'constraint_status', 'feasibility', 'model', 'constraints', 'corrected_constraints'])\n"
     ]
    },
    {
     "data": {
      "text/plain": [
       "Text(0, 0.5, '$x_2$')"
      ]
     },
     "execution_count": 4,
     "metadata": {},
     "output_type": "execute_result"
    },
    {
     "data": {
      "image/png": "[encoded data removed]",
      "text/plain": [
       "<Figure size 432x288 with 1 Axes>"
      ]
     },
     "metadata": {
      "needs_background": "light"
     },
     "output_type": "display_data"
    }
   ],
   "source": [
    "# plot exploration results and path - exploration should explore the feasible region of the TNK problem - See Table V in https://www.iitk.ac.in/kangal/Deb_NSGA-II.pdf\n",
    "fig, ax = plt.subplots()\n",
    "print(results.keys())\n",
    "variables = results['variables']\n",
    "valid = results['variables'][results['feasibility'].flatten()]\n",
    "ax.plot(variables[:, 0], variables[:, 1], '-o')\n",
    "ax.plot(valid[:, 0], valid[:, 1], 'o')\n",
    "ax.set_xlabel('$x_1$')\n",
    "ax.set_ylabel('$x_2$')"
   ]
  },
  {
   "cell_type": "markdown",
   "id": "6f8e7e01-3e2b-4297-bec7-84440e185b71",
   "metadata": {},
   "source": [
    "### Bayesian exploration with proximal biasing\n",
    "- should result in a smoother path through input space"
   ]
  },
  {
   "cell_type": "code",
   "execution_count": 5,
   "id": "f89ac46e-5fc5-40fb-8f45-b524a312884b",
   "metadata": {},
   "outputs": [
    {
     "name": "stdout",
     "output_type": "stream",
     "text": [
      "started running optimization with generator: <xopt.bayesian.generators.exploration.BayesianExplorationGenerator object at 0x12f642a60>\n",
      "submitting initial candidates\n",
      "starting optimization loop\n",
      "submitting candidates\n",
      "submitting candidates\n",
      "submitting candidates\n",
      "submitting candidates\n",
      "submitting candidates\n",
      "submitting candidates\n",
      "submitting candidates\n",
      "submitting candidates\n",
      "submitting candidates\n",
      "submitting candidates\n",
      "submitting candidates\n",
      "submitting candidates\n",
      "submitting candidates\n",
      "submitting candidates\n",
      "submitting candidates\n",
      "submitting candidates\n",
      "submitting candidates\n",
      "submitting candidates\n",
      "submitting candidates\n",
      "submitting candidates\n",
      "submitting candidates\n",
      "submitting candidates\n",
      "submitting candidates\n",
      "submitting candidates\n",
      "submitting candidates\n",
      "submitting candidates\n",
      "submitting candidates\n",
      "submitting candidates\n",
      "submitting candidates\n",
      "submitting candidates\n"
     ]
    }
   ],
   "source": [
    "# Get VOCS\n",
    "VOCS = TNK.VOCS\n",
    "\n",
    "# technically this is not necessary, but its good to be explict\n",
    "VOCS['objectives'] = {'y1' : None}\n",
    "# Get evaluate function\n",
    "EVALUATE = TNK.evaluate_TNK\n",
    "n_steps = 30\n",
    "\n",
    "generator_options = {'sigma': torch.eye(2) * 0.5,            ## Specify proximal term (requires batch_size = 1)\n",
    "                     #'batch_size': 5,                       ## Specify batched exploration\n",
    "                     # 'custom_model': myCustomModel,        ## Specify custom model creation function\n",
    "                     # 'use_gpu': False,                         ## Use GPU (if available)\n",
    "                    }\n",
    "if SMOKE_TEST:\n",
    "    generator_options = {'batch_size': 1,\n",
    "                           'num_restarts': 2,\n",
    "                           'raw_samples': 2}\n",
    "    n_steps = 3\n",
    "\n",
    "# Run - see comments for example options\n",
    "results = bayesian_exploration(VOCS, EVALUATE,\n",
    "                               generator_options = generator_options,\n",
    "                               n_initial_samples=5,                   ## Specify number of initial random samples\n",
    "                               initial_x=None,                        ## Specify explicit initial sample locations (overwrites n_initial_samples)\n",
    "                               n_steps=n_steps,                       ## number of optimization step\n",
    "                               # restart_data_file = 'results.json',  ## restart optimization file\n",
    "                            )"
   ]
  },
  {
   "cell_type": "code",
   "execution_count": 6,
   "id": "388eff19-8ac4-4055-badf-de9544036836",
   "metadata": {},
   "outputs": [
    {
     "name": "stdout",
     "output_type": "stream",
     "text": [
      "dict_keys(['variables', 'objectives', 'corrected_objectives', 'constraint_status', 'feasibility', 'model', 'constraints', 'corrected_constraints'])\n"
     ]
    },
    {
     "data": {
      "text/plain": [
       "Text(0, 0.5, '$x_2$')"
      ]
     },
     "execution_count": 6,
     "metadata": {},
     "output_type": "execute_result"
    },
    {
     "data": {
      "image/png": "[encoded data removed]",
      "text/plain": [
       "<Figure size 432x288 with 1 Axes>"
      ]
     },
     "metadata": {
      "needs_background": "light"
     },
     "output_type": "display_data"
    }
   ],
   "source": [
    "# plot exploration results and path - exploration should explore the feasible region of the TNK problem - See Table V in https://www.iitk.ac.in/kangal/Deb_NSGA-II.pdf\n",
    "fig, ax = plt.subplots()\n",
    "print(results.keys())\n",
    "variables = results['variables']\n",
    "valid = results['variables'][results['feasibility'].flatten()]\n",
    "ax.plot(variables[:, 0], variables[:, 1], '-o')\n",
    "ax.plot(valid[:, 0], valid[:, 1], 'o')\n",
    "ax.set_xlabel('$x_1$')\n",
    "ax.set_ylabel('$x_2$')"
   ]
  }
 ],
 "metadata": {
  "kernelspec": {
   "display_name": "Python 3 (ipykernel)",
   "language": "python",
   "name": "python3"
  },
  "language_info": {
   "codemirror_mode": {
    "name": "ipython",
    "version": 3
   },
   "file_extension": ".py",
   "mimetype": "text/x-python",
   "name": "python",
   "nbconvert_exporter": "python",
   "pygments_lexer": "ipython3",
   "version": "3.9.7"
  }
 },
 "nbformat": 4,
 "nbformat_minor": 5
}