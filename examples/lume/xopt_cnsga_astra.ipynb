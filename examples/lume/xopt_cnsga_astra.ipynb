{
 "cells": [
  {
   "cell_type": "code",
   "execution_count": 1,
   "metadata": {},
   "outputs": [],
   "source": [
    "# Useful for debugging\n",
    "%load_ext autoreload\n",
    "%autoreload 2"
   ]
  },
  {
   "cell_type": "markdown",
   "metadata": {},
   "source": [
    "# Xopt class, Astra kekgun example\n",
    "\n",
    "This is the class method for running Xopt."
   ]
  },
  {
   "cell_type": "code",
   "execution_count": 2,
   "metadata": {},
   "outputs": [],
   "source": [
    "from xopt import Xopt\n",
    "\n",
    "# Notebook printing output\n",
    "from xopt import output_notebook\n",
    "output_notebook()"
   ]
  },
  {
   "cell_type": "code",
   "execution_count": 3,
   "metadata": {},
   "outputs": [],
   "source": [
    "import yaml\n",
    "from xopt import Xopt\n",
    "\n",
    "YAML=\"\"\"\n",
    "xopt:\n",
    "  output_path: temp\n",
    "\n",
    "algorithm:\n",
    "  name: cnsga\n",
    "  options:\n",
    "    max_generations: 3\n",
    "    population_size: 8\n",
    "    crossover_probability: 0.9\n",
    "    mutation_probability: 1.0\n",
    "    selection: auto\n",
    "    population: null\n",
    "    show_progress: True\n",
    "\n",
    "simulation:\n",
    "  name: astra_with_generator\n",
    "  evaluate: astra.evaluate.evaluate_astra_with_generator\n",
    "  options:\n",
    "    astra_input_file: ../templates/kekgun/kekgun.in\n",
    "    generator_input_file: ../templates/kekgun/dist004.in\n",
    "\n",
    "# Note that you can call another file in the top level group:\n",
    "vocs:\n",
    "    variables:\n",
    "      sig_x: [0.05, 1]\n",
    "      lt: [0.005, 0.07]\n",
    "      maxe(1): [20, 50]\n",
    "      phi(1): [-30, 30]\n",
    "      maxb(1): [0, 0.4]\n",
    "      maxe(2): [0, 32]\n",
    "      phi(2): [-180, 180]\n",
    "      maxb(2): [0, 0.3]\n",
    "      maxe(3): [0, 32]\n",
    "      maxe(4): [0, 32]\n",
    "      phi(3): [-45, 45]\n",
    "      phi(4): [-45, 45]\n",
    "      phi(6): [-45, 45]\n",
    "    constants:\n",
    "      ipart: 1000\n",
    "      lspch: true\n",
    "      zstop: 16.54\n",
    "\n",
    "    objectives:\n",
    "      end_core_emit_95percent_x: MINIMIZE\n",
    "      end_sigma_z: MINIMIZE\n",
    "    constraints:\n",
    "      end_sigma_z: [LESS_THAN, 0.0015]\n",
    "      end_core_emit_95percent_x: [LESS_THAN, 9.0e-07]\n",
    "      end_sigma_energy: [LESS_THAN, 200000.0]\n",
    "      end_higher_order_energy_spread: [LESS_THAN, 5000.0]\n",
    "      end_mean_kinetic_energy: [GREATER_THAN, 90000000.0]\n",
    "      end_n_particle_loss: [LESS_THAN, 1]\n",
    "    linked_variables: null\n",
    "\n",
    "\"\"\"\n",
    "\n",
    "!mkdir temp/"
   ]
  },
  {
   "cell_type": "code",
   "execution_count": 4,
   "metadata": {},
   "outputs": [
    {
     "name": "stdout",
     "output_type": "stream",
     "text": [
      "Loading config from text\n",
      "Loading config from dict.\n",
      "Loading config from dict.\n",
      "Loading config from dict.\n",
      "Loading config from dict.\n",
      "Warning: No path set for key simulation : options : archive_path\n"
     ]
    },
    {
     "data": {
      "text/plain": [
       "\n",
       "            Xopt \n",
       "________________________________           \n",
       "Version: 0.4.3+178.g392b747.dirty\n",
       "Configured: True\n",
       "Config as YAML:\n",
       "xopt: {output_path: /Users/chrisonian/Code/GitHub/xopt/examples/basic/temp}\n",
       "algorithm:\n",
       "  name: cnsga\n",
       "  options: {max_generations: 3, population_size: 8, crossover_probability: 0.9, mutation_probability: 1.0,\n",
       "    selection: auto, population: null, show_progress: true, seed: null, verbose: null}\n",
       "  function: xopt.cnsga.cnsga\n",
       "simulation:\n",
       "  name: astra_with_generator\n",
       "  evaluate: astra.evaluate.evaluate_astra_with_generator\n",
       "  options: {astra_input_file: /Users/chrisonian/Code/GitHub/xopt/examples/templates/kekgun/kekgun.in,\n",
       "    generator_input_file: /Users/chrisonian/Code/GitHub/xopt/examples/templates/kekgun/dist004.in,\n",
       "    workdir: null, astra_bin: /Users/chrisonian/Code/astra/bin/Astra, generator_bin: /Users/chrisonian/Code/astra/bin/generator,\n",
       "    timeout: 2500, verbose: false, auto_set_spacecharge_mesh: true, archive_path: null,\n",
       "    merit_f: null}\n",
       "  function: astra.evaluate.evaluate_astra_with_generator\n",
       "vocs:\n",
       "  variables:\n",
       "    sig_x: [0.05, 1]\n",
       "    lt: [0.005, 0.07]\n",
       "    maxe(1): [20, 50]\n",
       "    phi(1): [-30, 30]\n",
       "    maxb(1): [0, 0.4]\n",
       "    maxe(2): [0, 32]\n",
       "    phi(2): [-180, 180]\n",
       "    maxb(2): [0, 0.3]\n",
       "    maxe(3): [0, 32]\n",
       "    maxe(4): [0, 32]\n",
       "    phi(3): [-45, 45]\n",
       "    phi(4): [-45, 45]\n",
       "    phi(6): [-45, 45]\n",
       "  constants: {ipart: 1000, lspch: true, zstop: 0.2}\n",
       "  objectives: {end_core_emit_95percent_x: MINIMIZE, end_sigma_z: MINIMIZE}\n",
       "  constraints:\n",
       "    end_sigma_z: [LESS_THAN, 0.0015]\n",
       "    end_core_emit_95percent_x: [LESS_THAN, 9.0e-07]\n",
       "    end_sigma_energy: [LESS_THAN, 200000.0]\n",
       "    end_higher_order_energy_spread: [LESS_THAN, 5000.0]\n",
       "    end_mean_kinetic_energy: [GREATER_THAN, 90000000.0]\n",
       "    end_n_particle_loss: [LESS_THAN, 1]\n",
       "  linked_variables: null"
      ]
     },
     "execution_count": 4,
     "metadata": {},
     "output_type": "execute_result"
    }
   ],
   "source": [
    "# Create object\n",
    "X = Xopt(YAML)\n",
    "\n",
    "# Change some things to make it run faster\n",
    "X.vocs['constants']['lspch'] = True\n",
    "X.vocs['constants']['ipart'] = 1000\n",
    "X.vocs['constants']['zstop'] = 0.2\n",
    "\n",
    "# Show config\n",
    "X"
   ]
  },
  {
   "cell_type": "code",
   "execution_count": 5,
   "metadata": {},
   "outputs": [
    {
     "data": {
      "text/plain": [
       "{'sig_x': 0.49714987199980876,\n",
       " 'lt': 0.02735233801053188,\n",
       " 'maxe(1)': 36.55600097379309,\n",
       " 'phi(1)': -5.206366581287233,\n",
       " 'maxb(1)': 0.12530404687494406,\n",
       " 'maxe(2)': 1.6812802317750624,\n",
       " 'phi(2)': 20.646092792752285,\n",
       " 'maxb(2)': 0.12004300057653916,\n",
       " 'maxe(3)': 18.281079927992067,\n",
       " 'maxe(4)': 23.619839156234434,\n",
       " 'phi(3)': -12.085834669106106,\n",
       " 'phi(4)': -31.16304430093622,\n",
       " 'phi(6)': 16.205974634505218,\n",
       " 'ipart': 1000,\n",
       " 'lspch': True,\n",
       " 'zstop': 0.2}"
      ]
     },
     "execution_count": 5,
     "metadata": {},
     "output_type": "execute_result"
    }
   ],
   "source": [
    "# Check random inputs \n",
    "X.random_inputs()"
   ]
  },
  {
   "cell_type": "code",
   "execution_count": 6,
   "metadata": {},
   "outputs": [
    {
     "data": {
      "text/plain": [
       "{'error': False,\n",
       " 'end_mean_z': 0.2,\n",
       " 'end_norm_emit_x': 3.6377e-07,\n",
       " 'end_core_emit_95percent_x': 2.464e-07,\n",
       " 'end_core_emit_90percent_x': 2.0333e-07,\n",
       " 'end_core_emit_80percent_x': 1.3782e-07,\n",
       " 'end_norm_emit_y': 3.619e-07,\n",
       " 'end_core_emit_95percent_y': 2.4596e-07,\n",
       " 'end_core_emit_90percent_y': 2.0308999999999997e-07,\n",
       " 'end_core_emit_80percent_y': 1.3819999999999998e-07,\n",
       " 'end_norm_emit_z': 12.845,\n",
       " 'end_core_emit_95percent_z': 1.0246e-05,\n",
       " 'end_core_emit_905percent_z': 8.504300000000001e-06,\n",
       " 'end_core_emit_80percent_z': 6.086e-06,\n",
       " 'end_mean_t': 7.1444e-10,\n",
       " 'end_mean_x': 1.1971e-06,\n",
       " 'end_sigma_x': 0.00087335,\n",
       " 'end_sigma_xp': 0.0038271000000000004,\n",
       " 'end_cov_x__xp': 3.3419611099999997e-06,\n",
       " 'end_mean_y': 1.9815000000000004e-06,\n",
       " 'end_sigma_y': 0.0008733800000000001,\n",
       " 'end_sigma_yp': 0.003828,\n",
       " 'end_cov_y__yp': 3.3428619500000005e-06,\n",
       " 'end_mean_kinetic_energy': 2996800.0,\n",
       " 'end_sigma_z': 0.0023518,\n",
       " 'end_sigma_energy': 13976.0,\n",
       " 'end_cov_z__energy': -30.255906999999997,\n",
       " 'end_n_particle_loss': 0,\n",
       " 'end_total_charge': 9.989999999999999e-11,\n",
       " 'end_higher_order_energy_spread': 913.3695898555574,\n",
       " 'fingerprint': '75a1755c11e5527c514296f39e550f0c'}"
      ]
     },
     "execution_count": 6,
     "metadata": {},
     "output_type": "execute_result"
    }
   ],
   "source": [
    "# Evaluate with some particular settings\n",
    "X.evaluate(\n",
    "    {'ipart': 1000,\n",
    " 'lspch': True,\n",
    " 'zstop': 0.2})"
   ]
  },
  {
   "cell_type": "code",
   "execution_count": 7,
   "metadata": {},
   "outputs": [
    {
     "name": "stdout",
     "output_type": "stream",
     "text": [
      "CPU times: user 340 ms, sys: 26.2 ms, total: 367 ms\n",
      "Wall time: 9.04 s\n"
     ]
    },
    {
     "data": {
      "text/plain": [
       "{'error': False,\n",
       " 'end_mean_z': 0.2,\n",
       " 'end_norm_emit_x': 1.8372e-06,\n",
       " 'end_core_emit_95percent_x': 1.5259999999999999e-06,\n",
       " 'end_core_emit_90percent_x': 1.2681e-06,\n",
       " 'end_core_emit_80percent_x': 8.4845e-07,\n",
       " 'end_norm_emit_y': 1.7617e-06,\n",
       " 'end_core_emit_95percent_y': 1.4453e-06,\n",
       " 'end_core_emit_90percent_y': 1.1918e-06,\n",
       " 'end_core_emit_80percent_y': 7.7903e-07,\n",
       " 'end_norm_emit_z': 11.973,\n",
       " 'end_core_emit_95percent_z': 9.877599999999998e-06,\n",
       " 'end_core_emit_905percent_z': 8.5207e-06,\n",
       " 'end_core_emit_80percent_z': 6.8079e-06,\n",
       " 'end_mean_t': 7.2388e-10,\n",
       " 'end_mean_x': 9.889200000000002e-06,\n",
       " 'end_sigma_x': 0.0019256,\n",
       " 'end_sigma_xp': 0.0087977,\n",
       " 'end_cov_x__xp': 1.693834784e-05,\n",
       " 'end_mean_y': 4.8288e-06,\n",
       " 'end_sigma_y': 0.0018874,\n",
       " 'end_sigma_yp': 0.008619300000000002,\n",
       " 'end_cov_y__yp': 1.626580194e-05,\n",
       " 'end_mean_kinetic_energy': 2749600.0,\n",
       " 'end_sigma_z': 0.0024345,\n",
       " 'end_sigma_energy': 13478.0,\n",
       " 'end_cov_z__energy': -30.5505405,\n",
       " 'end_n_particle_loss': 453,\n",
       " 'end_total_charge': 5.47e-11,\n",
       " 'end_higher_order_energy_spread': 2949.664069916924,\n",
       " 'fingerprint': 'e571cc3ba513be0739973939493642ea'}"
      ]
     },
     "execution_count": 7,
     "metadata": {},
     "output_type": "execute_result"
    }
   ],
   "source": [
    "%%time\n",
    "# Do a random evaluate to check that everything will run\n",
    "output = X.random_evaluate()\n",
    "output"
   ]
  },
  {
   "cell_type": "code",
   "execution_count": 8,
   "metadata": {},
   "outputs": [
    {
     "data": {
      "text/plain": [
       "{'max_generations': 3,\n",
       " 'population_size': 8,\n",
       " 'crossover_probability': 0.9,\n",
       " 'mutation_probability': 1.0,\n",
       " 'selection': 'auto',\n",
       " 'population': None,\n",
       " 'show_progress': True,\n",
       " 'seed': None,\n",
       " 'verbose': None}"
      ]
     },
     "execution_count": 8,
     "metadata": {},
     "output_type": "execute_result"
    }
   ],
   "source": [
    "# These are the algorithm options\n",
    "X.algorithm['options']"
   ]
  },
  {
   "cell_type": "code",
   "execution_count": 9,
   "metadata": {},
   "outputs": [
    {
     "data": {
      "text/plain": [
       "{'astra_input_file': '/Users/chrisonian/Code/GitHub/xopt/examples/templates/kekgun/kekgun.in',\n",
       " 'generator_input_file': '/Users/chrisonian/Code/GitHub/xopt/examples/templates/kekgun/dist004.in',\n",
       " 'workdir': None,\n",
       " 'astra_bin': '/Users/chrisonian/Code/astra/bin/Astra',\n",
       " 'generator_bin': '/Users/chrisonian/Code/astra/bin/generator',\n",
       " 'timeout': 2500,\n",
       " 'verbose': False,\n",
       " 'auto_set_spacecharge_mesh': True,\n",
       " 'archive_path': None,\n",
       " 'merit_f': None}"
      ]
     },
     "execution_count": 9,
     "metadata": {},
     "output_type": "execute_result"
    }
   ],
   "source": [
    "# These are the options in the evaluate function\n",
    "X.simulation['options']"
   ]
  },
  {
   "cell_type": "markdown",
   "metadata": {},
   "source": [
    "# Run CNSGA using processes or threads"
   ]
  },
  {
   "cell_type": "code",
   "execution_count": 10,
   "metadata": {},
   "outputs": [],
   "source": [
    "from concurrent.futures import ProcessPoolExecutor as PoolExecutor\n",
    "#from concurrent.futures import ThreadPoolExecutor as PoolExecutor\n",
    "executor = PoolExecutor()"
   ]
  },
  {
   "cell_type": "code",
   "execution_count": 11,
   "metadata": {},
   "outputs": [
    {
     "name": "stdout",
     "output_type": "stream",
     "text": [
      "Loading config from text\n",
      "Loading config from dict.\n",
      "Loading config from dict.\n",
      "Loading config from dict.\n",
      "Loading config from dict.\n",
      "Warning: No path set for key simulation : options : archive_path\n"
     ]
    }
   ],
   "source": [
    "# Create object\n",
    "X = Xopt(YAML)\n",
    "\n",
    "# Change some things to make it run faster\n",
    "X.vocs['constants']['lspch'] = False\n",
    "X.vocs['constants']['ipart'] = 100\n",
    "X.vocs['constants']['zstop'] = 0.2\n",
    "X.results\n"
   ]
  },
  {
   "cell_type": "code",
   "execution_count": 12,
   "metadata": {},
   "outputs": [
    {
     "name": "stdout",
     "output_type": "stream",
     "text": [
      "Starting at time 2021-09-27T21:57:44-07:00\n",
      "\n",
      "    \n",
      "    \n",
      "     ▄████▄   ███▄    █   ██████   ▄████  ▄▄▄      \n",
      "    ▒██▀ ▀█   ██ ▀█   █ ▒██    ▒  ██▒ ▀█▒▒████▄    \n",
      "    ▒▓█    ▄ ▓██  ▀█ ██▒░ ▓██▄   ▒██░▄▄▄░▒██  ▀█▄  \n",
      "    ▒▓▓▄ ▄██▒▓██▒  ▐▌██▒  ▒   ██▒░▓█  ██▓░██▄▄▄▄██ \n",
      "    ▒ ▓███▀ ░▒██░   ▓██░▒██████▒▒░▒▓███▀▒ ▓█   ▓██▒\n",
      "    ░ ░▒ ▒  ░░ ▒░   ▒ ▒ ▒ ▒▓▒ ▒ ░ ░▒   ▒  ▒▒   ▓▒█░\n",
      "      ░  ▒   ░ ░░   ░ ▒░░ ░▒  ░ ░  ░   ░   ▒   ▒▒ ░\n",
      "    ░           ░   ░ ░ ░  ░  ░  ░ ░   ░   ░   ▒   \n",
      "    ░ ░               ░       ░        ░       ░  ░\n",
      "    ░                                              \n",
      "    \n",
      "    \n",
      "    Continuous Non-dominated Sorting Genetic Algorithm\n",
      "    Version 0.4.3+178.g392b747.dirty\n",
      "    \n",
      "Creating toolbox from vocs.\n",
      "Created toolbox with 13 variables, 6 constraints, and 2 objectives.\n",
      "    Using selection algorithm: nsga2\n",
      "Initializing with a new population, size 8\n",
      "Maximum generations: 3\n",
      "____________________________________________________\n",
      "8 fitness calculations for initial generation\n",
      "done.\n",
      "Submitting first batch of children\n",
      "Pop written to  /Users/chrisonian/Code/GitHub/xopt/examples/basic/temp/initial_pop_0.json\n"
     ]
    },
    {
     "data": {
      "application/vnd.jupyter.widget-view+json": {
       "model_id": "720f6b4e0007418192c06612c8f7d1fa",
       "version_major": 2,
       "version_minor": 0
      },
      "text/plain": [
       "  0%|          | 0/8 [00:00<?, ?it/s]"
      ]
     },
     "metadata": {},
     "output_type": "display_data"
    },
    {
     "data": {
      "application/vnd.jupyter.widget-view+json": {
       "model_id": "0c84ae15d964493e82279e68f3cc28f7",
       "version_major": 2,
       "version_minor": 0
      },
      "text/plain": [
       "  0%|          | 0/8 [00:00<?, ?it/s]"
      ]
     },
     "metadata": {},
     "output_type": "display_data"
    },
    {
     "name": "stdout",
     "output_type": "stream",
     "text": [
      "Generation 0 completed in 0.02784 minutes\n",
      "Pop written to  /Users/chrisonian/Code/GitHub/xopt/examples/basic/temp/gen_1.json\n",
      "Pop written to  /Users/chrisonian/Code/GitHub/xopt/examples/basic/temp/pop_1.json\n"
     ]
    },
    {
     "data": {
      "application/vnd.jupyter.widget-view+json": {
       "model_id": "61cb9d2a2d88442d9c9a3d3718d2941c",
       "version_major": 2,
       "version_minor": 0
      },
      "text/plain": [
       "  0%|          | 0/8 [00:00<?, ?it/s]"
      ]
     },
     "metadata": {},
     "output_type": "display_data"
    },
    {
     "name": "stdout",
     "output_type": "stream",
     "text": [
      "Generation 1 completed in 0.01331 minutes\n",
      "Pop written to  /Users/chrisonian/Code/GitHub/xopt/examples/basic/temp/gen_2.json\n",
      "Pop written to  /Users/chrisonian/Code/GitHub/xopt/examples/basic/temp/pop_2.json\n"
     ]
    },
    {
     "data": {
      "application/vnd.jupyter.widget-view+json": {
       "model_id": "a03991c8cc66400dac9d17c3849f48e1",
       "version_major": 2,
       "version_minor": 0
      },
      "text/plain": [
       "  0%|          | 0/8 [00:00<?, ?it/s]"
      ]
     },
     "metadata": {},
     "output_type": "display_data"
    },
    {
     "name": "stdout",
     "output_type": "stream",
     "text": [
      "Generation 2 completed in 0.01352 minutes\n",
      "Pop written to  /Users/chrisonian/Code/GitHub/xopt/examples/basic/temp/gen_3.json\n",
      "Pop written to  /Users/chrisonian/Code/GitHub/xopt/examples/basic/temp/pop_3.json\n"
     ]
    }
   ],
   "source": [
    "# Run\n",
    "X.run(executor=executor)"
   ]
  },
  {
   "cell_type": "code",
   "execution_count": 13,
   "metadata": {},
   "outputs": [
    {
     "data": {
      "text/plain": [
       "[False, False, False, False, False, False, False, False]"
      ]
     },
     "execution_count": 13,
     "metadata": {},
     "output_type": "execute_result"
    }
   ],
   "source": [
    "# Check for errors\n",
    "X.results['error']"
   ]
  },
  {
   "cell_type": "markdown",
   "metadata": {},
   "source": [
    "# Write this configuration"
   ]
  },
  {
   "cell_type": "code",
   "execution_count": 14,
   "metadata": {},
   "outputs": [
    {
     "name": "stdout",
     "output_type": "stream",
     "text": [
      "Config written as YAML to test.yaml\n"
     ]
    }
   ],
   "source": [
    "X.config['algorithm']['options']['population'] = 'temp/pop_3.json'\n",
    "X.save('test.yaml')"
   ]
  },
  {
   "cell_type": "markdown",
   "metadata": {},
   "source": [
    "# Run with MPI"
   ]
  },
  {
   "cell_type": "code",
   "execution_count": 15,
   "metadata": {},
   "outputs": [
    {
     "name": "stdout",
     "output_type": "stream",
     "text": [
      "Namespace(input_file='test.yaml', logfile='xopt.log', verbose=2)\n",
      "Parallel execution with 4 workers\n",
      "Loading from YAML file: test.yaml\n",
      "Loading config from dict.\n",
      "Loading config from dict.\n",
      "Loading config from dict.\n",
      "Loading config from dict.\n",
      "/Users/chrisonian/Code/GitHub/xopt/xopt/legacy.py:39: UserWarning: `function` keyword no longer allowed in simulation config, moving to `evaluate`\n",
      "  warnings.warn('`function` keyword no longer allowed in simulation config, moving to `evaluate`')\n",
      "Specified both known algorithm `cnsga` and `function`. Using known algorithm function.\n",
      "Warning: No path set for key simulation : options : archive_path\n",
      "Starting at time 2021-09-27T21:58:15-07:00\n",
      "\n",
      "    \n",
      "    \n",
      "     ▄████▄   ███▄    █   ██████   ▄████  ▄▄▄      \n",
      "    ▒██▀ ▀█   ██ ▀█   █ ▒██    ▒  ██▒ ▀█▒▒████▄    \n",
      "    ▒▓█    ▄ ▓██  ▀█ ██▒░ ▓██▄   ▒██░▄▄▄░▒██  ▀█▄  \n",
      "    ▒▓▓▄ ▄██▒▓██▒  ▐▌██▒  ▒   ██▒░▓█  ██▓░██▄▄▄▄██ \n",
      "    ▒ ▓███▀ ░▒██░   ▓██░▒██████▒▒░▒▓███▀▒ ▓█   ▓██▒\n",
      "    ░ ░▒ ▒  ░░ ▒░   ▒ ▒ ▒ ▒▓▒ ▒ ░ ░▒   ▒  ▒▒   ▓▒█░\n",
      "      ░  ▒   ░ ░░   ░ ▒░░ ░▒  ░ ░  ░   ░   ▒   ▒▒ ░\n",
      "    ░           ░   ░ ░ ░  ░  ░  ░ ░   ░   ░   ▒   \n",
      "    ░ ░               ░       ░        ░       ░  ░\n",
      "    ░                                              \n",
      "    \n",
      "    \n",
      "    Continuous Non-dominated Sorting Genetic Algorithm\n",
      "    Version 0.4.3+178.g392b747.dirty\n",
      "    \n",
      "Creating toolbox from vocs.\n",
      "Created toolbox with 13 variables, 6 constraints, and 2 objectives.\n",
      "    Using selection algorithm: nsga2\n",
      "Loading from JSON file: temp/pop_3.json\n",
      "Initializing with existing population, size 8\n",
      "Maximum generations: 7\n",
      "____________________________________________________\n",
      "8 fitness calculations for initial generation\n",
      "done.\n",
      "Submitting first batch of children\n",
      "Pop written to  /Users/chrisonian/Code/GitHub/xopt/examples/basic/temp/initial_pop_4.json\n",
      "  0%|          | 0/8 [00:00<?, ?it/s]\n",
      "  0%|          | 0/8 [00:00<?, ?it/s]\n",
      "Generation 4 completed in 0.02909 minutes\n",
      "Pop written to  /Users/chrisonian/Code/GitHub/xopt/examples/basic/temp/gen_5.json\n",
      "Pop written to  /Users/chrisonian/Code/GitHub/xopt/examples/basic/temp/pop_5.json\n",
      "  0%|          | 0/8 [00:00<?, ?it/s]\n",
      "Generation 5 completed in 0.02330 minutes\n",
      "Pop written to  /Users/chrisonian/Code/GitHub/xopt/examples/basic/temp/gen_6.json\n",
      "Pop written to  /Users/chrisonian/Code/GitHub/xopt/examples/basic/temp/pop_6.json\n",
      "  0%|          | 0/8 [00:00<?, ?it/s]\n",
      "Generation 6 completed in 0.02096 minutes\n",
      "Pop written to  /Users/chrisonian/Code/GitHub/xopt/examples/basic/temp/gen_7.json\n",
      "Pop written to  /Users/chrisonian/Code/GitHub/xopt/examples/basic/temp/pop_7.json\n"
     ]
    }
   ],
   "source": [
    "!mpirun -n 4 python -m mpi4py.futures -m xopt.mpi.run -vv --logfile xopt.log test.yaml"
   ]
  },
  {
   "cell_type": "markdown",
   "metadata": {},
   "source": [
    "# Dask "
   ]
  },
  {
   "cell_type": "code",
   "execution_count": null,
   "metadata": {},
   "outputs": [],
   "source": [
    "from dask.distributed import Client\n",
    "executor = Client()\n",
    "#executor = Client(processes=True)\n",
    "executor"
   ]
  },
  {
   "cell_type": "code",
   "execution_count": null,
   "metadata": {},
   "outputs": [],
   "source": [
    "# Wait a few seconds for the Dask cluster to start\n",
    "from time import sleep\n",
    "sleep(5)"
   ]
  },
  {
   "cell_type": "code",
   "execution_count": null,
   "metadata": {},
   "outputs": [],
   "source": [
    "X.algorithm['options']['max_generations'] = 4\n",
    "X.algorithm['options']['population_size'] = 32\n",
    "X.algorithm['options']['population'] = None\n",
    "X.results = None\n",
    "X"
   ]
  },
  {
   "cell_type": "code",
   "execution_count": null,
   "metadata": {},
   "outputs": [],
   "source": [
    "# Run again\n",
    "X.run(executor=executor)\n",
    "executor.close()\n"
   ]
  },
  {
   "cell_type": "code",
   "execution_count": null,
   "metadata": {},
   "outputs": [],
   "source": [
    "X.results['error']"
   ]
  },
  {
   "cell_type": "markdown",
   "metadata": {},
   "source": [
    "# Plot results"
   ]
  },
  {
   "cell_type": "code",
   "execution_count": null,
   "metadata": {},
   "outputs": [],
   "source": [
    "import matplotlib.pyplot as plt\n",
    "import numpy as np\n",
    "\n",
    "kx = 'end_sigma_z'\n",
    "ky = 'end_core_emit_95percent_x'\n",
    "\n",
    "x = np.array([d[kx] for d in X.results['outputs']])\n",
    "y = np.array([d[ky] for d in X.results['outputs']])\n",
    "\n",
    "\n",
    "plt.scatter(x, y)"
   ]
  },
  {
   "cell_type": "code",
   "execution_count": null,
   "metadata": {},
   "outputs": [],
   "source": [
    "X.results['outputs']"
   ]
  },
  {
   "cell_type": "markdown",
   "metadata": {
    "pycharm": {
     "name": "#%% md\n"
    }
   },
   "source": [
    "# Cleanup"
   ]
  },
  {
   "cell_type": "code",
   "execution_count": null,
   "metadata": {
    "pycharm": {
     "name": "#%%\n"
    }
   },
   "outputs": [],
   "source": [
    "import shutil\n",
    "import os\n",
    "shutil.rmtree('temp/')\n",
    "os.remove('xopt.log')\n",
    "#os.chmod('dask-worker-space/',0o777)\n",
    "shutil.rmtree('dask-worker-space/')\n",
    "##os.chmod('test.yaml',0o777)\n",
    "#os.remove('test.yaml')\n",
    "##os.chmod('NORRAN',0o777)\n",
    "##os.remove('NORRAN')"
   ]
  }
 ],
 "metadata": {
  "kernelspec": {
   "display_name": "Python 3 (ipykernel)",
   "language": "python",
   "name": "python3"
  },
  "language_info": {
   "codemirror_mode": {
    "name": "ipython",
    "version": 3
   },
   "file_extension": ".py",
   "mimetype": "text/x-python",
   "name": "python",
   "nbconvert_exporter": "python",
   "pygments_lexer": "ipython3",
   "version": "3.9.7"
  }
 },
 "nbformat": 4,
 "nbformat_minor": 4
}
