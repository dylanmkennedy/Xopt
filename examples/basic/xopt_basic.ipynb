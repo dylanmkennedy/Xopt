{
 "cells": [
  {
   "cell_type": "markdown",
   "metadata": {
    "pycharm": {
     "name": "#%% md\n"
    }
   },
   "source": [
    "# Xopt basic example\n",
    "\n",
    "An Xopt problem can be described by a simple YAML file. Here we will demonstrate how this is used to optimize a well-known constrained multi-objective test function, TNK.\n",
    "\n",
    "## TNK test function\n",
    "\n",
    "The TNK function is defined with:\n",
    "\n",
    "$n=2$ variables:\n",
    "$x_i \\in [0, \\pi], i=1,2$\n",
    "\n",
    "Objectives:\n",
    "- $f_i(x) = x_i$\n",
    "\n",
    "Constraints:\n",
    "- $g_1(x) = -x_1^2 -x_2^2 + 1 + 0.1 \\cos\\left(16 \\arctan \\frac{x_1}{x_2}\\right) \\le 0$\n",
    "- $g_2(x) = (x_1 - 1/2)^2 + (x_2-1/2)^2 \\le 0.5$"
   ]
  },
  {
   "cell_type": "code",
   "execution_count": 1,
   "metadata": {
    "pycharm": {
     "name": "#%%\n"
    }
   },
   "outputs": [],
   "source": [
    "# Import the class\n",
    "from xopt import Xopt"
   ]
  },
  {
   "cell_type": "code",
   "execution_count": 2,
   "metadata": {
    "pycharm": {
     "name": "#%%\n"
    }
   },
   "outputs": [],
   "source": [
    "!mkdir -p temp"
   ]
  },
  {
   "cell_type": "markdown",
   "metadata": {
    "pycharm": {
     "name": "#%% md\n"
    }
   },
   "source": [
    "The `Xopt` object can be instantiated from a JSON or YAML file, or a dict, with the proper structure.\n",
    "\n",
    "Here we will make one"
   ]
  },
  {
   "cell_type": "code",
   "execution_count": 3,
   "metadata": {
    "collapsed": false,
    "pycharm": {
     "name": "#%%\n"
    }
   },
   "outputs": [],
   "source": [
    "# Make a proper input file.\n",
    "YAML = \"\"\"\n",
    "xopt: {}\n",
    "generator:\n",
    "    name: random\n",
    "\n",
    "evaluator:\n",
    "    name: test_TNK\n",
    "    function: xopt.resources.test_functions.tnk.evaluate_TNK\n",
    "\n",
    "vocs:\n",
    "    variables:\n",
    "        x1: [0, 3.14159]\n",
    "        x2: [0, 3.14159]\n",
    "    objectives: {y1: MINIMIZE, y2: MINIMIZE}\n",
    "    constraints:\n",
    "        c1: [GREATER_THAN, 0]\n",
    "        c2: [LESS_THAN, 0.5]\n",
    "    linked_variables: {x9: x1}\n",
    "    constants: {a: dummy_constant}\n",
    "\n",
    "\"\"\""
   ]
  },
  {
   "cell_type": "code",
   "execution_count": 4,
   "metadata": {
    "collapsed": false,
    "pycharm": {
     "name": "#%%\n"
    }
   },
   "outputs": [],
   "source": [
    "# create Xopt object.\n",
    "X = Xopt(YAML)"
   ]
  },
  {
   "cell_type": "code",
   "execution_count": 5,
   "metadata": {},
   "outputs": [
    {
     "data": {
      "text/plain": [
       "\n",
       "            Xopt \n",
       "________________________________           \n",
       "Version: 0.5.0+77.gb3dbaf1.dirty\n",
       "Config as YAML:\n",
       "data: {}\n",
       "xopt: {asynch: false, strict: false, timeout: null, dump_file: null}\n",
       "generator: {name: random}\n",
       "evaluator:\n",
       "  function: xopt.resources.test_functions.tnk.evaluate_TNK\n",
       "  function_kwargs: {}\n",
       "  max_workers: 1\n",
       "  executor: NormalExecutor\n",
       "vocs:\n",
       "  variables:\n",
       "    x1: [0.0, 3.14159]\n",
       "    x2: [0.0, 3.14159]\n",
       "  constraints:\n",
       "    c1: [GREATER_THAN, 0.0]\n",
       "    c2: [LESS_THAN, 0.5]\n",
       "  objectives: {y1: MINIMIZE, y2: MINIMIZE}\n",
       "  constants: {a: dummy_constant}\n",
       "  linked_variables: {x9: x1}"
      ]
     },
     "execution_count": 5,
     "metadata": {},
     "output_type": "execute_result"
    }
   ],
   "source": [
    "# Convenient representation of the state.\n",
    "X"
   ]
  },
  {
   "cell_type": "markdown",
   "metadata": {
    "collapsed": false,
    "pycharm": {
     "name": "#%% md\n"
    }
   },
   "source": []
  },
  {
   "cell_type": "code",
   "execution_count": 6,
   "metadata": {},
   "outputs": [],
   "source": [
    "Y = \"\"\"\n",
    "data: {}\n",
    "xopt: {asynch: false, strict: false, timeout: null, dump_file: null}\n",
    "generator: {name: random}\n",
    "evaluator:\n",
    "  function: xopt.resources.test_functions.tnk.evaluate_TNK\n",
    "  function_kwargs: {}\n",
    "  max_workers: 1\n",
    "  executor: NormalExecutor\n",
    "vocs:\n",
    "  variables:\n",
    "    x1: [0.0, 3.14159]\n",
    "    x2: [0.0, 3.14159]\n",
    "  constraints:\n",
    "    c1: [GREATER_THAN, 0.0]\n",
    "    c2: [LESS_THAN, 0.5]\n",
    "  objectives: {y1: MINIMIZE, y2: MINIMIZE}\n",
    "  constants: {a: dummy_constant}\n",
    "  linked_variables: {x9: x1}\n",
    "\n",
    "\"\"\"\n",
    "X = Xopt(Y)"
   ]
  },
  {
   "cell_type": "markdown",
   "metadata": {
    "collapsed": false,
    "pycharm": {
     "name": "#%% md\n"
    }
   },
   "source": [
    "# Run Random data generation"
   ]
  },
  {
   "cell_type": "code",
   "execution_count": 7,
   "metadata": {
    "collapsed": false,
    "pycharm": {
     "name": "#%%\n"
    }
   },
   "outputs": [],
   "source": [
    "# Take one step (generate a single point)\n",
    "X.step()"
   ]
  },
  {
   "cell_type": "code",
   "execution_count": 8,
   "metadata": {
    "collapsed": false,
    "pycharm": {
     "name": "#%%\n"
    }
   },
   "outputs": [
    {
     "data": {
      "text/html": [
       "<div>\n",
       "<style scoped>\n",
       "    .dataframe tbody tr th:only-of-type {\n",
       "        vertical-align: middle;\n",
       "    }\n",
       "\n",
       "    .dataframe tbody tr th {\n",
       "        vertical-align: top;\n",
       "    }\n",
       "\n",
       "    .dataframe thead th {\n",
       "        text-align: right;\n",
       "    }\n",
       "</style>\n",
       "<table border=\"1\" class=\"dataframe\">\n",
       "  <thead>\n",
       "    <tr style=\"text-align: right;\">\n",
       "      <th></th>\n",
       "      <th>x1</th>\n",
       "      <th>x2</th>\n",
       "      <th>a</th>\n",
       "      <th>x9</th>\n",
       "      <th>y1</th>\n",
       "      <th>y2</th>\n",
       "      <th>c1</th>\n",
       "      <th>c2</th>\n",
       "      <th>some_array</th>\n",
       "      <th>xopt_error</th>\n",
       "      <th>xopt_error_str</th>\n",
       "    </tr>\n",
       "  </thead>\n",
       "  <tbody>\n",
       "    <tr>\n",
       "      <th>1</th>\n",
       "      <td>3.059697</td>\n",
       "      <td>2.63928</td>\n",
       "      <td>dummy_constant</td>\n",
       "      <td>3.059697</td>\n",
       "      <td>3.059697</td>\n",
       "      <td>2.63928</td>\n",
       "      <td>15.289287</td>\n",
       "      <td>11.128569</td>\n",
       "      <td>[1, 2, 3]</td>\n",
       "      <td>False</td>\n",
       "      <td></td>\n",
       "    </tr>\n",
       "  </tbody>\n",
       "</table>\n",
       "</div>"
      ],
      "text/plain": [
       "         x1       x2               a        x9        y1       y2         c1  \\\n",
       "1  3.059697  2.63928  dummy_constant  3.059697  3.059697  2.63928  15.289287   \n",
       "\n",
       "          c2 some_array  xopt_error xopt_error_str  \n",
       "1  11.128569  [1, 2, 3]       False                 "
      ]
     },
     "execution_count": 8,
     "metadata": {},
     "output_type": "execute_result"
    }
   ],
   "source": [
    "# examine the results\n",
    "X.data"
   ]
  },
  {
   "cell_type": "code",
   "execution_count": 9,
   "metadata": {
    "collapsed": false,
    "pycharm": {
     "name": "#%%\n"
    }
   },
   "outputs": [
    {
     "data": {
      "text/html": [
       "<div>\n",
       "<style scoped>\n",
       "    .dataframe tbody tr th:only-of-type {\n",
       "        vertical-align: middle;\n",
       "    }\n",
       "\n",
       "    .dataframe tbody tr th {\n",
       "        vertical-align: top;\n",
       "    }\n",
       "\n",
       "    .dataframe thead th {\n",
       "        text-align: right;\n",
       "    }\n",
       "</style>\n",
       "<table border=\"1\" class=\"dataframe\">\n",
       "  <thead>\n",
       "    <tr style=\"text-align: right;\">\n",
       "      <th></th>\n",
       "      <th>x1</th>\n",
       "      <th>x2</th>\n",
       "      <th>a</th>\n",
       "      <th>x9</th>\n",
       "      <th>y1</th>\n",
       "      <th>y2</th>\n",
       "      <th>c1</th>\n",
       "      <th>c2</th>\n",
       "      <th>some_array</th>\n",
       "      <th>xopt_error</th>\n",
       "      <th>xopt_error_str</th>\n",
       "    </tr>\n",
       "  </thead>\n",
       "  <tbody>\n",
       "    <tr>\n",
       "      <th>1</th>\n",
       "      <td>3.059697</td>\n",
       "      <td>2.639280</td>\n",
       "      <td>dummy_constant</td>\n",
       "      <td>3.059697</td>\n",
       "      <td>3.059697</td>\n",
       "      <td>2.639280</td>\n",
       "      <td>15.289287</td>\n",
       "      <td>11.128569</td>\n",
       "      <td>[1, 2, 3]</td>\n",
       "      <td>False</td>\n",
       "      <td></td>\n",
       "    </tr>\n",
       "    <tr>\n",
       "      <th>2</th>\n",
       "      <td>2.766509</td>\n",
       "      <td>0.741438</td>\n",
       "      <td>dummy_constant</td>\n",
       "      <td>2.766509</td>\n",
       "      <td>2.766509</td>\n",
       "      <td>0.741438</td>\n",
       "      <td>7.253229</td>\n",
       "      <td>5.195355</td>\n",
       "      <td>[1, 2, 3]</td>\n",
       "      <td>False</td>\n",
       "      <td></td>\n",
       "    </tr>\n",
       "    <tr>\n",
       "      <th>3</th>\n",
       "      <td>0.264313</td>\n",
       "      <td>0.408431</td>\n",
       "      <td>dummy_constant</td>\n",
       "      <td>0.264313</td>\n",
       "      <td>0.264313</td>\n",
       "      <td>0.408431</td>\n",
       "      <td>-0.666070</td>\n",
       "      <td>0.063933</td>\n",
       "      <td>[1, 2, 3]</td>\n",
       "      <td>False</td>\n",
       "      <td></td>\n",
       "    </tr>\n",
       "    <tr>\n",
       "      <th>4</th>\n",
       "      <td>2.887558</td>\n",
       "      <td>1.645673</td>\n",
       "      <td>dummy_constant</td>\n",
       "      <td>2.887558</td>\n",
       "      <td>2.887558</td>\n",
       "      <td>1.645673</td>\n",
       "      <td>10.088294</td>\n",
       "      <td>7.013000</td>\n",
       "      <td>[1, 2, 3]</td>\n",
       "      <td>False</td>\n",
       "      <td></td>\n",
       "    </tr>\n",
       "    <tr>\n",
       "      <th>5</th>\n",
       "      <td>3.108006</td>\n",
       "      <td>0.487740</td>\n",
       "      <td>dummy_constant</td>\n",
       "      <td>3.108006</td>\n",
       "      <td>3.108006</td>\n",
       "      <td>0.487740</td>\n",
       "      <td>8.977135</td>\n",
       "      <td>6.801844</td>\n",
       "      <td>[1, 2, 3]</td>\n",
       "      <td>False</td>\n",
       "      <td></td>\n",
       "    </tr>\n",
       "    <tr>\n",
       "      <th>6</th>\n",
       "      <td>1.350810</td>\n",
       "      <td>0.492828</td>\n",
       "      <td>dummy_constant</td>\n",
       "      <td>1.350810</td>\n",
       "      <td>1.350810</td>\n",
       "      <td>0.492828</td>\n",
       "      <td>0.990180</td>\n",
       "      <td>0.723929</td>\n",
       "      <td>[1, 2, 3]</td>\n",
       "      <td>False</td>\n",
       "      <td></td>\n",
       "    </tr>\n",
       "    <tr>\n",
       "      <th>7</th>\n",
       "      <td>0.833690</td>\n",
       "      <td>1.827971</td>\n",
       "      <td>dummy_constant</td>\n",
       "      <td>0.833690</td>\n",
       "      <td>0.833690</td>\n",
       "      <td>1.827971</td>\n",
       "      <td>2.951957</td>\n",
       "      <td>1.874856</td>\n",
       "      <td>[1, 2, 3]</td>\n",
       "      <td>False</td>\n",
       "      <td></td>\n",
       "    </tr>\n",
       "    <tr>\n",
       "      <th>8</th>\n",
       "      <td>0.154576</td>\n",
       "      <td>3.065602</td>\n",
       "      <td>dummy_constant</td>\n",
       "      <td>0.154576</td>\n",
       "      <td>0.154576</td>\n",
       "      <td>3.065602</td>\n",
       "      <td>8.352576</td>\n",
       "      <td>6.701631</td>\n",
       "      <td>[1, 2, 3]</td>\n",
       "      <td>False</td>\n",
       "      <td></td>\n",
       "    </tr>\n",
       "    <tr>\n",
       "      <th>9</th>\n",
       "      <td>0.860272</td>\n",
       "      <td>0.848934</td>\n",
       "      <td>dummy_constant</td>\n",
       "      <td>0.860272</td>\n",
       "      <td>0.860272</td>\n",
       "      <td>0.848934</td>\n",
       "      <td>0.361318</td>\n",
       "      <td>0.251550</td>\n",
       "      <td>[1, 2, 3]</td>\n",
       "      <td>False</td>\n",
       "      <td></td>\n",
       "    </tr>\n",
       "    <tr>\n",
       "      <th>10</th>\n",
       "      <td>2.060608</td>\n",
       "      <td>1.712834</td>\n",
       "      <td>dummy_constant</td>\n",
       "      <td>2.060608</td>\n",
       "      <td>2.060608</td>\n",
       "      <td>1.712834</td>\n",
       "      <td>6.169890</td>\n",
       "      <td>3.906464</td>\n",
       "      <td>[1, 2, 3]</td>\n",
       "      <td>False</td>\n",
       "      <td></td>\n",
       "    </tr>\n",
       "    <tr>\n",
       "      <th>11</th>\n",
       "      <td>1.709167</td>\n",
       "      <td>1.966800</td>\n",
       "      <td>dummy_constant</td>\n",
       "      <td>1.709167</td>\n",
       "      <td>1.709167</td>\n",
       "      <td>1.966800</td>\n",
       "      <td>5.745943</td>\n",
       "      <td>3.613586</td>\n",
       "      <td>[1, 2, 3]</td>\n",
       "      <td>False</td>\n",
       "      <td></td>\n",
       "    </tr>\n",
       "  </tbody>\n",
       "</table>\n",
       "</div>"
      ],
      "text/plain": [
       "          x1        x2               a        x9        y1        y2  \\\n",
       "1   3.059697  2.639280  dummy_constant  3.059697  3.059697  2.639280   \n",
       "2   2.766509  0.741438  dummy_constant  2.766509  2.766509  0.741438   \n",
       "3   0.264313  0.408431  dummy_constant  0.264313  0.264313  0.408431   \n",
       "4   2.887558  1.645673  dummy_constant  2.887558  2.887558  1.645673   \n",
       "5   3.108006  0.487740  dummy_constant  3.108006  3.108006  0.487740   \n",
       "6   1.350810  0.492828  dummy_constant  1.350810  1.350810  0.492828   \n",
       "7   0.833690  1.827971  dummy_constant  0.833690  0.833690  1.827971   \n",
       "8   0.154576  3.065602  dummy_constant  0.154576  0.154576  3.065602   \n",
       "9   0.860272  0.848934  dummy_constant  0.860272  0.860272  0.848934   \n",
       "10  2.060608  1.712834  dummy_constant  2.060608  2.060608  1.712834   \n",
       "11  1.709167  1.966800  dummy_constant  1.709167  1.709167  1.966800   \n",
       "\n",
       "           c1         c2 some_array  xopt_error xopt_error_str  \n",
       "1   15.289287  11.128569  [1, 2, 3]       False                 \n",
       "2    7.253229   5.195355  [1, 2, 3]       False                 \n",
       "3   -0.666070   0.063933  [1, 2, 3]       False                 \n",
       "4   10.088294   7.013000  [1, 2, 3]       False                 \n",
       "5    8.977135   6.801844  [1, 2, 3]       False                 \n",
       "6    0.990180   0.723929  [1, 2, 3]       False                 \n",
       "7    2.951957   1.874856  [1, 2, 3]       False                 \n",
       "8    8.352576   6.701631  [1, 2, 3]       False                 \n",
       "9    0.361318   0.251550  [1, 2, 3]       False                 \n",
       "10   6.169890   3.906464  [1, 2, 3]       False                 \n",
       "11   5.745943   3.613586  [1, 2, 3]       False                 "
      ]
     },
     "execution_count": 9,
     "metadata": {},
     "output_type": "execute_result"
    }
   ],
   "source": [
    "# take a couple of steps and examine the results\n",
    "for _ in range(10):\n",
    "    X.step()\n",
    "X.data"
   ]
  },
  {
   "cell_type": "markdown",
   "metadata": {
    "collapsed": false,
    "pycharm": {
     "name": "#%% md\n"
    }
   },
   "source": [
    "# Plotting\n",
    "Plot the objective results"
   ]
  },
  {
   "cell_type": "code",
   "execution_count": 10,
   "metadata": {
    "collapsed": false,
    "pycharm": {
     "name": "#%%\n"
    }
   },
   "outputs": [
    {
     "data": {
      "text/plain": [
       "<AxesSubplot:xlabel='y1', ylabel='y2'>"
      ]
     },
     "execution_count": 10,
     "metadata": {},
     "output_type": "execute_result"
    },
    {
     "data": {
      "image/png": "[encoded data removed]",
      "text/plain": [
       "<Figure size 432x288 with 1 Axes>"
      ]
     },
     "metadata": {
      "needs_background": "light"
     },
     "output_type": "display_data"
    }
   ],
   "source": [
    "import matplotlib.pyplot as plt\n",
    "\n",
    "X.data.plot(*X.vocs.objective_names, kind=\"scatter\")"
   ]
  },
  {
   "cell_type": "code",
   "execution_count": 11,
   "metadata": {
    "pycharm": {
     "name": "#%%\n"
    }
   },
   "outputs": [],
   "source": [
    "# Cleanup\n",
    "!rm -r temp"
   ]
  },
  {
   "cell_type": "markdown",
   "metadata": {},
   "source": [
    "# Alternative initialiation methods\n",
    "\n",
    "For convenience, if the first (and only) positional argument is present, then Xopt will automatically try to load from JSON, YAML str or files, or as a dict."
   ]
  },
  {
   "cell_type": "code",
   "execution_count": 12,
   "metadata": {},
   "outputs": [],
   "source": [
    "import yaml\n",
    "import json\n",
    "\n",
    "config  = yaml.safe_load(YAML) \n",
    "# All these methods work\n",
    "\n",
    "X = Xopt(YAML)\n",
    "X = Xopt(config)\n",
    "X = Xopt(json.dumps(config, indent=4))\n"
   ]
  },
  {
   "cell_type": "markdown",
   "metadata": {},
   "source": []
  }
 ],
 "metadata": {
  "interpreter": {
   "hash": "72034539424920dfb606fe3b820b3f27dca0cbf1c69938110810ec4641e275b1"
  },
  "kernelspec": {
   "display_name": "Python 3.9.12 ('xopt-dev')",
   "language": "python",
   "name": "python3"
  },
  "language_info": {
   "codemirror_mode": {
    "name": "ipython",
    "version": 3
   },
   "file_extension": ".py",
   "mimetype": "text/x-python",
   "name": "python",
   "nbconvert_exporter": "python",
   "pygments_lexer": "ipython3",
   "version": "3.9.12"
  }
 },
 "nbformat": 4,
 "nbformat_minor": 4
}
