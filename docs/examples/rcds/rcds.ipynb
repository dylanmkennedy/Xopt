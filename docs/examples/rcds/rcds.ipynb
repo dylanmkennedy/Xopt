{
 "cells": [
  {
   "cell_type": "markdown",
   "id": "6f4b8676-940b-4a69-b495-df62bbc6e2fa",
   "metadata": {},
   "source": [
    "## RCDS Optimization\n",
    "\n",
    "In this example we demonstrate RCDS optimization."
   ]
  },
  {
   "cell_type": "code",
   "execution_count": 1,
   "id": "d05700a3-6853-4dae-bc87-3f9f37dea446",
   "metadata": {},
   "outputs": [],
   "source": [
    "# If you encounter the \"Initializing libomp.dylib, but found libomp.dylib already initialized.\" error\n",
    "# Please run this cell\n",
    "\n",
    "import os\n",
    "\n",
    "os.environ['KMP_DUPLICATE_LIB_OK']='True'"
   ]
  },
  {
   "cell_type": "code",
   "execution_count": 2,
   "id": "78534aeb-5ab2-4a3c-964c-4e080c7e953f",
   "metadata": {},
   "outputs": [],
   "source": [
    "import time\n",
    "import numpy as np\n",
    "from xopt.generators.rcds.rcds import RCDSGenerator\n",
    "from xopt.vocs import VOCS\n",
    "from xopt.evaluator import Evaluator\n",
    "from xopt import Xopt\n",
    "import pandas as pd\n",
    "from tqdm.auto import tqdm\n",
    "import warnings\n",
    "warnings.filterwarnings(\"ignore\")"
   ]
  },
  {
   "cell_type": "markdown",
   "id": "fe8297c8-90e2-4e40-ab0b-63a9fe655aed",
   "metadata": {},
   "source": [
    "### RCDS test problem\n",
    "\n",
    "This test problem is a 2-D quadratic function."
   ]
  },
  {
   "cell_type": "code",
   "execution_count": 3,
   "id": "35171e8a-ea8f-4cbb-b1a0-d01213e0bbcc",
   "metadata": {},
   "outputs": [],
   "source": [
    "def f_RCDS_minimize(input_dict):\n",
    "    p = []\n",
    "    for i in range(2):\n",
    "        p.append(input_dict[f'p{i}'])\n",
    "    \n",
    "    obj = np.linalg.norm(p)\n",
    "    outcome_dict = {'f': obj}\n",
    "    \n",
    "    return outcome_dict"
   ]
  },
  {
   "cell_type": "markdown",
   "id": "9638b784-fa2f-4a94-900c-c66c8b0ea58b",
   "metadata": {},
   "source": [
    "### Run RCDS on the test problem (YAML method)"
   ]
  },
  {
   "cell_type": "code",
   "execution_count": 4,
   "id": "8fac03d4-64f7-4773-973c-850b977a888e",
   "metadata": {},
   "outputs": [
    {
     "data": {
      "text/plain": [
       "\n",
       "            Xopt\n",
       "________________________________\n",
       "Version: 1.2.6+13.gf14dfea\n",
       "Data size: 0\n",
       "Config as YAML:\n",
       "xopt: {asynch: false, strict: false, dump_file: null, max_evaluations: 1000}\n",
       "generator: {name: rcds, x0: null, init_mat: null, noise: 1.0e-05, step: 0.01, tol: 1.0e-05,\n",
       "  max_it: 50}\n",
       "evaluator:\n",
       "  function: __main__.f_RCDS_minimize\n",
       "  max_workers: 1\n",
       "  function_kwargs: {}\n",
       "  vectorized: false\n",
       "vocs:\n",
       "  variables:\n",
       "    p0: [0.0, 1.0]\n",
       "    p1: [0.0, 1.0]\n",
       "  constraints: {}\n",
       "  objectives: {f: MINIMIZE}\n",
       "  constants: {}\n",
       "  linked_variables: {}\n"
      ]
     },
     "execution_count": 4,
     "metadata": {},
     "output_type": "execute_result"
    }
   ],
   "source": [
    "YAML = \"\"\"\n",
    "xopt:\n",
    "    max_evaluations: 1000\n",
    "generator:\n",
    "    name: rcds\n",
    "    x0: null\n",
    "    init_mat: null\n",
    "    noise: 0.00001\n",
    "    step: 0.01\n",
    "    tol: 0.00001\n",
    "    max_it: 50\n",
    "evaluator:\n",
    "    function: __main__.f_RCDS_minimize\n",
    "vocs:\n",
    "    variables:\n",
    "        p0: [0, 1]\n",
    "        p1: [0, 1]\n",
    "    objectives:\n",
    "        f: MINIMIZE\n",
    "\"\"\"\n",
    "\n",
    "X = Xopt(YAML)\n",
    "X"
   ]
  },
  {
   "cell_type": "code",
   "execution_count": 5,
   "id": "e16ab267-8b5e-4616-b552-2b0410c5b75f",
   "metadata": {
    "tags": []
   },
   "outputs": [
    {
     "ename": "StopIteration",
     "evalue": "(matrix([[5.22141485e-05],\n        [2.05221415e-03]]), 0.002052878279089894, 779)",
     "output_type": "error",
     "traceback": [
      "\u001b[0;31m---------------------------------------------------------------------------\u001b[0m",
      "\u001b[0;31mStopIteration\u001b[0m                             Traceback (most recent call last)",
      "Cell \u001b[0;32mIn [5], line 1\u001b[0m\n\u001b[0;32m----> 1\u001b[0m X\u001b[38;5;241m.\u001b[39mrun()\n",
      "File \u001b[0;32m~/Projects/Xopt/xopt/base.py:124\u001b[0m, in \u001b[0;36mXopt.run\u001b[0;34m(self)\u001b[0m\n\u001b[1;32m    118\u001b[0m         logger\u001b[38;5;241m.\u001b[39minfo(\n\u001b[1;32m    119\u001b[0m             \u001b[38;5;124m\"\u001b[39m\u001b[38;5;124mXopt is done. \u001b[39m\u001b[38;5;124m\"\u001b[39m\n\u001b[1;32m    120\u001b[0m             \u001b[38;5;124mf\u001b[39m\u001b[38;5;124m\"\u001b[39m\u001b[38;5;124mMax evaluations \u001b[39m\u001b[38;5;132;01m{\u001b[39;00m\u001b[38;5;28mself\u001b[39m\u001b[38;5;241m.\u001b[39moptions\u001b[38;5;241m.\u001b[39mmax_evaluations\u001b[38;5;132;01m}\u001b[39;00m\u001b[38;5;124m reached.\u001b[39m\u001b[38;5;124m\"\u001b[39m\n\u001b[1;32m    121\u001b[0m         )\n\u001b[1;32m    122\u001b[0m         \u001b[38;5;28;01mbreak\u001b[39;00m\n\u001b[0;32m--> 124\u001b[0m \u001b[38;5;28;43mself\u001b[39;49m\u001b[38;5;241;43m.\u001b[39;49m\u001b[43mstep\u001b[49m\u001b[43m(\u001b[49m\u001b[43m)\u001b[49m\n",
      "File \u001b[0;32m~/Projects/Xopt/xopt/base.py:217\u001b[0m, in \u001b[0;36mXopt.step\u001b[0;34m(self)\u001b[0m\n\u001b[1;32m    215\u001b[0m \u001b[38;5;66;03m# generate samples and submit to evaluator\u001b[39;00m\n\u001b[1;32m    216\u001b[0m logger\u001b[38;5;241m.\u001b[39mdebug(\u001b[38;5;124mf\u001b[39m\u001b[38;5;124m\"\u001b[39m\u001b[38;5;124mGenerating \u001b[39m\u001b[38;5;132;01m{\u001b[39;00mn_generate\u001b[38;5;132;01m}\u001b[39;00m\u001b[38;5;124m candidates\u001b[39m\u001b[38;5;124m\"\u001b[39m)\n\u001b[0;32m--> 217\u001b[0m new_samples \u001b[38;5;241m=\u001b[39m pd\u001b[38;5;241m.\u001b[39mDataFrame(\u001b[38;5;28;43mself\u001b[39;49m\u001b[38;5;241;43m.\u001b[39;49m\u001b[43mgenerator\u001b[49m\u001b[38;5;241;43m.\u001b[39;49m\u001b[43mgenerate\u001b[49m\u001b[43m(\u001b[49m\u001b[43mn_generate\u001b[49m\u001b[43m)\u001b[49m)\n\u001b[1;32m    219\u001b[0m \u001b[38;5;66;03m# generator is done when it returns no new samples\u001b[39;00m\n\u001b[1;32m    220\u001b[0m \u001b[38;5;28;01mif\u001b[39;00m \u001b[38;5;28mlen\u001b[39m(new_samples) \u001b[38;5;241m==\u001b[39m \u001b[38;5;241m0\u001b[39m:\n",
      "File \u001b[0;32m~/Projects/Xopt/xopt/generators/rcds/rcds.py:482\u001b[0m, in \u001b[0;36mRCDSGenerator.generate\u001b[0;34m(self, n_candidates)\u001b[0m\n\u001b[1;32m    479\u001b[0m \u001b[38;5;28;01mif\u001b[39;00m n_candidates \u001b[38;5;241m!=\u001b[39m \u001b[38;5;241m1\u001b[39m:\n\u001b[1;32m    480\u001b[0m     \u001b[38;5;28;01mraise\u001b[39;00m \u001b[38;5;167;01mNotImplementedError\u001b[39;00m(\u001b[38;5;124m\"\u001b[39m\u001b[38;5;124mrcds can only produce one candidate at a time\u001b[39m\u001b[38;5;124m\"\u001b[39m)\n\u001b[0;32m--> 482\u001b[0m x_next \u001b[38;5;241m=\u001b[39m np\u001b[38;5;241m.\u001b[39marray(\u001b[38;5;28;43mnext\u001b[39;49m\u001b[43m(\u001b[49m\u001b[38;5;28;43mself\u001b[39;49m\u001b[38;5;241;43m.\u001b[39;49m\u001b[43mgenerator\u001b[49m\u001b[43m)\u001b[49m)  \u001b[38;5;66;03m# note that x_next is a np.matrix!\u001b[39;00m\n\u001b[1;32m    484\u001b[0m \u001b[38;5;66;03m# Verify the candidate here\u001b[39;00m\n\u001b[1;32m    485\u001b[0m \u001b[38;5;28;01mwhile\u001b[39;00m np\u001b[38;5;241m.\u001b[39many(x_next \u001b[38;5;241m>\u001b[39m \u001b[38;5;28mself\u001b[39m\u001b[38;5;241m.\u001b[39mub) \u001b[38;5;129;01mor\u001b[39;00m np\u001b[38;5;241m.\u001b[39many(x_next \u001b[38;5;241m<\u001b[39m \u001b[38;5;28mself\u001b[39m\u001b[38;5;241m.\u001b[39mlb):\n",
      "\u001b[0;31mStopIteration\u001b[0m: (matrix([[5.22141485e-05],\n        [2.05221415e-03]]), 0.002052878279089894, 779)"
     ]
    }
   ],
   "source": [
    "X.run()"
   ]
  },
  {
   "cell_type": "markdown",
   "id": "54acb14d-2b25-4f2e-a3e9-fecb61af552f",
   "metadata": {},
   "source": [
    "Now you can go directly to the [Visualization](#Visualization) section and check out the results."
   ]
  },
  {
   "cell_type": "markdown",
   "id": "4d688915-bdca-4d0f-baaa-5c50cfd80d79",
   "metadata": {},
   "source": [
    "### Run RCDS on the test problem (API method)"
   ]
  },
  {
   "cell_type": "markdown",
   "id": "8f0a6f75-7f92-47ee-828d-ad7435932cf2",
   "metadata": {},
   "source": [
    "#### VOCS\n",
    "\n",
    "We'll set the bounds for all the variables pi to [0, 1]."
   ]
  },
  {
   "cell_type": "code",
   "execution_count": 7,
   "id": "bd028b25-f395-43ed-8473-2dc950ff72c3",
   "metadata": {},
   "outputs": [],
   "source": [
    "n_var = 2"
   ]
  },
  {
   "cell_type": "code",
   "execution_count": 8,
   "id": "c99026b0-f595-4247-9695-6d0b067ceeca",
   "metadata": {},
   "outputs": [],
   "source": [
    "variables = {}\n",
    "for i in range(n_var):\n",
    "    variables[f'p{i}'] = [0, 1]\n",
    "\n",
    "vocs = VOCS(\n",
    "    variables=variables,\n",
    "    objectives={'f': 'MINIMIZE'},\n",
    ")"
   ]
  },
  {
   "cell_type": "code",
   "execution_count": 9,
   "id": "0af5b8c7-4b3a-4a62-b92b-539899d11109",
   "metadata": {},
   "outputs": [
    {
     "data": {
      "text/plain": [
       "VOCS(variables={'p0': [0.0, 1.0], 'p1': [0.0, 1.0]}, constraints={}, objectives={'f': 'MINIMIZE'}, constants={}, linked_variables={})"
      ]
     },
     "execution_count": 9,
     "metadata": {},
     "output_type": "execute_result"
    }
   ],
   "source": [
    "vocs"
   ]
  },
  {
   "cell_type": "markdown",
   "id": "5354659c-cc30-4d70-8659-0fefd43ef0f0",
   "metadata": {},
   "source": [
    "#### Evaluator"
   ]
  },
  {
   "cell_type": "code",
   "execution_count": 10,
   "id": "efafda0b-7282-4027-a1f3-f96454c114bd",
   "metadata": {},
   "outputs": [],
   "source": [
    "evaluator = Evaluator(function=f_RCDS_minimize)"
   ]
  },
  {
   "cell_type": "markdown",
   "id": "d6c58dcc-0b45-4408-a428-1681098a6a4a",
   "metadata": {},
   "source": [
    "#### Generator"
   ]
  },
  {
   "cell_type": "code",
   "execution_count": 11,
   "id": "41528444-1571-4760-9228-1f1de0267ada",
   "metadata": {},
   "outputs": [],
   "source": [
    "options = RCDSGenerator.default_options()"
   ]
  },
  {
   "cell_type": "code",
   "execution_count": 12,
   "id": "955ad8ae-bd33-4ad0-bf9c-5844a1c16443",
   "metadata": {},
   "outputs": [
    {
     "data": {
      "text/plain": [
       "{'x0': None,\n",
       " 'init_mat': None,\n",
       " 'noise': 1e-05,\n",
       " 'step': 0.01,\n",
       " 'tol': 1e-05,\n",
       " 'max_it': 10}"
      ]
     },
     "execution_count": 12,
     "metadata": {},
     "output_type": "execute_result"
    }
   ],
   "source": [
    "options.dict()"
   ]
  },
  {
   "cell_type": "markdown",
   "id": "c33a60df-d282-4f98-8b2d-7b445b263a38",
   "metadata": {},
   "source": [
    "We'll increase the maximum iteration number to 50 to allow convergence:"
   ]
  },
  {
   "cell_type": "code",
   "execution_count": 13,
   "id": "5bdfbf79-1cf2-4fa3-a04f-cab5faa75a59",
   "metadata": {},
   "outputs": [],
   "source": [
    "options.max_it = 50"
   ]
  },
  {
   "cell_type": "code",
   "execution_count": 14,
   "id": "3f5400be-05e5-4ae1-86dc-33e35892af0a",
   "metadata": {},
   "outputs": [
    {
     "data": {
      "text/plain": [
       "{'x0': None,\n",
       " 'init_mat': None,\n",
       " 'noise': 1e-05,\n",
       " 'step': 0.01,\n",
       " 'tol': 1e-05,\n",
       " 'max_it': 50}"
      ]
     },
     "execution_count": 14,
     "metadata": {},
     "output_type": "execute_result"
    }
   ],
   "source": [
    "options.dict()"
   ]
  },
  {
   "cell_type": "code",
   "execution_count": 15,
   "id": "445daa23-5f97-4a82-bd59-57d9cbae6ac1",
   "metadata": {},
   "outputs": [],
   "source": [
    "generator = RCDSGenerator(vocs, options)"
   ]
  },
  {
   "cell_type": "markdown",
   "id": "f4981983-1e64-43a1-ac90-f88546f9650a",
   "metadata": {},
   "source": [
    "#### Run the optimization"
   ]
  },
  {
   "cell_type": "code",
   "execution_count": 16,
   "id": "23954411-12a6-487a-b2f2-ab929c337878",
   "metadata": {},
   "outputs": [],
   "source": [
    "max_eval = 1000"
   ]
  },
  {
   "cell_type": "code",
   "execution_count": 17,
   "id": "10c77281-f49c-4cf7-bb2d-8a278cf00e23",
   "metadata": {},
   "outputs": [],
   "source": [
    "X = Xopt(vocs=vocs, evaluator=evaluator, generator=generator)"
   ]
  },
  {
   "cell_type": "code",
   "execution_count": 18,
   "id": "4f6ff00b-9abe-4bd1-9dac-7f5cb9293d0f",
   "metadata": {},
   "outputs": [],
   "source": [
    "X.options.max_evaluations = max_eval"
   ]
  },
  {
   "cell_type": "code",
   "execution_count": 19,
   "id": "d34576f0-8ce4-49a6-b360-a9155d777ae7",
   "metadata": {
    "tags": []
   },
   "outputs": [
    {
     "data": {
      "application/vnd.jupyter.widget-view+json": {
       "model_id": "4fde0a7e2e3b47d2aa3a67b925927bee",
       "version_major": 2,
       "version_minor": 0
      },
      "text/plain": [
       "  0%|          | 0/1000 [00:00<?, ?it/s]"
      ]
     },
     "metadata": {},
     "output_type": "display_data"
    },
    {
     "ename": "StopIteration",
     "evalue": "(matrix([[5.22141485e-05],\n        [2.05221415e-03]]), 0.002052878279089894, 779)",
     "output_type": "error",
     "traceback": [
      "\u001b[0;31m---------------------------------------------------------------------------\u001b[0m",
      "\u001b[0;31mStopIteration\u001b[0m                             Traceback (most recent call last)",
      "Cell \u001b[0;32mIn [19], line 2\u001b[0m\n\u001b[1;32m      1\u001b[0m \u001b[38;5;28;01mfor\u001b[39;00m i \u001b[38;5;129;01min\u001b[39;00m tqdm(\u001b[38;5;28mrange\u001b[39m(max_eval)):\n\u001b[0;32m----> 2\u001b[0m     X\u001b[38;5;241m.\u001b[39mstep()\n",
      "File \u001b[0;32m~/Projects/Xopt/xopt/base.py:217\u001b[0m, in \u001b[0;36mXopt.step\u001b[0;34m(self)\u001b[0m\n\u001b[1;32m    215\u001b[0m \u001b[38;5;66;03m# generate samples and submit to evaluator\u001b[39;00m\n\u001b[1;32m    216\u001b[0m logger\u001b[38;5;241m.\u001b[39mdebug(\u001b[38;5;124mf\u001b[39m\u001b[38;5;124m\"\u001b[39m\u001b[38;5;124mGenerating \u001b[39m\u001b[38;5;132;01m{\u001b[39;00mn_generate\u001b[38;5;132;01m}\u001b[39;00m\u001b[38;5;124m candidates\u001b[39m\u001b[38;5;124m\"\u001b[39m)\n\u001b[0;32m--> 217\u001b[0m new_samples \u001b[38;5;241m=\u001b[39m pd\u001b[38;5;241m.\u001b[39mDataFrame(\u001b[38;5;28;43mself\u001b[39;49m\u001b[38;5;241;43m.\u001b[39;49m\u001b[43mgenerator\u001b[49m\u001b[38;5;241;43m.\u001b[39;49m\u001b[43mgenerate\u001b[49m\u001b[43m(\u001b[49m\u001b[43mn_generate\u001b[49m\u001b[43m)\u001b[49m)\n\u001b[1;32m    219\u001b[0m \u001b[38;5;66;03m# generator is done when it returns no new samples\u001b[39;00m\n\u001b[1;32m    220\u001b[0m \u001b[38;5;28;01mif\u001b[39;00m \u001b[38;5;28mlen\u001b[39m(new_samples) \u001b[38;5;241m==\u001b[39m \u001b[38;5;241m0\u001b[39m:\n",
      "File \u001b[0;32m~/Projects/Xopt/xopt/generators/rcds/rcds.py:482\u001b[0m, in \u001b[0;36mRCDSGenerator.generate\u001b[0;34m(self, n_candidates)\u001b[0m\n\u001b[1;32m    479\u001b[0m \u001b[38;5;28;01mif\u001b[39;00m n_candidates \u001b[38;5;241m!=\u001b[39m \u001b[38;5;241m1\u001b[39m:\n\u001b[1;32m    480\u001b[0m     \u001b[38;5;28;01mraise\u001b[39;00m \u001b[38;5;167;01mNotImplementedError\u001b[39;00m(\u001b[38;5;124m\"\u001b[39m\u001b[38;5;124mrcds can only produce one candidate at a time\u001b[39m\u001b[38;5;124m\"\u001b[39m)\n\u001b[0;32m--> 482\u001b[0m x_next \u001b[38;5;241m=\u001b[39m np\u001b[38;5;241m.\u001b[39marray(\u001b[38;5;28;43mnext\u001b[39;49m\u001b[43m(\u001b[49m\u001b[38;5;28;43mself\u001b[39;49m\u001b[38;5;241;43m.\u001b[39;49m\u001b[43mgenerator\u001b[49m\u001b[43m)\u001b[49m)  \u001b[38;5;66;03m# note that x_next is a np.matrix!\u001b[39;00m\n\u001b[1;32m    484\u001b[0m \u001b[38;5;66;03m# Verify the candidate here\u001b[39;00m\n\u001b[1;32m    485\u001b[0m \u001b[38;5;28;01mwhile\u001b[39;00m np\u001b[38;5;241m.\u001b[39many(x_next \u001b[38;5;241m>\u001b[39m \u001b[38;5;28mself\u001b[39m\u001b[38;5;241m.\u001b[39mub) \u001b[38;5;129;01mor\u001b[39;00m np\u001b[38;5;241m.\u001b[39many(x_next \u001b[38;5;241m<\u001b[39m \u001b[38;5;28mself\u001b[39m\u001b[38;5;241m.\u001b[39mlb):\n",
      "\u001b[0;31mStopIteration\u001b[0m: (matrix([[5.22141485e-05],\n        [2.05221415e-03]]), 0.002052878279089894, 779)"
     ]
    }
   ],
   "source": [
    "for i in tqdm(range(max_eval)):\n",
    "    X.step()"
   ]
  },
  {
   "cell_type": "markdown",
   "id": "9808d9af-a815-4995-911a-43bd9eb105da",
   "metadata": {},
   "source": [
    "### Visualization"
   ]
  },
  {
   "cell_type": "code",
   "execution_count": 20,
   "id": "651d6821-8069-4efb-8bad-56a87f7240e8",
   "metadata": {},
   "outputs": [
    {
     "data": {
      "text/plain": [
       "<AxesSubplot: >"
      ]
     },
     "execution_count": 20,
     "metadata": {},
     "output_type": "execute_result"
    },
    {
     "data": {
      "image/png": "[encoded data removed]",
      "text/plain": [
       "<Figure size 640x480 with 1 Axes>"
      ]
     },
     "metadata": {},
     "output_type": "display_data"
    }
   ],
   "source": [
    "X.data.plot(y='f')"
   ]
  },
  {
   "cell_type": "code",
   "execution_count": null,
   "id": "c1c4cfbe-c325-4e74-a778-ffe88aa97c37",
   "metadata": {},
   "outputs": [],
   "source": []
  }
 ],
 "metadata": {
  "kernelspec": {
   "display_name": "Python 3 (ipykernel)",
   "language": "python",
   "name": "python3"
  },
  "language_info": {
   "codemirror_mode": {
    "name": "ipython",
    "version": 3
   },
   "file_extension": ".py",
   "mimetype": "text/x-python",
   "name": "python",
   "nbconvert_exporter": "python",
   "pygments_lexer": "ipython3",
   "version": "3.9.13"
  }
 },
 "nbformat": 4,
 "nbformat_minor": 5
}
