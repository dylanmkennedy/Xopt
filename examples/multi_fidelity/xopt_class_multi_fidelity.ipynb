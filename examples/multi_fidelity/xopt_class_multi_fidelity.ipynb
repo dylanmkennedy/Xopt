{
 "cells": [
  {
   "cell_type": "code",
   "execution_count": 1,
   "metadata": {},
   "outputs": [],
   "source": [
    "# Useful for debugging\n",
    "%load_ext autoreload\n",
    "%autoreload 2"
   ]
  },
  {
   "cell_type": "markdown",
   "metadata": {},
   "source": [
    "# Multi-fidelity (MF) optimization\n",
    "\n",
    "In most cases it is better to do many cheap evaluations of an approximation to the target function than it is to only optimize the target function. This example demonstrates the 'multi-fidelity' capabilities of xopt. \n",
    "\n",
    "We follow the implementation of multi-fidelity bayesian optimization used in botorch https://botorch.org/tutorials/multi_fidelity_bo to optimize the synthetic test function AugmentedHartmann https://botorch.org/api/test_functions.html.\n",
    "\n",
    "The difference between normal Bayesian optimization and MF optimization is that we specify a 'cost' to making observations at a given fidelity. For this example we assume a base cost of 5 and a fidelity cost between 0-1. The algorithm should make many observations at lower fidelity relative to higher fidelity, lowering the total observation cost. \n",
    "\n",
    "NOTE: The cost parameter is required to be the LAST element of the variables list. Also this method is best suited for parallel observations of the test function."
   ]
  },
  {
   "cell_type": "code",
   "execution_count": 2,
   "metadata": {},
   "outputs": [],
   "source": [
    "# Import the class\n",
    "from xopt import Xopt\n",
    "from xopt.bayesian.generators.multi_fidelity import MultiFidelityGenerator\n",
    "from xopt.bayesian.models.models import create_multi_fidelity_model\n",
    "from botorch.test_functions.multi_fidelity import AugmentedHartmann\n"
   ]
  },
  {
   "cell_type": "markdown",
   "metadata": {},
   "source": [
    "The `Xopt` object can be instantiated from a JSON or YAML file, or a dict, with the proper structure.\n",
    "\n",
    "Here we will make one"
   ]
  },
  {
   "cell_type": "code",
   "execution_count": 3,
   "metadata": {},
   "outputs": [],
   "source": [
    "import yaml\n",
    "# Make a proper input file. \n",
    "YAML = \"\"\"\n",
    "xopt: {output_path: null, verbose: true}\n",
    "\n",
    "algorithm:\n",
    "  name: multi_fidelity\n",
    "  options:  \n",
    "      n_initial_samples: 16\n",
    "      n_steps: 10\n",
    "      verbose: True\n",
    "      use_gpu: False\n",
    "      generator_options:                     ## options for bayesian exploration acquisition function\n",
    "          batch_size: 4                      ## batch size for parallelized optimization\n",
    "\n",
    "\n",
    "simulation: \n",
    "  name: test_multi_fidelity\n",
    "  evaluate: xopt.evaluators.test_multi_fidelity.evaluate\n",
    "\n",
    "vocs:\n",
    "  name: test_multi_fidelity\n",
    "  description: null\n",
    "  simulation: test_multi_fidelity\n",
    "  templates: null\n",
    "  variables:\n",
    "    x1: [0, 1.0]\n",
    "    x2: [0, 1.0]\n",
    "    x3: [0, 1.0]\n",
    "    x4: [0, 1.0]\n",
    "    x5: [0, 1.0]\n",
    "    x6: [0, 1.0]\n",
    "    cost: [0, 1.0]                          ## NOTE: THIS IS REQUIRED FOR MULTI-FIDELITY OPTIMIZATION\n",
    "  objectives:\n",
    "    y1: 'MINIMIZE'\n",
    "  linked_variables: {}\n",
    "  constants: {a: dummy_constant}\n",
    "\n",
    "\"\"\"\n",
    "config = yaml.safe_load(YAML)"
   ]
  },
  {
   "cell_type": "code",
   "execution_count": 4,
   "metadata": {},
   "outputs": [
    {
     "name": "stdout",
     "output_type": "stream",
     "text": [
      "Loading config as dict.\n",
      "Warning: No path set for key xopt : output_path\n",
      "Warning: No path set for key algorithm : options : restart_file\n"
     ]
    },
    {
     "data": {
      "text/plain": [
       "\n",
       "            Xopt \n",
       "________________________________           \n",
       "Version: 0.4.3+91.g62835c4.dirty\n",
       "Configured: True\n",
       "Config as YAML:\n",
       "xopt: {output_path: null, verbose: true, algorithm: cnsga}\n",
       "algorithm:\n",
       "  name: multi_fidelity\n",
       "  function: xopt.bayesian.algorithms.multi_fidelity_optimize\n",
       "  options:\n",
       "    n_initial_samples: 16\n",
       "    n_steps: 10\n",
       "    verbose: true\n",
       "    use_gpu: false\n",
       "    generator_options: {batch_size: 4}\n",
       "    custom_model: !!python/name:xopt.bayesian.models.models.create_multi_fidelity_model ''\n",
       "    restart_file: null\n",
       "    initial_x: null\n",
       "simulation:\n",
       "  name: test_multi_fidelity\n",
       "  evaluate: xopt.evaluators.test_multi_fidelity.evaluate\n",
       "  options: {extra_option: abc}\n",
       "vocs:\n",
       "  name: test_multi_fidelity\n",
       "  description: null\n",
       "  simulation: test_multi_fidelity\n",
       "  templates: null\n",
       "  variables:\n",
       "    x1: [0, 1.0]\n",
       "    x2: [0, 1.0]\n",
       "    x3: [0, 1.0]\n",
       "    x4: [0, 1.0]\n",
       "    x5: [0, 1.0]\n",
       "    x6: [0, 1.0]\n",
       "    cost: [0, 1.0]\n",
       "  objectives: {y1: MINIMIZE}\n",
       "  linked_variables: {}\n",
       "  constants: {a: dummy_constant}\n",
       "  constraints: {}"
      ]
     },
     "execution_count": 4,
     "metadata": {},
     "output_type": "execute_result"
    }
   ],
   "source": [
    "X = Xopt(config)\n",
    "X"
   ]
  },
  {
   "cell_type": "markdown",
   "metadata": {},
   "source": [
    "# Run BayesOpt"
   ]
  },
  {
   "cell_type": "code",
   "execution_count": 5,
   "metadata": {},
   "outputs": [],
   "source": [
    "# Pick one of these\n",
    "from concurrent.futures import ThreadPoolExecutor as PoolExecutor\n",
    "#from concurrent.futures import ProcessPoolExecutor as PoolExecutor\n",
    "\n",
    "executor = PoolExecutor()\n",
    "# This will also work. \n",
    "#executor=None"
   ]
  },
  {
   "cell_type": "code",
   "execution_count": 6,
   "metadata": {},
   "outputs": [
    {
     "name": "stdout",
     "output_type": "stream",
     "text": [
      "Starting at time 2021-08-23T10:16:10-05:00\n",
      "started running optimization with generator: <xopt.bayesian.generators.multi_fidelity.MultiFidelityGenerator object at 0x000001D7A3E458B0>\n",
      "submitting initial candidates at time 2021-08-23T10:16:10-05:00\n",
      "starting optimization loop\n",
      "Model creation time: 0.1712 s\n",
      "Candidate generation time: 23.54 s\n",
      "Candidate(s): tensor([[0.1939, 0.0187, 0.5065, 0.4093, 0.3505, 0.9215, 0.0000],\n",
      "        [0.2378, 0.0745, 0.4097, 0.4640, 0.2229, 0.7369, 0.0000],\n",
      "        [0.1095, 0.1947, 0.3469, 0.3761, 0.3078, 0.7746, 0.0000],\n",
      "        [0.2646, 0.1889, 0.3177, 0.3946, 0.2463, 0.9560, 0.0000]],\n",
      "       dtype=torch.float64)\n",
      "submitting candidates at time 2021-08-23T10:16:34-05:00\n",
      "Model creation time: 0.163 s\n",
      "Candidate generation time: 24.94 s\n",
      "Candidate(s): tensor([[9.1036e-02, 3.5225e-01, 3.0867e-01, 3.7316e-01, 2.5653e-01, 7.1178e-01,\n",
      "         0.0000e+00],\n",
      "        [6.7829e-02, 2.1020e-01, 4.0762e-01, 3.8823e-01, 4.3017e-01, 7.0235e-01,\n",
      "         0.0000e+00],\n",
      "        [1.0431e-01, 1.4569e-01, 3.5338e-01, 2.7721e-01, 2.8024e-01, 7.0933e-01,\n",
      "         0.0000e+00],\n",
      "        [3.2864e-04, 1.3929e-01, 2.5233e-01, 3.9835e-01, 2.6541e-01, 7.2910e-01,\n",
      "         0.0000e+00]], dtype=torch.float64)\n",
      "submitting candidates at time 2021-08-23T10:16:59-05:00\n",
      "Model creation time: 0.2531 s\n",
      "Candidate generation time: 26.69 s\n",
      "Candidate(s): tensor([[0.1833, 0.1738, 0.4198, 0.2179, 0.3017, 0.6731, 0.0000],\n",
      "        [0.1413, 0.0639, 0.2591, 0.2273, 0.2288, 0.6633, 0.0000],\n",
      "        [0.1007, 0.1535, 0.2926, 0.1688, 0.3005, 0.7511, 0.0049],\n",
      "        [0.0919, 0.1213, 0.4677, 0.2127, 0.1890, 0.7151, 0.0126]],\n",
      "       dtype=torch.float64)\n",
      "submitting candidates at time 2021-08-23T10:17:26-05:00\n",
      "Model creation time: 0.44 s\n",
      "Candidate generation time: 31.2 s\n",
      "Candidate(s): tensor([[0.1822, 0.0630, 0.4319, 0.2556, 0.3264, 0.6479, 0.0000],\n",
      "        [0.1166, 0.1678, 0.5294, 0.2368, 0.3064, 0.6394, 0.0082],\n",
      "        [0.1533, 0.1731, 0.3633, 0.2502, 0.3146, 0.6045, 0.0000],\n",
      "        [0.8725, 0.1194, 0.3500, 0.6982, 0.9496, 0.7112, 0.0000]],\n",
      "       dtype=torch.float64)\n",
      "submitting candidates at time 2021-08-23T10:17:58-05:00\n",
      "Model creation time: 0.596 s\n",
      "Candidate generation time: 38.05 s\n",
      "Candidate(s): tensor([[2.0085e-01, 1.8500e-01, 4.9345e-01, 2.8136e-01, 3.3812e-01, 6.6763e-01,\n",
      "         0.0000e+00],\n",
      "        [7.8315e-01, 1.5619e-01, 4.7442e-01, 6.7646e-01, 9.6940e-01, 6.9129e-01,\n",
      "         1.8488e-02],\n",
      "        [2.1663e-01, 1.3545e-01, 5.0127e-01, 2.8578e-01, 2.8994e-01, 6.3494e-01,\n",
      "         2.1597e-04],\n",
      "        [6.6213e-01, 5.3873e-01, 9.0144e-01, 6.0695e-01, 9.9944e-01, 1.7151e-01,\n",
      "         3.0078e-01]], dtype=torch.float64)\n",
      "submitting candidates at time 2021-08-23T10:18:37-05:00\n",
      "Model creation time: 0.584 s\n",
      "Candidate generation time: 40.56 s\n",
      "Candidate(s): tensor([[0.9773, 0.7835, 0.8264, 0.0000, 0.9195, 0.9992, 0.1827],\n",
      "        [0.1987, 0.1373, 0.5950, 0.2788, 0.3056, 0.6896, 0.7449],\n",
      "        [0.2529, 0.1555, 0.5429, 0.2507, 0.3222, 0.6364, 0.7367],\n",
      "        [0.1833, 0.1483, 0.4157, 0.2905, 0.3102, 0.6577, 0.7455]],\n",
      "       dtype=torch.float64)\n",
      "submitting candidates at time 2021-08-23T10:19:18-05:00\n",
      "Model creation time: 0.659 s\n",
      "Candidate generation time: 42.53 s\n",
      "Candidate(s): tensor([[2.3646e-01, 1.7352e-01, 5.2571e-01, 2.6673e-01, 2.9396e-01, 6.9332e-01,\n",
      "         5.0566e-02],\n",
      "        [1.8609e-01, 1.8047e-01, 6.8271e-01, 2.6561e-01, 2.9783e-01, 6.8694e-01,\n",
      "         6.8002e-04],\n",
      "        [2.3365e-01, 2.2884e-01, 4.6670e-01, 2.9208e-01, 3.0345e-01, 6.5662e-01,\n",
      "         7.4795e-01],\n",
      "        [2.6989e-01, 1.5085e-01, 3.9734e-01, 2.9197e-01, 3.1385e-01, 6.6689e-01,\n",
      "         7.5126e-01]], dtype=torch.float64)\n",
      "submitting candidates at time 2021-08-23T10:20:01-05:00\n",
      "Model creation time: 0.61 s\n",
      "Candidate generation time: 47.11 s\n",
      "Candidate(s): tensor([[0.1388, 0.5257, 0.5069, 0.0827, 0.2827, 0.6093, 0.8123],\n",
      "        [0.0390, 0.9573, 0.4305, 0.0682, 0.2340, 0.7860, 0.9992],\n",
      "        [0.1355, 0.5051, 0.4946, 0.0893, 0.2834, 0.6100, 0.2672],\n",
      "        [0.2018, 0.1638, 0.4354, 0.2489, 0.3214, 0.6861, 0.7427]],\n",
      "       dtype=torch.float64)\n",
      "submitting candidates at time 2021-08-23T10:20:49-05:00\n",
      "Model creation time: 0.6995 s\n",
      "Candidate generation time: 46.35 s\n",
      "Candidate(s): tensor([[0.2494, 0.3980, 0.8089, 0.2722, 0.2229, 0.8392, 0.9833],\n",
      "        [0.2450, 0.1292, 0.4767, 0.3075, 0.3146, 0.6898, 0.7893],\n",
      "        [0.2108, 0.0986, 0.4508, 0.2612, 0.2901, 0.6603, 0.8136],\n",
      "        [0.1814, 0.1215, 0.4907, 0.3124, 0.3246, 0.6179, 0.8108]],\n",
      "       dtype=torch.float64)\n",
      "submitting candidates at time 2021-08-23T10:21:36-05:00\n",
      "Model creation time: 0.64 s\n",
      "Candidate generation time: 48.33 s\n",
      "Candidate(s): tensor([[0.2376, 0.0576, 0.9070, 0.2509, 0.1698, 0.7662, 1.0000],\n",
      "        [0.6790, 0.5199, 0.3392, 0.5637, 0.0243, 0.3366, 0.9995],\n",
      "        [0.1464, 0.1566, 0.4601, 0.2951, 0.3042, 0.6821, 0.8352],\n",
      "        [0.2028, 0.2295, 0.9283, 0.0743, 0.7970, 0.8314, 0.9620]],\n",
      "       dtype=torch.float64)\n",
      "submitting candidates at time 2021-08-23T10:22:25-05:00\n"
     ]
    }
   ],
   "source": [
    "# Change max generations\n",
    "X.run(executor=executor)\n",
    "results = X.results"
   ]
  },
  {
   "cell_type": "markdown",
   "metadata": {},
   "source": [
    "### Get highest fidelity global optimum"
   ]
  },
  {
   "cell_type": "code",
   "execution_count": 7,
   "metadata": {},
   "outputs": [
    {
     "name": "stderr",
     "output_type": "stream",
     "text": [
      "[autoreload of xopt.bayesian.generators.multi_fidelity failed: Traceback (most recent call last):\n",
      "  File \"C:\\ProgramData\\Miniconda3\\envs\\xopt\\lib\\site-packages\\IPython\\extensions\\autoreload.py\", line 245, in check\n",
      "    superreload(m, reload, self.old_objects)\n",
      "  File \"C:\\ProgramData\\Miniconda3\\envs\\xopt\\lib\\site-packages\\IPython\\extensions\\autoreload.py\", line 394, in superreload\n",
      "    module = reload(module)\n",
      "  File \"C:\\ProgramData\\Miniconda3\\envs\\xopt\\lib\\imp.py\", line 314, in reload\n",
      "    return importlib.reload(module)\n",
      "  File \"C:\\ProgramData\\Miniconda3\\envs\\xopt\\lib\\importlib\\__init__.py\", line 169, in reload\n",
      "    _bootstrap._exec(spec, module)\n",
      "  File \"<frozen importlib._bootstrap>\", line 613, in _exec\n",
      "  File \"<frozen importlib._bootstrap_external>\", line 846, in exec_module\n",
      "  File \"<frozen importlib._bootstrap_external>\", line 983, in get_code\n",
      "  File \"<frozen importlib._bootstrap_external>\", line 913, in source_to_code\n",
      "  File \"<frozen importlib._bootstrap>\", line 228, in _call_with_frames_removed\n",
      "  File \"c:\\users\\ryan roussel\\documents\\github\\xopt\\xopt\\bayesian\\generators\\multi_fidelity.py\", line 34\n",
      "    self.cost_model =\n",
      "                     ^\n",
      "SyntaxError: invalid syntax\n",
      "]\n"
     ]
    }
   ],
   "source": [
    "# create generator object\n",
    "gen = MultiFidelityGenerator()"
   ]
  },
  {
   "cell_type": "code",
   "execution_count": 8,
   "metadata": {},
   "outputs": [],
   "source": [
    "# create model\n",
    "model = create_multi_fidelity_model(results['variables'], results['corrected_objectives'], results['corrected_constraints'], X.vocs)"
   ]
  },
  {
   "cell_type": "code",
   "execution_count": 9,
   "metadata": {},
   "outputs": [
    {
     "data": {
      "text/plain": [
       "tensor([-3.3217])"
      ]
     },
     "execution_count": 9,
     "metadata": {},
     "output_type": "execute_result"
    }
   ],
   "source": [
    "## NOTE: we want to get the minimum evaluated at the highest fidelity -> make sure to use get_recommendation\n",
    "rec = gen.get_recommendation(model, X.vocs)\n",
    "problem = AugmentedHartmann(negate=False)\n",
    "problem(rec) ## NOTE: the correct global minimum is -3.32237"
   ]
  },
  {
   "cell_type": "code",
   "execution_count": null,
   "metadata": {},
   "outputs": [],
   "source": []
  }
 ],
 "metadata": {
  "kernelspec": {
   "display_name": "xopt",
   "language": "python",
   "name": "xopt"
  },
  "language_info": {
   "codemirror_mode": {
    "name": "ipython",
    "version": 3
   },
   "file_extension": ".py",
   "mimetype": "text/x-python",
   "name": "python",
   "nbconvert_exporter": "python",
   "pygments_lexer": "ipython3",
   "version": "3.9.6"
  }
 },
 "nbformat": 4,
 "nbformat_minor": 4
}
