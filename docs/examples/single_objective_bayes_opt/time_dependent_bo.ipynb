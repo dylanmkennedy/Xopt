{
 "cells": [
  {
   "cell_type": "markdown",
   "source": [
    "## Time dependent Bayesian Optimization\n",
    "\n",
    "In this example we demonstrate time dependent optimization. In this case we are not\n",
    "only interested in finding an optimum point in input space, but also maintain the\n",
    "ideal point over time."
   ],
   "metadata": {
    "collapsed": false
   }
  },
  {
   "cell_type": "code",
   "execution_count": 1,
   "outputs": [],
   "source": [
    "# set values if testing\n",
    "import os\n",
    "SMOKE_TEST = os.environ.get(\"SMOKE_TEST\")\n",
    "N_MC_SAMPLES = 1 if SMOKE_TEST else 128\n",
    "NUM_RESTARTS = 1 if SMOKE_TEST else 20\n",
    "\n",
    "from xopt.generators.bayesian import TDUpperConfidenceBoundGenerator\n",
    "from xopt.vocs import VOCS\n",
    "from xopt.evaluator import Evaluator\n",
    "import warnings\n",
    "warnings.filterwarnings(\"ignore\")"
   ],
   "metadata": {
    "collapsed": false,
    "ExecuteTime": {
     "end_time": "2024-09-11T19:31:37.224583300Z",
     "start_time": "2024-09-11T19:31:33.624564900Z"
    }
   }
  },
  {
   "cell_type": "markdown",
   "source": [
    "### Time dependent test problem\n",
    "Optimization is carried out over a single variable `x`. The test function is a simple\n",
    " quadratic, with a minimum location that drifts in the positive `x` direction over\n",
    " (real) time."
   ],
   "metadata": {
    "collapsed": false
   }
  },
  {
   "cell_type": "code",
   "execution_count": 2,
   "outputs": [
    {
     "name": "stdout",
     "output_type": "stream",
     "text": [
      "variables={'x': [-1.0, 1.0]} constraints={} objectives={'y': 'MINIMIZE'} constants={} observables=[]\n"
     ]
    },
    {
     "data": {
      "text/plain": "\n            Xopt\n________________________________\nVersion: 2.3.0+18.gdf9156ec.dirty\nData size: 0\nConfig as YAML:\ndump_file: null\nevaluator:\n  function: __main__.f\n  function_kwargs: {}\n  max_workers: 1\n  vectorized: false\ngenerator:\n  added_time: 0.1\n  beta: 0.01\n  computation_time: null\n  custom_objective: null\n  fixed_features: null\n  forgetting_time: 20.0\n  gp_constructor:\n    covar_modules: {}\n    custom_noise_prior: null\n    mean_modules: {}\n    name: time_dependent\n    trainable_mean_keys: []\n    transform_inputs: true\n    use_low_noise_prior: true\n  log_transform_acquisition_function: false\n  max_travel_distances:\n  - 0.1\n  memory_length: null\n  model: null\n  n_candidates: 1\n  n_interpolate_points: null\n  n_monte_carlo_samples: 128\n  name: time_dependent_upper_confidence_bound\n  numerical_optimizer:\n    max_iter: 2000\n    max_time: null\n    n_restarts: 20\n    name: LBFGS\n  target_prediction_time: null\n  turbo_controller: null\n  use_cuda: false\nmax_evaluations: null\nserialize_inline: false\nserialize_torch: false\nstrict: true\nvocs:\n  constants: {}\n  constraints: {}\n  objectives:\n    y: MINIMIZE\n  observables: []\n  variables:\n    x:\n    - -1.0\n    - 1.0\n"
     },
     "execution_count": 2,
     "metadata": {},
     "output_type": "execute_result"
    }
   ],
   "source": [
    "# test evaluate function and vocs\n",
    "import time\n",
    "from xopt import Xopt\n",
    "import torch\n",
    "\n",
    "def g(x_,t_):\n",
    "    # make a test function that has a sharp change at t_ = 50\n",
    "    return torch.where(\n",
    "        t_ < 50,\n",
    "        (x_ - 0.25*torch.sin(t_ * 6 / 10.0) - 0.1e-2 * t_)**2,\n",
    "        2*(x_ + 1.5e-2 * (t_ - 50.0))**2\n",
    "    )\n",
    "\n",
    "start_time = time.time()\n",
    "def f(inputs):\n",
    "    x_ = inputs[\"x\"]\n",
    "    current_time = time.time()\n",
    "    t_ = current_time - start_time\n",
    "    y_ = g(x_,torch.tensor(t_))\n",
    "\n",
    "    return {\"y\":float(y_), \"time\":float(current_time)}\n",
    "\n",
    "variables = {\"x\":[-1,1]}\n",
    "objectives = {\"y\": \"MINIMIZE\"}\n",
    "\n",
    "vocs = VOCS(variables=variables, objectives=objectives)\n",
    "print(vocs)\n",
    "\n",
    "evaluator = Evaluator(function=f)\n",
    "generator = TDUpperConfidenceBoundGenerator(\n",
    "    vocs=vocs,\n",
    "    beta=0.01,\n",
    "    added_time=0.1,\n",
    "    forgetting_time=20.0,\n",
    ")\n",
    "generator.n_monte_carlo_samples = N_MC_SAMPLES\n",
    "generator.numerical_optimizer.n_restarts = NUM_RESTARTS\n",
    "generator.max_travel_distances = [0.1]\n",
    "\n",
    "X = Xopt(evaluator=evaluator, generator=generator, vocs=vocs)\n",
    "X"
   ],
   "metadata": {
    "collapsed": false,
    "ExecuteTime": {
     "end_time": "2024-09-11T19:31:37.284526Z",
     "start_time": "2024-09-11T19:31:37.226555800Z"
    }
   }
  },
  {
   "cell_type": "code",
   "execution_count": null,
   "outputs": [
    {
     "name": "stdout",
     "output_type": "stream",
     "text": [
      "0\n"
     ]
    }
   ],
   "source": [
    "X.random_evaluate(2)\n",
    "\n",
    "for i in range(300):\n",
    "    print(i)\n",
    "    # note that in this example we can ignore warnings if computation time is greater\n",
    "    # than added time\n",
    "    with warnings.catch_warnings():\n",
    "        warnings.filterwarnings(\"ignore\", category=RuntimeWarning)\n",
    "        X.step()\n",
    "        time.sleep(0.1)\n"
   ],
   "metadata": {
    "collapsed": false,
    "is_executing": true,
    "ExecuteTime": {
     "start_time": "2024-09-11T19:31:37.258529900Z"
    }
   }
  },
  {
   "cell_type": "code",
   "execution_count": null,
   "outputs": [],
   "source": [
    "# plot model\n",
    "import torch\n",
    "from matplotlib import pyplot as plt\n",
    "data = X.data\n",
    "\n",
    "xbounds = generator.vocs.bounds\n",
    "tbounds = [data[\"time\"].min(), data[\"time\"].max()]\n",
    "\n",
    "model = X.generator.model\n",
    "n = 200\n",
    "t = torch.linspace(*tbounds, n, dtype=torch.double)\n",
    "x = torch.linspace(*xbounds.flatten(), n, dtype=torch.double)\n",
    "tt, xx = torch.meshgrid(t, x)\n",
    "pts = torch.hstack([ele.reshape(-1, 1) for ele in (tt, xx)]).double()\n",
    "\n",
    "tt, xx = tt.numpy(), xx.numpy()\n",
    "\n",
    "#NOTE: the model inputs are such that t is the last dimension\n",
    "gp_pts = torch.flip(pts, dims=[-1])\n",
    "\n",
    "gt_vals = g(gp_pts[:,0],gp_pts[:,1] - start_time)\n",
    "\n",
    "with torch.no_grad():\n",
    "    post = model.posterior(gp_pts)\n",
    "\n",
    "    mean = post.mean\n",
    "    std = torch.sqrt(post.variance)\n",
    "\n",
    "    fig, ax = plt.subplots()\n",
    "    ax.set_title(\"model mean\")\n",
    "    ax.set_xlabel(\"unix time\")\n",
    "    ax.set_ylabel(\"x\")\n",
    "    c = ax.pcolor(tt, xx, mean.reshape(n,n))\n",
    "    fig.colorbar(c)\n",
    "\n",
    "    fig2, ax2 = plt.subplots()\n",
    "    ax2.set_title(\"model uncertainty\")\n",
    "    ax2.set_xlabel(\"unix time\")\n",
    "    ax2.set_ylabel(\"x\")\n",
    "    c = ax2.pcolor(tt, xx, std.reshape(n,n))\n",
    "    fig2.colorbar(c)\n",
    "\n",
    "    ax.plot(data[\"time\"].to_numpy(), data[\"x\"].to_numpy(),\"oC1\")\n",
    "    ax2.plot(data[\"time\"].to_numpy(), data[\"x\"].to_numpy(),\"oC1\")\n",
    "\n",
    "    fig3, ax3 = plt.subplots()\n",
    "    ax3.set_title(\"ground truth value\")\n",
    "    ax3.set_xlabel(\"unix time\")\n",
    "    ax3.set_ylabel(\"x\")\n",
    "    c = ax3.pcolor(tt, xx, gt_vals.reshape(n,n))\n",
    "    fig3.colorbar(c)"
   ],
   "metadata": {
    "collapsed": false,
    "is_executing": true
   }
  },
  {
   "cell_type": "code",
   "execution_count": null,
   "outputs": [],
   "source": [
    "X.data.plot(y=\"y\")"
   ],
   "metadata": {
    "collapsed": false,
    "is_executing": true
   }
  },
  {
   "cell_type": "code",
   "execution_count": null,
   "outputs": [],
   "source": [],
   "metadata": {
    "collapsed": false,
    "is_executing": true
   }
  }
 ],
 "metadata": {
  "kernelspec": {
   "display_name": "Python 3",
   "language": "python",
   "name": "python3"
  },
  "language_info": {
   "codemirror_mode": {
    "name": "ipython",
    "version": 2
   },
   "file_extension": ".py",
   "mimetype": "text/x-python",
   "name": "python",
   "nbconvert_exporter": "python",
   "pygments_lexer": "ipython2",
   "version": "2.7.6"
  }
 },
 "nbformat": 4,
 "nbformat_minor": 0
}
