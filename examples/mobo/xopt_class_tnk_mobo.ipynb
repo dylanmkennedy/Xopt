{
 "cells": [
  {
   "cell_type": "code",
   "execution_count": 1,
   "metadata": {},
   "outputs": [],
   "source": [
    "# Useful for debugging\n",
    "%load_ext autoreload\n",
    "%autoreload 2"
   ]
  },
  {
   "cell_type": "markdown",
   "metadata": {},
   "source": [
    "# Xopt class, TNK test function\n",
    "\n",
    "This is the class method for running Xopt.\n",
    "\n",
    "TNK function\n",
    "$n=2$ variables:\n",
    "$x_i \\in [0, \\pi], i=1,2$\n",
    "\n",
    "Objectives:\n",
    "- $f_i(x) = x_i$\n",
    "\n",
    "Constraints:\n",
    "- $g_1(x) = -x_1^2 -x_2^2 + 1 + 0.1 \\cos\\left(16 \\arctan \\frac{x_1}{x_2}\\right) \\le 0$\n",
    "- $g_2(x) = (x_1 - 1/2)^2 + (x_2-1/2)^2 \\le 0.5$"
   ]
  },
  {
   "cell_type": "code",
   "execution_count": 2,
   "metadata": {},
   "outputs": [],
   "source": [
    "# Import the class\n",
    "from xopt import Xopt\n",
    "import matplotlib.pyplot as plt\n",
    "from botorch.utils.multi_objective.pareto import is_non_dominated\n"
   ]
  },
  {
   "cell_type": "markdown",
   "metadata": {},
   "source": [
    "The `Xopt` object can be instantiated from a JSON or YAML file, or a dict, with the proper structure.\n",
    "\n",
    "Here we will make one"
   ]
  },
  {
   "cell_type": "code",
   "execution_count": 3,
   "metadata": {},
   "outputs": [],
   "source": [
    "import yaml\n",
    "# Make a proper input file. \n",
    "YAML=\"\"\"\n",
    "xopt: {output_path: null, verbose: true}\n",
    "\n",
    "algorithm:\n",
    "  name: mobo\n",
    "  options: {ref: [1.4, 1.4],\n",
    "            n_initial_samples: 5,\n",
    "            batch_size: 1,\n",
    "            use_gpu: False,\n",
    "            n_steps: 50, \n",
    "            verbose: True}\n",
    "  \n",
    "simulation: \n",
    "  name: test_TNK\n",
    "  evaluate: xopt.evaluators.test_TNK.evaluate_TNK  \n",
    "  \n",
    "vocs:\n",
    "  name: TNK_test\n",
    "  description: null\n",
    "  simulation: test_TNK\n",
    "  templates: null\n",
    "  variables:\n",
    "    x1: [0, 3.14159]\n",
    "    x2: [0, 3.14159]\n",
    "  objectives: {y1: MINIMIZE, y2: MINIMIZE}\n",
    "  constraints:\n",
    "    c1: [GREATER_THAN, 0]\n",
    "    c2: ['LESS_THAN', 0.5]\n",
    "  linked_variables: {x9: x1}\n",
    "  constants: {a: dummy_constant}\n",
    "\n",
    "\"\"\"\n",
    "config = yaml.safe_load(YAML)"
   ]
  },
  {
   "cell_type": "code",
   "execution_count": 4,
   "metadata": {},
   "outputs": [
    {
     "name": "stdout",
     "output_type": "stream",
     "text": [
      "Loading config as dict.\n",
      "Warning: No path set for key xopt : output_path\n"
     ]
    },
    {
     "data": {
      "text/plain": [
       "\n",
       "            Xopt \n",
       "________________________________           \n",
       "Version: 0.4.3\n",
       "Configured: True\n",
       "Config as YAML:\n",
       "xopt: {output_path: null, verbose: true}\n",
       "algorithm:\n",
       "  name: mobo\n",
       "  function: xopt.mobo.mobo\n",
       "  options:\n",
       "    ref: [1.4, 1.4]\n",
       "    n_initial_samples: 5\n",
       "    batch_size: 1\n",
       "    use_gpu: false\n",
       "    n_steps: 50\n",
       "    verbose: true\n",
       "simulation:\n",
       "  name: test_TNK\n",
       "  evaluate: xopt.evaluators.test_TNK.evaluate_TNK\n",
       "  options: {extra_option: abc}\n",
       "vocs:\n",
       "  name: TNK_test\n",
       "  description: null\n",
       "  simulation: test_TNK\n",
       "  templates: null\n",
       "  variables:\n",
       "    x1: [0, 3.14159]\n",
       "    x2: [0, 3.14159]\n",
       "  objectives: {y1: MINIMIZE, y2: MINIMIZE}\n",
       "  constraints:\n",
       "    c1: [GREATER_THAN, 0]\n",
       "    c2: [LESS_THAN, 0.5]\n",
       "  linked_variables: {x9: x1}\n",
       "  constants: {a: dummy_constant}"
      ]
     },
     "execution_count": 4,
     "metadata": {},
     "output_type": "execute_result"
    }
   ],
   "source": [
    "# Optional: Connect the function directly\n",
    "#from xopt.evaluators.test_TNK import evaluate_TNK \n",
    "#config['simulation']['evaluate'] = evaluate_TNK \n",
    "\n",
    "X = Xopt(config)\n",
    "X"
   ]
  },
  {
   "cell_type": "markdown",
   "metadata": {},
   "source": [
    "# Run MOBO\n",
    "\n",
    "MOBO is designed to run in serial or parallel"
   ]
  },
  {
   "cell_type": "code",
   "execution_count": 5,
   "metadata": {},
   "outputs": [],
   "source": [
    "# Pick one of these\n",
    "from concurrent.futures import ThreadPoolExecutor as PoolExecutor\n",
    "#from concurrent.futures import ProcessPoolExecutor as PoolExecutor\n",
    "\n",
    "#executor = PoolExecutor()\n",
    "# This will also work. \n",
    "executor=None"
   ]
  },
  {
   "cell_type": "code",
   "execution_count": 6,
   "metadata": {},
   "outputs": [
    {
     "name": "stdout",
     "output_type": "stream",
     "text": [
      "Starting at time 2021-08-09T12:33:24-05:00\n",
      "No executor given. Running in serial mode.\n",
      "n_feas: 0\n",
      "Candidate(s): tensor([[0.0667, 0.3993]], dtype=torch.float64)\n",
      "n_feas: 0\n",
      "Candidate(s): tensor([[0.6951, 0.9850]], dtype=torch.float64)\n",
      "n_feas: 1\n",
      "Candidate(s): tensor([[0., 0.]], dtype=torch.float64)\n",
      "n_feas: 1\n",
      "Candidate(s): tensor([[0.1795, 1.0708]], dtype=torch.float64)\n",
      "n_feas: 2\n",
      "Candidate(s): tensor([[0.9120, 0.3802]], dtype=torch.float64)\n",
      "n_feas: 2\n",
      "Candidate(s): tensor([[1.0327, 0.4501]], dtype=torch.float64)\n",
      "n_feas: 3\n",
      "Candidate(s): tensor([[0.0721, 1.0147]], dtype=torch.float64)\n",
      "n_feas: 3\n",
      "Candidate(s): tensor([[0.0688, 1.0392]], dtype=torch.float64)\n",
      "n_feas: 4\n",
      "Candidate(s): tensor([[0.4185, 0.8446]], dtype=torch.float64)\n",
      "n_feas: 4\n",
      "Candidate(s): tensor([[0.9552, 0.0366]], dtype=torch.float64)\n",
      "n_feas: 4\n",
      "Candidate(s): tensor([[1.0675, 0.1500]], dtype=torch.float64)\n",
      "n_feas: 5\n",
      "Candidate(s): tensor([[1.0208, 0.0667]], dtype=torch.float64)\n",
      "n_feas: 5\n",
      "Candidate(s): tensor([[1.0208, 0.0761]], dtype=torch.float64)\n",
      "n_feas: 6\n",
      "Candidate(s): tensor([[0.4564, 0.9024]], dtype=torch.float64)\n",
      "n_feas: 6\n",
      "Candidate(s): tensor([[0.4643, 0.9118]], dtype=torch.float64)\n",
      "n_feas: 7\n",
      "Candidate(s): tensor([[0.9743, 0.2684]], dtype=torch.float64)\n",
      "n_feas: 8\n",
      "Candidate(s): tensor([[0.7652, 0.8109]], dtype=torch.float64)\n",
      "n_feas: 9\n",
      "Candidate(s): tensor([[0.2046, 0.9710]], dtype=torch.float64)\n",
      "n_feas: 10\n",
      "Candidate(s): tensor([[0.8296, 0.7246]], dtype=torch.float64)\n",
      "n_feas: 11\n",
      "Candidate(s): tensor([[0.8673, 0.6176]], dtype=torch.float64)\n",
      "n_feas: 12\n",
      "Candidate(s): tensor([[0.7858, 0.5785]], dtype=torch.float64)\n",
      "n_feas: 13\n",
      "Candidate(s): tensor([[0.0000, 0.7046]], dtype=torch.float64)\n",
      "n_feas: 13\n",
      "Candidate(s): tensor([[0.9445, 0.1985]], dtype=torch.float64)\n",
      "n_feas: 14\n",
      "Candidate(s): tensor([[0.6645, 0.8366]], dtype=torch.float64)\n",
      "n_feas: 15\n",
      "Candidate(s): tensor([[0.6128, 0.7915]], dtype=torch.float64)\n",
      "n_feas: 16\n",
      "Candidate(s): tensor([[0.7173, 0.6710]], dtype=torch.float64)\n",
      "n_feas: 16\n",
      "Candidate(s): tensor([[0.4017, 0.3517]], dtype=torch.float64)\n",
      "n_feas: 16\n",
      "Candidate(s): tensor([[0.2138, 0.9431]], dtype=torch.float64)\n",
      "n_feas: 17\n",
      "Candidate(s): tensor([[0.8361, 0.5167]], dtype=torch.float64)\n",
      "n_feas: 18\n",
      "Candidate(s): tensor([[0.5435, 0.8310]], dtype=torch.float64)\n",
      "n_feas: 19\n",
      "Candidate(s): tensor([[0.1262, 0.9819]], dtype=torch.float64)\n",
      "n_feas: 20\n",
      "Candidate(s): tensor([[1.0242, 0.0357]], dtype=torch.float64)\n",
      "n_feas: 20\n",
      "Candidate(s): tensor([[0.5022, 0.8449]], dtype=torch.float64)\n",
      "n_feas: 21\n",
      "Candidate(s): tensor([[0.9352, 0.1864]], dtype=torch.float64)\n",
      "n_feas: 22\n",
      "Candidate(s): tensor([[0.5799, 0.7820]], dtype=torch.float64)\n",
      "n_feas: 23\n",
      "Candidate(s): tensor([[0.9728, 0.1346]], dtype=torch.float64)\n",
      "n_feas: 24\n",
      "Candidate(s): tensor([[0.0548, 1.0429]], dtype=torch.float64)\n",
      "n_feas: 25\n",
      "Candidate(s): tensor([[1.0384, 0.0517]], dtype=torch.float64)\n",
      "n_feas: 26\n",
      "Candidate(s): tensor([[0.8558, 0.4899]], dtype=torch.float64)\n",
      "n_feas: 27\n",
      "Candidate(s): tensor([[0.1990, 0.9359]], dtype=torch.float64)\n",
      "n_feas: 28\n",
      "Candidate(s): tensor([[0.8020, 0.5308]], dtype=torch.float64)\n",
      "n_feas: 29\n",
      "Candidate(s): tensor([[0.5291, 0.8046]], dtype=torch.float64)\n",
      "n_feas: 30\n",
      "Candidate(s): tensor([[0.5970, 0.7742]], dtype=torch.float64)\n",
      "n_feas: 31\n",
      "Candidate(s): tensor([[0.7144, 0.7044]], dtype=torch.float64)\n",
      "n_feas: 31\n",
      "Candidate(s): tensor([[0.1543, 0.9547]], dtype=torch.float64)\n",
      "n_feas: 32\n",
      "Candidate(s): tensor([[0.2158, 0.0000]], dtype=torch.float64)\n",
      "n_feas: 32\n",
      "Candidate(s): tensor([[0.0483, 1.0418]], dtype=torch.float64)\n",
      "n_feas: 33\n",
      "Candidate(s): tensor([[0.0900, 1.0069]], dtype=torch.float64)\n",
      "n_feas: 34\n",
      "Candidate(s): tensor([[0.7591, 0.7353]], dtype=torch.float64)\n",
      "n_feas: 35\n",
      "Candidate(s): tensor([[0.7764, 0.5894]], dtype=torch.float64)\n"
     ]
    }
   ],
   "source": [
    "# Change max generations\n",
    "X.run(executor=executor)"
   ]
  },
  {
   "cell_type": "markdown",
   "metadata": {},
   "source": [
    "# Plot"
   ]
  },
  {
   "cell_type": "code",
   "execution_count": 7,
   "metadata": {},
   "outputs": [
    {
     "data": {
      "image/png": "[encoded data removed]",
      "text/plain": [
       "<Figure size 432x288 with 1 Axes>"
      ]
     },
     "metadata": {
      "needs_background": "light"
     },
     "output_type": "display_data"
    }
   ],
   "source": [
    "fig, ax = plt.subplots()\n",
    "\n",
    "# get results and get valid observations\n",
    "results = X.results\n",
    "train_y = results['objectives']\n",
    "valid_y = train_y[results['feasibility'].flatten()]\n",
    "\n",
    "# plot results\n",
    "ax.plot(train_y[:, 0], train_y[:, 1], '.')\n",
    "ax.set_ylabel('$f_2$')\n",
    "ax.set_xlabel('$f_1$')\n",
    "\n",
    "# highlight Pareto front, ONLY using valid observations (note botorch assumes maximization when determing dominant points)\n",
    "non_dom = is_non_dominated(-valid_y)\n",
    "ax.plot(valid_y[:,0][non_dom],valid_y[:,1][non_dom],'C1o')\n",
    "\n",
    "plt.show()"
   ]
  },
  {
   "cell_type": "code",
   "execution_count": null,
   "metadata": {},
   "outputs": [],
   "source": []
  }
 ],
 "metadata": {
  "kernelspec": {
   "display_name": "xopt",
   "language": "python",
   "name": "xopt"
  },
  "language_info": {
   "codemirror_mode": {
    "name": "ipython",
    "version": 3
   },
   "file_extension": ".py",
   "mimetype": "text/x-python",
   "name": "python",
   "nbconvert_exporter": "python",
   "pygments_lexer": "ipython3",
   "version": "3.9.6"
  }
 },
 "nbformat": 4,
 "nbformat_minor": 4
}
