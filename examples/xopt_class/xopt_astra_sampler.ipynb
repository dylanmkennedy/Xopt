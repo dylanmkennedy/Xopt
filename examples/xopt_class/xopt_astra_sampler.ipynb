{
 "cells": [
  {
   "cell_type": "code",
   "execution_count": 1,
   "metadata": {},
   "outputs": [],
   "source": [
    "# Useful for debugging\n",
    "%load_ext autoreload\n",
    "%autoreload 2"
   ]
  },
  {
   "cell_type": "markdown",
   "metadata": {},
   "source": [
    "# Xopt class, Astra kekgun example\n",
    "\n",
    "This is the class method for running Xopt."
   ]
  },
  {
   "cell_type": "code",
   "execution_count": 2,
   "metadata": {},
   "outputs": [],
   "source": [
    "from xopt import Xopt"
   ]
  },
  {
   "cell_type": "code",
   "execution_count": 3,
   "metadata": {},
   "outputs": [],
   "source": [
    "# Make a proper input file. \n",
    "YAML=\"\"\"\n",
    "xopt: {output_path: temp, verbose: true,\n",
    "  algorithm: random_sampler}\n",
    "  \n",
    "algorithm:\n",
    "  name: random_sampler\n",
    "  options: {verbose: T, chunk_size: 4, max_samples: 10} \n",
    "\n",
    "simulation:\n",
    "  name: astra_with_generator\n",
    "  evaluate: astra.evaluate.evaluate_astra_with_generator\n",
    "\n",
    "# Note that you can call another file in the top level group:\n",
    "vocs: ../templates/kekgun/kekgun_vocs.yaml\n",
    "\n",
    "\"\"\""
   ]
  },
  {
   "cell_type": "code",
   "execution_count": 4,
   "metadata": {},
   "outputs": [
    {
     "name": "stdout",
     "output_type": "stream",
     "text": [
      "mkdir: temp/: File exists\n"
     ]
    }
   ],
   "source": [
    "!mkdir temp/"
   ]
  },
  {
   "cell_type": "code",
   "execution_count": 5,
   "metadata": {},
   "outputs": [
    {
     "name": "stdout",
     "output_type": "stream",
     "text": [
      "Loading config as text\n",
      "Warning: No path set for key simulation : options : archive_path\n"
     ]
    },
    {
     "data": {
      "text/plain": [
       "\n",
       "            Xopt \n",
       "________________________________           \n",
       "Version: 0.4.0\n",
       "Configured: True\n",
       "Config as YAML:\n",
       "xopt: {output_path: /Users/chrisonian/Code/GitHub/xopt/examples/xopt_class/temp, verbose: true,\n",
       "  algorithm: random_sampler}\n",
       "algorithm:\n",
       "  name: random_sampler\n",
       "  function: xopt.sampler.random_sampler\n",
       "  options: {verbose: T, chunk_size: 4, max_samples: 10}\n",
       "simulation:\n",
       "  name: astra_with_generator\n",
       "  evaluate: astra.evaluate.evaluate_astra_with_generator\n",
       "  options: {archive_path: null, merit_f: null, astra_input_file: /Users/chrisonian/Code/GitHub/xopt/examples/templates/kekgun/kekgun.in,\n",
       "    generator_input_file: /Users/chrisonian/Code/GitHub/xopt/examples/templates/kekgun/dist004.in}\n",
       "vocs:\n",
       "  name: kekgun\n",
       "  description: Test case\n",
       "  simulation: astra_with_generator\n",
       "  templates: {astra_input_file: /Users/chrisonian/Code/GitHub/xopt/examples/templates/kekgun/kekgun.in,\n",
       "    generator_input_file: /Users/chrisonian/Code/GitHub/xopt/examples/templates/kekgun/dist004.in}\n",
       "  variables:\n",
       "    sig_x: [0.05, 1]\n",
       "    lt: [0.005, 0.07]\n",
       "    maxe(1): [20, 50]\n",
       "    phi(1): [-30, 30]\n",
       "    maxb(1): [0, 0.4]\n",
       "    maxe(2): [0, 32]\n",
       "    phi(2): [-180, 180]\n",
       "    maxb(2): [0, 0.3]\n",
       "    maxe(3): [0, 32]\n",
       "    maxe(4): [0, 32]\n",
       "    phi(3): [-45, 45]\n",
       "    phi(4): [-45, 45]\n",
       "    phi(6): [-45, 45]\n",
       "  constants: {ipart: 1000, lspch: true, zstop: 0.2}\n",
       "  objectives: {end_core_emit_95percent_x: MINIMIZE, end_sigma_z: MINIMIZE}\n",
       "  constraints:\n",
       "    end_sigma_z: [LESS_THAN, 0.0015]\n",
       "    end_core_emit_95percent_x: [LESS_THAN, 9.0e-07]\n",
       "    end_sigma_energy: [LESS_THAN, 200000.0]\n",
       "    end_higher_order_energy_spread: [LESS_THAN, 5000.0]\n",
       "    end_mean_kinetic_energy: [GREATER_THAN, 90000000.0]\n",
       "    end_n_particle_loss: [LESS_THAN, 1]\n",
       "  linked_variables: null"
      ]
     },
     "execution_count": 5,
     "metadata": {},
     "output_type": "execute_result"
    }
   ],
   "source": [
    "# Create object\n",
    "X = Xopt(config=YAML)\n",
    "\n",
    "# Change some things to make it run faster\n",
    "X.vocs['constants']['lspch'] = True\n",
    "X.vocs['constants']['ipart'] = 1000\n",
    "X.vocs['constants']['zstop'] = 0.2\n",
    "\n",
    "# Show config\n",
    "X"
   ]
  },
  {
   "cell_type": "code",
   "execution_count": 6,
   "metadata": {},
   "outputs": [
    {
     "data": {
      "text/plain": [
       "{'sig_x': 0.6067410524828215,\n",
       " 'lt': 0.037680024377719154,\n",
       " 'maxe(1)': 44.338837775791596,\n",
       " 'phi(1)': 0.8034849774319923,\n",
       " 'maxb(1)': 0.28708203334241034,\n",
       " 'maxe(2)': 26.43333845476326,\n",
       " 'phi(2)': -177.18330864754023,\n",
       " 'maxb(2)': 0.0857364785124242,\n",
       " 'maxe(3)': 0.2720477022099068,\n",
       " 'maxe(4)': 29.52503359778697,\n",
       " 'phi(3)': 22.096924408955203,\n",
       " 'phi(4)': -35.003186222747246,\n",
       " 'phi(6)': 19.96187062326794,\n",
       " 'ipart': 1000,\n",
       " 'lspch': True,\n",
       " 'zstop': 0.2}"
      ]
     },
     "execution_count": 6,
     "metadata": {},
     "output_type": "execute_result"
    }
   ],
   "source": [
    "# Check random inputs \n",
    "X.random_inputs()"
   ]
  },
  {
   "cell_type": "code",
   "execution_count": 7,
   "metadata": {},
   "outputs": [
    {
     "name": "stdout",
     "output_type": "stream",
     "text": [
      "CPU times: user 70.3 ms, sys: 15.3 ms, total: 85.6 ms\n",
      "Wall time: 5.86 s\n"
     ]
    },
    {
     "data": {
      "text/plain": [
       "{'error': False,\n",
       " 'end_mean_z': 0.2,\n",
       " 'end_norm_emit_x': 6.9611e-07,\n",
       " 'end_core_emit_95percent_x': 4.7392e-07,\n",
       " 'end_core_emit_90percent_x': 3.9755e-07,\n",
       " 'end_core_emit_80percent_x': 2.8725e-07,\n",
       " 'end_norm_emit_y': 6.9115e-07,\n",
       " 'end_core_emit_95percent_y': 4.7490999999999996e-07,\n",
       " 'end_core_emit_90percent_y': 3.9987e-07,\n",
       " 'end_core_emit_80percent_y': 2.888e-07,\n",
       " 'end_norm_emit_z': 2.5739,\n",
       " 'end_core_emit_95percent_z': 1.9239e-06,\n",
       " 'end_core_emit_905percent_z': 1.6122e-06,\n",
       " 'end_core_emit_80percent_z': 1.2376e-06,\n",
       " 'end_mean_t': 7.7264e-10,\n",
       " 'end_mean_x': -2.7579999999999997e-07,\n",
       " 'end_sigma_x': 0.00066569,\n",
       " 'end_sigma_xp': 0.0025523,\n",
       " 'end_cov_x__xp': 1.687990133e-06,\n",
       " 'end_mean_y': -3.6354e-07,\n",
       " 'end_sigma_y': 0.00066497,\n",
       " 'end_sigma_yp': 0.0025488,\n",
       " 'end_cov_y__yp': 1.683903531e-06,\n",
       " 'end_mean_kinetic_energy': 1395200.0,\n",
       " 'end_sigma_z': 0.0014167000000000001,\n",
       " 'end_sigma_energy': 9207.0,\n",
       " 'end_cov_z__energy': 12.7871342,\n",
       " 'end_n_particle_loss': 0,\n",
       " 'end_total_charge': 9.989999999999999e-11,\n",
       " 'end_higher_order_energy_spread': 1673.897820090981,\n",
       " 'fingerprint': '3d274bae9eaad5ec48ecf0e28a28a360'}"
      ]
     },
     "execution_count": 7,
     "metadata": {},
     "output_type": "execute_result"
    }
   ],
   "source": [
    "%%time\n",
    "# Do a random evaluate to check that everything will run\n",
    "output = X.random_evaluate()\n",
    "output"
   ]
  },
  {
   "cell_type": "code",
   "execution_count": 8,
   "metadata": {},
   "outputs": [
    {
     "data": {
      "text/plain": [
       "{'verbose': 'T', 'chunk_size': 4, 'max_samples': 10}"
      ]
     },
     "execution_count": 8,
     "metadata": {},
     "output_type": "execute_result"
    }
   ],
   "source": [
    "# These are the algorithm options\n",
    "X.algorithm['options']"
   ]
  },
  {
   "cell_type": "code",
   "execution_count": 9,
   "metadata": {},
   "outputs": [
    {
     "data": {
      "text/plain": [
       "{'archive_path': None,\n",
       " 'merit_f': None,\n",
       " 'astra_input_file': '/Users/chrisonian/Code/GitHub/xopt/examples/templates/kekgun/kekgun.in',\n",
       " 'generator_input_file': '/Users/chrisonian/Code/GitHub/xopt/examples/templates/kekgun/dist004.in'}"
      ]
     },
     "execution_count": 9,
     "metadata": {},
     "output_type": "execute_result"
    }
   ],
   "source": [
    "# These are the options in the evaluate function\n",
    "X.simulation['options']"
   ]
  },
  {
   "cell_type": "markdown",
   "metadata": {},
   "source": [
    "# Run Sampler using processes or threads"
   ]
  },
  {
   "cell_type": "code",
   "execution_count": 10,
   "metadata": {},
   "outputs": [],
   "source": [
    "from concurrent.futures import ProcessPoolExecutor as PoolExecutor\n",
    "#from concurrent.futures import ThreadPoolExecutor as PoolExecutor\n",
    "executor = PoolExecutor()"
   ]
  },
  {
   "cell_type": "code",
   "execution_count": 11,
   "metadata": {},
   "outputs": [
    {
     "name": "stdout",
     "output_type": "stream",
     "text": [
      "Starting at time 2020-04-23T08:59:24-07:00\n",
      "\n",
      "\n",
      "███████╗ █████╗ ███╗   ███╗██████╗ ██╗     ███████╗██████╗ \n",
      "██╔════╝██╔══██╗████╗ ████║██╔══██╗██║     ██╔════╝██╔══██╗\n",
      "███████╗███████║██╔████╔██║██████╔╝██║     █████╗  ██████╔╝\n",
      "╚════██║██╔══██║██║╚██╔╝██║██╔═══╝ ██║     ██╔══╝  ██╔══██╗\n",
      "███████║██║  ██║██║ ╚═╝ ██║██║     ███████╗███████╗██║  ██║\n",
      "╚══════╝╚═╝  ╚═╝╚═╝     ╚═╝╚═╝     ╚══════╝╚══════╝╚═╝  ╚═╝\n",
      "                                                           \n",
      "\n",
      "Xopt Random Sampler\n",
      "Version 0.4.0\n",
      "\n",
      "....4 samples completed in 0.12715 minutes\n",
      "Samples written to:\n",
      " /Users/chrisonian/Code/GitHub/xopt/examples/xopt_class/temp/sampler-2020-04-23-1.json\n",
      "....4 samples completed in 0.10864 minutes\n",
      "Samples written to:\n",
      " /Users/chrisonian/Code/GitHub/xopt/examples/xopt_class/temp/sampler-2020-04-23-2.json\n",
      "..."
     ]
    }
   ],
   "source": [
    "# Show config\n",
    "X.run(executor)"
   ]
  },
  {
   "cell_type": "code",
   "execution_count": 12,
   "metadata": {},
   "outputs": [
    {
     "data": {
      "text/plain": [
       "[False, False, False, False, False, False, False, False, False, False, False]"
      ]
     },
     "execution_count": 12,
     "metadata": {},
     "output_type": "execute_result"
    }
   ],
   "source": [
    "# Check for errors\n",
    "X.population['error']"
   ]
  },
  {
   "cell_type": "markdown",
   "metadata": {},
   "source": [
    "# Write this configuration"
   ]
  },
  {
   "cell_type": "code",
   "execution_count": 13,
   "metadata": {},
   "outputs": [
    {
     "name": "stdout",
     "output_type": "stream",
     "text": [
      "Config written as YAML to test.yaml\n"
     ]
    }
   ],
   "source": [
    "X.save('test.yaml')"
   ]
  },
  {
   "cell_type": "code",
   "execution_count": 14,
   "metadata": {},
   "outputs": [
    {
     "name": "stdout",
     "output_type": "stream",
     "text": [
      "xopt: {output_path: /Users/chrisonian/Code/GitHub/xopt/examples/xopt_class/temp, verbose: true,\n",
      "  algorithm: random_sampler}\n",
      "algorithm:\n",
      "  name: random_sampler\n",
      "  function: xopt.sampler.random_sampler\n",
      "  options: {verbose: T, chunk_size: 4, max_samples: 10}\n",
      "simulation:\n",
      "  name: astra_with_generator\n",
      "  evaluate: astra.evaluate.evaluate_astra_with_generator\n",
      "  options: {archive_path: null, merit_f: null, astra_input_file: /Users/chrisonian/Code/GitHub/xopt/examples/templates/kekgun/kekgun.in,\n",
      "    generator_input_file: /Users/chrisonian/Code/GitHub/xopt/examples/templates/kekgun/dist004.in}\n",
      "vocs:\n",
      "  name: kekgun\n",
      "  description: Test case\n",
      "  simulation: astra_with_generator\n",
      "  templates: {astra_input_file: /Users/chrisonian/Code/GitHub/xopt/examples/templates/kekgun/kekgun.in,\n",
      "    generator_input_file: /Users/chrisonian/Code/GitHub/xopt/examples/templates/kekgun/dist004.in}\n",
      "  variables:\n",
      "    sig_x: [0.05, 1]\n",
      "    lt: [0.005, 0.07]\n",
      "    maxe(1): [20, 50]\n",
      "    phi(1): [-30, 30]\n",
      "    maxb(1): [0, 0.4]\n",
      "    maxe(2): [0, 32]\n",
      "    phi(2): [-180, 180]\n",
      "    maxb(2): [0, 0.3]\n",
      "    maxe(3): [0, 32]\n",
      "    maxe(4): [0, 32]\n",
      "    phi(3): [-45, 45]\n",
      "    phi(4): [-45, 45]\n",
      "    phi(6): [-45, 45]\n",
      "  constants: {ipart: 1000, lspch: true, zstop: 0.2}\n",
      "  objectives: {end_core_emit_95percent_x: MINIMIZE, end_sigma_z: MINIMIZE}\n",
      "  constraints:\n",
      "    end_sigma_z: [LESS_THAN, 0.0015]\n",
      "    end_core_emit_95percent_x: [LESS_THAN, 9.0e-07]\n",
      "    end_sigma_energy: [LESS_THAN, 200000.0]\n",
      "    end_higher_order_energy_spread: [LESS_THAN, 5000.0]\n",
      "    end_mean_kinetic_energy: [GREATER_THAN, 90000000.0]\n",
      "    end_n_particle_loss: [LESS_THAN, 1]\n",
      "  linked_variables: null\n"
     ]
    }
   ],
   "source": [
    "!cat test.yaml"
   ]
  },
  {
   "cell_type": "markdown",
   "metadata": {},
   "source": [
    "# Run with MPI"
   ]
  },
  {
   "cell_type": "code",
   "execution_count": 15,
   "metadata": {},
   "outputs": [
    {
     "name": "stdout",
     "output_type": "stream",
     "text": [
      "  _   \n",
      "                | |  \n",
      "__  _____  _ __ | |_ \n",
      "\\ \\/ / _ \\| '_ \\| __|\n",
      " >  < (_) | |_) | |_ \n",
      "/_/\\_\\___/| .__/ \\__|\n",
      "          | |        \n",
      "          |_|        \n",
      "\n",
      "_________________________________\n",
      "Parallel execution with 4 workers\n",
      "Loading as YAML file: test.yaml\n",
      "Warning: No path set for key simulation : options : archive_path\n",
      "\n",
      "            Xopt \n",
      "________________________________           \n",
      "Version: 0.4.0\n",
      "Configured: True\n",
      "Config as YAML:\n",
      "xopt: {output_path: /Users/chrisonian/Code/GitHub/xopt/examples/xopt_class/temp, verbose: true,\n",
      "  algorithm: random_sampler}\n",
      "algorithm:\n",
      "  name: random_sampler\n",
      "  function: xopt.sampler.random_sampler\n",
      "  options: {verbose: T, chunk_size: 4, max_samples: 10}\n",
      "simulation:\n",
      "  name: astra_with_generator\n",
      "  evaluate: astra.evaluate.evaluate_astra_with_generator\n",
      "  options: {archive_path: null, merit_f: null, astra_input_file: /Users/chrisonian/Code/GitHub/xopt/examples/templates/kekgun/kekgun.in,\n",
      "    generator_input_file: /Users/chrisonian/Code/GitHub/xopt/examples/templates/kekgun/dist004.in}\n",
      "vocs:\n",
      "  name: kekgun\n",
      "  description: Test case\n",
      "  simulation: astra_with_generator\n",
      "  templates: {astra_input_file: /Users/chrisonian/Code/GitHub/xopt/examples/templates/kekgun/kekgun.in,\n",
      "    generator_input_file: /Users/chrisonian/Code/GitHub/xopt/examples/templates/kekgun/dist004.in}\n",
      "  variables:\n",
      "    sig_x: [0.05, 1]\n",
      "    lt: [0.005, 0.07]\n",
      "    maxe(1): [20, 50]\n",
      "    phi(1): [-30, 30]\n",
      "    maxb(1): [0, 0.4]\n",
      "    maxe(2): [0, 32]\n",
      "    phi(2): [-180, 180]\n",
      "    maxb(2): [0, 0.3]\n",
      "    maxe(3): [0, 32]\n",
      "    maxe(4): [0, 32]\n",
      "    phi(3): [-45, 45]\n",
      "    phi(4): [-45, 45]\n",
      "    phi(6): [-45, 45]\n",
      "  constants: {ipart: 1000, lspch: true, zstop: 0.2}\n",
      "  objectives: {end_core_emit_95percent_x: MINIMIZE, end_sigma_z: MINIMIZE}\n",
      "  constraints:\n",
      "    end_sigma_z: [LESS_THAN, 0.0015]\n",
      "    end_core_emit_95percent_x: [LESS_THAN, 9.0e-07]\n",
      "    end_sigma_energy: [LESS_THAN, 200000.0]\n",
      "    end_higher_order_energy_spread: [LESS_THAN, 5000.0]\n",
      "    end_mean_kinetic_energy: [GREATER_THAN, 90000000.0]\n",
      "    end_n_particle_loss: [LESS_THAN, 1]\n",
      "  linked_variables: null\n",
      "\n",
      "Starting at time 2020-04-23T08:59:56-07:00\n",
      "\n",
      "\n",
      "███████╗ █████╗ ███╗   ███╗██████╗ ██╗     ███████╗██████╗ \n",
      "██╔════╝██╔══██╗████╗ ████║██╔══██╗██║     ██╔════╝██╔══██╗\n",
      "███████╗███████║██╔████╔██║██████╔╝██║     █████╗  ██████╔╝\n",
      "╚════██║██╔══██║██║╚██╔╝██║██╔═══╝ ██║     ██╔══╝  ██╔══██╗\n",
      "███████║██║  ██║██║ ╚═╝ ██║██║     ███████╗███████╗██║  ██║\n",
      "╚══════╝╚═╝  ╚═╝╚═╝     ╚═╝╚═╝     ╚══════╝╚══════╝╚═╝  ╚═╝\n",
      "                                                           \n",
      "\n",
      "Xopt Random Sampler\n",
      "Version 0.4.0\n",
      "\n",
      "....4 samples completed in 0.26590 minutes\n",
      "Samples written to:\n",
      " /Users/chrisonian/Code/GitHub/xopt/examples/xopt_class/temp/sampler-2020-04-23-3.json\n",
      "....4 samples completed in 0.12804 minutes\n",
      "Samples written to:\n",
      " /Users/chrisonian/Code/GitHub/xopt/examples/xopt_class/temp/sampler-2020-04-23-4.json\n",
      "..."
     ]
    }
   ],
   "source": [
    "!mpirun -n 4 python -m mpi4py.futures -m xopt.mpi.run test.yaml"
   ]
  },
  {
   "cell_type": "markdown",
   "metadata": {},
   "source": [
    "# Dask "
   ]
  },
  {
   "cell_type": "code",
   "execution_count": 16,
   "metadata": {},
   "outputs": [
    {
     "data": {
      "text/html": [
       "<table style=\"border: 2px solid white;\">\n",
       "<tr>\n",
       "<td style=\"vertical-align: top; border: 0px solid white\">\n",
       "<h3 style=\"text-align: left;\">Client</h3>\n",
       "<ul style=\"text-align: left; list-style: none; margin: 0; padding: 0;\">\n",
       "  <li><b>Scheduler: </b>tcp://127.0.0.1:60238</li>\n",
       "  <li><b>Dashboard: </b><a href='http://127.0.0.1:8787/status' target='_blank'>http://127.0.0.1:8787/status</a>\n",
       "</ul>\n",
       "</td>\n",
       "<td style=\"vertical-align: top; border: 0px solid white\">\n",
       "<h3 style=\"text-align: left;\">Cluster</h3>\n",
       "<ul style=\"text-align: left; list-style:none; margin: 0; padding: 0;\">\n",
       "  <li><b>Workers: </b>4</li>\n",
       "  <li><b>Cores: </b>8</li>\n",
       "  <li><b>Memory: </b>17.18 GB</li>\n",
       "</ul>\n",
       "</td>\n",
       "</tr>\n",
       "</table>"
      ],
      "text/plain": [
       "<Client: 'tcp://127.0.0.1:60238' processes=4 threads=8, memory=17.18 GB>"
      ]
     },
     "execution_count": 16,
     "metadata": {},
     "output_type": "execute_result"
    }
   ],
   "source": [
    "from dask.distributed import Client\n",
    "executor = Client()\n",
    "#executor = Client(processes=True)\n",
    "executor"
   ]
  },
  {
   "cell_type": "code",
   "execution_count": 17,
   "metadata": {},
   "outputs": [],
   "source": [
    "# Wait a few seconds for the Dask cluster to start\n",
    "from time import sleep\n",
    "sleep(5)"
   ]
  },
  {
   "cell_type": "code",
   "execution_count": 18,
   "metadata": {},
   "outputs": [
    {
     "name": "stdout",
     "output_type": "stream",
     "text": [
      "Starting at time 2020-04-23T09:00:42-07:00\n",
      "\n",
      "\n",
      "███████╗ █████╗ ███╗   ███╗██████╗ ██╗     ███████╗██████╗ \n",
      "██╔════╝██╔══██╗████╗ ████║██╔══██╗██║     ██╔════╝██╔══██╗\n",
      "███████╗███████║██╔████╔██║██████╔╝██║     █████╗  ██████╔╝\n",
      "╚════██║██╔══██║██║╚██╔╝██║██╔═══╝ ██║     ██╔══╝  ██╔══██╗\n",
      "███████║██║  ██║██║ ╚═╝ ██║██║     ███████╗███████╗██║  ██║\n",
      "╚══════╝╚═╝  ╚═╝╚═╝     ╚═╝╚═╝     ╚══════╝╚══════╝╚═╝  ╚═╝\n",
      "                                                           \n",
      "\n",
      "Xopt Random Sampler\n",
      "Version 0.4.0\n",
      "\n",
      "....4 samples completed in 0.16706 minutes\n",
      "Samples written to:\n",
      " /Users/chrisonian/Code/GitHub/xopt/examples/xopt_class/temp/sampler-2020-04-23-5.json\n",
      "....4 samples completed in 0.13226 minutes\n",
      "Samples written to:\n",
      " /Users/chrisonian/Code/GitHub/xopt/examples/xopt_class/temp/sampler-2020-04-23-6.json\n",
      "..."
     ]
    }
   ],
   "source": [
    "# Run some more\n",
    "X.run(executor)"
   ]
  },
  {
   "cell_type": "code",
   "execution_count": 19,
   "metadata": {},
   "outputs": [
    {
     "data": {
      "text/plain": [
       "[False, False, False, False, False, False, False, False, False, False, False]"
      ]
     },
     "execution_count": 19,
     "metadata": {},
     "output_type": "execute_result"
    }
   ],
   "source": [
    "X.population['error']"
   ]
  },
  {
   "cell_type": "markdown",
   "metadata": {},
   "source": [
    "# Load into Pandas"
   ]
  },
  {
   "cell_type": "code",
   "execution_count": 20,
   "metadata": {},
   "outputs": [],
   "source": [
    "import pandas as pd\n",
    "from glob import glob\n",
    "import json"
   ]
  },
  {
   "cell_type": "code",
   "execution_count": 21,
   "metadata": {},
   "outputs": [
    {
     "data": {
      "text/plain": [
       "['temp/sampler-2020-04-23-6.json',\n",
       " 'temp/sampler-2020-04-23-1.json',\n",
       " 'temp/sampler-2020-04-23-3.json',\n",
       " 'temp/sampler-2020-04-23-2.json',\n",
       " 'temp/sampler-2020-04-23-5.json',\n",
       " 'temp/sampler-2020-04-23-4.json']"
      ]
     },
     "execution_count": 21,
     "metadata": {},
     "output_type": "execute_result"
    }
   ],
   "source": [
    "jfiles = glob('temp/*json')\n",
    "jfiles"
   ]
  },
  {
   "cell_type": "code",
   "execution_count": 22,
   "metadata": {},
   "outputs": [
    {
     "data": {
      "text/plain": [
       "[False, False, False, False]"
      ]
     },
     "execution_count": 22,
     "metadata": {},
     "output_type": "execute_result"
    }
   ],
   "source": [
    "# Load a file\n",
    "data = json.load(open(jfiles[0]))\n",
    "\n",
    "data['inputs']\n",
    "data['outputs']\n",
    "data['error']"
   ]
  },
  {
   "cell_type": "code",
   "execution_count": 23,
   "metadata": {},
   "outputs": [
    {
     "data": {
      "text/html": [
       "<div>\n",
       "<style scoped>\n",
       "    .dataframe tbody tr th:only-of-type {\n",
       "        vertical-align: middle;\n",
       "    }\n",
       "\n",
       "    .dataframe tbody tr th {\n",
       "        vertical-align: top;\n",
       "    }\n",
       "\n",
       "    .dataframe thead th {\n",
       "        text-align: right;\n",
       "    }\n",
       "</style>\n",
       "<table border=\"1\" class=\"dataframe\">\n",
       "  <thead>\n",
       "    <tr style=\"text-align: right;\">\n",
       "      <th></th>\n",
       "      <th>sig_x</th>\n",
       "      <th>lt</th>\n",
       "      <th>maxe(1)</th>\n",
       "      <th>phi(1)</th>\n",
       "      <th>maxb(1)</th>\n",
       "      <th>maxe(2)</th>\n",
       "      <th>phi(2)</th>\n",
       "      <th>maxb(2)</th>\n",
       "      <th>maxe(3)</th>\n",
       "      <th>maxe(4)</th>\n",
       "      <th>phi(3)</th>\n",
       "      <th>phi(4)</th>\n",
       "      <th>phi(6)</th>\n",
       "      <th>ipart</th>\n",
       "      <th>lspch</th>\n",
       "      <th>zstop</th>\n",
       "    </tr>\n",
       "  </thead>\n",
       "  <tbody>\n",
       "    <tr>\n",
       "      <th>0</th>\n",
       "      <td>0.547824</td>\n",
       "      <td>0.024510</td>\n",
       "      <td>33.353055</td>\n",
       "      <td>-3.937211</td>\n",
       "      <td>0.323803</td>\n",
       "      <td>6.147543</td>\n",
       "      <td>42.900027</td>\n",
       "      <td>0.287283</td>\n",
       "      <td>21.019288</td>\n",
       "      <td>0.013771</td>\n",
       "      <td>-13.808743</td>\n",
       "      <td>-23.825785</td>\n",
       "      <td>12.113985</td>\n",
       "      <td>1000</td>\n",
       "      <td>True</td>\n",
       "      <td>0.2</td>\n",
       "    </tr>\n",
       "    <tr>\n",
       "      <th>1</th>\n",
       "      <td>0.322796</td>\n",
       "      <td>0.050366</td>\n",
       "      <td>36.731695</td>\n",
       "      <td>0.731224</td>\n",
       "      <td>0.292484</td>\n",
       "      <td>14.493486</td>\n",
       "      <td>129.526765</td>\n",
       "      <td>0.132482</td>\n",
       "      <td>7.534472</td>\n",
       "      <td>22.802011</td>\n",
       "      <td>-1.452359</td>\n",
       "      <td>4.567261</td>\n",
       "      <td>-2.726451</td>\n",
       "      <td>1000</td>\n",
       "      <td>True</td>\n",
       "      <td>0.2</td>\n",
       "    </tr>\n",
       "    <tr>\n",
       "      <th>2</th>\n",
       "      <td>0.155174</td>\n",
       "      <td>0.048542</td>\n",
       "      <td>25.089854</td>\n",
       "      <td>27.283045</td>\n",
       "      <td>0.233000</td>\n",
       "      <td>4.219193</td>\n",
       "      <td>-147.466603</td>\n",
       "      <td>0.080899</td>\n",
       "      <td>17.143812</td>\n",
       "      <td>14.977390</td>\n",
       "      <td>-3.675056</td>\n",
       "      <td>-41.732276</td>\n",
       "      <td>43.115561</td>\n",
       "      <td>1000</td>\n",
       "      <td>True</td>\n",
       "      <td>0.2</td>\n",
       "    </tr>\n",
       "    <tr>\n",
       "      <th>3</th>\n",
       "      <td>0.757704</td>\n",
       "      <td>0.057092</td>\n",
       "      <td>23.634542</td>\n",
       "      <td>19.249859</td>\n",
       "      <td>0.306951</td>\n",
       "      <td>4.547130</td>\n",
       "      <td>-40.919216</td>\n",
       "      <td>0.088452</td>\n",
       "      <td>13.478526</td>\n",
       "      <td>5.770959</td>\n",
       "      <td>5.755176</td>\n",
       "      <td>35.046172</td>\n",
       "      <td>-5.517069</td>\n",
       "      <td>1000</td>\n",
       "      <td>True</td>\n",
       "      <td>0.2</td>\n",
       "    </tr>\n",
       "  </tbody>\n",
       "</table>\n",
       "</div>"
      ],
      "text/plain": [
       "      sig_x        lt    maxe(1)     phi(1)   maxb(1)    maxe(2)      phi(2)  \\\n",
       "0  0.547824  0.024510  33.353055  -3.937211  0.323803   6.147543   42.900027   \n",
       "1  0.322796  0.050366  36.731695   0.731224  0.292484  14.493486  129.526765   \n",
       "2  0.155174  0.048542  25.089854  27.283045  0.233000   4.219193 -147.466603   \n",
       "3  0.757704  0.057092  23.634542  19.249859  0.306951   4.547130  -40.919216   \n",
       "\n",
       "    maxb(2)    maxe(3)    maxe(4)     phi(3)     phi(4)     phi(6)  ipart  \\\n",
       "0  0.287283  21.019288   0.013771 -13.808743 -23.825785  12.113985   1000   \n",
       "1  0.132482   7.534472  22.802011  -1.452359   4.567261  -2.726451   1000   \n",
       "2  0.080899  17.143812  14.977390  -3.675056 -41.732276  43.115561   1000   \n",
       "3  0.088452  13.478526   5.770959   5.755176  35.046172  -5.517069   1000   \n",
       "\n",
       "   lspch  zstop  \n",
       "0   True    0.2  \n",
       "1   True    0.2  \n",
       "2   True    0.2  \n",
       "3   True    0.2  "
      ]
     },
     "execution_count": 23,
     "metadata": {},
     "output_type": "execute_result"
    }
   ],
   "source": [
    "inputs = pd.DataFrame(data['inputs'])\n",
    "inputs"
   ]
  },
  {
   "cell_type": "code",
   "execution_count": 24,
   "metadata": {},
   "outputs": [
    {
     "data": {
      "text/html": [
       "<div>\n",
       "<style scoped>\n",
       "    .dataframe tbody tr th:only-of-type {\n",
       "        vertical-align: middle;\n",
       "    }\n",
       "\n",
       "    .dataframe tbody tr th {\n",
       "        vertical-align: top;\n",
       "    }\n",
       "\n",
       "    .dataframe thead th {\n",
       "        text-align: right;\n",
       "    }\n",
       "</style>\n",
       "<table border=\"1\" class=\"dataframe\">\n",
       "  <thead>\n",
       "    <tr style=\"text-align: right;\">\n",
       "      <th></th>\n",
       "      <th>error</th>\n",
       "      <th>end_mean_z</th>\n",
       "      <th>end_norm_emit_x</th>\n",
       "      <th>end_core_emit_95percent_x</th>\n",
       "      <th>end_core_emit_90percent_x</th>\n",
       "      <th>end_core_emit_80percent_x</th>\n",
       "      <th>end_norm_emit_y</th>\n",
       "      <th>end_core_emit_95percent_y</th>\n",
       "      <th>end_core_emit_90percent_y</th>\n",
       "      <th>end_core_emit_80percent_y</th>\n",
       "      <th>...</th>\n",
       "      <th>end_sigma_yp</th>\n",
       "      <th>end_cov_y__yp</th>\n",
       "      <th>end_mean_kinetic_energy</th>\n",
       "      <th>end_sigma_z</th>\n",
       "      <th>end_sigma_energy</th>\n",
       "      <th>end_cov_z__energy</th>\n",
       "      <th>end_n_particle_loss</th>\n",
       "      <th>end_total_charge</th>\n",
       "      <th>end_higher_order_energy_spread</th>\n",
       "      <th>fingerprint</th>\n",
       "    </tr>\n",
       "  </thead>\n",
       "  <tbody>\n",
       "    <tr>\n",
       "      <th>0</th>\n",
       "      <td>False</td>\n",
       "      <td>0.2</td>\n",
       "      <td>4.566800e-07</td>\n",
       "      <td>3.070200e-07</td>\n",
       "      <td>2.586300e-07</td>\n",
       "      <td>1.865600e-07</td>\n",
       "      <td>4.470300e-07</td>\n",
       "      <td>3.062700e-07</td>\n",
       "      <td>2.587600e-07</td>\n",
       "      <td>1.867600e-07</td>\n",
       "      <td>...</td>\n",
       "      <td>0.001678</td>\n",
       "      <td>8.123700e-07</td>\n",
       "      <td>2019100.0</td>\n",
       "      <td>0.002071</td>\n",
       "      <td>4649.5</td>\n",
       "      <td>-7.437624</td>\n",
       "      <td>0</td>\n",
       "      <td>9.990000e-11</td>\n",
       "      <td>1180.906684</td>\n",
       "      <td>c571f17afd258526cb9773aab5125c1c</td>\n",
       "    </tr>\n",
       "    <tr>\n",
       "      <th>1</th>\n",
       "      <td>False</td>\n",
       "      <td>0.2</td>\n",
       "      <td>2.643100e-07</td>\n",
       "      <td>1.852600e-07</td>\n",
       "      <td>1.563000e-07</td>\n",
       "      <td>1.121800e-07</td>\n",
       "      <td>2.576200e-07</td>\n",
       "      <td>1.848400e-07</td>\n",
       "      <td>1.554200e-07</td>\n",
       "      <td>1.109400e-07</td>\n",
       "      <td>...</td>\n",
       "      <td>0.001766</td>\n",
       "      <td>8.215227e-07</td>\n",
       "      <td>2211400.0</td>\n",
       "      <td>0.004310</td>\n",
       "      <td>14057.0</td>\n",
       "      <td>25.304753</td>\n",
       "      <td>0</td>\n",
       "      <td>9.990000e-11</td>\n",
       "      <td>330.325405</td>\n",
       "      <td>f1878994998ea2ccdccc0c5cd63269c2</td>\n",
       "    </tr>\n",
       "    <tr>\n",
       "      <th>2</th>\n",
       "      <td>False</td>\n",
       "      <td>0.2</td>\n",
       "      <td>3.577100e-06</td>\n",
       "      <td>2.856800e-06</td>\n",
       "      <td>2.332700e-06</td>\n",
       "      <td>1.561600e-06</td>\n",
       "      <td>3.601400e-06</td>\n",
       "      <td>2.876500e-06</td>\n",
       "      <td>2.340500e-06</td>\n",
       "      <td>1.558800e-06</td>\n",
       "      <td>...</td>\n",
       "      <td>0.007502</td>\n",
       "      <td>1.329471e-05</td>\n",
       "      <td>1305200.0</td>\n",
       "      <td>0.007103</td>\n",
       "      <td>122370.0</td>\n",
       "      <td>866.020018</td>\n",
       "      <td>0</td>\n",
       "      <td>9.990000e-11</td>\n",
       "      <td>966.648295</td>\n",
       "      <td>dc2cf88c71d70b1152b044c0e374a2a6</td>\n",
       "    </tr>\n",
       "    <tr>\n",
       "      <th>3</th>\n",
       "      <td>False</td>\n",
       "      <td>0.2</td>\n",
       "      <td>4.677500e-07</td>\n",
       "      <td>3.724000e-07</td>\n",
       "      <td>3.188400e-07</td>\n",
       "      <td>2.381100e-07</td>\n",
       "      <td>4.647700e-07</td>\n",
       "      <td>3.739300e-07</td>\n",
       "      <td>3.204600e-07</td>\n",
       "      <td>2.378500e-07</td>\n",
       "      <td>...</td>\n",
       "      <td>0.001271</td>\n",
       "      <td>8.224608e-08</td>\n",
       "      <td>1351000.0</td>\n",
       "      <td>0.006164</td>\n",
       "      <td>72838.0</td>\n",
       "      <td>443.703212</td>\n",
       "      <td>0</td>\n",
       "      <td>9.990000e-11</td>\n",
       "      <td>528.905334</td>\n",
       "      <td>4ca21147a0018a6c08ed58fd4e82f021</td>\n",
       "    </tr>\n",
       "  </tbody>\n",
       "</table>\n",
       "<p>4 rows × 31 columns</p>\n",
       "</div>"
      ],
      "text/plain": [
       "   error  end_mean_z  end_norm_emit_x  end_core_emit_95percent_x  \\\n",
       "0  False         0.2     4.566800e-07               3.070200e-07   \n",
       "1  False         0.2     2.643100e-07               1.852600e-07   \n",
       "2  False         0.2     3.577100e-06               2.856800e-06   \n",
       "3  False         0.2     4.677500e-07               3.724000e-07   \n",
       "\n",
       "   end_core_emit_90percent_x  end_core_emit_80percent_x  end_norm_emit_y  \\\n",
       "0               2.586300e-07               1.865600e-07     4.470300e-07   \n",
       "1               1.563000e-07               1.121800e-07     2.576200e-07   \n",
       "2               2.332700e-06               1.561600e-06     3.601400e-06   \n",
       "3               3.188400e-07               2.381100e-07     4.647700e-07   \n",
       "\n",
       "   end_core_emit_95percent_y  end_core_emit_90percent_y  \\\n",
       "0               3.062700e-07               2.587600e-07   \n",
       "1               1.848400e-07               1.554200e-07   \n",
       "2               2.876500e-06               2.340500e-06   \n",
       "3               3.739300e-07               3.204600e-07   \n",
       "\n",
       "   end_core_emit_80percent_y  ...  end_sigma_yp  end_cov_y__yp  \\\n",
       "0               1.867600e-07  ...      0.001678   8.123700e-07   \n",
       "1               1.109400e-07  ...      0.001766   8.215227e-07   \n",
       "2               1.558800e-06  ...      0.007502   1.329471e-05   \n",
       "3               2.378500e-07  ...      0.001271   8.224608e-08   \n",
       "\n",
       "   end_mean_kinetic_energy  end_sigma_z  end_sigma_energy  end_cov_z__energy  \\\n",
       "0                2019100.0     0.002071            4649.5          -7.437624   \n",
       "1                2211400.0     0.004310           14057.0          25.304753   \n",
       "2                1305200.0     0.007103          122370.0         866.020018   \n",
       "3                1351000.0     0.006164           72838.0         443.703212   \n",
       "\n",
       "   end_n_particle_loss  end_total_charge  end_higher_order_energy_spread  \\\n",
       "0                    0      9.990000e-11                     1180.906684   \n",
       "1                    0      9.990000e-11                      330.325405   \n",
       "2                    0      9.990000e-11                      966.648295   \n",
       "3                    0      9.990000e-11                      528.905334   \n",
       "\n",
       "                        fingerprint  \n",
       "0  c571f17afd258526cb9773aab5125c1c  \n",
       "1  f1878994998ea2ccdccc0c5cd63269c2  \n",
       "2  dc2cf88c71d70b1152b044c0e374a2a6  \n",
       "3  4ca21147a0018a6c08ed58fd4e82f021  \n",
       "\n",
       "[4 rows x 31 columns]"
      ]
     },
     "execution_count": 24,
     "metadata": {},
     "output_type": "execute_result"
    }
   ],
   "source": [
    "outputs = pd.DataFrame(data['outputs'])\n",
    "outputs"
   ]
  },
  {
   "cell_type": "markdown",
   "metadata": {},
   "source": [
    "# Cleanup"
   ]
  },
  {
   "cell_type": "code",
   "execution_count": 25,
   "metadata": {},
   "outputs": [],
   "source": [
    "!rm -r dask-worker-space"
   ]
  },
  {
   "cell_type": "code",
   "execution_count": 26,
   "metadata": {},
   "outputs": [],
   "source": [
    "!rm test.yaml"
   ]
  },
  {
   "cell_type": "code",
   "execution_count": 27,
   "metadata": {},
   "outputs": [],
   "source": [
    "!rm NORRAN"
   ]
  },
  {
   "cell_type": "code",
   "execution_count": 28,
   "metadata": {},
   "outputs": [],
   "source": [
    "!rm -r temp"
   ]
  }
 ],
 "metadata": {
  "kernelspec": {
   "display_name": "Python 3",
   "language": "python",
   "name": "python3"
  },
  "language_info": {
   "codemirror_mode": {
    "name": "ipython",
    "version": 3
   },
   "file_extension": ".py",
   "mimetype": "text/x-python",
   "name": "python",
   "nbconvert_exporter": "python",
   "pygments_lexer": "ipython3",
   "version": "3.7.6"
  }
 },
 "nbformat": 4,
 "nbformat_minor": 4
}
