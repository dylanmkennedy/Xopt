{
 "cells": [
  {
   "cell_type": "code",
   "execution_count": 1,
   "metadata": {},
   "outputs": [],
   "source": [
    "# Useful for debugging\n",
    "%load_ext autoreload\n",
    "%autoreload 2"
   ]
  },
  {
   "cell_type": "markdown",
   "metadata": {},
   "source": [
    "# Xopt class, GPT CBETA DC GUN example\n",
    "\n",
    "This is the class method for running Xopt."
   ]
  },
  {
   "cell_type": "code",
   "execution_count": 37,
   "metadata": {},
   "outputs": [],
   "source": [
    "from xopt import Xopt"
   ]
  },
  {
   "cell_type": "code",
   "execution_count": 38,
   "metadata": {},
   "outputs": [],
   "source": [
    "import yaml\n",
    "\n",
    "# Make a proper input file. \n",
    "\n",
    "YAML=\"\"\"\n",
    "xopt: {output_path: null, verbose: true,\n",
    "  algorithm: cnsga}\n",
    "  \n",
    "algorithm:\n",
    "  name: cnsga\n",
    "  options: {max_generations: 1, population_size: 8, crossover_probability: 0.9, mutation_probability: 1.0,\n",
    "  selection: auto, verbose: true, population: null}\n",
    "\n",
    "simulation:\n",
    "  name: gpt_with_distgen\n",
    "  evaluate: gpt.evaluate.evaluate_gpt_with_distgen\n",
    "\n",
    "# Note that you can call another file in the top level group:\n",
    "vocs: /Users/colwyngulliford/Documents/GitHub/xopt/examples/cbeta.dcgun/cbeta.dcgun.vocs.json\n",
    "\n",
    "\"\"\"\n",
    "config = yaml.safe_load(YAML)"
   ]
  },
  {
   "cell_type": "code",
   "execution_count": 39,
   "metadata": {},
   "outputs": [
    {
     "name": "stdout",
     "output_type": "stream",
     "text": [
      "Warning: No path set for key xopt::output_path\n"
     ]
    },
    {
     "data": {
      "text/plain": [
       "\n",
       "            Xopt\n",
       "________________________________           \n",
       "\n",
       "Configured: True\n",
       "\n",
       "Config as YAML:\n",
       "xopt: {output_path: null, verbose: true, algorithm: cnsga}\n",
       "algorithm:\n",
       "  name: cnsga\n",
       "  options: {max_generations: 1, population_size: 8, crossover_probability: 0.9, mutation_probability: 1.0,\n",
       "    selection: auto, verbose: true, seed: null}\n",
       "  max_generations: 1\n",
       "  population_size: 8\n",
       "  crossover_probability: 0.9\n",
       "  mutation_probability: 1.0\n",
       "  selection: auto\n",
       "  verbose: true\n",
       "  seed: null\n",
       "simulation: {name: gpt_with_distgen, evaluate: gpt.evaluate.evaluate_gpt_with_distgen}\n",
       "vocs:\n",
       "  constants: {gun_voltage: 375}\n",
       "  constraints:\n",
       "    end_t_rms: [LESS_THAN, 0.0015]\n",
       "  description: Test case\n",
       "  name: CBETA DC GUN\n",
       "  objectives: {end_norm_emitt_x: MINIMIZE, end_qbunch: MAXIMIZE}\n",
       "  simulation: gpt_with_distgen\n",
       "  templates: {distgen_input_file: /Users/colwyngulliford/Documents/GitHub/xopt/examples/cbeta.dcgun/template/cbeta.dcgun.distgen.in.json,\n",
       "    gpt_input_file: /Users/colwyngulliford/Documents/GitHub/xopt/examples/cbeta.dcgun/template/cbeta.dcgun.gpt.in}\n",
       "  variables:\n",
       "    beam:params:sigma_xy:value: [0, 5]\n",
       "    beam:params:total_charge:value: [0, 500]\n",
       "    sol_1_current: [0, 5]\n",
       "  linked_variables: null"
      ]
     },
     "execution_count": 39,
     "metadata": {},
     "output_type": "execute_result"
    }
   ],
   "source": [
    "# Create object\n",
    "X = Xopt(config=config)\n",
    "\n",
    "# Show config\n",
    "X"
   ]
  },
  {
   "cell_type": "code",
   "execution_count": 40,
   "metadata": {},
   "outputs": [
    {
     "data": {
      "text/plain": [
       "{'constants': {'gun_voltage': 375},\n",
       " 'constraints': {'end_t_rms': ['LESS_THAN', 0.0015]},\n",
       " 'description': 'Test case',\n",
       " 'name': 'CBETA DC GUN',\n",
       " 'objectives': {'end_norm_emitt_x': 'MINIMIZE', 'end_qbunch': 'MAXIMIZE'},\n",
       " 'simulation': 'gpt_with_distgen',\n",
       " 'templates': {'distgen_input_file': '/Users/colwyngulliford/Documents/GitHub/xopt/examples/cbeta.dcgun/template/cbeta.dcgun.distgen.in.json',\n",
       "  'gpt_input_file': '/Users/colwyngulliford/Documents/GitHub/xopt/examples/cbeta.dcgun/template/cbeta.dcgun.gpt.in'},\n",
       " 'variables': {'beam:params:sigma_xy:value': [0, 5],\n",
       "  'beam:params:total_charge:value': [0, 500],\n",
       "  'sol_1_current': [0, 5]},\n",
       " 'linked_variables': None}"
      ]
     },
     "execution_count": 40,
     "metadata": {},
     "output_type": "execute_result"
    }
   ],
   "source": [
    "# Check vocs\n",
    "X.vocs"
   ]
  },
  {
   "cell_type": "code",
   "execution_count": 41,
   "metadata": {},
   "outputs": [
    {
     "data": {
      "text/plain": [
       "{'beam:params:sigma_xy:value': 2.0666744692415886,\n",
       " 'beam:params:total_charge:value': 415.35558707661687,\n",
       " 'sol_1_current': 4.503393168194293,\n",
       " 'gun_voltage': 375}"
      ]
     },
     "execution_count": 41,
     "metadata": {},
     "output_type": "execute_result"
    }
   ],
   "source": [
    "# Check random inputs\n",
    "X.random_inputs()"
   ]
  },
  {
   "cell_type": "code",
   "execution_count": 42,
   "metadata": {},
   "outputs": [
    {
     "name": "stdout",
     "output_type": "stream",
     "text": [
      "{'error': False, 'end_std_x': 0.007228173224931141, 'end_std_y': 0.007249681455854088, 'end_qbunch': 3.801158545383182e-10, 'end_norm_emitt_x': 1.1460610359891701e-05, 'end_norm_emitt_y': 1.1439958632172915e-05, 'end_std_t': 3.050732674556379e-11, 'fingerprint': 'ee572ea8a31e51fb865858ba45e9da3b'}\n",
      "CPU times: user 51.8 ms, sys: 16.8 ms, total: 68.6 ms\n",
      "Wall time: 1.33 s\n"
     ]
    }
   ],
   "source": [
    "%%time\n",
    "# Do a random evaluate to check that everything will run\n",
    "x=X.random_evaluate()\n",
    "print(x)"
   ]
  },
  {
   "cell_type": "code",
   "execution_count": 43,
   "metadata": {},
   "outputs": [
    {
     "data": {
      "text/plain": [
       "{'max_generations': 1,\n",
       " 'population_size': 8,\n",
       " 'crossover_probability': 0.9,\n",
       " 'mutation_probability': 1.0,\n",
       " 'selection': 'auto',\n",
       " 'verbose': True,\n",
       " 'seed': None}"
      ]
     },
     "execution_count": 43,
     "metadata": {},
     "output_type": "execute_result"
    }
   ],
   "source": [
    "# These are the algorithm options\n",
    "X.algorithm['options']"
   ]
  },
  {
   "cell_type": "code",
   "execution_count": 44,
   "metadata": {},
   "outputs": [
    {
     "data": {
      "text/plain": [
       "{'archive_path': None,\n",
       " 'merit_f': None,\n",
       " 'distgen_input_file': '/Users/colwyngulliford/Documents/GitHub/xopt/examples/cbeta.dcgun/template/cbeta.dcgun.distgen.in.json',\n",
       " 'gpt_input_file': '/Users/colwyngulliford/Documents/GitHub/xopt/examples/cbeta.dcgun/template/cbeta.dcgun.gpt.in'}"
      ]
     },
     "execution_count": 44,
     "metadata": {},
     "output_type": "execute_result"
    }
   ],
   "source": [
    "# These are the options in the evaluate function\n",
    "X.simulation['options']"
   ]
  },
  {
   "cell_type": "markdown",
   "metadata": {},
   "source": [
    "# Run CNSGA using processes or threads"
   ]
  },
  {
   "cell_type": "code",
   "execution_count": 32,
   "metadata": {},
   "outputs": [],
   "source": [
    "from concurrent.futures import ProcessPoolExecutor as PoolExecutor\n",
    "#from concurrent.futures import ThreadPoolExecutor as PoolExecutor\n",
    "executor = PoolExecutor()"
   ]
  },
  {
   "cell_type": "code",
   "execution_count": 45,
   "metadata": {},
   "outputs": [
    {
     "name": "stdout",
     "output_type": "stream",
     "text": [
      "{'max_generations': 1, 'population_size': 8, 'crossover_probability': 0.9, 'mutation_probability': 1.0, 'selection': 'auto', 'verbose': True, 'seed': None}\n",
      "\n",
      "\n",
      "\n",
      " ▄████▄   ███▄    █   ██████   ▄████  ▄▄▄      \n",
      "▒██▀ ▀█   ██ ▀█   █ ▒██    ▒  ██▒ ▀█▒▒████▄    \n",
      "▒▓█    ▄ ▓██  ▀█ ██▒░ ▓██▄   ▒██░▄▄▄░▒██  ▀█▄  \n",
      "▒▓▓▄ ▄██▒▓██▒  ▐▌██▒  ▒   ██▒░▓█  ██▓░██▄▄▄▄██ \n",
      "▒ ▓███▀ ░▒██░   ▓██░▒██████▒▒░▒▓███▀▒ ▓█   ▓██▒\n",
      "░ ░▒ ▒  ░░ ▒░   ▒ ▒ ▒ ▒▓▒ ▒ ░ ░▒   ▒  ▒▒   ▓▒█░\n",
      "  ░  ▒   ░ ░░   ░ ▒░░ ░▒  ░ ░  ░   ░   ▒   ▒▒ ░\n",
      "░           ░   ░ ░ ░  ░  ░  ░ ░   ░   ░   ▒   \n",
      "░ ░               ░       ░        ░       ░  ░\n",
      "░                                              \n",
      "\n",
      "\n",
      "Continous Non-dominated Sorting Genetic Algorithm\n",
      "\n",
      "\n",
      "No executor given. Running in serial mode.\n",
      "Creating toolbox from vocs.\n",
      "Warning: Redefining creator.MyFitness\n",
      "Warning in cnsga_toolbox: Redefining creator.Individual\n",
      "Created toolbox with 3 variables, 1 constraints, and 2 objectives.\n",
      "    Using selection algorithm: nsga2\n",
      "vocs:\n",
      "{'constants': {'gun_voltage': 375},\n",
      " 'constraints': {'end_t_rms': ['LESS_THAN', 0.0015]},\n",
      " 'description': 'Test case',\n",
      " 'linked_variables': None,\n",
      " 'name': 'CBETA DC GUN',\n",
      " 'objectives': {'end_norm_emitt_x': 'MINIMIZE', 'end_qbunch': 'MAXIMIZE'},\n",
      " 'simulation': 'gpt_with_distgen',\n",
      " 'templates': {'distgen_input_file': '/Users/colwyngulliford/Documents/GitHub/xopt/examples/cbeta.dcgun/template/cbeta.dcgun.distgen.in.json',\n",
      "               'gpt_input_file': '/Users/colwyngulliford/Documents/GitHub/xopt/examples/cbeta.dcgun/template/cbeta.dcgun.gpt.in'},\n",
      " 'variables': {'beam:params:sigma_xy:value': [0, 5],\n",
      "               'beam:params:total_charge:value': [0, 500],\n",
      "               'sol_1_current': [0, 5]}}\n",
      "Initializing with a new population, size 8\n",
      "____________________________________________________\n",
      "8 fitness calculations for initial generation\n",
      "........done.\n",
      "Submitting first batch of children\n",
      ".........done.\n",
      "__________________________________________________________\n",
      "Generation 0 completed in 0.15436 minutes\n",
      "......."
     ]
    }
   ],
   "source": [
    "X.run_cnsga(executor=None)"
   ]
  },
  {
   "cell_type": "code",
   "execution_count": 46,
   "metadata": {},
   "outputs": [
    {
     "name": "stdout",
     "output_type": "stream",
     "text": [
      "{'variables': {'beam:params:sigma_xy:value': [0.04578003905418904, 0.9493135390944629, 3.061462657354066, 0.9730077754956595, 4.04111292396241, 4.262696752409366, 2.5136788878510616, 0.904610888784031], 'beam:params:total_charge:value': [35.30373257142172, 164.50737287782914, 371.78981270214956, 421.54223955987356, 441.3975578484735, 241.08604517981786, 363.7035736743634, 324.91690233818645], 'sol_1_current': [2.1774622339487215, 0.4488932871690454, 0.04620856530960282, 4.594284307472933, 0.7382973362070311, 3.626870877469024, 1.8956139041207143, 2.083661445324314]}, 'generation': 1, 'errors': [True, True, True, True, True, True, True, True], 'inputs': {}, 'outputs': {}}\n"
     ]
    }
   ],
   "source": [
    "# Check for errors\n",
    "X.population['errors']\n",
    "print(X.population)"
   ]
  },
  {
   "cell_type": "markdown",
   "metadata": {},
   "source": [
    "# Write this configuration"
   ]
  },
  {
   "cell_type": "code",
   "execution_count": 38,
   "metadata": {},
   "outputs": [
    {
     "name": "stdout",
     "output_type": "stream",
     "text": [
      "Config written as YAML to test.yaml\n"
     ]
    }
   ],
   "source": [
    "X.save('test.yaml')"
   ]
  },
  {
   "cell_type": "code",
   "execution_count": 39,
   "metadata": {},
   "outputs": [
    {
     "name": "stdout",
     "output_type": "stream",
     "text": [
      "xopt: {output_path: null, verbose: true, algorithm: cnsga}\n",
      "algorithm:\n",
      "  name: cnsga\n",
      "  options: {max_generations: 5, population_size: 8, crossover_probability: 0.9, mutation_probability: 1.0,\n",
      "    selection: auto, verbose: true, seed: null}\n",
      "  max_generations: 5\n",
      "  population_size: 8\n",
      "  crossover_probability: 0.9\n",
      "  mutation_probability: 1.0\n",
      "  selection: auto\n",
      "  verbose: true\n",
      "  seed: null\n",
      "simulation: {name: gpt_with_distgen, evaluate: gpt.evaluate.evaluate_gpt_with_distgen}\n",
      "vocs:\n",
      "  constants: {gun_voltage: 375}\n",
      "  constraints:\n",
      "    end_std_t: [LESS_THAN, 0.0015]\n",
      "  description: Test case\n",
      "  name: CBETA DC GUN\n",
      "  objectives: {end_norm_emitt_x: MINIMIZE, end_qbunch: MAXIMIZE}\n",
      "  simulation: gpt_with_distgen\n",
      "  templates: {distgen_input_file: /Users/colwyngulliford/Documents/GitHub/xopt/examples/cbeta.dcgun/template/cbeta.dcgun.distgen.in.json,\n",
      "    gpt_input_file: /Users/colwyngulliford/Documents/GitHub/xopt/examples/cbeta.dcgun/template/cbeta.dcgun.gpt.in}\n",
      "  variables:\n",
      "    beam:params:sigma_xy:value: [0, 5]\n",
      "    sol_1_current: [0, 5]\n",
      "  linked_variables: null\n"
     ]
    }
   ],
   "source": [
    "!cat test.yaml"
   ]
  },
  {
   "cell_type": "markdown",
   "metadata": {},
   "source": [
    "# Run with MPI"
   ]
  },
  {
   "cell_type": "code",
   "execution_count": 43,
   "metadata": {},
   "outputs": [
    {
     "name": "stdout",
     "output_type": "stream",
     "text": [
      "  _   \n",
      "                | |  \n",
      "__  _____  _ __ | |_ \n",
      "\\ \\/ / _ \\| '_ \\| __|\n",
      " >  < (_) | |_) | |_ \n",
      "/_/\\_\\___/| .__/ \\__|\n",
      "          | |        \n",
      "          |_|        \n",
      "\n",
      "_________________________________\n",
      "Parallel execution with 4 workers\n",
      "Loading /Users/colwyngulliford/Documents/GitHub/xopt/examples/xopt_class/test.yaml as YAML \n",
      "Warning: No path set for key xopt::output_path\n",
      "\n",
      "\n",
      "\n",
      "\n",
      " ▄████▄   ███▄    █   ██████   ▄████  ▄▄▄      \n",
      "▒██▀ ▀█   ██ ▀█   █ ▒██    ▒  ██▒ ▀█▒▒████▄    \n",
      "▒▓█    ▄ ▓██  ▀█ ██▒░ ▓██▄   ▒██░▄▄▄░▒██  ▀█▄  \n",
      "▒▓▓▄ ▄██▒▓██▒  ▐▌██▒  ▒   ██▒░▓█  ██▓░██▄▄▄▄██ \n",
      "▒ ▓███▀ ░▒██░   ▓██░▒██████▒▒░▒▓███▀▒ ▓█   ▓██▒\n",
      "░ ░▒ ▒  ░░ ▒░   ▒ ▒ ▒ ▒▓▒ ▒ ░ ░▒   ▒  ▒▒   ▓▒█░\n",
      "  ░  ▒   ░ ░░   ░ ▒░░ ░▒  ░ ░  ░   ░   ▒   ▒▒ ░\n",
      "░           ░   ░ ░ ░  ░  ░  ░ ░   ░   ░   ▒   \n",
      "░ ░               ░       ░        ░       ░  ░\n",
      "░                                              \n",
      "\n",
      "\n",
      "Continous Non-dominated Sorting Genetic Algorithm\n",
      "\n",
      "\n",
      "Creating toolbox from vocs.\n",
      "Created toolbox with 2 variables, 1 constraints, and 2 objectives.\n",
      "    Using selection algorithm: nsga2\n",
      "vocs:\n",
      "{'constants': {'gun_voltage': 375},\n",
      " 'constraints': {'end_std_t': ['LESS_THAN', 0.0015]},\n",
      " 'description': 'Test case',\n",
      " 'linked_variables': None,\n",
      " 'name': 'CBETA DC GUN',\n",
      " 'objectives': {'end_norm_emitt_x': 'MINIMIZE', 'end_qbunch': 'MAXIMIZE'},\n",
      " 'simulation': 'gpt_with_distgen',\n",
      " 'templates': {'distgen_input_file': '/Users/colwyngulliford/Documents/GitHub/xopt/examples/cbeta.dcgun/template/cbeta.dcgun.distgen.in.json',\n",
      "               'gpt_input_file': '/Users/colwyngulliford/Documents/GitHub/xopt/examples/cbeta.dcgun/template/cbeta.dcgun.gpt.in'},\n",
      " 'variables': {'beam:params:sigma_xy:value': [0, 5], 'sol_1_current': [0, 5]}}\n",
      "Initializing with a new population, size 8\n",
      "____________________________________________________\n",
      "8 fitness calculations for initial generation\n",
      "........done.\n",
      "Submitting first batch of children\n",
      ".........done.\n",
      "__________________________________________________________\n",
      "Generation 0 completed in 0.93167 minutes\n",
      "........done.\n",
      "__________________________________________________________\n",
      "Generation 1 completed in 0.71648 minutes\n",
      "........done.\n",
      "__________________________________________________________\n",
      "Generation 2 completed in 11.32897 minutes\n",
      ".^C\n",
      "[mpiexec@dhcp-ccc-5170.eduroam.cornell.edu] Sending Ctrl-C to processes as requested\n",
      "[mpiexec@dhcp-ccc-5170.eduroam.cornell.edu] Press Ctrl-C again to force abort\n"
     ]
    }
   ],
   "source": [
    "!mpirun -n 4 python -m mpi4py.futures -m xopt.run_mpi test.yaml"
   ]
  },
  {
   "cell_type": "markdown",
   "metadata": {},
   "source": [
    "# Dask "
   ]
  },
  {
   "cell_type": "code",
   "execution_count": 15,
   "metadata": {},
   "outputs": [
    {
     "data": {
      "text/html": [
       "<table style=\"border: 2px solid white;\">\n",
       "<tr>\n",
       "<td style=\"vertical-align: top; border: 0px solid white\">\n",
       "<h3 style=\"text-align: left;\">Client</h3>\n",
       "<ul style=\"text-align: left; list-style: none; margin: 0; padding: 0;\">\n",
       "  <li><b>Scheduler: </b>tcp://127.0.0.1:52287</li>\n",
       "  <li><b>Dashboard: </b><a href='http://127.0.0.1:8787/status' target='_blank'>http://127.0.0.1:8787/status</a>\n",
       "</ul>\n",
       "</td>\n",
       "<td style=\"vertical-align: top; border: 0px solid white\">\n",
       "<h3 style=\"text-align: left;\">Cluster</h3>\n",
       "<ul style=\"text-align: left; list-style:none; margin: 0; padding: 0;\">\n",
       "  <li><b>Workers: </b>4</li>\n",
       "  <li><b>Cores: </b>8</li>\n",
       "  <li><b>Memory: </b>17.18 GB</li>\n",
       "</ul>\n",
       "</td>\n",
       "</tr>\n",
       "</table>"
      ],
      "text/plain": [
       "<Client: 'tcp://127.0.0.1:52287' processes=4 threads=8, memory=17.18 GB>"
      ]
     },
     "execution_count": 15,
     "metadata": {},
     "output_type": "execute_result"
    }
   ],
   "source": [
    "from dask.distributed import Client\n",
    "executor = Client()\n",
    "executor"
   ]
  },
  {
   "cell_type": "code",
   "execution_count": 16,
   "metadata": {},
   "outputs": [],
   "source": [
    "# Wait a few seconds for the Dask cluster to start\n",
    "from time import sleep\n",
    "sleep(5)"
   ]
  },
  {
   "cell_type": "code",
   "execution_count": 17,
   "metadata": {},
   "outputs": [
    {
     "name": "stdout",
     "output_type": "stream",
     "text": [
      "\n",
      "\n",
      "\n",
      " ▄████▄   ███▄    █   ██████   ▄████  ▄▄▄      \n",
      "▒██▀ ▀█   ██ ▀█   █ ▒██    ▒  ██▒ ▀█▒▒████▄    \n",
      "▒▓█    ▄ ▓██  ▀█ ██▒░ ▓██▄   ▒██░▄▄▄░▒██  ▀█▄  \n",
      "▒▓▓▄ ▄██▒▓██▒  ▐▌██▒  ▒   ██▒░▓█  ██▓░██▄▄▄▄██ \n",
      "▒ ▓███▀ ░▒██░   ▓██░▒██████▒▒░▒▓███▀▒ ▓█   ▓██▒\n",
      "░ ░▒ ▒  ░░ ▒░   ▒ ▒ ▒ ▒▓▒ ▒ ░ ░▒   ▒  ▒▒   ▓▒█░\n",
      "  ░  ▒   ░ ░░   ░ ▒░░ ░▒  ░ ░  ░   ░   ▒   ▒▒ ░\n",
      "░           ░   ░ ░ ░  ░  ░  ░ ░   ░   ░   ▒   \n",
      "░ ░               ░       ░        ░       ░  ░\n",
      "░                                              \n",
      "\n",
      "\n",
      "Continous Non-dominated Sorting Genetic Algorithm\n",
      "\n",
      "\n",
      "Creating toolbox from vocs.\n",
      "Warning: Redefining creator.MyFitness\n",
      "Warning in cnsga_toolbox: Redefining creator.Individual\n",
      "Created toolbox with 13 variables, 6 constraints, and 2 objectives.\n",
      "    Using selection algorithm: nsga2\n",
      "vocs:\n",
      "{'constants': {'ipart': 1000, 'lspch': True, 'zstop': 0.2},\n",
      " 'constraints': {'end_E_kinetic': ['GREATER_THAN', 90000000.0],\n",
      "                 'end_deltaE_rms': ['LESS_THAN', 200000.0],\n",
      "                 'end_higher_order_energy_spread': ['LESS_THAN', 5000.0],\n",
      "                 'end_n_particle_loss': ['LESS_THAN', 1],\n",
      "                 'end_x_coreemit_95percent': ['LESS_THAN', 9e-07],\n",
      "                 'end_z_rms': ['LESS_THAN', 0.0015]},\n",
      " 'description': 'Test case',\n",
      " 'linked_variables': None,\n",
      " 'name': 'kekgun',\n",
      " 'objectives': {'end_x_coreemit_95percent': 'MINIMIZE',\n",
      "                'end_z_rms': 'MINIMIZE'},\n",
      " 'simulation': 'astra_with_generator',\n",
      " 'templates': {'astra_input_file': '/Users/chrisonian/Code/GitHub/xopt/examples/kekgun/template/kekgun.in',\n",
      "               'generator_input_file': '/Users/chrisonian/Code/GitHub/xopt/examples/kekgun/template/dist004.in'},\n",
      " 'variables': {'lt': [0.005, 0.07],\n",
      "               'maxb(1)': [0, 0.4],\n",
      "               'maxb(2)': [0, 0.3],\n",
      "               'maxe(1)': [20, 50],\n",
      "               'maxe(2)': [0, 32],\n",
      "               'maxe(3)': [0, 32],\n",
      "               'maxe(4)': [0, 32],\n",
      "               'phi(1)': [-30, 30],\n",
      "               'phi(2)': [-180, 180],\n",
      "               'phi(3)': [-45, 45],\n",
      "               'phi(4)': [-45, 45],\n",
      "               'phi(6)': [-45, 45],\n",
      "               'sig_x': [0.05, 1]}}\n",
      "Initializing with existing population, size 8\n",
      "____________________________________________________\n",
      "8 fitness calculations for initial generation\n",
      "........done.\n",
      "Submitting first batch of children\n",
      ".........done.\n",
      "__________________________________________________________\n",
      "Generation 6 completed in 0.19779 minutes\n",
      "........done.\n",
      "__________________________________________________________\n",
      "Generation 7 completed in 0.20313 minutes\n",
      "........done.\n",
      "__________________________________________________________\n",
      "Generation 8 completed in 0.20428 minutes\n",
      "........done.\n",
      "__________________________________________________________\n",
      "Generation 9 completed in 0.20812 minutes\n"
     ]
    }
   ],
   "source": [
    "# Increase the number of generations\n",
    "X.algorithm['options']['max_generations'] = 10\n",
    "X.run_cnsga(executor)"
   ]
  },
  {
   "cell_type": "markdown",
   "metadata": {},
   "source": [
    "# Cleanup"
   ]
  },
  {
   "cell_type": "code",
   "execution_count": 18,
   "metadata": {},
   "outputs": [],
   "source": [
    "!rm -r dask-worker-space"
   ]
  },
  {
   "cell_type": "code",
   "execution_count": 19,
   "metadata": {},
   "outputs": [],
   "source": [
    "!rm test.yaml"
   ]
  }
 ],
 "metadata": {
  "kernelspec": {
   "display_name": "Python 3",
   "language": "python",
   "name": "python3"
  },
  "language_info": {
   "codemirror_mode": {
    "name": "ipython",
    "version": 3
   },
   "file_extension": ".py",
   "mimetype": "text/x-python",
   "name": "python",
   "nbconvert_exporter": "python",
   "pygments_lexer": "ipython3",
   "version": "3.6.7"
  }
 },
 "nbformat": 4,
 "nbformat_minor": 4
}
