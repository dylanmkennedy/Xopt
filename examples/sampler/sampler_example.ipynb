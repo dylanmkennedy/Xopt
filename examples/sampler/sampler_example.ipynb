{
 "cells": [
  {
   "cell_type": "code",
   "execution_count": 1,
   "metadata": {},
   "outputs": [],
   "source": [
    "# Useful for debugging\n",
    "%load_ext autoreload\n",
    "%autoreload 2"
   ]
  },
  {
   "cell_type": "markdown",
   "metadata": {},
   "source": [
    "# Random Sample example"
   ]
  },
  {
   "cell_type": "code",
   "execution_count": 1,
   "metadata": {},
   "outputs": [
    {
     "ename": "ModuleNotFoundError",
     "evalue": "No module named 'xopt.evaluators'",
     "output_type": "error",
     "traceback": [
      "\u001b[1;31m---------------------------------------------------------------------------\u001b[0m",
      "\u001b[1;31mModuleNotFoundError\u001b[0m                       Traceback (most recent call last)",
      "\u001b[1;32mC:\\Users\\RYANRO~1\\AppData\\Local\\Temp/ipykernel_10368/2722737548.py\u001b[0m in \u001b[0;36m<module>\u001b[1;34m\u001b[0m\n\u001b[0;32m      3\u001b[0m \u001b[1;33m\u001b[0m\u001b[0m\n\u001b[0;32m      4\u001b[0m \u001b[1;31m# Test function\u001b[0m\u001b[1;33m\u001b[0m\u001b[1;33m\u001b[0m\u001b[1;33m\u001b[0m\u001b[0m\n\u001b[1;32m----> 5\u001b[1;33m \u001b[1;32mfrom\u001b[0m \u001b[0mxopt\u001b[0m\u001b[1;33m.\u001b[0m\u001b[0mevaluators\u001b[0m \u001b[1;32mimport\u001b[0m \u001b[0mtest_TNK\u001b[0m\u001b[1;33m\u001b[0m\u001b[1;33m\u001b[0m\u001b[0m\n\u001b[0m",
      "\u001b[1;31mModuleNotFoundError\u001b[0m: No module named 'xopt.evaluators'"
     ]
    }
   ],
   "source": [
    "# This is the main function\n",
    "from xopt.sampler import random_sampler\n",
    "\n",
    "# Test function\n",
    "from xopt.evaluators import test_TNK"
   ]
  },
  {
   "cell_type": "code",
   "execution_count": 3,
   "metadata": {},
   "outputs": [
    {
     "data": {
      "text/plain": [
       "{'name': 'TNK_test',\n",
       " 'description': 'Constrainted test function TNK. See Table V in https://www.iitk.ac.in/kangal/Deb_NSGA-II.pdf',\n",
       " 'simulation': 'test_TNK',\n",
       " 'variables': {'x1': [0, 3.14159], 'x2': [0, 3.14159]},\n",
       " 'objectives': {'y1': 'MINIMIZE', 'y2': 'MINIMIZE'},\n",
       " 'constraints': {'c1': ['GREATER_THAN', 0], 'c2': ['GREATER_THAN', 0]},\n",
       " 'constants': {'a': 'dummy_constant'},\n",
       " 'linked_variables': {'x9': 'x1'}}"
      ]
     },
     "execution_count": 3,
     "metadata": {},
     "output_type": "execute_result"
    }
   ],
   "source": [
    "# Get VOCS\n",
    "VOCS = test_TNK.VOCS\n",
    "VOCS\n"
   ]
  },
  {
   "cell_type": "code",
   "execution_count": 4,
   "metadata": {},
   "outputs": [
    {
     "data": {
      "text/plain": [
       "\u001b[0;31mSignature:\u001b[0m \u001b[0mEVALUATE\u001b[0m\u001b[0;34m(\u001b[0m\u001b[0minputs\u001b[0m\u001b[0;34m,\u001b[0m \u001b[0mextra_option\u001b[0m\u001b[0;34m=\u001b[0m\u001b[0;34m'abc'\u001b[0m\u001b[0;34m,\u001b[0m \u001b[0;34m**\u001b[0m\u001b[0mparams\u001b[0m\u001b[0;34m)\u001b[0m\u001b[0;34m\u001b[0m\u001b[0;34m\u001b[0m\u001b[0m\n",
       "\u001b[0;31mDocstring:\u001b[0m <no docstring>\n",
       "\u001b[0;31mFile:\u001b[0m      ~/Code/GitHub/xopt/xopt/evaluators/test_TNK.py\n",
       "\u001b[0;31mType:\u001b[0m      function\n"
      ]
     },
     "metadata": {},
     "output_type": "display_data"
    }
   ],
   "source": [
    "# Get evaluate function\n",
    "EVALUATE = test_TNK.evaluate_TNK\n",
    "?EVALUATE"
   ]
  },
  {
   "cell_type": "code",
   "execution_count": 5,
   "metadata": {},
   "outputs": [],
   "source": [
    "VOCS['variables']['x1'] = [0, 4] # Extent to occasionally throw an exception"
   ]
  },
  {
   "cell_type": "code",
   "execution_count": 6,
   "metadata": {},
   "outputs": [
    {
     "name": "stdout",
     "output_type": "stream",
     "text": [
      "\n",
      "\n",
      "███████╗ █████╗ ███╗   ███╗██████╗ ██╗     ███████╗██████╗ \n",
      "██╔════╝██╔══██╗████╗ ████║██╔══██╗██║     ██╔════╝██╔══██╗\n",
      "███████╗███████║██╔████╔██║██████╔╝██║     █████╗  ██████╔╝\n",
      "╚════██║██╔══██║██║╚██╔╝██║██╔═══╝ ██║     ██╔══╝  ██╔══██╗\n",
      "███████║██║  ██║██║ ╚═╝ ██║██║     ███████╗███████╗██║  ██║\n",
      "╚══════╝╚═╝  ╚═╝╚═╝     ╚═╝╚═╝     ╚══════╝╚══════╝╚═╝  ╚═╝\n",
      "                                                           \n",
      "\n",
      "Xopt Random Sampler\n",
      "Version 0.4.0\n",
      "\n",
      ".{'Exception': 'Input greater than 3.14159 '}\n",
      ".{'Exception': 'Input greater than 3.14159 '}\n",
      ".{'Exception': 'Input greater than 3.14159 '}\n",
      ".{'Exception': 'Input greater than 3.14159 '}\n",
      ".{'Exception': 'Input greater than 3.14159 '}\n",
      ".{'Exception': 'Input greater than 3.14159 '}\n",
      "...{'Exception': 'Input greater than 3.14159 '}\n",
      ".10 samples completed in 0.00034 minutes\n",
      "...{'Exception': 'Input greater than 3.14159 '}\n",
      ".......{'Exception': 'Input greater than 3.14159 '}\n",
      "10 samples completed in 0.00033 minutes\n",
      "...{'Exception': 'Input greater than 3.14159 '}\n",
      "....{'Exception': 'Input greater than 3.14159 '}\n",
      ".{'Exception': 'Input greater than 3.14159 '}\n",
      "..{'Exception': 'Input greater than 3.14159 '}\n",
      "10 samples completed in 0.00026 minutes\n",
      ".........{'Exception': 'Input greater than 3.14159 '}\n",
      ".10 samples completed in 0.00021 minutes\n",
      "....{'Exception': 'Input greater than 3.14159 '}\n",
      ".....{'Exception': 'Input greater than 3.14159 '}\n",
      ".10 samples completed in 0.00024 minutes\n",
      ".........{'Exception': 'Input greater than 3.14159 '}\n",
      ".10 samples completed in 0.00022 minutes\n",
      ".....{'Exception': 'Input greater than 3.14159 '}\n",
      ".....10 samples completed in 0.00020 minutes\n",
      "...{'Exception': 'Input greater than 3.14159 '}\n",
      ".......10 samples completed in 0.00027 minutes\n",
      ".{'Exception': 'Input greater than 3.14159 '}\n",
      ".........10 samples completed in 0.00022 minutes\n",
      "...{'Exception': 'Input greater than 3.14159 '}\n",
      ".......10 samples completed in 0.00020 minutes\n",
      ".....{'Exception': 'Input greater than 3.14159 '}\n",
      "....{'Exception': 'Input greater than 3.14159 '}\n",
      ".10 samples completed in 0.00027 minutes\n",
      ".....{'Exception': 'Input greater than 3.14159 '}\n",
      "...."
     ]
    }
   ],
   "source": [
    "# Get a parallel executor\n",
    "from concurrent.futures import ProcessPoolExecutor\n",
    "executor = ProcessPoolExecutor()\n",
    "\n",
    "# Run\n",
    "results = random_sampler(executor, vocs=VOCS, evaluate_f=EVALUATE, verbose=True)"
   ]
  },
  {
   "cell_type": "code",
   "execution_count": 7,
   "metadata": {},
   "outputs": [
    {
     "name": "stdout",
     "output_type": "stream",
     "text": [
      "\n",
      "\n",
      "███████╗ █████╗ ███╗   ███╗██████╗ ██╗     ███████╗██████╗ \n",
      "██╔════╝██╔══██╗████╗ ████║██╔══██╗██║     ██╔════╝██╔══██╗\n",
      "███████╗███████║██╔████╔██║██████╔╝██║     █████╗  ██████╔╝\n",
      "╚════██║██╔══██║██║╚██╔╝██║██╔═══╝ ██║     ██╔══╝  ██╔══██╗\n",
      "███████║██║  ██║██║ ╚═╝ ██║██║     ███████╗███████╗██║  ██║\n",
      "╚══════╝╚═╝  ╚═╝╚═╝     ╚═╝╚═╝     ╚══════╝╚══════╝╚═╝  ╚═╝\n",
      "                                                           \n",
      "\n",
      "Xopt Random Sampler\n",
      "Version 0.4.0\n",
      "\n",
      "..........10 samples completed in 0.00032 minutes\n",
      "Samples written to:\n",
      " /var/folders/wj/lfgr01993dx79p9cm_skykbw0000gn/T/tmp0yp74t23/sampler-2020-04-23-1.json\n",
      "....{'Exception': 'Input greater than 3.14159 '}\n",
      "....{'Exception': 'Input greater than 3.14159 '}\n",
      ".{'Exception': 'Input greater than 3.14159 '}\n",
      "{'Exception': 'Input greater than 3.14159 '}\n",
      ".10 samples completed in 0.00039 minutes\n",
      "Samples written to:\n",
      " /var/folders/wj/lfgr01993dx79p9cm_skykbw0000gn/T/tmp0yp74t23/sampler-2020-04-23-2.json\n",
      "..........{'Exception': 'Input greater than 3.14159 '}\n",
      "10 samples completed in 0.00026 minutes\n",
      "Samples written to:\n",
      " /var/folders/wj/lfgr01993dx79p9cm_skykbw0000gn/T/tmp0yp74t23/sampler-2020-04-23-3.json\n",
      "....{'Exception': 'Input greater than 3.14159 '}\n",
      ".{'Exception': 'Input greater than 3.14159 '}\n",
      ".....10 samples completed in 0.00034 minutes\n",
      "Samples written to:\n",
      " /var/folders/wj/lfgr01993dx79p9cm_skykbw0000gn/T/tmp0yp74t23/sampler-2020-04-23-4.json\n",
      "..........{'Exception': 'Input greater than 3.14159 '}\n",
      "10 samples completed in 0.00025 minutes\n",
      "{'Exception': 'Input greater than 3.14159 '}\n",
      "Samples written to:\n",
      " /var/folders/wj/lfgr01993dx79p9cm_skykbw0000gn/T/tmp0yp74t23/sampler-2020-04-23-5.json\n",
      "......{'Exception': 'Input greater than 3.14159 '}\n",
      "....10 samples completed in 0.00029 minutes\n",
      "Samples written to:\n",
      " /var/folders/wj/lfgr01993dx79p9cm_skykbw0000gn/T/tmp0yp74t23/sampler-2020-04-23-6.json\n",
      "...{'Exception': 'Input greater than 3.14159 '}\n",
      "..{'Exception': 'Input greater than 3.14159 '}\n",
      ".{'Exception': 'Input greater than 3.14159 '}\n",
      "....10 samples completed in 0.00032 minutes\n",
      "Samples written to:\n",
      " /var/folders/wj/lfgr01993dx79p9cm_skykbw0000gn/T/tmp0yp74t23/sampler-2020-04-23-7.json\n",
      "..........{'Exception': 'Input greater than 3.14159 '}\n",
      "10 samples completed in 0.00033 minutes\n",
      "{'Exception': 'Input greater than 3.14159 '}\n",
      "Samples written to:\n",
      " /var/folders/wj/lfgr01993dx79p9cm_skykbw0000gn/T/tmp0yp74t23/sampler-2020-04-23-8.json\n",
      "......{'Exception': 'Input greater than 3.14159 '}\n",
      "...{'Exception': 'Input greater than 3.14159 '}\n",
      ".{'Exception': 'Input greater than 3.14159 '}\n",
      "10 samples completed in 0.00032 minutes\n",
      "{'Exception': 'Input greater than 3.14159 '}\n",
      "{'Exception': 'Input greater than 3.14159 '}\n",
      "Samples written to:\n",
      " /var/folders/wj/lfgr01993dx79p9cm_skykbw0000gn/T/tmp0yp74t23/sampler-2020-04-23-9.json\n",
      "....{'Exception': 'Input greater than 3.14159 '}\n",
      "......10 samples completed in 0.00031 minutes\n",
      "{'Exception': 'Input greater than 3.14159 '}\n",
      "Samples written to:\n",
      " /var/folders/wj/lfgr01993dx79p9cm_skykbw0000gn/T/tmp0yp74t23/sampler-2020-04-23-10.json\n",
      "...{'Exception': 'Input greater than 3.14159 '}\n",
      ".......10 samples completed in 0.00031 minutes\n",
      "Samples written to:\n",
      " /var/folders/wj/lfgr01993dx79p9cm_skykbw0000gn/T/tmp0yp74t23/sampler-2020-04-23-11.json\n",
      ".........{'Exception': 'Input greater than 3.14159 '}\n",
      ".10 samples completed in 0.00030 minutes\n",
      "Samples written to:\n",
      " /var/folders/wj/lfgr01993dx79p9cm_skykbw0000gn/T/tmp0yp74t23/sampler-2020-04-23-12.json\n"
     ]
    }
   ],
   "source": [
    "from tempfile import TemporaryDirectory\n",
    "SCRATCH = TemporaryDirectory()\n",
    "\n",
    "executor = ProcessPoolExecutor()\n",
    "\n",
    "# Run with output path\n",
    "results2 = random_sampler(executor, vocs=test_TNK.VOCS, evaluate_f=test_TNK.evaluate_TNK, output_path=SCRATCH.name, verbose=True)"
   ]
  },
  {
   "cell_type": "markdown",
   "metadata": {},
   "source": [
    "# Class method"
   ]
  },
  {
   "cell_type": "code",
   "execution_count": 8,
   "metadata": {},
   "outputs": [],
   "source": [
    "!mkdir temp"
   ]
  },
  {
   "cell_type": "code",
   "execution_count": 9,
   "metadata": {},
   "outputs": [
    {
     "data": {
      "text/plain": [
       "{'xopt': {'output_path': 'temp', 'verbose': True, 'algorithm': 'cnsga'},\n",
       " 'algorithm': {'name': 'random_sampler', 'options': {'verbose': 'T'}},\n",
       " 'simulation': {'name': 'test_TNK',\n",
       "  'evaluate': 'xopt.evaluators.test_TNK.evaluate_TNK'},\n",
       " 'vocs': {'name': 'TNK_test',\n",
       "  'description': None,\n",
       "  'simulation': 'test_TNK',\n",
       "  'templates': None,\n",
       "  'variables': {'x1': [0, 3.14159], 'x2': [0, 3.14159]},\n",
       "  'objectives': {'y1': 'MINIMIZE', 'y2': 'MINIMIZE'},\n",
       "  'constraints': {'c1': ['GREATER_THAN', 0], 'c2': ['GREATER_THAN', 0]},\n",
       "  'linked_variables': {'x9': 'x1'},\n",
       "  'constants': {'a': 'dummy_constant'}}}"
      ]
     },
     "execution_count": 9,
     "metadata": {},
     "output_type": "execute_result"
    }
   ],
   "source": [
    "import yaml\n",
    "\n",
    "# Make a proper input file. \n",
    "YAML=\"\"\"\n",
    "xopt: {output_path: temp, verbose: true, algorithm: cnsga}\n",
    "\n",
    "algorithm:\n",
    "  name: random_sampler\n",
    "  options:\n",
    "    verbose: T\n",
    "    \n",
    "simulation: \n",
    "  name: test_TNK\n",
    "  evaluate: xopt.evaluators.test_TNK.evaluate_TNK  \n",
    "  \n",
    "vocs:\n",
    "  name: TNK_test\n",
    "  description: null\n",
    "  simulation: test_TNK\n",
    "  templates: null\n",
    "  variables:\n",
    "    x1: [0, 3.14159]\n",
    "    x2: [0, 3.14159]\n",
    "  objectives: {y1: MINIMIZE, y2: MINIMIZE}\n",
    "  constraints:\n",
    "    c1: [GREATER_THAN, 0]\n",
    "    c2: [GREATER_THAN, 0]\n",
    "  linked_variables: {x9: x1}\n",
    "  constants: {a: dummy_constant}\n",
    "\n",
    "\"\"\"\n",
    "config = yaml.safe_load(YAML)\n",
    "config"
   ]
  },
  {
   "cell_type": "code",
   "execution_count": 10,
   "metadata": {},
   "outputs": [],
   "source": [
    "from xopt import Xopt\n",
    "from xopt.tools import load_config"
   ]
  },
  {
   "cell_type": "code",
   "execution_count": 11,
   "metadata": {},
   "outputs": [
    {
     "name": "stdout",
     "output_type": "stream",
     "text": [
      "Loading config as text\n"
     ]
    },
    {
     "data": {
      "text/plain": [
       "\n",
       "            Xopt \n",
       "________________________________           \n",
       "Version: 0.4.0\n",
       "Configured: True\n",
       "Config as YAML:\n",
       "xopt: {output_path: /Users/chrisonian/Code/GitHub/xopt/examples/sampler/temp, verbose: true,\n",
       "  algorithm: cnsga}\n",
       "algorithm:\n",
       "  name: random_sampler\n",
       "  function: xopt.sampler.random_sampler\n",
       "  options: {verbose: T, chunk_size: 10, max_samples: 100}\n",
       "simulation:\n",
       "  name: test_TNK\n",
       "  evaluate: xopt.evaluators.test_TNK.evaluate_TNK\n",
       "  options: {extra_option: abc}\n",
       "vocs:\n",
       "  name: TNK_test\n",
       "  description: null\n",
       "  simulation: test_TNK\n",
       "  templates: null\n",
       "  variables:\n",
       "    x1: [0, 3.14159]\n",
       "    x2: [0, 3.14159]\n",
       "  objectives: {y1: MINIMIZE, y2: MINIMIZE}\n",
       "  constraints:\n",
       "    c1: [GREATER_THAN, 0]\n",
       "    c2: [GREATER_THAN, 0]\n",
       "  linked_variables: {x9: x1}\n",
       "  constants: {a: dummy_constant}"
      ]
     },
     "execution_count": 11,
     "metadata": {},
     "output_type": "execute_result"
    }
   ],
   "source": [
    "executor = ProcessPoolExecutor()\n",
    "X = Xopt(YAML)\n",
    "X"
   ]
  },
  {
   "cell_type": "code",
   "execution_count": 12,
   "metadata": {},
   "outputs": [
    {
     "name": "stdout",
     "output_type": "stream",
     "text": [
      "Starting at time 2020-04-23T09:08:26-07:00\n",
      "\n",
      "\n",
      "███████╗ █████╗ ███╗   ███╗██████╗ ██╗     ███████╗██████╗ \n",
      "██╔════╝██╔══██╗████╗ ████║██╔══██╗██║     ██╔════╝██╔══██╗\n",
      "███████╗███████║██╔████╔██║██████╔╝██║     █████╗  ██████╔╝\n",
      "╚════██║██╔══██║██║╚██╔╝██║██╔═══╝ ██║     ██╔══╝  ██╔══██╗\n",
      "███████║██║  ██║██║ ╚═╝ ██║██║     ███████╗███████╗██║  ██║\n",
      "╚══════╝╚═╝  ╚═╝╚═╝     ╚═╝╚═╝     ╚══════╝╚══════╝╚═╝  ╚═╝\n",
      "                                                           \n",
      "\n",
      "Xopt Random Sampler\n",
      "Version 0.4.0\n",
      "\n",
      "..........10 samples completed in 0.00034 minutes\n",
      "Samples written to:\n",
      " /Users/chrisonian/Code/GitHub/xopt/examples/sampler/temp/sampler-2020-04-23-1.json\n",
      "..........10 samples completed in 0.00034 minutes\n",
      "Samples written to:\n",
      " /Users/chrisonian/Code/GitHub/xopt/examples/sampler/temp/sampler-2020-04-23-2.json\n",
      "..........10 samples completed in 0.00029 minutes\n",
      "Samples written to:\n",
      " /Users/chrisonian/Code/GitHub/xopt/examples/sampler/temp/sampler-2020-04-23-3.json\n",
      "..........10 samples completed in 0.00036 minutes\n",
      "Samples written to:\n",
      " /Users/chrisonian/Code/GitHub/xopt/examples/sampler/temp/sampler-2020-04-23-4.json\n",
      "..........10 samples completed in 0.00030 minutes\n",
      "Samples written to:\n",
      " /Users/chrisonian/Code/GitHub/xopt/examples/sampler/temp/sampler-2020-04-23-5.json\n",
      "..........10 samples completed in 0.00028 minutes\n",
      "Samples written to:\n",
      " /Users/chrisonian/Code/GitHub/xopt/examples/sampler/temp/sampler-2020-04-23-6.json\n",
      "..........10 samples completed in 0.00029 minutes\n",
      "Samples written to:\n",
      " /Users/chrisonian/Code/GitHub/xopt/examples/sampler/temp/sampler-2020-04-23-7.json\n",
      "..........10 samples completed in 0.00028 minutes\n",
      "Samples written to:\n",
      " /Users/chrisonian/Code/GitHub/xopt/examples/sampler/temp/sampler-2020-04-23-8.json\n",
      "..........10 samples completed in 0.00033 minutes\n",
      "Samples written to:\n",
      " /Users/chrisonian/Code/GitHub/xopt/examples/sampler/temp/sampler-2020-04-23-9.json\n",
      "..........10 samples completed in 0.00028 minutes\n",
      "Samples written to:\n",
      " /Users/chrisonian/Code/GitHub/xopt/examples/sampler/temp/sampler-2020-04-23-10.json\n",
      "..........10 samples completed in 0.00035 minutes\n",
      "Samples written to:\n",
      " /Users/chrisonian/Code/GitHub/xopt/examples/sampler/temp/sampler-2020-04-23-11.json\n",
      "..........10 samples completed in 0.00041 minutes\n",
      "Samples written to:\n",
      " /Users/chrisonian/Code/GitHub/xopt/examples/sampler/temp/sampler-2020-04-23-12.json\n"
     ]
    }
   ],
   "source": [
    "X.run(executor)"
   ]
  },
  {
   "cell_type": "code",
   "execution_count": 13,
   "metadata": {},
   "outputs": [
    {
     "data": {
      "text/plain": [
       "dict_keys(['vocs', 'inputs', 'outputs', 'error'])"
      ]
     },
     "execution_count": 13,
     "metadata": {},
     "output_type": "execute_result"
    }
   ],
   "source": [
    "X.population.keys()"
   ]
  },
  {
   "cell_type": "code",
   "execution_count": 14,
   "metadata": {},
   "outputs": [],
   "source": [
    "!rm -r temp"
   ]
  }
 ],
 "metadata": {
  "kernelspec": {
   "display_name": "Python 3 (ipykernel)",
   "language": "python",
   "name": "python3"
  },
  "language_info": {
   "codemirror_mode": {
    "name": "ipython",
    "version": 3
   },
   "file_extension": ".py",
   "mimetype": "text/x-python",
   "name": "python",
   "nbconvert_exporter": "python",
   "pygments_lexer": "ipython3",
   "version": "3.9.6"
  }
 },
 "nbformat": 4,
 "nbformat_minor": 4
}
