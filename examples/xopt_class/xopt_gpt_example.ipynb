{
 "cells": [
  {
   "cell_type": "code",
   "execution_count": 1,
   "metadata": {},
   "outputs": [],
   "source": [
    "# Useful for debugging\n",
    "%load_ext autoreload\n",
    "%autoreload 2"
   ]
  },
  {
   "cell_type": "markdown",
   "metadata": {},
   "source": [
    "# Xopt class, GPT CBETA DC GUN example\n",
    "\n",
    "This is the class method for running Xopt."
   ]
  },
  {
   "cell_type": "code",
   "execution_count": 9,
   "metadata": {},
   "outputs": [],
   "source": [
    "from xopt import Xopt\n",
    "from matplotlib import pyplot as plt\n",
    "import numpy as np"
   ]
  },
  {
   "cell_type": "code",
   "execution_count": 3,
   "metadata": {},
   "outputs": [],
   "source": [
    "import yaml\n",
    "\n",
    "# Make a proper input file. \n",
    "\n",
    "YAML=\"\"\"\n",
    "xopt: {output_path: null, verbose: true,\n",
    "  algorithm: cnsga}\n",
    "  \n",
    "algorithm:\n",
    "  name: cnsga\n",
    "  options: {max_generations: 25, population_size: 24, crossover_probability: 0.9, mutation_probability: 1.0,\n",
    "  selection: auto, verbose: true, population: null}\n",
    "\n",
    "simulation:\n",
    "  name: gpt_with_distgen\n",
    "  evaluate: gpt.evaluate.evaluate_gpt_with_distgen\n",
    "\n",
    "# Note that you can call another file in the top level group:\n",
    "vocs: /Users/colwyngulliford/Documents/GitHub/xopt/examples/cbeta.dcgun/cbeta.dcgun.vocs.json\n",
    "\n",
    "\"\"\"\n",
    "config = yaml.safe_load(YAML)"
   ]
  },
  {
   "cell_type": "code",
   "execution_count": 4,
   "metadata": {},
   "outputs": [
    {
     "name": "stdout",
     "output_type": "stream",
     "text": [
      "Warning: No path set for key xopt::output_path\n"
     ]
    },
    {
     "data": {
      "text/plain": [
       "\n",
       "            Xopt\n",
       "________________________________           \n",
       "\n",
       "Configured: True\n",
       "\n",
       "Config as YAML:\n",
       "xopt: {output_path: null, verbose: true, algorithm: cnsga}\n",
       "algorithm:\n",
       "  name: cnsga\n",
       "  options: {max_generations: 25, population_size: 24, crossover_probability: 0.9,\n",
       "    mutation_probability: 1.0, selection: auto, verbose: true, seed: null}\n",
       "  max_generations: 25\n",
       "  population_size: 24\n",
       "  crossover_probability: 0.9\n",
       "  mutation_probability: 1.0\n",
       "  selection: auto\n",
       "  verbose: true\n",
       "  seed: null\n",
       "simulation: {name: gpt_with_distgen, evaluate: gpt.evaluate.evaluate_gpt_with_distgen}\n",
       "vocs:\n",
       "  constants: {gun_voltage: 375}\n",
       "  constraints:\n",
       "    end_std_t: [LESS_THAN, 0.0015]\n",
       "  description: Test case\n",
       "  name: CBETA DC GUN\n",
       "  objectives: {end_norm_emitt_x: MINIMIZE, end_qbunch: MAXIMIZE}\n",
       "  simulation: gpt_with_distgen\n",
       "  templates: {distgen_input_file: /Users/colwyngulliford/Documents/GitHub/xopt/examples/cbeta.dcgun/template/cbeta.dcgun.distgen.in.json,\n",
       "    gpt_input_file: /Users/colwyngulliford/Documents/GitHub/xopt/examples/cbeta.dcgun/template/cbeta.dcgun.gpt.in}\n",
       "  variables:\n",
       "    beam:params:sigma_xy:value: [0, 5]\n",
       "    beam:params:total_charge:value: [0, 500]\n",
       "    sol_1_current: [0, 5]\n",
       "  linked_variables: null"
      ]
     },
     "execution_count": 4,
     "metadata": {},
     "output_type": "execute_result"
    }
   ],
   "source": [
    "# Create object\n",
    "X = Xopt(config=config)\n",
    "\n",
    "# Show config\n",
    "X"
   ]
  },
  {
   "cell_type": "code",
   "execution_count": 27,
   "metadata": {},
   "outputs": [
    {
     "data": {
      "text/plain": [
       "{'constants': {'gun_voltage': 375},\n",
       " 'constraints': {'end_std_t': ['LESS_THAN', 0.0015]},\n",
       " 'description': 'Test case',\n",
       " 'name': 'CBETA DC GUN',\n",
       " 'objectives': {'end_norm_emitt_x': 'MINIMIZE', 'end_qbunch': 'MAXIMIZE'},\n",
       " 'simulation': 'gpt_with_distgen',\n",
       " 'templates': {'distgen_input_file': '/Users/colwyngulliford/Documents/GitHub/xopt/examples/cbeta.dcgun/template/cbeta.dcgun.distgen.in.json',\n",
       "  'gpt_input_file': '/Users/colwyngulliford/Documents/GitHub/xopt/examples/cbeta.dcgun/template/cbeta.dcgun.gpt.in'},\n",
       " 'variables': {'beam:params:sigma_xy:value': [0, 5],\n",
       "  'beam:params:total_charge:value': [0, 500],\n",
       "  'sol_1_current': [0, 5]},\n",
       " 'linked_variables': None}"
      ]
     },
     "execution_count": 27,
     "metadata": {},
     "output_type": "execute_result"
    }
   ],
   "source": [
    "# Check vocs\n",
    "X.vocs"
   ]
  },
  {
   "cell_type": "code",
   "execution_count": 28,
   "metadata": {},
   "outputs": [
    {
     "data": {
      "text/plain": [
       "{'beam:params:sigma_xy:value': 2.190673204735027,\n",
       " 'beam:params:total_charge:value': 165.92422326857903,\n",
       " 'sol_1_current': 1.9937249526832606,\n",
       " 'gun_voltage': 375}"
      ]
     },
     "execution_count": 28,
     "metadata": {},
     "output_type": "execute_result"
    }
   ],
   "source": [
    "# Check random inputs\n",
    "X.random_inputs()"
   ]
  },
  {
   "cell_type": "code",
   "execution_count": 29,
   "metadata": {},
   "outputs": [
    {
     "name": "stdout",
     "output_type": "stream",
     "text": [
      "{'error': False, 'end_std_x': 0.01921340641475445, 'end_std_y': 0.01955310634932044, 'end_qbunch': 1.63033496354662e-10, 'end_norm_emitt_x': 3.992794078198379e-06, 'end_norm_emitt_y': 3.8021131068704507e-06, 'end_std_t': 2.4058849806584882e-11, 'fingerprint': '7aabc42611db5826d8986a0fce3e5499'}\n",
      "CPU times: user 131 ms, sys: 41.7 ms, total: 173 ms\n",
      "Wall time: 2.54 s\n"
     ]
    }
   ],
   "source": [
    "%%time\n",
    "# Do a random evaluate to check that everything will run\n",
    "x=X.random_evaluate()\n",
    "print(x)"
   ]
  },
  {
   "cell_type": "code",
   "execution_count": 30,
   "metadata": {},
   "outputs": [
    {
     "data": {
      "text/plain": [
       "{'max_generations': 25,\n",
       " 'population_size': 24,\n",
       " 'crossover_probability': 0.9,\n",
       " 'mutation_probability': 1.0,\n",
       " 'selection': 'auto',\n",
       " 'verbose': True,\n",
       " 'seed': None}"
      ]
     },
     "execution_count": 30,
     "metadata": {},
     "output_type": "execute_result"
    }
   ],
   "source": [
    "# These are the algorithm options\n",
    "X.algorithm['options']"
   ]
  },
  {
   "cell_type": "code",
   "execution_count": 8,
   "metadata": {},
   "outputs": [
    {
     "data": {
      "text/plain": [
       "{'archive_path': None,\n",
       " 'merit_f': None,\n",
       " 'distgen_input_file': '/Users/colwyngulliford/Documents/GitHub/xopt/examples/cbeta.dcgun/template/cbeta.dcgun.distgen.in.json',\n",
       " 'gpt_input_file': '/Users/colwyngulliford/Documents/GitHub/xopt/examples/cbeta.dcgun/template/cbeta.dcgun.gpt.in'}"
      ]
     },
     "execution_count": 8,
     "metadata": {},
     "output_type": "execute_result"
    }
   ],
   "source": [
    "# These are the options in the evaluate function\n",
    "X.simulation['options']"
   ]
  },
  {
   "cell_type": "markdown",
   "metadata": {},
   "source": [
    "# Run CNSGA using processes or threads"
   ]
  },
  {
   "cell_type": "code",
   "execution_count": 9,
   "metadata": {},
   "outputs": [],
   "source": [
    "from concurrent.futures import ProcessPoolExecutor as PoolExecutor\n",
    "#from concurrent.futures import ThreadPoolExecutor as PoolExecutor\n",
    "executor = PoolExecutor()"
   ]
  },
  {
   "cell_type": "code",
   "execution_count": 10,
   "metadata": {},
   "outputs": [
    {
     "name": "stdout",
     "output_type": "stream",
     "text": [
      "{'max_generations': 25, 'population_size': 24, 'crossover_probability': 0.9, 'mutation_probability': 1.0, 'selection': 'auto', 'verbose': True, 'seed': None}\n",
      "\n",
      "\n",
      "\n",
      " ▄████▄   ███▄    █   ██████   ▄████  ▄▄▄      \n",
      "▒██▀ ▀█   ██ ▀█   █ ▒██    ▒  ██▒ ▀█▒▒████▄    \n",
      "▒▓█    ▄ ▓██  ▀█ ██▒░ ▓██▄   ▒██░▄▄▄░▒██  ▀█▄  \n",
      "▒▓▓▄ ▄██▒▓██▒  ▐▌██▒  ▒   ██▒░▓█  ██▓░██▄▄▄▄██ \n",
      "▒ ▓███▀ ░▒██░   ▓██░▒██████▒▒░▒▓███▀▒ ▓█   ▓██▒\n",
      "░ ░▒ ▒  ░░ ▒░   ▒ ▒ ▒ ▒▓▒ ▒ ░ ░▒   ▒  ▒▒   ▓▒█░\n",
      "  ░  ▒   ░ ░░   ░ ▒░░ ░▒  ░ ░  ░   ░   ▒   ▒▒ ░\n",
      "░           ░   ░ ░ ░  ░  ░  ░ ░   ░   ░   ▒   \n",
      "░ ░               ░       ░        ░       ░  ░\n",
      "░                                              \n",
      "\n",
      "\n",
      "Continous Non-dominated Sorting Genetic Algorithm\n",
      "\n",
      "\n",
      "Creating toolbox from vocs.\n",
      "Created toolbox with 3 variables, 1 constraints, and 2 objectives.\n",
      "    Using selection algorithm: nsga2\n",
      "vocs:\n",
      "{'constants': {'gun_voltage': 375},\n",
      " 'constraints': {'end_std_t': ['LESS_THAN', 0.0015]},\n",
      " 'description': 'Test case',\n",
      " 'linked_variables': None,\n",
      " 'name': 'CBETA DC GUN',\n",
      " 'objectives': {'end_norm_emitt_x': 'MINIMIZE', 'end_qbunch': 'MAXIMIZE'},\n",
      " 'simulation': 'gpt_with_distgen',\n",
      " 'templates': {'distgen_input_file': '/Users/colwyngulliford/Documents/GitHub/xopt/examples/cbeta.dcgun/template/cbeta.dcgun.distgen.in.json',\n",
      "               'gpt_input_file': '/Users/colwyngulliford/Documents/GitHub/xopt/examples/cbeta.dcgun/template/cbeta.dcgun.gpt.in'},\n",
      " 'variables': {'beam:params:sigma_xy:value': [0, 5],\n",
      "               'beam:params:total_charge:value': [0, 500],\n",
      "               'sol_1_current': [0, 5]}}\n",
      "Initializing with a new population, size 24\n",
      "____________________________________________________\n",
      "24 fitness calculations for initial generation\n",
      "........................done.\n",
      "Submitting first batch of children\n",
      ".........................done.\n",
      "__________________________________________________________\n",
      "Generation 0 completed in 0.14786 minutes\n",
      "........................done.\n",
      "__________________________________________________________\n",
      "Generation 1 completed in 0.11856 minutes\n",
      "........................done.\n",
      "__________________________________________________________\n",
      "Generation 2 completed in 0.13675 minutes\n",
      "........................done.\n",
      "__________________________________________________________\n",
      "Generation 3 completed in 0.13606 minutes\n",
      "........................done.\n",
      "__________________________________________________________\n",
      "Generation 4 completed in 0.11289 minutes\n",
      "........................done.\n",
      "__________________________________________________________\n",
      "Generation 5 completed in 0.15183 minutes\n",
      "........................done.\n",
      "__________________________________________________________\n",
      "Generation 6 completed in 0.12565 minutes\n",
      "........................done.\n",
      "__________________________________________________________\n",
      "Generation 7 completed in 0.12903 minutes\n",
      "........................done.\n",
      "__________________________________________________________\n",
      "Generation 8 completed in 0.12629 minutes\n",
      "........................done.\n",
      "__________________________________________________________\n",
      "Generation 9 completed in 0.12108 minutes\n",
      "........................done.\n",
      "__________________________________________________________\n",
      "Generation 10 completed in 0.10693 minutes\n",
      "........................done.\n",
      "__________________________________________________________\n",
      "Generation 11 completed in 0.09947 minutes\n",
      "........................done.\n",
      "__________________________________________________________\n",
      "Generation 12 completed in 0.11420 minutes\n",
      "........................done.\n",
      "__________________________________________________________\n",
      "Generation 13 completed in 0.10413 minutes\n",
      "........................done.\n",
      "__________________________________________________________\n",
      "Generation 14 completed in 0.10854 minutes\n",
      "........................done.\n",
      "__________________________________________________________\n",
      "Generation 15 completed in 0.09076 minutes\n",
      "........................done.\n",
      "__________________________________________________________\n",
      "Generation 16 completed in 0.10150 minutes\n",
      "........................done.\n",
      "__________________________________________________________\n",
      "Generation 17 completed in 0.09878 minutes\n",
      "........................done.\n",
      "__________________________________________________________\n",
      "Generation 18 completed in 0.09848 minutes\n",
      "........................done.\n",
      "__________________________________________________________\n",
      "Generation 19 completed in 0.10019 minutes\n",
      "........................done.\n",
      "__________________________________________________________\n",
      "Generation 20 completed in 0.10194 minutes\n",
      "........................done.\n",
      "__________________________________________________________\n",
      "Generation 21 completed in 0.09519 minutes\n",
      "........................done.\n",
      "__________________________________________________________\n",
      "Generation 22 completed in 0.09296 minutes\n",
      "........................done.\n",
      "__________________________________________________________\n",
      "Generation 23 completed in 0.11960 minutes\n",
      "........................done.\n",
      "__________________________________________________________\n",
      "Generation 24 completed in 0.10868 minutes\n"
     ]
    }
   ],
   "source": [
    "X.run_cnsga(executor)"
   ]
  },
  {
   "cell_type": "code",
   "execution_count": 11,
   "metadata": {},
   "outputs": [
    {
     "data": {
      "text/plain": [
       "[False,\n",
       " False,\n",
       " False,\n",
       " False,\n",
       " False,\n",
       " False,\n",
       " False,\n",
       " False,\n",
       " False,\n",
       " False,\n",
       " False,\n",
       " False,\n",
       " False,\n",
       " False,\n",
       " False,\n",
       " False,\n",
       " False,\n",
       " False,\n",
       " False,\n",
       " False,\n",
       " False,\n",
       " False,\n",
       " False,\n",
       " False]"
      ]
     },
     "execution_count": 11,
     "metadata": {},
     "output_type": "execute_result"
    }
   ],
   "source": [
    "# Check for errors\n",
    "X.population['errors']"
   ]
  },
  {
   "cell_type": "code",
   "execution_count": 12,
   "metadata": {},
   "outputs": [
    {
     "data": {
      "image/png": "[encoded data removed]",
      "text/plain": [
       "<Figure size 432x288 with 1 Axes>"
      ]
     },
     "metadata": {
      "needs_background": "light"
     },
     "output_type": "display_data"
    }
   ],
   "source": [
    "plt.plot(np.array(X.population['outputs']['end_qbunch'])*1e12, np.array(X.population['outputs']['end_norm_emitt_x'])*1e6,'*')\n",
    "plt.xlabel('bunch charge (pC)')\n",
    "plt.ylabel('norm. emittance (micron)')\n",
    "plt.show()"
   ]
  },
  {
   "cell_type": "markdown",
   "metadata": {},
   "source": [
    "# Write this configuration"
   ]
  },
  {
   "cell_type": "code",
   "execution_count": 13,
   "metadata": {},
   "outputs": [
    {
     "name": "stdout",
     "output_type": "stream",
     "text": [
      "Config written as YAML to test.yaml\n"
     ]
    }
   ],
   "source": [
    "X.save('test.yaml')"
   ]
  },
  {
   "cell_type": "code",
   "execution_count": 14,
   "metadata": {},
   "outputs": [
    {
     "name": "stdout",
     "output_type": "stream",
     "text": [
      "xopt: {output_path: null, verbose: true, algorithm: cnsga}\n",
      "algorithm:\n",
      "  name: cnsga\n",
      "  options: {max_generations: 25, population_size: 24, crossover_probability: 0.9,\n",
      "    mutation_probability: 1.0, selection: auto, verbose: true, seed: null}\n",
      "  max_generations: 25\n",
      "  population_size: 24\n",
      "  crossover_probability: 0.9\n",
      "  mutation_probability: 1.0\n",
      "  selection: auto\n",
      "  verbose: true\n",
      "  seed: null\n",
      "simulation: {name: gpt_with_distgen, evaluate: gpt.evaluate.evaluate_gpt_with_distgen}\n",
      "vocs:\n",
      "  constants: {gun_voltage: 375}\n",
      "  constraints:\n",
      "    end_std_t: [LESS_THAN, 0.0015]\n",
      "  description: Test case\n",
      "  name: CBETA DC GUN\n",
      "  objectives: {end_norm_emitt_x: MINIMIZE, end_qbunch: MAXIMIZE}\n",
      "  simulation: gpt_with_distgen\n",
      "  templates: {distgen_input_file: /Users/colwyngulliford/Documents/GitHub/xopt/examples/cbeta.dcgun/template/cbeta.dcgun.distgen.in.json,\n",
      "    gpt_input_file: /Users/colwyngulliford/Documents/GitHub/xopt/examples/cbeta.dcgun/template/cbeta.dcgun.gpt.in}\n",
      "  variables:\n",
      "    beam:params:sigma_xy:value: [0, 5]\n",
      "    beam:params:total_charge:value: [0, 500]\n",
      "    sol_1_current: [0, 5]\n",
      "  linked_variables: null\n"
     ]
    }
   ],
   "source": [
    "!cat test.yaml"
   ]
  },
  {
   "cell_type": "markdown",
   "metadata": {},
   "source": [
    "# Run with MPI"
   ]
  },
  {
   "cell_type": "code",
   "execution_count": 16,
   "metadata": {},
   "outputs": [
    {
     "name": "stdout",
     "output_type": "stream",
     "text": [
      "  _   \n",
      "                | |  \n",
      "__  _____  _ __ | |_ \n",
      "\\ \\/ / _ \\| '_ \\| __|\n",
      " >  < (_) | |_) | |_ \n",
      "/_/\\_\\___/| .__/ \\__|\n",
      "          | |        \n",
      "          |_|        \n",
      "\n",
      "_________________________________\n",
      "Parallel execution with 4 workers\n",
      "Loading /Users/colwyngulliford/Documents/GitHub/xopt/examples/xopt_class/test.yaml as YAML \n",
      "Warning: No path set for key xopt::output_path\n",
      "\n",
      "{'max_generations': 25, 'population_size': 24, 'crossover_probability': 0.9, 'mutation_probability': 1.0, 'selection': 'auto', 'verbose': True, 'seed': None}\n",
      "\n",
      "\n",
      "\n",
      " ▄████▄   ███▄    █   ██████   ▄████  ▄▄▄      \n",
      "▒██▀ ▀█   ██ ▀█   █ ▒██    ▒  ██▒ ▀█▒▒████▄    \n",
      "▒▓█    ▄ ▓██  ▀█ ██▒░ ▓██▄   ▒██░▄▄▄░▒██  ▀█▄  \n",
      "▒▓▓▄ ▄██▒▓██▒  ▐▌██▒  ▒   ██▒░▓█  ██▓░██▄▄▄▄██ \n",
      "▒ ▓███▀ ░▒██░   ▓██░▒██████▒▒░▒▓███▀▒ ▓█   ▓██▒\n",
      "░ ░▒ ▒  ░░ ▒░   ▒ ▒ ▒ ▒▓▒ ▒ ░ ░▒   ▒  ▒▒   ▓▒█░\n",
      "  ░  ▒   ░ ░░   ░ ▒░░ ░▒  ░ ░  ░   ░   ▒   ▒▒ ░\n",
      "░           ░   ░ ░ ░  ░  ░  ░ ░   ░   ░   ▒   \n",
      "░ ░               ░       ░        ░       ░  ░\n",
      "░                                              \n",
      "\n",
      "\n",
      "Continous Non-dominated Sorting Genetic Algorithm\n",
      "\n",
      "\n",
      "Creating toolbox from vocs.\n",
      "Created toolbox with 3 variables, 1 constraints, and 2 objectives.\n",
      "    Using selection algorithm: nsga2\n",
      "vocs:\n",
      "{'constants': {'gun_voltage': 375},\n",
      " 'constraints': {'end_std_t': ['LESS_THAN', 0.0015]},\n",
      " 'description': 'Test case',\n",
      " 'linked_variables': None,\n",
      " 'name': 'CBETA DC GUN',\n",
      " 'objectives': {'end_norm_emitt_x': 'MINIMIZE', 'end_qbunch': 'MAXIMIZE'},\n",
      " 'simulation': 'gpt_with_distgen',\n",
      " 'templates': {'distgen_input_file': '/Users/colwyngulliford/Documents/GitHub/xopt/examples/cbeta.dcgun/template/cbeta.dcgun.distgen.in.json',\n",
      "               'gpt_input_file': '/Users/colwyngulliford/Documents/GitHub/xopt/examples/cbeta.dcgun/template/cbeta.dcgun.gpt.in'},\n",
      " 'variables': {'beam:params:sigma_xy:value': [0, 5],\n",
      "               'beam:params:total_charge:value': [0, 500],\n",
      "               'sol_1_current': [0, 5]}}\n",
      "Initializing with a new population, size 24\n",
      "____________________________________________________\n",
      "24 fitness calculations for initial generation\n",
      "........................done.\n",
      "Submitting first batch of children\n",
      ".........................done.\n",
      "__________________________________________________________\n",
      "Generation 0 completed in 0.23913 minutes\n",
      "........................done.\n",
      "__________________________________________________________\n",
      "Generation 1 completed in 0.17426 minutes\n",
      "........................done.\n",
      "__________________________________________________________\n",
      "Generation 2 completed in 0.17523 minutes\n",
      "........................done.\n",
      "__________________________________________________________\n",
      "Generation 3 completed in 0.16364 minutes\n",
      "........................done.\n",
      "__________________________________________________________\n",
      "Generation 4 completed in 0.14351 minutes\n",
      "........................done.\n",
      "__________________________________________________________\n",
      "Generation 5 completed in 0.18278 minutes\n",
      "........................done.\n",
      "__________________________________________________________\n",
      "Generation 6 completed in 0.17714 minutes\n",
      "........................done.\n",
      "__________________________________________________________\n",
      "Generation 7 completed in 0.16173 minutes\n",
      "........................done.\n",
      "__________________________________________________________\n",
      "Generation 8 completed in 0.17500 minutes\n",
      "........................done.\n",
      "__________________________________________________________\n",
      "Generation 9 completed in 0.16121 minutes\n",
      "........................done.\n",
      "__________________________________________________________\n",
      "Generation 10 completed in 0.15806 minutes\n",
      "........................done.\n",
      "__________________________________________________________\n",
      "Generation 11 completed in 0.13810 minutes\n",
      "........................done.\n",
      "__________________________________________________________\n",
      "Generation 12 completed in 0.15956 minutes\n",
      "........................done.\n",
      "__________________________________________________________\n",
      "Generation 13 completed in 0.16528 minutes\n",
      "........................done.\n",
      "__________________________________________________________\n",
      "Generation 14 completed in 0.15308 minutes\n",
      "........................done.\n",
      "__________________________________________________________\n",
      "Generation 15 completed in 0.16754 minutes\n",
      "........................done.\n",
      "__________________________________________________________\n",
      "Generation 16 completed in 0.17205 minutes\n",
      "........................done.\n",
      "__________________________________________________________\n",
      "Generation 17 completed in 0.18104 minutes\n",
      "........................done.\n",
      "__________________________________________________________\n",
      "Generation 18 completed in 0.18920 minutes\n",
      "........................done.\n",
      "__________________________________________________________\n",
      "Generation 19 completed in 0.14978 minutes\n",
      "........................done.\n",
      "__________________________________________________________\n",
      "Generation 20 completed in 0.14949 minutes\n",
      "........................done.\n",
      "__________________________________________________________\n",
      "Generation 21 completed in 0.19506 minutes\n",
      "........................done.\n",
      "__________________________________________________________\n",
      "Generation 22 completed in 0.23938 minutes\n",
      "........................done.\n",
      "__________________________________________________________\n",
      "Generation 23 completed in 0.18568 minutes\n",
      "........................done.\n",
      "__________________________________________________________\n",
      "Generation 24 completed in 0.19238 minutes\n"
     ]
    }
   ],
   "source": [
    "!mpirun -n 4 python -m mpi4py.futures -m xopt.mpi.run test.yaml"
   ]
  },
  {
   "cell_type": "code",
   "execution_count": 18,
   "metadata": {},
   "outputs": [
    {
     "data": {
      "image/png": "[encoded data removed]",
      "text/plain": [
       "<Figure size 432x288 with 1 Axes>"
      ]
     },
     "metadata": {
      "needs_background": "light"
     },
     "output_type": "display_data"
    }
   ],
   "source": [
    "plt.plot(np.array(X.population['outputs']['end_qbunch'])*1e12, np.array(X.population['outputs']['end_norm_emitt_x'])*1e6,'*')\n",
    "plt.xlabel('bunch charge (pC)')\n",
    "plt.ylabel('norm. emittance (micron)')\n",
    "plt.show()"
   ]
  },
  {
   "cell_type": "markdown",
   "metadata": {},
   "source": [
    "# Dask "
   ]
  },
  {
   "cell_type": "code",
   "execution_count": 5,
   "metadata": {},
   "outputs": [
    {
     "data": {
      "text/html": [
       "<table style=\"border: 2px solid white;\">\n",
       "<tr>\n",
       "<td style=\"vertical-align: top; border: 0px solid white\">\n",
       "<h3 style=\"text-align: left;\">Client</h3>\n",
       "<ul style=\"text-align: left; list-style: none; margin: 0; padding: 0;\">\n",
       "  <li><b>Scheduler: </b>tcp://127.0.0.1:58746</li>\n",
       "  <li><b>Dashboard: </b><a href='http://127.0.0.1:8787/status' target='_blank'>http://127.0.0.1:8787/status</a>\n",
       "</ul>\n",
       "</td>\n",
       "<td style=\"vertical-align: top; border: 0px solid white\">\n",
       "<h3 style=\"text-align: left;\">Cluster</h3>\n",
       "<ul style=\"text-align: left; list-style:none; margin: 0; padding: 0;\">\n",
       "  <li><b>Workers: </b>4</li>\n",
       "  <li><b>Cores: </b>8</li>\n",
       "  <li><b>Memory: </b>17.18 GB</li>\n",
       "</ul>\n",
       "</td>\n",
       "</tr>\n",
       "</table>"
      ],
      "text/plain": [
       "<Client: 'tcp://127.0.0.1:58746' processes=4 threads=8, memory=17.18 GB>"
      ]
     },
     "execution_count": 5,
     "metadata": {},
     "output_type": "execute_result"
    }
   ],
   "source": [
    "from dask.distributed import Client\n",
    "executor = Client()\n",
    "executor"
   ]
  },
  {
   "cell_type": "code",
   "execution_count": 6,
   "metadata": {},
   "outputs": [],
   "source": [
    "# Wait a few seconds for the Dask cluster to start\n",
    "from time import sleep\n",
    "sleep(5)"
   ]
  },
  {
   "cell_type": "code",
   "execution_count": 7,
   "metadata": {},
   "outputs": [],
   "source": [
    "# Increase the number of generations\n",
    "X.run_cnsga(executor)"
   ]
  },
  {
   "cell_type": "code",
   "execution_count": 12,
   "metadata": {},
   "outputs": [
    {
     "data": {
      "image/png": "[encoded data removed]",
      "text/plain": [
       "<Figure size 432x288 with 1 Axes>"
      ]
     },
     "metadata": {
      "needs_background": "light"
     },
     "output_type": "display_data"
    }
   ],
   "source": [
    "plt.plot(np.array(X.population['outputs']['end_qbunch'])*1e12, np.array(X.population['outputs']['end_norm_emitt_x'])*1e6,'*')\n",
    "plt.xlabel('bunch charge (pC)')\n",
    "plt.ylabel('norm. emittance (micron)')\n",
    "plt.show()"
   ]
  },
  {
   "cell_type": "code",
   "execution_count": 11,
   "metadata": {},
   "outputs": [],
   "source": [
    "# Cleanup"
   ]
  },
  {
   "cell_type": "code",
   "execution_count": 22,
   "metadata": {},
   "outputs": [],
   "source": [
    "!rm -r dask-worker-space"
   ]
  },
  {
   "cell_type": "code",
   "execution_count": 23,
   "metadata": {},
   "outputs": [],
   "source": [
    "!rm test.yaml"
   ]
  },
  {
   "cell_type": "code",
   "execution_count": null,
   "metadata": {},
   "outputs": [],
   "source": []
  }
 ],
 "metadata": {
  "kernelspec": {
   "display_name": "Python 3",
   "language": "python",
   "name": "python3"
  },
  "language_info": {
   "codemirror_mode": {
    "name": "ipython",
    "version": 3
   },
   "file_extension": ".py",
   "mimetype": "text/x-python",
   "name": "python",
   "nbconvert_exporter": "python",
   "pygments_lexer": "ipython3",
   "version": "3.6.7"
  }
 },
 "nbformat": 4,
 "nbformat_minor": 4
}
