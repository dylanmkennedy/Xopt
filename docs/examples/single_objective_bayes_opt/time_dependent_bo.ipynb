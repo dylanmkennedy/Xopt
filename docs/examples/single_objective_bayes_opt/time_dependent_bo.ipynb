{
 "cells": [
  {
   "cell_type": "markdown",
   "metadata": {
    "collapsed": false,
    "jupyter": {
     "outputs_hidden": false
    }
   },
   "source": [
    "## Time dependent Bayesian Optimization\n",
    "\n",
    "In this example we demonstrate time dependent optimization. In this case we are not\n",
    "only interested in finding an optimum point in input space, but also maintain the\n",
    "ideal point over time."
   ]
  },
  {
   "cell_type": "code",
   "execution_count": null,
   "metadata": {
    "ExecuteTime": {
     "end_time": "2023-09-19T20:39:46.889328100Z",
     "start_time": "2023-09-19T20:39:43.762243Z"
    },
    "execution": {
     "iopub.execute_input": "2024-09-13T15:55:15.936192Z",
     "iopub.status.busy": "2024-09-13T15:55:15.935968Z",
     "iopub.status.idle": "2024-09-13T15:55:17.648118Z",
     "shell.execute_reply": "2024-09-13T15:55:17.647731Z"
    }
   },
   "outputs": [],
   "source": [
    "# set values if testing\n",
    "import os\n",
    "from xopt.generators.bayesian.upper_confidence_bound import (\n",
    "    TDUpperConfidenceBoundGenerator,\n",
    ")\n",
    "from xopt.vocs import VOCS\n",
    "from xopt.evaluator import Evaluator\n",
    "\n",
    "from xopt import Xopt\n",
    "\n",
    "import torch\n",
    "from matplotlib import pyplot as plt\n",
    "\n",
    "import time\n",
    "import warnings\n",
    "\n",
    "warnings.filterwarnings(\"ignore\")\n",
    "\n",
    "SMOKE_TEST = os.environ.get(\"SMOKE_TEST\")\n",
    "N_MC_SAMPLES = 1 if SMOKE_TEST else 128\n",
    "NUM_RESTARTS = 1 if SMOKE_TEST else 20"
   ]
  },
  {
   "cell_type": "markdown",
   "metadata": {
    "collapsed": false,
    "jupyter": {
     "outputs_hidden": false
    }
   },
   "source": [
    "### Time dependent test problem\n",
    "Optimization is carried out over a single variable `x`. The test function is a simple\n",
    " quadratic, with a minimum location that drifts in the positive `x` direction over\n",
    " (real) time."
   ]
  },
  {
   "cell_type": "code",
   "execution_count": null,
   "metadata": {
    "ExecuteTime": {
     "end_time": "2023-09-19T20:39:46.948328700Z",
     "start_time": "2023-09-19T20:39:46.891299700Z"
    },
    "execution": {
     "iopub.execute_input": "2024-09-13T15:55:17.650035Z",
     "iopub.status.busy": "2024-09-13T15:55:17.649856Z",
     "iopub.status.idle": "2024-09-13T15:55:17.659060Z",
     "shell.execute_reply": "2024-09-13T15:55:17.658810Z"
    }
   },
   "outputs": [],
   "source": [
    "# test evaluate function and vocs\n",
    "start_time = time.time()\n",
    "\n",
    "\n",
    "def f(inputs):\n",
    "    x_ = inputs[\"x\"]\n",
    "    current_time = time.time()\n",
    "    t_ = current_time - start_time\n",
    "    y_ = 5 * (x_ - t_ * 1e-2) ** 2\n",
    "    return {\"y\": y_, \"time\": current_time}\n",
    "\n",
    "\n",
    "variables = {\"x\": [-1, 1]}\n",
    "objectives = {\"y\": \"MINIMIZE\"}\n",
    "\n",
    "vocs = VOCS(variables=variables, objectives=objectives)\n",
    "print(vocs)\n",
    "\n",
    "evaluator = Evaluator(function=f)\n",
    "generator = TDUpperConfidenceBoundGenerator(vocs=vocs)\n",
    "generator.added_time = 1.0\n",
    "generator.beta = 2.0\n",
    "generator.n_monte_carlo_samples = N_MC_SAMPLES\n",
    "generator.numerical_optimizer.n_restarts = NUM_RESTARTS\n",
    "\n",
    "X = Xopt(evaluator=evaluator, generator=generator, vocs=vocs)\n",
    "X"
   ]
  },
  {
   "cell_type": "code",
   "execution_count": null,
   "metadata": {
    "ExecuteTime": {
     "end_time": "2023-09-19T20:39:53.521345600Z",
     "start_time": "2023-09-19T20:39:46.922297700Z"
    },
    "execution": {
     "iopub.execute_input": "2024-09-13T15:55:17.679779Z",
     "iopub.status.busy": "2024-09-13T15:55:17.679658Z",
     "iopub.status.idle": "2024-09-13T15:55:40.915698Z",
     "shell.execute_reply": "2024-09-13T15:55:40.914547Z"
    }
   },
   "outputs": [],
   "source": [
    "X.random_evaluate(1)\n",
    "\n",
    "for _ in range(20):\n",
    "    # note that in this example we can ignore warnings if computation time is greater\n",
    "    # than added time\n",
    "    with warnings.catch_warnings():\n",
    "        warnings.filterwarnings(\"ignore\", category=RuntimeWarning)\n",
    "        X.step()\n",
    "        time.sleep(0.1)\n",
    "\n",
    "print(X.generator.generate(1))"
   ]
  },
  {
   "cell_type": "code",
   "execution_count": null,
   "metadata": {
    "ExecuteTime": {
     "end_time": "2023-09-19T20:39:53.564407600Z",
     "start_time": "2023-09-19T20:39:53.522344500Z"
    },
    "execution": {
     "iopub.execute_input": "2024-09-13T15:55:40.920087Z",
     "iopub.status.busy": "2024-09-13T15:55:40.919502Z",
     "iopub.status.idle": "2024-09-13T15:55:40.932446Z",
     "shell.execute_reply": "2024-09-13T15:55:40.932014Z"
    }
   },
   "outputs": [],
   "source": [
    "X.data"
   ]
  },
  {
   "cell_type": "code",
   "execution_count": null,
   "metadata": {
    "ExecuteTime": {
     "end_time": "2023-09-19T20:39:55.700392Z",
     "start_time": "2023-09-19T20:39:53.537383500Z"
    },
    "execution": {
     "iopub.execute_input": "2024-09-13T15:55:40.934767Z",
     "iopub.status.busy": "2024-09-13T15:55:40.934580Z",
     "iopub.status.idle": "2024-09-13T15:55:41.787991Z",
     "shell.execute_reply": "2024-09-13T15:55:41.787705Z"
    }
   },
   "outputs": [],
   "source": [
    "# plot model\n",
    "\n",
    "# plot model predictions\n",
    "\n",
    "data = X.data\n",
    "\n",
    "xbounds = generator.vocs.bounds\n",
    "tbounds = [data[\"time\"].min(), data[\"time\"].max()]\n",
    "\n",
    "\n",
    "def gt(inpts):\n",
    "    return 5 * (inpts[:, 1] - (inpts[:, 0] - start_time) * 1e-2) ** 2\n",
    "\n",
    "\n",
    "model = X.generator.model\n",
    "n = 200\n",
    "t = torch.linspace(*tbounds, n, dtype=torch.double)\n",
    "x = torch.linspace(*xbounds.flatten(), n, dtype=torch.double)\n",
    "tt, xx = torch.meshgrid(t, x)\n",
    "pts = torch.hstack([ele.reshape(-1, 1) for ele in (tt, xx)]).double()\n",
    "\n",
    "tt, xx = tt.numpy(), xx.numpy()\n",
    "\n",
    "# NOTE: the model inputs are such that t is the last dimension\n",
    "gp_pts = torch.flip(pts, dims=[-1])\n",
    "\n",
    "gt_vals = gt(pts)\n",
    "\n",
    "with torch.no_grad():\n",
    "    post = model.posterior(gp_pts)\n",
    "\n",
    "    mean = post.mean\n",
    "    std = torch.sqrt(post.variance)\n",
    "\n",
    "    fig, ax = plt.subplots()\n",
    "    ax.set_title(\"model mean\")\n",
    "    ax.set_xlabel(\"unix time\")\n",
    "    ax.set_ylabel(\"x\")\n",
    "    c = ax.pcolor(tt, xx, mean.reshape(n, n))\n",
    "    fig.colorbar(c)\n",
    "\n",
    "    fig2, ax2 = plt.subplots()\n",
    "    ax2.set_title(\"model uncertainty\")\n",
    "    ax2.set_xlabel(\"unix time\")\n",
    "    ax2.set_ylabel(\"x\")\n",
    "    c = ax2.pcolor(tt, xx, std.reshape(n, n))\n",
    "    fig2.colorbar(c)\n",
    "\n",
    "    ax.plot(data[\"time\"].to_numpy(), data[\"x\"].to_numpy(), \"oC1\")\n",
    "    ax2.plot(data[\"time\"].to_numpy(), data[\"x\"].to_numpy(), \"oC1\")\n",
    "\n",
    "    fig3, ax3 = plt.subplots()\n",
    "    ax3.set_title(\"ground truth value\")\n",
    "    ax3.set_xlabel(\"unix time\")\n",
    "    ax3.set_ylabel(\"x\")\n",
    "    c = ax3.pcolor(tt, xx, gt_vals.reshape(n, n))\n",
    "    fig3.colorbar(c)"
   ]
  },
  {
   "cell_type": "code",
   "execution_count": null,
   "metadata": {
    "ExecuteTime": {
     "end_time": "2023-09-19T20:39:55.714394400Z",
     "start_time": "2023-09-19T20:39:55.701395500Z"
    },
    "execution": {
     "iopub.execute_input": "2024-09-13T15:55:41.789510Z",
     "iopub.status.busy": "2024-09-13T15:55:41.789388Z",
     "iopub.status.idle": "2024-09-13T15:55:41.793271Z",
     "shell.execute_reply": "2024-09-13T15:55:41.793028Z"
    }
   },
   "outputs": [],
   "source": [
    "list(model.named_parameters())"
   ]
  },
  {
   "cell_type": "code",
   "execution_count": null,
   "metadata": {
    "ExecuteTime": {
     "end_time": "2023-09-19T20:39:56.432421500Z",
     "start_time": "2023-09-19T20:39:55.716392Z"
    },
    "execution": {
     "iopub.execute_input": "2024-09-13T15:55:41.794609Z",
     "iopub.status.busy": "2024-09-13T15:55:41.794517Z",
     "iopub.status.idle": "2024-09-13T15:55:42.112062Z",
     "shell.execute_reply": "2024-09-13T15:55:42.111804Z"
    }
   },
   "outputs": [],
   "source": [
    "# plot the acquisition function\n",
    "# note that target time is only updated during the generate call\n",
    "target_time = X.generator.target_prediction_time\n",
    "print(target_time - start_time)\n",
    "my_acq_func = X.generator.get_acquisition(model)\n",
    "\n",
    "with torch.no_grad():\n",
    "    acq_pts = x.unsqueeze(-1).unsqueeze(-1)\n",
    "    full_acq = my_acq_func.acq_func(gp_pts.unsqueeze(1))\n",
    "    fixed_acq = my_acq_func(acq_pts)\n",
    "\n",
    "    fig, ax = plt.subplots()\n",
    "    c = ax.pcolor(tt, xx, full_acq.reshape(n, n))\n",
    "    fig.colorbar(c)\n",
    "\n",
    "    fi2, ax2 = plt.subplots()\n",
    "    ax2.plot(x.flatten(), fixed_acq.flatten())"
   ]
  }
 ],
 "metadata": {
  "kernelspec": {
   "display_name": "Python 3 (ipykernel)",
   "language": "python",
   "name": "python3"
  },
  "language_info": {
   "codemirror_mode": {
    "name": "ipython",
    "version": 3
   },
   "file_extension": ".py",
   "mimetype": "text/x-python",
   "name": "python",
   "nbconvert_exporter": "python",
   "pygments_lexer": "ipython3",
   "version": "3.12.6"
  }
 },
 "nbformat": 4,
 "nbformat_minor": 4
}
