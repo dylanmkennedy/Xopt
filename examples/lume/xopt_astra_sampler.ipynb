{
 "cells": [
  {
   "cell_type": "code",
   "execution_count": 1,
   "metadata": {},
   "outputs": [],
   "source": [
    "# Useful for debugging\n",
    "%load_ext autoreload\n",
    "%autoreload 2"
   ]
  },
  {
   "cell_type": "markdown",
   "metadata": {},
   "source": [
    "# Xopt class, Astra kekgun example\n",
    "\n",
    "This is the class method for running Xopt."
   ]
  },
  {
   "cell_type": "code",
   "execution_count": 2,
   "metadata": {},
   "outputs": [],
   "source": [
    "from xopt import Xopt\n",
    "import os"
   ]
  },
  {
   "cell_type": "code",
   "execution_count": 6,
   "metadata": {},
   "outputs": [],
   "source": [
    "# Make a proper input file.\n",
    "YAML=\"\"\"\n",
    "xopt: {output_path: temp}\n",
    "\n",
    "algorithm:\n",
    "  name: random_sampler\n",
    "  options: {chunk_size: 4, max_samples: 10}\n",
    "\n",
    "simulation:\n",
    "  name: astra_with_generator\n",
    "  evaluate: astra.evaluate.evaluate_astra_with_generator\n",
    "  options:\n",
    "    astra_input_file: ../templates/kekgun/kekgun.in\n",
    "    generator_input_file: ../templates/kekgun/dist004.in\n",
    "\n",
    "# Note that you can call another file in the top level group:\n",
    "vocs:\n",
    "    variables:\n",
    "      sig_x: [0.05, 1]\n",
    "      lt: [0.005, 0.07]\n",
    "      maxe(1): [20, 50]\n",
    "      phi(1): [-30, 30]\n",
    "      maxb(1): [0, 0.4]\n",
    "      maxe(2): [0, 32]\n",
    "      phi(2): [-180, 180]\n",
    "      maxb(2): [0, 0.3]\n",
    "      maxe(3): [0, 32]\n",
    "      maxe(4): [0, 32]\n",
    "      phi(3): [-45, 45]\n",
    "      phi(4): [-45, 45]\n",
    "      phi(6): [-45, 45]\n",
    "    constants:\n",
    "      ipart: 1000\n",
    "      lspch: true\n",
    "      zstop: 16.54\n",
    "\n",
    "    objectives:\n",
    "      end_core_emit_95percent_x: MINIMIZE\n",
    "      end_sigma_z: MINIMIZE\n",
    "    constraints:\n",
    "      end_sigma_z: [LESS_THAN, 0.0015]\n",
    "      end_core_emit_95percent_x: [LESS_THAN, 9.0e-07]\n",
    "      end_sigma_energy: [LESS_THAN, 200000.0]\n",
    "      end_higher_order_energy_spread: [LESS_THAN, 5000.0]\n",
    "      end_mean_kinetic_energy: [GREATER_THAN, 90000000.0]\n",
    "      end_n_particle_loss: [LESS_THAN, 1]\n",
    "    linked_variables: null\n",
    "\n",
    "\"\"\""
   ]
  },
  {
   "cell_type": "code",
   "execution_count": 7,
   "metadata": {},
   "outputs": [
    {
     "name": "stdout",
     "output_type": "stream",
     "text": [
      "mkdir: temp: File exists\n"
     ]
    }
   ],
   "source": [
    "!mkdir temp"
   ]
  },
  {
   "cell_type": "code",
   "execution_count": 8,
   "metadata": {},
   "outputs": [
    {
     "name": "stdout",
     "output_type": "stream",
     "text": [
      "Warning: No path set for key simulation : options : archive_path\n",
      "{'variables': {'sig_x': [0.05, 1], 'lt': [0.005, 0.07], 'maxe(1)': [20, 50], 'phi(1)': [-30, 30], 'maxb(1)': [0, 0.4], 'maxe(2)': [0, 32], 'phi(2)': [-180, 180], 'maxb(2)': [0, 0.3], 'maxe(3)': [0, 32], 'maxe(4)': [0, 32], 'phi(3)': [-45, 45], 'phi(4)': [-45, 45], 'phi(6)': [-45, 45]}, 'constants': {'ipart': 1000, 'lspch': True, 'zstop': 16.54}, 'objectives': {'end_core_emit_95percent_x': 'MINIMIZE', 'end_sigma_z': 'MINIMIZE'}, 'constraints': {'end_sigma_z': ['LESS_THAN', 0.0015], 'end_core_emit_95percent_x': ['LESS_THAN', 9e-07], 'end_sigma_energy': ['LESS_THAN', 200000.0], 'end_higher_order_energy_spread': ['LESS_THAN', 5000.0], 'end_mean_kinetic_energy': ['GREATER_THAN', 90000000.0], 'end_n_particle_loss': ['LESS_THAN', 1]}, 'linked_variables': None}\n"
     ]
    },
    {
     "data": {
      "text/plain": [
       "\n",
       "            Xopt \n",
       "________________________________           \n",
       "Version: 0.4.3+178.g392b747.dirty\n",
       "Configured: True\n",
       "Config as YAML:\n",
       "xopt: {output_path: /Users/chrisonian/Code/GitHub/xopt/examples/basic/temp}\n",
       "algorithm:\n",
       "  name: random_sampler\n",
       "  options: {chunk_size: 4, max_samples: 10, verbose: null}\n",
       "  function: xopt.sampler.random_sampler\n",
       "simulation:\n",
       "  name: astra_with_generator\n",
       "  evaluate: astra.evaluate.evaluate_astra_with_generator\n",
       "  options: {astra_input_file: /Users/chrisonian/Code/GitHub/xopt/examples/templates/kekgun/kekgun.in,\n",
       "    generator_input_file: /Users/chrisonian/Code/GitHub/xopt/examples/templates/kekgun/dist004.in,\n",
       "    workdir: null, astra_bin: /Users/chrisonian/Code/astra/bin/Astra, generator_bin: /Users/chrisonian/Code/astra/bin/generator,\n",
       "    timeout: 2500, verbose: false, auto_set_spacecharge_mesh: true, archive_path: null,\n",
       "    merit_f: null}\n",
       "  function: astra.evaluate.evaluate_astra_with_generator\n",
       "vocs:\n",
       "  variables:\n",
       "    sig_x: [0.05, 1]\n",
       "    lt: [0.005, 0.07]\n",
       "    maxe(1): [20, 50]\n",
       "    phi(1): [-30, 30]\n",
       "    maxb(1): [0, 0.4]\n",
       "    maxe(2): [0, 32]\n",
       "    phi(2): [-180, 180]\n",
       "    maxb(2): [0, 0.3]\n",
       "    maxe(3): [0, 32]\n",
       "    maxe(4): [0, 32]\n",
       "    phi(3): [-45, 45]\n",
       "    phi(4): [-45, 45]\n",
       "    phi(6): [-45, 45]\n",
       "  constants: {ipart: 10, lspch: true, zstop: 0.2}\n",
       "  objectives: {end_core_emit_95percent_x: MINIMIZE, end_sigma_z: MINIMIZE}\n",
       "  constraints:\n",
       "    end_sigma_z: [LESS_THAN, 0.0015]\n",
       "    end_core_emit_95percent_x: [LESS_THAN, 9.0e-07]\n",
       "    end_sigma_energy: [LESS_THAN, 200000.0]\n",
       "    end_higher_order_energy_spread: [LESS_THAN, 5000.0]\n",
       "    end_mean_kinetic_energy: [GREATER_THAN, 90000000.0]\n",
       "    end_n_particle_loss: [LESS_THAN, 1]\n",
       "  linked_variables: null"
      ]
     },
     "execution_count": 8,
     "metadata": {},
     "output_type": "execute_result"
    }
   ],
   "source": [
    "# Create object\n",
    "X = Xopt(config=YAML)\n",
    "\n",
    "# Change some things to make it run faster\n",
    "print(X.vocs)\n",
    "X.vocs['constants']['lspch'] = True\n",
    "X.vocs['constants']['ipart'] = 10\n",
    "X.vocs['constants']['zstop'] = 0.2\n",
    "\n",
    "# Show config\n",
    "X"
   ]
  },
  {
   "cell_type": "code",
   "execution_count": 9,
   "metadata": {},
   "outputs": [
    {
     "data": {
      "text/plain": [
       "{'sig_x': 0.8893455159147327,\n",
       " 'lt': 0.06754971748336136,\n",
       " 'maxe(1)': 42.2191864258997,\n",
       " 'phi(1)': -27.926668908339927,\n",
       " 'maxb(1)': 0.1358948967906577,\n",
       " 'maxe(2)': 17.321670020485126,\n",
       " 'phi(2)': -11.315807872000335,\n",
       " 'maxb(2)': 0.2152532217518206,\n",
       " 'maxe(3)': 22.395273364187698,\n",
       " 'maxe(4)': 31.519331805655884,\n",
       " 'phi(3)': -3.951248719419752,\n",
       " 'phi(4)': -10.33971368682036,\n",
       " 'phi(6)': -12.598007972967956,\n",
       " 'ipart': 10,\n",
       " 'lspch': True,\n",
       " 'zstop': 0.2}"
      ]
     },
     "execution_count": 9,
     "metadata": {},
     "output_type": "execute_result"
    }
   ],
   "source": [
    "# Check random inputs \n",
    "X.random_inputs()"
   ]
  },
  {
   "cell_type": "code",
   "execution_count": 10,
   "metadata": {},
   "outputs": [
    {
     "name": "stdout",
     "output_type": "stream",
     "text": [
      "CPU times: user 41.7 ms, sys: 23.9 ms, total: 65.6 ms\n",
      "Wall time: 3.16 s\n"
     ]
    },
    {
     "data": {
      "text/plain": [
       "{'error': False,\n",
       " 'end_mean_z': 0.2,\n",
       " 'end_norm_emit_x': 1.0509e-06,\n",
       " 'end_core_emit_95percent_x': 9.174999999999999e-07,\n",
       " 'end_core_emit_90percent_x': 7.840999999999999e-07,\n",
       " 'end_core_emit_80percent_x': 5.5116e-07,\n",
       " 'end_norm_emit_y': 7.8992e-07,\n",
       " 'end_core_emit_95percent_y': 6.2522e-07,\n",
       " 'end_core_emit_90percent_y': 4.6051999999999994e-07,\n",
       " 'end_core_emit_80percent_y': 3.3512999999999996e-07,\n",
       " 'end_norm_emit_z': 71.797,\n",
       " 'end_core_emit_95percent_z': 6.2813e-05,\n",
       " 'end_core_emit_905percent_z': 5.3828e-05,\n",
       " 'end_core_emit_80percent_z': 4.0588e-05,\n",
       " 'end_mean_t': 7.1471e-10,\n",
       " 'end_mean_x': -8.699900000000001e-05,\n",
       " 'end_sigma_x': 0.0014969,\n",
       " 'end_sigma_xp': 0.0069228,\n",
       " 'end_cov_x__xp': 1.0361691490000001e-05,\n",
       " 'end_mean_y': -0.00012398000000000002,\n",
       " 'end_sigma_y': 0.0011137,\n",
       " 'end_sigma_yp': 0.005131,\n",
       " 'end_cov_y__yp': 5.7132810000000005e-06,\n",
       " 'end_mean_kinetic_energy': 2955800.0,\n",
       " 'end_sigma_z': 0.0047746,\n",
       " 'end_sigma_energy': 26752.0,\n",
       " 'end_cov_z__energy': 105.6427996,\n",
       " 'end_n_particle_loss': 0,\n",
       " 'end_total_charge': 9.000000000000001e-11,\n",
       " 'end_higher_order_energy_spread': 2395.890743794893,\n",
       " 'fingerprint': '0f6bd4731809a4adc8db3ba80d27b03a'}"
      ]
     },
     "execution_count": 10,
     "metadata": {},
     "output_type": "execute_result"
    }
   ],
   "source": [
    "%%time\n",
    "# Do a random evaluate to check that everything will run\n",
    "output = X.random_evaluate()\n",
    "output"
   ]
  },
  {
   "cell_type": "code",
   "execution_count": 11,
   "metadata": {},
   "outputs": [
    {
     "data": {
      "text/plain": [
       "{'chunk_size': 4, 'max_samples': 10, 'verbose': None}"
      ]
     },
     "execution_count": 11,
     "metadata": {},
     "output_type": "execute_result"
    }
   ],
   "source": [
    "# These are the algorithm options\n",
    "X.algorithm['options']"
   ]
  },
  {
   "cell_type": "code",
   "execution_count": 12,
   "metadata": {},
   "outputs": [
    {
     "data": {
      "text/plain": [
       "{'astra_input_file': '/Users/chrisonian/Code/GitHub/xopt/examples/templates/kekgun/kekgun.in',\n",
       " 'generator_input_file': '/Users/chrisonian/Code/GitHub/xopt/examples/templates/kekgun/dist004.in',\n",
       " 'workdir': None,\n",
       " 'astra_bin': '/Users/chrisonian/Code/astra/bin/Astra',\n",
       " 'generator_bin': '/Users/chrisonian/Code/astra/bin/generator',\n",
       " 'timeout': 2500,\n",
       " 'verbose': False,\n",
       " 'auto_set_spacecharge_mesh': True,\n",
       " 'archive_path': None,\n",
       " 'merit_f': None}"
      ]
     },
     "execution_count": 12,
     "metadata": {},
     "output_type": "execute_result"
    }
   ],
   "source": [
    "# These are the options in the evaluate function\n",
    "X.simulation['options']"
   ]
  },
  {
   "cell_type": "markdown",
   "metadata": {},
   "source": [
    "# Run Sampler using processes or threads"
   ]
  },
  {
   "cell_type": "code",
   "execution_count": 13,
   "metadata": {},
   "outputs": [],
   "source": [
    "from concurrent.futures import ProcessPoolExecutor as PoolExecutor\n",
    "#from concurrent.futures import ThreadPoolExecutor as PoolExecutor\n",
    "executor = PoolExecutor()"
   ]
  },
  {
   "cell_type": "code",
   "execution_count": 14,
   "metadata": {},
   "outputs": [],
   "source": [
    "# Show config\n",
    "X.run(executor)"
   ]
  },
  {
   "cell_type": "code",
   "execution_count": 15,
   "metadata": {},
   "outputs": [
    {
     "data": {
      "text/plain": [
       "[False, False, False, False, False, False, False, False, False, False, False]"
      ]
     },
     "execution_count": 15,
     "metadata": {},
     "output_type": "execute_result"
    }
   ],
   "source": [
    "# Check for errors\n",
    "X.results['error']"
   ]
  },
  {
   "cell_type": "markdown",
   "metadata": {},
   "source": [
    "# Write this configuration"
   ]
  },
  {
   "cell_type": "code",
   "execution_count": 16,
   "metadata": {},
   "outputs": [
    {
     "name": "stdout",
     "output_type": "stream",
     "text": [
      "Config written as YAML to test.yaml\n"
     ]
    }
   ],
   "source": [
    "X.save('test.yaml')"
   ]
  },
  {
   "cell_type": "code",
   "execution_count": 17,
   "metadata": {},
   "outputs": [
    {
     "name": "stdout",
     "output_type": "stream",
     "text": [
      "xopt: {output_path: /Users/chrisonian/Code/GitHub/xopt/examples/basic/temp}\n",
      "algorithm:\n",
      "  name: random_sampler\n",
      "  options: {chunk_size: 4, max_samples: 10, verbose: null}\n",
      "  function: xopt.sampler.random_sampler\n",
      "simulation:\n",
      "  name: astra_with_generator\n",
      "  evaluate: astra.evaluate.evaluate_astra_with_generator\n",
      "  options: {astra_input_file: /Users/chrisonian/Code/GitHub/xopt/examples/templates/kekgun/kekgun.in,\n",
      "    generator_input_file: /Users/chrisonian/Code/GitHub/xopt/examples/templates/kekgun/dist004.in,\n",
      "    workdir: null, astra_bin: /Users/chrisonian/Code/astra/bin/Astra, generator_bin: /Users/chrisonian/Code/astra/bin/generator,\n",
      "    timeout: 2500, verbose: false, auto_set_spacecharge_mesh: true, archive_path: null,\n",
      "    merit_f: null}\n",
      "  function: astra.evaluate.evaluate_astra_with_generator\n",
      "vocs:\n",
      "  variables:\n",
      "    sig_x: [0.05, 1]\n",
      "    lt: [0.005, 0.07]\n",
      "    maxe(1): [20, 50]\n",
      "    phi(1): [-30, 30]\n",
      "    maxb(1): [0, 0.4]\n",
      "    maxe(2): [0, 32]\n",
      "    phi(2): [-180, 180]\n",
      "    maxb(2): [0, 0.3]\n",
      "    maxe(3): [0, 32]\n",
      "    maxe(4): [0, 32]\n",
      "    phi(3): [-45, 45]\n",
      "    phi(4): [-45, 45]\n",
      "    phi(6): [-45, 45]\n",
      "  constants: {ipart: 10, lspch: true, zstop: 0.2}\n",
      "  objectives: {end_core_emit_95percent_x: MINIMIZE, end_sigma_z: MINIMIZE}\n",
      "  constraints:\n",
      "    end_sigma_z: [LESS_THAN, 0.0015]\n",
      "    end_core_emit_95percent_x: [LESS_THAN, 9.0e-07]\n",
      "    end_sigma_energy: [LESS_THAN, 200000.0]\n",
      "    end_higher_order_energy_spread: [LESS_THAN, 5000.0]\n",
      "    end_mean_kinetic_energy: [GREATER_THAN, 90000000.0]\n",
      "    end_n_particle_loss: [LESS_THAN, 1]\n",
      "  linked_variables: null\n"
     ]
    }
   ],
   "source": [
    "!cat test.yaml"
   ]
  },
  {
   "cell_type": "markdown",
   "metadata": {},
   "source": [
    "# Run with MPI"
   ]
  },
  {
   "cell_type": "code",
   "execution_count": 20,
   "metadata": {},
   "outputs": [
    {
     "name": "stdout",
     "output_type": "stream",
     "text": [
      "Namespace(input_file='test.yaml', logfile=None, verbose=2)\n",
      "Parallel execution with 4 workers\n",
      "Loading from YAML file: test.yaml\n",
      "Loading config from dict.\n",
      "Loading config from dict.\n",
      "Loading config from dict.\n",
      "Loading config from dict.\n",
      "/Users/chrisonian/Code/GitHub/xopt/xopt/legacy.py:39: UserWarning: `function` keyword no longer allowed in simulation config, moving to `evaluate`\n",
      "  warnings.warn('`function` keyword no longer allowed in simulation config, moving to `evaluate`')\n",
      "Specified both known algorithm `random_sampler` and `function`. Using known algorithm function.\n",
      "Warning: No path set for key simulation : options : archive_path\n",
      "Starting at time 2021-09-27T22:03:23-07:00\n",
      "\n",
      "\n",
      "███████╗ █████╗ ███╗   ███╗██████╗ ██╗     ███████╗██████╗ \n",
      "██╔════╝██╔══██╗████╗ ████║██╔══██╗██║     ██╔════╝██╔══██╗\n",
      "███████╗███████║██╔████╔██║██████╔╝██║     █████╗  ██████╔╝\n",
      "╚════██║██╔══██║██║╚██╔╝██║██╔═══╝ ██║     ██╔══╝  ██╔══██╗\n",
      "███████║██║  ██║██║ ╚═╝ ██║██║     ███████╗███████╗██║  ██║\n",
      "╚══════╝╚═╝  ╚═╝╚═╝     ╚═╝╚═╝     ╚══════╝╚══════╝╚═╝  ╚═╝\n",
      "                                                           \n",
      "\n",
      "Xopt Random Sampler\n",
      "Version 0.4.3+178.g392b747.dirty\n",
      "\n",
      "4 samples completed in 0.18215 minutes\n",
      "Samples written to: /Users/chrisonian/Code/GitHub/xopt/examples/basic/temp/sampler-2021-09-27-6.json\n",
      "4 samples completed in 0.10797 minutes\n",
      "Samples written to: /Users/chrisonian/Code/GitHub/xopt/examples/basic/temp/sampler-2021-09-27-7.json\n"
     ]
    }
   ],
   "source": [
    "!mpirun -n 4 python -m mpi4py.futures -m xopt.mpi.run -vv test.yaml"
   ]
  },
  {
   "cell_type": "markdown",
   "metadata": {},
   "source": [
    "# Dask "
   ]
  },
  {
   "cell_type": "code",
   "execution_count": null,
   "metadata": {},
   "outputs": [],
   "source": [
    "from dask.distributed import Client\n",
    "executor = Client()\n",
    "#executor = Client(processes=True)\n",
    "executor"
   ]
  },
  {
   "cell_type": "code",
   "execution_count": null,
   "metadata": {},
   "outputs": [],
   "source": [
    "# Wait a few seconds for the Dask cluster to start\n",
    "from time import sleep\n",
    "sleep(5)"
   ]
  },
  {
   "cell_type": "code",
   "execution_count": null,
   "metadata": {},
   "outputs": [],
   "source": [
    "# Run some more\n",
    "X.run(executor)\n",
    "executor.close()"
   ]
  },
  {
   "cell_type": "code",
   "execution_count": null,
   "metadata": {},
   "outputs": [],
   "source": [
    "X.results['error']"
   ]
  },
  {
   "cell_type": "markdown",
   "metadata": {},
   "source": [
    "# Load into Pandas"
   ]
  },
  {
   "cell_type": "code",
   "execution_count": null,
   "metadata": {},
   "outputs": [],
   "source": [
    "import pandas as pd\n",
    "from glob import glob\n",
    "import json"
   ]
  },
  {
   "cell_type": "code",
   "execution_count": null,
   "metadata": {},
   "outputs": [],
   "source": [
    "jfiles = glob('temp/*json')\n",
    "jfiles"
   ]
  },
  {
   "cell_type": "code",
   "execution_count": null,
   "metadata": {},
   "outputs": [],
   "source": [
    "# Load a file\n",
    "data = json.load(open(jfiles[0]))\n",
    "\n",
    "data['inputs']\n",
    "data['outputs']\n",
    "data['error']"
   ]
  },
  {
   "cell_type": "code",
   "execution_count": null,
   "metadata": {},
   "outputs": [],
   "source": [
    "inputs = pd.DataFrame(data['inputs'])\n",
    "inputs"
   ]
  },
  {
   "cell_type": "code",
   "execution_count": null,
   "metadata": {},
   "outputs": [],
   "source": [
    "outputs = pd.DataFrame(data['outputs'])\n",
    "outputs"
   ]
  },
  {
   "cell_type": "markdown",
   "metadata": {},
   "source": [
    "# Cleanup"
   ]
  },
  {
   "cell_type": "code",
   "execution_count": null,
   "metadata": {
    "pycharm": {
     "name": "#%%\n"
    }
   },
   "outputs": [],
   "source": [
    "import shutil\n",
    "os.chmod('dask-worker-space/',0o777)\n",
    "shutil.rmtree('dask-worker-space/')\n",
    "os.chmod('test.yaml',0o777)\n",
    "os.remove('test.yaml')"
   ]
  }
 ],
 "metadata": {
  "kernelspec": {
   "display_name": "Python 3 (ipykernel)",
   "language": "python",
   "name": "python3"
  },
  "language_info": {
   "codemirror_mode": {
    "name": "ipython",
    "version": 3
   },
   "file_extension": ".py",
   "mimetype": "text/x-python",
   "name": "python",
   "nbconvert_exporter": "python",
   "pygments_lexer": "ipython3",
   "version": "3.9.7"
  }
 },
 "nbformat": 4,
 "nbformat_minor": 4
}
