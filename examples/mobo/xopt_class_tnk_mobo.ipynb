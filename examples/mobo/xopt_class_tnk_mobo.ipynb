{
 "cells": [
  {
   "cell_type": "code",
   "execution_count": 1,
   "metadata": {},
   "outputs": [],
   "source": [
    "# Useful for debugging\n",
    "%load_ext autoreload\n",
    "%autoreload 2"
   ]
  },
  {
   "cell_type": "markdown",
   "metadata": {},
   "source": [
    "# Xopt class, TNK test function\n",
    "\n",
    "This is the class method for running Xopt.\n",
    "\n",
    "TNK function\n",
    "$n=2$ variables:\n",
    "$x_i \\in [0, \\pi], i=1,2$\n",
    "\n",
    "Objectives:\n",
    "- $f_i(x) = x_i$\n",
    "\n",
    "Constraints:\n",
    "- $g_1(x) = -x_1^2 -x_2^2 + 1 + 0.1 \\cos\\left(16 \\arctan \\frac{x_1}{x_2}\\right) \\le 0$\n",
    "- $g_2(x) = (x_1 - 1/2)^2 + (x_2-1/2)^2 \\le 0.5$"
   ]
  },
  {
   "cell_type": "code",
   "execution_count": 2,
   "metadata": {},
   "outputs": [],
   "source": [
    "# Import the class\n",
    "from xopt import Xopt\n",
    "import matplotlib.pyplot as plt\n",
    "from botorch.utils.multi_objective.pareto import is_non_dominated\n"
   ]
  },
  {
   "cell_type": "markdown",
   "metadata": {},
   "source": [
    "The `Xopt` object can be instantiated from a JSON or YAML file, or a dict, with the proper structure.\n",
    "\n",
    "Here we will make one"
   ]
  },
  {
   "cell_type": "code",
   "execution_count": 3,
   "metadata": {},
   "outputs": [],
   "source": [
    "import yaml\n",
    "# Make a proper input file. \n",
    "YAML=\"\"\"\n",
    "xopt: {output_path: null, verbose: true}\n",
    "\n",
    "algorithm:\n",
    "  name: mobo\n",
    "  options: \n",
    "    ref: [1.4, 1.4]\n",
    "    n_initial_samples: 5\n",
    "    n_steps: 10\n",
    "    verbose: True      \n",
    "    generator_options:\n",
    "        batch_size: 4\n",
    "  \n",
    "simulation: \n",
    "  name: test_TNK\n",
    "  evaluate: xopt.evaluators.test_TNK.evaluate_TNK  \n",
    "  \n",
    "vocs:\n",
    "  name: TNK_test\n",
    "  description: null\n",
    "  simulation: test_TNK\n",
    "  templates: null\n",
    "  variables:\n",
    "    x1: [0, 3.14159]\n",
    "    x2: [0, 3.14159]\n",
    "  objectives: {y1: MINIMIZE, y2: MINIMIZE}\n",
    "  constraints:\n",
    "    c1: [GREATER_THAN, 0]\n",
    "    c2: ['LESS_THAN', 0.5]\n",
    "  linked_variables: {}\n",
    "  constants: {a: dummy_constant}\n",
    "\n",
    "\"\"\"\n",
    "config = yaml.safe_load(YAML)"
   ]
  },
  {
   "cell_type": "code",
   "execution_count": 4,
   "metadata": {},
   "outputs": [
    {
     "name": "stdout",
     "output_type": "stream",
     "text": [
      "Loading config as dict.\n",
      "Warning: No path set for key xopt : output_path\n",
      "Warning: No path set for key algorithm : options : restart_file\n"
     ]
    },
    {
     "data": {
      "text/plain": [
       "\n",
       "            Xopt \n",
       "________________________________           \n",
       "Version: 0.4.3+98.gfc15b12.dirty\n",
       "Configured: True\n",
       "Config as YAML:\n",
       "xopt: {output_path: null, verbose: true, algorithm: cnsga}\n",
       "algorithm:\n",
       "  name: mobo\n",
       "  function: xopt.bayesian.algorithms.mobo\n",
       "  options:\n",
       "    ref: [1.4, 1.4]\n",
       "    n_initial_samples: 5\n",
       "    n_steps: 10\n",
       "    verbose: true\n",
       "    generator_options: {batch_size: 4}\n",
       "    custom_model: null\n",
       "    restart_file: null\n",
       "    initial_x: null\n",
       "simulation:\n",
       "  name: test_TNK\n",
       "  evaluate: xopt.evaluators.test_TNK.evaluate_TNK\n",
       "  options: {extra_option: abc}\n",
       "vocs:\n",
       "  name: TNK_test\n",
       "  description: null\n",
       "  simulation: test_TNK\n",
       "  templates: null\n",
       "  variables:\n",
       "    x1: [0, 3.14159]\n",
       "    x2: [0, 3.14159]\n",
       "  objectives: {y1: MINIMIZE, y2: MINIMIZE}\n",
       "  constraints:\n",
       "    c1: [GREATER_THAN, 0]\n",
       "    c2: [LESS_THAN, 0.5]\n",
       "  linked_variables: {}\n",
       "  constants: {a: dummy_constant}"
      ]
     },
     "execution_count": 4,
     "metadata": {},
     "output_type": "execute_result"
    }
   ],
   "source": [
    "# Optional: Connect the function directly\n",
    "#from xopt.evaluators.test_TNK import evaluate_TNK \n",
    "#config['simulation']['evaluate'] = evaluate_TNK \n",
    "\n",
    "X = Xopt(config)\n",
    "X"
   ]
  },
  {
   "cell_type": "markdown",
   "metadata": {},
   "source": [
    "# Run MOBO\n",
    "\n",
    "MOBO is designed to run in serial or parallel"
   ]
  },
  {
   "cell_type": "code",
   "execution_count": 5,
   "metadata": {},
   "outputs": [],
   "source": [
    "# Pick one of these\n",
    "from concurrent.futures import ThreadPoolExecutor as PoolExecutor\n",
    "#from concurrent.futures import ProcessPoolExecutor as PoolExecutor\n",
    "\n",
    "#executor = PoolExecutor()\n",
    "# This will also work. \n",
    "executor=None"
   ]
  },
  {
   "cell_type": "code",
   "execution_count": 6,
   "metadata": {},
   "outputs": [
    {
     "name": "stdout",
     "output_type": "stream",
     "text": [
      "Starting at time 2021-08-27T10:58:25-05:00\n",
      "started running optimization with generator: <xopt.bayesian.generators.mobo.MOBOGenerator object at 0x000002A99A20DF70>\n",
      "submitting initial candidates at time 2021-08-27T10:58:25-05:00\n",
      "starting optimization loop\n",
      "Model creation time: 0.34 s\n",
      "Candidate generation time: 34.7 s\n",
      "Candidate(s): tensor([[0.4152, 0.9227],\n",
      "        [0.8385, 0.3865],\n",
      "        [0.0000, 0.6286],\n",
      "        [0.6298, 1.2755]], dtype=torch.float64)\n",
      "submitting candidates at time 2021-08-27T10:59:00-05:00\n",
      "Model creation time: 0.746 s\n",
      "Candidate generation time: 23.34 s\n",
      "Candidate(s): tensor([[0.4512, 0.9737],\n",
      "        [1.0316, 0.3825],\n",
      "        [0.0000, 0.0000],\n",
      "        [0.8701, 0.0162]], dtype=torch.float64)\n",
      "submitting candidates at time 2021-08-27T10:59:24-05:00\n",
      "Model creation time: 0.582 s\n",
      "Candidate generation time: 32.49 s\n",
      "Candidate(s): tensor([[1.0628, 0.1672],\n",
      "        [0.2424, 1.0814],\n",
      "        [0.8059, 0.7026],\n",
      "        [1.0523, 0.0940]], dtype=torch.float64)\n",
      "submitting candidates at time 2021-08-27T10:59:58-05:00\n",
      "Model creation time: 0.621 s\n",
      "Candidate generation time: 38.78 s\n",
      "Candidate(s): tensor([[0.0393, 0.9915],\n",
      "        [0.0911, 1.0222],\n",
      "        [0.9350, 0.4849],\n",
      "        [1.0181, 0.0373]], dtype=torch.float64)\n",
      "submitting candidates at time 2021-08-27T11:00:37-05:00\n",
      "Model creation time: 1.193 s\n",
      "Candidate generation time: 31.36 s\n",
      "Candidate(s): tensor([[1.0283, 0.0436],\n",
      "        [0.6403, 0.8572],\n",
      "        [0.0377, 1.0239],\n",
      "        [1.0169, 0.0290]], dtype=torch.float64)\n",
      "submitting candidates at time 2021-08-27T11:01:09-05:00\n",
      "Model creation time: 0.614 s\n",
      "Candidate generation time: 25.83 s\n",
      "Candidate(s): tensor([[1.0352, 0.0485],\n",
      "        [0.7026, 0.7633],\n",
      "        [1.0247, 0.0336],\n",
      "        [0.8559, 0.5886]], dtype=torch.float64)\n",
      "submitting candidates at time 2021-08-27T11:01:36-05:00\n",
      "Model creation time: 1.139 s\n",
      "Candidate generation time: 26.53 s\n",
      "Candidate(s): tensor([[0.0000, 0.2766],\n",
      "        [0.5894, 0.8338],\n",
      "        [0.9802, 0.1892],\n",
      "        [0.3126, 0.4416]], dtype=torch.float64)\n",
      "submitting candidates at time 2021-08-27T11:02:04-05:00\n",
      "Model creation time: 1.052 s\n",
      "Candidate generation time: 28.87 s\n",
      "Candidate(s): tensor([[0.5464, 0.8067],\n",
      "        [0.3234, 0.0000],\n",
      "        [0.0523, 1.0368],\n",
      "        [0.9479, 0.2118]], dtype=torch.float64)\n",
      "submitting candidates at time 2021-08-27T11:02:34-05:00\n",
      "Model creation time: 0.594 s\n",
      "Candidate generation time: 18.19 s\n",
      "Candidate(s): tensor([[0.7961, 0.5697],\n",
      "        [0.1580, 0.9951],\n",
      "        [0.8472, 0.5225],\n",
      "        [0.5834, 0.7796]], dtype=torch.float64)\n",
      "submitting candidates at time 2021-08-27T11:02:52-05:00\n",
      "Model creation time: 0.566 s\n",
      "Candidate generation time: 23.68 s\n",
      "Candidate(s): tensor([[0.4054, 0.9270],\n",
      "        [0.7161, 0.6943],\n",
      "        [0.4820, 0.8872],\n",
      "        [0.8977, 0.4265]], dtype=torch.float64)\n",
      "submitting candidates at time 2021-08-27T11:03:17-05:00\n"
     ]
    }
   ],
   "source": [
    "# Change max generations\n",
    "X.run(executor=executor)"
   ]
  },
  {
   "cell_type": "markdown",
   "metadata": {},
   "source": [
    "# Plot"
   ]
  },
  {
   "cell_type": "code",
   "execution_count": 7,
   "metadata": {},
   "outputs": [
    {
     "data": {
      "image/png": "[encoded data removed]",
      "text/plain": [
       "<Figure size 432x288 with 1 Axes>"
      ]
     },
     "metadata": {
      "needs_background": "light"
     },
     "output_type": "display_data"
    }
   ],
   "source": [
    "fig, ax = plt.subplots()\n",
    "\n",
    "# get results and get valid observations\n",
    "results = X.results\n",
    "train_y = results['objectives']\n",
    "valid_y = train_y[results['feasibility'].flatten()]\n",
    "\n",
    "# plot results\n",
    "ax.plot(train_y[:, 0], train_y[:, 1], '.')\n",
    "ax.set_ylabel('$f_2$')\n",
    "ax.set_xlabel('$f_1$')\n",
    "\n",
    "# highlight Pareto front, ONLY using valid observations (note botorch assumes maximization when determing dominant points)\n",
    "non_dom = is_non_dominated(-valid_y)\n",
    "ax.plot(valid_y[:,0][non_dom],valid_y[:,1][non_dom],'C1o')\n",
    "\n",
    "plt.show()"
   ]
  },
  {
   "cell_type": "code",
   "execution_count": null,
   "metadata": {},
   "outputs": [],
   "source": []
  }
 ],
 "metadata": {
  "kernelspec": {
   "display_name": "xopt",
   "language": "python",
   "name": "xopt"
  },
  "language_info": {
   "codemirror_mode": {
    "name": "ipython",
    "version": 3
   },
   "file_extension": ".py",
   "mimetype": "text/x-python",
   "name": "python",
   "nbconvert_exporter": "python",
   "pygments_lexer": "ipython3",
   "version": "3.9.6"
  }
 },
 "nbformat": 4,
 "nbformat_minor": 4
}
