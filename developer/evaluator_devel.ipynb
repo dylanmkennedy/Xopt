{
 "cells": [
  {
   "cell_type": "markdown",
   "metadata": {},
   "source": [
    "## Init methods"
   ]
  },
  {
   "cell_type": "code",
   "execution_count": 1,
   "metadata": {},
   "outputs": [],
   "source": [
    "from pydantic import BaseModel, BaseSettings, root_validator, validator\n",
    "\n",
    "class Config(BaseSettings):\n",
    "    option1: str\n",
    "    option2: int\n",
    "\n",
    "\n",
    "class Evaluator(BaseModel):\n",
    "\n",
    "    config: Config\n",
    "\n",
    "    @root_validator(pre=True)\n",
    "    def validate_config(cls, values):\n",
    "\n",
    "        # check if config is instance of Config\n",
    "        if values.get(\"config\"):\n",
    "            return values\n",
    "\n",
    "        else: \n",
    "            return {\"config\": Config(**values)}\n",
    "\n",
    "\n",
    "    "
   ]
  },
  {
   "cell_type": "code",
   "execution_count": 2,
   "metadata": {},
   "outputs": [
    {
     "data": {
      "text/plain": [
       "Evaluator(config=Config(option1='hi', option2=3))"
      ]
     },
     "execution_count": 2,
     "metadata": {},
     "output_type": "execute_result"
    }
   ],
   "source": [
    "evaluator = Evaluator(option1=\"hi\", option2=3)\n",
    "evaluator"
   ]
  },
  {
   "cell_type": "code",
   "execution_count": 3,
   "metadata": {},
   "outputs": [
    {
     "data": {
      "text/plain": [
       "Config(option1='hi', option2=3)"
      ]
     },
     "execution_count": 3,
     "metadata": {},
     "output_type": "execute_result"
    }
   ],
   "source": [
    "config = Config(option1=\"hi\", option2=3)\n",
    "config"
   ]
  },
  {
   "cell_type": "code",
   "execution_count": 4,
   "metadata": {},
   "outputs": [
    {
     "data": {
      "text/plain": [
       "Evaluator(config=Config(option1='hi', option2=3))"
      ]
     },
     "execution_count": 4,
     "metadata": {},
     "output_type": "execute_result"
    }
   ],
   "source": [
    "evaluator_from_config = Evaluator(config=config)\n",
    "evaluator_from_config"
   ]
  },
  {
   "cell_type": "markdown",
   "metadata": {},
   "source": [
    "# JSON encoding and decoding callable functions"
   ]
  },
  {
   "cell_type": "code",
   "execution_count": 5,
   "metadata": {},
   "outputs": [],
   "source": [
    "import json\n",
    "from typing import Callable\n",
    "from types import FunctionType, MethodType\n",
    "\n",
    "from pydantic import Extra\n",
    "\n",
    "from xopt.utils import get_function "
   ]
  },
  {
   "cell_type": "code",
   "execution_count": 6,
   "metadata": {},
   "outputs": [],
   "source": [
    "JSON_ENCODERS = {\n",
    "    FunctionType: lambda x: f\"{x.__module__}.{x.__qualname__}\",\n",
    "    Callable: lambda x: f\"{x.__module__}.{type(x).__qualname__}\",\n",
    "}\n",
    "\n",
    "from typing import Any, Callable, Dict, Generic, Iterable, Optional, TypeVar, Tuple\n",
    "ObjType = TypeVar(\"ObjType\")\n",
    "JSON_ENCODERS = {\n",
    "    # function/method type distinguished for class members and not recognized as callables\n",
    "    FunctionType: lambda x: f\"{x.__module__}.{x.__qualname__}\",\n",
    "    MethodType: lambda x: f\"{x.__module__}.{x.__qualname__}\",\n",
    "    Callable: lambda x: f\"{x.__module__}.{type(x).__qualname__}\",\n",
    "    type: lambda x: f\"{x.__module__}.{x.__name__}\",\n",
    "    # for encoding instances of the ObjType}\n",
    "    ObjType: lambda x: f\"{x.__module__}.{x.__class__.__qualname__}\",\n",
    "}\n"
   ]
  },
  {
   "cell_type": "code",
   "execution_count": 7,
   "metadata": {},
   "outputs": [],
   "source": [
    "\n",
    "class CallableModel(BaseModel):\n",
    "    callable: Callable\n",
    "\n",
    "    class Config:\n",
    "        arbitrary_types_allowed = True\n",
    "        json_encoders = JSON_ENCODERS\n",
    "        extra = 'forbid'\n",
    "\n",
    "    @root_validator(pre=True)\n",
    "    def validate_all(cls, values):\n",
    "\n",
    "        callable = values.pop(\"callable\")\n",
    "        if not isinstance(\n",
    "            callable,\n",
    "            (\n",
    "                str,\n",
    "                Callable,\n",
    "            ),\n",
    "        ):\n",
    "            raise ValueError(\n",
    "                \"Callable must be object or a string. Provided %s\", type(callable)\n",
    "            )\n",
    "\n",
    "        values[\"callable\"] = get_function(callable)\n",
    "\n",
    "\n",
    "\n",
    "        return values"
   ]
  },
  {
   "cell_type": "code",
   "execution_count": 8,
   "metadata": {},
   "outputs": [],
   "source": [
    "def f(x):\n",
    "    return 2*x"
   ]
  },
  {
   "cell_type": "code",
   "execution_count": 9,
   "metadata": {},
   "outputs": [
    {
     "data": {
      "text/plain": [
       "6"
      ]
     },
     "execution_count": 9,
     "metadata": {},
     "output_type": "execute_result"
    }
   ],
   "source": [
    "m = CallableModel(callable=f)\n",
    "m.callable(3)"
   ]
  },
  {
   "cell_type": "code",
   "execution_count": 10,
   "metadata": {},
   "outputs": [
    {
     "data": {
      "text/plain": [
       "'{\"callable\": \"__main__.f\"}'"
      ]
     },
     "execution_count": 10,
     "metadata": {},
     "output_type": "execute_result"
    }
   ],
   "source": [
    "m.json()"
   ]
  },
  {
   "cell_type": "code",
   "execution_count": 11,
   "metadata": {},
   "outputs": [
    {
     "data": {
      "text/plain": [
       "690"
      ]
     },
     "execution_count": 11,
     "metadata": {},
     "output_type": "execute_result"
    }
   ],
   "source": [
    "m2 = CallableModel(**json.loads(m.json()))\n",
    "m2.callable(345)"
   ]
  },
  {
   "cell_type": "code",
   "execution_count": 12,
   "metadata": {},
   "outputs": [
    {
     "data": {
      "text/plain": [
       "True"
      ]
     },
     "execution_count": 12,
     "metadata": {},
     "output_type": "execute_result"
    }
   ],
   "source": [
    "def f():\n",
    "    pass\n",
    "\n",
    "# or this\n",
    "f = lambda x: 2*x\n",
    "\n",
    "type(f) is FunctionType"
   ]
  },
  {
   "cell_type": "markdown",
   "metadata": {},
   "source": [
    "# Evaluator"
   ]
  },
  {
   "cell_type": "code",
   "execution_count": 17,
   "metadata": {},
   "outputs": [],
   "source": [
    "import json\n",
    "from typing import Callable\n",
    "from types import FunctionType, MethodType\n",
    "\n",
    "from pydantic import Extra, Field\n",
    "\n",
    "from xopt.pydantic import NormalExecutor\n",
    "from xopt.utils import get_function, get_function_defaults"
   ]
  },
  {
   "cell_type": "code",
   "execution_count": 21,
   "metadata": {},
   "outputs": [
    {
     "data": {
      "text/plain": [
       "'{\"function\": \"__main__.g\", \"max_workers\": 2, \"function_kwargs\": {\"b\": 3}}'"
      ]
     },
     "execution_count": 21,
     "metadata": {},
     "output_type": "execute_result"
    }
   ],
   "source": [
    "from concurrent.futures import ProcessPoolExecutor\n",
    "from xopt.evaluator import DummyExecutor\n",
    "\n",
    "JSON_ENCODERS = {\n",
    "    FunctionType: lambda x: f\"{x.__module__}.{x.__qualname__}\",\n",
    "    Callable: lambda x: f\"{x.__module__}.{type(x).__qualname__}\",\n",
    "}\n",
    "\n",
    "class Evaluator(BaseModel):\n",
    "    function: Callable\n",
    "    max_workers: int = 1\n",
    "    executor: NormalExecutor = Field(exclude=True)\n",
    "    function_kwargs: dict = {}\n",
    "    \n",
    "\n",
    "    class Config:\n",
    "        arbitrary_types_allowed = True\n",
    "        # validate_assignment = True # Broken in 1.9.0. Trying to fix in https://github.com/samuelcolvin/pydantic/pull/4194\n",
    "        json_encoders = JSON_ENCODERS\n",
    "        extra = 'forbid'\n",
    "\n",
    "    @root_validator(pre=True)\n",
    "    def validate_all(cls, values):\n",
    "   \n",
    "        f = get_function(values[\"function\"])\n",
    "        kwargs = values.get(\"function_kwargs\", {})\n",
    "        kwargs = {**get_function_defaults(f), **kwargs}\n",
    "        values[\"function\"] = f\n",
    "        values[\"function_kwargs\"] = kwargs\n",
    "\n",
    "        max_workers = values.pop(\"max_workers\", 1)\n",
    "\n",
    "        executor = values.pop(\"executor\", None)\n",
    "        if not executor:\n",
    "            if max_workers > 1:\n",
    "                executor = ProcessPoolExecutor(max_workers=max_workers)\n",
    "            else: \n",
    "                executor = DummyExecutor()\n",
    "\n",
    "        # Cast as a NormalExecutor\n",
    "        values[\"executor\"] =  NormalExecutor[type(executor)](executor=executor)\n",
    "        values[\"max_workers\"] = max_workers\n",
    "        \n",
    "        return values    \n",
    "\n",
    "\n",
    "\n",
    "def g(a, b=2):\n",
    "    return a*b\n",
    "\n",
    "ev = Evaluator(function=g, function_kwargs={'b':3}, max_workers=2, executor=None)\n",
    "ev.executor = None\n",
    "ev.json()"
   ]
  },
  {
   "cell_type": "code",
   "execution_count": 279,
   "metadata": {},
   "outputs": [
    {
     "name": "stdout",
     "output_type": "stream",
     "text": [
      "root validator {'function': <function g at 0x15bb2a4c0>, 'function_kwargs': {'b': 3}, 'max_workers': 2, 'executor': None}\n",
      "done loader=ObjLoader[ProcessPoolExecutor](object=None, loader=CallableModel(callable=<class 'concurrent.futures.process.ProcessPoolExecutor'>, kwargs=Kwargs_ProcessPoolExecutor(max_workers=None, mp_context=None, initializer=None, initargs=None)), object_type=<class 'concurrent.futures.process.ProcessPoolExecutor'>) executor_type=<class 'concurrent.futures.process.ProcessPoolExecutor'> submit_callable='submit' map_callable='map' shutdown_callable='shutdown' executor=<concurrent.futures.process.ProcessPoolExecutor object at 0x15bb277c0>\n",
      "root validator {'function': <function g at 0x15bb2a4c0>, 'max_workers': 2, 'executor': None, 'function_kwargs': {'b': 3}}\n",
      "done loader=ObjLoader[ProcessPoolExecutor](object=None, loader=CallableModel(callable=<class 'concurrent.futures.process.ProcessPoolExecutor'>, kwargs=Kwargs_ProcessPoolExecutor(max_workers=None, mp_context=None, initializer=None, initargs=None)), object_type=<class 'concurrent.futures.process.ProcessPoolExecutor'>) executor_type=<class 'concurrent.futures.process.ProcessPoolExecutor'> submit_callable='submit' map_callable='map' shutdown_callable='shutdown' executor=<concurrent.futures.process.ProcessPoolExecutor object at 0x15b8e4eb0>\n"
     ]
    },
    {
     "ename": "ValidationError",
     "evalue": "1 validation error for Evaluator\nexecutor\n  none is not an allowed value (type=type_error.none.not_allowed)",
     "output_type": "error",
     "traceback": [
      "\u001b[0;31m---------------------------------------------------------------------------\u001b[0m",
      "\u001b[0;31mValidationError\u001b[0m                           Traceback (most recent call last)",
      "\u001b[1;32m/Users/chrisonian/Code/GitHub/Xopt/developer/evaluator_devel.ipynb Cell 18'\u001b[0m in \u001b[0;36m<cell line: 5>\u001b[0;34m()\u001b[0m\n\u001b[1;32m      <a href='vscode-notebook-cell:/Users/chrisonian/Code/GitHub/Xopt/developer/evaluator_devel.ipynb#ch0000018?line=1'>2</a>\u001b[0m     \u001b[39mreturn\u001b[39;00m a\u001b[39m*\u001b[39mb\n\u001b[1;32m      <a href='vscode-notebook-cell:/Users/chrisonian/Code/GitHub/Xopt/developer/evaluator_devel.ipynb#ch0000018?line=3'>4</a>\u001b[0m ev \u001b[39m=\u001b[39m Evaluator(function\u001b[39m=\u001b[39mg, function_kwargs\u001b[39m=\u001b[39m{\u001b[39m'\u001b[39m\u001b[39mb\u001b[39m\u001b[39m'\u001b[39m:\u001b[39m3\u001b[39m}, max_workers\u001b[39m=\u001b[39m\u001b[39m2\u001b[39m, executor\u001b[39m=\u001b[39m\u001b[39mNone\u001b[39;00m)\n\u001b[0;32m----> <a href='vscode-notebook-cell:/Users/chrisonian/Code/GitHub/Xopt/developer/evaluator_devel.ipynb#ch0000018?line=4'>5</a>\u001b[0m ev\u001b[39m.\u001b[39mexecutor \u001b[39m=\u001b[39m \u001b[39mNone\u001b[39;00m\n\u001b[1;32m      <a href='vscode-notebook-cell:/Users/chrisonian/Code/GitHub/Xopt/developer/evaluator_devel.ipynb#ch0000018?line=5'>6</a>\u001b[0m ev\n",
      "File \u001b[0;32m~/Code/mambaforge/envs/xopt-dev/lib/python3.9/site-packages/pydantic/main.py:370\u001b[0m, in \u001b[0;36mpydantic.main.BaseModel.__setattr__\u001b[0;34m()\u001b[0m\n",
      "\u001b[0;31mValidationError\u001b[0m: 1 validation error for Evaluator\nexecutor\n  none is not an allowed value (type=type_error.none.not_allowed)"
     ]
    }
   ],
   "source": []
  },
  {
   "cell_type": "code",
   "execution_count": 240,
   "metadata": {},
   "outputs": [
    {
     "data": {
      "text/plain": [
       "NormalExecutor[ProcessPoolExecutor](loader=ObjLoader[ProcessPoolExecutor](object=None, loader=CallableModel(callable=<class 'concurrent.futures.process.ProcessPoolExecutor'>, kwargs=Kwargs_ProcessPoolExecutor(max_workers=None, mp_context=None, initializer=None, initargs=None)), object_type=<class 'concurrent.futures.process.ProcessPoolExecutor'>), executor_type=<class 'concurrent.futures.process.ProcessPoolExecutor'>, submit_callable='submit', map_callable='map', shutdown_callable='shutdown', executor=<concurrent.futures.process.ProcessPoolExecutor object at 0x15b853b50>)"
      ]
     },
     "execution_count": 240,
     "metadata": {},
     "output_type": "execute_result"
    }
   ],
   "source": [
    "ev.executor "
   ]
  },
  {
   "cell_type": "code",
   "execution_count": 228,
   "metadata": {},
   "outputs": [
    {
     "name": "stdout",
     "output_type": "stream",
     "text": [
      "root validator {'function': <function g at 0x15b8c85e0>, 'max_workers': 1, 'executor': NormalExecutor[ProcessPoolExecutor](loader=ObjLoader[ProcessPoolExecutor](object=None, loader=CallableModel(callable=<class 'concurrent.futures.process.ProcessPoolExecutor'>, kwargs=Kwargs_ProcessPoolExecutor(max_workers=None, mp_context=None, initializer=None, initargs=None)), object_type=<class 'concurrent.futures.process.ProcessPoolExecutor'>), executor_type=<class 'concurrent.futures.process.ProcessPoolExecutor'>, submit_callable='submit', map_callable='map', shutdown_callable='shutdown', executor=<concurrent.futures.process.ProcessPoolExecutor object at 0x15b8e43d0>), 'function_kwargs': {'b': 3}}\n",
      "root validator {'function': <function g at 0x15b8c85e0>, 'function_kwargs': {'b': 3}, 'executor': None, 'max_workers': 1}\n"
     ]
    },
    {
     "ename": "ValidationError",
     "evalue": "1 validation error for Evaluator\nexecutor\n  none is not an allowed value (type=type_error.none.not_allowed)",
     "output_type": "error",
     "traceback": [
      "\u001b[0;31m---------------------------------------------------------------------------\u001b[0m",
      "\u001b[0;31mValidationError\u001b[0m                           Traceback (most recent call last)",
      "\u001b[1;32m/Users/chrisonian/Code/GitHub/Xopt/developer/evaluator_devel.ipynb Cell 19'\u001b[0m in \u001b[0;36m<cell line: 2>\u001b[0;34m()\u001b[0m\n\u001b[1;32m      <a href='vscode-notebook-cell:/Users/chrisonian/Code/GitHub/Xopt/developer/evaluator_devel.ipynb#ch0000019?line=0'>1</a>\u001b[0m ev\u001b[39m.\u001b[39mmax_workers \u001b[39m=\u001b[39m \u001b[39m1\u001b[39m\n\u001b[0;32m----> <a href='vscode-notebook-cell:/Users/chrisonian/Code/GitHub/Xopt/developer/evaluator_devel.ipynb#ch0000019?line=1'>2</a>\u001b[0m ev\u001b[39m.\u001b[39mexecutor\u001b[39m=\u001b[39m\u001b[39mNone\u001b[39;00m\n",
      "File \u001b[0;32m~/Code/mambaforge/envs/xopt-dev/lib/python3.9/site-packages/pydantic/main.py:370\u001b[0m, in \u001b[0;36mpydantic.main.BaseModel.__setattr__\u001b[0;34m()\u001b[0m\n",
      "\u001b[0;31mValidationError\u001b[0m: 1 validation error for Evaluator\nexecutor\n  none is not an allowed value (type=type_error.none.not_allowed)"
     ]
    }
   ],
   "source": [
    "ev.max_workers = 1\n",
    "ev.executor=None"
   ]
  },
  {
   "cell_type": "code",
   "execution_count": 17,
   "metadata": {},
   "outputs": [
    {
     "data": {
      "text/plain": [
       "'{\"xfunction\": \"__main__.g\", \"max_workers\": 1, \"function_kwargs\": {\"b\": 3}}'"
      ]
     },
     "execution_count": 17,
     "metadata": {},
     "output_type": "execute_result"
    }
   ],
   "source": [
    "ev.json()"
   ]
  },
  {
   "cell_type": "markdown",
   "metadata": {},
   "source": [
    "# Executors"
   ]
  },
  {
   "cell_type": "code",
   "execution_count": 18,
   "metadata": {},
   "outputs": [],
   "source": [
    "from concurrent.futures import ThreadPoolExecutor"
   ]
  },
  {
   "cell_type": "code",
   "execution_count": 19,
   "metadata": {},
   "outputs": [
    {
     "name": "stdout",
     "output_type": "stream",
     "text": [
      "<class 'concurrent.futures.thread.ThreadPoolExecutor'>\n"
     ]
    }
   ],
   "source": [
    "with ThreadPoolExecutor() as executor:\n",
    "    #print(dir(executor))\n",
    "    print(type(executor))"
   ]
  },
  {
   "cell_type": "code",
   "execution_count": 20,
   "metadata": {},
   "outputs": [],
   "source": [
    "from xopt.pydantic import NormalExecutor"
   ]
  },
  {
   "cell_type": "code",
   "execution_count": 99,
   "metadata": {},
   "outputs": [
    {
     "data": {
      "text/plain": [
       "'{\"loader\": {\"object\": null, \"loader\": {\"callable\": \"concurrent.futures.thread.ThreadPoolExecutor\", \"kwargs\": {\"max_workers\": null, \"initializer\": null, \"initargs\": null, \"thread_name_prefix\": \"\"}}, \"object_type\": \"concurrent.futures.thread.ThreadPoolExecutor\"}, \"submit_callable\": \"submit\", \"map_callable\": \"map\", \"shutdown_callable\": \"shutdown\", \"executor\": \"concurrent.futures.thread.ThreadPoolExecutor\"}'"
      ]
     },
     "execution_count": 99,
     "metadata": {},
     "output_type": "execute_result"
    }
   ],
   "source": [
    "class ExecutorModel(BaseModel):\n",
    "    executor: NormalExecutor\n",
    "\n",
    "    class Config:\n",
    "        arbitrary_types_allowed = True\n",
    "        #json_encoders = {NormalExecutor: 'dummy'}\n",
    "        extra = 'forbid'\n",
    "\n",
    "    @root_validator(pre=True)\n",
    "    def validate_all(cls, values):\n",
    "        executor = values.pop(\"executor\")\n",
    "        values[\"executor\"] =  NormalExecutor[type(executor)](executor=executor)\n",
    "        print(values)\n",
    "        return values\n",
    "\n",
    "executor = ThreadPoolExecutor()\n",
    "ne = NormalExecutor[type(executor)](executor=executor)\n",
    "ne.json()"
   ]
  },
  {
   "cell_type": "code",
   "execution_count": 97,
   "metadata": {},
   "outputs": [
    {
     "data": {
      "text/plain": [
       "concurrent.futures.thread.ThreadPoolExecutor"
      ]
     },
     "execution_count": 97,
     "metadata": {},
     "output_type": "execute_result"
    }
   ],
   "source": [
    "type(executor)"
   ]
  },
  {
   "cell_type": "code",
   "execution_count": 95,
   "metadata": {},
   "outputs": [
    {
     "ename": "ValidationError",
     "evalue": "1 validation error for Evaluator\nexecutor\n  value is not a valid dict (type=type_error.dict)",
     "output_type": "error",
     "traceback": [
      "\u001b[0;31m---------------------------------------------------------------------------\u001b[0m",
      "\u001b[0;31mValidationError\u001b[0m                           Traceback (most recent call last)",
      "\u001b[1;32m/Users/chrisonian/Code/GitHub/Xopt/developer/evaluator_devel.ipynb Cell 26'\u001b[0m in \u001b[0;36m<cell line: 8>\u001b[0;34m()\u001b[0m\n\u001b[1;32m      <a href='vscode-notebook-cell:/Users/chrisonian/Code/GitHub/Xopt/developer/evaluator_devel.ipynb#ch0000032?line=4'>5</a>\u001b[0m     executor: BaseExecutor \u001b[39m=\u001b[39m Field(exclude\u001b[39m=\u001b[39m\u001b[39mTrue\u001b[39;00m)\n\u001b[1;32m      <a href='vscode-notebook-cell:/Users/chrisonian/Code/GitHub/Xopt/developer/evaluator_devel.ipynb#ch0000032?line=6'>7</a>\u001b[0m executor \u001b[39m=\u001b[39m ThreadPoolExecutor()\n\u001b[0;32m----> <a href='vscode-notebook-cell:/Users/chrisonian/Code/GitHub/Xopt/developer/evaluator_devel.ipynb#ch0000032?line=7'>8</a>\u001b[0m ev \u001b[39m=\u001b[39m Evaluator(executor\u001b[39m=\u001b[39;49mexecutor)\n\u001b[1;32m      <a href='vscode-notebook-cell:/Users/chrisonian/Code/GitHub/Xopt/developer/evaluator_devel.ipynb#ch0000032?line=8'>9</a>\u001b[0m ev\u001b[39m.\u001b[39mjson()\n",
      "File \u001b[0;32m~/Code/mambaforge/envs/xopt-dev/lib/python3.9/site-packages/pydantic/main.py:331\u001b[0m, in \u001b[0;36mpydantic.main.BaseModel.__init__\u001b[0;34m()\u001b[0m\n",
      "\u001b[0;31mValidationError\u001b[0m: 1 validation error for Evaluator\nexecutor\n  value is not a valid dict (type=type_error.dict)"
     ]
    }
   ],
   "source": [
    "from xopt.pydantic import BaseExecutor, ObjType\n",
    "from pydantic import Field\n",
    "\n",
    "class Evaluator(BaseModel):\n",
    "    executor: BaseExecutor = Field(exclude=True)\n",
    "\n",
    "executor = ThreadPoolExecutor()\n",
    "ev = Evaluator(executor=executor)\n",
    "ev.json()\n"
   ]
  },
  {
   "cell_type": "code",
   "execution_count": 92,
   "metadata": {},
   "outputs": [
    {
     "data": {
      "text/plain": [
       "<bound method NormalExecutor.submit of NormalExecutor[ThreadPoolExecutor](loader=ObjLoader[ThreadPoolExecutor](object=None, loader=CallableModel(callable=<class 'concurrent.futures.thread.ThreadPoolExecutor'>, kwargs=Kwargs_ThreadPoolExecutor(max_workers=None, initializer=None, initargs=None, thread_name_prefix='')), object_type=<class 'concurrent.futures.thread.ThreadPoolExecutor'>), executor_type=<class 'concurrent.futures.thread.ThreadPoolExecutor'>, submit_callable='submit', map_callable='map', shutdown_callable='shutdown', executor=<concurrent.futures.thread.ThreadPoolExecutor object at 0x15b3fe280>)>"
      ]
     },
     "execution_count": 92,
     "metadata": {},
     "output_type": "execute_result"
    }
   ],
   "source": [
    "from xopt.pydantic import BaseExecutor, ObjType\n",
    "from pydantic import Field\n",
    "\n",
    "class Evaluator(BaseModel):\n",
    "    executor: BaseExecutor = Field(exclude=True)\n",
    "\n",
    "    @root_validator(pre=True)\n",
    "    def validate_all(cls, values):\n",
    "        print(values)\n",
    "        if values.get(\"executor\"):\n",
    "            executor_val = values.get(\"executor\")\n",
    "            print('here 1')\n",
    "            if isinstance(executor_val, (BaseExecutor,)):\n",
    "                print('here 2')\n",
    "                pass\n",
    "\n",
    "            elif isinstance(executor_val, (str,)):\n",
    "                print('here 3')\n",
    "                #executor_type = get_executor_type(executor_val)\n",
    "\n",
    "                # prob would have to handle instantiation values\n",
    "                #values[\"executor\"] = executor_type()\n",
    "\n",
    "            elif isinstance(executor_val, (type,)):\n",
    "                # also handle args, kwargs...\n",
    "                print('here 4')\n",
    "                values[\"executor\"] = BaseExecutor(executor=executor_val)\n",
    "            else:\n",
    "                print('here 5')\n",
    "                values[\"executor\"] = BaseExecutor(executor=executor_val)\n",
    "        return values\n",
    "\n",
    "executor = ThreadPoolExecutor()       \n",
    "#Evaluator(executor=executor) \n",
    "\n",
    "custom_executor = NormalExecutor[type(executor)](executor=executor)\n",
    "\n",
    "custom_executor.submit\n"
   ]
  },
  {
   "cell_type": "code",
   "execution_count": null,
   "metadata": {},
   "outputs": [],
   "source": []
  },
  {
   "cell_type": "code",
   "execution_count": 39,
   "metadata": {},
   "outputs": [
    {
     "name": "stdout",
     "output_type": "stream",
     "text": [
      "[2, 4, 6]\n"
     ]
    }
   ],
   "source": [
    "def f(x):\n",
    "    return 2*x\n",
    "\n",
    "inputs = [1,2,3]\n",
    "\n",
    "with ThreadPoolExecutor() as executor:\n",
    "    results = list(executor.map(f, inputs))\n",
    "    print(results)"
   ]
  },
  {
   "cell_type": "code",
   "execution_count": 41,
   "metadata": {},
   "outputs": [
    {
     "name": "stdout",
     "output_type": "stream",
     "text": [
      "<concurrent.futures.thread.ThreadPoolExecutor object at 0x1584a5520>\n",
      "loader=ObjLoader[ThreadPoolExecutor](object=None, loader=CallableModel(callable=<class 'concurrent.futures.thread.ThreadPoolExecutor'>, kwargs=Kwargs_ThreadPoolExecutor(max_workers=None, initializer=None, initargs=None, thread_name_prefix='')), object_type=<class 'concurrent.futures.thread.ThreadPoolExecutor'>) executor_type=<class 'concurrent.futures.thread.ThreadPoolExecutor'> submit_callable='submit' map_callable='map' shutdown_callable='shutdown' executor=<concurrent.futures.thread.ThreadPoolExecutor object at 0x1584a5520>\n",
      "[2, 4, 6]\n"
     ]
    },
    {
     "ename": "TypeError",
     "evalue": "Object of type 'type' is not JSON serializable",
     "output_type": "error",
     "traceback": [
      "\u001b[0;31m---------------------------------------------------------------------------\u001b[0m",
      "\u001b[0;31mTypeError\u001b[0m                                 Traceback (most recent call last)",
      "\u001b[1;32m/Users/chrisonian/Code/GitHub/Xopt/developer/evaluator_devel.ipynb Cell 27'\u001b[0m in \u001b[0;36m<cell line: 7>\u001b[0;34m()\u001b[0m\n\u001b[1;32m     <a href='vscode-notebook-cell:/Users/chrisonian/Code/GitHub/Xopt/developer/evaluator_devel.ipynb#ch0000027?line=16'>17</a>\u001b[0m ex\u001b[39m.\u001b[39mexecutor\u001b[39m.\u001b[39mmap(f, inputs)\n\u001b[1;32m     <a href='vscode-notebook-cell:/Users/chrisonian/Code/GitHub/Xopt/developer/evaluator_devel.ipynb#ch0000027?line=18'>19</a>\u001b[0m \u001b[39mprint\u001b[39m(results)\n\u001b[0;32m---> <a href='vscode-notebook-cell:/Users/chrisonian/Code/GitHub/Xopt/developer/evaluator_devel.ipynb#ch0000027?line=20'>21</a>\u001b[0m \u001b[39mprint\u001b[39m(ex\u001b[39m.\u001b[39;49mjson())\n",
      "File \u001b[0;32m~/Code/mambaforge/envs/xopt-dev/lib/python3.9/site-packages/pydantic/main.py:490\u001b[0m, in \u001b[0;36mpydantic.main.BaseModel.json\u001b[0;34m()\u001b[0m\n",
      "File \u001b[0;32m~/Code/mambaforge/envs/xopt-dev/lib/python3.9/json/__init__.py:234\u001b[0m, in \u001b[0;36mdumps\u001b[0;34m(obj, skipkeys, ensure_ascii, check_circular, allow_nan, cls, indent, separators, default, sort_keys, **kw)\u001b[0m\n\u001b[1;32m    <a href='file:///Users/chrisonian/Code/mambaforge/envs/xopt-dev/lib/python3.9/json/__init__.py?line=231'>232</a>\u001b[0m \u001b[39mif\u001b[39;00m \u001b[39mcls\u001b[39m \u001b[39mis\u001b[39;00m \u001b[39mNone\u001b[39;00m:\n\u001b[1;32m    <a href='file:///Users/chrisonian/Code/mambaforge/envs/xopt-dev/lib/python3.9/json/__init__.py?line=232'>233</a>\u001b[0m     \u001b[39mcls\u001b[39m \u001b[39m=\u001b[39m JSONEncoder\n\u001b[0;32m--> <a href='file:///Users/chrisonian/Code/mambaforge/envs/xopt-dev/lib/python3.9/json/__init__.py?line=233'>234</a>\u001b[0m \u001b[39mreturn\u001b[39;00m \u001b[39mcls\u001b[39;49m(\n\u001b[1;32m    <a href='file:///Users/chrisonian/Code/mambaforge/envs/xopt-dev/lib/python3.9/json/__init__.py?line=234'>235</a>\u001b[0m     skipkeys\u001b[39m=\u001b[39;49mskipkeys, ensure_ascii\u001b[39m=\u001b[39;49mensure_ascii,\n\u001b[1;32m    <a href='file:///Users/chrisonian/Code/mambaforge/envs/xopt-dev/lib/python3.9/json/__init__.py?line=235'>236</a>\u001b[0m     check_circular\u001b[39m=\u001b[39;49mcheck_circular, allow_nan\u001b[39m=\u001b[39;49mallow_nan, indent\u001b[39m=\u001b[39;49mindent,\n\u001b[1;32m    <a href='file:///Users/chrisonian/Code/mambaforge/envs/xopt-dev/lib/python3.9/json/__init__.py?line=236'>237</a>\u001b[0m     separators\u001b[39m=\u001b[39;49mseparators, default\u001b[39m=\u001b[39;49mdefault, sort_keys\u001b[39m=\u001b[39;49msort_keys,\n\u001b[1;32m    <a href='file:///Users/chrisonian/Code/mambaforge/envs/xopt-dev/lib/python3.9/json/__init__.py?line=237'>238</a>\u001b[0m     \u001b[39m*\u001b[39;49m\u001b[39m*\u001b[39;49mkw)\u001b[39m.\u001b[39;49mencode(obj)\n",
      "File \u001b[0;32m~/Code/mambaforge/envs/xopt-dev/lib/python3.9/json/encoder.py:199\u001b[0m, in \u001b[0;36mJSONEncoder.encode\u001b[0;34m(self, o)\u001b[0m\n\u001b[1;32m    <a href='file:///Users/chrisonian/Code/mambaforge/envs/xopt-dev/lib/python3.9/json/encoder.py?line=194'>195</a>\u001b[0m         \u001b[39mreturn\u001b[39;00m encode_basestring(o)\n\u001b[1;32m    <a href='file:///Users/chrisonian/Code/mambaforge/envs/xopt-dev/lib/python3.9/json/encoder.py?line=195'>196</a>\u001b[0m \u001b[39m# This doesn't pass the iterator directly to ''.join() because the\u001b[39;00m\n\u001b[1;32m    <a href='file:///Users/chrisonian/Code/mambaforge/envs/xopt-dev/lib/python3.9/json/encoder.py?line=196'>197</a>\u001b[0m \u001b[39m# exceptions aren't as detailed.  The list call should be roughly\u001b[39;00m\n\u001b[1;32m    <a href='file:///Users/chrisonian/Code/mambaforge/envs/xopt-dev/lib/python3.9/json/encoder.py?line=197'>198</a>\u001b[0m \u001b[39m# equivalent to the PySequence_Fast that ''.join() would do.\u001b[39;00m\n\u001b[0;32m--> <a href='file:///Users/chrisonian/Code/mambaforge/envs/xopt-dev/lib/python3.9/json/encoder.py?line=198'>199</a>\u001b[0m chunks \u001b[39m=\u001b[39m \u001b[39mself\u001b[39;49m\u001b[39m.\u001b[39;49miterencode(o, _one_shot\u001b[39m=\u001b[39;49m\u001b[39mTrue\u001b[39;49;00m)\n\u001b[1;32m    <a href='file:///Users/chrisonian/Code/mambaforge/envs/xopt-dev/lib/python3.9/json/encoder.py?line=199'>200</a>\u001b[0m \u001b[39mif\u001b[39;00m \u001b[39mnot\u001b[39;00m \u001b[39misinstance\u001b[39m(chunks, (\u001b[39mlist\u001b[39m, \u001b[39mtuple\u001b[39m)):\n\u001b[1;32m    <a href='file:///Users/chrisonian/Code/mambaforge/envs/xopt-dev/lib/python3.9/json/encoder.py?line=200'>201</a>\u001b[0m     chunks \u001b[39m=\u001b[39m \u001b[39mlist\u001b[39m(chunks)\n",
      "File \u001b[0;32m~/Code/mambaforge/envs/xopt-dev/lib/python3.9/json/encoder.py:257\u001b[0m, in \u001b[0;36mJSONEncoder.iterencode\u001b[0;34m(self, o, _one_shot)\u001b[0m\n\u001b[1;32m    <a href='file:///Users/chrisonian/Code/mambaforge/envs/xopt-dev/lib/python3.9/json/encoder.py?line=251'>252</a>\u001b[0m \u001b[39melse\u001b[39;00m:\n\u001b[1;32m    <a href='file:///Users/chrisonian/Code/mambaforge/envs/xopt-dev/lib/python3.9/json/encoder.py?line=252'>253</a>\u001b[0m     _iterencode \u001b[39m=\u001b[39m _make_iterencode(\n\u001b[1;32m    <a href='file:///Users/chrisonian/Code/mambaforge/envs/xopt-dev/lib/python3.9/json/encoder.py?line=253'>254</a>\u001b[0m         markers, \u001b[39mself\u001b[39m\u001b[39m.\u001b[39mdefault, _encoder, \u001b[39mself\u001b[39m\u001b[39m.\u001b[39mindent, floatstr,\n\u001b[1;32m    <a href='file:///Users/chrisonian/Code/mambaforge/envs/xopt-dev/lib/python3.9/json/encoder.py?line=254'>255</a>\u001b[0m         \u001b[39mself\u001b[39m\u001b[39m.\u001b[39mkey_separator, \u001b[39mself\u001b[39m\u001b[39m.\u001b[39mitem_separator, \u001b[39mself\u001b[39m\u001b[39m.\u001b[39msort_keys,\n\u001b[1;32m    <a href='file:///Users/chrisonian/Code/mambaforge/envs/xopt-dev/lib/python3.9/json/encoder.py?line=255'>256</a>\u001b[0m         \u001b[39mself\u001b[39m\u001b[39m.\u001b[39mskipkeys, _one_shot)\n\u001b[0;32m--> <a href='file:///Users/chrisonian/Code/mambaforge/envs/xopt-dev/lib/python3.9/json/encoder.py?line=256'>257</a>\u001b[0m \u001b[39mreturn\u001b[39;00m _iterencode(o, \u001b[39m0\u001b[39;49m)\n",
      "File \u001b[0;32m~/Code/mambaforge/envs/xopt-dev/lib/python3.9/site-packages/pydantic/json.py:110\u001b[0m, in \u001b[0;36mpydantic.json.custom_pydantic_encoder\u001b[0;34m()\u001b[0m\n",
      "File \u001b[0;32m~/Code/mambaforge/envs/xopt-dev/lib/python3.9/site-packages/pydantic/json.py:97\u001b[0m, in \u001b[0;36mpydantic.json.pydantic_encoder\u001b[0;34m()\u001b[0m\n",
      "\u001b[0;31mTypeError\u001b[0m: Object of type 'type' is not JSON serializable"
     ]
    }
   ],
   "source": [
    "def f(x):\n",
    "    return 2*x\n",
    "\n",
    "inputs = [1,2,3]\n",
    "\n",
    "\n",
    "with ThreadPoolExecutor() as executor:\n",
    "    print(executor)\n",
    "    ex = ExecutorModel(executor=executor)\n",
    "    #print(dir(ex.executor))\n",
    "    #print(ex.json())\n",
    "\n",
    "    print(ex.executor)\n",
    "   \n",
    "    results = list(map(f, inputs))\n",
    "\n",
    "    ex.executor.map(f, inputs)\n",
    "\n",
    "    print(results)\n",
    "\n",
    "    print(ex.json())"
   ]
  },
  {
   "cell_type": "code",
   "execution_count": 24,
   "metadata": {},
   "outputs": [
    {
     "data": {
      "text/plain": [
       "[2, 4, 6, 8]"
      ]
     },
     "execution_count": 24,
     "metadata": {},
     "output_type": "execute_result"
    }
   ],
   "source": [
    "list(map(f,[1, 2, 3, 4]) )"
   ]
  },
  {
   "cell_type": "code",
   "execution_count": 34,
   "metadata": {},
   "outputs": [
    {
     "name": "stdout",
     "output_type": "stream",
     "text": [
      "1 3\n",
      "2 4\n",
      "[None, None]\n"
     ]
    }
   ],
   "source": [
    "def f2(x, y):\n",
    "    print(x, y)\n",
    "\n",
    "with ThreadPoolExecutor(max_workers=1) as executor:\n",
    "    r = list(executor.map(f2, [1,2], [3,4]) )\n",
    "    print(r)"
   ]
  },
  {
   "cell_type": "code",
   "execution_count": 164,
   "metadata": {},
   "outputs": [
    {
     "ename": "ValidationError",
     "evalue": "1 validation error for DemoModel\nsquare_numbers -> 2\n  43 is not a square number (type=assertion_error)",
     "output_type": "error",
     "traceback": [
      "\u001b[0;31m---------------------------------------------------------------------------\u001b[0m",
      "\u001b[0;31mValidationError\u001b[0m                           Traceback (most recent call last)",
      "\u001b[1;32m/Users/chrisonian/Code/GitHub/Xopt/developer/evaluator_devel.ipynb Cell 34'\u001b[0m in \u001b[0;36m<cell line: 34>\u001b[0;34m()\u001b[0m\n\u001b[1;32m     <a href='vscode-notebook-cell:/Users/chrisonian/Code/GitHub/Xopt/developer/evaluator_devel.ipynb#ch0000031?line=30'>31</a>\u001b[0m         \u001b[39massert\u001b[39;00m v \u001b[39m*\u001b[39m\u001b[39m*\u001b[39m (\u001b[39m1\u001b[39m \u001b[39m/\u001b[39m \u001b[39m3\u001b[39m) \u001b[39m%\u001b[39m \u001b[39m1\u001b[39m \u001b[39m==\u001b[39m \u001b[39m0\u001b[39m, \u001b[39mf\u001b[39m\u001b[39m'\u001b[39m\u001b[39m{\u001b[39;00mv\u001b[39m}\u001b[39;00m\u001b[39m is not a cubed number\u001b[39m\u001b[39m'\u001b[39m\n\u001b[1;32m     <a href='vscode-notebook-cell:/Users/chrisonian/Code/GitHub/Xopt/developer/evaluator_devel.ipynb#ch0000031?line=31'>32</a>\u001b[0m         \u001b[39mreturn\u001b[39;00m v\n\u001b[0;32m---> <a href='vscode-notebook-cell:/Users/chrisonian/Code/GitHub/Xopt/developer/evaluator_devel.ipynb#ch0000031?line=33'>34</a>\u001b[0m m \u001b[39m=\u001b[39m DemoModel(square_numbers\u001b[39m=\u001b[39;49m[\u001b[39m1\u001b[39;49m, \u001b[39m4\u001b[39;49m, \u001b[39m43\u001b[39;49m])        \n\u001b[1;32m     <a href='vscode-notebook-cell:/Users/chrisonian/Code/GitHub/Xopt/developer/evaluator_devel.ipynb#ch0000031?line=35'>36</a>\u001b[0m m\u001b[39m.\u001b[39mcube_numbers \u001b[39m=\u001b[39m \u001b[39m43\u001b[39m\n",
      "File \u001b[0;32m~/Code/mambaforge/envs/xopt-dev/lib/python3.9/site-packages/pydantic/main.py:331\u001b[0m, in \u001b[0;36mpydantic.main.BaseModel.__init__\u001b[0;34m()\u001b[0m\n",
      "\u001b[0;31mValidationError\u001b[0m: 1 validation error for DemoModel\nsquare_numbers -> 2\n  43 is not a square number (type=assertion_error)"
     ]
    }
   ],
   "source": [
    "from typing import List\n",
    "from pydantic import BaseModel, ValidationError, validator\n",
    "\n",
    "\n",
    "class DemoModel(BaseModel):\n",
    "    square_numbers: List[int] = []\n",
    "    cube_numbers: List[int] = []\n",
    "\n",
    "    # '*' is the same as 'cube_numbers', 'square_numbers' here:\n",
    "    @validator('*', pre=True)\n",
    "    def split_str(cls, v):\n",
    "        if isinstance(v, str):\n",
    "            return v.split('|')\n",
    "        return v\n",
    "\n",
    "    @validator('cube_numbers', 'square_numbers')\n",
    "    def check_sum(cls, v):\n",
    "        if sum(v) > 42:\n",
    "            raise ValueError('sum of numbers greater than 42')\n",
    "        return v\n",
    "\n",
    "    @validator('square_numbers', each_item=True)\n",
    "    def check_squares(cls, v):\n",
    "        assert v ** 0.5 % 1 == 0, f'{v} is not a square number'\n",
    "        return v\n",
    "\n",
    "    @validator('cube_numbers', each_item=True)\n",
    "    def check_cubes(cls, v):\n",
    "        # 64 ** (1 / 3) == 3.9999999999999996 (!)\n",
    "        # this is not a good way of checking cubes\n",
    "        assert v ** (1 / 3) % 1 == 0, f'{v} is not a cubed number'\n",
    "        return v\n",
    "\n",
    "m = DemoModel(square_numbers=[1, 4, 43])        \n",
    "\n",
    "m.cube_numbers = 43"
   ]
  },
  {
   "cell_type": "code",
   "execution_count": 276,
   "metadata": {},
   "outputs": [
    {
     "name": "stdout",
     "output_type": "stream",
     "text": [
      "root validator {'x': 'b', 'y': 99}\n",
      "x_setter a\n",
      "root validator {'x': <class 'Exception'>, 'y': 99}\n",
      "x_setter <class 'Exception'>\n"
     ]
    },
    {
     "data": {
      "text/plain": [
       "M(x=666, y=99)"
      ]
     },
     "execution_count": 276,
     "metadata": {},
     "output_type": "execute_result"
    }
   ],
   "source": [
    "from pydantic import BaseModel, validator, root_validator\n",
    "\n",
    "class M(BaseModel):\n",
    "    x : int\n",
    "    y: int\n",
    "\n",
    "    class Config:\n",
    "        validate_assignment = True\n",
    "\n",
    "    @root_validator(pre=True)\n",
    "    def xxx(cls, values):\n",
    "        print('root validator', values)\n",
    "        values[\"x\"] = \"a\"\n",
    "        return values\n",
    "\n",
    "    @validator(\"x\", pre=True)\n",
    "    def x_setter(cls, v):\n",
    "        print('x_setter', v)\n",
    "        v = 666\n",
    "        return v\n",
    "\n",
    "\n",
    "m = M(x='b', y=99)\n",
    "m.x = Exception\n",
    "m"
   ]
  },
  {
   "cell_type": "code",
   "execution_count": 214,
   "metadata": {},
   "outputs": [
    {
     "data": {
      "text/plain": [
       "(True, False)"
      ]
     },
     "execution_count": 214,
     "metadata": {},
     "output_type": "execute_result"
    }
   ],
   "source": [
    "import numpy as np \n",
    "\n",
    "#x = np.nan\n",
    "x = np.inf\n",
    "\n",
    "x > 0, x < 0 "
   ]
  },
  {
   "cell_type": "code",
   "execution_count": 216,
   "metadata": {},
   "outputs": [
    {
     "data": {
      "text/plain": [
       "-inf"
      ]
     },
     "execution_count": 216,
     "metadata": {},
     "output_type": "execute_result"
    }
   ],
   "source": [
    "np.inf * -1"
   ]
  },
  {
   "cell_type": "code",
   "execution_count": 1,
   "metadata": {},
   "outputs": [
    {
     "name": "stdout",
     "output_type": "stream",
     "text": [
      "root validator {'x': 3}\n",
      "done {'x': 99}\n",
      "root validator {'x': None}\n",
      "done {'x': 99}\n"
     ]
    },
    {
     "ename": "ValidationError",
     "evalue": "1 validation error for M\nx\n  none is not an allowed value (type=type_error.none.not_allowed)",
     "output_type": "error",
     "traceback": [
      "\u001b[0;31m---------------------------------------------------------------------------\u001b[0m",
      "\u001b[0;31mValidationError\u001b[0m                           Traceback (most recent call last)",
      "\u001b[1;32m/Users/chrisonian/Code/GitHub/Xopt/developer/evaluator_devel.ipynb Cell 39'\u001b[0m in \u001b[0;36m<cell line: 19>\u001b[0;34m()\u001b[0m\n\u001b[1;32m     <a href='vscode-notebook-cell:/Users/chrisonian/Code/GitHub/Xopt/developer/evaluator_devel.ipynb#ch0000039?line=14'>15</a>\u001b[0m         \u001b[39mreturn\u001b[39;00m values    \n\u001b[1;32m     <a href='vscode-notebook-cell:/Users/chrisonian/Code/GitHub/Xopt/developer/evaluator_devel.ipynb#ch0000039?line=17'>18</a>\u001b[0m m \u001b[39m=\u001b[39m M(x\u001b[39m=\u001b[39m\u001b[39m3\u001b[39m)\n\u001b[0;32m---> <a href='vscode-notebook-cell:/Users/chrisonian/Code/GitHub/Xopt/developer/evaluator_devel.ipynb#ch0000039?line=18'>19</a>\u001b[0m m\u001b[39m.\u001b[39mx \u001b[39m=\u001b[39m \u001b[39mNone\u001b[39;00m\n",
      "File \u001b[0;32m~/Code/mambaforge/envs/xopt-dev/lib/python3.9/site-packages/pydantic/main.py:370\u001b[0m, in \u001b[0;36mpydantic.main.BaseModel.__setattr__\u001b[0;34m()\u001b[0m\n",
      "\u001b[0;31mValidationError\u001b[0m: 1 validation error for M\nx\n  none is not an allowed value (type=type_error.none.not_allowed)"
     ]
    }
   ],
   "source": [
    "from pydantic import BaseModel, root_validator\n",
    "\n",
    "class M(BaseModel):\n",
    "\n",
    "    x: int = 1\n",
    "\n",
    "    class Config:\n",
    "        validate_assignment = True\n",
    "\n",
    "    @root_validator(pre=True)\n",
    "    def validate_all(cls, values):\n",
    "        print('root validator', values)\n",
    "        values[\"x\"] = 99  # Always hijack x\n",
    "        print('done', values)\n",
    "        return values    \n",
    "\n",
    "\n",
    "m = M(x=3)\n",
    "m.x = None  # ValidationError: 1 validation error for M"
   ]
  },
  {
   "cell_type": "code",
   "execution_count": 2,
   "metadata": {},
   "outputs": [],
   "source": [
    "import pydantic"
   ]
  },
  {
   "cell_type": "code",
   "execution_count": 3,
   "metadata": {},
   "outputs": [
    {
     "data": {
      "text/plain": [
       "'1.9.0'"
      ]
     },
     "execution_count": 3,
     "metadata": {},
     "output_type": "execute_result"
    }
   ],
   "source": [
    "pydantic.__version__"
   ]
  },
  {
   "cell_type": "code",
   "execution_count": null,
   "metadata": {},
   "outputs": [],
   "source": []
  }
 ],
 "metadata": {
  "interpreter": {
   "hash": "72034539424920dfb606fe3b820b3f27dca0cbf1c69938110810ec4641e275b1"
  },
  "kernelspec": {
   "display_name": "Python 3.9.12 ('xopt-dev')",
   "language": "python",
   "name": "python3"
  },
  "language_info": {
   "codemirror_mode": {
    "name": "ipython",
    "version": 3
   },
   "file_extension": ".py",
   "mimetype": "text/x-python",
   "name": "python",
   "nbconvert_exporter": "python",
   "pygments_lexer": "ipython3",
   "version": "3.9.12"
  },
  "orig_nbformat": 4
 },
 "nbformat": 4,
 "nbformat_minor": 2
}
