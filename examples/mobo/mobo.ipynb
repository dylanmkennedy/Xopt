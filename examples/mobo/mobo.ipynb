{
 "cells": [
  {
   "cell_type": "markdown",
   "metadata": {},
   "source": [
    "# Xopt class, TNK test function\n",
    "\n",
    "This is the class method for running Xopt.\n",
    "\n",
    "TNK function\n",
    "$n=2$ variables:\n",
    "$x_i \\in [0, \\pi], i=1,2$\n",
    "\n",
    "Objectives:\n",
    "- $f_i(x) = x_i$\n",
    "\n",
    "Constraints:\n",
    "- $g_1(x) = -x_1^2 -x_2^2 + 1 + 0.1 \\cos\\left(16 \\arctan \\frac{x_1}{x_2}\\right) \\le 0$\n",
    "- $g_2(x) = (x_1 - 1/2)^2 + (x_2-1/2)^2 \\le 0.5$"
   ]
  },
  {
   "cell_type": "code",
   "execution_count": 1,
   "metadata": {},
   "outputs": [
    {
     "name": "stdout",
     "output_type": "stream",
     "text": [
      "{'tkwargs': {'dtype': torch.float64, 'device': 'cpu'}, 'n_initial': 20, 'optim_kw': {'num_restarts': 5, 'raw_samples': 20, 'sequential': True}, 'acqf_kw': {'objective': WeightedMCMultiOutputObjective(), 'ref_point': None, 'use_data_as_reference': True}, 'model_kw': {'input_transform': Normalize(), 'outcome_transform': Standardize()}}\n"
     ]
    },
    {
     "data": {
      "text/plain": "          x1        x2        y1        y2         c1         c2 some_array  \\\n0   1.179109  2.756835  1.179109  2.756835   7.892113   5.554493  [1, 2, 3]   \n1   2.012852  0.548290  2.012852  0.548290   3.396349   2.291053  [1, 2, 3]   \n2   2.588870  1.656419  2.588870  1.656419   8.540967   5.700684  [1, 2, 3]   \n3   0.637061  1.515167  0.637061  1.515167   1.601940   1.049351  [1, 2, 3]   \n4   2.843219  0.710791  2.843219  0.710791   7.660350   5.535108  [1, 2, 3]   \n5   0.890600  0.016395  0.890600  0.016395  -0.302258   0.386442  [1, 2, 3]   \n6   1.204529  2.365784  1.204529  2.365784   6.016465   3.977512  [1, 2, 3]   \n7   2.853604  3.137297  2.853604  3.137297  16.913004  12.494786  [1, 2, 3]   \n8   1.736417  1.579495  1.736417  1.579495   4.437233   2.694037  [1, 2, 3]   \n9   0.583480  2.173820  0.583480  2.173820   4.115344   2.808644  [1, 2, 3]   \n10  2.527019  1.072487  2.527019  1.072487   6.437014   4.436548  [1, 2, 3]   \n11  0.683866  1.194089  0.683866  1.194089   0.938614   0.515567  [1, 2, 3]   \n12  1.192910  1.116614  1.192910  1.116614   1.583497   0.860337  [1, 2, 3]   \n13  2.707588  0.826163  2.707588  0.826163   7.010966   4.979825  [1, 2, 3]   \n14  1.746356  1.416156  1.746356  1.416156   4.064619   2.392746  [1, 2, 3]   \n15  2.646954  1.086003  2.646954  1.086003   7.085913   4.952812  [1, 2, 3]   \n16  3.073395  2.211399  3.073395  2.211399  13.421054   9.551250  [1, 2, 3]   \n17  0.867831  1.037259  0.867831  1.037259   0.813936   0.423947  [1, 2, 3]   \n18  2.236192  0.818634  2.236192  0.818634   4.592229   3.115891  [1, 2, 3]   \n19  1.393889  1.723438  1.393889  1.723438   3.924579   2.295838  [1, 2, 3]   \n\n    done  \n0   True  \n1   True  \n2   True  \n3   True  \n4   True  \n5   True  \n6   True  \n7   True  \n8   True  \n9   True  \n10  True  \n11  True  \n12  True  \n13  True  \n14  True  \n15  True  \n16  True  \n17  True  \n18  True  \n19  True  ",
      "text/html": "<div>\n<style scoped>\n    .dataframe tbody tr th:only-of-type {\n        vertical-align: middle;\n    }\n\n    .dataframe tbody tr th {\n        vertical-align: top;\n    }\n\n    .dataframe thead th {\n        text-align: right;\n    }\n</style>\n<table border=\"1\" class=\"dataframe\">\n  <thead>\n    <tr style=\"text-align: right;\">\n      <th></th>\n      <th>x1</th>\n      <th>x2</th>\n      <th>y1</th>\n      <th>y2</th>\n      <th>c1</th>\n      <th>c2</th>\n      <th>some_array</th>\n      <th>done</th>\n    </tr>\n  </thead>\n  <tbody>\n    <tr>\n      <th>0</th>\n      <td>1.179109</td>\n      <td>2.756835</td>\n      <td>1.179109</td>\n      <td>2.756835</td>\n      <td>7.892113</td>\n      <td>5.554493</td>\n      <td>[1, 2, 3]</td>\n      <td>True</td>\n    </tr>\n    <tr>\n      <th>1</th>\n      <td>2.012852</td>\n      <td>0.548290</td>\n      <td>2.012852</td>\n      <td>0.548290</td>\n      <td>3.396349</td>\n      <td>2.291053</td>\n      <td>[1, 2, 3]</td>\n      <td>True</td>\n    </tr>\n    <tr>\n      <th>2</th>\n      <td>2.588870</td>\n      <td>1.656419</td>\n      <td>2.588870</td>\n      <td>1.656419</td>\n      <td>8.540967</td>\n      <td>5.700684</td>\n      <td>[1, 2, 3]</td>\n      <td>True</td>\n    </tr>\n    <tr>\n      <th>3</th>\n      <td>0.637061</td>\n      <td>1.515167</td>\n      <td>0.637061</td>\n      <td>1.515167</td>\n      <td>1.601940</td>\n      <td>1.049351</td>\n      <td>[1, 2, 3]</td>\n      <td>True</td>\n    </tr>\n    <tr>\n      <th>4</th>\n      <td>2.843219</td>\n      <td>0.710791</td>\n      <td>2.843219</td>\n      <td>0.710791</td>\n      <td>7.660350</td>\n      <td>5.535108</td>\n      <td>[1, 2, 3]</td>\n      <td>True</td>\n    </tr>\n    <tr>\n      <th>5</th>\n      <td>0.890600</td>\n      <td>0.016395</td>\n      <td>0.890600</td>\n      <td>0.016395</td>\n      <td>-0.302258</td>\n      <td>0.386442</td>\n      <td>[1, 2, 3]</td>\n      <td>True</td>\n    </tr>\n    <tr>\n      <th>6</th>\n      <td>1.204529</td>\n      <td>2.365784</td>\n      <td>1.204529</td>\n      <td>2.365784</td>\n      <td>6.016465</td>\n      <td>3.977512</td>\n      <td>[1, 2, 3]</td>\n      <td>True</td>\n    </tr>\n    <tr>\n      <th>7</th>\n      <td>2.853604</td>\n      <td>3.137297</td>\n      <td>2.853604</td>\n      <td>3.137297</td>\n      <td>16.913004</td>\n      <td>12.494786</td>\n      <td>[1, 2, 3]</td>\n      <td>True</td>\n    </tr>\n    <tr>\n      <th>8</th>\n      <td>1.736417</td>\n      <td>1.579495</td>\n      <td>1.736417</td>\n      <td>1.579495</td>\n      <td>4.437233</td>\n      <td>2.694037</td>\n      <td>[1, 2, 3]</td>\n      <td>True</td>\n    </tr>\n    <tr>\n      <th>9</th>\n      <td>0.583480</td>\n      <td>2.173820</td>\n      <td>0.583480</td>\n      <td>2.173820</td>\n      <td>4.115344</td>\n      <td>2.808644</td>\n      <td>[1, 2, 3]</td>\n      <td>True</td>\n    </tr>\n    <tr>\n      <th>10</th>\n      <td>2.527019</td>\n      <td>1.072487</td>\n      <td>2.527019</td>\n      <td>1.072487</td>\n      <td>6.437014</td>\n      <td>4.436548</td>\n      <td>[1, 2, 3]</td>\n      <td>True</td>\n    </tr>\n    <tr>\n      <th>11</th>\n      <td>0.683866</td>\n      <td>1.194089</td>\n      <td>0.683866</td>\n      <td>1.194089</td>\n      <td>0.938614</td>\n      <td>0.515567</td>\n      <td>[1, 2, 3]</td>\n      <td>True</td>\n    </tr>\n    <tr>\n      <th>12</th>\n      <td>1.192910</td>\n      <td>1.116614</td>\n      <td>1.192910</td>\n      <td>1.116614</td>\n      <td>1.583497</td>\n      <td>0.860337</td>\n      <td>[1, 2, 3]</td>\n      <td>True</td>\n    </tr>\n    <tr>\n      <th>13</th>\n      <td>2.707588</td>\n      <td>0.826163</td>\n      <td>2.707588</td>\n      <td>0.826163</td>\n      <td>7.010966</td>\n      <td>4.979825</td>\n      <td>[1, 2, 3]</td>\n      <td>True</td>\n    </tr>\n    <tr>\n      <th>14</th>\n      <td>1.746356</td>\n      <td>1.416156</td>\n      <td>1.746356</td>\n      <td>1.416156</td>\n      <td>4.064619</td>\n      <td>2.392746</td>\n      <td>[1, 2, 3]</td>\n      <td>True</td>\n    </tr>\n    <tr>\n      <th>15</th>\n      <td>2.646954</td>\n      <td>1.086003</td>\n      <td>2.646954</td>\n      <td>1.086003</td>\n      <td>7.085913</td>\n      <td>4.952812</td>\n      <td>[1, 2, 3]</td>\n      <td>True</td>\n    </tr>\n    <tr>\n      <th>16</th>\n      <td>3.073395</td>\n      <td>2.211399</td>\n      <td>3.073395</td>\n      <td>2.211399</td>\n      <td>13.421054</td>\n      <td>9.551250</td>\n      <td>[1, 2, 3]</td>\n      <td>True</td>\n    </tr>\n    <tr>\n      <th>17</th>\n      <td>0.867831</td>\n      <td>1.037259</td>\n      <td>0.867831</td>\n      <td>1.037259</td>\n      <td>0.813936</td>\n      <td>0.423947</td>\n      <td>[1, 2, 3]</td>\n      <td>True</td>\n    </tr>\n    <tr>\n      <th>18</th>\n      <td>2.236192</td>\n      <td>0.818634</td>\n      <td>2.236192</td>\n      <td>0.818634</td>\n      <td>4.592229</td>\n      <td>3.115891</td>\n      <td>[1, 2, 3]</td>\n      <td>True</td>\n    </tr>\n    <tr>\n      <th>19</th>\n      <td>1.393889</td>\n      <td>1.723438</td>\n      <td>1.393889</td>\n      <td>1.723438</td>\n      <td>3.924579</td>\n      <td>2.295838</td>\n      <td>[1, 2, 3]</td>\n      <td>True</td>\n    </tr>\n  </tbody>\n</table>\n</div>"
     },
     "execution_count": 1,
     "metadata": {},
     "output_type": "execute_result"
    }
   ],
   "source": [
    "import torch\n",
    "from xopt import XoptBase, Evaluator\n",
    "from xopt.generators.bayesian import MOBOGenerator\n",
    "from xopt.resources.test_functions.tnk import evaluate_TNK, vocs\n",
    "\n",
    "evaluator = Evaluator(evaluate_TNK)\n",
    "\n",
    "vocs.constraints = None\n",
    "generator = MOBOGenerator(vocs, n_initial=20)\n",
    "print(generator.options)\n",
    "xopt = XoptBase(generator, evaluator, vocs)\n",
    "xopt.step()\n",
    "\n",
    "xopt.history\n",
    "\n",
    "#for i in range(1):\n",
    "#    print(f'step {i}')\n",
    "#    xopt.step()\n",
    "\n"
   ]
  },
  {
   "cell_type": "code",
   "execution_count": 2,
   "metadata": {
    "pycharm": {
     "name": "#%%\n"
    }
   },
   "outputs": [
    {
     "name": "stderr",
     "output_type": "stream",
     "text": [
      "C:\\ProgramData\\Miniconda3\\envs\\xopt\\lib\\site-packages\\torch\\functional.py:445: UserWarning: torch.meshgrid: in an upcoming release, it will be required to pass the indexing argument. (Triggered internally at  ..\\aten\\src\\ATen\\native\\TensorShape.cpp:2157.)\n",
      "  return _VF.meshgrid(tensors, **kwargs)  # type: ignore[attr-defined]\n"
     ]
    },
    {
     "data": {
      "text/plain": "<Figure size 432x288 with 2 Axes>",
      "image/png": "[encoded data removed]"
     },
     "metadata": {
      "needs_background": "light"
     },
     "output_type": "display_data"
    }
   ],
   "source": [
    "from matplotlib import pyplot as plt# plot model predictions\n",
    "bounds = generator.get_bounds()\n",
    "model = generator.get_model()\n",
    "history = xopt.history\n",
    "\n",
    "n = 100\n",
    "x = torch.linspace(*bounds.T[0],n)\n",
    "y = torch.linspace(*bounds.T[1],n)\n",
    "xx,yy = torch.meshgrid(x,y)\n",
    "pts = torch.hstack([ele.reshape(-1,1) for ele in (xx,yy)]).double()\n",
    "\n",
    "\n",
    "with torch.no_grad():\n",
    "    acq_pts = pts.unsqueeze(1)\n",
    "    acq = generator.get_acquisition(model)(acq_pts)\n",
    "\n",
    "    fig, ax = plt.subplots()\n",
    "    c = ax.pcolor(xx,yy,acq.reshape(n,n))\n",
    "    fig.colorbar(c)\n",
    "    ax.set_title('Acquisition function')\n",
    "\n",
    "    ax.plot(*history[[\"x1\",\"x2\"]].to_numpy().T,'.C1')"
   ]
  },
  {
   "cell_type": "code",
   "execution_count": 3,
   "outputs": [
    {
     "data": {
      "text/plain": "{'tkwargs': {'dtype': torch.float64, 'device': 'cpu'},\n 'n_initial': 20,\n 'optim_kw': {'num_restarts': 5, 'raw_samples': 20, 'sequential': True},\n 'acqf_kw': {'objective': WeightedMCMultiOutputObjective(),\n  'ref_point': [-3.073395289726763, -3.1372971480034364],\n  'use_data_as_reference': True},\n 'model_kw': {'input_transform': Normalize(),\n  'outcome_transform': Standardize()}}"
     },
     "execution_count": 3,
     "metadata": {},
     "output_type": "execute_result"
    }
   ],
   "source": [
    "generator.options\n"
   ],
   "metadata": {
    "collapsed": false,
    "pycharm": {
     "name": "#%%\n"
    }
   }
  },
  {
   "cell_type": "code",
   "execution_count": 3,
   "outputs": [],
   "source": [],
   "metadata": {
    "collapsed": false,
    "pycharm": {
     "name": "#%%\n"
    }
   }
  }
 ],
 "metadata": {
  "kernelspec": {
   "name": "xopt",
   "language": "python",
   "display_name": "xopt"
  },
  "language_info": {
   "codemirror_mode": {
    "name": "ipython",
    "version": 3
   },
   "file_extension": ".py",
   "mimetype": "text/x-python",
   "name": "python",
   "nbconvert_exporter": "python",
   "pygments_lexer": "ipython3",
   "version": "3.9.7"
  }
 },
 "nbformat": 4,
 "nbformat_minor": 4
}