{
 "cells": [
  {
   "cell_type": "markdown",
   "metadata": {
    "pycharm": {
     "name": "#%% md\n"
    }
   },
   "source": [
    "\n",
    "# Multi-objective Bayesian Optimization\n",
    "\n",
    "\n",
    "TNK function\n",
    "$n=2$ variables:\n",
    "$x_i \\in [0, \\pi], i=1,2$\n",
    "\n",
    "Objectives:\n",
    "- $f_i(x) = x_i$\n",
    "\n",
    "Constraints:\n",
    "- $g_1(x) = -x_1^2 -x_2^2 + 1 + 0.1 \\cos\\left(16 \\arctan \\frac{x_1}{x_2}\\right) \\le 0$\n",
    "- $g_2(x) = (x_1 - 1/2)^2 + (x_2-1/2)^2 \\le 0.5$"
   ]
  },
  {
   "cell_type": "code",
   "execution_count": 11,
   "metadata": {
    "collapsed": false,
    "execution": {
     "iopub.execute_input": "2022-07-02T04:14:28.255615Z",
     "iopub.status.busy": "2022-07-02T04:14:28.255391Z",
     "iopub.status.idle": "2022-07-02T04:14:28.913569Z",
     "shell.execute_reply": "2022-07-02T04:14:28.913217Z"
    },
    "pycharm": {
     "name": "#%%\n"
    }
   },
   "outputs": [
    {
     "name": "stderr",
     "output_type": "stream",
     "text": [
      "C:\\Users\\Ryan Roussel\\AppData\\Local\\Temp\\ipykernel_9912\\3568127651.py:13: DeprecationWarning: `copy_on_model_validation` should be a string: 'deep', 'shallow' or 'none'\n",
      "  evaluator = Evaluator(function=evaluate_TNK)\n",
      "C:\\ProgramData\\Miniconda3\\envs\\xopt\\lib\\site-packages\\gpytorch\\utils\\cholesky.py:40: NumericalWarning: A not p.d., added jitter of 1.0e-08 to the diagonal\n",
      "  warnings.warn(\n",
      "C:\\ProgramData\\Miniconda3\\envs\\xopt\\lib\\site-packages\\gpytorch\\utils\\cholesky.py:40: NumericalWarning: A not p.d., added jitter of 1.0e-08 to the diagonal\n",
      "  warnings.warn(\n",
      "C:\\ProgramData\\Miniconda3\\envs\\xopt\\lib\\site-packages\\gpytorch\\utils\\cholesky.py:40: NumericalWarning: A not p.d., added jitter of 1.0e-08 to the diagonal\n",
      "  warnings.warn(\n",
      "C:\\ProgramData\\Miniconda3\\envs\\xopt\\lib\\site-packages\\gpytorch\\utils\\cholesky.py:40: NumericalWarning: A not p.d., added jitter of 1.0e-08 to the diagonal\n",
      "  warnings.warn(\n",
      "C:\\ProgramData\\Miniconda3\\envs\\xopt\\lib\\site-packages\\gpytorch\\utils\\cholesky.py:40: NumericalWarning: A not p.d., added jitter of 1.0e-08 to the diagonal\n",
      "  warnings.warn(\n",
      "C:\\ProgramData\\Miniconda3\\envs\\xopt\\lib\\site-packages\\gpytorch\\utils\\cholesky.py:40: NumericalWarning: A not p.d., added jitter of 1.0e-08 to the diagonal\n",
      "  warnings.warn(\n",
      "C:\\ProgramData\\Miniconda3\\envs\\xopt\\lib\\site-packages\\gpytorch\\utils\\cholesky.py:40: NumericalWarning: A not p.d., added jitter of 1.0e-08 to the diagonal\n",
      "  warnings.warn(\n",
      "C:\\ProgramData\\Miniconda3\\envs\\xopt\\lib\\site-packages\\gpytorch\\utils\\cholesky.py:40: NumericalWarning: A not p.d., added jitter of 1.0e-08 to the diagonal\n",
      "  warnings.warn(\n",
      "C:\\ProgramData\\Miniconda3\\envs\\xopt\\lib\\site-packages\\gpytorch\\utils\\cholesky.py:40: NumericalWarning: A not p.d., added jitter of 1.0e-08 to the diagonal\n",
      "  warnings.warn(\n",
      "C:\\ProgramData\\Miniconda3\\envs\\xopt\\lib\\site-packages\\gpytorch\\utils\\cholesky.py:40: NumericalWarning: A not p.d., added jitter of 1.0e-08 to the diagonal\n",
      "  warnings.warn(\n",
      "C:\\ProgramData\\Miniconda3\\envs\\xopt\\lib\\site-packages\\gpytorch\\utils\\cholesky.py:40: NumericalWarning: A not p.d., added jitter of 1.0e-08 to the diagonal\n",
      "  warnings.warn(\n",
      "C:\\ProgramData\\Miniconda3\\envs\\xopt\\lib\\site-packages\\gpytorch\\utils\\cholesky.py:40: NumericalWarning: A not p.d., added jitter of 1.0e-08 to the diagonal\n",
      "  warnings.warn(\n",
      "C:\\ProgramData\\Miniconda3\\envs\\xopt\\lib\\site-packages\\gpytorch\\utils\\cholesky.py:40: NumericalWarning: A not p.d., added jitter of 1.0e-08 to the diagonal\n",
      "  warnings.warn(\n",
      "C:\\ProgramData\\Miniconda3\\envs\\xopt\\lib\\site-packages\\gpytorch\\utils\\cholesky.py:40: NumericalWarning: A not p.d., added jitter of 1.0e-08 to the diagonal\n",
      "  warnings.warn(\n",
      "C:\\ProgramData\\Miniconda3\\envs\\xopt\\lib\\site-packages\\gpytorch\\utils\\cholesky.py:40: NumericalWarning: A not p.d., added jitter of 1.0e-08 to the diagonal\n",
      "  warnings.warn(\n"
     ]
    }
   ],
   "source": [
    "%reset -f\n",
    "from copy import deepcopy\n",
    "\n",
    "import pandas as pd\n",
    "import numpy as np\n",
    "import torch\n",
    "\n",
    "from xopt import Xopt, Evaluator\n",
    "from xopt.generators import MGGPOGenerator\n",
    "from xopt.resources.test_functions.tnk import evaluate_TNK, tnk_vocs\n",
    "\n",
    "\n",
    "evaluator = Evaluator(function=evaluate_TNK)\n",
    "evaluator.max_workers = 10\n",
    "\n",
    "# test check options\n",
    "vocs = deepcopy(tnk_vocs)\n",
    "gen = MGGPOGenerator(vocs)\n",
    "gen.options.model.use_low_noise_prior = True\n",
    "X = Xopt(evaluator=evaluator, generator=gen, vocs=vocs)\n",
    "X.submit_data(pd.DataFrame({\"x1\": [1.0, 0.75], \"x2\": [0.75, 1.0]}))\n",
    "\n",
    "for _ in range(20):\n",
    "    X.step()"
   ]
  },
  {
   "cell_type": "code",
   "execution_count": 12,
   "metadata": {
    "collapsed": false,
    "execution": {
     "iopub.execute_input": "2022-07-02T04:14:59.411437Z",
     "iopub.status.busy": "2022-07-02T04:14:59.411316Z",
     "iopub.status.idle": "2022-07-02T04:14:59.429124Z",
     "shell.execute_reply": "2022-07-02T04:14:59.428816Z"
    },
    "pycharm": {
     "name": "#%%\n"
    }
   },
   "outputs": [
    {
     "data": {
      "text/plain": "           x1        x2        y1        y2        c1        c2 some_array  \\\n1    1.000000  0.750000  1.000000  0.750000  0.626888  0.312500  [1, 2, 3]   \n2    0.750000  1.000000  0.750000  1.000000  0.626888  0.312500  [1, 2, 3]   \n3    0.287013  2.657092  0.287013  2.657092  6.157537  4.698408  [1, 2, 3]   \n4    0.045136  3.130325  0.045136  3.130325  8.703620  7.125510  [1, 2, 3]   \n5    0.899163  2.919212  0.899163  2.919212  8.323469  6.011920  [1, 2, 3]   \n..        ...       ...       ...       ...       ...       ...        ...   \n198  0.238634  0.971027  0.238634  0.971027  0.075409  0.290178  [1, 2, 3]   \n199  0.238634  0.971027  0.238634  0.971027  0.075409  0.290178  [1, 2, 3]   \n200  0.238634  0.971027  0.238634  0.971027  0.075409  0.290178  [1, 2, 3]   \n201  1.040077  0.099061  1.040077  0.099061  0.086428  0.452435  [1, 2, 3]   \n202  1.040077  0.099061  1.040077  0.099061  0.086428  0.452435  [1, 2, 3]   \n\n     xopt_error xopt_error_str               a  \n1         False                            NaN  \n2         False                            NaN  \n3         False                 dummy_constant  \n4         False                 dummy_constant  \n5         False                 dummy_constant  \n..          ...            ...             ...  \n198       False                 dummy_constant  \n199       False                 dummy_constant  \n200       False                 dummy_constant  \n201       False                 dummy_constant  \n202       False                 dummy_constant  \n\n[202 rows x 10 columns]",
      "text/html": "<div>\n<style scoped>\n    .dataframe tbody tr th:only-of-type {\n        vertical-align: middle;\n    }\n\n    .dataframe tbody tr th {\n        vertical-align: top;\n    }\n\n    .dataframe thead th {\n        text-align: right;\n    }\n</style>\n<table border=\"1\" class=\"dataframe\">\n  <thead>\n    <tr style=\"text-align: right;\">\n      <th></th>\n      <th>x1</th>\n      <th>x2</th>\n      <th>y1</th>\n      <th>y2</th>\n      <th>c1</th>\n      <th>c2</th>\n      <th>some_array</th>\n      <th>xopt_error</th>\n      <th>xopt_error_str</th>\n      <th>a</th>\n    </tr>\n  </thead>\n  <tbody>\n    <tr>\n      <th>1</th>\n      <td>1.000000</td>\n      <td>0.750000</td>\n      <td>1.000000</td>\n      <td>0.750000</td>\n      <td>0.626888</td>\n      <td>0.312500</td>\n      <td>[1, 2, 3]</td>\n      <td>False</td>\n      <td></td>\n      <td>NaN</td>\n    </tr>\n    <tr>\n      <th>2</th>\n      <td>0.750000</td>\n      <td>1.000000</td>\n      <td>0.750000</td>\n      <td>1.000000</td>\n      <td>0.626888</td>\n      <td>0.312500</td>\n      <td>[1, 2, 3]</td>\n      <td>False</td>\n      <td></td>\n      <td>NaN</td>\n    </tr>\n    <tr>\n      <th>3</th>\n      <td>0.287013</td>\n      <td>2.657092</td>\n      <td>0.287013</td>\n      <td>2.657092</td>\n      <td>6.157537</td>\n      <td>4.698408</td>\n      <td>[1, 2, 3]</td>\n      <td>False</td>\n      <td></td>\n      <td>dummy_constant</td>\n    </tr>\n    <tr>\n      <th>4</th>\n      <td>0.045136</td>\n      <td>3.130325</td>\n      <td>0.045136</td>\n      <td>3.130325</td>\n      <td>8.703620</td>\n      <td>7.125510</td>\n      <td>[1, 2, 3]</td>\n      <td>False</td>\n      <td></td>\n      <td>dummy_constant</td>\n    </tr>\n    <tr>\n      <th>5</th>\n      <td>0.899163</td>\n      <td>2.919212</td>\n      <td>0.899163</td>\n      <td>2.919212</td>\n      <td>8.323469</td>\n      <td>6.011920</td>\n      <td>[1, 2, 3]</td>\n      <td>False</td>\n      <td></td>\n      <td>dummy_constant</td>\n    </tr>\n    <tr>\n      <th>...</th>\n      <td>...</td>\n      <td>...</td>\n      <td>...</td>\n      <td>...</td>\n      <td>...</td>\n      <td>...</td>\n      <td>...</td>\n      <td>...</td>\n      <td>...</td>\n      <td>...</td>\n    </tr>\n    <tr>\n      <th>198</th>\n      <td>0.238634</td>\n      <td>0.971027</td>\n      <td>0.238634</td>\n      <td>0.971027</td>\n      <td>0.075409</td>\n      <td>0.290178</td>\n      <td>[1, 2, 3]</td>\n      <td>False</td>\n      <td></td>\n      <td>dummy_constant</td>\n    </tr>\n    <tr>\n      <th>199</th>\n      <td>0.238634</td>\n      <td>0.971027</td>\n      <td>0.238634</td>\n      <td>0.971027</td>\n      <td>0.075409</td>\n      <td>0.290178</td>\n      <td>[1, 2, 3]</td>\n      <td>False</td>\n      <td></td>\n      <td>dummy_constant</td>\n    </tr>\n    <tr>\n      <th>200</th>\n      <td>0.238634</td>\n      <td>0.971027</td>\n      <td>0.238634</td>\n      <td>0.971027</td>\n      <td>0.075409</td>\n      <td>0.290178</td>\n      <td>[1, 2, 3]</td>\n      <td>False</td>\n      <td></td>\n      <td>dummy_constant</td>\n    </tr>\n    <tr>\n      <th>201</th>\n      <td>1.040077</td>\n      <td>0.099061</td>\n      <td>1.040077</td>\n      <td>0.099061</td>\n      <td>0.086428</td>\n      <td>0.452435</td>\n      <td>[1, 2, 3]</td>\n      <td>False</td>\n      <td></td>\n      <td>dummy_constant</td>\n    </tr>\n    <tr>\n      <th>202</th>\n      <td>1.040077</td>\n      <td>0.099061</td>\n      <td>1.040077</td>\n      <td>0.099061</td>\n      <td>0.086428</td>\n      <td>0.452435</td>\n      <td>[1, 2, 3]</td>\n      <td>False</td>\n      <td></td>\n      <td>dummy_constant</td>\n    </tr>\n  </tbody>\n</table>\n<p>202 rows × 10 columns</p>\n</div>"
     },
     "execution_count": 12,
     "metadata": {},
     "output_type": "execute_result"
    }
   ],
   "source": [
    "X.generator.data"
   ]
  },
  {
   "cell_type": "markdown",
   "metadata": {
    "collapsed": false,
    "pycharm": {
     "name": "#%% md\n"
    }
   },
   "source": [
    "## plot results\n"
   ]
  },
  {
   "cell_type": "code",
   "execution_count": 13,
   "metadata": {
    "collapsed": false,
    "execution": {
     "iopub.execute_input": "2022-07-02T04:14:59.430749Z",
     "iopub.status.busy": "2022-07-02T04:14:59.430641Z",
     "iopub.status.idle": "2022-07-02T04:14:59.814824Z",
     "shell.execute_reply": "2022-07-02T04:14:59.814510Z"
    },
    "pycharm": {
     "name": "#%%\n"
    }
   },
   "outputs": [
    {
     "data": {
      "text/plain": "<Figure size 432x288 with 1 Axes>",
      "image/png": "[encoded data removed]"
     },
     "metadata": {
      "needs_background": "light"
     },
     "output_type": "display_data"
    }
   ],
   "source": [
    "import matplotlib.pyplot as plt\n",
    "\n",
    "fig, ax = plt.subplots()\n",
    "\n",
    "theta = np.linspace(0, np.pi / 2)\n",
    "r = np.sqrt(1 + 0.1 * np.cos(16 * theta))\n",
    "x_1 = r * np.sin(theta)\n",
    "x_2_lower = r * np.cos(theta)\n",
    "x_2_upper = (0.5 - (x_1 - 0.5) ** 2) ** 0.5 + 0.5\n",
    "\n",
    "z = np.zeros_like(x_1)\n",
    "\n",
    "# ax2.plot(x_1, x_2_lower,'r')\n",
    "ax.fill_between(x_1, z, x_2_lower, fc=\"white\")\n",
    "circle = plt.Circle(\n",
    "    (0.5, 0.5), 0.5 ** 0.5, color=\"r\", alpha=0.25, zorder=0, label=\"Valid Region\"\n",
    ")\n",
    "ax.add_patch(circle)\n",
    "history = pd.concat(\n",
    "    [X.data, tnk_vocs.feasibility_data(X.data)], axis=1, ignore_index=False\n",
    ")\n",
    "\n",
    "ax.plot(*history[[\"x1\", \"x2\"]][history[\"feasible\"]].to_numpy().T, \".C1\")\n",
    "ax.plot(*history[[\"x1\", \"x2\"]][~history[\"feasible\"]].to_numpy().T, \".C2\")\n",
    "\n",
    "ax.set_xlim(0, 3.14)\n",
    "ax.set_ylim(0, 3.14)\n",
    "ax.set_xlabel(\"x1\")\n",
    "ax.set_ylabel(\"x2\")\n",
    "ax.set_aspect(\"equal\")"
   ]
  },
  {
   "cell_type": "markdown",
   "metadata": {
    "collapsed": false,
    "pycharm": {
     "name": "#%% md\n"
    }
   },
   "source": [
    "### Plot path through input space"
   ]
  },
  {
   "cell_type": "code",
   "execution_count": 14,
   "metadata": {
    "collapsed": false,
    "execution": {
     "iopub.execute_input": "2022-07-02T04:14:59.816524Z",
     "iopub.status.busy": "2022-07-02T04:14:59.816379Z",
     "iopub.status.idle": "2022-07-02T04:14:59.862523Z",
     "shell.execute_reply": "2022-07-02T04:14:59.862205Z"
    },
    "pycharm": {
     "name": "#%%\n"
    }
   },
   "outputs": [
    {
     "data": {
      "text/plain": "<Figure size 432x288 with 1 Axes>",
      "image/png": "[encoded data removed]"
     },
     "metadata": {
      "needs_background": "light"
     },
     "output_type": "display_data"
    }
   ],
   "source": [
    "ax = history.plot.scatter(\"x1\", \"x2\")\n",
    "ax.set_ylim(0, 3.14)\n",
    "ax.set_xlim(0, 3.14)\n",
    "ax.set_aspect(\"equal\")"
   ]
  },
  {
   "cell_type": "code",
   "execution_count": 15,
   "metadata": {
    "collapsed": false,
    "execution": {
     "iopub.execute_input": "2022-07-02T04:14:59.864364Z",
     "iopub.status.busy": "2022-07-02T04:14:59.864091Z",
     "iopub.status.idle": "2022-07-02T04:15:01.521052Z",
     "shell.execute_reply": "2022-07-02T04:15:01.520739Z"
    },
    "pycharm": {
     "name": "#%%\n"
    }
   },
   "outputs": [
    {
     "name": "stderr",
     "output_type": "stream",
     "text": [
      "C:\\ProgramData\\Miniconda3\\envs\\xopt\\lib\\site-packages\\gpytorch\\utils\\cholesky.py:40: NumericalWarning: A not p.d., added jitter of 1.0e-08 to the diagonal\n",
      "  warnings.warn(\n",
      "C:\\ProgramData\\Miniconda3\\envs\\xopt\\lib\\site-packages\\gpytorch\\utils\\cholesky.py:40: NumericalWarning: A not p.d., added jitter of 1.0e-08 to the diagonal\n",
      "  warnings.warn(\n"
     ]
    },
    {
     "name": "stdout",
     "output_type": "stream",
     "text": [
      "[[1.03906552 0.06761024]]\n"
     ]
    },
    {
     "data": {
      "text/plain": "[<matplotlib.lines.Line2D at 0x280c10c0d00>]"
     },
     "execution_count": 15,
     "metadata": {},
     "output_type": "execute_result"
    },
    {
     "data": {
      "text/plain": "<Figure size 432x288 with 2 Axes>",
      "image/png": "[encoded data removed]"
     },
     "metadata": {
      "needs_background": "light"
     },
     "output_type": "display_data"
    },
    {
     "data": {
      "text/plain": "<Figure size 432x288 with 2 Axes>",
      "image/png": "[encoded data removed]"
     },
     "metadata": {
      "needs_background": "light"
     },
     "output_type": "display_data"
    }
   ],
   "source": [
    "# plot the acquisition function\n",
    "from xopt.generators.bayesian.utils import feasibility\n",
    "\n",
    "bounds = X.generator.vocs.bounds\n",
    "model = X.generator.model\n",
    "\n",
    "# create mesh\n",
    "n = 50\n",
    "x = torch.linspace(*bounds.T[0], n)\n",
    "y = torch.linspace(*bounds.T[1], n)\n",
    "xx, yy = torch.meshgrid(x, y)\n",
    "pts = torch.hstack([ele.reshape(-1, 1) for ele in (xx, yy)]).double()\n",
    "\n",
    "acq_func = X.generator.get_acquisition(model)\n",
    "with torch.no_grad():\n",
    "    acq_pts = pts.unsqueeze(1)\n",
    "    acq = acq_func(acq_pts)\n",
    "\n",
    "    fig, ax = plt.subplots()\n",
    "    c = ax.pcolor(xx, yy, acq.reshape(n, n), cmap=\"Blues\")\n",
    "    fig.colorbar(c)\n",
    "    ax.set_title(\"Acquisition function\")\n",
    "\n",
    "    ax.plot(*history[[\"x1\", \"x2\"]][history[\"feasible\"]].to_numpy().T, \".C1\")\n",
    "    ax.plot(*history[[\"x1\", \"x2\"]][~history[\"feasible\"]].to_numpy().T, \".C2\")\n",
    "\n",
    "    ax.plot(*history[[\"x1\", \"x2\"]].to_numpy()[-1].T, \"+\")\n",
    "\n",
    "    feas = feasibility(pts.unsqueeze(1), model, X.generator.sampler, tnk_vocs).flatten()\n",
    "\n",
    "    fig2, ax2 = plt.subplots()\n",
    "    c = ax2.pcolor(xx, yy, feas.reshape(n, n))\n",
    "    fig2.colorbar(c)\n",
    "    ax2.set_title(\"Feasible Region\")\n",
    "\n",
    "candidate = X.generator.generate(1)\n",
    "print(candidate[[\"x1\", \"x2\"]].to_numpy())\n",
    "ax.plot(*candidate[[\"x1\", \"x2\"]].to_numpy()[0], \"o\")"
   ]
  }
 ],
 "metadata": {
  "interpreter": {
   "hash": "72034539424920dfb606fe3b820b3f27dca0cbf1c69938110810ec4641e275b1"
  },
  "kernelspec": {
   "display_name": "Python 3 (ipykernel)",
   "language": "python",
   "name": "python3"
  },
  "language_info": {
   "codemirror_mode": {
    "name": "ipython",
    "version": 3
   },
   "file_extension": ".py",
   "mimetype": "text/x-python",
   "name": "python",
   "nbconvert_exporter": "python",
   "pygments_lexer": "ipython3",
   "version": "3.9.13"
  }
 },
 "nbformat": 4,
 "nbformat_minor": 4
}