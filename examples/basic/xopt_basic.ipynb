{
 "cells": [
  {
   "cell_type": "markdown",
   "metadata": {
    "pycharm": {
     "name": "#%% md\n"
    }
   },
   "source": [
    "# Xopt basic example\n",
    "\n",
    "An Xopt problem can be described by a simple YAML file. Here we will demonstrate how this is used to optimize a well-known constrained multi-objective test function, TNK.\n",
    "\n",
    "## TNK test function\n",
    "\n",
    "The TNK function is defined with:\n",
    "\n",
    "$n=2$ variables:\n",
    "$x_i \\in [0, \\pi], i=1,2$\n",
    "\n",
    "Objectives:\n",
    "- $f_i(x) = x_i$\n",
    "\n",
    "Constraints:\n",
    "- $g_1(x) = -x_1^2 -x_2^2 + 1 + 0.1 \\cos\\left(16 \\arctan \\frac{x_1}{x_2}\\right) \\le 0$\n",
    "- $g_2(x) = (x_1 - 1/2)^2 + (x_2-1/2)^2 \\le 0.5$"
   ]
  },
  {
   "cell_type": "code",
   "execution_count": 13,
   "metadata": {
    "pycharm": {
     "name": "#%%\n"
    }
   },
   "outputs": [],
   "source": [
    "# Import the class\n",
    "from xopt import Xopt"
   ]
  },
  {
   "cell_type": "code",
   "execution_count": 14,
   "metadata": {
    "pycharm": {
     "name": "#%%\n"
    }
   },
   "outputs": [
    {
     "name": "stderr",
     "output_type": "stream",
     "text": [
      "A subdirectory or file temp already exists.\n"
     ]
    }
   ],
   "source": [
    "!mkdir temp"
   ]
  },
  {
   "cell_type": "markdown",
   "metadata": {
    "pycharm": {
     "name": "#%% md\n"
    }
   },
   "source": [
    "The `Xopt` object can be instantiated from a JSON or YAML file, or a dict, with the proper structure.\n",
    "\n",
    "Here we will make one"
   ]
  },
  {
   "cell_type": "code",
   "execution_count": 21,
   "metadata": {
    "pycharm": {
     "name": "#%%\n"
    }
   },
   "outputs": [],
   "source": [
    "# Make a proper input file. \n",
    "YAML=\"\"\"\n",
    "xopt: {}\n",
    "generator:\n",
    "    name: Random\n",
    "    options: {}\n",
    "\n",
    "evaluator:\n",
    "    name: test_TNK\n",
    "    function: xopt.resources.test_functions.tnk.evaluate_TNK\n",
    "\n",
    "vocs:\n",
    "    variables:\n",
    "        x1: [0, 3.14159]\n",
    "        x2: [0, 3.14159]\n",
    "    objectives: {y1: MINIMIZE, y2: MINIMIZE}\n",
    "    constraints:\n",
    "        c1: [GREATER_THAN, 0]\n",
    "        c2: [LESS_THAN, 0.5]\n",
    "    linked_variables: {x9: x1}\n",
    "    constants: {a: dummy_constant}\n",
    "\n",
    "\"\"\""
   ]
  },
  {
   "cell_type": "code",
   "execution_count": 22,
   "metadata": {
    "pycharm": {
     "name": "#%%\n"
    }
   },
   "outputs": [],
   "source": [
    "# create Xopt object\n",
    "X = Xopt()\n",
    "X.from_yaml(YAML)\n"
   ]
  },
  {
   "cell_type": "code",
   "execution_count": null,
   "outputs": [],
   "source": [],
   "metadata": {
    "collapsed": false,
    "pycharm": {
     "name": "#%%\n"
    }
   }
  },
  {
   "cell_type": "markdown",
   "source": [],
   "metadata": {
    "collapsed": false,
    "pycharm": {
     "name": "#%% md\n"
    }
   }
  },
  {
   "cell_type": "markdown",
   "metadata": {
    "pycharm": {
     "name": "#%% md\n"
    }
   },
   "source": [
    "# Run Random data generation"
   ]
  },
  {
   "cell_type": "code",
   "execution_count": 25,
   "metadata": {
    "pycharm": {
     "name": "#%%\n"
    }
   },
   "outputs": [],
   "source": [
    "# Take one step (generate a single point)\n",
    "X.step()"
   ]
  },
  {
   "cell_type": "code",
   "execution_count": 26,
   "metadata": {
    "pycharm": {
     "name": "#%%\n"
    }
   },
   "outputs": [
    {
     "data": {
      "text/plain": "         x1        x2               a        x9        y1        y2        c1  \\\n0  2.328356  2.358046  dummy_constant  2.328356  2.328356  2.358046  9.882136   \n\n         c2 some_array  xopt_error xopt_error_str  \n0  6.795221  [1, 2, 3]       False                 ",
      "text/html": "<div>\n<style scoped>\n    .dataframe tbody tr th:only-of-type {\n        vertical-align: middle;\n    }\n\n    .dataframe tbody tr th {\n        vertical-align: top;\n    }\n\n    .dataframe thead th {\n        text-align: right;\n    }\n</style>\n<table border=\"1\" class=\"dataframe\">\n  <thead>\n    <tr style=\"text-align: right;\">\n      <th></th>\n      <th>x1</th>\n      <th>x2</th>\n      <th>a</th>\n      <th>x9</th>\n      <th>y1</th>\n      <th>y2</th>\n      <th>c1</th>\n      <th>c2</th>\n      <th>some_array</th>\n      <th>xopt_error</th>\n      <th>xopt_error_str</th>\n    </tr>\n  </thead>\n  <tbody>\n    <tr>\n      <th>0</th>\n      <td>2.328356</td>\n      <td>2.358046</td>\n      <td>dummy_constant</td>\n      <td>2.328356</td>\n      <td>2.328356</td>\n      <td>2.358046</td>\n      <td>9.882136</td>\n      <td>6.795221</td>\n      <td>[1, 2, 3]</td>\n      <td>False</td>\n      <td></td>\n    </tr>\n  </tbody>\n</table>\n</div>"
     },
     "execution_count": 26,
     "metadata": {},
     "output_type": "execute_result"
    }
   ],
   "source": [
    "# examine the results\n",
    "X.data"
   ]
  },
  {
   "cell_type": "code",
   "execution_count": 27,
   "metadata": {
    "pycharm": {
     "name": "#%%\n"
    }
   },
   "outputs": [
    {
     "data": {
      "text/plain": "          x1        x2               a        x9        y1        y2  \\\n0   2.328356  2.358046  dummy_constant  2.328356  2.328356  2.358046   \n1   2.618200  0.806011  dummy_constant  2.618200  2.618200  0.806011   \n2   2.869312  1.902085  dummy_constant  2.869312  2.869312  1.902085   \n3   2.275972  0.872641  dummy_constant  2.275972  2.275972  0.872641   \n4   1.417671  1.599998  dummy_constant  1.417671  1.417671  1.599998   \n5   1.301294  0.191114  dummy_constant  1.301294  1.301294  0.191114   \n6   0.998228  1.173004  dummy_constant  0.998228  0.998228  1.173004   \n7   2.806822  3.101546  dummy_constant  2.806822  2.806822  3.101546   \n8   2.085081  1.651394  dummy_constant  2.085081  2.085081  1.651394   \n9   0.830647  0.137551  dummy_constant  0.830647  0.830647  0.137551   \n10  0.479325  2.640584  dummy_constant  0.479325  0.479325  2.640584   \n\n           c1         c2 some_array  xopt_error xopt_error_str  \n0    9.882136   6.795221  [1, 2, 3]       False                 \n1    6.498044   4.580416  [1, 2, 3]       False                 \n2   10.950707   7.579481  [1, 2, 3]       False                 \n3    4.850454   3.292939  [1, 2, 3]       False                 \n4    3.512888   2.052116  [1, 2, 3]       False                 \n5    0.798955   0.737483  [1, 2, 3]       False                 \n6    1.344223   0.701166  [1, 2, 3]       False                 \n7   16.427982  12.089467  [1, 2, 3]       False                 \n8    6.102110   3.838189  [1, 2, 3]       False                 \n9   -0.204120   0.240696  [1, 2, 3]       False                 \n10   6.298851   4.582526  [1, 2, 3]       False                 ",
      "text/html": "<div>\n<style scoped>\n    .dataframe tbody tr th:only-of-type {\n        vertical-align: middle;\n    }\n\n    .dataframe tbody tr th {\n        vertical-align: top;\n    }\n\n    .dataframe thead th {\n        text-align: right;\n    }\n</style>\n<table border=\"1\" class=\"dataframe\">\n  <thead>\n    <tr style=\"text-align: right;\">\n      <th></th>\n      <th>x1</th>\n      <th>x2</th>\n      <th>a</th>\n      <th>x9</th>\n      <th>y1</th>\n      <th>y2</th>\n      <th>c1</th>\n      <th>c2</th>\n      <th>some_array</th>\n      <th>xopt_error</th>\n      <th>xopt_error_str</th>\n    </tr>\n  </thead>\n  <tbody>\n    <tr>\n      <th>0</th>\n      <td>2.328356</td>\n      <td>2.358046</td>\n      <td>dummy_constant</td>\n      <td>2.328356</td>\n      <td>2.328356</td>\n      <td>2.358046</td>\n      <td>9.882136</td>\n      <td>6.795221</td>\n      <td>[1, 2, 3]</td>\n      <td>False</td>\n      <td></td>\n    </tr>\n    <tr>\n      <th>1</th>\n      <td>2.618200</td>\n      <td>0.806011</td>\n      <td>dummy_constant</td>\n      <td>2.618200</td>\n      <td>2.618200</td>\n      <td>0.806011</td>\n      <td>6.498044</td>\n      <td>4.580416</td>\n      <td>[1, 2, 3]</td>\n      <td>False</td>\n      <td></td>\n    </tr>\n    <tr>\n      <th>2</th>\n      <td>2.869312</td>\n      <td>1.902085</td>\n      <td>dummy_constant</td>\n      <td>2.869312</td>\n      <td>2.869312</td>\n      <td>1.902085</td>\n      <td>10.950707</td>\n      <td>7.579481</td>\n      <td>[1, 2, 3]</td>\n      <td>False</td>\n      <td></td>\n    </tr>\n    <tr>\n      <th>3</th>\n      <td>2.275972</td>\n      <td>0.872641</td>\n      <td>dummy_constant</td>\n      <td>2.275972</td>\n      <td>2.275972</td>\n      <td>0.872641</td>\n      <td>4.850454</td>\n      <td>3.292939</td>\n      <td>[1, 2, 3]</td>\n      <td>False</td>\n      <td></td>\n    </tr>\n    <tr>\n      <th>4</th>\n      <td>1.417671</td>\n      <td>1.599998</td>\n      <td>dummy_constant</td>\n      <td>1.417671</td>\n      <td>1.417671</td>\n      <td>1.599998</td>\n      <td>3.512888</td>\n      <td>2.052116</td>\n      <td>[1, 2, 3]</td>\n      <td>False</td>\n      <td></td>\n    </tr>\n    <tr>\n      <th>5</th>\n      <td>1.301294</td>\n      <td>0.191114</td>\n      <td>dummy_constant</td>\n      <td>1.301294</td>\n      <td>1.301294</td>\n      <td>0.191114</td>\n      <td>0.798955</td>\n      <td>0.737483</td>\n      <td>[1, 2, 3]</td>\n      <td>False</td>\n      <td></td>\n    </tr>\n    <tr>\n      <th>6</th>\n      <td>0.998228</td>\n      <td>1.173004</td>\n      <td>dummy_constant</td>\n      <td>0.998228</td>\n      <td>0.998228</td>\n      <td>1.173004</td>\n      <td>1.344223</td>\n      <td>0.701166</td>\n      <td>[1, 2, 3]</td>\n      <td>False</td>\n      <td></td>\n    </tr>\n    <tr>\n      <th>7</th>\n      <td>2.806822</td>\n      <td>3.101546</td>\n      <td>dummy_constant</td>\n      <td>2.806822</td>\n      <td>2.806822</td>\n      <td>3.101546</td>\n      <td>16.427982</td>\n      <td>12.089467</td>\n      <td>[1, 2, 3]</td>\n      <td>False</td>\n      <td></td>\n    </tr>\n    <tr>\n      <th>8</th>\n      <td>2.085081</td>\n      <td>1.651394</td>\n      <td>dummy_constant</td>\n      <td>2.085081</td>\n      <td>2.085081</td>\n      <td>1.651394</td>\n      <td>6.102110</td>\n      <td>3.838189</td>\n      <td>[1, 2, 3]</td>\n      <td>False</td>\n      <td></td>\n    </tr>\n    <tr>\n      <th>9</th>\n      <td>0.830647</td>\n      <td>0.137551</td>\n      <td>dummy_constant</td>\n      <td>0.830647</td>\n      <td>0.830647</td>\n      <td>0.137551</td>\n      <td>-0.204120</td>\n      <td>0.240696</td>\n      <td>[1, 2, 3]</td>\n      <td>False</td>\n      <td></td>\n    </tr>\n    <tr>\n      <th>10</th>\n      <td>0.479325</td>\n      <td>2.640584</td>\n      <td>dummy_constant</td>\n      <td>0.479325</td>\n      <td>0.479325</td>\n      <td>2.640584</td>\n      <td>6.298851</td>\n      <td>4.582526</td>\n      <td>[1, 2, 3]</td>\n      <td>False</td>\n      <td></td>\n    </tr>\n  </tbody>\n</table>\n</div>"
     },
     "execution_count": 27,
     "metadata": {},
     "output_type": "execute_result"
    }
   ],
   "source": [
    "# take a couple of steps and examine the results\n",
    "for _ in range(10):\n",
    "    X.step()\n",
    "X.data"
   ]
  },
  {
   "cell_type": "markdown",
   "metadata": {
    "pycharm": {
     "name": "#%% md\n"
    }
   },
   "source": [
    "# Plotting\n",
    "Plot the objective results"
   ]
  },
  {
   "cell_type": "code",
   "execution_count": 29,
   "metadata": {
    "pycharm": {
     "name": "#%%\n"
    }
   },
   "outputs": [
    {
     "data": {
      "text/plain": "<AxesSubplot:xlabel='y1', ylabel='y2'>"
     },
     "execution_count": 29,
     "metadata": {},
     "output_type": "execute_result"
    },
    {
     "data": {
      "text/plain": "<Figure size 432x288 with 1 Axes>",
      "image/png": "[encoded data removed]"
     },
     "metadata": {
      "needs_background": "light"
     },
     "output_type": "display_data"
    }
   ],
   "source": [
    "import matplotlib.pyplot as plt\n",
    "X.data.plot(*X.vocs.objective_names, kind='scatter')"
   ]
  },
  {
   "cell_type": "code",
   "execution_count": null,
   "metadata": {
    "pycharm": {
     "name": "#%%\n"
    }
   },
   "outputs": [],
   "source": [
    "# Cleanup\n",
    "!rm -r temp"
   ]
  }
 ],
 "metadata": {
  "kernelspec": {
   "name": "xopt",
   "language": "python",
   "display_name": "xopt"
  },
  "language_info": {
   "codemirror_mode": {
    "name": "ipython",
    "version": 3
   },
   "file_extension": ".py",
   "mimetype": "text/x-python",
   "name": "python",
   "nbconvert_exporter": "python",
   "pygments_lexer": "ipython3",
   "version": "3.9.7"
  }
 },
 "nbformat": 4,
 "nbformat_minor": 4
}