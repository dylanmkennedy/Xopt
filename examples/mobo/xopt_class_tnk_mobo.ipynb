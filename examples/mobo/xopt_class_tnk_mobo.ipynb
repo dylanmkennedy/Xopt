{
 "cells": [
  {
   "cell_type": "code",
   "execution_count": 1,
   "metadata": {},
   "outputs": [],
   "source": [
    "# Useful for debugging\n",
    "%load_ext autoreload\n",
    "%autoreload 2"
   ]
  },
  {
   "cell_type": "markdown",
   "metadata": {},
   "source": [
    "# Xopt class, TNK test function\n",
    "\n",
    "This is the class method for running Xopt.\n",
    "\n",
    "TNK function\n",
    "$n=2$ variables:\n",
    "$x_i \\in [0, \\pi], i=1,2$\n",
    "\n",
    "Objectives:\n",
    "- $f_i(x) = x_i$\n",
    "\n",
    "Constraints:\n",
    "- $g_1(x) = -x_1^2 -x_2^2 + 1 + 0.1 \\cos\\left(16 \\arctan \\frac{x_1}{x_2}\\right) \\le 0$\n",
    "- $g_2(x) = (x_1 - 1/2)^2 + (x_2-1/2)^2 \\le 0.5$"
   ]
  },
  {
   "cell_type": "code",
   "execution_count": 2,
   "metadata": {},
   "outputs": [],
   "source": [
    "# Import the class\n",
    "from xopt import Xopt\n",
    "import matplotlib.pyplot as plt\n",
    "from botorch.utils.multi_objective.pareto import is_non_dominated\n",
    "%matplotlib inline\n",
    "\n",
    "import os\n",
    "SMOKE_TEST = os.environ.get('SMOKE_TEST')\n"
   ]
  },
  {
   "cell_type": "markdown",
   "metadata": {},
   "source": [
    "The `Xopt` object can be instantiated from a JSON or YAML file, or a dict, with the proper structure.\n",
    "\n",
    "Here we will make one"
   ]
  },
  {
   "cell_type": "code",
   "execution_count": 3,
   "metadata": {},
   "outputs": [],
   "source": [
    "import yaml\n",
    "# Make a proper input file. \n",
    "YAML=\"\"\"\n",
    "xopt: {output_path: null, verbose: true}\n",
    "\n",
    "algorithm:\n",
    "  name: mobo\n",
    "  options: \n",
    "    ref: [1.4, 1.4]\n",
    "    n_initial_samples: 5\n",
    "    n_steps: 10\n",
    "    verbose: True      \n",
    "    generator_options:\n",
    "        batch_size: 4\n",
    "  \n",
    "simulation: \n",
    "  name: test_TNK\n",
    "  evaluate: xopt.evaluators.test_TNK.evaluate_TNK  \n",
    "  \n",
    "vocs:\n",
    "  name: TNK_test\n",
    "  description: null\n",
    "  simulation: test_TNK\n",
    "  templates: null\n",
    "  variables:\n",
    "    x1: [0, 3.14159]\n",
    "    x2: [0, 3.14159]\n",
    "  objectives: {y1: MINIMIZE, y2: MINIMIZE}\n",
    "  constraints:\n",
    "    c1: [GREATER_THAN, 0]\n",
    "    c2: ['LESS_THAN', 0.5]\n",
    "  linked_variables: {}\n",
    "  constants: {a: dummy_constant}\n",
    "\n",
    "\"\"\"\n",
    "config = yaml.safe_load(YAML)"
   ]
  },
  {
   "cell_type": "code",
   "execution_count": 5,
   "metadata": {},
   "outputs": [
    {
     "name": "stdout",
     "output_type": "stream",
     "text": [
      "Loading config as dict.\n",
      "Warning: No path set for key xopt : output_path\n",
      "Warning: No path set for key algorithm : options : restart_file\n"
     ]
    },
    {
     "data": {
      "text/plain": [
       "\n",
       "            Xopt \n",
       "________________________________           \n",
       "Version: 0.4.3+104.g5c5c916.dirty\n",
       "Configured: True\n",
       "Config as YAML:\n",
       "xopt: {output_path: null, verbose: true, algorithm: cnsga}\n",
       "algorithm:\n",
       "  name: mobo\n",
       "  function: xopt.bayesian.algorithms.mobo\n",
       "  options:\n",
       "    ref: [1.4, 1.4]\n",
       "    n_initial_samples: 5\n",
       "    n_steps: 10\n",
       "    verbose: true\n",
       "    generator_options: {batch_size: 4, num_restarts: 2, raw_samples: 2}\n",
       "    custom_model: null\n",
       "    restart_file: null\n",
       "    initial_x: null\n",
       "simulation:\n",
       "  name: test_TNK\n",
       "  evaluate: xopt.evaluators.test_TNK.evaluate_TNK\n",
       "  options: {extra_option: abc}\n",
       "vocs:\n",
       "  name: TNK_test\n",
       "  description: null\n",
       "  simulation: test_TNK\n",
       "  templates: null\n",
       "  variables:\n",
       "    x1: [0, 3.14159]\n",
       "    x2: [0, 3.14159]\n",
       "  objectives: {y1: MINIMIZE, y2: MINIMIZE}\n",
       "  constraints:\n",
       "    c1: [GREATER_THAN, 0]\n",
       "    c2: [LESS_THAN, 0.5]\n",
       "  linked_variables: {}\n",
       "  constants: {a: dummy_constant}"
      ]
     },
     "execution_count": 5,
     "metadata": {},
     "output_type": "execute_result"
    }
   ],
   "source": [
    "# Optional: Connect the function directly\n",
    "#from xopt.evaluators.test_TNK import evaluate_TNK \n",
    "#config['simulation']['evaluate'] = evaluate_TNK \n",
    "if SMOKE_TEST:\n",
    "    config['algorithm']['options']['n_steps'] = 3\n",
    "    config['algorithm']['options']['generator_options']['num_restarts'] = 2\n",
    "    config['algorithm']['options']['generator_options']['raw_samples'] = 2\n",
    "\n",
    "\n",
    "X = Xopt(config)\n",
    "X"
   ]
  },
  {
   "cell_type": "markdown",
   "metadata": {},
   "source": [
    "# Run MOBO\n",
    "\n",
    "MOBO is designed to run in serial or parallel"
   ]
  },
  {
   "cell_type": "code",
   "execution_count": 6,
   "metadata": {},
   "outputs": [],
   "source": [
    "# Pick one of these\n",
    "from concurrent.futures import ThreadPoolExecutor as PoolExecutor\n",
    "#from concurrent.futures import ProcessPoolExecutor as PoolExecutor\n",
    "\n",
    "#executor = PoolExecutor()\n",
    "# This will also work. \n",
    "executor=None"
   ]
  },
  {
   "cell_type": "code",
   "execution_count": 7,
   "metadata": {},
   "outputs": [
    {
     "name": "stdout",
     "output_type": "stream",
     "text": [
      "Starting at time 2021-09-01T10:32:27-05:00\n",
      "started running optimization with generator: <xopt.bayesian.generators.mobo.MOBOGenerator object at 0x000002297F7A2610>\n",
      "submitting initial candidates at time 2021-09-01T10:32:27-05:00\n",
      "starting optimization loop\n",
      "Model creation time: 0.504 s\n",
      "Candidate generation time: 2.458 s\n",
      "Candidate(s): tensor([[0.9007, 1.0433],\n",
      "        [1.1426, 0.4312],\n",
      "        [1.1934, 1.2739],\n",
      "        [1.2095, 0.7600]], dtype=torch.float64)\n",
      "submitting candidates at time 2021-09-01T10:32:30-05:00\n",
      "Model creation time: 0.591 s\n",
      "Candidate generation time: 2.192 s\n",
      "Candidate(s): tensor([[0.2789, 0.0362],\n",
      "        [0.0022, 0.0340],\n",
      "        [1.2228, 1.2932],\n",
      "        [1.4972, 0.8833]], dtype=torch.float64)\n",
      "submitting candidates at time 2021-09-01T10:32:33-05:00\n",
      "Model creation time: 0.5881 s\n",
      "Candidate generation time: 0.4811 s\n",
      "Candidate(s): tensor([[0.5137, 1.7520],\n",
      "        [1.1543, 1.2923],\n",
      "        [1.2113, 0.5141],\n",
      "        [0.5444, 1.0362]], dtype=torch.float64)\n",
      "submitting candidates at time 2021-09-01T10:32:34-05:00\n",
      "Model creation time: 0.724 s\n",
      "Candidate generation time: 0.843 s\n",
      "Candidate(s): tensor([[1.8529, 0.2077],\n",
      "        [0.6724, 1.4470],\n",
      "        [0.8772, 0.6740],\n",
      "        [1.7052, 0.0000]], dtype=torch.float64)\n",
      "submitting candidates at time 2021-09-01T10:32:35-05:00\n",
      "Model creation time: 0.6885 s\n",
      "Candidate generation time: 1.506 s\n",
      "Candidate(s): tensor([[0.9757, 1.7982],\n",
      "        [0.6300, 0.8183],\n",
      "        [0.2699, 1.0966],\n",
      "        [0.7084, 0.0000]], dtype=torch.float64)\n",
      "submitting candidates at time 2021-09-01T10:32:38-05:00\n",
      "Model creation time: 0.607 s\n",
      "Candidate generation time: 0.082 s\n",
      "Candidate(s): tensor([[0.3756, 0.5266],\n",
      "        [2.1024, 1.2002],\n",
      "        [2.4120, 1.0091],\n",
      "        [1.7614, 0.0887]], dtype=torch.float64)\n",
      "submitting candidates at time 2021-09-01T10:32:38-05:00\n",
      "Model creation time: 0.5408 s\n",
      "Candidate generation time: 0.086 s\n",
      "Candidate(s): tensor([[1.9551, 0.2271],\n",
      "        [0.8315, 2.5208],\n",
      "        [2.4041, 3.0583],\n",
      "        [1.2056, 2.9141]], dtype=torch.float64)\n",
      "submitting candidates at time 2021-09-01T10:32:39-05:00\n",
      "Model creation time: 0.7445 s\n",
      "Candidate generation time: 0.9595 s\n",
      "Candidate(s): tensor([[0.2205, 1.5797],\n",
      "        [0.3706, 2.4978],\n",
      "        [0.4480, 3.1135],\n",
      "        [1.1001, 0.1857]], dtype=torch.float64)\n",
      "submitting candidates at time 2021-09-01T10:32:41-05:00\n",
      "Model creation time: 0.6345 s\n",
      "Candidate generation time: 0.084 s\n",
      "Candidate(s): tensor([[2.6517, 0.5225],\n",
      "        [1.0158, 3.0121],\n",
      "        [2.0031, 1.2530],\n",
      "        [2.5309, 2.1024]], dtype=torch.float64)\n",
      "submitting candidates at time 2021-09-01T10:32:41-05:00\n",
      "Model creation time: 0.518 s\n",
      "Candidate generation time: 0.73 s\n",
      "Candidate(s): tensor([[0.5683, 1.9352],\n",
      "        [0.5658, 1.8670],\n",
      "        [0.0561, 1.0041],\n",
      "        [0.8913, 1.6830]], dtype=torch.float64)\n",
      "submitting candidates at time 2021-09-01T10:32:43-05:00\n"
     ]
    }
   ],
   "source": [
    "# Change max generations\n",
    "X.run(executor=executor)"
   ]
  },
  {
   "cell_type": "markdown",
   "metadata": {},
   "source": [
    "# Plot"
   ]
  },
  {
   "cell_type": "code",
   "execution_count": 8,
   "metadata": {},
   "outputs": [
    {
     "data": {
      "image/png": "[encoded data removed]",
      "text/plain": [
       "<Figure size 432x288 with 1 Axes>"
      ]
     },
     "metadata": {
      "needs_background": "light"
     },
     "output_type": "display_data"
    }
   ],
   "source": [
    "fig, ax = plt.subplots()\n",
    "\n",
    "# get results and get valid observations\n",
    "results = X.results\n",
    "train_y = results['objectives']\n",
    "valid_y = train_y[results['feasibility'].flatten()]\n",
    "\n",
    "# plot results\n",
    "ax.plot(train_y[:, 0], train_y[:, 1], '.')\n",
    "ax.set_ylabel('$f_2$')\n",
    "ax.set_xlabel('$f_1$')\n",
    "\n",
    "# highlight Pareto front, ONLY using valid observations (note botorch assumes maximization when determing dominant points)\n",
    "non_dom = is_non_dominated(-valid_y)\n",
    "ax.plot(valid_y[:,0][non_dom],valid_y[:,1][non_dom],'C1o')\n",
    "\n",
    "plt.show()"
   ]
  },
  {
   "cell_type": "code",
   "execution_count": null,
   "metadata": {},
   "outputs": [],
   "source": []
  }
 ],
 "metadata": {
  "kernelspec": {
   "display_name": "xopt",
   "language": "python",
   "name": "xopt"
  },
  "language_info": {
   "codemirror_mode": {
    "name": "ipython",
    "version": 3
   },
   "file_extension": ".py",
   "mimetype": "text/x-python",
   "name": "python",
   "nbconvert_exporter": "python",
   "pygments_lexer": "ipython3",
   "version": "3.9.6"
  }
 },
 "nbformat": 4,
 "nbformat_minor": 4
}
