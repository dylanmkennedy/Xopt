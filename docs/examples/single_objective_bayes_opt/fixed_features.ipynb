{
 "cells": [
  {
   "cell_type": "markdown",
   "source": [
    "# Bayesian optimization with fixed features\n",
    "In some contexts a variable/feature needs to be fixed during optimization. However, we\n",
    "can leverage previous measurements near the fixed variable value to potentially\n",
    "jump-start optimization using observed model covariances established by the GP kernel\n",
    ". In this example, we start with a number of random observations in 2D input space\n",
    "and then proceed with BO at a fixed value for one of the variables. This notebook\n",
    "uses the 2D Rosenbrock test function as an example."
   ],
   "metadata": {
    "collapsed": false
   }
  },
  {
   "cell_type": "code",
   "execution_count": 1,
   "outputs": [
    {
     "data": {
      "text/plain": "\n            Xopt\n________________________________\nVersion: 2.0a1+20.ge98dd88.dirty\nData size: 0\nConfig as YAML:\nxopt: {asynch: false, strict: true, dump_file: null, max_evaluations: null}\ngenerator:\n  name: upper_confidence_bound\n  model: null\n  turbo_controller: null\n  use_cuda: false\n  model_constructor:\n    name: standard\n    use_low_noise_prior: true\n    covar_modules: {}\n    mean_modules: {}\n    trainable_mean_keys: []\n  numerical_optimizer: {name: LBFGS, n_raw_samples: 20, n_restarts: 20, max_iter: 2000}\n  max_travel_distances: null\n  fixed_features: {x0: -1.0}\n  n_monte_carlo_samples: 128\n  beta: 2.0\nevaluator:\n  function: xopt.resources.test_functions.rosenbrock.evaluate_rosenbrock\n  max_workers: 1\n  function_kwargs: {label: y, dummy: 1}\n  vectorized: false\nvocs:\n  variables:\n    x0: [-2.0, 2.0]\n    x1: [-2.0, 2.0]\n  constraints: {}\n  objectives: {y: MINIMIZE}\n  constants: {}\n  observables: []\n"
     },
     "execution_count": 1,
     "metadata": {},
     "output_type": "execute_result"
    }
   ],
   "source": [
    "# set values if testing\n",
    "import os\n",
    "SMOKE_TEST = os.environ.get(\"SMOKE_TEST\")\n",
    "NUM_MC_SAMPLES = 1 if SMOKE_TEST else 128\n",
    "NUM_RESTARTS = 1 if SMOKE_TEST else 20\n",
    "\n",
    "# Ignore all warnings\n",
    "import warnings\n",
    "warnings.filterwarnings(\"ignore\")\n",
    "\n",
    "from xopt import Xopt, Evaluator\n",
    "from xopt.generators.bayesian import UpperConfidenceBoundGenerator\n",
    "from xopt.resources.test_functions.rosenbrock import evaluate_rosenbrock,make_rosenbrock_vocs\n",
    "\n",
    "# make rosenbrock function vocs in 2D\n",
    "vocs = make_rosenbrock_vocs(2)\n",
    "\n",
    "# define a fixed value for the BO generator\n",
    "fixed_features = {\"x0\":-1.0}\n",
    "generator = UpperConfidenceBoundGenerator(\n",
    "    vocs=vocs, fixed_features=fixed_features\n",
    ")\n",
    "generator.numerical_optimizer.n_restarts = NUM_RESTARTS\n",
    "generator.n_monte_carlo_samples = NUM_MC_SAMPLES\n",
    "\n",
    "evaluator = Evaluator(function=evaluate_rosenbrock)\n",
    "\n",
    "X = Xopt(generator=generator, evaluator=evaluator, vocs=vocs)\n",
    "X"
   ],
   "metadata": {
    "collapsed": false,
    "ExecuteTime": {
     "end_time": "2023-07-19T20:12:29.239603700Z",
     "start_time": "2023-07-19T20:12:26.112027100Z"
    }
   }
  },
  {
   "cell_type": "markdown",
   "source": [
    "## Generate some initial random samples in 2D space"
   ],
   "metadata": {
    "collapsed": false
   }
  },
  {
   "cell_type": "code",
   "execution_count": 2,
   "outputs": [
    {
     "data": {
      "text/plain": "         x0        x1            y  xopt_runtime  xopt_error\n1  0.161388 -1.485880   229.295377      0.000009       False\n2 -1.606027 -1.549724  1711.695483      0.000004       False\n3 -0.316046 -1.945083   419.921499      0.000003       False",
      "text/html": "<div>\n<style scoped>\n    .dataframe tbody tr th:only-of-type {\n        vertical-align: middle;\n    }\n\n    .dataframe tbody tr th {\n        vertical-align: top;\n    }\n\n    .dataframe thead th {\n        text-align: right;\n    }\n</style>\n<table border=\"1\" class=\"dataframe\">\n  <thead>\n    <tr style=\"text-align: right;\">\n      <th></th>\n      <th>x0</th>\n      <th>x1</th>\n      <th>y</th>\n      <th>xopt_runtime</th>\n      <th>xopt_error</th>\n    </tr>\n  </thead>\n  <tbody>\n    <tr>\n      <th>1</th>\n      <td>0.161388</td>\n      <td>-1.485880</td>\n      <td>229.295377</td>\n      <td>0.000009</td>\n      <td>False</td>\n    </tr>\n    <tr>\n      <th>2</th>\n      <td>-1.606027</td>\n      <td>-1.549724</td>\n      <td>1711.695483</td>\n      <td>0.000004</td>\n      <td>False</td>\n    </tr>\n    <tr>\n      <th>3</th>\n      <td>-0.316046</td>\n      <td>-1.945083</td>\n      <td>419.921499</td>\n      <td>0.000003</td>\n      <td>False</td>\n    </tr>\n  </tbody>\n</table>\n</div>"
     },
     "execution_count": 2,
     "metadata": {},
     "output_type": "execute_result"
    }
   ],
   "source": [
    "X.random_evaluate(3)"
   ],
   "metadata": {
    "collapsed": false,
    "ExecuteTime": {
     "end_time": "2023-07-19T20:12:29.283571700Z",
     "start_time": "2023-07-19T20:12:29.242601200Z"
    }
   }
  },
  {
   "cell_type": "markdown",
   "source": [
    "## Run BO steps with fixed features"
   ],
   "metadata": {
    "collapsed": false
   }
  },
  {
   "cell_type": "code",
   "execution_count": 3,
   "outputs": [],
   "source": [
    "for i in range(5):\n",
    "    X.step()"
   ],
   "metadata": {
    "collapsed": false,
    "ExecuteTime": {
     "end_time": "2023-07-19T20:12:30.485570700Z",
     "start_time": "2023-07-19T20:12:29.256571700Z"
    }
   }
  },
  {
   "cell_type": "code",
   "execution_count": 4,
   "outputs": [
    {
     "data": {
      "text/plain": "         x0        x1            y  xopt_runtime  xopt_error\n1  0.161388 -1.485880   229.295377      0.000009       False\n2 -1.606027 -1.549724  1711.695483      0.000004       False\n3 -0.316046 -1.945083   419.921499      0.000003       False\n4 -1.000000  2.000000   104.000000      0.000008       False\n5 -1.000000  0.845652     6.382343      0.000009       False\n6 -1.000000  1.361574    17.073558      0.000009       False\n7 -1.000000  1.063771     4.406678      0.000009       False\n8 -1.000000  1.034545     4.119337      0.000009       False",
      "text/html": "<div>\n<style scoped>\n    .dataframe tbody tr th:only-of-type {\n        vertical-align: middle;\n    }\n\n    .dataframe tbody tr th {\n        vertical-align: top;\n    }\n\n    .dataframe thead th {\n        text-align: right;\n    }\n</style>\n<table border=\"1\" class=\"dataframe\">\n  <thead>\n    <tr style=\"text-align: right;\">\n      <th></th>\n      <th>x0</th>\n      <th>x1</th>\n      <th>y</th>\n      <th>xopt_runtime</th>\n      <th>xopt_error</th>\n    </tr>\n  </thead>\n  <tbody>\n    <tr>\n      <th>1</th>\n      <td>0.161388</td>\n      <td>-1.485880</td>\n      <td>229.295377</td>\n      <td>0.000009</td>\n      <td>False</td>\n    </tr>\n    <tr>\n      <th>2</th>\n      <td>-1.606027</td>\n      <td>-1.549724</td>\n      <td>1711.695483</td>\n      <td>0.000004</td>\n      <td>False</td>\n    </tr>\n    <tr>\n      <th>3</th>\n      <td>-0.316046</td>\n      <td>-1.945083</td>\n      <td>419.921499</td>\n      <td>0.000003</td>\n      <td>False</td>\n    </tr>\n    <tr>\n      <th>4</th>\n      <td>-1.000000</td>\n      <td>2.000000</td>\n      <td>104.000000</td>\n      <td>0.000008</td>\n      <td>False</td>\n    </tr>\n    <tr>\n      <th>5</th>\n      <td>-1.000000</td>\n      <td>0.845652</td>\n      <td>6.382343</td>\n      <td>0.000009</td>\n      <td>False</td>\n    </tr>\n    <tr>\n      <th>6</th>\n      <td>-1.000000</td>\n      <td>1.361574</td>\n      <td>17.073558</td>\n      <td>0.000009</td>\n      <td>False</td>\n    </tr>\n    <tr>\n      <th>7</th>\n      <td>-1.000000</td>\n      <td>1.063771</td>\n      <td>4.406678</td>\n      <td>0.000009</td>\n      <td>False</td>\n    </tr>\n    <tr>\n      <th>8</th>\n      <td>-1.000000</td>\n      <td>1.034545</td>\n      <td>4.119337</td>\n      <td>0.000009</td>\n      <td>False</td>\n    </tr>\n  </tbody>\n</table>\n</div>"
     },
     "execution_count": 4,
     "metadata": {},
     "output_type": "execute_result"
    }
   ],
   "source": [
    "X.data"
   ],
   "metadata": {
    "collapsed": false,
    "ExecuteTime": {
     "end_time": "2023-07-19T20:12:30.532572200Z",
     "start_time": "2023-07-19T20:12:30.487570300Z"
    }
   }
  }
 ],
 "metadata": {
  "kernelspec": {
   "display_name": "Python 3",
   "language": "python",
   "name": "python3"
  },
  "language_info": {
   "codemirror_mode": {
    "name": "ipython",
    "version": 2
   },
   "file_extension": ".py",
   "mimetype": "text/x-python",
   "name": "python",
   "nbconvert_exporter": "python",
   "pygments_lexer": "ipython2",
   "version": "2.7.6"
  }
 },
 "nbformat": 4,
 "nbformat_minor": 0
}
