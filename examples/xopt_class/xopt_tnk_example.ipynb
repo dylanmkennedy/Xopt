{
 "cells": [
  {
   "cell_type": "code",
   "execution_count": null,
   "metadata": {},
   "outputs": [],
   "source": [
    "# Useful for debugging\n",
    "%load_ext autoreload\n",
    "%autoreload 2"
   ]
  },
  {
   "cell_type": "code",
   "execution_count": 1,
   "metadata": {},
   "outputs": [],
   "source": [
    "from xopt import Xopt\n",
    "from xopt.tools import load_config, random_settings"
   ]
  },
  {
   "cell_type": "code",
   "execution_count": 2,
   "metadata": {},
   "outputs": [
    {
     "name": "stdout",
     "output_type": "stream",
     "text": [
      "Loading xopt-TNK.yaml as YAML \n",
      "Simulation test_TNK configured\n",
      "Warning: Path None does not exist for key xopt::output_path\n"
     ]
    },
    {
     "data": {
      "text/plain": [
       "\n",
       "            Xopt\n",
       "________________________________           \n",
       "\n",
       "Configured: True\n",
       "\n",
       "Config as YAML:\n",
       "xopt: {output_path: null, verbose: true, algorithm: cnsga}\n",
       "cnsga: {max_generations: 50, population_size: 64, crossover_probability: 0.9, mutation_probability: 1.0,\n",
       "  selection: auto, verbose: true}\n",
       "vocs:\n",
       "  name: TNK_test\n",
       "  description: null\n",
       "  simulation: test_TNK\n",
       "  templates: null\n",
       "  variables:\n",
       "    x1: [0, 3.14159]\n",
       "    x2: [0, 3.14159]\n",
       "  objectives: {y1: MINIMIZE, y2: MINIMIZE}\n",
       "  constraints:\n",
       "    c1: [GREATER_THAN, 0]\n",
       "    c2: [GREATER_THAN, 0]\n",
       "  linked_variables: {x9: x1}\n",
       "  constants: {a: dummy_constant}"
      ]
     },
     "execution_count": 2,
     "metadata": {},
     "output_type": "execute_result"
    }
   ],
   "source": [
    "X = Xopt('xopt-TNK.yaml')\n",
    "X"
   ]
  },
  {
   "cell_type": "code",
   "execution_count": 3,
   "metadata": {},
   "outputs": [
    {
     "data": {
      "text/plain": [
       "{'x1': 2.93143677024644,\n",
       " 'x2': 2.077456852601026,\n",
       " 'a': 'dummy_constant',\n",
       " 'x9': 2.93143677024644}"
      ]
     },
     "execution_count": 3,
     "metadata": {},
     "output_type": "execute_result"
    }
   ],
   "source": [
    "X.random_inputs()"
   ]
  },
  {
   "cell_type": "code",
   "execution_count": 4,
   "metadata": {},
   "outputs": [
    {
     "data": {
      "text/plain": [
       "{'y1': 0.7428807966338917,\n",
       " 'y2': 0.028789793181591847,\n",
       " 'c1': -0.5287011762605568,\n",
       " 'c2': 0.21896985961663915}"
      ]
     },
     "execution_count": 4,
     "metadata": {},
     "output_type": "execute_result"
    }
   ],
   "source": [
    "X.random_evaluate()"
   ]
  },
  {
   "cell_type": "code",
   "execution_count": 5,
   "metadata": {},
   "outputs": [],
   "source": [
    "from concurrent.futures import ProcessPoolExecutor\n",
    "executor = ProcessPoolExecutor()"
   ]
  },
  {
   "cell_type": "code",
   "execution_count": 6,
   "metadata": {},
   "outputs": [
    {
     "name": "stdout",
     "output_type": "stream",
     "text": [
      "\n",
      "\n",
      "\n",
      " ▄████▄   ███▄    █   ██████   ▄████  ▄▄▄      \n",
      "▒██▀ ▀█   ██ ▀█   █ ▒██    ▒  ██▒ ▀█▒▒████▄    \n",
      "▒▓█    ▄ ▓██  ▀█ ██▒░ ▓██▄   ▒██░▄▄▄░▒██  ▀█▄  \n",
      "▒▓▓▄ ▄██▒▓██▒  ▐▌██▒  ▒   ██▒░▓█  ██▓░██▄▄▄▄██ \n",
      "▒ ▓███▀ ░▒██░   ▓██░▒██████▒▒░▒▓███▀▒ ▓█   ▓██▒\n",
      "░ ░▒ ▒  ░░ ▒░   ▒ ▒ ▒ ▒▓▒ ▒ ░ ░▒   ▒  ▒▒   ▓▒█░\n",
      "  ░  ▒   ░ ░░   ░ ▒░░ ░▒  ░ ░  ░   ░   ▒   ▒▒ ░\n",
      "░           ░   ░ ░ ░  ░  ░  ░ ░   ░   ░   ▒   \n",
      "░ ░               ░       ░        ░       ░  ░\n",
      "░                                              \n",
      "\n",
      "\n",
      "Continous Non-dominated Sorting Genetic Algorithm\n",
      "\n",
      "\n",
      "Creating toolbox from vocs.\n",
      "Created toolbox with 2 variables, 2 constraints, and 2 objectives.\n",
      "    Using selection algorithm: nsga2\n",
      "vocs:\n",
      "{'constants': {'a': 'dummy_constant'},\n",
      " 'constraints': {'c1': ['GREATER_THAN', 0], 'c2': ['GREATER_THAN', 0]},\n",
      " 'description': None,\n",
      " 'linked_variables': {'x9': 'x1'},\n",
      " 'name': 'TNK_test',\n",
      " 'objectives': {'y1': 'MINIMIZE', 'y2': 'MINIMIZE'},\n",
      " 'simulation': 'test_TNK',\n",
      " 'templates': None,\n",
      " 'variables': {'x1': [0, 3.14159], 'x2': [0, 3.14159]}}\n",
      "____________________________________________________\n",
      "64 fitness calculations for initial generation\n",
      "................................................................done.\n",
      "Submitting first batch of children\n",
      ".................................................................done.\n",
      "__________________________________________________________\n",
      "Generation 0 completed in 0.00214 minutes\n",
      "................................................................done.\n",
      "__________________________________________________________\n",
      "Generation 1 completed in 0.00272 minutes\n",
      "................................................................done.\n",
      "__________________________________________________________\n",
      "Generation 2 completed in 0.00268 minutes\n",
      "................................................................done.\n",
      "__________________________________________________________\n",
      "Generation 3 completed in 0.00243 minutes\n",
      "................................................................done.\n",
      "__________________________________________________________\n",
      "Generation 4 completed in 0.00310 minutes\n",
      "................................................................done.\n",
      "__________________________________________________________\n",
      "Generation 5 completed in 0.00337 minutes\n",
      "................................................................done.\n",
      "__________________________________________________________\n",
      "Generation 6 completed in 0.00236 minutes\n",
      "................................................................done.\n",
      "__________________________________________________________\n",
      "Generation 7 completed in 0.00180 minutes\n",
      "................................................................done.\n",
      "__________________________________________________________\n",
      "Generation 8 completed in 0.00206 minutes\n",
      "................................................................done.\n",
      "__________________________________________________________\n",
      "Generation 9 completed in 0.00220 minutes\n",
      "................................................................done.\n",
      "__________________________________________________________\n",
      "Generation 10 completed in 0.00217 minutes\n",
      "................................................................done.\n",
      "__________________________________________________________\n",
      "Generation 11 completed in 0.00242 minutes\n",
      "................................................................done.\n",
      "__________________________________________________________\n",
      "Generation 12 completed in 0.00210 minutes\n",
      "................................................................done.\n",
      "__________________________________________________________\n",
      "Generation 13 completed in 0.00320 minutes\n",
      "................................................................done.\n",
      "__________________________________________________________\n",
      "Generation 14 completed in 0.00207 minutes\n",
      "................................................................done.\n",
      "__________________________________________________________\n",
      "Generation 15 completed in 0.00213 minutes\n",
      "................................................................done.\n",
      "__________________________________________________________\n",
      "Generation 16 completed in 0.00307 minutes\n",
      "................................................................done.\n",
      "__________________________________________________________\n",
      "Generation 17 completed in 0.00211 minutes\n",
      "................................................................done.\n",
      "__________________________________________________________\n",
      "Generation 18 completed in 0.00205 minutes\n",
      "................................................................done.\n",
      "__________________________________________________________\n",
      "Generation 19 completed in 0.00339 minutes\n",
      "................................................................done.\n",
      "__________________________________________________________\n",
      "Generation 20 completed in 0.00299 minutes\n",
      "................................................................done.\n",
      "__________________________________________________________\n",
      "Generation 21 completed in 0.00271 minutes\n",
      "................................................................done.\n",
      "__________________________________________________________\n",
      "Generation 22 completed in 0.00214 minutes\n",
      "................................................................done.\n",
      "__________________________________________________________\n",
      "Generation 23 completed in 0.00245 minutes\n",
      "................................................................done.\n",
      "__________________________________________________________\n",
      "Generation 24 completed in 0.00216 minutes\n",
      "................................................................done.\n",
      "__________________________________________________________\n",
      "Generation 25 completed in 0.00213 minutes\n",
      "................................................................done.\n",
      "__________________________________________________________\n",
      "Generation 26 completed in 0.00247 minutes\n",
      "................................................................done.\n",
      "__________________________________________________________\n",
      "Generation 27 completed in 0.00226 minutes\n",
      "................................................................done.\n",
      "__________________________________________________________\n",
      "Generation 28 completed in 0.00272 minutes\n",
      "................................................................done.\n",
      "__________________________________________________________\n",
      "Generation 29 completed in 0.00234 minutes\n",
      "................................................................done.\n",
      "__________________________________________________________\n",
      "Generation 30 completed in 0.00249 minutes\n",
      "................................................................done.\n",
      "__________________________________________________________\n",
      "Generation 31 completed in 0.00337 minutes\n",
      "................................................................done.\n",
      "__________________________________________________________\n",
      "Generation 32 completed in 0.00235 minutes\n",
      "................................................................done.\n",
      "__________________________________________________________\n",
      "Generation 33 completed in 0.00270 minutes\n",
      "................................................................done.\n",
      "__________________________________________________________\n",
      "Generation 34 completed in 0.00356 minutes\n",
      "................................................................done.\n",
      "__________________________________________________________\n",
      "Generation 35 completed in 0.00215 minutes\n",
      "................................................................done.\n",
      "__________________________________________________________\n",
      "Generation 36 completed in 0.00218 minutes\n",
      "................................................................done.\n",
      "__________________________________________________________\n",
      "Generation 37 completed in 0.00214 minutes\n",
      "................................................................done.\n",
      "__________________________________________________________\n",
      "Generation 38 completed in 0.00197 minutes\n",
      "................................................................done.\n",
      "__________________________________________________________\n",
      "Generation 39 completed in 0.00216 minutes\n",
      "................................................................done.\n",
      "__________________________________________________________\n",
      "Generation 40 completed in 0.00260 minutes\n",
      "................................................................done.\n",
      "__________________________________________________________\n",
      "Generation 41 completed in 0.00201 minutes\n",
      "................................................................done.\n",
      "__________________________________________________________\n",
      "Generation 42 completed in 0.00201 minutes\n",
      "................................................................done.\n",
      "__________________________________________________________\n",
      "Generation 43 completed in 0.00302 minutes\n",
      "................................................................done.\n",
      "__________________________________________________________\n",
      "Generation 44 completed in 0.00199 minutes\n",
      "................................................................done.\n",
      "__________________________________________________________\n",
      "Generation 45 completed in 0.00219 minutes\n",
      "................................................................done.\n",
      "__________________________________________________________\n",
      "Generation 46 completed in 0.00303 minutes\n",
      "................................................................done.\n",
      "__________________________________________________________\n",
      "Generation 47 completed in 0.00195 minutes\n",
      "................................................................done.\n",
      "__________________________________________________________\n",
      "Generation 48 completed in 0.00205 minutes\n",
      "................................................................done.\n",
      "__________________________________________________________\n",
      "Generation 49 completed in 0.00319 minutes\n",
      "..............................................................."
     ]
    }
   ],
   "source": [
    "X.run_cnsga(executor)"
   ]
  },
  {
   "cell_type": "code",
   "execution_count": 7,
   "metadata": {},
   "outputs": [
    {
     "data": {
      "image/png": "[encoded data removed]",
      "text/plain": [
       "<Figure size 360x360 with 1 Axes>"
      ]
     },
     "metadata": {
      "needs_background": "light"
     },
     "output_type": "display_data"
    }
   ],
   "source": [
    "# Extract ovjectives from output\n",
    "key1, key2 = list(X.vocs['objectives'])\n",
    "x, y = X.population['outputs'][key1], X.population['outputs'][key2]\n",
    "\n",
    "import matplotlib.pyplot as plt\n",
    "%matplotlib inline\n",
    "\n",
    "fig, ax = plt.subplots(figsize=(5,5))\n",
    "\n",
    "ax.scatter(x, y, color='blue')\n",
    "#ax.set_xlim(X_RANGE)\n",
    "#ax.set_ylim(Y_RANGE)\n",
    "ax.set_xlabel(key1)\n",
    "ax.set_xlabel(key2)\n",
    "ax.set_aspect('auto')\n",
    "#ax.set_title(NAME)"
   ]
  },
  {
   "cell_type": "code",
   "execution_count": null,
   "metadata": {},
   "outputs": [],
   "source": [
    "X.population"
   ]
  },
  {
   "cell_type": "code",
   "execution_count": null,
   "metadata": {},
   "outputs": [],
   "source": [
    "!ls /Users/chrisonian/Code/GitHub/xopt/examples/kekgun/"
   ]
  },
  {
   "cell_type": "code",
   "execution_count": null,
   "metadata": {},
   "outputs": [],
   "source": []
  }
 ],
 "metadata": {
  "kernelspec": {
   "display_name": "Python 3",
   "language": "python",
   "name": "python3"
  },
  "language_info": {
   "codemirror_mode": {
    "name": "ipython",
    "version": 3
   },
   "file_extension": ".py",
   "mimetype": "text/x-python",
   "name": "python",
   "nbconvert_exporter": "python",
   "pygments_lexer": "ipython3",
   "version": "3.7.5"
  }
 },
 "nbformat": 4,
 "nbformat_minor": 4
}
