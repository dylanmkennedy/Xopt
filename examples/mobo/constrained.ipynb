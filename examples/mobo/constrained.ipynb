{
 "cells": [
  {
   "cell_type": "markdown",
   "id": "0cc7de35-4dcf-4079-8a64-07b12c33a8c7",
   "metadata": {},
   "source": [
    "## Constrained multiobjective optimization using MOBO\n"
   ]
  },
  {
   "cell_type": "code",
   "execution_count": 1,
   "id": "4a9be9bf-b3c5-468d-84f6-c7b8cf25806e",
   "metadata": {},
   "outputs": [
    {
     "data": {
      "text/plain": [
       "\u001b[1;31mSignature:\u001b[0m\n",
       "\u001b[0mmobo\u001b[0m\u001b[1;33m(\u001b[0m\u001b[1;33m\n",
       "\u001b[0m    \u001b[0mvocs\u001b[0m\u001b[1;33m,\u001b[0m\u001b[1;33m\n",
       "\u001b[0m    \u001b[0mevaluate_f\u001b[0m\u001b[1;33m,\u001b[0m\u001b[1;33m\n",
       "\u001b[0m    \u001b[0mref\u001b[0m\u001b[1;33m=\u001b[0m\u001b[1;32mNone\u001b[0m\u001b[1;33m,\u001b[0m\u001b[1;33m\n",
       "\u001b[0m    \u001b[0mn_steps\u001b[0m\u001b[1;33m=\u001b[0m\u001b[1;36m1\u001b[0m\u001b[1;33m,\u001b[0m\u001b[1;33m\n",
       "\u001b[0m    \u001b[0mn_initial_samples\u001b[0m\u001b[1;33m=\u001b[0m\u001b[1;36m1\u001b[0m\u001b[1;33m,\u001b[0m\u001b[1;33m\n",
       "\u001b[0m    \u001b[0moutput_path\u001b[0m\u001b[1;33m=\u001b[0m\u001b[1;32mNone\u001b[0m\u001b[1;33m,\u001b[0m\u001b[1;33m\n",
       "\u001b[0m    \u001b[0mcustom_model\u001b[0m\u001b[1;33m=\u001b[0m\u001b[1;32mNone\u001b[0m\u001b[1;33m,\u001b[0m\u001b[1;33m\n",
       "\u001b[0m    \u001b[0mexecutor\u001b[0m\u001b[1;33m=\u001b[0m\u001b[1;32mNone\u001b[0m\u001b[1;33m,\u001b[0m\u001b[1;33m\n",
       "\u001b[0m    \u001b[0mrestart_file\u001b[0m\u001b[1;33m=\u001b[0m\u001b[1;32mNone\u001b[0m\u001b[1;33m,\u001b[0m\u001b[1;33m\n",
       "\u001b[0m    \u001b[0minitial_x\u001b[0m\u001b[1;33m=\u001b[0m\u001b[1;32mNone\u001b[0m\u001b[1;33m,\u001b[0m\u001b[1;33m\n",
       "\u001b[0m    \u001b[0mverbose\u001b[0m\u001b[1;33m=\u001b[0m\u001b[1;32mTrue\u001b[0m\u001b[1;33m,\u001b[0m\u001b[1;33m\n",
       "\u001b[0m    \u001b[0mgenerator_options\u001b[0m\u001b[1;33m=\u001b[0m\u001b[1;32mNone\u001b[0m\u001b[1;33m,\u001b[0m\u001b[1;33m\n",
       "\u001b[0m\u001b[1;33m)\u001b[0m\u001b[1;33m\u001b[0m\u001b[1;33m\u001b[0m\u001b[0m\n",
       "\u001b[1;31mDocstring:\u001b[0m\n",
       "Multi-objective Bayesian optimization\n",
       "\n",
       "Parameters\n",
       "----------\n",
       "vocs : dict\n",
       "    Varabiles, objectives, constraints and statics dictionary,\n",
       "    see xopt documentation for detials\n",
       "\n",
       "evaluate_f : callable\n",
       "    Returns dict of outputs after problem has been evaluated\n",
       "\n",
       "ref : list\n",
       "    Reference point for multi-objective optimization.\n",
       "\n",
       "n_steps : int, default = 1\n",
       "    Number of optimization steps to execute\n",
       "\n",
       "n_initial_samples : int, defualt = 1\n",
       "    Number of initial samples to take before using the model,\n",
       "    overwritten by initial_x\n",
       "\n",
       "output_path : str, default = ''\n",
       "    Path location to place outputs\n",
       "\n",
       "custom_model : callable, optional\n",
       "    Function of the form f(train_inputs, train_outputs) that returns\n",
       "    a trained custom model\n",
       "\n",
       "executor : Executor, optional\n",
       "    Executor object to run evaluate_f\n",
       "\n",
       "restart_file : str, optional\n",
       "    File location of JSON file that has previous data\n",
       "\n",
       "initial_x : list, optional\n",
       "    Nested list to provide initial candiates to evaluate,\n",
       "    overwrites n_initial_samples\n",
       "\n",
       "verbose : bool, defualt = True\n",
       "    Print out messages during optimization\n",
       "\n",
       "generator_options : dict\n",
       "    Dictionary of options for MOBO\n",
       "\n",
       "Returns\n",
       "-------\n",
       "results : dict\n",
       "    Dictionary with output data at the end of optimization\n",
       "\u001b[1;31mFile:\u001b[0m      c:\\users\\ryan roussel\\documents\\github\\xopt\\xopt\\bayesian\\algorithms.py\n",
       "\u001b[1;31mType:\u001b[0m      function\n"
      ]
     },
     "metadata": {},
     "output_type": "display_data"
    }
   ],
   "source": [
    "# main function\n",
    "import numpy as np\n",
    "import torch\n",
    "import matplotlib.pyplot as plt\n",
    "%matplotlib inline\n",
    "\n",
    "\n",
    "from xopt.bayesian.algorithms import mobo\n",
    "from botorch.utils.multi_objective.pareto import is_non_dominated\n",
    "\n",
    "import os\n",
    "SMOKE_TEST = os.environ.get('SMOKE_TEST')\n",
    "\n",
    "# test function\n",
    "from xopt.evaluators import test_TNK"
   ]
  },
  {
   "cell_type": "code",
   "execution_count": 2,
   "id": "d738f30f-6946-444f-a432-f29ce4eb5ee3",
   "metadata": {},
   "outputs": [
    {
     "name": "stdout",
     "output_type": "stream",
     "text": [
      "{'name': 'TNK_test', 'description': 'Constrainted test function TNK. See Table V in https://www.iitk.ac.in/kangal/Deb_NSGA-II.pdf', 'simulation': 'test_TNK', 'variables': {'x1': [0, 3.14159], 'x2': [0, 3.14159]}, 'objectives': {'y1': 'MINIMIZE', 'y2': 'MINIMIZE'}, 'constraints': {'c1': ['GREATER_THAN', 0], 'c2': ['LESS_THAN', 0.5]}, 'constants': {'a': 'dummy_constant'}}\n",
      "started running optimization with generator: <xopt.bayesian.generators.mobo.MOBOGenerator object at 0x00000252F2B63DC0>\n",
      "submitting initial candidates at time 2021-09-01T16:16:34-05:00\n",
      "starting optimization loop\n",
      "Model creation time: 0.2615 s\n",
      "Candidate generation time: 0.09104 s\n",
      "Candidate(s): tensor([[0.2783, 0.4224]], dtype=torch.float64)\n",
      "submitting candidates at time 2021-09-01T16:16:34-05:00\n",
      "Model creation time: 0.287 s\n",
      "Candidate generation time: 0.047 s\n",
      "Candidate(s): tensor([[3.1416, 0.0000]], dtype=torch.float64)\n",
      "submitting candidates at time 2021-09-01T16:16:35-05:00\n",
      "Model creation time: 0.3764 s\n",
      "Candidate generation time: 0.066 s\n",
      "Candidate(s): tensor([[0.0000, 0.0799]], dtype=torch.float64)\n",
      "submitting candidates at time 2021-09-01T16:16:35-05:00\n",
      "Model creation time: 0.4071 s\n",
      "Candidate generation time: 0.081 s\n",
      "Candidate(s): tensor([[0.3501, 0.7345]], dtype=torch.float64)\n",
      "submitting candidates at time 2021-09-01T16:16:36-05:00\n",
      "Model creation time: 0.6311 s\n",
      "Candidate generation time: 0.014 s\n",
      "Candidate(s): tensor([[1.5823, 0.2024]], dtype=torch.float64)\n",
      "submitting candidates at time 2021-09-01T16:16:36-05:00\n",
      "Model creation time: 0.575 s\n",
      "Candidate generation time: 0.014 s\n",
      "Candidate(s): tensor([[0.5531, 2.4514]], dtype=torch.float64)\n",
      "submitting candidates at time 2021-09-01T16:16:37-05:00\n",
      "Model creation time: 0.4094 s\n",
      "Candidate generation time: 0.473 s\n",
      "Candidate(s): tensor([[0.8859, 0.1342]], dtype=torch.float64)\n",
      "submitting candidates at time 2021-09-01T16:16:38-05:00\n",
      "Model creation time: 0.654 s\n",
      "Candidate generation time: 0.014 s\n",
      "Candidate(s): tensor([[2.1857, 2.9475]], dtype=torch.float64)\n",
      "submitting candidates at time 2021-09-01T16:16:38-05:00\n",
      "Model creation time: 0.8972 s\n",
      "Candidate generation time: 0.26 s\n",
      "Candidate(s): tensor([[1.0138, 0.1347]], dtype=torch.float64)\n",
      "submitting candidates at time 2021-09-01T16:16:39-05:00\n",
      "Model creation time: 0.8179 s\n",
      "Candidate generation time: 0.016 s\n",
      "Candidate(s): tensor([[2.5054, 1.2973]], dtype=torch.float64)\n",
      "submitting candidates at time 2021-09-01T16:16:40-05:00\n",
      "dict_keys(['variables', 'objectives', 'corrected_objectives', 'constraints', 'corrected_constraints', 'constraint_status', 'feasibility', 'model'])\n"
     ]
    }
   ],
   "source": [
    "# Get VOCS\n",
    "VOCS = test_TNK.VOCS\n",
    "\n",
    "# add reference point\n",
    "ref = [1.4, 1.4]\n",
    "\n",
    "print(VOCS)\n",
    "# Get evaluate function\n",
    "EVALUATE = test_TNK.evaluate_TNK\n",
    "n_steps = 30\n",
    "\n",
    "gen_options = {'batch_size':4,                      ## Specify batched mobo\n",
    "               'use_gpu':False,                     ## Use GPU\n",
    "              }\n",
    "\n",
    "if SMOKE_TEST:\n",
    "    n_steps = 10\n",
    "    gen_options['batch_size'] = 1\n",
    "    gen_options['num_restarts'] = 2\n",
    "    gen_options['raw_samples'] = 2\n",
    "\n",
    "\n",
    "# Run the optimization\n",
    "results = mobo(VOCS, EVALUATE,\n",
    "               ref = ref,\n",
    "               generator_options = gen_options,\n",
    "               n_initial_samples=5,                   ## Specify number of initial random samples\n",
    "               initial_x=None,                        ## Specify explicit initial sample locations (overwrites n_initial_samples)\n",
    "               n_steps=n_steps,                       ## number of optimization step\n",
    "               # restart_data_file = 'results.json',  ## restart optimization file\n",
    "               # custom_model = myCustomModel,        ## Specify custom model creation function (see examples/bayes_exp/serial_nans.ipynb)\n",
    "               verbose=True)\n",
    "\n",
    "print(results.keys())"
   ]
  },
  {
   "cell_type": "code",
   "execution_count": 3,
   "id": "7d7b9312-17fe-438c-8120-c0fc458b6a3c",
   "metadata": {},
   "outputs": [
    {
     "name": "stdout",
     "output_type": "stream",
     "text": [
      "dict_keys(['variables', 'objectives', 'corrected_objectives', 'constraints', 'corrected_constraints', 'constraint_status', 'feasibility', 'model'])\n"
     ]
    },
    {
     "data": {
      "text/plain": [
       "[<matplotlib.lines.Line2D at 0x252f2baec10>]"
      ]
     },
     "execution_count": 3,
     "metadata": {},
     "output_type": "execute_result"
    },
    {
     "data": {
      "image/png": "[encoded data removed]",
      "text/plain": [
       "<Figure size 432x288 with 1 Axes>"
      ]
     },
     "metadata": {
      "needs_background": "light"
     },
     "output_type": "display_data"
    }
   ],
   "source": [
    "fig, ax = plt.subplots()\n",
    "print(results.keys())\n",
    "train_y = results['objectives']\n",
    "valid_y = train_y[results['feasibility'].flatten()]\n",
    "ax.plot(train_y[:, 0], train_y[:, 1], '.')\n",
    "ax.set_ylabel('$f_2$')\n",
    "ax.set_xlabel('$f_1$')\n",
    "\n",
    "# highlight Pareto front, ONLY using valid observations (note botorch assumes maximization when determing dominant points)\n",
    "non_dom = is_non_dominated(-valid_y)\n",
    "ax.plot(valid_y[:,0][non_dom],valid_y[:,1][non_dom],'C1o')"
   ]
  },
  {
   "cell_type": "code",
   "execution_count": null,
   "id": "c4a97d81-1c8f-45c9-8801-c901bdbce636",
   "metadata": {},
   "outputs": [],
   "source": []
  }
 ],
 "metadata": {
  "kernelspec": {
   "display_name": "xopt",
   "language": "python",
   "name": "xopt"
  },
  "language_info": {
   "codemirror_mode": {
    "name": "ipython",
    "version": 3
   },
   "file_extension": ".py",
   "mimetype": "text/x-python",
   "name": "python",
   "nbconvert_exporter": "python",
   "pygments_lexer": "ipython3",
   "version": "3.9.6"
  }
 },
 "nbformat": 4,
 "nbformat_minor": 5
}
