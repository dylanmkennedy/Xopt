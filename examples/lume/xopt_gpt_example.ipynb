{
 "cells": [
  {
   "cell_type": "code",
   "execution_count": 1,
   "metadata": {},
   "outputs": [],
   "source": [
    "# Useful for debugging\n",
    "%load_ext autoreload\n",
    "%autoreload 2"
   ]
  },
  {
   "cell_type": "markdown",
   "metadata": {},
   "source": [
    "# Xopt class, GPT CBETA DC GUN example\n",
    "\n",
    "This is the class method for running Xopt."
   ]
  },
  {
   "cell_type": "code",
   "execution_count": 2,
   "metadata": {},
   "outputs": [],
   "source": [
    "from xopt import Xopt\n",
    "\n",
    "# Notebook printing output\n",
    "from xopt import output_notebook\n",
    "output_notebook()"
   ]
  },
  {
   "cell_type": "code",
   "execution_count": 3,
   "metadata": {},
   "outputs": [],
   "source": [
    "import yaml\n",
    "\n",
    "# Make a proper input file. \n",
    "\n",
    "YAML=\"\"\"\n",
    "xopt:\n",
    "    output_path: null\n",
    "  \n",
    "algorithm:\n",
    "  name: cnsga\n",
    "  options: {max_generations: 16, population_size: 24, crossover_probability: 0.9, mutation_probability: 1.0,\n",
    "  selection: auto, show_progress: True, population: null}\n",
    "\n",
    "simulation:\n",
    "  name: gpt_with_distgen\n",
    "  function: gpt.gpt_distgen.evaluate_gpt_with_distgen\n",
    "  options:\n",
    "    gpt_input_file: ../templates/cbeta_dcgun/cbeta_dcgun_gpt.in\n",
    "    distgen_input_file: ../templates/cbeta_dcgun/cbeta_dcgun_distgen.yaml\n",
    "      \n",
    "\n",
    "# Note that you can call another file in the top level group:\n",
    "vocs: ../templates/cbeta_dcgun/cbeta_dcgun_vocs.yaml\n",
    "\n",
    "\"\"\"\n",
    "config = yaml.safe_load(YAML)"
   ]
  },
  {
   "cell_type": "code",
   "execution_count": 4,
   "metadata": {},
   "outputs": [
    {
     "name": "stdout",
     "output_type": "stream",
     "text": [
      "Loading config from dict.\n",
      "Loading config from dict.\n",
      "Loading config from dict.\n",
      "Loading config from dict.\n",
      "Loading from YAML file: ../templates/cbeta_dcgun/cbeta_dcgun_vocs.yaml\n",
      "`name` keyword no longer allowed in vocs config, removing\n",
      "`description` keyword no longer allowed in vocs config, removing\n",
      "Warning: No path set for key xopt : output_path\n",
      "Warning: No path set for key simulation : options : archive_path\n"
     ]
    },
    {
     "data": {
      "text/plain": [
       "\n",
       "            Xopt \n",
       "________________________________           \n",
       "Version: 0.4.3+171.g6a7a693.dirty\n",
       "Configured: True\n",
       "Config as YAML:\n",
       "xopt: {output_path: null}\n",
       "algorithm:\n",
       "  name: cnsga\n",
       "  options: {max_generations: 16, population_size: 24, crossover_probability: 0.9,\n",
       "    mutation_probability: 1.0, selection: auto, show_progress: true, population: null,\n",
       "    seed: null, verbose: null}\n",
       "  function: xopt.cnsga.cnsga\n",
       "simulation:\n",
       "  name: gpt_with_distgen\n",
       "  function: gpt.gpt_distgen.evaluate_gpt_with_distgen\n",
       "  options:\n",
       "    gpt_input_file: /Users/chrisonian/Code/GitHub/xopt/examples/templates/cbeta_dcgun/cbeta_dcgun_gpt.in\n",
       "    distgen_input_file: /Users/chrisonian/Code/GitHub/xopt/examples/templates/cbeta_dcgun/cbeta_dcgun_distgen.yaml\n",
       "    archive_path: null\n",
       "    merit_f: null\n",
       "    workdir: null\n",
       "    use_tempdir: true\n",
       "    gpt_bin: /Users/chrisonian/Code/xgpt/gpt321MacOSX/bin/gpt\n",
       "    timeout: 2500\n",
       "    auto_phase: false\n",
       "    verbose: false\n",
       "    gpt_verbose: false\n",
       "    asci2gdf_bin: /Users/chrisonian/Code/xgpt/gpt321MacOSX/bin/asci2gdf\n",
       "    kill_msgs: ['gpt: Spacecharge3Dmesh:', 'Error:', 'gpt: No valid GPT license',\n",
       "      malloc, Segmentation fault]\n",
       "vocs:\n",
       "  variables:\n",
       "    r_dist:sigma_xy:value: [0.0, 10]\n",
       "    r_dist:alpha:value: [0.1, 1.0]\n",
       "    t_dist:sigma_t:value: [0.0, 0.57]\n",
       "    t_dist:alpha:value: [0.0, 1.0]\n",
       "    total_charge:value: [0.0, 5.0]\n",
       "    sol_1_current: [0.0, 5.0]\n",
       "  constants: {n_particle: 200, gun_voltage: 375}\n",
       "  objectives: {end_total_charge: MAXIMIZE, end_norm_emit_x: MINIMIZE}\n",
       "  constraints:\n",
       "    end_n_particle_loss: [LESS_THAN, 1]\n",
       "  linked_variables: null"
      ]
     },
     "execution_count": 4,
     "metadata": {},
     "output_type": "execute_result"
    }
   ],
   "source": [
    "# Create object\n",
    "X = Xopt(config=config)\n",
    "\n",
    "# Show config\n",
    "X"
   ]
  },
  {
   "cell_type": "code",
   "execution_count": 5,
   "metadata": {},
   "outputs": [
    {
     "data": {
      "text/plain": [
       "{'variables': {'r_dist:sigma_xy:value': [0.0, 10],\n",
       "  'r_dist:alpha:value': [0.1, 1.0],\n",
       "  't_dist:sigma_t:value': [0.0, 0.57],\n",
       "  't_dist:alpha:value': [0.0, 1.0],\n",
       "  'total_charge:value': [0.0, 5.0],\n",
       "  'sol_1_current': [0.0, 5.0]},\n",
       " 'constants': {'n_particle': 200, 'gun_voltage': 375},\n",
       " 'objectives': {'end_total_charge': 'MAXIMIZE', 'end_norm_emit_x': 'MINIMIZE'},\n",
       " 'constraints': {'end_n_particle_loss': ['LESS_THAN', 1]},\n",
       " 'linked_variables': None}"
      ]
     },
     "execution_count": 5,
     "metadata": {},
     "output_type": "execute_result"
    }
   ],
   "source": [
    "# Check vocs\n",
    "X.vocs"
   ]
  },
  {
   "cell_type": "code",
   "execution_count": 6,
   "metadata": {},
   "outputs": [
    {
     "data": {
      "text/plain": [
       "{'r_dist:sigma_xy:value': 2.6434711241463082,\n",
       " 'r_dist:alpha:value': 0.641163194206273,\n",
       " 't_dist:sigma_t:value': 0.2359125100339022,\n",
       " 't_dist:alpha:value': 0.681069059210294,\n",
       " 'total_charge:value': 0.04558362600165011,\n",
       " 'sol_1_current': 1.4972625666708756,\n",
       " 'n_particle': 200,\n",
       " 'gun_voltage': 375}"
      ]
     },
     "execution_count": 6,
     "metadata": {},
     "output_type": "execute_result"
    }
   ],
   "source": [
    "# Check random inputs\n",
    "X.random_inputs()"
   ]
  },
  {
   "cell_type": "code",
   "execution_count": 7,
   "metadata": {},
   "outputs": [
    {
     "data": {
      "text/plain": [
       "\u001b[0;31mSignature:\u001b[0m \u001b[0mX\u001b[0m\u001b[0;34m.\u001b[0m\u001b[0mrandom_evaluate\u001b[0m\u001b[0;34m(\u001b[0m\u001b[0mcheck_vocs\u001b[0m\u001b[0;34m=\u001b[0m\u001b[0;32mTrue\u001b[0m\u001b[0;34m)\u001b[0m\u001b[0;34m\u001b[0m\u001b[0;34m\u001b[0m\u001b[0m\n",
       "\u001b[0;31mDocstring:\u001b[0m\n",
       "Makes random inputs and runs evaluate.\n",
       "\n",
       "If check_vocs, will check that all keys in vocs constraints and objectives\n",
       "are in output.\n",
       "\u001b[0;31mFile:\u001b[0m      ~/Code/GitHub/xopt/xopt/xopt.py\n",
       "\u001b[0;31mType:\u001b[0m      method\n"
      ]
     },
     "metadata": {},
     "output_type": "display_data"
    }
   ],
   "source": [
    "?X.random_evaluate"
   ]
  },
  {
   "cell_type": "code",
   "execution_count": 8,
   "metadata": {},
   "outputs": [
    {
     "name": "stdout",
     "output_type": "stream",
     "text": [
      "Could no parse: Map2D_B(\"wcs\", XSLA01,YSLA01,ZSLA01,  cos(THXSLA01),0,sin(THXSLA01), 0,1,0, \"fields/solenoid_SLA_L60.gdf\", \"R\", \"Z\", \"Br\", \"Bz\", BSLA01);\n",
      "{'error': False, 'end_n_particle': 200, 'end_norm_emit_x': 2.336658932399305e-05, 'end_norm_emit_y': 2.283478973066919e-05, 'end_higher_order_energy_spread': 1012.0269863957863, 'end_mean_x': 2.511693193638801e-05, 'end_sigma_x': 0.011515843599994803, 'end_min_x': -0.025090111401920277, 'end_max_x': 0.02505271721713728, 'end_mean_y': 3.781309108373097e-05, 'end_sigma_y': 0.011451655463196604, 'end_min_y': -0.02587819637067267, 'end_max_y': 0.024467107290988232, 'end_mean_z': 0.9220000000000002, 'end_sigma_z': 1.3866681133119837e-16, 'end_min_z': 0.9219999999999998, 'end_max_z': 0.9220000000000003, 'end_mean_r': 0.014853153249406824, 'end_sigma_r': 0.006568178279177922, 'end_min_r': 0.0004452092231093064, 'end_max_r': 0.02689848055208645, 'end_mean_theta': -0.03584437214760989, 'end_sigma_theta': 1.8236498055723187, 'end_min_theta': -3.1401585197507527, 'end_max_theta': 3.108954445904241, 'end_mean_px': 16.03632030898053, 'end_sigma_px': 9490.946584050951, 'end_min_px': -21101.09997643834, 'end_max_px': 19664.75791667239, 'end_mean_py': 22.47706397095799, 'end_sigma_py': 9430.447805928043, 'end_min_py': -20441.851877528716, 'end_max_py': 19254.31387871734, 'end_mean_pz': 723185.3212584989, 'end_sigma_pz': 5825.48184502432, 'end_min_pz': 714115.8145625271, 'end_max_pz': 734606.1928337594, 'end_mean_pr': 12163.630158470603, 'end_sigma_pr': 5559.057049861567, 'end_min_pr': -1348.89062240274, 'end_max_pr': 21132.32378560367, 'end_mean_ptheta': 59.76019172297955, 'end_sigma_ptheta': 389.345691422541, 'end_min_ptheta': -604.7170271764044, 'end_max_ptheta': 3403.333872572646, 'end_mean_beta_x': 1.8318761232383816e-05, 'end_sigma_beta_x': 0.010709933738426937, 'end_min_beta_x': -0.023739013616869677, 'end_max_beta_x': 0.022100103041033537, 'end_mean_beta_y': 2.5347156231132465e-05, 'end_sigma_beta_y': 0.010642237993056986, 'end_min_beta_y': -0.022986998441167226, 'end_max_beta_y': 0.021669559550833006, 'end_mean_beta_z': 0.8165829071186959, 'end_sigma_beta_z': 0.00217839145716668, 'end_min_beta_z': 0.8131919190846886, 'end_max_beta_z': 0.8209058331086782, 'end_mean_xp': 2.2546829787859864e-05, 'end_sigma_xp': 0.013112414467528795, 'end_min_xp': -0.029024633972158466, 'end_max_xp': 0.027005793515627725, 'end_mean_yp': 3.1055807568469704e-05, 'end_sigma_yp': 0.01302978050265902, 'end_min_yp': -0.02809834834607611, 'end_max_yp': 0.02649756200787968, 'end_mean_energy': 885611.1622056582, 'end_sigma_energy': 4770.070816525637, 'end_min_energy': 878121.7865871394, 'end_max_energy': 894872.6677356991, 'end_mean_kinetic_energy': 374612.21220565826, 'end_sigma_kinetic_energy': 4770.070816525637, 'end_min_kinetic_energy': 367122.8365871394, 'end_max_kinetic_energy': 383873.71773569915, 'end_mean_p': 723308.9669571993, 'end_sigma_p': 5839.145233507591, 'end_min_p': 714127.4012232601, 'end_max_p': 734627.2282997033, 'end_mean_gamma': 1.733097812051587, 'end_sigma_gamma': 0.009334795730060972, 'end_min_gamma': 1.7184414695708072, 'end_max_gamma': 1.7512221262601404, 'end_mean_t': 3.952727292989109e-09, 'end_sigma_t': 1.1875046249004819e-10, 'end_min_t': 3.6653288620596504e-09, 'end_max_t': 4.2115220242745256e-09, 'end_z_screen': 0.9220000000000002, 'end_n_particle_loss': 0, 'end_total_charge': 4.347240233171595e-09, 'end_max[sigma_x, sigma_y]': 0.011515843599994803, 'end_max[norm_emit_x, norm_emit_y]': 2.336658932399305e-05, 'fingerprint': '7e4f93271bdef76708df2d0d5722ff02'}\n",
      "CPU times: user 133 ms, sys: 32.8 ms, total: 165 ms\n",
      "Wall time: 1.41 s\n"
     ]
    }
   ],
   "source": [
    "%%time\n",
    "# Do a random evaluate to check that everything will run\n",
    "x=X.random_evaluate(check_vocs=True)\n",
    "print(x)"
   ]
  },
  {
   "cell_type": "code",
   "execution_count": 9,
   "metadata": {},
   "outputs": [
    {
     "data": {
      "text/plain": [
       "{'end_n_particle_loss': ['LESS_THAN', 1]}"
      ]
     },
     "execution_count": 9,
     "metadata": {},
     "output_type": "execute_result"
    }
   ],
   "source": [
    "X.vocs['constraints']"
   ]
  },
  {
   "cell_type": "code",
   "execution_count": 10,
   "metadata": {},
   "outputs": [
    {
     "data": {
      "text/plain": [
       "{'max_generations': 16,\n",
       " 'population_size': 24,\n",
       " 'crossover_probability': 0.9,\n",
       " 'mutation_probability': 1.0,\n",
       " 'selection': 'auto',\n",
       " 'show_progress': True,\n",
       " 'population': None,\n",
       " 'seed': None,\n",
       " 'verbose': None}"
      ]
     },
     "execution_count": 10,
     "metadata": {},
     "output_type": "execute_result"
    }
   ],
   "source": [
    "# These are the algorithm options\n",
    "X.algorithm['options']"
   ]
  },
  {
   "cell_type": "code",
   "execution_count": 11,
   "metadata": {},
   "outputs": [
    {
     "data": {
      "text/plain": [
       "{'gpt_input_file': '/Users/chrisonian/Code/GitHub/xopt/examples/templates/cbeta_dcgun/cbeta_dcgun_gpt.in',\n",
       " 'distgen_input_file': '/Users/chrisonian/Code/GitHub/xopt/examples/templates/cbeta_dcgun/cbeta_dcgun_distgen.yaml',\n",
       " 'archive_path': None,\n",
       " 'merit_f': None,\n",
       " 'workdir': None,\n",
       " 'use_tempdir': True,\n",
       " 'gpt_bin': '/Users/chrisonian/Code/xgpt/gpt321MacOSX/bin/gpt',\n",
       " 'timeout': 2500,\n",
       " 'auto_phase': False,\n",
       " 'verbose': False,\n",
       " 'gpt_verbose': False,\n",
       " 'asci2gdf_bin': '/Users/chrisonian/Code/xgpt/gpt321MacOSX/bin/asci2gdf',\n",
       " 'kill_msgs': ['gpt: Spacecharge3Dmesh:',\n",
       "  'Error:',\n",
       "  'gpt: No valid GPT license',\n",
       "  'malloc',\n",
       "  'Segmentation fault']}"
      ]
     },
     "execution_count": 11,
     "metadata": {},
     "output_type": "execute_result"
    }
   ],
   "source": [
    "# These are the options in the evaluate function\n",
    "X.simulation['options']"
   ]
  },
  {
   "cell_type": "markdown",
   "metadata": {},
   "source": [
    "# Run CNSGA using processes or threads"
   ]
  },
  {
   "cell_type": "code",
   "execution_count": 12,
   "metadata": {},
   "outputs": [],
   "source": [
    "from concurrent.futures import ProcessPoolExecutor as PoolExecutor\n",
    "#from concurrent.futures import ThreadPoolExecutor as PoolExecutor\n",
    "executor = PoolExecutor()"
   ]
  },
  {
   "cell_type": "code",
   "execution_count": 13,
   "metadata": {},
   "outputs": [
    {
     "name": "stdout",
     "output_type": "stream",
     "text": [
      "Starting at time 2021-09-27T20:51:36-07:00\n",
      "\n",
      "    \n",
      "    \n",
      "     ▄████▄   ███▄    █   ██████   ▄████  ▄▄▄      \n",
      "    ▒██▀ ▀█   ██ ▀█   █ ▒██    ▒  ██▒ ▀█▒▒████▄    \n",
      "    ▒▓█    ▄ ▓██  ▀█ ██▒░ ▓██▄   ▒██░▄▄▄░▒██  ▀█▄  \n",
      "    ▒▓▓▄ ▄██▒▓██▒  ▐▌██▒  ▒   ██▒░▓█  ██▓░██▄▄▄▄██ \n",
      "    ▒ ▓███▀ ░▒██░   ▓██░▒██████▒▒░▒▓███▀▒ ▓█   ▓██▒\n",
      "    ░ ░▒ ▒  ░░ ▒░   ▒ ▒ ▒ ▒▓▒ ▒ ░ ░▒   ▒  ▒▒   ▓▒█░\n",
      "      ░  ▒   ░ ░░   ░ ▒░░ ░▒  ░ ░  ░   ░   ▒   ▒▒ ░\n",
      "    ░           ░   ░ ░ ░  ░  ░  ░ ░   ░   ░   ▒   \n",
      "    ░ ░               ░       ░        ░       ░  ░\n",
      "    ░                                              \n",
      "    \n",
      "    \n",
      "    Continuous Non-dominated Sorting Genetic Algorithm\n",
      "    Version 0.4.3+171.g6a7a693.dirty\n",
      "    \n",
      "Creating toolbox from vocs.\n",
      "Created toolbox with 6 variables, 1 constraints, and 2 objectives.\n",
      "    Using selection algorithm: nsga2\n",
      "Initializing with a new population, size 24\n",
      "Maximum generations: 16\n",
      "____________________________________________________\n",
      "24 fitness calculations for initial generation\n",
      "done.\n",
      "Submitting first batch of children\n"
     ]
    },
    {
     "data": {
      "application/vnd.jupyter.widget-view+json": {
       "model_id": "4f6bf14479ba4c8e970f8a035b1e0011",
       "version_major": 2,
       "version_minor": 0
      },
      "text/plain": [
       "  0%|          | 0/24 [00:00<?, ?it/s]"
      ]
     },
     "metadata": {},
     "output_type": "display_data"
    },
    {
     "name": "stderr",
     "output_type": "stream",
     "text": [
      "Exception caught in cnsga_evaluate\n"
     ]
    },
    {
     "data": {
      "application/vnd.jupyter.widget-view+json": {
       "model_id": "13781d7baa0545019c69debc450cf468",
       "version_major": 2,
       "version_minor": 0
      },
      "text/plain": [
       "  0%|          | 0/24 [00:00<?, ?it/s]"
      ]
     },
     "metadata": {},
     "output_type": "display_data"
    },
    {
     "name": "stdout",
     "output_type": "stream",
     "text": [
      "Generation 0 completed in 0.38846 minutes\n"
     ]
    },
    {
     "name": "stderr",
     "output_type": "stream",
     "text": [
      "Exception caught in cnsga_evaluate\n"
     ]
    },
    {
     "data": {
      "application/vnd.jupyter.widget-view+json": {
       "model_id": "8caac303905e4527be55016bbf7b4f99",
       "version_major": 2,
       "version_minor": 0
      },
      "text/plain": [
       "  0%|          | 0/24 [00:00<?, ?it/s]"
      ]
     },
     "metadata": {},
     "output_type": "display_data"
    },
    {
     "name": "stdout",
     "output_type": "stream",
     "text": [
      "Generation 1 completed in 0.40131 minutes\n"
     ]
    },
    {
     "data": {
      "application/vnd.jupyter.widget-view+json": {
       "model_id": "2ae48915c66d4813be006f674c0e66af",
       "version_major": 2,
       "version_minor": 0
      },
      "text/plain": [
       "  0%|          | 0/24 [00:00<?, ?it/s]"
      ]
     },
     "metadata": {},
     "output_type": "display_data"
    },
    {
     "name": "stdout",
     "output_type": "stream",
     "text": [
      "Generation 2 completed in 0.45273 minutes\n"
     ]
    },
    {
     "data": {
      "application/vnd.jupyter.widget-view+json": {
       "model_id": "5ef5807b55e94422b75d14c3a7b1bd6e",
       "version_major": 2,
       "version_minor": 0
      },
      "text/plain": [
       "  0%|          | 0/24 [00:00<?, ?it/s]"
      ]
     },
     "metadata": {},
     "output_type": "display_data"
    },
    {
     "name": "stdout",
     "output_type": "stream",
     "text": [
      "Generation 3 completed in 0.72994 minutes\n"
     ]
    },
    {
     "data": {
      "application/vnd.jupyter.widget-view+json": {
       "model_id": "4282ab86a1a14fad8a8efeeaa5bd5113",
       "version_major": 2,
       "version_minor": 0
      },
      "text/plain": [
       "  0%|          | 0/24 [00:00<?, ?it/s]"
      ]
     },
     "metadata": {},
     "output_type": "display_data"
    },
    {
     "name": "stdout",
     "output_type": "stream",
     "text": [
      "Generation 4 completed in 0.76811 minutes\n"
     ]
    },
    {
     "data": {
      "application/vnd.jupyter.widget-view+json": {
       "model_id": "69fbfcaba1bb4212898de2277331cf00",
       "version_major": 2,
       "version_minor": 0
      },
      "text/plain": [
       "  0%|          | 0/24 [00:00<?, ?it/s]"
      ]
     },
     "metadata": {},
     "output_type": "display_data"
    },
    {
     "name": "stdout",
     "output_type": "stream",
     "text": [
      "Generation 5 completed in 0.88364 minutes\n"
     ]
    },
    {
     "data": {
      "application/vnd.jupyter.widget-view+json": {
       "model_id": "0e739554b84c44ea8c1c9b13c37f4532",
       "version_major": 2,
       "version_minor": 0
      },
      "text/plain": [
       "  0%|          | 0/24 [00:00<?, ?it/s]"
      ]
     },
     "metadata": {},
     "output_type": "display_data"
    },
    {
     "name": "stdout",
     "output_type": "stream",
     "text": [
      "Generation 6 completed in 0.96814 minutes\n"
     ]
    },
    {
     "data": {
      "application/vnd.jupyter.widget-view+json": {
       "model_id": "873b2965db354afdbaa2adb25df5de10",
       "version_major": 2,
       "version_minor": 0
      },
      "text/plain": [
       "  0%|          | 0/24 [00:00<?, ?it/s]"
      ]
     },
     "metadata": {},
     "output_type": "display_data"
    },
    {
     "name": "stdout",
     "output_type": "stream",
     "text": [
      "Generation 7 completed in 0.87122 minutes\n"
     ]
    },
    {
     "data": {
      "application/vnd.jupyter.widget-view+json": {
       "model_id": "eb243cb996234988b52934b11806f1f7",
       "version_major": 2,
       "version_minor": 0
      },
      "text/plain": [
       "  0%|          | 0/24 [00:00<?, ?it/s]"
      ]
     },
     "metadata": {},
     "output_type": "display_data"
    },
    {
     "name": "stdout",
     "output_type": "stream",
     "text": [
      "Generation 8 completed in 0.96427 minutes\n"
     ]
    },
    {
     "data": {
      "application/vnd.jupyter.widget-view+json": {
       "model_id": "947985c5cc3a4c48b4c4dcd33ab2f415",
       "version_major": 2,
       "version_minor": 0
      },
      "text/plain": [
       "  0%|          | 0/24 [00:00<?, ?it/s]"
      ]
     },
     "metadata": {},
     "output_type": "display_data"
    },
    {
     "name": "stdout",
     "output_type": "stream",
     "text": [
      "Generation 9 completed in 1.10463 minutes\n"
     ]
    },
    {
     "data": {
      "application/vnd.jupyter.widget-view+json": {
       "model_id": "77be54c99e104037a8ffd9010f24faa9",
       "version_major": 2,
       "version_minor": 0
      },
      "text/plain": [
       "  0%|          | 0/24 [00:00<?, ?it/s]"
      ]
     },
     "metadata": {},
     "output_type": "display_data"
    },
    {
     "name": "stdout",
     "output_type": "stream",
     "text": [
      "Generation 10 completed in 1.22060 minutes\n"
     ]
    },
    {
     "data": {
      "application/vnd.jupyter.widget-view+json": {
       "model_id": "1602cd70efcc432e90e7064f03c893d9",
       "version_major": 2,
       "version_minor": 0
      },
      "text/plain": [
       "  0%|          | 0/24 [00:00<?, ?it/s]"
      ]
     },
     "metadata": {},
     "output_type": "display_data"
    },
    {
     "name": "stdout",
     "output_type": "stream",
     "text": [
      "Generation 11 completed in 1.03390 minutes\n"
     ]
    },
    {
     "data": {
      "application/vnd.jupyter.widget-view+json": {
       "model_id": "5db7f37a2056408bb630d4cfb5888006",
       "version_major": 2,
       "version_minor": 0
      },
      "text/plain": [
       "  0%|          | 0/24 [00:00<?, ?it/s]"
      ]
     },
     "metadata": {},
     "output_type": "display_data"
    },
    {
     "name": "stdout",
     "output_type": "stream",
     "text": [
      "Generation 12 completed in 1.04659 minutes\n"
     ]
    },
    {
     "data": {
      "application/vnd.jupyter.widget-view+json": {
       "model_id": "dbaad45f582b4a648b00b26249bd5863",
       "version_major": 2,
       "version_minor": 0
      },
      "text/plain": [
       "  0%|          | 0/24 [00:00<?, ?it/s]"
      ]
     },
     "metadata": {},
     "output_type": "display_data"
    },
    {
     "name": "stdout",
     "output_type": "stream",
     "text": [
      "Generation 13 completed in 1.49504 minutes\n"
     ]
    },
    {
     "data": {
      "application/vnd.jupyter.widget-view+json": {
       "model_id": "50d05be2764649a5bd92e758da35ed16",
       "version_major": 2,
       "version_minor": 0
      },
      "text/plain": [
       "  0%|          | 0/24 [00:00<?, ?it/s]"
      ]
     },
     "metadata": {},
     "output_type": "display_data"
    },
    {
     "name": "stdout",
     "output_type": "stream",
     "text": [
      "Generation 14 completed in 1.00490 minutes\n"
     ]
    },
    {
     "data": {
      "application/vnd.jupyter.widget-view+json": {
       "model_id": "e7f2b80cbddb46d38060cc00decc70d6",
       "version_major": 2,
       "version_minor": 0
      },
      "text/plain": [
       "  0%|          | 0/24 [00:00<?, ?it/s]"
      ]
     },
     "metadata": {},
     "output_type": "display_data"
    },
    {
     "name": "stdout",
     "output_type": "stream",
     "text": [
      "Generation 15 completed in 1.11415 minutes\n"
     ]
    }
   ],
   "source": [
    "X.run(executor=executor)"
   ]
  },
  {
   "cell_type": "markdown",
   "metadata": {},
   "source": [
    "# Ouput\n",
    "The last generation, as well as important simulation data is saved in xopt.population:"
   ]
  },
  {
   "cell_type": "code",
   "execution_count": 14,
   "metadata": {},
   "outputs": [
    {
     "name": "stdout",
     "output_type": "stream",
     "text": [
      "Available population data: ['variables', 'generation', 'vocs', 'error', 'inputs', 'outputs']\n",
      "See which individuals had errors: [False, False, False, False, False, False, False, False, False, False, False, False, False, False, False, False, False, False, False, False, False, False, False, False]\n"
     ]
    }
   ],
   "source": [
    "print('Available population data:',list(X.results.keys()))\n",
    "print('See which individuals had errors:', X.results['error'])"
   ]
  },
  {
   "cell_type": "code",
   "execution_count": 15,
   "metadata": {},
   "outputs": [
    {
     "data": {
      "image/png": "[encoded data removed]",
      "text/plain": [
       "<Figure size 432x288 with 1 Axes>"
      ]
     },
     "metadata": {
      "image/png": {
       "height": 263,
       "width": 379
      },
      "needs_background": "light"
     },
     "output_type": "display_data"
    }
   ],
   "source": [
    "from matplotlib import pyplot as plt\n",
    "import matplotlib \n",
    "import numpy as np\n",
    "\n",
    "%matplotlib inline\n",
    "%config InlineBackend.figure_format = 'retina'\n",
    "\n",
    "qs =  np.array([indin['total_charge:value'] for indin in X.results['inputs']])\n",
    "ens = np.array([indout['end_norm_emit_x'] for indout in X.results['outputs']])*1e6\n",
    "\n",
    "plt.plot(qs, ens, '*')\n",
    "plt.xlabel('$q_b$ (nC)')\n",
    "plt.ylabel('$\\epsilon_{n,x}$ ($\\mu$m)');"
   ]
  },
  {
   "cell_type": "markdown",
   "metadata": {},
   "source": [
    "# Write this configuration"
   ]
  },
  {
   "cell_type": "code",
   "execution_count": 16,
   "metadata": {},
   "outputs": [
    {
     "name": "stdout",
     "output_type": "stream",
     "text": [
      "Config written as YAML to test.yaml\n"
     ]
    }
   ],
   "source": [
    "X.save('test.yaml')"
   ]
  },
  {
   "cell_type": "code",
   "execution_count": 17,
   "metadata": {},
   "outputs": [
    {
     "name": "stdout",
     "output_type": "stream",
     "text": [
      "xopt: {output_path: null}\n",
      "algorithm:\n",
      "  name: cnsga\n",
      "  options: {max_generations: 16, population_size: 24, crossover_probability: 0.9,\n",
      "    mutation_probability: 1.0, selection: auto, show_progress: true, population: null,\n",
      "    seed: null, verbose: null}\n",
      "  function: xopt.cnsga.cnsga\n",
      "simulation:\n",
      "  name: gpt_with_distgen\n",
      "  function: gpt.gpt_distgen.evaluate_gpt_with_distgen\n",
      "  options:\n",
      "    gpt_input_file: /Users/chrisonian/Code/GitHub/xopt/examples/templates/cbeta_dcgun/cbeta_dcgun_gpt.in\n",
      "    distgen_input_file: /Users/chrisonian/Code/GitHub/xopt/examples/templates/cbeta_dcgun/cbeta_dcgun_distgen.yaml\n",
      "    archive_path: null\n",
      "    merit_f: null\n",
      "    workdir: null\n",
      "    use_tempdir: true\n",
      "    gpt_bin: /Users/chrisonian/Code/xgpt/gpt321MacOSX/bin/gpt\n",
      "    timeout: 2500\n",
      "    auto_phase: false\n",
      "    verbose: false\n",
      "    gpt_verbose: false\n",
      "    asci2gdf_bin: /Users/chrisonian/Code/xgpt/gpt321MacOSX/bin/asci2gdf\n",
      "    kill_msgs: ['gpt: Spacecharge3Dmesh:', 'Error:', 'gpt: No valid GPT license',\n",
      "      malloc, Segmentation fault]\n",
      "vocs:\n",
      "  variables:\n",
      "    r_dist:sigma_xy:value: [0.0, 10]\n",
      "    r_dist:alpha:value: [0.1, 1.0]\n",
      "    t_dist:sigma_t:value: [0.0, 0.57]\n",
      "    t_dist:alpha:value: [0.0, 1.0]\n",
      "    total_charge:value: [0.0, 5.0]\n",
      "    sol_1_current: [0.0, 5.0]\n",
      "  constants: {n_particle: 200, gun_voltage: 375}\n",
      "  objectives: {end_total_charge: MAXIMIZE, end_norm_emit_x: MINIMIZE}\n",
      "  constraints:\n",
      "    end_n_particle_loss: [LESS_THAN, 1]\n",
      "  linked_variables: null\n"
     ]
    }
   ],
   "source": [
    "!cat test.yaml"
   ]
  },
  {
   "cell_type": "markdown",
   "metadata": {},
   "source": [
    "# Run with MPI"
   ]
  },
  {
   "cell_type": "code",
   "execution_count": null,
   "metadata": {},
   "outputs": [],
   "source": [
    "!mpirun -n 4 python -m mpi4py.futures -m xopt.mpi.run test.yaml"
   ]
  },
  {
   "cell_type": "markdown",
   "metadata": {},
   "source": [
    "# Dask "
   ]
  },
  {
   "cell_type": "code",
   "execution_count": null,
   "metadata": {},
   "outputs": [],
   "source": [
    "from dask.distributed import Client\n",
    "executor = Client()\n",
    "executor"
   ]
  },
  {
   "cell_type": "code",
   "execution_count": null,
   "metadata": {},
   "outputs": [],
   "source": [
    "# Wait a few seconds for the Dask cluster to start\n",
    "from time import sleep\n",
    "sleep(5)"
   ]
  },
  {
   "cell_type": "code",
   "execution_count": null,
   "metadata": {},
   "outputs": [],
   "source": [
    "# Increase the number of generations\n",
    "X.algorithm['options']['max_generations'] = 7\n",
    "X.run(executor=executor)"
   ]
  },
  {
   "cell_type": "code",
   "execution_count": null,
   "metadata": {},
   "outputs": [],
   "source": [
    "X.population.keys()"
   ]
  },
  {
   "cell_type": "markdown",
   "metadata": {},
   "source": [
    "# Cleanup"
   ]
  },
  {
   "cell_type": "code",
   "execution_count": null,
   "metadata": {},
   "outputs": [],
   "source": [
    "!rm -r dask-worker-space"
   ]
  },
  {
   "cell_type": "code",
   "execution_count": null,
   "metadata": {},
   "outputs": [],
   "source": [
    "!rm test.yaml"
   ]
  },
  {
   "cell_type": "code",
   "execution_count": null,
   "metadata": {},
   "outputs": [],
   "source": []
  }
 ],
 "metadata": {
  "kernelspec": {
   "display_name": "Python 3 (ipykernel)",
   "language": "python",
   "name": "python3"
  },
  "language_info": {
   "codemirror_mode": {
    "name": "ipython",
    "version": 3
   },
   "file_extension": ".py",
   "mimetype": "text/x-python",
   "name": "python",
   "nbconvert_exporter": "python",
   "pygments_lexer": "ipython3",
   "version": "3.9.7"
  }
 },
 "nbformat": 4,
 "nbformat_minor": 4
}
