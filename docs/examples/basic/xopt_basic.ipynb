{
 "cells": [
  {
   "cell_type": "markdown",
   "metadata": {},
   "source": [
    "# Xopt basic example\n",
    "\n",
    "Xopt optimization problems can be defined via one of two methods:\n",
    "- a yaml text file (for limiting the amount of python script writing and/or setting up simulation runs)\n",
    "- a simple python script (for those who prefer to use python directly)\n",
    "\n",
    "Here we will demonstrate how both of these techniques can be used to solve a relatively simple  constrained optimization problem.\n",
    "\n",
    "$n=2$ variables:\n",
    "$x_i \\in [0, \\pi], i=1,2$\n",
    "\n",
    "Objective:\n",
    "- $f(x) = \\sum_i x_i$\n",
    "\n",
    "Constraint:\n",
    "- $g(x) = -x_1^2 -x_2^2 + 1 \\le 0$"
   ]
  },
  {
   "cell_type": "code",
   "execution_count": 1,
   "metadata": {
    "execution": {
     "iopub.execute_input": "2022-07-02T04:16:41.207662Z",
     "iopub.status.busy": "2022-07-02T04:16:41.207282Z",
     "iopub.status.idle": "2022-07-02T04:16:41.884950Z",
     "shell.execute_reply": "2022-07-02T04:16:41.884323Z"
    },
    "ExecuteTime": {
     "end_time": "2023-11-10T18:58:52.393542600Z",
     "start_time": "2023-11-10T18:58:48.444766500Z"
    }
   },
   "outputs": [],
   "source": [
    "# Import the class\n",
    "from xopt import Xopt"
   ]
  },
  {
   "cell_type": "markdown",
   "metadata": {
    "collapsed": false
   },
   "source": [
    "## Xopt Components\n",
    "The definition of the Xopt object requires 3 parts, listed below:\n",
    "- The `Evaluator` object, which evaluates input points using the arbitrary function\n",
    "specified by the `function` property.\n",
    "- The `Generator` object, which, when given data that has been evaluated, generates\n",
    "future points to evaluate using the evaluator.\n",
    "- The `VOCS` (variables, objectives, constraints, statics) object, which specifies the\n",
    "input domain, the objectives, constraints and constants passed to the evaluator\n",
    "function.\n"
   ]
  },
  {
   "cell_type": "markdown",
   "source": [
    "## Defining Xopt components using python"
   ],
   "metadata": {
    "collapsed": false
   }
  },
  {
   "cell_type": "markdown",
   "source": [
    "### Define the objective function and the evaluator\n",
    "Note that the objective function takes in a dict of variable values and returns a dict of objective return values. The keys of the input and output dictionaries must contain the keys we will specify in VOCS (see below)."
   ],
   "metadata": {
    "collapsed": false
   }
  },
  {
   "cell_type": "code",
   "execution_count": 3,
   "outputs": [
    {
     "ename": "SyntaxError",
     "evalue": "invalid syntax (83791900.py, line 4)",
     "output_type": "error",
     "traceback": [
      "\u001B[1;36m  Cell \u001B[1;32mIn[3], line 4\u001B[1;36m\u001B[0m\n\u001B[1;33m    return {\"f\": objective_value, \"g\"}\u001B[0m\n\u001B[1;37m                                     ^\u001B[0m\n\u001B[1;31mSyntaxError\u001B[0m\u001B[1;31m:\u001B[0m invalid syntax\n"
     ]
    }
   ],
   "source": [
    "from xopt import Evaluator\n",
    "\n",
    "def evaluate_function(inputs: dict) -> dict:\n",
    "    objective_value = inputs[\"x1\"]**2 + inputs[\"x2\"]**2\n",
    "    constraint_value = -inputs[\"x1\"]**2 - inputs[\"x2\"]**2 + 1\n",
    "    return {\"f\": objective_value, \"g\": constraint_value}\n",
    "\n",
    "evaluator = Evaluator(function=evaluate_function)"
   ],
   "metadata": {
    "collapsed": false,
    "ExecuteTime": {
     "end_time": "2023-11-10T18:58:52.453277800Z",
     "start_time": "2023-11-10T18:58:52.411424Z"
    }
   }
  },
  {
   "cell_type": "markdown",
   "source": [
    "### Define VOCS\n",
    "Here we define the names and ranges of input parameters, the names and settings of objectives, and the names and settings of constraints."
   ],
   "metadata": {
    "collapsed": false
   }
  },
  {
   "cell_type": "code",
   "execution_count": null,
   "outputs": [],
   "source": [
    "from xopt import VOCS\n",
    "import math\n",
    "\n",
    "vocs = VOCS(\n",
    "    variables = {\n",
    "        \"x1\": [0, math.pi],\n",
    "        \"x2\": [0, math.pi]\n",
    "    },\n",
    "    objectives = {\"f\": \"MINIMIZE\"},\n",
    "    constraints = {\"g\": [\"LESS_THAN\", 0]}\n",
    ")"
   ],
   "metadata": {
    "collapsed": false,
    "ExecuteTime": {
     "start_time": "2023-11-10T18:58:52.431392300Z"
    }
   }
  },
  {
   "cell_type": "markdown",
   "source": [
    "### Define Generator\n",
    "Here we will use the simplest generator that is defined by Xopt, random number generation."
   ],
   "metadata": {
    "collapsed": false
   }
  },
  {
   "cell_type": "code",
   "execution_count": null,
   "outputs": [],
   "source": [
    "from xopt.generators import get_generator \n",
    "\n",
    "# use the get generator method to get the  \n",
    "generator = get_generator(\"random\")()"
   ],
   "metadata": {
    "collapsed": false
   }
  },
  {
   "cell_type": "code",
   "execution_count": null,
   "outputs": [],
   "source": [
    "### "
   ],
   "metadata": {
    "collapsed": false
   }
  },
  {
   "cell_type": "code",
   "execution_count": null,
   "metadata": {
    "collapsed": false,
    "execution": {
     "iopub.execute_input": "2022-07-02T04:16:41.887258Z",
     "iopub.status.busy": "2022-07-02T04:16:41.886966Z",
     "iopub.status.idle": "2022-07-02T04:16:41.889280Z",
     "shell.execute_reply": "2022-07-02T04:16:41.889046Z"
    },
    "ExecuteTime": {
     "start_time": "2023-11-10T18:58:52.433425500Z"
    }
   },
   "outputs": [],
   "source": [
    "# Make a proper input file.\n",
    "YAML = \"\"\"\n",
    "evaluator:\n",
    "    function: xopt.resources.test_functions.tnk.evaluate_TNK\n",
    "    function_kwargs:\n",
    "        a: 999\n",
    "\n",
    "generator:\n",
    "    name: random\n",
    "\n",
    "vocs:\n",
    "    variables:\n",
    "        x1: [0, 3.14159]\n",
    "        x2: [0, 3.14159]\n",
    "    objectives: {y1: MINIMIZE, y2: MINIMIZE}\n",
    "    constraints:\n",
    "        c1: [GREATER_THAN, 0]\n",
    "        c2: [LESS_THAN, 0.5]\n",
    "    constants: {a: dummy_constant}\n",
    "\n",
    "\"\"\""
   ]
  },
  {
   "cell_type": "code",
   "execution_count": null,
   "metadata": {
    "collapsed": false,
    "execution": {
     "iopub.execute_input": "2022-07-02T04:16:41.890795Z",
     "iopub.status.busy": "2022-07-02T04:16:41.890691Z",
     "iopub.status.idle": "2022-07-02T04:16:41.898916Z",
     "shell.execute_reply": "2022-07-02T04:16:41.898677Z"
    },
    "ExecuteTime": {
     "start_time": "2023-11-10T18:58:52.435330200Z"
    }
   },
   "outputs": [],
   "source": [
    "# create Xopt object.\n",
    "\n",
    "X = Xopt.from_yaml(YAML)"
   ]
  },
  {
   "cell_type": "code",
   "execution_count": null,
   "metadata": {
    "execution": {
     "iopub.execute_input": "2022-07-02T04:16:41.900325Z",
     "iopub.status.busy": "2022-07-02T04:16:41.900241Z",
     "iopub.status.idle": "2022-07-02T04:16:41.905569Z",
     "shell.execute_reply": "2022-07-02T04:16:41.905324Z"
    },
    "ExecuteTime": {
     "start_time": "2023-11-10T18:58:52.437345700Z"
    }
   },
   "outputs": [],
   "source": [
    "# Convenient representation of the state.\n",
    "X"
   ]
  },
  {
   "cell_type": "code",
   "execution_count": null,
   "metadata": {
    "execution": {
     "iopub.execute_input": "2022-07-02T04:16:41.918454Z",
     "iopub.status.busy": "2022-07-02T04:16:41.918335Z",
     "iopub.status.idle": "2022-07-02T04:16:41.921126Z",
     "shell.execute_reply": "2022-07-02T04:16:41.920869Z"
    },
    "ExecuteTime": {
     "start_time": "2023-11-10T18:58:52.438338800Z"
    }
   },
   "outputs": [],
   "source": [
    "X.random_evaluate(10)"
   ]
  },
  {
   "cell_type": "markdown",
   "metadata": {
    "collapsed": false
   },
   "source": [
    "## Run Random data generation"
   ]
  },
  {
   "cell_type": "code",
   "execution_count": null,
   "metadata": {
    "execution": {
     "iopub.execute_input": "2022-07-02T04:16:41.922643Z",
     "iopub.status.busy": "2022-07-02T04:16:41.922533Z",
     "iopub.status.idle": "2022-07-02T04:16:41.924244Z",
     "shell.execute_reply": "2022-07-02T04:16:41.923971Z"
    },
    "ExecuteTime": {
     "start_time": "2023-11-10T18:58:52.440383700Z"
    }
   },
   "outputs": [],
   "source": [
    "import numpy as np\n",
    "np.random.seed(10)"
   ]
  },
  {
   "cell_type": "code",
   "execution_count": null,
   "metadata": {
    "collapsed": false,
    "execution": {
     "iopub.execute_input": "2022-07-02T04:16:41.925680Z",
     "iopub.status.busy": "2022-07-02T04:16:41.925579Z",
     "iopub.status.idle": "2022-07-02T04:16:41.930411Z",
     "shell.execute_reply": "2022-07-02T04:16:41.930124Z"
    },
    "ExecuteTime": {
     "start_time": "2023-11-10T18:58:52.442360400Z"
    }
   },
   "outputs": [],
   "source": [
    "# Take one step (generate a single point)\n",
    "X.step()"
   ]
  },
  {
   "cell_type": "code",
   "execution_count": null,
   "metadata": {
    "collapsed": false,
    "execution": {
     "iopub.execute_input": "2022-07-02T04:16:41.931852Z",
     "iopub.status.busy": "2022-07-02T04:16:41.931750Z",
     "iopub.status.idle": "2022-07-02T04:16:41.937439Z",
     "shell.execute_reply": "2022-07-02T04:16:41.937164Z"
    },
    "ExecuteTime": {
     "start_time": "2023-11-10T18:58:52.443358500Z"
    }
   },
   "outputs": [],
   "source": [
    "# examine the results\n",
    "X.data"
   ]
  },
  {
   "cell_type": "code",
   "execution_count": null,
   "metadata": {
    "collapsed": false,
    "execution": {
     "iopub.execute_input": "2022-07-02T04:16:41.938929Z",
     "iopub.status.busy": "2022-07-02T04:16:41.938845Z",
     "iopub.status.idle": "2022-07-02T04:16:41.966369Z",
     "shell.execute_reply": "2022-07-02T04:16:41.966065Z"
    },
    "ExecuteTime": {
     "start_time": "2023-11-10T18:58:52.444385600Z"
    }
   },
   "outputs": [],
   "source": [
    "# take a couple of steps and examine the results\n",
    "for _ in range(10):\n",
    "    X.step()\n",
    "X.data"
   ]
  },
  {
   "cell_type": "markdown",
   "metadata": {
    "collapsed": false
   },
   "source": [
    "## Plotting\n",
    "Plot the objective results"
   ]
  },
  {
   "cell_type": "code",
   "execution_count": null,
   "metadata": {
    "collapsed": false,
    "execution": {
     "iopub.execute_input": "2022-07-02T04:16:41.967929Z",
     "iopub.status.busy": "2022-07-02T04:16:41.967837Z",
     "iopub.status.idle": "2022-07-02T04:16:42.285669Z",
     "shell.execute_reply": "2022-07-02T04:16:42.285372Z"
    },
    "ExecuteTime": {
     "start_time": "2023-11-10T18:58:52.445363Z"
    }
   },
   "outputs": [],
   "source": [
    "import matplotlib.pyplot as plt\n",
    "\n",
    "# view objective values\n",
    "X.data.plot(*X.vocs.objective_names, kind=\"scatter\")\n",
    "\n",
    "# view variables values\n",
    "X.data.plot(*X.vocs.variable_names, kind=\"scatter\")\n",
    "\n",
    "# you can also normalize the variables\n",
    "X.vocs.normalize_inputs(X.data).plot(*X.vocs.variable_names, kind=\"scatter\")"
   ]
  },
  {
   "cell_type": "markdown",
   "metadata": {},
   "source": [
    "## Alternative initialization methods\n",
    "\n",
    "For convenience you can also use ```Xopt.from_dict``` to create Xopt objects from dictionaries."
   ]
  },
  {
   "cell_type": "code",
   "execution_count": null,
   "metadata": {
    "execution": {
     "iopub.execute_input": "2022-07-02T04:16:42.287349Z",
     "iopub.status.busy": "2022-07-02T04:16:42.287211Z",
     "iopub.status.idle": "2022-07-02T04:16:42.331639Z",
     "shell.execute_reply": "2022-07-02T04:16:42.331318Z"
    },
    "ExecuteTime": {
     "start_time": "2023-11-10T18:58:52.447343900Z"
    }
   },
   "outputs": [],
   "source": [
    "import yaml\n",
    "\n",
    "config  = yaml.safe_load(YAML)\n",
    "X = Xopt.from_dict(config)\n"
   ]
  },
  {
   "cell_type": "markdown",
   "metadata": {},
   "source": [
    "## Convenience Methods"
   ]
  },
  {
   "cell_type": "code",
   "execution_count": null,
   "metadata": {
    "execution": {
     "iopub.execute_input": "2022-07-02T04:16:42.344567Z",
     "iopub.status.busy": "2022-07-02T04:16:42.344463Z",
     "iopub.status.idle": "2022-07-02T04:16:42.346823Z",
     "shell.execute_reply": "2022-07-02T04:16:42.346569Z"
    },
    "ExecuteTime": {
     "start_time": "2023-11-10T18:58:52.448341Z"
    }
   },
   "outputs": [],
   "source": [
    "# convenience method for evaluating a random sample\n",
    "X.random_evaluate()"
   ]
  },
  {
   "cell_type": "code",
   "execution_count": null,
   "outputs": [],
   "source": [
    "X.random_evaluate(5)"
   ],
   "metadata": {
    "collapsed": false,
    "ExecuteTime": {
     "start_time": "2023-11-10T18:58:52.449347300Z"
    }
   }
  },
  {
   "cell_type": "markdown",
   "metadata": {},
   "source": [
    "## Logging\n",
    "\n",
    "Normally Xopt will not issue print statments, and instead issue logging messages. Below will enable these to be seen in the notebook"
   ]
  },
  {
   "cell_type": "code",
   "execution_count": null,
   "metadata": {
    "execution": {
     "iopub.execute_input": "2022-07-02T04:16:42.348536Z",
     "iopub.status.busy": "2022-07-02T04:16:42.348278Z",
     "iopub.status.idle": "2022-07-02T04:16:42.350013Z",
     "shell.execute_reply": "2022-07-02T04:16:42.349722Z"
    },
    "ExecuteTime": {
     "start_time": "2023-11-10T18:58:52.450340500Z"
    }
   },
   "outputs": [],
   "source": [
    "# Notebook printing output\n",
    "from xopt import output_notebook\n",
    "output_notebook()"
   ]
  },
  {
   "cell_type": "code",
   "execution_count": null,
   "metadata": {
    "execution": {
     "iopub.execute_input": "2022-07-02T04:16:42.351443Z",
     "iopub.status.busy": "2022-07-02T04:16:42.351340Z",
     "iopub.status.idle": "2022-07-02T04:16:42.355782Z",
     "shell.execute_reply": "2022-07-02T04:16:42.355495Z"
    },
    "ExecuteTime": {
     "start_time": "2023-11-10T18:58:52.452331600Z"
    }
   },
   "outputs": [],
   "source": [
    "X.step()"
   ]
  }
 ],
 "metadata": {
  "interpreter": {
   "hash": "72034539424920dfb606fe3b820b3f27dca0cbf1c69938110810ec4641e275b1"
  },
  "kernelspec": {
   "display_name": "Python 3.9.12 ('xopt-dev')",
   "language": "python",
   "name": "python3"
  },
  "language_info": {
   "codemirror_mode": {
    "name": "ipython",
    "version": 3
   },
   "file_extension": ".py",
   "mimetype": "text/x-python",
   "name": "python",
   "nbconvert_exporter": "python",
   "pygments_lexer": "ipython3",
   "version": "3.9.13"
  }
 },
 "nbformat": 4,
 "nbformat_minor": 4
}
