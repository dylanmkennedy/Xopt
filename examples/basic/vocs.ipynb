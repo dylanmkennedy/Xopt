{
 "cells": [
  {
   "cell_type": "markdown",
   "id": "9700f595",
   "metadata": {},
   "source": [
    "# VOCS v1 data structure "
   ]
  },
  {
   "cell_type": "code",
   "execution_count": 1,
   "id": "35b31235-5214-4058-9882-faebda71c0cd",
   "metadata": {},
   "outputs": [],
   "source": [
    "%load_ext autoreload\n",
    "%autoreload 2"
   ]
  },
  {
   "cell_type": "code",
   "execution_count": 2,
   "id": "32324ac0-b299-42ee-a6b9-e112dfaa5a45",
   "metadata": {},
   "outputs": [],
   "source": [
    "from xopt.vocs import VOCS, ObjectiveEnum, ConstraintEnum"
   ]
  },
  {
   "cell_type": "code",
   "execution_count": 3,
   "id": "354e92d2",
   "metadata": {},
   "outputs": [],
   "source": [
    "?VOCS"
   ]
  },
  {
   "cell_type": "code",
   "execution_count": 4,
   "id": "31a15253-14cd-4547-ab01-09f4b56f5bf5",
   "metadata": {},
   "outputs": [
    {
     "data": {
      "text/plain": "VOCS(variables={'a': [0.0, 1000.0], 'b': [-1.0, 1.0]}, constraints={'e': ['LESS_THAN', 2.0], 'f': ['GREATER_THAN', 0.0]}, objectives={'c': 'MAXIMIZE', 'd': 'MINIMIZE'}, constants={'g': 1234}, linked_variables=None)"
     },
     "execution_count": 4,
     "metadata": {},
     "output_type": "execute_result"
    }
   ],
   "source": [
    "Y = \"\"\"\n",
    "variables:\n",
    "  a: [0, 1e3] # Note that 1e3 usually parses as a str with YAML. \n",
    "  b: [-1, 1]\n",
    "objectives:\n",
    "  c: maximize\n",
    "  d: minimize \n",
    "constraints:\n",
    "  e: ['Less_than', 2]\n",
    "  f: ['greater_than', 0]\n",
    "constants:\n",
    "  g: 1234\n",
    "\n",
    "\"\"\"\n",
    "\n",
    "vocs = VOCS.from_yaml(Y)\n",
    "vocs"
   ]
  },
  {
   "cell_type": "code",
   "execution_count": 5,
   "id": "304bcc89",
   "metadata": {},
   "outputs": [
    {
     "data": {
      "text/plain": "{'variables': {'a': [0.0, 1000.0], 'b': [-1.0, 1.0]},\n 'constraints': {'e': ['LESS_THAN', 2.0], 'f': ['GREATER_THAN', 0.0]},\n 'objectives': {'c': 'MAXIMIZE', 'd': 'MINIMIZE'},\n 'constants': {'g': 1234},\n 'linked_variables': None}"
     },
     "execution_count": 5,
     "metadata": {},
     "output_type": "execute_result"
    }
   ],
   "source": [
    "# as dict\n",
    "vocs.dict()"
   ]
  },
  {
   "cell_type": "code",
   "execution_count": 6,
   "id": "b236bfb4",
   "metadata": {},
   "outputs": [],
   "source": [
    "#  re-parse dict\n",
    "vocs2 = VOCS.parse_obj(vocs.dict())"
   ]
  },
  {
   "cell_type": "code",
   "execution_count": 7,
   "id": "76c9a173",
   "metadata": {},
   "outputs": [
    {
     "data": {
      "text/plain": "True"
     },
     "execution_count": 7,
     "metadata": {},
     "output_type": "execute_result"
    }
   ],
   "source": [
    "# Check that these are the same\n",
    "vocs2 == vocs\n"
   ]
  },
  {
   "cell_type": "code",
   "execution_count": 8,
   "id": "6a846f4d",
   "metadata": {},
   "outputs": [
    {
     "data": {
      "text/plain": "{'a': [0.0, 1000.0], 'b': [-1.0, 1.0]}"
     },
     "execution_count": 8,
     "metadata": {},
     "output_type": "execute_result"
    }
   ],
   "source": [
    "# This replaces the old vocs[\"variables\"]\n",
    "getattr(vocs, \"variables\")"
   ]
  },
  {
   "cell_type": "code",
   "execution_count": 9,
   "id": "6fa2afc8",
   "metadata": {},
   "outputs": [
    {
     "data": {
      "text/plain": "True"
     },
     "execution_count": 9,
     "metadata": {},
     "output_type": "execute_result"
    }
   ],
   "source": [
    "vocs.objectives['c']  == ObjectiveEnum.MAXIMIZE"
   ]
  },
  {
   "cell_type": "code",
   "execution_count": 10,
   "id": "713272b7",
   "metadata": {},
   "outputs": [
    {
     "data": {
      "text/plain": "'{\"variables\": {\"a\": [0.0, 1000.0], \"b\": [-1.0, 1.0]}, \"constraints\": {\"e\": [\"LESS_THAN\", 2.0], \"f\": [\"GREATER_THAN\", 0.0]}, \"objectives\": {\"c\": \"MAXIMIZE\", \"d\": \"MINIMIZE\"}, \"constants\": {\"g\": 1234}, \"linked_variables\": null}'"
     },
     "execution_count": 10,
     "metadata": {},
     "output_type": "execute_result"
    }
   ],
   "source": [
    "# json\n",
    "vocs.json()"
   ]
  },
  {
   "cell_type": "code",
   "execution_count": 11,
   "id": "4cf2209d",
   "metadata": {},
   "outputs": [
    {
     "data": {
      "text/plain": "{'title': 'VOCS',\n 'type': 'object',\n 'properties': {'variables': {'title': 'Variables',\n   'type': 'object',\n   'additionalProperties': {'type': 'array',\n    'items': {'type': 'number'},\n    'minItems': 2,\n    'maxItems': 2}},\n  'constraints': {'title': 'Constraints',\n   'type': 'object',\n   'additionalProperties': {'type': 'array',\n    'items': {'anyOf': [{'type': 'number'},\n      {'$ref': '#/definitions/ConstraintEnum'}]},\n    'minItems': 2,\n    'maxItems': 2}},\n  'objectives': {'type': 'object',\n   'additionalProperties': {'$ref': '#/definitions/ObjectiveEnum'}},\n  'constants': {'title': 'Constants', 'type': 'object'},\n  'linked_variables': {'title': 'Linked Variables',\n   'type': 'object',\n   'additionalProperties': {'type': 'string'}}},\n 'definitions': {'ConstraintEnum': {'title': 'ConstraintEnum',\n   'description': 'An enumeration.',\n   'enum': ['LESS_THAN', 'GREATER_THAN'],\n   'type': 'string'},\n  'ObjectiveEnum': {'title': 'ObjectiveEnum',\n   'description': 'An enumeration.',\n   'enum': ['MINIMIZE', 'MAXIMIZE'],\n   'type': 'string'}}}"
     },
     "execution_count": 11,
     "metadata": {},
     "output_type": "execute_result"
    }
   ],
   "source": [
    "vocs.schema()"
   ]
  },
  {
   "cell_type": "markdown",
   "id": "11167a85",
   "metadata": {},
   "source": [
    "# Objective Evaluation"
   ]
  },
  {
   "cell_type": "code",
   "execution_count": 12,
   "id": "c4d150be",
   "metadata": {},
   "outputs": [
    {
     "data": {
      "text/plain": "             a         b     g           c           d            e  \\\n5   659.417792  0.079898  1234  659.497691  659.337894  1318.995382   \n6   345.829238  0.722414  1234  346.551653  345.106824   693.103306   \n7   561.200776  0.595394  1234  561.796171  560.605382  1123.592341   \n8   374.554027 -0.317771  1234  374.236256  374.871797   748.472512   \n9   640.101368  0.058249  1234  640.159617  640.043119  1280.319235   \n10  288.698495 -0.729370  1234  287.969126  289.427865   575.938251   \n11  903.867566 -0.705518  1234  903.162048  904.573084  1806.324096   \n12  476.225015 -0.374257  1234  475.850758  476.599272   951.701516   \n13  100.612065 -0.991945  1234   99.620120  101.604009   199.240240   \n14  266.668374 -0.676580  1234  265.991794  267.344954   531.983589   \n\n              f  \n5   1318.675788  \n6    690.213648  \n7   1121.210763  \n8    749.743595  \n9   1280.086237  \n10   578.855730  \n11  1809.146167  \n12   953.198545  \n13   203.208018  \n14   534.689908  ",
      "text/html": "<div>\n<style scoped>\n    .dataframe tbody tr th:only-of-type {\n        vertical-align: middle;\n    }\n\n    .dataframe tbody tr th {\n        vertical-align: top;\n    }\n\n    .dataframe thead th {\n        text-align: right;\n    }\n</style>\n<table border=\"1\" class=\"dataframe\">\n  <thead>\n    <tr style=\"text-align: right;\">\n      <th></th>\n      <th>a</th>\n      <th>b</th>\n      <th>g</th>\n      <th>c</th>\n      <th>d</th>\n      <th>e</th>\n      <th>f</th>\n    </tr>\n  </thead>\n  <tbody>\n    <tr>\n      <th>5</th>\n      <td>659.417792</td>\n      <td>0.079898</td>\n      <td>1234</td>\n      <td>659.497691</td>\n      <td>659.337894</td>\n      <td>1318.995382</td>\n      <td>1318.675788</td>\n    </tr>\n    <tr>\n      <th>6</th>\n      <td>345.829238</td>\n      <td>0.722414</td>\n      <td>1234</td>\n      <td>346.551653</td>\n      <td>345.106824</td>\n      <td>693.103306</td>\n      <td>690.213648</td>\n    </tr>\n    <tr>\n      <th>7</th>\n      <td>561.200776</td>\n      <td>0.595394</td>\n      <td>1234</td>\n      <td>561.796171</td>\n      <td>560.605382</td>\n      <td>1123.592341</td>\n      <td>1121.210763</td>\n    </tr>\n    <tr>\n      <th>8</th>\n      <td>374.554027</td>\n      <td>-0.317771</td>\n      <td>1234</td>\n      <td>374.236256</td>\n      <td>374.871797</td>\n      <td>748.472512</td>\n      <td>749.743595</td>\n    </tr>\n    <tr>\n      <th>9</th>\n      <td>640.101368</td>\n      <td>0.058249</td>\n      <td>1234</td>\n      <td>640.159617</td>\n      <td>640.043119</td>\n      <td>1280.319235</td>\n      <td>1280.086237</td>\n    </tr>\n    <tr>\n      <th>10</th>\n      <td>288.698495</td>\n      <td>-0.729370</td>\n      <td>1234</td>\n      <td>287.969126</td>\n      <td>289.427865</td>\n      <td>575.938251</td>\n      <td>578.855730</td>\n    </tr>\n    <tr>\n      <th>11</th>\n      <td>903.867566</td>\n      <td>-0.705518</td>\n      <td>1234</td>\n      <td>903.162048</td>\n      <td>904.573084</td>\n      <td>1806.324096</td>\n      <td>1809.146167</td>\n    </tr>\n    <tr>\n      <th>12</th>\n      <td>476.225015</td>\n      <td>-0.374257</td>\n      <td>1234</td>\n      <td>475.850758</td>\n      <td>476.599272</td>\n      <td>951.701516</td>\n      <td>953.198545</td>\n    </tr>\n    <tr>\n      <th>13</th>\n      <td>100.612065</td>\n      <td>-0.991945</td>\n      <td>1234</td>\n      <td>99.620120</td>\n      <td>101.604009</td>\n      <td>199.240240</td>\n      <td>203.208018</td>\n    </tr>\n    <tr>\n      <th>14</th>\n      <td>266.668374</td>\n      <td>-0.676580</td>\n      <td>1234</td>\n      <td>265.991794</td>\n      <td>267.344954</td>\n      <td>531.983589</td>\n      <td>534.689908</td>\n    </tr>\n  </tbody>\n</table>\n</div>"
     },
     "execution_count": 12,
     "metadata": {},
     "output_type": "execute_result"
    }
   ],
   "source": [
    "from xopt.vocs import objective_data, constraint_data, feasibility_data\n",
    "import pandas as pd\n",
    "import numpy as np\n",
    "\n",
    "data = pd.DataFrame(vocs.random_inputs(10))\n",
    "# Add some outputs\n",
    "data['c']  = data['a'] + data['b']\n",
    "data['d']  = data['a'] - data['b']\n",
    "data['e']  = data['a']*2 + data['b']*2\n",
    "data['f']  = data['a']*2 - data['b']*2\n",
    "data.index = np.arange(len(data)) + 5 # custom index\n",
    "data\n"
   ]
  },
  {
   "cell_type": "code",
   "execution_count": 13,
   "id": "a695dc98",
   "metadata": {},
   "outputs": [
    {
     "data": {
      "text/plain": "{'c': 'MAXIMIZE', 'd': 'MINIMIZE'}"
     },
     "execution_count": 13,
     "metadata": {},
     "output_type": "execute_result"
    }
   ],
   "source": [
    "vocs.objectives"
   ]
  },
  {
   "cell_type": "code",
   "execution_count": 14,
   "id": "226e2a0f",
   "metadata": {},
   "outputs": [],
   "source": [
    "?objective_data"
   ]
  },
  {
   "cell_type": "code",
   "execution_count": 15,
   "id": "43051b71",
   "metadata": {},
   "outputs": [
    {
     "data": {
      "text/plain": "    objective_c  objective_d\n5   -659.497691   659.337894\n6   -346.551653   345.106824\n7   -561.796171   560.605382\n8   -374.236256   374.871797\n9   -640.159617   640.043119\n10  -287.969126   289.427865\n11  -903.162048   904.573084\n12  -475.850758   476.599272\n13   -99.620120   101.604009\n14  -265.991794   267.344954",
      "text/html": "<div>\n<style scoped>\n    .dataframe tbody tr th:only-of-type {\n        vertical-align: middle;\n    }\n\n    .dataframe tbody tr th {\n        vertical-align: top;\n    }\n\n    .dataframe thead th {\n        text-align: right;\n    }\n</style>\n<table border=\"1\" class=\"dataframe\">\n  <thead>\n    <tr style=\"text-align: right;\">\n      <th></th>\n      <th>objective_c</th>\n      <th>objective_d</th>\n    </tr>\n  </thead>\n  <tbody>\n    <tr>\n      <th>5</th>\n      <td>-659.497691</td>\n      <td>659.337894</td>\n    </tr>\n    <tr>\n      <th>6</th>\n      <td>-346.551653</td>\n      <td>345.106824</td>\n    </tr>\n    <tr>\n      <th>7</th>\n      <td>-561.796171</td>\n      <td>560.605382</td>\n    </tr>\n    <tr>\n      <th>8</th>\n      <td>-374.236256</td>\n      <td>374.871797</td>\n    </tr>\n    <tr>\n      <th>9</th>\n      <td>-640.159617</td>\n      <td>640.043119</td>\n    </tr>\n    <tr>\n      <th>10</th>\n      <td>-287.969126</td>\n      <td>289.427865</td>\n    </tr>\n    <tr>\n      <th>11</th>\n      <td>-903.162048</td>\n      <td>904.573084</td>\n    </tr>\n    <tr>\n      <th>12</th>\n      <td>-475.850758</td>\n      <td>476.599272</td>\n    </tr>\n    <tr>\n      <th>13</th>\n      <td>-99.620120</td>\n      <td>101.604009</td>\n    </tr>\n    <tr>\n      <th>14</th>\n      <td>-265.991794</td>\n      <td>267.344954</td>\n    </tr>\n  </tbody>\n</table>\n</div>"
     },
     "execution_count": 15,
     "metadata": {},
     "output_type": "execute_result"
    }
   ],
   "source": [
    "# These are in standard form for minimization\n",
    "objective_data(vocs, data)"
   ]
  },
  {
   "cell_type": "code",
   "execution_count": 16,
   "id": "9f4275d4",
   "metadata": {},
   "outputs": [
    {
     "data": {
      "text/plain": "array([[-659.49769077,  659.33789413],\n       [-346.55165275,  345.10682393],\n       [-561.79617052,  560.60538174],\n       [-374.23625597,  374.87179738],\n       [-640.15961748,  640.04311862],\n       [-287.96912563,  289.42786501],\n       [-903.1620478 ,  904.57308365],\n       [-475.85075798,  476.59927241],\n       [ -99.6201201 ,  101.60400924],\n       [-265.9917943 ,  267.34495419]])"
     },
     "execution_count": 16,
     "metadata": {},
     "output_type": "execute_result"
    }
   ],
   "source": [
    "# use the to_numpy() method to convert for low level use.\n",
    "objective_data(vocs, data).to_numpy()"
   ]
  },
  {
   "cell_type": "code",
   "execution_count": 17,
   "id": "39300e67",
   "metadata": {},
   "outputs": [
    {
     "data": {
      "text/plain": "{'e': ['LESS_THAN', 2.0], 'f': ['GREATER_THAN', 0.0]}"
     },
     "execution_count": 17,
     "metadata": {},
     "output_type": "execute_result"
    }
   ],
   "source": [
    "vocs.constraints"
   ]
  },
  {
   "cell_type": "code",
   "execution_count": 18,
   "id": "74968450",
   "metadata": {},
   "outputs": [],
   "source": [
    "?constraint_data"
   ]
  },
  {
   "cell_type": "code",
   "execution_count": 19,
   "id": "29b73df4",
   "metadata": {},
   "outputs": [
    {
     "data": {
      "text/plain": "    constraint_e  constraint_f\n5    1316.995382  -1318.675788\n6     691.103306   -690.213648\n7    1121.592341  -1121.210763\n8     746.472512   -749.743595\n9    1278.319235  -1280.086237\n10    573.938251   -578.855730\n11   1804.324096  -1809.146167\n12    949.701516   -953.198545\n13    197.240240   -203.208018\n14    529.983589   -534.689908",
      "text/html": "<div>\n<style scoped>\n    .dataframe tbody tr th:only-of-type {\n        vertical-align: middle;\n    }\n\n    .dataframe tbody tr th {\n        vertical-align: top;\n    }\n\n    .dataframe thead th {\n        text-align: right;\n    }\n</style>\n<table border=\"1\" class=\"dataframe\">\n  <thead>\n    <tr style=\"text-align: right;\">\n      <th></th>\n      <th>constraint_e</th>\n      <th>constraint_f</th>\n    </tr>\n  </thead>\n  <tbody>\n    <tr>\n      <th>5</th>\n      <td>1316.995382</td>\n      <td>-1318.675788</td>\n    </tr>\n    <tr>\n      <th>6</th>\n      <td>691.103306</td>\n      <td>-690.213648</td>\n    </tr>\n    <tr>\n      <th>7</th>\n      <td>1121.592341</td>\n      <td>-1121.210763</td>\n    </tr>\n    <tr>\n      <th>8</th>\n      <td>746.472512</td>\n      <td>-749.743595</td>\n    </tr>\n    <tr>\n      <th>9</th>\n      <td>1278.319235</td>\n      <td>-1280.086237</td>\n    </tr>\n    <tr>\n      <th>10</th>\n      <td>573.938251</td>\n      <td>-578.855730</td>\n    </tr>\n    <tr>\n      <th>11</th>\n      <td>1804.324096</td>\n      <td>-1809.146167</td>\n    </tr>\n    <tr>\n      <th>12</th>\n      <td>949.701516</td>\n      <td>-953.198545</td>\n    </tr>\n    <tr>\n      <th>13</th>\n      <td>197.240240</td>\n      <td>-203.208018</td>\n    </tr>\n    <tr>\n      <th>14</th>\n      <td>529.983589</td>\n      <td>-534.689908</td>\n    </tr>\n  </tbody>\n</table>\n</div>"
     },
     "execution_count": 19,
     "metadata": {},
     "output_type": "execute_result"
    }
   ],
   "source": [
    "constraint_data(vocs, data)"
   ]
  },
  {
   "cell_type": "code",
   "execution_count": 20,
   "id": "e46a5e83",
   "metadata": {},
   "outputs": [
    {
     "data": {
      "text/plain": "    feasibility_e  feasibility_f  feasibility\n5           False           True        False\n6           False           True        False\n7           False           True        False\n8           False           True        False\n9           False           True        False\n10          False           True        False\n11          False           True        False\n12          False           True        False\n13          False           True        False\n14          False           True        False",
      "text/html": "<div>\n<style scoped>\n    .dataframe tbody tr th:only-of-type {\n        vertical-align: middle;\n    }\n\n    .dataframe tbody tr th {\n        vertical-align: top;\n    }\n\n    .dataframe thead th {\n        text-align: right;\n    }\n</style>\n<table border=\"1\" class=\"dataframe\">\n  <thead>\n    <tr style=\"text-align: right;\">\n      <th></th>\n      <th>feasibility_e</th>\n      <th>feasibility_f</th>\n      <th>feasibility</th>\n    </tr>\n  </thead>\n  <tbody>\n    <tr>\n      <th>5</th>\n      <td>False</td>\n      <td>True</td>\n      <td>False</td>\n    </tr>\n    <tr>\n      <th>6</th>\n      <td>False</td>\n      <td>True</td>\n      <td>False</td>\n    </tr>\n    <tr>\n      <th>7</th>\n      <td>False</td>\n      <td>True</td>\n      <td>False</td>\n    </tr>\n    <tr>\n      <th>8</th>\n      <td>False</td>\n      <td>True</td>\n      <td>False</td>\n    </tr>\n    <tr>\n      <th>9</th>\n      <td>False</td>\n      <td>True</td>\n      <td>False</td>\n    </tr>\n    <tr>\n      <th>10</th>\n      <td>False</td>\n      <td>True</td>\n      <td>False</td>\n    </tr>\n    <tr>\n      <th>11</th>\n      <td>False</td>\n      <td>True</td>\n      <td>False</td>\n    </tr>\n    <tr>\n      <th>12</th>\n      <td>False</td>\n      <td>True</td>\n      <td>False</td>\n    </tr>\n    <tr>\n      <th>13</th>\n      <td>False</td>\n      <td>True</td>\n      <td>False</td>\n    </tr>\n    <tr>\n      <th>14</th>\n      <td>False</td>\n      <td>True</td>\n      <td>False</td>\n    </tr>\n  </tbody>\n</table>\n</div>"
     },
     "execution_count": 20,
     "metadata": {},
     "output_type": "execute_result"
    }
   ],
   "source": [
    "feasibility_data(vocs, data)"
   ]
  },
  {
   "cell_type": "code",
   "execution_count": 20,
   "id": "5016ded8",
   "metadata": {},
   "outputs": [],
   "source": []
  }
 ],
 "metadata": {
  "kernelspec": {
   "name": "xopt",
   "language": "python",
   "display_name": "xopt"
  },
  "language_info": {
   "codemirror_mode": {
    "name": "ipython",
    "version": 3
   },
   "file_extension": ".py",
   "mimetype": "text/x-python",
   "name": "python",
   "nbconvert_exporter": "python",
   "pygments_lexer": "ipython3",
   "version": "3.9.10"
  }
 },
 "nbformat": 4,
 "nbformat_minor": 5
}