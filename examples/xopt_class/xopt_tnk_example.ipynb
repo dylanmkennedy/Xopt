{
 "cells": [
  {
   "cell_type": "code",
   "execution_count": 3,
   "metadata": {},
   "outputs": [],
   "source": [
    "# Useful for debugging\n",
    "%load_ext autoreload\n",
    "%autoreload 2"
   ]
  },
  {
   "cell_type": "markdown",
   "metadata": {},
   "source": [
    "# Xopt class, TNK test function\n",
    "\n",
    "This is the class method for running Xopt.\n",
    "\n",
    "TNK function\n",
    "$n=2$ variables:\n",
    "$x_i \\in [0, \\pi], i=1,2$\n",
    "\n",
    "Objectives:\n",
    "- $f_i(x) = x_i$\n",
    "\n",
    "Constraints:\n",
    "- $g_1(x) = -x_1^2 -x_2^2 + 1 + 0.1 \\cos\\left(16 \\arctan \\frac{x_1}{x_2}\\right) \\le 0$\n",
    "- $g_2(x) = (x_1 - 1/2)^2 + (x_2-1/2)^2 \\le 0.5$"
   ]
  },
  {
   "cell_type": "code",
   "execution_count": 4,
   "metadata": {},
   "outputs": [],
   "source": [
    "# Import the class\n",
    "from xopt import Xopt"
   ]
  },
  {
   "cell_type": "markdown",
   "metadata": {},
   "source": [
    "The `Xopt` object can be instantiated from a JSON or YAML file, or a dict, with the proper structure.\n",
    "\n",
    "Here we will make one"
   ]
  },
  {
   "cell_type": "code",
   "execution_count": 5,
   "metadata": {},
   "outputs": [],
   "source": [
    "import yaml\n",
    "# Make a proper input file. \n",
    "YAML=\"\"\"\n",
    "xopt: {output_path: null, verbose: true}\n",
    "\n",
    "algorithm:\n",
    "  name: cnsga\n",
    "  options: {max_generations: 50, population_size: 128, crossover_probability: 0.9, mutation_probability: 1.0,\n",
    "  selection: auto, verbose: true, population: null}\n",
    "  \n",
    "simulation: \n",
    "  name: test_TNK\n",
    "  evaluate: xopt.tests.evaluators.TNK.evaluate_TNK\n",
    "  \n",
    "vocs:\n",
    "  name: TNK_test\n",
    "  variables:\n",
    "    x1: [0, 3.14159]\n",
    "    x2: [0, 3.14159]\n",
    "  objectives: {y1: MINIMIZE, y2: MINIMIZE}\n",
    "  constraints:\n",
    "    c1: [GREATER_THAN, 0]\n",
    "    c2: [LESS_THAN, 0.5]\n",
    "  linked_variables: {x9: x1}\n",
    "  constants: {a: dummy_constant}\n",
    "\n",
    "\"\"\"\n",
    "config = yaml.safe_load(YAML)"
   ]
  },
  {
   "cell_type": "code",
   "execution_count": 6,
   "metadata": {},
   "outputs": [
    {
     "name": "stderr",
     "output_type": "stream",
     "text": [
      "INFO:xopt.tools:Loading config from dict.\n",
      "WARNING:xopt.legacy:`verbose` keyword no longer allowed in xopt config, renaming to `logging`\n",
      "WARNING:xopt.legacy:`evaluate` keyword no longer allowed in simulation config, moving to `function`\n",
      "WARNING:xopt.legacy:`name` keyword no longer allowed in xopt config, removing\n",
      "INFO:xopt.tools:Loading config from dict.\n",
      "INFO:xopt.tools:Loading config from dict.\n",
      "INFO:xopt.tools:Loading config from dict.\n",
      "INFO:xopt.tools:Loading config from dict.\n"
     ]
    },
    {
     "name": "stdout",
     "output_type": "stream",
     "text": [
      "{'variables': {'x1': [0, 3.14159], 'x2': [0, 3.14159]}, 'objectives': {'y1': 'MINIMIZE', 'y2': 'MINIMIZE'}, 'constraints': {'c1': ['GREATER_THAN', 0], 'c2': ['LESS_THAN', 0.5]}, 'linked_variables': {'x9': 'x1'}, 'constants': {'a': 'dummy_constant'}}\n",
      "{'xopt': {'output_path': None, 'logging': 20}, 'algorithm': {'name': 'cnsga', 'options': {'max_generations': 50, 'population_size': 128, 'crossover_probability': 0.9, 'mutation_probability': 1.0, 'selection': 'auto', 'verbose': True, 'population': None}, 'function': 'xopt.cnsga.cnsga', 'max_generations': 50, 'population_size': 128, 'crossover_probability': 0.9, 'mutation_probability': 1.0, 'selection': 'auto', 'verbose': True, 'population': None, 'executor': None, 'vocs': None, 'toolbox': None, 'seed': None, 'evaluate_f': None, 'output_path': None}, 'simulation': {'name': 'test_TNK', 'function': 'xopt.tests.evaluators.TNK.evaluate_TNK', 'evaluate': 'xopt.tests.evaluators.TNK.evaluate_TNK', 'options': {'extra_option': 'abc'}}, 'vocs': {'variables': {'x1': [0, 3.14159], 'x2': [0, 3.14159]}, 'objectives': {'y1': 'MINIMIZE', 'y2': 'MINIMIZE'}, 'constraints': {'c1': ['GREATER_THAN', 0], 'c2': ['LESS_THAN', 0.5]}, 'linked_variables': {'x9': 'x1'}, 'constants': {'a': 'dummy_constant'}}}\n",
      "Warning: No path set for key xopt : output_path\n",
      "Warning: No path set for key algorithm : output_path\n"
     ]
    },
    {
     "data": {
      "text/plain": "\n            Xopt \n________________________________           \nVersion: 0.4.3+168.g7d48d79.dirty\nConfigured: True\nConfig as YAML:\nxopt: {output_path: null, logging: 20}\nalgorithm:\n  name: cnsga\n  options: {max_generations: 50, population_size: 128, crossover_probability: 0.9,\n    mutation_probability: 1.0, selection: auto, verbose: true, population: null}\n  function: xopt.cnsga.cnsga\n  max_generations: 50\n  population_size: 128\n  crossover_probability: 0.9\n  mutation_probability: 1.0\n  selection: auto\n  verbose: true\n  population: null\n  executor: null\n  vocs: null\n  toolbox: null\n  seed: null\n  evaluate_f: null\n  output_path: null\nsimulation:\n  name: test_TNK\n  function: xopt.tests.evaluators.TNK.evaluate_TNK\n  evaluate: xopt.tests.evaluators.TNK.evaluate_TNK\n  options: {extra_option: abc}\nvocs:\n  variables:\n    x1: [0, 3.14159]\n    x2: [0, 3.14159]\n  objectives: {y1: MINIMIZE, y2: MINIMIZE}\n  constraints:\n    c1: [GREATER_THAN, 0]\n    c2: [LESS_THAN, 0.5]\n  linked_variables: {x9: x1}\n  constants: {a: dummy_constant}"
     },
     "execution_count": 6,
     "metadata": {},
     "output_type": "execute_result"
    }
   ],
   "source": [
    "# Optional: Connect the function directly\n",
    "#from xopt.evaluators.test_TNK import evaluate_TNK \n",
    "#config['simulation']['evaluate'] = evaluate_TNK \n",
    "\n",
    "X = Xopt(config)\n",
    "X"
   ]
  },
  {
   "cell_type": "code",
   "execution_count": 7,
   "metadata": {},
   "outputs": [
    {
     "data": {
      "text/plain": "{'y1': 2.5139289509160285,\n 'y2': 2.755698767586621,\n 'c1': 12.839435135715947,\n 'c2': 9.144086749429537,\n 'some_array': array([1, 2, 3])}"
     },
     "execution_count": 7,
     "metadata": {},
     "output_type": "execute_result"
    }
   ],
   "source": [
    "# Note that the repr string contains all of the config information\n",
    "X.random_evaluate()"
   ]
  },
  {
   "cell_type": "markdown",
   "metadata": {},
   "source": [
    "# Run CNSGA\n",
    "\n",
    "CNSGA is designed to run in parallel with an asynchronous executor as defined in PEP 3148"
   ]
  },
  {
   "cell_type": "code",
   "execution_count": 8,
   "metadata": {},
   "outputs": [],
   "source": [
    "# Pick one of these\n",
    "#from concurrent.futures import ThreadPoolExecutor as PoolExecutor\n",
    "from concurrent.futures import ProcessPoolExecutor as PoolExecutor\n",
    "\n",
    "executor = PoolExecutor()\n",
    "# This will also work. \n",
    "#executor=None"
   ]
  },
  {
   "cell_type": "code",
   "execution_count": 9,
   "metadata": {},
   "outputs": [
    {
     "name": "stderr",
     "output_type": "stream",
     "text": [
      "INFO:xopt.xopt:Starting at time 2021-09-24T11:28:11-05:00\n"
     ]
    },
    {
     "name": "stdout",
     "output_type": "stream",
     "text": [
      "\n",
      "    Continuous Non-dominated Sorting Genetic Algorithm\n",
      "    Version {__version__}\n",
      "    \n",
      "Creating toolbox from vocs.\n",
      "Created toolbox with 2 variables, 2 constraints, and 2 objectives.\n",
      "    Using selection algorithm: nsga2\n",
      "vocs:\n",
      "{'constants': {'a': 'dummy_constant'},\n",
      " 'constraints': {'c1': ['GREATER_THAN', 0], 'c2': ['LESS_THAN', 0.5]},\n",
      " 'linked_variables': {'x9': 'x1'},\n",
      " 'objectives': {'y1': 'MINIMIZE', 'y2': 'MINIMIZE'},\n",
      " 'variables': {'x1': [0, 3.14159], 'x2': [0, 3.14159]}}\n",
      "Initializing with a new population, size 128\n",
      "Maximum generations: 10\n",
      "____________________________________________________\n",
      "128 fitness calculations for initial generation\n",
      "................................................................................................................................done.\n",
      "Submitting first batch of children\n",
      ".................................................................................................................................done.\n",
      "__________________________________________________________\n",
      "Generation 0 completed in 0.00208 minutes\n",
      "................................................................................................................................done.\n",
      "__________________________________________________________\n",
      "Generation 1 completed in 0.00388 minutes\n",
      "................................................................................................................................done.\n",
      "__________________________________________________________\n",
      "Generation 2 completed in 0.00406 minutes\n",
      "................................................................................................................................done.\n",
      "__________________________________________________________\n",
      "Generation 3 completed in 0.00378 minutes\n",
      "................................................................................................................................done.\n",
      "__________________________________________________________\n",
      "Generation 4 completed in 0.00383 minutes\n",
      "................................................................................................................................done.\n",
      "__________________________________________________________\n",
      "Generation 5 completed in 0.00373 minutes\n",
      "................................................................................................................................done.\n",
      "__________________________________________________________\n",
      "Generation 6 completed in 0.00367 minutes\n",
      "................................................................................................................................done.\n",
      "__________________________________________________________\n",
      "Generation 7 completed in 0.00363 minutes\n",
      "................................................................................................................................done.\n",
      "__________________________________________________________\n",
      "Generation 8 completed in 0.00358 minutes\n",
      "................................................................................................................................done.\n",
      "__________________________________________________________\n",
      "Generation 9 completed in 0.00378 minutes\n",
      "..............................................................................................................."
     ]
    }
   ],
   "source": [
    "# Change max generations\n",
    "X.algorithm['options']['max_generations'] = 10\n",
    "X.run(executor=executor)"
   ]
  },
  {
   "cell_type": "code",
   "execution_count": 10,
   "metadata": {},
   "outputs": [
    {
     "data": {
      "text/plain": "['variables', 'generation', 'vocs', 'error', 'inputs', 'outputs']"
     },
     "execution_count": 10,
     "metadata": {},
     "output_type": "execute_result"
    }
   ],
   "source": [
    "# The last population is saved internally:\n",
    "list(X.results)"
   ]
  },
  {
   "cell_type": "code",
   "execution_count": 11,
   "metadata": {},
   "outputs": [
    {
     "data": {
      "text/plain": "[{'y1': 0.745179502341021,\n  'y2': 0.7593820348328354,\n  'c1': 0.033091900733734095,\n  'c2': 0.12739202836221297,\n  'some_array': array([1, 2, 3])},\n {'y1': 0.745179502341021,\n  'y2': 0.7593820348328354,\n  'c1': 0.033091900733734095,\n  'c2': 0.12739202836221297,\n  'some_array': array([1, 2, 3])},\n {'y1': 0.4906935049533761,\n  'y2': 0.8660498339746554,\n  'c1': 0.029197133293459077,\n  'c2': 0.13407909180292563,\n  'some_array': array([1, 2, 3])},\n {'y1': 0.4286101145275175,\n  'y2': 0.9612005895063502,\n  'c1': 0.016633039663562596,\n  'c2': 0.21780249950877914,\n  'some_array': array([1, 2, 3])},\n {'y1': 0.09138956032733514,\n  'y2': 1.0694083449096219,\n  'c1': 0.13145516046370617,\n  'c2': 0.4911883546622034,\n  'some_array': array([1, 2, 3])}]"
     },
     "execution_count": 11,
     "metadata": {},
     "output_type": "execute_result"
    }
   ],
   "source": [
    "X.results['outputs'][0:5]"
   ]
  },
  {
   "cell_type": "code",
   "execution_count": 12,
   "metadata": {},
   "outputs": [
    {
     "name": "stderr",
     "output_type": "stream",
     "text": [
      "INFO:xopt.xopt:Starting at time 2021-09-24T11:28:14-05:00\n"
     ]
    },
    {
     "name": "stdout",
     "output_type": "stream",
     "text": [
      "\n",
      "    Continuous Non-dominated Sorting Genetic Algorithm\n",
      "    Version {__version__}\n",
      "    \n",
      "Creating toolbox from vocs.\n"
     ]
    },
    {
     "name": "stderr",
     "output_type": "stream",
     "text": [
      "INFO:xopt.tools:Loading config from dict.\n"
     ]
    },
    {
     "name": "stdout",
     "output_type": "stream",
     "text": [
      "Warning: Redefining creator.MyFitness\n",
      "Warning in cnsga_toolbox: Redefining creator.Individual\n",
      "Created toolbox with 2 variables, 2 constraints, and 2 objectives.\n",
      "    Using selection algorithm: nsga2\n",
      "vocs:\n",
      "{'constants': {'a': 'dummy_constant'},\n",
      " 'constraints': {'c1': ['GREATER_THAN', 0], 'c2': ['LESS_THAN', 0.5]},\n",
      " 'linked_variables': {'x9': 'x1'},\n",
      " 'objectives': {'y1': 'MINIMIZE', 'y2': 'MINIMIZE'},\n",
      " 'variables': {'x1': [0, 3.14159], 'x2': [0, 3.14159]}}\n",
      "Initializing with existing population, size 128\n",
      "Maximum generations: 31\n",
      "____________________________________________________\n",
      "128 fitness calculations for initial generation\n",
      "................................................................................................................................done.\n",
      "Submitting first batch of children\n",
      ".................................................................................................................................done.\n",
      "__________________________________________________________\n",
      "Generation 11 completed in 0.00490 minutes\n",
      "................................................................................................................................done.\n",
      "__________________________________________________________\n",
      "Generation 12 completed in 0.00573 minutes\n",
      "................................................................................................................................done.\n",
      "__________________________________________________________\n",
      "Generation 13 completed in 0.00593 minutes\n",
      "................................................................................................................................done.\n",
      "__________________________________________________________\n",
      "Generation 14 completed in 0.00593 minutes\n",
      "................................................................................................................................done.\n",
      "__________________________________________________________\n",
      "Generation 15 completed in 0.00557 minutes\n",
      "................................................................................................................................done.\n",
      "__________________________________________________________\n",
      "Generation 16 completed in 0.00548 minutes\n",
      "................................................................................................................................done.\n",
      "__________________________________________________________\n",
      "Generation 17 completed in 0.00545 minutes\n",
      "................................................................................................................................done.\n",
      "__________________________________________________________\n",
      "Generation 18 completed in 0.00538 minutes\n",
      "................................................................................................................................done.\n",
      "__________________________________________________________\n",
      "Generation 19 completed in 0.00538 minutes\n",
      "................................................................................................................................done.\n",
      "__________________________________________________________\n",
      "Generation 20 completed in 0.00540 minutes\n",
      "................................................................................................................................done.\n",
      "__________________________________________________________\n",
      "Generation 21 completed in 0.00528 minutes\n",
      "................................................................................................................................done.\n",
      "__________________________________________________________\n",
      "Generation 22 completed in 0.00552 minutes\n",
      "................................................................................................................................done.\n",
      "__________________________________________________________\n",
      "Generation 23 completed in 0.00542 minutes\n",
      "................................................................................................................................done.\n",
      "__________________________________________________________\n",
      "Generation 24 completed in 0.00507 minutes\n",
      "................................................................................................................................done.\n",
      "__________________________________________________________\n",
      "Generation 25 completed in 0.00508 minutes\n",
      "................................................................................................................................done.\n",
      "__________________________________________________________\n",
      "Generation 26 completed in 0.00508 minutes\n",
      "................................................................................................................................done.\n",
      "__________________________________________________________\n",
      "Generation 27 completed in 0.00513 minutes\n",
      "................................................................................................................................done.\n",
      "__________________________________________________________\n",
      "Generation 28 completed in 0.00537 minutes\n",
      "................................................................................................................................done.\n",
      "__________________________________________________________\n",
      "Generation 29 completed in 0.00507 minutes\n",
      "................................................................................................................................done.\n",
      "__________________________________________________________\n",
      "Generation 30 completed in 0.00525 minutes\n",
      "..............................................................................................................................."
     ]
    }
   ],
   "source": [
    "# Increase the max_generations, and it will continue where it left off\n",
    "X.algorithm['options']['max_generations'] = 20\n",
    "X.run(executor=executor)"
   ]
  },
  {
   "cell_type": "markdown",
   "metadata": {},
   "source": [
    "# Plot"
   ]
  },
  {
   "cell_type": "code",
   "execution_count": 13,
   "metadata": {},
   "outputs": [
    {
     "data": {
      "text/plain": "<Figure size 360x360 with 1 Axes>",
      "image/png": "[encoded data removed]"
     },
     "metadata": {
      "needs_background": "light"
     },
     "output_type": "display_data"
    }
   ],
   "source": [
    "# Extract objectives from output\n",
    "key1, key2 = list(X.vocs['objectives'])\n",
    "\n",
    "x = [o[key1] for o in X.results['outputs']]\n",
    "y = [o[key2] for o in X.results['outputs']]\n",
    "\n",
    "import matplotlib.pyplot as plt\n",
    "%matplotlib inline\n",
    "\n",
    "fig, ax = plt.subplots(figsize=(5,5))\n",
    "\n",
    "ax.scatter(x, y, color='blue')\n",
    "#ax.set_xlim(X_RANGE)\n",
    "#ax.set_ylim(Y_RANGE)\n",
    "ax.set_xlabel(key1)\n",
    "ax.set_xlabel(key2)\n",
    "ax.set_aspect('auto')\n",
    "#ax.set_title(NAME)"
   ]
  }
 ],
 "metadata": {
  "kernelspec": {
   "display_name": "xopt",
   "language": "python",
   "name": "xopt"
  },
  "language_info": {
   "codemirror_mode": {
    "name": "ipython",
    "version": 3
   },
   "file_extension": ".py",
   "mimetype": "text/x-python",
   "name": "python",
   "nbconvert_exporter": "python",
   "pygments_lexer": "ipython3",
   "version": "3.9.6"
  }
 },
 "nbformat": 4,
 "nbformat_minor": 4
}