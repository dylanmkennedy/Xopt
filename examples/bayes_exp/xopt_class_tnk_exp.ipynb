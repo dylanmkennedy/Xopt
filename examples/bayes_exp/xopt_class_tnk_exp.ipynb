{
 "cells": [
  {
   "cell_type": "code",
   "execution_count": 1,
   "metadata": {},
   "outputs": [],
   "source": [
    "# Useful for debugging\n",
    "%load_ext autoreload\n",
    "%autoreload 2"
   ]
  },
  {
   "cell_type": "markdown",
   "metadata": {},
   "source": [
    "# Xopt class, TNK test function\n",
    "\n",
    "This is the class method for running Xopt.\n",
    "\n",
    "TNK function\n",
    "$n=2$ variables:\n",
    "$x_i \\in [0, \\pi], i=1,2$\n",
    "\n",
    "Objectives:\n",
    "- $f_i(x) = x_i$\n",
    "\n",
    "Constraints:\n",
    "- $g_1(x) = -x_1^2 -x_2^2 + 1 + 0.1 \\cos\\left(16 \\arctan \\frac{x_1}{x_2}\\right) \\le 0$\n",
    "- $g_2(x) = (x_1 - 1/2)^2 + (x_2-1/2)^2 \\le 0.5$"
   ]
  },
  {
   "cell_type": "code",
   "execution_count": 2,
   "metadata": {},
   "outputs": [],
   "source": [
    "# Import the class\n",
    "from xopt import Xopt"
   ]
  },
  {
   "cell_type": "markdown",
   "metadata": {},
   "source": [
    "The `Xopt` object can be instantiated from a JSON or YAML file, or a dict, with the proper structure.\n",
    "\n",
    "Here we will make one"
   ]
  },
  {
   "cell_type": "code",
   "execution_count": 9,
   "metadata": {},
   "outputs": [],
   "source": [
    "import yaml\n",
    "# Make a proper input file. \n",
    "YAML=\"\"\"\n",
    "xopt: {output_path: null, verbose: true}\n",
    "\n",
    "algorithm:\n",
    "  name: bayesian_exploration\n",
    "  options: {n_initial_samples: 5,\n",
    "            use_gpu: False,\n",
    "            restart_data_file: opt_data.pkl,\n",
    "            n_steps: 20, \n",
    "            verbose: True}\n",
    "  \n",
    "simulation: \n",
    "  name: test_TNK\n",
    "  evaluate: xopt.evaluators.test_TNK.evaluate_TNK  \n",
    "  \n",
    "vocs:\n",
    "  name: TNK_test\n",
    "  description: null\n",
    "  simulation: test_TNK\n",
    "  templates: null\n",
    "  variables:\n",
    "    x1: [0, 3.14159]\n",
    "    x2: [0, 3.14159]\n",
    "  objectives: {y1: None}\n",
    "  constraints:\n",
    "    c1: [GREATER_THAN, 0]\n",
    "    c2: ['LESS_THAN', 0.5]\n",
    "  linked_variables: {x9: x1}\n",
    "  constants: {a: dummy_constant}\n",
    "\n",
    "\"\"\"\n",
    "config = yaml.safe_load(YAML)"
   ]
  },
  {
   "cell_type": "code",
   "execution_count": 10,
   "metadata": {},
   "outputs": [
    {
     "name": "stdout",
     "output_type": "stream",
     "text": [
      "Loading config as dict.\n",
      "Warning: No path set for key xopt : output_path\n"
     ]
    },
    {
     "data": {
      "text/plain": [
       "\n",
       "            Xopt \n",
       "________________________________           \n",
       "Version: 0.4.3\n",
       "Configured: True\n",
       "Config as YAML:\n",
       "xopt: {output_path: null, verbose: true}\n",
       "algorithm:\n",
       "  name: bayesian_exploration\n",
       "  function: xopt.bayesian_exploration.bayesian_exploration\n",
       "  options: {n_initial_samples: 5, use_gpu: false, restart_data_file: 'C:\\Users\\Ryan\n",
       "      Roussel\\Documents\\GitHub\\xopt\\examples\\bayes_exp\\opt_data.pkl', n_steps: 20,\n",
       "    verbose: true}\n",
       "simulation:\n",
       "  name: test_TNK\n",
       "  evaluate: xopt.evaluators.test_TNK.evaluate_TNK\n",
       "  options: {extra_option: abc}\n",
       "vocs:\n",
       "  name: TNK_test\n",
       "  description: null\n",
       "  simulation: test_TNK\n",
       "  templates: null\n",
       "  variables:\n",
       "    x1: [0, 3.14159]\n",
       "    x2: [0, 3.14159]\n",
       "  objectives: {y1: None}\n",
       "  constraints:\n",
       "    c1: [GREATER_THAN, 0]\n",
       "    c2: [LESS_THAN, 0.5]\n",
       "  linked_variables: {x9: x1}\n",
       "  constants: {a: dummy_constant}"
      ]
     },
     "execution_count": 10,
     "metadata": {},
     "output_type": "execute_result"
    }
   ],
   "source": [
    "# Optional: Connect the function directly\n",
    "#from xopt.evaluators.test_TNK import evaluate_TNK \n",
    "#config['simulation']['evaluate'] = evaluate_TNK \n",
    "\n",
    "X = Xopt(config)\n",
    "X"
   ]
  },
  {
   "cell_type": "code",
   "execution_count": 11,
   "metadata": {},
   "outputs": [
    {
     "data": {
      "text/plain": [
       "{'y1': 0.08505059050746575,\n",
       " 'y2': 3.032129700698291,\n",
       " 'c1': 8.110942031396734,\n",
       " 'c2': 6.583863833596618,\n",
       " 'some_array': array([1, 2, 3])}"
      ]
     },
     "execution_count": 11,
     "metadata": {},
     "output_type": "execute_result"
    }
   ],
   "source": [
    "# Note that the repr string contains all of the config information\n",
    "X.random_evaluate()"
   ]
  },
  {
   "cell_type": "markdown",
   "metadata": {},
   "source": [
    "# Run CNSGA\n",
    "\n",
    "CNSGA is designed to run in parallel with an asynchronous executor as defined in PEP 3148"
   ]
  },
  {
   "cell_type": "code",
   "execution_count": 12,
   "metadata": {},
   "outputs": [],
   "source": [
    "# Pick one of these\n",
    "from concurrent.futures import ThreadPoolExecutor as PoolExecutor\n",
    "#from concurrent.futures import ProcessPoolExecutor as PoolExecutor\n",
    "\n",
    "executor = PoolExecutor()\n",
    "# This will also work. \n",
    "#executor=None"
   ]
  },
  {
   "cell_type": "code",
   "execution_count": 13,
   "metadata": {},
   "outputs": [
    {
     "name": "stdout",
     "output_type": "stream",
     "text": [
      "Starting at time 2021-08-04T16:55:45-05:00\n",
      "tensor([[1.1905, 0.4829]], dtype=torch.float64)\n",
      "tensor([[0.7699, 1.1341]], dtype=torch.float64)\n",
      "tensor([[0.0627, 1.0366]], dtype=torch.float64)\n",
      "tensor([[1.0837, 0.8699]], dtype=torch.float64)\n",
      "tensor([[1.0327, 0.0585]], dtype=torch.float64)\n",
      "tensor([[0.8288, 0.5771]], dtype=torch.float64)\n",
      "tensor([[1.1827, 0.3913]], dtype=torch.float64)\n",
      "tensor([[0.5290, 1.1908]], dtype=torch.float64)\n",
      "tensor([[0.6034, 0.8756]], dtype=torch.float64)\n",
      "tensor([[0.2643, 1.1505]], dtype=torch.float64)\n",
      "tensor([[1.1116, 0.8287]], dtype=torch.float64)\n",
      "tensor([[0.8477, 1.0991]], dtype=torch.float64)\n",
      "tensor([[0.4888, 0.9115]], dtype=torch.float64)\n",
      "tensor([[0.9344, 0.4168]], dtype=torch.float64)\n",
      "tensor([[0.2512, 1.0014]], dtype=torch.float64)\n",
      "tensor([[0.0618, 1.0405]], dtype=torch.float64)\n",
      "tensor([[1.1886, 0.4039]], dtype=torch.float64)\n",
      "tensor([[1.0454, 0.0659]], dtype=torch.float64)\n",
      "tensor([[0.6974, 0.7554]], dtype=torch.float64)\n",
      "tensor([[0.6317, 1.1824]], dtype=torch.float64)\n"
     ]
    }
   ],
   "source": [
    "# Change max generations\n",
    "X.run(executor=executor)"
   ]
  },
  {
   "cell_type": "markdown",
   "metadata": {},
   "source": [
    "# Plot"
   ]
  },
  {
   "cell_type": "code",
   "execution_count": 14,
   "metadata": {},
   "outputs": [
    {
     "name": "stdout",
     "output_type": "stream",
     "text": [
      "tensor([[2.0877, 0.2405],\n",
      "        [1.8249, 0.1465],\n",
      "        [0.3600, 1.8046],\n",
      "        [0.2112, 0.0595],\n",
      "        [1.1403, 0.0789],\n",
      "        [3.1416, 3.1416],\n",
      "        [0.0000, 1.2335],\n",
      "        [0.8985, 0.9265],\n",
      "        [0.5928, 1.0608],\n",
      "        [1.0778, 0.6843],\n",
      "        [0.3289, 1.0882],\n",
      "        [0.9283, 0.5573],\n",
      "        [1.1501, 0.6737],\n",
      "        [0.8818, 1.0373],\n",
      "        [0.1798, 1.0604],\n",
      "        [0.7106, 0.7750],\n",
      "        [1.0497, 0.1119],\n",
      "        [0.0712, 1.0127],\n",
      "        [0.6477, 1.1612],\n",
      "        [1.1703, 0.4572],\n",
      "        [1.0293, 0.9317],\n",
      "        [1.0413, 0.0744],\n",
      "        [0.4337, 0.9512],\n",
      "        [0.8927, 0.5377],\n",
      "        [0.3678, 1.1728],\n",
      "        [1.1905, 0.4829],\n",
      "        [0.7699, 1.1341],\n",
      "        [0.0627, 1.0366],\n",
      "        [1.0837, 0.8699],\n",
      "        [1.0327, 0.0585],\n",
      "        [0.8288, 0.5771],\n",
      "        [1.1827, 0.3913],\n",
      "        [0.5290, 1.1908],\n",
      "        [0.6034, 0.8756],\n",
      "        [0.2643, 1.1505],\n",
      "        [1.1116, 0.8287],\n",
      "        [0.8477, 1.0991],\n",
      "        [0.4888, 0.9115],\n",
      "        [0.9344, 0.4168],\n",
      "        [0.2512, 1.0014],\n",
      "        [0.0618, 1.0405],\n",
      "        [1.1886, 0.4039],\n",
      "        [1.0454, 0.0659],\n",
      "        [0.6974, 0.7554],\n",
      "        [0.6317, 1.1824]], dtype=torch.float64)\n"
     ]
    },
    {
     "data": {
      "text/plain": [
       "<matplotlib.collections.PathCollection at 0x18bb66742e0>"
      ]
     },
     "execution_count": 14,
     "metadata": {},
     "output_type": "execute_result"
    },
    {
     "data": {
      "image/png": "[encoded data removed]",
      "text/plain": [
       "<Figure size 360x360 with 1 Axes>"
      ]
     },
     "metadata": {
      "needs_background": "light"
     },
     "output_type": "display_data"
    }
   ],
   "source": [
    "import matplotlib.pyplot as plt\n",
    "%matplotlib inline\n",
    "\n",
    "train_x = X.results['inputs']\n",
    "print(train_x)\n",
    "feas = X.results['feasibility']\n",
    "fig, ax = plt.subplots(figsize=(5,5))\n",
    "\n",
    "ax.scatter(*train_x.T, c = feas.int())\n"
   ]
  },
  {
   "cell_type": "code",
   "execution_count": null,
   "metadata": {},
   "outputs": [],
   "source": []
  }
 ],
 "metadata": {
  "kernelspec": {
   "display_name": "xopt",
   "language": "python",
   "name": "xopt"
  },
  "language_info": {
   "codemirror_mode": {
    "name": "ipython",
    "version": 3
   },
   "file_extension": ".py",
   "mimetype": "text/x-python",
   "name": "python",
   "nbconvert_exporter": "python",
   "pygments_lexer": "ipython3",
   "version": "3.9.6"
  }
 },
 "nbformat": 4,
 "nbformat_minor": 4
}
