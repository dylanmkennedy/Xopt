{
 "cells": [
  {
   "cell_type": "code",
   "execution_count": null,
   "metadata": {},
   "outputs": [],
   "source": [
    "# Useful for debugging\n",
    "%load_ext autoreload\n",
    "%autoreload 2"
   ]
  },
  {
   "cell_type": "markdown",
   "metadata": {},
   "source": [
    "# Xopt class, Astra kekgun example\n",
    "\n",
    "This is the class method for running Xopt."
   ]
  },
  {
   "cell_type": "code",
   "execution_count": null,
   "metadata": {},
   "outputs": [],
   "source": [
    "from xopt import Xopt\n",
    "\n",
    "# Notebook printing output\n",
    "from xopt import output_notebook\n",
    "\n",
    "output_notebook()"
   ]
  },
  {
   "cell_type": "code",
   "execution_count": null,
   "metadata": {},
   "outputs": [],
   "source": [
    "import yaml\n",
    "from xopt import Xopt\n",
    "\n",
    "YAML = \"\"\"\n",
    "xopt:\n",
    "  output_path: temp\n",
    "\n",
    "algorithm:\n",
    "  name: cnsga\n",
    "  options:\n",
    "    max_generations: 3\n",
    "    population_size: 8\n",
    "    crossover_probability: 0.9\n",
    "    mutation_probability: 1.0\n",
    "    selection: auto\n",
    "    population: null\n",
    "    show_progress: True\n",
    "\n",
    "simulation:\n",
    "  name: astra_with_generator\n",
    "  evaluate: astra.evaluate.evaluate_astra_with_generator\n",
    "  options:\n",
    "    astra_input_file: templates/kekgun/kekgun.in\n",
    "    generator_input_file: templates/kekgun/dist004.in\n",
    "\n",
    "# Note that you can call another file in the top level group:\n",
    "vocs:\n",
    "    variables:\n",
    "      sig_x: [0.05, 1]\n",
    "      lt: [0.005, 0.07]\n",
    "      maxe(1): [20, 50]\n",
    "      phi(1): [-30, 30]\n",
    "      maxb(1): [0, 0.4]\n",
    "      maxe(2): [0, 32]\n",
    "      phi(2): [-180, 180]\n",
    "      maxb(2): [0, 0.3]\n",
    "      maxe(3): [0, 32]\n",
    "      maxe(4): [0, 32]\n",
    "      phi(3): [-45, 45]\n",
    "      phi(4): [-45, 45]\n",
    "      phi(6): [-45, 45]\n",
    "    constants:\n",
    "      ipart: 1000\n",
    "      lspch: true\n",
    "      zstop: 16.54\n",
    "\n",
    "    objectives:\n",
    "      end_core_emit_95percent_x: MINIMIZE\n",
    "      end_sigma_z: MINIMIZE\n",
    "    constraints:\n",
    "      end_sigma_z: [LESS_THAN, 0.0015]\n",
    "      end_core_emit_95percent_x: [LESS_THAN, 9.0e-07]\n",
    "      end_sigma_energy: [LESS_THAN, 200000.0]\n",
    "      end_higher_order_energy_spread: [LESS_THAN, 5000.0]\n",
    "      end_mean_kinetic_energy: [GREATER_THAN, 90000000.0]\n",
    "      end_n_particle_loss: [LESS_THAN, 1]\n",
    "    linked_variables: null\n",
    "\n",
    "\"\"\"\n",
    "\n",
    "!mkdir temp/"
   ]
  },
  {
   "cell_type": "code",
   "execution_count": null,
   "metadata": {},
   "outputs": [],
   "source": [
    "# Create object\n",
    "X = Xopt(YAML)\n",
    "\n",
    "# Change some things to make it run faster\n",
    "X.vocs[\"constants\"][\"lspch\"] = True\n",
    "X.vocs[\"constants\"][\"ipart\"] = 1000\n",
    "X.vocs[\"constants\"][\"zstop\"] = 0.2\n",
    "\n",
    "# Show config\n",
    "X"
   ]
  },
  {
   "cell_type": "code",
   "execution_count": null,
   "metadata": {},
   "outputs": [],
   "source": [
    "# Check random inputs\n",
    "X.random_inputs()"
   ]
  },
  {
   "cell_type": "code",
   "execution_count": null,
   "metadata": {},
   "outputs": [],
   "source": [
    "# Evaluate with some particular settings\n",
    "X.evaluate({\"ipart\": 1000, \"lspch\": True, \"zstop\": 0.2})"
   ]
  },
  {
   "cell_type": "code",
   "execution_count": null,
   "metadata": {},
   "outputs": [],
   "source": [
    "%%time\n",
    "# Do a random evaluate to check that everything will run\n",
    "output = X.random_evaluate()\n",
    "output"
   ]
  },
  {
   "cell_type": "code",
   "execution_count": null,
   "metadata": {},
   "outputs": [],
   "source": [
    "# These are the algorithm options\n",
    "X.algorithm[\"options\"]"
   ]
  },
  {
   "cell_type": "code",
   "execution_count": null,
   "metadata": {},
   "outputs": [],
   "source": [
    "# These are the options in the evaluate function\n",
    "X.simulation[\"options\"]"
   ]
  },
  {
   "cell_type": "markdown",
   "metadata": {},
   "source": [
    "# Run CNSGA using processes or threads"
   ]
  },
  {
   "cell_type": "code",
   "execution_count": null,
   "metadata": {},
   "outputs": [],
   "source": [
    "from concurrent.futures import ProcessPoolExecutor as PoolExecutor\n",
    "\n",
    "# from concurrent.futures import ThreadPoolExecutor as PoolExecutor\n",
    "executor = PoolExecutor()"
   ]
  },
  {
   "cell_type": "code",
   "execution_count": null,
   "metadata": {},
   "outputs": [],
   "source": [
    "# Create object\n",
    "X = Xopt(YAML)\n",
    "\n",
    "# Change some things to make it run faster\n",
    "X.vocs[\"constants\"][\"lspch\"] = False\n",
    "X.vocs[\"constants\"][\"ipart\"] = 100\n",
    "X.vocs[\"constants\"][\"zstop\"] = 0.2\n",
    "X.results"
   ]
  },
  {
   "cell_type": "code",
   "execution_count": null,
   "metadata": {},
   "outputs": [],
   "source": [
    "# Run\n",
    "X.run(executor=executor)"
   ]
  },
  {
   "cell_type": "code",
   "execution_count": null,
   "metadata": {},
   "outputs": [],
   "source": [
    "# Check for errors\n",
    "X.results[\"error\"]"
   ]
  },
  {
   "cell_type": "markdown",
   "metadata": {},
   "source": [
    "# Write this configuration"
   ]
  },
  {
   "cell_type": "code",
   "execution_count": null,
   "metadata": {},
   "outputs": [],
   "source": [
    "X.config[\"algorithm\"][\"options\"][\"population\"] = \"temp/pop_3.json\"\n",
    "X.save(\"test.yaml\")"
   ]
  },
  {
   "cell_type": "markdown",
   "metadata": {},
   "source": [
    "# Run with MPI"
   ]
  },
  {
   "cell_type": "code",
   "execution_count": null,
   "metadata": {},
   "outputs": [],
   "source": [
    "!mpirun -n 4 python -m mpi4py.futures -m xopt.mpi.run -vv --logfile xopt.log test.yaml"
   ]
  },
  {
   "cell_type": "markdown",
   "metadata": {},
   "source": [
    "# Dask "
   ]
  },
  {
   "cell_type": "code",
   "execution_count": null,
   "metadata": {},
   "outputs": [],
   "source": [
    "from dask.distributed import Client\n",
    "\n",
    "executor = Client()\n",
    "# executor = Client(processes=True)\n",
    "executor"
   ]
  },
  {
   "cell_type": "code",
   "execution_count": null,
   "metadata": {},
   "outputs": [],
   "source": [
    "# Wait a few seconds for the Dask cluster to start\n",
    "from time import sleep\n",
    "\n",
    "sleep(5)"
   ]
  },
  {
   "cell_type": "code",
   "execution_count": null,
   "metadata": {},
   "outputs": [],
   "source": [
    "X.algorithm[\"options\"][\"max_generations\"] = 4\n",
    "X.algorithm[\"options\"][\"population_size\"] = 32\n",
    "X.algorithm[\"options\"][\"population\"] = None\n",
    "X.results = None\n",
    "X"
   ]
  },
  {
   "cell_type": "code",
   "execution_count": null,
   "metadata": {},
   "outputs": [],
   "source": [
    "# Run again\n",
    "X.run(executor=executor)\n",
    "executor.close()"
   ]
  },
  {
   "cell_type": "code",
   "execution_count": null,
   "metadata": {},
   "outputs": [],
   "source": [
    "X.results[\"error\"]"
   ]
  },
  {
   "cell_type": "markdown",
   "metadata": {},
   "source": [
    "# Plot results"
   ]
  },
  {
   "cell_type": "code",
   "execution_count": null,
   "metadata": {},
   "outputs": [],
   "source": [
    "import matplotlib.pyplot as plt\n",
    "import numpy as np\n",
    "\n",
    "kx = \"end_sigma_z\"\n",
    "ky = \"end_core_emit_95percent_x\"\n",
    "\n",
    "x = np.array([d[kx] for d in X.results[\"outputs\"]])\n",
    "y = np.array([d[ky] for d in X.results[\"outputs\"]])\n",
    "\n",
    "\n",
    "plt.scatter(x, y)"
   ]
  },
  {
   "cell_type": "code",
   "execution_count": null,
   "metadata": {},
   "outputs": [],
   "source": [
    "# X.results['outputs']"
   ]
  },
  {
   "cell_type": "markdown",
   "metadata": {
    "pycharm": {
     "name": "#%% md\n"
    }
   },
   "source": [
    "# Cleanup"
   ]
  },
  {
   "cell_type": "code",
   "execution_count": null,
   "metadata": {
    "pycharm": {
     "name": "#%%\n"
    }
   },
   "outputs": [],
   "source": [
    "# import shutil\n",
    "# import os\n",
    "# shutil.rmtree('temp/')\n",
    "# os.remove('xopt.log')\n",
    "##os.chmod('dask-worker-space/',0o777)\n",
    "# shutil.rmtree('dask-worker-space/')\n",
    "###os.chmod('test.yaml',0o777)\n",
    "##os.remove('test.yaml')\n",
    "###os.chmod('NORRAN',0o777)\n",
    "###os.remove('NORRAN')\n",
    "#!rm test.yaml"
   ]
  },
  {
   "cell_type": "code",
   "execution_count": null,
   "metadata": {},
   "outputs": [],
   "source": [
    "!rm -r dask-worker-space"
   ]
  },
  {
   "cell_type": "code",
   "execution_count": null,
   "metadata": {},
   "outputs": [],
   "source": [
    "!rm test.yaml"
   ]
  },
  {
   "cell_type": "code",
   "execution_count": null,
   "metadata": {},
   "outputs": [],
   "source": [
    "!rm -r temp"
   ]
  },
  {
   "cell_type": "code",
   "execution_count": null,
   "metadata": {},
   "outputs": [],
   "source": [
    "!rm xopt.log"
   ]
  }
 ],
 "metadata": {
  "kernelspec": {
   "display_name": "Python 3 (ipykernel)",
   "language": "python",
   "name": "python3"
  },
  "language_info": {
   "codemirror_mode": {
    "name": "ipython",
    "version": 3
   },
   "file_extension": ".py",
   "mimetype": "text/x-python",
   "name": "python",
   "nbconvert_exporter": "python",
   "pygments_lexer": "ipython3",
   "version": "3.9.7"
  }
 },
 "nbformat": 4,
 "nbformat_minor": 4
}
