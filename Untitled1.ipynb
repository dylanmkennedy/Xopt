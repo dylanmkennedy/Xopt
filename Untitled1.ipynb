{
 "cells": [
  {
   "cell_type": "code",
   "execution_count": 1,
   "id": "9b87f73d-dc12-41a0-b879-b35f9802d40e",
   "metadata": {},
   "outputs": [],
   "source": [
    "from xopt import Xopt"
   ]
  },
  {
   "cell_type": "code",
   "execution_count": 12,
   "id": "9edcfc5a-c7b5-40f5-a8e9-3d9f4075bd34",
   "metadata": {},
   "outputs": [],
   "source": [
    "import numpy as np"
   ]
  },
  {
   "cell_type": "code",
   "execution_count": 2,
   "id": "d9562a6f-2af7-49c3-aec9-6403b1b691b0",
   "metadata": {},
   "outputs": [],
   "source": [
    "YAML=\"\"\"\n",
    "xopt: \n",
    "  output_path: null\n",
    "\n",
    "algorithm:\n",
    "  name: cnsga\n",
    "  options: \n",
    "    max_generations: 50 \n",
    "    population_size: 128\n",
    "    crossover_probability: 0.9\n",
    "    mutation_probability: 1.0\n",
    "    selection: auto\n",
    "    verbose: true\n",
    "    population: null\n",
    "  \n",
    "simulation: \n",
    "  name: test_TNK\n",
    "  evaluate: xopt.tests.evaluators.TNK.evaluate_TNK  \n",
    "  \n",
    "vocs:\n",
    "  variables: \n",
    "    x1: [0, 3.14159]\n",
    "    x2: [0, 3.14159]\n",
    "  objectives:\n",
    "    y1: MINIMIZE \n",
    "    y2: MINIMIZE\n",
    "  constraints:\n",
    "    c1: [GREATER_THAN, 0]\n",
    "    c2: [LESS_THAN, 0.5]\n",
    "  linked_variables:\n",
    "    x9: x1\n",
    "  constants:\n",
    "    a: dummy_constant\n",
    "\"\"\""
   ]
  },
  {
   "cell_type": "code",
   "execution_count": 3,
   "id": "466b9451-708a-4c26-80b7-a1f81d001abf",
   "metadata": {},
   "outputs": [
    {
     "name": "stdout",
     "output_type": "stream",
     "text": [
      "Warning: No path set for key xopt : output_path\n"
     ]
    }
   ],
   "source": [
    "X=Xopt(YAML)"
   ]
  },
  {
   "cell_type": "code",
   "execution_count": 4,
   "id": "c6248dd2-fc73-4125-94ee-47dea4601d77",
   "metadata": {},
   "outputs": [
    {
     "data": {
      "text/plain": [
       "{'y1': 2.0937589262977374,\n",
       " 'y2': 1.822758425491659,\n",
       " 'c1': 6.661392214987619,\n",
       " 'c2': 4.289757367362889,\n",
       " 'some_array': array([1, 2, 3])}"
      ]
     },
     "execution_count": 4,
     "metadata": {},
     "output_type": "execute_result"
    }
   ],
   "source": [
    "X.random_evaluate()"
   ]
  },
  {
   "cell_type": "code",
   "execution_count": 11,
   "id": "1b9d2b59-408b-461e-b8eb-b832bd8746e4",
   "metadata": {},
   "outputs": [
    {
     "data": {
      "text/plain": [
       "2"
      ]
     },
     "execution_count": 11,
     "metadata": {},
     "output_type": "execute_result"
    }
   ],
   "source": [
    "from typing import Dict\n",
    "\n",
    "def evaluate(inputs:Dict) -> Dict:\n",
    "    return params['x']\n",
    "\n",
    "evaluate({'x':2})"
   ]
  },
  {
   "cell_type": "code",
   "execution_count": 22,
   "id": "f7566348-1bf4-4c03-8b10-f3347e725be4",
   "metadata": {},
   "outputs": [
    {
     "data": {
      "text/plain": [
       "array([1, 4])"
      ]
     },
     "execution_count": 22,
     "metadata": {},
     "output_type": "execute_result"
    }
   ],
   "source": [
    "def y(x):\n",
    "    return np.array([x[0], 2*x[1]])\n",
    "y( [1,2])"
   ]
  },
  {
   "cell_type": "code",
   "execution_count": 26,
   "id": "fe9bbead-5420-48b4-877f-3d85fc557642",
   "metadata": {},
   "outputs": [
    {
     "data": {
      "text/plain": [
       "{'y1': 1, 'y2': 6}"
      ]
     },
     "execution_count": 26,
     "metadata": {},
     "output_type": "execute_result"
    }
   ],
   "source": [
    "def make_evaluate(y, input_labels, output_labels):\n",
    "    def evaluate(inputs):\n",
    "        res = y(np.array([inputs[k] for k in input_labels]))\n",
    "        return {k:v for k, v in zip(output_labels, res)}\n",
    "    return evaluate\n",
    "    \n",
    "my_evaluate = make_evaluate(y, ['x1', 'x2'], ['y1', 'y2'])    \n",
    "\n",
    "my_evaluate({'x1':1, 'x2':3})"
   ]
  },
  {
   "cell_type": "code",
   "execution_count": 20,
   "id": "25f05c10-f946-430d-b42e-d8e62320887b",
   "metadata": {},
   "outputs": [
    {
     "data": {
      "text/plain": [
       "array([[1, 2],\n",
       "       [6, 8]])"
      ]
     },
     "execution_count": 20,
     "metadata": {},
     "output_type": "execute_result"
    }
   ],
   "source": [
    "x0 = np.array([[1,2], [3,4], [5,6]])\n",
    "y(x0)"
   ]
  },
  {
   "cell_type": "code",
   "execution_count": null,
   "id": "a84c394e-bdf6-4ff5-98cb-108108ed17a1",
   "metadata": {},
   "outputs": [],
   "source": []
  }
 ],
 "metadata": {
  "kernelspec": {
   "display_name": "Python 3 (ipykernel)",
   "language": "python",
   "name": "python3"
  },
  "language_info": {
   "codemirror_mode": {
    "name": "ipython",
    "version": 3
   },
   "file_extension": ".py",
   "mimetype": "text/x-python",
   "name": "python",
   "nbconvert_exporter": "python",
   "pygments_lexer": "ipython3",
   "version": "3.9.7"
  }
 },
 "nbformat": 4,
 "nbformat_minor": 5
}
