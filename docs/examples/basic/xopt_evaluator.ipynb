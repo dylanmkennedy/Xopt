{
 "cells": [
  {
   "cell_type": "markdown",
   "metadata": {
    "pycharm": {
     "name": "#%% md\n"
    }
   },
   "source": []
  },
  {
   "cell_type": "markdown",
   "metadata": {
    "pycharm": {
     "name": "#%% md\n"
    }
   },
   "source": [
    "# Xopt Evaluator Basic Usage \n",
    "\n",
    "The `Evaluator` handles the execution of the user-provided `function` with optional `function_kwags`, asyncrhonously and parallel, with exception handling. "
   ]
  },
  {
   "cell_type": "code",
   "execution_count": 1,
   "metadata": {
    "collapsed": false,
    "execution": {
     "iopub.execute_input": "2022-07-02T04:16:33.733816Z",
     "iopub.status.busy": "2022-07-02T04:16:33.733470Z",
     "iopub.status.idle": "2022-07-02T04:16:33.744499Z",
     "shell.execute_reply": "2022-07-02T04:16:33.744054Z"
    },
    "pycharm": {
     "name": "#%%\n"
    }
   },
   "outputs": [],
   "source": [
    "# needed for macos\n",
    "import platform\n",
    "if platform.system() == \"Darwin\": import multiprocessing;multiprocessing.set_start_method(\"fork\")\n"
   ]
  },
  {
   "cell_type": "code",
   "execution_count": 2,
   "metadata": {
    "collapsed": false,
    "execution": {
     "iopub.execute_input": "2022-07-02T04:16:33.747474Z",
     "iopub.status.busy": "2022-07-02T04:16:33.747274Z",
     "iopub.status.idle": "2022-07-02T04:16:34.415604Z",
     "shell.execute_reply": "2022-07-02T04:16:34.414998Z"
    },
    "pycharm": {
     "name": "#%%\n"
    }
   },
   "outputs": [],
   "source": [
    "from xopt import Xopt, Evaluator, Generator, VOCS\n",
    "from xopt.generators.random import RandomGenerator\n",
    "\n",
    "from time import sleep\n",
    "from numpy.random import randint\n",
    "\n",
    "from typing import Dict\n",
    "\n",
    "import numpy as np\n",
    "np.random.seed(666) # for reproducibility"
   ]
  },
  {
   "cell_type": "markdown",
   "metadata": {},
   "source": [
    "Define a custom function `f(inputs: Dict) -> outputs: Dict`. "
   ]
  },
  {
   "cell_type": "code",
   "execution_count": 3,
   "metadata": {
    "execution": {
     "iopub.execute_input": "2022-07-02T04:16:34.417903Z",
     "iopub.status.busy": "2022-07-02T04:16:34.417579Z",
     "iopub.status.idle": "2022-07-02T04:16:34.419930Z",
     "shell.execute_reply": "2022-07-02T04:16:34.419693Z"
    }
   },
   "outputs": [],
   "source": [
    "def f(inputs: Dict) -> Dict:\n",
    "\n",
    "    sleep(randint(1, 5)*.1)  # simulate computation time\n",
    "    # Make some occasional errors\n",
    "    if np.any(inputs[\"x\"] > 0.8):\n",
    "        raise ValueError(\"x > 0.8\")\n",
    "\n",
    "    return {\"f1\": inputs[\"x\"] ** 2 + inputs[\"y\"] ** 2}"
   ]
  },
  {
   "cell_type": "markdown",
   "metadata": {},
   "source": [
    "Define variables, objectives, constraints, and other settings (VOCS)"
   ]
  },
  {
   "cell_type": "code",
   "execution_count": 4,
   "metadata": {
    "collapsed": false,
    "execution": {
     "iopub.execute_input": "2022-07-02T04:16:34.421489Z",
     "iopub.status.busy": "2022-07-02T04:16:34.421387Z",
     "iopub.status.idle": "2022-07-02T04:16:34.426883Z",
     "shell.execute_reply": "2022-07-02T04:16:34.426635Z"
    },
    "pycharm": {
     "name": "#%%\n"
    }
   },
   "outputs": [
    {
     "data": {
      "text/plain": [
       "VOCS(variables={'x': [0.0, 1.0], 'y': [0.0, 1.0]}, constraints={}, objectives={'f1': 'MINIMIZE'}, constants={}, linked_variables={})"
      ]
     },
     "execution_count": 4,
     "metadata": {},
     "output_type": "execute_result"
    }
   ],
   "source": [
    "vocs = VOCS(variables={\"x\": [0, 1], \"y\": [0, 1]}, objectives={\"f1\": \"MINIMIZE\"})\n",
    "vocs\n",
    "\n"
   ]
  },
  {
   "cell_type": "markdown",
   "metadata": {},
   "source": [
    "This can be used to make some random inputs for evaluating the function. "
   ]
  },
  {
   "cell_type": "code",
   "execution_count": 5,
   "metadata": {
    "execution": {
     "iopub.execute_input": "2022-07-02T04:16:34.440029Z",
     "iopub.status.busy": "2022-07-02T04:16:34.439914Z",
     "iopub.status.idle": "2022-07-02T04:16:34.756711Z",
     "shell.execute_reply": "2022-07-02T04:16:34.756027Z"
    }
   },
   "outputs": [
    {
     "data": {
      "text/plain": [
       "{'f1': 0.11401572022703582}"
      ]
     },
     "execution_count": 5,
     "metadata": {},
     "output_type": "execute_result"
    }
   ],
   "source": [
    "in1 = vocs.random_inputs()\n",
    "\n",
    "f(in1)"
   ]
  },
  {
   "cell_type": "code",
   "execution_count": 6,
   "metadata": {
    "execution": {
     "iopub.execute_input": "2022-07-02T04:16:34.760587Z",
     "iopub.status.busy": "2022-07-02T04:16:34.760145Z",
     "iopub.status.idle": "2022-07-02T04:16:35.073103Z",
     "shell.execute_reply": "2022-07-02T04:16:35.072317Z"
    }
   },
   "outputs": [
    {
     "name": "stdout",
     "output_type": "stream",
     "text": [
      "Caught error in f: x > 0.8\n"
     ]
    }
   ],
   "source": [
    "# Add in occasional errors. \n",
    "try:\n",
    "    f({\"x\": 1, \"y\": 0})\n",
    "except Exception as ex:\n",
    "    print(f\"Caught error in f: {ex}\")"
   ]
  },
  {
   "cell_type": "code",
   "execution_count": 7,
   "metadata": {},
   "outputs": [],
   "source": [
    "# Create Evaluator\n",
    "ev = Evaluator(function=f)"
   ]
  },
  {
   "cell_type": "code",
   "execution_count": 8,
   "metadata": {},
   "outputs": [
    {
     "data": {
      "text/plain": [
       "{'xopt_exception': None,\n",
       " 'xopt_traceback': '',\n",
       " 'xopt_runtime': 0.20113283299999907,\n",
       " 'f1': 0.11401572022703582,\n",
       " 'xopt_error': False}"
      ]
     },
     "execution_count": 8,
     "metadata": {},
     "output_type": "execute_result"
    }
   ],
   "source": [
    "# Single input evaluation\n",
    "ev.evaluate(in1)"
   ]
  },
  {
   "cell_type": "code",
   "execution_count": 9,
   "metadata": {},
   "outputs": [
    {
     "data": {
      "text/html": [
       "<div>\n",
       "<style scoped>\n",
       "    .dataframe tbody tr th:only-of-type {\n",
       "        vertical-align: middle;\n",
       "    }\n",
       "\n",
       "    .dataframe tbody tr th {\n",
       "        vertical-align: top;\n",
       "    }\n",
       "\n",
       "    .dataframe thead th {\n",
       "        text-align: right;\n",
       "    }\n",
       "</style>\n",
       "<table border=\"1\" class=\"dataframe\">\n",
       "  <thead>\n",
       "    <tr style=\"text-align: right;\">\n",
       "      <th></th>\n",
       "      <th>xopt_exception</th>\n",
       "      <th>xopt_traceback</th>\n",
       "      <th>xopt_runtime</th>\n",
       "      <th>f1</th>\n",
       "      <th>xopt_error</th>\n",
       "    </tr>\n",
       "  </thead>\n",
       "  <tbody>\n",
       "    <tr>\n",
       "      <th>0</th>\n",
       "      <td>None</td>\n",
       "      <td></td>\n",
       "      <td>0.304741</td>\n",
       "      <td>0.529588</td>\n",
       "      <td>False</td>\n",
       "    </tr>\n",
       "    <tr>\n",
       "      <th>1</th>\n",
       "      <td>None</td>\n",
       "      <td></td>\n",
       "      <td>0.403881</td>\n",
       "      <td>1.154098</td>\n",
       "      <td>False</td>\n",
       "    </tr>\n",
       "    <tr>\n",
       "      <th>2</th>\n",
       "      <td>None</td>\n",
       "      <td></td>\n",
       "      <td>0.205012</td>\n",
       "      <td>0.641450</td>\n",
       "      <td>False</td>\n",
       "    </tr>\n",
       "    <tr>\n",
       "      <th>3</th>\n",
       "      <td>None</td>\n",
       "      <td></td>\n",
       "      <td>0.200805</td>\n",
       "      <td>0.619825</td>\n",
       "      <td>False</td>\n",
       "    </tr>\n",
       "    <tr>\n",
       "      <th>4</th>\n",
       "      <td>None</td>\n",
       "      <td></td>\n",
       "      <td>0.105087</td>\n",
       "      <td>0.536923</td>\n",
       "      <td>False</td>\n",
       "    </tr>\n",
       "    <tr>\n",
       "      <th>5</th>\n",
       "      <td>None</td>\n",
       "      <td></td>\n",
       "      <td>0.300533</td>\n",
       "      <td>0.342636</td>\n",
       "      <td>False</td>\n",
       "    </tr>\n",
       "    <tr>\n",
       "      <th>6</th>\n",
       "      <td>None</td>\n",
       "      <td></td>\n",
       "      <td>0.102354</td>\n",
       "      <td>0.589861</td>\n",
       "      <td>False</td>\n",
       "    </tr>\n",
       "    <tr>\n",
       "      <th>7</th>\n",
       "      <td>None</td>\n",
       "      <td></td>\n",
       "      <td>0.403020</td>\n",
       "      <td>0.556977</td>\n",
       "      <td>False</td>\n",
       "    </tr>\n",
       "    <tr>\n",
       "      <th>8</th>\n",
       "      <td>None</td>\n",
       "      <td></td>\n",
       "      <td>0.305124</td>\n",
       "      <td>0.055586</td>\n",
       "      <td>False</td>\n",
       "    </tr>\n",
       "    <tr>\n",
       "      <th>9</th>\n",
       "      <td>None</td>\n",
       "      <td></td>\n",
       "      <td>0.305108</td>\n",
       "      <td>0.785844</td>\n",
       "      <td>False</td>\n",
       "    </tr>\n",
       "  </tbody>\n",
       "</table>\n",
       "</div>"
      ],
      "text/plain": [
       "  xopt_exception xopt_traceback  xopt_runtime        f1  xopt_error\n",
       "0           None                     0.304741  0.529588       False\n",
       "1           None                     0.403881  1.154098       False\n",
       "2           None                     0.205012  0.641450       False\n",
       "3           None                     0.200805  0.619825       False\n",
       "4           None                     0.105087  0.536923       False\n",
       "5           None                     0.300533  0.342636       False\n",
       "6           None                     0.102354  0.589861       False\n",
       "7           None                     0.403020  0.556977       False\n",
       "8           None                     0.305124  0.055586       False\n",
       "9           None                     0.305108  0.785844       False"
      ]
     },
     "execution_count": 9,
     "metadata": {},
     "output_type": "execute_result"
    }
   ],
   "source": [
    "# Dataframe evaluation\n",
    "in10 = vocs.random_inputs(10)\n",
    "ev.evaluate_data(in10)\n"
   ]
  },
  {
   "cell_type": "code",
   "execution_count": 10,
   "metadata": {},
   "outputs": [
    {
     "data": {
      "text/html": [
       "<div>\n",
       "<style scoped>\n",
       "    .dataframe tbody tr th:only-of-type {\n",
       "        vertical-align: middle;\n",
       "    }\n",
       "\n",
       "    .dataframe tbody tr th {\n",
       "        vertical-align: top;\n",
       "    }\n",
       "\n",
       "    .dataframe thead th {\n",
       "        text-align: right;\n",
       "    }\n",
       "</style>\n",
       "<table border=\"1\" class=\"dataframe\">\n",
       "  <thead>\n",
       "    <tr style=\"text-align: right;\">\n",
       "      <th></th>\n",
       "      <th>xopt_exception</th>\n",
       "      <th>xopt_traceback</th>\n",
       "      <th>xopt_runtime</th>\n",
       "      <th>f1</th>\n",
       "      <th>xopt_error</th>\n",
       "    </tr>\n",
       "  </thead>\n",
       "  <tbody>\n",
       "    <tr>\n",
       "      <th>0</th>\n",
       "      <td>None</td>\n",
       "      <td></td>\n",
       "      <td>0.301875</td>\n",
       "      <td>0.529588</td>\n",
       "      <td>False</td>\n",
       "    </tr>\n",
       "    <tr>\n",
       "      <th>1</th>\n",
       "      <td>None</td>\n",
       "      <td></td>\n",
       "      <td>0.301875</td>\n",
       "      <td>1.154098</td>\n",
       "      <td>False</td>\n",
       "    </tr>\n",
       "    <tr>\n",
       "      <th>2</th>\n",
       "      <td>None</td>\n",
       "      <td></td>\n",
       "      <td>0.301875</td>\n",
       "      <td>0.641450</td>\n",
       "      <td>False</td>\n",
       "    </tr>\n",
       "    <tr>\n",
       "      <th>3</th>\n",
       "      <td>None</td>\n",
       "      <td></td>\n",
       "      <td>0.301875</td>\n",
       "      <td>0.619825</td>\n",
       "      <td>False</td>\n",
       "    </tr>\n",
       "    <tr>\n",
       "      <th>4</th>\n",
       "      <td>None</td>\n",
       "      <td></td>\n",
       "      <td>0.301875</td>\n",
       "      <td>0.536923</td>\n",
       "      <td>False</td>\n",
       "    </tr>\n",
       "    <tr>\n",
       "      <th>5</th>\n",
       "      <td>None</td>\n",
       "      <td></td>\n",
       "      <td>0.301875</td>\n",
       "      <td>0.342636</td>\n",
       "      <td>False</td>\n",
       "    </tr>\n",
       "    <tr>\n",
       "      <th>6</th>\n",
       "      <td>None</td>\n",
       "      <td></td>\n",
       "      <td>0.301875</td>\n",
       "      <td>0.589861</td>\n",
       "      <td>False</td>\n",
       "    </tr>\n",
       "    <tr>\n",
       "      <th>7</th>\n",
       "      <td>None</td>\n",
       "      <td></td>\n",
       "      <td>0.301875</td>\n",
       "      <td>0.556977</td>\n",
       "      <td>False</td>\n",
       "    </tr>\n",
       "    <tr>\n",
       "      <th>8</th>\n",
       "      <td>None</td>\n",
       "      <td></td>\n",
       "      <td>0.301875</td>\n",
       "      <td>0.055586</td>\n",
       "      <td>False</td>\n",
       "    </tr>\n",
       "    <tr>\n",
       "      <th>9</th>\n",
       "      <td>None</td>\n",
       "      <td></td>\n",
       "      <td>0.301875</td>\n",
       "      <td>0.785844</td>\n",
       "      <td>False</td>\n",
       "    </tr>\n",
       "  </tbody>\n",
       "</table>\n",
       "</div>"
      ],
      "text/plain": [
       "  xopt_exception xopt_traceback  xopt_runtime        f1  xopt_error\n",
       "0           None                     0.301875  0.529588       False\n",
       "1           None                     0.301875  1.154098       False\n",
       "2           None                     0.301875  0.641450       False\n",
       "3           None                     0.301875  0.619825       False\n",
       "4           None                     0.301875  0.536923       False\n",
       "5           None                     0.301875  0.342636       False\n",
       "6           None                     0.301875  0.589861       False\n",
       "7           None                     0.301875  0.556977       False\n",
       "8           None                     0.301875  0.055586       False\n",
       "9           None                     0.301875  0.785844       False"
      ]
     },
     "execution_count": 10,
     "metadata": {},
     "output_type": "execute_result"
    }
   ],
   "source": [
    "# Dataframe evaluation, vectorized\n",
    "ev.vectorized = True\n",
    "ev.evaluate_data(in10)\n"
   ]
  },
  {
   "cell_type": "code",
   "execution_count": 11,
   "metadata": {},
   "outputs": [
    {
     "name": "stdout",
     "output_type": "stream",
     "text": [
      "{'xopt_exception': None, 'xopt_traceback': '', 'xopt_runtime': 0.30406587500000093, 'f1': 0.5295876188736232, 'xopt_error': False}\n",
      "{'xopt_exception': None, 'xopt_traceback': '', 'xopt_runtime': 0.10506066700000005, 'f1': 1.154097903998413, 'xopt_error': False}\n",
      "{'xopt_exception': None, 'xopt_traceback': '', 'xopt_runtime': 0.10202720900000095, 'f1': 0.641449645681512, 'xopt_error': False}\n",
      "{'xopt_exception': None, 'xopt_traceback': '', 'xopt_runtime': 0.40520387499999977, 'f1': 0.6198251611679085, 'xopt_error': False}\n",
      "{'xopt_exception': None, 'xopt_traceback': '', 'xopt_runtime': 0.30512595799999964, 'f1': 0.5369228584400957, 'xopt_error': False}\n",
      "{'xopt_exception': None, 'xopt_traceback': '', 'xopt_runtime': 0.20275633299999996, 'f1': 0.3426360721182605, 'xopt_error': False}\n",
      "{'xopt_exception': None, 'xopt_traceback': '', 'xopt_runtime': 0.404676499999999, 'f1': 0.5898614653804399, 'xopt_error': False}\n",
      "{'xopt_exception': None, 'xopt_traceback': '', 'xopt_runtime': 0.30087341599999995, 'f1': 0.5569771979382582, 'xopt_error': False}\n",
      "{'xopt_exception': None, 'xopt_traceback': '', 'xopt_runtime': 0.30592145800000026, 'f1': 0.055585968775201305, 'xopt_error': False}\n",
      "{'xopt_exception': None, 'xopt_traceback': '', 'xopt_runtime': 0.4049309999999995, 'f1': 0.7858444543806786, 'xopt_error': False}\n"
     ]
    }
   ],
   "source": [
    "futures = ev.submit_data(in10)\n",
    "for ix, fut in futures.items():\n",
    "    print(fut.result())"
   ]
  },
  {
   "cell_type": "markdown",
   "metadata": {},
   "source": [
    "# Evaluator in the Xopt object"
   ]
  },
  {
   "cell_type": "code",
   "execution_count": 12,
   "metadata": {
    "collapsed": false,
    "execution": {
     "iopub.execute_input": "2022-07-02T04:16:35.076937Z",
     "iopub.status.busy": "2022-07-02T04:16:35.076615Z",
     "iopub.status.idle": "2022-07-02T04:16:36.125452Z",
     "shell.execute_reply": "2022-07-02T04:16:36.124894Z"
    },
    "pycharm": {
     "name": "#%%\n"
    }
   },
   "outputs": [
    {
     "data": {
      "text/html": [
       "<div>\n",
       "<style scoped>\n",
       "    .dataframe tbody tr th:only-of-type {\n",
       "        vertical-align: middle;\n",
       "    }\n",
       "\n",
       "    .dataframe tbody tr th {\n",
       "        vertical-align: top;\n",
       "    }\n",
       "\n",
       "    .dataframe thead th {\n",
       "        text-align: right;\n",
       "    }\n",
       "</style>\n",
       "<table border=\"1\" class=\"dataframe\">\n",
       "  <thead>\n",
       "    <tr style=\"text-align: right;\">\n",
       "      <th></th>\n",
       "      <th>x</th>\n",
       "      <th>y</th>\n",
       "    </tr>\n",
       "  </thead>\n",
       "  <tbody>\n",
       "    <tr>\n",
       "      <th>1</th>\n",
       "      <td>0.583288</td>\n",
       "      <td>0.224807</td>\n",
       "    </tr>\n",
       "    <tr>\n",
       "      <th>2</th>\n",
       "      <td>0.256953</td>\n",
       "      <td>0.780591</td>\n",
       "    </tr>\n",
       "    <tr>\n",
       "      <th>3</th>\n",
       "      <td>0.630404</td>\n",
       "      <td>0.920658</td>\n",
       "    </tr>\n",
       "    <tr>\n",
       "      <th>4</th>\n",
       "      <td>0.924833</td>\n",
       "      <td>0.513219</td>\n",
       "    </tr>\n",
       "  </tbody>\n",
       "</table>\n",
       "</div>"
      ],
      "text/plain": [
       "          x         y\n",
       "1  0.583288  0.224807\n",
       "2  0.256953  0.780591\n",
       "3  0.630404  0.920658\n",
       "4  0.924833  0.513219"
      ]
     },
     "execution_count": 12,
     "metadata": {},
     "output_type": "execute_result"
    }
   ],
   "source": [
    "X = Xopt(generator=RandomGenerator(vocs), evaluator=Evaluator(function=f), vocs=vocs)\n",
    "\n",
    "# Submit to the evaluator some new inputs\n",
    "X.submit_data(vocs.random_inputs(4))\n",
    "\n",
    "# Unevaluated inputs are collected in a dataframe\n",
    "X._input_data"
   ]
  },
  {
   "cell_type": "code",
   "execution_count": 13,
   "metadata": {
    "collapsed": false,
    "execution": {
     "iopub.execute_input": "2022-07-02T04:16:36.128424Z",
     "iopub.status.busy": "2022-07-02T04:16:36.128186Z",
     "iopub.status.idle": "2022-07-02T04:16:36.131541Z",
     "shell.execute_reply": "2022-07-02T04:16:36.131081Z"
    },
    "pycharm": {
     "name": "#%%\n"
    }
   },
   "outputs": [
    {
     "data": {
      "text/plain": [
       "{1: <Future at 0x14f7e5970 state=finished returned dict>,\n",
       " 2: <Future at 0x14f78fe50 state=finished returned dict>,\n",
       " 3: <Future at 0x14f78ffa0 state=finished returned dict>,\n",
       " 4: <Future at 0x14f78f700 state=finished returned dict>}"
      ]
     },
     "execution_count": 13,
     "metadata": {},
     "output_type": "execute_result"
    }
   ],
   "source": [
    "# Internal futures dictionary\n",
    "X._futures"
   ]
  },
  {
   "cell_type": "code",
   "execution_count": 14,
   "metadata": {
    "collapsed": false,
    "execution": {
     "iopub.execute_input": "2022-07-02T04:16:36.133714Z",
     "iopub.status.busy": "2022-07-02T04:16:36.133565Z",
     "iopub.status.idle": "2022-07-02T04:16:36.140685Z",
     "shell.execute_reply": "2022-07-02T04:16:36.140347Z"
    },
    "pycharm": {
     "name": "#%%\n"
    }
   },
   "outputs": [
    {
     "data": {
      "text/html": [
       "<div>\n",
       "<style scoped>\n",
       "    .dataframe tbody tr th:only-of-type {\n",
       "        vertical-align: middle;\n",
       "    }\n",
       "\n",
       "    .dataframe tbody tr th {\n",
       "        vertical-align: top;\n",
       "    }\n",
       "\n",
       "    .dataframe thead th {\n",
       "        text-align: right;\n",
       "    }\n",
       "</style>\n",
       "<table border=\"1\" class=\"dataframe\">\n",
       "  <thead>\n",
       "    <tr style=\"text-align: right;\">\n",
       "      <th></th>\n",
       "      <th>x</th>\n",
       "      <th>y</th>\n",
       "      <th>xopt_exception</th>\n",
       "      <th>xopt_traceback</th>\n",
       "      <th>xopt_runtime</th>\n",
       "      <th>f1</th>\n",
       "      <th>xopt_error</th>\n",
       "      <th>xopt_error_str</th>\n",
       "    </tr>\n",
       "  </thead>\n",
       "  <tbody>\n",
       "    <tr>\n",
       "      <th>1</th>\n",
       "      <td>0.583288</td>\n",
       "      <td>0.224807</td>\n",
       "      <td>None</td>\n",
       "      <td></td>\n",
       "      <td>0.401517</td>\n",
       "      <td>0.390763</td>\n",
       "      <td>False</td>\n",
       "      <td>NaN</td>\n",
       "    </tr>\n",
       "    <tr>\n",
       "      <th>2</th>\n",
       "      <td>0.256953</td>\n",
       "      <td>0.780591</td>\n",
       "      <td>None</td>\n",
       "      <td></td>\n",
       "      <td>0.402529</td>\n",
       "      <td>0.675347</td>\n",
       "      <td>False</td>\n",
       "      <td>NaN</td>\n",
       "    </tr>\n",
       "    <tr>\n",
       "      <th>3</th>\n",
       "      <td>0.630404</td>\n",
       "      <td>0.920658</td>\n",
       "      <td>None</td>\n",
       "      <td></td>\n",
       "      <td>0.402310</td>\n",
       "      <td>1.245020</td>\n",
       "      <td>False</td>\n",
       "      <td>NaN</td>\n",
       "    </tr>\n",
       "    <tr>\n",
       "      <th>4</th>\n",
       "      <td>0.924833</td>\n",
       "      <td>0.513219</td>\n",
       "      <td>x &gt; 0.8</td>\n",
       "      <td>Traceback (most recent call last):\\n  File \"/U...</td>\n",
       "      <td>0.406374</td>\n",
       "      <td>NaN</td>\n",
       "      <td>True</td>\n",
       "      <td>Traceback (most recent call last):\\n  File \"/U...</td>\n",
       "    </tr>\n",
       "  </tbody>\n",
       "</table>\n",
       "</div>"
      ],
      "text/plain": [
       "          x         y xopt_exception  \\\n",
       "1  0.583288  0.224807           None   \n",
       "2  0.256953  0.780591           None   \n",
       "3  0.630404  0.920658           None   \n",
       "4  0.924833  0.513219        x > 0.8   \n",
       "\n",
       "                                      xopt_traceback  xopt_runtime        f1  \\\n",
       "1                                                         0.401517  0.390763   \n",
       "2                                                         0.402529  0.675347   \n",
       "3                                                         0.402310  1.245020   \n",
       "4  Traceback (most recent call last):\\n  File \"/U...      0.406374       NaN   \n",
       "\n",
       "   xopt_error                                     xopt_error_str  \n",
       "1       False                                                NaN  \n",
       "2       False                                                NaN  \n",
       "3       False                                                NaN  \n",
       "4        True  Traceback (most recent call last):\\n  File \"/U...  "
      ]
     },
     "execution_count": 14,
     "metadata": {},
     "output_type": "execute_result"
    }
   ],
   "source": [
    "# Collect all finished futures and updata dataframe\n",
    "X.process_futures()\n",
    "X.data"
   ]
  },
  {
   "cell_type": "code",
   "execution_count": 15,
   "metadata": {
    "collapsed": false,
    "execution": {
     "iopub.execute_input": "2022-07-02T04:16:36.142654Z",
     "iopub.status.busy": "2022-07-02T04:16:36.142492Z",
     "iopub.status.idle": "2022-07-02T04:16:36.145009Z",
     "shell.execute_reply": "2022-07-02T04:16:36.144702Z"
    },
    "pycharm": {
     "name": "#%%\n"
    }
   },
   "outputs": [
    {
     "data": {
      "text/plain": [
       "{}"
      ]
     },
     "execution_count": 15,
     "metadata": {},
     "output_type": "execute_result"
    }
   ],
   "source": [
    "# Futures are now cleared out\n",
    "X._futures"
   ]
  },
  {
   "cell_type": "code",
   "execution_count": 16,
   "metadata": {
    "collapsed": false,
    "execution": {
     "iopub.execute_input": "2022-07-02T04:16:36.146951Z",
     "iopub.status.busy": "2022-07-02T04:16:36.146808Z",
     "iopub.status.idle": "2022-07-02T04:16:36.149174Z",
     "shell.execute_reply": "2022-07-02T04:16:36.148852Z"
    },
    "pycharm": {
     "name": "#%%\n"
    }
   },
   "outputs": [
    {
     "data": {
      "text/plain": [
       "4"
      ]
     },
     "execution_count": 16,
     "metadata": {},
     "output_type": "execute_result"
    }
   ],
   "source": [
    "# This is the internal counter\n",
    "X._ix_last"
   ]
  },
  {
   "cell_type": "code",
   "execution_count": 17,
   "metadata": {
    "collapsed": false,
    "execution": {
     "iopub.execute_input": "2022-07-02T04:16:36.150950Z",
     "iopub.status.busy": "2022-07-02T04:16:36.150809Z",
     "iopub.status.idle": "2022-07-02T04:16:36.884338Z",
     "shell.execute_reply": "2022-07-02T04:16:36.883460Z"
    },
    "pycharm": {
     "name": "#%%\n"
    }
   },
   "outputs": [
    {
     "data": {
      "text/html": [
       "<div>\n",
       "<style scoped>\n",
       "    .dataframe tbody tr th:only-of-type {\n",
       "        vertical-align: middle;\n",
       "    }\n",
       "\n",
       "    .dataframe tbody tr th {\n",
       "        vertical-align: top;\n",
       "    }\n",
       "\n",
       "    .dataframe thead th {\n",
       "        text-align: right;\n",
       "    }\n",
       "</style>\n",
       "<table border=\"1\" class=\"dataframe\">\n",
       "  <thead>\n",
       "    <tr style=\"text-align: right;\">\n",
       "      <th></th>\n",
       "      <th>xopt_exception</th>\n",
       "      <th>xopt_traceback</th>\n",
       "      <th>xopt_runtime</th>\n",
       "      <th>xopt_error_str</th>\n",
       "      <th>xopt_error</th>\n",
       "      <th>f1</th>\n",
       "    </tr>\n",
       "  </thead>\n",
       "  <tbody>\n",
       "    <tr>\n",
       "      <th>0</th>\n",
       "      <td>x &gt; 0.8</td>\n",
       "      <td>Traceback (most recent call last):\\n  File \"/U...</td>\n",
       "      <td>0.205130</td>\n",
       "      <td>Traceback (most recent call last):\\n  File \"/U...</td>\n",
       "      <td>True</td>\n",
       "      <td>NaN</td>\n",
       "    </tr>\n",
       "    <tr>\n",
       "      <th>1</th>\n",
       "      <td>None</td>\n",
       "      <td></td>\n",
       "      <td>0.100664</td>\n",
       "      <td>NaN</td>\n",
       "      <td>False</td>\n",
       "      <td>0.870932</td>\n",
       "    </tr>\n",
       "    <tr>\n",
       "      <th>2</th>\n",
       "      <td>None</td>\n",
       "      <td></td>\n",
       "      <td>0.101970</td>\n",
       "      <td>NaN</td>\n",
       "      <td>False</td>\n",
       "      <td>0.560562</td>\n",
       "    </tr>\n",
       "    <tr>\n",
       "      <th>3</th>\n",
       "      <td>None</td>\n",
       "      <td></td>\n",
       "      <td>0.105014</td>\n",
       "      <td>NaN</td>\n",
       "      <td>False</td>\n",
       "      <td>0.977352</td>\n",
       "    </tr>\n",
       "  </tbody>\n",
       "</table>\n",
       "</div>"
      ],
      "text/plain": [
       "  xopt_exception                                     xopt_traceback  \\\n",
       "0        x > 0.8  Traceback (most recent call last):\\n  File \"/U...   \n",
       "1           None                                                      \n",
       "2           None                                                      \n",
       "3           None                                                      \n",
       "\n",
       "   xopt_runtime                                     xopt_error_str  \\\n",
       "0      0.205130  Traceback (most recent call last):\\n  File \"/U...   \n",
       "1      0.100664                                                NaN   \n",
       "2      0.101970                                                NaN   \n",
       "3      0.105014                                                NaN   \n",
       "\n",
       "   xopt_error        f1  \n",
       "0        True       NaN  \n",
       "1       False  0.870932  \n",
       "2       False  0.560562  \n",
       "3       False  0.977352  "
      ]
     },
     "execution_count": 17,
     "metadata": {},
     "output_type": "execute_result"
    }
   ],
   "source": [
    "# This causes immediate evaluation\n",
    "X.evaluate_data(vocs.random_inputs(4))"
   ]
  },
  {
   "cell_type": "code",
   "execution_count": 18,
   "metadata": {
    "collapsed": false,
    "execution": {
     "iopub.execute_input": "2022-07-02T04:16:36.888134Z",
     "iopub.status.busy": "2022-07-02T04:16:36.887823Z",
     "iopub.status.idle": "2022-07-02T04:16:36.892023Z",
     "shell.execute_reply": "2022-07-02T04:16:36.891544Z"
    },
    "pycharm": {
     "name": "#%%\n"
    }
   },
   "outputs": [
    {
     "data": {
      "text/plain": [
       "{}"
      ]
     },
     "execution_count": 18,
     "metadata": {},
     "output_type": "execute_result"
    }
   ],
   "source": [
    "X._futures"
   ]
  },
  {
   "cell_type": "code",
   "execution_count": 19,
   "metadata": {
    "collapsed": false,
    "execution": {
     "iopub.execute_input": "2022-07-02T04:16:36.894649Z",
     "iopub.status.busy": "2022-07-02T04:16:36.894509Z",
     "iopub.status.idle": "2022-07-02T04:16:37.110655Z",
     "shell.execute_reply": "2022-07-02T04:16:37.110293Z"
    },
    "pycharm": {
     "name": "#%%\n"
    }
   },
   "outputs": [
    {
     "data": {
      "text/html": [
       "<div>\n",
       "<style scoped>\n",
       "    .dataframe tbody tr th:only-of-type {\n",
       "        vertical-align: middle;\n",
       "    }\n",
       "\n",
       "    .dataframe tbody tr th {\n",
       "        vertical-align: top;\n",
       "    }\n",
       "\n",
       "    .dataframe thead th {\n",
       "        text-align: right;\n",
       "    }\n",
       "</style>\n",
       "<table border=\"1\" class=\"dataframe\">\n",
       "  <thead>\n",
       "    <tr style=\"text-align: right;\">\n",
       "      <th></th>\n",
       "      <th>x</th>\n",
       "      <th>y</th>\n",
       "      <th>xopt_exception</th>\n",
       "      <th>xopt_traceback</th>\n",
       "      <th>xopt_runtime</th>\n",
       "      <th>f1</th>\n",
       "      <th>xopt_error</th>\n",
       "      <th>xopt_error_str</th>\n",
       "    </tr>\n",
       "  </thead>\n",
       "  <tbody>\n",
       "    <tr>\n",
       "      <th>1</th>\n",
       "      <td>0.583288</td>\n",
       "      <td>0.224807</td>\n",
       "      <td>None</td>\n",
       "      <td></td>\n",
       "      <td>0.401517</td>\n",
       "      <td>0.390763</td>\n",
       "      <td>False</td>\n",
       "      <td>NaN</td>\n",
       "    </tr>\n",
       "    <tr>\n",
       "      <th>2</th>\n",
       "      <td>0.256953</td>\n",
       "      <td>0.780591</td>\n",
       "      <td>None</td>\n",
       "      <td></td>\n",
       "      <td>0.402529</td>\n",
       "      <td>0.675347</td>\n",
       "      <td>False</td>\n",
       "      <td>NaN</td>\n",
       "    </tr>\n",
       "    <tr>\n",
       "      <th>3</th>\n",
       "      <td>0.630404</td>\n",
       "      <td>0.920658</td>\n",
       "      <td>None</td>\n",
       "      <td></td>\n",
       "      <td>0.402310</td>\n",
       "      <td>1.245020</td>\n",
       "      <td>False</td>\n",
       "      <td>NaN</td>\n",
       "    </tr>\n",
       "    <tr>\n",
       "      <th>4</th>\n",
       "      <td>0.924833</td>\n",
       "      <td>0.513219</td>\n",
       "      <td>x &gt; 0.8</td>\n",
       "      <td>Traceback (most recent call last):\\n  File \"/U...</td>\n",
       "      <td>0.406374</td>\n",
       "      <td>NaN</td>\n",
       "      <td>True</td>\n",
       "      <td>Traceback (most recent call last):\\n  File \"/U...</td>\n",
       "    </tr>\n",
       "    <tr>\n",
       "      <th>0</th>\n",
       "      <td>NaN</td>\n",
       "      <td>NaN</td>\n",
       "      <td>x &gt; 0.8</td>\n",
       "      <td>Traceback (most recent call last):\\n  File \"/U...</td>\n",
       "      <td>0.205130</td>\n",
       "      <td>NaN</td>\n",
       "      <td>True</td>\n",
       "      <td>Traceback (most recent call last):\\n  File \"/U...</td>\n",
       "    </tr>\n",
       "    <tr>\n",
       "      <th>1</th>\n",
       "      <td>NaN</td>\n",
       "      <td>NaN</td>\n",
       "      <td>None</td>\n",
       "      <td></td>\n",
       "      <td>0.100664</td>\n",
       "      <td>0.870932</td>\n",
       "      <td>False</td>\n",
       "      <td>NaN</td>\n",
       "    </tr>\n",
       "    <tr>\n",
       "      <th>2</th>\n",
       "      <td>NaN</td>\n",
       "      <td>NaN</td>\n",
       "      <td>None</td>\n",
       "      <td></td>\n",
       "      <td>0.101970</td>\n",
       "      <td>0.560562</td>\n",
       "      <td>False</td>\n",
       "      <td>NaN</td>\n",
       "    </tr>\n",
       "    <tr>\n",
       "      <th>3</th>\n",
       "      <td>NaN</td>\n",
       "      <td>NaN</td>\n",
       "      <td>None</td>\n",
       "      <td></td>\n",
       "      <td>0.105014</td>\n",
       "      <td>0.977352</td>\n",
       "      <td>False</td>\n",
       "      <td>NaN</td>\n",
       "    </tr>\n",
       "    <tr>\n",
       "      <th>5</th>\n",
       "      <td>0.106497</td>\n",
       "      <td>0.213863</td>\n",
       "      <td>None</td>\n",
       "      <td></td>\n",
       "      <td>0.105080</td>\n",
       "      <td>0.057079</td>\n",
       "      <td>False</td>\n",
       "      <td>NaN</td>\n",
       "    </tr>\n",
       "  </tbody>\n",
       "</table>\n",
       "</div>"
      ],
      "text/plain": [
       "          x         y xopt_exception  \\\n",
       "1  0.583288  0.224807           None   \n",
       "2  0.256953  0.780591           None   \n",
       "3  0.630404  0.920658           None   \n",
       "4  0.924833  0.513219        x > 0.8   \n",
       "0       NaN       NaN        x > 0.8   \n",
       "1       NaN       NaN           None   \n",
       "2       NaN       NaN           None   \n",
       "3       NaN       NaN           None   \n",
       "5  0.106497  0.213863           None   \n",
       "\n",
       "                                      xopt_traceback  xopt_runtime        f1  \\\n",
       "1                                                         0.401517  0.390763   \n",
       "2                                                         0.402529  0.675347   \n",
       "3                                                         0.402310  1.245020   \n",
       "4  Traceback (most recent call last):\\n  File \"/U...      0.406374       NaN   \n",
       "0  Traceback (most recent call last):\\n  File \"/U...      0.205130       NaN   \n",
       "1                                                         0.100664  0.870932   \n",
       "2                                                         0.101970  0.560562   \n",
       "3                                                         0.105014  0.977352   \n",
       "5                                                         0.105080  0.057079   \n",
       "\n",
       "   xopt_error                                     xopt_error_str  \n",
       "1       False                                                NaN  \n",
       "2       False                                                NaN  \n",
       "3       False                                                NaN  \n",
       "4        True  Traceback (most recent call last):\\n  File \"/U...  \n",
       "0        True  Traceback (most recent call last):\\n  File \"/U...  \n",
       "1       False                                                NaN  \n",
       "2       False                                                NaN  \n",
       "3       False                                                NaN  \n",
       "5       False                                                NaN  "
      ]
     },
     "execution_count": 19,
     "metadata": {},
     "output_type": "execute_result"
    }
   ],
   "source": [
    "# Singe generation step\n",
    "X.step()\n",
    "X.data"
   ]
  },
  {
   "cell_type": "markdown",
   "metadata": {
    "collapsed": false,
    "pycharm": {
     "name": "#%% md\n"
    }
   },
   "source": [
    "# Executors"
   ]
  },
  {
   "cell_type": "code",
   "execution_count": 20,
   "metadata": {
    "collapsed": false,
    "execution": {
     "iopub.execute_input": "2022-07-02T04:16:37.112697Z",
     "iopub.status.busy": "2022-07-02T04:16:37.112550Z",
     "iopub.status.idle": "2022-07-02T04:16:37.114567Z",
     "shell.execute_reply": "2022-07-02T04:16:37.114285Z"
    },
    "pycharm": {
     "name": "#%%\n"
    }
   },
   "outputs": [],
   "source": [
    "from concurrent.futures import ThreadPoolExecutor, ProcessPoolExecutor"
   ]
  },
  {
   "cell_type": "code",
   "execution_count": 21,
   "metadata": {
    "collapsed": false,
    "execution": {
     "iopub.execute_input": "2022-07-02T04:16:37.116227Z",
     "iopub.status.busy": "2022-07-02T04:16:37.116111Z",
     "iopub.status.idle": "2022-07-02T04:16:37.117748Z",
     "shell.execute_reply": "2022-07-02T04:16:37.117472Z"
    },
    "pycharm": {
     "name": "#%%\n"
    }
   },
   "outputs": [],
   "source": [
    "MAX_WORKERS = 10"
   ]
  },
  {
   "cell_type": "code",
   "execution_count": 22,
   "metadata": {
    "collapsed": false,
    "execution": {
     "iopub.execute_input": "2022-07-02T04:16:37.119399Z",
     "iopub.status.busy": "2022-07-02T04:16:37.119271Z",
     "iopub.status.idle": "2022-07-02T04:16:37.120960Z",
     "shell.execute_reply": "2022-07-02T04:16:37.120677Z"
    },
    "pycharm": {
     "name": "#%%\n"
    }
   },
   "outputs": [],
   "source": [
    "# Dask\n",
    "# from dask.distributed import Client\n",
    "# import logging\n",
    "# client = Client( silence_logs=logging.ERROR)\n",
    "# executor = client.get_executor()\n",
    "# client"
   ]
  },
  {
   "cell_type": "code",
   "execution_count": 23,
   "metadata": {
    "collapsed": false,
    "execution": {
     "iopub.execute_input": "2022-07-02T04:16:37.122616Z",
     "iopub.status.busy": "2022-07-02T04:16:37.122488Z",
     "iopub.status.idle": "2022-07-02T04:16:37.126673Z",
     "shell.execute_reply": "2022-07-02T04:16:37.126427Z"
    },
    "pycharm": {
     "name": "#%%\n"
    }
   },
   "outputs": [
    {
     "data": {
      "text/plain": [
       "<concurrent.futures.process.ProcessPoolExecutor at 0x14f7e54c0>"
      ]
     },
     "execution_count": 23,
     "metadata": {},
     "output_type": "execute_result"
    }
   ],
   "source": [
    "executor = ProcessPoolExecutor(max_workers=MAX_WORKERS)\n",
    "executor"
   ]
  },
  {
   "cell_type": "code",
   "execution_count": 24,
   "metadata": {},
   "outputs": [],
   "source": [
    "# This calls `executor.map`\n",
    "ev = Evaluator(function=f, executor=executor)"
   ]
  },
  {
   "cell_type": "code",
   "execution_count": 25,
   "metadata": {},
   "outputs": [
    {
     "data": {
      "text/html": [
       "<div>\n",
       "<style scoped>\n",
       "    .dataframe tbody tr th:only-of-type {\n",
       "        vertical-align: middle;\n",
       "    }\n",
       "\n",
       "    .dataframe tbody tr th {\n",
       "        vertical-align: top;\n",
       "    }\n",
       "\n",
       "    .dataframe thead th {\n",
       "        text-align: right;\n",
       "    }\n",
       "</style>\n",
       "<table border=\"1\" class=\"dataframe\">\n",
       "  <thead>\n",
       "    <tr style=\"text-align: right;\">\n",
       "      <th></th>\n",
       "      <th>xopt_exception</th>\n",
       "      <th>xopt_traceback</th>\n",
       "      <th>xopt_runtime</th>\n",
       "      <th>f1</th>\n",
       "      <th>xopt_error</th>\n",
       "      <th>xopt_error_str</th>\n",
       "    </tr>\n",
       "  </thead>\n",
       "  <tbody>\n",
       "    <tr>\n",
       "      <th>0</th>\n",
       "      <td>None</td>\n",
       "      <td></td>\n",
       "      <td>0.401738</td>\n",
       "      <td>0.306383</td>\n",
       "      <td>False</td>\n",
       "      <td>NaN</td>\n",
       "    </tr>\n",
       "    <tr>\n",
       "      <th>1</th>\n",
       "      <td>None</td>\n",
       "      <td></td>\n",
       "      <td>0.401785</td>\n",
       "      <td>0.410317</td>\n",
       "      <td>False</td>\n",
       "      <td>NaN</td>\n",
       "    </tr>\n",
       "    <tr>\n",
       "      <th>2</th>\n",
       "      <td>None</td>\n",
       "      <td></td>\n",
       "      <td>0.401278</td>\n",
       "      <td>1.004415</td>\n",
       "      <td>False</td>\n",
       "      <td>NaN</td>\n",
       "    </tr>\n",
       "    <tr>\n",
       "      <th>3</th>\n",
       "      <td>x &gt; 0.8</td>\n",
       "      <td>Traceback (most recent call last):\\n  File \"/U...</td>\n",
       "      <td>0.401675</td>\n",
       "      <td>NaN</td>\n",
       "      <td>True</td>\n",
       "      <td>Traceback (most recent call last):\\n  File \"/U...</td>\n",
       "    </tr>\n",
       "    <tr>\n",
       "      <th>4</th>\n",
       "      <td>None</td>\n",
       "      <td></td>\n",
       "      <td>0.401613</td>\n",
       "      <td>0.525489</td>\n",
       "      <td>False</td>\n",
       "      <td>NaN</td>\n",
       "    </tr>\n",
       "    <tr>\n",
       "      <th>5</th>\n",
       "      <td>x &gt; 0.8</td>\n",
       "      <td>Traceback (most recent call last):\\n  File \"/U...</td>\n",
       "      <td>0.402034</td>\n",
       "      <td>NaN</td>\n",
       "      <td>True</td>\n",
       "      <td>Traceback (most recent call last):\\n  File \"/U...</td>\n",
       "    </tr>\n",
       "    <tr>\n",
       "      <th>6</th>\n",
       "      <td>x &gt; 0.8</td>\n",
       "      <td>Traceback (most recent call last):\\n  File \"/U...</td>\n",
       "      <td>0.402084</td>\n",
       "      <td>NaN</td>\n",
       "      <td>True</td>\n",
       "      <td>Traceback (most recent call last):\\n  File \"/U...</td>\n",
       "    </tr>\n",
       "    <tr>\n",
       "      <th>7</th>\n",
       "      <td>None</td>\n",
       "      <td></td>\n",
       "      <td>0.401675</td>\n",
       "      <td>0.304899</td>\n",
       "      <td>False</td>\n",
       "      <td>NaN</td>\n",
       "    </tr>\n",
       "    <tr>\n",
       "      <th>8</th>\n",
       "      <td>None</td>\n",
       "      <td></td>\n",
       "      <td>0.401591</td>\n",
       "      <td>0.676699</td>\n",
       "      <td>False</td>\n",
       "      <td>NaN</td>\n",
       "    </tr>\n",
       "    <tr>\n",
       "      <th>9</th>\n",
       "      <td>None</td>\n",
       "      <td></td>\n",
       "      <td>0.401336</td>\n",
       "      <td>0.784537</td>\n",
       "      <td>False</td>\n",
       "      <td>NaN</td>\n",
       "    </tr>\n",
       "  </tbody>\n",
       "</table>\n",
       "</div>"
      ],
      "text/plain": [
       "  xopt_exception                                     xopt_traceback  \\\n",
       "0           None                                                      \n",
       "1           None                                                      \n",
       "2           None                                                      \n",
       "3        x > 0.8  Traceback (most recent call last):\\n  File \"/U...   \n",
       "4           None                                                      \n",
       "5        x > 0.8  Traceback (most recent call last):\\n  File \"/U...   \n",
       "6        x > 0.8  Traceback (most recent call last):\\n  File \"/U...   \n",
       "7           None                                                      \n",
       "8           None                                                      \n",
       "9           None                                                      \n",
       "\n",
       "   xopt_runtime        f1  xopt_error  \\\n",
       "0      0.401738  0.306383       False   \n",
       "1      0.401785  0.410317       False   \n",
       "2      0.401278  1.004415       False   \n",
       "3      0.401675       NaN        True   \n",
       "4      0.401613  0.525489       False   \n",
       "5      0.402034       NaN        True   \n",
       "6      0.402084       NaN        True   \n",
       "7      0.401675  0.304899       False   \n",
       "8      0.401591  0.676699       False   \n",
       "9      0.401336  0.784537       False   \n",
       "\n",
       "                                      xopt_error_str  \n",
       "0                                                NaN  \n",
       "1                                                NaN  \n",
       "2                                                NaN  \n",
       "3  Traceback (most recent call last):\\n  File \"/U...  \n",
       "4                                                NaN  \n",
       "5  Traceback (most recent call last):\\n  File \"/U...  \n",
       "6  Traceback (most recent call last):\\n  File \"/U...  \n",
       "7                                                NaN  \n",
       "8                                                NaN  \n",
       "9                                                NaN  "
      ]
     },
     "execution_count": 25,
     "metadata": {},
     "output_type": "execute_result"
    }
   ],
   "source": [
    "ev.evaluate_data(vocs.random_inputs(10))"
   ]
  },
  {
   "cell_type": "code",
   "execution_count": 26,
   "metadata": {
    "collapsed": false,
    "execution": {
     "iopub.execute_input": "2022-07-02T04:16:37.128206Z",
     "iopub.status.busy": "2022-07-02T04:16:37.128113Z",
     "iopub.status.idle": "2022-07-02T04:16:37.133779Z",
     "shell.execute_reply": "2022-07-02T04:16:37.133520Z"
    },
    "pycharm": {
     "name": "#%%\n"
    }
   },
   "outputs": [],
   "source": [
    "X2 = Xopt(\n",
    "    generator=RandomGenerator(vocs),\n",
    "    evaluator=Evaluator(function=f, executor=executor, max_workers=MAX_WORKERS),\n",
    "    vocs=vocs,\n",
    ")\n",
    "X2.options.asynch = True"
   ]
  },
  {
   "cell_type": "code",
   "execution_count": 27,
   "metadata": {},
   "outputs": [],
   "source": [
    "X2.step()"
   ]
  },
  {
   "cell_type": "code",
   "execution_count": 28,
   "metadata": {
    "collapsed": false,
    "execution": {
     "iopub.execute_input": "2022-07-02T04:16:37.135342Z",
     "iopub.status.busy": "2022-07-02T04:16:37.135245Z",
     "iopub.status.idle": "2022-07-02T04:16:39.015394Z",
     "shell.execute_reply": "2022-07-02T04:16:39.014468Z"
    },
    "pycharm": {
     "name": "#%%\n"
    }
   },
   "outputs": [],
   "source": [
    "for _ in range(20):\n",
    "    X2.step()"
   ]
  },
  {
   "cell_type": "code",
   "execution_count": 29,
   "metadata": {
    "collapsed": false,
    "execution": {
     "iopub.execute_input": "2022-07-02T04:16:39.019090Z",
     "iopub.status.busy": "2022-07-02T04:16:39.018826Z",
     "iopub.status.idle": "2022-07-02T04:16:39.398353Z",
     "shell.execute_reply": "2022-07-02T04:16:39.398036Z"
    },
    "pycharm": {
     "name": "#%%\n"
    }
   },
   "outputs": [
    {
     "data": {
      "text/plain": [
       "<AxesSubplot:xlabel='x', ylabel='y'>"
      ]
     },
     "execution_count": 29,
     "metadata": {},
     "output_type": "execute_result"
    },
    {
     "data": {
      "image/png": "[encoded data removed]",
      "text/plain": [
       "<Figure size 432x288 with 1 Axes>"
      ]
     },
     "metadata": {
      "needs_background": "light"
     },
     "output_type": "display_data"
    }
   ],
   "source": [
    "X2.data.plot.scatter(\"x\", \"y\")"
   ]
  },
  {
   "cell_type": "code",
   "execution_count": 30,
   "metadata": {
    "collapsed": false,
    "execution": {
     "iopub.execute_input": "2022-07-02T04:16:39.400060Z",
     "iopub.status.busy": "2022-07-02T04:16:39.399919Z",
     "iopub.status.idle": "2022-07-02T04:16:39.406421Z",
     "shell.execute_reply": "2022-07-02T04:16:39.406142Z"
    },
    "pycharm": {
     "name": "#%%\n"
    }
   },
   "outputs": [
    {
     "data": {
      "text/html": [
       "<div>\n",
       "<style scoped>\n",
       "    .dataframe tbody tr th:only-of-type {\n",
       "        vertical-align: middle;\n",
       "    }\n",
       "\n",
       "    .dataframe tbody tr th {\n",
       "        vertical-align: top;\n",
       "    }\n",
       "\n",
       "    .dataframe thead th {\n",
       "        text-align: right;\n",
       "    }\n",
       "</style>\n",
       "<table border=\"1\" class=\"dataframe\">\n",
       "  <thead>\n",
       "    <tr style=\"text-align: right;\">\n",
       "      <th></th>\n",
       "      <th>x</th>\n",
       "      <th>y</th>\n",
       "      <th>xopt_exception</th>\n",
       "      <th>xopt_traceback</th>\n",
       "      <th>xopt_runtime</th>\n",
       "      <th>f1</th>\n",
       "      <th>xopt_error</th>\n",
       "      <th>xopt_error_str</th>\n",
       "    </tr>\n",
       "  </thead>\n",
       "  <tbody>\n",
       "    <tr>\n",
       "      <th>4</th>\n",
       "      <td>0.116977</td>\n",
       "      <td>0.430299</td>\n",
       "      <td>None</td>\n",
       "      <td></td>\n",
       "      <td>0.300445</td>\n",
       "      <td>0.198841</td>\n",
       "      <td>False</td>\n",
       "      <td>NaN</td>\n",
       "    </tr>\n",
       "    <tr>\n",
       "      <th>1</th>\n",
       "      <td>0.242342</td>\n",
       "      <td>0.870193</td>\n",
       "      <td>None</td>\n",
       "      <td></td>\n",
       "      <td>0.300608</td>\n",
       "      <td>0.815964</td>\n",
       "      <td>False</td>\n",
       "      <td>NaN</td>\n",
       "    </tr>\n",
       "    <tr>\n",
       "      <th>2</th>\n",
       "      <td>0.658418</td>\n",
       "      <td>0.177374</td>\n",
       "      <td>None</td>\n",
       "      <td></td>\n",
       "      <td>0.301038</td>\n",
       "      <td>0.464976</td>\n",
       "      <td>False</td>\n",
       "      <td>NaN</td>\n",
       "    </tr>\n",
       "    <tr>\n",
       "      <th>3</th>\n",
       "      <td>0.478615</td>\n",
       "      <td>0.639232</td>\n",
       "      <td>None</td>\n",
       "      <td></td>\n",
       "      <td>0.300815</td>\n",
       "      <td>0.637690</td>\n",
       "      <td>False</td>\n",
       "      <td>NaN</td>\n",
       "    </tr>\n",
       "    <tr>\n",
       "      <th>5</th>\n",
       "      <td>0.550858</td>\n",
       "      <td>0.169767</td>\n",
       "      <td>None</td>\n",
       "      <td></td>\n",
       "      <td>0.300928</td>\n",
       "      <td>0.332265</td>\n",
       "      <td>False</td>\n",
       "      <td>NaN</td>\n",
       "    </tr>\n",
       "    <tr>\n",
       "      <th>6</th>\n",
       "      <td>0.760978</td>\n",
       "      <td>0.552324</td>\n",
       "      <td>None</td>\n",
       "      <td></td>\n",
       "      <td>0.300695</td>\n",
       "      <td>0.884149</td>\n",
       "      <td>False</td>\n",
       "      <td>NaN</td>\n",
       "    </tr>\n",
       "    <tr>\n",
       "      <th>7</th>\n",
       "      <td>0.669859</td>\n",
       "      <td>0.786717</td>\n",
       "      <td>None</td>\n",
       "      <td></td>\n",
       "      <td>0.300810</td>\n",
       "      <td>1.067635</td>\n",
       "      <td>False</td>\n",
       "      <td>NaN</td>\n",
       "    </tr>\n",
       "    <tr>\n",
       "      <th>8</th>\n",
       "      <td>0.733491</td>\n",
       "      <td>0.438846</td>\n",
       "      <td>None</td>\n",
       "      <td></td>\n",
       "      <td>0.301105</td>\n",
       "      <td>0.730594</td>\n",
       "      <td>False</td>\n",
       "      <td>NaN</td>\n",
       "    </tr>\n",
       "    <tr>\n",
       "      <th>9</th>\n",
       "      <td>0.202318</td>\n",
       "      <td>0.283422</td>\n",
       "      <td>None</td>\n",
       "      <td></td>\n",
       "      <td>0.301086</td>\n",
       "      <td>0.121261</td>\n",
       "      <td>False</td>\n",
       "      <td>NaN</td>\n",
       "    </tr>\n",
       "    <tr>\n",
       "      <th>10</th>\n",
       "      <td>0.944483</td>\n",
       "      <td>0.250679</td>\n",
       "      <td>x &gt; 0.8</td>\n",
       "      <td>Traceback (most recent call last):\\n  File \"/U...</td>\n",
       "      <td>0.301404</td>\n",
       "      <td>NaN</td>\n",
       "      <td>True</td>\n",
       "      <td>Traceback (most recent call last):\\n  File \"/U...</td>\n",
       "    </tr>\n",
       "    <tr>\n",
       "      <th>11</th>\n",
       "      <td>0.413752</td>\n",
       "      <td>0.452401</td>\n",
       "      <td>None</td>\n",
       "      <td></td>\n",
       "      <td>0.201109</td>\n",
       "      <td>0.375858</td>\n",
       "      <td>False</td>\n",
       "      <td>NaN</td>\n",
       "    </tr>\n",
       "    <tr>\n",
       "      <th>16</th>\n",
       "      <td>0.725191</td>\n",
       "      <td>0.093673</td>\n",
       "      <td>None</td>\n",
       "      <td></td>\n",
       "      <td>0.200462</td>\n",
       "      <td>0.534677</td>\n",
       "      <td>False</td>\n",
       "      <td>NaN</td>\n",
       "    </tr>\n",
       "    <tr>\n",
       "      <th>19</th>\n",
       "      <td>0.850220</td>\n",
       "      <td>0.487754</td>\n",
       "      <td>x &gt; 0.8</td>\n",
       "      <td>Traceback (most recent call last):\\n  File \"/U...</td>\n",
       "      <td>0.200473</td>\n",
       "      <td>NaN</td>\n",
       "      <td>True</td>\n",
       "      <td>Traceback (most recent call last):\\n  File \"/U...</td>\n",
       "    </tr>\n",
       "    <tr>\n",
       "      <th>14</th>\n",
       "      <td>0.367948</td>\n",
       "      <td>0.984153</td>\n",
       "      <td>None</td>\n",
       "      <td></td>\n",
       "      <td>0.200950</td>\n",
       "      <td>1.103943</td>\n",
       "      <td>False</td>\n",
       "      <td>NaN</td>\n",
       "    </tr>\n",
       "    <tr>\n",
       "      <th>13</th>\n",
       "      <td>0.591471</td>\n",
       "      <td>0.554812</td>\n",
       "      <td>None</td>\n",
       "      <td></td>\n",
       "      <td>0.201034</td>\n",
       "      <td>0.657654</td>\n",
       "      <td>False</td>\n",
       "      <td>NaN</td>\n",
       "    </tr>\n",
       "    <tr>\n",
       "      <th>12</th>\n",
       "      <td>0.918227</td>\n",
       "      <td>0.290585</td>\n",
       "      <td>x &gt; 0.8</td>\n",
       "      <td>Traceback (most recent call last):\\n  File \"/U...</td>\n",
       "      <td>0.201438</td>\n",
       "      <td>NaN</td>\n",
       "      <td>True</td>\n",
       "      <td>Traceback (most recent call last):\\n  File \"/U...</td>\n",
       "    </tr>\n",
       "    <tr>\n",
       "      <th>15</th>\n",
       "      <td>0.878311</td>\n",
       "      <td>0.005086</td>\n",
       "      <td>x &gt; 0.8</td>\n",
       "      <td>Traceback (most recent call last):\\n  File \"/U...</td>\n",
       "      <td>0.201159</td>\n",
       "      <td>NaN</td>\n",
       "      <td>True</td>\n",
       "      <td>Traceback (most recent call last):\\n  File \"/U...</td>\n",
       "    </tr>\n",
       "    <tr>\n",
       "      <th>20</th>\n",
       "      <td>0.614646</td>\n",
       "      <td>0.988845</td>\n",
       "      <td>None</td>\n",
       "      <td></td>\n",
       "      <td>0.201003</td>\n",
       "      <td>1.355605</td>\n",
       "      <td>False</td>\n",
       "      <td>NaN</td>\n",
       "    </tr>\n",
       "    <tr>\n",
       "      <th>17</th>\n",
       "      <td>0.922295</td>\n",
       "      <td>0.948004</td>\n",
       "      <td>x &gt; 0.8</td>\n",
       "      <td>Traceback (most recent call last):\\n  File \"/U...</td>\n",
       "      <td>0.201284</td>\n",
       "      <td>NaN</td>\n",
       "      <td>True</td>\n",
       "      <td>Traceback (most recent call last):\\n  File \"/U...</td>\n",
       "    </tr>\n",
       "    <tr>\n",
       "      <th>18</th>\n",
       "      <td>0.842734</td>\n",
       "      <td>0.138991</td>\n",
       "      <td>x &gt; 0.8</td>\n",
       "      <td>Traceback (most recent call last):\\n  File \"/U...</td>\n",
       "      <td>0.201402</td>\n",
       "      <td>NaN</td>\n",
       "      <td>True</td>\n",
       "      <td>Traceback (most recent call last):\\n  File \"/U...</td>\n",
       "    </tr>\n",
       "    <tr>\n",
       "      <th>21</th>\n",
       "      <td>0.506894</td>\n",
       "      <td>0.448976</td>\n",
       "      <td>None</td>\n",
       "      <td></td>\n",
       "      <td>0.101094</td>\n",
       "      <td>0.458521</td>\n",
       "      <td>False</td>\n",
       "      <td>NaN</td>\n",
       "    </tr>\n",
       "    <tr>\n",
       "      <th>22</th>\n",
       "      <td>0.727395</td>\n",
       "      <td>0.768856</td>\n",
       "      <td>None</td>\n",
       "      <td></td>\n",
       "      <td>0.101068</td>\n",
       "      <td>1.120244</td>\n",
       "      <td>False</td>\n",
       "      <td>NaN</td>\n",
       "    </tr>\n",
       "    <tr>\n",
       "      <th>23</th>\n",
       "      <td>0.041419</td>\n",
       "      <td>0.334202</td>\n",
       "      <td>None</td>\n",
       "      <td></td>\n",
       "      <td>0.101063</td>\n",
       "      <td>0.113406</td>\n",
       "      <td>False</td>\n",
       "      <td>NaN</td>\n",
       "    </tr>\n",
       "    <tr>\n",
       "      <th>24</th>\n",
       "      <td>0.159841</td>\n",
       "      <td>0.853088</td>\n",
       "      <td>None</td>\n",
       "      <td></td>\n",
       "      <td>0.101062</td>\n",
       "      <td>0.753309</td>\n",
       "      <td>False</td>\n",
       "      <td>NaN</td>\n",
       "    </tr>\n",
       "    <tr>\n",
       "      <th>26</th>\n",
       "      <td>0.629836</td>\n",
       "      <td>0.681470</td>\n",
       "      <td>None</td>\n",
       "      <td></td>\n",
       "      <td>0.100253</td>\n",
       "      <td>0.861095</td>\n",
       "      <td>False</td>\n",
       "      <td>NaN</td>\n",
       "    </tr>\n",
       "    <tr>\n",
       "      <th>25</th>\n",
       "      <td>0.856056</td>\n",
       "      <td>0.691569</td>\n",
       "      <td>x &gt; 0.8</td>\n",
       "      <td>Traceback (most recent call last):\\n  File \"/U...</td>\n",
       "      <td>0.101439</td>\n",
       "      <td>NaN</td>\n",
       "      <td>True</td>\n",
       "      <td>Traceback (most recent call last):\\n  File \"/U...</td>\n",
       "    </tr>\n",
       "    <tr>\n",
       "      <th>27</th>\n",
       "      <td>0.437600</td>\n",
       "      <td>0.535902</td>\n",
       "      <td>None</td>\n",
       "      <td></td>\n",
       "      <td>0.101070</td>\n",
       "      <td>0.478685</td>\n",
       "      <td>False</td>\n",
       "      <td>NaN</td>\n",
       "    </tr>\n",
       "    <tr>\n",
       "      <th>28</th>\n",
       "      <td>0.199332</td>\n",
       "      <td>0.212645</td>\n",
       "      <td>None</td>\n",
       "      <td></td>\n",
       "      <td>0.101056</td>\n",
       "      <td>0.084951</td>\n",
       "      <td>False</td>\n",
       "      <td>NaN</td>\n",
       "    </tr>\n",
       "    <tr>\n",
       "      <th>29</th>\n",
       "      <td>0.156769</td>\n",
       "      <td>0.311757</td>\n",
       "      <td>None</td>\n",
       "      <td></td>\n",
       "      <td>0.101054</td>\n",
       "      <td>0.121769</td>\n",
       "      <td>False</td>\n",
       "      <td>NaN</td>\n",
       "    </tr>\n",
       "  </tbody>\n",
       "</table>\n",
       "</div>"
      ],
      "text/plain": [
       "           x         y xopt_exception  \\\n",
       "4   0.116977  0.430299           None   \n",
       "1   0.242342  0.870193           None   \n",
       "2   0.658418  0.177374           None   \n",
       "3   0.478615  0.639232           None   \n",
       "5   0.550858  0.169767           None   \n",
       "6   0.760978  0.552324           None   \n",
       "7   0.669859  0.786717           None   \n",
       "8   0.733491  0.438846           None   \n",
       "9   0.202318  0.283422           None   \n",
       "10  0.944483  0.250679        x > 0.8   \n",
       "11  0.413752  0.452401           None   \n",
       "16  0.725191  0.093673           None   \n",
       "19  0.850220  0.487754        x > 0.8   \n",
       "14  0.367948  0.984153           None   \n",
       "13  0.591471  0.554812           None   \n",
       "12  0.918227  0.290585        x > 0.8   \n",
       "15  0.878311  0.005086        x > 0.8   \n",
       "20  0.614646  0.988845           None   \n",
       "17  0.922295  0.948004        x > 0.8   \n",
       "18  0.842734  0.138991        x > 0.8   \n",
       "21  0.506894  0.448976           None   \n",
       "22  0.727395  0.768856           None   \n",
       "23  0.041419  0.334202           None   \n",
       "24  0.159841  0.853088           None   \n",
       "26  0.629836  0.681470           None   \n",
       "25  0.856056  0.691569        x > 0.8   \n",
       "27  0.437600  0.535902           None   \n",
       "28  0.199332  0.212645           None   \n",
       "29  0.156769  0.311757           None   \n",
       "\n",
       "                                       xopt_traceback  xopt_runtime        f1  \\\n",
       "4                                                          0.300445  0.198841   \n",
       "1                                                          0.300608  0.815964   \n",
       "2                                                          0.301038  0.464976   \n",
       "3                                                          0.300815  0.637690   \n",
       "5                                                          0.300928  0.332265   \n",
       "6                                                          0.300695  0.884149   \n",
       "7                                                          0.300810  1.067635   \n",
       "8                                                          0.301105  0.730594   \n",
       "9                                                          0.301086  0.121261   \n",
       "10  Traceback (most recent call last):\\n  File \"/U...      0.301404       NaN   \n",
       "11                                                         0.201109  0.375858   \n",
       "16                                                         0.200462  0.534677   \n",
       "19  Traceback (most recent call last):\\n  File \"/U...      0.200473       NaN   \n",
       "14                                                         0.200950  1.103943   \n",
       "13                                                         0.201034  0.657654   \n",
       "12  Traceback (most recent call last):\\n  File \"/U...      0.201438       NaN   \n",
       "15  Traceback (most recent call last):\\n  File \"/U...      0.201159       NaN   \n",
       "20                                                         0.201003  1.355605   \n",
       "17  Traceback (most recent call last):\\n  File \"/U...      0.201284       NaN   \n",
       "18  Traceback (most recent call last):\\n  File \"/U...      0.201402       NaN   \n",
       "21                                                         0.101094  0.458521   \n",
       "22                                                         0.101068  1.120244   \n",
       "23                                                         0.101063  0.113406   \n",
       "24                                                         0.101062  0.753309   \n",
       "26                                                         0.100253  0.861095   \n",
       "25  Traceback (most recent call last):\\n  File \"/U...      0.101439       NaN   \n",
       "27                                                         0.101070  0.478685   \n",
       "28                                                         0.101056  0.084951   \n",
       "29                                                         0.101054  0.121769   \n",
       "\n",
       "    xopt_error                                     xopt_error_str  \n",
       "4        False                                                NaN  \n",
       "1        False                                                NaN  \n",
       "2        False                                                NaN  \n",
       "3        False                                                NaN  \n",
       "5        False                                                NaN  \n",
       "6        False                                                NaN  \n",
       "7        False                                                NaN  \n",
       "8        False                                                NaN  \n",
       "9        False                                                NaN  \n",
       "10        True  Traceback (most recent call last):\\n  File \"/U...  \n",
       "11       False                                                NaN  \n",
       "16       False                                                NaN  \n",
       "19        True  Traceback (most recent call last):\\n  File \"/U...  \n",
       "14       False                                                NaN  \n",
       "13       False                                                NaN  \n",
       "12        True  Traceback (most recent call last):\\n  File \"/U...  \n",
       "15        True  Traceback (most recent call last):\\n  File \"/U...  \n",
       "20       False                                                NaN  \n",
       "17        True  Traceback (most recent call last):\\n  File \"/U...  \n",
       "18        True  Traceback (most recent call last):\\n  File \"/U...  \n",
       "21       False                                                NaN  \n",
       "22       False                                                NaN  \n",
       "23       False                                                NaN  \n",
       "24       False                                                NaN  \n",
       "26       False                                                NaN  \n",
       "25        True  Traceback (most recent call last):\\n  File \"/U...  \n",
       "27       False                                                NaN  \n",
       "28       False                                                NaN  \n",
       "29       False                                                NaN  "
      ]
     },
     "execution_count": 30,
     "metadata": {},
     "output_type": "execute_result"
    }
   ],
   "source": [
    "X2.data"
   ]
  }
 ],
 "metadata": {
  "interpreter": {
   "hash": "60703f99bc9a1e465ed9e894ac1e8f256837fa55699b4912a7939def4ae95691"
  },
  "kernelspec": {
   "display_name": "Python 3.9.12 ('devel')",
   "language": "python",
   "name": "python3"
  },
  "language_info": {
   "codemirror_mode": {
    "name": "ipython",
    "version": 3
   },
   "file_extension": ".py",
   "mimetype": "text/x-python",
   "name": "python",
   "nbconvert_exporter": "python",
   "pygments_lexer": "ipython3",
   "version": "3.9.13"
  }
 },
 "nbformat": 4,
 "nbformat_minor": 2
}
