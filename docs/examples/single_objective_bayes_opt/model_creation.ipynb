{
 "cells": [
  {
   "cell_type": "markdown",
   "source": [
    "## Building GP Models from Scratch\n",
    "Sometimes it is useful to build GP models outside the context of BO for data\n",
    "visualization and senativity measurements, ie. learned hyperparameters. Here we\n",
    "demonstrate how to build models from data outside of generators.\n",
    "\n",
    "For this we use the 3D rosenbrock function test function."
   ],
   "metadata": {
    "collapsed": false
   }
  },
  {
   "cell_type": "code",
   "execution_count": 2,
   "outputs": [
    {
     "data": {
      "text/plain": "          x0        x1        x2            y  xopt_runtime  xopt_error\n0  -1.448578  1.529761 -0.263425   716.478637      0.000059       False\n1   0.673987  0.258357 -0.022510     5.290786      0.000005       False\n2   0.558426 -0.089496  0.062216    17.782908      0.000004       False\n3  -1.045272  0.887516  1.648958    82.580709      0.000022       False\n4   0.580821 -1.920795 -1.192525  2902.003156      0.000004       False\n5  -0.293014  1.900782  0.741882  1156.194664      0.000003       False\n6   1.464770 -1.364321 -0.568940  1828.368479      0.000004       False\n7   1.806329  0.077604  0.521190  1042.604973      0.000003       False\n8  -0.963817 -1.532827  1.127703   765.596589      0.000004       False\n9   1.339147  1.988879  1.680934   522.346131      0.000003       False\n10 -1.583353 -1.435487 -1.470404  2813.746672      0.000028       False\n11  1.209013  1.220452 -1.676338  1008.168154      0.000003       False\n12  0.082369 -1.956791 -0.850165  2584.635182      0.000003       False\n13  1.271731 -1.187155  1.129158   799.203803      0.000003       False\n14  1.219232 -0.058683  0.432147   258.314866      0.000003       False",
      "text/html": "<div>\n<style scoped>\n    .dataframe tbody tr th:only-of-type {\n        vertical-align: middle;\n    }\n\n    .dataframe tbody tr th {\n        vertical-align: top;\n    }\n\n    .dataframe thead th {\n        text-align: right;\n    }\n</style>\n<table border=\"1\" class=\"dataframe\">\n  <thead>\n    <tr style=\"text-align: right;\">\n      <th></th>\n      <th>x0</th>\n      <th>x1</th>\n      <th>x2</th>\n      <th>y</th>\n      <th>xopt_runtime</th>\n      <th>xopt_error</th>\n    </tr>\n  </thead>\n  <tbody>\n    <tr>\n      <th>0</th>\n      <td>-1.448578</td>\n      <td>1.529761</td>\n      <td>-0.263425</td>\n      <td>716.478637</td>\n      <td>0.000059</td>\n      <td>False</td>\n    </tr>\n    <tr>\n      <th>1</th>\n      <td>0.673987</td>\n      <td>0.258357</td>\n      <td>-0.022510</td>\n      <td>5.290786</td>\n      <td>0.000005</td>\n      <td>False</td>\n    </tr>\n    <tr>\n      <th>2</th>\n      <td>0.558426</td>\n      <td>-0.089496</td>\n      <td>0.062216</td>\n      <td>17.782908</td>\n      <td>0.000004</td>\n      <td>False</td>\n    </tr>\n    <tr>\n      <th>3</th>\n      <td>-1.045272</td>\n      <td>0.887516</td>\n      <td>1.648958</td>\n      <td>82.580709</td>\n      <td>0.000022</td>\n      <td>False</td>\n    </tr>\n    <tr>\n      <th>4</th>\n      <td>0.580821</td>\n      <td>-1.920795</td>\n      <td>-1.192525</td>\n      <td>2902.003156</td>\n      <td>0.000004</td>\n      <td>False</td>\n    </tr>\n    <tr>\n      <th>5</th>\n      <td>-0.293014</td>\n      <td>1.900782</td>\n      <td>0.741882</td>\n      <td>1156.194664</td>\n      <td>0.000003</td>\n      <td>False</td>\n    </tr>\n    <tr>\n      <th>6</th>\n      <td>1.464770</td>\n      <td>-1.364321</td>\n      <td>-0.568940</td>\n      <td>1828.368479</td>\n      <td>0.000004</td>\n      <td>False</td>\n    </tr>\n    <tr>\n      <th>7</th>\n      <td>1.806329</td>\n      <td>0.077604</td>\n      <td>0.521190</td>\n      <td>1042.604973</td>\n      <td>0.000003</td>\n      <td>False</td>\n    </tr>\n    <tr>\n      <th>8</th>\n      <td>-0.963817</td>\n      <td>-1.532827</td>\n      <td>1.127703</td>\n      <td>765.596589</td>\n      <td>0.000004</td>\n      <td>False</td>\n    </tr>\n    <tr>\n      <th>9</th>\n      <td>1.339147</td>\n      <td>1.988879</td>\n      <td>1.680934</td>\n      <td>522.346131</td>\n      <td>0.000003</td>\n      <td>False</td>\n    </tr>\n    <tr>\n      <th>10</th>\n      <td>-1.583353</td>\n      <td>-1.435487</td>\n      <td>-1.470404</td>\n      <td>2813.746672</td>\n      <td>0.000028</td>\n      <td>False</td>\n    </tr>\n    <tr>\n      <th>11</th>\n      <td>1.209013</td>\n      <td>1.220452</td>\n      <td>-1.676338</td>\n      <td>1008.168154</td>\n      <td>0.000003</td>\n      <td>False</td>\n    </tr>\n    <tr>\n      <th>12</th>\n      <td>0.082369</td>\n      <td>-1.956791</td>\n      <td>-0.850165</td>\n      <td>2584.635182</td>\n      <td>0.000003</td>\n      <td>False</td>\n    </tr>\n    <tr>\n      <th>13</th>\n      <td>1.271731</td>\n      <td>-1.187155</td>\n      <td>1.129158</td>\n      <td>799.203803</td>\n      <td>0.000003</td>\n      <td>False</td>\n    </tr>\n    <tr>\n      <th>14</th>\n      <td>1.219232</td>\n      <td>-0.058683</td>\n      <td>0.432147</td>\n      <td>258.314866</td>\n      <td>0.000003</td>\n      <td>False</td>\n    </tr>\n  </tbody>\n</table>\n</div>"
     },
     "execution_count": 2,
     "metadata": {},
     "output_type": "execute_result"
    }
   ],
   "source": [
    "# set values if testing\n",
    "import os\n",
    "SMOKE_TEST = os.environ.get(\"SMOKE_TEST\")\n",
    "NUM_MC_SAMPLES = 1 if SMOKE_TEST else 128\n",
    "NUM_RESTARTS = 1 if SMOKE_TEST else 20\n",
    "\n",
    "# Ignore all warnings\n",
    "import warnings\n",
    "warnings.filterwarnings(\"ignore\")\n",
    "\n",
    "from xopt import Xopt, Evaluator\n",
    "from xopt.generators import RandomGenerator\n",
    "from xopt.resources.test_functions.rosenbrock import evaluate_rosenbrock,make_rosenbrock_vocs\n",
    "\n",
    "# make rosenbrock function vocs in 3D\n",
    "vocs = make_rosenbrock_vocs(3)\n",
    "\n",
    "# collect some data using random sampling\n",
    "evaluator = Evaluator(function=evaluate_rosenbrock)\n",
    "generator = RandomGenerator(vocs=vocs)\n",
    "X = Xopt(generator=generator, evaluator=evaluator, vocs=vocs)\n",
    "X.random_evaluate(15)"
   ],
   "metadata": {
    "collapsed": false,
    "ExecuteTime": {
     "end_time": "2024-04-23T15:08:44.710863600Z",
     "start_time": "2024-04-23T15:08:44.674892200Z"
    }
   }
  },
  {
   "cell_type": "markdown",
   "source": [
    "## Create GP model based on the data"
   ],
   "metadata": {
    "collapsed": false
   }
  },
  {
   "cell_type": "code",
   "execution_count": 3,
   "outputs": [],
   "source": [
    "data = X.data"
   ],
   "metadata": {
    "collapsed": false,
    "ExecuteTime": {
     "end_time": "2024-04-23T15:12:07.360512Z",
     "start_time": "2024-04-23T15:12:07.349515500Z"
    }
   }
  },
  {
   "cell_type": "code",
   "execution_count": 23,
   "outputs": [
    {
     "name": "stdout",
     "output_type": "stream",
     "text": [
      "Help on method build_model in module xopt.generators.bayesian.models.standard:\n",
      "\n",
      "build_model(input_names: List[str], outcome_names: List[str], data: pandas.core.frame.DataFrame, input_bounds: Dict[str, List] = None, dtype: torch.dtype = torch.float64, device: Union[torch.device, str] = 'cpu') -> botorch.models.model_list_gp_regression.ModelListGP method of xopt.generators.bayesian.models.standard.StandardModelConstructor instance\n",
      "    Construct independent models for each objective and constraint.\n",
      "    \n",
      "    Parameters\n",
      "    ----------\n",
      "    input_names : List[str]\n",
      "        Names of input variables.\n",
      "    outcome_names : List[str]\n",
      "        Names of outcome variables.\n",
      "    data : pd.DataFrame\n",
      "        Data used for training the model.\n",
      "    input_bounds : Dict[str, List], optional\n",
      "        Bounds for input variables.\n",
      "    dtype : torch.dtype, optional\n",
      "        Data type for the model (default is torch.double).\n",
      "    device : Union[torch.device, str], optional\n",
      "        Device on which to perform computations (default is \"cpu\").\n",
      "    \n",
      "    Returns\n",
      "    -------\n",
      "    ModelListGP\n",
      "        A list of trained botorch models.\n",
      "\n"
     ]
    }
   ],
   "source": [
    "from xopt.generators.bayesian.models.standard import StandardModelConstructor\n",
    "model_constructor = StandardModelConstructor()\n",
    "\n",
    "# here we build a model from vocs\n",
    "model = model_constructor.build_model_from_vocs(\n",
    "    vocs=vocs, data=data\n",
    ")\n",
    "\n",
    "# here we build a model from info (more flexible)\n",
    "model = model_constructor.build_model(\n",
    "    input_names=[\"x0\",\"x1\",\"x2\"],\n",
    "    outcome_names=[\"y\"],\n",
    "    data=data\n",
    ")\n",
    "help(model_constructor.build_model)\n"
   ],
   "metadata": {
    "collapsed": false,
    "ExecuteTime": {
     "end_time": "2024-04-23T16:21:11.555898700Z",
     "start_time": "2024-04-23T16:21:11.263913900Z"
    }
   }
  },
  {
   "cell_type": "markdown",
   "source": [
    "## Examine GP model hyperparameters\n",
    "Here we look at the GP hyperparameters for the objective function (the first model).\n",
    "Note: the hyperparameters here are in raw_units (due to contraints on parameter\n",
    "values, ie. lengthscales > 0)"
   ],
   "metadata": {
    "collapsed": false
   }
  },
  {
   "cell_type": "code",
   "execution_count": 21,
   "outputs": [
    {
     "name": "stdout",
     "output_type": "stream",
     "text": [
      "likelihood.noise_covar.raw_noise Parameter containing:\n",
      "tensor([-21.8906], dtype=torch.float64, requires_grad=True)\n",
      "mean_module.raw_constant Parameter containing:\n",
      "tensor(0.2825, dtype=torch.float64, requires_grad=True)\n",
      "covar_module.raw_outputscale Parameter containing:\n",
      "tensor(0.4096, dtype=torch.float64, requires_grad=True)\n",
      "covar_module.base_kernel.raw_lengthscale Parameter containing:\n",
      "tensor([[-0.4223, -0.7808, -0.5468]], dtype=torch.float64, requires_grad=True)\n"
     ]
    }
   ],
   "source": [
    "objective_model = model.models[vocs.output_names.index(\"y\")]\n",
    "\n",
    "# print raw hyperparameter values\n",
    "for name,val in objective_model.named_parameters():\n",
    "    print(name,val)"
   ],
   "metadata": {
    "collapsed": false,
    "ExecuteTime": {
     "end_time": "2024-04-23T15:31:12.335990200Z",
     "start_time": "2024-04-23T15:31:12.326957700Z"
    }
   }
  },
  {
   "cell_type": "code",
   "execution_count": 22,
   "outputs": [
    {
     "name": "stdout",
     "output_type": "stream",
     "text": [
      "outputscale: tensor(0.9187, dtype=torch.float64)\n",
      "prior mean: tensor(0.2825, dtype=torch.float64)\n",
      "noise: tensor([0.0001], dtype=torch.float64)\n",
      "lengthscales tensor([[0.5041, 0.3771, 0.4567]], dtype=torch.float64)\n"
     ]
    }
   ],
   "source": [
    "# print real values - note that these are in normalized coordinates\n",
    "print(\"outputscale:\", objective_model.covar_module.outputscale.data)\n",
    "print(\"prior mean:\", objective_model.mean_module.constant.data)\n",
    "print(\"noise:\", objective_model.likelihood.noise_covar.noise.data)\n",
    "print(\"lengthscales\", objective_model.covar_module.base_kernel.lengthscale.data)"
   ],
   "metadata": {
    "collapsed": false,
    "ExecuteTime": {
     "end_time": "2024-04-23T15:31:14.217663400Z",
     "start_time": "2024-04-23T15:31:14.196662100Z"
    }
   }
  },
  {
   "cell_type": "code",
   "execution_count": null,
   "outputs": [],
   "source": [],
   "metadata": {
    "collapsed": false
   }
  }
 ],
 "metadata": {
  "kernelspec": {
   "display_name": "Python 3",
   "language": "python",
   "name": "python3"
  },
  "language_info": {
   "codemirror_mode": {
    "name": "ipython",
    "version": 2
   },
   "file_extension": ".py",
   "mimetype": "text/x-python",
   "name": "python",
   "nbconvert_exporter": "python",
   "pygments_lexer": "ipython2",
   "version": "2.7.6"
  }
 },
 "nbformat": 4,
 "nbformat_minor": 0
}
