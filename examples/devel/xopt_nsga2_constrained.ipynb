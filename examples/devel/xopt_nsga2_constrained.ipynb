{
 "cells": [
  {
   "cell_type": "markdown",
   "metadata": {},
   "source": [
    "# Notebook version of NSGA-II constrained, uses xopt.nsga2"
   ]
  },
  {
   "cell_type": "code",
   "execution_count": null,
   "metadata": {},
   "outputs": [],
   "source": [
    "# Useful for debugging\n",
    "%load_ext autoreload\n",
    "%autoreload 2"
   ]
  },
  {
   "cell_type": "code",
   "execution_count": null,
   "metadata": {},
   "outputs": [],
   "source": [
    "%matplotlib inline"
   ]
  },
  {
   "cell_type": "code",
   "execution_count": 1,
   "metadata": {},
   "outputs": [],
   "source": [
    "from xopt import nsga2\n",
    "\n",
    "from deap import base, tools, creator\n",
    "from deap.benchmarks.tools import diversity, convergence, hypervolume\n",
    "\n",
    "import numpy as np\n",
    "\n",
    "import random"
   ]
  },
  {
   "cell_type": "markdown",
   "metadata": {},
   "source": [
    "# Test problems"
   ]
  },
  {
   "cell_type": "code",
   "execution_count": null,
   "metadata": {},
   "outputs": [],
   "source": [
    "NAME = 'CONSTR'\n",
    "BOUND_LOW, BOUND_UP = [0.1, 0] , [1, 5]\n",
    "WEIGHTS = [-1, -1] # Minimize\n",
    "NDIM = 2\n",
    "N_CONSTRAINTS = 2\n",
    "\n",
    "def CONSTR(individual):\n",
    "    #time.sleep(.01)\n",
    "    x1=individual[0]\n",
    "    x2=individual[1]\n",
    "    objectives =  (x1, (1.0+x2)/x1)\n",
    "    constraints = (x2+9*x1-6.0, -x2+9*x1-1.0) # Should be >= 0 \n",
    "    return (objectives, constraints)\n",
    "\n",
    "F = CONSTR\n",
    "# For plotting\n",
    "X_RANGE = [0.1, 1]\n",
    "Y_RANGE = [0, 10]"
   ]
  },
  {
   "cell_type": "code",
   "execution_count": 3,
   "metadata": {},
   "outputs": [],
   "source": [
    "NAME = 'TNK'\n",
    "BOUND_LOW, BOUND_UP = [0.0, 0.0], [3.14159, 3.14159]  \n",
    "WEIGHTS = [-1, -1] # Minimize\n",
    "NDIM = 2\n",
    "N_CONSTRAINTS = 2\n",
    "\n",
    "def TNK(individual):    \n",
    "    x1=individual[0]\n",
    "    x2=individual[1]\n",
    "    objectives =  (x1, x2)\n",
    "    constraints = (x1**2+x2**2-1.0 - 0.1*np.cos(16*np.arctan2(x1, x2)), 0.5-(x1-0.5)**2-(x2-0.5)**2 )\n",
    "    return (objectives, constraints, (x1, x2))\n",
    "\n",
    "F = TNK\n",
    "X_RANGE = [0, 1.4]\n",
    "Y_RANGE = [0, 1.4]"
   ]
  },
  {
   "cell_type": "code",
   "execution_count": null,
   "metadata": {},
   "outputs": [],
   "source": [
    "NAME = 'SRN'\n",
    "BOUND_LOW, BOUND_UP = [-20.0, -20.0], [20.0, 20.0]  \n",
    "WEIGHTS = [-1, -1] # Minimize\n",
    "NDIM = 2\n",
    "N_CONSTRAINTS = 2\n",
    "def SRN(individual):    \n",
    "    x1=individual[0]\n",
    "    x2=individual[1]\n",
    "    objectives = ( (x1-2.0)**2 + (x2-1.0)**2+2.0,  9*x1-(x2-1.0)**2 )\n",
    "    constraints = (225.0-x1**2-x2**2, -10.0 -x1 - 3*x2 )\n",
    "    return (objectives, constraints)\n",
    "\n",
    "F = SRN\n",
    "X_RANGE = [0, 300]\n",
    "Y_RANGE = [-300, 150]"
   ]
  },
  {
   "cell_type": "markdown",
   "metadata": {},
   "source": [
    "# Setup toolbox"
   ]
  },
  {
   "cell_type": "code",
   "execution_count": 1,
   "metadata": {},
   "outputs": [
    {
     "ename": "NameError",
     "evalue": "name 'nsga2' is not defined",
     "output_type": "error",
     "traceback": [
      "\u001b[0;31m---------------------------------------------------------------------------\u001b[0m",
      "\u001b[0;31mNameError\u001b[0m                                 Traceback (most recent call last)",
      "\u001b[0;32m<ipython-input-1-273e5a467d17>\u001b[0m in \u001b[0;36m<module>\u001b[0;34m\u001b[0m\n\u001b[0;32m----> 1\u001b[0;31m toolbox = nsga2.nsga2_toolbox(\n\u001b[0m\u001b[1;32m      2\u001b[0m     \u001b[0mweights\u001b[0m\u001b[0;34m=\u001b[0m\u001b[0mWEIGHTS\u001b[0m\u001b[0;34m,\u001b[0m \u001b[0mn_constraints\u001b[0m\u001b[0;34m=\u001b[0m\u001b[0mN_CONSTRAINTS\u001b[0m\u001b[0;34m,\u001b[0m\u001b[0;34m\u001b[0m\u001b[0;34m\u001b[0m\u001b[0m\n\u001b[1;32m      3\u001b[0m     bound_low=BOUND_LOW, bound_up=BOUND_UP)\n",
      "\u001b[0;31mNameError\u001b[0m: name 'nsga2' is not defined"
     ]
    }
   ],
   "source": [
    "toolbox = nsga2.nsga2_toolbox(\n",
    "    weights=WEIGHTS, n_constraints=N_CONSTRAINTS,\n",
    "    bound_low=BOUND_LOW, bound_up=BOUND_UP)"
   ]
  },
  {
   "cell_type": "code",
   "execution_count": 5,
   "metadata": {},
   "outputs": [],
   "source": [
    "# Register test proglem as toolbox.evaluate\n",
    "toolbox.register('evaluate', F)"
   ]
  },
  {
   "cell_type": "code",
   "execution_count": 38,
   "metadata": {},
   "outputs": [],
   "source": [
    "from dask import delayed, compute"
   ]
  },
  {
   "cell_type": "code",
   "execution_count": 6,
   "metadata": {},
   "outputs": [
    {
     "data": {
      "text/plain": [
       "['variable_0', 'variable_1']"
      ]
     },
     "execution_count": 6,
     "metadata": {},
     "output_type": "execute_result"
    }
   ],
   "source": [
    "toolbox.population(2)[0].variable_labels\n",
    "ind3 = creator.Individual([1, 2, 2])\n",
    "ind3.variable_labels"
   ]
  },
  {
   "cell_type": "code",
   "execution_count": 43,
   "metadata": {},
   "outputs": [
    {
     "data": {
      "text/plain": [
       "Delayed('F2-78621636-3476-4088-b8af-d2897c618770')"
      ]
     },
     "execution_count": 43,
     "metadata": {},
     "output_type": "execute_result"
    }
   ],
   "source": [
    "from time import sleep\n",
    "@delayed\n",
    "def F2(x):\n",
    "    sleep(1)\n",
    "    return F(x)\n",
    "F2([1,2])"
   ]
  },
  {
   "cell_type": "code",
   "execution_count": 44,
   "metadata": {},
   "outputs": [],
   "source": [
    "mypop = toolbox.population(10)\n",
    "toolbox.register('evaluate',F2)"
   ]
  },
  {
   "cell_type": "code",
   "execution_count": 45,
   "metadata": {},
   "outputs": [
    {
     "name": "stdout",
     "output_type": "stream",
     "text": [
      "CPU times: user 4.62 ms, sys: 2.48 ms, total: 7.1 ms\n",
      "Wall time: 2 s\n"
     ]
    },
    {
     "data": {
      "text/plain": [
       "([((2.0282865735541185, 0.9858520059082954),\n",
       "   (4.028142242129252, -2.0717120225509023),\n",
       "   (2.0282865735541185, 0.9858520059082954)),\n",
       "  ((1.2719528607479513, 1.6404421403811262),\n",
       "   (3.351770241161125, -1.3965194947740303),\n",
       "   (1.2719528607479513, 1.6404421403811262)),\n",
       "  ((1.5951349477387986, 1.1976157875891713),\n",
       "   (3.0425039156778384, -1.185988340852521),\n",
       "   (1.5951349477387986, 1.1976157875891713)),\n",
       "  ((1.7020167851688954, 1.9144638153153146),\n",
       "   (5.502959368987715, -2.945552236664123),\n",
       "   (1.7020167851688954, 1.9144638153153146)),\n",
       "  ((2.223041008904069, 0.6139951897010875),\n",
       "   (4.3579117178438205, -2.4818652216401382),\n",
       "   (2.223041008904069, 0.6139951897010875)),\n",
       "  ((2.4671597479326226, 1.6157722871880271),\n",
       "   (7.796509254913919, -4.61466527074314),\n",
       "   (2.4671597479326226, 1.6157722871880271)),\n",
       "  ((1.5387781061883066, 0.6245642232952215),\n",
       "   (1.6585687671040827, -0.5945761996213065),\n",
       "   (1.5387781061883066, 0.6245642232952215)),\n",
       "  ((2.2363097912836922, 2.5176703321850864),\n",
       "   (10.28123952095598, -6.585765260687496),\n",
       "   (2.2363097912836922, 2.5176703321850864)),\n",
       "  ((2.271929104912252, 2.4752222445444576),\n",
       "   (10.210930526234163, -6.541235668178379),\n",
       "   (2.271929104912252, 2.4752222445444576)),\n",
       "  ((2.2566453384905785, 1.797536195258343),\n",
       "   (7.346714315843926, -4.269403023246176),\n",
       "   (2.2566453384905785, 1.797536195258343))],)"
      ]
     },
     "execution_count": 45,
     "metadata": {},
     "output_type": "execute_result"
    }
   ],
   "source": [
    "%%time\n",
    "evals = []\n",
    "for ind in mypop:\n",
    "    evals.append(toolbox.evaluate(ind))\n",
    "compute(evals)"
   ]
  },
  {
   "cell_type": "code",
   "execution_count": 50,
   "metadata": {},
   "outputs": [],
   "source": [
    "def main2(seed=None):\n",
    "    random.seed(seed)\n",
    "\n",
    "    NGEN = 50\n",
    "    MU = 100\n",
    "    CXPB = 0.9\n",
    "\n",
    "    stats = tools.Statistics(lambda ind: ind.fitness.values)\n",
    "    stats.register('avg', np.mean, axis=0)\n",
    "    stats.register('std', np.std, axis=0)\n",
    "    stats.register('min', np.min, axis=0)\n",
    "    stats.register('max', np.max, axis=0)\n",
    "    \n",
    "    logbook = tools.Logbook()\n",
    "    logbook.header = 'gen', 'evals', 'std', 'min', 'avg', 'max'\n",
    "    \n",
    "    pop = toolbox.population(n=MU)\n",
    "\n",
    "    nsga2.evaluate_population(toolbox, pop)\n",
    "\n",
    "    # This is just to assign the crowding distance to the individuals\n",
    "    # no actual selection is done\n",
    "    pop = toolbox.select(pop, len(pop))\n",
    "    \n",
    "    record = stats.compile(pop)\n",
    "    logbook.record(gen=0, evals=len(pop), **record)\n",
    "    print(logbook.stream)\n",
    "\n",
    "    # Begin the generational process\n",
    "    for gen in range(1, NGEN):\n",
    "        pop = nsga2.evolve_population(toolbox, pop, CXPB=CXPB)\n",
    "        \n",
    "        record = stats.compile(pop)\n",
    "        logbook.record(gen=gen, evals=len(pop), **record)\n",
    "        #print(logbook.stream, hypervolume(pop, [1.0,1.0]))\n",
    "        \n",
    "\n",
    "    return pop, logbook"
   ]
  },
  {
   "cell_type": "code",
   "execution_count": null,
   "metadata": {},
   "outputs": [],
   "source": []
  },
  {
   "cell_type": "code",
   "execution_count": 51,
   "metadata": {},
   "outputs": [],
   "source": [
    "# Register test proglem as toolbox.evaluate\n",
    "@delayed\n",
    "def F2(x):\n",
    "    return F(x)\n",
    "\n",
    "toolbox.register('evaluate', F2)"
   ]
  },
  {
   "cell_type": "code",
   "execution_count": 52,
   "metadata": {},
   "outputs": [
    {
     "ename": "TypeError",
     "evalue": "Both weights and assigned values must be a sequence of numbers when assigning to values of <class 'deap.creator.MyFitness'>. Currently assigning value(s) Delayed('getitem-a682cb2f4c6944c259e30bb5cd76f044') of <class 'dask.delayed.Delayed'> to a fitness with weights [-1, -1].",
     "output_type": "error",
     "traceback": [
      "\u001b[0;31m---------------------------------------------------------------------------\u001b[0m",
      "\u001b[0;31mTypeError\u001b[0m                                 Traceback (most recent call last)",
      "\u001b[0;32m~/Code/GitHub/xopt/xopt/fitness_with_constraints.py\u001b[0m in \u001b[0;36msetValues\u001b[0;34m(self, values)\u001b[0m\n\u001b[1;32m     77\u001b[0m         \u001b[0;32mtry\u001b[0m\u001b[0;34m:\u001b[0m\u001b[0;34m\u001b[0m\u001b[0;34m\u001b[0m\u001b[0m\n\u001b[0;32m---> 78\u001b[0;31m             \u001b[0mself\u001b[0m\u001b[0;34m.\u001b[0m\u001b[0mwvalues\u001b[0m \u001b[0;34m=\u001b[0m \u001b[0mtuple\u001b[0m\u001b[0;34m(\u001b[0m\u001b[0mmap\u001b[0m\u001b[0;34m(\u001b[0m\u001b[0mmul\u001b[0m\u001b[0;34m,\u001b[0m \u001b[0mvalues\u001b[0m\u001b[0;34m,\u001b[0m \u001b[0mself\u001b[0m\u001b[0;34m.\u001b[0m\u001b[0mweights\u001b[0m\u001b[0;34m)\u001b[0m\u001b[0;34m)\u001b[0m\u001b[0;34m\u001b[0m\u001b[0;34m\u001b[0m\u001b[0m\n\u001b[0m\u001b[1;32m     79\u001b[0m         \u001b[0;32mexcept\u001b[0m \u001b[0mTypeError\u001b[0m\u001b[0;34m:\u001b[0m\u001b[0;34m\u001b[0m\u001b[0;34m\u001b[0m\u001b[0m\n",
      "\u001b[0;32m~/Code/miniconda3/envs/devel/lib/python3.7/site-packages/dask/delayed.py\u001b[0m in \u001b[0;36m__iter__\u001b[0;34m(self)\u001b[0m\n\u001b[1;32m    526\u001b[0m         \u001b[0;32mif\u001b[0m \u001b[0mgetattr\u001b[0m\u001b[0;34m(\u001b[0m\u001b[0mself\u001b[0m\u001b[0;34m,\u001b[0m \u001b[0;34m\"_length\"\u001b[0m\u001b[0;34m,\u001b[0m \u001b[0;32mNone\u001b[0m\u001b[0;34m)\u001b[0m \u001b[0;32mis\u001b[0m \u001b[0;32mNone\u001b[0m\u001b[0;34m:\u001b[0m\u001b[0;34m\u001b[0m\u001b[0;34m\u001b[0m\u001b[0m\n\u001b[0;32m--> 527\u001b[0;31m             \u001b[0;32mraise\u001b[0m \u001b[0mTypeError\u001b[0m\u001b[0;34m(\u001b[0m\u001b[0;34m\"Delayed objects of unspecified length are not iterable\"\u001b[0m\u001b[0;34m)\u001b[0m\u001b[0;34m\u001b[0m\u001b[0;34m\u001b[0m\u001b[0m\n\u001b[0m\u001b[1;32m    528\u001b[0m         \u001b[0;32mfor\u001b[0m \u001b[0mi\u001b[0m \u001b[0;32min\u001b[0m \u001b[0mrange\u001b[0m\u001b[0;34m(\u001b[0m\u001b[0mself\u001b[0m\u001b[0;34m.\u001b[0m\u001b[0m_length\u001b[0m\u001b[0;34m)\u001b[0m\u001b[0;34m:\u001b[0m\u001b[0;34m\u001b[0m\u001b[0;34m\u001b[0m\u001b[0m\n",
      "\u001b[0;31mTypeError\u001b[0m: Delayed objects of unspecified length are not iterable",
      "\nDuring handling of the above exception, another exception occurred:\n",
      "\u001b[0;31mTypeError\u001b[0m                                 Traceback (most recent call last)",
      "\u001b[0;32m<timed exec>\u001b[0m in \u001b[0;36m<module>\u001b[0;34m\u001b[0m\n",
      "\u001b[0;32m<ipython-input-50-01550f014ff7>\u001b[0m in \u001b[0;36mmain2\u001b[0;34m(seed)\u001b[0m\n\u001b[1;32m     17\u001b[0m     \u001b[0mpop\u001b[0m \u001b[0;34m=\u001b[0m \u001b[0mtoolbox\u001b[0m\u001b[0;34m.\u001b[0m\u001b[0mpopulation\u001b[0m\u001b[0;34m(\u001b[0m\u001b[0mn\u001b[0m\u001b[0;34m=\u001b[0m\u001b[0mMU\u001b[0m\u001b[0;34m)\u001b[0m\u001b[0;34m\u001b[0m\u001b[0;34m\u001b[0m\u001b[0m\n\u001b[1;32m     18\u001b[0m \u001b[0;34m\u001b[0m\u001b[0m\n\u001b[0;32m---> 19\u001b[0;31m     \u001b[0mnsga2\u001b[0m\u001b[0;34m.\u001b[0m\u001b[0mevaluate_population\u001b[0m\u001b[0;34m(\u001b[0m\u001b[0mtoolbox\u001b[0m\u001b[0;34m,\u001b[0m \u001b[0mpop\u001b[0m\u001b[0;34m)\u001b[0m\u001b[0;34m\u001b[0m\u001b[0;34m\u001b[0m\u001b[0m\n\u001b[0m\u001b[1;32m     20\u001b[0m \u001b[0;34m\u001b[0m\u001b[0m\n\u001b[1;32m     21\u001b[0m     \u001b[0;31m# This is just to assign the crowding distance to the individuals\u001b[0m\u001b[0;34m\u001b[0m\u001b[0;34m\u001b[0m\u001b[0;34m\u001b[0m\u001b[0m\n",
      "\u001b[0;32m~/Code/GitHub/xopt/xopt/nsga2.py\u001b[0m in \u001b[0;36mevaluate_population\u001b[0;34m(toolbox, population, archive_h5)\u001b[0m\n\u001b[1;32m    251\u001b[0m     \u001b[0mevaluate_result\u001b[0m \u001b[0;34m=\u001b[0m \u001b[0mtoolbox\u001b[0m\u001b[0;34m.\u001b[0m\u001b[0mmap\u001b[0m\u001b[0;34m(\u001b[0m\u001b[0mtoolbox\u001b[0m\u001b[0;34m.\u001b[0m\u001b[0mevaluate\u001b[0m\u001b[0;34m,\u001b[0m \u001b[0minvalid_ind\u001b[0m\u001b[0;34m)\u001b[0m\u001b[0;34m\u001b[0m\u001b[0;34m\u001b[0m\u001b[0m\n\u001b[1;32m    252\u001b[0m     \u001b[0;32mfor\u001b[0m \u001b[0mind\u001b[0m\u001b[0;34m,\u001b[0m \u001b[0mfit\u001b[0m \u001b[0;32min\u001b[0m \u001b[0mzip\u001b[0m\u001b[0;34m(\u001b[0m\u001b[0minvalid_ind\u001b[0m\u001b[0;34m,\u001b[0m \u001b[0mevaluate_result\u001b[0m\u001b[0;34m)\u001b[0m\u001b[0;34m:\u001b[0m\u001b[0;34m\u001b[0m\u001b[0;34m\u001b[0m\u001b[0m\n\u001b[0;32m--> 253\u001b[0;31m         \u001b[0mind\u001b[0m\u001b[0;34m.\u001b[0m\u001b[0mfitness\u001b[0m\u001b[0;34m.\u001b[0m\u001b[0mvalues\u001b[0m \u001b[0;34m=\u001b[0m \u001b[0mfit\u001b[0m\u001b[0;34m[\u001b[0m\u001b[0;36m0\u001b[0m\u001b[0;34m]\u001b[0m\u001b[0;34m\u001b[0m\u001b[0;34m\u001b[0m\u001b[0m\n\u001b[0m\u001b[1;32m    254\u001b[0m         \u001b[0mind\u001b[0m\u001b[0;34m.\u001b[0m\u001b[0mfitness\u001b[0m\u001b[0;34m.\u001b[0m\u001b[0mcvalues\u001b[0m \u001b[0;34m=\u001b[0m \u001b[0mfit\u001b[0m\u001b[0;34m[\u001b[0m\u001b[0;36m1\u001b[0m\u001b[0;34m]\u001b[0m\u001b[0;34m\u001b[0m\u001b[0;34m\u001b[0m\u001b[0m\n\u001b[1;32m    255\u001b[0m         \u001b[0mind\u001b[0m\u001b[0;34m.\u001b[0m\u001b[0mfitness\u001b[0m\u001b[0;34m.\u001b[0m\u001b[0mn_constraints\u001b[0m \u001b[0;34m=\u001b[0m \u001b[0mlen\u001b[0m\u001b[0;34m(\u001b[0m\u001b[0mfit\u001b[0m\u001b[0;34m[\u001b[0m\u001b[0;36m1\u001b[0m\u001b[0;34m]\u001b[0m\u001b[0;34m)\u001b[0m\u001b[0;34m\u001b[0m\u001b[0;34m\u001b[0m\u001b[0m\n",
      "\u001b[0;32m~/Code/GitHub/xopt/xopt/fitness_with_constraints.py\u001b[0m in \u001b[0;36msetValues\u001b[0;34m(self, values)\u001b[0m\n\u001b[1;32m     83\u001b[0m             \u001b[0;34m\"%r. Currently assigning value(s) %r of %r to a fitness with \"\u001b[0m\u001b[0;34m\u001b[0m\u001b[0;34m\u001b[0m\u001b[0m\n\u001b[1;32m     84\u001b[0m             \u001b[0;34m\"weights %s.\"\u001b[0m\u001b[0;34m\u001b[0m\u001b[0;34m\u001b[0m\u001b[0m\n\u001b[0;32m---> 85\u001b[0;31m             % (self.__class__, values, type(values), self.weights)).with_traceback(traceback)\n\u001b[0m\u001b[1;32m     86\u001b[0m \u001b[0;34m\u001b[0m\u001b[0m\n\u001b[1;32m     87\u001b[0m     \u001b[0;32mdef\u001b[0m \u001b[0mdelValues\u001b[0m\u001b[0;34m(\u001b[0m\u001b[0mself\u001b[0m\u001b[0;34m)\u001b[0m\u001b[0;34m:\u001b[0m\u001b[0;34m\u001b[0m\u001b[0;34m\u001b[0m\u001b[0m\n",
      "\u001b[0;32m~/Code/GitHub/xopt/xopt/fitness_with_constraints.py\u001b[0m in \u001b[0;36msetValues\u001b[0;34m(self, values)\u001b[0m\n\u001b[1;32m     76\u001b[0m     \u001b[0;32mdef\u001b[0m \u001b[0msetValues\u001b[0m\u001b[0;34m(\u001b[0m\u001b[0mself\u001b[0m\u001b[0;34m,\u001b[0m \u001b[0mvalues\u001b[0m\u001b[0;34m)\u001b[0m\u001b[0;34m:\u001b[0m\u001b[0;34m\u001b[0m\u001b[0;34m\u001b[0m\u001b[0m\n\u001b[1;32m     77\u001b[0m         \u001b[0;32mtry\u001b[0m\u001b[0;34m:\u001b[0m\u001b[0;34m\u001b[0m\u001b[0;34m\u001b[0m\u001b[0m\n\u001b[0;32m---> 78\u001b[0;31m             \u001b[0mself\u001b[0m\u001b[0;34m.\u001b[0m\u001b[0mwvalues\u001b[0m \u001b[0;34m=\u001b[0m \u001b[0mtuple\u001b[0m\u001b[0;34m(\u001b[0m\u001b[0mmap\u001b[0m\u001b[0;34m(\u001b[0m\u001b[0mmul\u001b[0m\u001b[0;34m,\u001b[0m \u001b[0mvalues\u001b[0m\u001b[0;34m,\u001b[0m \u001b[0mself\u001b[0m\u001b[0;34m.\u001b[0m\u001b[0mweights\u001b[0m\u001b[0;34m)\u001b[0m\u001b[0;34m)\u001b[0m\u001b[0;34m\u001b[0m\u001b[0;34m\u001b[0m\u001b[0m\n\u001b[0m\u001b[1;32m     79\u001b[0m         \u001b[0;32mexcept\u001b[0m \u001b[0mTypeError\u001b[0m\u001b[0;34m:\u001b[0m\u001b[0;34m\u001b[0m\u001b[0;34m\u001b[0m\u001b[0m\n\u001b[1;32m     80\u001b[0m             \u001b[0m_\u001b[0m\u001b[0;34m,\u001b[0m \u001b[0m_\u001b[0m\u001b[0;34m,\u001b[0m \u001b[0mtraceback\u001b[0m \u001b[0;34m=\u001b[0m \u001b[0msys\u001b[0m\u001b[0;34m.\u001b[0m\u001b[0mexc_info\u001b[0m\u001b[0;34m(\u001b[0m\u001b[0;34m)\u001b[0m\u001b[0;34m\u001b[0m\u001b[0;34m\u001b[0m\u001b[0m\n",
      "\u001b[0;32m~/Code/miniconda3/envs/devel/lib/python3.7/site-packages/dask/delayed.py\u001b[0m in \u001b[0;36m__iter__\u001b[0;34m(self)\u001b[0m\n\u001b[1;32m    525\u001b[0m     \u001b[0;32mdef\u001b[0m \u001b[0m__iter__\u001b[0m\u001b[0;34m(\u001b[0m\u001b[0mself\u001b[0m\u001b[0;34m)\u001b[0m\u001b[0;34m:\u001b[0m\u001b[0;34m\u001b[0m\u001b[0;34m\u001b[0m\u001b[0m\n\u001b[1;32m    526\u001b[0m         \u001b[0;32mif\u001b[0m \u001b[0mgetattr\u001b[0m\u001b[0;34m(\u001b[0m\u001b[0mself\u001b[0m\u001b[0;34m,\u001b[0m \u001b[0;34m\"_length\"\u001b[0m\u001b[0;34m,\u001b[0m \u001b[0;32mNone\u001b[0m\u001b[0;34m)\u001b[0m \u001b[0;32mis\u001b[0m \u001b[0;32mNone\u001b[0m\u001b[0;34m:\u001b[0m\u001b[0;34m\u001b[0m\u001b[0;34m\u001b[0m\u001b[0m\n\u001b[0;32m--> 527\u001b[0;31m             \u001b[0;32mraise\u001b[0m \u001b[0mTypeError\u001b[0m\u001b[0;34m(\u001b[0m\u001b[0;34m\"Delayed objects of unspecified length are not iterable\"\u001b[0m\u001b[0;34m)\u001b[0m\u001b[0;34m\u001b[0m\u001b[0;34m\u001b[0m\u001b[0m\n\u001b[0m\u001b[1;32m    528\u001b[0m         \u001b[0;32mfor\u001b[0m \u001b[0mi\u001b[0m \u001b[0;32min\u001b[0m \u001b[0mrange\u001b[0m\u001b[0;34m(\u001b[0m\u001b[0mself\u001b[0m\u001b[0;34m.\u001b[0m\u001b[0m_length\u001b[0m\u001b[0;34m)\u001b[0m\u001b[0;34m:\u001b[0m\u001b[0;34m\u001b[0m\u001b[0;34m\u001b[0m\u001b[0m\n\u001b[1;32m    529\u001b[0m             \u001b[0;32myield\u001b[0m \u001b[0mself\u001b[0m\u001b[0;34m[\u001b[0m\u001b[0mi\u001b[0m\u001b[0;34m]\u001b[0m\u001b[0;34m\u001b[0m\u001b[0;34m\u001b[0m\u001b[0m\n",
      "\u001b[0;31mTypeError\u001b[0m: Both weights and assigned values must be a sequence of numbers when assigning to values of <class 'deap.creator.MyFitness'>. Currently assigning value(s) Delayed('getitem-a682cb2f4c6944c259e30bb5cd76f044') of <class 'dask.delayed.Delayed'> to a fitness with weights [-1, -1]."
     ]
    }
   ],
   "source": [
    "%%time\n",
    "    \n",
    "pop, stats = main2()\n",
    "pop.sort(key=lambda x: x.fitness.values)\n",
    "\n",
    "print(stats)\n",
    "#print(\"Convergence: \", convergence(pop, optimal_front))\n",
    "#print(\"Diversity: \", diversity(pop, optimal_front[0], optimal_front[-1]))\n",
    "\n",
    "import matplotlib.pyplot as plt\n",
    " \n",
    "front = np.array([ind.fitness.values for ind in pop])\n",
    "#optimal_front = numpy.array(optimal_front)\n",
    "#plt.scatter(optimal_front[:,0], optimal_front[:,1], c=\"r\")\n",
    "plt.scatter(front[:,0], front[:,1], c=\"b\")\n",
    "plt.axis(\"tight\")\n",
    "plt.show()"
   ]
  },
  {
   "cell_type": "code",
   "execution_count": null,
   "metadata": {},
   "outputs": [],
   "source": [
    "# Recreate plots in Deb paper\n",
    "fig, ax = plt.subplots(figsize=(5,5))\n",
    "ax.scatter(front[:,0], front[:,1], color='blue')\n",
    "ax.set_xlim(X_RANGE)\n",
    "ax.set_ylim(Y_RANGE)\n",
    "ax.set_aspect('auto')\n",
    "ax.set_title(NAME)"
   ]
  },
  {
   "cell_type": "code",
   "execution_count": null,
   "metadata": {},
   "outputs": [],
   "source": [
    "[float(x) for x in pop[0]]"
   ]
  },
  {
   "cell_type": "code",
   "execution_count": null,
   "metadata": {},
   "outputs": [],
   "source": [
    "pop[0].fitness.info"
   ]
  },
  {
   "cell_type": "markdown",
   "metadata": {},
   "source": [
    "# Hypervolume"
   ]
  },
  {
   "cell_type": "code",
   "execution_count": null,
   "metadata": {},
   "outputs": [],
   "source": [
    "from deap.benchmarks.tools import diversity, convergence, hypervolume"
   ]
  },
  {
   "cell_type": "code",
   "execution_count": null,
   "metadata": {},
   "outputs": [],
   "source": [
    "print(\"Final population hypervolume is %f\" % hypervolume(pop, [1.0,5.0]))"
   ]
  },
  {
   "cell_type": "code",
   "execution_count": null,
   "metadata": {},
   "outputs": [],
   "source": []
  },
  {
   "cell_type": "code",
   "execution_count": null,
   "metadata": {},
   "outputs": [],
   "source": []
  }
 ],
 "metadata": {
  "kernelspec": {
   "display_name": "Python 3",
   "language": "python",
   "name": "python3"
  },
  "language_info": {
   "codemirror_mode": {
    "name": "ipython",
    "version": 3
   },
   "file_extension": ".py",
   "mimetype": "text/x-python",
   "name": "python",
   "nbconvert_exporter": "python",
   "pygments_lexer": "ipython3",
   "version": "3.7.6"
  }
 },
 "nbformat": 4,
 "nbformat_minor": 4
}
