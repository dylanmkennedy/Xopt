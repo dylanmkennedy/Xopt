{
 "cells": [
  {
   "cell_type": "code",
   "execution_count": null,
   "metadata": {},
   "outputs": [],
   "source": [
    "# Useful for debugging\n",
    "%load_ext autoreload\n",
    "%autoreload 2"
   ]
  },
  {
   "cell_type": "markdown",
   "metadata": {},
   "source": [
    "# Xopt class, Astra kekgun example\n",
    "\n",
    "This is the class method for running Xopt."
   ]
  },
  {
   "cell_type": "code",
   "execution_count": null,
   "metadata": {},
   "outputs": [],
   "source": [
    "from xopt import Xopt\n",
    "import os"
   ]
  },
  {
   "cell_type": "code",
   "execution_count": null,
   "metadata": {},
   "outputs": [],
   "source": [
    "# Make a proper input file.\n",
    "YAML = \"\"\"\n",
    "xopt: {output_path: temp}\n",
    "\n",
    "algorithm:\n",
    "  name: random_sampler\n",
    "  options: {chunk_size: 4, max_samples: 10}\n",
    "\n",
    "simulation:\n",
    "  name: astra_with_generator\n",
    "  evaluate: astra.evaluate.evaluate_astra_with_generator\n",
    "  options:\n",
    "    astra_input_file: templates/kekgun/kekgun.in\n",
    "    generator_input_file: templates/kekgun/dist004.in\n",
    "\n",
    "# Note that you can call another file in the top level group:\n",
    "vocs:\n",
    "    variables:\n",
    "      sig_x: [0.05, 1]\n",
    "      lt: [0.005, 0.07]\n",
    "      maxe(1): [20, 50]\n",
    "      phi(1): [-30, 30]\n",
    "      maxb(1): [0, 0.4]\n",
    "      maxe(2): [0, 32]\n",
    "      phi(2): [-180, 180]\n",
    "      maxb(2): [0, 0.3]\n",
    "      maxe(3): [0, 32]\n",
    "      maxe(4): [0, 32]\n",
    "      phi(3): [-45, 45]\n",
    "      phi(4): [-45, 45]\n",
    "      phi(6): [-45, 45]\n",
    "    constants:\n",
    "      ipart: 1000\n",
    "      lspch: true\n",
    "      zstop: 16.54\n",
    "\n",
    "    objectives:\n",
    "      end_core_emit_95percent_x: MINIMIZE\n",
    "      end_sigma_z: MINIMIZE\n",
    "    constraints:\n",
    "      end_sigma_z: [LESS_THAN, 0.0015]\n",
    "      end_core_emit_95percent_x: [LESS_THAN, 9.0e-07]\n",
    "      end_sigma_energy: [LESS_THAN, 200000.0]\n",
    "      end_higher_order_energy_spread: [LESS_THAN, 5000.0]\n",
    "      end_mean_kinetic_energy: [GREATER_THAN, 90000000.0]\n",
    "      end_n_particle_loss: [LESS_THAN, 1]\n",
    "    linked_variables: null\n",
    "\n",
    "\"\"\""
   ]
  },
  {
   "cell_type": "code",
   "execution_count": null,
   "metadata": {},
   "outputs": [],
   "source": [
    "!mkdir temp"
   ]
  },
  {
   "cell_type": "code",
   "execution_count": null,
   "metadata": {},
   "outputs": [],
   "source": [
    "# Create object\n",
    "X = Xopt(config=YAML)\n",
    "\n",
    "# Change some things to make it run faster\n",
    "print(X.vocs)\n",
    "X.vocs[\"constants\"][\"lspch\"] = True\n",
    "X.vocs[\"constants\"][\"ipart\"] = 10\n",
    "X.vocs[\"constants\"][\"zstop\"] = 0.2\n",
    "\n",
    "# Show config\n",
    "X"
   ]
  },
  {
   "cell_type": "code",
   "execution_count": null,
   "metadata": {},
   "outputs": [],
   "source": [
    "# Check random inputs\n",
    "X.random_inputs()"
   ]
  },
  {
   "cell_type": "code",
   "execution_count": null,
   "metadata": {},
   "outputs": [],
   "source": [
    "%%time\n",
    "# Do a random evaluate to check that everything will run\n",
    "output = X.random_evaluate()\n",
    "output"
   ]
  },
  {
   "cell_type": "code",
   "execution_count": null,
   "metadata": {},
   "outputs": [],
   "source": [
    "# These are the algorithm options\n",
    "X.algorithm[\"options\"]"
   ]
  },
  {
   "cell_type": "code",
   "execution_count": null,
   "metadata": {},
   "outputs": [],
   "source": [
    "# These are the options in the evaluate function\n",
    "X.simulation[\"options\"]"
   ]
  },
  {
   "cell_type": "markdown",
   "metadata": {},
   "source": [
    "# Run Sampler using processes or threads"
   ]
  },
  {
   "cell_type": "code",
   "execution_count": null,
   "metadata": {},
   "outputs": [],
   "source": [
    "from concurrent.futures import ProcessPoolExecutor as PoolExecutor\n",
    "\n",
    "# from concurrent.futures import ThreadPoolExecutor as PoolExecutor\n",
    "executor = PoolExecutor()"
   ]
  },
  {
   "cell_type": "code",
   "execution_count": null,
   "metadata": {},
   "outputs": [],
   "source": [
    "# Show config\n",
    "X.run(executor)"
   ]
  },
  {
   "cell_type": "code",
   "execution_count": null,
   "metadata": {},
   "outputs": [],
   "source": [
    "# Check for errors\n",
    "X.results[\"error\"]"
   ]
  },
  {
   "cell_type": "markdown",
   "metadata": {},
   "source": [
    "# Write this configuration"
   ]
  },
  {
   "cell_type": "code",
   "execution_count": null,
   "metadata": {},
   "outputs": [],
   "source": [
    "X.save(\"test.yaml\")"
   ]
  },
  {
   "cell_type": "code",
   "execution_count": null,
   "metadata": {},
   "outputs": [],
   "source": [
    "!cat test.yaml"
   ]
  },
  {
   "cell_type": "markdown",
   "metadata": {},
   "source": [
    "# Run with MPI"
   ]
  },
  {
   "cell_type": "code",
   "execution_count": null,
   "metadata": {},
   "outputs": [],
   "source": [
    "!mpirun -n 4 python -m mpi4py.futures -m xopt.mpi.run -vv test.yaml"
   ]
  },
  {
   "cell_type": "markdown",
   "metadata": {},
   "source": [
    "# Dask "
   ]
  },
  {
   "cell_type": "code",
   "execution_count": null,
   "metadata": {},
   "outputs": [],
   "source": [
    "from dask.distributed import Client\n",
    "\n",
    "executor = Client()\n",
    "# executor = Client(processes=True)\n",
    "executor"
   ]
  },
  {
   "cell_type": "code",
   "execution_count": null,
   "metadata": {},
   "outputs": [],
   "source": [
    "# Wait a few seconds for the Dask cluster to start\n",
    "from time import sleep\n",
    "\n",
    "sleep(5)"
   ]
  },
  {
   "cell_type": "code",
   "execution_count": null,
   "metadata": {},
   "outputs": [],
   "source": [
    "# Run some more\n",
    "X.run(executor)\n",
    "executor.close()"
   ]
  },
  {
   "cell_type": "code",
   "execution_count": null,
   "metadata": {},
   "outputs": [],
   "source": [
    "X.results[\"error\"]"
   ]
  },
  {
   "cell_type": "markdown",
   "metadata": {},
   "source": [
    "# Load into Pandas"
   ]
  },
  {
   "cell_type": "code",
   "execution_count": null,
   "metadata": {},
   "outputs": [],
   "source": [
    "import pandas as pd\n",
    "from glob import glob\n",
    "import json"
   ]
  },
  {
   "cell_type": "code",
   "execution_count": null,
   "metadata": {},
   "outputs": [],
   "source": [
    "jfiles = glob(\"temp/*json\")\n",
    "jfiles"
   ]
  },
  {
   "cell_type": "code",
   "execution_count": null,
   "metadata": {},
   "outputs": [],
   "source": [
    "# Load a file\n",
    "data = json.load(open(jfiles[0]))\n",
    "\n",
    "data[\"inputs\"]\n",
    "data[\"outputs\"]\n",
    "data[\"error\"]"
   ]
  },
  {
   "cell_type": "code",
   "execution_count": null,
   "metadata": {},
   "outputs": [],
   "source": [
    "inputs = pd.DataFrame(data[\"inputs\"])\n",
    "inputs"
   ]
  },
  {
   "cell_type": "code",
   "execution_count": null,
   "metadata": {},
   "outputs": [],
   "source": [
    "outputs = pd.DataFrame(data[\"outputs\"])\n",
    "outputs"
   ]
  },
  {
   "cell_type": "markdown",
   "metadata": {},
   "source": [
    "# Cleanup"
   ]
  },
  {
   "cell_type": "code",
   "execution_count": null,
   "metadata": {
    "pycharm": {
     "name": "#%%\n"
    }
   },
   "outputs": [],
   "source": [
    "import shutil\n",
    "\n",
    "os.chmod(\"dask-worker-space/\", 0o777)\n",
    "shutil.rmtree(\"dask-worker-space/\")\n",
    "shutil.rmtree(\"temp/\")\n",
    "os.chmod(\"test.yaml\", 0o777)\n",
    "os.remove(\"test.yaml\")"
   ]
  }
 ],
 "metadata": {
  "kernelspec": {
   "display_name": "Python 3 (ipykernel)",
   "language": "python",
   "name": "python3"
  },
  "language_info": {
   "codemirror_mode": {
    "name": "ipython",
    "version": 3
   },
   "file_extension": ".py",
   "mimetype": "text/x-python",
   "name": "python",
   "nbconvert_exporter": "python",
   "pygments_lexer": "ipython3",
   "version": "3.9.7"
  }
 },
 "nbformat": 4,
 "nbformat_minor": 4
}
