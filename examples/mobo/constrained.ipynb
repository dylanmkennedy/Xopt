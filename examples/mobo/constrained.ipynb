{
 "cells": [
  {
   "cell_type": "code",
   "execution_count": 1,
   "id": "4a9be9bf-b3c5-468d-84f6-c7b8cf25806e",
   "metadata": {},
   "outputs": [],
   "source": [
    "# main function\n",
    "import numpy as np\n",
    "import torch\n",
    "import matplotlib.pyplot as plt\n",
    "\n",
    "from xopt.mobo import mobo\n",
    "\n",
    "# test function\n",
    "from xopt.evaluators import test_TNK\n"
   ]
  },
  {
   "cell_type": "code",
   "execution_count": null,
   "id": "d738f30f-6946-444f-a432-f29ce4eb5ee3",
   "metadata": {},
   "outputs": [
    {
     "name": "stdout",
     "output_type": "stream",
     "text": [
      "{'name': 'TNK_test', 'description': 'Constrainted test function TNK. See Table V in https://www.iitk.ac.in/kangal/Deb_NSGA-II.pdf', 'simulation': 'test_TNK', 'variables': {'x1': [0, 3.14159], 'x2': [0, 3.14159]}, 'objectives': {'y1': 'MINIMIZE', 'y2': 'MINIMIZE'}, 'constraints': {'c1': ['GREATER_THAN', 0], 'c2': ['LESS_THAN', 0.5]}, 'constants': {'a': 'dummy_constant'}, 'linked_variables': {'x9': 'x1'}}\n",
      "n_feas: 0\n",
      "n_feas: 1\n",
      "n_feas: 1\n",
      "n_feas: 2\n",
      "n_feas: 2\n",
      "n_feas: 3\n",
      "n_feas: 4\n",
      "n_feas: 5\n",
      "n_feas: 6\n",
      "n_feas: 6\n",
      "n_feas: 7\n",
      "n_feas: 7\n",
      "n_feas: 8\n",
      "n_feas: 8\n",
      "n_feas: 9\n",
      "n_feas: 10\n",
      "n_feas: 11\n",
      "n_feas: 11\n",
      "n_feas: 12\n",
      "n_feas: 12\n",
      "n_feas: 13\n",
      "n_feas: 13\n",
      "n_feas: 13\n",
      "n_feas: 14\n",
      "n_feas: 14\n",
      "n_feas: 15\n",
      "n_feas: 16\n",
      "n_feas: 17\n",
      "n_feas: 17\n",
      "n_feas: 18\n",
      "n_feas: 19\n",
      "n_feas: 19\n",
      "n_feas: 20\n",
      "n_feas: 21\n",
      "n_feas: 21\n",
      "n_feas: 21\n",
      "n_feas: 21\n"
     ]
    }
   ],
   "source": [
    "# Get VOCS\n",
    "VOCS = test_TNK.VOCS\n",
    "\n",
    "# add reference point\n",
    "ref = torch.tensor((1.4, 1.4))\n",
    "\n",
    "print(VOCS)\n",
    "# Get evaluate function\n",
    "EVALUATE = test_TNK.evaluate_TNK\n",
    "\n",
    "# Run\n",
    "init_x = torch.tensor([[0.9, 0.9], [0.6, 0.6]])\n",
    "train_x, train_y, train_c = mobo(VOCS, EVALUATE, ref,\n",
    "                                 n_initial_samples=10,\n",
    "                                 mc_samples=128, initial_x=None,\n",
    "                                 use_gpu=False,\n",
    "                                 n_steps=50, verbose=False, plot_acq=True)"
   ]
  },
  {
   "cell_type": "code",
   "execution_count": null,
   "id": "7d7b9312-17fe-438c-8120-c0fc458b6a3c",
   "metadata": {},
   "outputs": [],
   "source": [
    "fig, ax = plt.subplots()\n",
    "ax.plot(train_y[:, 0], train_y[:, 1], '.')\n",
    "\n",
    "plt.show()"
   ]
  },
  {
   "cell_type": "code",
   "execution_count": null,
   "id": "e9540a37-a0e8-4eff-a5ff-f11c9e68b06c",
   "metadata": {},
   "outputs": [],
   "source": []
  }
 ],
 "metadata": {
  "kernelspec": {
   "display_name": "xopt",
   "language": "python",
   "name": "xopt"
  },
  "language_info": {
   "codemirror_mode": {
    "name": "ipython",
    "version": 3
   },
   "file_extension": ".py",
   "mimetype": "text/x-python",
   "name": "python",
   "nbconvert_exporter": "python",
   "pygments_lexer": "ipython3",
   "version": "3.9.6"
  }
 },
 "nbformat": 4,
 "nbformat_minor": 5
}
