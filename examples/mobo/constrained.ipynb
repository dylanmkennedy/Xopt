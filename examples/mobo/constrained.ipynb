{
 "cells": [
  {
   "cell_type": "markdown",
   "id": "0cc7de35-4dcf-4079-8a64-07b12c33a8c7",
   "metadata": {},
   "source": [
    "## Constrained multiobjective optimization using MOBO\n"
   ]
  },
  {
   "cell_type": "code",
   "execution_count": 4,
   "id": "4a9be9bf-b3c5-468d-84f6-c7b8cf25806e",
   "metadata": {},
   "outputs": [
    {
     "data": {
      "text/plain": [
       "\u001b[1;31mSignature:\u001b[0m \u001b[0mmobo\u001b[0m\u001b[1;33m(\u001b[0m\u001b[0mconfig\u001b[0m\u001b[1;33m,\u001b[0m \u001b[0mevaluate_f\u001b[0m\u001b[1;33m,\u001b[0m \u001b[0mref\u001b[0m\u001b[1;33m=\u001b[0m\u001b[1;32mNone\u001b[0m\u001b[1;33m,\u001b[0m \u001b[1;33m**\u001b[0m\u001b[0mkwargs\u001b[0m\u001b[1;33m)\u001b[0m\u001b[1;33m\u001b[0m\u001b[1;33m\u001b[0m\u001b[0m\n",
       "\u001b[1;31mDocstring:\u001b[0m\n",
       "Constrained Multi-objective Bayesian Optimization\n",
       "\n",
       "Parameters\n",
       "----------\n",
       "config : dict\n",
       "    Varabiles, objectives, constraints and statics dictionary, see xopt documentation for detials\n",
       "\n",
       "evaluate_f : callable\n",
       "    Returns dict of outputs after problem has been evaluated\n",
       "\n",
       "\n",
       "Optional kwargs arguments\n",
       "--------\n",
       "n_steps : int, default: 30\n",
       "    Number of optimization steps to take\n",
       "\n",
       "executor : futures.Executor, default: None\n",
       "    Executor object to evaluate problem using multiple threads or processors\n",
       "\n",
       "n_initial_samples : int, defualt: 5\n",
       "    Number of initial sobel_random samples to take to start optimization. Ignored if initial_x is not None.\n",
       "\n",
       "custom_model : callable, optional\n",
       "    Function in the form f(train_x, train_y) that returns a botorch model instance\n",
       "\n",
       "output_path : str, optional\n",
       "    Location to save optimization data and models.\n",
       "\n",
       "verbose : bool, default: False\n",
       "    Specify if the algorithm should print optimization progress.\n",
       "\n",
       "restart_data_file : str, optional\n",
       "    Pickled pandas data frame object containing initial data for restarting optimization.\n",
       "\n",
       "initial_x : torch.Tensor, optional\n",
       "    Initial input points to sample evaluator at, causes sampling to ignore n_initial_samples\n",
       "\n",
       "use_gpu : bool, False\n",
       "    Specify if the algorithm should use GPU resources if available. Only use on large problems!\n",
       "\n",
       "eval_args : list, []\n",
       "    List of positional arguments for evaluation function\n",
       "\n",
       "Returns\n",
       "-------\n",
       "results : dict\n",
       "    Dictionary object containing optimization points + other info\n",
       "\u001b[1;31mFile:\u001b[0m      c:\\users\\ryan roussel\\documents\\github\\xopt\\xopt\\mobo.py\n",
       "\u001b[1;31mType:\u001b[0m      function\n"
      ]
     },
     "metadata": {},
     "output_type": "display_data"
    }
   ],
   "source": [
    "# main function\n",
    "import numpy as np\n",
    "import torch\n",
    "import matplotlib.pyplot as plt\n",
    "\n",
    "from xopt.mobo import mobo\n",
    "\n",
    "# test function\n",
    "from xopt.evaluators import test_TNK\n",
    "?mobo\n"
   ]
  },
  {
   "cell_type": "code",
   "execution_count": 2,
   "id": "d738f30f-6946-444f-a432-f29ce4eb5ee3",
   "metadata": {},
   "outputs": [
    {
     "name": "stdout",
     "output_type": "stream",
     "text": [
      "{'name': 'TNK_test', 'description': 'Constrainted test function TNK. See Table V in https://www.iitk.ac.in/kangal/Deb_NSGA-II.pdf', 'simulation': 'test_TNK', 'variables': {'x1': [0, 3.14159], 'x2': [0, 3.14159]}, 'objectives': {'y1': 'MINIMIZE', 'y2': 'MINIMIZE'}, 'constraints': {'c1': ['GREATER_THAN', 0], 'c2': ['LESS_THAN', 0.5]}, 'constants': {'a': 'dummy_constant'}, 'linked_variables': {'x9': 'x1'}}\n",
      "No executor given. Running in serial mode.\n",
      "n_feas: 1\n",
      "tensor([[0.7081, 0.1125]], dtype=torch.float64)\n",
      "n_feas: 1\n",
      "tensor([[0.2336, 0.0000]], dtype=torch.float64)\n",
      "n_feas: 1\n",
      "tensor([[0.9566, 0.0000]], dtype=torch.float64)\n",
      "n_feas: 1\n",
      "tensor([[1.0756, 0.2269]], dtype=torch.float64)\n",
      "n_feas: 2\n",
      "tensor([[0.1801, 0.6828]], dtype=torch.float64)\n",
      "n_feas: 2\n",
      "tensor([[0.3046, 0.9666]], dtype=torch.float64)\n",
      "n_feas: 3\n",
      "tensor([[1.0384, 0.0750]], dtype=torch.float64)\n",
      "n_feas: 4\n",
      "tensor([[0.8343, 0.6140]], dtype=torch.float64)\n",
      "n_feas: 5\n",
      "tensor([[0.6328, 0.7687]], dtype=torch.float64)\n",
      "n_feas: 5\n",
      "tensor([[0.1043, 1.0291]], dtype=torch.float64)\n",
      "n_feas: 6\n",
      "tensor([[0.6570, 0.7845]], dtype=torch.float64)\n",
      "n_feas: 7\n",
      "tensor([[0.9320, 0.3301]], dtype=torch.float64)\n",
      "n_feas: 7\n",
      "tensor([[0.9434, 0.3898]], dtype=torch.float64)\n",
      "n_feas: 7\n",
      "tensor([[1.0204, 0.0332]], dtype=torch.float64)\n",
      "n_feas: 7\n",
      "tensor([[0.9600, 0.1892]], dtype=torch.float64)\n",
      "n_feas: 8\n",
      "tensor([[1.0271, 0.0382]], dtype=torch.float64)\n",
      "n_feas: 8\n",
      "tensor([[1.0314, 0.0421]], dtype=torch.float64)\n",
      "n_feas: 8\n",
      "tensor([[1.0384, 0.0510]], dtype=torch.float64)\n",
      "n_feas: 9\n",
      "tensor([[0.7315, 0.6451]], dtype=torch.float64)\n",
      "n_feas: 9\n",
      "tensor([[0.0168, 0.9873]], dtype=torch.float64)\n",
      "dict_keys(['variables', 'objectives', 'constraints', 'constraint_status', 'feasibility', 'model'])\n"
     ]
    }
   ],
   "source": [
    "# Get VOCS\n",
    "VOCS = test_TNK.VOCS\n",
    "\n",
    "# add reference point\n",
    "ref = [1.4, 1.4]\n",
    "\n",
    "print(VOCS)\n",
    "# Get evaluate function\n",
    "EVALUATE = test_TNK.evaluate_TNK\n",
    "\n",
    "\n",
    "# Run the optimization\n",
    "results = mobo(VOCS, EVALUATE, \n",
    "               ref = ref,\n",
    "               n_initial_samples=5,                   ## Specify number of initial random samples\n",
    "               initial_x=None,                        ## Specify explicit initial sample locations (overwrites n_initial_samples)\n",
    "               use_gpu=False,                         ## Use GPU\n",
    "               n_steps=20,                            ## number of optimization step\n",
    "               # restart_data_file = 'results.json',  ## restart optimization file\n",
    "               # batch_size = 5,                      ## Specify batched mobo\n",
    "               # custom_model = myCustomModel,        ## Specify custom model creation function (see examples/bayes_exp/serial_nans.ipynb)\n",
    "               verbose=True)\n",
    "\n",
    "print(results.keys())"
   ]
  },
  {
   "cell_type": "code",
   "execution_count": 3,
   "id": "7d7b9312-17fe-438c-8120-c0fc458b6a3c",
   "metadata": {},
   "outputs": [
    {
     "name": "stdout",
     "output_type": "stream",
     "text": [
      "['variables', 'objectives', 'constraints', 'constraint_status', 'feasibility', 'model']\n"
     ]
    },
    {
     "data": {
      "image/png": "[encoded data removed]",
      "text/plain": [
       "<Figure size 432x288 with 1 Axes>"
      ]
     },
     "metadata": {
      "needs_background": "light"
     },
     "output_type": "display_data"
    }
   ],
   "source": [
    "fig, ax = plt.subplots()\n",
    "print(list(results.keys()))\n",
    "ax.plot(results['objectives'][:, 0], results['objectives'][:, 1], '.')\n",
    "ax.set_ylabel('$f_2$')\n",
    "ax.set_xlabel('$f_1$')\n",
    "plt.show()"
   ]
  },
  {
   "cell_type": "code",
   "execution_count": null,
   "id": "c4a97d81-1c8f-45c9-8801-c901bdbce636",
   "metadata": {},
   "outputs": [],
   "source": []
  }
 ],
 "metadata": {
  "kernelspec": {
   "display_name": "xopt",
   "language": "python",
   "name": "xopt"
  },
  "language_info": {
   "codemirror_mode": {
    "name": "ipython",
    "version": 3
   },
   "file_extension": ".py",
   "mimetype": "text/x-python",
   "name": "python",
   "nbconvert_exporter": "python",
   "pygments_lexer": "ipython3",
   "version": "3.9.6"
  }
 },
 "nbformat": 4,
 "nbformat_minor": 5
}
