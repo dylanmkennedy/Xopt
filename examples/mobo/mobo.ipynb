{
 "cells": [
  {
   "cell_type": "markdown",
   "metadata": {},
   "source": [
    "\n",
    "# Multi-objective Bayesian Optimization\n",
    "\n",
    "\n",
    "TNK function\n",
    "$n=2$ variables:\n",
    "$x_i \\in [0, \\pi], i=1,2$\n",
    "\n",
    "Objectives:\n",
    "- $f_i(x) = x_i$\n",
    "\n",
    "Constraints:\n",
    "- $g_1(x) = -x_1^2 -x_2^2 + 1 + 0.1 \\cos\\left(16 \\arctan \\frac{x_1}{x_2}\\right) \\le 0$\n",
    "- $g_2(x) = (x_1 - 1/2)^2 + (x_2-1/2)^2 \\le 0.5$"
   ]
  },
  {
   "cell_type": "code",
   "execution_count": 1,
   "metadata": {},
   "outputs": [],
   "source": [
    "%reset -f\n",
    "import numpy as np\n",
    "\n",
    "import torch\n",
    "from xopt import XoptBase, Evaluator\n",
    "from xopt.generators.bayesian import MOBOGenerator\n",
    "from xopt.resources.test_functions.tnk import evaluate_TNK, vocs\n",
    "\n",
    "evaluator = Evaluator(evaluate_TNK)\n",
    "\n",
    "generator = MOBOGenerator(vocs, n_initial=10, proximal_lengthscales=[1.0,1.0])\n",
    "xopt = XoptBase(generator, evaluator, vocs)\n",
    "xopt.step()"
   ]
  },
  {
   "cell_type": "code",
   "execution_count": 2,
   "outputs": [
    {
     "name": "stdout",
     "output_type": "stream",
     "text": [
      "step 0\n",
      "step 1\n",
      "step 2\n",
      "step 3\n",
      "step 4\n",
      "step 5\n",
      "step 6\n",
      "step 7\n",
      "step 8\n",
      "step 9\n",
      "step 10\n",
      "step 11\n",
      "step 12\n",
      "step 13\n",
      "step 14\n",
      "step 15\n",
      "step 16\n",
      "step 17\n",
      "step 18\n",
      "step 19\n",
      "step 20\n",
      "step 21\n",
      "step 22\n",
      "step 23\n",
      "step 24\n",
      "step 25\n",
      "step 26\n",
      "step 27\n",
      "step 28\n",
      "step 29\n",
      "step 30\n",
      "step 31\n",
      "step 32\n",
      "step 33\n",
      "step 34\n",
      "step 35\n",
      "step 36\n",
      "step 37\n",
      "step 38\n",
      "step 39\n",
      "step 40\n",
      "step 41\n",
      "step 42\n",
      "step 43\n",
      "step 44\n",
      "step 45\n",
      "step 46\n",
      "step 47\n",
      "step 48\n",
      "step 49\n",
      "step 50\n",
      "step 51\n",
      "step 52\n",
      "step 53\n",
      "step 54\n",
      "step 55\n",
      "step 56\n",
      "step 57\n",
      "step 58\n",
      "step 59\n",
      "step 60\n",
      "step 61\n",
      "step 62\n",
      "step 63\n",
      "step 64\n",
      "step 65\n",
      "step 66\n",
      "step 67\n",
      "step 68\n",
      "step 69\n",
      "step 70\n",
      "step 71\n",
      "step 72\n",
      "step 73\n",
      "step 74\n",
      "step 75\n",
      "step 76\n",
      "step 77\n",
      "step 78\n",
      "step 79\n",
      "step 80\n",
      "step 81\n",
      "step 82\n",
      "step 83\n",
      "step 84\n",
      "step 85\n",
      "step 86\n",
      "step 87\n",
      "step 88\n",
      "step 89\n",
      "step 90\n",
      "step 91\n",
      "step 92\n",
      "step 93\n",
      "step 94\n",
      "step 95\n",
      "step 96\n",
      "step 97\n",
      "step 98\n",
      "step 99\n"
     ]
    }
   ],
   "source": [
    "for i in range(100):\n",
    "    print(f'step {i}')\n",
    "    xopt.step()"
   ],
   "metadata": {
    "collapsed": false,
    "pycharm": {
     "name": "#%%\n"
    }
   }
  },
  {
   "cell_type": "code",
   "execution_count": 3,
   "metadata": {
    "pycharm": {
     "name": "#%%\n"
    }
   },
   "outputs": [
    {
     "name": "stderr",
     "output_type": "stream",
     "text": [
      "C:\\ProgramData\\Miniconda3\\envs\\xopt\\lib\\site-packages\\torch\\functional.py:445: UserWarning: torch.meshgrid: in an upcoming release, it will be required to pass the indexing argument. (Triggered internally at  ..\\aten\\src\\ATen\\native\\TensorShape.cpp:2157.)\n",
      "  return _VF.meshgrid(tensors, **kwargs)  # type: ignore[attr-defined]\n"
     ]
    },
    {
     "data": {
      "text/plain": "<Figure size 432x288 with 2 Axes>",
      "image/png": "[encoded data removed]"
     },
     "metadata": {
      "needs_background": "light"
     },
     "output_type": "display_data"
    },
    {
     "data": {
      "text/plain": "<Figure size 432x288 with 2 Axes>",
      "image/png": "[encoded data removed]"
     },
     "metadata": {
      "needs_background": "light"
     },
     "output_type": "display_data"
    }
   ],
   "source": [
    "from xopt.generators.bayesian.utils import feasibility\n",
    "from matplotlib import pyplot as plt# plot model predictions\n",
    "bounds = generator.get_bounds()\n",
    "model = generator.get_model()\n",
    "history = xopt.history\n",
    "\n",
    "n = 100\n",
    "x = torch.linspace(*bounds.T[0],n)\n",
    "y = torch.linspace(*bounds.T[1],n)\n",
    "xx,yy = torch.meshgrid(x,y)\n",
    "pts = torch.hstack([ele.reshape(-1,1) for ele in (xx,yy)]).double()\n",
    "\n",
    "with torch.no_grad():\n",
    "    acq_pts = pts.unsqueeze(1)\n",
    "    acq = xopt.generator.get_acquisition(model)(acq_pts)\n",
    "\n",
    "    fig, ax = plt.subplots()\n",
    "    c = ax.pcolor(xx,yy,acq.reshape(n,n))\n",
    "    fig.colorbar(c)\n",
    "    ax.set_title('Acquisition function')\n",
    "\n",
    "    ax.plot(*history[[\"x1\",\"x2\"]].to_numpy().T,'.C1')\n",
    "\n",
    "    feas = feasibility(\n",
    "        pts.unsqueeze(1),\n",
    "        model,\n",
    "        generator.options.acq.sampler,\n",
    "        vocs\n",
    "    ).flatten()\n",
    "\n",
    "fig2, ax2 = plt.subplots()\n",
    "c2 = ax2.pcolor(xx,yy,feas.reshape(n,n))\n",
    "fig2.colorbar(c2)\n",
    "ax2.set_title('Feasibility')\n",
    "\n",
    "ax.plot(*history[[\"x1\",\"x2\"]].to_numpy().T,'.C1')\n",
    "\n",
    "\n",
    "theta = np.linspace(0,np.pi/2)\n",
    "r = np.sqrt(1 + 0.1*np.cos(16*theta))\n",
    "x_1 = r*np.sin(theta)\n",
    "x_2_lower = r*np.cos(theta)\n",
    "x_2_upper = (0.5 - (x_1 - 0.5)**2)**0.5 + 0.5\n",
    "\n",
    "z = np.zeros_like(x_1)\n",
    "ax.plot(x_1, x_2_lower,'r')\n",
    "ax2.plot(x_1, x_2_lower,'r')\n",
    "ax2.plot(*history[[\"x1\",\"x2\"]].to_numpy().T,'.C1')\n",
    "ax2.set_xlim(0, 2)\n",
    "ax2.set_ylim(0, 2)\n",
    "ax2.set_aspect('equal')"
   ]
  },
  {
   "cell_type": "code",
   "execution_count": 8,
   "outputs": [
    {
     "data": {
      "text/plain": "<Figure size 432x288 with 1 Axes>",
      "image/png": "[encoded data removed]"
     },
     "metadata": {
      "needs_background": "light"
     },
     "output_type": "display_data"
    }
   ],
   "source": [
    "fig,ax = plt.subplots()\n",
    "\n",
    "theta = np.linspace(0,np.pi/2)\n",
    "r = np.sqrt(1 + 0.1*np.cos(16*theta))\n",
    "x_1 = r*np.sin(theta)\n",
    "x_2_lower = r*np.cos(theta)\n",
    "x_2_upper = (0.5 - (x_1 - 0.5)**2)**0.5 + 0.5\n",
    "\n",
    "z = np.zeros_like(x_1)\n",
    "\n",
    "#ax2.plot(x_1, x_2_lower,'r')\n",
    "ax.fill_between(x_1, z, x_2_lower, fc='white')\n",
    "circle = plt.Circle((0.5, 0.5), 0.5**0.5,\n",
    "                    color='r', alpha=0.25, zorder=0,\n",
    "                    label='Valid Region')\n",
    "ax.add_patch(circle)\n",
    "ax.plot(*history[[\"x1\",\"x2\"]][history[\"feas\"]].to_numpy().T,'.C1')\n",
    "ax.plot(*history[[\"x1\",\"x2\"]][~history[\"feas\"]].to_numpy().T,'.C2')\n",
    "\n",
    "ax.set_xlim(0, 2)\n",
    "ax.set_ylim(0, 2)\n",
    "ax.set_aspect('equal')"
   ],
   "metadata": {
    "collapsed": false,
    "pycharm": {
     "name": "#%%\n"
    }
   }
  },
  {
   "cell_type": "code",
   "execution_count": 6,
   "outputs": [
    {
     "data": {
      "text/plain": "           x1        x2        y1        y2         c1         c2 some_array  \\\n0    1.384457  0.617970  1.384457  0.617970   1.207879   0.796181  [1, 2, 3]   \n1    0.368505  0.602725  0.368505  0.602725  -0.420995   0.027843  [1, 2, 3]   \n2    2.828808  2.880014  2.828808  2.880014  15.197666  11.087815  [1, 2, 3]   \n3    2.482495  1.467231  2.482495  1.467231   7.378953   4.865821  [1, 2, 3]   \n4    2.040015  1.057399  2.040015  1.057399   4.259620   2.682340  [1, 2, 3]   \n..        ...       ...       ...       ...        ...        ...        ...   \n105  0.304492  0.754484  0.304492  0.754484  -0.436977   0.102985  [1, 2, 3]   \n106  0.117655  0.528062  0.117655  0.528062  -0.613930   0.146975  [1, 2, 3]   \n107  0.555645  0.798971  0.555645  0.798971   0.042692   0.092480  [1, 2, 3]   \n108  0.485161  0.874168  0.485161  0.874168   0.024560   0.140222  [1, 2, 3]   \n109  2.817157  2.621446  2.817157  2.621446  13.724463   9.869751  [1, 2, 3]   \n\n     done  c1_feas  c2_feas   feas  \n0    True     True    False  False  \n1    True    False     True  False  \n2    True     True    False  False  \n3    True     True    False  False  \n4    True     True    False  False  \n..    ...      ...      ...    ...  \n105  True    False     True  False  \n106  True    False     True  False  \n107  True     True     True   True  \n108  True     True     True   True  \n109  True     True    False  False  \n\n[110 rows x 11 columns]",
      "text/html": "<div>\n<style scoped>\n    .dataframe tbody tr th:only-of-type {\n        vertical-align: middle;\n    }\n\n    .dataframe tbody tr th {\n        vertical-align: top;\n    }\n\n    .dataframe thead th {\n        text-align: right;\n    }\n</style>\n<table border=\"1\" class=\"dataframe\">\n  <thead>\n    <tr style=\"text-align: right;\">\n      <th></th>\n      <th>x1</th>\n      <th>x2</th>\n      <th>y1</th>\n      <th>y2</th>\n      <th>c1</th>\n      <th>c2</th>\n      <th>some_array</th>\n      <th>done</th>\n      <th>c1_feas</th>\n      <th>c2_feas</th>\n      <th>feas</th>\n    </tr>\n  </thead>\n  <tbody>\n    <tr>\n      <th>0</th>\n      <td>1.384457</td>\n      <td>0.617970</td>\n      <td>1.384457</td>\n      <td>0.617970</td>\n      <td>1.207879</td>\n      <td>0.796181</td>\n      <td>[1, 2, 3]</td>\n      <td>True</td>\n      <td>True</td>\n      <td>False</td>\n      <td>False</td>\n    </tr>\n    <tr>\n      <th>1</th>\n      <td>0.368505</td>\n      <td>0.602725</td>\n      <td>0.368505</td>\n      <td>0.602725</td>\n      <td>-0.420995</td>\n      <td>0.027843</td>\n      <td>[1, 2, 3]</td>\n      <td>True</td>\n      <td>False</td>\n      <td>True</td>\n      <td>False</td>\n    </tr>\n    <tr>\n      <th>2</th>\n      <td>2.828808</td>\n      <td>2.880014</td>\n      <td>2.828808</td>\n      <td>2.880014</td>\n      <td>15.197666</td>\n      <td>11.087815</td>\n      <td>[1, 2, 3]</td>\n      <td>True</td>\n      <td>True</td>\n      <td>False</td>\n      <td>False</td>\n    </tr>\n    <tr>\n      <th>3</th>\n      <td>2.482495</td>\n      <td>1.467231</td>\n      <td>2.482495</td>\n      <td>1.467231</td>\n      <td>7.378953</td>\n      <td>4.865821</td>\n      <td>[1, 2, 3]</td>\n      <td>True</td>\n      <td>True</td>\n      <td>False</td>\n      <td>False</td>\n    </tr>\n    <tr>\n      <th>4</th>\n      <td>2.040015</td>\n      <td>1.057399</td>\n      <td>2.040015</td>\n      <td>1.057399</td>\n      <td>4.259620</td>\n      <td>2.682340</td>\n      <td>[1, 2, 3]</td>\n      <td>True</td>\n      <td>True</td>\n      <td>False</td>\n      <td>False</td>\n    </tr>\n    <tr>\n      <th>...</th>\n      <td>...</td>\n      <td>...</td>\n      <td>...</td>\n      <td>...</td>\n      <td>...</td>\n      <td>...</td>\n      <td>...</td>\n      <td>...</td>\n      <td>...</td>\n      <td>...</td>\n      <td>...</td>\n    </tr>\n    <tr>\n      <th>105</th>\n      <td>0.304492</td>\n      <td>0.754484</td>\n      <td>0.304492</td>\n      <td>0.754484</td>\n      <td>-0.436977</td>\n      <td>0.102985</td>\n      <td>[1, 2, 3]</td>\n      <td>True</td>\n      <td>False</td>\n      <td>True</td>\n      <td>False</td>\n    </tr>\n    <tr>\n      <th>106</th>\n      <td>0.117655</td>\n      <td>0.528062</td>\n      <td>0.117655</td>\n      <td>0.528062</td>\n      <td>-0.613930</td>\n      <td>0.146975</td>\n      <td>[1, 2, 3]</td>\n      <td>True</td>\n      <td>False</td>\n      <td>True</td>\n      <td>False</td>\n    </tr>\n    <tr>\n      <th>107</th>\n      <td>0.555645</td>\n      <td>0.798971</td>\n      <td>0.555645</td>\n      <td>0.798971</td>\n      <td>0.042692</td>\n      <td>0.092480</td>\n      <td>[1, 2, 3]</td>\n      <td>True</td>\n      <td>True</td>\n      <td>True</td>\n      <td>True</td>\n    </tr>\n    <tr>\n      <th>108</th>\n      <td>0.485161</td>\n      <td>0.874168</td>\n      <td>0.485161</td>\n      <td>0.874168</td>\n      <td>0.024560</td>\n      <td>0.140222</td>\n      <td>[1, 2, 3]</td>\n      <td>True</td>\n      <td>True</td>\n      <td>True</td>\n      <td>True</td>\n    </tr>\n    <tr>\n      <th>109</th>\n      <td>2.817157</td>\n      <td>2.621446</td>\n      <td>2.817157</td>\n      <td>2.621446</td>\n      <td>13.724463</td>\n      <td>9.869751</td>\n      <td>[1, 2, 3]</td>\n      <td>True</td>\n      <td>True</td>\n      <td>False</td>\n      <td>False</td>\n    </tr>\n  </tbody>\n</table>\n<p>110 rows × 11 columns</p>\n</div>"
     },
     "execution_count": 6,
     "metadata": {},
     "output_type": "execute_result"
    }
   ],
   "source": [
    "xopt.history\n"
   ],
   "metadata": {
    "collapsed": false,
    "pycharm": {
     "name": "#%%\n"
    }
   }
  },
  {
   "cell_type": "code",
   "execution_count": 5,
   "outputs": [],
   "source": [],
   "metadata": {
    "collapsed": false,
    "pycharm": {
     "name": "#%%\n"
    }
   }
  }
 ],
 "metadata": {
  "kernelspec": {
   "name": "xopt",
   "language": "python",
   "display_name": "xopt"
  },
  "language_info": {
   "codemirror_mode": {
    "name": "ipython",
    "version": 3
   },
   "file_extension": ".py",
   "mimetype": "text/x-python",
   "name": "python",
   "nbconvert_exporter": "python",
   "pygments_lexer": "ipython3",
   "version": "3.9.7"
  }
 },
 "nbformat": 4,
 "nbformat_minor": 4
}