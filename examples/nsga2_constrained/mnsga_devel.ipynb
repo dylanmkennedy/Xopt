{
 "cells": [
  {
   "cell_type": "code",
   "execution_count": null,
   "metadata": {},
   "outputs": [],
   "source": [
    "# Useful for debugging\n",
    "%load_ext autoreload\n",
    "%autoreload 2\n",
    "#%matplotlib inline"
   ]
  },
  {
   "cell_type": "code",
   "execution_count": 2,
   "metadata": {},
   "outputs": [],
   "source": [
    "from xopt import nsga2, creator\n",
    "from xopt.cnsga import *\n",
    "\n",
    "import array\n",
    "import time\n",
    "from deap import base, tools,  algorithms\n",
    "from deap.benchmarks.tools import diversity, convergence, hypervolume\n",
    "import numpy as np\n",
    "\n",
    "import random"
   ]
  },
  {
   "cell_type": "markdown",
   "metadata": {},
   "source": [
    "# Test Problems"
   ]
  },
  {
   "cell_type": "code",
   "execution_count": 3,
   "metadata": {},
   "outputs": [],
   "source": [
    "NAME = 'TNK'\n",
    "BOUND_LOW, BOUND_UP = [0.0, 0.0], [3.14159, 3.14159]  \n",
    "\n",
    "\n",
    "X_RANGE = [0, 1.4]\n",
    "Y_RANGE = [0, 1.4]\n",
    "\n",
    "# Pure number version\n",
    "def TNK(individual):    \n",
    "    x1=individual[0]\n",
    "    x2=individual[1]\n",
    "    objectives =  (x1, x2)\n",
    "    constraints = (x1**2+x2**2-1.0 - 0.1*np.cos(16*np.arctan2(x1, x2)), 0.5-(x1-0.5)**2-(x2-0.5)**2 )\n",
    "    return objectives, constraints\n",
    "\n",
    "# labeled version\n",
    "def evaluate_TNK(inputs):\n",
    "    \n",
    "    info = {'some':'info', 'about':['the', 'run']}\n",
    "    ind = [inputs['x1'], inputs['x2']]\n",
    "    objectives, constraints = TNK(ind)    \n",
    "    outputs = {'y1':objectives[0], 'y2':objectives[1], 'c1':constraints[0], 'c2':constraints[1]}\n",
    "    \n",
    "    return outputs\n",
    "\n",
    "VOCS = {\n",
    "    'name':'TNK_test',\n",
    "    \n",
    "    'variables': {\n",
    "        'x1':[0, 3.14159],\n",
    "        'x2':[0, 3.14159]\n",
    "    },\n",
    "    'objectives':{\n",
    "        'y1':'MINIMIZE',\n",
    "        'y2':'MINIMIZE'\n",
    "        \n",
    "    },\n",
    "    'constraints':{\n",
    "        'c1': ['GREATER_THAN', 0],\n",
    "        'c2': ['GREATER_THAN', 0]\n",
    "        \n",
    "    },\n",
    "    'constants':{'a':'dummy_constant'},\n",
    "    'linked_variables':{'x9':'x1'}\n",
    "    \n",
    "    \n",
    "}\n",
    "\n",
    "\n",
    "\n"
   ]
  },
  {
   "cell_type": "markdown",
   "metadata": {},
   "source": [
    "# Setup Toolbox"
   ]
  },
  {
   "cell_type": "code",
   "execution_count": 4,
   "metadata": {},
   "outputs": [],
   "source": [
    "toolbox = cnsga_toolbox(VOCS)"
   ]
  },
  {
   "cell_type": "code",
   "execution_count": 5,
   "metadata": {},
   "outputs": [],
   "source": [
    "# Register test proglem as toolbox.evaluate\n",
    "toolbox.register('evaluate', TNK)"
   ]
  },
  {
   "cell_type": "markdown",
   "metadata": {},
   "source": [
    "# Test"
   ]
  },
  {
   "cell_type": "code",
   "execution_count": 6,
   "metadata": {},
   "outputs": [
    {
     "data": {
      "text/plain": [
       "[Individual('d', [2.682834074901414, 1.5784687990818147]),\n",
       " Individual('d', [1.1533549141735688, 1.3207016229425943]),\n",
       " Individual('d', [0.849702440590457, 0.2086299525541964]),\n",
       " Individual('d', [2.189664560769876, 0.06706864798819603]),\n",
       " Individual('d', [3.088382160188962, 1.8155199590671665]),\n",
       " Individual('d', [1.2183345993279426, 0.44763894251487046]),\n",
       " Individual('d', [1.9349985980434588, 1.4103689524681138]),\n",
       " Individual('d', [2.3138338859847623, 2.9319356653098607]),\n",
       " Individual('d', [1.131598266639435, 1.4153683076674497]),\n",
       " Individual('d', [2.536957219564738, 3.0843345071931494])]"
      ]
     },
     "execution_count": 6,
     "metadata": {},
     "output_type": "execute_result"
    }
   ],
   "source": [
    "toolbox.population(n=10)"
   ]
  },
  {
   "cell_type": "code",
   "execution_count": 7,
   "metadata": {},
   "outputs": [
    {
     "data": {
      "text/plain": [
       "Individual('d', [1.0, 2.0, 3.0])"
      ]
     },
     "execution_count": 7,
     "metadata": {},
     "output_type": "execute_result"
    }
   ],
   "source": [
    "creator.Individual([1,2,3])"
   ]
  },
  {
   "cell_type": "code",
   "execution_count": null,
   "metadata": {},
   "outputs": [],
   "source": [
    "toolbox.evaluate(\n",
    "    creator.Individual([1,2,3])\n",
    ")"
   ]
  },
  {
   "cell_type": "markdown",
   "metadata": {},
   "source": [
    "# Parallel method"
   ]
  },
  {
   "cell_type": "code",
   "execution_count": 8,
   "metadata": {},
   "outputs": [],
   "source": [
    "#from concurrent.futures import ProcessPoolExecutor as PoolExecutor\n",
    "from concurrent.futures import ThreadPoolExecutor as PoolExecutor"
   ]
  },
  {
   "cell_type": "markdown",
   "metadata": {},
   "source": [
    "# Continuous NSGA-II, -III Loop"
   ]
  },
  {
   "cell_type": "code",
   "execution_count": 25,
   "metadata": {},
   "outputs": [
    {
     "name": "stdout",
     "output_type": "stream",
     "text": [
      "\n",
      "\n",
      "\n",
      " ▄████▄   ███▄    █   ██████   ▄████  ▄▄▄      \n",
      "▒██▀ ▀█   ██ ▀█   █ ▒██    ▒  ██▒ ▀█▒▒████▄    \n",
      "▒▓█    ▄ ▓██  ▀█ ██▒░ ▓██▄   ▒██░▄▄▄░▒██  ▀█▄  \n",
      "▒▓▓▄ ▄██▒▓██▒  ▐▌██▒  ▒   ██▒░▓█  ██▓░██▄▄▄▄██ \n",
      "▒ ▓███▀ ░▒██░   ▓██░▒██████▒▒░▒▓███▀▒ ▓█   ▓██▒\n",
      "░ ░▒ ▒  ░░ ▒░   ▒ ▒ ▒ ▒▓▒ ▒ ░ ░▒   ▒  ▒▒   ▓▒█░\n",
      "  ░  ▒   ░ ░░   ░ ▒░░ ░▒  ░ ░  ░   ░   ▒   ▒▒ ░\n",
      "░           ░   ░ ░ ░  ░  ░  ░ ░   ░   ░   ▒   \n",
      "░ ░               ░       ░        ░       ░  ░\n",
      "░                                              \n",
      "\n",
      "\n",
      "Continous Non-dominated Sorting Genetic Algorithm\n",
      "\n",
      "\n",
      "Creating toolbox from vocs.\n",
      "Warning: Redefining creator.MyFitness\n",
      "Warning in cnsga_toolbox: Redefining creator.Individual\n",
      "Created toolbox with 2 variables, 2 constraints, and 2 objectives.\n",
      "    Using selection algorithm: nsga2\n",
      "vocs:\n",
      "{'constants': {'a': 'dummy_constant'},\n",
      " 'constraints': {'c1': ['GREATER_THAN', 0], 'c2': ['GREATER_THAN', 0]},\n",
      " 'linked_variables': {'x9': 'x1'},\n",
      " 'name': 'TNK_test',\n",
      " 'objectives': {'y1': 'MINIMIZE', 'y2': 'MINIMIZE'},\n",
      " 'variables': {'x1': [0, 3.14159], 'x2': [0, 3.14159]}}\n",
      "Initializing with a new population, size 4\n",
      "Generation 1 completed in 0.00000 minutes\n",
      "Generation 2 completed in 0.00002 minutes\n",
      "Generation 3 completed in 0.00002 minutes\n"
     ]
    }
   ],
   "source": [
    "#--------------------------------------------    \n",
    "#--------------------------------------------\n",
    "\n",
    "def nsga(\n",
    "          vocs=None,\n",
    "          population=None,\n",
    "          toolbox=None,\n",
    "          seed=None,\n",
    "          evaluate_f=None,\n",
    "          output_path=None,\n",
    "          max_generations = 2,\n",
    "          population_size = 4,\n",
    "          crossover_probability = 0.9,\n",
    "          mutation_probability = 1.0,\n",
    "          selection='auto',\n",
    "          verbose=True):\n",
    "    \"\"\"  \n",
    "    NSGA-II, NSGA-III\n",
    "    \n",
    "    Requires either a DEAP toolbox or a vocs dict. \n",
    "    \n",
    "    If an output_path is given, regular outputs:\n",
    "        gen_{i}.json\n",
    "        pop_{i}.json\n",
    "    will be written for each generation i, and the best population at that generation.\n",
    "    These files can be used for restarting the function. \n",
    "    \n",
    "    \n",
    "    \"\"\"\n",
    "    random.seed(seed)\n",
    "    MU = population_size\n",
    "    CXPB = crossover_probability\n",
    "    MUTPB = mutation_probability\n",
    "    \n",
    "\n",
    "    # Initial population\n",
    "\n",
    "    # Verbose print helper\n",
    "    def vprint(*a, **k):\n",
    "        if verbose:\n",
    "            print(*a, **k)\n",
    "            sys.stdout.flush()\n",
    "    \n",
    "    vprint(cnsga_logo)\n",
    "    \n",
    "    # Setup saving to file\n",
    "    if output_path:\n",
    "        path = full_path(output_path)\n",
    "        assert os.path.exists(path), f'output_path does not exist {path}'\n",
    "        \n",
    "        def save(pop, prefix, generation):\n",
    "            file = f'{prefix}{generation}.json'\n",
    "            data = pop_to_data(vocs, pop, generation=generation)\n",
    "            fullfile = os.path.join(path, file)\n",
    "            with open(fullfile, 'w') as f:\n",
    "                json.dump(data, f, ensure_ascii=True, indent=4)\n",
    "            vprint('Pop written to', fullfile)\n",
    "        \n",
    "    else:\n",
    "        # Dummy save\n",
    "        def save(pop, prefix, generation):\n",
    "            pass\n",
    "        \n",
    "    # Toolbox\n",
    "    if not toolbox:\n",
    "        vprint('Creating toolbox from vocs.')\n",
    "        toolbox = cnsga_toolbox(vocs, selection=selection, verbose=verbose)\n",
    "        toolbox.register('evaluate', cnsga_evaluate, evaluate_f=evaluate_f, vocs=vocs)\n",
    "        if verbose:\n",
    "            print('vocs:')\n",
    "            pprint(vocs) # Pretty print dict\n",
    "        \n",
    "    # Initial pop\n",
    "    if population:\n",
    "        pop = pop_init(vocs, population['variables'])\n",
    "        if 'generation' in population:\n",
    "            generation = population['generation']+1\n",
    "        else:\n",
    "            generation=0\n",
    "        MU = len(pop)\n",
    "        vprint(f'Initializing with existing population, size {MU}')\n",
    "    else:\n",
    "        generation = 0\n",
    "        #pop = toolbox.population(n=MU)   \n",
    "        pop = pop_init_random(vocs, n=MU)\n",
    "        vprint(f'Initializing with a new population, size {MU}')\n",
    "    assert MU % 4 == 0, f'Population size (here {MU}) must be a multiple of 4'        \n",
    "        \n",
    "    \n",
    "    \n",
    "    t0 = time.time()\n",
    "    \n",
    "    new_offspring = []\n",
    "    for i in range(3):\n",
    "        generation += 1\n",
    "        \n",
    "        pop = toolbox.select(pop + new_offspring, MU)\n",
    "        \n",
    "        vecs = get_vecs(algorithms.varAnd(pop, toolbox, CXPB, MUTPB))\n",
    "        futures = map(toolbox.evaluate, vecs) \n",
    "        new_offspring = [form_ind(res) for res in futures]\n",
    "        \n",
    "        \n",
    "        \n",
    "        #save(new_offspring, 'gen_', generation)\n",
    "        #save(pop, 'pop_', generation)\n",
    "        t1 = time.time()\n",
    "        dt = t1-t0\n",
    "        t0 = t1\n",
    "        vprint(f'Generation {generation} completed in {dt/60:0.5f} minutes')        \n",
    "            \n",
    "    final_population = pop_to_data(vocs, pop, generation=generation)\n",
    "            \n",
    "    return final_population\n",
    "\n",
    "\n",
    "def evolve(pop, toolbox, max_generations):\n",
    "        \n",
    "        pop = toolbox.select(pop + new_offspring, MU)\n",
    "        \n",
    "        vecs = get_vecs(algorithms.varAnd(pop, toolbox, CXPB, MUTPB))\n",
    "        futures = map(toolbox.evaluate, vecs) \n",
    "        new_offspring = [form_ind(res) for res in futures]\n",
    "        \n",
    "        \n",
    "        \n",
    "        #save(new_offspring, 'gen_', generation)\n",
    "        #save(pop, 'pop_', generation)\n",
    "\n",
    "\n",
    "#toolbox.register('evaluate', EVALUATE)\n",
    "executor = PoolExecutor()\n",
    "\n",
    "pop =  nsga(vocs=VOCS, evaluate_f=evaluate_TNK) "
   ]
  },
  {
   "cell_type": "code",
   "execution_count": 23,
   "metadata": {},
   "outputs": [
    {
     "ename": "AttributeError",
     "evalue": "'int' object has no attribute 'result'",
     "output_type": "error",
     "traceback": [
      "\u001b[0;31m---------------------------------------------------------------------------\u001b[0m",
      "\u001b[0;31mAttributeError\u001b[0m                            Traceback (most recent call last)",
      "\u001b[0;32m<ipython-input-23-29049d883bf9>\u001b[0m in \u001b[0;36m<module>\u001b[0;34m\u001b[0m\n\u001b[1;32m      2\u001b[0m     \u001b[0;32mreturn\u001b[0m \u001b[0;36m2\u001b[0m\u001b[0;34m*\u001b[0m\u001b[0mx\u001b[0m\u001b[0;34m\u001b[0m\u001b[0;34m\u001b[0m\u001b[0m\n\u001b[1;32m      3\u001b[0m \u001b[0mfut\u001b[0m \u001b[0;34m=\u001b[0m \u001b[0mmap\u001b[0m\u001b[0;34m(\u001b[0m\u001b[0mf\u001b[0m\u001b[0;34m,\u001b[0m \u001b[0;34m[\u001b[0m\u001b[0;36m1\u001b[0m\u001b[0;34m,\u001b[0m\u001b[0;36m2\u001b[0m\u001b[0;34m]\u001b[0m\u001b[0;34m)\u001b[0m\u001b[0;34m\u001b[0m\u001b[0;34m\u001b[0m\u001b[0m\n\u001b[0;32m----> 4\u001b[0;31m \u001b[0;34m[\u001b[0m\u001b[0mres\u001b[0m\u001b[0;34m.\u001b[0m\u001b[0mresult\u001b[0m\u001b[0;34m(\u001b[0m\u001b[0;34m)\u001b[0m \u001b[0;32mfor\u001b[0m \u001b[0mres\u001b[0m \u001b[0;32min\u001b[0m \u001b[0mfut\u001b[0m\u001b[0;34m]\u001b[0m\u001b[0;34m\u001b[0m\u001b[0;34m\u001b[0m\u001b[0m\n\u001b[0m",
      "\u001b[0;32m<ipython-input-23-29049d883bf9>\u001b[0m in \u001b[0;36m<listcomp>\u001b[0;34m(.0)\u001b[0m\n\u001b[1;32m      2\u001b[0m     \u001b[0;32mreturn\u001b[0m \u001b[0;36m2\u001b[0m\u001b[0;34m*\u001b[0m\u001b[0mx\u001b[0m\u001b[0;34m\u001b[0m\u001b[0;34m\u001b[0m\u001b[0m\n\u001b[1;32m      3\u001b[0m \u001b[0mfut\u001b[0m \u001b[0;34m=\u001b[0m \u001b[0mmap\u001b[0m\u001b[0;34m(\u001b[0m\u001b[0mf\u001b[0m\u001b[0;34m,\u001b[0m \u001b[0;34m[\u001b[0m\u001b[0;36m1\u001b[0m\u001b[0;34m,\u001b[0m\u001b[0;36m2\u001b[0m\u001b[0;34m]\u001b[0m\u001b[0;34m)\u001b[0m\u001b[0;34m\u001b[0m\u001b[0;34m\u001b[0m\u001b[0m\n\u001b[0;32m----> 4\u001b[0;31m \u001b[0;34m[\u001b[0m\u001b[0mres\u001b[0m\u001b[0;34m.\u001b[0m\u001b[0mresult\u001b[0m\u001b[0;34m(\u001b[0m\u001b[0;34m)\u001b[0m \u001b[0;32mfor\u001b[0m \u001b[0mres\u001b[0m \u001b[0;32min\u001b[0m \u001b[0mfut\u001b[0m\u001b[0;34m]\u001b[0m\u001b[0;34m\u001b[0m\u001b[0;34m\u001b[0m\u001b[0m\n\u001b[0m",
      "\u001b[0;31mAttributeError\u001b[0m: 'int' object has no attribute 'result'"
     ]
    }
   ],
   "source": [
    "def f(x):\n",
    "    return 2*x\n",
    "fut = map(f, [1,2])\n",
    "[res.result() for res in fut]"
   ]
  },
  {
   "cell_type": "code",
   "execution_count": null,
   "metadata": {},
   "outputs": [],
   "source": []
  },
  {
   "cell_type": "code",
   "execution_count": null,
   "metadata": {},
   "outputs": [],
   "source": []
  },
  {
   "cell_type": "code",
   "execution_count": null,
   "metadata": {},
   "outputs": [],
   "source": []
  },
  {
   "cell_type": "code",
   "execution_count": null,
   "metadata": {},
   "outputs": [],
   "source": []
  },
  {
   "cell_type": "markdown",
   "metadata": {},
   "source": [
    "# Parallel method"
   ]
  },
  {
   "cell_type": "code",
   "execution_count": null,
   "metadata": {},
   "outputs": [],
   "source": [
    "# Dask distributed\n",
    "\n",
    "from dask.distributed import Client\n",
    "client = Client()\n",
    "client"
   ]
  },
  {
   "cell_type": "code",
   "execution_count": null,
   "metadata": {},
   "outputs": [],
   "source": [
    "#toolbox.register('evaluate', EVALUATE)\n",
    "pop = cnsga(client, vocs=C, max_generations = 40, population_size=64) "
   ]
  },
  {
   "cell_type": "code",
   "execution_count": null,
   "metadata": {},
   "outputs": [],
   "source": [
    "#pop = cnsga(client, toolbox=toolbox, evaluate_f=F) "
   ]
  },
  {
   "cell_type": "markdown",
   "metadata": {},
   "source": [
    "# Recreate plots in Deb paper"
   ]
  },
  {
   "cell_type": "code",
   "execution_count": null,
   "metadata": {},
   "outputs": [],
   "source": [
    "import matplotlib.pyplot as plt\n",
    "\n",
    "def plot_pop(pop):\n",
    "    fig, ax = plt.subplots(figsize=(5,5))\n",
    "\n",
    "    front = np.array([ind.fitness.values for ind in pop])\n",
    "    ax.scatter(front[:,0], front[:,1], color='blue')\n",
    "    ax.set_xlim(X_RANGE)\n",
    "    ax.set_ylim(Y_RANGE)\n",
    "    ax.set_aspect('auto')\n",
    "    ax.set_title(NAME)\n",
    "#plot_pop(pop)"
   ]
  },
  {
   "cell_type": "markdown",
   "metadata": {},
   "source": [
    "# MPI"
   ]
  },
  {
   "cell_type": "code",
   "execution_count": null,
   "metadata": {},
   "outputs": [],
   "source": [
    "from mpi4py.futures import MPIPoolExecutor as PoolExecutor"
   ]
  },
  {
   "cell_type": "code",
   "execution_count": null,
   "metadata": {},
   "outputs": [],
   "source": [
    "from xopt import vocs_tools\n",
    "from xopt.cnsga import cnsga as xcnsga\n",
    "VOCS = vocs_tools.load_vocs('TNK_test.json')"
   ]
  },
  {
   "cell_type": "code",
   "execution_count": null,
   "metadata": {},
   "outputs": [],
   "source": [
    "if __name__ == '__main__':\n",
    "    with PoolExecutor() as executor:\n",
    "        #pop = cnsga(executor, toolbox=toolbox, evaluate_f=EVALUATE) \n",
    "        \n",
    "        pop=xcnsga(executor, vocs=VOCS, evaluate_f=evaluate_TNK, max_generations=10, population_size=40)\n",
    "        plot_pop(pop)"
   ]
  },
  {
   "cell_type": "code",
   "execution_count": null,
   "metadata": {},
   "outputs": [],
   "source": [
    "#!jupyter nbconvert --to script cnsga.ipynb"
   ]
  },
  {
   "cell_type": "code",
   "execution_count": null,
   "metadata": {},
   "outputs": [],
   "source": []
  }
 ],
 "metadata": {
  "kernelspec": {
   "display_name": "Python 3",
   "language": "python",
   "name": "python3"
  },
  "language_info": {
   "codemirror_mode": {
    "name": "ipython",
    "version": 3
   },
   "file_extension": ".py",
   "mimetype": "text/x-python",
   "name": "python",
   "nbconvert_exporter": "python",
   "pygments_lexer": "ipython3",
   "version": "3.7.6"
  }
 },
 "nbformat": 4,
 "nbformat_minor": 4
}
