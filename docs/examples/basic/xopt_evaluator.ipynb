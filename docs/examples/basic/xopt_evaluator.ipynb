{
 "cells": [
  {
   "cell_type": "markdown",
   "metadata": {},
   "source": [
    "# Xopt Evaluator Basic Usage \n",
    "\n",
    "The `Evaluator` handles the execution of the user-provided `function` with optional `function_kwags`, asyncrhonously and parallel, with exception handling. "
   ]
  },
  {
   "cell_type": "code",
   "execution_count": 1,
   "metadata": {
    "collapsed": false,
    "ExecuteTime": {
     "end_time": "2023-09-07T14:25:57.456348700Z",
     "start_time": "2023-09-07T14:25:57.378243800Z"
    }
   },
   "outputs": [],
   "source": [
    "# needed for macos\n",
    "import platform\n",
    "if platform.system() == \"Darwin\": import multiprocessing;multiprocessing.set_start_method(\"fork\")\n"
   ]
  },
  {
   "cell_type": "code",
   "execution_count": 2,
   "metadata": {
    "collapsed": false,
    "ExecuteTime": {
     "end_time": "2023-09-07T14:26:03.040511600Z",
     "start_time": "2023-09-07T14:25:57.393878300Z"
    }
   },
   "outputs": [],
   "source": [
    "from xopt import Xopt, Evaluator, VOCS\n",
    "from xopt.generators.random import RandomGenerator\n",
    "\n",
    "import pandas as pd\n",
    "\n",
    "from time import sleep\n",
    "from numpy.random import randint\n",
    "\n",
    "from typing import Dict\n",
    "\n",
    "import numpy as np\n",
    "np.random.seed(666) # for reproducibility"
   ]
  },
  {
   "cell_type": "markdown",
   "metadata": {},
   "source": [
    "Define a custom function `f(inputs: Dict) -> outputs: Dict`. "
   ]
  },
  {
   "cell_type": "code",
   "execution_count": 3,
   "metadata": {
    "ExecuteTime": {
     "end_time": "2023-09-07T14:26:03.056100600Z",
     "start_time": "2023-09-07T14:26:03.040511600Z"
    }
   },
   "outputs": [],
   "source": [
    "def f(inputs: Dict, enable_errors=True) -> Dict:\n",
    "\n",
    "    sleep(randint(1, 5)*.1)  # simulate computation time\n",
    "    # Make some occasional errors\n",
    "    if enable_errors and np.any(inputs[\"x\"] > 0.8):\n",
    "        raise ValueError(\"x > 0.8\")\n",
    "\n",
    "    return {\"f1\": inputs[\"x\"] ** 2 + inputs[\"y\"] ** 2}"
   ]
  },
  {
   "cell_type": "markdown",
   "metadata": {},
   "source": [
    "Define variables, objectives, constraints, and other settings (VOCS)"
   ]
  },
  {
   "cell_type": "code",
   "execution_count": 4,
   "metadata": {
    "collapsed": false,
    "ExecuteTime": {
     "end_time": "2023-09-07T14:26:03.119043400Z",
     "start_time": "2023-09-07T14:26:03.056100600Z"
    }
   },
   "outputs": [
    {
     "data": {
      "text/plain": "VOCS(variables={'x': [0.0, 1.0], 'y': [0.0, 1.0]}, constraints={}, objectives={'f1': 'MINIMIZE'}, constants={}, observables=[])"
     },
     "execution_count": 4,
     "metadata": {},
     "output_type": "execute_result"
    }
   ],
   "source": [
    "vocs = VOCS(variables={\"x\": [0, 1], \"y\": [0, 1]}, objectives={\"f1\": \"MINIMIZE\"})\n",
    "vocs\n",
    "\n"
   ]
  },
  {
   "cell_type": "markdown",
   "metadata": {},
   "source": [
    "This can be used to make some random inputs for evaluating the function. "
   ]
  },
  {
   "cell_type": "code",
   "execution_count": 5,
   "metadata": {
    "ExecuteTime": {
     "end_time": "2023-09-07T14:26:03.402939700Z",
     "start_time": "2023-09-07T14:26:03.072093700Z"
    }
   },
   "outputs": [
    {
     "data": {
      "text/plain": "{'f1': 0.11401572022703582}"
     },
     "execution_count": 5,
     "metadata": {},
     "output_type": "execute_result"
    }
   ],
   "source": [
    "in1 = vocs.random_inputs()\n",
    "\n",
    "f(in1, enable_errors=False)"
   ]
  },
  {
   "cell_type": "code",
   "execution_count": 6,
   "metadata": {
    "ExecuteTime": {
     "end_time": "2023-09-07T14:26:03.736370600Z",
     "start_time": "2023-09-07T14:26:03.402939700Z"
    }
   },
   "outputs": [
    {
     "name": "stdout",
     "output_type": "stream",
     "text": [
      "Caught error in f: x > 0.8\n"
     ]
    }
   ],
   "source": [
    "# Add in occasional errors. \n",
    "try:\n",
    "    f({\"x\": 1, \"y\": 0})\n",
    "except Exception as ex:\n",
    "    print(f\"Caught error in f: {ex}\")"
   ]
  },
  {
   "cell_type": "code",
   "execution_count": 7,
   "metadata": {
    "ExecuteTime": {
     "end_time": "2023-09-07T14:26:03.783215800Z",
     "start_time": "2023-09-07T14:26:03.736370600Z"
    }
   },
   "outputs": [],
   "source": [
    "# Create Evaluator\n",
    "ev = Evaluator(function=f)"
   ]
  },
  {
   "cell_type": "code",
   "execution_count": 8,
   "metadata": {
    "ExecuteTime": {
     "end_time": "2023-09-07T14:26:03.970708900Z",
     "start_time": "2023-09-07T14:26:03.752007800Z"
    }
   },
   "outputs": [
    {
     "data": {
      "text/plain": "{'f1': 0.11401572022703582,\n 'xopt_runtime': 0.19774780000000014,\n 'xopt_error': False}"
     },
     "execution_count": 8,
     "metadata": {},
     "output_type": "execute_result"
    }
   ],
   "source": [
    "# Single input evaluation\n",
    "ev.evaluate(in1)"
   ]
  },
  {
   "cell_type": "code",
   "execution_count": 9,
   "metadata": {
    "ExecuteTime": {
     "end_time": "2023-09-07T14:26:06.690018800Z",
     "start_time": "2023-09-07T14:26:03.970708900Z"
    }
   },
   "outputs": [
    {
     "data": {
      "text/plain": "         f1  xopt_runtime  xopt_error  \\\n0  0.000000      0.301887       False   \n1  0.024691      0.112616       False   \n2  0.098765      0.211575       False   \n3  0.222222      0.413020       False   \n4  0.395062      0.314326       False   \n5  0.617284      0.408600       False   \n6  0.888889      0.109478       False   \n7  1.209877      0.400110       False   \n8       NaN      0.116033        True   \n9       NaN      0.307241        True   \n\n                                      xopt_error_str  \n0                                                NaN  \n1                                                NaN  \n2                                                NaN  \n3                                                NaN  \n4                                                NaN  \n5                                                NaN  \n6                                                NaN  \n7                                                NaN  \n8  Traceback (most recent call last):\\n  File \"C:...  \n9  Traceback (most recent call last):\\n  File \"C:...  ",
      "text/html": "<div>\n<style scoped>\n    .dataframe tbody tr th:only-of-type {\n        vertical-align: middle;\n    }\n\n    .dataframe tbody tr th {\n        vertical-align: top;\n    }\n\n    .dataframe thead th {\n        text-align: right;\n    }\n</style>\n<table border=\"1\" class=\"dataframe\">\n  <thead>\n    <tr style=\"text-align: right;\">\n      <th></th>\n      <th>f1</th>\n      <th>xopt_runtime</th>\n      <th>xopt_error</th>\n      <th>xopt_error_str</th>\n    </tr>\n  </thead>\n  <tbody>\n    <tr>\n      <th>0</th>\n      <td>0.000000</td>\n      <td>0.301887</td>\n      <td>False</td>\n      <td>NaN</td>\n    </tr>\n    <tr>\n      <th>1</th>\n      <td>0.024691</td>\n      <td>0.112616</td>\n      <td>False</td>\n      <td>NaN</td>\n    </tr>\n    <tr>\n      <th>2</th>\n      <td>0.098765</td>\n      <td>0.211575</td>\n      <td>False</td>\n      <td>NaN</td>\n    </tr>\n    <tr>\n      <th>3</th>\n      <td>0.222222</td>\n      <td>0.413020</td>\n      <td>False</td>\n      <td>NaN</td>\n    </tr>\n    <tr>\n      <th>4</th>\n      <td>0.395062</td>\n      <td>0.314326</td>\n      <td>False</td>\n      <td>NaN</td>\n    </tr>\n    <tr>\n      <th>5</th>\n      <td>0.617284</td>\n      <td>0.408600</td>\n      <td>False</td>\n      <td>NaN</td>\n    </tr>\n    <tr>\n      <th>6</th>\n      <td>0.888889</td>\n      <td>0.109478</td>\n      <td>False</td>\n      <td>NaN</td>\n    </tr>\n    <tr>\n      <th>7</th>\n      <td>1.209877</td>\n      <td>0.400110</td>\n      <td>False</td>\n      <td>NaN</td>\n    </tr>\n    <tr>\n      <th>8</th>\n      <td>NaN</td>\n      <td>0.116033</td>\n      <td>True</td>\n      <td>Traceback (most recent call last):\\n  File \"C:...</td>\n    </tr>\n    <tr>\n      <th>9</th>\n      <td>NaN</td>\n      <td>0.307241</td>\n      <td>True</td>\n      <td>Traceback (most recent call last):\\n  File \"C:...</td>\n    </tr>\n  </tbody>\n</table>\n</div>"
     },
     "execution_count": 9,
     "metadata": {},
     "output_type": "execute_result"
    }
   ],
   "source": [
    "# Dataframe evaluation\n",
    "in10 = pd.DataFrame({\n",
    "    \"x\":np.linspace(0,1,10),\n",
    "    \"y\":np.linspace(0,1,10)\n",
    "})\n",
    "ev.evaluate_data(in10)\n"
   ]
  },
  {
   "cell_type": "code",
   "execution_count": 10,
   "metadata": {
    "ExecuteTime": {
     "end_time": "2023-09-07T14:26:06.920050900Z",
     "start_time": "2023-09-07T14:26:06.690018800Z"
    }
   },
   "outputs": [
    {
     "data": {
      "text/plain": "   xopt_runtime  xopt_error                                     xopt_error_str\n0      0.209948        True  Traceback (most recent call last):\\n  File \"C:...\n1      0.209948        True  Traceback (most recent call last):\\n  File \"C:...\n2      0.209948        True  Traceback (most recent call last):\\n  File \"C:...\n3      0.209948        True  Traceback (most recent call last):\\n  File \"C:...\n4      0.209948        True  Traceback (most recent call last):\\n  File \"C:...\n5      0.209948        True  Traceback (most recent call last):\\n  File \"C:...\n6      0.209948        True  Traceback (most recent call last):\\n  File \"C:...\n7      0.209948        True  Traceback (most recent call last):\\n  File \"C:...\n8      0.209948        True  Traceback (most recent call last):\\n  File \"C:...\n9      0.209948        True  Traceback (most recent call last):\\n  File \"C:...",
      "text/html": "<div>\n<style scoped>\n    .dataframe tbody tr th:only-of-type {\n        vertical-align: middle;\n    }\n\n    .dataframe tbody tr th {\n        vertical-align: top;\n    }\n\n    .dataframe thead th {\n        text-align: right;\n    }\n</style>\n<table border=\"1\" class=\"dataframe\">\n  <thead>\n    <tr style=\"text-align: right;\">\n      <th></th>\n      <th>xopt_runtime</th>\n      <th>xopt_error</th>\n      <th>xopt_error_str</th>\n    </tr>\n  </thead>\n  <tbody>\n    <tr>\n      <th>0</th>\n      <td>0.209948</td>\n      <td>True</td>\n      <td>Traceback (most recent call last):\\n  File \"C:...</td>\n    </tr>\n    <tr>\n      <th>1</th>\n      <td>0.209948</td>\n      <td>True</td>\n      <td>Traceback (most recent call last):\\n  File \"C:...</td>\n    </tr>\n    <tr>\n      <th>2</th>\n      <td>0.209948</td>\n      <td>True</td>\n      <td>Traceback (most recent call last):\\n  File \"C:...</td>\n    </tr>\n    <tr>\n      <th>3</th>\n      <td>0.209948</td>\n      <td>True</td>\n      <td>Traceback (most recent call last):\\n  File \"C:...</td>\n    </tr>\n    <tr>\n      <th>4</th>\n      <td>0.209948</td>\n      <td>True</td>\n      <td>Traceback (most recent call last):\\n  File \"C:...</td>\n    </tr>\n    <tr>\n      <th>5</th>\n      <td>0.209948</td>\n      <td>True</td>\n      <td>Traceback (most recent call last):\\n  File \"C:...</td>\n    </tr>\n    <tr>\n      <th>6</th>\n      <td>0.209948</td>\n      <td>True</td>\n      <td>Traceback (most recent call last):\\n  File \"C:...</td>\n    </tr>\n    <tr>\n      <th>7</th>\n      <td>0.209948</td>\n      <td>True</td>\n      <td>Traceback (most recent call last):\\n  File \"C:...</td>\n    </tr>\n    <tr>\n      <th>8</th>\n      <td>0.209948</td>\n      <td>True</td>\n      <td>Traceback (most recent call last):\\n  File \"C:...</td>\n    </tr>\n    <tr>\n      <th>9</th>\n      <td>0.209948</td>\n      <td>True</td>\n      <td>Traceback (most recent call last):\\n  File \"C:...</td>\n    </tr>\n  </tbody>\n</table>\n</div>"
     },
     "execution_count": 10,
     "metadata": {},
     "output_type": "execute_result"
    }
   ],
   "source": [
    "# Dataframe evaluation, vectorized\n",
    "ev.vectorized = True\n",
    "ev.evaluate_data(in10)\n"
   ]
  },
  {
   "cell_type": "markdown",
   "metadata": {},
   "source": [
    "# Executors"
   ]
  },
  {
   "cell_type": "code",
   "execution_count": 11,
   "metadata": {
    "ExecuteTime": {
     "end_time": "2023-09-07T14:26:06.951279600Z",
     "start_time": "2023-09-07T14:26:06.920050900Z"
    }
   },
   "outputs": [],
   "source": [
    "from concurrent.futures import ProcessPoolExecutor\n",
    "MAX_WORKERS = 10"
   ]
  },
  {
   "cell_type": "code",
   "execution_count": 12,
   "metadata": {
    "ExecuteTime": {
     "end_time": "2023-09-07T14:26:07.018979900Z",
     "start_time": "2023-09-07T14:26:06.935618Z"
    }
   },
   "outputs": [
    {
     "data": {
      "text/plain": "<concurrent.futures.process.ProcessPoolExecutor at 0x24463f6a5b0>"
     },
     "execution_count": 12,
     "metadata": {},
     "output_type": "execute_result"
    }
   ],
   "source": [
    "# Create Executor instance\n",
    "executor = ProcessPoolExecutor(max_workers=MAX_WORKERS)\n",
    "executor"
   ]
  },
  {
   "cell_type": "code",
   "execution_count": 13,
   "metadata": {
    "ExecuteTime": {
     "end_time": "2023-09-07T14:26:07.080645500Z",
     "start_time": "2023-09-07T14:26:06.951279600Z"
    }
   },
   "outputs": [],
   "source": [
    "# Dask (Optional)\n",
    "# from dask.distributed import Client\n",
    "# import logging\n",
    "# client = Client( silence_logs=logging.ERROR)\n",
    "# executor = client.get_executor()\n",
    "# client"
   ]
  },
  {
   "cell_type": "code",
   "execution_count": 14,
   "metadata": {
    "ExecuteTime": {
     "end_time": "2023-09-07T14:26:07.104433Z",
     "start_time": "2023-09-07T14:26:06.966900500Z"
    }
   },
   "outputs": [],
   "source": [
    "# This calls `executor.map`\n",
    "ev = Evaluator(function=f, executor=executor, max_workers=MAX_WORKERS)"
   ]
  },
  {
   "cell_type": "code",
   "execution_count": 15,
   "metadata": {
    "ExecuteTime": {
     "end_time": "2023-09-07T14:26:15.437794900Z",
     "start_time": "2023-09-07T14:26:06.982489400Z"
    }
   },
   "outputs": [
    {
     "ename": "BrokenProcessPool",
     "evalue": "A process in the process pool was terminated abruptly while the future was running or pending.",
     "output_type": "error",
     "traceback": [
      "\u001B[1;31m---------------------------------------------------------------------------\u001B[0m",
      "\u001B[1;31mBrokenProcessPool\u001B[0m                         Traceback (most recent call last)",
      "Cell \u001B[1;32mIn[15], line 2\u001B[0m\n\u001B[0;32m      1\u001B[0m \u001B[38;5;66;03m# This will run in parallel\u001B[39;00m\n\u001B[1;32m----> 2\u001B[0m \u001B[43mev\u001B[49m\u001B[38;5;241;43m.\u001B[39;49m\u001B[43mevaluate_data\u001B[49m\u001B[43m(\u001B[49m\u001B[43min10\u001B[49m\u001B[43m)\u001B[49m\n",
      "File \u001B[1;32m~\\Documents\\GitHub\\Xopt\\xopt\\evaluator.py:114\u001B[0m, in \u001B[0;36mEvaluator.evaluate_data\u001B[1;34m(self, input_data)\u001B[0m\n\u001B[0;32m    105\u001B[0m     kwargs \u001B[38;5;241m=\u001B[39m [\u001B[38;5;28mself\u001B[39m\u001B[38;5;241m.\u001B[39mfunction_kwargs] \u001B[38;5;241m*\u001B[39m \u001B[38;5;28mlen\u001B[39m(inputs)\n\u001B[0;32m    107\u001B[0m     output_data \u001B[38;5;241m=\u001B[39m \u001B[38;5;28mself\u001B[39m\u001B[38;5;241m.\u001B[39mexecutor\u001B[38;5;241m.\u001B[39mmap(\n\u001B[0;32m    108\u001B[0m         safe_function1_for_map,\n\u001B[0;32m    109\u001B[0m         funcs,\n\u001B[0;32m    110\u001B[0m         inputs,\n\u001B[0;32m    111\u001B[0m         kwargs,\n\u001B[0;32m    112\u001B[0m     )\n\u001B[1;32m--> 114\u001B[0m \u001B[38;5;28;01mreturn\u001B[39;00m \u001B[43mDataFrame\u001B[49m\u001B[43m(\u001B[49m\u001B[43moutput_data\u001B[49m\u001B[43m,\u001B[49m\u001B[43m \u001B[49m\u001B[43mindex\u001B[49m\u001B[38;5;241;43m=\u001B[39;49m\u001B[43minput_data\u001B[49m\u001B[38;5;241;43m.\u001B[39;49m\u001B[43mindex\u001B[49m\u001B[43m)\u001B[49m\n",
      "File \u001B[1;32m~\\AppData\\Local\\mambaforge\\envs\\xopt-dev\\lib\\site-packages\\pandas\\core\\frame.py:774\u001B[0m, in \u001B[0;36mDataFrame.__init__\u001B[1;34m(self, data, index, columns, dtype, copy)\u001B[0m\n\u001B[0;32m    772\u001B[0m         data \u001B[38;5;241m=\u001B[39m np\u001B[38;5;241m.\u001B[39masarray(data)\n\u001B[0;32m    773\u001B[0m     \u001B[38;5;28;01melse\u001B[39;00m:\n\u001B[1;32m--> 774\u001B[0m         data \u001B[38;5;241m=\u001B[39m \u001B[38;5;28;43mlist\u001B[39;49m\u001B[43m(\u001B[49m\u001B[43mdata\u001B[49m\u001B[43m)\u001B[49m\n\u001B[0;32m    775\u001B[0m \u001B[38;5;28;01mif\u001B[39;00m \u001B[38;5;28mlen\u001B[39m(data) \u001B[38;5;241m>\u001B[39m \u001B[38;5;241m0\u001B[39m:\n\u001B[0;32m    776\u001B[0m     \u001B[38;5;28;01mif\u001B[39;00m is_dataclass(data[\u001B[38;5;241m0\u001B[39m]):\n",
      "File \u001B[1;32m~\\AppData\\Local\\mambaforge\\envs\\xopt-dev\\lib\\concurrent\\futures\\process.py:562\u001B[0m, in \u001B[0;36m_chain_from_iterable_of_lists\u001B[1;34m(iterable)\u001B[0m\n\u001B[0;32m    556\u001B[0m \u001B[38;5;28;01mdef\u001B[39;00m \u001B[38;5;21m_chain_from_iterable_of_lists\u001B[39m(iterable):\n\u001B[0;32m    557\u001B[0m \u001B[38;5;250m    \u001B[39m\u001B[38;5;124;03m\"\"\"\u001B[39;00m\n\u001B[0;32m    558\u001B[0m \u001B[38;5;124;03m    Specialized implementation of itertools.chain.from_iterable.\u001B[39;00m\n\u001B[0;32m    559\u001B[0m \u001B[38;5;124;03m    Each item in *iterable* should be a list.  This function is\u001B[39;00m\n\u001B[0;32m    560\u001B[0m \u001B[38;5;124;03m    careful not to keep references to yielded objects.\u001B[39;00m\n\u001B[0;32m    561\u001B[0m \u001B[38;5;124;03m    \"\"\"\u001B[39;00m\n\u001B[1;32m--> 562\u001B[0m     \u001B[38;5;28;01mfor\u001B[39;00m element \u001B[38;5;129;01min\u001B[39;00m iterable:\n\u001B[0;32m    563\u001B[0m         element\u001B[38;5;241m.\u001B[39mreverse()\n\u001B[0;32m    564\u001B[0m         \u001B[38;5;28;01mwhile\u001B[39;00m element:\n",
      "File \u001B[1;32m~\\AppData\\Local\\mambaforge\\envs\\xopt-dev\\lib\\concurrent\\futures\\_base.py:609\u001B[0m, in \u001B[0;36mExecutor.map.<locals>.result_iterator\u001B[1;34m()\u001B[0m\n\u001B[0;32m    606\u001B[0m \u001B[38;5;28;01mwhile\u001B[39;00m fs:\n\u001B[0;32m    607\u001B[0m     \u001B[38;5;66;03m# Careful not to keep a reference to the popped future\u001B[39;00m\n\u001B[0;32m    608\u001B[0m     \u001B[38;5;28;01mif\u001B[39;00m timeout \u001B[38;5;129;01mis\u001B[39;00m \u001B[38;5;28;01mNone\u001B[39;00m:\n\u001B[1;32m--> 609\u001B[0m         \u001B[38;5;28;01myield\u001B[39;00m \u001B[43mfs\u001B[49m\u001B[38;5;241;43m.\u001B[39;49m\u001B[43mpop\u001B[49m\u001B[43m(\u001B[49m\u001B[43m)\u001B[49m\u001B[38;5;241;43m.\u001B[39;49m\u001B[43mresult\u001B[49m\u001B[43m(\u001B[49m\u001B[43m)\u001B[49m\n\u001B[0;32m    610\u001B[0m     \u001B[38;5;28;01melse\u001B[39;00m:\n\u001B[0;32m    611\u001B[0m         \u001B[38;5;28;01myield\u001B[39;00m fs\u001B[38;5;241m.\u001B[39mpop()\u001B[38;5;241m.\u001B[39mresult(end_time \u001B[38;5;241m-\u001B[39m time\u001B[38;5;241m.\u001B[39mmonotonic())\n",
      "File \u001B[1;32m~\\AppData\\Local\\mambaforge\\envs\\xopt-dev\\lib\\concurrent\\futures\\_base.py:446\u001B[0m, in \u001B[0;36mFuture.result\u001B[1;34m(self, timeout)\u001B[0m\n\u001B[0;32m    444\u001B[0m     \u001B[38;5;28;01mraise\u001B[39;00m CancelledError()\n\u001B[0;32m    445\u001B[0m \u001B[38;5;28;01melif\u001B[39;00m \u001B[38;5;28mself\u001B[39m\u001B[38;5;241m.\u001B[39m_state \u001B[38;5;241m==\u001B[39m FINISHED:\n\u001B[1;32m--> 446\u001B[0m     \u001B[38;5;28;01mreturn\u001B[39;00m \u001B[38;5;28;43mself\u001B[39;49m\u001B[38;5;241;43m.\u001B[39;49m\u001B[43m__get_result\u001B[49m\u001B[43m(\u001B[49m\u001B[43m)\u001B[49m\n\u001B[0;32m    447\u001B[0m \u001B[38;5;28;01melse\u001B[39;00m:\n\u001B[0;32m    448\u001B[0m     \u001B[38;5;28;01mraise\u001B[39;00m \u001B[38;5;167;01mTimeoutError\u001B[39;00m()\n",
      "File \u001B[1;32m~\\AppData\\Local\\mambaforge\\envs\\xopt-dev\\lib\\concurrent\\futures\\_base.py:391\u001B[0m, in \u001B[0;36mFuture.__get_result\u001B[1;34m(self)\u001B[0m\n\u001B[0;32m    389\u001B[0m \u001B[38;5;28;01mif\u001B[39;00m \u001B[38;5;28mself\u001B[39m\u001B[38;5;241m.\u001B[39m_exception:\n\u001B[0;32m    390\u001B[0m     \u001B[38;5;28;01mtry\u001B[39;00m:\n\u001B[1;32m--> 391\u001B[0m         \u001B[38;5;28;01mraise\u001B[39;00m \u001B[38;5;28mself\u001B[39m\u001B[38;5;241m.\u001B[39m_exception\n\u001B[0;32m    392\u001B[0m     \u001B[38;5;28;01mfinally\u001B[39;00m:\n\u001B[0;32m    393\u001B[0m         \u001B[38;5;66;03m# Break a reference cycle with the exception in self._exception\u001B[39;00m\n\u001B[0;32m    394\u001B[0m         \u001B[38;5;28mself\u001B[39m \u001B[38;5;241m=\u001B[39m \u001B[38;5;28;01mNone\u001B[39;00m\n",
      "\u001B[1;31mBrokenProcessPool\u001B[0m: A process in the process pool was terminated abruptly while the future was running or pending."
     ]
    }
   ],
   "source": [
    "# This will run in parallel\n",
    "ev.evaluate_data(in10)"
   ]
  },
  {
   "cell_type": "markdown",
   "metadata": {},
   "source": [
    "# Evaluator in the Xopt object"
   ]
  },
  {
   "cell_type": "code",
   "execution_count": null,
   "metadata": {
    "collapsed": false,
    "ExecuteTime": {
     "end_time": "2023-09-07T14:26:15.437794900Z",
     "start_time": "2023-09-07T14:26:15.437794900Z"
    }
   },
   "outputs": [],
   "source": [
    "X = Xopt(generator=RandomGenerator(vocs=vocs), evaluator=Evaluator(function=f),\n",
    "         vocs=vocs)\n",
    "X.strict = False\n",
    "\n",
    "# Submit to the evaluator some new inputs\n",
    "X.evaluate_data(vocs.random_inputs(4))\n",
    "\n",
    "# Unevaluated inputs are collected in a dataframe\n",
    "X._input_data"
   ]
  },
  {
   "cell_type": "code",
   "execution_count": null,
   "metadata": {
    "collapsed": false,
    "ExecuteTime": {
     "start_time": "2023-09-07T14:26:15.437794900Z"
    }
   },
   "outputs": [],
   "source": [
    "# Internal futures dictionary\n",
    "X._futures"
   ]
  },
  {
   "cell_type": "code",
   "execution_count": null,
   "metadata": {
    "collapsed": false,
    "ExecuteTime": {
     "start_time": "2023-09-07T14:26:15.437794900Z"
    }
   },
   "outputs": [],
   "source": [
    "# Collect all finished futures and updata dataframe\n",
    "X.process_futures()\n",
    "X.data"
   ]
  },
  {
   "cell_type": "code",
   "execution_count": null,
   "metadata": {
    "collapsed": false,
    "ExecuteTime": {
     "start_time": "2023-09-07T14:26:15.437794900Z"
    }
   },
   "outputs": [],
   "source": [
    "# Futures are now cleared out\n",
    "X._futures"
   ]
  },
  {
   "cell_type": "code",
   "execution_count": null,
   "metadata": {
    "collapsed": false,
    "ExecuteTime": {
     "start_time": "2023-09-07T14:26:15.453300500Z"
    }
   },
   "outputs": [],
   "source": [
    "# This is the internal counter\n",
    "X._ix_last"
   ]
  },
  {
   "cell_type": "code",
   "execution_count": null,
   "metadata": {
    "collapsed": false,
    "ExecuteTime": {
     "start_time": "2023-09-07T14:26:15.453300500Z"
    }
   },
   "outputs": [],
   "source": [
    "# This causes immediate evaluation\n",
    "X.evaluate_data(vocs.random_inputs(4))"
   ]
  },
  {
   "cell_type": "code",
   "execution_count": null,
   "metadata": {
    "collapsed": false,
    "ExecuteTime": {
     "start_time": "2023-09-07T14:26:15.453300500Z"
    }
   },
   "outputs": [],
   "source": [
    "# Singe generation step\n",
    "X.step()\n",
    "X.data"
   ]
  },
  {
   "cell_type": "code",
   "execution_count": null,
   "metadata": {
    "ExecuteTime": {
     "start_time": "2023-09-07T14:26:15.453300500Z"
    }
   },
   "outputs": [],
   "source": [
    "# Usage with a parallel executor.\n",
    "from xopt import AsynchronousXopt\n",
    "X2 = AsynchronousXopt(\n",
    "    generator=RandomGenerator(vocs=vocs),\n",
    "    evaluator=Evaluator(function=f, executor=executor, max_workers=MAX_WORKERS),\n",
    "    vocs=vocs,\n",
    ")\n",
    "X2.strict = False"
   ]
  },
  {
   "cell_type": "code",
   "execution_count": null,
   "metadata": {
    "ExecuteTime": {
     "end_time": "2023-09-07T14:26:15.517683100Z",
     "start_time": "2023-09-07T14:26:15.453300500Z"
    }
   },
   "outputs": [],
   "source": [
    "X2.step()"
   ]
  },
  {
   "cell_type": "code",
   "execution_count": null,
   "metadata": {
    "collapsed": false,
    "ExecuteTime": {
     "start_time": "2023-09-07T14:26:15.453300500Z"
    }
   },
   "outputs": [],
   "source": [
    "for _ in range(20):\n",
    "    X2.step()\n",
    "\n",
    "len(X2.data)"
   ]
  },
  {
   "cell_type": "code",
   "execution_count": null,
   "metadata": {
    "collapsed": false,
    "ExecuteTime": {
     "start_time": "2023-09-07T14:26:15.453300500Z"
    }
   },
   "outputs": [],
   "source": [
    "X2.data.plot.scatter(\"x\", \"y\")"
   ]
  },
  {
   "cell_type": "code",
   "execution_count": null,
   "metadata": {
    "collapsed": false,
    "tags": [],
    "ExecuteTime": {
     "start_time": "2023-09-07T14:26:15.453300500Z"
    }
   },
   "outputs": [],
   "source": [
    "# Asynchronous, Vectorized\n",
    "X2 = AsynchronousXopt(\n",
    "    generator=RandomGenerator(vocs=vocs),\n",
    "    evaluator=Evaluator(function=f, executor=executor, max_workers=MAX_WORKERS),\n",
    "    vocs=vocs,\n",
    ")\n",
    "X2.evaluator.vectorized = True\n",
    "X2.strict = False\n",
    "\n",
    "# This takes fewer steps to achieve a similar number of evaluations\n",
    "for _ in range(3):\n",
    "    X2.step()\n",
    "\n",
    "len(X2.data)"
   ]
  }
 ],
 "metadata": {
  "kernelspec": {
   "display_name": "Python 3 (ipykernel)",
   "language": "python",
   "name": "python3"
  },
  "language_info": {
   "codemirror_mode": {
    "name": "ipython",
    "version": 3
   },
   "file_extension": ".py",
   "mimetype": "text/x-python",
   "name": "python",
   "nbconvert_exporter": "python",
   "pygments_lexer": "ipython3",
   "version": "3.9.16"
  },
  "vscode": {
   "interpreter": {
    "hash": "4483d4964800812ebc77892a92dde3b54705ec8a224d63d9bb659e2cc457018b"
   }
  }
 },
 "nbformat": 4,
 "nbformat_minor": 4
}
