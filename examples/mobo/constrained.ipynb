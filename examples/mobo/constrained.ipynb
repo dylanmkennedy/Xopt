{
 "cells": [
  {
   "cell_type": "markdown",
   "id": "0cc7de35-4dcf-4079-8a64-07b12c33a8c7",
   "metadata": {},
   "source": [
    "## Constrained multiobjective optimization using MOBO\n"
   ]
  },
  {
   "cell_type": "code",
   "execution_count": 1,
   "id": "4a9be9bf-b3c5-468d-84f6-c7b8cf25806e",
   "metadata": {},
   "outputs": [],
   "source": [
    "# main function\n",
    "import numpy as np\n",
    "import torch\n",
    "import matplotlib.pyplot as plt\n",
    "%matplotlib inline\n",
    "\n",
    "\n",
    "from xopt.bayesian.algorithms import mobo\n",
    "from botorch.utils.multi_objective.pareto import is_non_dominated\n",
    "\n",
    "import os\n",
    "SMOKE_TEST = os.environ.get('SMOKE_TEST')\n",
    "\n",
    "# test function\n",
    "from xopt.tests.evaluators import TNK"
   ]
  },
  {
   "cell_type": "code",
   "execution_count": 2,
   "id": "8a792f48-03fd-4785-881d-94aa14bfd4a6",
   "metadata": {},
   "outputs": [],
   "source": [
    "# To see log messages\n",
    "from xopt import output_notebook\n",
    "output_notebook()"
   ]
  },
  {
   "cell_type": "code",
   "execution_count": 3,
   "id": "d738f30f-6946-444f-a432-f29ce4eb5ee3",
   "metadata": {},
   "outputs": [
    {
     "name": "stdout",
     "output_type": "stream",
     "text": [
      "{'name': 'TNK_test', 'description': 'Constrainted test function TNK. See Table V in https://www.iitk.ac.in/kangal/Deb_NSGA-II.pdf', 'simulation': 'test_TNK', 'variables': {'x1': [0, 3.14159], 'x2': [0, 3.14159]}, 'objectives': {'y1': 'MINIMIZE', 'y2': 'MINIMIZE'}, 'constraints': {'c1': ['GREATER_THAN', 0], 'c2': ['LESS_THAN', 0.5]}, 'constants': {'a': 'dummy_constant'}}\n",
      "started running optimization with generator: <xopt.bayesian.generators.mobo.MOBOGenerator object at 0x7fbfc72b1c10>\n",
      "submitting initial candidates at time 2021-09-27T22:18:59-07:00\n",
      "starting optimization loop\n",
      "submitting candidates at time 2021-09-27T22:19:29-07:00\n",
      "submitting candidates at time 2021-09-27T22:20:08-07:00\n",
      "submitting candidates at time 2021-09-27T22:20:41-07:00\n",
      "submitting candidates at time 2021-09-27T22:21:17-07:00\n",
      "submitting candidates at time 2021-09-27T22:21:43-07:00\n",
      "submitting candidates at time 2021-09-27T22:22:13-07:00\n",
      "submitting candidates at time 2021-09-27T22:22:46-07:00\n",
      "submitting candidates at time 2021-09-27T22:23:11-07:00\n",
      "submitting candidates at time 2021-09-27T22:23:34-07:00\n",
      "submitting candidates at time 2021-09-27T22:24:00-07:00\n",
      "submitting candidates at time 2021-09-27T22:24:41-07:00\n",
      "submitting candidates at time 2021-09-27T22:25:02-07:00\n",
      "submitting candidates at time 2021-09-27T22:25:38-07:00\n",
      "submitting candidates at time 2021-09-27T22:26:04-07:00\n",
      "submitting candidates at time 2021-09-27T22:26:27-07:00\n",
      "submitting candidates at time 2021-09-27T22:26:50-07:00\n",
      "submitting candidates at time 2021-09-27T22:27:05-07:00\n",
      "submitting candidates at time 2021-09-27T22:27:22-07:00\n",
      "submitting candidates at time 2021-09-27T22:27:42-07:00\n",
      "submitting candidates at time 2021-09-27T22:27:58-07:00\n",
      "submitting candidates at time 2021-09-27T22:28:19-07:00\n",
      "submitting candidates at time 2021-09-27T22:28:35-07:00\n",
      "submitting candidates at time 2021-09-27T22:28:52-07:00\n",
      "submitting candidates at time 2021-09-27T22:29:06-07:00\n",
      "submitting candidates at time 2021-09-27T22:29:21-07:00\n",
      "submitting candidates at time 2021-09-27T22:29:37-07:00\n",
      "submitting candidates at time 2021-09-27T22:30:01-07:00\n",
      "submitting candidates at time 2021-09-27T22:30:19-07:00\n",
      "submitting candidates at time 2021-09-27T22:30:38-07:00\n",
      "submitting candidates at time 2021-09-27T22:30:56-07:00\n",
      "dict_keys(['variables', 'objectives', 'corrected_objectives', 'constraint_status', 'feasibility', 'model', 'constraints', 'corrected_constraints'])\n"
     ]
    }
   ],
   "source": [
    "# Get VOCS\n",
    "VOCS = TNK.VOCS\n",
    "\n",
    "# add reference point\n",
    "ref = [1.4, 1.4]\n",
    "\n",
    "print(VOCS)\n",
    "# Get evaluate function\n",
    "EVALUATE = TNK.evaluate_TNK\n",
    "n_steps = 30\n",
    "\n",
    "gen_options = {'batch_size':4,                      ## Specify batched mobo\n",
    "               'use_gpu':False,                     ## Use GPU\n",
    "              }\n",
    "\n",
    "if SMOKE_TEST:\n",
    "    n_steps = 3\n",
    "    gen_options['batch_size'] = 1\n",
    "    #gen_options['num_restarts'] = 2\n",
    "    #gen_options['raw_samples'] = 2\n",
    "\n",
    "\n",
    "# Run the optimization\n",
    "results = mobo(VOCS, EVALUATE,\n",
    "               ref = ref,\n",
    "               generator_options = gen_options,\n",
    "               n_initial_samples=20,                   ## Specify number of initial\n",
    "               # random samples\n",
    "               initial_x=None,                        ## Specify explicit initial sample locations (overwrites n_initial_samples)\n",
    "               n_steps=n_steps,                       ## number of optimization step\n",
    "               # restart_data_file = 'results.json',  ## restart optimization file\n",
    "               # custom_model = myCustomModel,        ## Specify custom model creation function (see examples/bayes_exp/serial_nans.ipynb)\n",
    "               )\n",
    "\n",
    "print(results.keys())"
   ]
  },
  {
   "cell_type": "code",
   "execution_count": 4,
   "id": "7d7b9312-17fe-438c-8120-c0fc458b6a3c",
   "metadata": {},
   "outputs": [
    {
     "name": "stdout",
     "output_type": "stream",
     "text": [
      "dict_keys(['variables', 'objectives', 'corrected_objectives', 'constraint_status', 'feasibility', 'model', 'constraints', 'corrected_constraints'])\n"
     ]
    },
    {
     "data": {
      "text/plain": [
       "[<matplotlib.lines.Line2D at 0x7fbfae6b4340>]"
      ]
     },
     "execution_count": 4,
     "metadata": {},
     "output_type": "execute_result"
    },
    {
     "data": {
      "image/png": "[encoded data removed]",
      "text/plain": [
       "<Figure size 432x288 with 1 Axes>"
      ]
     },
     "metadata": {
      "needs_background": "light"
     },
     "output_type": "display_data"
    }
   ],
   "source": [
    "fig, ax = plt.subplots()\n",
    "print(results.keys())\n",
    "train_y = results['objectives']\n",
    "valid_y = train_y[results['feasibility'].flatten()]\n",
    "ax.plot(train_y[:, 0], train_y[:, 1], '.')\n",
    "ax.set_ylabel('$f_2$')\n",
    "ax.set_xlabel('$f_1$')\n",
    "\n",
    "# highlight Pareto front, ONLY using valid observations (note botorch assumes maximization when determing dominant points)\n",
    "non_dom = is_non_dominated(-valid_y)\n",
    "ax.plot(valid_y[:,0][non_dom],valid_y[:,1][non_dom],'C1o')"
   ]
  }
 ],
 "metadata": {
  "kernelspec": {
   "display_name": "Python 3 (ipykernel)",
   "language": "python",
   "name": "python3"
  },
  "language_info": {
   "codemirror_mode": {
    "name": "ipython",
    "version": 3
   },
   "file_extension": ".py",
   "mimetype": "text/x-python",
   "name": "python",
   "nbconvert_exporter": "python",
   "pygments_lexer": "ipython3",
   "version": "3.8.11"
  }
 },
 "nbformat": 4,
 "nbformat_minor": 5
}