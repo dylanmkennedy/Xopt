{
 "cells": [
  {
   "cell_type": "code",
   "execution_count": 1,
   "metadata": {},
   "outputs": [],
   "source": [
    "# Useful for debugging\n",
    "%load_ext autoreload\n",
    "%autoreload 2"
   ]
  },
  {
   "cell_type": "markdown",
   "metadata": {},
   "source": [
    "# Xopt class, TNK test function\n",
    "\n",
    "This is the class method for running Xopt. Use Bayesian exploration to explore the input space.\n",
    "\n",
    "TNK function\n",
    "$n=2$ variables:\n",
    "$x_i \\in [0, \\pi], i=1,2$\n",
    "\n",
    "Objectives:\n",
    "- $f_i(x) = x_i$\n",
    "\n",
    "Constraints:\n",
    "- $g_1(x) = -x_1^2 -x_2^2 + 1 + 0.1 \\cos\\left(16 \\arctan \\frac{x_1}{x_2}\\right) \\le 0$\n",
    "- $g_2(x) = (x_1 - 1/2)^2 + (x_2-1/2)^2 \\le 0.5$"
   ]
  },
  {
   "cell_type": "code",
   "execution_count": 2,
   "metadata": {},
   "outputs": [],
   "source": [
    "# Import the class\n",
    "from xopt import Xopt"
   ]
  },
  {
   "cell_type": "markdown",
   "metadata": {},
   "source": [
    "The `Xopt` object can be instantiated from a JSON or YAML file, or a dict, with the proper structure.\n",
    "\n",
    "Here we will make one"
   ]
  },
  {
   "cell_type": "code",
   "execution_count": 3,
   "metadata": {},
   "outputs": [],
   "source": [
    "import yaml\n",
    "# Make a proper input file. \n",
    "YAML=\"\"\"\n",
    "xopt: {output_path: null, verbose: true}\n",
    "\n",
    "algorithm:\n",
    "  name: bayesian_exploration\n",
    "  options:  \n",
    "      n_initial_samples: 5\n",
    "      n_steps: 25\n",
    "      verbose: True\n",
    "      generator_options:                     ## options for bayesian exploration acquisition function\n",
    "          batch_size: 1                      ## batch size for parallelized optimization\n",
    "          #sigma: [[0.01, 0.0], [0.0,0.01]]   ## proximal biasing term\n",
    "          use_gpu: False\n",
    "\n",
    "  \n",
    "simulation: \n",
    "  name: test_TNK\n",
    "  evaluate: xopt.evaluators.test_TNK.evaluate_TNK  \n",
    "  \n",
    "vocs:\n",
    "  name: TNK_test\n",
    "  description: null\n",
    "  simulation: test_TNK\n",
    "  templates: null\n",
    "  variables:\n",
    "    x1: [0, 3.14159]\n",
    "    x2: [0, 3.14159]\n",
    "  objectives: {y1: None}\n",
    "  constraints:\n",
    "    c1: [GREATER_THAN, 0]\n",
    "    c2: ['LESS_THAN', 0.5]\n",
    "  linked_variables: {}\n",
    "  constants: {a: dummy_constant}\n",
    "\n",
    "\"\"\"\n",
    "config = yaml.safe_load(YAML)"
   ]
  },
  {
   "cell_type": "code",
   "execution_count": 4,
   "metadata": {},
   "outputs": [
    {
     "name": "stdout",
     "output_type": "stream",
     "text": [
      "Loading config as dict.\n",
      "Warning: No path set for key xopt : output_path\n",
      "Warning: No path set for key algorithm : options : restart_file\n"
     ]
    },
    {
     "data": {
      "text/plain": [
       "\n",
       "            Xopt \n",
       "________________________________           \n",
       "Version: 0.4.3+98.gfc15b12.dirty\n",
       "Configured: True\n",
       "Config as YAML:\n",
       "xopt: {output_path: null, verbose: true, algorithm: cnsga}\n",
       "algorithm:\n",
       "  name: bayesian_exploration\n",
       "  function: xopt.bayesian.algorithms.bayesian_exploration\n",
       "  options:\n",
       "    n_initial_samples: 5\n",
       "    n_steps: 25\n",
       "    verbose: true\n",
       "    generator_options: {batch_size: 1, use_gpu: false}\n",
       "    custom_model: null\n",
       "    restart_file: null\n",
       "    initial_x: null\n",
       "simulation:\n",
       "  name: test_TNK\n",
       "  evaluate: xopt.evaluators.test_TNK.evaluate_TNK\n",
       "  options: {extra_option: abc}\n",
       "vocs:\n",
       "  name: TNK_test\n",
       "  description: null\n",
       "  simulation: test_TNK\n",
       "  templates: null\n",
       "  variables:\n",
       "    x1: [0, 3.14159]\n",
       "    x2: [0, 3.14159]\n",
       "  objectives: {y1: None}\n",
       "  constraints:\n",
       "    c1: [GREATER_THAN, 0]\n",
       "    c2: [LESS_THAN, 0.5]\n",
       "  linked_variables: {}\n",
       "  constants: {a: dummy_constant}"
      ]
     },
     "execution_count": 4,
     "metadata": {},
     "output_type": "execute_result"
    }
   ],
   "source": [
    "X = Xopt(config)\n",
    "X"
   ]
  },
  {
   "cell_type": "markdown",
   "metadata": {},
   "source": [
    "# Run BayesOpt"
   ]
  },
  {
   "cell_type": "code",
   "execution_count": 5,
   "metadata": {},
   "outputs": [],
   "source": [
    "# Pick one of these\n",
    "from concurrent.futures import ThreadPoolExecutor as PoolExecutor\n",
    "#from concurrent.futures import ProcessPoolExecutor as PoolExecutor\n",
    "\n",
    "executor = PoolExecutor()\n",
    "# This will also work. \n",
    "#executor=None"
   ]
  },
  {
   "cell_type": "code",
   "execution_count": 6,
   "metadata": {},
   "outputs": [
    {
     "name": "stdout",
     "output_type": "stream",
     "text": [
      "Starting at time 2021-08-27T10:45:08-05:00\n",
      "started running optimization with generator: <xopt.bayesian.generators.exploration.BayesianExplorationGenerator object at 0x000001E86BDB1160>\n",
      "submitting initial candidates at time 2021-08-27T10:45:08-05:00\n",
      "starting optimization loop\n",
      "Model creation time: 0.246 s\n",
      "Candidate generation time: 0.613 s\n",
      "Candidate(s): tensor([[0.0000, 0.3002]], dtype=torch.float64)\n",
      "submitting candidates at time 2021-08-27T10:45:09-05:00\n",
      "Model creation time: 0.295 s\n",
      "Candidate generation time: 1.216 s\n",
      "Candidate(s): tensor([[0.8412, 1.0371]], dtype=torch.float64)\n",
      "submitting candidates at time 2021-08-27T10:45:10-05:00\n",
      "Model creation time: 0.289 s\n",
      "Candidate generation time: 0.55 s\n",
      "Candidate(s): tensor([[3.1416, 0.0000]], dtype=torch.float64)\n",
      "submitting candidates at time 2021-08-27T10:45:11-05:00\n",
      "Model creation time: 0.276 s\n",
      "Candidate generation time: 0.675 s\n",
      "Candidate(s): tensor([[0.6289, 1.0420]], dtype=torch.float64)\n",
      "submitting candidates at time 2021-08-27T10:45:12-05:00\n",
      "Model creation time: 0.456 s\n",
      "Candidate generation time: 0.792 s\n",
      "Candidate(s): tensor([[1.0470, 0.5442]], dtype=torch.float64)\n",
      "submitting candidates at time 2021-08-27T10:45:13-05:00\n",
      "Model creation time: 0.469 s\n",
      "Candidate generation time: 0.779 s\n",
      "Candidate(s): tensor([[0.3392, 1.0361]], dtype=torch.float64)\n",
      "submitting candidates at time 2021-08-27T10:45:14-05:00\n",
      "Model creation time: 0.57 s\n",
      "Candidate generation time: 0.752 s\n",
      "Candidate(s): tensor([[0.8366, 0.0000]], dtype=torch.float64)\n",
      "submitting candidates at time 2021-08-27T10:45:16-05:00\n",
      "Model creation time: 0.476 s\n",
      "Candidate generation time: 0.899 s\n",
      "Candidate(s): tensor([[0.1863, 1.0839]], dtype=torch.float64)\n",
      "submitting candidates at time 2021-08-27T10:45:17-05:00\n",
      "Model creation time: 1.041 s\n",
      "Candidate generation time: 0.966 s\n",
      "Candidate(s): tensor([[0.0903, 1.0363]], dtype=torch.float64)\n",
      "submitting candidates at time 2021-08-27T10:45:19-05:00\n",
      "Model creation time: 0.615 s\n",
      "Candidate generation time: 0.782 s\n",
      "Candidate(s): tensor([[1.0373, 0.8998]], dtype=torch.float64)\n",
      "submitting candidates at time 2021-08-27T10:45:21-05:00\n",
      "Model creation time: 0.428 s\n",
      "Candidate generation time: 0.871 s\n",
      "Candidate(s): tensor([[1.0858, 0.2250]], dtype=torch.float64)\n",
      "submitting candidates at time 2021-08-27T10:45:22-05:00\n",
      "Model creation time: 0.773 s\n",
      "Candidate generation time: 0.929 s\n",
      "Candidate(s): tensor([[0.7918, 0.7329]], dtype=torch.float64)\n",
      "submitting candidates at time 2021-08-27T10:45:24-05:00\n",
      "Model creation time: 0.518 s\n",
      "Candidate generation time: 1.246 s\n",
      "Candidate(s): tensor([[1.0467, 0.0994]], dtype=torch.float64)\n",
      "submitting candidates at time 2021-08-27T10:45:25-05:00\n",
      "Model creation time: 0.469 s\n",
      "Candidate generation time: 1.185 s\n",
      "Candidate(s): tensor([[0.6017, 1.1675]], dtype=torch.float64)\n",
      "submitting candidates at time 2021-08-27T10:45:27-05:00\n",
      "Model creation time: 0.774 s\n",
      "Candidate generation time: 1.318 s\n",
      "Candidate(s): tensor([[0.4379, 0.9643]], dtype=torch.float64)\n",
      "submitting candidates at time 2021-08-27T10:45:29-05:00\n",
      "Model creation time: 0.557 s\n",
      "Candidate generation time: 1.841 s\n",
      "Candidate(s): tensor([[1.0874, 0.8619]], dtype=torch.float64)\n",
      "submitting candidates at time 2021-08-27T10:45:32-05:00\n",
      "Model creation time: 0.549 s\n",
      "Candidate generation time: 1.257 s\n",
      "Candidate(s): tensor([[0.8152, 1.1102]], dtype=torch.float64)\n",
      "submitting candidates at time 2021-08-27T10:45:33-05:00\n",
      "Model creation time: 0.522 s\n",
      "Candidate generation time: 1.127 s\n",
      "Candidate(s): tensor([[0.8937, 0.5964]], dtype=torch.float64)\n",
      "submitting candidates at time 2021-08-27T10:45:35-05:00\n",
      "Model creation time: 0.501 s\n",
      "Candidate generation time: 1.648 s\n",
      "Candidate(s): tensor([[0.0591, 1.0336]], dtype=torch.float64)\n",
      "submitting candidates at time 2021-08-27T10:45:37-05:00\n",
      "Model creation time: 0.372 s\n",
      "Candidate generation time: 1.543 s\n",
      "Candidate(s): tensor([[1.0532, 0.0875]], dtype=torch.float64)\n",
      "submitting candidates at time 2021-08-27T10:45:39-05:00\n",
      "Model creation time: 0.787 s\n",
      "Candidate generation time: 1.484 s\n",
      "Candidate(s): tensor([[0.0624, 1.0418]], dtype=torch.float64)\n",
      "submitting candidates at time 2021-08-27T10:45:41-05:00\n",
      "Model creation time: 0.542 s\n",
      "Candidate generation time: 1.424 s\n",
      "Candidate(s): tensor([[0.6843, 0.8078]], dtype=torch.float64)\n",
      "submitting candidates at time 2021-08-27T10:45:43-05:00\n",
      "Model creation time: 0.433 s\n",
      "Candidate generation time: 1.415 s\n",
      "Candidate(s): tensor([[1.1653, 0.6795]], dtype=torch.float64)\n",
      "submitting candidates at time 2021-08-27T10:45:45-05:00\n",
      "Model creation time: 0.652 s\n",
      "Candidate generation time: 1.74 s\n",
      "Candidate(s): tensor([[0.5291, 1.1890]], dtype=torch.float64)\n",
      "submitting candidates at time 2021-08-27T10:45:48-05:00\n",
      "Model creation time: 0.452 s\n",
      "Candidate generation time: 1.741 s\n",
      "Candidate(s): tensor([[0.9200, 1.0509]], dtype=torch.float64)\n",
      "submitting candidates at time 2021-08-27T10:45:50-05:00\n"
     ]
    }
   ],
   "source": [
    "# Change max generations\n",
    "X.run(executor=executor)"
   ]
  },
  {
   "cell_type": "markdown",
   "metadata": {},
   "source": [
    "# Plot\n",
    "- plot input space samples -> yellow points satisfy constraints and purple points do not"
   ]
  },
  {
   "cell_type": "code",
   "execution_count": 7,
   "metadata": {},
   "outputs": [
    {
     "name": "stdout",
     "output_type": "stream",
     "text": [
      "dict_keys(['variables', 'objectives', 'corrected_objectives', 'constraints', 'corrected_constraints', 'constraint_status', 'feasibility', 'model'])\n"
     ]
    },
    {
     "data": {
      "image/png": "[encoded data removed]",
      "text/plain": [
       "<Figure size 432x288 with 1 Axes>"
      ]
     },
     "metadata": {
      "needs_background": "light"
     },
     "output_type": "display_data"
    }
   ],
   "source": [
    "\n",
    "\n",
    "import matplotlib.pyplot as plt\n",
    "%matplotlib inline\n",
    "\n",
    "# plot exploration results and path - exploration should explore the feasible region of the TNK problem - See Table V in https://www.iitk.ac.in/kangal/Deb_NSGA-II.pdf\n",
    "fig, ax = plt.subplots()\n",
    "\n",
    "results = X.results\n",
    "print(results.keys())\n",
    "variables = results['variables']\n",
    "valid = results['variables'][results['feasibility'].flatten()]\n",
    "ax.plot(variables[:, 0], variables[:, 1], '-o', label = 'all')\n",
    "ax.plot(valid[:, 0], valid[:, 1], 'o', label = 'valid')\n",
    "ax.set_xlabel('$x_1$')\n",
    "ax.set_ylabel('$x_2$')\n",
    "ax.legend()\n",
    "\n",
    "plt.show()"
   ]
  },
  {
   "cell_type": "code",
   "execution_count": null,
   "metadata": {},
   "outputs": [],
   "source": []
  },
  {
   "cell_type": "code",
   "execution_count": null,
   "metadata": {},
   "outputs": [],
   "source": []
  }
 ],
 "metadata": {
  "kernelspec": {
   "display_name": "xopt",
   "language": "python",
   "name": "xopt"
  },
  "language_info": {
   "codemirror_mode": {
    "name": "ipython",
    "version": 3
   },
   "file_extension": ".py",
   "mimetype": "text/x-python",
   "name": "python",
   "nbconvert_exporter": "python",
   "pygments_lexer": "ipython3",
   "version": "3.9.6"
  }
 },
 "nbformat": 4,
 "nbformat_minor": 4
}
