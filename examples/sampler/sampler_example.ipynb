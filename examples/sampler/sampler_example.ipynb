{
 "cells": [
  {
   "cell_type": "code",
   "execution_count": 1,
   "metadata": {},
   "outputs": [],
   "source": [
    "# Useful for debugging\n",
    "%load_ext autoreload\n",
    "%autoreload 2"
   ]
  },
  {
   "cell_type": "markdown",
   "metadata": {},
   "source": [
    "# Random Sample example"
   ]
  },
  {
   "cell_type": "code",
   "execution_count": 2,
   "metadata": {},
   "outputs": [],
   "source": [
    "# This is the main function\n",
    "from xopt.sampler import random_sampler\n",
    "\n",
    "# Test function\n",
    "from xopt.evaluators import test_TNK"
   ]
  },
  {
   "cell_type": "code",
   "execution_count": 3,
   "metadata": {},
   "outputs": [
    {
     "data": {
      "text/plain": [
       "{'name': 'TNK_test',\n",
       " 'description': 'Constrainted test function TNK. See Table V in https://www.iitk.ac.in/kangal/Deb_NSGA-II.pdf',\n",
       " 'simulation': 'test_TNK',\n",
       " 'variables': {'x1': [0, 3.14159], 'x2': [0, 3.14159]},\n",
       " 'objectives': {'y1': 'MINIMIZE', 'y2': 'MINIMIZE'},\n",
       " 'constraints': {'c1': ['GREATER_THAN', 0], 'c2': ['LESS_THAN', 0.5]},\n",
       " 'constants': {'a': 'dummy_constant'},\n",
       " 'linked_variables': {'x9': 'x1'}}"
      ]
     },
     "execution_count": 3,
     "metadata": {},
     "output_type": "execute_result"
    }
   ],
   "source": [
    "# Get VOCS\n",
    "VOCS = test_TNK.VOCS\n",
    "VOCS\n"
   ]
  },
  {
   "cell_type": "code",
   "execution_count": 4,
   "metadata": {},
   "outputs": [],
   "source": [
    "# Get evaluate function\n",
    "EVALUATE = test_TNK.evaluate_TNK\n",
    "?EVALUATE"
   ]
  },
  {
   "cell_type": "code",
   "execution_count": 5,
   "metadata": {},
   "outputs": [],
   "source": [
    "VOCS['variables']['x1'] = [0, 4] # Extent to occasionally throw an exception"
   ]
  },
  {
   "cell_type": "code",
   "execution_count": 6,
   "metadata": {},
   "outputs": [
    {
     "name": "stdout",
     "output_type": "stream",
     "text": [
      "\n",
      "\n",
      "███████╗ █████╗ ███╗   ███╗██████╗ ██╗     ███████╗██████╗ \n",
      "██╔════╝██╔══██╗████╗ ████║██╔══██╗██║     ██╔════╝██╔══██╗\n",
      "███████╗███████║██╔████╔██║██████╔╝██║     █████╗  ██████╔╝\n",
      "╚════██║██╔══██║██║╚██╔╝██║██╔═══╝ ██║     ██╔══╝  ██╔══██╗\n",
      "███████║██║  ██║██║ ╚═╝ ██║██║     ███████╗███████╗██║  ██║\n",
      "╚══════╝╚═╝  ╚═╝╚═╝     ╚═╝╚═╝     ╚══════╝╚══════╝╚═╝  ╚═╝\n",
      "                                                           \n",
      "\n",
      "Xopt Random Sampler\n",
      "Version 0.4.3\n",
      "\n",
      "..........10 samples completed in 0.00493 minutes\n",
      "..........10 samples completed in 0.00015 minutes\n",
      "..........10 samples completed in 0.00020 minutes\n",
      "..........10 samples completed in 0.00017 minutes\n",
      "..........10 samples completed in 0.00013 minutes\n",
      "..........10 samples completed in 0.00022 minutes\n",
      "..........10 samples completed in 0.00017 minutes\n",
      "..........10 samples completed in 0.00015 minutes\n",
      "..........10 samples completed in 0.00018 minutes\n",
      "..........10 samples completed in 0.00017 minutes\n",
      "..........10 samples completed in 0.00015 minutes\n",
      "...."
     ]
    }
   ],
   "source": [
    "# Get a parallel executor\n",
    "from concurrent.futures import ProcessPoolExecutor\n",
    "executor = ProcessPoolExecutor()\n",
    "\n",
    "# Run\n",
    "results = random_sampler(vocs=VOCS, evaluate_f=EVALUATE, executor = executor, verbose=True)"
   ]
  },
  {
   "cell_type": "code",
   "execution_count": 7,
   "metadata": {},
   "outputs": [
    {
     "name": "stdout",
     "output_type": "stream",
     "text": [
      "\n",
      "\n",
      "███████╗ █████╗ ███╗   ███╗██████╗ ██╗     ███████╗██████╗ \n",
      "██╔════╝██╔══██╗████╗ ████║██╔══██╗██║     ██╔════╝██╔══██╗\n",
      "███████╗███████║██╔████╔██║██████╔╝██║     █████╗  ██████╔╝\n",
      "╚════██║██╔══██║██║╚██╔╝██║██╔═══╝ ██║     ██╔══╝  ██╔══██╗\n",
      "███████║██║  ██║██║ ╚═╝ ██║██║     ███████╗███████╗██║  ██║\n",
      "╚══════╝╚═╝  ╚═╝╚═╝     ╚═╝╚═╝     ╚══════╝╚══════╝╚═╝  ╚═╝\n",
      "                                                           \n",
      "\n",
      "Xopt Random Sampler\n",
      "Version 0.4.3\n",
      "\n",
      "..........10 samples completed in 0.00533 minutes\n",
      "Samples written to:\n",
      " C:\\Users\\RYANRO~1\\AppData\\Local\\Temp\\tmpty2q97io\\sampler-2021-08-10-1.json\n",
      "..........10 samples completed in 0.00018 minutes\n",
      "Samples written to:\n",
      " C:\\Users\\RYANRO~1\\AppData\\Local\\Temp\\tmpty2q97io\\sampler-2021-08-10-2.json\n",
      "..........10 samples completed in 0.00023 minutes\n",
      "Samples written to:\n",
      " C:\\Users\\RYANRO~1\\AppData\\Local\\Temp\\tmpty2q97io\\sampler-2021-08-10-3.json\n",
      "..........10 samples completed in 0.00018 minutes\n",
      "Samples written to:\n",
      " C:\\Users\\RYANRO~1\\AppData\\Local\\Temp\\tmpty2q97io\\sampler-2021-08-10-4.json\n",
      "..........10 samples completed in 0.00018 minutes\n",
      "Samples written to:\n",
      " C:\\Users\\RYANRO~1\\AppData\\Local\\Temp\\tmpty2q97io\\sampler-2021-08-10-5.json\n",
      "..........10 samples completed in 0.00023 minutes\n",
      "Samples written to:\n",
      " C:\\Users\\RYANRO~1\\AppData\\Local\\Temp\\tmpty2q97io\\sampler-2021-08-10-6.json\n",
      "..........10 samples completed in 0.00020 minutes\n",
      "Samples written to:\n",
      " C:\\Users\\RYANRO~1\\AppData\\Local\\Temp\\tmpty2q97io\\sampler-2021-08-10-7.json\n",
      "..........10 samples completed in 0.00022 minutes\n",
      "Samples written to:\n",
      " C:\\Users\\RYANRO~1\\AppData\\Local\\Temp\\tmpty2q97io\\sampler-2021-08-10-8.json\n",
      "..........10 samples completed in 0.00022 minutes\n",
      "Samples written to:\n",
      " C:\\Users\\RYANRO~1\\AppData\\Local\\Temp\\tmpty2q97io\\sampler-2021-08-10-9.json\n",
      "..........10 samples completed in 0.00020 minutes\n",
      "Samples written to:\n",
      " C:\\Users\\RYANRO~1\\AppData\\Local\\Temp\\tmpty2q97io\\sampler-2021-08-10-10.json\n",
      "..........10 samples completed in 0.00020 minutes\n",
      "Samples written to:\n",
      " C:\\Users\\RYANRO~1\\AppData\\Local\\Temp\\tmpty2q97io\\sampler-2021-08-10-11.json\n",
      "........"
     ]
    }
   ],
   "source": [
    "from tempfile import TemporaryDirectory\n",
    "SCRATCH = TemporaryDirectory()\n",
    "\n",
    "executor = ProcessPoolExecutor()\n",
    "\n",
    "# Run with output path\n",
    "results2 = random_sampler(vocs=test_TNK.VOCS, evaluate_f=test_TNK.evaluate_TNK, output_path=SCRATCH.name, executor=executor, verbose=True)"
   ]
  },
  {
   "cell_type": "markdown",
   "metadata": {},
   "source": [
    "# Class method"
   ]
  },
  {
   "cell_type": "code",
   "execution_count": 8,
   "metadata": {},
   "outputs": [],
   "source": [
    "!mkdir temp"
   ]
  },
  {
   "cell_type": "code",
   "execution_count": 9,
   "metadata": {},
   "outputs": [
    {
     "data": {
      "text/plain": [
       "{'xopt': {'output_path': 'temp', 'verbose': True, 'algorithm': 'cnsga'},\n",
       " 'algorithm': {'name': 'random_sampler', 'options': {'verbose': 'T'}},\n",
       " 'simulation': {'name': 'test_TNK',\n",
       "  'evaluate': 'xopt.evaluators.test_TNK.evaluate_TNK'},\n",
       " 'vocs': {'name': 'TNK_test',\n",
       "  'description': None,\n",
       "  'simulation': 'test_TNK',\n",
       "  'templates': None,\n",
       "  'variables': {'x1': [0, 3.14159], 'x2': [0, 3.14159]},\n",
       "  'objectives': {'y1': 'MINIMIZE', 'y2': 'MINIMIZE'},\n",
       "  'constraints': {'c1': ['GREATER_THAN', 0], 'c2': ['GREATER_THAN', 0]},\n",
       "  'linked_variables': {'x9': 'x1'},\n",
       "  'constants': {'a': 'dummy_constant'}}}"
      ]
     },
     "execution_count": 9,
     "metadata": {},
     "output_type": "execute_result"
    }
   ],
   "source": [
    "import yaml\n",
    "\n",
    "# Make a proper input file. \n",
    "YAML=\"\"\"\n",
    "xopt: {output_path: temp, verbose: true, algorithm: cnsga}\n",
    "\n",
    "algorithm:\n",
    "  name: random_sampler\n",
    "  options:\n",
    "    verbose: T\n",
    "    \n",
    "simulation: \n",
    "  name: test_TNK\n",
    "  evaluate: xopt.evaluators.test_TNK.evaluate_TNK  \n",
    "  \n",
    "vocs:\n",
    "  name: TNK_test\n",
    "  description: null\n",
    "  simulation: test_TNK\n",
    "  templates: null\n",
    "  variables:\n",
    "    x1: [0, 3.14159]\n",
    "    x2: [0, 3.14159]\n",
    "  objectives: {y1: MINIMIZE, y2: MINIMIZE}\n",
    "  constraints:\n",
    "    c1: [GREATER_THAN, 0]\n",
    "    c2: [GREATER_THAN, 0]\n",
    "  linked_variables: {x9: x1}\n",
    "  constants: {a: dummy_constant}\n",
    "\n",
    "\"\"\"\n",
    "config = yaml.safe_load(YAML)\n",
    "config"
   ]
  },
  {
   "cell_type": "code",
   "execution_count": 10,
   "metadata": {},
   "outputs": [],
   "source": [
    "from xopt import Xopt\n",
    "from xopt.tools import load_config"
   ]
  },
  {
   "cell_type": "code",
   "execution_count": 11,
   "metadata": {},
   "outputs": [
    {
     "name": "stdout",
     "output_type": "stream",
     "text": [
      "Loading config as text\n"
     ]
    },
    {
     "data": {
      "text/plain": [
       "\n",
       "            Xopt \n",
       "________________________________           \n",
       "Version: 0.4.3\n",
       "Configured: True\n",
       "Config as YAML:\n",
       "xopt: {output_path: 'C:\\Users\\Ryan Roussel\\Documents\\GitHub\\xopt\\examples\\sampler\\temp',\n",
       "  verbose: true, algorithm: cnsga}\n",
       "algorithm:\n",
       "  name: random_sampler\n",
       "  function: xopt.sampler.random_sampler\n",
       "  options: {verbose: T, executor: null, chunk_size: 10, max_samples: 100}\n",
       "simulation:\n",
       "  name: test_TNK\n",
       "  evaluate: xopt.evaluators.test_TNK.evaluate_TNK\n",
       "  options: {extra_option: abc}\n",
       "vocs:\n",
       "  name: TNK_test\n",
       "  description: null\n",
       "  simulation: test_TNK\n",
       "  templates: null\n",
       "  variables:\n",
       "    x1: [0, 3.14159]\n",
       "    x2: [0, 3.14159]\n",
       "  objectives: {y1: MINIMIZE, y2: MINIMIZE}\n",
       "  constraints:\n",
       "    c1: [GREATER_THAN, 0]\n",
       "    c2: [GREATER_THAN, 0]\n",
       "  linked_variables: {x9: x1}\n",
       "  constants: {a: dummy_constant}"
      ]
     },
     "execution_count": 11,
     "metadata": {},
     "output_type": "execute_result"
    }
   ],
   "source": [
    "executor = ProcessPoolExecutor()\n",
    "X = Xopt(YAML)\n",
    "X"
   ]
  },
  {
   "cell_type": "code",
   "execution_count": 12,
   "metadata": {},
   "outputs": [
    {
     "name": "stdout",
     "output_type": "stream",
     "text": [
      "Starting at time 2021-08-10T20:18:57-05:00\n",
      "\n",
      "\n",
      "███████╗ █████╗ ███╗   ███╗██████╗ ██╗     ███████╗██████╗ \n",
      "██╔════╝██╔══██╗████╗ ████║██╔══██╗██║     ██╔════╝██╔══██╗\n",
      "███████╗███████║██╔████╔██║██████╔╝██║     █████╗  ██████╔╝\n",
      "╚════██║██╔══██║██║╚██╔╝██║██╔═══╝ ██║     ██╔══╝  ██╔══██╗\n",
      "███████║██║  ██║██║ ╚═╝ ██║██║     ███████╗███████╗██║  ██║\n",
      "╚══════╝╚═╝  ╚═╝╚═╝     ╚═╝╚═╝     ╚══════╝╚══════╝╚═╝  ╚═╝\n",
      "                                                           \n",
      "\n",
      "Xopt Random Sampler\n",
      "Version 0.4.3\n",
      "\n",
      "No executor given. Running in serial mode.\n",
      "..........10 samples completed in 0.00012 minutes\n",
      "Samples written to:\n",
      " C:\\Users\\Ryan Roussel\\Documents\\GitHub\\xopt\\examples\\sampler\\temp\\sampler-2021-08-10-1.json\n",
      "..........10 samples completed in 0.00022 minutes\n",
      "Samples written to:\n",
      " C:\\Users\\Ryan Roussel\\Documents\\GitHub\\xopt\\examples\\sampler\\temp\\sampler-2021-08-10-2.json\n",
      "..........10 samples completed in 0.00025 minutes\n",
      "Samples written to:\n",
      " C:\\Users\\Ryan Roussel\\Documents\\GitHub\\xopt\\examples\\sampler\\temp\\sampler-2021-08-10-3.json\n",
      "..........10 samples completed in 0.00015 minutes\n",
      "Samples written to:\n",
      " C:\\Users\\Ryan Roussel\\Documents\\GitHub\\xopt\\examples\\sampler\\temp\\sampler-2021-08-10-4.json\n",
      "..........10 samples completed in 0.00013 minutes\n",
      "Samples written to:\n",
      " C:\\Users\\Ryan Roussel\\Documents\\GitHub\\xopt\\examples\\sampler\\temp\\sampler-2021-08-10-5.json\n",
      "..........10 samples completed in 0.00012 minutes\n",
      "Samples written to:\n",
      " C:\\Users\\Ryan Roussel\\Documents\\GitHub\\xopt\\examples\\sampler\\temp\\sampler-2021-08-10-6.json\n",
      "..........10 samples completed in 0.00017 minutes\n",
      "Samples written to:\n",
      " C:\\Users\\Ryan Roussel\\Documents\\GitHub\\xopt\\examples\\sampler\\temp\\sampler-2021-08-10-7.json\n",
      "..........10 samples completed in 0.00012 minutes\n",
      "Samples written to:\n",
      " C:\\Users\\Ryan Roussel\\Documents\\GitHub\\xopt\\examples\\sampler\\temp\\sampler-2021-08-10-8.json\n",
      "..........10 samples completed in 0.00012 minutes\n",
      "Samples written to:\n",
      " C:\\Users\\Ryan Roussel\\Documents\\GitHub\\xopt\\examples\\sampler\\temp\\sampler-2021-08-10-9.json\n",
      "..........10 samples completed in 0.00015 minutes\n",
      "Samples written to:\n",
      " C:\\Users\\Ryan Roussel\\Documents\\GitHub\\xopt\\examples\\sampler\\temp\\sampler-2021-08-10-10.json\n",
      "..........10 samples completed in 0.00012 minutes\n",
      "Samples written to:\n",
      " C:\\Users\\Ryan Roussel\\Documents\\GitHub\\xopt\\examples\\sampler\\temp\\sampler-2021-08-10-11.json\n",
      "..........10 samples completed in 0.00015 minutes\n",
      "Samples written to:\n",
      " C:\\Users\\Ryan Roussel\\Documents\\GitHub\\xopt\\examples\\sampler\\temp\\sampler-2021-08-10-12.json\n"
     ]
    }
   ],
   "source": [
    "X.run(executor)"
   ]
  },
  {
   "cell_type": "code",
   "execution_count": 13,
   "metadata": {},
   "outputs": [
    {
     "ename": "AttributeError",
     "evalue": "'Xopt' object has no attribute 'population'",
     "output_type": "error",
     "traceback": [
      "\u001b[1;31m---------------------------------------------------------------------------\u001b[0m",
      "\u001b[1;31mAttributeError\u001b[0m                            Traceback (most recent call last)",
      "\u001b[1;32mC:\\Users\\RYANRO~1\\AppData\\Local\\Temp/ipykernel_28316/1660024937.py\u001b[0m in \u001b[0;36m<module>\u001b[1;34m\u001b[0m\n\u001b[1;32m----> 1\u001b[1;33m \u001b[0mX\u001b[0m\u001b[1;33m.\u001b[0m\u001b[0mpopulation\u001b[0m\u001b[1;33m.\u001b[0m\u001b[0mkeys\u001b[0m\u001b[1;33m(\u001b[0m\u001b[1;33m)\u001b[0m\u001b[1;33m\u001b[0m\u001b[1;33m\u001b[0m\u001b[0m\n\u001b[0m",
      "\u001b[1;31mAttributeError\u001b[0m: 'Xopt' object has no attribute 'population'"
     ]
    }
   ],
   "source": [
    "X.result.keys()"
   ]
  },
  {
   "cell_type": "code",
   "execution_count": null,
   "metadata": {},
   "outputs": [],
   "source": [
    "!rm -r temp"
   ]
  }
 ],
 "metadata": {
  "kernelspec": {
   "display_name": "Python 3 (ipykernel)",
   "language": "python",
   "name": "python3"
  },
  "language_info": {
   "codemirror_mode": {
    "name": "ipython",
    "version": 3
   },
   "file_extension": ".py",
   "mimetype": "text/x-python",
   "name": "python",
   "nbconvert_exporter": "python",
   "pygments_lexer": "ipython3",
   "version": "3.9.6"
  }
 },
 "nbformat": 4,
 "nbformat_minor": 4
}
