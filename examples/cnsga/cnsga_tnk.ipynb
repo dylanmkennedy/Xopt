{
 "cells": [
  {
   "cell_type": "code",
   "execution_count": 3,
   "metadata": {},
   "outputs": [
    {
     "name": "stdout",
     "output_type": "stream",
     "text": [
      "The autoreload extension is already loaded. To reload it, use:\n",
      "  %reload_ext autoreload\n"
     ]
    }
   ],
   "source": [
    "# Useful for debugging\n",
    "%load_ext autoreload\n",
    "%autoreload 2"
   ]
  },
  {
   "cell_type": "markdown",
   "metadata": {},
   "source": [
    " # xopt CNSGA example"
   ]
  },
  {
   "cell_type": "code",
   "execution_count": 4,
   "metadata": {},
   "outputs": [],
   "source": [
    "from xopt.cnsga import cnsga\n",
    "import json\n",
    "import numpy as np\n",
    "import matplotlib.pyplot as plt"
   ]
  },
  {
   "cell_type": "code",
   "execution_count": 5,
   "metadata": {},
   "outputs": [
    {
     "data": {
      "text/plain": [
       "((0, 0), (-1.1, 0.0))"
      ]
     },
     "execution_count": 5,
     "metadata": {},
     "output_type": "execute_result"
    }
   ],
   "source": [
    "NAME = 'TNK'\n",
    "BOUND_LOW, BOUND_UP = [0.0, 0.0], [3.14159, 3.14159]  \n",
    "\n",
    "\n",
    "X_RANGE = [0, 1.4]\n",
    "Y_RANGE = [0, 1.4]\n",
    "\n",
    "# Pure number version\n",
    "def TNK(individual):    \n",
    "    x1=individual[0]\n",
    "    x2=individual[1]\n",
    "    objectives =  (x1, x2)\n",
    "    constraints = (x1**2+x2**2-1.0 - 0.1*np.cos(16*np.arctan2(x1, x2)), 0.5-(x1-0.5)**2-(x2-0.5)**2 )\n",
    "    return objectives, constraints\n",
    "\n",
    "# labeled version\n",
    "def evaluate_TNK(inputs):\n",
    "    \n",
    "    info = {'some':'info', 'about':['the', 'run']}\n",
    "    ind = [inputs['x1'], inputs['x2']]\n",
    "    objectives, constraints = TNK(ind)    \n",
    "    outputs = {'y1':objectives[0], 'y2':objectives[1], 'c1':constraints[0], 'c2':constraints[1]}\n",
    "    \n",
    "    return outputs\n",
    "\n",
    "VOCS = {\n",
    "    'name':'TNK_test',\n",
    "    \n",
    "    'variables': {\n",
    "        'x1':[0, 3.14159],\n",
    "        'x2':[0, 3.14159]\n",
    "    },\n",
    "    'objectives':{\n",
    "        'y1':'MINIMIZE',\n",
    "        'y2':'MINIMIZE'\n",
    "        \n",
    "    },\n",
    "    'constraints':{\n",
    "        'c1': ['GREATER_THAN', 0],\n",
    "        'c2': ['GREATER_THAN', 0]\n",
    "        \n",
    "    },\n",
    "    'constants':{'a':'dummy_constant'},\n",
    "    'linked_variables':{'x9':'x1'}\n",
    "    \n",
    "    \n",
    "}\n",
    "TNK([0,0])"
   ]
  },
  {
   "cell_type": "code",
   "execution_count": 6,
   "metadata": {},
   "outputs": [],
   "source": [
    "# Pick a parallel method\n",
    "\n",
    "\n",
    "#from concurrent.futures import ProcessPoolExecutor as PoolExecutor\n",
    "from concurrent.futures import ThreadPoolExecutor as PoolExecutor\n",
    "executor = PoolExecutor()"
   ]
  },
  {
   "cell_type": "code",
   "execution_count": 7,
   "metadata": {},
   "outputs": [
    {
     "name": "stdout",
     "output_type": "stream",
     "text": [
      "\n",
      "\n",
      "\n",
      " ▄████▄   ███▄    █   ██████   ▄████  ▄▄▄      \n",
      "▒██▀ ▀█   ██ ▀█   █ ▒██    ▒  ██▒ ▀█▒▒████▄    \n",
      "▒▓█    ▄ ▓██  ▀█ ██▒░ ▓██▄   ▒██░▄▄▄░▒██  ▀█▄  \n",
      "▒▓▓▄ ▄██▒▓██▒  ▐▌██▒  ▒   ██▒░▓█  ██▓░██▄▄▄▄██ \n",
      "▒ ▓███▀ ░▒██░   ▓██░▒██████▒▒░▒▓███▀▒ ▓█   ▓██▒\n",
      "░ ░▒ ▒  ░░ ▒░   ▒ ▒ ▒ ▒▓▒ ▒ ░ ░▒   ▒  ▒▒   ▓▒█░\n",
      "  ░  ▒   ░ ░░   ░ ▒░░ ░▒  ░ ░  ░   ░   ▒   ▒▒ ░\n",
      "░           ░   ░ ░ ░  ░  ░  ░ ░   ░   ░   ▒   \n",
      "░ ░               ░       ░        ░       ░  ░\n",
      "░                                              \n",
      "\n",
      "\n",
      "Continous Non-dominated Sorting Genetic Algorithm\n",
      "\n",
      "\n",
      "Creating toolbox from vocs.\n",
      "Created toolbox with 2 variables, 2 constraints, and 2 objectives.\n",
      "    Using selection algorithm: nsga2\n",
      "vocs:\n",
      "{'constants': {'a': 'dummy_constant'},\n",
      " 'constraints': {'c1': ['GREATER_THAN', 0], 'c2': ['GREATER_THAN', 0]},\n",
      " 'linked_variables': {'x9': 'x1'},\n",
      " 'name': 'TNK_test',\n",
      " 'objectives': {'y1': 'MINIMIZE', 'y2': 'MINIMIZE'},\n",
      " 'variables': {'x1': [0, 3.14159], 'x2': [0, 3.14159]}}\n",
      "Initializing with a new population, size 64\n",
      "____________________________________________________\n",
      "64 fitness calculations for initial generation\n",
      "................................................................done.\n",
      "Submitting first batch of children\n",
      ".................................................................done.\n",
      "__________________________________________________________\n",
      "Generation 0 completed in 0.00090 minutes\n",
      "................................................................done.\n",
      "__________________________________________________________\n",
      "Generation 1 completed in 0.00186 minutes\n",
      "................................................................done.\n",
      "__________________________________________________________\n",
      "Generation 2 completed in 0.00189 minutes\n",
      "................................................................done.\n",
      "__________________________________________________________\n",
      "Generation 3 completed in 0.00189 minutes\n",
      "................................................................done.\n",
      "__________________________________________________________\n",
      "Generation 4 completed in 0.00270 minutes\n",
      "................................................................done.\n",
      "__________________________________________________________\n",
      "Generation 5 completed in 0.00175 minutes\n",
      "................................................................done.\n",
      "__________________________________________________________\n",
      "Generation 6 completed in 0.00167 minutes\n",
      "................................................................done.\n",
      "__________________________________________________________\n",
      "Generation 7 completed in 0.00296 minutes\n",
      "................................................................done.\n",
      "__________________________________________________________\n",
      "Generation 8 completed in 0.00169 minutes\n",
      "................................................................done.\n",
      "__________________________________________________________\n",
      "Generation 9 completed in 0.00169 minutes\n",
      "................................................................done.\n",
      "__________________________________________________________\n",
      "Generation 10 completed in 0.00300 minutes\n",
      "................................................................done.\n",
      "__________________________________________________________\n",
      "Generation 11 completed in 0.00175 minutes\n",
      "................................................................done.\n",
      "__________________________________________________________\n",
      "Generation 12 completed in 0.00170 minutes\n",
      "................................................................done.\n",
      "__________________________________________________________\n",
      "Generation 13 completed in 0.00286 minutes\n",
      "................................................................done.\n",
      "__________________________________________________________\n",
      "Generation 14 completed in 0.00156 minutes\n",
      "................................................................done.\n",
      "__________________________________________________________\n",
      "Generation 15 completed in 0.00167 minutes\n",
      "................................................................done.\n",
      "__________________________________________________________\n",
      "Generation 16 completed in 0.00275 minutes\n",
      "................................................................done.\n",
      "__________________________________________________________\n",
      "Generation 17 completed in 0.00143 minutes\n",
      "................................................................done.\n",
      "__________________________________________________________\n",
      "Generation 18 completed in 0.00154 minutes\n",
      "................................................................done.\n",
      "__________________________________________________________\n",
      "Generation 19 completed in 0.00268 minutes\n",
      "..............................................................."
     ]
    }
   ],
   "source": [
    "pop_data = cnsga(executor, vocs=VOCS, evaluate_f=evaluate_TNK,\n",
    "            max_generations = 20, population_size=64, output_path=None,\n",
    "            verbose=True) "
   ]
  },
  {
   "cell_type": "code",
   "execution_count": 8,
   "metadata": {},
   "outputs": [
    {
     "name": "stdout",
     "output_type": "stream",
     "text": [
      "\n",
      "\n",
      "\n",
      " ▄████▄   ███▄    █   ██████   ▄████  ▄▄▄      \n",
      "▒██▀ ▀█   ██ ▀█   █ ▒██    ▒  ██▒ ▀█▒▒████▄    \n",
      "▒▓█    ▄ ▓██  ▀█ ██▒░ ▓██▄   ▒██░▄▄▄░▒██  ▀█▄  \n",
      "▒▓▓▄ ▄██▒▓██▒  ▐▌██▒  ▒   ██▒░▓█  ██▓░██▄▄▄▄██ \n",
      "▒ ▓███▀ ░▒██░   ▓██░▒██████▒▒░▒▓███▀▒ ▓█   ▓██▒\n",
      "░ ░▒ ▒  ░░ ▒░   ▒ ▒ ▒ ▒▓▒ ▒ ░ ░▒   ▒  ▒▒   ▓▒█░\n",
      "  ░  ▒   ░ ░░   ░ ▒░░ ░▒  ░ ░  ░   ░   ▒   ▒▒ ░\n",
      "░           ░   ░ ░ ░  ░  ░  ░ ░   ░   ░   ▒   \n",
      "░ ░               ░       ░        ░       ░  ░\n",
      "░                                              \n",
      "\n",
      "\n",
      "Continous Non-dominated Sorting Genetic Algorithm\n",
      "\n",
      "\n",
      "Creating toolbox from vocs.\n",
      "Warning: Redefining creator.MyFitness\n",
      "Warning in cnsga_toolbox: Redefining creator.Individual\n",
      "Created toolbox with 2 variables, 2 constraints, and 2 objectives.\n",
      "    Using selection algorithm: nsga2\n",
      "vocs:\n",
      "{'constants': {'a': 'dummy_constant'},\n",
      " 'constraints': {'c1': ['GREATER_THAN', 0], 'c2': ['GREATER_THAN', 0]},\n",
      " 'linked_variables': {'x9': 'x1'},\n",
      " 'name': 'TNK_test',\n",
      " 'objectives': {'y1': 'MINIMIZE', 'y2': 'MINIMIZE'},\n",
      " 'variables': {'x1': [0, 3.14159], 'x2': [0, 3.14159]}}\n",
      "Initializing with existing population, size 64\n",
      "____________________________________________________\n",
      "64 fitness calculations for initial generation\n",
      "................................................................done.\n",
      "Submitting first batch of children\n",
      ".................................................................done.\n",
      "__________________________________________________________\n",
      "Generation 21 completed in 0.00084 minutes\n",
      "................................................................done.\n",
      "__________________________________________________________\n",
      "Generation 22 completed in 0.00143 minutes\n",
      "................................................................done.\n",
      "__________________________________________________________\n",
      "Generation 23 completed in 0.00137 minutes\n",
      "................................................................done.\n",
      "__________________________________________________________\n",
      "Generation 24 completed in 0.00191 minutes\n",
      "................................................................done.\n",
      "__________________________________________________________\n",
      "Generation 25 completed in 0.00176 minutes\n",
      "................................................................done.\n",
      "__________________________________________________________\n",
      "Generation 26 completed in 0.00201 minutes\n",
      "................................................................done.\n",
      "__________________________________________________________\n",
      "Generation 27 completed in 0.00279 minutes\n",
      "................................................................done.\n",
      "__________________________________________________________\n",
      "Generation 28 completed in 0.00156 minutes\n",
      "................................................................done.\n",
      "__________________________________________________________\n",
      "Generation 29 completed in 0.00136 minutes\n",
      "................................................................done.\n",
      "__________________________________________________________\n",
      "Generation 30 completed in 0.00131 minutes\n",
      "................................................................done.\n",
      "__________________________________________________________\n",
      "Generation 31 completed in 0.00128 minutes\n",
      "................................................................done.\n",
      "__________________________________________________________\n",
      "Generation 32 completed in 0.00127 minutes\n",
      "................................................................done.\n",
      "__________________________________________________________\n",
      "Generation 33 completed in 0.00217 minutes\n",
      "................................................................done.\n",
      "__________________________________________________________\n",
      "Generation 34 completed in 0.00141 minutes\n",
      "................................................................done.\n",
      "__________________________________________________________\n",
      "Generation 35 completed in 0.00140 minutes\n",
      "................................................................done.\n",
      "__________________________________________________________\n",
      "Generation 36 completed in 0.00285 minutes\n",
      "................................................................done.\n",
      "__________________________________________________________\n",
      "Generation 37 completed in 0.00138 minutes\n",
      "................................................................done.\n",
      "__________________________________________________________\n",
      "Generation 38 completed in 0.00136 minutes\n",
      "................................................................done.\n",
      "__________________________________________________________\n",
      "Generation 39 completed in 0.00245 minutes\n",
      "..............................................................."
     ]
    }
   ],
   "source": [
    "pop_data2 = cnsga(executor, vocs=VOCS, population=pop_data, evaluate_f=evaluate_TNK,\n",
    "            max_generations = 40, population_size=64, output_path=None,\n",
    "            verbose=True) "
   ]
  },
  {
   "cell_type": "markdown",
   "metadata": {},
   "source": [
    "# Plot "
   ]
  },
  {
   "cell_type": "code",
   "execution_count": 9,
   "metadata": {},
   "outputs": [],
   "source": [
    "# Extract ovjectives from output\n",
    "key1, key2 = list(VOCS['objectives'])\n",
    "X, Y = pop_data2['outputs'][key1], pop_data2['outputs'][key2]"
   ]
  },
  {
   "cell_type": "code",
   "execution_count": 10,
   "metadata": {},
   "outputs": [
    {
     "data": {
      "text/plain": [
       "Text(0.5, 1.0, 'TNK')"
      ]
     },
     "execution_count": 10,
     "metadata": {},
     "output_type": "execute_result"
    },
    {
     "data": {
      "image/png": "[encoded data removed]",
      "text/plain": [
       "<Figure size 360x360 with 1 Axes>"
      ]
     },
     "metadata": {
      "needs_background": "light"
     },
     "output_type": "display_data"
    }
   ],
   "source": [
    "fig, ax = plt.subplots(figsize=(5,5))\n",
    "\n",
    "ax.scatter(X, Y, color='blue')\n",
    "ax.set_xlim(X_RANGE)\n",
    "ax.set_ylim(Y_RANGE)\n",
    "ax.set_xlabel(key1)\n",
    "ax.set_xlabel(key2)\n",
    "ax.set_aspect('auto')\n",
    "ax.set_title(NAME)"
   ]
  },
  {
   "cell_type": "code",
   "execution_count": null,
   "metadata": {},
   "outputs": [],
   "source": []
  }
 ],
 "metadata": {
  "kernelspec": {
   "display_name": "Python 3",
   "language": "python",
   "name": "python3"
  },
  "language_info": {
   "codemirror_mode": {
    "name": "ipython",
    "version": 3
   },
   "file_extension": ".py",
   "mimetype": "text/x-python",
   "name": "python",
   "nbconvert_exporter": "python",
   "pygments_lexer": "ipython3",
   "version": "3.7.6"
  }
 },
 "nbformat": 4,
 "nbformat_minor": 4
}
