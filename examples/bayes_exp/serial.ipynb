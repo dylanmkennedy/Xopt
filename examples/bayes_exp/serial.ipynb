{
 "cells": [
  {
   "cell_type": "code",
   "execution_count": 1,
   "id": "4a9be9bf-b3c5-468d-84f6-c7b8cf25806e",
   "metadata": {},
   "outputs": [],
   "source": [
    "# main function\n",
    "import numpy as np\n",
    "import torch\n",
    "import matplotlib.pyplot as plt\n",
    "\n",
    "from xopt.bayesian_exploration import bayesian_exploration\n",
    "\n",
    "# test function\n",
    "from xopt.evaluators import test_TNK\n"
   ]
  },
  {
   "cell_type": "code",
   "execution_count": 2,
   "id": "c408bff1-fd32-4b08-a6f2-779cce3fed7c",
   "metadata": {},
   "outputs": [
    {
     "name": "stdout",
     "output_type": "stream",
     "text": [
      "{'name': 'TNK_test', 'description': 'Constrainted test function TNK. See Table V in https://www.iitk.ac.in/kangal/Deb_NSGA-II.pdf', 'simulation': 'test_TNK', 'variables': {'x1': [0, 3.14159], 'x2': [0, 3.14159]}, 'objectives': {'y1': None}, 'constraints': {'c1': ['GREATER_THAN', 0], 'c2': ['LESS_THAN', 0.5]}, 'constants': {'a': 'dummy_constant'}, 'linked_variables': {'x9': 'x1'}}\n",
      "No executor given. Running in serial mode.\n",
      "tensor([[0., 0.]], dtype=torch.float64)\n"
     ]
    }
   ],
   "source": [
    "# Get VOCS\n",
    "VOCS = test_TNK.VOCS\n",
    "VOCS['objectives'] = {'y1' : None}\n",
    "\n",
    "# add reference point\n",
    "ref = torch.tensor((1.4, 1.4))\n",
    "\n",
    "print(VOCS)\n",
    "# Get evaluate function\n",
    "EVALUATE = test_TNK.evaluate_TNK\n",
    "\n",
    "# Run\n",
    "init_x = torch.tensor([[0.9, 0.9], [0.6, 0.6]])\n",
    "results = bayesian_exploration(VOCS, EVALUATE,\n",
    "                                 n_initial_samples=5, initial_x=None,\n",
    "                                 use_gpu=False,\n",
    "                                 n_steps=1, verbose=True)"
   ]
  },
  {
   "cell_type": "code",
   "execution_count": 3,
   "id": "7d7b9312-17fe-438c-8120-c0fc458b6a3c",
   "metadata": {},
   "outputs": [
    {
     "name": "stdout",
     "output_type": "stream",
     "text": [
      "['inputs', 'objectives', 'constraints', 'constraint_status', 'feasibility', 'model']\n"
     ]
    },
    {
     "data": {
      "image/png": "[encoded data removed]",
      "text/plain": [
       "<Figure size 432x288 with 1 Axes>"
      ]
     },
     "metadata": {
      "needs_background": "light"
     },
     "output_type": "display_data"
    }
   ],
   "source": [
    "fig, ax = plt.subplots()\n",
    "print(list(results.keys()))\n",
    "ax.plot(results['inputs'][:, 0], results['inputs'][:, 1], '-o')\n",
    "\n",
    "plt.show()"
   ]
  },
  {
   "cell_type": "code",
   "execution_count": null,
   "id": "e9540a37-a0e8-4eff-a5ff-f11c9e68b06c",
   "metadata": {},
   "outputs": [],
   "source": []
  }
 ],
 "metadata": {
  "kernelspec": {
   "display_name": "xopt",
   "language": "python",
   "name": "xopt"
  },
  "language_info": {
   "codemirror_mode": {
    "name": "ipython",
    "version": 3
   },
   "file_extension": ".py",
   "mimetype": "text/x-python",
   "name": "python",
   "nbconvert_exporter": "python",
   "pygments_lexer": "ipython3",
   "version": "3.9.6"
  }
 },
 "nbformat": 4,
 "nbformat_minor": 5
}
