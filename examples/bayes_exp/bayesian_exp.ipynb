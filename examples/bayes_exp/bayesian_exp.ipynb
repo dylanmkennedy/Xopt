{
 "cells": [
  {
   "cell_type": "markdown",
   "id": "9e1b3d38-fe20-4a94-9901-9fe80e3fb1d8",
   "metadata": {},
   "source": [
    "# Bayesian exploration using script"
   ]
  },
  {
   "cell_type": "code",
   "execution_count": 1,
   "id": "4a9be9bf-b3c5-468d-84f6-c7b8cf25806e",
   "metadata": {},
   "outputs": [
    {
     "data": {
      "text/plain": [
       "\u001b[0;31mSignature:\u001b[0m\n",
       "\u001b[0mbayesian_exploration\u001b[0m\u001b[0;34m(\u001b[0m\u001b[0;34m\u001b[0m\n",
       "\u001b[0;34m\u001b[0m    \u001b[0mvocs\u001b[0m\u001b[0;34m,\u001b[0m\u001b[0;34m\u001b[0m\n",
       "\u001b[0;34m\u001b[0m    \u001b[0mevaluate_f\u001b[0m\u001b[0;34m,\u001b[0m\u001b[0;34m\u001b[0m\n",
       "\u001b[0;34m\u001b[0m    \u001b[0mn_steps\u001b[0m\u001b[0;34m=\u001b[0m\u001b[0;36m1\u001b[0m\u001b[0;34m,\u001b[0m\u001b[0;34m\u001b[0m\n",
       "\u001b[0;34m\u001b[0m    \u001b[0mn_initial_samples\u001b[0m\u001b[0;34m=\u001b[0m\u001b[0;36m1\u001b[0m\u001b[0;34m,\u001b[0m\u001b[0;34m\u001b[0m\n",
       "\u001b[0;34m\u001b[0m    \u001b[0moutput_path\u001b[0m\u001b[0;34m=\u001b[0m\u001b[0;32mNone\u001b[0m\u001b[0;34m,\u001b[0m\u001b[0;34m\u001b[0m\n",
       "\u001b[0;34m\u001b[0m    \u001b[0mcustom_model\u001b[0m\u001b[0;34m=\u001b[0m\u001b[0;32mNone\u001b[0m\u001b[0;34m,\u001b[0m\u001b[0;34m\u001b[0m\n",
       "\u001b[0;34m\u001b[0m    \u001b[0mexecutor\u001b[0m\u001b[0;34m=\u001b[0m\u001b[0;32mNone\u001b[0m\u001b[0;34m,\u001b[0m\u001b[0;34m\u001b[0m\n",
       "\u001b[0;34m\u001b[0m    \u001b[0mrestart_file\u001b[0m\u001b[0;34m=\u001b[0m\u001b[0;32mNone\u001b[0m\u001b[0;34m,\u001b[0m\u001b[0;34m\u001b[0m\n",
       "\u001b[0;34m\u001b[0m    \u001b[0minitial_x\u001b[0m\u001b[0;34m=\u001b[0m\u001b[0;32mNone\u001b[0m\u001b[0;34m,\u001b[0m\u001b[0;34m\u001b[0m\n",
       "\u001b[0;34m\u001b[0m    \u001b[0mverbose\u001b[0m\u001b[0;34m=\u001b[0m\u001b[0;32mTrue\u001b[0m\u001b[0;34m,\u001b[0m\u001b[0;34m\u001b[0m\n",
       "\u001b[0;34m\u001b[0m    \u001b[0muse_gpu\u001b[0m\u001b[0;34m=\u001b[0m\u001b[0;32mFalse\u001b[0m\u001b[0;34m,\u001b[0m\u001b[0;34m\u001b[0m\n",
       "\u001b[0;34m\u001b[0m    \u001b[0mgenerator_options\u001b[0m\u001b[0;34m=\u001b[0m\u001b[0;32mNone\u001b[0m\u001b[0;34m,\u001b[0m\u001b[0;34m\u001b[0m\n",
       "\u001b[0;34m\u001b[0m\u001b[0;34m)\u001b[0m\u001b[0;34m\u001b[0m\u001b[0;34m\u001b[0m\u001b[0m\n",
       "\u001b[0;31mDocstring:\u001b[0m\n",
       "Bayesian Exploration\n",
       "\n",
       "Parameters\n",
       "----------\n",
       "vocs : dict\n",
       "    Varabiles, objectives, constraints and statics dictionary, see xopt documentation for detials\n",
       "\n",
       "evaluate_f : callable\n",
       "    Returns dict of outputs after problem has been evaluated\n",
       "\n",
       "n_steps : int, default = 1\n",
       "    Number of optimization steps to execute\n",
       "\n",
       "n_initial_samples : int, defualt = 1\n",
       "    Number of initial samples to take before using the model, overwritten by initial_x\n",
       "\n",
       "output_path : str, default = ''\n",
       "    Path location to place outputs\n",
       "\n",
       "custom_model : callable, optional\n",
       "    Function of the form f(train_inputs, train_outputs) that returns a trained custom model\n",
       "\n",
       "executor : Executor, optional\n",
       "    Executor object to run evaluate_f\n",
       "\n",
       "restart_file : str, optional\n",
       "    File location of JSON file that has previous data\n",
       "\n",
       "initial_x : list, optional\n",
       "    Nested list to provide initial candiates to evaluate, overwrites n_initial_samples\n",
       "\n",
       "verbose : bool, defualt = True\n",
       "    Print out messages during optimization\n",
       "\n",
       "use_gpu : bool, default = False\n",
       "    Specify if GPU should be used if available\n",
       "\n",
       "generator_options : dict\n",
       "    Dictionary of options for MOBO\n",
       "\n",
       "Returns\n",
       "-------\n",
       "results : dict\n",
       "    Dictionary with output data at the end of optimization\n",
       "\u001b[0;31mFile:\u001b[0m      /global/u1/r/rroussel/github/xopt/xopt/bayesian/algorithms.py\n",
       "\u001b[0;31mType:\u001b[0m      function\n"
      ]
     },
     "metadata": {},
     "output_type": "display_data"
    }
   ],
   "source": [
    "# main function\n",
    "import numpy as np\n",
    "import torch\n",
    "import matplotlib.pyplot as plt\n",
    "\n",
    "from xopt.bayesian.algorithms import bayesian_exploration\n",
    "\n",
    "# test function\n",
    "from xopt.evaluators import test_TNK\n",
    "?bayesian_exploration"
   ]
  },
  {
   "cell_type": "code",
   "execution_count": 2,
   "id": "c408bff1-fd32-4b08-a6f2-779cce3fed7c",
   "metadata": {},
   "outputs": [
    {
     "ename": "KeyError",
     "evalue": "'linked_variables'",
     "output_type": "error",
     "traceback": [
      "\u001b[0;31m---------------------------------------------------------------------------\u001b[0m",
      "\u001b[0;31mKeyError\u001b[0m                                  Traceback (most recent call last)",
      "\u001b[0;32m<ipython-input-2-4ee7be012e36>\u001b[0m in \u001b[0;36m<module>\u001b[0;34m\u001b[0m\n\u001b[1;32m     10\u001b[0m \u001b[0;34m\u001b[0m\u001b[0m\n\u001b[1;32m     11\u001b[0m \u001b[0;31m# Run - see comments for example options\u001b[0m\u001b[0;34m\u001b[0m\u001b[0;34m\u001b[0m\u001b[0;34m\u001b[0m\u001b[0m\n\u001b[0;32m---> 12\u001b[0;31m results = bayesian_exploration(VOCS, EVALUATE,\n\u001b[0m\u001b[1;32m     13\u001b[0m                                \u001b[0mn_initial_samples\u001b[0m\u001b[0;34m=\u001b[0m\u001b[0;36m5\u001b[0m\u001b[0;34m,\u001b[0m                   \u001b[0;31m## Specify number of initial random samples\u001b[0m\u001b[0;34m\u001b[0m\u001b[0;34m\u001b[0m\u001b[0m\n\u001b[1;32m     14\u001b[0m                                \u001b[0minitial_x\u001b[0m\u001b[0;34m=\u001b[0m\u001b[0;32mNone\u001b[0m\u001b[0;34m,\u001b[0m                        \u001b[0;31m## Specify explicit initial sample locations (overwrites n_initial_samples)\u001b[0m\u001b[0;34m\u001b[0m\u001b[0;34m\u001b[0m\u001b[0m\n",
      "\u001b[0;32m/global/u1/r/rroussel/github/xopt/xopt/bayesian/algorithms.py\u001b[0m in \u001b[0;36mbayesian_exploration\u001b[0;34m(vocs, evaluate_f, n_steps, n_initial_samples, output_path, custom_model, executor, restart_file, initial_x, verbose, use_gpu, generator_options)\u001b[0m\n\u001b[1;32m    149\u001b[0m \u001b[0;34m\u001b[0m\u001b[0m\n\u001b[1;32m    150\u001b[0m     \u001b[0mgenerator\u001b[0m \u001b[0;34m=\u001b[0m \u001b[0mgenerators\u001b[0m\u001b[0;34m.\u001b[0m\u001b[0mexploration\u001b[0m\u001b[0;34m.\u001b[0m\u001b[0mBayesianExplorationGenerator\u001b[0m\u001b[0;34m(\u001b[0m\u001b[0;34m**\u001b[0m\u001b[0mgenerator_options\u001b[0m\u001b[0;34m)\u001b[0m\u001b[0;34m\u001b[0m\u001b[0;34m\u001b[0m\u001b[0m\n\u001b[0;32m--> 151\u001b[0;31m     return bayesian_optimize(vocs,\n\u001b[0m\u001b[1;32m    152\u001b[0m                              \u001b[0mevaluate_f\u001b[0m\u001b[0;34m,\u001b[0m\u001b[0;34m\u001b[0m\u001b[0;34m\u001b[0m\u001b[0m\n\u001b[1;32m    153\u001b[0m                              \u001b[0mgenerator\u001b[0m\u001b[0;34m,\u001b[0m\u001b[0;34m\u001b[0m\u001b[0;34m\u001b[0m\u001b[0m\n",
      "\u001b[0;32m/global/u1/r/rroussel/github/xopt/xopt/bayesian/optimize.py\u001b[0m in \u001b[0;36mbayesian_optimize\u001b[0;34m(vocs, evaluate_f, candidate_generator, n_steps, n_initial_samples, output_path, custom_model, executor, restart_file, initial_x, verbose, use_gpu)\u001b[0m\n\u001b[1;32m     89\u001b[0m \u001b[0;34m\u001b[0m\u001b[0m\n\u001b[1;32m     90\u001b[0m     \u001b[0;31m# raise error if someone tries to use linked variables TODO: implement linked variables\u001b[0m\u001b[0;34m\u001b[0m\u001b[0;34m\u001b[0m\u001b[0;34m\u001b[0m\u001b[0m\n\u001b[0;32m---> 91\u001b[0;31m     \u001b[0;32massert\u001b[0m \u001b[0mvocs\u001b[0m\u001b[0;34m[\u001b[0m\u001b[0;34m'linked_variables'\u001b[0m\u001b[0;34m]\u001b[0m \u001b[0;34m==\u001b[0m \u001b[0;34m{\u001b[0m\u001b[0;34m}\u001b[0m\u001b[0;34m,\u001b[0m \u001b[0;34m'linked variables not implemented yet'\u001b[0m\u001b[0;34m\u001b[0m\u001b[0;34m\u001b[0m\u001b[0m\n\u001b[0m\u001b[1;32m     92\u001b[0m \u001b[0;34m\u001b[0m\u001b[0m\n\u001b[1;32m     93\u001b[0m     \u001b[0;31m# Verbose print helper\u001b[0m\u001b[0;34m\u001b[0m\u001b[0;34m\u001b[0m\u001b[0;34m\u001b[0m\u001b[0m\n",
      "\u001b[0;31mKeyError\u001b[0m: 'linked_variables'"
     ]
    }
   ],
   "source": [
    "# Get VOCS\n",
    "VOCS = test_TNK.VOCS\n",
    "\n",
    "# technically this is not necessary, but its good to be explict\n",
    "VOCS['objectives'] = {'y1' : None}\n",
    "\n",
    "# Get evaluate function\n",
    "EVALUATE = test_TNK.evaluate_TNK\n",
    "\n",
    "\n",
    "# Run - see comments for example options\n",
    "results = bayesian_exploration(VOCS, EVALUATE,\n",
    "                               n_initial_samples=5,                   ## Specify number of initial random samples\n",
    "                               initial_x=None,                        ## Specify explicit initial sample locations (overwrites n_initial_samples)\n",
    "                               n_steps=30,                            ## number of optimization step\n",
    "                               verbose=True)"
   ]
  },
  {
   "cell_type": "code",
   "execution_count": null,
   "id": "7d7b9312-17fe-438c-8120-c0fc458b6a3c",
   "metadata": {},
   "outputs": [],
   "source": [
    "# plot exploration results and path - exploration should explore the feasible region of the TNK problem - See Table V in https://www.iitk.ac.in/kangal/Deb_NSGA-II.pdf\n",
    "fig, ax = plt.subplots()\n",
    "print(results.keys())\n",
    "variables = results['variables']\n",
    "valid = results['variables'][results['feasibility'].flatten()]\n",
    "ax.plot(variables[:, 0], variables[:, 1], '-o')\n",
    "ax.plot(valid[:, 0], valid[:, 1], 'o')\n",
    "ax.set_xlabel('$x_1$')\n",
    "ax.set_ylabel('$x_2$')\n",
    "\n",
    "plt.show()"
   ]
  },
  {
   "cell_type": "markdown",
   "id": "6f8e7e01-3e2b-4297-bec7-84440e185b71",
   "metadata": {},
   "source": [
    "### Bayesian exploration with proximal biasing\n",
    "- should result in a smoother path through input space"
   ]
  },
  {
   "cell_type": "code",
   "execution_count": null,
   "id": "f89ac46e-5fc5-40fb-8f45-b524a312884b",
   "metadata": {},
   "outputs": [],
   "source": [
    "# Get VOCS\n",
    "VOCS = test_TNK.VOCS\n",
    "\n",
    "# technically this is not necessary, but its good to be explict\n",
    "VOCS['objectives'] = {'y1' : None}\n",
    "# Get evaluate function\n",
    "EVALUATE = test_TNK.evaluate_TNK\n",
    "\n",
    "generator_options = {'sigma': torch.eye(2) * 0.5,            ## Specify proximal term (requires batch_size = 1)\n",
    "                     #'batch_size': 5,                       ## Specify batched exploration\n",
    "                     # 'custom_model': myCustomModel,        ## Specify custom model creation function\n",
    "                    }\n",
    "\n",
    "# Run - see comments for example options\n",
    "results = bayesian_exploration(VOCS, EVALUATE,\n",
    "                               generator_options = generator_options,\n",
    "                               n_initial_samples=5,                   ## Specify number of initial random samples\n",
    "                               initial_x=None,                        ## Specify explicit initial sample locations (overwrites n_initial_samples)\n",
    "                               use_gpu=False,                         ## Use GPU (if available)\n",
    "                               n_steps=30,                            ## number of optimization step\n",
    "                               # restart_data_file = 'results.json',  ## restart optimization file\n",
    "                               verbose=True)"
   ]
  },
  {
   "cell_type": "code",
   "execution_count": null,
   "id": "388eff19-8ac4-4055-badf-de9544036836",
   "metadata": {},
   "outputs": [],
   "source": [
    "# plot exploration results and path - exploration should explore the feasible region of the TNK problem - See Table V in https://www.iitk.ac.in/kangal/Deb_NSGA-II.pdf\n",
    "fig, ax = plt.subplots()\n",
    "print(results.keys())\n",
    "variables = results['variables']\n",
    "valid = results['variables'][results['feasibility'].flatten()]\n",
    "ax.plot(variables[:, 0], variables[:, 1], '-o')\n",
    "ax.plot(valid[:, 0], valid[:, 1], 'o')\n",
    "ax.set_xlabel('$x_1$')\n",
    "ax.set_ylabel('$x_2$')\n",
    "\n",
    "plt.show()"
   ]
  }
 ],
 "metadata": {
  "kernelspec": {
   "display_name": "impact2",
   "language": "python",
   "name": "impact2"
  },
  "language_info": {
   "codemirror_mode": {
    "name": "ipython",
    "version": 3
   },
   "file_extension": ".py",
   "mimetype": "text/x-python",
   "name": "python",
   "nbconvert_exporter": "python",
   "pygments_lexer": "ipython3",
   "version": "3.9.6"
  }
 },
 "nbformat": 4,
 "nbformat_minor": 5
}
