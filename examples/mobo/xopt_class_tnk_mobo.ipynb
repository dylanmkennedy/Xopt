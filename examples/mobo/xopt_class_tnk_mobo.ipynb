{
 "cells": [
  {
   "cell_type": "code",
   "execution_count": 1,
   "metadata": {},
   "outputs": [],
   "source": [
    "# Useful for debugging\n",
    "%load_ext autoreload\n",
    "%autoreload 2"
   ]
  },
  {
   "cell_type": "markdown",
   "metadata": {},
   "source": [
    "# Xopt class, TNK test function\n",
    "\n",
    "This is the class method for running Xopt.\n",
    "\n",
    "TNK function\n",
    "$n=2$ variables:\n",
    "$x_i \\in [0, \\pi], i=1,2$\n",
    "\n",
    "Objectives:\n",
    "- $f_i(x) = x_i$\n",
    "\n",
    "Constraints:\n",
    "- $g_1(x) = -x_1^2 -x_2^2 + 1 + 0.1 \\cos\\left(16 \\arctan \\frac{x_1}{x_2}\\right) \\le 0$\n",
    "- $g_2(x) = (x_1 - 1/2)^2 + (x_2-1/2)^2 \\le 0.5$"
   ]
  },
  {
   "cell_type": "code",
   "execution_count": 2,
   "metadata": {},
   "outputs": [],
   "source": [
    "# Import the class\n",
    "from xopt import Xopt"
   ]
  },
  {
   "cell_type": "markdown",
   "metadata": {},
   "source": [
    "The `Xopt` object can be instantiated from a JSON or YAML file, or a dict, with the proper structure.\n",
    "\n",
    "Here we will make one"
   ]
  },
  {
   "cell_type": "code",
   "execution_count": 10,
   "metadata": {},
   "outputs": [],
   "source": [
    "import yaml\n",
    "# Make a proper input file. \n",
    "YAML=\"\"\"\n",
    "xopt: {output_path: null, verbose: true}\n",
    "\n",
    "algorithm:\n",
    "  name: mobo\n",
    "  options: {ref: [1.4, 1.4],\n",
    "            n_initial_samples: 5,\n",
    "            batch_size: 1,\n",
    "            use_gpu: False,\n",
    "            n_steps: 100, \n",
    "            verbose: True}\n",
    "  \n",
    "simulation: \n",
    "  name: test_TNK\n",
    "  evaluate: xopt.evaluators.test_TNK.evaluate_TNK  \n",
    "  \n",
    "vocs:\n",
    "  name: TNK_test\n",
    "  description: null\n",
    "  simulation: test_TNK\n",
    "  templates: null\n",
    "  variables:\n",
    "    x1: [0, 3.14159]\n",
    "    x2: [0, 3.14159]\n",
    "  objectives: {y1: MINIMIZE, y2: MINIMIZE}\n",
    "  constraints:\n",
    "    c1: [GREATER_THAN, 0]\n",
    "    c2: ['LESS_THAN', 0.5]\n",
    "  linked_variables: {x9: x1}\n",
    "  constants: {a: dummy_constant}\n",
    "\n",
    "\"\"\"\n",
    "config = yaml.safe_load(YAML)"
   ]
  },
  {
   "cell_type": "code",
   "execution_count": 11,
   "metadata": {},
   "outputs": [
    {
     "name": "stdout",
     "output_type": "stream",
     "text": [
      "Loading config as dict.\n",
      "Warning: No path set for key xopt : output_path\n"
     ]
    },
    {
     "data": {
      "text/plain": [
       "\n",
       "            Xopt \n",
       "________________________________           \n",
       "Version: 0.4.3\n",
       "Configured: True\n",
       "Config as YAML:\n",
       "xopt: {output_path: null, verbose: true}\n",
       "algorithm:\n",
       "  name: mobo\n",
       "  function: xopt.mobo.mobo\n",
       "  options:\n",
       "    ref: [1.4, 1.4]\n",
       "    n_initial_samples: 5\n",
       "    batch_size: 1\n",
       "    use_gpu: false\n",
       "    n_steps: 100\n",
       "    verbose: true\n",
       "simulation:\n",
       "  name: test_TNK\n",
       "  evaluate: xopt.evaluators.test_TNK.evaluate_TNK\n",
       "  options: {extra_option: abc}\n",
       "vocs:\n",
       "  name: TNK_test\n",
       "  description: null\n",
       "  simulation: test_TNK\n",
       "  templates: null\n",
       "  variables:\n",
       "    x1: [0, 3.14159]\n",
       "    x2: [0, 3.14159]\n",
       "  objectives: {y1: MINIMIZE, y2: MINIMIZE}\n",
       "  constraints:\n",
       "    c1: [GREATER_THAN, 0]\n",
       "    c2: [LESS_THAN, 0.5]\n",
       "  linked_variables: {x9: x1}\n",
       "  constants: {a: dummy_constant}"
      ]
     },
     "execution_count": 11,
     "metadata": {},
     "output_type": "execute_result"
    }
   ],
   "source": [
    "# Optional: Connect the function directly\n",
    "#from xopt.evaluators.test_TNK import evaluate_TNK \n",
    "#config['simulation']['evaluate'] = evaluate_TNK \n",
    "\n",
    "X = Xopt(config)\n",
    "X"
   ]
  },
  {
   "cell_type": "code",
   "execution_count": 12,
   "metadata": {},
   "outputs": [
    {
     "data": {
      "text/plain": [
       "{'y1': 1.912215562041404,\n",
       " 'y2': 0.11387603704122354,\n",
       " 'c1': 2.611506662822189,\n",
       " 'c2': 2.1434445084429092,\n",
       " 'some_array': array([1, 2, 3])}"
      ]
     },
     "execution_count": 12,
     "metadata": {},
     "output_type": "execute_result"
    }
   ],
   "source": [
    "# Note that the repr string contains all of the config information\n",
    "X.random_evaluate()"
   ]
  },
  {
   "cell_type": "markdown",
   "metadata": {},
   "source": [
    "# Run MOBO\n",
    "\n",
    "MOBO is designed to run in serial or parallel"
   ]
  },
  {
   "cell_type": "code",
   "execution_count": 13,
   "metadata": {},
   "outputs": [],
   "source": [
    "# Pick one of these\n",
    "from concurrent.futures import ThreadPoolExecutor as PoolExecutor\n",
    "#from concurrent.futures import ProcessPoolExecutor as PoolExecutor\n",
    "\n",
    "#executor = PoolExecutor()\n",
    "# This will also work. \n",
    "executor=None"
   ]
  },
  {
   "cell_type": "code",
   "execution_count": 14,
   "metadata": {},
   "outputs": [
    {
     "name": "stdout",
     "output_type": "stream",
     "text": [
      "Starting at time 2021-08-03T15:54:44-05:00\n",
      "No executor given. Running in serial mode.\n",
      "n_feas: 0\n",
      "tensor([[0.3182, 1.0006]], dtype=torch.float64)\n",
      "n_feas: 1\n",
      "tensor([[0., 0.]], dtype=torch.float64)\n",
      "n_feas: 1\n",
      "tensor([[0.0000, 0.9676]], dtype=torch.float64)\n",
      "n_feas: 1\n",
      "tensor([[0.1411, 1.0396]], dtype=torch.float64)\n",
      "n_feas: 2\n",
      "tensor([[0.0464, 1.0184]], dtype=torch.float64)\n",
      "n_feas: 2\n",
      "tensor([[0.6388, 0.0000]], dtype=torch.float64)\n",
      "n_feas: 2\n",
      "tensor([[0.0541, 1.0325]], dtype=torch.float64)\n",
      "n_feas: 3\n",
      "tensor([[0.5140, 0.9265]], dtype=torch.float64)\n",
      "n_feas: 4\n",
      "tensor([[0.6284, 0.8223]], dtype=torch.float64)\n",
      "n_feas: 5\n",
      "tensor([[0.7126, 0.7100]], dtype=torch.float64)\n",
      "n_feas: 5\n",
      "tensor([[0.0374, 1.0295]], dtype=torch.float64)\n",
      "n_feas: 5\n",
      "tensor([[0.4311, 0.9082]], dtype=torch.float64)\n",
      "n_feas: 5\n",
      "tensor([[0.7244, 0.7493]], dtype=torch.float64)\n",
      "n_feas: 5\n",
      "tensor([[0.1761, 0.9731]], dtype=torch.float64)\n",
      "n_feas: 6\n",
      "tensor([[0.4557, 0.8982]], dtype=torch.float64)\n",
      "n_feas: 6\n",
      "tensor([[0.6051, 0.7845]], dtype=torch.float64)\n",
      "n_feas: 7\n",
      "tensor([[0.1879, 0.9393]], dtype=torch.float64)\n",
      "n_feas: 8\n",
      "tensor([[0.5270, 0.8479]], dtype=torch.float64)\n",
      "n_feas: 9\n",
      "tensor([[0.2667, 0.0058]], dtype=torch.float64)\n",
      "n_feas: 9\n",
      "tensor([[0.5793, 0.7753]], dtype=torch.float64)\n",
      "n_feas: 10\n",
      "tensor([[0.1205, 0.9825]], dtype=torch.float64)\n",
      "n_feas: 11\n",
      "tensor([[0.4857, 0.8718]], dtype=torch.float64)\n",
      "n_feas: 12\n",
      "tensor([[0.6467, 0.7640]], dtype=torch.float64)\n",
      "n_feas: 12\n",
      "tensor([[0.7810, 0.0000]], dtype=torch.float64)\n",
      "n_feas: 12\n",
      "tensor([[0.2116, 0.9273]], dtype=torch.float64)\n",
      "n_feas: 12\n",
      "tensor([[0.0370, 1.0281]], dtype=torch.float64)\n",
      "n_feas: 12\n",
      "tensor([[0.3816, 0.9000]], dtype=torch.float64)\n",
      "n_feas: 12\n",
      "tensor([[0.0359, 1.0276]], dtype=torch.float64)\n",
      "n_feas: 12\n",
      "tensor([[0.5315, 0.8056]], dtype=torch.float64)\n",
      "n_feas: 13\n",
      "tensor([[0.0000, 0.2421]], dtype=torch.float64)\n",
      "n_feas: 13\n",
      "tensor([[0.0000, 0.4183]], dtype=torch.float64)\n",
      "n_feas: 13\n",
      "tensor([[0.0000, 0.5610]], dtype=torch.float64)\n",
      "n_feas: 13\n",
      "tensor([[0.7196, 0.7591]], dtype=torch.float64)\n",
      "n_feas: 14\n",
      "tensor([[0.5138, 0.7486]], dtype=torch.float64)\n",
      "n_feas: 14\n",
      "tensor([[0.0000, 0.7418]], dtype=torch.float64)\n",
      "n_feas: 14\n",
      "tensor([[0.0000, 0.1243]], dtype=torch.float64)\n",
      "n_feas: 14\n",
      "tensor([[0.4185, 0.3264]], dtype=torch.float64)\n",
      "n_feas: 14\n",
      "tensor([[0.4569, 0.1803]], dtype=torch.float64)\n",
      "n_feas: 14\n",
      "tensor([[0.4093, 0.4877]], dtype=torch.float64)\n",
      "n_feas: 14\n",
      "tensor([[0.4529, 0.5924]], dtype=torch.float64)\n",
      "n_feas: 14\n",
      "tensor([[0.0000, 0.6490]], dtype=torch.float64)\n",
      "n_feas: 14\n",
      "tensor([[0.5735, 0.4018]], dtype=torch.float64)\n",
      "n_feas: 14\n",
      "tensor([[0.6038, 0.0885]], dtype=torch.float64)\n",
      "n_feas: 14\n",
      "tensor([[0.0000, 0.8168]], dtype=torch.float64)\n",
      "n_feas: 14\n",
      "tensor([[0.6375, 0.2651]], dtype=torch.float64)\n",
      "n_feas: 14\n",
      "tensor([[0.6658, 0.5421]], dtype=torch.float64)\n",
      "n_feas: 14\n",
      "tensor([[0.4707, 0.8159]], dtype=torch.float64)\n",
      "n_feas: 14\n",
      "tensor([[0.2556, 0.9296]], dtype=torch.float64)\n",
      "n_feas: 14\n",
      "tensor([[0.0434, 1.0353]], dtype=torch.float64)\n",
      "n_feas: 14\n",
      "tensor([[0.1154, 0.9549]], dtype=torch.float64)\n",
      "n_feas: 14\n",
      "tensor([[0.2549, 0.9331]], dtype=torch.float64)\n",
      "n_feas: 14\n",
      "tensor([[0.5022, 0.8255]], dtype=torch.float64)\n",
      "n_feas: 15\n",
      "tensor([[0.2039, 0.9327]], dtype=torch.float64)\n",
      "n_feas: 16\n",
      "tensor([[0.0456, 1.0377]], dtype=torch.float64)\n",
      "n_feas: 17\n",
      "tensor([[0.1480, 0.9552]], dtype=torch.float64)\n",
      "n_feas: 18\n",
      "tensor([[0.0924, 1.0054]], dtype=torch.float64)\n",
      "n_feas: 19\n",
      "tensor([[0.5404, 0.7871]], dtype=torch.float64)\n",
      "n_feas: 20\n",
      "tensor([[0.6840, 0.7682]], dtype=torch.float64)\n",
      "n_feas: 20\n",
      "tensor([[0.0754, 1.0186]], dtype=torch.float64)\n",
      "n_feas: 21\n",
      "tensor([[0.6908, 0.7684]], dtype=torch.float64)\n",
      "n_feas: 22\n",
      "tensor([[0.5175, 0.8024]], dtype=torch.float64)\n",
      "n_feas: 23\n",
      "tensor([[0.2004, 0.9298]], dtype=torch.float64)\n",
      "n_feas: 24\n",
      "tensor([[0.0424, 1.0391]], dtype=torch.float64)\n",
      "n_feas: 25\n",
      "tensor([[0.4700, 0.8932]], dtype=torch.float64)\n",
      "n_feas: 26\n",
      "tensor([[0.1307, 0.9670]], dtype=torch.float64)\n",
      "n_feas: 27\n",
      "tensor([[0.4899, 0.8449]], dtype=torch.float64)\n",
      "n_feas: 28\n",
      "tensor([[0.1640, 0.9431]], dtype=torch.float64)\n",
      "n_feas: 29\n",
      "tensor([[0.2267, 0.9055]], dtype=torch.float64)\n",
      "n_feas: 29\n",
      "tensor([[0.1528, 0.9479]], dtype=torch.float64)\n",
      "n_feas: 30\n",
      "tensor([[0.5865, 0.7711]], dtype=torch.float64)\n",
      "n_feas: 30\n",
      "tensor([[0.1059, 0.9906]], dtype=torch.float64)\n",
      "n_feas: 31\n",
      "tensor([[0.0636, 1.0044]], dtype=torch.float64)\n",
      "n_feas: 31\n",
      "tensor([[0.5383, 0.7834]], dtype=torch.float64)\n",
      "n_feas: 32\n",
      "tensor([[0.1487, 0.8944]], dtype=torch.float64)\n",
      "n_feas: 32\n",
      "tensor([[0.5754, 0.7724]], dtype=torch.float64)\n",
      "n_feas: 32\n",
      "tensor([[0.1220, 0.9741]], dtype=torch.float64)\n",
      "n_feas: 33\n",
      "tensor([[0.5758, 0.7728]], dtype=torch.float64)\n",
      "n_feas: 33\n",
      "tensor([[0.0963, 0.9832]], dtype=torch.float64)\n",
      "n_feas: 33\n",
      "tensor([[0.1661, 0.9112]], dtype=torch.float64)\n",
      "n_feas: 33\n",
      "tensor([[0.4610, 0.9102]], dtype=torch.float64)\n",
      "n_feas: 34\n",
      "tensor([[0.1961, 0.9282]], dtype=torch.float64)\n",
      "n_feas: 34\n",
      "tensor([[0.1759, 0.9349]], dtype=torch.float64)\n",
      "n_feas: 35\n",
      "tensor([[0.1133, 0.9821]], dtype=torch.float64)\n",
      "n_feas: 36\n",
      "tensor([[0.4811, 0.8621]], dtype=torch.float64)\n",
      "n_feas: 37\n",
      "tensor([[3.1416, 0.0000]], dtype=torch.float64)\n",
      "n_feas: 37\n",
      "tensor([[0.8308, 0.6602]], dtype=torch.float64)\n",
      "n_feas: 38\n",
      "tensor([[0.8474, 0.5353]], dtype=torch.float64)\n",
      "n_feas: 39\n",
      "tensor([[0.8834, 0.1237]], dtype=torch.float64)\n",
      "n_feas: 39\n",
      "tensor([[0.8759, 0.4294]], dtype=torch.float64)\n",
      "n_feas: 39\n",
      "tensor([[0.8037, 0.5870]], dtype=torch.float64)\n",
      "n_feas: 40\n",
      "tensor([[0.9156, 0.0412]], dtype=torch.float64)\n",
      "n_feas: 40\n",
      "tensor([[0.8685, 0.4849]], dtype=torch.float64)\n",
      "n_feas: 41\n",
      "tensor([[0.7819, 0.6003]], dtype=torch.float64)\n",
      "n_feas: 42\n",
      "tensor([[0.8164, 0.5300]], dtype=torch.float64)\n",
      "n_feas: 43\n",
      "tensor([[0.9429, 0.1792]], dtype=torch.float64)\n",
      "n_feas: 44\n",
      "tensor([[0.9369, 0.1749]], dtype=torch.float64)\n",
      "n_feas: 45\n",
      "tensor([[0.8329, 0.5040]], dtype=torch.float64)\n",
      "n_feas: 46\n",
      "tensor([[0.7913, 0.5472]], dtype=torch.float64)\n",
      "n_feas: 47\n",
      "tensor([[0.7616, 0.7211]], dtype=torch.float64)\n",
      "n_feas: 48\n",
      "tensor([[0.9558, 0.1329]], dtype=torch.float64)\n"
     ]
    }
   ],
   "source": [
    "# Change max generations\n",
    "X.run(executor=executor)"
   ]
  },
  {
   "cell_type": "markdown",
   "metadata": {},
   "source": [
    "# Plot"
   ]
  },
  {
   "cell_type": "code",
   "execution_count": 21,
   "metadata": {},
   "outputs": [
    {
     "data": {
      "text/plain": [
       "<matplotlib.collections.PathCollection at 0x1eeecbb9f10>"
      ]
     },
     "execution_count": 21,
     "metadata": {},
     "output_type": "execute_result"
    },
    {
     "data": {
      "image/png": "[encoded data removed]",
      "text/plain": [
       "<Figure size 360x360 with 1 Axes>"
      ]
     },
     "metadata": {
      "needs_background": "light"
     },
     "output_type": "display_data"
    }
   ],
   "source": [
    "# plot objective results\n",
    "import matplotlib.pyplot as plt\n",
    "%matplotlib inline\n",
    "\n",
    "fig, ax = plt.subplots(figsize=(5,5))\n",
    "\n",
    "train_y = X.results['objectives'].numpy()\n",
    "\n",
    "ax.scatter(*train_y.T, c = X.results['feasibility'], s=20)\n"
   ]
  },
  {
   "cell_type": "code",
   "execution_count": null,
   "metadata": {},
   "outputs": [],
   "source": []
  }
 ],
 "metadata": {
  "kernelspec": {
   "display_name": "xopt",
   "language": "python",
   "name": "xopt"
  },
  "language_info": {
   "codemirror_mode": {
    "name": "ipython",
    "version": 3
   },
   "file_extension": ".py",
   "mimetype": "text/x-python",
   "name": "python",
   "nbconvert_exporter": "python",
   "pygments_lexer": "ipython3",
   "version": "3.9.6"
  }
 },
 "nbformat": 4,
 "nbformat_minor": 4
}
