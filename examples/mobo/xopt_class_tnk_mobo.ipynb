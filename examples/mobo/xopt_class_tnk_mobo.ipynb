{
 "cells": [
  {
   "cell_type": "code",
   "execution_count": 1,
   "metadata": {},
   "outputs": [],
   "source": [
    "# Useful for debugging\n",
    "%load_ext autoreload\n",
    "%autoreload 2"
   ]
  },
  {
   "cell_type": "markdown",
   "metadata": {},
   "source": [
    "# Xopt class, TNK test function\n",
    "\n",
    "This is the class method for running Xopt.\n",
    "\n",
    "TNK function\n",
    "$n=2$ variables:\n",
    "$x_i \\in [0, \\pi], i=1,2$\n",
    "\n",
    "Objectives:\n",
    "- $f_i(x) = x_i$\n",
    "\n",
    "Constraints:\n",
    "- $g_1(x) = -x_1^2 -x_2^2 + 1 + 0.1 \\cos\\left(16 \\arctan \\frac{x_1}{x_2}\\right) \\le 0$\n",
    "- $g_2(x) = (x_1 - 1/2)^2 + (x_2-1/2)^2 \\le 0.5$"
   ]
  },
  {
   "cell_type": "code",
   "execution_count": 2,
   "metadata": {},
   "outputs": [],
   "source": [
    "# Import the class\n",
    "from xopt import Xopt\n",
    "import matplotlib.pyplot as plt\n",
    "from botorch.utils.multi_objective.pareto import is_non_dominated\n",
    "%matplotlib inline\n",
    "\n",
    "import os\n",
    "SMOKE_TEST = os.environ.get('SMOKE_TEST')\n"
   ]
  },
  {
   "cell_type": "markdown",
   "metadata": {},
   "source": [
    "The `Xopt` object can be instantiated from a JSON or YAML file, or a dict, with the proper structure.\n",
    "\n",
    "Here we will make one"
   ]
  },
  {
   "cell_type": "code",
   "execution_count": 3,
   "metadata": {},
   "outputs": [],
   "source": [
    "import yaml\n",
    "# Make a proper input file. \n",
    "YAML=\"\"\"\n",
    "xopt: {output_path: null, verbose: true}\n",
    "\n",
    "algorithm:\n",
    "  name:  mobo\n",
    "  options: \n",
    "    ref: [1.4, 1.4]\n",
    "    n_initial_samples: 5\n",
    "    n_steps: 10\n",
    "    verbose: True      \n",
    "    generator_options:\n",
    "        batch_size: 4\n",
    "  \n",
    "simulation: \n",
    "  name: test_TNK\n",
    "  evaluate: xopt.tests.evaluators.TNK.evaluate_TNK\n",
    "  \n",
    "vocs:\n",
    "  name: TNK_test\n",
    "  description: null\n",
    "  simulation: test_TNK\n",
    "  templates: null\n",
    "  variables:\n",
    "    x1: [0, 3.14159]\n",
    "    x2: [0, 3.14159]\n",
    "  objectives: {y1: MINIMIZE, y2: MINIMIZE}\n",
    "  constraints:\n",
    "    c1: [GREATER_THAN, 0]\n",
    "    c2: ['LESS_THAN', 0.5]\n",
    "  linked_variables: {}\n",
    "  constants: {a: dummy_constant}\n",
    "\n",
    "\"\"\"\n",
    "config = yaml.safe_load(YAML)"
   ]
  },
  {
   "cell_type": "code",
   "execution_count": 4,
   "metadata": {},
   "outputs": [
    {
     "name": "stderr",
     "output_type": "stream",
     "text": [
      "INFO:xopt.tools:Loading config from dict.\n"
     ]
    },
    {
     "name": "stdout",
     "output_type": "stream",
     "text": [
      "WARNING: verbose keyword is depreciated, use `logging` instead.\n"
     ]
    },
    {
     "name": "stderr",
     "output_type": "stream",
     "text": [
      "INFO:xopt.tools:Loading config from dict.\n"
     ]
    },
    {
     "name": "stdout",
     "output_type": "stream",
     "text": [
      "Warning: No path set for key xopt : output_path\n",
      "Warning: No path set for key algorithm : output_path\n",
      "Warning: No path set for key algorithm : restart_file\n"
     ]
    },
    {
     "data": {
      "text/plain": "\n            Xopt \n________________________________           \nVersion: 0.4.3+168.g7d48d79.dirty\nConfigured: True\nConfig as YAML:\nxopt: {output_path: null, logging: 20}\nalgorithm:\n  name: mobo\n  options:\n    ref: &id001 [1.4, 1.4]\n    n_initial_samples: 5\n    n_steps: 10\n    verbose: true\n    generator_options: {batch_size: 4}\n  function: xopt.bayesian.algorithms.mobo\n  logging: 30\n  ref: *id001\n  n_initial_samples: 5\n  n_steps: 10\n  verbose: true\n  generator_options: {batch_size: 4}\n  output_path: null\n  custom_model: null\n  executor: null\n  restart_file: null\n  initial_x: null\nsimulation:\n  name: test_TNK\n  evaluate: xopt.tests.evaluators.TNK.evaluate_TNK\n  options: {extra_option: abc}\nvocs:\n  name: TNK_test\n  description: null\n  simulation: test_TNK\n  templates: null\n  variables:\n    x1: [0, 3.14159]\n    x2: [0, 3.14159]\n  objectives: {y1: MINIMIZE, y2: MINIMIZE}\n  constraints:\n    c1: [GREATER_THAN, 0]\n    c2: [LESS_THAN, 0.5]\n  linked_variables: null\n  constants: {a: dummy_constant}"
     },
     "execution_count": 4,
     "metadata": {},
     "output_type": "execute_result"
    }
   ],
   "source": [
    "# Optional: Connect the function directly\n",
    "#from xopt.evaluators.test_TNK import evaluate_TNK \n",
    "#config['simulation']['evaluate'] = evaluate_TNK \n",
    "if SMOKE_TEST:\n",
    "    config['algorithm']['options']['n_steps'] = 3\n",
    "    config['algorithm']['options']['generator_options']['num_restarts'] = 2\n",
    "    config['algorithm']['options']['generator_options']['raw_samples'] = 2\n",
    "\n",
    "\n",
    "X = Xopt(config)\n",
    "X"
   ]
  },
  {
   "cell_type": "markdown",
   "metadata": {},
   "source": [
    "# Run MOBO\n",
    "\n",
    "MOBO is designed to run in serial or parallel"
   ]
  },
  {
   "cell_type": "code",
   "execution_count": 5,
   "metadata": {},
   "outputs": [],
   "source": [
    "# Pick one of these\n",
    "from concurrent.futures import ThreadPoolExecutor as PoolExecutor\n",
    "#from concurrent.futures import ProcessPoolExecutor as PoolExecutor\n",
    "\n",
    "#executor = PoolExecutor()\n",
    "# This will also work. \n",
    "executor=None"
   ]
  },
  {
   "cell_type": "code",
   "execution_count": 6,
   "metadata": {},
   "outputs": [
    {
     "name": "stderr",
     "output_type": "stream",
     "text": [
      "INFO:xopt.xopt:Starting at time 2021-09-22T11:05:55-05:00\n",
      "INFO:xopt.bayesian.optimize:started running optimization with generator: <xopt.bayesian.generators.mobo.MOBOGenerator object at 0x000001D72A3A3E20>\n",
      "INFO:xopt.bayesian.optimize:submitting initial candidates at time 2021-09-22T11:05:55-05:00\n",
      "INFO:xopt.bayesian.optimize:starting optimization loop\n",
      "INFO:xopt.bayesian.optimize:submitting candidates at time 2021-09-22T11:06:24-05:00\n",
      "INFO:xopt.bayesian.optimize:submitting candidates at time 2021-09-22T11:06:49-05:00\n",
      "INFO:xopt.bayesian.optimize:submitting candidates at time 2021-09-22T11:07:13-05:00\n",
      "INFO:xopt.bayesian.optimize:submitting candidates at time 2021-09-22T11:07:35-05:00\n",
      "INFO:xopt.bayesian.optimize:submitting candidates at time 2021-09-22T11:07:54-05:00\n",
      "INFO:xopt.bayesian.optimize:submitting candidates at time 2021-09-22T11:08:09-05:00\n",
      "INFO:xopt.bayesian.optimize:submitting candidates at time 2021-09-22T11:08:24-05:00\n",
      "INFO:xopt.bayesian.optimize:submitting candidates at time 2021-09-22T11:08:39-05:00\n",
      "INFO:xopt.bayesian.optimize:submitting candidates at time 2021-09-22T11:08:53-05:00\n",
      "INFO:xopt.bayesian.optimize:submitting candidates at time 2021-09-22T11:09:10-05:00\n"
     ]
    }
   ],
   "source": [
    "# Change max generations\n",
    "X.run(executor=executor)"
   ]
  },
  {
   "cell_type": "markdown",
   "metadata": {},
   "source": [
    "# Plot"
   ]
  },
  {
   "cell_type": "code",
   "execution_count": 7,
   "metadata": {},
   "outputs": [
    {
     "data": {
      "text/plain": "<Figure size 432x288 with 1 Axes>",
      "image/png": "[encoded data removed]"
     },
     "metadata": {
      "needs_background": "light"
     },
     "output_type": "display_data"
    }
   ],
   "source": [
    "fig, ax = plt.subplots()\n",
    "\n",
    "# get results and get valid observations\n",
    "results = X.results\n",
    "train_y = results['objectives']\n",
    "valid_y = train_y[results['feasibility'].flatten()]\n",
    "\n",
    "# plot results\n",
    "ax.plot(train_y[:, 0], train_y[:, 1], '.')\n",
    "ax.set_ylabel('$f_2$')\n",
    "ax.set_xlabel('$f_1$')\n",
    "\n",
    "# highlight Pareto front, ONLY using valid observations (note botorch assumes maximization when determing dominant points)\n",
    "non_dom = is_non_dominated(-valid_y)\n",
    "ax.plot(valid_y[:,0][non_dom],valid_y[:,1][non_dom],'C1o')\n",
    "\n",
    "plt.show()"
   ]
  },
  {
   "cell_type": "code",
   "execution_count": 7,
   "metadata": {},
   "outputs": [],
   "source": []
  }
 ],
 "metadata": {
  "kernelspec": {
   "display_name": "xopt",
   "language": "python",
   "name": "xopt"
  },
  "language_info": {
   "codemirror_mode": {
    "name": "ipython",
    "version": 3
   },
   "file_extension": ".py",
   "mimetype": "text/x-python",
   "name": "python",
   "nbconvert_exporter": "python",
   "pygments_lexer": "ipython3",
   "version": "3.9.6"
  }
 },
 "nbformat": 4,
 "nbformat_minor": 4
}