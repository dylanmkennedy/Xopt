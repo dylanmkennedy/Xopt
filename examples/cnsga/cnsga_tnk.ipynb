{
 "cells": [
  {
   "cell_type": "code",
   "execution_count": 1,
   "metadata": {},
   "outputs": [],
   "source": [
    "# Useful for debugging\n",
    "%load_ext autoreload\n",
    "%autoreload 2"
   ]
  },
  {
   "cell_type": "markdown",
   "metadata": {},
   "source": [
    " # xopt CNSGA example"
   ]
  },
  {
   "cell_type": "code",
   "execution_count": 2,
   "metadata": {},
   "outputs": [],
   "source": [
    "from xopt.cnsga import cnsga\n",
    "import json\n",
    "import numpy as np\n",
    "import matplotlib.pyplot as plt"
   ]
  },
  {
   "cell_type": "code",
   "execution_count": 3,
   "metadata": {},
   "outputs": [],
   "source": [
    "NAME = 'TNK'\n",
    "BOUND_LOW, BOUND_UP = [0.0, 0.0], [3.14159, 3.14159]  \n",
    "\n",
    "\n",
    "X_RANGE = [0, 1.4]\n",
    "Y_RANGE = [0, 1.4]\n",
    "\n",
    "# Pure number version\n",
    "def TNK(individual):    \n",
    "    x1=individual[0]\n",
    "    x2=individual[1]\n",
    "    objectives =  (x1, x2)\n",
    "    constraints = (x1**2+x2**2-1.0 - 0.1*np.cos(16*np.arctan2(x1, x2)), 0.5-(x1-0.5)**2-(x2-0.5)**2 )\n",
    "    return objectives, constraints\n",
    "\n",
    "# labeled version\n",
    "def evaluate_TNK(inputs):\n",
    "    \n",
    "    info = {'some':'info', 'about':['the', 'run']}\n",
    "    ind = [inputs['x1'], inputs['x2']]\n",
    "    objectives, constraints = TNK(ind)    \n",
    "    outputs = {'y1':objectives[0], 'y2':objectives[1], 'c1':constraints[0], 'c2':constraints[1]}\n",
    "    \n",
    "    return outputs\n",
    "\n",
    "VOCS = {\n",
    "    'name':'TNK_test',\n",
    "    \n",
    "    'variables': {\n",
    "        'x1':[0, 3.14159],\n",
    "        'x2':[0, 3.14159]\n",
    "    },\n",
    "    'objectives':{\n",
    "        'y1':'MINIMIZE',\n",
    "        'y2':'MINIMIZE'\n",
    "        \n",
    "    },\n",
    "    'constraints':{\n",
    "        'c1': ['GREATER_THAN', 0],\n",
    "        'c2': ['GREATER_THAN', 0]\n",
    "        \n",
    "    },\n",
    "    'constants':{'a':'dummy_constant'},\n",
    "    'linked_variables':{'x9':'x1'}\n",
    "    \n",
    "    \n",
    "}\n"
   ]
  },
  {
   "cell_type": "code",
   "execution_count": 4,
   "metadata": {},
   "outputs": [],
   "source": [
    "# Pick a parallel method\n",
    "\n",
    "\n",
    "#from concurrent.futures import ProcessPoolExecutor as PoolExecutor\n",
    "from concurrent.futures import ThreadPoolExecutor as PoolExecutor\n",
    "executor = PoolExecutor()"
   ]
  },
  {
   "cell_type": "code",
   "execution_count": 16,
   "metadata": {},
   "outputs": [
    {
     "name": "stdout",
     "output_type": "stream",
     "text": [
      "Creating toolbox from vocs.\n",
      "Warning: Redefining creator.MyFitness\n",
      "Warning in cnsga_toolbox: Redefining creator.Individual\n",
      "Created toolbox with 2 variables, 2 constraints, and 2 objectives.\n",
      "    Using selection algorithm: nsga2\n",
      "____________________________________________________\n",
      "64 fitness calculations for initial generation\n",
      "................................................................done.\n",
      "Submitting first batch of children\n",
      ".................................................................\n",
      "__________________________________________________________\n",
      "Generation 0 completed in 0.00091 minutes\n",
      "................................................................\n",
      "__________________________________________________________\n",
      "Generation 1 completed in 0.00167 minutes\n",
      "................................................................\n",
      "__________________________________________________________\n",
      "Generation 2 completed in 0.00181 minutes\n",
      "................................................................\n",
      "__________________________________________________________\n",
      "Generation 3 completed in 0.00247 minutes\n",
      "................................................................\n",
      "__________________________________________________________\n",
      "Generation 4 completed in 0.00164 minutes\n",
      "................................................................\n",
      "__________________________________________________________\n",
      "Generation 5 completed in 0.00174 minutes\n",
      "................................................................\n",
      "__________________________________________________________\n",
      "Generation 6 completed in 0.00280 minutes\n",
      "................................................................\n",
      "__________________________________________________________\n",
      "Generation 7 completed in 0.00152 minutes\n",
      "................................................................\n",
      "__________________________________________________________\n",
      "Generation 8 completed in 0.00162 minutes\n",
      "................................................................\n",
      "__________________________________________________________\n",
      "Generation 9 completed in 0.00292 minutes\n",
      "................................................................\n",
      "__________________________________________________________\n",
      "Generation 10 completed in 0.00141 minutes\n",
      "................................................................\n",
      "__________________________________________________________\n",
      "Generation 11 completed in 0.00160 minutes\n",
      "................................................................\n",
      "__________________________________________________________\n",
      "Generation 12 completed in 0.00271 minutes\n",
      "................................................................\n",
      "__________________________________________________________\n",
      "Generation 13 completed in 0.00149 minutes\n",
      "................................................................\n",
      "__________________________________________________________\n",
      "Generation 14 completed in 0.00153 minutes\n",
      "................................................................\n",
      "__________________________________________________________\n",
      "Generation 15 completed in 0.00276 minutes\n",
      "................................................................\n",
      "__________________________________________________________\n",
      "Generation 16 completed in 0.00141 minutes\n",
      "................................................................\n",
      "__________________________________________________________\n",
      "Generation 17 completed in 0.00156 minutes\n",
      "................................................................\n",
      "__________________________________________________________\n",
      "Generation 18 completed in 0.00268 minutes\n",
      "................................................................\n",
      "__________________________________________________________\n",
      "Generation 19 completed in 0.00160 minutes\n",
      "..............................................................."
     ]
    }
   ],
   "source": [
    "#pop = cnsga(executor, toolbox=TOOLBOX, max_generations = 40, population_size=64) \n",
    "pop_data = cnsga(executor, vocs=VOCS, evaluate_f=evaluate_TNK,\n",
    "            max_generations = 20, population_size=64, output_path=None,\n",
    "            verbose=True) "
   ]
  },
  {
   "cell_type": "code",
   "execution_count": null,
   "metadata": {},
   "outputs": [],
   "source": [
    "pop_data2 = cnsga(executor, vocs=VOCS, population=pop_data, evaluate_f=evaluate_TNK,\n",
    "            max_generations = 40, population_size=64, output_path=None,\n",
    "            verbose=True) "
   ]
  },
  {
   "cell_type": "code",
   "execution_count": null,
   "metadata": {},
   "outputs": [],
   "source": [
    "pop_init(VOCS, pop_data)"
   ]
  },
  {
   "cell_type": "code",
   "execution_count": 10,
   "metadata": {},
   "outputs": [
    {
     "name": "stdout",
     "output_type": "stream",
     "text": [
      ".........."
     ]
    }
   ],
   "source": [
    "for i in range(10):\n",
    "    print('.', end='')"
   ]
  },
  {
   "cell_type": "code",
   "execution_count": null,
   "metadata": {},
   "outputs": [],
   "source": [
    "cnsga(executor, vocs=VOCS, population=pop['variables'], evaluate_f=evaluate_TNK,\n",
    "            max_generations = 40, population_size=64,\n",
    "            verbose=True) "
   ]
  },
  {
   "cell_type": "code",
   "execution_count": null,
   "metadata": {},
   "outputs": [],
   "source": []
  },
  {
   "cell_type": "code",
   "execution_count": null,
   "metadata": {},
   "outputs": [],
   "source": [
    "fig, ax = plt.subplots(figsize=(5,5))\n",
    "\n",
    "front = np.array([ind.fitness.values for ind in pop])\n",
    "ax.scatter(front[:,0], front[:,1], color='blue')\n",
    "ax.set_xlim(X_RANGE)\n",
    "ax.set_ylim(Y_RANGE)\n",
    "ax.set_aspect('auto')\n",
    "ax.set_title(NAME)"
   ]
  },
  {
   "cell_type": "code",
   "execution_count": null,
   "metadata": {},
   "outputs": [],
   "source": [
    "import sys\n",
    "assert sys.version_info >= (2, 5)"
   ]
  },
  {
   "cell_type": "code",
   "execution_count": null,
   "metadata": {},
   "outputs": [],
   "source": [
    "import sys\n",
    "assert sys.version_info >= (3, 6)"
   ]
  },
  {
   "cell_type": "code",
   "execution_count": null,
   "metadata": {},
   "outputs": [],
   "source": []
  }
 ],
 "metadata": {
  "kernelspec": {
   "display_name": "Python 3",
   "language": "python",
   "name": "python3"
  },
  "language_info": {
   "codemirror_mode": {
    "name": "ipython",
    "version": 3
   },
   "file_extension": ".py",
   "mimetype": "text/x-python",
   "name": "python",
   "nbconvert_exporter": "python",
   "pygments_lexer": "ipython3",
   "version": "3.7.5"
  }
 },
 "nbformat": 4,
 "nbformat_minor": 4
}
