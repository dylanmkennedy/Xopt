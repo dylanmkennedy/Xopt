{
 "cells": [
  {
   "cell_type": "code",
   "execution_count": 4,
   "id": "1085824c-5187-4b46-97a3-717398949dfc",
   "metadata": {},
   "outputs": [],
   "source": [
    "# main function\n",
    "import numpy as np\n",
    "import torch\n",
    "import matplotlib.pyplot as plt\n",
    "\n",
    "from xopt.mobo import mobo\n",
    "from botorch.test_functions.multi_objective import ZDT1\n",
    "\n",
    "# test function\n",
    "from xopt.evaluators import test_TNK\n",
    "from xopt.evaluators import test_ZDT\n",
    "\n"
   ]
  },
  {
   "cell_type": "code",
   "execution_count": 5,
   "id": "e77a822d-7edf-4caa-8eaa-55c6af97415a",
   "metadata": {},
   "outputs": [
    {
     "name": "stdout",
     "output_type": "stream",
     "text": [
      "{'vocs': {'name': 'ZDT1_test', 'description': 'ZDT1 unconstrained multi-objective test function', 'simulation': 'ZDT1_test', 'variables': {'x1': [0, 1.0], 'x2': [0, 1.0]}, 'objectives': {'y1': 'MINIMIZE', 'y2': 'MINIMIZE'}, 'constraints': {}, 'constants': {'a': 'dummy_constant'}, 'linked_variables': {'x9': 'x1'}}, 'xopt': {'verbose': False, 'output_path': ''}}\n",
      "n_feas: 5\n"
     ]
    },
    {
     "name": "stderr",
     "output_type": "stream",
     "text": [
      "c:\\users\\ryan roussel\\documents\\github\\xopt\\xopt\\mobo.py:162: UserWarning: To copy construct from a tensor, it is recommended to use sourceTensor.clone().detach() or sourceTensor.clone().detach().requires_grad_(True), rather than torch.tensor(sourceTensor).\n",
      "  ref = torch.tensor(ref)\n"
     ]
    },
    {
     "name": "stdout",
     "output_type": "stream",
     "text": [
      "n_feas: 6\n",
      "n_feas: 7\n",
      "n_feas: 8\n",
      "n_feas: 9\n",
      "n_feas: 10\n",
      "n_feas: 11\n",
      "n_feas: 12\n",
      "n_feas: 13\n",
      "n_feas: 14\n",
      "n_feas: 15\n",
      "n_feas: 16\n",
      "n_feas: 17\n",
      "n_feas: 18\n",
      "n_feas: 19\n",
      "n_feas: 20\n",
      "n_feas: 21\n",
      "n_feas: 22\n",
      "n_feas: 23\n",
      "n_feas: 24\n"
     ]
    }
   ],
   "source": [
    "\n",
    "# Get VOCS\n",
    "VOCS = test_ZDT.VOCS\n",
    "\n",
    "# add reference point\n",
    "ref = torch.tensor((11., 11.))\n",
    "\n",
    "print(VOCS)\n",
    "# Get evaluate function\n",
    "EVALUATE = test_ZDT.evaluate\n",
    "\n",
    "# VOCS['variables']['x1'] = [0, 4]  # Extent to occasionally throw an exception\n",
    "\n",
    "# Run\n",
    "results = mobo(VOCS, EVALUATE, ref = ref, n_steps=20, verbose=False)\n",
    "model = results['model']\n",
    "\n",
    "    \n"
   ]
  },
  {
   "cell_type": "code",
   "execution_count": 3,
   "id": "d453e752-7122-4333-9331-57a1215de98c",
   "metadata": {},
   "outputs": [
    {
     "name": "stderr",
     "output_type": "stream",
     "text": [
      "C:\\Users\\RYANRO~1\\AppData\\Local\\Temp/ipykernel_24072/3829905010.py:19: MatplotlibDeprecationWarning: shading='flat' when X and Y have the same dimensions as C is deprecated since 3.3.  Either specify the corners of the quadrilaterals with X and Y, or pass shading='auto', 'nearest' or 'gouraud', or set rcParams['pcolor.shading'].  This will become an error two minor releases later.\n",
      "  c = ax2.pcolor(*xx, mean[1].reshape(n, n))\n",
      "C:\\Users\\RYANRO~1\\AppData\\Local\\Temp/ipykernel_24072/3829905010.py:23: MatplotlibDeprecationWarning: shading='flat' when X and Y have the same dimensions as C is deprecated since 3.3.  Either specify the corners of the quadrilaterals with X and Y, or pass shading='auto', 'nearest' or 'gouraud', or set rcParams['pcolor.shading'].  This will become an error two minor releases later.\n",
      "  c = ax2.pcolor(*xx, torch.sqrt(var[1].reshape(n, n)))\n"
     ]
    },
    {
     "data": {
      "text/plain": [
       "[<matplotlib.lines.Line2D at 0x1a7967e9ac0>]"
      ]
     },
     "execution_count": 3,
     "metadata": {},
     "output_type": "execute_result"
    },
    {
     "data": {
      "image/png": "[encoded data removed]",
      "text/plain": [
       "<Figure size 432x288 with 2 Axes>"
      ]
     },
     "metadata": {
      "needs_background": "light"
     },
     "output_type": "display_data"
    },
    {
     "data": {
      "image/png": "[encoded data removed]",
      "text/plain": [
       "<Figure size 432x288 with 2 Axes>"
      ]
     },
     "metadata": {
      "needs_background": "light"
     },
     "output_type": "display_data"
    },
    {
     "data": {
      "image/png": "[encoded data removed]",
      "text/plain": [
       "<Figure size 432x288 with 1 Axes>"
      ]
     },
     "metadata": {
      "needs_background": "light"
     },
     "output_type": "display_data"
    }
   ],
   "source": [
    "# plot model\n",
    "n = 30\n",
    "x = np.linspace(0, 1, n)\n",
    "xx = np.meshgrid(x, x)\n",
    "pts = torch.tensor(np.vstack([ele.ravel() for ele in xx]).T).double()\n",
    "\n",
    "prob = ZDT1(2)\n",
    "\n",
    "with torch.no_grad():\n",
    "    pos = model(pts)\n",
    "    mean = pos.mean\n",
    "    var = pos.variance\n",
    "\n",
    "    true = torch.transpose(prob.evaluate_true(pts), 0, 1)\n",
    "\n",
    "train_y = results['objectives']\n",
    "\n",
    "fig2, ax2 = plt.subplots()\n",
    "c = ax2.pcolor(*xx, mean[1].reshape(n, n))\n",
    "fig2.colorbar(c)\n",
    "\n",
    "fig2, ax2 = plt.subplots()\n",
    "c = ax2.pcolor(*xx, torch.sqrt(var[1].reshape(n, n)))\n",
    "fig2.colorbar(c)\n",
    "\n",
    "fig, ax = plt.subplots()\n",
    "ax.plot(train_y[:, 0], train_y[:, 1], '.')\n"
   ]
  },
  {
   "cell_type": "code",
   "execution_count": null,
   "id": "a34364a1-988e-4acc-8816-6fcebebdb6c5",
   "metadata": {},
   "outputs": [],
   "source": []
  }
 ],
 "metadata": {
  "kernelspec": {
   "display_name": "xopt",
   "language": "python",
   "name": "xopt"
  },
  "language_info": {
   "codemirror_mode": {
    "name": "ipython",
    "version": 3
   },
   "file_extension": ".py",
   "mimetype": "text/x-python",
   "name": "python",
   "nbconvert_exporter": "python",
   "pygments_lexer": "ipython3",
   "version": "3.9.6"
  }
 },
 "nbformat": 4,
 "nbformat_minor": 5
}
