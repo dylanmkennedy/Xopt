{
 "cells": [
  {
   "cell_type": "markdown",
   "metadata": {
    "pycharm": {
     "name": "#%% md\n"
    }
   },
   "source": [
    "\n",
    "# Multi-objective Bayesian Optimization\n",
    "\n",
    "\n",
    "TNK function\n",
    "$n=2$ variables:\n",
    "$x_i \\in [0, \\pi], i=1,2$\n",
    "\n",
    "Objectives:\n",
    "- $f_i(x) = x_i$\n",
    "\n",
    "Constraints:\n",
    "- $g_1(x) = -x_1^2 -x_2^2 + 1 + 0.1 \\cos\\left(16 \\arctan \\frac{x_1}{x_2}\\right) \\le 0$\n",
    "- $g_2(x) = (x_1 - 1/2)^2 + (x_2-1/2)^2 \\le 0.5$"
   ]
  },
  {
   "cell_type": "code",
   "execution_count": 1,
   "outputs": [
    {
     "name": "stdout",
     "output_type": "stream",
     "text": [
      "{'variables': {'x1': [0.0, 3.14159], 'x2': [0.0, 3.14159]}, 'constraints': {'c1': ['GREATER_THAN', 0.0], 'c2': ['LESS_THAN', 0.5]}, 'objectives': {'y1': 'MINIMIZE', 'y2': 'MINIMIZE'}, 'constants': {'a': 'dummy_constant'}, 'linked_variables': None}\n"
     ]
    }
   ],
   "source": [
    "%reset -f\n",
    "import numpy as np\n",
    "\n",
    "import torch\n",
    "from xopt import XoptBase, Evaluator\n",
    "from xopt.generators.bayesian import MOBOGenerator\n",
    "from xopt.resources.test_functions.tnk import evaluate_TNK, tnk_vocs\n",
    "\n",
    "import pandas as pd\n",
    "\n",
    "evaluator = Evaluator(evaluate_TNK)\n",
    "print(tnk_vocs.dict())"
   ],
   "metadata": {
    "collapsed": false,
    "pycharm": {
     "name": "#%%\n"
    }
   }
  },
  {
   "cell_type": "code",
   "execution_count": 2,
   "outputs": [
    {
     "name": "stdout",
     "output_type": "stream",
     "text": [
      "0\n",
      "1\n",
      "2\n",
      "3\n",
      "4\n",
      "5\n",
      "6\n",
      "7\n",
      "8\n",
      "9\n",
      "10\n",
      "11\n",
      "12\n",
      "13\n",
      "14\n",
      "15\n",
      "16\n",
      "17\n",
      "18\n",
      "19\n",
      "20\n",
      "21\n",
      "22\n",
      "23\n",
      "24\n",
      "25\n",
      "26\n",
      "27\n",
      "28\n",
      "29\n",
      "30\n",
      "31\n",
      "32\n",
      "33\n",
      "34\n",
      "35\n",
      "36\n",
      "37\n",
      "38\n",
      "39\n",
      "40\n",
      "41\n",
      "42\n",
      "43\n",
      "44\n",
      "45\n",
      "46\n",
      "47\n",
      "48\n",
      "49\n"
     ]
    }
   ],
   "source": [
    "generator = MOBOGenerator(tnk_vocs)\n",
    "generator.options.n_initial=2,\n",
    "generator.options.optim.num_restarts = 1\n",
    "generator.options.optim.raw_samples = 20\n",
    "\n",
    "generator.options.acq.proximal_lengthscales=[1.0,1.0]\n",
    "X = XoptBase(generator=generator, evaluator=evaluator, vocs=tnk_vocs)\n",
    "X.step()\n",
    "for i in range(50):\n",
    "    print(i)\n",
    "    X.step()"
   ],
   "metadata": {
    "collapsed": false,
    "pycharm": {
     "name": "#%%\n"
    }
   }
  },
  {
   "cell_type": "code",
   "execution_count": 3,
   "outputs": [
    {
     "data": {
      "text/plain": "          x1        x2               a        y1        y2        c1  \\\n0   0.231868  2.011817  dummy_constant  0.231868  2.011817  3.127376   \n1   0.031178  2.011380  dummy_constant  0.031178  2.011380  2.949682   \n2   0.000000  1.505639  dummy_constant  0.000000  1.505639  1.166948   \n3   0.000000  1.300616  dummy_constant  0.000000  1.300616  0.591602   \n4   0.000000  1.058123  dummy_constant  0.000000  1.058123  0.019625   \n5   0.000000  0.827749  dummy_constant  0.000000  0.827749 -0.414832   \n6   0.000000  0.167844  dummy_constant  0.000000  0.167844 -1.071828   \n7   0.370395  0.328704  dummy_constant  0.370395  0.328704 -0.812681   \n8   0.775828  0.450597  dummy_constant  0.775828  0.450597 -0.141521   \n9   0.237214  0.982446  dummy_constant  0.237214  0.982446  0.101134   \n10  0.092579  1.035266  dummy_constant  0.092579  1.035266  0.066019   \n11  0.049644  1.032656  dummy_constant  0.049644  1.032656 -0.003047   \n12  0.428329  0.869462  dummy_constant  0.428329  0.869462 -0.111135   \n13  1.239536  0.354894  dummy_constant  1.239536  0.354894  0.687213   \n14  0.902916  0.395803  dummy_constant  0.902916  0.395803 -0.122785   \n15  1.040239  0.370710  dummy_constant  1.040239  0.370710  0.150267   \n16  0.771765  0.626532  dummy_constant  0.771765  0.626532 -0.003336   \n17  0.784546  0.660623  dummy_constant  0.784546  0.660623  0.031858   \n18  0.759176  0.000000  dummy_constant  0.759176  0.000000 -0.523652   \n19  1.043794  0.149285  dummy_constant  1.043794  0.149285  0.176377   \n20  1.003187  0.048985  dummy_constant  1.003187  0.048985 -0.062261   \n21  1.017527  0.076438  dummy_constant  1.017527  0.076438  0.004939   \n22  0.986439  0.227448  dummy_constant  0.986439  0.227448  0.113298   \n23  0.947306  0.217251  dummy_constant  0.947306  0.217251  0.033952   \n24  0.935977  0.207214  dummy_constant  0.935977  0.207214  0.013120   \n25  0.673076  0.787274  dummy_constant  0.673076  0.787274  0.041170   \n26  0.304858  0.943021  dummy_constant  0.304858  0.943021 -0.046406   \n27  0.219549  0.959919  dummy_constant  0.219549  0.959919  0.059429   \n28  0.599660  0.609094  dummy_constant  0.599660  0.609094 -0.368634   \n29  0.538685  0.881328  dummy_constant  0.538685  0.881328  0.146727   \n30  0.505334  0.860167  dummy_constant  0.505334  0.860167  0.055342   \n31  0.189583  0.943024  dummy_constant  0.189583  0.943024  0.025183   \n32  0.729787  0.719775  dummy_constant  0.729787  0.719775 -0.048724   \n33  0.816336  0.569796  dummy_constant  0.816336  0.569796  0.085828   \n34  0.298945  0.000000  dummy_constant  0.298945  0.000000 -1.010632   \n35  0.557112  0.810721  dummy_constant  0.557112  0.810721  0.065479   \n36  0.130256  0.974082  dummy_constant  0.130256  0.974082  0.018594   \n37  0.139076  0.560625  dummy_constant  0.139076  0.560625 -0.593123   \n38  0.209420  0.734105  dummy_constant  0.209420  0.734105 -0.390933   \n39  0.497141  0.736865  dummy_constant  0.497141  0.736865 -0.110137   \n40  0.826672  0.511732  dummy_constant  0.826672  0.511732  0.030188   \n41  0.975843  0.126017  dummy_constant  0.975843  0.126017  0.014682   \n42  1.041938  0.059788  dummy_constant  1.041938  0.059788  0.028397   \n43  0.950809  0.160928  dummy_constant  0.950809  0.160928  0.019588   \n44  0.635751  0.191476  dummy_constant  0.635751  0.191476 -0.555983   \n45  0.848628  0.491747  dummy_constant  0.848628  0.491747  0.014159   \n46  0.564785  0.780543  dummy_constant  0.564785  0.780543  0.010919   \n47  0.519860  0.803622  dummy_constant  0.519860  0.803622  0.013251   \n48  0.791466  0.549683  dummy_constant  0.791466  0.549683  0.024459   \n49  0.778444  0.586042  dummy_constant  0.778444  0.586042  0.011561   \n50  0.603577  0.772911  dummy_constant  0.603577  0.772911 -0.000501   \n51  0.741513  0.748799  dummy_constant  0.741513  0.748799  0.010848   \n\n          c2 some_array  xopt_error xopt_error_str  \n0   2.357485  [1, 2, 3]       False                 \n1   2.504064  [1, 2, 3]       False                 \n2   1.261309  [1, 2, 3]       False                 \n3   0.890986  [1, 2, 3]       False                 \n4   0.561501  [1, 2, 3]       False                 \n5   0.357419  [1, 2, 3]       False                 \n6   0.360328  [1, 2, 3]       False                 \n7   0.046140  [1, 2, 3]       False                 \n8   0.078522  [1, 2, 3]       False                 \n9   0.301811  [1, 2, 3]       False                 \n10  0.452502  [1, 2, 3]       False                 \n11  0.486543  [1, 2, 3]       False                 \n12  0.141639  [1, 2, 3]       False                 \n13  0.567969  [1, 2, 3]       False                 \n14  0.173199  [1, 2, 3]       False                 \n15  0.308574  [1, 2, 3]       False                 \n16  0.089867  [1, 2, 3]       False                 \n17  0.106766  [1, 2, 3]       False                 \n18  0.317172  [1, 2, 3]       False                 \n19  0.418714  [1, 2, 3]       False                 \n20  0.456611  [1, 2, 3]       False                 \n21  0.447239  [1, 2, 3]       False                 \n22  0.310908  [1, 2, 3]       False                 \n23  0.280030  [1, 2, 3]       False                 \n24  0.275800  [1, 2, 3]       False                 \n25  0.112482  [1, 2, 3]       False                 \n26  0.234348  [1, 2, 3]       False                 \n27  0.290178  [1, 2, 3]       False                 \n28  0.021834  [1, 2, 3]       False                 \n29  0.146908  [1, 2, 3]       False                 \n30  0.129748  [1, 2, 3]       False                 \n31  0.292630  [1, 2, 3]       False                 \n32  0.101103  [1, 2, 3]       False                 \n33  0.104940  [1, 2, 3]       False                 \n34  0.290423  [1, 2, 3]       False                 \n35  0.099809  [1, 2, 3]       False                 \n36  0.361464  [1, 2, 3]       False                 \n37  0.133942  [1, 2, 3]       False                 \n38  0.139242  [1, 2, 3]       False                 \n39  0.056113  [1, 2, 3]       False                 \n40  0.106852  [1, 2, 3]       False                 \n41  0.366290  [1, 2, 3]       False                 \n42  0.487484  [1, 2, 3]       False                 \n43  0.318199  [1, 2, 3]       False                 \n44  0.113615  [1, 2, 3]       False                 \n45  0.121610  [1, 2, 3]       False                 \n46  0.082902  [1, 2, 3]       False                 \n47  0.092581  [1, 2, 3]       False                 \n48  0.087421  [1, 2, 3]       False                 \n49  0.084934  [1, 2, 3]       False                 \n50  0.085208  [1, 2, 3]       False                 \n51  0.120230  [1, 2, 3]       False                 ",
      "text/html": "<div>\n<style scoped>\n    .dataframe tbody tr th:only-of-type {\n        vertical-align: middle;\n    }\n\n    .dataframe tbody tr th {\n        vertical-align: top;\n    }\n\n    .dataframe thead th {\n        text-align: right;\n    }\n</style>\n<table border=\"1\" class=\"dataframe\">\n  <thead>\n    <tr style=\"text-align: right;\">\n      <th></th>\n      <th>x1</th>\n      <th>x2</th>\n      <th>a</th>\n      <th>y1</th>\n      <th>y2</th>\n      <th>c1</th>\n      <th>c2</th>\n      <th>some_array</th>\n      <th>xopt_error</th>\n      <th>xopt_error_str</th>\n    </tr>\n  </thead>\n  <tbody>\n    <tr>\n      <th>0</th>\n      <td>0.231868</td>\n      <td>2.011817</td>\n      <td>dummy_constant</td>\n      <td>0.231868</td>\n      <td>2.011817</td>\n      <td>3.127376</td>\n      <td>2.357485</td>\n      <td>[1, 2, 3]</td>\n      <td>False</td>\n      <td></td>\n    </tr>\n    <tr>\n      <th>1</th>\n      <td>0.031178</td>\n      <td>2.011380</td>\n      <td>dummy_constant</td>\n      <td>0.031178</td>\n      <td>2.011380</td>\n      <td>2.949682</td>\n      <td>2.504064</td>\n      <td>[1, 2, 3]</td>\n      <td>False</td>\n      <td></td>\n    </tr>\n    <tr>\n      <th>2</th>\n      <td>0.000000</td>\n      <td>1.505639</td>\n      <td>dummy_constant</td>\n      <td>0.000000</td>\n      <td>1.505639</td>\n      <td>1.166948</td>\n      <td>1.261309</td>\n      <td>[1, 2, 3]</td>\n      <td>False</td>\n      <td></td>\n    </tr>\n    <tr>\n      <th>3</th>\n      <td>0.000000</td>\n      <td>1.300616</td>\n      <td>dummy_constant</td>\n      <td>0.000000</td>\n      <td>1.300616</td>\n      <td>0.591602</td>\n      <td>0.890986</td>\n      <td>[1, 2, 3]</td>\n      <td>False</td>\n      <td></td>\n    </tr>\n    <tr>\n      <th>4</th>\n      <td>0.000000</td>\n      <td>1.058123</td>\n      <td>dummy_constant</td>\n      <td>0.000000</td>\n      <td>1.058123</td>\n      <td>0.019625</td>\n      <td>0.561501</td>\n      <td>[1, 2, 3]</td>\n      <td>False</td>\n      <td></td>\n    </tr>\n    <tr>\n      <th>5</th>\n      <td>0.000000</td>\n      <td>0.827749</td>\n      <td>dummy_constant</td>\n      <td>0.000000</td>\n      <td>0.827749</td>\n      <td>-0.414832</td>\n      <td>0.357419</td>\n      <td>[1, 2, 3]</td>\n      <td>False</td>\n      <td></td>\n    </tr>\n    <tr>\n      <th>6</th>\n      <td>0.000000</td>\n      <td>0.167844</td>\n      <td>dummy_constant</td>\n      <td>0.000000</td>\n      <td>0.167844</td>\n      <td>-1.071828</td>\n      <td>0.360328</td>\n      <td>[1, 2, 3]</td>\n      <td>False</td>\n      <td></td>\n    </tr>\n    <tr>\n      <th>7</th>\n      <td>0.370395</td>\n      <td>0.328704</td>\n      <td>dummy_constant</td>\n      <td>0.370395</td>\n      <td>0.328704</td>\n      <td>-0.812681</td>\n      <td>0.046140</td>\n      <td>[1, 2, 3]</td>\n      <td>False</td>\n      <td></td>\n    </tr>\n    <tr>\n      <th>8</th>\n      <td>0.775828</td>\n      <td>0.450597</td>\n      <td>dummy_constant</td>\n      <td>0.775828</td>\n      <td>0.450597</td>\n      <td>-0.141521</td>\n      <td>0.078522</td>\n      <td>[1, 2, 3]</td>\n      <td>False</td>\n      <td></td>\n    </tr>\n    <tr>\n      <th>9</th>\n      <td>0.237214</td>\n      <td>0.982446</td>\n      <td>dummy_constant</td>\n      <td>0.237214</td>\n      <td>0.982446</td>\n      <td>0.101134</td>\n      <td>0.301811</td>\n      <td>[1, 2, 3]</td>\n      <td>False</td>\n      <td></td>\n    </tr>\n    <tr>\n      <th>10</th>\n      <td>0.092579</td>\n      <td>1.035266</td>\n      <td>dummy_constant</td>\n      <td>0.092579</td>\n      <td>1.035266</td>\n      <td>0.066019</td>\n      <td>0.452502</td>\n      <td>[1, 2, 3]</td>\n      <td>False</td>\n      <td></td>\n    </tr>\n    <tr>\n      <th>11</th>\n      <td>0.049644</td>\n      <td>1.032656</td>\n      <td>dummy_constant</td>\n      <td>0.049644</td>\n      <td>1.032656</td>\n      <td>-0.003047</td>\n      <td>0.486543</td>\n      <td>[1, 2, 3]</td>\n      <td>False</td>\n      <td></td>\n    </tr>\n    <tr>\n      <th>12</th>\n      <td>0.428329</td>\n      <td>0.869462</td>\n      <td>dummy_constant</td>\n      <td>0.428329</td>\n      <td>0.869462</td>\n      <td>-0.111135</td>\n      <td>0.141639</td>\n      <td>[1, 2, 3]</td>\n      <td>False</td>\n      <td></td>\n    </tr>\n    <tr>\n      <th>13</th>\n      <td>1.239536</td>\n      <td>0.354894</td>\n      <td>dummy_constant</td>\n      <td>1.239536</td>\n      <td>0.354894</td>\n      <td>0.687213</td>\n      <td>0.567969</td>\n      <td>[1, 2, 3]</td>\n      <td>False</td>\n      <td></td>\n    </tr>\n    <tr>\n      <th>14</th>\n      <td>0.902916</td>\n      <td>0.395803</td>\n      <td>dummy_constant</td>\n      <td>0.902916</td>\n      <td>0.395803</td>\n      <td>-0.122785</td>\n      <td>0.173199</td>\n      <td>[1, 2, 3]</td>\n      <td>False</td>\n      <td></td>\n    </tr>\n    <tr>\n      <th>15</th>\n      <td>1.040239</td>\n      <td>0.370710</td>\n      <td>dummy_constant</td>\n      <td>1.040239</td>\n      <td>0.370710</td>\n      <td>0.150267</td>\n      <td>0.308574</td>\n      <td>[1, 2, 3]</td>\n      <td>False</td>\n      <td></td>\n    </tr>\n    <tr>\n      <th>16</th>\n      <td>0.771765</td>\n      <td>0.626532</td>\n      <td>dummy_constant</td>\n      <td>0.771765</td>\n      <td>0.626532</td>\n      <td>-0.003336</td>\n      <td>0.089867</td>\n      <td>[1, 2, 3]</td>\n      <td>False</td>\n      <td></td>\n    </tr>\n    <tr>\n      <th>17</th>\n      <td>0.784546</td>\n      <td>0.660623</td>\n      <td>dummy_constant</td>\n      <td>0.784546</td>\n      <td>0.660623</td>\n      <td>0.031858</td>\n      <td>0.106766</td>\n      <td>[1, 2, 3]</td>\n      <td>False</td>\n      <td></td>\n    </tr>\n    <tr>\n      <th>18</th>\n      <td>0.759176</td>\n      <td>0.000000</td>\n      <td>dummy_constant</td>\n      <td>0.759176</td>\n      <td>0.000000</td>\n      <td>-0.523652</td>\n      <td>0.317172</td>\n      <td>[1, 2, 3]</td>\n      <td>False</td>\n      <td></td>\n    </tr>\n    <tr>\n      <th>19</th>\n      <td>1.043794</td>\n      <td>0.149285</td>\n      <td>dummy_constant</td>\n      <td>1.043794</td>\n      <td>0.149285</td>\n      <td>0.176377</td>\n      <td>0.418714</td>\n      <td>[1, 2, 3]</td>\n      <td>False</td>\n      <td></td>\n    </tr>\n    <tr>\n      <th>20</th>\n      <td>1.003187</td>\n      <td>0.048985</td>\n      <td>dummy_constant</td>\n      <td>1.003187</td>\n      <td>0.048985</td>\n      <td>-0.062261</td>\n      <td>0.456611</td>\n      <td>[1, 2, 3]</td>\n      <td>False</td>\n      <td></td>\n    </tr>\n    <tr>\n      <th>21</th>\n      <td>1.017527</td>\n      <td>0.076438</td>\n      <td>dummy_constant</td>\n      <td>1.017527</td>\n      <td>0.076438</td>\n      <td>0.004939</td>\n      <td>0.447239</td>\n      <td>[1, 2, 3]</td>\n      <td>False</td>\n      <td></td>\n    </tr>\n    <tr>\n      <th>22</th>\n      <td>0.986439</td>\n      <td>0.227448</td>\n      <td>dummy_constant</td>\n      <td>0.986439</td>\n      <td>0.227448</td>\n      <td>0.113298</td>\n      <td>0.310908</td>\n      <td>[1, 2, 3]</td>\n      <td>False</td>\n      <td></td>\n    </tr>\n    <tr>\n      <th>23</th>\n      <td>0.947306</td>\n      <td>0.217251</td>\n      <td>dummy_constant</td>\n      <td>0.947306</td>\n      <td>0.217251</td>\n      <td>0.033952</td>\n      <td>0.280030</td>\n      <td>[1, 2, 3]</td>\n      <td>False</td>\n      <td></td>\n    </tr>\n    <tr>\n      <th>24</th>\n      <td>0.935977</td>\n      <td>0.207214</td>\n      <td>dummy_constant</td>\n      <td>0.935977</td>\n      <td>0.207214</td>\n      <td>0.013120</td>\n      <td>0.275800</td>\n      <td>[1, 2, 3]</td>\n      <td>False</td>\n      <td></td>\n    </tr>\n    <tr>\n      <th>25</th>\n      <td>0.673076</td>\n      <td>0.787274</td>\n      <td>dummy_constant</td>\n      <td>0.673076</td>\n      <td>0.787274</td>\n      <td>0.041170</td>\n      <td>0.112482</td>\n      <td>[1, 2, 3]</td>\n      <td>False</td>\n      <td></td>\n    </tr>\n    <tr>\n      <th>26</th>\n      <td>0.304858</td>\n      <td>0.943021</td>\n      <td>dummy_constant</td>\n      <td>0.304858</td>\n      <td>0.943021</td>\n      <td>-0.046406</td>\n      <td>0.234348</td>\n      <td>[1, 2, 3]</td>\n      <td>False</td>\n      <td></td>\n    </tr>\n    <tr>\n      <th>27</th>\n      <td>0.219549</td>\n      <td>0.959919</td>\n      <td>dummy_constant</td>\n      <td>0.219549</td>\n      <td>0.959919</td>\n      <td>0.059429</td>\n      <td>0.290178</td>\n      <td>[1, 2, 3]</td>\n      <td>False</td>\n      <td></td>\n    </tr>\n    <tr>\n      <th>28</th>\n      <td>0.599660</td>\n      <td>0.609094</td>\n      <td>dummy_constant</td>\n      <td>0.599660</td>\n      <td>0.609094</td>\n      <td>-0.368634</td>\n      <td>0.021834</td>\n      <td>[1, 2, 3]</td>\n      <td>False</td>\n      <td></td>\n    </tr>\n    <tr>\n      <th>29</th>\n      <td>0.538685</td>\n      <td>0.881328</td>\n      <td>dummy_constant</td>\n      <td>0.538685</td>\n      <td>0.881328</td>\n      <td>0.146727</td>\n      <td>0.146908</td>\n      <td>[1, 2, 3]</td>\n      <td>False</td>\n      <td></td>\n    </tr>\n    <tr>\n      <th>30</th>\n      <td>0.505334</td>\n      <td>0.860167</td>\n      <td>dummy_constant</td>\n      <td>0.505334</td>\n      <td>0.860167</td>\n      <td>0.055342</td>\n      <td>0.129748</td>\n      <td>[1, 2, 3]</td>\n      <td>False</td>\n      <td></td>\n    </tr>\n    <tr>\n      <th>31</th>\n      <td>0.189583</td>\n      <td>0.943024</td>\n      <td>dummy_constant</td>\n      <td>0.189583</td>\n      <td>0.943024</td>\n      <td>0.025183</td>\n      <td>0.292630</td>\n      <td>[1, 2, 3]</td>\n      <td>False</td>\n      <td></td>\n    </tr>\n    <tr>\n      <th>32</th>\n      <td>0.729787</td>\n      <td>0.719775</td>\n      <td>dummy_constant</td>\n      <td>0.729787</td>\n      <td>0.719775</td>\n      <td>-0.048724</td>\n      <td>0.101103</td>\n      <td>[1, 2, 3]</td>\n      <td>False</td>\n      <td></td>\n    </tr>\n    <tr>\n      <th>33</th>\n      <td>0.816336</td>\n      <td>0.569796</td>\n      <td>dummy_constant</td>\n      <td>0.816336</td>\n      <td>0.569796</td>\n      <td>0.085828</td>\n      <td>0.104940</td>\n      <td>[1, 2, 3]</td>\n      <td>False</td>\n      <td></td>\n    </tr>\n    <tr>\n      <th>34</th>\n      <td>0.298945</td>\n      <td>0.000000</td>\n      <td>dummy_constant</td>\n      <td>0.298945</td>\n      <td>0.000000</td>\n      <td>-1.010632</td>\n      <td>0.290423</td>\n      <td>[1, 2, 3]</td>\n      <td>False</td>\n      <td></td>\n    </tr>\n    <tr>\n      <th>35</th>\n      <td>0.557112</td>\n      <td>0.810721</td>\n      <td>dummy_constant</td>\n      <td>0.557112</td>\n      <td>0.810721</td>\n      <td>0.065479</td>\n      <td>0.099809</td>\n      <td>[1, 2, 3]</td>\n      <td>False</td>\n      <td></td>\n    </tr>\n    <tr>\n      <th>36</th>\n      <td>0.130256</td>\n      <td>0.974082</td>\n      <td>dummy_constant</td>\n      <td>0.130256</td>\n      <td>0.974082</td>\n      <td>0.018594</td>\n      <td>0.361464</td>\n      <td>[1, 2, 3]</td>\n      <td>False</td>\n      <td></td>\n    </tr>\n    <tr>\n      <th>37</th>\n      <td>0.139076</td>\n      <td>0.560625</td>\n      <td>dummy_constant</td>\n      <td>0.139076</td>\n      <td>0.560625</td>\n      <td>-0.593123</td>\n      <td>0.133942</td>\n      <td>[1, 2, 3]</td>\n      <td>False</td>\n      <td></td>\n    </tr>\n    <tr>\n      <th>38</th>\n      <td>0.209420</td>\n      <td>0.734105</td>\n      <td>dummy_constant</td>\n      <td>0.209420</td>\n      <td>0.734105</td>\n      <td>-0.390933</td>\n      <td>0.139242</td>\n      <td>[1, 2, 3]</td>\n      <td>False</td>\n      <td></td>\n    </tr>\n    <tr>\n      <th>39</th>\n      <td>0.497141</td>\n      <td>0.736865</td>\n      <td>dummy_constant</td>\n      <td>0.497141</td>\n      <td>0.736865</td>\n      <td>-0.110137</td>\n      <td>0.056113</td>\n      <td>[1, 2, 3]</td>\n      <td>False</td>\n      <td></td>\n    </tr>\n    <tr>\n      <th>40</th>\n      <td>0.826672</td>\n      <td>0.511732</td>\n      <td>dummy_constant</td>\n      <td>0.826672</td>\n      <td>0.511732</td>\n      <td>0.030188</td>\n      <td>0.106852</td>\n      <td>[1, 2, 3]</td>\n      <td>False</td>\n      <td></td>\n    </tr>\n    <tr>\n      <th>41</th>\n      <td>0.975843</td>\n      <td>0.126017</td>\n      <td>dummy_constant</td>\n      <td>0.975843</td>\n      <td>0.126017</td>\n      <td>0.014682</td>\n      <td>0.366290</td>\n      <td>[1, 2, 3]</td>\n      <td>False</td>\n      <td></td>\n    </tr>\n    <tr>\n      <th>42</th>\n      <td>1.041938</td>\n      <td>0.059788</td>\n      <td>dummy_constant</td>\n      <td>1.041938</td>\n      <td>0.059788</td>\n      <td>0.028397</td>\n      <td>0.487484</td>\n      <td>[1, 2, 3]</td>\n      <td>False</td>\n      <td></td>\n    </tr>\n    <tr>\n      <th>43</th>\n      <td>0.950809</td>\n      <td>0.160928</td>\n      <td>dummy_constant</td>\n      <td>0.950809</td>\n      <td>0.160928</td>\n      <td>0.019588</td>\n      <td>0.318199</td>\n      <td>[1, 2, 3]</td>\n      <td>False</td>\n      <td></td>\n    </tr>\n    <tr>\n      <th>44</th>\n      <td>0.635751</td>\n      <td>0.191476</td>\n      <td>dummy_constant</td>\n      <td>0.635751</td>\n      <td>0.191476</td>\n      <td>-0.555983</td>\n      <td>0.113615</td>\n      <td>[1, 2, 3]</td>\n      <td>False</td>\n      <td></td>\n    </tr>\n    <tr>\n      <th>45</th>\n      <td>0.848628</td>\n      <td>0.491747</td>\n      <td>dummy_constant</td>\n      <td>0.848628</td>\n      <td>0.491747</td>\n      <td>0.014159</td>\n      <td>0.121610</td>\n      <td>[1, 2, 3]</td>\n      <td>False</td>\n      <td></td>\n    </tr>\n    <tr>\n      <th>46</th>\n      <td>0.564785</td>\n      <td>0.780543</td>\n      <td>dummy_constant</td>\n      <td>0.564785</td>\n      <td>0.780543</td>\n      <td>0.010919</td>\n      <td>0.082902</td>\n      <td>[1, 2, 3]</td>\n      <td>False</td>\n      <td></td>\n    </tr>\n    <tr>\n      <th>47</th>\n      <td>0.519860</td>\n      <td>0.803622</td>\n      <td>dummy_constant</td>\n      <td>0.519860</td>\n      <td>0.803622</td>\n      <td>0.013251</td>\n      <td>0.092581</td>\n      <td>[1, 2, 3]</td>\n      <td>False</td>\n      <td></td>\n    </tr>\n    <tr>\n      <th>48</th>\n      <td>0.791466</td>\n      <td>0.549683</td>\n      <td>dummy_constant</td>\n      <td>0.791466</td>\n      <td>0.549683</td>\n      <td>0.024459</td>\n      <td>0.087421</td>\n      <td>[1, 2, 3]</td>\n      <td>False</td>\n      <td></td>\n    </tr>\n    <tr>\n      <th>49</th>\n      <td>0.778444</td>\n      <td>0.586042</td>\n      <td>dummy_constant</td>\n      <td>0.778444</td>\n      <td>0.586042</td>\n      <td>0.011561</td>\n      <td>0.084934</td>\n      <td>[1, 2, 3]</td>\n      <td>False</td>\n      <td></td>\n    </tr>\n    <tr>\n      <th>50</th>\n      <td>0.603577</td>\n      <td>0.772911</td>\n      <td>dummy_constant</td>\n      <td>0.603577</td>\n      <td>0.772911</td>\n      <td>-0.000501</td>\n      <td>0.085208</td>\n      <td>[1, 2, 3]</td>\n      <td>False</td>\n      <td></td>\n    </tr>\n    <tr>\n      <th>51</th>\n      <td>0.741513</td>\n      <td>0.748799</td>\n      <td>dummy_constant</td>\n      <td>0.741513</td>\n      <td>0.748799</td>\n      <td>0.010848</td>\n      <td>0.120230</td>\n      <td>[1, 2, 3]</td>\n      <td>False</td>\n      <td></td>\n    </tr>\n  </tbody>\n</table>\n</div>"
     },
     "execution_count": 3,
     "metadata": {},
     "output_type": "execute_result"
    }
   ],
   "source": [
    "X.generator.data"
   ],
   "metadata": {
    "collapsed": false,
    "pycharm": {
     "name": "#%%\n"
    }
   }
  },
  {
   "cell_type": "markdown",
   "source": [
    "## plot results\n"
   ],
   "metadata": {
    "collapsed": false,
    "pycharm": {
     "name": "#%% md\n"
    }
   }
  },
  {
   "cell_type": "code",
   "execution_count": null,
   "outputs": [],
   "source": [
    "\n",
    "import matplotlib.pyplot as plt\n",
    "\n",
    "fig,ax = plt.subplots()\n",
    "\n",
    "theta = np.linspace(0,np.pi/2)\n",
    "r = np.sqrt(1 + 0.1*np.cos(16*theta))\n",
    "x_1 = r*np.sin(theta)\n",
    "x_2_lower = r*np.cos(theta)\n",
    "x_2_upper = (0.5 - (x_1 - 0.5)**2)**0.5 + 0.5\n",
    "\n",
    "z = np.zeros_like(x_1)\n",
    "\n",
    "#ax2.plot(x_1, x_2_lower,'r')\n",
    "ax.fill_between(x_1, z, x_2_lower, fc='white')\n",
    "circle = plt.Circle((0.5, 0.5), 0.5**0.5,\n",
    "                    color='r', alpha=0.25, zorder=0,\n",
    "                    label='Valid Region')\n",
    "ax.add_patch(circle)\n",
    "history = pd.concat([X.data, tnk_vocs.feasibility_data(X.data)], axis=1, ignore_index=False)\n",
    "\n",
    "\n",
    "\n",
    "ax.plot(*history[[\"x1\",\"x2\"]][history[\"feasible\"]].to_numpy().T,'.C1')\n",
    "ax.plot(*history[[\"x1\",\"x2\"]][~history[\"feasible\"]].to_numpy().T,'.C2')\n",
    "\n",
    "ax.set_xlim(0, 3.14)\n",
    "ax.set_ylim(0, 3.14)\n",
    "ax.set_xlabel('x1')\n",
    "ax.set_ylabel('x2')\n",
    "ax.set_aspect('equal')"
   ],
   "metadata": {
    "collapsed": false,
    "pycharm": {
     "name": "#%%\n"
    }
   }
  },
  {
   "cell_type": "markdown",
   "source": [
    "### Plot path through input space"
   ],
   "metadata": {
    "collapsed": false,
    "pycharm": {
     "name": "#%% md\n"
    }
   }
  },
  {
   "cell_type": "code",
   "execution_count": 9,
   "outputs": [
    {
     "data": {
      "text/plain": "<Figure size 432x288 with 1 Axes>",
      "image/png": "[encoded data removed]"
     },
     "metadata": {
      "needs_background": "light"
     },
     "output_type": "display_data"
    }
   ],
   "source": [
    "ax = history.plot(\"x1\",\"x2\")\n",
    "ax.set_ylim(0,3.14)\n",
    "ax.set_xlim(0, 3.14)\n",
    "ax.set_aspect(\"equal\")"
   ],
   "metadata": {
    "collapsed": false,
    "pycharm": {
     "name": "#%%\n"
    }
   }
  },
  {
   "cell_type": "code",
   "execution_count": 6,
   "outputs": [
    {
     "name": "stderr",
     "output_type": "stream",
     "text": [
      "C:\\ProgramData\\Miniconda3\\envs\\xopt\\lib\\site-packages\\torch\\functional.py:445: UserWarning: torch.meshgrid: in an upcoming release, it will be required to pass the indexing argument. (Triggered internally at  ..\\aten\\src\\ATen\\native\\TensorShape.cpp:2157.)\n",
      "  return _VF.meshgrid(tensors, **kwargs)  # type: ignore[attr-defined]\n"
     ]
    },
    {
     "name": "stdout",
     "output_type": "stream",
     "text": [
      "[[0.49204511 0.72219603]]\n"
     ]
    },
    {
     "data": {
      "text/plain": "[<matplotlib.lines.Line2D at 0x261120c73d0>]"
     },
     "execution_count": 6,
     "metadata": {},
     "output_type": "execute_result"
    },
    {
     "data": {
      "text/plain": "<Figure size 432x288 with 2 Axes>",
      "image/png": "[encoded data removed]"
     },
     "metadata": {
      "needs_background": "light"
     },
     "output_type": "display_data"
    },
    {
     "data": {
      "text/plain": "<Figure size 432x288 with 2 Axes>",
      "image/png": "[encoded data removed]"
     },
     "metadata": {
      "needs_background": "light"
     },
     "output_type": "display_data"
    }
   ],
   "source": [
    "# plot the acquisition function\n",
    "from xopt.generators.bayesian.utils import feasibility\n",
    "bounds = generator.vocs.bounds\n",
    "generator.train_model()\n",
    "model = generator.model\n",
    "\n",
    "# create mesh\n",
    "n = 200\n",
    "x = torch.linspace(*bounds.T[0],n)\n",
    "y = torch.linspace(*bounds.T[1],n)\n",
    "xx,yy = torch.meshgrid(x,y)\n",
    "pts = torch.hstack([ele.reshape(-1,1) for ele in (xx,yy)]).double()\n",
    "\n",
    "acq_func = generator.get_acquisition(model)\n",
    "with torch.no_grad():\n",
    "    acq_pts = pts.unsqueeze(1)\n",
    "    acq = acq_func(acq_pts)\n",
    "\n",
    "    fig, ax = plt.subplots()\n",
    "    c = ax.pcolor(xx,yy,acq.reshape(n,n), cmap='Blues')\n",
    "    fig.colorbar(c)\n",
    "    ax.set_title('Acquisition function')\n",
    "\n",
    "    ax.plot(*history[[\"x1\",\"x2\"]][history[\"feasible\"]].to_numpy().T,'.C1')\n",
    "    ax.plot(*history[[\"x1\",\"x2\"]][~history[\"feasible\"]].to_numpy().T,'.C2')\n",
    "\n",
    "    ax.plot(*history[[\"x1\",\"x2\"]].to_numpy()[-1].T,'+')\n",
    "\n",
    "    feas = feasibility(\n",
    "        pts.unsqueeze(1),\n",
    "        model,\n",
    "        generator.sampler,\n",
    "        tnk_vocs\n",
    "    ).flatten()\n",
    "\n",
    "    fig2, ax2 = plt.subplots()\n",
    "    c = ax2.pcolor(xx,yy,feas.reshape(n,n))\n",
    "    fig2.colorbar(c)\n",
    "    ax2.set_title('Feasible Region')\n",
    "\n",
    "candidate = generator.generate(1)\n",
    "print(candidate[[\"x1\",\"x2\"]].to_numpy())\n",
    "ax.plot(*candidate[[\"x1\",\"x2\"]].to_numpy()[0],'o')"
   ],
   "metadata": {
    "collapsed": false,
    "pycharm": {
     "name": "#%%\n"
    }
   }
  },
  {
   "cell_type": "code",
   "execution_count": 7,
   "outputs": [],
   "source": [
    "candidate = generator.generate(1)"
   ],
   "metadata": {
    "collapsed": false,
    "pycharm": {
     "name": "#%%\n"
    }
   }
  }
 ],
 "metadata": {
  "interpreter": {
   "hash": "72034539424920dfb606fe3b820b3f27dca0cbf1c69938110810ec4641e275b1"
  },
  "kernelspec": {
   "name": "xopt",
   "language": "python",
   "display_name": "xopt"
  },
  "language_info": {
   "codemirror_mode": {
    "name": "ipython",
    "version": 3
   },
   "file_extension": ".py",
   "mimetype": "text/x-python",
   "name": "python",
   "nbconvert_exporter": "python",
   "pygments_lexer": "ipython3",
   "version": "3.9.12"
  }
 },
 "nbformat": 4,
 "nbformat_minor": 4
}