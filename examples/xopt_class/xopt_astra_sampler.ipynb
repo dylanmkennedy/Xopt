{
 "cells": [
  {
   "cell_type": "code",
   "execution_count": 1,
   "metadata": {},
   "outputs": [],
   "source": [
    "# Useful for debugging\n",
    "%load_ext autoreload\n",
    "%autoreload 2"
   ]
  },
  {
   "cell_type": "markdown",
   "metadata": {},
   "source": [
    "# Xopt class, Astra kekgun example\n",
    "\n",
    "This is the class method for running Xopt."
   ]
  },
  {
   "cell_type": "code",
   "execution_count": 2,
   "metadata": {},
   "outputs": [],
   "source": [
    "from xopt import Xopt\n",
    "import os"
   ]
  },
  {
   "cell_type": "code",
   "execution_count": 3,
   "metadata": {},
   "outputs": [],
   "source": [
    "# Make a proper input file.\n",
    "YAML=\"\"\"\n",
    "xopt: {output_path: temp, verbose: true}\n",
    "\n",
    "algorithm:\n",
    "  name: random_sampler\n",
    "  options: {verbose: T, chunk_size: 4, max_samples: 10}\n",
    "\n",
    "simulation:\n",
    "  name: astra_with_generator\n",
    "  function: astra.evaluate.evaluate_astra_with_generator\n",
    "  options:\n",
    "    astra_input_file: ../templates/kekgun/kekgun.in\n",
    "    generator_input_file: ../templates/kekgun/dist004.in\n",
    "\n",
    "# Note that you can call another file in the top level group:\n",
    "vocs:\n",
    "    variables:\n",
    "      sig_x: [0.05, 1]\n",
    "      lt: [0.005, 0.07]\n",
    "      maxe(1): [20, 50]\n",
    "      phi(1): [-30, 30]\n",
    "      maxb(1): [0, 0.4]\n",
    "      maxe(2): [0, 32]\n",
    "      phi(2): [-180, 180]\n",
    "      maxb(2): [0, 0.3]\n",
    "      maxe(3): [0, 32]\n",
    "      maxe(4): [0, 32]\n",
    "      phi(3): [-45, 45]\n",
    "      phi(4): [-45, 45]\n",
    "      phi(6): [-45, 45]\n",
    "    constants:\n",
    "      ipart: 1000\n",
    "      lspch: true\n",
    "      zstop: 16.54\n",
    "\n",
    "    objectives:\n",
    "      end_core_emit_95percent_x: MINIMIZE\n",
    "      end_sigma_z: MINIMIZE\n",
    "    constraints:\n",
    "      end_sigma_z: [LESS_THAN, 0.0015]\n",
    "      end_core_emit_95percent_x: [LESS_THAN, 9.0e-07]\n",
    "      end_sigma_energy: [LESS_THAN, 200000.0]\n",
    "      end_higher_order_energy_spread: [LESS_THAN, 5000.0]\n",
    "      end_mean_kinetic_energy: [GREATER_THAN, 90000000.0]\n",
    "      end_n_particle_loss: [LESS_THAN, 1]\n",
    "    linked_variables: null\n",
    "\n",
    "\"\"\""
   ]
  },
  {
   "cell_type": "code",
   "execution_count": 4,
   "metadata": {},
   "outputs": [
    {
     "name": "stderr",
     "output_type": "stream",
     "text": [
      "A subdirectory or file temp already exists.\n"
     ]
    }
   ],
   "source": [
    "!mkdir temp"
   ]
  },
  {
   "cell_type": "code",
   "execution_count": 5,
   "metadata": {},
   "outputs": [
    {
     "name": "stderr",
     "output_type": "stream",
     "text": [
      "INFO:xopt.tools:Loading config from text\n",
      "INFO:xopt.tools:Loading config from dict.\n",
      "INFO:xopt.tools:Loading config from dict.\n",
      "INFO:xopt.tools:Loading config from dict.\n",
      "INFO:xopt.tools:Loading from YAML file: ../templates/kekgun/kekgun_vocs.yaml\n",
      "WARNING:xopt.legacy:`verbose` keyword no longer allowed in xopt config, renaming to `logging`\n"
     ]
    },
    {
     "name": "stdout",
     "output_type": "stream",
     "text": [
      "{'variables': {'sig_x': [0.05, 1], 'lt': [0.005, 0.07], 'maxe(1)': [20, 50], 'phi(1)': [-30, 30], 'maxb(1)': [0, 0.4], 'maxe(2)': [0, 32], 'phi(2)': [-180, 180], 'maxb(2)': [0, 0.3], 'maxe(3)': [0, 32], 'maxe(4)': [0, 32], 'phi(3)': [-45, 45], 'phi(4)': [-45, 45], 'phi(6)': [-45, 45]}, 'constants': {'ipart': 1000, 'lspch': True, 'zstop': 16.54}, 'objectives': {'end_core_emit_95percent_x': 'MINIMIZE', 'end_sigma_z': 'MINIMIZE'}, 'constraints': {'end_sigma_z': ['LESS_THAN', 0.0015], 'end_core_emit_95percent_x': ['LESS_THAN', 9e-07], 'end_sigma_energy': ['LESS_THAN', 200000.0], 'end_higher_order_energy_spread': ['LESS_THAN', 5000.0], 'end_mean_kinetic_energy': ['GREATER_THAN', 90000000.0], 'end_n_particle_loss': ['LESS_THAN', 1]}, 'linked_variables': None}\n",
      "{'xopt': {'output_path': 'temp', 'logging': 20}, 'algorithm': {'name': 'random_sampler', 'options': {'verbose': 'T', 'chunk_size': 4, 'max_samples': 10}, 'function': 'xopt.sampler.random_sampler', 'verbose': 'T', 'chunk_size': 4, 'max_samples': 10, 'executor': None, 'output_path': None}, 'simulation': {'name': 'astra_with_generator', 'function': 'astra.evaluate.evaluate_astra_with_generator', 'options': {'astra_input_file': '../templates/kekgun/kekgun.in', 'generator_input_file': '../templates/kekgun/dist004.in', 'workdir': None, 'astra_bin': '$ASTRA_BIN', 'generator_bin': '$GENERATOR_BIN', 'timeout': 2500, 'verbose': False, 'auto_set_spacecharge_mesh': True, 'archive_path': None, 'merit_f': None}, 'evaluate': 'astra.evaluate.evaluate_astra_with_generator'}, 'vocs': {'variables': {'sig_x': [0.05, 1], 'lt': [0.005, 0.07], 'maxe(1)': [20, 50], 'phi(1)': [-30, 30], 'maxb(1)': [0, 0.4], 'maxe(2)': [0, 32], 'phi(2)': [-180, 180], 'maxb(2)': [0, 0.3], 'maxe(3)': [0, 32], 'maxe(4)': [0, 32], 'phi(3)': [-45, 45], 'phi(4)': [-45, 45], 'phi(6)': [-45, 45]}, 'constants': {'ipart': 1000, 'lspch': True, 'zstop': 16.54}, 'objectives': {'end_core_emit_95percent_x': 'MINIMIZE', 'end_sigma_z': 'MINIMIZE'}, 'constraints': {'end_sigma_z': ['LESS_THAN', 0.0015], 'end_core_emit_95percent_x': ['LESS_THAN', 9e-07], 'end_sigma_energy': ['LESS_THAN', 200000.0], 'end_higher_order_energy_spread': ['LESS_THAN', 5000.0], 'end_mean_kinetic_energy': ['GREATER_THAN', 90000000.0], 'end_n_particle_loss': ['LESS_THAN', 1]}, 'linked_variables': None}}\n",
      "Warning: No path set for key algorithm : output_path\n",
      "Warning: No path set for key simulation : options : archive_path\n",
      "{'variables': {'sig_x': [0.05, 1], 'lt': [0.005, 0.07], 'maxe(1)': [20, 50], 'phi(1)': [-30, 30], 'maxb(1)': [0, 0.4], 'maxe(2)': [0, 32], 'phi(2)': [-180, 180], 'maxb(2)': [0, 0.3], 'maxe(3)': [0, 32], 'maxe(4)': [0, 32], 'phi(3)': [-45, 45], 'phi(4)': [-45, 45], 'phi(6)': [-45, 45]}, 'constants': {'ipart': 1000, 'lspch': True, 'zstop': 16.54}, 'objectives': {'end_core_emit_95percent_x': 'MINIMIZE', 'end_sigma_z': 'MINIMIZE'}, 'constraints': {'end_sigma_z': ['LESS_THAN', 0.0015], 'end_core_emit_95percent_x': ['LESS_THAN', 9e-07], 'end_sigma_energy': ['LESS_THAN', 200000.0], 'end_higher_order_energy_spread': ['LESS_THAN', 5000.0], 'end_mean_kinetic_energy': ['GREATER_THAN', 90000000.0], 'end_n_particle_loss': ['LESS_THAN', 1]}, 'linked_variables': None}\n"
     ]
    },
    {
     "data": {
      "text/plain": "\n            Xopt \n________________________________           \nVersion: 0.4.3+168.g7d48d79.dirty\nConfigured: True\nConfig as YAML:\nxopt: {output_path: 'C:\\Users\\Ryan Roussel\\Documents\\GitHub\\xopt\\examples\\xopt_class\\temp',\n  logging: 20}\nalgorithm:\n  name: random_sampler\n  options: {verbose: T, chunk_size: 4, max_samples: 10}\n  function: xopt.sampler.random_sampler\n  verbose: T\n  chunk_size: 4\n  max_samples: 10\n  executor: null\n  output_path: null\nsimulation:\n  name: astra_with_generator\n  function: astra.evaluate.evaluate_astra_with_generator\n  options: {astra_input_file: 'C:\\Users\\Ryan Roussel\\Documents\\GitHub\\xopt\\examples\\templates\\kekgun\\kekgun.in',\n    generator_input_file: 'C:\\Users\\Ryan Roussel\\Documents\\GitHub\\xopt\\examples\\templates\\kekgun\\dist004.in',\n    workdir: null, astra_bin: 'C:\\Users\\Ryan Roussel\\Documents\\bin\\Astra', generator_bin: 'C:\\Users\\Ryan\n      Roussel\\Documents\\bin\\generator', timeout: 2500, verbose: false, auto_set_spacecharge_mesh: true,\n    archive_path: null, merit_f: null}\n  evaluate: astra.evaluate.evaluate_astra_with_generator\nvocs:\n  variables:\n    sig_x: [0.05, 1]\n    lt: [0.005, 0.07]\n    maxe(1): [20, 50]\n    phi(1): [-30, 30]\n    maxb(1): [0, 0.4]\n    maxe(2): [0, 32]\n    phi(2): [-180, 180]\n    maxb(2): [0, 0.3]\n    maxe(3): [0, 32]\n    maxe(4): [0, 32]\n    phi(3): [-45, 45]\n    phi(4): [-45, 45]\n    phi(6): [-45, 45]\n  constants: {ipart: 10, lspch: true, zstop: 0.2}\n  objectives: {end_core_emit_95percent_x: MINIMIZE, end_sigma_z: MINIMIZE}\n  constraints:\n    end_sigma_z: [LESS_THAN, 0.0015]\n    end_core_emit_95percent_x: [LESS_THAN, 9.0e-07]\n    end_sigma_energy: [LESS_THAN, 200000.0]\n    end_higher_order_energy_spread: [LESS_THAN, 5000.0]\n    end_mean_kinetic_energy: [GREATER_THAN, 90000000.0]\n    end_n_particle_loss: [LESS_THAN, 1]\n  linked_variables: null"
     },
     "execution_count": 5,
     "metadata": {},
     "output_type": "execute_result"
    }
   ],
   "source": [
    "# Create object\n",
    "X = Xopt(config=YAML)\n",
    "\n",
    "# Change some things to make it run faster\n",
    "print(X.vocs)\n",
    "X.vocs['constants']['lspch'] = True\n",
    "X.vocs['constants']['ipart'] = 10\n",
    "X.vocs['constants']['zstop'] = 0.2\n",
    "\n",
    "# Show config\n",
    "X"
   ]
  },
  {
   "cell_type": "code",
   "execution_count": 6,
   "metadata": {},
   "outputs": [
    {
     "data": {
      "text/plain": "{'sig_x': 0.4506418321156827,\n 'lt': 0.01673721033001882,\n 'maxe(1)': 24.297393195025546,\n 'phi(1)': 7.782235762351391,\n 'maxb(1)': 0.10805292560254305,\n 'maxe(2)': 8.91182635230571,\n 'phi(2)': -49.78463534333602,\n 'maxb(2)': 0.2252859512992397,\n 'maxe(3)': 7.201707565171198,\n 'maxe(4)': 27.332043516888202,\n 'phi(3)': 10.397233101525401,\n 'phi(4)': -17.140073653049157,\n 'phi(6)': -36.95594470933294,\n 'ipart': 10,\n 'lspch': True,\n 'zstop': 0.2}"
     },
     "execution_count": 6,
     "metadata": {},
     "output_type": "execute_result"
    }
   ],
   "source": [
    "# Check random inputs \n",
    "X.random_inputs()"
   ]
  },
  {
   "cell_type": "code",
   "execution_count": 7,
   "metadata": {},
   "outputs": [
    {
     "name": "stdout",
     "output_type": "stream",
     "text": [
      "Wall time: 6.68 s\n"
     ]
    },
    {
     "data": {
      "text/plain": "{'error': False,\n 'end_mean_z': 0.2,\n 'end_norm_emit_x': 1.6484e-06,\n 'end_core_emit_95percent_x': 1.5181e-06,\n 'end_core_emit_90percent_x': 1.3877999999999999e-06,\n 'end_core_emit_80percent_x': 1.131e-06,\n 'end_norm_emit_y': 1.9535e-06,\n 'end_core_emit_95percent_y': 1.6844e-06,\n 'end_core_emit_90percent_y': 1.4153999999999998e-06,\n 'end_core_emit_80percent_y': 8.789599999999999e-07,\n 'end_norm_emit_z': 14.29,\n 'end_core_emit_95percent_z': 1.2474e-05,\n 'end_core_emit_905percent_z': 1.0657e-05,\n 'end_core_emit_80percent_z': 7.940999999999999e-06,\n 'end_mean_t': 7.8486e-10,\n 'end_mean_x': 0.0016778,\n 'end_sigma_x': 0.0044137000000000004,\n 'end_sigma_xp': 0.020472999999999998,\n 'end_cov_x__xp': 9.03616801e-05,\n 'end_mean_y': -0.0010809,\n 'end_sigma_y': 0.0020902,\n 'end_sigma_yp': 0.0096794,\n 'end_cov_y__yp': 2.022352108e-05,\n 'end_mean_kinetic_energy': 1287100.0,\n 'end_sigma_z': 0.0034630999999999998,\n 'end_sigma_energy': 12492.0,\n 'end_cov_z__energy': -40.8334121,\n 'end_n_particle_loss': 3,\n 'end_total_charge': 6.000000000000001e-11,\n 'end_higher_order_energy_spread': 3139.4030718504914,\n 'fingerprint': '3c9c738b4d11dc1486af3d1ac98319bf'}"
     },
     "execution_count": 7,
     "metadata": {},
     "output_type": "execute_result"
    }
   ],
   "source": [
    "%%time\n",
    "# Do a random evaluate to check that everything will run\n",
    "output = X.random_evaluate()\n",
    "output"
   ]
  },
  {
   "cell_type": "code",
   "execution_count": 8,
   "metadata": {},
   "outputs": [
    {
     "data": {
      "text/plain": "{'verbose': 'T', 'chunk_size': 4, 'max_samples': 10}"
     },
     "execution_count": 8,
     "metadata": {},
     "output_type": "execute_result"
    }
   ],
   "source": [
    "# These are the algorithm options\n",
    "X.algorithm['options']"
   ]
  },
  {
   "cell_type": "code",
   "execution_count": 9,
   "metadata": {},
   "outputs": [
    {
     "data": {
      "text/plain": "{'astra_input_file': 'C:\\\\Users\\\\Ryan Roussel\\\\Documents\\\\GitHub\\\\xopt\\\\examples\\\\templates\\\\kekgun\\\\kekgun.in',\n 'generator_input_file': 'C:\\\\Users\\\\Ryan Roussel\\\\Documents\\\\GitHub\\\\xopt\\\\examples\\\\templates\\\\kekgun\\\\dist004.in',\n 'workdir': None,\n 'astra_bin': 'C:\\\\Users\\\\Ryan Roussel\\\\Documents\\\\bin\\\\Astra',\n 'generator_bin': 'C:\\\\Users\\\\Ryan Roussel\\\\Documents\\\\bin\\\\generator',\n 'timeout': 2500,\n 'verbose': False,\n 'auto_set_spacecharge_mesh': True,\n 'archive_path': None,\n 'merit_f': None}"
     },
     "execution_count": 9,
     "metadata": {},
     "output_type": "execute_result"
    }
   ],
   "source": [
    "# These are the options in the evaluate function\n",
    "X.simulation['options']"
   ]
  },
  {
   "cell_type": "markdown",
   "metadata": {},
   "source": [
    "# Run Sampler using processes or threads"
   ]
  },
  {
   "cell_type": "code",
   "execution_count": 10,
   "metadata": {},
   "outputs": [],
   "source": [
    "from concurrent.futures import ProcessPoolExecutor as PoolExecutor\n",
    "#from concurrent.futures import ThreadPoolExecutor as PoolExecutor\n",
    "executor = PoolExecutor()"
   ]
  },
  {
   "cell_type": "code",
   "execution_count": 11,
   "metadata": {},
   "outputs": [
    {
     "name": "stderr",
     "output_type": "stream",
     "text": [
      "INFO:xopt.xopt:Starting at time 2021-09-24T12:55:19-05:00\n"
     ]
    },
    {
     "name": "stdout",
     "output_type": "stream",
     "text": [
      "\n",
      "\n",
      "███████╗ █████╗ ███╗   ███╗██████╗ ██╗     ███████╗██████╗ \n",
      "██╔════╝██╔══██╗████╗ ████║██╔══██╗██║     ██╔════╝██╔══██╗\n",
      "███████╗███████║██╔████╔██║██████╔╝██║     █████╗  ██████╔╝\n",
      "╚════██║██╔══██║██║╚██╔╝██║██╔═══╝ ██║     ██╔══╝  ██╔══██╗\n",
      "███████║██║  ██║██║ ╚═╝ ██║██║     ███████╗███████╗██║  ██║\n",
      "╚══════╝╚═╝  ╚═╝╚═╝     ╚═╝╚═╝     ╚══════╝╚══════╝╚═╝  ╚═╝\n",
      "                                                           \n",
      "\n",
      "Xopt Random Sampler\n",
      "Version 0.4.3+168.g7d48d79.dirty\n",
      "\n",
      "....4 samples completed in 0.11195 minutes\n",
      "Samples written to:\n",
      " C:\\Users\\Ryan Roussel\\Documents\\GitHub\\xopt\\examples\\xopt_class\\temp\\sampler-2021-09-24-1.json\n",
      "....4 samples completed in 0.06209 minutes\n",
      "Samples written to:\n",
      " C:\\Users\\Ryan Roussel\\Documents\\GitHub\\xopt\\examples\\xopt_class\\temp\\sampler-2021-09-24-2.json\n",
      "..."
     ]
    }
   ],
   "source": [
    "# Show config\n",
    "X.run(executor)"
   ]
  },
  {
   "cell_type": "code",
   "execution_count": 12,
   "metadata": {},
   "outputs": [
    {
     "data": {
      "text/plain": "[False, False, False, False, False, False, False, False, False, False, False]"
     },
     "execution_count": 12,
     "metadata": {},
     "output_type": "execute_result"
    }
   ],
   "source": [
    "# Check for errors\n",
    "X.results['error']"
   ]
  },
  {
   "cell_type": "markdown",
   "metadata": {},
   "source": [
    "# Write this configuration"
   ]
  },
  {
   "cell_type": "code",
   "execution_count": 13,
   "metadata": {},
   "outputs": [
    {
     "name": "stdout",
     "output_type": "stream",
     "text": [
      "Config written as YAML to test.yaml\n"
     ]
    }
   ],
   "source": [
    "X.save('test.yaml')"
   ]
  },
  {
   "cell_type": "code",
   "execution_count": 14,
   "metadata": {},
   "outputs": [
    {
     "name": "stderr",
     "output_type": "stream",
     "text": [
      "'cat' is not recognized as an internal or external command,\n",
      "operable program or batch file.\n"
     ]
    }
   ],
   "source": [
    "!cat test.yaml"
   ]
  },
  {
   "cell_type": "markdown",
   "metadata": {},
   "source": [
    "# Run with MPI"
   ]
  },
  {
   "cell_type": "code",
   "execution_count": 15,
   "metadata": {},
   "outputs": [
    {
     "name": "stderr",
     "output_type": "stream",
     "text": [
      "'mpirun' is not recognized as an internal or external command,\n",
      "operable program or batch file.\n"
     ]
    }
   ],
   "source": [
    "!mpirun -n 4 python -m mpi4py.futures -m xopt.mpi.run test.yaml"
   ]
  },
  {
   "cell_type": "markdown",
   "metadata": {},
   "source": [
    "# Dask "
   ]
  },
  {
   "cell_type": "code",
   "execution_count": 16,
   "metadata": {},
   "outputs": [
    {
     "data": {
      "text/plain": "<Client: 'tcp://127.0.0.1:65261' processes=4 threads=16, memory=31.91 GiB>",
      "text/html": "<div>\n    <div style=\"width: 24px; height: 24px; background-color: #e1e1e1; border: 3px solid #9D9D9D; border-radius: 5px; position: absolute;\"> </div>\n    <div style=\"margin-left: 48px;\">\n        <h3 style=\"margin-bottom: 0px;\">Client</h3>\n        <p style=\"color: #9D9D9D; margin-bottom: 0px;\">Client-9d650da6-1d60-11ec-b924-04d4c456785e</p>\n        <table style=\"width: 100%; text-align: left;\">\n\n        <tr>\n        \n            <td style=\"text-align: left;\"><strong>Connection method:</strong> Cluster object</td>\n            <td style=\"text-align: left;\"><strong>Cluster type:</strong> distributed.LocalCluster</td>\n        \n        </tr>\n\n        \n            <tr>\n                <td style=\"text-align: left;\">\n                    <strong>Dashboard: </strong> <a href=\"http://127.0.0.1:8787/status\" target=\"_blank\">http://127.0.0.1:8787/status</a>\n                </td>\n                <td style=\"text-align: left;\"></td>\n            </tr>\n        \n\n        </table>\n\n        \n            <details>\n            <summary style=\"margin-bottom: 20px;\"><h3 style=\"display: inline;\">Cluster Info</h3></summary>\n            <div class=\"jp-RenderedHTMLCommon jp-RenderedHTML jp-mod-trusted jp-OutputArea-output\">\n    <div style=\"width: 24px; height: 24px; background-color: #e1e1e1; border: 3px solid #9D9D9D; border-radius: 5px; position: absolute;\">\n    </div>\n    <div style=\"margin-left: 48px;\">\n        <h3 style=\"margin-bottom: 0px; margin-top: 0px;\">LocalCluster</h3>\n        <p style=\"color: #9D9D9D; margin-bottom: 0px;\">326cd2b7</p>\n        <table style=\"width: 100%; text-align: left;\">\n            <tr>\n                <td style=\"text-align: left;\">\n                    <strong>Dashboard:</strong> <a href=\"http://127.0.0.1:8787/status\" target=\"_blank\">http://127.0.0.1:8787/status</a>\n                </td>\n                <td style=\"text-align: left;\">\n                    <strong>Workers:</strong> 4\n                </td>\n            </tr>\n            <tr>\n                <td style=\"text-align: left;\">\n                    <strong>Total threads:</strong> 16\n                </td>\n                <td style=\"text-align: left;\">\n                    <strong>Total memory:</strong> 31.91 GiB\n                </td>\n            </tr>\n            \n            <tr>\n    <td style=\"text-align: left;\"><strong>Status:</strong> running</td>\n    <td style=\"text-align: left;\"><strong>Using processes:</strong> True</td>\n</tr>\n\n            \n        </table>\n\n        <details>\n            <summary style=\"margin-bottom: 20px;\">\n                <h3 style=\"display: inline;\">Scheduler Info</h3>\n            </summary>\n\n            <div style=\"\">\n    <div>\n        <div style=\"width: 24px; height: 24px; background-color: #FFF7E5; border: 3px solid #FF6132; border-radius: 5px; position: absolute;\"> </div>\n        <div style=\"margin-left: 48px;\">\n            <h3 style=\"margin-bottom: 0px;\">Scheduler</h3>\n            <p style=\"color: #9D9D9D; margin-bottom: 0px;\">Scheduler-334d76ef-a7b3-4a7a-be6f-7be5680ab006</p>\n            <table style=\"width: 100%; text-align: left;\">\n                <tr>\n                    <td style=\"text-align: left;\">\n                        <strong>Comm:</strong> tcp://127.0.0.1:65261\n                    </td>\n                    <td style=\"text-align: left;\">\n                        <strong>Workers:</strong> 4\n                    </td>\n                </tr>\n                <tr>\n                    <td style=\"text-align: left;\">\n                        <strong>Dashboard:</strong> <a href=\"http://127.0.0.1:8787/status\" target=\"_blank\">http://127.0.0.1:8787/status</a>\n                    </td>\n                    <td style=\"text-align: left;\">\n                        <strong>Total threads:</strong> 16\n                    </td>\n                </tr>\n                <tr>\n                    <td style=\"text-align: left;\">\n                        <strong>Started:</strong> Just now\n                    </td>\n                    <td style=\"text-align: left;\">\n                        <strong>Total memory:</strong> 31.91 GiB\n                    </td>\n                </tr>\n            </table>\n        </div>\n    </div>\n\n    <details style=\"margin-left: 48px;\">\n        <summary style=\"margin-bottom: 20px;\">\n            <h3 style=\"display: inline;\">Workers</h3>\n        </summary>\n\n        \n        <div style=\"margin-bottom: 20px;\">\n            <div style=\"width: 24px; height: 24px; background-color: #DBF5FF; border: 3px solid #4CC9FF; border-radius: 5px; position: absolute;\"> </div>\n            <div style=\"margin-left: 48px;\">\n            <details>\n                <summary>\n                    <h4 style=\"margin-bottom: 0px; display: inline;\">Worker: 0</h4>\n                </summary>\n                <table style=\"width: 100%; text-align: left;\">\n                    <tr>\n                        <td style=\"text-align: left;\">\n                            <strong>Comm: </strong> tcp://192.168.1.115:65291\n                        </td>\n                        <td style=\"text-align: left;\">\n                            <strong>Total threads: </strong> 4\n                        </td>\n                    </tr>\n                    <tr>\n                        <td style=\"text-align: left;\">\n                            <strong>Dashboard: </strong> <a href=\"http://192.168.1.115:65292/status\" target=\"_blank\">http://192.168.1.115:65292/status</a>\n                        </td>\n                        <td style=\"text-align: left;\">\n                            <strong>Memory: </strong> 7.98 GiB\n                        </td>\n                    </tr>\n                    <tr>\n                        <td style=\"text-align: left;\">\n                            <strong>Nanny: </strong> tcp://127.0.0.1:65266\n                        </td>\n                        <td style=\"text-align: left;\"></td>\n                    </tr>\n                    <tr>\n                        <td colspan=\"2\" style=\"text-align: left;\">\n                            <strong>Local directory: </strong> C:\\Users\\Ryan Roussel\\Documents\\GitHub\\xopt\\examples\\xopt_class\\dask-worker-space\\worker-dyreau_l\n                        </td>\n                    </tr>\n\n                    \n\n                    \n\n                </table>\n            </details>\n            </div>\n        </div>\n        \n        <div style=\"margin-bottom: 20px;\">\n            <div style=\"width: 24px; height: 24px; background-color: #DBF5FF; border: 3px solid #4CC9FF; border-radius: 5px; position: absolute;\"> </div>\n            <div style=\"margin-left: 48px;\">\n            <details>\n                <summary>\n                    <h4 style=\"margin-bottom: 0px; display: inline;\">Worker: 1</h4>\n                </summary>\n                <table style=\"width: 100%; text-align: left;\">\n                    <tr>\n                        <td style=\"text-align: left;\">\n                            <strong>Comm: </strong> tcp://192.168.1.115:65297\n                        </td>\n                        <td style=\"text-align: left;\">\n                            <strong>Total threads: </strong> 4\n                        </td>\n                    </tr>\n                    <tr>\n                        <td style=\"text-align: left;\">\n                            <strong>Dashboard: </strong> <a href=\"http://192.168.1.115:65298/status\" target=\"_blank\">http://192.168.1.115:65298/status</a>\n                        </td>\n                        <td style=\"text-align: left;\">\n                            <strong>Memory: </strong> 7.98 GiB\n                        </td>\n                    </tr>\n                    <tr>\n                        <td style=\"text-align: left;\">\n                            <strong>Nanny: </strong> tcp://127.0.0.1:65265\n                        </td>\n                        <td style=\"text-align: left;\"></td>\n                    </tr>\n                    <tr>\n                        <td colspan=\"2\" style=\"text-align: left;\">\n                            <strong>Local directory: </strong> C:\\Users\\Ryan Roussel\\Documents\\GitHub\\xopt\\examples\\xopt_class\\dask-worker-space\\worker-oma1634m\n                        </td>\n                    </tr>\n\n                    \n\n                    \n\n                </table>\n            </details>\n            </div>\n        </div>\n        \n        <div style=\"margin-bottom: 20px;\">\n            <div style=\"width: 24px; height: 24px; background-color: #DBF5FF; border: 3px solid #4CC9FF; border-radius: 5px; position: absolute;\"> </div>\n            <div style=\"margin-left: 48px;\">\n            <details>\n                <summary>\n                    <h4 style=\"margin-bottom: 0px; display: inline;\">Worker: 2</h4>\n                </summary>\n                <table style=\"width: 100%; text-align: left;\">\n                    <tr>\n                        <td style=\"text-align: left;\">\n                            <strong>Comm: </strong> tcp://192.168.1.115:65294\n                        </td>\n                        <td style=\"text-align: left;\">\n                            <strong>Total threads: </strong> 4\n                        </td>\n                    </tr>\n                    <tr>\n                        <td style=\"text-align: left;\">\n                            <strong>Dashboard: </strong> <a href=\"http://192.168.1.115:65295/status\" target=\"_blank\">http://192.168.1.115:65295/status</a>\n                        </td>\n                        <td style=\"text-align: left;\">\n                            <strong>Memory: </strong> 7.98 GiB\n                        </td>\n                    </tr>\n                    <tr>\n                        <td style=\"text-align: left;\">\n                            <strong>Nanny: </strong> tcp://127.0.0.1:65264\n                        </td>\n                        <td style=\"text-align: left;\"></td>\n                    </tr>\n                    <tr>\n                        <td colspan=\"2\" style=\"text-align: left;\">\n                            <strong>Local directory: </strong> C:\\Users\\Ryan Roussel\\Documents\\GitHub\\xopt\\examples\\xopt_class\\dask-worker-space\\worker-n6isl072\n                        </td>\n                    </tr>\n\n                    \n\n                    \n\n                </table>\n            </details>\n            </div>\n        </div>\n        \n        <div style=\"margin-bottom: 20px;\">\n            <div style=\"width: 24px; height: 24px; background-color: #DBF5FF; border: 3px solid #4CC9FF; border-radius: 5px; position: absolute;\"> </div>\n            <div style=\"margin-left: 48px;\">\n            <details>\n                <summary>\n                    <h4 style=\"margin-bottom: 0px; display: inline;\">Worker: 3</h4>\n                </summary>\n                <table style=\"width: 100%; text-align: left;\">\n                    <tr>\n                        <td style=\"text-align: left;\">\n                            <strong>Comm: </strong> tcp://192.168.1.115:65288\n                        </td>\n                        <td style=\"text-align: left;\">\n                            <strong>Total threads: </strong> 4\n                        </td>\n                    </tr>\n                    <tr>\n                        <td style=\"text-align: left;\">\n                            <strong>Dashboard: </strong> <a href=\"http://192.168.1.115:65289/status\" target=\"_blank\">http://192.168.1.115:65289/status</a>\n                        </td>\n                        <td style=\"text-align: left;\">\n                            <strong>Memory: </strong> 7.98 GiB\n                        </td>\n                    </tr>\n                    <tr>\n                        <td style=\"text-align: left;\">\n                            <strong>Nanny: </strong> tcp://127.0.0.1:65267\n                        </td>\n                        <td style=\"text-align: left;\"></td>\n                    </tr>\n                    <tr>\n                        <td colspan=\"2\" style=\"text-align: left;\">\n                            <strong>Local directory: </strong> C:\\Users\\Ryan Roussel\\Documents\\GitHub\\xopt\\examples\\xopt_class\\dask-worker-space\\worker-awhjn8qp\n                        </td>\n                    </tr>\n\n                    \n\n                    \n\n                </table>\n            </details>\n            </div>\n        </div>\n        \n\n    </details>\n</div>\n\n        </details>\n    </div>\n</div>\n            </details>\n        \n\n    </div>\n</div>"
     },
     "execution_count": 16,
     "metadata": {},
     "output_type": "execute_result"
    }
   ],
   "source": [
    "from dask.distributed import Client\n",
    "executor = Client()\n",
    "#executor = Client(processes=True)\n",
    "executor"
   ]
  },
  {
   "cell_type": "code",
   "execution_count": 17,
   "metadata": {},
   "outputs": [],
   "source": [
    "# Wait a few seconds for the Dask cluster to start\n",
    "from time import sleep\n",
    "sleep(5)"
   ]
  },
  {
   "cell_type": "code",
   "execution_count": 18,
   "metadata": {},
   "outputs": [
    {
     "name": "stderr",
     "output_type": "stream",
     "text": [
      "INFO:xopt.xopt:Starting at time 2021-09-24T12:55:40-05:00\n"
     ]
    },
    {
     "name": "stdout",
     "output_type": "stream",
     "text": [
      "\n",
      "\n",
      "███████╗ █████╗ ███╗   ███╗██████╗ ██╗     ███████╗██████╗ \n",
      "██╔════╝██╔══██╗████╗ ████║██╔══██╗██║     ██╔════╝██╔══██╗\n",
      "███████╗███████║██╔████╔██║██████╔╝██║     █████╗  ██████╔╝\n",
      "╚════██║██╔══██║██║╚██╔╝██║██╔═══╝ ██║     ██╔══╝  ██╔══██╗\n",
      "███████║██║  ██║██║ ╚═╝ ██║██║     ███████╗███████╗██║  ██║\n",
      "╚══════╝╚═╝  ╚═╝╚═╝     ╚═╝╚═╝     ╚══════╝╚══════╝╚═╝  ╚═╝\n",
      "                                                           \n",
      "\n",
      "Xopt Random Sampler\n",
      "Version 0.4.3+168.g7d48d79.dirty\n",
      "\n",
      "....4 samples completed in 0.07485 minutes\n",
      "Samples written to:\n",
      " C:\\Users\\Ryan Roussel\\Documents\\GitHub\\xopt\\examples\\xopt_class\\temp\\sampler-2021-09-24-3.json\n",
      "....4 samples completed in 0.05517 minutes\n",
      "Samples written to:\n",
      " C:\\Users\\Ryan Roussel\\Documents\\GitHub\\xopt\\examples\\xopt_class\\temp\\sampler-2021-09-24-4.json\n",
      "..."
     ]
    }
   ],
   "source": [
    "# Run some more\n",
    "X.run(executor)\n",
    "executor.close()"
   ]
  },
  {
   "cell_type": "code",
   "execution_count": 19,
   "metadata": {},
   "outputs": [
    {
     "data": {
      "text/plain": "[False, False, False, True, False, False, False, False, False, False, False]"
     },
     "execution_count": 19,
     "metadata": {},
     "output_type": "execute_result"
    }
   ],
   "source": [
    "X.results['error']"
   ]
  },
  {
   "cell_type": "markdown",
   "metadata": {},
   "source": [
    "# Load into Pandas"
   ]
  },
  {
   "cell_type": "code",
   "execution_count": 20,
   "metadata": {},
   "outputs": [],
   "source": [
    "import pandas as pd\n",
    "from glob import glob\n",
    "import json"
   ]
  },
  {
   "cell_type": "code",
   "execution_count": 21,
   "metadata": {},
   "outputs": [
    {
     "data": {
      "text/plain": "['temp\\\\sampler-2021-09-23-1.json',\n 'temp\\\\sampler-2021-09-23-10.json',\n 'temp\\\\sampler-2021-09-23-11.json',\n 'temp\\\\sampler-2021-09-23-12.json',\n 'temp\\\\sampler-2021-09-23-13.json',\n 'temp\\\\sampler-2021-09-23-14.json',\n 'temp\\\\sampler-2021-09-23-15.json',\n 'temp\\\\sampler-2021-09-23-16.json',\n 'temp\\\\sampler-2021-09-23-17.json',\n 'temp\\\\sampler-2021-09-23-18.json',\n 'temp\\\\sampler-2021-09-23-19.json',\n 'temp\\\\sampler-2021-09-23-2.json',\n 'temp\\\\sampler-2021-09-23-20.json',\n 'temp\\\\sampler-2021-09-23-21.json',\n 'temp\\\\sampler-2021-09-23-22.json',\n 'temp\\\\sampler-2021-09-23-23.json',\n 'temp\\\\sampler-2021-09-23-24.json',\n 'temp\\\\sampler-2021-09-23-25.json',\n 'temp\\\\sampler-2021-09-23-26.json',\n 'temp\\\\sampler-2021-09-23-27.json',\n 'temp\\\\sampler-2021-09-23-28.json',\n 'temp\\\\sampler-2021-09-23-3.json',\n 'temp\\\\sampler-2021-09-23-4.json',\n 'temp\\\\sampler-2021-09-23-5.json',\n 'temp\\\\sampler-2021-09-23-6.json',\n 'temp\\\\sampler-2021-09-23-7.json',\n 'temp\\\\sampler-2021-09-23-8.json',\n 'temp\\\\sampler-2021-09-23-9.json',\n 'temp\\\\sampler-2021-09-24-1.json',\n 'temp\\\\sampler-2021-09-24-2.json',\n 'temp\\\\sampler-2021-09-24-3.json',\n 'temp\\\\sampler-2021-09-24-4.json']"
     },
     "execution_count": 21,
     "metadata": {},
     "output_type": "execute_result"
    }
   ],
   "source": [
    "jfiles = glob('temp/*json')\n",
    "jfiles"
   ]
  },
  {
   "cell_type": "code",
   "execution_count": 22,
   "metadata": {},
   "outputs": [
    {
     "data": {
      "text/plain": "[False, False, False, False]"
     },
     "execution_count": 22,
     "metadata": {},
     "output_type": "execute_result"
    }
   ],
   "source": [
    "# Load a file\n",
    "data = json.load(open(jfiles[0]))\n",
    "\n",
    "data['inputs']\n",
    "data['outputs']\n",
    "data['error']"
   ]
  },
  {
   "cell_type": "code",
   "execution_count": 23,
   "metadata": {},
   "outputs": [
    {
     "data": {
      "text/plain": "      sig_x        lt    maxe(1)     phi(1)   maxb(1)    maxe(2)      phi(2)  \\\n0  0.683417  0.014690  36.703658  20.507834  0.072351  27.485161   33.737227   \n1  0.494340  0.042930  45.194041  14.475315  0.151047   9.346282  -81.493626   \n2  0.376364  0.055063  47.537885 -18.491361  0.320499  22.251986   21.791656   \n3  0.182050  0.040702  22.101066  14.577752  0.262735   0.166122 -144.327526   \n\n    maxb(2)    maxe(3)    maxe(4)     phi(3)     phi(4)     phi(6)  ipart  \\\n0  0.062214   6.599819   3.672196  13.086236 -43.878466  43.141303   1000   \n1  0.008933  12.137202  25.282354   7.229167 -33.976214  43.393058   1000   \n2  0.181640   2.462131  23.103032   3.756307 -38.096881 -24.595113   1000   \n3  0.148040   8.992023   4.068452  15.214028 -12.353572   2.018930   1000   \n\n   lspch  zstop  \n0   True    0.2  \n1   True    0.2  \n2   True    0.2  \n3   True    0.2  ",
      "text/html": "<div>\n<style scoped>\n    .dataframe tbody tr th:only-of-type {\n        vertical-align: middle;\n    }\n\n    .dataframe tbody tr th {\n        vertical-align: top;\n    }\n\n    .dataframe thead th {\n        text-align: right;\n    }\n</style>\n<table border=\"1\" class=\"dataframe\">\n  <thead>\n    <tr style=\"text-align: right;\">\n      <th></th>\n      <th>sig_x</th>\n      <th>lt</th>\n      <th>maxe(1)</th>\n      <th>phi(1)</th>\n      <th>maxb(1)</th>\n      <th>maxe(2)</th>\n      <th>phi(2)</th>\n      <th>maxb(2)</th>\n      <th>maxe(3)</th>\n      <th>maxe(4)</th>\n      <th>phi(3)</th>\n      <th>phi(4)</th>\n      <th>phi(6)</th>\n      <th>ipart</th>\n      <th>lspch</th>\n      <th>zstop</th>\n    </tr>\n  </thead>\n  <tbody>\n    <tr>\n      <th>0</th>\n      <td>0.683417</td>\n      <td>0.014690</td>\n      <td>36.703658</td>\n      <td>20.507834</td>\n      <td>0.072351</td>\n      <td>27.485161</td>\n      <td>33.737227</td>\n      <td>0.062214</td>\n      <td>6.599819</td>\n      <td>3.672196</td>\n      <td>13.086236</td>\n      <td>-43.878466</td>\n      <td>43.141303</td>\n      <td>1000</td>\n      <td>True</td>\n      <td>0.2</td>\n    </tr>\n    <tr>\n      <th>1</th>\n      <td>0.494340</td>\n      <td>0.042930</td>\n      <td>45.194041</td>\n      <td>14.475315</td>\n      <td>0.151047</td>\n      <td>9.346282</td>\n      <td>-81.493626</td>\n      <td>0.008933</td>\n      <td>12.137202</td>\n      <td>25.282354</td>\n      <td>7.229167</td>\n      <td>-33.976214</td>\n      <td>43.393058</td>\n      <td>1000</td>\n      <td>True</td>\n      <td>0.2</td>\n    </tr>\n    <tr>\n      <th>2</th>\n      <td>0.376364</td>\n      <td>0.055063</td>\n      <td>47.537885</td>\n      <td>-18.491361</td>\n      <td>0.320499</td>\n      <td>22.251986</td>\n      <td>21.791656</td>\n      <td>0.181640</td>\n      <td>2.462131</td>\n      <td>23.103032</td>\n      <td>3.756307</td>\n      <td>-38.096881</td>\n      <td>-24.595113</td>\n      <td>1000</td>\n      <td>True</td>\n      <td>0.2</td>\n    </tr>\n    <tr>\n      <th>3</th>\n      <td>0.182050</td>\n      <td>0.040702</td>\n      <td>22.101066</td>\n      <td>14.577752</td>\n      <td>0.262735</td>\n      <td>0.166122</td>\n      <td>-144.327526</td>\n      <td>0.148040</td>\n      <td>8.992023</td>\n      <td>4.068452</td>\n      <td>15.214028</td>\n      <td>-12.353572</td>\n      <td>2.018930</td>\n      <td>1000</td>\n      <td>True</td>\n      <td>0.2</td>\n    </tr>\n  </tbody>\n</table>\n</div>"
     },
     "execution_count": 23,
     "metadata": {},
     "output_type": "execute_result"
    }
   ],
   "source": [
    "inputs = pd.DataFrame(data['inputs'])\n",
    "inputs"
   ]
  },
  {
   "cell_type": "code",
   "execution_count": 24,
   "metadata": {},
   "outputs": [
    {
     "data": {
      "text/plain": "   error  end_mean_z  end_norm_emit_x  end_core_emit_95percent_x  \\\n0  False         0.2     6.407800e-07               4.268500e-07   \n1  False         0.2     3.222300e-07               2.466000e-07   \n2  False         0.2     2.676100e-07               2.015400e-07   \n3  False         0.2     1.388700e-06               1.120500e-06   \n\n   end_core_emit_90percent_x  end_core_emit_80percent_x  end_norm_emit_y  \\\n0               3.530100e-07               2.505300e-07     6.289200e-07   \n1               2.108000e-07               1.560100e-07     3.200700e-07   \n2               1.709800e-07               1.247100e-07     2.638000e-07   \n3               9.193300e-07               6.162900e-07     1.398700e-06   \n\n   end_core_emit_95percent_y  end_core_emit_90percent_y  \\\n0               4.274100e-07               3.551200e-07   \n1               2.479700e-07               2.117400e-07   \n2               2.017400e-07               1.707500e-07   \n3               1.131700e-06               9.259400e-07   \n\n   end_core_emit_80percent_y  ...  end_sigma_yp  end_cov_y__yp  \\\n0               2.504800e-07  ...      0.001155   4.816504e-07   \n1               1.551700e-07  ...      0.000316   3.273254e-08   \n2               1.235700e-07  ...      0.000634   1.452577e-07   \n3               6.214300e-07  ...      0.009349   1.970058e-05   \n\n   end_mean_kinetic_energy  end_sigma_z  end_sigma_energy  end_cov_z__energy  \\\n0                2076000.0     0.001718           37526.0          64.389389   \n1                2625100.0     0.004196           75280.0         311.550097   \n2                2729900.0     0.004029           92976.0        -368.812467   \n3                1290100.0     0.004986           47899.0         235.754324   \n\n   end_n_particle_loss  end_total_charge  end_higher_order_energy_spread  \\\n0                    0      9.990000e-11                     1145.997378   \n1                    0      9.990000e-11                      246.738609   \n2                    0      9.990000e-11                      342.397245   \n3                    0      9.990000e-11                      470.044435   \n\n                        fingerprint  \n0  6bcc49d64aee7f8a86800a09a3db277d  \n1  f6d1706aea068a81e8408cdf7178fa94  \n2  bfe523fe8d2781ff7c408bba4100fe51  \n3  4cc586af7cf1fa253bc9d7aeecc61ada  \n\n[4 rows x 31 columns]",
      "text/html": "<div>\n<style scoped>\n    .dataframe tbody tr th:only-of-type {\n        vertical-align: middle;\n    }\n\n    .dataframe tbody tr th {\n        vertical-align: top;\n    }\n\n    .dataframe thead th {\n        text-align: right;\n    }\n</style>\n<table border=\"1\" class=\"dataframe\">\n  <thead>\n    <tr style=\"text-align: right;\">\n      <th></th>\n      <th>error</th>\n      <th>end_mean_z</th>\n      <th>end_norm_emit_x</th>\n      <th>end_core_emit_95percent_x</th>\n      <th>end_core_emit_90percent_x</th>\n      <th>end_core_emit_80percent_x</th>\n      <th>end_norm_emit_y</th>\n      <th>end_core_emit_95percent_y</th>\n      <th>end_core_emit_90percent_y</th>\n      <th>end_core_emit_80percent_y</th>\n      <th>...</th>\n      <th>end_sigma_yp</th>\n      <th>end_cov_y__yp</th>\n      <th>end_mean_kinetic_energy</th>\n      <th>end_sigma_z</th>\n      <th>end_sigma_energy</th>\n      <th>end_cov_z__energy</th>\n      <th>end_n_particle_loss</th>\n      <th>end_total_charge</th>\n      <th>end_higher_order_energy_spread</th>\n      <th>fingerprint</th>\n    </tr>\n  </thead>\n  <tbody>\n    <tr>\n      <th>0</th>\n      <td>False</td>\n      <td>0.2</td>\n      <td>6.407800e-07</td>\n      <td>4.268500e-07</td>\n      <td>3.530100e-07</td>\n      <td>2.505300e-07</td>\n      <td>6.289200e-07</td>\n      <td>4.274100e-07</td>\n      <td>3.551200e-07</td>\n      <td>2.504800e-07</td>\n      <td>...</td>\n      <td>0.001155</td>\n      <td>4.816504e-07</td>\n      <td>2076000.0</td>\n      <td>0.001718</td>\n      <td>37526.0</td>\n      <td>64.389389</td>\n      <td>0</td>\n      <td>9.990000e-11</td>\n      <td>1145.997378</td>\n      <td>6bcc49d64aee7f8a86800a09a3db277d</td>\n    </tr>\n    <tr>\n      <th>1</th>\n      <td>False</td>\n      <td>0.2</td>\n      <td>3.222300e-07</td>\n      <td>2.466000e-07</td>\n      <td>2.108000e-07</td>\n      <td>1.560100e-07</td>\n      <td>3.200700e-07</td>\n      <td>2.479700e-07</td>\n      <td>2.117400e-07</td>\n      <td>1.551700e-07</td>\n      <td>...</td>\n      <td>0.000316</td>\n      <td>3.273254e-08</td>\n      <td>2625100.0</td>\n      <td>0.004196</td>\n      <td>75280.0</td>\n      <td>311.550097</td>\n      <td>0</td>\n      <td>9.990000e-11</td>\n      <td>246.738609</td>\n      <td>f6d1706aea068a81e8408cdf7178fa94</td>\n    </tr>\n    <tr>\n      <th>2</th>\n      <td>False</td>\n      <td>0.2</td>\n      <td>2.676100e-07</td>\n      <td>2.015400e-07</td>\n      <td>1.709800e-07</td>\n      <td>1.247100e-07</td>\n      <td>2.638000e-07</td>\n      <td>2.017400e-07</td>\n      <td>1.707500e-07</td>\n      <td>1.235700e-07</td>\n      <td>...</td>\n      <td>0.000634</td>\n      <td>1.452577e-07</td>\n      <td>2729900.0</td>\n      <td>0.004029</td>\n      <td>92976.0</td>\n      <td>-368.812467</td>\n      <td>0</td>\n      <td>9.990000e-11</td>\n      <td>342.397245</td>\n      <td>bfe523fe8d2781ff7c408bba4100fe51</td>\n    </tr>\n    <tr>\n      <th>3</th>\n      <td>False</td>\n      <td>0.2</td>\n      <td>1.388700e-06</td>\n      <td>1.120500e-06</td>\n      <td>9.193300e-07</td>\n      <td>6.162900e-07</td>\n      <td>1.398700e-06</td>\n      <td>1.131700e-06</td>\n      <td>9.259400e-07</td>\n      <td>6.214300e-07</td>\n      <td>...</td>\n      <td>0.009349</td>\n      <td>1.970058e-05</td>\n      <td>1290100.0</td>\n      <td>0.004986</td>\n      <td>47899.0</td>\n      <td>235.754324</td>\n      <td>0</td>\n      <td>9.990000e-11</td>\n      <td>470.044435</td>\n      <td>4cc586af7cf1fa253bc9d7aeecc61ada</td>\n    </tr>\n  </tbody>\n</table>\n<p>4 rows × 31 columns</p>\n</div>"
     },
     "execution_count": 24,
     "metadata": {},
     "output_type": "execute_result"
    }
   ],
   "source": [
    "outputs = pd.DataFrame(data['outputs'])\n",
    "outputs"
   ]
  },
  {
   "cell_type": "markdown",
   "metadata": {},
   "source": [
    "# Cleanup"
   ]
  },
  {
   "cell_type": "code",
   "execution_count": 25,
   "metadata": {
    "pycharm": {
     "name": "#%%\n"
    }
   },
   "outputs": [],
   "source": [
    "import shutil\n",
    "os.chmod('dask-worker-space/',0o777)\n",
    "shutil.rmtree('dask-worker-space/')\n",
    "os.chmod('test.yaml',0o777)\n",
    "os.remove('test.yaml')"
   ]
  }
 ],
 "metadata": {
  "kernelspec": {
   "display_name": "Python 3 (ipykernel)",
   "language": "python",
   "name": "python3"
  },
  "language_info": {
   "codemirror_mode": {
    "name": "ipython",
    "version": 3
   },
   "file_extension": ".py",
   "mimetype": "text/x-python",
   "name": "python",
   "nbconvert_exporter": "python",
   "pygments_lexer": "ipython3",
   "version": "3.9.2"
  }
 },
 "nbformat": 4,
 "nbformat_minor": 4
}