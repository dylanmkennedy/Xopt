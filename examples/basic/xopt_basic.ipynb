{
 "cells": [
  {
   "cell_type": "markdown",
   "metadata": {
    "pycharm": {
     "name": "#%% md\n"
    }
   },
   "source": [
    "# Xopt basic example\n",
    "\n",
    "An Xopt problem can be described by a simple YAML file. Here we will demonstrate how this is used to optimize a well-known constrained multi-objective test function, TNK.\n",
    "\n",
    "## TNK test function\n",
    "\n",
    "The TNK function is defined with:\n",
    "\n",
    "$n=2$ variables:\n",
    "$x_i \\in [0, \\pi], i=1,2$\n",
    "\n",
    "Objectives:\n",
    "- $f_i(x) = x_i$\n",
    "\n",
    "Constraints:\n",
    "- $g_1(x) = -x_1^2 -x_2^2 + 1 + 0.1 \\cos\\left(16 \\arctan \\frac{x_1}{x_2}\\right) \\le 0$\n",
    "- $g_2(x) = (x_1 - 1/2)^2 + (x_2-1/2)^2 \\le 0.5$"
   ]
  },
  {
   "cell_type": "code",
   "execution_count": 1,
   "metadata": {
    "pycharm": {
     "name": "#%%\n"
    }
   },
   "outputs": [],
   "source": [
    "# Import the class\n",
    "from xopt import Xopt"
   ]
  },
  {
   "cell_type": "code",
   "execution_count": 2,
   "metadata": {
    "pycharm": {
     "name": "#%%\n"
    }
   },
   "outputs": [],
   "source": [
    "!mkdir -p temp"
   ]
  },
  {
   "cell_type": "markdown",
   "metadata": {
    "pycharm": {
     "name": "#%% md\n"
    }
   },
   "source": [
    "The `Xopt` object can be instantiated from a JSON or YAML file, or a dict, with the proper structure.\n",
    "\n",
    "Here we will make one"
   ]
  },
  {
   "cell_type": "code",
   "execution_count": 3,
   "metadata": {
    "collapsed": false,
    "pycharm": {
     "name": "#%%\n"
    }
   },
   "outputs": [],
   "source": [
    "# Make a proper input file.\n",
    "YAML = \"\"\"\n",
    "xopt: {}\n",
    "generator:\n",
    "    name: random\n",
    "\n",
    "evaluator:\n",
    "    name: test_TNK\n",
    "    function: xopt.resources.test_functions.tnk.evaluate_TNK\n",
    "\n",
    "vocs:\n",
    "    variables:\n",
    "        x1: [0, 3.14159]\n",
    "        x2: [0, 3.14159]\n",
    "    objectives: {y1: MINIMIZE, y2: MINIMIZE}\n",
    "    constraints:\n",
    "        c1: [GREATER_THAN, 0]\n",
    "        c2: [LESS_THAN, 0.5]\n",
    "    linked_variables: {x9: x1}\n",
    "    constants: {a: dummy_constant}\n",
    "\n",
    "\"\"\""
   ]
  },
  {
   "cell_type": "code",
   "execution_count": 4,
   "metadata": {
    "collapsed": false,
    "pycharm": {
     "name": "#%%\n"
    }
   },
   "outputs": [],
   "source": [
    "# create Xopt object.\n",
    "X = Xopt(YAML)"
   ]
  },
  {
   "cell_type": "markdown",
   "metadata": {
    "collapsed": false,
    "pycharm": {
     "name": "#%% md\n"
    }
   },
   "source": []
  },
  {
   "cell_type": "markdown",
   "metadata": {
    "collapsed": false,
    "pycharm": {
     "name": "#%% md\n"
    }
   },
   "source": [
    "# Run Random data generation"
   ]
  },
  {
   "cell_type": "code",
   "execution_count": 5,
   "metadata": {
    "collapsed": false,
    "pycharm": {
     "name": "#%%\n"
    }
   },
   "outputs": [],
   "source": [
    "# Take one step (generate a single point)\n",
    "X.step()"
   ]
  },
  {
   "cell_type": "code",
   "execution_count": 6,
   "metadata": {
    "collapsed": false,
    "pycharm": {
     "name": "#%%\n"
    }
   },
   "outputs": [
    {
     "data": {
      "text/html": [
       "<div>\n",
       "<style scoped>\n",
       "    .dataframe tbody tr th:only-of-type {\n",
       "        vertical-align: middle;\n",
       "    }\n",
       "\n",
       "    .dataframe tbody tr th {\n",
       "        vertical-align: top;\n",
       "    }\n",
       "\n",
       "    .dataframe thead th {\n",
       "        text-align: right;\n",
       "    }\n",
       "</style>\n",
       "<table border=\"1\" class=\"dataframe\">\n",
       "  <thead>\n",
       "    <tr style=\"text-align: right;\">\n",
       "      <th></th>\n",
       "      <th>x1</th>\n",
       "      <th>x2</th>\n",
       "      <th>a</th>\n",
       "      <th>x9</th>\n",
       "      <th>y1</th>\n",
       "      <th>y2</th>\n",
       "      <th>c1</th>\n",
       "      <th>c2</th>\n",
       "      <th>some_array</th>\n",
       "      <th>xopt_error</th>\n",
       "      <th>xopt_error_str</th>\n",
       "    </tr>\n",
       "  </thead>\n",
       "  <tbody>\n",
       "    <tr>\n",
       "      <th>1</th>\n",
       "      <td>1.48822</td>\n",
       "      <td>1.618543</td>\n",
       "      <td>dummy_constant</td>\n",
       "      <td>1.48822</td>\n",
       "      <td>1.48822</td>\n",
       "      <td>1.618543</td>\n",
       "      <td>3.756148</td>\n",
       "      <td>2.227719</td>\n",
       "      <td>[1, 2, 3]</td>\n",
       "      <td>False</td>\n",
       "      <td></td>\n",
       "    </tr>\n",
       "  </tbody>\n",
       "</table>\n",
       "</div>"
      ],
      "text/plain": [
       "        x1        x2               a       x9       y1        y2        c1  \\\n",
       "1  1.48822  1.618543  dummy_constant  1.48822  1.48822  1.618543  3.756148   \n",
       "\n",
       "         c2 some_array  xopt_error xopt_error_str  \n",
       "1  2.227719  [1, 2, 3]       False                 "
      ]
     },
     "execution_count": 6,
     "metadata": {},
     "output_type": "execute_result"
    }
   ],
   "source": [
    "# examine the results\n",
    "X.data"
   ]
  },
  {
   "cell_type": "code",
   "execution_count": 7,
   "metadata": {
    "collapsed": false,
    "pycharm": {
     "name": "#%%\n"
    }
   },
   "outputs": [
    {
     "data": {
      "text/html": [
       "<div>\n",
       "<style scoped>\n",
       "    .dataframe tbody tr th:only-of-type {\n",
       "        vertical-align: middle;\n",
       "    }\n",
       "\n",
       "    .dataframe tbody tr th {\n",
       "        vertical-align: top;\n",
       "    }\n",
       "\n",
       "    .dataframe thead th {\n",
       "        text-align: right;\n",
       "    }\n",
       "</style>\n",
       "<table border=\"1\" class=\"dataframe\">\n",
       "  <thead>\n",
       "    <tr style=\"text-align: right;\">\n",
       "      <th></th>\n",
       "      <th>x1</th>\n",
       "      <th>x2</th>\n",
       "      <th>a</th>\n",
       "      <th>x9</th>\n",
       "      <th>y1</th>\n",
       "      <th>y2</th>\n",
       "      <th>c1</th>\n",
       "      <th>c2</th>\n",
       "      <th>some_array</th>\n",
       "      <th>xopt_error</th>\n",
       "      <th>xopt_error_str</th>\n",
       "    </tr>\n",
       "  </thead>\n",
       "  <tbody>\n",
       "    <tr>\n",
       "      <th>1</th>\n",
       "      <td>1.488220</td>\n",
       "      <td>1.618543</td>\n",
       "      <td>dummy_constant</td>\n",
       "      <td>1.488220</td>\n",
       "      <td>1.488220</td>\n",
       "      <td>1.618543</td>\n",
       "      <td>3.756148</td>\n",
       "      <td>2.227719</td>\n",
       "      <td>[1, 2, 3]</td>\n",
       "      <td>False</td>\n",
       "      <td></td>\n",
       "    </tr>\n",
       "    <tr>\n",
       "      <th>2</th>\n",
       "      <td>1.857456</td>\n",
       "      <td>2.051770</td>\n",
       "      <td>dummy_constant</td>\n",
       "      <td>1.857456</td>\n",
       "      <td>1.857456</td>\n",
       "      <td>2.051770</td>\n",
       "      <td>6.589850</td>\n",
       "      <td>4.250677</td>\n",
       "      <td>[1, 2, 3]</td>\n",
       "      <td>False</td>\n",
       "      <td></td>\n",
       "    </tr>\n",
       "    <tr>\n",
       "      <th>3</th>\n",
       "      <td>2.517250</td>\n",
       "      <td>0.727516</td>\n",
       "      <td>dummy_constant</td>\n",
       "      <td>2.517250</td>\n",
       "      <td>2.517250</td>\n",
       "      <td>0.727516</td>\n",
       "      <td>5.886755</td>\n",
       "      <td>4.121060</td>\n",
       "      <td>[1, 2, 3]</td>\n",
       "      <td>False</td>\n",
       "      <td></td>\n",
       "    </tr>\n",
       "    <tr>\n",
       "      <th>4</th>\n",
       "      <td>2.250318</td>\n",
       "      <td>0.540588</td>\n",
       "      <td>dummy_constant</td>\n",
       "      <td>2.250318</td>\n",
       "      <td>2.250318</td>\n",
       "      <td>0.540588</td>\n",
       "      <td>4.436938</td>\n",
       "      <td>3.065262</td>\n",
       "      <td>[1, 2, 3]</td>\n",
       "      <td>False</td>\n",
       "      <td></td>\n",
       "    </tr>\n",
       "    <tr>\n",
       "      <th>5</th>\n",
       "      <td>1.685252</td>\n",
       "      <td>2.885718</td>\n",
       "      <td>dummy_constant</td>\n",
       "      <td>1.685252</td>\n",
       "      <td>1.685252</td>\n",
       "      <td>2.885718</td>\n",
       "      <td>10.224165</td>\n",
       "      <td>7.096472</td>\n",
       "      <td>[1, 2, 3]</td>\n",
       "      <td>False</td>\n",
       "      <td></td>\n",
       "    </tr>\n",
       "    <tr>\n",
       "      <th>6</th>\n",
       "      <td>0.651194</td>\n",
       "      <td>1.797049</td>\n",
       "      <td>dummy_constant</td>\n",
       "      <td>0.651194</td>\n",
       "      <td>0.651194</td>\n",
       "      <td>1.797049</td>\n",
       "      <td>2.578308</td>\n",
       "      <td>1.705195</td>\n",
       "      <td>[1, 2, 3]</td>\n",
       "      <td>False</td>\n",
       "      <td></td>\n",
       "    </tr>\n",
       "    <tr>\n",
       "      <th>7</th>\n",
       "      <td>1.341000</td>\n",
       "      <td>0.644417</td>\n",
       "      <td>dummy_constant</td>\n",
       "      <td>1.341000</td>\n",
       "      <td>1.341000</td>\n",
       "      <td>0.644417</td>\n",
       "      <td>1.150170</td>\n",
       "      <td>0.728138</td>\n",
       "      <td>[1, 2, 3]</td>\n",
       "      <td>False</td>\n",
       "      <td></td>\n",
       "    </tr>\n",
       "    <tr>\n",
       "      <th>8</th>\n",
       "      <td>0.696819</td>\n",
       "      <td>1.497032</td>\n",
       "      <td>dummy_constant</td>\n",
       "      <td>0.696819</td>\n",
       "      <td>0.696819</td>\n",
       "      <td>1.497032</td>\n",
       "      <td>1.649351</td>\n",
       "      <td>1.032810</td>\n",
       "      <td>[1, 2, 3]</td>\n",
       "      <td>False</td>\n",
       "      <td></td>\n",
       "    </tr>\n",
       "    <tr>\n",
       "      <th>9</th>\n",
       "      <td>1.762796</td>\n",
       "      <td>0.057868</td>\n",
       "      <td>dummy_constant</td>\n",
       "      <td>1.762796</td>\n",
       "      <td>1.762796</td>\n",
       "      <td>0.057868</td>\n",
       "      <td>2.024269</td>\n",
       "      <td>1.790135</td>\n",
       "      <td>[1, 2, 3]</td>\n",
       "      <td>False</td>\n",
       "      <td></td>\n",
       "    </tr>\n",
       "    <tr>\n",
       "      <th>10</th>\n",
       "      <td>0.287910</td>\n",
       "      <td>1.534283</td>\n",
       "      <td>dummy_constant</td>\n",
       "      <td>0.287910</td>\n",
       "      <td>0.287910</td>\n",
       "      <td>1.534283</td>\n",
       "      <td>1.535411</td>\n",
       "      <td>1.114723</td>\n",
       "      <td>[1, 2, 3]</td>\n",
       "      <td>False</td>\n",
       "      <td></td>\n",
       "    </tr>\n",
       "    <tr>\n",
       "      <th>11</th>\n",
       "      <td>3.068988</td>\n",
       "      <td>1.828942</td>\n",
       "      <td>dummy_constant</td>\n",
       "      <td>3.068988</td>\n",
       "      <td>3.068988</td>\n",
       "      <td>1.828942</td>\n",
       "      <td>11.831504</td>\n",
       "      <td>8.365784</td>\n",
       "      <td>[1, 2, 3]</td>\n",
       "      <td>False</td>\n",
       "      <td></td>\n",
       "    </tr>\n",
       "  </tbody>\n",
       "</table>\n",
       "</div>"
      ],
      "text/plain": [
       "          x1        x2               a        x9        y1        y2  \\\n",
       "1   1.488220  1.618543  dummy_constant  1.488220  1.488220  1.618543   \n",
       "2   1.857456  2.051770  dummy_constant  1.857456  1.857456  2.051770   \n",
       "3   2.517250  0.727516  dummy_constant  2.517250  2.517250  0.727516   \n",
       "4   2.250318  0.540588  dummy_constant  2.250318  2.250318  0.540588   \n",
       "5   1.685252  2.885718  dummy_constant  1.685252  1.685252  2.885718   \n",
       "6   0.651194  1.797049  dummy_constant  0.651194  0.651194  1.797049   \n",
       "7   1.341000  0.644417  dummy_constant  1.341000  1.341000  0.644417   \n",
       "8   0.696819  1.497032  dummy_constant  0.696819  0.696819  1.497032   \n",
       "9   1.762796  0.057868  dummy_constant  1.762796  1.762796  0.057868   \n",
       "10  0.287910  1.534283  dummy_constant  0.287910  0.287910  1.534283   \n",
       "11  3.068988  1.828942  dummy_constant  3.068988  3.068988  1.828942   \n",
       "\n",
       "           c1        c2 some_array  xopt_error xopt_error_str  \n",
       "1    3.756148  2.227719  [1, 2, 3]       False                 \n",
       "2    6.589850  4.250677  [1, 2, 3]       False                 \n",
       "3    5.886755  4.121060  [1, 2, 3]       False                 \n",
       "4    4.436938  3.065262  [1, 2, 3]       False                 \n",
       "5   10.224165  7.096472  [1, 2, 3]       False                 \n",
       "6    2.578308  1.705195  [1, 2, 3]       False                 \n",
       "7    1.150170  0.728138  [1, 2, 3]       False                 \n",
       "8    1.649351  1.032810  [1, 2, 3]       False                 \n",
       "9    2.024269  1.790135  [1, 2, 3]       False                 \n",
       "10   1.535411  1.114723  [1, 2, 3]       False                 \n",
       "11  11.831504  8.365784  [1, 2, 3]       False                 "
      ]
     },
     "execution_count": 7,
     "metadata": {},
     "output_type": "execute_result"
    }
   ],
   "source": [
    "# take a couple of steps and examine the results\n",
    "for _ in range(10):\n",
    "    X.step()\n",
    "X.data"
   ]
  },
  {
   "cell_type": "markdown",
   "metadata": {
    "collapsed": false,
    "pycharm": {
     "name": "#%% md\n"
    }
   },
   "source": [
    "# Plotting\n",
    "Plot the objective results"
   ]
  },
  {
   "cell_type": "code",
   "execution_count": 8,
   "metadata": {
    "collapsed": false,
    "pycharm": {
     "name": "#%%\n"
    }
   },
   "outputs": [
    {
     "data": {
      "text/plain": [
       "<AxesSubplot:xlabel='y1', ylabel='y2'>"
      ]
     },
     "execution_count": 8,
     "metadata": {},
     "output_type": "execute_result"
    },
    {
     "data": {
      "image/png": "[encoded data removed]",
      "text/plain": [
       "<Figure size 432x288 with 1 Axes>"
      ]
     },
     "metadata": {
      "needs_background": "light"
     },
     "output_type": "display_data"
    }
   ],
   "source": [
    "import matplotlib.pyplot as plt\n",
    "\n",
    "X.data.plot(*X.vocs.objective_names, kind=\"scatter\")"
   ]
  },
  {
   "cell_type": "code",
   "execution_count": 9,
   "metadata": {
    "pycharm": {
     "name": "#%%\n"
    }
   },
   "outputs": [],
   "source": [
    "# Cleanup\n",
    "!rm -r temp"
   ]
  },
  {
   "cell_type": "markdown",
   "metadata": {},
   "source": [
    "# Alternative initialiation methods\n",
    "\n",
    "For convenience, if the first (and only) positional argument is present, then Xopt will automatically try to load from JSON, YAML str or files, or as a dict."
   ]
  },
  {
   "cell_type": "code",
   "execution_count": 10,
   "metadata": {},
   "outputs": [],
   "source": [
    "import yaml\n",
    "import json\n",
    "\n",
    "config  = yaml.safe_load(YAML) \n",
    "# All these methods work\n",
    "\n",
    "X = Xopt(YAML)\n",
    "X = Xopt(config)\n",
    "X = Xopt(json.dumps(config, indent=4))\n"
   ]
  },
  {
   "cell_type": "markdown",
   "metadata": {},
   "source": []
  }
 ],
 "metadata": {
  "interpreter": {
   "hash": "72034539424920dfb606fe3b820b3f27dca0cbf1c69938110810ec4641e275b1"
  },
  "kernelspec": {
   "display_name": "Python 3.9.12 ('xopt-dev')",
   "language": "python",
   "name": "python3"
  },
  "language_info": {
   "codemirror_mode": {
    "name": "ipython",
    "version": 3
   },
   "file_extension": ".py",
   "mimetype": "text/x-python",
   "name": "python",
   "nbconvert_exporter": "python",
   "pygments_lexer": "ipython3",
   "version": "3.9.12"
  }
 },
 "nbformat": 4,
 "nbformat_minor": 4
}
