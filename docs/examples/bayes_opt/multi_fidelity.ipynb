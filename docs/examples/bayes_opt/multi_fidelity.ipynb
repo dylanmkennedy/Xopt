{
 "cells": [
  {
   "cell_type": "markdown",
   "source": [
    "## Multi-fidelity Bayesian Optimization"
   ],
   "metadata": {
    "collapsed": false
   }
  },
  {
   "cell_type": "code",
   "execution_count": 1,
   "outputs": [],
   "source": [
    "import matplotlib.pyplot as plt\n",
    "import numpy as np\n",
    "import math\n",
    "\n",
    "import pandas as pd\n",
    "import torch\n",
    "\n",
    "from botorch.test_functions.multi_fidelity import AugmentedHartmann\n",
    "problem = AugmentedHartmann()\n",
    "\n",
    "def test_function(input_dict):\n",
    "    x = torch.tensor([input_dict[f\"x{i}\"] for i in range(1,7)])\n",
    "    s = torch.tensor(input_dict[\"s\"]).unsqueeze(0)\n",
    "    return {\"f\": problem(torch.cat((x,s))).numpy()}\n",
    "\n",
    "\n",
    "# define vocs\n",
    "from xopt import VOCS\n",
    "vocs = VOCS(\n",
    "    variables={\n",
    "        \"x1\": [0, 1],\n",
    "        \"x2\": [0, 1],\n",
    "        \"x3\": [0, 1],\n",
    "        \"x4\": [0, 1],\n",
    "        \"x5\": [0, 1],\n",
    "        \"x6\": [0, 1],\n",
    "    },\n",
    "    objectives={\"f\": \"MINIMIZE\"},\n",
    ")"
   ],
   "metadata": {
    "collapsed": false
   }
  },
  {
   "cell_type": "code",
   "execution_count": 2,
   "outputs": [],
   "source": [
    "# create xopt object\n",
    "from xopt.generators import MultiFidelityBayesianGenerator\n",
    "from xopt import Evaluator, Xopt\n",
    "\n",
    "# get and modify default generator options\n",
    "options = MultiFidelityBayesianGenerator.default_options()\n",
    "\n",
    "# set the base cost of evaluating the function\n",
    "options.acq.base_cost = 5.0\n",
    "options.acq.fidelities = [0.5,0.75,1.0]\n",
    "\n",
    "generator = MultiFidelityBayesianGenerator(vocs, options=options)\n",
    "evaluator = Evaluator(function=test_function)\n",
    "\n",
    "X = Xopt(vocs=vocs, generator=generator, evaluator=evaluator)\n",
    "X.options.strict = True"
   ],
   "metadata": {
    "collapsed": false
   }
  },
  {
   "cell_type": "code",
   "execution_count": 3,
   "outputs": [
    {
     "data": {
      "text/plain": "         x1        x2        x3        x4        x5        x6         s  \\\n1  0.779599  0.510060  0.149707  0.293865  0.884184  0.675545  0.810736   \n2  0.447131  0.720012  0.353257  0.660626  0.750080  0.451302  0.921690   \n3  0.127085  0.415934  0.858427  0.462430  0.012538  0.889702  0.703613   \n4  0.643801  0.781307  0.506795  0.742759  0.389843  0.615218  0.462640   \n5  0.900511  0.655916  0.355355  0.106642  0.944645  0.981492  0.042277   \n\n               f  xopt_runtime  xopt_error  \n1  -0.0029628815      0.001316       False  \n2    -0.22127305      0.000212       False  \n3     -1.1211394      0.000175       False  \n4   -0.059958965      0.000176       False  \n5  -0.0003087785      0.000174       False  ",
      "text/html": "<div>\n<style scoped>\n    .dataframe tbody tr th:only-of-type {\n        vertical-align: middle;\n    }\n\n    .dataframe tbody tr th {\n        vertical-align: top;\n    }\n\n    .dataframe thead th {\n        text-align: right;\n    }\n</style>\n<table border=\"1\" class=\"dataframe\">\n  <thead>\n    <tr style=\"text-align: right;\">\n      <th></th>\n      <th>x1</th>\n      <th>x2</th>\n      <th>x3</th>\n      <th>x4</th>\n      <th>x5</th>\n      <th>x6</th>\n      <th>s</th>\n      <th>f</th>\n      <th>xopt_runtime</th>\n      <th>xopt_error</th>\n    </tr>\n  </thead>\n  <tbody>\n    <tr>\n      <th>1</th>\n      <td>0.779599</td>\n      <td>0.510060</td>\n      <td>0.149707</td>\n      <td>0.293865</td>\n      <td>0.884184</td>\n      <td>0.675545</td>\n      <td>0.810736</td>\n      <td>-0.0029628815</td>\n      <td>0.001316</td>\n      <td>False</td>\n    </tr>\n    <tr>\n      <th>2</th>\n      <td>0.447131</td>\n      <td>0.720012</td>\n      <td>0.353257</td>\n      <td>0.660626</td>\n      <td>0.750080</td>\n      <td>0.451302</td>\n      <td>0.921690</td>\n      <td>-0.22127305</td>\n      <td>0.000212</td>\n      <td>False</td>\n    </tr>\n    <tr>\n      <th>3</th>\n      <td>0.127085</td>\n      <td>0.415934</td>\n      <td>0.858427</td>\n      <td>0.462430</td>\n      <td>0.012538</td>\n      <td>0.889702</td>\n      <td>0.703613</td>\n      <td>-1.1211394</td>\n      <td>0.000175</td>\n      <td>False</td>\n    </tr>\n    <tr>\n      <th>4</th>\n      <td>0.643801</td>\n      <td>0.781307</td>\n      <td>0.506795</td>\n      <td>0.742759</td>\n      <td>0.389843</td>\n      <td>0.615218</td>\n      <td>0.462640</td>\n      <td>-0.059958965</td>\n      <td>0.000176</td>\n      <td>False</td>\n    </tr>\n    <tr>\n      <th>5</th>\n      <td>0.900511</td>\n      <td>0.655916</td>\n      <td>0.355355</td>\n      <td>0.106642</td>\n      <td>0.944645</td>\n      <td>0.981492</td>\n      <td>0.042277</td>\n      <td>-0.0003087785</td>\n      <td>0.000174</td>\n      <td>False</td>\n    </tr>\n  </tbody>\n</table>\n</div>"
     },
     "execution_count": 3,
     "metadata": {},
     "output_type": "execute_result"
    }
   ],
   "source": [
    "# evaluate random initial points at mixed fidelities to seed optimization and view data\n",
    "X.evaluate_data(\n",
    "    pd.DataFrame(np.random.rand(5,7), columns=X.vocs.variable_names + [\"s\"])\n",
    ")\n",
    "X.data"
   ],
   "metadata": {
    "collapsed": false
   }
  },
  {
   "cell_type": "code",
   "execution_count": 4,
   "outputs": [
    {
     "data": {
      "text/plain": "27.940956222381303"
     },
     "execution_count": 4,
     "metadata": {},
     "output_type": "execute_result"
    }
   ],
   "source": [
    "# get the total cost of previous observations (base_cost + s for each measurement)\n",
    "X.generator.calculate_total_cost()"
   ],
   "metadata": {
    "collapsed": false
   }
  },
  {
   "cell_type": "code",
   "execution_count": 5,
   "outputs": [
    {
     "name": "stdout",
     "output_type": "stream",
     "text": [
      "step\n",
      "step\n",
      "step\n",
      "step\n",
      "step\n",
      "step\n",
      "step\n",
      "step\n",
      "step\n",
      "step\n",
      "step\n",
      "step\n",
      "step\n",
      "step\n"
     ]
    }
   ],
   "source": [
    "# run optimization until the cost budget is exhausted\n",
    "budget = 100\n",
    "while X.generator.calculate_total_cost() < budget:\n",
    "    print(\"step\")\n",
    "    X.step()"
   ],
   "metadata": {
    "collapsed": false
   }
  },
  {
   "cell_type": "code",
   "execution_count": 6,
   "outputs": [
    {
     "data": {
      "text/plain": "          x1        x2        x3        x4        x5        x6         s  \\\n1   0.779599  0.510060  0.149707  0.293865  0.884184  0.675545  0.810736   \n2   0.447131  0.720012  0.353257  0.660626  0.750080  0.451302  0.921690   \n3   0.127085  0.415934  0.858427  0.462430  0.012538  0.889702  0.703613   \n4   0.643801  0.781307  0.506795  0.742759  0.389843  0.615218  0.462640   \n5   0.900511  0.655916  0.355355  0.106642  0.944645  0.981492  0.042277   \n6   0.864225  0.568073  0.183885  0.515662  0.667358  0.644038  0.500000   \n7   0.778452  0.420054  0.090288  0.336781  0.903650  0.435032  0.500000   \n8   0.788300  0.669227  0.220204  0.190993  0.784073  0.514197  0.500000   \n9   0.660233  0.560095  0.025465  0.268609  0.747344  0.690535  0.500000   \n10  0.806009  0.687624  0.067081  0.379974  0.970975  0.636780  0.500000   \n11  0.688383  0.561026  0.304087  0.391646  0.935376  0.656516  0.500000   \n12  0.886422  0.418097  0.083289  0.091375  0.989434  0.686615  0.500000   \n13  0.831631  0.338394  0.068718  0.421210  0.989123  0.848572  0.500000   \n14  0.965979  0.428189  0.312655  0.347393  0.996881  0.661008  0.500000   \n15  0.836281  0.246258  0.291305  0.195919  0.798793  0.743446  0.500000   \n16  0.826372  0.939755  0.541340  0.644587  0.665992  0.640115  0.750000   \n17  0.756299  0.922822  0.369989  0.714186  0.667636  0.918670  0.750000   \n18  0.803527  0.765480  0.523552  0.915003  0.723573  0.774252  0.500000   \n19  0.767456  1.000000  0.340770  0.881064  0.622654  0.634221  0.750000   \n\n                 f  xopt_runtime  xopt_error  \n1    -0.0029628815      0.001316       False  \n2      -0.22127305      0.000212       False  \n3       -1.1211394      0.000175       False  \n4     -0.059958965      0.000176       False  \n5    -0.0003087785      0.000174       False  \n6     -0.029905917      0.000232       False  \n7    -0.0044433833      0.000289       False  \n8       -0.0091581      0.000315       False  \n9     -0.028843867      0.000221       False  \n10  -0.00083629217      0.000312       False  \n11   -0.0072143697      0.000221       False  \n12  -0.00018659627      0.000367       False  \n13  -0.00021156471      0.000233       False  \n14   -0.0003018831      0.000261       False  \n15      -0.0148667      0.000261       False  \n16    -0.004692243      0.000228       False  \n17    -0.001968788      0.000264       False  \n18    -0.001907551      0.000263       False  \n19    -0.001392531      0.000247       False  ",
      "text/html": "<div>\n<style scoped>\n    .dataframe tbody tr th:only-of-type {\n        vertical-align: middle;\n    }\n\n    .dataframe tbody tr th {\n        vertical-align: top;\n    }\n\n    .dataframe thead th {\n        text-align: right;\n    }\n</style>\n<table border=\"1\" class=\"dataframe\">\n  <thead>\n    <tr style=\"text-align: right;\">\n      <th></th>\n      <th>x1</th>\n      <th>x2</th>\n      <th>x3</th>\n      <th>x4</th>\n      <th>x5</th>\n      <th>x6</th>\n      <th>s</th>\n      <th>f</th>\n      <th>xopt_runtime</th>\n      <th>xopt_error</th>\n    </tr>\n  </thead>\n  <tbody>\n    <tr>\n      <th>1</th>\n      <td>0.779599</td>\n      <td>0.510060</td>\n      <td>0.149707</td>\n      <td>0.293865</td>\n      <td>0.884184</td>\n      <td>0.675545</td>\n      <td>0.810736</td>\n      <td>-0.0029628815</td>\n      <td>0.001316</td>\n      <td>False</td>\n    </tr>\n    <tr>\n      <th>2</th>\n      <td>0.447131</td>\n      <td>0.720012</td>\n      <td>0.353257</td>\n      <td>0.660626</td>\n      <td>0.750080</td>\n      <td>0.451302</td>\n      <td>0.921690</td>\n      <td>-0.22127305</td>\n      <td>0.000212</td>\n      <td>False</td>\n    </tr>\n    <tr>\n      <th>3</th>\n      <td>0.127085</td>\n      <td>0.415934</td>\n      <td>0.858427</td>\n      <td>0.462430</td>\n      <td>0.012538</td>\n      <td>0.889702</td>\n      <td>0.703613</td>\n      <td>-1.1211394</td>\n      <td>0.000175</td>\n      <td>False</td>\n    </tr>\n    <tr>\n      <th>4</th>\n      <td>0.643801</td>\n      <td>0.781307</td>\n      <td>0.506795</td>\n      <td>0.742759</td>\n      <td>0.389843</td>\n      <td>0.615218</td>\n      <td>0.462640</td>\n      <td>-0.059958965</td>\n      <td>0.000176</td>\n      <td>False</td>\n    </tr>\n    <tr>\n      <th>5</th>\n      <td>0.900511</td>\n      <td>0.655916</td>\n      <td>0.355355</td>\n      <td>0.106642</td>\n      <td>0.944645</td>\n      <td>0.981492</td>\n      <td>0.042277</td>\n      <td>-0.0003087785</td>\n      <td>0.000174</td>\n      <td>False</td>\n    </tr>\n    <tr>\n      <th>6</th>\n      <td>0.864225</td>\n      <td>0.568073</td>\n      <td>0.183885</td>\n      <td>0.515662</td>\n      <td>0.667358</td>\n      <td>0.644038</td>\n      <td>0.500000</td>\n      <td>-0.029905917</td>\n      <td>0.000232</td>\n      <td>False</td>\n    </tr>\n    <tr>\n      <th>7</th>\n      <td>0.778452</td>\n      <td>0.420054</td>\n      <td>0.090288</td>\n      <td>0.336781</td>\n      <td>0.903650</td>\n      <td>0.435032</td>\n      <td>0.500000</td>\n      <td>-0.0044433833</td>\n      <td>0.000289</td>\n      <td>False</td>\n    </tr>\n    <tr>\n      <th>8</th>\n      <td>0.788300</td>\n      <td>0.669227</td>\n      <td>0.220204</td>\n      <td>0.190993</td>\n      <td>0.784073</td>\n      <td>0.514197</td>\n      <td>0.500000</td>\n      <td>-0.0091581</td>\n      <td>0.000315</td>\n      <td>False</td>\n    </tr>\n    <tr>\n      <th>9</th>\n      <td>0.660233</td>\n      <td>0.560095</td>\n      <td>0.025465</td>\n      <td>0.268609</td>\n      <td>0.747344</td>\n      <td>0.690535</td>\n      <td>0.500000</td>\n      <td>-0.028843867</td>\n      <td>0.000221</td>\n      <td>False</td>\n    </tr>\n    <tr>\n      <th>10</th>\n      <td>0.806009</td>\n      <td>0.687624</td>\n      <td>0.067081</td>\n      <td>0.379974</td>\n      <td>0.970975</td>\n      <td>0.636780</td>\n      <td>0.500000</td>\n      <td>-0.00083629217</td>\n      <td>0.000312</td>\n      <td>False</td>\n    </tr>\n    <tr>\n      <th>11</th>\n      <td>0.688383</td>\n      <td>0.561026</td>\n      <td>0.304087</td>\n      <td>0.391646</td>\n      <td>0.935376</td>\n      <td>0.656516</td>\n      <td>0.500000</td>\n      <td>-0.0072143697</td>\n      <td>0.000221</td>\n      <td>False</td>\n    </tr>\n    <tr>\n      <th>12</th>\n      <td>0.886422</td>\n      <td>0.418097</td>\n      <td>0.083289</td>\n      <td>0.091375</td>\n      <td>0.989434</td>\n      <td>0.686615</td>\n      <td>0.500000</td>\n      <td>-0.00018659627</td>\n      <td>0.000367</td>\n      <td>False</td>\n    </tr>\n    <tr>\n      <th>13</th>\n      <td>0.831631</td>\n      <td>0.338394</td>\n      <td>0.068718</td>\n      <td>0.421210</td>\n      <td>0.989123</td>\n      <td>0.848572</td>\n      <td>0.500000</td>\n      <td>-0.00021156471</td>\n      <td>0.000233</td>\n      <td>False</td>\n    </tr>\n    <tr>\n      <th>14</th>\n      <td>0.965979</td>\n      <td>0.428189</td>\n      <td>0.312655</td>\n      <td>0.347393</td>\n      <td>0.996881</td>\n      <td>0.661008</td>\n      <td>0.500000</td>\n      <td>-0.0003018831</td>\n      <td>0.000261</td>\n      <td>False</td>\n    </tr>\n    <tr>\n      <th>15</th>\n      <td>0.836281</td>\n      <td>0.246258</td>\n      <td>0.291305</td>\n      <td>0.195919</td>\n      <td>0.798793</td>\n      <td>0.743446</td>\n      <td>0.500000</td>\n      <td>-0.0148667</td>\n      <td>0.000261</td>\n      <td>False</td>\n    </tr>\n    <tr>\n      <th>16</th>\n      <td>0.826372</td>\n      <td>0.939755</td>\n      <td>0.541340</td>\n      <td>0.644587</td>\n      <td>0.665992</td>\n      <td>0.640115</td>\n      <td>0.750000</td>\n      <td>-0.004692243</td>\n      <td>0.000228</td>\n      <td>False</td>\n    </tr>\n    <tr>\n      <th>17</th>\n      <td>0.756299</td>\n      <td>0.922822</td>\n      <td>0.369989</td>\n      <td>0.714186</td>\n      <td>0.667636</td>\n      <td>0.918670</td>\n      <td>0.750000</td>\n      <td>-0.001968788</td>\n      <td>0.000264</td>\n      <td>False</td>\n    </tr>\n    <tr>\n      <th>18</th>\n      <td>0.803527</td>\n      <td>0.765480</td>\n      <td>0.523552</td>\n      <td>0.915003</td>\n      <td>0.723573</td>\n      <td>0.774252</td>\n      <td>0.500000</td>\n      <td>-0.001907551</td>\n      <td>0.000263</td>\n      <td>False</td>\n    </tr>\n    <tr>\n      <th>19</th>\n      <td>0.767456</td>\n      <td>1.000000</td>\n      <td>0.340770</td>\n      <td>0.881064</td>\n      <td>0.622654</td>\n      <td>0.634221</td>\n      <td>0.750000</td>\n      <td>-0.001392531</td>\n      <td>0.000247</td>\n      <td>False</td>\n    </tr>\n  </tbody>\n</table>\n</div>"
     },
     "execution_count": 6,
     "metadata": {},
     "output_type": "execute_result"
    }
   ],
   "source": [
    "X.data"
   ],
   "metadata": {
    "collapsed": false
   }
  },
  {
   "cell_type": "code",
   "execution_count": 7,
   "outputs": [
    {
     "data": {
      "text/plain": "105.6909562223813"
     },
     "execution_count": 7,
     "metadata": {},
     "output_type": "execute_result"
    }
   ],
   "source": [
    "X.generator.calculate_total_cost()"
   ],
   "metadata": {
    "collapsed": false
   }
  },
  {
   "cell_type": "code",
   "execution_count": null,
   "outputs": [],
   "source": [],
   "metadata": {
    "collapsed": false
   }
  }
 ],
 "metadata": {
  "kernelspec": {
   "display_name": "Python 3",
   "language": "python",
   "name": "python3"
  },
  "language_info": {
   "codemirror_mode": {
    "name": "ipython",
    "version": 2
   },
   "file_extension": ".py",
   "mimetype": "text/x-python",
   "name": "python",
   "nbconvert_exporter": "python",
   "pygments_lexer": "ipython2",
   "version": "2.7.6"
  }
 },
 "nbformat": 4,
 "nbformat_minor": 0
}
