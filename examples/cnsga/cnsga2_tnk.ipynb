{
 "cells": [
  {
   "cell_type": "code",
   "execution_count": 1,
   "metadata": {},
   "outputs": [],
   "source": [
    "# Useful for debugging\n",
    "%load_ext autoreload\n",
    "%autoreload 2"
   ]
  },
  {
   "cell_type": "markdown",
   "metadata": {},
   "source": [
    " # xopt CNSGA2 function example\n",
    " \n",
    "Experimental, using `pymoo` as a backend. "
   ]
  },
  {
   "cell_type": "code",
   "execution_count": 2,
   "metadata": {},
   "outputs": [
    {
     "ename": "ModuleNotFoundError",
     "evalue": "No module named 'pymoo'",
     "output_type": "error",
     "traceback": [
      "\u001b[1;31m---------------------------------------------------------------------------\u001b[0m",
      "\u001b[1;31mModuleNotFoundError\u001b[0m                       Traceback (most recent call last)",
      "\u001b[1;32mC:\\Users\\RYANRO~1\\AppData\\Local\\Temp/ipykernel_21112/3589552704.py\u001b[0m in \u001b[0;36m<module>\u001b[1;34m\u001b[0m\n\u001b[1;32m----> 1\u001b[1;33m \u001b[1;32mfrom\u001b[0m \u001b[0mxopt\u001b[0m\u001b[1;33m.\u001b[0m\u001b[0mcmoo\u001b[0m \u001b[1;32mimport\u001b[0m \u001b[0mcnsga2\u001b[0m\u001b[1;33m\u001b[0m\u001b[1;33m\u001b[0m\u001b[0m\n\u001b[0m\u001b[0;32m      2\u001b[0m \u001b[1;32mimport\u001b[0m \u001b[0mjson\u001b[0m\u001b[1;33m\u001b[0m\u001b[1;33m\u001b[0m\u001b[0m\n\u001b[0;32m      3\u001b[0m \u001b[1;32mimport\u001b[0m \u001b[0mnumpy\u001b[0m \u001b[1;32mas\u001b[0m \u001b[0mnp\u001b[0m\u001b[1;33m\u001b[0m\u001b[1;33m\u001b[0m\u001b[0m\n\u001b[0;32m      4\u001b[0m \u001b[1;32mimport\u001b[0m \u001b[0mmatplotlib\u001b[0m\u001b[1;33m.\u001b[0m\u001b[0mpyplot\u001b[0m \u001b[1;32mas\u001b[0m \u001b[0mplt\u001b[0m\u001b[1;33m\u001b[0m\u001b[1;33m\u001b[0m\u001b[0m\n\u001b[0;32m      5\u001b[0m \u001b[1;32mfrom\u001b[0m \u001b[0mtime\u001b[0m \u001b[1;32mimport\u001b[0m \u001b[0msleep\u001b[0m\u001b[1;33m\u001b[0m\u001b[1;33m\u001b[0m\u001b[0m\n",
      "\u001b[1;32mc:\\users\\ryan roussel\\documents\\github\\xopt\\xopt\\cmoo.py\u001b[0m in \u001b[0;36m<module>\u001b[1;34m\u001b[0m\n\u001b[0;32m      2\u001b[0m \u001b[1;32mfrom\u001b[0m \u001b[1;33m.\u001b[0m\u001b[0mtools\u001b[0m \u001b[1;32mimport\u001b[0m \u001b[0mDummyExecutor\u001b[0m\u001b[1;33m\u001b[0m\u001b[1;33m\u001b[0m\u001b[0m\n\u001b[0;32m      3\u001b[0m \u001b[1;33m\u001b[0m\u001b[0m\n\u001b[1;32m----> 4\u001b[1;33m \u001b[1;32mfrom\u001b[0m \u001b[0mpymoo\u001b[0m\u001b[1;33m.\u001b[0m\u001b[0mmodel\u001b[0m\u001b[1;33m.\u001b[0m\u001b[0mproblem\u001b[0m \u001b[1;32mimport\u001b[0m \u001b[0mProblem\u001b[0m\u001b[1;33m\u001b[0m\u001b[1;33m\u001b[0m\u001b[0m\n\u001b[0m\u001b[0;32m      5\u001b[0m \u001b[1;32mfrom\u001b[0m \u001b[0mpymoo\u001b[0m\u001b[1;33m.\u001b[0m\u001b[0malgorithms\u001b[0m\u001b[1;33m.\u001b[0m\u001b[0mnsga2\u001b[0m \u001b[1;32mimport\u001b[0m \u001b[0mNSGA2\u001b[0m\u001b[1;33m\u001b[0m\u001b[1;33m\u001b[0m\u001b[0m\n\u001b[0;32m      6\u001b[0m \u001b[1;32mfrom\u001b[0m \u001b[0mpymoo\u001b[0m\u001b[1;33m.\u001b[0m\u001b[0moperators\u001b[0m\u001b[1;33m.\u001b[0m\u001b[0msampling\u001b[0m\u001b[1;33m.\u001b[0m\u001b[0mrandom_sampling\u001b[0m \u001b[1;32mimport\u001b[0m \u001b[0mFloatRandomSampling\u001b[0m\u001b[1;33m\u001b[0m\u001b[1;33m\u001b[0m\u001b[0m\n",
      "\u001b[1;31mModuleNotFoundError\u001b[0m: No module named 'pymoo'"
     ]
    }
   ],
   "source": [
    "from xopt.cmoo import cnsga2\n",
    "import json\n",
    "import numpy as np\n",
    "import matplotlib.pyplot as plt\n",
    "from time import sleep\n",
    "\n",
    "# Allows processes to work with macOS\n",
    "from sys import platform\n",
    "if platform == 'darwin':\n",
    "    import multiprocessing as mp\n",
    "    mp.set_start_method(\"fork\")"
   ]
  },
  {
   "cell_type": "code",
   "execution_count": null,
   "metadata": {},
   "outputs": [],
   "source": [
    "NAME = 'TNK'\n",
    "BOUND_LOW, BOUND_UP = [0.0, 0.0], [3.14159, 3.14159]  \n",
    "\n",
    "\n",
    "X_RANGE = [0, 1.4]\n",
    "Y_RANGE = [0, 1.4]\n",
    "\n",
    "# Pure number version\n",
    "def TNK(individual):    \n",
    "    x1=individual[0]\n",
    "    x2=individual[1]\n",
    "    objectives =  (x1, x2)\n",
    "    constraints = (x1**2+x2**2-1.0 - 0.1*np.cos(16*np.arctan2(x1, x2)), 0.5-(x1-0.5)**2-(x2-0.5)**2 )\n",
    "    return objectives, constraints\n",
    "\n",
    "# labeled version\n",
    "def evaluate_TNK(inputs):\n",
    "    \n",
    "    info = {'some':'info', 'about':['the', 'run']}\n",
    "    ind = [inputs['x1'], inputs['x2']]\n",
    "    objectives, constraints = TNK(ind)    \n",
    "    \n",
    "    if 'sleeptime' in inputs:\n",
    "        sleep(inputs['sleeptime'])\n",
    "        x = np.random.random()\n",
    "        if x < 0.3:\n",
    "            sleep(inputs['sleeptime']*5)\n",
    "    \n",
    "    outputs = {'y1':objectives[0], 'y2':objectives[1], 'c1':constraints[0], 'c2':constraints[1]}\n",
    "    \n",
    "    return outputs\n",
    "\n",
    "VOCS = {\n",
    "    'name':'TNK_test',\n",
    "    \n",
    "    'variables': {\n",
    "        'x1':[0, 3.14159],\n",
    "        'x2':[0, 3.14159]\n",
    "    },\n",
    "    'objectives':{\n",
    "        'y1':'MINIMIZE',\n",
    "        'y2':'MINIMIZE'\n",
    "        \n",
    "    },\n",
    "    'constraints':{\n",
    "        'c1': ['GREATER_THAN', 0],\n",
    "        'c2': ['GREATER_THAN', 0]\n",
    "        \n",
    "    },\n",
    "    'constants':{'a':'dummy_constant'},\n",
    "    'linked_variables':{'x9':'x1'}\n",
    "    \n",
    "    \n",
    "}\n",
    "TNK([0,0]), evaluate_TNK(dict(x1=1,x2=2, sleeptime=1))"
   ]
  },
  {
   "cell_type": "code",
   "execution_count": null,
   "metadata": {},
   "outputs": [],
   "source": [
    "# Pick a parallel method\n",
    "\n",
    "from concurrent.futures import ProcessPoolExecutor as PoolExecutor\n",
    "#from concurrent.futures import ThreadPoolExecutor as PoolExecutor\n",
    "executor = PoolExecutor()\n",
    "#executor=None"
   ]
  },
  {
   "cell_type": "code",
   "execution_count": null,
   "metadata": {},
   "outputs": [],
   "source": [
    "problem, res = cnsga2(executor, vocs=VOCS, evaluate_f=evaluate_TNK,\n",
    "            max_generations = 20, population_size=64, output_path=None,\n",
    "            rolling_evaluate=True,\n",
    "            verbose=True) "
   ]
  },
  {
   "cell_type": "code",
   "execution_count": null,
   "metadata": {},
   "outputs": [],
   "source": [
    "pop_data = res.pop"
   ]
  },
  {
   "cell_type": "code",
   "execution_count": null,
   "metadata": {},
   "outputs": [],
   "source": [
    "problem2, res2 = cnsga2(executor, vocs=VOCS, population=pop_data, evaluate_f=evaluate_TNK,\n",
    "            max_generations = 40, population_size=64, output_path=None,\n",
    "            rolling_evaluate=True,                                       \n",
    "            verbose=True) "
   ]
  },
  {
   "cell_type": "code",
   "execution_count": null,
   "metadata": {},
   "outputs": [],
   "source": [
    "from pymoo.visualization.scatter import Scatter\n",
    "plot = Scatter()\n",
    "plot.add(problem.pareto_front(), plot_type=\"line\", color=\"black\", alpha=0.7)\n",
    "plot.add(res2.F, color=\"red\")\n",
    "plot.show()"
   ]
  },
  {
   "cell_type": "markdown",
   "metadata": {},
   "source": [
    "# Dask"
   ]
  },
  {
   "cell_type": "code",
   "execution_count": null,
   "metadata": {},
   "outputs": [],
   "source": [
    "from distributed import Client\n",
    "client = Client()\n",
    "client "
   ]
  },
  {
   "cell_type": "code",
   "execution_count": null,
   "metadata": {},
   "outputs": [],
   "source": [
    "# Add sleep\n",
    "VOCS['constants']['sleeptime'] = 1"
   ]
  },
  {
   "cell_type": "code",
   "execution_count": null,
   "metadata": {},
   "outputs": [],
   "source": [
    "%%time\n",
    "# Non-rolling\n",
    "problem3, res3 = cnsga2(client, vocs=VOCS, population=None, evaluate_f=evaluate_TNK,\n",
    "            max_generations = 10, population_size=8, output_path=None,\n",
    "            rolling_evaluate=False,                                       \n",
    "            verbose=True) "
   ]
  },
  {
   "cell_type": "code",
   "execution_count": null,
   "metadata": {},
   "outputs": [],
   "source": [
    "%%time\n",
    "# Rolling\n",
    "problem3, res3 = cnsga2(client, vocs=VOCS, population=None, evaluate_f=evaluate_TNK,\n",
    "            max_generations = 10, population_size=8, output_path=None,\n",
    "            rolling_evaluate=True,                                       \n",
    "            verbose=True) "
   ]
  }
 ],
 "metadata": {
  "kernelspec": {
   "display_name": "Python 3 (ipykernel)",
   "language": "python",
   "name": "python3"
  },
  "language_info": {
   "codemirror_mode": {
    "name": "ipython",
    "version": 3
   },
   "file_extension": ".py",
   "mimetype": "text/x-python",
   "name": "python",
   "nbconvert_exporter": "python",
   "pygments_lexer": "ipython3",
   "version": "3.9.6"
  }
 },
 "nbformat": 4,
 "nbformat_minor": 4
}
