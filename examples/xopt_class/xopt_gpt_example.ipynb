{
 "cells": [
  {
   "cell_type": "code",
   "execution_count": 1,
   "metadata": {},
   "outputs": [],
   "source": [
    "# Useful for debugging\n",
    "%load_ext autoreload\n",
    "%autoreload 2"
   ]
  },
  {
   "cell_type": "markdown",
   "metadata": {},
   "source": [
    "# Xopt class, GPT CBETA DC GUN example\n",
    "\n",
    "This is the class method for running Xopt."
   ]
  },
  {
   "cell_type": "code",
   "execution_count": 2,
   "metadata": {},
   "outputs": [],
   "source": [
    "from xopt import Xopt"
   ]
  },
  {
   "cell_type": "code",
   "execution_count": 3,
   "metadata": {},
   "outputs": [],
   "source": [
    "import yaml\n",
    "\n",
    "# Make a proper input file. \n",
    "\n",
    "YAML=\"\"\"\n",
    "xopt: {output_path: null, verbose: true,\n",
    "  algorithm: cnsga}\n",
    "  \n",
    "algorithm:\n",
    "  name: cnsga\n",
    "  options: {max_generations: 16, population_size: 24, crossover_probability: 0.9, mutation_probability: 1.0,\n",
    "  selection: auto, verbose: true, population: null}\n",
    "\n",
    "simulation:\n",
    "  name: gpt_with_distgen\n",
    "  evaluate: gpt.gpt_distgen.evaluate_gpt_with_distgen\n",
    "  \n",
    "\n",
    "# Note that you can call another file in the top level group:\n",
    "vocs: ../templates/cbeta_dcgun/cbeta_dcgun_vocs.yaml\n",
    "\n",
    "\"\"\"\n",
    "config = yaml.safe_load(YAML)"
   ]
  },
  {
   "cell_type": "code",
   "execution_count": 4,
   "metadata": {},
   "outputs": [
    {
     "name": "stdout",
     "output_type": "stream",
     "text": [
      "Loading config as dict.\n",
      "Warning: No path set for key xopt : output_path\n",
      "Warning: No path set for key simulation : options : archive_path\n"
     ]
    },
    {
     "data": {
      "text/plain": [
       "\n",
       "            Xopt\n",
       "________________________________           \n",
       "\n",
       "Configured: True\n",
       "\n",
       "Config as YAML:\n",
       "xopt: {output_path: null, verbose: true, algorithm: cnsga}\n",
       "algorithm:\n",
       "  name: cnsga\n",
       "  function: xopt.cnsga.cnsga\n",
       "  options: {max_generations: 16, population_size: 24, crossover_probability: 0.9,\n",
       "    mutation_probability: 1.0, selection: auto, verbose: true, population: null, seed: null}\n",
       "simulation:\n",
       "  name: gpt_with_distgen\n",
       "  evaluate: gpt.gpt_distgen.evaluate_gpt_with_distgen\n",
       "  options: {archive_path: null, merit_f: null, gpt_input_file: /Users/chrisonian/Code/GitHub/xopt/examples/templates/cbeta_dcgun/cbeta_dcgun_gpt.in,\n",
       "    distgen_input_file: /Users/chrisonian/Code/GitHub/xopt/examples/templates/cbeta_dcgun/cbeta_dcgun_distgen.yaml,\n",
       "    workdir: null, use_tempdir: true, gpt_bin: /Users/chrisonian/Code/xgpt/gpt321MacOSX/bin/gpt,\n",
       "    timeout: 2500, auto_phase: false, verbose: false, gpt_verbose: false, asci2gdf_bin: /Users/chrisonian/Code/xgpt/gpt321MacOSX/bin/asci2gdf}\n",
       "vocs:\n",
       "  name: cu dcgun\n",
       "  description: Test case\n",
       "  simulation: gpt_with_distgen\n",
       "  templates: {gpt_input_file: /Users/chrisonian/Code/GitHub/xopt/examples/templates/cbeta_dcgun/cbeta_dcgun_gpt.in,\n",
       "    distgen_input_file: /Users/chrisonian/Code/GitHub/xopt/examples/templates/cbeta_dcgun/cbeta_dcgun_distgen.yaml}\n",
       "  variables:\n",
       "    r_dist:sigma_xy:value: [0.0, 10]\n",
       "    r_dist:alpha:value: [0.1, 1.0]\n",
       "    t_dist:sigma_t:value: [0.0, 0.57]\n",
       "    t_dist:alpha:value: [0.0, 1.0]\n",
       "    total_charge:value: [0.0, 5.0]\n",
       "    sol_1_current: [0.0, 5.0]\n",
       "  constants: {n_particle: 200, gun_voltage: 375}\n",
       "  objectives: {end_total_charge: MAXIMIZE, end_norm_emit_x: MINIMIZE}\n",
       "  constraints:\n",
       "    end_n_particle_loss: [LESS_THAN, 1]\n",
       "  linked_variables: null"
      ]
     },
     "execution_count": 4,
     "metadata": {},
     "output_type": "execute_result"
    }
   ],
   "source": [
    "# Create object\n",
    "X = Xopt(config=config)\n",
    "\n",
    "# Show config\n",
    "X"
   ]
  },
  {
   "cell_type": "code",
   "execution_count": 5,
   "metadata": {},
   "outputs": [
    {
     "data": {
      "text/plain": [
       "{'name': 'cu dcgun',\n",
       " 'description': 'Test case',\n",
       " 'simulation': 'gpt_with_distgen',\n",
       " 'templates': {'gpt_input_file': '/Users/chrisonian/Code/GitHub/xopt/examples/templates/cbeta_dcgun/cbeta_dcgun_gpt.in',\n",
       "  'distgen_input_file': '/Users/chrisonian/Code/GitHub/xopt/examples/templates/cbeta_dcgun/cbeta_dcgun_distgen.yaml'},\n",
       " 'variables': {'r_dist:sigma_xy:value': [0.0, 10],\n",
       "  'r_dist:alpha:value': [0.1, 1.0],\n",
       "  't_dist:sigma_t:value': [0.0, 0.57],\n",
       "  't_dist:alpha:value': [0.0, 1.0],\n",
       "  'total_charge:value': [0.0, 5.0],\n",
       "  'sol_1_current': [0.0, 5.0]},\n",
       " 'constants': {'n_particle': 200, 'gun_voltage': 375},\n",
       " 'objectives': {'end_total_charge': 'MAXIMIZE', 'end_norm_emit_x': 'MINIMIZE'},\n",
       " 'constraints': {'end_n_particle_loss': ['LESS_THAN', 1]},\n",
       " 'linked_variables': None}"
      ]
     },
     "execution_count": 5,
     "metadata": {},
     "output_type": "execute_result"
    }
   ],
   "source": [
    "# Check vocs\n",
    "X.vocs"
   ]
  },
  {
   "cell_type": "code",
   "execution_count": 6,
   "metadata": {},
   "outputs": [
    {
     "data": {
      "text/plain": [
       "{'r_dist:sigma_xy:value': 9.83825121757796,\n",
       " 'r_dist:alpha:value': 0.5988799387653181,\n",
       " 't_dist:sigma_t:value': 0.008049227736424394,\n",
       " 't_dist:alpha:value': 0.12120780053620583,\n",
       " 'total_charge:value': 4.95190954494947,\n",
       " 'sol_1_current': 3.899354584550052,\n",
       " 'n_particle': 200,\n",
       " 'gun_voltage': 375}"
      ]
     },
     "execution_count": 6,
     "metadata": {},
     "output_type": "execute_result"
    }
   ],
   "source": [
    "# Check random inputs\n",
    "X.random_inputs()"
   ]
  },
  {
   "cell_type": "code",
   "execution_count": 7,
   "metadata": {},
   "outputs": [
    {
     "data": {
      "text/plain": [
       "\u001b[0;31mSignature:\u001b[0m \u001b[0mX\u001b[0m\u001b[0;34m.\u001b[0m\u001b[0mrandom_evaluate\u001b[0m\u001b[0;34m(\u001b[0m\u001b[0mcheck_vocs\u001b[0m\u001b[0;34m=\u001b[0m\u001b[0;32mTrue\u001b[0m\u001b[0;34m)\u001b[0m\u001b[0;34m\u001b[0m\u001b[0;34m\u001b[0m\u001b[0m\n",
       "\u001b[0;31mDocstring:\u001b[0m\n",
       "Makes random inputs and runs evaluate.\n",
       "\n",
       "If check_vocs, will check that all keys in vocs constraints and objectives are in output.\n",
       "\u001b[0;31mFile:\u001b[0m      ~/Code/GitHub/xopt/xopt/xopt.py\n",
       "\u001b[0;31mType:\u001b[0m      method\n"
      ]
     },
     "metadata": {},
     "output_type": "display_data"
    }
   ],
   "source": [
    "?X.random_evaluate"
   ]
  },
  {
   "cell_type": "code",
   "execution_count": 8,
   "metadata": {},
   "outputs": [
    {
     "name": "stdout",
     "output_type": "stream",
     "text": [
      "{'error': False, 'end_n_particle': 149, 'end_norm_emit_x': 1.812743019736431e-05, 'end_norm_emit_y': 1.6967173684429125e-05, 'end_higher_order_energy_spread': 219.3520883506521, 'end_mean_x': -1.6536773469511227e-05, 'end_sigma_x': 0.006490174876828647, 'end_min_x': -0.01718459672612407, 'end_max_x': 0.01697107090593142, 'end_mean_y': -5.9266989001766596e-05, 'end_sigma_y': 0.006379976201820692, 'end_min_y': -0.01702419656730656, 'end_max_y': 0.015276817457563704, 'end_mean_z': 0.922, 'end_sigma_z': 7.276241125344999e-17, 'end_min_z': 0.9219999999999999, 'end_max_z': 0.9220000000000002, 'end_mean_r': 0.0077948413591401484, 'end_sigma_r': 0.0046979464124568705, 'end_min_r': 0.0004945239995808275, 'end_max_r': 0.01846815237712541, 'end_mean_theta': 0.034883410234373156, 'end_sigma_theta': 1.812507488832856, 'end_min_theta': -3.123237563923082, 'end_max_theta': 3.12869112881143, 'end_mean_px': -17.134593787238963, 'end_sigma_px': 6934.051545417852, 'end_min_px': -14056.621677806377, 'end_max_px': 14368.020351415762, 'end_mean_py': -34.07743405014328, 'end_sigma_py': 6868.093026547403, 'end_min_py': -14489.201859273335, 'end_max_py': 13787.643925346047, 'end_mean_pz': 723664.4472549522, 'end_sigma_pz': 862.5429462024331, 'end_min_pz': 722792.928096679, 'end_max_pz': 725662.9839917163, 'end_mean_pr': 9032.871834335261, 'end_sigma_pr': 3696.0051333986517, 'end_min_pr': 784.4583357862692, 'end_max_pr': 14690.869131494279, 'end_mean_ptheta': -0.012235347154497526, 'end_sigma_ptheta': 1.8166722073395034, 'end_min_ptheta': -3.1331352374334807, 'end_max_ptheta': 3.122388742438955, 'end_mean_beta_x': -1.9343720241193015e-05, 'end_sigma_beta_x': 0.007826464904157577, 'end_min_beta_x': -0.01584355664182323, 'end_max_beta_x': 0.016209457837420636, 'end_mean_beta_y': -3.83837867703162e-05, 'end_sigma_beta_y': 0.007752401876118479, 'end_min_beta_y': -0.01633753559153122, 'end_max_beta_y': 0.015563018045850334, 'end_mean_beta_z': 0.8168237743723212, 'end_sigma_beta_z': 0.0003267398128157185, 'end_min_beta_z': 0.8164666098421365, 'end_max_beta_z': 0.8176147806226164, 'end_mean_xp': -2.3684996535376302e-05, 'end_sigma_xp': 0.009581848181458071, 'end_min_xp': -0.01938485751262855, 'end_max_xp': 0.01984163444094733, 'end_mean_yp': -4.694997800815451e-05, 'end_sigma_yp': 0.009491392421996982, 'end_min_yp': -0.019993281302472906, 'end_max_yp': 0.019055248546977155, 'end_mean_energy': 885949.0169034966, 'end_sigma_energy': 704.1146935027823, 'end_min_energy': 885208.7359966795, 'end_max_energy': 887536.5284359482, 'end_mean_kinetic_energy': 374950.06690349645, 'end_sigma_kinetic_energy': 704.1146935027822, 'end_min_kinetic_energy': 374209.7859966795, 'end_max_kinetic_energy': 376537.5784359482, 'end_mean_p': 723730.2582678753, 'end_sigma_p': 861.7982277949922, 'end_min_p': 722824.0307182216, 'end_max_p': 725672.9031781689, 'end_mean_gamma': 1.7337589772023925, 'end_sigma_gamma': 0.001377918082811682, 'end_min_gamma': 1.7323102836056308, 'end_max_gamma': 1.7368656597747376, 'end_mean_t': 3.957574506274902e-09, 'end_sigma_t': 2.2191828061960241e-10, 'end_min_t': 3.4256588262968314e-09, 'end_max_t': 4.453547324120547e-09, 'end_z_screen': 0.922, 'end_n_particle_loss': 51, 'end_total_charge': 1.3568189487380627e-09, 'fingerprint': 'bb70fc4ba1b583824c8360659701cd2e'}\n",
      "CPU times: user 115 ms, sys: 25.6 ms, total: 141 ms\n",
      "Wall time: 1.66 s\n"
     ]
    }
   ],
   "source": [
    "%%time\n",
    "# Do a random evaluate to check that everything will run\n",
    "x=X.random_evaluate(check_vocs=True)\n",
    "print(x)"
   ]
  },
  {
   "cell_type": "code",
   "execution_count": 9,
   "metadata": {},
   "outputs": [
    {
     "data": {
      "text/plain": [
       "{'end_n_particle_loss': ['LESS_THAN', 1]}"
      ]
     },
     "execution_count": 9,
     "metadata": {},
     "output_type": "execute_result"
    }
   ],
   "source": [
    "X.vocs['constraints']"
   ]
  },
  {
   "cell_type": "code",
   "execution_count": 10,
   "metadata": {},
   "outputs": [
    {
     "data": {
      "text/plain": [
       "{'max_generations': 16,\n",
       " 'population_size': 24,\n",
       " 'crossover_probability': 0.9,\n",
       " 'mutation_probability': 1.0,\n",
       " 'selection': 'auto',\n",
       " 'verbose': True,\n",
       " 'population': None,\n",
       " 'seed': None}"
      ]
     },
     "execution_count": 10,
     "metadata": {},
     "output_type": "execute_result"
    }
   ],
   "source": [
    "# These are the algorithm options\n",
    "X.algorithm['options']"
   ]
  },
  {
   "cell_type": "code",
   "execution_count": 11,
   "metadata": {},
   "outputs": [
    {
     "data": {
      "text/plain": [
       "{'archive_path': None,\n",
       " 'merit_f': None,\n",
       " 'gpt_input_file': '/Users/chrisonian/Code/GitHub/xopt/examples/templates/cbeta_dcgun/cbeta_dcgun_gpt.in',\n",
       " 'distgen_input_file': '/Users/chrisonian/Code/GitHub/xopt/examples/templates/cbeta_dcgun/cbeta_dcgun_distgen.yaml',\n",
       " 'workdir': None,\n",
       " 'use_tempdir': True,\n",
       " 'gpt_bin': '/Users/chrisonian/Code/xgpt/gpt321MacOSX/bin/gpt',\n",
       " 'timeout': 2500,\n",
       " 'auto_phase': False,\n",
       " 'verbose': False,\n",
       " 'gpt_verbose': False,\n",
       " 'asci2gdf_bin': '/Users/chrisonian/Code/xgpt/gpt321MacOSX/bin/asci2gdf'}"
      ]
     },
     "execution_count": 11,
     "metadata": {},
     "output_type": "execute_result"
    }
   ],
   "source": [
    "# These are the options in the evaluate function\n",
    "X.simulation['options']"
   ]
  },
  {
   "cell_type": "markdown",
   "metadata": {},
   "source": [
    "# Run CNSGA using processes or threads"
   ]
  },
  {
   "cell_type": "code",
   "execution_count": 12,
   "metadata": {},
   "outputs": [],
   "source": [
    "from concurrent.futures import ProcessPoolExecutor as PoolExecutor\n",
    "#from concurrent.futures import ThreadPoolExecutor as PoolExecutor\n",
    "executor = PoolExecutor()"
   ]
  },
  {
   "cell_type": "code",
   "execution_count": 13,
   "metadata": {},
   "outputs": [
    {
     "name": "stdout",
     "output_type": "stream",
     "text": [
      "\n",
      "\n",
      "\n",
      " ▄████▄   ███▄    █   ██████   ▄████  ▄▄▄      \n",
      "▒██▀ ▀█   ██ ▀█   █ ▒██    ▒  ██▒ ▀█▒▒████▄    \n",
      "▒▓█    ▄ ▓██  ▀█ ██▒░ ▓██▄   ▒██░▄▄▄░▒██  ▀█▄  \n",
      "▒▓▓▄ ▄██▒▓██▒  ▐▌██▒  ▒   ██▒░▓█  ██▓░██▄▄▄▄██ \n",
      "▒ ▓███▀ ░▒██░   ▓██░▒██████▒▒░▒▓███▀▒ ▓█   ▓██▒\n",
      "░ ░▒ ▒  ░░ ▒░   ▒ ▒ ▒ ▒▓▒ ▒ ░ ░▒   ▒  ▒▒   ▓▒█░\n",
      "  ░  ▒   ░ ░░   ░ ▒░░ ░▒  ░ ░  ░   ░   ▒   ▒▒ ░\n",
      "░           ░   ░ ░ ░  ░  ░  ░ ░   ░   ░   ▒   \n",
      "░ ░               ░       ░        ░       ░  ░\n",
      "░                                              \n",
      "\n",
      "\n",
      "Continuous Non-dominated Sorting Genetic Algorithm\n",
      "\n",
      "\n",
      "Creating toolbox from vocs.\n",
      "Created toolbox with 6 variables, 1 constraints, and 2 objectives.\n",
      "    Using selection algorithm: nsga2\n",
      "vocs:\n",
      "{'constants': {'gun_voltage': 375, 'n_particle': 200},\n",
      " 'constraints': {'end_n_particle_loss': ['LESS_THAN', 1]},\n",
      " 'description': 'Test case',\n",
      " 'linked_variables': None,\n",
      " 'name': 'cu dcgun',\n",
      " 'objectives': {'end_norm_emit_x': 'MINIMIZE', 'end_total_charge': 'MAXIMIZE'},\n",
      " 'simulation': 'gpt_with_distgen',\n",
      " 'templates': {'distgen_input_file': '/Users/chrisonian/Code/GitHub/xopt/examples/templates/cbeta_dcgun/cbeta_dcgun_distgen.yaml',\n",
      "               'gpt_input_file': '/Users/chrisonian/Code/GitHub/xopt/examples/templates/cbeta_dcgun/cbeta_dcgun_gpt.in'},\n",
      " 'variables': {'r_dist:alpha:value': [0.1, 1.0],\n",
      "               'r_dist:sigma_xy:value': [0.0, 10],\n",
      "               'sol_1_current': [0.0, 5.0],\n",
      "               't_dist:alpha:value': [0.0, 1.0],\n",
      "               't_dist:sigma_t:value': [0.0, 0.57],\n",
      "               'total_charge:value': [0.0, 5.0]}}\n",
      "Initializing with a new population, size 24\n",
      "Maximum generations: 16\n",
      "____________________________________________________\n",
      "24 fitness calculations for initial generation\n",
      ".........Exception caught in cnsga_evaluate: 'end_norm_emit_x'\n",
      "...............done.\n",
      "Submitting first batch of children\n",
      ".................Exception caught in cnsga_evaluate: 'end_norm_emit_x'\n",
      ".Exception caught in cnsga_evaluate: 'end_norm_emit_x'\n",
      "...Exception caught in cnsga_evaluate: 'end_norm_emit_x'\n",
      ".Exception caught in cnsga_evaluate: 'end_norm_emit_x'\n",
      "...done.\n",
      "__________________________________________________________\n",
      "Generation 0 completed in 0.29180 minutes\n",
      "...Exception caught in cnsga_evaluate: 'end_norm_emit_x'\n",
      ".....................done.\n",
      "__________________________________________________________\n",
      "Generation 1 completed in 0.26395 minutes\n",
      ".............."
     ]
    },
    {
     "name": "stderr",
     "output_type": "stream",
     "text": [
      "/Users/chrisonian/Code/GitHub/distgen/distgen/dist.py:519: RuntimeWarning: overflow encountered in float_power\n",
      "  rho = N*np.exp(-np.float_power(nu1.magnitude,self.p.magnitude))\n"
     ]
    },
    {
     "name": "stdout",
     "output_type": "stream",
     "text": [
      "..........done.\n",
      "__________________________________________________________\n",
      "Generation 2 completed in 0.34881 minutes\n",
      "....................."
     ]
    },
    {
     "name": "stderr",
     "output_type": "stream",
     "text": [
      "/Users/chrisonian/Code/GitHub/distgen/distgen/dist.py:519: RuntimeWarning: overflow encountered in float_power\n",
      "  rho = N*np.exp(-np.float_power(nu1.magnitude,self.p.magnitude))\n"
     ]
    },
    {
     "name": "stdout",
     "output_type": "stream",
     "text": [
      "...done.\n",
      "__________________________________________________________\n",
      "Generation 3 completed in 0.44989 minutes\n",
      "........................done.\n",
      "__________________________________________________________\n",
      "Generation 4 completed in 0.42367 minutes\n",
      "........................done.\n",
      "__________________________________________________________\n",
      "Generation 5 completed in 0.54289 minutes\n",
      "........................done.\n",
      "__________________________________________________________\n",
      "Generation 6 completed in 0.64628 minutes\n",
      "........................done.\n",
      "__________________________________________________________\n",
      "Generation 7 completed in 0.71126 minutes\n",
      "........................done.\n",
      "__________________________________________________________\n",
      "Generation 8 completed in 0.75211 minutes\n",
      "........................done.\n",
      "__________________________________________________________\n",
      "Generation 9 completed in 0.73889 minutes\n",
      "........................done.\n",
      "__________________________________________________________\n",
      "Generation 10 completed in 0.80218 minutes\n",
      "........................done.\n",
      "__________________________________________________________\n",
      "Generation 11 completed in 0.76974 minutes\n",
      "........................done.\n",
      "__________________________________________________________\n",
      "Generation 12 completed in 0.88554 minutes\n",
      "........................done.\n",
      "__________________________________________________________\n",
      "Generation 13 completed in 0.85452 minutes\n",
      ".............."
     ]
    },
    {
     "name": "stderr",
     "output_type": "stream",
     "text": [
      "/Users/chrisonian/Code/GitHub/distgen/distgen/dist.py:519: RuntimeWarning: overflow encountered in float_power\n",
      "  rho = N*np.exp(-np.float_power(nu1.magnitude,self.p.magnitude))\n"
     ]
    },
    {
     "name": "stdout",
     "output_type": "stream",
     "text": [
      "..........done.\n",
      "__________________________________________________________\n",
      "Generation 14 completed in 0.86085 minutes\n",
      "........."
     ]
    },
    {
     "name": "stderr",
     "output_type": "stream",
     "text": [
      "/Users/chrisonian/Code/GitHub/distgen/distgen/dist.py:519: RuntimeWarning: overflow encountered in float_power\n",
      "  rho = N*np.exp(-np.float_power(nu1.magnitude,self.p.magnitude))\n"
     ]
    },
    {
     "name": "stdout",
     "output_type": "stream",
     "text": [
      "...............done.\n",
      "__________________________________________________________\n",
      "Generation 15 completed in 0.99372 minutes\n"
     ]
    }
   ],
   "source": [
    "X.run_cnsga(executor=executor)"
   ]
  },
  {
   "cell_type": "markdown",
   "metadata": {},
   "source": [
    "# Ouput\n",
    "The last generation, as well as important simulation data is saved in xopt.population:"
   ]
  },
  {
   "cell_type": "code",
   "execution_count": 14,
   "metadata": {},
   "outputs": [
    {
     "name": "stdout",
     "output_type": "stream",
     "text": [
      "Available population data: ['variables', 'generation', 'vocs', 'error', 'inputs', 'outputs']\n",
      "See which individuals had errors: [False, False, False, False, False, False, False, False, False, False, False, False, False, False, False, False, False, False, False, False, False, False, False, False]\n"
     ]
    }
   ],
   "source": [
    "print('Available population data:',list(X.results.keys()))\n",
    "print('See which individuals had errors:', X.results['error'])"
   ]
  },
  {
   "cell_type": "code",
   "execution_count": 15,
   "metadata": {},
   "outputs": [
    {
     "data": {
      "image/png": "[encoded data removed]",
      "text/plain": [
       "<Figure size 432x288 with 1 Axes>"
      ]
     },
     "metadata": {
      "image/png": {
       "height": 263,
       "width": 379
      },
      "needs_background": "light"
     },
     "output_type": "display_data"
    }
   ],
   "source": [
    "from matplotlib import pyplot as plt\n",
    "import matplotlib \n",
    "import numpy as np\n",
    "\n",
    "%matplotlib inline\n",
    "%config InlineBackend.figure_format = 'retina'\n",
    "\n",
    "qs =  np.array([indin['total_charge:value'] for indin in X.results['inputs']])\n",
    "ens = np.array([indout['end_norm_emit_x'] for indout in X.results['outputs']])*1e6\n",
    "\n",
    "plt.plot(qs, ens, '*')\n",
    "plt.xlabel('$q_b$ (nC)')\n",
    "plt.ylabel('$\\epsilon_{n,x}$ ($\\mu$m)');"
   ]
  },
  {
   "cell_type": "markdown",
   "metadata": {},
   "source": [
    "# Write this configuration"
   ]
  },
  {
   "cell_type": "code",
   "execution_count": 16,
   "metadata": {},
   "outputs": [
    {
     "name": "stdout",
     "output_type": "stream",
     "text": [
      "Config written as YAML to test.yaml\n"
     ]
    }
   ],
   "source": [
    "X.save('test.yaml')"
   ]
  },
  {
   "cell_type": "code",
   "execution_count": 17,
   "metadata": {},
   "outputs": [
    {
     "name": "stdout",
     "output_type": "stream",
     "text": [
      "xopt: {output_path: null, verbose: true, algorithm: cnsga}\n",
      "algorithm:\n",
      "  name: cnsga\n",
      "  function: xopt.cnsga.cnsga\n",
      "  options: {max_generations: 16, population_size: 24, crossover_probability: 0.9,\n",
      "    mutation_probability: 1.0, selection: auto, verbose: true, population: null, seed: null}\n",
      "simulation:\n",
      "  name: gpt_with_distgen\n",
      "  evaluate: gpt.gpt_distgen.evaluate_gpt_with_distgen\n",
      "  options: {archive_path: null, merit_f: null, gpt_input_file: /Users/chrisonian/Code/GitHub/xopt/examples/templates/cbeta_dcgun/cbeta_dcgun_gpt.in,\n",
      "    distgen_input_file: /Users/chrisonian/Code/GitHub/xopt/examples/templates/cbeta_dcgun/cbeta_dcgun_distgen.yaml,\n",
      "    workdir: null, use_tempdir: true, gpt_bin: /Users/chrisonian/Code/xgpt/gpt321MacOSX/bin/gpt,\n",
      "    timeout: 2500, auto_phase: false, verbose: false, gpt_verbose: false, asci2gdf_bin: /Users/chrisonian/Code/xgpt/gpt321MacOSX/bin/asci2gdf}\n",
      "vocs:\n",
      "  name: cu dcgun\n",
      "  description: Test case\n",
      "  simulation: gpt_with_distgen\n",
      "  templates: {gpt_input_file: /Users/chrisonian/Code/GitHub/xopt/examples/templates/cbeta_dcgun/cbeta_dcgun_gpt.in,\n",
      "    distgen_input_file: /Users/chrisonian/Code/GitHub/xopt/examples/templates/cbeta_dcgun/cbeta_dcgun_distgen.yaml}\n",
      "  variables:\n",
      "    r_dist:sigma_xy:value: [0.0, 10]\n",
      "    r_dist:alpha:value: [0.1, 1.0]\n",
      "    t_dist:sigma_t:value: [0.0, 0.57]\n",
      "    t_dist:alpha:value: [0.0, 1.0]\n",
      "    total_charge:value: [0.0, 5.0]\n",
      "    sol_1_current: [0.0, 5.0]\n",
      "  constants: {n_particle: 200, gun_voltage: 375}\n",
      "  objectives: {end_total_charge: MAXIMIZE, end_norm_emit_x: MINIMIZE}\n",
      "  constraints:\n",
      "    end_n_particle_loss: [LESS_THAN, 1]\n",
      "  linked_variables: null\n"
     ]
    }
   ],
   "source": [
    "!cat test.yaml"
   ]
  },
  {
   "cell_type": "markdown",
   "metadata": {},
   "source": [
    "# Run with MPI"
   ]
  },
  {
   "cell_type": "code",
   "execution_count": 18,
   "metadata": {},
   "outputs": [
    {
     "name": "stdout",
     "output_type": "stream",
     "text": [
      "  _   \n",
      "                | |  \n",
      "__  _____  _ __ | |_ \n",
      "\\ \\/ / _ \\| '_ \\| __|\n",
      " >  < (_) | |_) | |_ \n",
      "/_/\\_\\___/| .__/ \\__|\n",
      "          | |        \n",
      "          |_|        \n",
      "\n",
      "_________________________________\n",
      "Parallel execution with 4 workers\n",
      "Loading as YAML file: test.yaml\n",
      "Warning: No path set for key xopt : output_path\n",
      "Warning: No path set for key simulation : options : archive_path\n",
      "\n",
      "            Xopt\n",
      "________________________________           \n",
      "\n",
      "Configured: True\n",
      "\n",
      "Config as YAML:\n",
      "xopt: {output_path: null, verbose: true, algorithm: cnsga}\n",
      "algorithm:\n",
      "  name: cnsga\n",
      "  function: xopt.cnsga.cnsga\n",
      "  options: {max_generations: 16, population_size: 24, crossover_probability: 0.9,\n",
      "    mutation_probability: 1.0, selection: auto, verbose: true, population: null, seed: null}\n",
      "simulation:\n",
      "  name: gpt_with_distgen\n",
      "  evaluate: gpt.gpt_distgen.evaluate_gpt_with_distgen\n",
      "  options: {archive_path: null, merit_f: null, gpt_input_file: /Users/chrisonian/Code/GitHub/xopt/examples/templates/cbeta_dcgun/cbeta_dcgun_gpt.in,\n",
      "    distgen_input_file: /Users/chrisonian/Code/GitHub/xopt/examples/templates/cbeta_dcgun/cbeta_dcgun_distgen.yaml,\n",
      "    workdir: null, use_tempdir: true, gpt_bin: /Users/chrisonian/Code/xgpt/gpt321MacOSX/bin/gpt,\n",
      "    timeout: 2500, auto_phase: false, verbose: false, gpt_verbose: false, asci2gdf_bin: /Users/chrisonian/Code/xgpt/gpt321MacOSX/bin/asci2gdf}\n",
      "vocs:\n",
      "  name: cu dcgun\n",
      "  description: Test case\n",
      "  simulation: gpt_with_distgen\n",
      "  templates: {gpt_input_file: /Users/chrisonian/Code/GitHub/xopt/examples/templates/cbeta_dcgun/cbeta_dcgun_gpt.in,\n",
      "    distgen_input_file: /Users/chrisonian/Code/GitHub/xopt/examples/templates/cbeta_dcgun/cbeta_dcgun_distgen.yaml}\n",
      "  variables:\n",
      "    r_dist:sigma_xy:value: [0.0, 10]\n",
      "    r_dist:alpha:value: [0.1, 1.0]\n",
      "    t_dist:sigma_t:value: [0.0, 0.57]\n",
      "    t_dist:alpha:value: [0.0, 1.0]\n",
      "    total_charge:value: [0.0, 5.0]\n",
      "    sol_1_current: [0.0, 5.0]\n",
      "  constants: {n_particle: 200, gun_voltage: 375}\n",
      "  objectives: {end_total_charge: MAXIMIZE, end_norm_emit_x: MINIMIZE}\n",
      "  constraints:\n",
      "    end_n_particle_loss: [LESS_THAN, 1]\n",
      "  linked_variables: null\n",
      "\n",
      "Starting at time 2020-04-21T15:18:39-07:00\n",
      "\n",
      "\n",
      "\n",
      " ▄████▄   ███▄    █   ██████   ▄████  ▄▄▄      \n",
      "▒██▀ ▀█   ██ ▀█   █ ▒██    ▒  ██▒ ▀█▒▒████▄    \n",
      "▒▓█    ▄ ▓██  ▀█ ██▒░ ▓██▄   ▒██░▄▄▄░▒██  ▀█▄  \n",
      "▒▓▓▄ ▄██▒▓██▒  ▐▌██▒  ▒   ██▒░▓█  ██▓░██▄▄▄▄██ \n",
      "▒ ▓███▀ ░▒██░   ▓██░▒██████▒▒░▒▓███▀▒ ▓█   ▓██▒\n",
      "░ ░▒ ▒  ░░ ▒░   ▒ ▒ ▒ ▒▓▒ ▒ ░ ░▒   ▒  ▒▒   ▓▒█░\n",
      "  ░  ▒   ░ ░░   ░ ▒░░ ░▒  ░ ░  ░   ░   ▒   ▒▒ ░\n",
      "░           ░   ░ ░ ░  ░  ░  ░ ░   ░   ░   ▒   \n",
      "░ ░               ░       ░        ░       ░  ░\n",
      "░                                              \n",
      "\n",
      "\n",
      "Continuous Non-dominated Sorting Genetic Algorithm\n",
      "\n",
      "\n",
      "Creating toolbox from vocs.\n",
      "Created toolbox with 6 variables, 1 constraints, and 2 objectives.\n",
      "    Using selection algorithm: nsga2\n",
      "vocs:\n",
      "{'constants': {'gun_voltage': 375, 'n_particle': 200},\n",
      " 'constraints': {'end_n_particle_loss': ['LESS_THAN', 1]},\n",
      " 'description': 'Test case',\n",
      " 'linked_variables': None,\n",
      " 'name': 'cu dcgun',\n",
      " 'objectives': {'end_norm_emit_x': 'MINIMIZE', 'end_total_charge': 'MAXIMIZE'},\n",
      " 'simulation': 'gpt_with_distgen',\n",
      " 'templates': {'distgen_input_file': '/Users/chrisonian/Code/GitHub/xopt/examples/templates/cbeta_dcgun/cbeta_dcgun_distgen.yaml',\n",
      "               'gpt_input_file': '/Users/chrisonian/Code/GitHub/xopt/examples/templates/cbeta_dcgun/cbeta_dcgun_gpt.in'},\n",
      " 'variables': {'r_dist:alpha:value': [0.1, 1.0],\n",
      "               'r_dist:sigma_xy:value': [0.0, 10],\n",
      "               'sol_1_current': [0.0, 5.0],\n",
      "               't_dist:alpha:value': [0.0, 1.0],\n",
      "               't_dist:sigma_t:value': [0.0, 0.57],\n",
      "               'total_charge:value': [0.0, 5.0]}}\n",
      "Initializing with a new population, size 24\n",
      "Maximum generations: 16\n",
      "____________________________________________________\n",
      "24 fitness calculations for initial generation\n",
      "...........Exception caught in cnsga_evaluate: 'end_norm_emit_x'\n",
      ".............done.\n",
      "Submitting first batch of children\n",
      ".......................Exception caught in cnsga_evaluate: 'end_norm_emit_x'\n",
      "..done.\n",
      "__________________________________________________________\n",
      "Generation 0 completed in 0.44650 minutes\n",
      "Exception caught in cnsga_evaluate: 'end_norm_emit_x'\n",
      "........................done.\n",
      "__________________________________________________________\n",
      "Generation 1 completed in 0.42566 minutes\n",
      "........................done.\n",
      "__________________________________________________________\n",
      "Generation 2 completed in 0.43488 minutes\n",
      "........................done.\n",
      "__________________________________________________________\n",
      "Generation 3 completed in 0.55917 minutes\n",
      "........................done.\n",
      "__________________________________________________________\n",
      "Generation 4 completed in 0.87708 minutes\n",
      "........................done.\n",
      "__________________________________________________________\n",
      "Generation 5 completed in 0.85237 minutes\n",
      "........................done.\n",
      "__________________________________________________________\n",
      "Generation 6 completed in 0.86430 minutes\n",
      "........................done.\n",
      "__________________________________________________________\n",
      "Generation 7 completed in 0.85401 minutes\n",
      "........................done.\n",
      "__________________________________________________________\n",
      "Generation 8 completed in 1.02622 minutes\n",
      "........................done.\n",
      "__________________________________________________________\n",
      "Generation 9 completed in 1.08801 minutes\n",
      "........................done.\n",
      "__________________________________________________________\n",
      "Generation 10 completed in 0.99067 minutes\n",
      "........................done.\n",
      "__________________________________________________________\n",
      "Generation 11 completed in 1.19631 minutes\n",
      "........................done.\n",
      "__________________________________________________________\n",
      "Generation 12 completed in 1.44864 minutes\n",
      "........................done.\n",
      "__________________________________________________________\n",
      "Generation 13 completed in 1.26722 minutes\n",
      "........................done.\n",
      "__________________________________________________________\n",
      "Generation 14 completed in 0.98086 minutes\n",
      "........................done.\n",
      "__________________________________________________________\n",
      "Generation 15 completed in 1.06329 minutes\n",
      "/Users/chrisonian/Code/GitHub/distgen/distgen/dist.py:519: RuntimeWarning: overflow encountered in float_power\n",
      "  rho = N*np.exp(-np.float_power(nu1.magnitude,self.p.magnitude))\n"
     ]
    }
   ],
   "source": [
    "!mpirun -n 4 python -m mpi4py.futures -m xopt.mpi.run test.yaml"
   ]
  },
  {
   "cell_type": "markdown",
   "metadata": {},
   "source": [
    "# Dask "
   ]
  },
  {
   "cell_type": "code",
   "execution_count": 19,
   "metadata": {},
   "outputs": [
    {
     "name": "stderr",
     "output_type": "stream",
     "text": [
      "/Users/chrisonian/Code/miniconda3/envs/devel/lib/python3.7/site-packages/distributed/dashboard/core.py:79: UserWarning: \n",
      "Port 8787 is already in use. \n",
      "Perhaps you already have a cluster running?\n",
      "Hosting the diagnostics dashboard on a random port instead.\n",
      "  warnings.warn(\"\\n\" + msg)\n"
     ]
    },
    {
     "data": {
      "text/html": [
       "<table style=\"border: 2px solid white;\">\n",
       "<tr>\n",
       "<td style=\"vertical-align: top; border: 0px solid white\">\n",
       "<h3 style=\"text-align: left;\">Client</h3>\n",
       "<ul style=\"text-align: left; list-style: none; margin: 0; padding: 0;\">\n",
       "  <li><b>Scheduler: </b>tcp://127.0.0.1:59130</li>\n",
       "  <li><b>Dashboard: </b><a href='http://127.0.0.1:59131/status' target='_blank'>http://127.0.0.1:59131/status</a>\n",
       "</ul>\n",
       "</td>\n",
       "<td style=\"vertical-align: top; border: 0px solid white\">\n",
       "<h3 style=\"text-align: left;\">Cluster</h3>\n",
       "<ul style=\"text-align: left; list-style:none; margin: 0; padding: 0;\">\n",
       "  <li><b>Workers: </b>4</li>\n",
       "  <li><b>Cores: </b>8</li>\n",
       "  <li><b>Memory: </b>17.18 GB</li>\n",
       "</ul>\n",
       "</td>\n",
       "</tr>\n",
       "</table>"
      ],
      "text/plain": [
       "<Client: 'tcp://127.0.0.1:59130' processes=4 threads=8, memory=17.18 GB>"
      ]
     },
     "execution_count": 19,
     "metadata": {},
     "output_type": "execute_result"
    }
   ],
   "source": [
    "from dask.distributed import Client\n",
    "executor = Client()\n",
    "executor"
   ]
  },
  {
   "cell_type": "code",
   "execution_count": 20,
   "metadata": {},
   "outputs": [],
   "source": [
    "# Wait a few seconds for the Dask cluster to start\n",
    "from time import sleep\n",
    "sleep(5)"
   ]
  },
  {
   "cell_type": "code",
   "execution_count": 21,
   "metadata": {},
   "outputs": [
    {
     "name": "stdout",
     "output_type": "stream",
     "text": [
      "\n",
      "\n",
      "\n",
      " ▄████▄   ███▄    █   ██████   ▄████  ▄▄▄      \n",
      "▒██▀ ▀█   ██ ▀█   █ ▒██    ▒  ██▒ ▀█▒▒████▄    \n",
      "▒▓█    ▄ ▓██  ▀█ ██▒░ ▓██▄   ▒██░▄▄▄░▒██  ▀█▄  \n",
      "▒▓▓▄ ▄██▒▓██▒  ▐▌██▒  ▒   ██▒░▓█  ██▓░██▄▄▄▄██ \n",
      "▒ ▓███▀ ░▒██░   ▓██░▒██████▒▒░▒▓███▀▒ ▓█   ▓██▒\n",
      "░ ░▒ ▒  ░░ ▒░   ▒ ▒ ▒ ▒▓▒ ▒ ░ ░▒   ▒  ▒▒   ▓▒█░\n",
      "  ░  ▒   ░ ░░   ░ ▒░░ ░▒  ░ ░  ░   ░   ▒   ▒▒ ░\n",
      "░           ░   ░ ░ ░  ░  ░  ░ ░   ░   ░   ▒   \n",
      "░ ░               ░       ░        ░       ░  ░\n",
      "░                                              \n",
      "\n",
      "\n",
      "Continuous Non-dominated Sorting Genetic Algorithm\n",
      "\n",
      "\n",
      "Creating toolbox from vocs.\n",
      "Warning: Redefining creator.MyFitness\n",
      "Warning in cnsga_toolbox: Redefining creator.Individual\n",
      "Created toolbox with 6 variables, 1 constraints, and 2 objectives.\n",
      "    Using selection algorithm: nsga2\n",
      "vocs:\n",
      "{'constants': {'gun_voltage': 375, 'n_particle': 200},\n",
      " 'constraints': {'end_n_particle_loss': ['LESS_THAN', 1]},\n",
      " 'description': 'Test case',\n",
      " 'linked_variables': None,\n",
      " 'name': 'cu dcgun',\n",
      " 'objectives': {'end_norm_emit_x': 'MINIMIZE', 'end_total_charge': 'MAXIMIZE'},\n",
      " 'simulation': 'gpt_with_distgen',\n",
      " 'templates': {'distgen_input_file': '/Users/chrisonian/Code/GitHub/xopt/examples/templates/cbeta_dcgun/cbeta_dcgun_distgen.yaml',\n",
      "               'gpt_input_file': '/Users/chrisonian/Code/GitHub/xopt/examples/templates/cbeta_dcgun/cbeta_dcgun_gpt.in'},\n",
      " 'variables': {'r_dist:alpha:value': [0.1, 1.0],\n",
      "               'r_dist:sigma_xy:value': [0.0, 10],\n",
      "               'sol_1_current': [0.0, 5.0],\n",
      "               't_dist:alpha:value': [0.0, 1.0],\n",
      "               't_dist:sigma_t:value': [0.0, 0.57],\n",
      "               'total_charge:value': [0.0, 5.0]}}\n",
      "Initializing with a new population, size 24\n",
      "Maximum generations: 7\n",
      "____________________________________________________\n",
      "24 fitness calculations for initial generation\n",
      "........................done.\n",
      "Submitting first batch of children\n",
      ".........................done.\n",
      "__________________________________________________________\n",
      "Generation 0 completed in 0.25468 minutes\n",
      "........................done.\n",
      "__________________________________________________________\n",
      "Generation 1 completed in 0.24148 minutes\n",
      "........................done.\n",
      "__________________________________________________________\n",
      "Generation 2 completed in 0.24598 minutes\n",
      "........................done.\n",
      "__________________________________________________________\n",
      "Generation 3 completed in 0.32619 minutes\n",
      "........................done.\n",
      "__________________________________________________________\n",
      "Generation 4 completed in 0.26543 minutes\n",
      "........................done.\n",
      "__________________________________________________________\n",
      "Generation 5 completed in 0.41172 minutes\n",
      "........................done.\n",
      "__________________________________________________________\n",
      "Generation 6 completed in 0.42905 minutes\n"
     ]
    }
   ],
   "source": [
    "# Increase the number of generations\n",
    "X.algorithm['options']['max_generations'] = 7\n",
    "X.run_cnsga(executor)"
   ]
  },
  {
   "cell_type": "code",
   "execution_count": 22,
   "metadata": {},
   "outputs": [
    {
     "data": {
      "text/plain": [
       "dict_keys(['variables', 'generation', 'vocs', 'error', 'inputs', 'outputs'])"
      ]
     },
     "execution_count": 22,
     "metadata": {},
     "output_type": "execute_result"
    }
   ],
   "source": [
    "X.population.keys()"
   ]
  },
  {
   "cell_type": "markdown",
   "metadata": {},
   "source": [
    "# Cleanup"
   ]
  },
  {
   "cell_type": "code",
   "execution_count": 23,
   "metadata": {},
   "outputs": [],
   "source": [
    "!rm -r dask-worker-space"
   ]
  },
  {
   "cell_type": "code",
   "execution_count": 24,
   "metadata": {},
   "outputs": [],
   "source": [
    "!rm test.yaml"
   ]
  },
  {
   "cell_type": "code",
   "execution_count": null,
   "metadata": {},
   "outputs": [],
   "source": []
  }
 ],
 "metadata": {
  "kernelspec": {
   "display_name": "Python 3 (ipykernel)",
   "language": "python",
   "name": "python3"
  },
  "language_info": {
   "codemirror_mode": {
    "name": "ipython",
    "version": 3
   },
   "file_extension": ".py",
   "mimetype": "text/x-python",
   "name": "python",
   "nbconvert_exporter": "python",
   "pygments_lexer": "ipython3",
   "version": "3.9.6"
  }
 },
 "nbformat": 4,
 "nbformat_minor": 4
}
