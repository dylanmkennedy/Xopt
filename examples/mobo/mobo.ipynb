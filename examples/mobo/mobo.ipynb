{
 "cells": [
  {
   "cell_type": "markdown",
   "metadata": {
    "pycharm": {
     "name": "#%% md\n"
    }
   },
   "source": [
    "\n",
    "# Multi-objective Bayesian Optimization\n",
    "\n",
    "\n",
    "TNK function\n",
    "$n=2$ variables:\n",
    "$x_i \\in [0, \\pi], i=1,2$\n",
    "\n",
    "Objectives:\n",
    "- $f_i(x) = x_i$\n",
    "\n",
    "Constraints:\n",
    "- $g_1(x) = -x_1^2 -x_2^2 + 1 + 0.1 \\cos\\left(16 \\arctan \\frac{x_1}{x_2}\\right) \\le 0$\n",
    "- $g_2(x) = (x_1 - 1/2)^2 + (x_2-1/2)^2 \\le 0.5$"
   ]
  },
  {
   "cell_type": "code",
   "execution_count": 7,
   "outputs": [
    {
     "data": {
      "text/plain": "{'name': None,\n 'version': None,\n 'optim': {'num_restarts': 5, 'raw_samples': 20, 'sequential': True},\n 'acq': {'objective': None,\n  'sampler': SobolQMCNormalSampler(),\n  'ref_point': None,\n  'use_data_as_reference': True},\n 'model': {'input_transform': None, 'outcome_transform': None},\n 'tkwargs': {'device': 'cpu', 'dtype': torch.float64},\n 'n_initial': 3,\n 'proximal_lengthscales': None}"
     },
     "execution_count": 7,
     "metadata": {},
     "output_type": "execute_result"
    }
   ],
   "source": [
    "%reset -f\n",
    "import numpy as np\n",
    "\n",
    "import torch\n",
    "from xopt import XoptBase, Evaluator\n",
    "from xopt.generators.bayesian.mobo import MOBOGenerator, MOBOOptions\n",
    "from xopt.resources.test_functions.tnk import evaluate_TNK, tnk_vocs\n",
    "\n",
    "import pandas as pd\n",
    "\n",
    "evaluator = Evaluator(evaluate_TNK)\n",
    "options = MOBOOptions()\n",
    "options.dict()"
   ],
   "metadata": {
    "collapsed": false,
    "pycharm": {
     "name": "#%%\n"
    }
   }
  },
  {
   "cell_type": "code",
   "execution_count": 8,
   "outputs": [],
   "source": [
    "\n",
    "generator = MOBOGenerator(tnk_vocs, options=options)\n",
    "X = XoptBase(generator=generator, evaluator=evaluator, vocs=tnk_vocs)\n",
    "X.step()\n"
   ],
   "metadata": {
    "collapsed": false,
    "pycharm": {
     "name": "#%%\n"
    }
   }
  },
  {
   "cell_type": "code",
   "execution_count": 9,
   "outputs": [
    {
     "name": "stdout",
     "output_type": "stream",
     "text": [
      "None\n"
     ]
    }
   ],
   "source": [
    "print(X.data)"
   ],
   "metadata": {
    "collapsed": false,
    "pycharm": {
     "name": "#%%\n"
    }
   }
  },
  {
   "cell_type": "code",
   "execution_count": 10,
   "outputs": [
    {
     "name": "stdout",
     "output_type": "stream",
     "text": [
      "step 0\n",
      "step 1\n",
      "step 2\n",
      "step 3\n",
      "step 4\n",
      "step 5\n",
      "step 6\n",
      "step 7\n",
      "step 8\n",
      "step 9\n",
      "step 10\n"
     ]
    },
    {
     "ename": "KeyboardInterrupt",
     "evalue": "",
     "output_type": "error",
     "traceback": [
      "\u001B[1;31m---------------------------------------------------------------------------\u001B[0m",
      "\u001B[1;31mKeyboardInterrupt\u001B[0m                         Traceback (most recent call last)",
      "Input \u001B[1;32mIn [10]\u001B[0m, in \u001B[0;36m<cell line: 1>\u001B[1;34m()\u001B[0m\n\u001B[0;32m      1\u001B[0m \u001B[38;5;28;01mfor\u001B[39;00m i \u001B[38;5;129;01min\u001B[39;00m \u001B[38;5;28mrange\u001B[39m(\u001B[38;5;241m50\u001B[39m):\n\u001B[0;32m      2\u001B[0m     \u001B[38;5;28mprint\u001B[39m(\u001B[38;5;124mf\u001B[39m\u001B[38;5;124m'\u001B[39m\u001B[38;5;124mstep \u001B[39m\u001B[38;5;132;01m{\u001B[39;00mi\u001B[38;5;132;01m}\u001B[39;00m\u001B[38;5;124m'\u001B[39m)\n\u001B[1;32m----> 3\u001B[0m     \u001B[43mX\u001B[49m\u001B[38;5;241;43m.\u001B[39;49m\u001B[43mstep\u001B[49m\u001B[43m(\u001B[49m\u001B[43m)\u001B[49m\n",
      "File \u001B[1;32m~\\Documents\\GitHub\\Xopt\\xopt\\base.py:102\u001B[0m, in \u001B[0;36mXoptBase.step\u001B[1;34m(self)\u001B[0m\n\u001B[0;32m     99\u001B[0m \u001B[38;5;28mself\u001B[39m\u001B[38;5;241m.\u001B[39mgenerator\u001B[38;5;241m.\u001B[39mdata \u001B[38;5;241m=\u001B[39m \u001B[38;5;28mself\u001B[39m\u001B[38;5;241m.\u001B[39mdata\n\u001B[0;32m    101\u001B[0m \u001B[38;5;66;03m# generate samples and submit to evaluator\u001B[39;00m\n\u001B[1;32m--> 102\u001B[0m new_samples \u001B[38;5;241m=\u001B[39m pd\u001B[38;5;241m.\u001B[39mDataFrame(\u001B[38;5;28;43mself\u001B[39;49m\u001B[38;5;241;43m.\u001B[39;49m\u001B[43mgenerator\u001B[49m\u001B[38;5;241;43m.\u001B[39;49m\u001B[43mgenerate\u001B[49m\u001B[43m(\u001B[49m\u001B[43mn_generate\u001B[49m\u001B[43m)\u001B[49m)\n\u001B[0;32m    104\u001B[0m \u001B[38;5;66;03m# submit new samples to evaluator\u001B[39;00m\n\u001B[0;32m    105\u001B[0m \u001B[38;5;28mself\u001B[39m\u001B[38;5;241m.\u001B[39msubmit_data(new_samples)\n",
      "File \u001B[1;32m~\\Documents\\GitHub\\Xopt\\xopt\\generators\\bayesian\\bayesian_generator.py:50\u001B[0m, in \u001B[0;36mBayesianGenerator.generate\u001B[1;34m(self, n_candidates)\u001B[0m\n\u001B[0;32m     47\u001B[0m bounds \u001B[38;5;241m=\u001B[39m torch\u001B[38;5;241m.\u001B[39mtensor(\u001B[38;5;28mself\u001B[39m\u001B[38;5;241m.\u001B[39mvocs\u001B[38;5;241m.\u001B[39mbounds, \u001B[38;5;241m*\u001B[39m\u001B[38;5;241m*\u001B[39m\u001B[38;5;28mself\u001B[39m\u001B[38;5;241m.\u001B[39moptions\u001B[38;5;241m.\u001B[39mtkwargs)\n\u001B[0;32m     49\u001B[0m \u001B[38;5;66;03m# update internal model with internal data\u001B[39;00m\n\u001B[1;32m---> 50\u001B[0m \u001B[38;5;28;43mself\u001B[39;49m\u001B[38;5;241;43m.\u001B[39;49m\u001B[43mtrain_model\u001B[49m\u001B[43m(\u001B[49m\u001B[38;5;28;43mself\u001B[39;49m\u001B[38;5;241;43m.\u001B[39;49m\u001B[43mdata\u001B[49m\u001B[43m)\u001B[49m\n\u001B[0;32m     52\u001B[0m candidates, out \u001B[38;5;241m=\u001B[39m optimize_acqf(\n\u001B[0;32m     53\u001B[0m     acq_function\u001B[38;5;241m=\u001B[39m\u001B[38;5;28mself\u001B[39m\u001B[38;5;241m.\u001B[39mget_acquisition(\u001B[38;5;28mself\u001B[39m\u001B[38;5;241m.\u001B[39m_model),\n\u001B[0;32m     54\u001B[0m     bounds\u001B[38;5;241m=\u001B[39mbounds,\n\u001B[0;32m     55\u001B[0m     q\u001B[38;5;241m=\u001B[39mn_candidates,\n\u001B[0;32m     56\u001B[0m     \u001B[38;5;241m*\u001B[39m\u001B[38;5;241m*\u001B[39m\u001B[38;5;28mself\u001B[39m\u001B[38;5;241m.\u001B[39moptions\u001B[38;5;241m.\u001B[39moptim\u001B[38;5;241m.\u001B[39mdict()\n\u001B[0;32m     57\u001B[0m )\n\u001B[0;32m     58\u001B[0m \u001B[38;5;28;01mreturn\u001B[39;00m \u001B[38;5;28mself\u001B[39m\u001B[38;5;241m.\u001B[39mvocs\u001B[38;5;241m.\u001B[39mconvert_numpy_to_inputs(candidates\u001B[38;5;241m.\u001B[39mdetach()\u001B[38;5;241m.\u001B[39mnumpy())\n",
      "File \u001B[1;32m~\\Documents\\GitHub\\Xopt\\xopt\\generators\\bayesian\\bayesian_generator.py:77\u001B[0m, in \u001B[0;36mBayesianGenerator.train_model\u001B[1;34m(self, data, update_internal)\u001B[0m\n\u001B[0;32m     73\u001B[0m     m \u001B[38;5;241m=\u001B[39m SingleTaskGP(\n\u001B[0;32m     74\u001B[0m         inputs, outputs[:, i]\u001B[38;5;241m.\u001B[39munsqueeze(\u001B[38;5;241m1\u001B[39m), \u001B[38;5;241m*\u001B[39m\u001B[38;5;241m*\u001B[39m\u001B[38;5;28mself\u001B[39m\u001B[38;5;241m.\u001B[39moptions\u001B[38;5;241m.\u001B[39mmodel\u001B[38;5;241m.\u001B[39mdict()\n\u001B[0;32m     75\u001B[0m     )\n\u001B[0;32m     76\u001B[0m     mll \u001B[38;5;241m=\u001B[39m ExactMarginalLogLikelihood(m\u001B[38;5;241m.\u001B[39mlikelihood, m)\n\u001B[1;32m---> 77\u001B[0m     \u001B[43mfit_gpytorch_model\u001B[49m\u001B[43m(\u001B[49m\u001B[43mmll\u001B[49m\u001B[43m)\u001B[49m\n\u001B[0;32m     78\u001B[0m     model_list \u001B[38;5;241m+\u001B[39m\u001B[38;5;241m=\u001B[39m [m]\n\u001B[0;32m     80\u001B[0m model \u001B[38;5;241m=\u001B[39m ModelListGP(\u001B[38;5;241m*\u001B[39mmodel_list)\n",
      "File \u001B[1;32mC:\\ProgramData\\Miniconda3\\envs\\xopt\\lib\\site-packages\\botorch\\fit.py:127\u001B[0m, in \u001B[0;36mfit_gpytorch_model\u001B[1;34m(mll, optimizer, **kwargs)\u001B[0m\n\u001B[0;32m    125\u001B[0m     sample_all_priors(mll\u001B[38;5;241m.\u001B[39mmodel)\n\u001B[0;32m    126\u001B[0m \u001B[38;5;28;01mtry\u001B[39;00m:\n\u001B[1;32m--> 127\u001B[0m     mll, _ \u001B[38;5;241m=\u001B[39m optimizer(mll, track_iterations\u001B[38;5;241m=\u001B[39m\u001B[38;5;28;01mFalse\u001B[39;00m, \u001B[38;5;241m*\u001B[39m\u001B[38;5;241m*\u001B[39mkwargs)\n\u001B[0;32m    128\u001B[0m \u001B[38;5;28;01mexcept\u001B[39;00m NotPSDError:\n\u001B[0;32m    129\u001B[0m     retry \u001B[38;5;241m+\u001B[39m\u001B[38;5;241m=\u001B[39m \u001B[38;5;241m1\u001B[39m\n",
      "File \u001B[1;32mC:\\ProgramData\\Miniconda3\\envs\\xopt\\lib\\site-packages\\botorch\\optim\\fit.py:239\u001B[0m, in \u001B[0;36mfit_gpytorch_scipy\u001B[1;34m(mll, bounds, method, options, track_iterations, approx_mll, scipy_objective, module_to_array_func, module_from_array_func)\u001B[0m\n\u001B[0;32m    236\u001B[0m cb \u001B[38;5;241m=\u001B[39m store_iteration \u001B[38;5;28;01mif\u001B[39;00m track_iterations \u001B[38;5;28;01melse\u001B[39;00m \u001B[38;5;28;01mNone\u001B[39;00m\n\u001B[0;32m    238\u001B[0m \u001B[38;5;28;01mwith\u001B[39;00m gpt_settings\u001B[38;5;241m.\u001B[39mfast_computations(log_prob\u001B[38;5;241m=\u001B[39mapprox_mll):\n\u001B[1;32m--> 239\u001B[0m     res \u001B[38;5;241m=\u001B[39m \u001B[43mminimize\u001B[49m\u001B[43m(\u001B[49m\n\u001B[0;32m    240\u001B[0m \u001B[43m        \u001B[49m\u001B[43mscipy_objective\u001B[49m\u001B[43m,\u001B[49m\n\u001B[0;32m    241\u001B[0m \u001B[43m        \u001B[49m\u001B[43mx0\u001B[49m\u001B[43m,\u001B[49m\n\u001B[0;32m    242\u001B[0m \u001B[43m        \u001B[49m\u001B[43margs\u001B[49m\u001B[38;5;241;43m=\u001B[39;49m\u001B[43m(\u001B[49m\u001B[43mmll\u001B[49m\u001B[43m,\u001B[49m\u001B[43m \u001B[49m\u001B[43mproperty_dict\u001B[49m\u001B[43m)\u001B[49m\u001B[43m,\u001B[49m\n\u001B[0;32m    243\u001B[0m \u001B[43m        \u001B[49m\u001B[43mbounds\u001B[49m\u001B[38;5;241;43m=\u001B[39;49m\u001B[43mbounds\u001B[49m\u001B[43m,\u001B[49m\n\u001B[0;32m    244\u001B[0m \u001B[43m        \u001B[49m\u001B[43mmethod\u001B[49m\u001B[38;5;241;43m=\u001B[39;49m\u001B[43mmethod\u001B[49m\u001B[43m,\u001B[49m\n\u001B[0;32m    245\u001B[0m \u001B[43m        \u001B[49m\u001B[43mjac\u001B[49m\u001B[38;5;241;43m=\u001B[39;49m\u001B[38;5;28;43;01mTrue\u001B[39;49;00m\u001B[43m,\u001B[49m\n\u001B[0;32m    246\u001B[0m \u001B[43m        \u001B[49m\u001B[43moptions\u001B[49m\u001B[38;5;241;43m=\u001B[39;49m\u001B[43moptions\u001B[49m\u001B[43m,\u001B[49m\n\u001B[0;32m    247\u001B[0m \u001B[43m        \u001B[49m\u001B[43mcallback\u001B[49m\u001B[38;5;241;43m=\u001B[39;49m\u001B[43mcb\u001B[49m\u001B[43m,\u001B[49m\n\u001B[0;32m    248\u001B[0m \u001B[43m    \u001B[49m\u001B[43m)\u001B[49m\n\u001B[0;32m    249\u001B[0m     iterations \u001B[38;5;241m=\u001B[39m []\n\u001B[0;32m    250\u001B[0m     \u001B[38;5;28;01mif\u001B[39;00m track_iterations:\n",
      "File \u001B[1;32mC:\\ProgramData\\Miniconda3\\envs\\xopt\\lib\\site-packages\\scipy\\optimize\\_minimize.py:681\u001B[0m, in \u001B[0;36mminimize\u001B[1;34m(fun, x0, args, method, jac, hess, hessp, bounds, constraints, tol, callback, options)\u001B[0m\n\u001B[0;32m    678\u001B[0m     res \u001B[38;5;241m=\u001B[39m _minimize_newtoncg(fun, x0, args, jac, hess, hessp, callback,\n\u001B[0;32m    679\u001B[0m                              \u001B[38;5;241m*\u001B[39m\u001B[38;5;241m*\u001B[39moptions)\n\u001B[0;32m    680\u001B[0m \u001B[38;5;28;01melif\u001B[39;00m meth \u001B[38;5;241m==\u001B[39m \u001B[38;5;124m'\u001B[39m\u001B[38;5;124ml-bfgs-b\u001B[39m\u001B[38;5;124m'\u001B[39m:\n\u001B[1;32m--> 681\u001B[0m     res \u001B[38;5;241m=\u001B[39m _minimize_lbfgsb(fun, x0, args, jac, bounds,\n\u001B[0;32m    682\u001B[0m                            callback\u001B[38;5;241m=\u001B[39mcallback, \u001B[38;5;241m*\u001B[39m\u001B[38;5;241m*\u001B[39moptions)\n\u001B[0;32m    683\u001B[0m \u001B[38;5;28;01melif\u001B[39;00m meth \u001B[38;5;241m==\u001B[39m \u001B[38;5;124m'\u001B[39m\u001B[38;5;124mtnc\u001B[39m\u001B[38;5;124m'\u001B[39m:\n\u001B[0;32m    684\u001B[0m     res \u001B[38;5;241m=\u001B[39m _minimize_tnc(fun, x0, args, jac, bounds, callback\u001B[38;5;241m=\u001B[39mcallback,\n\u001B[0;32m    685\u001B[0m                         \u001B[38;5;241m*\u001B[39m\u001B[38;5;241m*\u001B[39moptions)\n",
      "File \u001B[1;32mC:\\ProgramData\\Miniconda3\\envs\\xopt\\lib\\site-packages\\scipy\\optimize\\_lbfgsb_py.py:362\u001B[0m, in \u001B[0;36m_minimize_lbfgsb\u001B[1;34m(fun, x0, args, jac, bounds, disp, maxcor, ftol, gtol, eps, maxfun, maxiter, iprint, callback, maxls, finite_diff_rel_step, **unknown_options)\u001B[0m\n\u001B[0;32m    356\u001B[0m task_str \u001B[38;5;241m=\u001B[39m task\u001B[38;5;241m.\u001B[39mtobytes()\n\u001B[0;32m    357\u001B[0m \u001B[38;5;28;01mif\u001B[39;00m task_str\u001B[38;5;241m.\u001B[39mstartswith(\u001B[38;5;124mb\u001B[39m\u001B[38;5;124m'\u001B[39m\u001B[38;5;124mFG\u001B[39m\u001B[38;5;124m'\u001B[39m):\n\u001B[0;32m    358\u001B[0m     \u001B[38;5;66;03m# The minimization routine wants f and g at the current x.\u001B[39;00m\n\u001B[0;32m    359\u001B[0m     \u001B[38;5;66;03m# Note that interruptions due to maxfun are postponed\u001B[39;00m\n\u001B[0;32m    360\u001B[0m     \u001B[38;5;66;03m# until the completion of the current minimization iteration.\u001B[39;00m\n\u001B[0;32m    361\u001B[0m     \u001B[38;5;66;03m# Overwrite f and g:\u001B[39;00m\n\u001B[1;32m--> 362\u001B[0m     f, g \u001B[38;5;241m=\u001B[39m \u001B[43mfunc_and_grad\u001B[49m\u001B[43m(\u001B[49m\u001B[43mx\u001B[49m\u001B[43m)\u001B[49m\n\u001B[0;32m    363\u001B[0m \u001B[38;5;28;01melif\u001B[39;00m task_str\u001B[38;5;241m.\u001B[39mstartswith(\u001B[38;5;124mb\u001B[39m\u001B[38;5;124m'\u001B[39m\u001B[38;5;124mNEW_X\u001B[39m\u001B[38;5;124m'\u001B[39m):\n\u001B[0;32m    364\u001B[0m     \u001B[38;5;66;03m# new iteration\u001B[39;00m\n\u001B[0;32m    365\u001B[0m     n_iterations \u001B[38;5;241m+\u001B[39m\u001B[38;5;241m=\u001B[39m \u001B[38;5;241m1\u001B[39m\n",
      "File \u001B[1;32mC:\\ProgramData\\Miniconda3\\envs\\xopt\\lib\\site-packages\\scipy\\optimize\\_differentiable_functions.py:285\u001B[0m, in \u001B[0;36mScalarFunction.fun_and_grad\u001B[1;34m(self, x)\u001B[0m\n\u001B[0;32m    283\u001B[0m \u001B[38;5;28;01mif\u001B[39;00m \u001B[38;5;129;01mnot\u001B[39;00m np\u001B[38;5;241m.\u001B[39marray_equal(x, \u001B[38;5;28mself\u001B[39m\u001B[38;5;241m.\u001B[39mx):\n\u001B[0;32m    284\u001B[0m     \u001B[38;5;28mself\u001B[39m\u001B[38;5;241m.\u001B[39m_update_x_impl(x)\n\u001B[1;32m--> 285\u001B[0m \u001B[38;5;28;43mself\u001B[39;49m\u001B[38;5;241;43m.\u001B[39;49m\u001B[43m_update_fun\u001B[49m\u001B[43m(\u001B[49m\u001B[43m)\u001B[49m\n\u001B[0;32m    286\u001B[0m \u001B[38;5;28mself\u001B[39m\u001B[38;5;241m.\u001B[39m_update_grad()\n\u001B[0;32m    287\u001B[0m \u001B[38;5;28;01mreturn\u001B[39;00m \u001B[38;5;28mself\u001B[39m\u001B[38;5;241m.\u001B[39mf, \u001B[38;5;28mself\u001B[39m\u001B[38;5;241m.\u001B[39mg\n",
      "File \u001B[1;32mC:\\ProgramData\\Miniconda3\\envs\\xopt\\lib\\site-packages\\scipy\\optimize\\_differentiable_functions.py:251\u001B[0m, in \u001B[0;36mScalarFunction._update_fun\u001B[1;34m(self)\u001B[0m\n\u001B[0;32m    249\u001B[0m \u001B[38;5;28;01mdef\u001B[39;00m \u001B[38;5;21m_update_fun\u001B[39m(\u001B[38;5;28mself\u001B[39m):\n\u001B[0;32m    250\u001B[0m     \u001B[38;5;28;01mif\u001B[39;00m \u001B[38;5;129;01mnot\u001B[39;00m \u001B[38;5;28mself\u001B[39m\u001B[38;5;241m.\u001B[39mf_updated:\n\u001B[1;32m--> 251\u001B[0m         \u001B[38;5;28;43mself\u001B[39;49m\u001B[38;5;241;43m.\u001B[39;49m\u001B[43m_update_fun_impl\u001B[49m\u001B[43m(\u001B[49m\u001B[43m)\u001B[49m\n\u001B[0;32m    252\u001B[0m         \u001B[38;5;28mself\u001B[39m\u001B[38;5;241m.\u001B[39mf_updated \u001B[38;5;241m=\u001B[39m \u001B[38;5;28;01mTrue\u001B[39;00m\n",
      "File \u001B[1;32mC:\\ProgramData\\Miniconda3\\envs\\xopt\\lib\\site-packages\\scipy\\optimize\\_differentiable_functions.py:155\u001B[0m, in \u001B[0;36mScalarFunction.__init__.<locals>.update_fun\u001B[1;34m()\u001B[0m\n\u001B[0;32m    154\u001B[0m \u001B[38;5;28;01mdef\u001B[39;00m \u001B[38;5;21mupdate_fun\u001B[39m():\n\u001B[1;32m--> 155\u001B[0m     \u001B[38;5;28mself\u001B[39m\u001B[38;5;241m.\u001B[39mf \u001B[38;5;241m=\u001B[39m \u001B[43mfun_wrapped\u001B[49m\u001B[43m(\u001B[49m\u001B[38;5;28;43mself\u001B[39;49m\u001B[38;5;241;43m.\u001B[39;49m\u001B[43mx\u001B[49m\u001B[43m)\u001B[49m\n",
      "File \u001B[1;32mC:\\ProgramData\\Miniconda3\\envs\\xopt\\lib\\site-packages\\scipy\\optimize\\_differentiable_functions.py:137\u001B[0m, in \u001B[0;36mScalarFunction.__init__.<locals>.fun_wrapped\u001B[1;34m(x)\u001B[0m\n\u001B[0;32m    133\u001B[0m \u001B[38;5;28mself\u001B[39m\u001B[38;5;241m.\u001B[39mnfev \u001B[38;5;241m+\u001B[39m\u001B[38;5;241m=\u001B[39m \u001B[38;5;241m1\u001B[39m\n\u001B[0;32m    134\u001B[0m \u001B[38;5;66;03m# Send a copy because the user may overwrite it.\u001B[39;00m\n\u001B[0;32m    135\u001B[0m \u001B[38;5;66;03m# Overwriting results in undefined behaviour because\u001B[39;00m\n\u001B[0;32m    136\u001B[0m \u001B[38;5;66;03m# fun(self.x) will change self.x, with the two no longer linked.\u001B[39;00m\n\u001B[1;32m--> 137\u001B[0m fx \u001B[38;5;241m=\u001B[39m \u001B[43mfun\u001B[49m\u001B[43m(\u001B[49m\u001B[43mnp\u001B[49m\u001B[38;5;241;43m.\u001B[39;49m\u001B[43mcopy\u001B[49m\u001B[43m(\u001B[49m\u001B[43mx\u001B[49m\u001B[43m)\u001B[49m\u001B[43m,\u001B[49m\u001B[43m \u001B[49m\u001B[38;5;241;43m*\u001B[39;49m\u001B[43margs\u001B[49m\u001B[43m)\u001B[49m\n\u001B[0;32m    138\u001B[0m \u001B[38;5;66;03m# Make sure the function returns a true scalar\u001B[39;00m\n\u001B[0;32m    139\u001B[0m \u001B[38;5;28;01mif\u001B[39;00m \u001B[38;5;129;01mnot\u001B[39;00m np\u001B[38;5;241m.\u001B[39misscalar(fx):\n",
      "File \u001B[1;32mC:\\ProgramData\\Miniconda3\\envs\\xopt\\lib\\site-packages\\scipy\\optimize\\_optimize.py:76\u001B[0m, in \u001B[0;36mMemoizeJac.__call__\u001B[1;34m(self, x, *args)\u001B[0m\n\u001B[0;32m     74\u001B[0m \u001B[38;5;28;01mdef\u001B[39;00m \u001B[38;5;21m__call__\u001B[39m(\u001B[38;5;28mself\u001B[39m, x, \u001B[38;5;241m*\u001B[39margs):\n\u001B[0;32m     75\u001B[0m     \u001B[38;5;124;03m\"\"\" returns the the function value \"\"\"\u001B[39;00m\n\u001B[1;32m---> 76\u001B[0m     \u001B[38;5;28;43mself\u001B[39;49m\u001B[38;5;241;43m.\u001B[39;49m\u001B[43m_compute_if_needed\u001B[49m\u001B[43m(\u001B[49m\u001B[43mx\u001B[49m\u001B[43m,\u001B[49m\u001B[43m \u001B[49m\u001B[38;5;241;43m*\u001B[39;49m\u001B[43margs\u001B[49m\u001B[43m)\u001B[49m\n\u001B[0;32m     77\u001B[0m     \u001B[38;5;28;01mreturn\u001B[39;00m \u001B[38;5;28mself\u001B[39m\u001B[38;5;241m.\u001B[39m_value\n",
      "File \u001B[1;32mC:\\ProgramData\\Miniconda3\\envs\\xopt\\lib\\site-packages\\scipy\\optimize\\_optimize.py:70\u001B[0m, in \u001B[0;36mMemoizeJac._compute_if_needed\u001B[1;34m(self, x, *args)\u001B[0m\n\u001B[0;32m     68\u001B[0m \u001B[38;5;28;01mif\u001B[39;00m \u001B[38;5;129;01mnot\u001B[39;00m np\u001B[38;5;241m.\u001B[39mall(x \u001B[38;5;241m==\u001B[39m \u001B[38;5;28mself\u001B[39m\u001B[38;5;241m.\u001B[39mx) \u001B[38;5;129;01mor\u001B[39;00m \u001B[38;5;28mself\u001B[39m\u001B[38;5;241m.\u001B[39m_value \u001B[38;5;129;01mis\u001B[39;00m \u001B[38;5;28;01mNone\u001B[39;00m \u001B[38;5;129;01mor\u001B[39;00m \u001B[38;5;28mself\u001B[39m\u001B[38;5;241m.\u001B[39mjac \u001B[38;5;129;01mis\u001B[39;00m \u001B[38;5;28;01mNone\u001B[39;00m:\n\u001B[0;32m     69\u001B[0m     \u001B[38;5;28mself\u001B[39m\u001B[38;5;241m.\u001B[39mx \u001B[38;5;241m=\u001B[39m np\u001B[38;5;241m.\u001B[39masarray(x)\u001B[38;5;241m.\u001B[39mcopy()\n\u001B[1;32m---> 70\u001B[0m     fg \u001B[38;5;241m=\u001B[39m \u001B[38;5;28;43mself\u001B[39;49m\u001B[38;5;241;43m.\u001B[39;49m\u001B[43mfun\u001B[49m\u001B[43m(\u001B[49m\u001B[43mx\u001B[49m\u001B[43m,\u001B[49m\u001B[43m \u001B[49m\u001B[38;5;241;43m*\u001B[39;49m\u001B[43margs\u001B[49m\u001B[43m)\u001B[49m\n\u001B[0;32m     71\u001B[0m     \u001B[38;5;28mself\u001B[39m\u001B[38;5;241m.\u001B[39mjac \u001B[38;5;241m=\u001B[39m fg[\u001B[38;5;241m1\u001B[39m]\n\u001B[0;32m     72\u001B[0m     \u001B[38;5;28mself\u001B[39m\u001B[38;5;241m.\u001B[39m_value \u001B[38;5;241m=\u001B[39m fg[\u001B[38;5;241m0\u001B[39m]\n",
      "File \u001B[1;32mC:\\ProgramData\\Miniconda3\\envs\\xopt\\lib\\site-packages\\botorch\\optim\\utils.py:215\u001B[0m, in \u001B[0;36m_scipy_objective_and_grad\u001B[1;34m(x, mll, property_dict)\u001B[0m\n\u001B[0;32m    213\u001B[0m     output \u001B[38;5;241m=\u001B[39m mll\u001B[38;5;241m.\u001B[39mmodel(\u001B[38;5;241m*\u001B[39mtrain_inputs)\n\u001B[0;32m    214\u001B[0m     args \u001B[38;5;241m=\u001B[39m [output, train_targets] \u001B[38;5;241m+\u001B[39m _get_extra_mll_args(mll)\n\u001B[1;32m--> 215\u001B[0m     loss \u001B[38;5;241m=\u001B[39m \u001B[38;5;241m-\u001B[39m\u001B[43mmll\u001B[49m\u001B[43m(\u001B[49m\u001B[38;5;241;43m*\u001B[39;49m\u001B[43margs\u001B[49m\u001B[43m)\u001B[49m\u001B[38;5;241m.\u001B[39msum()\n\u001B[0;32m    216\u001B[0m \u001B[38;5;28;01mexcept\u001B[39;00m \u001B[38;5;167;01mRuntimeError\u001B[39;00m \u001B[38;5;28;01mas\u001B[39;00m e:\n\u001B[0;32m    217\u001B[0m     \u001B[38;5;28;01mreturn\u001B[39;00m _handle_numerical_errors(error\u001B[38;5;241m=\u001B[39me, x\u001B[38;5;241m=\u001B[39mx)\n",
      "File \u001B[1;32mC:\\ProgramData\\Miniconda3\\envs\\xopt\\lib\\site-packages\\gpytorch\\module.py:30\u001B[0m, in \u001B[0;36mModule.__call__\u001B[1;34m(self, *inputs, **kwargs)\u001B[0m\n\u001B[0;32m     29\u001B[0m \u001B[38;5;28;01mdef\u001B[39;00m \u001B[38;5;21m__call__\u001B[39m(\u001B[38;5;28mself\u001B[39m, \u001B[38;5;241m*\u001B[39minputs, \u001B[38;5;241m*\u001B[39m\u001B[38;5;241m*\u001B[39mkwargs):\n\u001B[1;32m---> 30\u001B[0m     outputs \u001B[38;5;241m=\u001B[39m \u001B[38;5;28mself\u001B[39m\u001B[38;5;241m.\u001B[39mforward(\u001B[38;5;241m*\u001B[39minputs, \u001B[38;5;241m*\u001B[39m\u001B[38;5;241m*\u001B[39mkwargs)\n\u001B[0;32m     31\u001B[0m     \u001B[38;5;28;01mif\u001B[39;00m \u001B[38;5;28misinstance\u001B[39m(outputs, \u001B[38;5;28mlist\u001B[39m):\n\u001B[0;32m     32\u001B[0m         \u001B[38;5;28;01mreturn\u001B[39;00m [_validate_module_outputs(output) \u001B[38;5;28;01mfor\u001B[39;00m output \u001B[38;5;129;01min\u001B[39;00m outputs]\n",
      "File \u001B[1;32mC:\\ProgramData\\Miniconda3\\envs\\xopt\\lib\\site-packages\\gpytorch\\mlls\\exact_marginal_log_likelihood.py:63\u001B[0m, in \u001B[0;36mExactMarginalLogLikelihood.forward\u001B[1;34m(self, function_dist, target, *params)\u001B[0m\n\u001B[0;32m     61\u001B[0m output \u001B[38;5;241m=\u001B[39m \u001B[38;5;28mself\u001B[39m\u001B[38;5;241m.\u001B[39mlikelihood(function_dist, \u001B[38;5;241m*\u001B[39mparams)\n\u001B[0;32m     62\u001B[0m res \u001B[38;5;241m=\u001B[39m output\u001B[38;5;241m.\u001B[39mlog_prob(target)\n\u001B[1;32m---> 63\u001B[0m res \u001B[38;5;241m=\u001B[39m \u001B[38;5;28;43mself\u001B[39;49m\u001B[38;5;241;43m.\u001B[39;49m\u001B[43m_add_other_terms\u001B[49m\u001B[43m(\u001B[49m\u001B[43mres\u001B[49m\u001B[43m,\u001B[49m\u001B[43m \u001B[49m\u001B[43mparams\u001B[49m\u001B[43m)\u001B[49m\n\u001B[0;32m     65\u001B[0m \u001B[38;5;66;03m# Scale by the amount of data we have\u001B[39;00m\n\u001B[0;32m     66\u001B[0m num_data \u001B[38;5;241m=\u001B[39m function_dist\u001B[38;5;241m.\u001B[39mevent_shape\u001B[38;5;241m.\u001B[39mnumel()\n",
      "File \u001B[1;32mC:\\ProgramData\\Miniconda3\\envs\\xopt\\lib\\site-packages\\gpytorch\\mlls\\exact_marginal_log_likelihood.py:43\u001B[0m, in \u001B[0;36mExactMarginalLogLikelihood._add_other_terms\u001B[1;34m(self, res, params)\u001B[0m\n\u001B[0;32m     41\u001B[0m \u001B[38;5;66;03m# Add log probs of priors on the (functions of) parameters\u001B[39;00m\n\u001B[0;32m     42\u001B[0m \u001B[38;5;28;01mfor\u001B[39;00m name, module, prior, closure, _ \u001B[38;5;129;01min\u001B[39;00m \u001B[38;5;28mself\u001B[39m\u001B[38;5;241m.\u001B[39mnamed_priors():\n\u001B[1;32m---> 43\u001B[0m     res\u001B[38;5;241m.\u001B[39madd_(\u001B[43mprior\u001B[49m\u001B[38;5;241;43m.\u001B[39;49m\u001B[43mlog_prob\u001B[49m\u001B[43m(\u001B[49m\u001B[43mclosure\u001B[49m\u001B[43m(\u001B[49m\u001B[43mmodule\u001B[49m\u001B[43m)\u001B[49m\u001B[43m)\u001B[49m\u001B[38;5;241m.\u001B[39msum())\n\u001B[0;32m     45\u001B[0m \u001B[38;5;28;01mreturn\u001B[39;00m res\n",
      "File \u001B[1;32mC:\\ProgramData\\Miniconda3\\envs\\xopt\\lib\\site-packages\\gpytorch\\priors\\prior.py:27\u001B[0m, in \u001B[0;36mPrior.log_prob\u001B[1;34m(self, x)\u001B[0m\n\u001B[0;32m     22\u001B[0m \u001B[38;5;28;01mdef\u001B[39;00m \u001B[38;5;21mlog_prob\u001B[39m(\u001B[38;5;28mself\u001B[39m, x):\n\u001B[0;32m     23\u001B[0m     \u001B[38;5;124mr\u001B[39m\u001B[38;5;124;03m\"\"\"\u001B[39;00m\n\u001B[0;32m     24\u001B[0m \u001B[38;5;124;03m    :return: log-probability of the parameter value under the prior\u001B[39;00m\n\u001B[0;32m     25\u001B[0m \u001B[38;5;124;03m    :rtype: torch.Tensor\u001B[39;00m\n\u001B[0;32m     26\u001B[0m \u001B[38;5;124;03m    \"\"\"\u001B[39;00m\n\u001B[1;32m---> 27\u001B[0m     \u001B[38;5;28;01mreturn\u001B[39;00m \u001B[38;5;28;43msuper\u001B[39;49m\u001B[43m(\u001B[49m\u001B[43mPrior\u001B[49m\u001B[43m,\u001B[49m\u001B[43m \u001B[49m\u001B[38;5;28;43mself\u001B[39;49m\u001B[43m)\u001B[49m\u001B[38;5;241;43m.\u001B[39;49m\u001B[43mlog_prob\u001B[49m\u001B[43m(\u001B[49m\u001B[38;5;28;43mself\u001B[39;49m\u001B[38;5;241;43m.\u001B[39;49m\u001B[43mtransform\u001B[49m\u001B[43m(\u001B[49m\u001B[43mx\u001B[49m\u001B[43m)\u001B[49m\u001B[43m)\u001B[49m\n",
      "File \u001B[1;32mC:\\ProgramData\\Miniconda3\\envs\\xopt\\lib\\site-packages\\torch\\distributions\\gamma.py:70\u001B[0m, in \u001B[0;36mGamma.log_prob\u001B[1;34m(self, value)\u001B[0m\n\u001B[0;32m     67\u001B[0m \u001B[38;5;28;01mif\u001B[39;00m \u001B[38;5;28mself\u001B[39m\u001B[38;5;241m.\u001B[39m_validate_args:\n\u001B[0;32m     68\u001B[0m     \u001B[38;5;28mself\u001B[39m\u001B[38;5;241m.\u001B[39m_validate_sample(value)\n\u001B[0;32m     69\u001B[0m \u001B[38;5;28;01mreturn\u001B[39;00m (\u001B[38;5;28mself\u001B[39m\u001B[38;5;241m.\u001B[39mconcentration \u001B[38;5;241m*\u001B[39m torch\u001B[38;5;241m.\u001B[39mlog(\u001B[38;5;28mself\u001B[39m\u001B[38;5;241m.\u001B[39mrate) \u001B[38;5;241m+\u001B[39m\n\u001B[1;32m---> 70\u001B[0m         (\u001B[38;5;28;43mself\u001B[39;49m\u001B[38;5;241;43m.\u001B[39;49m\u001B[43mconcentration\u001B[49m\u001B[43m \u001B[49m\u001B[38;5;241;43m-\u001B[39;49m\u001B[43m \u001B[49m\u001B[38;5;241;43m1\u001B[39;49m) \u001B[38;5;241m*\u001B[39m torch\u001B[38;5;241m.\u001B[39mlog(value) \u001B[38;5;241m-\u001B[39m\n\u001B[0;32m     71\u001B[0m         \u001B[38;5;28mself\u001B[39m\u001B[38;5;241m.\u001B[39mrate \u001B[38;5;241m*\u001B[39m value \u001B[38;5;241m-\u001B[39m torch\u001B[38;5;241m.\u001B[39mlgamma(\u001B[38;5;28mself\u001B[39m\u001B[38;5;241m.\u001B[39mconcentration))\n",
      "\u001B[1;31mKeyboardInterrupt\u001B[0m: "
     ]
    }
   ],
   "source": [
    "for i in range(50):\n",
    "    print(f'step {i}')\n",
    "    X.step()"
   ],
   "metadata": {
    "collapsed": false,
    "pycharm": {
     "name": "#%%\n"
    }
   }
  },
  {
   "cell_type": "code",
   "execution_count": null,
   "outputs": [],
   "source": [
    "from xopt.generators.bayesian.utils import feasibility\n",
    "from matplotlib import pyplot as plt# plot model predictions\n",
    "bounds = tnk_vocs.bounds\n",
    "history = X.data\n",
    "model = X.generator.train_model(history)\n",
    "\n",
    "\n",
    "n = 100\n",
    "x = torch.linspace(*bounds.T[0],n)\n",
    "y = torch.linspace(*bounds.T[1],n)\n",
    "xx,yy = torch.meshgrid(x,y)\n",
    "pts = torch.hstack([ele.reshape(-1,1) for ele in (xx,yy)]).double()\n",
    "\n",
    "with torch.no_grad():\n",
    "    acq_pts = pts.unsqueeze(1)\n",
    "    acq = X.generator.get_acquisition(model)(acq_pts)\n",
    "\n",
    "    fig, ax = plt.subplots(figsize=(8,8))\n",
    "    c = ax.pcolor(xx,yy,acq.reshape(n,n))\n",
    "    fig.colorbar(c)\n",
    "    ax.set_title('Acquisition function')\n",
    "\n",
    "    ax.plot(*history[[\"x1\",\"x2\"]].to_numpy().T,'.C1')\n",
    "\n",
    "    feas = feasibility(\n",
    "        pts.unsqueeze(1),\n",
    "        model,\n",
    "        generator.options.acq.sampler,\n",
    "        tnk_vocs\n",
    "    ).flatten()\n",
    "\n",
    "fig2, ax2 = plt.subplots(figsize=(8,8))\n",
    "c2 = ax2.pcolor(xx,yy,feas.reshape(n,n))\n",
    "fig2.colorbar(c2)\n",
    "ax2.set_title('Feasibility')\n",
    "\n",
    "ax.plot(*history[[\"x1\",\"x2\"]].to_numpy().T,'.C1')\n",
    "\n",
    "\n",
    "theta = np.linspace(0,np.pi/2)\n",
    "r = np.sqrt(1 + 0.1*np.cos(16*theta))\n",
    "x_1 = r*np.sin(theta)\n",
    "x_2_lower = r*np.cos(theta)\n",
    "x_2_upper = (0.5 - (x_1 - 0.5)**2)**0.5 + 0.5\n",
    "\n",
    "z = np.zeros_like(x_1)\n",
    "ax.plot(x_1, x_2_lower,'r')\n",
    "ax2.plot(x_1, x_2_lower,'r')\n",
    "ax2.plot(*history[[\"x1\",\"x2\"]].to_numpy().T,'.C1')\n",
    "ax2.set_xlim(0, 2)\n",
    "ax2.set_ylim(0, 2)\n",
    "ax.set_xlabel('x1')\n",
    "ax.set_ylabel('x2')\n",
    "\n",
    "ax2.set_xlabel('x1')\n",
    "ax2.set_ylabel('x2')\n",
    "ax2.set_aspect('equal')"
   ],
   "metadata": {
    "collapsed": false,
    "pycharm": {
     "name": "#%%\n"
    }
   }
  },
  {
   "cell_type": "code",
   "execution_count": null,
   "outputs": [],
   "source": [
    "\n",
    "fig,ax = plt.subplots()\n",
    "\n",
    "theta = np.linspace(0,np.pi/2)\n",
    "r = np.sqrt(1 + 0.1*np.cos(16*theta))\n",
    "x_1 = r*np.sin(theta)\n",
    "x_2_lower = r*np.cos(theta)\n",
    "x_2_upper = (0.5 - (x_1 - 0.5)**2)**0.5 + 0.5\n",
    "\n",
    "z = np.zeros_like(x_1)\n",
    "\n",
    "#ax2.plot(x_1, x_2_lower,'r')\n",
    "ax.fill_between(x_1, z, x_2_lower, fc='white')\n",
    "circle = plt.Circle((0.5, 0.5), 0.5**0.5,\n",
    "                    color='r', alpha=0.25, zorder=0,\n",
    "                    label='Valid Region')\n",
    "ax.add_patch(circle)\n",
    "history = pd.concat([X.data, tnk_vocs.feasibility_data(X.data)], axis=1, ignore_index=False)\n",
    "\n",
    "ax.plot(*history[[\"x1\",\"x2\"]][history[\"feasible\"]].to_numpy().T,'.C1')\n",
    "ax.plot(*history[[\"x1\",\"x2\"]][~history[\"feasible\"]].to_numpy().T,'.C2')\n",
    "\n",
    "ax.set_xlim(0, 2)\n",
    "ax.set_ylim(0, 2)\n",
    "ax.set_xlabel('x1')\n",
    "ax.set_ylabel('x2')\n",
    "ax.set_aspect('equal')"
   ],
   "metadata": {
    "collapsed": false,
    "pycharm": {
     "name": "#%%\n"
    }
   }
  }
 ],
 "metadata": {
  "interpreter": {
   "hash": "72034539424920dfb606fe3b820b3f27dca0cbf1c69938110810ec4641e275b1"
  },
  "kernelspec": {
   "name": "xopt",
   "language": "python",
   "display_name": "xopt"
  },
  "language_info": {
   "codemirror_mode": {
    "name": "ipython",
    "version": 3
   },
   "file_extension": ".py",
   "mimetype": "text/x-python",
   "name": "python",
   "nbconvert_exporter": "python",
   "pygments_lexer": "ipython3",
   "version": "3.9.12"
  }
 },
 "nbformat": 4,
 "nbformat_minor": 4
}