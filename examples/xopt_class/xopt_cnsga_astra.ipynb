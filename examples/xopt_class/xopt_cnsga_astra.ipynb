{
 "cells": [
  {
   "cell_type": "code",
   "execution_count": 1,
   "metadata": {},
   "outputs": [],
   "source": [
    "# Useful for debugging\n",
    "%load_ext autoreload\n",
    "%autoreload 2"
   ]
  },
  {
   "cell_type": "markdown",
   "metadata": {},
   "source": [
    "# Xopt class, Astra kekgun example\n",
    "\n",
    "This is the class method for running Xopt."
   ]
  },
  {
   "cell_type": "code",
   "execution_count": 2,
   "metadata": {},
   "outputs": [],
   "source": [
    "from xopt import Xopt"
   ]
  },
  {
   "cell_type": "code",
   "execution_count": 3,
   "metadata": {},
   "outputs": [
    {
     "name": "stdout",
     "output_type": "stream",
     "text": [
      "mkdir: temp/: File exists\n"
     ]
    }
   ],
   "source": [
    "!mkdir temp/"
   ]
  },
  {
   "cell_type": "code",
   "execution_count": 1,
   "metadata": {},
   "outputs": [
    {
     "data": {
      "text/plain": [
       "{'xopt': {'output_path': 'temp', 'verbose': True, 'algorithm': 'cnsga'},\n",
       " 'algorithm': {'name': 'cnsga',\n",
       "  'options': {'max_generations': 3,\n",
       "   'population_size': 8,\n",
       "   'crossover_probability': 0.9,\n",
       "   'mutation_probability': 1.0,\n",
       "   'selection': 'auto',\n",
       "   'verbose': True,\n",
       "   'population': None}},\n",
       " 'simulation': {'name': 'astra_with_generator',\n",
       "  'evaluate': 'astra.evaluate.evaluate_astra_with_generator'},\n",
       " 'vocs': '../templates/kekgun/kekgun_vocs.json'}"
      ]
     },
     "execution_count": 1,
     "metadata": {},
     "output_type": "execute_result"
    }
   ],
   "source": [
    "import yaml\n",
    "\n",
    "# Make a proper input file. \n",
    "\n",
    "YAML=\"\"\"\n",
    "xopt: {output_path: temp, verbose: true,\n",
    "  algorithm: cnsga}\n",
    "  \n",
    "algorithm:\n",
    "  name: cnsga\n",
    "  options: {max_generations: 3, population_size: 8, crossover_probability: 0.9, mutation_probability: 1.0,\n",
    "  selection: auto, verbose: true, population: null}\n",
    "\n",
    "simulation:\n",
    "  name: astra_with_generator\n",
    "  evaluate: astra.evaluate.evaluate_astra_with_generator\n",
    "\n",
    "# Note that you can call another file in the top level group:\n",
    "vocs: ../templates/kekgun/kekgun_vocs.json\n",
    "\n",
    "\"\"\"\n",
    "config = yaml.safe_load(YAML)\n",
    "config"
   ]
  },
  {
   "cell_type": "code",
   "execution_count": 5,
   "metadata": {},
   "outputs": [
    {
     "name": "stdout",
     "output_type": "stream",
     "text": [
      "Loading config as dict.\n",
      "Warning: No path set for key simulation::options::archive_path\n"
     ]
    }
   ],
   "source": [
    "# Create object\n",
    "X = Xopt(config=config, verbose=True)"
   ]
  },
  {
   "cell_type": "code",
   "execution_count": 6,
   "metadata": {},
   "outputs": [
    {
     "name": "stdout",
     "output_type": "stream",
     "text": [
      "Loading config as dict.\n",
      "Warning: No path set for key simulation::options::archive_path\n"
     ]
    },
    {
     "data": {
      "text/plain": [
       "\n",
       "            Xopt\n",
       "________________________________           \n",
       "\n",
       "Configured: True\n",
       "\n",
       "Config as YAML:\n",
       "xopt: {output_path: /Users/chrisonian/Code/GitHub/xopt/examples/xopt_class/temp, verbose: true,\n",
       "  algorithm: cnsga}\n",
       "algorithm:\n",
       "  name: cnsga\n",
       "  function: xopt.cnsga.cnsga\n",
       "  options: {max_generations: 3, population_size: 8, crossover_probability: 0.9, mutation_probability: 1.0,\n",
       "    selection: auto, verbose: true, population: null, seed: null}\n",
       "simulation:\n",
       "  name: astra_with_generator\n",
       "  evaluate: astra.evaluate.evaluate_astra_with_generator\n",
       "  options: {archive_path: null, merit_f: null, astra_input_file: /Users/chrisonian/Code/GitHub/xopt/examples/templates/kekgun/kekgun.in,\n",
       "    generator_input_file: /Users/chrisonian/Code/GitHub/xopt/examples/templates/kekgun/dist004.in}\n",
       "vocs:\n",
       "  name: kekgun\n",
       "  description: Test case\n",
       "  simulation: astra_with_generator\n",
       "  templates: {astra_input_file: /Users/chrisonian/Code/GitHub/xopt/examples/templates/kekgun/kekgun.in,\n",
       "    generator_input_file: /Users/chrisonian/Code/GitHub/xopt/examples/templates/kekgun/dist004.in}\n",
       "  variables:\n",
       "    sig_x: [0.05, 1]\n",
       "    lt: [0.005, 0.07]\n",
       "    maxe(1): [20, 50]\n",
       "    phi(1): [-30, 30]\n",
       "    maxb(1): [0, 0.4]\n",
       "    maxe(2): [0, 32]\n",
       "    phi(2): [-180, 180]\n",
       "    maxb(2): [0, 0.3]\n",
       "    maxe(3): [0, 32]\n",
       "    maxe(4): [0, 32]\n",
       "    phi(3): [-45, 45]\n",
       "    phi(4): [-45, 45]\n",
       "    phi(6): [-45, 45]\n",
       "  constants: {ipart: 1000, lspch: true, zstop: 0.2}\n",
       "  objectives: {end_core_emit_95percent_x: MINIMIZE, end_sigma_z: MINIMIZE}\n",
       "  constraints:\n",
       "    end_sigma_z: [LESS_THAN, 0.0015]\n",
       "    end_core_emit_95percent_x: [LESS_THAN, 9.0e-07]\n",
       "    end_sigma_energy: [LESS_THAN, 200000.0]\n",
       "    end_higher_order_energy_spread: [LESS_THAN, 5000.0]\n",
       "    end_mean_kinetic_energy: [GREATER_THAN, 90000000.0]\n",
       "    end_n_particle_loss: [LESS_THAN, 1]\n",
       "  linked_variables: null"
      ]
     },
     "execution_count": 6,
     "metadata": {},
     "output_type": "execute_result"
    }
   ],
   "source": [
    "# Create object\n",
    "X = Xopt(config=config)\n",
    "\n",
    "# Change some things to make it run faster\n",
    "X.vocs['constants']['lspch'] = True\n",
    "X.vocs['constants']['ipart'] = 1000\n",
    "X.vocs['constants']['zstop'] = 0.2\n",
    "\n",
    "# Show config\n",
    "X"
   ]
  },
  {
   "cell_type": "code",
   "execution_count": 7,
   "metadata": {},
   "outputs": [
    {
     "data": {
      "text/plain": [
       "{'sig_x': 0.9467623330304046,\n",
       " 'lt': 0.061876296026666965,\n",
       " 'maxe(1)': 20.82268728183341,\n",
       " 'phi(1)': -13.52085830531054,\n",
       " 'maxb(1)': 0.20184931503150394,\n",
       " 'maxe(2)': 2.422851433877419,\n",
       " 'phi(2)': 129.03874436937713,\n",
       " 'maxb(2)': 0.034118492753784736,\n",
       " 'maxe(3)': 28.505737790780376,\n",
       " 'maxe(4)': 25.008653785555186,\n",
       " 'phi(3)': -33.52153462541986,\n",
       " 'phi(4)': -43.08797614403126,\n",
       " 'phi(6)': 28.810923421095097,\n",
       " 'ipart': 1000,\n",
       " 'lspch': True,\n",
       " 'zstop': 0.2}"
      ]
     },
     "execution_count": 7,
     "metadata": {},
     "output_type": "execute_result"
    }
   ],
   "source": [
    "# Check random inputs \n",
    "X.random_inputs()"
   ]
  },
  {
   "cell_type": "code",
   "execution_count": 8,
   "metadata": {},
   "outputs": [
    {
     "data": {
      "text/plain": [
       "{'error': False,\n",
       " 'end_mean_z': 0.2,\n",
       " 'end_norm_emit_x': 3.6389999999999997e-07,\n",
       " 'end_core_emit_95percent_x': 2.4652999999999997e-07,\n",
       " 'end_core_emit_90percent_x': 2.0344e-07,\n",
       " 'end_core_emit_80percent_x': 1.3791e-07,\n",
       " 'end_norm_emit_y': 3.6199e-07,\n",
       " 'end_core_emit_95percent_y': 2.4604e-07,\n",
       " 'end_core_emit_90percent_y': 2.0316e-07,\n",
       " 'end_core_emit_80percent_y': 1.3826e-07,\n",
       " 'end_norm_emit_z': 12.845,\n",
       " 'end_core_emit_95percent_z': 1.0246e-05,\n",
       " 'end_core_emit_905percent_z': 8.504300000000001e-06,\n",
       " 'end_core_emit_80percent_z': 6.086e-06,\n",
       " 'end_mean_t': 7.1444e-10,\n",
       " 'end_mean_x': 1.1979e-06,\n",
       " 'end_sigma_x': 0.00087337,\n",
       " 'end_sigma_xp': 0.0038272000000000002,\n",
       " 'end_cov_x__xp': 3.3421249790000002e-06,\n",
       " 'end_mean_y': 1.9821e-06,\n",
       " 'end_sigma_y': 0.00087339,\n",
       " 'end_sigma_yp': 0.0038281,\n",
       " 'end_cov_y__yp': 3.3429875640000002e-06,\n",
       " 'end_mean_kinetic_energy': 2996800.0,\n",
       " 'end_sigma_z': 0.0023518,\n",
       " 'end_sigma_energy': 13976.0,\n",
       " 'end_cov_z__energy': -30.255906999999997,\n",
       " 'end_n_particle_loss': 0,\n",
       " 'end_total_charge': 9.989999999999999e-11,\n",
       " 'end_higher_order_energy_spread': 913.3355235909107,\n",
       " 'fingerprint': 'e7d068d465bea885f3139e57a063d92e'}"
      ]
     },
     "execution_count": 8,
     "metadata": {},
     "output_type": "execute_result"
    }
   ],
   "source": [
    "# Evaluate with some particular settings\n",
    "X.evaluate(\n",
    "    {'ipart': 1000,\n",
    " 'lspch': True,\n",
    " 'zstop': 0.2})"
   ]
  },
  {
   "cell_type": "code",
   "execution_count": 9,
   "metadata": {},
   "outputs": [
    {
     "name": "stdout",
     "output_type": "stream",
     "text": [
      "CPU times: user 86.1 ms, sys: 13.4 ms, total: 99.6 ms\n",
      "Wall time: 7.15 s\n"
     ]
    },
    {
     "data": {
      "text/plain": [
       "{'error': False,\n",
       " 'end_mean_z': 0.2,\n",
       " 'end_norm_emit_x': 5.9091e-07,\n",
       " 'end_core_emit_95percent_x': 3.5787e-07,\n",
       " 'end_core_emit_90percent_x': 2.9143999999999997e-07,\n",
       " 'end_core_emit_80percent_x': 1.9827e-07,\n",
       " 'end_norm_emit_y': 5.8588e-07,\n",
       " 'end_core_emit_95percent_y': 3.5698999999999997e-07,\n",
       " 'end_core_emit_90percent_y': 2.926e-07,\n",
       " 'end_core_emit_80percent_y': 1.9786999999999998e-07,\n",
       " 'end_norm_emit_z': 2.3268,\n",
       " 'end_core_emit_95percent_z': 1.6759e-06,\n",
       " 'end_core_emit_905percent_z': 1.3817999999999998e-06,\n",
       " 'end_core_emit_80percent_z': 1.0556000000000001e-06,\n",
       " 'end_mean_t': 7.2425e-10,\n",
       " 'end_mean_x': 1.2909e-07,\n",
       " 'end_sigma_x': 0.0012137,\n",
       " 'end_sigma_xp': 0.0052981,\n",
       " 'end_cov_x__xp': 6.42945438e-06,\n",
       " 'end_mean_y': 2.7317e-07,\n",
       " 'end_sigma_y': 0.001213,\n",
       " 'end_sigma_yp': 0.0052946,\n",
       " 'end_cov_y__yp': 6.421622000000001e-06,\n",
       " 'end_mean_kinetic_energy': 2490300.0,\n",
       " 'end_sigma_z': 0.001264,\n",
       " 'end_sigma_energy': 14795.0,\n",
       " 'end_cov_z__energy': 18.555519999999998,\n",
       " 'end_n_particle_loss': 0,\n",
       " 'end_total_charge': 9.989999999999999e-11,\n",
       " 'end_higher_order_energy_spread': 1299.40245194499,\n",
       " 'fingerprint': 'fa57572e44789661ff45dd486c721efc'}"
      ]
     },
     "execution_count": 9,
     "metadata": {},
     "output_type": "execute_result"
    }
   ],
   "source": [
    "%%time\n",
    "# Do a random evaluate to check that everything will run\n",
    "output = X.random_evaluate()\n",
    "output"
   ]
  },
  {
   "cell_type": "code",
   "execution_count": 10,
   "metadata": {},
   "outputs": [
    {
     "data": {
      "text/plain": [
       "{'max_generations': 3,\n",
       " 'population_size': 8,\n",
       " 'crossover_probability': 0.9,\n",
       " 'mutation_probability': 1.0,\n",
       " 'selection': 'auto',\n",
       " 'verbose': True,\n",
       " 'population': None,\n",
       " 'seed': None}"
      ]
     },
     "execution_count": 10,
     "metadata": {},
     "output_type": "execute_result"
    }
   ],
   "source": [
    "# These are the algorithm options\n",
    "X.algorithm['options']"
   ]
  },
  {
   "cell_type": "code",
   "execution_count": 11,
   "metadata": {},
   "outputs": [
    {
     "data": {
      "text/plain": [
       "{'archive_path': None,\n",
       " 'merit_f': None,\n",
       " 'astra_input_file': '/Users/chrisonian/Code/GitHub/xopt/examples/templates/kekgun/kekgun.in',\n",
       " 'generator_input_file': '/Users/chrisonian/Code/GitHub/xopt/examples/templates/kekgun/dist004.in'}"
      ]
     },
     "execution_count": 11,
     "metadata": {},
     "output_type": "execute_result"
    }
   ],
   "source": [
    "# These are the options in the evaluate function\n",
    "X.simulation['options']"
   ]
  },
  {
   "cell_type": "markdown",
   "metadata": {},
   "source": [
    "# Run CNSGA using processes or threads"
   ]
  },
  {
   "cell_type": "code",
   "execution_count": 12,
   "metadata": {},
   "outputs": [],
   "source": [
    "#from concurrent.futures import ProcessPoolExecutor as PoolExecutor\n",
    "from concurrent.futures import ThreadPoolExecutor as PoolExecutor\n",
    "executor = PoolExecutor()"
   ]
  },
  {
   "cell_type": "code",
   "execution_count": 13,
   "metadata": {},
   "outputs": [
    {
     "name": "stdout",
     "output_type": "stream",
     "text": [
      "Loading config as dict.\n",
      "Warning: No path set for key simulation::options::archive_path\n"
     ]
    }
   ],
   "source": [
    "# Create object\n",
    "X = Xopt(config=config)\n",
    "\n",
    "# Change some things to make it run faster\n",
    "X.vocs['constants']['lspch'] = True\n",
    "X.vocs['constants']['ipart'] = 1000\n",
    "X.vocs['constants']['zstop'] = 0.2\n",
    "X.population\n"
   ]
  },
  {
   "cell_type": "code",
   "execution_count": 14,
   "metadata": {},
   "outputs": [
    {
     "name": "stdout",
     "output_type": "stream",
     "text": [
      "Starting at time 2020-02-20T20:47:19-08:00\n",
      "\n",
      "\n",
      "\n",
      " ▄████▄   ███▄    █   ██████   ▄████  ▄▄▄      \n",
      "▒██▀ ▀█   ██ ▀█   █ ▒██    ▒  ██▒ ▀█▒▒████▄    \n",
      "▒▓█    ▄ ▓██  ▀█ ██▒░ ▓██▄   ▒██░▄▄▄░▒██  ▀█▄  \n",
      "▒▓▓▄ ▄██▒▓██▒  ▐▌██▒  ▒   ██▒░▓█  ██▓░██▄▄▄▄██ \n",
      "▒ ▓███▀ ░▒██░   ▓██░▒██████▒▒░▒▓███▀▒ ▓█   ▓██▒\n",
      "░ ░▒ ▒  ░░ ▒░   ▒ ▒ ▒ ▒▓▒ ▒ ░ ░▒   ▒  ▒▒   ▓▒█░\n",
      "  ░  ▒   ░ ░░   ░ ▒░░ ░▒  ░ ░  ░   ░   ▒   ▒▒ ░\n",
      "░           ░   ░ ░ ░  ░  ░  ░ ░   ░   ░   ▒   \n",
      "░ ░               ░       ░        ░       ░  ░\n",
      "░                                              \n",
      "\n",
      "\n",
      "Continous Non-dominated Sorting Genetic Algorithm\n",
      "\n",
      "\n",
      "Creating toolbox from vocs.\n",
      "Created toolbox with 13 variables, 6 constraints, and 2 objectives.\n",
      "    Using selection algorithm: nsga2\n",
      "vocs:\n",
      "{'constants': {'ipart': 1000, 'lspch': True, 'zstop': 0.2},\n",
      " 'constraints': {'end_core_emit_95percent_x': ['LESS_THAN', 9e-07],\n",
      "                 'end_higher_order_energy_spread': ['LESS_THAN', 5000.0],\n",
      "                 'end_mean_kinetic_energy': ['GREATER_THAN', 90000000.0],\n",
      "                 'end_n_particle_loss': ['LESS_THAN', 1],\n",
      "                 'end_sigma_energy': ['LESS_THAN', 200000.0],\n",
      "                 'end_sigma_z': ['LESS_THAN', 0.0015]},\n",
      " 'description': 'Test case',\n",
      " 'linked_variables': None,\n",
      " 'name': 'kekgun',\n",
      " 'objectives': {'end_core_emit_95percent_x': 'MINIMIZE',\n",
      "                'end_sigma_z': 'MINIMIZE'},\n",
      " 'simulation': 'astra_with_generator',\n",
      " 'templates': {'astra_input_file': '/Users/chrisonian/Code/GitHub/xopt/examples/templates/kekgun/kekgun.in',\n",
      "               'generator_input_file': '/Users/chrisonian/Code/GitHub/xopt/examples/templates/kekgun/dist004.in'},\n",
      " 'variables': {'lt': [0.005, 0.07],\n",
      "               'maxb(1)': [0, 0.4],\n",
      "               'maxb(2)': [0, 0.3],\n",
      "               'maxe(1)': [20, 50],\n",
      "               'maxe(2)': [0, 32],\n",
      "               'maxe(3)': [0, 32],\n",
      "               'maxe(4)': [0, 32],\n",
      "               'phi(1)': [-30, 30],\n",
      "               'phi(2)': [-180, 180],\n",
      "               'phi(3)': [-45, 45],\n",
      "               'phi(4)': [-45, 45],\n",
      "               'phi(6)': [-45, 45],\n",
      "               'sig_x': [0.05, 1]}}\n",
      "Initializing with a new population, size 8\n",
      "Maximum generations: 3\n",
      "____________________________________________________\n",
      "8 fitness calculations for initial generation\n",
      "........done.\n",
      "Submitting first batch of children\n",
      "Pop written to /Users/chrisonian/Code/GitHub/xopt/examples/xopt_class/temp/initial_pop_0.json\n",
      ".........done.\n",
      "__________________________________________________________\n",
      "Generation 0 completed in 0.36962 minutes\n",
      "Pop written to /Users/chrisonian/Code/GitHub/xopt/examples/xopt_class/temp/gen_1.json\n",
      "Pop written to /Users/chrisonian/Code/GitHub/xopt/examples/xopt_class/temp/pop_1.json\n",
      "........done.\n",
      "__________________________________________________________\n",
      "Generation 1 completed in 0.16757 minutes\n",
      "Pop written to /Users/chrisonian/Code/GitHub/xopt/examples/xopt_class/temp/gen_2.json\n",
      "Pop written to /Users/chrisonian/Code/GitHub/xopt/examples/xopt_class/temp/pop_2.json\n",
      "........done.\n",
      "__________________________________________________________\n",
      "Generation 2 completed in 0.19610 minutes\n",
      "Pop written to /Users/chrisonian/Code/GitHub/xopt/examples/xopt_class/temp/gen_3.json\n",
      "Pop written to /Users/chrisonian/Code/GitHub/xopt/examples/xopt_class/temp/pop_3.json\n"
     ]
    }
   ],
   "source": [
    "# Show config\n",
    "X.run(executor)"
   ]
  },
  {
   "cell_type": "code",
   "execution_count": 15,
   "metadata": {},
   "outputs": [
    {
     "data": {
      "text/plain": [
       "[False, False, False, False, False, False, False, False]"
      ]
     },
     "execution_count": 15,
     "metadata": {},
     "output_type": "execute_result"
    }
   ],
   "source": [
    "# Check for errors\n",
    "X.population['error']"
   ]
  },
  {
   "cell_type": "markdown",
   "metadata": {},
   "source": [
    "# Write this configuration"
   ]
  },
  {
   "cell_type": "code",
   "execution_count": 16,
   "metadata": {},
   "outputs": [
    {
     "name": "stdout",
     "output_type": "stream",
     "text": [
      "Config written as YAML to test.yaml\n"
     ]
    }
   ],
   "source": [
    "X.config['algorithm']['options']['population'] = '/Users/chrisonian/Code/GitHub/xopt/examples/xopt_class/temp/pop_3.json'\n",
    "X.config['algorithm']['options']['max_generations'] = 7\n",
    "X.save('test.yaml')"
   ]
  },
  {
   "cell_type": "code",
   "execution_count": 17,
   "metadata": {},
   "outputs": [
    {
     "name": "stdout",
     "output_type": "stream",
     "text": [
      "xopt: {output_path: /Users/chrisonian/Code/GitHub/xopt/examples/xopt_class/temp, verbose: true,\n",
      "  algorithm: cnsga}\n",
      "algorithm:\n",
      "  name: cnsga\n",
      "  function: xopt.cnsga.cnsga\n",
      "  options: {max_generations: 7, population_size: 8, crossover_probability: 0.9, mutation_probability: 1.0,\n",
      "    selection: auto, verbose: true, population: /Users/chrisonian/Code/GitHub/xopt/examples/xopt_class/temp/pop_3.json,\n",
      "    seed: null}\n",
      "simulation:\n",
      "  name: astra_with_generator\n",
      "  evaluate: astra.evaluate.evaluate_astra_with_generator\n",
      "  options: {archive_path: null, merit_f: null, astra_input_file: /Users/chrisonian/Code/GitHub/xopt/examples/templates/kekgun/kekgun.in,\n",
      "    generator_input_file: /Users/chrisonian/Code/GitHub/xopt/examples/templates/kekgun/dist004.in}\n",
      "vocs:\n",
      "  name: kekgun\n",
      "  description: Test case\n",
      "  simulation: astra_with_generator\n",
      "  templates: {astra_input_file: /Users/chrisonian/Code/GitHub/xopt/examples/templates/kekgun/kekgun.in,\n",
      "    generator_input_file: /Users/chrisonian/Code/GitHub/xopt/examples/templates/kekgun/dist004.in}\n",
      "  variables:\n",
      "    sig_x: [0.05, 1]\n",
      "    lt: [0.005, 0.07]\n",
      "    maxe(1): [20, 50]\n",
      "    phi(1): [-30, 30]\n",
      "    maxb(1): [0, 0.4]\n",
      "    maxe(2): [0, 32]\n",
      "    phi(2): [-180, 180]\n",
      "    maxb(2): [0, 0.3]\n",
      "    maxe(3): [0, 32]\n",
      "    maxe(4): [0, 32]\n",
      "    phi(3): [-45, 45]\n",
      "    phi(4): [-45, 45]\n",
      "    phi(6): [-45, 45]\n",
      "  constants: {ipart: 1000, lspch: true, zstop: 0.2}\n",
      "  objectives: {end_core_emit_95percent_x: MINIMIZE, end_sigma_z: MINIMIZE}\n",
      "  constraints:\n",
      "    end_sigma_z: [LESS_THAN, 0.0015]\n",
      "    end_core_emit_95percent_x: [LESS_THAN, 9.0e-07]\n",
      "    end_sigma_energy: [LESS_THAN, 200000.0]\n",
      "    end_higher_order_energy_spread: [LESS_THAN, 5000.0]\n",
      "    end_mean_kinetic_energy: [GREATER_THAN, 90000000.0]\n",
      "    end_n_particle_loss: [LESS_THAN, 1]\n",
      "  linked_variables: null\n"
     ]
    }
   ],
   "source": [
    "!cat test.yaml"
   ]
  },
  {
   "cell_type": "markdown",
   "metadata": {},
   "source": [
    "# Run with MPI"
   ]
  },
  {
   "cell_type": "code",
   "execution_count": 18,
   "metadata": {},
   "outputs": [
    {
     "name": "stdout",
     "output_type": "stream",
     "text": [
      "  _   \n",
      "                | |  \n",
      "__  _____  _ __ | |_ \n",
      "\\ \\/ / _ \\| '_ \\| __|\n",
      " >  < (_) | |_) | |_ \n",
      "/_/\\_\\___/| .__/ \\__|\n",
      "          | |        \n",
      "          |_|        \n",
      "\n",
      "_________________________________\n",
      "Parallel execution with 4 workers\n",
      "Loading as YAML file: test.yaml\n",
      "Warning: No path set for key simulation::options::archive_path\n",
      "\n",
      "            Xopt\n",
      "________________________________           \n",
      "\n",
      "Configured: True\n",
      "\n",
      "Config as YAML:\n",
      "xopt: {output_path: /Users/chrisonian/Code/GitHub/xopt/examples/xopt_class/temp, verbose: true,\n",
      "  algorithm: cnsga}\n",
      "algorithm:\n",
      "  name: cnsga\n",
      "  function: xopt.cnsga.cnsga\n",
      "  options: {max_generations: 7, population_size: 8, crossover_probability: 0.9, mutation_probability: 1.0,\n",
      "    selection: auto, verbose: true, population: /Users/chrisonian/Code/GitHub/xopt/examples/xopt_class/temp/pop_3.json,\n",
      "    seed: null}\n",
      "simulation:\n",
      "  name: astra_with_generator\n",
      "  evaluate: astra.evaluate.evaluate_astra_with_generator\n",
      "  options: {archive_path: null, merit_f: null, astra_input_file: /Users/chrisonian/Code/GitHub/xopt/examples/templates/kekgun/kekgun.in,\n",
      "    generator_input_file: /Users/chrisonian/Code/GitHub/xopt/examples/templates/kekgun/dist004.in}\n",
      "vocs:\n",
      "  name: kekgun\n",
      "  description: Test case\n",
      "  simulation: astra_with_generator\n",
      "  templates: {astra_input_file: /Users/chrisonian/Code/GitHub/xopt/examples/templates/kekgun/kekgun.in,\n",
      "    generator_input_file: /Users/chrisonian/Code/GitHub/xopt/examples/templates/kekgun/dist004.in}\n",
      "  variables:\n",
      "    sig_x: [0.05, 1]\n",
      "    lt: [0.005, 0.07]\n",
      "    maxe(1): [20, 50]\n",
      "    phi(1): [-30, 30]\n",
      "    maxb(1): [0, 0.4]\n",
      "    maxe(2): [0, 32]\n",
      "    phi(2): [-180, 180]\n",
      "    maxb(2): [0, 0.3]\n",
      "    maxe(3): [0, 32]\n",
      "    maxe(4): [0, 32]\n",
      "    phi(3): [-45, 45]\n",
      "    phi(4): [-45, 45]\n",
      "    phi(6): [-45, 45]\n",
      "  constants: {ipart: 1000, lspch: true, zstop: 0.2}\n",
      "  objectives: {end_core_emit_95percent_x: MINIMIZE, end_sigma_z: MINIMIZE}\n",
      "  constraints:\n",
      "    end_sigma_z: [LESS_THAN, 0.0015]\n",
      "    end_core_emit_95percent_x: [LESS_THAN, 9.0e-07]\n",
      "    end_sigma_energy: [LESS_THAN, 200000.0]\n",
      "    end_higher_order_energy_spread: [LESS_THAN, 5000.0]\n",
      "    end_mean_kinetic_energy: [GREATER_THAN, 90000000.0]\n",
      "    end_n_particle_loss: [LESS_THAN, 1]\n",
      "  linked_variables: null\n",
      "\n",
      "Starting at time 2020-02-20T20:48:22-08:00\n",
      "\n",
      "\n",
      "\n",
      " ▄████▄   ███▄    █   ██████   ▄████  ▄▄▄      \n",
      "▒██▀ ▀█   ██ ▀█   █ ▒██    ▒  ██▒ ▀█▒▒████▄    \n",
      "▒▓█    ▄ ▓██  ▀█ ██▒░ ▓██▄   ▒██░▄▄▄░▒██  ▀█▄  \n",
      "▒▓▓▄ ▄██▒▓██▒  ▐▌██▒  ▒   ██▒░▓█  ██▓░██▄▄▄▄██ \n",
      "▒ ▓███▀ ░▒██░   ▓██░▒██████▒▒░▒▓███▀▒ ▓█   ▓██▒\n",
      "░ ░▒ ▒  ░░ ▒░   ▒ ▒ ▒ ▒▓▒ ▒ ░ ░▒   ▒  ▒▒   ▓▒█░\n",
      "  ░  ▒   ░ ░░   ░ ▒░░ ░▒  ░ ░  ░   ░   ▒   ▒▒ ░\n",
      "░           ░   ░ ░ ░  ░  ░  ░ ░   ░   ░   ▒   \n",
      "░ ░               ░       ░        ░       ░  ░\n",
      "░                                              \n",
      "\n",
      "\n",
      "Continous Non-dominated Sorting Genetic Algorithm\n",
      "\n",
      "\n",
      "Creating toolbox from vocs.\n",
      "Created toolbox with 13 variables, 6 constraints, and 2 objectives.\n",
      "    Using selection algorithm: nsga2\n",
      "vocs:\n",
      "{'constants': {'ipart': 1000, 'lspch': True, 'zstop': 0.2},\n",
      " 'constraints': {'end_core_emit_95percent_x': ['LESS_THAN', 9e-07],\n",
      "                 'end_higher_order_energy_spread': ['LESS_THAN', 5000.0],\n",
      "                 'end_mean_kinetic_energy': ['GREATER_THAN', 90000000.0],\n",
      "                 'end_n_particle_loss': ['LESS_THAN', 1],\n",
      "                 'end_sigma_energy': ['LESS_THAN', 200000.0],\n",
      "                 'end_sigma_z': ['LESS_THAN', 0.0015]},\n",
      " 'description': 'Test case',\n",
      " 'linked_variables': None,\n",
      " 'name': 'kekgun',\n",
      " 'objectives': {'end_core_emit_95percent_x': 'MINIMIZE',\n",
      "                'end_sigma_z': 'MINIMIZE'},\n",
      " 'simulation': 'astra_with_generator',\n",
      " 'templates': {'astra_input_file': '/Users/chrisonian/Code/GitHub/xopt/examples/templates/kekgun/kekgun.in',\n",
      "               'generator_input_file': '/Users/chrisonian/Code/GitHub/xopt/examples/templates/kekgun/dist004.in'},\n",
      " 'variables': {'lt': [0.005, 0.07],\n",
      "               'maxb(1)': [0, 0.4],\n",
      "               'maxb(2)': [0, 0.3],\n",
      "               'maxe(1)': [20, 50],\n",
      "               'maxe(2)': [0, 32],\n",
      "               'maxe(3)': [0, 32],\n",
      "               'maxe(4)': [0, 32],\n",
      "               'phi(1)': [-30, 30],\n",
      "               'phi(2)': [-180, 180],\n",
      "               'phi(3)': [-45, 45],\n",
      "               'phi(4)': [-45, 45],\n",
      "               'phi(6)': [-45, 45],\n",
      "               'sig_x': [0.05, 1]}}\n",
      "Loading as JSON file: /Users/chrisonian/Code/GitHub/xopt/examples/xopt_class/temp/pop_3.json\n",
      "Initializing with existing population, size 8\n",
      "Maximum generations: 7\n",
      "____________________________________________________\n",
      "8 fitness calculations for initial generation\n",
      "........done.\n",
      "Submitting first batch of children\n",
      "Pop written to /Users/chrisonian/Code/GitHub/xopt/examples/xopt_class/temp/initial_pop_4.json\n",
      ".........done.\n",
      "__________________________________________________________\n",
      "Generation 4 completed in 0.32635 minutes\n",
      "Pop written to /Users/chrisonian/Code/GitHub/xopt/examples/xopt_class/temp/gen_5.json\n",
      "Pop written to /Users/chrisonian/Code/GitHub/xopt/examples/xopt_class/temp/pop_5.json\n",
      "........done.\n",
      "__________________________________________________________\n",
      "Generation 5 completed in 0.31576 minutes\n",
      "Pop written to /Users/chrisonian/Code/GitHub/xopt/examples/xopt_class/temp/gen_6.json\n",
      "Pop written to /Users/chrisonian/Code/GitHub/xopt/examples/xopt_class/temp/pop_6.json\n",
      "........done.\n",
      "__________________________________________________________\n",
      "Generation 6 completed in 0.29834 minutes\n",
      "Pop written to /Users/chrisonian/Code/GitHub/xopt/examples/xopt_class/temp/gen_7.json\n",
      "Pop written to /Users/chrisonian/Code/GitHub/xopt/examples/xopt_class/temp/pop_7.json\n"
     ]
    }
   ],
   "source": [
    "!mpirun -n 4 python -m mpi4py.futures -m xopt.mpi.run test.yaml"
   ]
  },
  {
   "cell_type": "markdown",
   "metadata": {},
   "source": [
    "# Dask "
   ]
  },
  {
   "cell_type": "code",
   "execution_count": 19,
   "metadata": {},
   "outputs": [
    {
     "data": {
      "text/html": [
       "<table style=\"border: 2px solid white;\">\n",
       "<tr>\n",
       "<td style=\"vertical-align: top; border: 0px solid white\">\n",
       "<h3 style=\"text-align: left;\">Client</h3>\n",
       "<ul style=\"text-align: left; list-style: none; margin: 0; padding: 0;\">\n",
       "  <li><b>Scheduler: </b>tcp://127.0.0.1:64594</li>\n",
       "  <li><b>Dashboard: </b><a href='http://127.0.0.1:8787/status' target='_blank'>http://127.0.0.1:8787/status</a>\n",
       "</ul>\n",
       "</td>\n",
       "<td style=\"vertical-align: top; border: 0px solid white\">\n",
       "<h3 style=\"text-align: left;\">Cluster</h3>\n",
       "<ul style=\"text-align: left; list-style:none; margin: 0; padding: 0;\">\n",
       "  <li><b>Workers: </b>4</li>\n",
       "  <li><b>Cores: </b>8</li>\n",
       "  <li><b>Memory: </b>17.18 GB</li>\n",
       "</ul>\n",
       "</td>\n",
       "</tr>\n",
       "</table>"
      ],
      "text/plain": [
       "<Client: 'tcp://127.0.0.1:64594' processes=4 threads=8, memory=17.18 GB>"
      ]
     },
     "execution_count": 19,
     "metadata": {},
     "output_type": "execute_result"
    }
   ],
   "source": [
    "from dask.distributed import Client\n",
    "executor = Client()\n",
    "#executor = Client(processes=True)\n",
    "executor"
   ]
  },
  {
   "cell_type": "code",
   "execution_count": 20,
   "metadata": {},
   "outputs": [],
   "source": [
    "# Wait a few seconds for the Dask cluster to start\n",
    "from time import sleep\n",
    "sleep(5)"
   ]
  },
  {
   "cell_type": "code",
   "execution_count": 21,
   "metadata": {},
   "outputs": [
    {
     "name": "stdout",
     "output_type": "stream",
     "text": [
      "Starting at time 2020-02-20T20:49:54-08:00\n",
      "\n",
      "\n",
      "\n",
      " ▄████▄   ███▄    █   ██████   ▄████  ▄▄▄      \n",
      "▒██▀ ▀█   ██ ▀█   █ ▒██    ▒  ██▒ ▀█▒▒████▄    \n",
      "▒▓█    ▄ ▓██  ▀█ ██▒░ ▓██▄   ▒██░▄▄▄░▒██  ▀█▄  \n",
      "▒▓▓▄ ▄██▒▓██▒  ▐▌██▒  ▒   ██▒░▓█  ██▓░██▄▄▄▄██ \n",
      "▒ ▓███▀ ░▒██░   ▓██░▒██████▒▒░▒▓███▀▒ ▓█   ▓██▒\n",
      "░ ░▒ ▒  ░░ ▒░   ▒ ▒ ▒ ▒▓▒ ▒ ░ ░▒   ▒  ▒▒   ▓▒█░\n",
      "  ░  ▒   ░ ░░   ░ ▒░░ ░▒  ░ ░  ░   ░   ▒   ▒▒ ░\n",
      "░           ░   ░ ░ ░  ░  ░  ░ ░   ░   ░   ▒   \n",
      "░ ░               ░       ░        ░       ░  ░\n",
      "░                                              \n",
      "\n",
      "\n",
      "Continous Non-dominated Sorting Genetic Algorithm\n",
      "\n",
      "\n",
      "Creating toolbox from vocs.\n",
      "Warning: Redefining creator.MyFitness\n",
      "Warning in cnsga_toolbox: Redefining creator.Individual\n",
      "Created toolbox with 13 variables, 6 constraints, and 2 objectives.\n",
      "    Using selection algorithm: nsga2\n",
      "vocs:\n",
      "{'constants': {'ipart': 1000, 'lspch': True, 'zstop': 0.2},\n",
      " 'constraints': {'end_core_emit_95percent_x': ['LESS_THAN', 9e-07],\n",
      "                 'end_higher_order_energy_spread': ['LESS_THAN', 5000.0],\n",
      "                 'end_mean_kinetic_energy': ['GREATER_THAN', 90000000.0],\n",
      "                 'end_n_particle_loss': ['LESS_THAN', 1],\n",
      "                 'end_sigma_energy': ['LESS_THAN', 200000.0],\n",
      "                 'end_sigma_z': ['LESS_THAN', 0.0015]},\n",
      " 'description': 'Test case',\n",
      " 'linked_variables': None,\n",
      " 'name': 'kekgun',\n",
      " 'objectives': {'end_core_emit_95percent_x': 'MINIMIZE',\n",
      "                'end_sigma_z': 'MINIMIZE'},\n",
      " 'simulation': 'astra_with_generator',\n",
      " 'templates': {'astra_input_file': '/Users/chrisonian/Code/GitHub/xopt/examples/templates/kekgun/kekgun.in',\n",
      "               'generator_input_file': '/Users/chrisonian/Code/GitHub/xopt/examples/templates/kekgun/dist004.in'},\n",
      " 'variables': {'lt': [0.005, 0.07],\n",
      "               'maxb(1)': [0, 0.4],\n",
      "               'maxb(2)': [0, 0.3],\n",
      "               'maxe(1)': [20, 50],\n",
      "               'maxe(2)': [0, 32],\n",
      "               'maxe(3)': [0, 32],\n",
      "               'maxe(4)': [0, 32],\n",
      "               'phi(1)': [-30, 30],\n",
      "               'phi(2)': [-180, 180],\n",
      "               'phi(3)': [-45, 45],\n",
      "               'phi(4)': [-45, 45],\n",
      "               'phi(6)': [-45, 45],\n",
      "               'sig_x': [0.05, 1]}}\n",
      "Loading as JSON file: /Users/chrisonian/Code/GitHub/xopt/examples/xopt_class/temp/pop_3.json\n",
      "Initializing with existing population, size 8\n",
      "Maximum generations: 9\n",
      "____________________________________________________\n",
      "8 fitness calculations for initial generation\n",
      "........done.\n",
      "Submitting first batch of children\n",
      "Pop written to /Users/chrisonian/Code/GitHub/xopt/examples/xopt_class/temp/initial_pop_4.json\n",
      ".........done.\n",
      "__________________________________________________________\n",
      "Generation 4 completed in 0.36551 minutes\n",
      "Pop written to /Users/chrisonian/Code/GitHub/xopt/examples/xopt_class/temp/gen_5.json\n",
      "Pop written to /Users/chrisonian/Code/GitHub/xopt/examples/xopt_class/temp/pop_5.json\n",
      "........done.\n",
      "__________________________________________________________\n",
      "Generation 5 completed in 0.17968 minutes\n",
      "Pop written to /Users/chrisonian/Code/GitHub/xopt/examples/xopt_class/temp/gen_6.json\n",
      "Pop written to /Users/chrisonian/Code/GitHub/xopt/examples/xopt_class/temp/pop_6.json\n",
      "........done.\n",
      "__________________________________________________________\n",
      "Generation 6 completed in 0.18734 minutes\n",
      "Pop written to /Users/chrisonian/Code/GitHub/xopt/examples/xopt_class/temp/gen_7.json\n",
      "Pop written to /Users/chrisonian/Code/GitHub/xopt/examples/xopt_class/temp/pop_7.json\n",
      "........done.\n",
      "__________________________________________________________\n",
      "Generation 7 completed in 0.18315 minutes\n",
      "Pop written to /Users/chrisonian/Code/GitHub/xopt/examples/xopt_class/temp/gen_8.json\n",
      "Pop written to /Users/chrisonian/Code/GitHub/xopt/examples/xopt_class/temp/pop_8.json\n",
      "........done.\n",
      "__________________________________________________________\n",
      "Generation 8 completed in 0.18282 minutes\n",
      "Pop written to /Users/chrisonian/Code/GitHub/xopt/examples/xopt_class/temp/gen_9.json\n",
      "Pop written to /Users/chrisonian/Code/GitHub/xopt/examples/xopt_class/temp/pop_9.json\n"
     ]
    }
   ],
   "source": [
    "# Increase the number of generations\n",
    "X.algorithm['options']['max_generations'] = 9\n",
    "X.run(executor)"
   ]
  },
  {
   "cell_type": "code",
   "execution_count": 23,
   "metadata": {},
   "outputs": [
    {
     "data": {
      "text/plain": [
       "[False, False, False, False, False, False, False, False]"
      ]
     },
     "execution_count": 23,
     "metadata": {},
     "output_type": "execute_result"
    }
   ],
   "source": [
    "X.population['error']"
   ]
  },
  {
   "cell_type": "markdown",
   "metadata": {},
   "source": [
    "# Cleanup"
   ]
  },
  {
   "cell_type": "code",
   "execution_count": 24,
   "metadata": {},
   "outputs": [],
   "source": [
    "!rm -r dask-worker-space"
   ]
  },
  {
   "cell_type": "code",
   "execution_count": 25,
   "metadata": {},
   "outputs": [],
   "source": [
    "!rm test.yaml"
   ]
  },
  {
   "cell_type": "code",
   "execution_count": 26,
   "metadata": {},
   "outputs": [],
   "source": [
    "!rm -r temp"
   ]
  },
  {
   "cell_type": "code",
   "execution_count": 27,
   "metadata": {},
   "outputs": [],
   "source": [
    "!rm NORRAN"
   ]
  },
  {
   "cell_type": "code",
   "execution_count": null,
   "metadata": {},
   "outputs": [],
   "source": []
  }
 ],
 "metadata": {
  "kernelspec": {
   "display_name": "Python 3",
   "language": "python",
   "name": "python3"
  },
  "language_info": {
   "codemirror_mode": {
    "name": "ipython",
    "version": 3
   },
   "file_extension": ".py",
   "mimetype": "text/x-python",
   "name": "python",
   "nbconvert_exporter": "python",
   "pygments_lexer": "ipython3",
   "version": "3.6.7"
  }
 },
 "nbformat": 4,
 "nbformat_minor": 4
}
