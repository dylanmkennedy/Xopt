{
 "cells": [
  {
   "cell_type": "code",
   "execution_count": 1,
   "metadata": {},
   "outputs": [],
   "source": [
    "# Useful for debugging\n",
    "%load_ext autoreload\n",
    "%autoreload 2"
   ]
  },
  {
   "cell_type": "markdown",
   "metadata": {},
   "source": [
    "# Xopt class, TNK test function\n",
    "\n",
    "This is the class method for running Xopt. Use Bayesian exploration to explore the input space.\n",
    "\n",
    "TNK function\n",
    "$n=2$ variables:\n",
    "$x_i \\in [0, \\pi], i=1,2$\n",
    "\n",
    "Objectives:\n",
    "- $f_i(x) = x_i$\n",
    "\n",
    "Constraints:\n",
    "- $g_1(x) = -x_1^2 -x_2^2 + 1 + 0.1 \\cos\\left(16 \\arctan \\frac{x_1}{x_2}\\right) \\le 0$\n",
    "- $g_2(x) = (x_1 - 1/2)^2 + (x_2-1/2)^2 \\le 0.5$"
   ]
  },
  {
   "cell_type": "code",
   "execution_count": 2,
   "metadata": {},
   "outputs": [],
   "source": [
    "# Import the class\n",
    "from xopt import Xopt\n",
    "\n",
    "import os\n",
    "SMOKE_TEST = os.environ.get('SMOKE_TEST')"
   ]
  },
  {
   "cell_type": "markdown",
   "metadata": {},
   "source": [
    "The `Xopt` object can be instantiated from a JSON or YAML file, or a dict, with the proper structure.\n",
    "\n",
    "Here we will make one"
   ]
  },
  {
   "cell_type": "code",
   "execution_count": 3,
   "metadata": {},
   "outputs": [],
   "source": [
    "import yaml\n",
    "# Make a proper input file. \n",
    "YAML=\"\"\"\n",
    "xopt: {output_path: null, verbose: true}\n",
    "\n",
    "algorithm:\n",
    "  name: bayesian_exploration\n",
    "  options:  \n",
    "      n_initial_samples: 5\n",
    "      n_steps: 25\n",
    "      verbose: True\n",
    "      generator_options:                     ## options for bayesian exploration acquisition function\n",
    "          batch_size: 1                      ## batch size for parallelized optimization\n",
    "          #sigma: [[0.01, 0.0], [0.0,0.01]]   ## proximal biasing term\n",
    "          use_gpu: False\n",
    "\n",
    "  \n",
    "simulation: \n",
    "  name: test_TNK\n",
    "  evaluate: xopt.evaluators.test_TNK.evaluate_TNK  \n",
    "  \n",
    "vocs:\n",
    "  name: TNK_test\n",
    "  description: null\n",
    "  simulation: test_TNK\n",
    "  templates: null\n",
    "  variables:\n",
    "    x1: [0, 3.14159]\n",
    "    x2: [0, 3.14159]\n",
    "  objectives: {y1: None}\n",
    "  constraints:\n",
    "    c1: [GREATER_THAN, 0]\n",
    "    c2: ['LESS_THAN', 0.5]\n",
    "  linked_variables: {}\n",
    "  constants: {a: dummy_constant}\n",
    "\n",
    "\"\"\"\n",
    "config = yaml.safe_load(YAML)\n",
    "\n",
    "if SMOKE_TEST:\n",
    "    config['algorithm']['options']['n_steps'] = 3\n",
    "    config['algorithm']['options']['generator_options']['num_restarts'] = 2\n",
    "    config['algorithm']['options']['generator_options']['raw_samples'] = 2"
   ]
  },
  {
   "cell_type": "code",
   "execution_count": 4,
   "metadata": {},
   "outputs": [
    {
     "name": "stdout",
     "output_type": "stream",
     "text": [
      "Loading config as dict.\n",
      "Warning: No path set for key xopt : output_path\n",
      "Warning: No path set for key algorithm : options : restart_file\n"
     ]
    },
    {
     "data": {
      "text/plain": [
       "\n",
       "            Xopt \n",
       "________________________________           \n",
       "Version: 0.4.3+104.g5c5c916.dirty\n",
       "Configured: True\n",
       "Config as YAML:\n",
       "xopt: {output_path: null, verbose: true, algorithm: cnsga}\n",
       "algorithm:\n",
       "  name: bayesian_exploration\n",
       "  function: xopt.bayesian.algorithms.bayesian_exploration\n",
       "  options:\n",
       "    n_initial_samples: 5\n",
       "    n_steps: 25\n",
       "    verbose: true\n",
       "    generator_options: {batch_size: 1, use_gpu: false, num_restarts: 2, raw_samples: 2}\n",
       "    custom_model: null\n",
       "    restart_file: null\n",
       "    initial_x: null\n",
       "simulation:\n",
       "  name: test_TNK\n",
       "  evaluate: xopt.evaluators.test_TNK.evaluate_TNK\n",
       "  options: {extra_option: abc}\n",
       "vocs:\n",
       "  name: TNK_test\n",
       "  description: null\n",
       "  simulation: test_TNK\n",
       "  templates: null\n",
       "  variables:\n",
       "    x1: [0, 3.14159]\n",
       "    x2: [0, 3.14159]\n",
       "  objectives: {y1: None}\n",
       "  constraints:\n",
       "    c1: [GREATER_THAN, 0]\n",
       "    c2: [LESS_THAN, 0.5]\n",
       "  linked_variables: {}\n",
       "  constants: {a: dummy_constant}"
      ]
     },
     "execution_count": 4,
     "metadata": {},
     "output_type": "execute_result"
    }
   ],
   "source": [
    "X = Xopt(config)\n",
    "X"
   ]
  },
  {
   "cell_type": "markdown",
   "metadata": {},
   "source": [
    "# Run BayesOpt"
   ]
  },
  {
   "cell_type": "code",
   "execution_count": 5,
   "metadata": {},
   "outputs": [],
   "source": [
    "# Pick one of these\n",
    "from concurrent.futures import ThreadPoolExecutor as PoolExecutor\n",
    "#from concurrent.futures import ProcessPoolExecutor as PoolExecutor\n",
    "\n",
    "executor = PoolExecutor()\n",
    "# This will also work. \n",
    "#executor=None"
   ]
  },
  {
   "cell_type": "code",
   "execution_count": 6,
   "metadata": {},
   "outputs": [
    {
     "name": "stdout",
     "output_type": "stream",
     "text": [
      "Starting at time 2021-09-01T10:37:46-05:00\n",
      "started running optimization with generator: <xopt.bayesian.generators.exploration.BayesianExplorationGenerator object at 0x0000029346636520>\n",
      "submitting initial candidates at time 2021-09-01T10:37:46-05:00\n",
      "starting optimization loop\n",
      "Model creation time: 0.292 s\n",
      "Candidate generation time: 0.09851 s\n",
      "Candidate(s): tensor([[0.1022, 0.4816]], dtype=torch.float64)\n",
      "submitting candidates at time 2021-09-01T10:37:47-05:00\n",
      "Model creation time: 0.3145 s\n",
      "Candidate generation time: 0.062 s\n",
      "Candidate(s): tensor([[1.5026, 0.0000]], dtype=torch.float64)\n",
      "submitting candidates at time 2021-09-01T10:37:47-05:00\n",
      "Model creation time: 0.3 s\n",
      "Candidate generation time: 0.076 s\n",
      "Candidate(s): tensor([[0.4567, 1.1652]], dtype=torch.float64)\n",
      "submitting candidates at time 2021-09-01T10:37:48-05:00\n",
      "Model creation time: 0.383 s\n",
      "Candidate generation time: 0.041 s\n",
      "Candidate(s): tensor([[0.0000, 1.1605]], dtype=torch.float64)\n",
      "submitting candidates at time 2021-09-01T10:37:48-05:00\n",
      "Model creation time: 0.3005 s\n",
      "Candidate generation time: 0.109 s\n",
      "Candidate(s): tensor([[0.9865, 0.8421]], dtype=torch.float64)\n",
      "submitting candidates at time 2021-09-01T10:37:48-05:00\n",
      "Model creation time: 0.508 s\n",
      "Candidate generation time: 0.11 s\n",
      "Candidate(s): tensor([[0.7393, 1.0398]], dtype=torch.float64)\n",
      "submitting candidates at time 2021-09-01T10:37:49-05:00\n",
      "Model creation time: 0.429 s\n",
      "Candidate generation time: 0.012 s\n",
      "Candidate(s): tensor([[0.1086, 2.4398]], dtype=torch.float64)\n",
      "submitting candidates at time 2021-09-01T10:37:50-05:00\n",
      "Model creation time: 0.418 s\n",
      "Candidate generation time: 0.073 s\n",
      "Candidate(s): tensor([[1.0023, 0.3128]], dtype=torch.float64)\n",
      "submitting candidates at time 2021-09-01T10:37:50-05:00\n",
      "Model creation time: 0.363 s\n",
      "Candidate generation time: 0.052 s\n",
      "Candidate(s): tensor([[3.1416, 0.0000]], dtype=torch.float64)\n",
      "submitting candidates at time 2021-09-01T10:37:50-05:00\n",
      "Model creation time: 0.417 s\n",
      "Candidate generation time: 0.013 s\n",
      "Candidate(s): tensor([[2.0469, 2.9722]], dtype=torch.float64)\n",
      "submitting candidates at time 2021-09-01T10:37:51-05:00\n",
      "Model creation time: 0.4945 s\n",
      "Candidate generation time: 0.06102 s\n",
      "Candidate(s): tensor([[1.0789, 0.1808]], dtype=torch.float64)\n",
      "submitting candidates at time 2021-09-01T10:37:51-05:00\n",
      "Model creation time: 0.795 s\n",
      "Candidate generation time: 0.042 s\n",
      "Candidate(s): tensor([[0.6201, 0.8530]], dtype=torch.float64)\n",
      "submitting candidates at time 2021-09-01T10:37:52-05:00\n",
      "Model creation time: 0.481 s\n",
      "Candidate generation time: 0.014 s\n",
      "Candidate(s): tensor([[1.6314, 1.2911]], dtype=torch.float64)\n",
      "submitting candidates at time 2021-09-01T10:37:53-05:00\n",
      "Model creation time: 0.685 s\n",
      "Candidate generation time: 0.01 s\n",
      "Candidate(s): tensor([[1.6356, 0.3220]], dtype=torch.float64)\n",
      "submitting candidates at time 2021-09-01T10:37:53-05:00\n",
      "Model creation time: 0.552 s\n",
      "Candidate generation time: 0.011 s\n",
      "Candidate(s): tensor([[1.4917, 3.0479]], dtype=torch.float64)\n",
      "submitting candidates at time 2021-09-01T10:37:54-05:00\n",
      "Model creation time: 0.496 s\n",
      "Candidate generation time: 0.009999 s\n",
      "Candidate(s): tensor([[2.3566, 0.2503]], dtype=torch.float64)\n",
      "submitting candidates at time 2021-09-01T10:37:55-05:00\n",
      "Model creation time: 0.562 s\n",
      "Candidate generation time: 0.012 s\n",
      "Candidate(s): tensor([[1.9545, 0.8510]], dtype=torch.float64)\n",
      "submitting candidates at time 2021-09-01T10:37:55-05:00\n",
      "Model creation time: 0.604 s\n",
      "Candidate generation time: 0.009999 s\n",
      "Candidate(s): tensor([[1.1429, 2.7107]], dtype=torch.float64)\n",
      "submitting candidates at time 2021-09-01T10:37:56-05:00\n",
      "Model creation time: 0.479 s\n",
      "Candidate generation time: 0.01 s\n",
      "Candidate(s): tensor([[1.5233, 2.7733]], dtype=torch.float64)\n",
      "submitting candidates at time 2021-09-01T10:37:56-05:00\n",
      "Model creation time: 0.4055 s\n",
      "Candidate generation time: 0.012 s\n",
      "Candidate(s): tensor([[2.5278, 0.8143]], dtype=torch.float64)\n",
      "submitting candidates at time 2021-09-01T10:37:57-05:00\n",
      "Model creation time: 0.4605 s\n",
      "Candidate generation time: 0.015 s\n",
      "Candidate(s): tensor([[1.1211, 0.9312]], dtype=torch.float64)\n",
      "submitting candidates at time 2021-09-01T10:37:57-05:00\n",
      "Model creation time: 0.508 s\n",
      "Candidate generation time: 0.012 s\n",
      "Candidate(s): tensor([[1.6604, 0.6258]], dtype=torch.float64)\n",
      "submitting candidates at time 2021-09-01T10:37:58-05:00\n",
      "Model creation time: 0.522 s\n",
      "Candidate generation time: 0.01 s\n",
      "Candidate(s): tensor([[2.3876, 0.0887]], dtype=torch.float64)\n",
      "submitting candidates at time 2021-09-01T10:37:58-05:00\n",
      "Model creation time: 0.681 s\n",
      "Candidate generation time: 0.01303 s\n",
      "Candidate(s): tensor([[2.5753, 0.5428]], dtype=torch.float64)\n",
      "submitting candidates at time 2021-09-01T10:37:59-05:00\n",
      "Model creation time: 0.514 s\n",
      "Candidate generation time: 0.013 s\n",
      "Candidate(s): tensor([[1.3293, 1.6971]], dtype=torch.float64)\n",
      "submitting candidates at time 2021-09-01T10:37:59-05:00\n"
     ]
    }
   ],
   "source": [
    "# Change max generations\n",
    "X.run(executor=executor)"
   ]
  },
  {
   "cell_type": "markdown",
   "metadata": {},
   "source": [
    "# Plot\n",
    "- plot input space samples -> yellow points satisfy constraints and purple points do not"
   ]
  },
  {
   "cell_type": "code",
   "execution_count": 7,
   "metadata": {},
   "outputs": [
    {
     "name": "stdout",
     "output_type": "stream",
     "text": [
      "dict_keys(['variables', 'objectives', 'corrected_objectives', 'constraints', 'corrected_constraints', 'constraint_status', 'feasibility', 'model'])\n"
     ]
    },
    {
     "data": {
      "image/png": "[encoded data removed]",
      "text/plain": [
       "<Figure size 432x288 with 1 Axes>"
      ]
     },
     "metadata": {
      "needs_background": "light"
     },
     "output_type": "display_data"
    }
   ],
   "source": [
    "\n",
    "\n",
    "import matplotlib.pyplot as plt\n",
    "%matplotlib inline\n",
    "\n",
    "# plot exploration results and path - exploration should explore the feasible region of the TNK problem - See Table V in https://www.iitk.ac.in/kangal/Deb_NSGA-II.pdf\n",
    "fig, ax = plt.subplots()\n",
    "\n",
    "results = X.results\n",
    "print(results.keys())\n",
    "variables = results['variables']\n",
    "valid = results['variables'][results['feasibility'].flatten()]\n",
    "ax.plot(variables[:, 0], variables[:, 1], '-o', label = 'all')\n",
    "ax.plot(valid[:, 0], valid[:, 1], 'o', label = 'valid')\n",
    "ax.set_xlabel('$x_1$')\n",
    "ax.set_ylabel('$x_2$')\n",
    "ax.legend()\n",
    "\n",
    "plt.show()"
   ]
  },
  {
   "cell_type": "code",
   "execution_count": null,
   "metadata": {},
   "outputs": [],
   "source": []
  },
  {
   "cell_type": "code",
   "execution_count": null,
   "metadata": {},
   "outputs": [],
   "source": []
  }
 ],
 "metadata": {
  "kernelspec": {
   "display_name": "xopt",
   "language": "python",
   "name": "xopt"
  },
  "language_info": {
   "codemirror_mode": {
    "name": "ipython",
    "version": 3
   },
   "file_extension": ".py",
   "mimetype": "text/x-python",
   "name": "python",
   "nbconvert_exporter": "python",
   "pygments_lexer": "ipython3",
   "version": "3.9.6"
  }
 },
 "nbformat": 4,
 "nbformat_minor": 4
}
