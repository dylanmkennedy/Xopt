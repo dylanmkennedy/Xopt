{
 "cells": [
  {
   "cell_type": "markdown",
   "source": [
    "# TuRBO Bayesian Optimization\n",
    "In this tutorial we demonstrate the use of Xopt to preform Trust Region Bayesian\n",
    "Optimization (TuRBO) on a simple test problem. During optimization of high\n",
    "dimensional input spaces off the shelf BO tends to over-emphasize exploration which\n",
    "severely degrades optimization performance. TuRBO attempts to prevent this by\n",
    "maintaining a surrogate model over a local (trust) region centered on the best\n",
    "observation so far and restricting optimization inside that local region. The trust\n",
    "region is expanded and contracted based on the number of `successful` (observations\n",
    "that improve over the best observed point) or `unsuccessful` (no improvement)\n",
    "observations in a row. See https://botorch.org/tutorials/turbo_1 for details."
   ],
   "metadata": {
    "collapsed": false
   }
  },
  {
   "cell_type": "markdown",
   "source": [
    "## Define the test problem\n",
    "Here we define a simple optimization problem, where we attempt to minimize a\n",
    "function in the domian [0,2*pi]. Note that the function used to evaluate the\n",
    "objective function takes a dictionary as input and returns a dictionary as the output."
   ],
   "metadata": {
    "collapsed": false
   }
  },
  {
   "cell_type": "code",
   "execution_count": 1,
   "outputs": [],
   "source": [
    "from xopt.vocs import VOCS\n",
    "import math\n",
    "\n",
    "# define variables and function objectives\n",
    "vocs = VOCS(\n",
    "    variables={\"x\": [0, 2 * math.pi]},\n",
    "    objectives={\"f\": \"MINIMIZE\"},\n",
    ")"
   ],
   "metadata": {
    "collapsed": false,
    "ExecuteTime": {
     "end_time": "2024-07-30T21:51:36.230852300Z",
     "start_time": "2024-07-30T21:51:33.906777400Z"
    }
   }
  },
  {
   "cell_type": "code",
   "execution_count": 2,
   "outputs": [],
   "source": [
    "# define a test function to optimize\n",
    "import numpy as np\n",
    "\n",
    "def sin_function(input_dict):\n",
    "    x = input_dict[\"x\"]\n",
    "    return {\"f\": -10*np.exp(-(x - np.pi)**2 / 0.01) + 0.5*np.sin(5*x)}"
   ],
   "metadata": {
    "collapsed": false,
    "ExecuteTime": {
     "end_time": "2024-07-30T21:51:36.302329400Z",
     "start_time": "2024-07-30T21:51:36.230852300Z"
    }
   }
  },
  {
   "cell_type": "markdown",
   "source": [
    "## Create Xopt objects\n",
    "Create the evaluator to evaluate our test function and create a generator that uses\n",
    "the Upper Confidence Bound acquisition function to perform Bayesian Optimization."
   ],
   "metadata": {
    "collapsed": false
   }
  },
  {
   "cell_type": "code",
   "execution_count": 3,
   "outputs": [],
   "source": [
    "from xopt.evaluator import Evaluator\n",
    "from xopt.generators.bayesian import UpperConfidenceBoundGenerator\n",
    "from xopt import Xopt\n",
    "\n",
    "\n",
    "evaluator = Evaluator(function=sin_function)\n",
    "generator = UpperConfidenceBoundGenerator(\n",
    "    vocs=vocs, turbo_controller=\"optimize\"\n",
    ")\n",
    "X = Xopt(evaluator=evaluator, generator=generator, vocs=vocs)"
   ],
   "metadata": {
    "collapsed": false,
    "ExecuteTime": {
     "end_time": "2024-07-30T21:51:37.358925300Z",
     "start_time": "2024-07-30T21:51:36.275327600Z"
    }
   }
  },
  {
   "cell_type": "code",
   "execution_count": 4,
   "outputs": [
    {
     "data": {
      "text/plain": "\n            Xopt\n________________________________\nVersion: 2.3.0+4.gd2e41ed4.dirty\nData size: 0\nConfig as YAML:\ndump_file: null\nevaluator:\n  function: __main__.sin_function\n  function_kwargs: {}\n  max_workers: 1\n  vectorized: false\ngenerator:\n  beta: 2.0\n  computation_time: null\n  custom_objective: null\n  fixed_features: null\n  gp_constructor:\n    covar_modules: {}\n    custom_noise_prior: null\n    mean_modules: {}\n    name: standard\n    trainable_mean_keys: []\n    transform_inputs: true\n    use_low_noise_prior: true\n  log_transform_acquisition_function: false\n  max_travel_distances: null\n  model: null\n  n_candidates: 1\n  n_interpolate_points: null\n  n_monte_carlo_samples: 128\n  name: upper_confidence_bound\n  numerical_optimizer:\n    max_iter: 2000\n    max_time: null\n    n_restarts: 20\n    name: LBFGS\n  supports_batch_generation: true\n  turbo_controller:\n    batch_size: 1\n    best_value: null\n    center_x: null\n    dim: 1\n    failure_counter: 0\n    failure_tolerance: 2\n    length: 0.25\n    length_max: 2.0\n    length_min: 0.0078125\n    name: optimize\n    scale_factor: 2.0\n    success_counter: 0\n    success_tolerance: 2\n    tkwargs:\n      dtype: torch.float64\n  use_cuda: false\nmax_evaluations: null\nserialize_inline: false\nserialize_torch: false\nstrict: true\nvocs:\n  constants: {}\n  constraints: {}\n  objectives:\n    f: MINIMIZE\n  observables: []\n  variables:\n    x:\n    - 0.0\n    - 6.283185307179586\n"
     },
     "execution_count": 4,
     "metadata": {},
     "output_type": "execute_result"
    }
   ],
   "source": [
    "X"
   ],
   "metadata": {
    "collapsed": false,
    "ExecuteTime": {
     "end_time": "2024-07-30T21:51:37.373907Z",
     "start_time": "2024-07-30T21:51:37.359925400Z"
    }
   }
  },
  {
   "cell_type": "markdown",
   "source": [
    "## Generate and evaluate initial points\n",
    "To begin optimization, we must generate some random initial data points. The first call\n",
    "to `X.step()` will generate and evaluate a number of randomly points specified by the\n",
    " generator. Note that if we add data to xopt before calling `X.step()` by assigning\n",
    " the data to `X.data`, calls to `X.step()` will ignore the random generation and\n",
    " proceed to generating points via Bayesian optimization."
   ],
   "metadata": {
    "collapsed": false
   }
  },
  {
   "cell_type": "code",
   "execution_count": 5,
   "outputs": [
    {
     "data": {
      "text/plain": "      x         f  xopt_runtime  xopt_error\n0  3.00 -1.021664      0.000020       False\n1  1.75  0.312362      0.000004       False\n2  2.00 -0.272011      0.000003       False",
      "text/html": "<div>\n<style scoped>\n    .dataframe tbody tr th:only-of-type {\n        vertical-align: middle;\n    }\n\n    .dataframe tbody tr th {\n        vertical-align: top;\n    }\n\n    .dataframe thead th {\n        text-align: right;\n    }\n</style>\n<table border=\"1\" class=\"dataframe\">\n  <thead>\n    <tr style=\"text-align: right;\">\n      <th></th>\n      <th>x</th>\n      <th>f</th>\n      <th>xopt_runtime</th>\n      <th>xopt_error</th>\n    </tr>\n  </thead>\n  <tbody>\n    <tr>\n      <th>0</th>\n      <td>3.00</td>\n      <td>-1.021664</td>\n      <td>0.000020</td>\n      <td>False</td>\n    </tr>\n    <tr>\n      <th>1</th>\n      <td>1.75</td>\n      <td>0.312362</td>\n      <td>0.000004</td>\n      <td>False</td>\n    </tr>\n    <tr>\n      <th>2</th>\n      <td>2.00</td>\n      <td>-0.272011</td>\n      <td>0.000003</td>\n      <td>False</td>\n    </tr>\n  </tbody>\n</table>\n</div>"
     },
     "execution_count": 5,
     "metadata": {},
     "output_type": "execute_result"
    }
   ],
   "source": [
    "import pandas as pd\n",
    "X.evaluate_data(pd.DataFrame({\"x\":[3.0, 1.75, 2.0]}))\n",
    "\n",
    "# inspect the gathered data\n",
    "X.data"
   ],
   "metadata": {
    "collapsed": false,
    "ExecuteTime": {
     "end_time": "2024-07-30T21:51:37.431897300Z",
     "start_time": "2024-07-30T21:51:37.376896900Z"
    }
   }
  },
  {
   "cell_type": "code",
   "execution_count": 6,
   "outputs": [
    {
     "data": {
      "text/plain": "tensor([[2.2146],\n        [3.7854]], dtype=torch.float64)"
     },
     "execution_count": 6,
     "metadata": {},
     "output_type": "execute_result"
    }
   ],
   "source": [
    "# determine trust region from gathered data\n",
    "X.generator.train_model()\n",
    "X.generator.turbo_controller.update_state(X.generator)\n",
    "X.generator.turbo_controller.get_trust_region(X.generator)"
   ],
   "metadata": {
    "collapsed": false,
    "ExecuteTime": {
     "end_time": "2024-07-30T21:51:37.526895Z",
     "start_time": "2024-07-30T21:51:37.392926Z"
    }
   }
  },
  {
   "cell_type": "markdown",
   "source": [
    "## Do bayesian optimization steps\n",
    "Notice that when the number of successive successes or failures reaches 2 the trust\n",
    "region expands or contracts and counters are reset to zero. Counters are also reset\n",
    "to zero during alternate successes/failures. Finally, the model is most accurate\n",
    "inside the trust region, which supports our goal of local optimization."
   ],
   "metadata": {
    "collapsed": false
   }
  },
  {
   "cell_type": "code",
   "execution_count": null,
   "outputs": [],
   "source": [
    "import torch\n",
    "import matplotlib.pyplot as plt\n",
    "\n",
    "# test points for plotting\n",
    "test_x = torch.linspace(*X.vocs.bounds.flatten(),500).double()\n",
    "\n",
    "for i in range(30):\n",
    "\n",
    "    # get the Gaussian process model from the generator\n",
    "    model = X.generator.train_model()\n",
    "\n",
    "    # get trust region\n",
    "    trust_region = X.generator.turbo_controller.get_trust_region(generator)\\\n",
    "        .squeeze()\n",
    "    scale_factor = X.generator.turbo_controller.length\n",
    "    region_width = trust_region[1] - trust_region[0]\n",
    "    best_value = X.generator.turbo_controller.best_value\n",
    "\n",
    "    # get number of successes and failures\n",
    "    n_successes = X.generator.turbo_controller.success_counter\n",
    "    n_failures = X.generator.turbo_controller.failure_counter\n",
    "\n",
    "    # get acquisition function from generator\n",
    "    acq = X.generator.get_acquisition(model)\n",
    "\n",
    "    # calculate model posterior and acquisition function at each test point\n",
    "    # NOTE: need to add a dimension to the input tensor for evaluating the\n",
    "    # posterior and another for the acquisition function, see\n",
    "    # https://botorch.org/docs/batching for details\n",
    "    # NOTE: we use the `torch.no_grad()` environment to speed up computation by\n",
    "    # skipping calculations for backpropagation\n",
    "    with torch.no_grad():\n",
    "        posterior = model.posterior(test_x.unsqueeze(1))\n",
    "        acq_val = acq(test_x.reshape(-1,1,1))\n",
    "\n",
    "    # get mean function and confidence regions\n",
    "    mean = posterior.mean\n",
    "    l,u = posterior.mvn.confidence_region()\n",
    "\n",
    "    # plot model and acquisition function\n",
    "    fig,ax = plt.subplots(2,1,sharex=\"all\")\n",
    "\n",
    "    # add title for successes and failures\n",
    "    ax[0].set_title(f\"n_successes: {n_successes}, n_failures: {n_failures}, \"\n",
    "                    f\"scale_factor: {scale_factor}, region_width: {region_width:.2}, \"\n",
    "                    f\"best_value: {best_value:.4}\")\n",
    "\n",
    "    # plot model posterior\n",
    "    ax[0].plot(test_x, mean, label=\"Posterior mean\")\n",
    "    ax[0].fill_between(test_x, l, u,alpha=0.25, label=\"Confidence region\")\n",
    "\n",
    "    # add data to model plot\n",
    "    ax[0].plot(X.data[\"x\"],X.data[\"f\"],\"C1o\", label=\"Training data\")\n",
    "\n",
    "    # plot true function\n",
    "    true_f = sin_function({\"x\": test_x})[\"f\"]\n",
    "    ax[0].plot(test_x, true_f,'--', label=\"Ground truth\")\n",
    "\n",
    "    # add legend\n",
    "    ax[0].legend(fontsize=\"x-small\")\n",
    "\n",
    "    # plot acquisition function\n",
    "    ax[1].plot(test_x, acq_val.flatten())\n",
    "\n",
    "    ax[0].set_ylabel(\"f\")\n",
    "    ax[0].set_ylim(-12,10)\n",
    "    ax[1].set_ylabel(r\"$\\alpha(x)$\")\n",
    "    ax[1].set_xlabel(\"x\")\n",
    "\n",
    "    # plot trust region\n",
    "    for a in ax:\n",
    "        a.axvline(trust_region[0],c=\"r\")\n",
    "        a.axvline(trust_region[1],c=\"r\")\n",
    "\n",
    "    fig.tight_layout()\n",
    "    X.step()\n"
   ],
   "metadata": {
    "collapsed": false,
    "is_executing": true,
    "ExecuteTime": {
     "start_time": "2024-07-30T21:51:37.530895900Z"
    }
   }
  },
  {
   "cell_type": "code",
   "execution_count": null,
   "outputs": [],
   "source": [
    "# access the collected data\n",
    "X.generator.turbo_controller"
   ],
   "metadata": {
    "collapsed": false,
    "is_executing": true
   }
  },
  {
   "cell_type": "code",
   "execution_count": null,
   "outputs": [],
   "source": [
    "X.data"
   ],
   "metadata": {
    "collapsed": false,
    "is_executing": true
   }
  },
  {
   "cell_type": "code",
   "execution_count": null,
   "outputs": [],
   "source": [
    "list(model.named_parameters())"
   ],
   "metadata": {
    "collapsed": false,
    "is_executing": true
   }
  }
 ],
 "metadata": {
  "kernelspec": {
   "display_name": "Python 3",
   "language": "python",
   "name": "python3"
  },
  "language_info": {
   "codemirror_mode": {
    "name": "ipython",
    "version": 2
   },
   "file_extension": ".py",
   "mimetype": "text/x-python",
   "name": "python",
   "nbconvert_exporter": "python",
   "pygments_lexer": "ipython2",
   "version": "2.7.6"
  }
 },
 "nbformat": 4,
 "nbformat_minor": 0
}
