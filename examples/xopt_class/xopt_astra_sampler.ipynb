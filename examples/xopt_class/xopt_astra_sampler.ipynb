{
 "cells": [
  {
   "cell_type": "code",
   "execution_count": 1,
   "metadata": {},
   "outputs": [],
   "source": [
    "# Useful for debugging\n",
    "%load_ext autoreload\n",
    "%autoreload 2"
   ]
  },
  {
   "cell_type": "markdown",
   "metadata": {},
   "source": [
    "# Xopt class, Astra kekgun example\n",
    "\n",
    "This is the class method for running Xopt."
   ]
  },
  {
   "cell_type": "code",
   "execution_count": 2,
   "metadata": {},
   "outputs": [],
   "source": [
    "from xopt import Xopt"
   ]
  },
  {
   "cell_type": "code",
   "execution_count": 3,
   "metadata": {},
   "outputs": [],
   "source": [
    "# Make a proper input file. \n",
    "YAML=\"\"\"\n",
    "xopt: {output_path: temp, verbose: true,\n",
    "  algorithm: random_sampler}\n",
    "  \n",
    "algorithm:\n",
    "  name: random_sampler\n",
    "  options: {verbose: T, chunk_size: 4, max_samples: 10} \n",
    "\n",
    "simulation:\n",
    "  name: astra_with_generator\n",
    "  evaluate: astra.evaluate.evaluate_astra_with_generator\n",
    "\n",
    "# Note that you can call another file in the top level group:\n",
    "vocs: ../templates/kekgun/kekgun_vocs.yaml\n",
    "\n",
    "\"\"\""
   ]
  },
  {
   "cell_type": "code",
   "execution_count": 4,
   "metadata": {},
   "outputs": [],
   "source": [
    "!mkdir temp/"
   ]
  },
  {
   "cell_type": "code",
   "execution_count": 5,
   "metadata": {},
   "outputs": [
    {
     "name": "stdout",
     "output_type": "stream",
     "text": [
      "Loading config as text\n",
      "Warning: No path set for key simulation : options : archive_path\n"
     ]
    },
    {
     "data": {
      "text/plain": [
       "\n",
       "            Xopt \n",
       "________________________________           \n",
       "Version: 0.4.3\n",
       "Configured: True\n",
       "Config as YAML:\n",
       "xopt: {output_path: /Users/chrisonian/Code/GitHub/xopt/examples/xopt_class/temp, verbose: true,\n",
       "  algorithm: random_sampler}\n",
       "algorithm:\n",
       "  name: random_sampler\n",
       "  function: xopt.sampler.random_sampler\n",
       "  options: {verbose: T, chunk_size: 4, max_samples: 10}\n",
       "simulation:\n",
       "  name: astra_with_generator\n",
       "  evaluate: astra.evaluate.evaluate_astra_with_generator\n",
       "  options: {astra_input_file: /Users/chrisonian/Code/GitHub/xopt/examples/templates/kekgun/kekgun.in,\n",
       "    generator_input_file: /Users/chrisonian/Code/GitHub/xopt/examples/templates/kekgun/dist004.in,\n",
       "    workdir: null, astra_bin: /Users/chrisonian/Code/astra/bin/Astra, generator_bin: /Users/chrisonian/Code/astra/bin/generator,\n",
       "    timeout: 2500, verbose: false, auto_set_spacecharge_mesh: true, archive_path: null,\n",
       "    merit_f: null}\n",
       "vocs:\n",
       "  name: kekgun\n",
       "  description: Test case\n",
       "  simulation: astra_with_generator\n",
       "  templates: {astra_input_file: /Users/chrisonian/Code/GitHub/xopt/examples/templates/kekgun/kekgun.in,\n",
       "    generator_input_file: /Users/chrisonian/Code/GitHub/xopt/examples/templates/kekgun/dist004.in}\n",
       "  variables:\n",
       "    sig_x: [0.05, 1]\n",
       "    lt: [0.005, 0.07]\n",
       "    maxe(1): [20, 50]\n",
       "    phi(1): [-30, 30]\n",
       "    maxb(1): [0, 0.4]\n",
       "    maxe(2): [0, 32]\n",
       "    phi(2): [-180, 180]\n",
       "    maxb(2): [0, 0.3]\n",
       "    maxe(3): [0, 32]\n",
       "    maxe(4): [0, 32]\n",
       "    phi(3): [-45, 45]\n",
       "    phi(4): [-45, 45]\n",
       "    phi(6): [-45, 45]\n",
       "  constants: {ipart: 1000, lspch: true, zstop: 0.2}\n",
       "  objectives: {end_core_emit_95percent_x: MINIMIZE, end_sigma_z: MINIMIZE}\n",
       "  constraints:\n",
       "    end_sigma_z: [LESS_THAN, 0.0015]\n",
       "    end_core_emit_95percent_x: [LESS_THAN, 9.0e-07]\n",
       "    end_sigma_energy: [LESS_THAN, 200000.0]\n",
       "    end_higher_order_energy_spread: [LESS_THAN, 5000.0]\n",
       "    end_mean_kinetic_energy: [GREATER_THAN, 90000000.0]\n",
       "    end_n_particle_loss: [LESS_THAN, 1]\n",
       "  linked_variables: null"
      ]
     },
     "execution_count": 5,
     "metadata": {},
     "output_type": "execute_result"
    }
   ],
   "source": [
    "# Create object\n",
    "X = Xopt(config=YAML)\n",
    "\n",
    "# Change some things to make it run faster\n",
    "X.vocs['constants']['lspch'] = True\n",
    "X.vocs['constants']['ipart'] = 1000\n",
    "X.vocs['constants']['zstop'] = 0.2\n",
    "\n",
    "# Show config\n",
    "X"
   ]
  },
  {
   "cell_type": "code",
   "execution_count": 6,
   "metadata": {},
   "outputs": [
    {
     "data": {
      "text/plain": [
       "{'sig_x': 0.8112627139540572,\n",
       " 'lt': 0.040574215009832375,\n",
       " 'maxe(1)': 46.07430730403743,\n",
       " 'phi(1)': -3.4895583489880195,\n",
       " 'maxb(1)': 0.20489241336611724,\n",
       " 'maxe(2)': 20.570341604498818,\n",
       " 'phi(2)': 118.27798902745883,\n",
       " 'maxb(2)': 0.22158153998913704,\n",
       " 'maxe(3)': 15.200304032023617,\n",
       " 'maxe(4)': 25.23616457183176,\n",
       " 'phi(3)': 25.622814087636154,\n",
       " 'phi(4)': -16.920014300370234,\n",
       " 'phi(6)': -32.47544828877611,\n",
       " 'ipart': 1000,\n",
       " 'lspch': True,\n",
       " 'zstop': 0.2}"
      ]
     },
     "execution_count": 6,
     "metadata": {},
     "output_type": "execute_result"
    }
   ],
   "source": [
    "# Check random inputs \n",
    "X.random_inputs()"
   ]
  },
  {
   "cell_type": "code",
   "execution_count": 7,
   "metadata": {},
   "outputs": [
    {
     "name": "stdout",
     "output_type": "stream",
     "text": [
      "CPU times: user 105 ms, sys: 32.6 ms, total: 138 ms\n",
      "Wall time: 10.2 s\n"
     ]
    },
    {
     "data": {
      "text/plain": [
       "{'error': False,\n",
       " 'end_mean_z': 0.2,\n",
       " 'end_norm_emit_x': 1.2313e-06,\n",
       " 'end_core_emit_95percent_x': 9.594899999999998e-07,\n",
       " 'end_core_emit_90percent_x': 7.731099999999999e-07,\n",
       " 'end_core_emit_80percent_x': 5.120400000000001e-07,\n",
       " 'end_norm_emit_y': 1.2502e-06,\n",
       " 'end_core_emit_95percent_y': 9.6353e-07,\n",
       " 'end_core_emit_90percent_y': 7.815e-07,\n",
       " 'end_core_emit_80percent_y': 5.1746e-07,\n",
       " 'end_norm_emit_z': 7.4347,\n",
       " 'end_core_emit_95percent_z': 5.7385e-06,\n",
       " 'end_core_emit_905percent_z': 4.7812999999999994e-06,\n",
       " 'end_core_emit_80percent_z': 3.4685e-06,\n",
       " 'end_mean_t': 7.3598e-10,\n",
       " 'end_mean_x': 2.8084e-06,\n",
       " 'end_sigma_x': 0.0016661999999999998,\n",
       " 'end_sigma_xp': 0.0076426,\n",
       " 'end_cov_x__xp': 1.273193406e-05,\n",
       " 'end_mean_y': 2.8924e-06,\n",
       " 'end_sigma_y': 0.0016661999999999998,\n",
       " 'end_sigma_yp': 0.007644300000000001,\n",
       " 'end_cov_y__yp': 1.2734766599999999e-05,\n",
       " 'end_mean_kinetic_energy': 2197300.0,\n",
       " 'end_sigma_z': 0.0019687,\n",
       " 'end_sigma_energy': 32328.000000000004,\n",
       " 'end_cov_z__energy': -63.209050899999994,\n",
       " 'end_n_particle_loss': 0,\n",
       " 'end_total_charge': 9.989999999999999e-11,\n",
       " 'end_higher_order_energy_spread': 1364.7225032691965,\n",
       " 'fingerprint': '3da6a4b70bcbca5d9d41e61a48f3b3d8'}"
      ]
     },
     "execution_count": 7,
     "metadata": {},
     "output_type": "execute_result"
    }
   ],
   "source": [
    "%%time\n",
    "# Do a random evaluate to check that everything will run\n",
    "output = X.random_evaluate()\n",
    "output"
   ]
  },
  {
   "cell_type": "code",
   "execution_count": 8,
   "metadata": {},
   "outputs": [
    {
     "data": {
      "text/plain": [
       "{'verbose': 'T', 'chunk_size': 4, 'max_samples': 10}"
      ]
     },
     "execution_count": 8,
     "metadata": {},
     "output_type": "execute_result"
    }
   ],
   "source": [
    "# These are the algorithm options\n",
    "X.algorithm['options']"
   ]
  },
  {
   "cell_type": "code",
   "execution_count": 9,
   "metadata": {},
   "outputs": [
    {
     "data": {
      "text/plain": [
       "{'astra_input_file': '/Users/chrisonian/Code/GitHub/xopt/examples/templates/kekgun/kekgun.in',\n",
       " 'generator_input_file': '/Users/chrisonian/Code/GitHub/xopt/examples/templates/kekgun/dist004.in',\n",
       " 'workdir': None,\n",
       " 'astra_bin': '/Users/chrisonian/Code/astra/bin/Astra',\n",
       " 'generator_bin': '/Users/chrisonian/Code/astra/bin/generator',\n",
       " 'timeout': 2500,\n",
       " 'verbose': False,\n",
       " 'auto_set_spacecharge_mesh': True,\n",
       " 'archive_path': None,\n",
       " 'merit_f': None}"
      ]
     },
     "execution_count": 9,
     "metadata": {},
     "output_type": "execute_result"
    }
   ],
   "source": [
    "# These are the options in the evaluate function\n",
    "X.simulation['options']"
   ]
  },
  {
   "cell_type": "markdown",
   "metadata": {},
   "source": [
    "# Run Sampler using processes or threads"
   ]
  },
  {
   "cell_type": "code",
   "execution_count": 10,
   "metadata": {},
   "outputs": [],
   "source": [
    "from concurrent.futures import ProcessPoolExecutor as PoolExecutor\n",
    "#from concurrent.futures import ThreadPoolExecutor as PoolExecutor\n",
    "executor = PoolExecutor()"
   ]
  },
  {
   "cell_type": "code",
   "execution_count": 11,
   "metadata": {},
   "outputs": [
    {
     "name": "stdout",
     "output_type": "stream",
     "text": [
      "Starting at time 2021-08-10T20:26:39-07:00\n",
      "\n",
      "\n",
      "███████╗ █████╗ ███╗   ███╗██████╗ ██╗     ███████╗██████╗ \n",
      "██╔════╝██╔══██╗████╗ ████║██╔══██╗██║     ██╔════╝██╔══██╗\n",
      "███████╗███████║██╔████╔██║██████╔╝██║     █████╗  ██████╔╝\n",
      "╚════██║██╔══██║██║╚██╔╝██║██╔═══╝ ██║     ██╔══╝  ██╔══██╗\n",
      "███████║██║  ██║██║ ╚═╝ ██║██║     ███████╗███████╗██║  ██║\n",
      "╚══════╝╚═╝  ╚═╝╚═╝     ╚═╝╚═╝     ╚══════╝╚══════╝╚═╝  ╚═╝\n",
      "                                                           \n",
      "\n",
      "Xopt Random Sampler\n",
      "Version 0.4.3\n",
      "\n",
      "....4 samples completed in 0.28275 minutes\n",
      "Samples written to:\n",
      " /Users/chrisonian/Code/GitHub/xopt/examples/xopt_class/temp/sampler-2021-08-10-1.json\n",
      "....4 samples completed in 0.28853 minutes\n",
      "Samples written to:\n",
      " /Users/chrisonian/Code/GitHub/xopt/examples/xopt_class/temp/sampler-2021-08-10-2.json\n",
      "..."
     ]
    }
   ],
   "source": [
    "# Show config\n",
    "X.run(executor)"
   ]
  },
  {
   "cell_type": "code",
   "execution_count": 12,
   "metadata": {},
   "outputs": [
    {
     "data": {
      "text/plain": [
       "[False, False, False, False, False, False, False, False, False, False, False]"
      ]
     },
     "execution_count": 12,
     "metadata": {},
     "output_type": "execute_result"
    }
   ],
   "source": [
    "# Check for errors\n",
    "X.results['error']"
   ]
  },
  {
   "cell_type": "markdown",
   "metadata": {},
   "source": [
    "# Write this configuration"
   ]
  },
  {
   "cell_type": "code",
   "execution_count": 13,
   "metadata": {},
   "outputs": [
    {
     "name": "stdout",
     "output_type": "stream",
     "text": [
      "Config written as YAML to test.yaml\n"
     ]
    }
   ],
   "source": [
    "X.save('test.yaml')"
   ]
  },
  {
   "cell_type": "code",
   "execution_count": 14,
   "metadata": {},
   "outputs": [
    {
     "name": "stdout",
     "output_type": "stream",
     "text": [
      "xopt: {output_path: /Users/chrisonian/Code/GitHub/xopt/examples/xopt_class/temp, verbose: true,\n",
      "  algorithm: random_sampler}\n",
      "algorithm:\n",
      "  name: random_sampler\n",
      "  function: xopt.sampler.random_sampler\n",
      "  options: {verbose: T, chunk_size: 4, max_samples: 10}\n",
      "simulation:\n",
      "  name: astra_with_generator\n",
      "  evaluate: astra.evaluate.evaluate_astra_with_generator\n",
      "  options: {astra_input_file: /Users/chrisonian/Code/GitHub/xopt/examples/templates/kekgun/kekgun.in,\n",
      "    generator_input_file: /Users/chrisonian/Code/GitHub/xopt/examples/templates/kekgun/dist004.in,\n",
      "    workdir: null, astra_bin: /Users/chrisonian/Code/astra/bin/Astra, generator_bin: /Users/chrisonian/Code/astra/bin/generator,\n",
      "    timeout: 2500, verbose: false, auto_set_spacecharge_mesh: true, archive_path: null,\n",
      "    merit_f: null}\n",
      "vocs:\n",
      "  name: kekgun\n",
      "  description: Test case\n",
      "  simulation: astra_with_generator\n",
      "  templates: {astra_input_file: /Users/chrisonian/Code/GitHub/xopt/examples/templates/kekgun/kekgun.in,\n",
      "    generator_input_file: /Users/chrisonian/Code/GitHub/xopt/examples/templates/kekgun/dist004.in}\n",
      "  variables:\n",
      "    sig_x: [0.05, 1]\n",
      "    lt: [0.005, 0.07]\n",
      "    maxe(1): [20, 50]\n",
      "    phi(1): [-30, 30]\n",
      "    maxb(1): [0, 0.4]\n",
      "    maxe(2): [0, 32]\n",
      "    phi(2): [-180, 180]\n",
      "    maxb(2): [0, 0.3]\n",
      "    maxe(3): [0, 32]\n",
      "    maxe(4): [0, 32]\n",
      "    phi(3): [-45, 45]\n",
      "    phi(4): [-45, 45]\n",
      "    phi(6): [-45, 45]\n",
      "  constants: {ipart: 1000, lspch: true, zstop: 0.2}\n",
      "  objectives: {end_core_emit_95percent_x: MINIMIZE, end_sigma_z: MINIMIZE}\n",
      "  constraints:\n",
      "    end_sigma_z: [LESS_THAN, 0.0015]\n",
      "    end_core_emit_95percent_x: [LESS_THAN, 9.0e-07]\n",
      "    end_sigma_energy: [LESS_THAN, 200000.0]\n",
      "    end_higher_order_energy_spread: [LESS_THAN, 5000.0]\n",
      "    end_mean_kinetic_energy: [GREATER_THAN, 90000000.0]\n",
      "    end_n_particle_loss: [LESS_THAN, 1]\n",
      "  linked_variables: null\n"
     ]
    }
   ],
   "source": [
    "!cat test.yaml"
   ]
  },
  {
   "cell_type": "markdown",
   "metadata": {},
   "source": [
    "# Run with MPI"
   ]
  },
  {
   "cell_type": "code",
   "execution_count": 15,
   "metadata": {},
   "outputs": [
    {
     "name": "stdout",
     "output_type": "stream",
     "text": [
      "  _   \n",
      "                | |  \n",
      "__  _____  _ __ | |_ \n",
      "\\ \\/ / _ \\| '_ \\| __|\n",
      " >  < (_) | |_) | |_ \n",
      "/_/\\_\\___/| .__/ \\__|\n",
      "          | |        \n",
      "          |_|        \n",
      "\n",
      "_________________________________\n",
      "Parallel execution with 4 workers\n",
      "Loading as YAML file: test.yaml\n",
      "Warning: No path set for key simulation : options : archive_path\n",
      "\n",
      "            Xopt \n",
      "________________________________           \n",
      "Version: 0.4.3\n",
      "Configured: True\n",
      "Config as YAML:\n",
      "xopt: {output_path: /Users/chrisonian/Code/GitHub/xopt/examples/xopt_class/temp, verbose: true,\n",
      "  algorithm: random_sampler}\n",
      "algorithm:\n",
      "  name: random_sampler\n",
      "  function: xopt.sampler.random_sampler\n",
      "  options: {verbose: T, chunk_size: 4, max_samples: 10}\n",
      "simulation:\n",
      "  name: astra_with_generator\n",
      "  evaluate: astra.evaluate.evaluate_astra_with_generator\n",
      "  options: {astra_input_file: /Users/chrisonian/Code/GitHub/xopt/examples/templates/kekgun/kekgun.in,\n",
      "    generator_input_file: /Users/chrisonian/Code/GitHub/xopt/examples/templates/kekgun/dist004.in,\n",
      "    workdir: null, astra_bin: /Users/chrisonian/Code/astra/bin/Astra, generator_bin: /Users/chrisonian/Code/astra/bin/generator,\n",
      "    timeout: 2500, verbose: false, auto_set_spacecharge_mesh: true, archive_path: null,\n",
      "    merit_f: null}\n",
      "vocs:\n",
      "  name: kekgun\n",
      "  description: Test case\n",
      "  simulation: astra_with_generator\n",
      "  templates: {astra_input_file: /Users/chrisonian/Code/GitHub/xopt/examples/templates/kekgun/kekgun.in,\n",
      "    generator_input_file: /Users/chrisonian/Code/GitHub/xopt/examples/templates/kekgun/dist004.in}\n",
      "  variables:\n",
      "    sig_x: [0.05, 1]\n",
      "    lt: [0.005, 0.07]\n",
      "    maxe(1): [20, 50]\n",
      "    phi(1): [-30, 30]\n",
      "    maxb(1): [0, 0.4]\n",
      "    maxe(2): [0, 32]\n",
      "    phi(2): [-180, 180]\n",
      "    maxb(2): [0, 0.3]\n",
      "    maxe(3): [0, 32]\n",
      "    maxe(4): [0, 32]\n",
      "    phi(3): [-45, 45]\n",
      "    phi(4): [-45, 45]\n",
      "    phi(6): [-45, 45]\n",
      "  constants: {ipart: 1000, lspch: true, zstop: 0.2}\n",
      "  objectives: {end_core_emit_95percent_x: MINIMIZE, end_sigma_z: MINIMIZE}\n",
      "  constraints:\n",
      "    end_sigma_z: [LESS_THAN, 0.0015]\n",
      "    end_core_emit_95percent_x: [LESS_THAN, 9.0e-07]\n",
      "    end_sigma_energy: [LESS_THAN, 200000.0]\n",
      "    end_higher_order_energy_spread: [LESS_THAN, 5000.0]\n",
      "    end_mean_kinetic_energy: [GREATER_THAN, 90000000.0]\n",
      "    end_n_particle_loss: [LESS_THAN, 1]\n",
      "  linked_variables: null\n",
      "\n",
      "Starting at time 2021-08-10T20:27:28-07:00\n",
      "\n",
      "\n",
      "███████╗ █████╗ ███╗   ███╗██████╗ ██╗     ███████╗██████╗ \n",
      "██╔════╝██╔══██╗████╗ ████║██╔══██╗██║     ██╔════╝██╔══██╗\n",
      "███████╗███████║██╔████╔██║██████╔╝██║     █████╗  ██████╔╝\n",
      "╚════██║██╔══██║██║╚██╔╝██║██╔═══╝ ██║     ██╔══╝  ██╔══██╗\n",
      "███████║██║  ██║██║ ╚═╝ ██║██║     ███████╗███████╗██║  ██║\n",
      "╚══════╝╚═╝  ╚═╝╚═╝     ╚═╝╚═╝     ╚══════╝╚══════╝╚═╝  ╚═╝\n",
      "                                                           \n",
      "\n",
      "Xopt Random Sampler\n",
      "Version 0.4.3\n",
      "\n",
      "....4 samples completed in 0.50558 minutes\n",
      "Samples written to:\n",
      " /Users/chrisonian/Code/GitHub/xopt/examples/xopt_class/temp/sampler-2021-08-10-3.json\n",
      "....4 samples completed in 0.16587 minutes\n",
      "Samples written to:\n",
      " /Users/chrisonian/Code/GitHub/xopt/examples/xopt_class/temp/sampler-2021-08-10-4.json\n",
      "..."
     ]
    }
   ],
   "source": [
    "!mpirun -n 4 python -m mpi4py.futures -m xopt.mpi.run test.yaml"
   ]
  },
  {
   "cell_type": "markdown",
   "metadata": {},
   "source": [
    "# Dask "
   ]
  },
  {
   "cell_type": "code",
   "execution_count": 16,
   "metadata": {},
   "outputs": [
    {
     "name": "stderr",
     "output_type": "stream",
     "text": [
      "/Users/chrisonian/Code/miniconda3/envs/devel/lib/python3.9/site-packages/distributed/node.py:160: UserWarning: Port 8787 is already in use.\n",
      "Perhaps you already have a cluster running?\n",
      "Hosting the HTTP server on port 57907 instead\n",
      "  warnings.warn(\n"
     ]
    },
    {
     "data": {
      "text/html": [
       "\n",
       "            <div>\n",
       "                <div style=\"\n",
       "                    width: 24px;\n",
       "                    height: 24px;\n",
       "                    background-color: #e1e1e1;\n",
       "                    border: 3px solid #9D9D9D;\n",
       "                    border-radius: 5px;\n",
       "                    position: absolute;\"> </div>\n",
       "                <div style=\"margin-left: 48px;\">\n",
       "                    <h3 style=\"margin-bottom: 0px;\">Client</h3>\n",
       "                    <p style=\"color: #9D9D9D; margin-bottom: 0px;\">Client-31407cf8-fa54-11eb-91ed-acde48001122</p>\n",
       "                    <table style=\"width: 100%; text-align: left;\">\n",
       "                    \n",
       "                <tr>\n",
       "                    <td style=\"text-align: left;\"><strong>Connection method:</strong> Cluster object</td>\n",
       "                    <td style=\"text-align: left;\"><strong>Cluster type:</strong> LocalCluster</td>\n",
       "                </tr>\n",
       "                \n",
       "                <tr>\n",
       "                    <td style=\"text-align: left;\">\n",
       "                        <strong>Dashboard: </strong>\n",
       "                        <a href=\"http://127.0.0.1:57907/status\">http://127.0.0.1:57907/status</a>\n",
       "                    </td>\n",
       "                    <td style=\"text-align: left;\"></td>\n",
       "                </tr>\n",
       "                \n",
       "                    </table>\n",
       "                    \n",
       "                <details>\n",
       "                <summary style=\"margin-bottom: 20px;\"><h3 style=\"display: inline;\">Cluster Info</h3></summary>\n",
       "                \n",
       "            <div class=\"jp-RenderedHTMLCommon jp-RenderedHTML jp-mod-trusted jp-OutputArea-output\">\n",
       "                <div style=\"\n",
       "                    width: 24px;\n",
       "                    height: 24px;\n",
       "                    background-color: #e1e1e1;\n",
       "                    border: 3px solid #9D9D9D;\n",
       "                    border-radius: 5px;\n",
       "                    position: absolute;\"> </div>\n",
       "                <div style=\"margin-left: 48px;\">\n",
       "                    <h3 style=\"margin-bottom: 0px; margin-top: 0px;\">LocalCluster</h3>\n",
       "                    <p style=\"color: #9D9D9D; margin-bottom: 0px;\">4e6ccf62</p>\n",
       "                    <table style=\"width: 100%; text-align: left;\">\n",
       "                    \n",
       "            <tr>\n",
       "                <td style=\"text-align: left;\"><strong>Status:</strong> running</td>\n",
       "                <td style=\"text-align: left;\"><strong>Using processes:</strong> True</td>\n",
       "            </tr>\n",
       "        \n",
       "            <tr>\n",
       "                <td style=\"text-align: left;\">\n",
       "                    <strong>Dashboard:</strong> <a href=\"http://127.0.0.1:57907/status\">http://127.0.0.1:57907/status</a>\n",
       "                </td>\n",
       "                <td style=\"text-align: left;\"><strong>Workers:</strong> 4</td>\n",
       "            </tr>\n",
       "            <tr>\n",
       "                <td style=\"text-align: left;\">\n",
       "                    <strong>Total threads:</strong>\n",
       "                    8\n",
       "                </td>\n",
       "                <td style=\"text-align: left;\">\n",
       "                    <strong>Total memory:</strong>\n",
       "                    16.00 GiB\n",
       "                </td>\n",
       "            </tr>\n",
       "        \n",
       "                    </table>\n",
       "                    <details>\n",
       "                    <summary style=\"margin-bottom: 20px;\"><h3 style=\"display: inline;\">Scheduler Info</h3></summary>\n",
       "                    \n",
       "        <div style=\"\">\n",
       "            \n",
       "            <div>\n",
       "                <div style=\"\n",
       "                    width: 24px;\n",
       "                    height: 24px;\n",
       "                    background-color: #FFF7E5;\n",
       "                    border: 3px solid #FF6132;\n",
       "                    border-radius: 5px;\n",
       "                    position: absolute;\"> </div>\n",
       "                <div style=\"margin-left: 48px;\">\n",
       "                    <h3 style=\"margin-bottom: 0px;\">Scheduler</h3>\n",
       "                    <p style=\"color: #9D9D9D; margin-bottom: 0px;\">Scheduler-18626c38-3768-49bc-9fb9-4f4a084e4dbe</p>\n",
       "                    <table style=\"width: 100%; text-align: left;\">\n",
       "                        <tr>\n",
       "                            <td style=\"text-align: left;\"><strong>Comm:</strong> tcp://127.0.0.1:57908</td>\n",
       "                            <td style=\"text-align: left;\"><strong>Workers:</strong> 4</td>\n",
       "                        </tr>\n",
       "                        <tr>\n",
       "                            <td style=\"text-align: left;\">\n",
       "                                <strong>Dashboard:</strong> <a href=\"http://127.0.0.1:57907/status\">http://127.0.0.1:57907/status</a>\n",
       "                            </td>\n",
       "                            <td style=\"text-align: left;\">\n",
       "                                <strong>Total threads:</strong>\n",
       "                                8\n",
       "                            </td>\n",
       "                        </tr>\n",
       "                        <tr>\n",
       "                            <td style=\"text-align: left;\">\n",
       "                                <strong>Started:</strong>\n",
       "                                Just now\n",
       "                            </td>\n",
       "                            <td style=\"text-align: left;\">\n",
       "                                <strong>Total memory:</strong>\n",
       "                                16.00 GiB\n",
       "                            </td>\n",
       "                        </tr>\n",
       "                    </table>\n",
       "                </div>\n",
       "            </div>\n",
       "        \n",
       "            <details style=\"margin-left: 48px;\">\n",
       "            <summary style=\"margin-bottom: 20px;\"><h3 style=\"display: inline;\">Workers</h3></summary>\n",
       "            \n",
       "            <div style=\"margin-bottom: 20px;\">\n",
       "                <div style=\"width: 24px;\n",
       "                            height: 24px;\n",
       "                            background-color: #DBF5FF;\n",
       "                            border: 3px solid #4CC9FF;\n",
       "                            border-radius: 5px;\n",
       "                            position: absolute;\"> </div>\n",
       "                <div style=\"margin-left: 48px;\">\n",
       "                <details>\n",
       "                    <summary>\n",
       "                        <h4 style=\"margin-bottom: 0px; display: inline;\">Worker: 0</h4>\n",
       "                    </summary>\n",
       "                    <table style=\"width: 100%; text-align: left;\">\n",
       "                        <tr>\n",
       "                            <td style=\"text-align: left;\"><strong>Comm: </strong> tcp://127.0.0.1:57920</td>\n",
       "                            <td style=\"text-align: left;\"><strong>Total threads: </strong> 2</td>\n",
       "                        </tr>\n",
       "                        <tr>\n",
       "                            <td style=\"text-align: left;\">\n",
       "                                <strong>Dashboard: </strong>\n",
       "                                <a href=\"http://127.0.0.1:57925/status\">http://127.0.0.1:57925/status</a>\n",
       "                            </td>\n",
       "                            <td style=\"text-align: left;\">\n",
       "                                <strong>Memory: </strong>\n",
       "                                4.00 GiB\n",
       "                            </td>\n",
       "                        </tr>\n",
       "                        <tr>\n",
       "                            <td style=\"text-align: left;\"><strong>Nanny: </strong> tcp://127.0.0.1:57910</td>\n",
       "                            <td style=\"text-align: left;\"></td>\n",
       "                        </tr>\n",
       "                        <tr>\n",
       "                            <td colspan=\"2\" style=\"text-align: left;\">\n",
       "                                <strong>Local directory: </strong>\n",
       "                                /Users/chrisonian/Code/GitHub/xopt/examples/xopt_class/dask-worker-space/worker-j3cefqk_\n",
       "                            </td>\n",
       "                        </tr>\n",
       "                        \n",
       "                        \n",
       "                    </table>\n",
       "                </details>\n",
       "                </div>\n",
       "            </div>\n",
       "            \n",
       "            <div style=\"margin-bottom: 20px;\">\n",
       "                <div style=\"width: 24px;\n",
       "                            height: 24px;\n",
       "                            background-color: #DBF5FF;\n",
       "                            border: 3px solid #4CC9FF;\n",
       "                            border-radius: 5px;\n",
       "                            position: absolute;\"> </div>\n",
       "                <div style=\"margin-left: 48px;\">\n",
       "                <details>\n",
       "                    <summary>\n",
       "                        <h4 style=\"margin-bottom: 0px; display: inline;\">Worker: 1</h4>\n",
       "                    </summary>\n",
       "                    <table style=\"width: 100%; text-align: left;\">\n",
       "                        <tr>\n",
       "                            <td style=\"text-align: left;\"><strong>Comm: </strong> tcp://127.0.0.1:57921</td>\n",
       "                            <td style=\"text-align: left;\"><strong>Total threads: </strong> 2</td>\n",
       "                        </tr>\n",
       "                        <tr>\n",
       "                            <td style=\"text-align: left;\">\n",
       "                                <strong>Dashboard: </strong>\n",
       "                                <a href=\"http://127.0.0.1:57923/status\">http://127.0.0.1:57923/status</a>\n",
       "                            </td>\n",
       "                            <td style=\"text-align: left;\">\n",
       "                                <strong>Memory: </strong>\n",
       "                                4.00 GiB\n",
       "                            </td>\n",
       "                        </tr>\n",
       "                        <tr>\n",
       "                            <td style=\"text-align: left;\"><strong>Nanny: </strong> tcp://127.0.0.1:57913</td>\n",
       "                            <td style=\"text-align: left;\"></td>\n",
       "                        </tr>\n",
       "                        <tr>\n",
       "                            <td colspan=\"2\" style=\"text-align: left;\">\n",
       "                                <strong>Local directory: </strong>\n",
       "                                /Users/chrisonian/Code/GitHub/xopt/examples/xopt_class/dask-worker-space/worker-jpg7ttyo\n",
       "                            </td>\n",
       "                        </tr>\n",
       "                        \n",
       "                        \n",
       "                    </table>\n",
       "                </details>\n",
       "                </div>\n",
       "            </div>\n",
       "            \n",
       "            <div style=\"margin-bottom: 20px;\">\n",
       "                <div style=\"width: 24px;\n",
       "                            height: 24px;\n",
       "                            background-color: #DBF5FF;\n",
       "                            border: 3px solid #4CC9FF;\n",
       "                            border-radius: 5px;\n",
       "                            position: absolute;\"> </div>\n",
       "                <div style=\"margin-left: 48px;\">\n",
       "                <details>\n",
       "                    <summary>\n",
       "                        <h4 style=\"margin-bottom: 0px; display: inline;\">Worker: 2</h4>\n",
       "                    </summary>\n",
       "                    <table style=\"width: 100%; text-align: left;\">\n",
       "                        <tr>\n",
       "                            <td style=\"text-align: left;\"><strong>Comm: </strong> tcp://127.0.0.1:57919</td>\n",
       "                            <td style=\"text-align: left;\"><strong>Total threads: </strong> 2</td>\n",
       "                        </tr>\n",
       "                        <tr>\n",
       "                            <td style=\"text-align: left;\">\n",
       "                                <strong>Dashboard: </strong>\n",
       "                                <a href=\"http://127.0.0.1:57924/status\">http://127.0.0.1:57924/status</a>\n",
       "                            </td>\n",
       "                            <td style=\"text-align: left;\">\n",
       "                                <strong>Memory: </strong>\n",
       "                                4.00 GiB\n",
       "                            </td>\n",
       "                        </tr>\n",
       "                        <tr>\n",
       "                            <td style=\"text-align: left;\"><strong>Nanny: </strong> tcp://127.0.0.1:57912</td>\n",
       "                            <td style=\"text-align: left;\"></td>\n",
       "                        </tr>\n",
       "                        <tr>\n",
       "                            <td colspan=\"2\" style=\"text-align: left;\">\n",
       "                                <strong>Local directory: </strong>\n",
       "                                /Users/chrisonian/Code/GitHub/xopt/examples/xopt_class/dask-worker-space/worker-58xolzik\n",
       "                            </td>\n",
       "                        </tr>\n",
       "                        \n",
       "                        \n",
       "                    </table>\n",
       "                </details>\n",
       "                </div>\n",
       "            </div>\n",
       "            \n",
       "            <div style=\"margin-bottom: 20px;\">\n",
       "                <div style=\"width: 24px;\n",
       "                            height: 24px;\n",
       "                            background-color: #DBF5FF;\n",
       "                            border: 3px solid #4CC9FF;\n",
       "                            border-radius: 5px;\n",
       "                            position: absolute;\"> </div>\n",
       "                <div style=\"margin-left: 48px;\">\n",
       "                <details>\n",
       "                    <summary>\n",
       "                        <h4 style=\"margin-bottom: 0px; display: inline;\">Worker: 3</h4>\n",
       "                    </summary>\n",
       "                    <table style=\"width: 100%; text-align: left;\">\n",
       "                        <tr>\n",
       "                            <td style=\"text-align: left;\"><strong>Comm: </strong> tcp://127.0.0.1:57918</td>\n",
       "                            <td style=\"text-align: left;\"><strong>Total threads: </strong> 2</td>\n",
       "                        </tr>\n",
       "                        <tr>\n",
       "                            <td style=\"text-align: left;\">\n",
       "                                <strong>Dashboard: </strong>\n",
       "                                <a href=\"http://127.0.0.1:57922/status\">http://127.0.0.1:57922/status</a>\n",
       "                            </td>\n",
       "                            <td style=\"text-align: left;\">\n",
       "                                <strong>Memory: </strong>\n",
       "                                4.00 GiB\n",
       "                            </td>\n",
       "                        </tr>\n",
       "                        <tr>\n",
       "                            <td style=\"text-align: left;\"><strong>Nanny: </strong> tcp://127.0.0.1:57911</td>\n",
       "                            <td style=\"text-align: left;\"></td>\n",
       "                        </tr>\n",
       "                        <tr>\n",
       "                            <td colspan=\"2\" style=\"text-align: left;\">\n",
       "                                <strong>Local directory: </strong>\n",
       "                                /Users/chrisonian/Code/GitHub/xopt/examples/xopt_class/dask-worker-space/worker-efsswo44\n",
       "                            </td>\n",
       "                        </tr>\n",
       "                        \n",
       "                        \n",
       "                    </table>\n",
       "                </details>\n",
       "                </div>\n",
       "            </div>\n",
       "            \n",
       "            </details>\n",
       "        </div>\n",
       "        \n",
       "                    </details>\n",
       "                </div>\n",
       "            </div>\n",
       "        \n",
       "                </details>\n",
       "                \n",
       "                </div>\n",
       "            </div>\n",
       "        "
      ],
      "text/plain": [
       "<Client: 'tcp://127.0.0.1:57908' processes=4 threads=8, memory=16.00 GiB>"
      ]
     },
     "execution_count": 16,
     "metadata": {},
     "output_type": "execute_result"
    }
   ],
   "source": [
    "from dask.distributed import Client\n",
    "executor = Client()\n",
    "#executor = Client(processes=True)\n",
    "executor"
   ]
  },
  {
   "cell_type": "code",
   "execution_count": 17,
   "metadata": {},
   "outputs": [],
   "source": [
    "# Wait a few seconds for the Dask cluster to start\n",
    "from time import sleep\n",
    "sleep(5)"
   ]
  },
  {
   "cell_type": "code",
   "execution_count": 18,
   "metadata": {},
   "outputs": [
    {
     "name": "stdout",
     "output_type": "stream",
     "text": [
      "Starting at time 2021-08-10T20:28:34-07:00\n",
      "\n",
      "\n",
      "███████╗ █████╗ ███╗   ███╗██████╗ ██╗     ███████╗██████╗ \n",
      "██╔════╝██╔══██╗████╗ ████║██╔══██╗██║     ██╔════╝██╔══██╗\n",
      "███████╗███████║██╔████╔██║██████╔╝██║     █████╗  ██████╔╝\n",
      "╚════██║██╔══██║██║╚██╔╝██║██╔═══╝ ██║     ██╔══╝  ██╔══██╗\n",
      "███████║██║  ██║██║ ╚═╝ ██║██║     ███████╗███████╗██║  ██║\n",
      "╚══════╝╚═╝  ╚═╝╚═╝     ╚═╝╚═╝     ╚══════╝╚══════╝╚═╝  ╚═╝\n",
      "                                                           \n",
      "\n",
      "Xopt Random Sampler\n",
      "Version 0.4.3\n",
      "\n",
      "....4 samples completed in 0.24691 minutes\n",
      "Samples written to:\n",
      " /Users/chrisonian/Code/GitHub/xopt/examples/xopt_class/temp/sampler-2021-08-10-5.json\n",
      "....4 samples completed in 0.18002 minutes\n",
      "Samples written to:\n",
      " /Users/chrisonian/Code/GitHub/xopt/examples/xopt_class/temp/sampler-2021-08-10-6.json\n",
      "..."
     ]
    }
   ],
   "source": [
    "# Run some more\n",
    "X.run(executor)"
   ]
  },
  {
   "cell_type": "code",
   "execution_count": 19,
   "metadata": {},
   "outputs": [
    {
     "data": {
      "text/plain": [
       "[False, False, False, False, False, False, False, False, False, False, False]"
      ]
     },
     "execution_count": 19,
     "metadata": {},
     "output_type": "execute_result"
    }
   ],
   "source": [
    "X.results['error']"
   ]
  },
  {
   "cell_type": "markdown",
   "metadata": {},
   "source": [
    "# Load into Pandas"
   ]
  },
  {
   "cell_type": "code",
   "execution_count": 20,
   "metadata": {},
   "outputs": [],
   "source": [
    "import pandas as pd\n",
    "from glob import glob\n",
    "import json"
   ]
  },
  {
   "cell_type": "code",
   "execution_count": 21,
   "metadata": {},
   "outputs": [
    {
     "data": {
      "text/plain": [
       "['temp/sampler-2021-08-10-3.json',\n",
       " 'temp/sampler-2021-08-10-2.json',\n",
       " 'temp/sampler-2021-08-10-5.json',\n",
       " 'temp/sampler-2021-08-10-4.json',\n",
       " 'temp/sampler-2021-08-10-6.json',\n",
       " 'temp/sampler-2021-08-10-1.json']"
      ]
     },
     "execution_count": 21,
     "metadata": {},
     "output_type": "execute_result"
    }
   ],
   "source": [
    "jfiles = glob('temp/*json')\n",
    "jfiles"
   ]
  },
  {
   "cell_type": "code",
   "execution_count": 22,
   "metadata": {},
   "outputs": [
    {
     "data": {
      "text/plain": [
       "[False, False, False, False]"
      ]
     },
     "execution_count": 22,
     "metadata": {},
     "output_type": "execute_result"
    }
   ],
   "source": [
    "# Load a file\n",
    "data = json.load(open(jfiles[0]))\n",
    "\n",
    "data['inputs']\n",
    "data['outputs']\n",
    "data['error']"
   ]
  },
  {
   "cell_type": "code",
   "execution_count": 23,
   "metadata": {},
   "outputs": [
    {
     "data": {
      "text/html": [
       "<div>\n",
       "<style scoped>\n",
       "    .dataframe tbody tr th:only-of-type {\n",
       "        vertical-align: middle;\n",
       "    }\n",
       "\n",
       "    .dataframe tbody tr th {\n",
       "        vertical-align: top;\n",
       "    }\n",
       "\n",
       "    .dataframe thead th {\n",
       "        text-align: right;\n",
       "    }\n",
       "</style>\n",
       "<table border=\"1\" class=\"dataframe\">\n",
       "  <thead>\n",
       "    <tr style=\"text-align: right;\">\n",
       "      <th></th>\n",
       "      <th>sig_x</th>\n",
       "      <th>lt</th>\n",
       "      <th>maxe(1)</th>\n",
       "      <th>phi(1)</th>\n",
       "      <th>maxb(1)</th>\n",
       "      <th>maxe(2)</th>\n",
       "      <th>phi(2)</th>\n",
       "      <th>maxb(2)</th>\n",
       "      <th>maxe(3)</th>\n",
       "      <th>maxe(4)</th>\n",
       "      <th>phi(3)</th>\n",
       "      <th>phi(4)</th>\n",
       "      <th>phi(6)</th>\n",
       "      <th>ipart</th>\n",
       "      <th>lspch</th>\n",
       "      <th>zstop</th>\n",
       "    </tr>\n",
       "  </thead>\n",
       "  <tbody>\n",
       "    <tr>\n",
       "      <th>0</th>\n",
       "      <td>0.806338</td>\n",
       "      <td>0.059626</td>\n",
       "      <td>21.568042</td>\n",
       "      <td>-4.673121</td>\n",
       "      <td>0.240873</td>\n",
       "      <td>2.897497</td>\n",
       "      <td>-125.043519</td>\n",
       "      <td>0.068095</td>\n",
       "      <td>31.621729</td>\n",
       "      <td>4.721630</td>\n",
       "      <td>-31.134974</td>\n",
       "      <td>28.516834</td>\n",
       "      <td>-40.281337</td>\n",
       "      <td>1000</td>\n",
       "      <td>True</td>\n",
       "      <td>0.2</td>\n",
       "    </tr>\n",
       "    <tr>\n",
       "      <th>1</th>\n",
       "      <td>0.826750</td>\n",
       "      <td>0.048359</td>\n",
       "      <td>45.493090</td>\n",
       "      <td>-7.110044</td>\n",
       "      <td>0.336968</td>\n",
       "      <td>0.003778</td>\n",
       "      <td>-134.266925</td>\n",
       "      <td>0.022987</td>\n",
       "      <td>1.100916</td>\n",
       "      <td>2.449849</td>\n",
       "      <td>-27.122572</td>\n",
       "      <td>-36.634193</td>\n",
       "      <td>24.703187</td>\n",
       "      <td>1000</td>\n",
       "      <td>True</td>\n",
       "      <td>0.2</td>\n",
       "    </tr>\n",
       "    <tr>\n",
       "      <th>2</th>\n",
       "      <td>0.847150</td>\n",
       "      <td>0.065545</td>\n",
       "      <td>33.218686</td>\n",
       "      <td>8.543800</td>\n",
       "      <td>0.354576</td>\n",
       "      <td>26.467448</td>\n",
       "      <td>-72.438701</td>\n",
       "      <td>0.018615</td>\n",
       "      <td>20.203275</td>\n",
       "      <td>17.254938</td>\n",
       "      <td>34.854429</td>\n",
       "      <td>37.676820</td>\n",
       "      <td>23.768811</td>\n",
       "      <td>1000</td>\n",
       "      <td>True</td>\n",
       "      <td>0.2</td>\n",
       "    </tr>\n",
       "    <tr>\n",
       "      <th>3</th>\n",
       "      <td>0.777092</td>\n",
       "      <td>0.048650</td>\n",
       "      <td>27.204583</td>\n",
       "      <td>-23.046581</td>\n",
       "      <td>0.221344</td>\n",
       "      <td>29.441541</td>\n",
       "      <td>-67.009406</td>\n",
       "      <td>0.021003</td>\n",
       "      <td>21.295672</td>\n",
       "      <td>22.701501</td>\n",
       "      <td>14.122687</td>\n",
       "      <td>-16.447998</td>\n",
       "      <td>15.231546</td>\n",
       "      <td>1000</td>\n",
       "      <td>True</td>\n",
       "      <td>0.2</td>\n",
       "    </tr>\n",
       "  </tbody>\n",
       "</table>\n",
       "</div>"
      ],
      "text/plain": [
       "      sig_x        lt    maxe(1)     phi(1)   maxb(1)    maxe(2)      phi(2)  \\\n",
       "0  0.806338  0.059626  21.568042  -4.673121  0.240873   2.897497 -125.043519   \n",
       "1  0.826750  0.048359  45.493090  -7.110044  0.336968   0.003778 -134.266925   \n",
       "2  0.847150  0.065545  33.218686   8.543800  0.354576  26.467448  -72.438701   \n",
       "3  0.777092  0.048650  27.204583 -23.046581  0.221344  29.441541  -67.009406   \n",
       "\n",
       "    maxb(2)    maxe(3)    maxe(4)     phi(3)     phi(4)     phi(6)  ipart  \\\n",
       "0  0.068095  31.621729   4.721630 -31.134974  28.516834 -40.281337   1000   \n",
       "1  0.022987   1.100916   2.449849 -27.122572 -36.634193  24.703187   1000   \n",
       "2  0.018615  20.203275  17.254938  34.854429  37.676820  23.768811   1000   \n",
       "3  0.021003  21.295672  22.701501  14.122687 -16.447998  15.231546   1000   \n",
       "\n",
       "   lspch  zstop  \n",
       "0   True    0.2  \n",
       "1   True    0.2  \n",
       "2   True    0.2  \n",
       "3   True    0.2  "
      ]
     },
     "execution_count": 23,
     "metadata": {},
     "output_type": "execute_result"
    }
   ],
   "source": [
    "inputs = pd.DataFrame(data['inputs'])\n",
    "inputs"
   ]
  },
  {
   "cell_type": "code",
   "execution_count": 24,
   "metadata": {},
   "outputs": [
    {
     "data": {
      "text/html": [
       "<div>\n",
       "<style scoped>\n",
       "    .dataframe tbody tr th:only-of-type {\n",
       "        vertical-align: middle;\n",
       "    }\n",
       "\n",
       "    .dataframe tbody tr th {\n",
       "        vertical-align: top;\n",
       "    }\n",
       "\n",
       "    .dataframe thead th {\n",
       "        text-align: right;\n",
       "    }\n",
       "</style>\n",
       "<table border=\"1\" class=\"dataframe\">\n",
       "  <thead>\n",
       "    <tr style=\"text-align: right;\">\n",
       "      <th></th>\n",
       "      <th>error</th>\n",
       "      <th>end_mean_z</th>\n",
       "      <th>end_norm_emit_x</th>\n",
       "      <th>end_core_emit_95percent_x</th>\n",
       "      <th>end_core_emit_90percent_x</th>\n",
       "      <th>end_core_emit_80percent_x</th>\n",
       "      <th>end_norm_emit_y</th>\n",
       "      <th>end_core_emit_95percent_y</th>\n",
       "      <th>end_core_emit_90percent_y</th>\n",
       "      <th>end_core_emit_80percent_y</th>\n",
       "      <th>...</th>\n",
       "      <th>end_sigma_yp</th>\n",
       "      <th>end_cov_y__yp</th>\n",
       "      <th>end_mean_kinetic_energy</th>\n",
       "      <th>end_sigma_z</th>\n",
       "      <th>end_sigma_energy</th>\n",
       "      <th>end_cov_z__energy</th>\n",
       "      <th>end_n_particle_loss</th>\n",
       "      <th>end_total_charge</th>\n",
       "      <th>end_higher_order_energy_spread</th>\n",
       "      <th>fingerprint</th>\n",
       "    </tr>\n",
       "  </thead>\n",
       "  <tbody>\n",
       "    <tr>\n",
       "      <th>0</th>\n",
       "      <td>False</td>\n",
       "      <td>0.2</td>\n",
       "      <td>5.490700e-07</td>\n",
       "      <td>4.230500e-07</td>\n",
       "      <td>3.581600e-07</td>\n",
       "      <td>2.629500e-07</td>\n",
       "      <td>5.459200e-07</td>\n",
       "      <td>4.242900e-07</td>\n",
       "      <td>3.614000e-07</td>\n",
       "      <td>2.645500e-07</td>\n",
       "      <td>...</td>\n",
       "      <td>0.001020</td>\n",
       "      <td>1.038823e-07</td>\n",
       "      <td>1312000.0</td>\n",
       "      <td>0.004175</td>\n",
       "      <td>10281.0</td>\n",
       "      <td>-28.410349</td>\n",
       "      <td>0</td>\n",
       "      <td>9.990000e-11</td>\n",
       "      <td>544.083473</td>\n",
       "      <td>d9689ee5a4ac91013024e373654703e9</td>\n",
       "    </tr>\n",
       "    <tr>\n",
       "      <th>1</th>\n",
       "      <td>False</td>\n",
       "      <td>0.2</td>\n",
       "      <td>4.989800e-07</td>\n",
       "      <td>3.981400e-07</td>\n",
       "      <td>3.407700e-07</td>\n",
       "      <td>2.521000e-07</td>\n",
       "      <td>5.040700e-07</td>\n",
       "      <td>3.979700e-07</td>\n",
       "      <td>3.399100e-07</td>\n",
       "      <td>2.543700e-07</td>\n",
       "      <td>...</td>\n",
       "      <td>0.001835</td>\n",
       "      <td>1.391438e-07</td>\n",
       "      <td>2714100.0</td>\n",
       "      <td>0.003887</td>\n",
       "      <td>35211.0</td>\n",
       "      <td>-126.050879</td>\n",
       "      <td>0</td>\n",
       "      <td>9.990000e-11</td>\n",
       "      <td>516.736185</td>\n",
       "      <td>31aa513ade4588ffc848cb3af89e6a2f</td>\n",
       "    </tr>\n",
       "    <tr>\n",
       "      <th>2</th>\n",
       "      <td>False</td>\n",
       "      <td>0.2</td>\n",
       "      <td>4.680000e-07</td>\n",
       "      <td>3.852400e-07</td>\n",
       "      <td>3.341300e-07</td>\n",
       "      <td>2.530500e-07</td>\n",
       "      <td>4.711900e-07</td>\n",
       "      <td>3.870900e-07</td>\n",
       "      <td>3.365100e-07</td>\n",
       "      <td>2.549200e-07</td>\n",
       "      <td>...</td>\n",
       "      <td>0.002297</td>\n",
       "      <td>3.118460e-07</td>\n",
       "      <td>1971800.0</td>\n",
       "      <td>0.006016</td>\n",
       "      <td>52224.0</td>\n",
       "      <td>289.773871</td>\n",
       "      <td>0</td>\n",
       "      <td>9.990000e-11</td>\n",
       "      <td>755.254367</td>\n",
       "      <td>94aaecf99c9f9d437ea9f0c33d8338e3</td>\n",
       "    </tr>\n",
       "    <tr>\n",
       "      <th>3</th>\n",
       "      <td>False</td>\n",
       "      <td>0.2</td>\n",
       "      <td>5.512800e-07</td>\n",
       "      <td>4.111900e-07</td>\n",
       "      <td>3.490000e-07</td>\n",
       "      <td>2.541700e-07</td>\n",
       "      <td>5.439500e-07</td>\n",
       "      <td>4.142000e-07</td>\n",
       "      <td>3.522600e-07</td>\n",
       "      <td>2.567800e-07</td>\n",
       "      <td>...</td>\n",
       "      <td>0.000797</td>\n",
       "      <td>1.228228e-07</td>\n",
       "      <td>1571700.0</td>\n",
       "      <td>0.002746</td>\n",
       "      <td>40313.0</td>\n",
       "      <td>-109.861493</td>\n",
       "      <td>0</td>\n",
       "      <td>9.990000e-11</td>\n",
       "      <td>1027.676798</td>\n",
       "      <td>58335b174e61bb1388fdc2eaa9d10edf</td>\n",
       "    </tr>\n",
       "  </tbody>\n",
       "</table>\n",
       "<p>4 rows × 31 columns</p>\n",
       "</div>"
      ],
      "text/plain": [
       "   error  end_mean_z  end_norm_emit_x  end_core_emit_95percent_x  \\\n",
       "0  False         0.2     5.490700e-07               4.230500e-07   \n",
       "1  False         0.2     4.989800e-07               3.981400e-07   \n",
       "2  False         0.2     4.680000e-07               3.852400e-07   \n",
       "3  False         0.2     5.512800e-07               4.111900e-07   \n",
       "\n",
       "   end_core_emit_90percent_x  end_core_emit_80percent_x  end_norm_emit_y  \\\n",
       "0               3.581600e-07               2.629500e-07     5.459200e-07   \n",
       "1               3.407700e-07               2.521000e-07     5.040700e-07   \n",
       "2               3.341300e-07               2.530500e-07     4.711900e-07   \n",
       "3               3.490000e-07               2.541700e-07     5.439500e-07   \n",
       "\n",
       "   end_core_emit_95percent_y  end_core_emit_90percent_y  \\\n",
       "0               4.242900e-07               3.614000e-07   \n",
       "1               3.979700e-07               3.399100e-07   \n",
       "2               3.870900e-07               3.365100e-07   \n",
       "3               4.142000e-07               3.522600e-07   \n",
       "\n",
       "   end_core_emit_80percent_y  ...  end_sigma_yp  end_cov_y__yp  \\\n",
       "0               2.645500e-07  ...      0.001020   1.038823e-07   \n",
       "1               2.543700e-07  ...      0.001835   1.391438e-07   \n",
       "2               2.549200e-07  ...      0.002297   3.118460e-07   \n",
       "3               2.567800e-07  ...      0.000797   1.228228e-07   \n",
       "\n",
       "   end_mean_kinetic_energy  end_sigma_z  end_sigma_energy  end_cov_z__energy  \\\n",
       "0                1312000.0     0.004175           10281.0         -28.410349   \n",
       "1                2714100.0     0.003887           35211.0        -126.050879   \n",
       "2                1971800.0     0.006016           52224.0         289.773871   \n",
       "3                1571700.0     0.002746           40313.0        -109.861493   \n",
       "\n",
       "   end_n_particle_loss  end_total_charge  end_higher_order_energy_spread  \\\n",
       "0                    0      9.990000e-11                      544.083473   \n",
       "1                    0      9.990000e-11                      516.736185   \n",
       "2                    0      9.990000e-11                      755.254367   \n",
       "3                    0      9.990000e-11                     1027.676798   \n",
       "\n",
       "                        fingerprint  \n",
       "0  d9689ee5a4ac91013024e373654703e9  \n",
       "1  31aa513ade4588ffc848cb3af89e6a2f  \n",
       "2  94aaecf99c9f9d437ea9f0c33d8338e3  \n",
       "3  58335b174e61bb1388fdc2eaa9d10edf  \n",
       "\n",
       "[4 rows x 31 columns]"
      ]
     },
     "execution_count": 24,
     "metadata": {},
     "output_type": "execute_result"
    }
   ],
   "source": [
    "outputs = pd.DataFrame(data['outputs'])\n",
    "outputs"
   ]
  },
  {
   "cell_type": "markdown",
   "metadata": {},
   "source": [
    "# Cleanup"
   ]
  },
  {
   "cell_type": "code",
   "execution_count": 25,
   "metadata": {},
   "outputs": [],
   "source": [
    "!rm -r dask-worker-space"
   ]
  },
  {
   "cell_type": "code",
   "execution_count": 26,
   "metadata": {},
   "outputs": [],
   "source": [
    "!rm test.yaml"
   ]
  },
  {
   "cell_type": "code",
   "execution_count": 27,
   "metadata": {},
   "outputs": [
    {
     "name": "stdout",
     "output_type": "stream",
     "text": [
      "rm: NORRAN: No such file or directory\n"
     ]
    }
   ],
   "source": [
    "!rm NORRAN"
   ]
  },
  {
   "cell_type": "code",
   "execution_count": 28,
   "metadata": {},
   "outputs": [],
   "source": [
    "!rm -r temp"
   ]
  }
 ],
 "metadata": {
  "kernelspec": {
   "display_name": "Python 3 (ipykernel)",
   "language": "python",
   "name": "python3"
  },
  "language_info": {
   "codemirror_mode": {
    "name": "ipython",
    "version": 3
   },
   "file_extension": ".py",
   "mimetype": "text/x-python",
   "name": "python",
   "nbconvert_exporter": "python",
   "pygments_lexer": "ipython3",
   "version": "3.9.2"
  }
 },
 "nbformat": 4,
 "nbformat_minor": 4
}
