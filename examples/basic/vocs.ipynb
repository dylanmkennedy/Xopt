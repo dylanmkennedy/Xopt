{
 "cells": [
  {
   "cell_type": "markdown",
   "id": "9700f595",
   "metadata": {
    "pycharm": {
     "name": "#%% md\n"
    }
   },
   "source": [
    "# VOCS v1 data structure "
   ]
  },
  {
   "cell_type": "code",
   "execution_count": 1,
   "id": "32324ac0-b299-42ee-a6b9-e112dfaa5a45",
   "metadata": {
    "pycharm": {
     "name": "#%%\n"
    }
   },
   "outputs": [],
   "source": [
    "from xopt.vocs import VOCS, ObjectiveEnum, ConstraintEnum"
   ]
  },
  {
   "cell_type": "code",
   "execution_count": 2,
   "id": "354e92d2",
   "metadata": {
    "pycharm": {
     "name": "#%%\n"
    }
   },
   "outputs": [],
   "source": [
    "?VOCS"
   ]
  },
  {
   "cell_type": "code",
   "execution_count": 3,
   "id": "31a15253-14cd-4547-ab01-09f4b56f5bf5",
   "metadata": {
    "pycharm": {
     "name": "#%%\n"
    }
   },
   "outputs": [
    {
     "data": {
      "text/plain": "VOCS(variables={'a': [0.0, 1000.0], 'b': [-1.0, 1.0]}, constraints={'e': ['LESS_THAN', 2.0], 'f': ['GREATER_THAN', 0.0]}, objectives={'c': 'MAXIMIZE', 'd': 'MINIMIZE'}, constants={'g': 1234}, linked_variables=None)"
     },
     "execution_count": 3,
     "metadata": {},
     "output_type": "execute_result"
    }
   ],
   "source": [
    "Y = \"\"\"\n",
    "variables:\n",
    "  a: [0, 1e3] # Note that 1e3 usually parses as a str with YAML. \n",
    "  b: [-1, 1]\n",
    "objectives:\n",
    "  c: maximize\n",
    "  d: minimize \n",
    "constraints:\n",
    "  e: ['Less_than', 2]\n",
    "  f: ['greater_than', 0]\n",
    "constants:\n",
    "  g: 1234\n",
    "\n",
    "\"\"\"\n",
    "\n",
    "vocs = VOCS.from_yaml(Y)\n",
    "vocs"
   ]
  },
  {
   "cell_type": "code",
   "execution_count": 4,
   "id": "304bcc89",
   "metadata": {
    "pycharm": {
     "name": "#%%\n"
    }
   },
   "outputs": [
    {
     "data": {
      "text/plain": "{'variables': {'a': [0.0, 1000.0], 'b': [-1.0, 1.0]},\n 'constraints': {'e': ['LESS_THAN', 2.0], 'f': ['GREATER_THAN', 0.0]},\n 'objectives': {'c': 'MAXIMIZE', 'd': 'MINIMIZE'},\n 'constants': {'g': 1234},\n 'linked_variables': None}"
     },
     "execution_count": 4,
     "metadata": {},
     "output_type": "execute_result"
    }
   ],
   "source": [
    "# as dict\n",
    "vocs.dict()"
   ]
  },
  {
   "cell_type": "code",
   "execution_count": 5,
   "id": "b236bfb4",
   "metadata": {
    "pycharm": {
     "name": "#%%\n"
    }
   },
   "outputs": [],
   "source": [
    "#  re-parse dict\n",
    "vocs2 = VOCS.parse_obj(vocs.dict())"
   ]
  },
  {
   "cell_type": "code",
   "execution_count": 6,
   "id": "76c9a173",
   "metadata": {
    "pycharm": {
     "name": "#%%\n"
    }
   },
   "outputs": [
    {
     "data": {
      "text/plain": "True"
     },
     "execution_count": 6,
     "metadata": {},
     "output_type": "execute_result"
    }
   ],
   "source": [
    "# Check that these are the same\n",
    "vocs2 == vocs\n"
   ]
  },
  {
   "cell_type": "code",
   "execution_count": 7,
   "id": "6a846f4d",
   "metadata": {
    "pycharm": {
     "name": "#%%\n"
    }
   },
   "outputs": [
    {
     "data": {
      "text/plain": "{'a': [0.0, 1000.0], 'b': [-1.0, 1.0]}"
     },
     "execution_count": 7,
     "metadata": {},
     "output_type": "execute_result"
    }
   ],
   "source": [
    "# This replaces the old vocs[\"variables\"]\n",
    "getattr(vocs, \"variables\")"
   ]
  },
  {
   "cell_type": "code",
   "execution_count": 8,
   "id": "6fa2afc8",
   "metadata": {
    "pycharm": {
     "name": "#%%\n"
    }
   },
   "outputs": [
    {
     "data": {
      "text/plain": "True"
     },
     "execution_count": 8,
     "metadata": {},
     "output_type": "execute_result"
    }
   ],
   "source": [
    "vocs.objectives['c']  == ObjectiveEnum.MAXIMIZE"
   ]
  },
  {
   "cell_type": "code",
   "execution_count": 9,
   "id": "713272b7",
   "metadata": {
    "pycharm": {
     "name": "#%%\n"
    }
   },
   "outputs": [
    {
     "data": {
      "text/plain": "'{\"variables\": {\"a\": [0.0, 1000.0], \"b\": [-1.0, 1.0]}, \"constraints\": {\"e\": [\"LESS_THAN\", 2.0], \"f\": [\"GREATER_THAN\", 0.0]}, \"objectives\": {\"c\": \"MAXIMIZE\", \"d\": \"MINIMIZE\"}, \"constants\": {\"g\": 1234}, \"linked_variables\": null}'"
     },
     "execution_count": 9,
     "metadata": {},
     "output_type": "execute_result"
    }
   ],
   "source": [
    "# json\n",
    "vocs.json()"
   ]
  },
  {
   "cell_type": "code",
   "execution_count": 10,
   "id": "4cf2209d",
   "metadata": {
    "pycharm": {
     "name": "#%%\n"
    }
   },
   "outputs": [
    {
     "data": {
      "text/plain": "{'title': 'VOCS',\n 'type': 'object',\n 'properties': {'variables': {'title': 'Variables',\n   'type': 'object',\n   'additionalProperties': {'type': 'array',\n    'items': {'type': 'number'},\n    'minItems': 2,\n    'maxItems': 2}},\n  'constraints': {'title': 'Constraints',\n   'type': 'object',\n   'additionalProperties': {'type': 'array',\n    'items': {'anyOf': [{'type': 'number'},\n      {'$ref': '#/definitions/ConstraintEnum'}]},\n    'minItems': 2,\n    'maxItems': 2}},\n  'objectives': {'type': 'object',\n   'additionalProperties': {'$ref': '#/definitions/ObjectiveEnum'}},\n  'constants': {'title': 'Constants', 'type': 'object'},\n  'linked_variables': {'title': 'Linked Variables',\n   'type': 'object',\n   'additionalProperties': {'type': 'string'}}},\n 'definitions': {'ConstraintEnum': {'title': 'ConstraintEnum',\n   'description': 'An enumeration.',\n   'enum': ['LESS_THAN', 'GREATER_THAN'],\n   'type': 'string'},\n  'ObjectiveEnum': {'title': 'ObjectiveEnum',\n   'description': 'An enumeration.',\n   'enum': ['MINIMIZE', 'MAXIMIZE'],\n   'type': 'string'}}}"
     },
     "execution_count": 10,
     "metadata": {},
     "output_type": "execute_result"
    }
   ],
   "source": [
    "vocs.schema()"
   ]
  },
  {
   "cell_type": "markdown",
   "id": "11167a85",
   "metadata": {
    "pycharm": {
     "name": "#%% md\n"
    }
   },
   "source": [
    "# Objective Evaluation"
   ]
  },
  {
   "cell_type": "code",
   "execution_count": 11,
   "id": "c4d150be",
   "metadata": {
    "pycharm": {
     "name": "#%%\n"
    }
   },
   "outputs": [
    {
     "data": {
      "text/plain": "             a         b     g           c           d            e  \\\n5   529.157867  0.040652  1234  529.198519  529.117215  1058.397038   \n6   299.889602  0.019515  1234  299.909118  299.870087   599.818236   \n7   140.338930 -0.786521  1234  139.552409  141.125451   279.104818   \n8    25.428540  0.589057  1234   26.017596   24.839483    52.035192   \n9   679.590150 -0.881955  1234  678.708195  680.472105  1357.416389   \n10  675.259366  0.996994  1234  676.256360  674.262371  1352.512720   \n11   85.297707  0.823399  1234   86.121106   84.474307   172.242212   \n12  256.235692 -0.905126  1234  255.330566  257.140817   510.661131   \n13  940.613591  0.826587  1234  941.440178  939.787004  1882.880357   \n14  298.302483 -0.084514  1234  298.217969  298.386998   596.435938   \n\n              f  \n5   1058.234430  \n6    599.740174  \n7    282.250903  \n8     49.678966  \n9   1360.944210  \n10  1348.524743  \n11   168.948614  \n12   514.281635  \n13  1879.574008  \n14   596.773996  ",
      "text/html": "<div>\n<style scoped>\n    .dataframe tbody tr th:only-of-type {\n        vertical-align: middle;\n    }\n\n    .dataframe tbody tr th {\n        vertical-align: top;\n    }\n\n    .dataframe thead th {\n        text-align: right;\n    }\n</style>\n<table border=\"1\" class=\"dataframe\">\n  <thead>\n    <tr style=\"text-align: right;\">\n      <th></th>\n      <th>a</th>\n      <th>b</th>\n      <th>g</th>\n      <th>c</th>\n      <th>d</th>\n      <th>e</th>\n      <th>f</th>\n    </tr>\n  </thead>\n  <tbody>\n    <tr>\n      <th>5</th>\n      <td>529.157867</td>\n      <td>0.040652</td>\n      <td>1234</td>\n      <td>529.198519</td>\n      <td>529.117215</td>\n      <td>1058.397038</td>\n      <td>1058.234430</td>\n    </tr>\n    <tr>\n      <th>6</th>\n      <td>299.889602</td>\n      <td>0.019515</td>\n      <td>1234</td>\n      <td>299.909118</td>\n      <td>299.870087</td>\n      <td>599.818236</td>\n      <td>599.740174</td>\n    </tr>\n    <tr>\n      <th>7</th>\n      <td>140.338930</td>\n      <td>-0.786521</td>\n      <td>1234</td>\n      <td>139.552409</td>\n      <td>141.125451</td>\n      <td>279.104818</td>\n      <td>282.250903</td>\n    </tr>\n    <tr>\n      <th>8</th>\n      <td>25.428540</td>\n      <td>0.589057</td>\n      <td>1234</td>\n      <td>26.017596</td>\n      <td>24.839483</td>\n      <td>52.035192</td>\n      <td>49.678966</td>\n    </tr>\n    <tr>\n      <th>9</th>\n      <td>679.590150</td>\n      <td>-0.881955</td>\n      <td>1234</td>\n      <td>678.708195</td>\n      <td>680.472105</td>\n      <td>1357.416389</td>\n      <td>1360.944210</td>\n    </tr>\n    <tr>\n      <th>10</th>\n      <td>675.259366</td>\n      <td>0.996994</td>\n      <td>1234</td>\n      <td>676.256360</td>\n      <td>674.262371</td>\n      <td>1352.512720</td>\n      <td>1348.524743</td>\n    </tr>\n    <tr>\n      <th>11</th>\n      <td>85.297707</td>\n      <td>0.823399</td>\n      <td>1234</td>\n      <td>86.121106</td>\n      <td>84.474307</td>\n      <td>172.242212</td>\n      <td>168.948614</td>\n    </tr>\n    <tr>\n      <th>12</th>\n      <td>256.235692</td>\n      <td>-0.905126</td>\n      <td>1234</td>\n      <td>255.330566</td>\n      <td>257.140817</td>\n      <td>510.661131</td>\n      <td>514.281635</td>\n    </tr>\n    <tr>\n      <th>13</th>\n      <td>940.613591</td>\n      <td>0.826587</td>\n      <td>1234</td>\n      <td>941.440178</td>\n      <td>939.787004</td>\n      <td>1882.880357</td>\n      <td>1879.574008</td>\n    </tr>\n    <tr>\n      <th>14</th>\n      <td>298.302483</td>\n      <td>-0.084514</td>\n      <td>1234</td>\n      <td>298.217969</td>\n      <td>298.386998</td>\n      <td>596.435938</td>\n      <td>596.773996</td>\n    </tr>\n  </tbody>\n</table>\n</div>"
     },
     "execution_count": 11,
     "metadata": {},
     "output_type": "execute_result"
    }
   ],
   "source": [
    "from xopt.vocs import form_objective_data, form_constraint_data, form_feasibility_data\n",
    "import pandas as pd\n",
    "import numpy as np\n",
    "\n",
    "data = pd.DataFrame(vocs.random_inputs(10))\n",
    "# Add some outputs\n",
    "data['c']  = data['a'] + data['b']\n",
    "data['d']  = data['a'] - data['b']\n",
    "data['e']  = data['a']*2 + data['b']*2\n",
    "data['f']  = data['a']*2 - data['b']*2\n",
    "data.index = np.arange(len(data)) + 5 # custom index\n",
    "data\n"
   ]
  },
  {
   "cell_type": "code",
   "execution_count": 12,
   "id": "a695dc98",
   "metadata": {
    "pycharm": {
     "name": "#%%\n"
    }
   },
   "outputs": [
    {
     "data": {
      "text/plain": "{'c': 'MAXIMIZE', 'd': 'MINIMIZE'}"
     },
     "execution_count": 12,
     "metadata": {},
     "output_type": "execute_result"
    }
   ],
   "source": [
    "vocs.objectives"
   ]
  },
  {
   "cell_type": "code",
   "execution_count": 13,
   "id": "226e2a0f",
   "metadata": {
    "pycharm": {
     "name": "#%%\n"
    }
   },
   "outputs": [],
   "source": [
    "?form_objective_data"
   ]
  },
  {
   "cell_type": "code",
   "execution_count": 14,
   "id": "43051b71",
   "metadata": {
    "pycharm": {
     "name": "#%%\n"
    }
   },
   "outputs": [
    {
     "data": {
      "text/plain": "    objective_c  objective_d\n5   -529.198519   529.117215\n6   -299.909118   299.870087\n7   -139.552409   141.125451\n8    -26.017596    24.839483\n9   -678.708195   680.472105\n10  -676.256360   674.262371\n11   -86.121106    84.474307\n12  -255.330566   257.140817\n13  -941.440178   939.787004\n14  -298.217969   298.386998",
      "text/html": "<div>\n<style scoped>\n    .dataframe tbody tr th:only-of-type {\n        vertical-align: middle;\n    }\n\n    .dataframe tbody tr th {\n        vertical-align: top;\n    }\n\n    .dataframe thead th {\n        text-align: right;\n    }\n</style>\n<table border=\"1\" class=\"dataframe\">\n  <thead>\n    <tr style=\"text-align: right;\">\n      <th></th>\n      <th>objective_c</th>\n      <th>objective_d</th>\n    </tr>\n  </thead>\n  <tbody>\n    <tr>\n      <th>5</th>\n      <td>-529.198519</td>\n      <td>529.117215</td>\n    </tr>\n    <tr>\n      <th>6</th>\n      <td>-299.909118</td>\n      <td>299.870087</td>\n    </tr>\n    <tr>\n      <th>7</th>\n      <td>-139.552409</td>\n      <td>141.125451</td>\n    </tr>\n    <tr>\n      <th>8</th>\n      <td>-26.017596</td>\n      <td>24.839483</td>\n    </tr>\n    <tr>\n      <th>9</th>\n      <td>-678.708195</td>\n      <td>680.472105</td>\n    </tr>\n    <tr>\n      <th>10</th>\n      <td>-676.256360</td>\n      <td>674.262371</td>\n    </tr>\n    <tr>\n      <th>11</th>\n      <td>-86.121106</td>\n      <td>84.474307</td>\n    </tr>\n    <tr>\n      <th>12</th>\n      <td>-255.330566</td>\n      <td>257.140817</td>\n    </tr>\n    <tr>\n      <th>13</th>\n      <td>-941.440178</td>\n      <td>939.787004</td>\n    </tr>\n    <tr>\n      <th>14</th>\n      <td>-298.217969</td>\n      <td>298.386998</td>\n    </tr>\n  </tbody>\n</table>\n</div>"
     },
     "execution_count": 14,
     "metadata": {},
     "output_type": "execute_result"
    }
   ],
   "source": [
    "# These are in standard form for minimization\n",
    "form_objective_data(vocs.objectives, data)"
   ]
  },
  {
   "cell_type": "code",
   "execution_count": 15,
   "id": "2ed50815",
   "metadata": {
    "pycharm": {
     "name": "#%%\n"
    }
   },
   "outputs": [
    {
     "data": {
      "text/plain": "    objective_c  objective_d\n5   -529.198519   529.117215\n6   -299.909118   299.870087\n7   -139.552409   141.125451\n8    -26.017596    24.839483\n9   -678.708195   680.472105\n10  -676.256360   674.262371\n11   -86.121106    84.474307\n12  -255.330566   257.140817\n13  -941.440178   939.787004\n14  -298.217969   298.386998",
      "text/html": "<div>\n<style scoped>\n    .dataframe tbody tr th:only-of-type {\n        vertical-align: middle;\n    }\n\n    .dataframe tbody tr th {\n        vertical-align: top;\n    }\n\n    .dataframe thead th {\n        text-align: right;\n    }\n</style>\n<table border=\"1\" class=\"dataframe\">\n  <thead>\n    <tr style=\"text-align: right;\">\n      <th></th>\n      <th>objective_c</th>\n      <th>objective_d</th>\n    </tr>\n  </thead>\n  <tbody>\n    <tr>\n      <th>5</th>\n      <td>-529.198519</td>\n      <td>529.117215</td>\n    </tr>\n    <tr>\n      <th>6</th>\n      <td>-299.909118</td>\n      <td>299.870087</td>\n    </tr>\n    <tr>\n      <th>7</th>\n      <td>-139.552409</td>\n      <td>141.125451</td>\n    </tr>\n    <tr>\n      <th>8</th>\n      <td>-26.017596</td>\n      <td>24.839483</td>\n    </tr>\n    <tr>\n      <th>9</th>\n      <td>-678.708195</td>\n      <td>680.472105</td>\n    </tr>\n    <tr>\n      <th>10</th>\n      <td>-676.256360</td>\n      <td>674.262371</td>\n    </tr>\n    <tr>\n      <th>11</th>\n      <td>-86.121106</td>\n      <td>84.474307</td>\n    </tr>\n    <tr>\n      <th>12</th>\n      <td>-255.330566</td>\n      <td>257.140817</td>\n    </tr>\n    <tr>\n      <th>13</th>\n      <td>-941.440178</td>\n      <td>939.787004</td>\n    </tr>\n    <tr>\n      <th>14</th>\n      <td>-298.217969</td>\n      <td>298.386998</td>\n    </tr>\n  </tbody>\n</table>\n</div>"
     },
     "execution_count": 15,
     "metadata": {},
     "output_type": "execute_result"
    }
   ],
   "source": [
    "# This is also available as a method\n",
    "vocs.objective_data(data)"
   ]
  },
  {
   "cell_type": "code",
   "execution_count": 16,
   "id": "9f4275d4",
   "metadata": {
    "pycharm": {
     "name": "#%%\n"
    }
   },
   "outputs": [
    {
     "data": {
      "text/plain": "array([[-529.1985189 ,  529.11721524],\n       [-299.90911794,  299.870087  ],\n       [-139.55240885,  141.12545148],\n       [ -26.01759621,   24.83948299],\n       [-678.70819475,  680.47210506],\n       [-676.25636004,  674.26237129],\n       [ -86.121106  ,   84.4743072 ],\n       [-255.33056574,  257.1408173 ],\n       [-941.44017836,  939.78700405],\n       [-298.21796914,  298.38699778]])"
     },
     "execution_count": 16,
     "metadata": {},
     "output_type": "execute_result"
    }
   ],
   "source": [
    "# use the to_numpy() method to convert for low level use.\n",
    "vocs.objective_data(data).to_numpy()"
   ]
  },
  {
   "cell_type": "code",
   "execution_count": 17,
   "id": "74968450",
   "metadata": {
    "pycharm": {
     "name": "#%%\n"
    }
   },
   "outputs": [],
   "source": [
    "?form_constraint_data"
   ]
  },
  {
   "cell_type": "code",
   "execution_count": 18,
   "id": "29b73df4",
   "metadata": {
    "pycharm": {
     "name": "#%%\n"
    }
   },
   "outputs": [
    {
     "data": {
      "text/plain": "    constraint_e  constraint_f\n5    1056.397038  -1058.234430\n6     597.818236   -599.740174\n7     277.104818   -282.250903\n8      50.035192    -49.678966\n9    1355.416389  -1360.944210\n10   1350.512720  -1348.524743\n11    170.242212   -168.948614\n12    508.661131   -514.281635\n13   1880.880357  -1879.574008\n14    594.435938   -596.773996",
      "text/html": "<div>\n<style scoped>\n    .dataframe tbody tr th:only-of-type {\n        vertical-align: middle;\n    }\n\n    .dataframe tbody tr th {\n        vertical-align: top;\n    }\n\n    .dataframe thead th {\n        text-align: right;\n    }\n</style>\n<table border=\"1\" class=\"dataframe\">\n  <thead>\n    <tr style=\"text-align: right;\">\n      <th></th>\n      <th>constraint_e</th>\n      <th>constraint_f</th>\n    </tr>\n  </thead>\n  <tbody>\n    <tr>\n      <th>5</th>\n      <td>1056.397038</td>\n      <td>-1058.234430</td>\n    </tr>\n    <tr>\n      <th>6</th>\n      <td>597.818236</td>\n      <td>-599.740174</td>\n    </tr>\n    <tr>\n      <th>7</th>\n      <td>277.104818</td>\n      <td>-282.250903</td>\n    </tr>\n    <tr>\n      <th>8</th>\n      <td>50.035192</td>\n      <td>-49.678966</td>\n    </tr>\n    <tr>\n      <th>9</th>\n      <td>1355.416389</td>\n      <td>-1360.944210</td>\n    </tr>\n    <tr>\n      <th>10</th>\n      <td>1350.512720</td>\n      <td>-1348.524743</td>\n    </tr>\n    <tr>\n      <th>11</th>\n      <td>170.242212</td>\n      <td>-168.948614</td>\n    </tr>\n    <tr>\n      <th>12</th>\n      <td>508.661131</td>\n      <td>-514.281635</td>\n    </tr>\n    <tr>\n      <th>13</th>\n      <td>1880.880357</td>\n      <td>-1879.574008</td>\n    </tr>\n    <tr>\n      <th>14</th>\n      <td>594.435938</td>\n      <td>-596.773996</td>\n    </tr>\n  </tbody>\n</table>\n</div>"
     },
     "execution_count": 18,
     "metadata": {},
     "output_type": "execute_result"
    }
   ],
   "source": [
    "vocs.constraint_data(data)"
   ]
  },
  {
   "cell_type": "code",
   "execution_count": 19,
   "id": "984d66ab",
   "metadata": {
    "pycharm": {
     "name": "#%%\n"
    }
   },
   "outputs": [],
   "source": [
    "?form_feasibility_data"
   ]
  },
  {
   "cell_type": "code",
   "execution_count": 20,
   "id": "e46a5e83",
   "metadata": {
    "pycharm": {
     "name": "#%%\n"
    }
   },
   "outputs": [
    {
     "data": {
      "text/plain": "    feasibility_e  feasibility_f  feasibility\n5           False           True        False\n6           False           True        False\n7           False           True        False\n8           False           True        False\n9           False           True        False\n10          False           True        False\n11          False           True        False\n12          False           True        False\n13          False           True        False\n14          False           True        False",
      "text/html": "<div>\n<style scoped>\n    .dataframe tbody tr th:only-of-type {\n        vertical-align: middle;\n    }\n\n    .dataframe tbody tr th {\n        vertical-align: top;\n    }\n\n    .dataframe thead th {\n        text-align: right;\n    }\n</style>\n<table border=\"1\" class=\"dataframe\">\n  <thead>\n    <tr style=\"text-align: right;\">\n      <th></th>\n      <th>feasibility_e</th>\n      <th>feasibility_f</th>\n      <th>feasibility</th>\n    </tr>\n  </thead>\n  <tbody>\n    <tr>\n      <th>5</th>\n      <td>False</td>\n      <td>True</td>\n      <td>False</td>\n    </tr>\n    <tr>\n      <th>6</th>\n      <td>False</td>\n      <td>True</td>\n      <td>False</td>\n    </tr>\n    <tr>\n      <th>7</th>\n      <td>False</td>\n      <td>True</td>\n      <td>False</td>\n    </tr>\n    <tr>\n      <th>8</th>\n      <td>False</td>\n      <td>True</td>\n      <td>False</td>\n    </tr>\n    <tr>\n      <th>9</th>\n      <td>False</td>\n      <td>True</td>\n      <td>False</td>\n    </tr>\n    <tr>\n      <th>10</th>\n      <td>False</td>\n      <td>True</td>\n      <td>False</td>\n    </tr>\n    <tr>\n      <th>11</th>\n      <td>False</td>\n      <td>True</td>\n      <td>False</td>\n    </tr>\n    <tr>\n      <th>12</th>\n      <td>False</td>\n      <td>True</td>\n      <td>False</td>\n    </tr>\n    <tr>\n      <th>13</th>\n      <td>False</td>\n      <td>True</td>\n      <td>False</td>\n    </tr>\n    <tr>\n      <th>14</th>\n      <td>False</td>\n      <td>True</td>\n      <td>False</td>\n    </tr>\n  </tbody>\n</table>\n</div>"
     },
     "execution_count": 20,
     "metadata": {},
     "output_type": "execute_result"
    }
   ],
   "source": [
    "vocs.feasibility_data(data)"
   ]
  }
 ],
 "metadata": {
  "kernelspec": {
   "display_name": "xopt",
   "language": "python",
   "name": "xopt"
  },
  "language_info": {
   "codemirror_mode": {
    "name": "ipython",
    "version": 3
   },
   "file_extension": ".py",
   "mimetype": "text/x-python",
   "name": "python",
   "nbconvert_exporter": "python",
   "pygments_lexer": "ipython3",
   "version": "3.9.10"
  }
 },
 "nbformat": 4,
 "nbformat_minor": 5
}