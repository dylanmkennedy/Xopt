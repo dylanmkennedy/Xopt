{
 "cells": [
  {
   "cell_type": "markdown",
   "metadata": {
    "pycharm": {
     "name": "#%% md\n"
    }
   },
   "source": []
  },
  {
   "cell_type": "markdown",
   "metadata": {
    "pycharm": {
     "name": "#%% md\n"
    }
   },
   "source": [
    "# Xopt Evaluator Basic Usage "
   ]
  },
  {
   "cell_type": "code",
   "execution_count": 1,
   "metadata": {
    "pycharm": {
     "name": "#%%\n"
    }
   },
   "outputs": [],
   "source": [
    "# needed for macos\n",
    "import platform\n",
    "if platform.system() == 'Darwin':\n",
    "    import multiprocessing as mp                                                                                     \n",
    "    mp.set_start_method(\"fork\")    \n"
   ]
  },
  {
   "cell_type": "code",
   "execution_count": 2,
   "metadata": {
    "pycharm": {
     "name": "#%%\n"
    }
   },
   "outputs": [],
   "source": [
    "from xopt import XoptBase, Evaluator, Generator, VOCS\n",
    "from xopt.generators.random import RandomGenerator\n",
    "from xopt.generators.bayesian import UpperConfidenceBoundGenerator\n",
    "from xopt.evaluator import DummyExecutor\n",
    "import numpy as np\n",
    "import pandas as pd\n",
    "from time import sleep\n",
    "from random import randint"
   ]
  },
  {
   "cell_type": "code",
   "execution_count": 3,
   "metadata": {
    "pycharm": {
     "name": "#%%\n"
    }
   },
   "outputs": [
    {
     "data": {
      "text/plain": "{'f1': 0.4086837156158182}"
     },
     "execution_count": 3,
     "metadata": {},
     "output_type": "execute_result"
    }
   ],
   "source": [
    "\n",
    "vocs = VOCS(variables = {'x': [0,1], 'y': [0,1]}, objectives = {'f1':'MINIMIZE'})\n",
    "\n",
    "def f(inputs):\n",
    "\n",
    "    sleep(randint(1, 5)) # simulate computation time\n",
    "    # Make some occasional errors\n",
    "    if inputs['x'] > 0.8:\n",
    "        raise ValueError('x > 0.8')\n",
    "\n",
    "    return {'f1': inputs['x']**2 + inputs['y']**2}\n",
    "\n",
    "in1 = vocs.random_inputs()\n",
    "f(in1)"
   ]
  },
  {
   "cell_type": "code",
   "execution_count": 4,
   "metadata": {
    "pycharm": {
     "name": "#%%\n"
    }
   },
   "outputs": [
    {
     "data": {
      "text/plain": "          x         y\n0  0.052266  0.911927\n1  0.053366  0.435781\n2  0.141128  0.730097\n3  0.209750  0.898470",
      "text/html": "<div>\n<style scoped>\n    .dataframe tbody tr th:only-of-type {\n        vertical-align: middle;\n    }\n\n    .dataframe tbody tr th {\n        vertical-align: top;\n    }\n\n    .dataframe thead th {\n        text-align: right;\n    }\n</style>\n<table border=\"1\" class=\"dataframe\">\n  <thead>\n    <tr style=\"text-align: right;\">\n      <th></th>\n      <th>x</th>\n      <th>y</th>\n    </tr>\n  </thead>\n  <tbody>\n    <tr>\n      <th>0</th>\n      <td>0.052266</td>\n      <td>0.911927</td>\n    </tr>\n    <tr>\n      <th>1</th>\n      <td>0.053366</td>\n      <td>0.435781</td>\n    </tr>\n    <tr>\n      <th>2</th>\n      <td>0.141128</td>\n      <td>0.730097</td>\n    </tr>\n    <tr>\n      <th>3</th>\n      <td>0.209750</td>\n      <td>0.898470</td>\n    </tr>\n  </tbody>\n</table>\n</div>"
     },
     "execution_count": 4,
     "metadata": {},
     "output_type": "execute_result"
    }
   ],
   "source": [
    "X = XoptBase(RandomGenerator(vocs), Evaluator(f), vocs)\n",
    "\n",
    "# Submit to the evaluator some new inputs\n",
    "X.submit_data(vocs.random_inputs(4))\n",
    "\n",
    "# Unevaluated inputs are collected in a dataframe\n",
    "X._input_data"
   ]
  },
  {
   "cell_type": "code",
   "execution_count": 5,
   "metadata": {
    "pycharm": {
     "name": "#%%\n"
    }
   },
   "outputs": [
    {
     "data": {
      "text/plain": "{0: <Future at 0x22b12435430 state=finished returned dict>,\n 1: <Future at 0x22b12416bb0 state=finished returned dict>,\n 2: <Future at 0x22b12416af0 state=finished returned dict>,\n 3: <Future at 0x22b07c0dd30 state=finished returned dict>}"
     },
     "execution_count": 5,
     "metadata": {},
     "output_type": "execute_result"
    }
   ],
   "source": [
    "# Internal futures dictionary\n",
    "X._futures"
   ]
  },
  {
   "cell_type": "code",
   "execution_count": 6,
   "metadata": {
    "pycharm": {
     "name": "#%%\n"
    }
   },
   "outputs": [
    {
     "data": {
      "text/plain": "          x         y        f1  xopt_error xopt_error_str\n0  0.052266  0.911927  0.834343       False               \n1  0.053366  0.435781  0.192753       False               \n2  0.141128  0.730097  0.552959       False               \n3  0.209750  0.898470  0.851243       False               ",
      "text/html": "<div>\n<style scoped>\n    .dataframe tbody tr th:only-of-type {\n        vertical-align: middle;\n    }\n\n    .dataframe tbody tr th {\n        vertical-align: top;\n    }\n\n    .dataframe thead th {\n        text-align: right;\n    }\n</style>\n<table border=\"1\" class=\"dataframe\">\n  <thead>\n    <tr style=\"text-align: right;\">\n      <th></th>\n      <th>x</th>\n      <th>y</th>\n      <th>f1</th>\n      <th>xopt_error</th>\n      <th>xopt_error_str</th>\n    </tr>\n  </thead>\n  <tbody>\n    <tr>\n      <th>0</th>\n      <td>0.052266</td>\n      <td>0.911927</td>\n      <td>0.834343</td>\n      <td>False</td>\n      <td></td>\n    </tr>\n    <tr>\n      <th>1</th>\n      <td>0.053366</td>\n      <td>0.435781</td>\n      <td>0.192753</td>\n      <td>False</td>\n      <td></td>\n    </tr>\n    <tr>\n      <th>2</th>\n      <td>0.141128</td>\n      <td>0.730097</td>\n      <td>0.552959</td>\n      <td>False</td>\n      <td></td>\n    </tr>\n    <tr>\n      <th>3</th>\n      <td>0.209750</td>\n      <td>0.898470</td>\n      <td>0.851243</td>\n      <td>False</td>\n      <td></td>\n    </tr>\n  </tbody>\n</table>\n</div>"
     },
     "execution_count": 6,
     "metadata": {},
     "output_type": "execute_result"
    }
   ],
   "source": [
    "# Collect all finished futures and updata dataframe\n",
    "X.update_data()\n",
    "X.data"
   ]
  },
  {
   "cell_type": "code",
   "execution_count": 7,
   "metadata": {
    "pycharm": {
     "name": "#%%\n"
    }
   },
   "outputs": [
    {
     "data": {
      "text/plain": "{}"
     },
     "execution_count": 7,
     "metadata": {},
     "output_type": "execute_result"
    }
   ],
   "source": [
    "# Futures are now cleared out\n",
    "X._futures"
   ]
  },
  {
   "cell_type": "code",
   "execution_count": 8,
   "metadata": {
    "pycharm": {
     "name": "#%%\n"
    }
   },
   "outputs": [
    {
     "data": {
      "text/plain": "3"
     },
     "execution_count": 8,
     "metadata": {},
     "output_type": "execute_result"
    }
   ],
   "source": [
    "# This is the internal counter\n",
    "X._ix_last"
   ]
  },
  {
   "cell_type": "code",
   "execution_count": 9,
   "metadata": {
    "pycharm": {
     "name": "#%%\n"
    }
   },
   "outputs": [
    {
     "data": {
      "text/plain": "          x         y\n4  0.096862  0.280273\n5  0.961302  0.713356\n6  0.650298  0.742039\n7  0.296161  0.198052",
      "text/html": "<div>\n<style scoped>\n    .dataframe tbody tr th:only-of-type {\n        vertical-align: middle;\n    }\n\n    .dataframe tbody tr th {\n        vertical-align: top;\n    }\n\n    .dataframe thead th {\n        text-align: right;\n    }\n</style>\n<table border=\"1\" class=\"dataframe\">\n  <thead>\n    <tr style=\"text-align: right;\">\n      <th></th>\n      <th>x</th>\n      <th>y</th>\n    </tr>\n  </thead>\n  <tbody>\n    <tr>\n      <th>4</th>\n      <td>0.096862</td>\n      <td>0.280273</td>\n    </tr>\n    <tr>\n      <th>5</th>\n      <td>0.961302</td>\n      <td>0.713356</td>\n    </tr>\n    <tr>\n      <th>6</th>\n      <td>0.650298</td>\n      <td>0.742039</td>\n    </tr>\n    <tr>\n      <th>7</th>\n      <td>0.296161</td>\n      <td>0.198052</td>\n    </tr>\n  </tbody>\n</table>\n</div>"
     },
     "execution_count": 9,
     "metadata": {},
     "output_type": "execute_result"
    }
   ],
   "source": [
    "X.submit_data(vocs.random_inputs(4))\n",
    "X._input_data "
   ]
  },
  {
   "cell_type": "code",
   "execution_count": 10,
   "metadata": {
    "pycharm": {
     "name": "#%%\n"
    }
   },
   "outputs": [
    {
     "data": {
      "text/plain": "{4: <Future at 0x22b1247caf0 state=finished returned dict>,\n 5: <Future at 0x22b12435be0 state=finished raised ValueError>,\n 6: <Future at 0x22b12416c40 state=finished returned dict>,\n 7: <Future at 0x22b12435fd0 state=finished returned dict>}"
     },
     "execution_count": 10,
     "metadata": {},
     "output_type": "execute_result"
    }
   ],
   "source": [
    "X._futures"
   ]
  },
  {
   "cell_type": "code",
   "execution_count": 11,
   "metadata": {
    "pycharm": {
     "name": "#%%\n"
    }
   },
   "outputs": [
    {
     "data": {
      "text/plain": "          x         y        f1  xopt_error  \\\n0  0.052266  0.911927  0.834343       False   \n1  0.053366  0.435781  0.192753       False   \n2  0.141128  0.730097  0.552959       False   \n3  0.209750  0.898470  0.851243       False   \n4  0.096862  0.280273  0.087935       False   \n5  0.961302  0.713356       NaN        True   \n6  0.650298  0.742039  0.973510       False   \n7  0.296161  0.198052  0.126936       False   \n8  0.901273  0.438690       NaN        True   \n\n                                      xopt_error_str  \n0                                                     \n1                                                     \n2                                                     \n3                                                     \n4                                                     \n5  Traceback (most recent call last):\\n  File \"C:...  \n6                                                     \n7                                                     \n8  Traceback (most recent call last):\\n  File \"C:...  ",
      "text/html": "<div>\n<style scoped>\n    .dataframe tbody tr th:only-of-type {\n        vertical-align: middle;\n    }\n\n    .dataframe tbody tr th {\n        vertical-align: top;\n    }\n\n    .dataframe thead th {\n        text-align: right;\n    }\n</style>\n<table border=\"1\" class=\"dataframe\">\n  <thead>\n    <tr style=\"text-align: right;\">\n      <th></th>\n      <th>x</th>\n      <th>y</th>\n      <th>f1</th>\n      <th>xopt_error</th>\n      <th>xopt_error_str</th>\n    </tr>\n  </thead>\n  <tbody>\n    <tr>\n      <th>0</th>\n      <td>0.052266</td>\n      <td>0.911927</td>\n      <td>0.834343</td>\n      <td>False</td>\n      <td></td>\n    </tr>\n    <tr>\n      <th>1</th>\n      <td>0.053366</td>\n      <td>0.435781</td>\n      <td>0.192753</td>\n      <td>False</td>\n      <td></td>\n    </tr>\n    <tr>\n      <th>2</th>\n      <td>0.141128</td>\n      <td>0.730097</td>\n      <td>0.552959</td>\n      <td>False</td>\n      <td></td>\n    </tr>\n    <tr>\n      <th>3</th>\n      <td>0.209750</td>\n      <td>0.898470</td>\n      <td>0.851243</td>\n      <td>False</td>\n      <td></td>\n    </tr>\n    <tr>\n      <th>4</th>\n      <td>0.096862</td>\n      <td>0.280273</td>\n      <td>0.087935</td>\n      <td>False</td>\n      <td></td>\n    </tr>\n    <tr>\n      <th>5</th>\n      <td>0.961302</td>\n      <td>0.713356</td>\n      <td>NaN</td>\n      <td>True</td>\n      <td>Traceback (most recent call last):\\n  File \"C:...</td>\n    </tr>\n    <tr>\n      <th>6</th>\n      <td>0.650298</td>\n      <td>0.742039</td>\n      <td>0.973510</td>\n      <td>False</td>\n      <td></td>\n    </tr>\n    <tr>\n      <th>7</th>\n      <td>0.296161</td>\n      <td>0.198052</td>\n      <td>0.126936</td>\n      <td>False</td>\n      <td></td>\n    </tr>\n    <tr>\n      <th>8</th>\n      <td>0.901273</td>\n      <td>0.438690</td>\n      <td>NaN</td>\n      <td>True</td>\n      <td>Traceback (most recent call last):\\n  File \"C:...</td>\n    </tr>\n  </tbody>\n</table>\n</div>"
     },
     "execution_count": 11,
     "metadata": {},
     "output_type": "execute_result"
    }
   ],
   "source": [
    "# Singe generation step\n",
    "X.step()\n",
    "X.update_data()\n",
    "X.data"
   ]
  },
  {
   "cell_type": "markdown",
   "metadata": {
    "pycharm": {
     "name": "#%% md\n"
    }
   },
   "source": [
    "# Executors"
   ]
  },
  {
   "cell_type": "code",
   "execution_count": 12,
   "metadata": {
    "pycharm": {
     "name": "#%%\n"
    }
   },
   "outputs": [],
   "source": [
    "from dask.distributed import Client\n",
    "from concurrent.futures import ThreadPoolExecutor, ProcessPoolExecutor\n",
    "import logging"
   ]
  },
  {
   "cell_type": "code",
   "execution_count": 13,
   "metadata": {
    "pycharm": {
     "name": "#%%\n"
    }
   },
   "outputs": [],
   "source": [
    "MAX_WORKERS =10"
   ]
  },
  {
   "cell_type": "code",
   "execution_count": 14,
   "metadata": {
    "pycharm": {
     "name": "#%%\n"
    }
   },
   "outputs": [],
   "source": [
    "# Dask\n",
    "#client = Client( silence_logs=logging.ERROR)\n",
    "#executor = client.get_executor()\n",
    "#client"
   ]
  },
  {
   "cell_type": "code",
   "execution_count": 15,
   "metadata": {
    "pycharm": {
     "name": "#%%\n"
    }
   },
   "outputs": [
    {
     "data": {
      "text/plain": "<concurrent.futures.thread.ThreadPoolExecutor at 0x22b07bde520>"
     },
     "execution_count": 15,
     "metadata": {},
     "output_type": "execute_result"
    }
   ],
   "source": [
    "executor = ThreadPoolExecutor(max_workers=MAX_WORKERS)\n",
    "#executor = ProcessPoolExecutor(max_workers=MAX_WORKERS)\n",
    "executor"
   ]
  },
  {
   "cell_type": "code",
   "execution_count": 16,
   "metadata": {
    "pycharm": {
     "name": "#%%\n"
    }
   },
   "outputs": [],
   "source": [
    "X2 = XoptBase(RandomGenerator(vocs), Evaluator(f, executor=executor, max_workers=MAX_WORKERS), \n",
    "    vocs,\n",
    "    asynch=True)"
   ]
  },
  {
   "cell_type": "code",
   "execution_count": 17,
   "metadata": {
    "pycharm": {
     "name": "#%%\n"
    }
   },
   "outputs": [],
   "source": [
    "for _ in range(20):\n",
    "    X2.step()\n",
    "    X2.update_data()\n"
   ]
  },
  {
   "cell_type": "code",
   "execution_count": 18,
   "metadata": {
    "pycharm": {
     "name": "#%%\n"
    }
   },
   "outputs": [
    {
     "data": {
      "text/plain": "<AxesSubplot:xlabel='x', ylabel='y'>"
     },
     "execution_count": 18,
     "metadata": {},
     "output_type": "execute_result"
    },
    {
     "data": {
      "text/plain": "<Figure size 432x288 with 1 Axes>",
      "image/png": "[encoded data removed]"
     },
     "metadata": {
      "needs_background": "light"
     },
     "output_type": "display_data"
    }
   ],
   "source": [
    "X2.data.plot.scatter('x', 'y')"
   ]
  }
 ],
 "metadata": {
  "interpreter": {
   "hash": "72034539424920dfb606fe3b820b3f27dca0cbf1c69938110810ec4641e275b1"
  },
  "kernelspec": {
   "name": "xopt",
   "language": "python",
   "display_name": "xopt"
  },
  "language_info": {
   "codemirror_mode": {
    "name": "ipython",
    "version": 3
   },
   "file_extension": ".py",
   "mimetype": "text/x-python",
   "name": "python",
   "nbconvert_exporter": "python",
   "pygments_lexer": "ipython3",
   "version": "3.9.12"
  },
  "orig_nbformat": 4
 },
 "nbformat": 4,
 "nbformat_minor": 2
}