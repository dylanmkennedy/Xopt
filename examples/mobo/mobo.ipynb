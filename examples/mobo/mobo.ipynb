{
 "cells": [
  {
   "cell_type": "markdown",
   "metadata": {},
   "source": [
    "\n",
    "# Multi-objective Bayesian Optimization\n",
    "\n",
    "\n",
    "TNK function\n",
    "$n=2$ variables:\n",
    "$x_i \\in [0, \\pi], i=1,2$\n",
    "\n",
    "Objectives:\n",
    "- $f_i(x) = x_i$\n",
    "\n",
    "Constraints:\n",
    "- $g_1(x) = -x_1^2 -x_2^2 + 1 + 0.1 \\cos\\left(16 \\arctan \\frac{x_1}{x_2}\\right) \\le 0$\n",
    "- $g_2(x) = (x_1 - 1/2)^2 + (x_2-1/2)^2 \\le 0.5$"
   ]
  },
  {
   "cell_type": "code",
   "execution_count": 6,
   "metadata": {},
   "outputs": [],
   "source": [
    "%reset -f\n",
    "import numpy as np\n",
    "\n",
    "import torch\n",
    "from xopt import XoptBase, Evaluator\n",
    "from xopt.generators.bayesian import MOBOGenerator\n",
    "from xopt.resources.test_functions.tnk import evaluate_TNK, vocs\n",
    "\n",
    "evaluator = Evaluator(evaluate_TNK)\n",
    "\n",
    "generator = MOBOGenerator(vocs, n_initial=10, proximal_lengthscales=[1.0,1.0])\n",
    "xopt = XoptBase(generator, evaluator, vocs)\n",
    "xopt.step()"
   ]
  },
  {
   "cell_type": "code",
   "execution_count": 7,
   "outputs": [
    {
     "name": "stdout",
     "output_type": "stream",
     "text": [
      "step 0\n",
      "step 1\n",
      "step 2\n",
      "step 3\n",
      "step 4\n",
      "step 5\n",
      "step 6\n",
      "step 7\n",
      "step 8\n",
      "step 9\n",
      "step 10\n",
      "step 11\n",
      "step 12\n",
      "step 13\n",
      "step 14\n",
      "step 15\n",
      "step 16\n",
      "step 17\n",
      "step 18\n",
      "step 19\n",
      "step 20\n",
      "step 21\n",
      "step 22\n",
      "step 23\n",
      "step 24\n",
      "step 25\n",
      "step 26\n",
      "step 27\n",
      "step 28\n",
      "step 29\n",
      "step 30\n",
      "step 31\n",
      "step 32\n",
      "step 33\n",
      "step 34\n",
      "step 35\n",
      "step 36\n",
      "step 37\n",
      "step 38\n",
      "step 39\n",
      "step 40\n",
      "step 41\n",
      "step 42\n",
      "step 43\n",
      "step 44\n",
      "step 45\n",
      "step 46\n",
      "step 47\n",
      "step 48\n",
      "step 49\n"
     ]
    }
   ],
   "source": [
    "for i in range(50):\n",
    "    print(f'step {i}')\n",
    "    xopt.step()"
   ],
   "metadata": {
    "collapsed": false,
    "pycharm": {
     "name": "#%%\n"
    }
   }
  },
  {
   "cell_type": "code",
   "execution_count": 8,
   "metadata": {
    "pycharm": {
     "name": "#%%\n"
    }
   },
   "outputs": [
    {
     "data": {
      "text/plain": "<Figure size 432x288 with 2 Axes>",
      "image/png": "[encoded data removed]"
     },
     "metadata": {
      "needs_background": "light"
     },
     "output_type": "display_data"
    },
    {
     "data": {
      "text/plain": "<Figure size 432x288 with 2 Axes>",
      "image/png": "[encoded data removed]"
     },
     "metadata": {
      "needs_background": "light"
     },
     "output_type": "display_data"
    }
   ],
   "source": [
    "from xopt.generators.bayesian.utils import feasibility\n",
    "from matplotlib import pyplot as plt# plot model predictions\n",
    "bounds = vocs.bounds\n",
    "history = xopt.history\n",
    "model = generator.get_model(history)\n",
    "\n",
    "\n",
    "n = 100\n",
    "x = torch.linspace(*bounds.T[0],n)\n",
    "y = torch.linspace(*bounds.T[1],n)\n",
    "xx,yy = torch.meshgrid(x,y)\n",
    "pts = torch.hstack([ele.reshape(-1,1) for ele in (xx,yy)]).double()\n",
    "\n",
    "with torch.no_grad():\n",
    "    acq_pts = pts.unsqueeze(1)\n",
    "    acq = xopt.generator.get_acquisition(model)(acq_pts)\n",
    "\n",
    "    fig, ax = plt.subplots()\n",
    "    c = ax.pcolor(xx,yy,acq.reshape(n,n))\n",
    "    fig.colorbar(c)\n",
    "    ax.set_title('Acquisition function')\n",
    "\n",
    "    ax.plot(*history[[\"x1\",\"x2\"]].to_numpy().T,'.C1')\n",
    "\n",
    "    feas = feasibility(\n",
    "        pts.unsqueeze(1),\n",
    "        model,\n",
    "        generator.options.acq.sampler,\n",
    "        vocs\n",
    "    ).flatten()\n",
    "\n",
    "fig2, ax2 = plt.subplots()\n",
    "c2 = ax2.pcolor(xx,yy,feas.reshape(n,n))\n",
    "fig2.colorbar(c2)\n",
    "ax2.set_title('Feasibility')\n",
    "\n",
    "ax.plot(*history[[\"x1\",\"x2\"]].to_numpy().T,'.C1')\n",
    "\n",
    "\n",
    "theta = np.linspace(0,np.pi/2)\n",
    "r = np.sqrt(1 + 0.1*np.cos(16*theta))\n",
    "x_1 = r*np.sin(theta)\n",
    "x_2_lower = r*np.cos(theta)\n",
    "x_2_upper = (0.5 - (x_1 - 0.5)**2)**0.5 + 0.5\n",
    "\n",
    "z = np.zeros_like(x_1)\n",
    "ax.plot(x_1, x_2_lower,'r')\n",
    "ax2.plot(x_1, x_2_lower,'r')\n",
    "ax2.plot(*history[[\"x1\",\"x2\"]].to_numpy().T,'.C1')\n",
    "ax2.set_xlim(0, 2)\n",
    "ax2.set_ylim(0, 2)\n",
    "ax2.set_aspect('equal')"
   ]
  },
  {
   "cell_type": "code",
   "execution_count": 9,
   "outputs": [
    {
     "name": "stdout",
     "output_type": "stream",
     "text": [
      "          x1        x2               a        y1        y2         c1  \\\n",
      "0   2.223538  1.732199  dummy_constant  2.223538  1.732199   6.984168   \n",
      "1   1.336272  0.442871  dummy_constant  1.336272  0.442871   0.942071   \n",
      "2   0.752631  0.617307  dummy_constant  0.752631  0.617307  -0.052021   \n",
      "3   0.617765  1.387992  dummy_constant  0.617765  1.387992   1.216720   \n",
      "4   1.700715  0.436355  dummy_constant  1.700715  0.436355   2.146793   \n",
      "..       ...       ...             ...       ...       ...        ...   \n",
      "68  1.296409  0.077786  dummy_constant  1.296409  0.077786   0.629283   \n",
      "69  2.557120  2.579616  dummy_constant  2.557120  2.579616  12.093524   \n",
      "70  0.398751  0.792466  dummy_constant  0.398751  0.792466  -0.251477   \n",
      "71  0.614872  0.001174  dummy_constant  0.614872  0.001174  -0.721884   \n",
      "72  0.057455  1.377828  dummy_constant  0.057455  1.377828   0.823130   \n",
      "\n",
      "          c2 some_array  done       c1_f      c2_f  feasibility  \n",
      "0   4.488898  [1, 2, 3]  True  -6.984168  3.988898        False  \n",
      "1   0.702614  [1, 2, 3]  True  -0.942071  0.202614        False  \n",
      "2   0.077583  [1, 2, 3]  True   0.052021 -0.422417        False  \n",
      "3   0.802399  [1, 2, 3]  True  -1.216720  0.302399        False  \n",
      "4   1.445767  [1, 2, 3]  True  -2.146793  0.945767        False  \n",
      "..       ...        ...   ...        ...       ...          ...  \n",
      "68  0.812532  [1, 2, 3]  True  -0.629283  0.312532        False  \n",
      "69  8.556543  [1, 2, 3]  True -12.093524  8.056543        False  \n",
      "70  0.095788  [1, 2, 3]  True   0.251477 -0.404212        False  \n",
      "71  0.262023  [1, 2, 3]  True   0.721884 -0.237977        False  \n",
      "72  0.966427  [1, 2, 3]  True  -0.823130  0.466427        False  \n",
      "\n",
      "[73 rows x 12 columns]\n"
     ]
    },
    {
     "data": {
      "text/plain": "<Figure size 432x288 with 1 Axes>",
      "image/png": "[encoded data removed]"
     },
     "metadata": {
      "needs_background": "light"
     },
     "output_type": "display_data"
    }
   ],
   "source": [
    "fig,ax = plt.subplots()\n",
    "\n",
    "theta = np.linspace(0,np.pi/2)\n",
    "r = np.sqrt(1 + 0.1*np.cos(16*theta))\n",
    "x_1 = r*np.sin(theta)\n",
    "x_2_lower = r*np.cos(theta)\n",
    "x_2_upper = (0.5 - (x_1 - 0.5)**2)**0.5 + 0.5\n",
    "\n",
    "z = np.zeros_like(x_1)\n",
    "\n",
    "#ax2.plot(x_1, x_2_lower,'r')\n",
    "ax.fill_between(x_1, z, x_2_lower, fc='white')\n",
    "circle = plt.Circle((0.5, 0.5), 0.5**0.5,\n",
    "                    color='r', alpha=0.25, zorder=0,\n",
    "                    label='Valid Region')\n",
    "ax.add_patch(circle)\n",
    "history = vocs.append_constraints(history)\n",
    "print(history)\n",
    "\n",
    "ax.plot(*history[[\"x1\",\"x2\"]][history[\"feasibility\"]].to_numpy().T,'.C1')\n",
    "ax.plot(*history[[\"x1\",\"x2\"]][~history[\"feasibility\"]].to_numpy().T,'.C2')\n",
    "\n",
    "ax.set_xlim(0, 2)\n",
    "ax.set_ylim(0, 2)\n",
    "ax.set_aspect('equal')"
   ],
   "metadata": {
    "collapsed": false,
    "pycharm": {
     "name": "#%%\n"
    }
   }
  },
  {
   "cell_type": "code",
   "execution_count": 10,
   "outputs": [
    {
     "data": {
      "text/plain": "          x1        x2               a        y1        y2         c1  \\\n0   2.223538  1.732199  dummy_constant  2.223538  1.732199   6.984168   \n1   1.336272  0.442871  dummy_constant  1.336272  0.442871   0.942071   \n2   0.752631  0.617307  dummy_constant  0.752631  0.617307  -0.052021   \n3   0.617765  1.387992  dummy_constant  0.617765  1.387992   1.216720   \n4   1.700715  0.436355  dummy_constant  1.700715  0.436355   2.146793   \n..       ...       ...             ...       ...       ...        ...   \n68  1.296409  0.077786  dummy_constant  1.296409  0.077786   0.629283   \n69  2.557120  2.579616  dummy_constant  2.557120  2.579616  12.093524   \n70  0.398751  0.792466  dummy_constant  0.398751  0.792466  -0.251477   \n71  0.614872  0.001174  dummy_constant  0.614872  0.001174  -0.721884   \n72  0.057455  1.377828  dummy_constant  0.057455  1.377828   0.823130   \n\n          c2 some_array  done       c1_f      c2_f  feasibility  \n0   4.488898  [1, 2, 3]  True  -6.984168  3.988898        False  \n1   0.702614  [1, 2, 3]  True  -0.942071  0.202614        False  \n2   0.077583  [1, 2, 3]  True   0.052021 -0.422417        False  \n3   0.802399  [1, 2, 3]  True  -1.216720  0.302399        False  \n4   1.445767  [1, 2, 3]  True  -2.146793  0.945767        False  \n..       ...        ...   ...        ...       ...          ...  \n68  0.812532  [1, 2, 3]  True  -0.629283  0.312532        False  \n69  8.556543  [1, 2, 3]  True -12.093524  8.056543        False  \n70  0.095788  [1, 2, 3]  True   0.251477 -0.404212        False  \n71  0.262023  [1, 2, 3]  True   0.721884 -0.237977        False  \n72  0.966427  [1, 2, 3]  True  -0.823130  0.466427        False  \n\n[73 rows x 12 columns]",
      "text/html": "<div>\n<style scoped>\n    .dataframe tbody tr th:only-of-type {\n        vertical-align: middle;\n    }\n\n    .dataframe tbody tr th {\n        vertical-align: top;\n    }\n\n    .dataframe thead th {\n        text-align: right;\n    }\n</style>\n<table border=\"1\" class=\"dataframe\">\n  <thead>\n    <tr style=\"text-align: right;\">\n      <th></th>\n      <th>x1</th>\n      <th>x2</th>\n      <th>a</th>\n      <th>y1</th>\n      <th>y2</th>\n      <th>c1</th>\n      <th>c2</th>\n      <th>some_array</th>\n      <th>done</th>\n      <th>c1_f</th>\n      <th>c2_f</th>\n      <th>feasibility</th>\n    </tr>\n  </thead>\n  <tbody>\n    <tr>\n      <th>0</th>\n      <td>2.223538</td>\n      <td>1.732199</td>\n      <td>dummy_constant</td>\n      <td>2.223538</td>\n      <td>1.732199</td>\n      <td>6.984168</td>\n      <td>4.488898</td>\n      <td>[1, 2, 3]</td>\n      <td>True</td>\n      <td>-6.984168</td>\n      <td>3.988898</td>\n      <td>False</td>\n    </tr>\n    <tr>\n      <th>1</th>\n      <td>1.336272</td>\n      <td>0.442871</td>\n      <td>dummy_constant</td>\n      <td>1.336272</td>\n      <td>0.442871</td>\n      <td>0.942071</td>\n      <td>0.702614</td>\n      <td>[1, 2, 3]</td>\n      <td>True</td>\n      <td>-0.942071</td>\n      <td>0.202614</td>\n      <td>False</td>\n    </tr>\n    <tr>\n      <th>2</th>\n      <td>0.752631</td>\n      <td>0.617307</td>\n      <td>dummy_constant</td>\n      <td>0.752631</td>\n      <td>0.617307</td>\n      <td>-0.052021</td>\n      <td>0.077583</td>\n      <td>[1, 2, 3]</td>\n      <td>True</td>\n      <td>0.052021</td>\n      <td>-0.422417</td>\n      <td>False</td>\n    </tr>\n    <tr>\n      <th>3</th>\n      <td>0.617765</td>\n      <td>1.387992</td>\n      <td>dummy_constant</td>\n      <td>0.617765</td>\n      <td>1.387992</td>\n      <td>1.216720</td>\n      <td>0.802399</td>\n      <td>[1, 2, 3]</td>\n      <td>True</td>\n      <td>-1.216720</td>\n      <td>0.302399</td>\n      <td>False</td>\n    </tr>\n    <tr>\n      <th>4</th>\n      <td>1.700715</td>\n      <td>0.436355</td>\n      <td>dummy_constant</td>\n      <td>1.700715</td>\n      <td>0.436355</td>\n      <td>2.146793</td>\n      <td>1.445767</td>\n      <td>[1, 2, 3]</td>\n      <td>True</td>\n      <td>-2.146793</td>\n      <td>0.945767</td>\n      <td>False</td>\n    </tr>\n    <tr>\n      <th>...</th>\n      <td>...</td>\n      <td>...</td>\n      <td>...</td>\n      <td>...</td>\n      <td>...</td>\n      <td>...</td>\n      <td>...</td>\n      <td>...</td>\n      <td>...</td>\n      <td>...</td>\n      <td>...</td>\n      <td>...</td>\n    </tr>\n    <tr>\n      <th>68</th>\n      <td>1.296409</td>\n      <td>0.077786</td>\n      <td>dummy_constant</td>\n      <td>1.296409</td>\n      <td>0.077786</td>\n      <td>0.629283</td>\n      <td>0.812532</td>\n      <td>[1, 2, 3]</td>\n      <td>True</td>\n      <td>-0.629283</td>\n      <td>0.312532</td>\n      <td>False</td>\n    </tr>\n    <tr>\n      <th>69</th>\n      <td>2.557120</td>\n      <td>2.579616</td>\n      <td>dummy_constant</td>\n      <td>2.557120</td>\n      <td>2.579616</td>\n      <td>12.093524</td>\n      <td>8.556543</td>\n      <td>[1, 2, 3]</td>\n      <td>True</td>\n      <td>-12.093524</td>\n      <td>8.056543</td>\n      <td>False</td>\n    </tr>\n    <tr>\n      <th>70</th>\n      <td>0.398751</td>\n      <td>0.792466</td>\n      <td>dummy_constant</td>\n      <td>0.398751</td>\n      <td>0.792466</td>\n      <td>-0.251477</td>\n      <td>0.095788</td>\n      <td>[1, 2, 3]</td>\n      <td>True</td>\n      <td>0.251477</td>\n      <td>-0.404212</td>\n      <td>False</td>\n    </tr>\n    <tr>\n      <th>71</th>\n      <td>0.614872</td>\n      <td>0.001174</td>\n      <td>dummy_constant</td>\n      <td>0.614872</td>\n      <td>0.001174</td>\n      <td>-0.721884</td>\n      <td>0.262023</td>\n      <td>[1, 2, 3]</td>\n      <td>True</td>\n      <td>0.721884</td>\n      <td>-0.237977</td>\n      <td>False</td>\n    </tr>\n    <tr>\n      <th>72</th>\n      <td>0.057455</td>\n      <td>1.377828</td>\n      <td>dummy_constant</td>\n      <td>0.057455</td>\n      <td>1.377828</td>\n      <td>0.823130</td>\n      <td>0.966427</td>\n      <td>[1, 2, 3]</td>\n      <td>True</td>\n      <td>-0.823130</td>\n      <td>0.466427</td>\n      <td>False</td>\n    </tr>\n  </tbody>\n</table>\n<p>73 rows × 12 columns</p>\n</div>"
     },
     "execution_count": 10,
     "metadata": {},
     "output_type": "execute_result"
    }
   ],
   "source": [
    "history\n"
   ],
   "metadata": {
    "collapsed": false,
    "pycharm": {
     "name": "#%%\n"
    }
   }
  },
  {
   "cell_type": "code",
   "execution_count": 10,
   "outputs": [],
   "source": [],
   "metadata": {
    "collapsed": false,
    "pycharm": {
     "name": "#%%\n"
    }
   }
  }
 ],
 "metadata": {
  "kernelspec": {
   "name": "xopt",
   "language": "python",
   "display_name": "xopt"
  },
  "language_info": {
   "codemirror_mode": {
    "name": "ipython",
    "version": 3
   },
   "file_extension": ".py",
   "mimetype": "text/x-python",
   "name": "python",
   "nbconvert_exporter": "python",
   "pygments_lexer": "ipython3",
   "version": "3.9.7"
  }
 },
 "nbformat": 4,
 "nbformat_minor": 4
}