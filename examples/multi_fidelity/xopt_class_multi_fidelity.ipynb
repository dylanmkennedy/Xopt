{
 "cells": [
  {
   "cell_type": "code",
   "execution_count": 1,
   "metadata": {},
   "outputs": [],
   "source": [
    "# Useful for debugging\n",
    "%load_ext autoreload\n",
    "%autoreload 2"
   ]
  },
  {
   "cell_type": "markdown",
   "metadata": {},
   "source": [
    "# Xopt class, TNK test function\n",
    "\n",
    "This is the class method for running Xopt. Use Bayesian exploration to explore the input space.\n",
    "\n",
    "TNK function\n",
    "$n=2$ variables:\n",
    "$x_i \\in [0, \\pi], i=1,2$\n",
    "\n",
    "Objectives:\n",
    "- $f_i(x) = x_i$\n",
    "\n",
    "Constraints:\n",
    "- $g_1(x) = -x_1^2 -x_2^2 + 1 + 0.1 \\cos\\left(16 \\arctan \\frac{x_1}{x_2}\\right) \\le 0$\n",
    "- $g_2(x) = (x_1 - 1/2)^2 + (x_2-1/2)^2 \\le 0.5$"
   ]
  },
  {
   "cell_type": "code",
   "execution_count": 2,
   "metadata": {},
   "outputs": [],
   "source": [
    "# Import the class\n",
    "from xopt import Xopt\n",
    "from xopt.bayesian.generators.multi_fidelity import MultiFidelityGenerator\n",
    "from xopt.bayesian.models.models import create_multi_fidelity_model\n",
    "from botorch.test_functions.multi_fidelity import AugmentedHartmann\n"
   ]
  },
  {
   "cell_type": "markdown",
   "metadata": {},
   "source": [
    "The `Xopt` object can be instantiated from a JSON or YAML file, or a dict, with the proper structure.\n",
    "\n",
    "Here we will make one"
   ]
  },
  {
   "cell_type": "code",
   "execution_count": 3,
   "metadata": {},
   "outputs": [],
   "source": [
    "import yaml\n",
    "# Make a proper input file. \n",
    "YAML = \"\"\"\n",
    "xopt: {output_path: null, verbose: true}\n",
    "\n",
    "algorithm:\n",
    "  name: multi_fidelity\n",
    "  options:  \n",
    "      n_initial_samples: 16\n",
    "      n_steps: 10\n",
    "      verbose: True\n",
    "      use_gpu: False\n",
    "      generator_options:                     ## options for bayesian exploration acquisition function\n",
    "          batch_size: 4                      ## batch size for parallelized optimization\n",
    "\n",
    "\n",
    "simulation: \n",
    "  name: test_multi_fidelity\n",
    "  evaluate: xopt.evaluators.test_multi_fidelity.evaluate\n",
    "\n",
    "vocs:\n",
    "  name: test_multi_fidelity\n",
    "  description: null\n",
    "  simulation: test_multi_fidelity\n",
    "  templates: null\n",
    "  variables:\n",
    "    x1: [0, 1.0]\n",
    "    x2: [0, 1.0]\n",
    "    x3: [0, 1.0]\n",
    "    x4: [0, 1.0]\n",
    "    x5: [0, 1.0]\n",
    "    x6: [0, 1.0]\n",
    "    cost: [0, 1.0]\n",
    "  objectives:\n",
    "    y1: 'MINIMIZE'\n",
    "  linked_variables: {}\n",
    "  constants: {a: dummy_constant}\n",
    "\n",
    "\"\"\"\n",
    "config = yaml.safe_load(YAML)"
   ]
  },
  {
   "cell_type": "code",
   "execution_count": 4,
   "metadata": {},
   "outputs": [
    {
     "name": "stdout",
     "output_type": "stream",
     "text": [
      "Loading config as dict.\n",
      "Warning: No path set for key xopt : output_path\n",
      "Warning: No path set for key algorithm : options : restart_file\n"
     ]
    },
    {
     "data": {
      "text/plain": [
       "\n",
       "            Xopt \n",
       "________________________________           \n",
       "Version: 0.4.3+86.g7e21749.dirty\n",
       "Configured: True\n",
       "Config as YAML:\n",
       "xopt: {output_path: null, verbose: true, algorithm: cnsga}\n",
       "algorithm:\n",
       "  name: multi_fidelity\n",
       "  function: xopt.bayesian.algorithms.multi_fidelity_optimize\n",
       "  options:\n",
       "    n_initial_samples: 16\n",
       "    n_steps: 10\n",
       "    verbose: true\n",
       "    use_gpu: false\n",
       "    generator_options: {batch_size: 4}\n",
       "    custom_model: !!python/name:xopt.bayesian.models.models.create_multi_fidelity_model ''\n",
       "    restart_file: null\n",
       "    initial_x: null\n",
       "simulation:\n",
       "  name: test_multi_fidelity\n",
       "  evaluate: xopt.evaluators.test_multi_fidelity.evaluate\n",
       "  options: {extra_option: abc}\n",
       "vocs:\n",
       "  name: test_multi_fidelity\n",
       "  description: null\n",
       "  simulation: test_multi_fidelity\n",
       "  templates: null\n",
       "  variables:\n",
       "    x1: [0, 1.0]\n",
       "    x2: [0, 1.0]\n",
       "    x3: [0, 1.0]\n",
       "    x4: [0, 1.0]\n",
       "    x5: [0, 1.0]\n",
       "    x6: [0, 1.0]\n",
       "    cost: [0, 1.0]\n",
       "  objectives: {y1: MINIMIZE}\n",
       "  linked_variables: {}\n",
       "  constants: {a: dummy_constant}\n",
       "  constraints: {}"
      ]
     },
     "execution_count": 4,
     "metadata": {},
     "output_type": "execute_result"
    }
   ],
   "source": [
    "X = Xopt(config)\n",
    "X"
   ]
  },
  {
   "cell_type": "markdown",
   "metadata": {},
   "source": [
    "# Run BayesOpt"
   ]
  },
  {
   "cell_type": "code",
   "execution_count": 5,
   "metadata": {},
   "outputs": [],
   "source": [
    "# Pick one of these\n",
    "from concurrent.futures import ThreadPoolExecutor as PoolExecutor\n",
    "#from concurrent.futures import ProcessPoolExecutor as PoolExecutor\n",
    "\n",
    "executor = PoolExecutor()\n",
    "# This will also work. \n",
    "#executor=None"
   ]
  },
  {
   "cell_type": "code",
   "execution_count": 6,
   "metadata": {},
   "outputs": [
    {
     "name": "stdout",
     "output_type": "stream",
     "text": [
      "Starting at time 2021-08-19T11:39:41-05:00\n",
      "started running optimization with generator: <xopt.bayesian.generators.multi_fidelity.MultiFidelityGenerator object at 0x00000219B9145F10>\n",
      "submitting initial candidates at time 2021-08-19T11:39:41-05:00\n",
      "starting optimization loop\n",
      "Model creation time: 0.137 s\n",
      "Candidate generation time: 26.16 s\n",
      "Candidate(s): tensor([[0.4658, 0.8763, 0.6194, 0.4661, 0.2927, 0.1507, 0.0000],\n",
      "        [0.4751, 0.9884, 0.5287, 0.6472, 0.1520, 0.0269, 0.0000],\n",
      "        [0.5359, 0.9785, 0.7454, 0.5369, 0.0750, 0.1778, 0.0000],\n",
      "        [0.5114, 0.9264, 0.8327, 0.6452, 0.2898, 0.0396, 0.0000]],\n",
      "       dtype=torch.float64)\n",
      "submitting candidates at time 2021-08-19T11:40:07-05:00\n",
      "Model creation time: 0.3175 s\n",
      "Candidate generation time: 26.35 s\n",
      "Candidate(s): tensor([[0.5199, 0.8965, 0.5287, 0.5830, 0.2593, 0.0000, 0.0643],\n",
      "        [0.4429, 0.9768, 0.6545, 0.5876, 0.2708, 0.0000, 0.0648],\n",
      "        [0.4665, 0.8231, 0.6355, 0.6923, 0.2289, 0.0160, 0.0000],\n",
      "        [0.4841, 0.9676, 0.5583, 0.7314, 0.2876, 0.1002, 0.0407]],\n",
      "       dtype=torch.float64)\n",
      "submitting candidates at time 2021-08-19T11:40:34-05:00\n",
      "Model creation time: 0.466 s\n",
      "Candidate generation time: 27.45 s\n",
      "Candidate(s): tensor([[4.5201e-01, 8.9989e-01, 8.0434e-01, 5.5339e-01, 2.0075e-01, 0.0000e+00,\n",
      "         6.6585e-01],\n",
      "        [6.3167e-04, 1.9827e-01, 2.1413e-01, 2.6568e-01, 8.6203e-01, 5.2067e-01,\n",
      "         7.4192e-01],\n",
      "        [4.2608e-01, 8.6768e-01, 6.0009e-01, 5.6285e-01, 1.9587e-01, 1.3527e-02,\n",
      "         6.8044e-02],\n",
      "        [4.4391e-01, 8.2774e-01, 6.9823e-01, 5.7022e-01, 3.2536e-01, 3.1299e-04,\n",
      "         6.8107e-01]], dtype=torch.float64)\n",
      "submitting candidates at time 2021-08-19T11:41:02-05:00\n",
      "Model creation time: 0.566 s\n",
      "Candidate generation time: 31.85 s\n",
      "Candidate(s): tensor([[0.4086, 0.8697, 0.5422, 0.5534, 0.0999, 0.0000, 0.7421],\n",
      "        [0.3694, 0.8747, 0.7091, 0.5459, 0.1855, 0.0000, 0.6790],\n",
      "        [0.4034, 0.8814, 0.6044, 0.4719, 0.1973, 0.0000, 0.6865],\n",
      "        [0.3916, 0.9063, 0.5003, 0.5576, 0.2484, 0.0353, 0.7717]],\n",
      "       dtype=torch.float64)\n",
      "submitting candidates at time 2021-08-19T11:41:34-05:00\n",
      "Model creation time: 1.052 s\n",
      "Candidate generation time: 38.12 s\n",
      "Candidate(s): tensor([[3.9593e-01, 8.8938e-01, 6.4841e-01, 5.6134e-01, 1.5039e-01, 6.2689e-02,\n",
      "         7.6995e-01],\n",
      "        [4.8286e-01, 4.2141e-01, 3.1450e-04, 4.3808e-01, 7.4564e-04, 6.3478e-01,\n",
      "         1.0000e+00],\n",
      "        [4.5922e-01, 1.6867e-02, 1.7202e-01, 2.6962e-01, 0.0000e+00, 1.0000e+00,\n",
      "         1.0000e+00],\n",
      "        [1.0524e-01, 1.0217e-01, 1.6309e-01, 0.0000e+00, 2.9595e-01, 0.0000e+00,\n",
      "         1.0000e+00]], dtype=torch.float64)\n",
      "submitting candidates at time 2021-08-19T11:42:13-05:00\n",
      "Model creation time: 1.197 s\n",
      "Candidate generation time: 41.05 s\n",
      "Candidate(s): tensor([[1.0000, 0.7480, 0.2858, 0.2333, 0.2198, 1.0000, 1.0000],\n",
      "        [0.3843, 0.9055, 0.6148, 0.6150, 0.1666, 0.0313, 0.7785],\n",
      "        [0.9314, 0.5101, 0.9551, 0.6597, 0.3180, 0.1945, 1.0000],\n",
      "        [0.3822, 0.8491, 0.5399, 0.5893, 0.1997, 0.0503, 0.7848]],\n",
      "       dtype=torch.float64)\n",
      "submitting candidates at time 2021-08-19T11:42:56-05:00\n",
      "Model creation time: 0.801 s\n",
      "Candidate generation time: 45.11 s\n",
      "Candidate(s): tensor([[0.4840, 0.2505, 0.0776, 0.3696, 0.0625, 0.7568, 1.0000],\n",
      "        [0.4910, 0.2306, 0.1125, 0.3844, 0.0000, 0.7377, 1.0000],\n",
      "        [0.4027, 0.8851, 0.6942, 0.5778, 0.2875, 0.0496, 0.8069],\n",
      "        [0.4852, 0.2532, 0.0703, 0.3705, 0.0648, 0.7587, 0.6239]],\n",
      "       dtype=torch.float64)\n",
      "submitting candidates at time 2021-08-19T11:43:42-05:00\n",
      "Model creation time: 1.433 s\n",
      "Candidate generation time: 47.33 s\n",
      "Candidate(s): tensor([[4.5480e-01, 2.6286e-01, 0.0000e+00, 3.5146e-01, 4.4206e-01, 8.1529e-01,\n",
      "         1.0000e+00],\n",
      "        [4.2201e-01, 3.7769e-01, 9.3769e-04, 3.2888e-01, 3.8699e-01, 8.4829e-01,\n",
      "         1.0000e+00],\n",
      "        [4.1797e-01, 2.6052e-01, 5.6505e-03, 3.8026e-01, 4.5003e-01, 8.1922e-01,\n",
      "         1.0000e+00],\n",
      "        [3.0703e-01, 8.9586e-01, 1.4887e-01, 5.7245e-01, 8.1100e-02, 3.5812e-02,\n",
      "         9.2843e-01]], dtype=torch.float64)\n",
      "submitting candidates at time 2021-08-19T11:44:30-05:00\n",
      "Model creation time: 1.403 s\n",
      "Candidate generation time: 45.98 s\n",
      "Candidate(s): tensor([[0.5006, 0.3017, 0.2962, 0.3779, 0.2438, 0.8806, 1.0000],\n",
      "        [0.4952, 0.3409, 0.0884, 0.3790, 0.2650, 0.8788, 1.0000],\n",
      "        [1.0000, 0.9999, 0.9999, 1.0000, 0.3107, 1.0000, 1.0000],\n",
      "        [0.4503, 0.7553, 0.3797, 0.0489, 0.8748, 0.4558, 1.0000]],\n",
      "       dtype=torch.float64)\n",
      "submitting candidates at time 2021-08-19T11:45:18-05:00\n",
      "Model creation time: 1.246 s\n",
      "Candidate generation time: 51.88 s\n",
      "Candidate(s): tensor([[0.2829, 0.9049, 0.4658, 0.5775, 0.5720, 0.1001, 1.0000],\n",
      "        [1.0000, 0.4229, 0.9665, 0.6458, 0.8310, 0.5339, 1.0000],\n",
      "        [0.8659, 0.5776, 0.2096, 0.5017, 0.4335, 0.8292, 1.0000],\n",
      "        [0.4347, 0.8788, 0.5391, 0.5905, 0.2153, 0.0185, 0.8476]],\n",
      "       dtype=torch.float64)\n",
      "submitting candidates at time 2021-08-19T11:46:11-05:00\n"
     ]
    }
   ],
   "source": [
    "# Change max generations\n",
    "X.run(executor=executor)\n",
    "results = X.results"
   ]
  },
  {
   "cell_type": "code",
   "execution_count": 7,
   "metadata": {},
   "outputs": [],
   "source": [
    "# create generator object\n",
    "gen = MultiFidelityGenerator()"
   ]
  },
  {
   "cell_type": "code",
   "execution_count": 8,
   "metadata": {},
   "outputs": [],
   "source": [
    "# create model\n",
    "model = create_multi_fidelity_model(results['variables'], results['corrected_objectives'], results['corrected_constraints'], X.vocs)"
   ]
  },
  {
   "cell_type": "code",
   "execution_count": 9,
   "metadata": {},
   "outputs": [
    {
     "data": {
      "text/plain": [
       "tensor([-3.1942])"
      ]
     },
     "execution_count": 9,
     "metadata": {},
     "output_type": "execute_result"
    }
   ],
   "source": [
    "rec = gen.get_recommendation(model, X.vocs)\n",
    "problem = AugmentedHartmann(negate=False)\n",
    "problem(rec)"
   ]
  },
  {
   "cell_type": "code",
   "execution_count": null,
   "metadata": {},
   "outputs": [],
   "source": []
  }
 ],
 "metadata": {
  "kernelspec": {
   "display_name": "xopt",
   "language": "python",
   "name": "xopt"
  },
  "language_info": {
   "codemirror_mode": {
    "name": "ipython",
    "version": 3
   },
   "file_extension": ".py",
   "mimetype": "text/x-python",
   "name": "python",
   "nbconvert_exporter": "python",
   "pygments_lexer": "ipython3",
   "version": "3.9.6"
  }
 },
 "nbformat": 4,
 "nbformat_minor": 4
}
