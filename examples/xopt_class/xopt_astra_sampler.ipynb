{
 "cells": [
  {
   "cell_type": "code",
   "execution_count": 1,
   "metadata": {},
   "outputs": [],
   "source": [
    "# Useful for debugging\n",
    "%load_ext autoreload\n",
    "%autoreload 2"
   ]
  },
  {
   "cell_type": "markdown",
   "metadata": {},
   "source": [
    "# Xopt class, Astra kekgun example\n",
    "\n",
    "This is the class method for running Xopt."
   ]
  },
  {
   "cell_type": "code",
   "execution_count": 2,
   "metadata": {},
   "outputs": [],
   "source": [
    "from xopt import Xopt"
   ]
  },
  {
   "cell_type": "code",
   "execution_count": 3,
   "metadata": {},
   "outputs": [],
   "source": [
    "# Make a proper input file. \n",
    "YAML=\"\"\"\n",
    "xopt: {output_path: temp, verbose: true,\n",
    "  algorithm: random_sampler}\n",
    "  \n",
    "algorithm:\n",
    "  name: random_sampler\n",
    "  options: {verbose: T, chunk_size: 4, max_samples: 10} \n",
    "\n",
    "simulation:\n",
    "  name: astra_with_generator\n",
    "  evaluate: astra.evaluate.evaluate_astra_with_generator\n",
    "\n",
    "# Note that you can call another file in the top level group:\n",
    "vocs: ../templates/kekgun/kekgun_vocs.json\n",
    "\n",
    "\"\"\""
   ]
  },
  {
   "cell_type": "code",
   "execution_count": 4,
   "metadata": {},
   "outputs": [
    {
     "name": "stdout",
     "output_type": "stream",
     "text": [
      "mkdir: temp/: File exists\n"
     ]
    }
   ],
   "source": [
    "!mkdir temp/"
   ]
  },
  {
   "cell_type": "code",
   "execution_count": 5,
   "metadata": {},
   "outputs": [
    {
     "name": "stdout",
     "output_type": "stream",
     "text": [
      "Warning: No path set for key simulation::options::archive_path\n"
     ]
    },
    {
     "data": {
      "text/plain": [
       "\n",
       "            Xopt\n",
       "________________________________           \n",
       "\n",
       "Configured: True\n",
       "\n",
       "Config as YAML:\n",
       "xopt: {output_path: /Users/chrisonian/Code/GitHub/xopt/examples/xopt_class/temp, verbose: true,\n",
       "  algorithm: random_sampler}\n",
       "algorithm:\n",
       "  name: random_sampler\n",
       "  function: xopt.sampler.random_sampler\n",
       "  options: {verbose: T, chunk_size: 4, max_samples: 10}\n",
       "simulation:\n",
       "  name: astra_with_generator\n",
       "  evaluate: astra.evaluate.evaluate_astra_with_generator\n",
       "  options: {archive_path: null, merit_f: null, astra_input_file: /Users/chrisonian/Code/GitHub/xopt/examples/templates/kekgun/kekgun.in,\n",
       "    generator_input_file: /Users/chrisonian/Code/GitHub/xopt/examples/templates/kekgun/dist004.in}\n",
       "vocs:\n",
       "  name: kekgun\n",
       "  description: Test case\n",
       "  simulation: astra_with_generator\n",
       "  templates: {astra_input_file: /Users/chrisonian/Code/GitHub/xopt/examples/templates/kekgun/kekgun.in,\n",
       "    generator_input_file: /Users/chrisonian/Code/GitHub/xopt/examples/templates/kekgun/dist004.in}\n",
       "  variables:\n",
       "    sig_x: [0.05, 1]\n",
       "    lt: [0.005, 0.07]\n",
       "    maxe(1): [20, 50]\n",
       "    phi(1): [-30, 30]\n",
       "    maxb(1): [0, 0.4]\n",
       "    maxe(2): [0, 32]\n",
       "    phi(2): [-180, 180]\n",
       "    maxb(2): [0, 0.3]\n",
       "    maxe(3): [0, 32]\n",
       "    maxe(4): [0, 32]\n",
       "    phi(3): [-45, 45]\n",
       "    phi(4): [-45, 45]\n",
       "    phi(6): [-45, 45]\n",
       "  constants: {ipart: 1000, lspch: true, zstop: 0.2}\n",
       "  objectives: {end_core_emit_95percent_x: MINIMIZE, end_sigma_z: MINIMIZE}\n",
       "  constraints:\n",
       "    end_sigma_z: [LESS_THAN, 0.0015]\n",
       "    end_core_emit_95percent_x: [LESS_THAN, 9.0e-07]\n",
       "    end_sigma_energy: [LESS_THAN, 200000.0]\n",
       "    end_higher_order_energy_spread: [LESS_THAN, 5000.0]\n",
       "    end_mean_kinetic_energy: [GREATER_THAN, 90000000.0]\n",
       "    end_n_particle_loss: [LESS_THAN, 1]\n",
       "  linked_variables: null"
      ]
     },
     "execution_count": 5,
     "metadata": {},
     "output_type": "execute_result"
    }
   ],
   "source": [
    "# Create object\n",
    "X = Xopt(config=YAML)\n",
    "\n",
    "# Change some things to make it run faster\n",
    "X.vocs['constants']['lspch'] = True\n",
    "X.vocs['constants']['ipart'] = 1000\n",
    "X.vocs['constants']['zstop'] = 0.2\n",
    "\n",
    "# Show config\n",
    "X"
   ]
  },
  {
   "cell_type": "code",
   "execution_count": 6,
   "metadata": {},
   "outputs": [
    {
     "data": {
      "text/plain": [
       "{'sig_x': 0.5113612128172825,\n",
       " 'lt': 0.055949995371974946,\n",
       " 'maxe(1)': 22.695817140466303,\n",
       " 'phi(1)': 10.124649813125473,\n",
       " 'maxb(1)': 0.14412594641942067,\n",
       " 'maxe(2)': 27.127452100352276,\n",
       " 'phi(2)': -35.911635232148456,\n",
       " 'maxb(2)': 0.28659221835676457,\n",
       " 'maxe(3)': 1.4087564405804152,\n",
       " 'maxe(4)': 28.28312671407289,\n",
       " 'phi(3)': -26.827614805844036,\n",
       " 'phi(4)': -25.232379711719574,\n",
       " 'phi(6)': -10.518342003774883,\n",
       " 'ipart': 1000,\n",
       " 'lspch': True,\n",
       " 'zstop': 0.2}"
      ]
     },
     "execution_count": 6,
     "metadata": {},
     "output_type": "execute_result"
    }
   ],
   "source": [
    "# Check random inputs \n",
    "X.random_inputs()"
   ]
  },
  {
   "cell_type": "code",
   "execution_count": 7,
   "metadata": {},
   "outputs": [
    {
     "name": "stdout",
     "output_type": "stream",
     "text": [
      "CPU times: user 86.5 ms, sys: 13.3 ms, total: 99.8 ms\n",
      "Wall time: 5.71 s\n"
     ]
    },
    {
     "data": {
      "text/plain": [
       "{'error': False,\n",
       " 'end_mean_z': 0.2,\n",
       " 'end_norm_emit_x': 5.6408e-07,\n",
       " 'end_core_emit_95percent_x': 4.1000999999999995e-07,\n",
       " 'end_core_emit_90percent_x': 3.4955999999999996e-07,\n",
       " 'end_core_emit_80percent_x': 2.5896000000000004e-07,\n",
       " 'end_norm_emit_y': 5.5714e-07,\n",
       " 'end_core_emit_95percent_y': 4.1188999999999996e-07,\n",
       " 'end_core_emit_90percent_y': 3.5210999999999994e-07,\n",
       " 'end_core_emit_80percent_y': 2.6151e-07,\n",
       " 'end_norm_emit_z': 4.6601,\n",
       " 'end_core_emit_95percent_z': 3.4664e-06,\n",
       " 'end_core_emit_905percent_z': 2.8958e-06,\n",
       " 'end_core_emit_80percent_z': 2.2555999999999996e-06,\n",
       " 'end_mean_t': 7.4181e-10,\n",
       " 'end_mean_x': 1.0882e-07,\n",
       " 'end_sigma_x': 0.00021184,\n",
       " 'end_sigma_xp': 0.0006152,\n",
       " 'end_cov_x__xp': 4.91214592e-08,\n",
       " 'end_mean_y': -1.1474000000000001e-07,\n",
       " 'end_sigma_y': 0.00021178,\n",
       " 'end_sigma_yp': 0.00060827,\n",
       " 'end_cov_y__yp': 4.8787758600000006e-08,\n",
       " 'end_mean_kinetic_energy': 1931000.0,\n",
       " 'end_sigma_z': 0.0019024,\n",
       " 'end_sigma_energy': 3563.4,\n",
       " 'end_cov_z__energy': -4.9234112,\n",
       " 'end_n_particle_loss': 0,\n",
       " 'end_higher_order_energy_spread': 1291.1690479890704,\n",
       " 'fingerprint': 'a32127cad4bbec6cca74b0f821a58581'}"
      ]
     },
     "execution_count": 7,
     "metadata": {},
     "output_type": "execute_result"
    }
   ],
   "source": [
    "%%time\n",
    "# Do a random evaluate to check that everything will run\n",
    "output = X.random_evaluate()\n",
    "output"
   ]
  },
  {
   "cell_type": "code",
   "execution_count": 8,
   "metadata": {},
   "outputs": [
    {
     "data": {
      "text/plain": [
       "{'verbose': 'T', 'chunk_size': 4, 'max_samples': 10}"
      ]
     },
     "execution_count": 8,
     "metadata": {},
     "output_type": "execute_result"
    }
   ],
   "source": [
    "# These are the algorithm options\n",
    "X.algorithm['options']"
   ]
  },
  {
   "cell_type": "code",
   "execution_count": 9,
   "metadata": {},
   "outputs": [
    {
     "data": {
      "text/plain": [
       "{'archive_path': None,\n",
       " 'merit_f': None,\n",
       " 'astra_input_file': '/Users/chrisonian/Code/GitHub/xopt/examples/templates/kekgun/kekgun.in',\n",
       " 'generator_input_file': '/Users/chrisonian/Code/GitHub/xopt/examples/templates/kekgun/dist004.in'}"
      ]
     },
     "execution_count": 9,
     "metadata": {},
     "output_type": "execute_result"
    }
   ],
   "source": [
    "# These are the options in the evaluate function\n",
    "X.simulation['options']"
   ]
  },
  {
   "cell_type": "markdown",
   "metadata": {},
   "source": [
    "# Run Sampler using processes or threads"
   ]
  },
  {
   "cell_type": "code",
   "execution_count": 10,
   "metadata": {},
   "outputs": [],
   "source": [
    "from concurrent.futures import ProcessPoolExecutor as PoolExecutor\n",
    "#from concurrent.futures import ThreadPoolExecutor as PoolExecutor\n",
    "executor = PoolExecutor()"
   ]
  },
  {
   "cell_type": "code",
   "execution_count": 11,
   "metadata": {},
   "outputs": [
    {
     "name": "stdout",
     "output_type": "stream",
     "text": [
      "\n",
      "\n",
      "███████╗ █████╗ ███╗   ███╗██████╗ ██╗     ███████╗██████╗ \n",
      "██╔════╝██╔══██╗████╗ ████║██╔══██╗██║     ██╔════╝██╔══██╗\n",
      "███████╗███████║██╔████╔██║██████╔╝██║     █████╗  ██████╔╝\n",
      "╚════██║██╔══██║██║╚██╔╝██║██╔═══╝ ██║     ██╔══╝  ██╔══██╗\n",
      "███████║██║  ██║██║ ╚═╝ ██║██║     ███████╗███████╗██║  ██║\n",
      "╚══════╝╚═╝  ╚═╝╚═╝     ╚═╝╚═╝     ╚══════╝╚══════╝╚═╝  ╚═╝\n",
      "                                                           \n",
      "\n",
      "Xopt Random Sampler\n",
      "\n",
      "\n",
      "....4 samples completed in 0.15728 minutes\n",
      "Samples written to:\n",
      " /Users/chrisonian/Code/GitHub/xopt/examples/xopt_class/temp/sampler-2020-02-11-21.json\n",
      "....4 samples completed in 0.11342 minutes\n",
      "Samples written to:\n",
      " /Users/chrisonian/Code/GitHub/xopt/examples/xopt_class/temp/sampler-2020-02-11-22.json\n",
      "..."
     ]
    }
   ],
   "source": [
    "# Show config\n",
    "X.run(executor)"
   ]
  },
  {
   "cell_type": "code",
   "execution_count": 13,
   "metadata": {},
   "outputs": [
    {
     "data": {
      "text/plain": [
       "[False, False, False, False, False, False, False, False, False, False, False]"
      ]
     },
     "execution_count": 13,
     "metadata": {},
     "output_type": "execute_result"
    }
   ],
   "source": [
    "# Check for errors\n",
    "X.population['error']"
   ]
  },
  {
   "cell_type": "markdown",
   "metadata": {},
   "source": [
    "# Write this configuration"
   ]
  },
  {
   "cell_type": "code",
   "execution_count": 14,
   "metadata": {},
   "outputs": [
    {
     "name": "stdout",
     "output_type": "stream",
     "text": [
      "Config written as YAML to test.yaml\n"
     ]
    }
   ],
   "source": [
    "X.save('test.yaml')"
   ]
  },
  {
   "cell_type": "code",
   "execution_count": 15,
   "metadata": {},
   "outputs": [
    {
     "name": "stdout",
     "output_type": "stream",
     "text": [
      "xopt: {output_path: /Users/chrisonian/Code/GitHub/xopt/examples/xopt_class/temp, verbose: true,\n",
      "  algorithm: random_sampler}\n",
      "algorithm:\n",
      "  name: random_sampler\n",
      "  function: xopt.sampler.random_sampler\n",
      "  options: {verbose: T, chunk_size: 4, max_samples: 10}\n",
      "simulation:\n",
      "  name: astra_with_generator\n",
      "  evaluate: astra.evaluate.evaluate_astra_with_generator\n",
      "  options: {archive_path: null, merit_f: null, astra_input_file: /Users/chrisonian/Code/GitHub/xopt/examples/templates/kekgun/kekgun.in,\n",
      "    generator_input_file: /Users/chrisonian/Code/GitHub/xopt/examples/templates/kekgun/dist004.in}\n",
      "vocs:\n",
      "  name: kekgun\n",
      "  description: Test case\n",
      "  simulation: astra_with_generator\n",
      "  templates: {astra_input_file: /Users/chrisonian/Code/GitHub/xopt/examples/templates/kekgun/kekgun.in,\n",
      "    generator_input_file: /Users/chrisonian/Code/GitHub/xopt/examples/templates/kekgun/dist004.in}\n",
      "  variables:\n",
      "    sig_x: [0.05, 1]\n",
      "    lt: [0.005, 0.07]\n",
      "    maxe(1): [20, 50]\n",
      "    phi(1): [-30, 30]\n",
      "    maxb(1): [0, 0.4]\n",
      "    maxe(2): [0, 32]\n",
      "    phi(2): [-180, 180]\n",
      "    maxb(2): [0, 0.3]\n",
      "    maxe(3): [0, 32]\n",
      "    maxe(4): [0, 32]\n",
      "    phi(3): [-45, 45]\n",
      "    phi(4): [-45, 45]\n",
      "    phi(6): [-45, 45]\n",
      "  constants: {ipart: 1000, lspch: true, zstop: 0.2}\n",
      "  objectives: {end_core_emit_95percent_x: MINIMIZE, end_sigma_z: MINIMIZE}\n",
      "  constraints:\n",
      "    end_sigma_z: [LESS_THAN, 0.0015]\n",
      "    end_core_emit_95percent_x: [LESS_THAN, 9.0e-07]\n",
      "    end_sigma_energy: [LESS_THAN, 200000.0]\n",
      "    end_higher_order_energy_spread: [LESS_THAN, 5000.0]\n",
      "    end_mean_kinetic_energy: [GREATER_THAN, 90000000.0]\n",
      "    end_n_particle_loss: [LESS_THAN, 1]\n",
      "  linked_variables: null\n"
     ]
    }
   ],
   "source": [
    "!cat test.yaml"
   ]
  },
  {
   "cell_type": "markdown",
   "metadata": {},
   "source": [
    "# Run with MPI"
   ]
  },
  {
   "cell_type": "code",
   "execution_count": 16,
   "metadata": {},
   "outputs": [
    {
     "name": "stdout",
     "output_type": "stream",
     "text": [
      "  _   \n",
      "                | |  \n",
      "__  _____  _ __ | |_ \n",
      "\\ \\/ / _ \\| '_ \\| __|\n",
      " >  < (_) | |_) | |_ \n",
      "/_/\\_\\___/| .__/ \\__|\n",
      "          | |        \n",
      "          |_|        \n",
      "\n",
      "_________________________________\n",
      "Parallel execution with 4 workers\n",
      "Warning: No path set for key simulation::options::archive_path\n",
      "\n",
      "            Xopt\n",
      "________________________________           \n",
      "\n",
      "Configured: True\n",
      "\n",
      "Config as YAML:\n",
      "xopt: {output_path: /Users/chrisonian/Code/GitHub/xopt/examples/xopt_class/temp, verbose: true,\n",
      "  algorithm: random_sampler}\n",
      "algorithm:\n",
      "  name: random_sampler\n",
      "  function: xopt.sampler.random_sampler\n",
      "  options: {verbose: T, chunk_size: 4, max_samples: 10}\n",
      "simulation:\n",
      "  name: astra_with_generator\n",
      "  evaluate: astra.evaluate.evaluate_astra_with_generator\n",
      "  options: {archive_path: null, merit_f: null, astra_input_file: /Users/chrisonian/Code/GitHub/xopt/examples/templates/kekgun/kekgun.in,\n",
      "    generator_input_file: /Users/chrisonian/Code/GitHub/xopt/examples/templates/kekgun/dist004.in}\n",
      "vocs:\n",
      "  name: kekgun\n",
      "  description: Test case\n",
      "  simulation: astra_with_generator\n",
      "  templates: {astra_input_file: /Users/chrisonian/Code/GitHub/xopt/examples/templates/kekgun/kekgun.in,\n",
      "    generator_input_file: /Users/chrisonian/Code/GitHub/xopt/examples/templates/kekgun/dist004.in}\n",
      "  variables:\n",
      "    sig_x: [0.05, 1]\n",
      "    lt: [0.005, 0.07]\n",
      "    maxe(1): [20, 50]\n",
      "    phi(1): [-30, 30]\n",
      "    maxb(1): [0, 0.4]\n",
      "    maxe(2): [0, 32]\n",
      "    phi(2): [-180, 180]\n",
      "    maxb(2): [0, 0.3]\n",
      "    maxe(3): [0, 32]\n",
      "    maxe(4): [0, 32]\n",
      "    phi(3): [-45, 45]\n",
      "    phi(4): [-45, 45]\n",
      "    phi(6): [-45, 45]\n",
      "  constants: {ipart: 1000, lspch: true, zstop: 0.2}\n",
      "  objectives: {end_core_emit_95percent_x: MINIMIZE, end_sigma_z: MINIMIZE}\n",
      "  constraints:\n",
      "    end_sigma_z: [LESS_THAN, 0.0015]\n",
      "    end_core_emit_95percent_x: [LESS_THAN, 9.0e-07]\n",
      "    end_sigma_energy: [LESS_THAN, 200000.0]\n",
      "    end_higher_order_energy_spread: [LESS_THAN, 5000.0]\n",
      "    end_mean_kinetic_energy: [GREATER_THAN, 90000000.0]\n",
      "    end_n_particle_loss: [LESS_THAN, 1]\n",
      "  linked_variables: null\n",
      "\n",
      "\n",
      "\n",
      "███████╗ █████╗ ███╗   ███╗██████╗ ██╗     ███████╗██████╗ \n",
      "██╔════╝██╔══██╗████╗ ████║██╔══██╗██║     ██╔════╝██╔══██╗\n",
      "███████╗███████║██╔████╔██║██████╔╝██║     █████╗  ██████╔╝\n",
      "╚════██║██╔══██║██║╚██╔╝██║██╔═══╝ ██║     ██╔══╝  ██╔══██╗\n",
      "███████║██║  ██║██║ ╚═╝ ██║██║     ███████╗███████╗██║  ██║\n",
      "╚══════╝╚═╝  ╚═╝╚═╝     ╚═╝╚═╝     ╚══════╝╚══════╝╚═╝  ╚═╝\n",
      "                                                           \n",
      "\n",
      "Xopt Random Sampler\n",
      "\n",
      "\n",
      "....4 samples completed in 0.22378 minutes\n",
      "Samples written to:\n",
      " /Users/chrisonian/Code/GitHub/xopt/examples/xopt_class/temp/sampler-2020-02-11-23.json\n",
      "....4 samples completed in 0.18243 minutes\n",
      "Samples written to:\n",
      " /Users/chrisonian/Code/GitHub/xopt/examples/xopt_class/temp/sampler-2020-02-11-24.json\n",
      "..."
     ]
    }
   ],
   "source": [
    "!mpirun -n 4 python -m mpi4py.futures -m xopt.mpi.run test.yaml"
   ]
  },
  {
   "cell_type": "markdown",
   "metadata": {},
   "source": [
    "# Dask "
   ]
  },
  {
   "cell_type": "code",
   "execution_count": 17,
   "metadata": {},
   "outputs": [
    {
     "data": {
      "text/html": [
       "<table style=\"border: 2px solid white;\">\n",
       "<tr>\n",
       "<td style=\"vertical-align: top; border: 0px solid white\">\n",
       "<h3 style=\"text-align: left;\">Client</h3>\n",
       "<ul style=\"text-align: left; list-style: none; margin: 0; padding: 0;\">\n",
       "  <li><b>Scheduler: </b>tcp://127.0.0.1:60323</li>\n",
       "  <li><b>Dashboard: </b><a href='http://127.0.0.1:8787/status' target='_blank'>http://127.0.0.1:8787/status</a>\n",
       "</ul>\n",
       "</td>\n",
       "<td style=\"vertical-align: top; border: 0px solid white\">\n",
       "<h3 style=\"text-align: left;\">Cluster</h3>\n",
       "<ul style=\"text-align: left; list-style:none; margin: 0; padding: 0;\">\n",
       "  <li><b>Workers: </b>4</li>\n",
       "  <li><b>Cores: </b>8</li>\n",
       "  <li><b>Memory: </b>17.18 GB</li>\n",
       "</ul>\n",
       "</td>\n",
       "</tr>\n",
       "</table>"
      ],
      "text/plain": [
       "<Client: 'tcp://127.0.0.1:60323' processes=4 threads=8, memory=17.18 GB>"
      ]
     },
     "execution_count": 17,
     "metadata": {},
     "output_type": "execute_result"
    }
   ],
   "source": [
    "from dask.distributed import Client\n",
    "executor = Client()\n",
    "#executor = Client(processes=True)\n",
    "executor"
   ]
  },
  {
   "cell_type": "code",
   "execution_count": 18,
   "metadata": {},
   "outputs": [],
   "source": [
    "# Wait a few seconds for the Dask cluster to start\n",
    "from time import sleep\n",
    "sleep(5)"
   ]
  },
  {
   "cell_type": "code",
   "execution_count": 19,
   "metadata": {},
   "outputs": [
    {
     "name": "stdout",
     "output_type": "stream",
     "text": [
      "\n",
      "\n",
      "███████╗ █████╗ ███╗   ███╗██████╗ ██╗     ███████╗██████╗ \n",
      "██╔════╝██╔══██╗████╗ ████║██╔══██╗██║     ██╔════╝██╔══██╗\n",
      "███████╗███████║██╔████╔██║██████╔╝██║     █████╗  ██████╔╝\n",
      "╚════██║██╔══██║██║╚██╔╝██║██╔═══╝ ██║     ██╔══╝  ██╔══██╗\n",
      "███████║██║  ██║██║ ╚═╝ ██║██║     ███████╗███████╗██║  ██║\n",
      "╚══════╝╚═╝  ╚═╝╚═╝     ╚═╝╚═╝     ╚══════╝╚══════╝╚═╝  ╚═╝\n",
      "                                                           \n",
      "\n",
      "Xopt Random Sampler\n",
      "\n",
      "\n",
      "....4 samples completed in 0.14468 minutes\n",
      "Samples written to:\n",
      " /Users/chrisonian/Code/GitHub/xopt/examples/xopt_class/temp/sampler-2020-02-11-25.json\n",
      "....4 samples completed in 0.13491 minutes\n",
      "Samples written to:\n",
      " /Users/chrisonian/Code/GitHub/xopt/examples/xopt_class/temp/sampler-2020-02-11-26.json\n",
      "..."
     ]
    }
   ],
   "source": [
    "# Run some more\n",
    "X.run(executor)"
   ]
  },
  {
   "cell_type": "code",
   "execution_count": 20,
   "metadata": {},
   "outputs": [
    {
     "data": {
      "text/plain": [
       "[False, False, False, False, False, False, False, False, False, False, False]"
      ]
     },
     "execution_count": 20,
     "metadata": {},
     "output_type": "execute_result"
    }
   ],
   "source": [
    "X.population['error']"
   ]
  },
  {
   "cell_type": "markdown",
   "metadata": {},
   "source": [
    "# Load into Pandas"
   ]
  },
  {
   "cell_type": "code",
   "execution_count": 21,
   "metadata": {},
   "outputs": [],
   "source": [
    "import pandas as pd\n",
    "from glob import glob\n",
    "import json"
   ]
  },
  {
   "cell_type": "code",
   "execution_count": 22,
   "metadata": {},
   "outputs": [
    {
     "data": {
      "text/plain": [
       "['temp/sampler-2020-02-11-21.json',\n",
       " 'temp/sampler-2020-02-11-17.json',\n",
       " 'temp/sampler-2020-02-11-1.json',\n",
       " 'temp/sampler-2020-02-11-16.json',\n",
       " 'temp/sampler-2020-02-11-20.json',\n",
       " 'temp/sampler-2020-02-11-11.json',\n",
       " 'temp/sampler-2020-02-11-7.json',\n",
       " 'temp/sampler-2020-02-11-26.json',\n",
       " 'temp/sampler-2020-02-11-6.json',\n",
       " 'temp/sampler-2020-02-11-10.json',\n",
       " 'temp/sampler-2020-02-11-5.json',\n",
       " 'temp/sampler-2020-02-11-13.json',\n",
       " 'temp/sampler-2020-02-11-9.json',\n",
       " 'temp/sampler-2020-02-11-25.json',\n",
       " 'temp/sampler-2020-02-11-24.json',\n",
       " 'temp/sampler-2020-02-11-8.json',\n",
       " 'temp/sampler-2020-02-11-12.json',\n",
       " 'temp/sampler-2020-02-11-4.json',\n",
       " 'temp/sampler-2020-02-11-19.json',\n",
       " 'temp/sampler-2020-02-11-23.json',\n",
       " 'temp/sampler-2020-02-11-3.json',\n",
       " 'temp/sampler-2020-02-11-15.json',\n",
       " 'temp/sampler-2020-02-11-14.json',\n",
       " 'temp/sampler-2020-02-11-2.json',\n",
       " 'temp/sampler-2020-02-11-22.json',\n",
       " 'temp/sampler-2020-02-11-18.json']"
      ]
     },
     "execution_count": 22,
     "metadata": {},
     "output_type": "execute_result"
    }
   ],
   "source": [
    "jfiles = glob('temp/*json')\n",
    "jfiles"
   ]
  },
  {
   "cell_type": "code",
   "execution_count": 23,
   "metadata": {},
   "outputs": [
    {
     "data": {
      "text/plain": [
       "[False, False, False, False]"
      ]
     },
     "execution_count": 23,
     "metadata": {},
     "output_type": "execute_result"
    }
   ],
   "source": [
    "# Load a file\n",
    "data = json.load(open(jfiles[0]))\n",
    "\n",
    "data['inputs']\n",
    "data['outputs']\n",
    "data['error']"
   ]
  },
  {
   "cell_type": "code",
   "execution_count": 24,
   "metadata": {},
   "outputs": [
    {
     "data": {
      "text/html": [
       "<div>\n",
       "<style scoped>\n",
       "    .dataframe tbody tr th:only-of-type {\n",
       "        vertical-align: middle;\n",
       "    }\n",
       "\n",
       "    .dataframe tbody tr th {\n",
       "        vertical-align: top;\n",
       "    }\n",
       "\n",
       "    .dataframe thead th {\n",
       "        text-align: right;\n",
       "    }\n",
       "</style>\n",
       "<table border=\"1\" class=\"dataframe\">\n",
       "  <thead>\n",
       "    <tr style=\"text-align: right;\">\n",
       "      <th></th>\n",
       "      <th>sig_x</th>\n",
       "      <th>lt</th>\n",
       "      <th>maxe(1)</th>\n",
       "      <th>phi(1)</th>\n",
       "      <th>maxb(1)</th>\n",
       "      <th>maxe(2)</th>\n",
       "      <th>phi(2)</th>\n",
       "      <th>maxb(2)</th>\n",
       "      <th>maxe(3)</th>\n",
       "      <th>maxe(4)</th>\n",
       "      <th>phi(3)</th>\n",
       "      <th>phi(4)</th>\n",
       "      <th>phi(6)</th>\n",
       "      <th>ipart</th>\n",
       "      <th>lspch</th>\n",
       "      <th>zstop</th>\n",
       "    </tr>\n",
       "  </thead>\n",
       "  <tbody>\n",
       "    <tr>\n",
       "      <th>0</th>\n",
       "      <td>0.802612</td>\n",
       "      <td>0.022731</td>\n",
       "      <td>49.819625</td>\n",
       "      <td>-29.693536</td>\n",
       "      <td>0.115971</td>\n",
       "      <td>1.061146</td>\n",
       "      <td>-163.180755</td>\n",
       "      <td>0.290590</td>\n",
       "      <td>5.467264</td>\n",
       "      <td>31.993919</td>\n",
       "      <td>-12.814598</td>\n",
       "      <td>23.947040</td>\n",
       "      <td>13.425135</td>\n",
       "      <td>1000</td>\n",
       "      <td>True</td>\n",
       "      <td>0.2</td>\n",
       "    </tr>\n",
       "    <tr>\n",
       "      <th>1</th>\n",
       "      <td>0.187144</td>\n",
       "      <td>0.057924</td>\n",
       "      <td>39.347713</td>\n",
       "      <td>19.892868</td>\n",
       "      <td>0.053636</td>\n",
       "      <td>3.923871</td>\n",
       "      <td>72.709262</td>\n",
       "      <td>0.106460</td>\n",
       "      <td>4.743047</td>\n",
       "      <td>23.447505</td>\n",
       "      <td>-19.897227</td>\n",
       "      <td>34.411543</td>\n",
       "      <td>14.083952</td>\n",
       "      <td>1000</td>\n",
       "      <td>True</td>\n",
       "      <td>0.2</td>\n",
       "    </tr>\n",
       "    <tr>\n",
       "      <th>2</th>\n",
       "      <td>0.928773</td>\n",
       "      <td>0.054959</td>\n",
       "      <td>46.648661</td>\n",
       "      <td>-6.446390</td>\n",
       "      <td>0.339281</td>\n",
       "      <td>27.204888</td>\n",
       "      <td>-5.576195</td>\n",
       "      <td>0.122991</td>\n",
       "      <td>19.468378</td>\n",
       "      <td>2.126083</td>\n",
       "      <td>-42.911645</td>\n",
       "      <td>-38.338986</td>\n",
       "      <td>41.597254</td>\n",
       "      <td>1000</td>\n",
       "      <td>True</td>\n",
       "      <td>0.2</td>\n",
       "    </tr>\n",
       "    <tr>\n",
       "      <th>3</th>\n",
       "      <td>0.098056</td>\n",
       "      <td>0.024177</td>\n",
       "      <td>36.356786</td>\n",
       "      <td>-28.828255</td>\n",
       "      <td>0.026138</td>\n",
       "      <td>24.235514</td>\n",
       "      <td>-112.439726</td>\n",
       "      <td>0.210352</td>\n",
       "      <td>10.653276</td>\n",
       "      <td>8.752501</td>\n",
       "      <td>3.366554</td>\n",
       "      <td>-28.858565</td>\n",
       "      <td>-15.675548</td>\n",
       "      <td>1000</td>\n",
       "      <td>True</td>\n",
       "      <td>0.2</td>\n",
       "    </tr>\n",
       "  </tbody>\n",
       "</table>\n",
       "</div>"
      ],
      "text/plain": [
       "      sig_x        lt    maxe(1)     phi(1)   maxb(1)    maxe(2)      phi(2)  \\\n",
       "0  0.802612  0.022731  49.819625 -29.693536  0.115971   1.061146 -163.180755   \n",
       "1  0.187144  0.057924  39.347713  19.892868  0.053636   3.923871   72.709262   \n",
       "2  0.928773  0.054959  46.648661  -6.446390  0.339281  27.204888   -5.576195   \n",
       "3  0.098056  0.024177  36.356786 -28.828255  0.026138  24.235514 -112.439726   \n",
       "\n",
       "    maxb(2)    maxe(3)    maxe(4)     phi(3)     phi(4)     phi(6)  ipart  \\\n",
       "0  0.290590   5.467264  31.993919 -12.814598  23.947040  13.425135   1000   \n",
       "1  0.106460   4.743047  23.447505 -19.897227  34.411543  14.083952   1000   \n",
       "2  0.122991  19.468378   2.126083 -42.911645 -38.338986  41.597254   1000   \n",
       "3  0.210352  10.653276   8.752501   3.366554 -28.858565 -15.675548   1000   \n",
       "\n",
       "   lspch  zstop  \n",
       "0   True    0.2  \n",
       "1   True    0.2  \n",
       "2   True    0.2  \n",
       "3   True    0.2  "
      ]
     },
     "execution_count": 24,
     "metadata": {},
     "output_type": "execute_result"
    }
   ],
   "source": [
    "inputs = pd.DataFrame(data['inputs'])\n",
    "inputs"
   ]
  },
  {
   "cell_type": "code",
   "execution_count": 25,
   "metadata": {},
   "outputs": [
    {
     "data": {
      "text/html": [
       "<div>\n",
       "<style scoped>\n",
       "    .dataframe tbody tr th:only-of-type {\n",
       "        vertical-align: middle;\n",
       "    }\n",
       "\n",
       "    .dataframe tbody tr th {\n",
       "        vertical-align: top;\n",
       "    }\n",
       "\n",
       "    .dataframe thead th {\n",
       "        text-align: right;\n",
       "    }\n",
       "</style>\n",
       "<table border=\"1\" class=\"dataframe\">\n",
       "  <thead>\n",
       "    <tr style=\"text-align: right;\">\n",
       "      <th></th>\n",
       "      <th>error</th>\n",
       "      <th>end_mean_z</th>\n",
       "      <th>end_norm_emit_x</th>\n",
       "      <th>end_core_emit_95percent_x</th>\n",
       "      <th>end_core_emit_90percent_x</th>\n",
       "      <th>end_core_emit_80percent_x</th>\n",
       "      <th>end_norm_emit_y</th>\n",
       "      <th>end_core_emit_95percent_y</th>\n",
       "      <th>end_core_emit_90percent_y</th>\n",
       "      <th>end_core_emit_80percent_y</th>\n",
       "      <th>...</th>\n",
       "      <th>end_sigma_y</th>\n",
       "      <th>end_sigma_yp</th>\n",
       "      <th>end_cov_y__yp</th>\n",
       "      <th>end_mean_kinetic_energy</th>\n",
       "      <th>end_sigma_z</th>\n",
       "      <th>end_sigma_energy</th>\n",
       "      <th>end_cov_z__energy</th>\n",
       "      <th>end_n_particle_loss</th>\n",
       "      <th>end_higher_order_energy_spread</th>\n",
       "      <th>fingerprint</th>\n",
       "    </tr>\n",
       "  </thead>\n",
       "  <tbody>\n",
       "    <tr>\n",
       "      <th>0</th>\n",
       "      <td>False</td>\n",
       "      <td>0.2</td>\n",
       "      <td>5.291000e-07</td>\n",
       "      <td>4.038500e-07</td>\n",
       "      <td>3.416900e-07</td>\n",
       "      <td>2.520800e-07</td>\n",
       "      <td>5.292200e-07</td>\n",
       "      <td>4.078100e-07</td>\n",
       "      <td>3.469900e-07</td>\n",
       "      <td>2.568400e-07</td>\n",
       "      <td>...</td>\n",
       "      <td>0.000087</td>\n",
       "      <td>0.000996</td>\n",
       "      <td>1.355454e-08</td>\n",
       "      <td>2689600.0</td>\n",
       "      <td>0.001536</td>\n",
       "      <td>56057.0</td>\n",
       "      <td>-85.980323</td>\n",
       "      <td>0</td>\n",
       "      <td>1221.096584</td>\n",
       "      <td>65a050c4e71153d97ec991f408df733d</td>\n",
       "    </tr>\n",
       "    <tr>\n",
       "      <th>1</th>\n",
       "      <td>False</td>\n",
       "      <td>0.2</td>\n",
       "      <td>5.431600e-07</td>\n",
       "      <td>4.200700e-07</td>\n",
       "      <td>3.402500e-07</td>\n",
       "      <td>2.271500e-07</td>\n",
       "      <td>5.432200e-07</td>\n",
       "      <td>4.220100e-07</td>\n",
       "      <td>3.409200e-07</td>\n",
       "      <td>2.276500e-07</td>\n",
       "      <td>...</td>\n",
       "      <td>0.000685</td>\n",
       "      <td>0.002865</td>\n",
       "      <td>1.958520e-06</td>\n",
       "      <td>2199800.0</td>\n",
       "      <td>0.006216</td>\n",
       "      <td>130960.0</td>\n",
       "      <td>804.485108</td>\n",
       "      <td>0</td>\n",
       "      <td>1158.968572</td>\n",
       "      <td>93e34a7426640c70b158334b295e7bc2</td>\n",
       "    </tr>\n",
       "    <tr>\n",
       "      <th>2</th>\n",
       "      <td>False</td>\n",
       "      <td>0.2</td>\n",
       "      <td>6.861100e-07</td>\n",
       "      <td>5.339000e-07</td>\n",
       "      <td>4.464700e-07</td>\n",
       "      <td>3.172500e-07</td>\n",
       "      <td>6.918500e-07</td>\n",
       "      <td>5.341300e-07</td>\n",
       "      <td>4.446900e-07</td>\n",
       "      <td>3.210700e-07</td>\n",
       "      <td>...</td>\n",
       "      <td>0.000137</td>\n",
       "      <td>0.002375</td>\n",
       "      <td>3.065713e-07</td>\n",
       "      <td>2780700.0</td>\n",
       "      <td>0.004445</td>\n",
       "      <td>38976.0</td>\n",
       "      <td>-152.840318</td>\n",
       "      <td>0</td>\n",
       "      <td>660.223523</td>\n",
       "      <td>09a96616154df30c21fef1755b9342ea</td>\n",
       "    </tr>\n",
       "    <tr>\n",
       "      <th>3</th>\n",
       "      <td>False</td>\n",
       "      <td>0.2</td>\n",
       "      <td>3.723700e-06</td>\n",
       "      <td>3.026200e-06</td>\n",
       "      <td>2.524400e-06</td>\n",
       "      <td>1.738400e-06</td>\n",
       "      <td>3.704800e-06</td>\n",
       "      <td>2.990600e-06</td>\n",
       "      <td>2.489300e-06</td>\n",
       "      <td>1.770300e-06</td>\n",
       "      <td>...</td>\n",
       "      <td>0.002026</td>\n",
       "      <td>0.009530</td>\n",
       "      <td>1.929489e-05</td>\n",
       "      <td>2054800.0</td>\n",
       "      <td>0.002900</td>\n",
       "      <td>69033.0</td>\n",
       "      <td>-199.550819</td>\n",
       "      <td>616</td>\n",
       "      <td>2334.885732</td>\n",
       "      <td>b1b2e584ff2f911ae4431cd58bbc8bb9</td>\n",
       "    </tr>\n",
       "  </tbody>\n",
       "</table>\n",
       "<p>4 rows × 30 columns</p>\n",
       "</div>"
      ],
      "text/plain": [
       "   error  end_mean_z  end_norm_emit_x  end_core_emit_95percent_x  \\\n",
       "0  False         0.2     5.291000e-07               4.038500e-07   \n",
       "1  False         0.2     5.431600e-07               4.200700e-07   \n",
       "2  False         0.2     6.861100e-07               5.339000e-07   \n",
       "3  False         0.2     3.723700e-06               3.026200e-06   \n",
       "\n",
       "   end_core_emit_90percent_x  end_core_emit_80percent_x  end_norm_emit_y  \\\n",
       "0               3.416900e-07               2.520800e-07     5.292200e-07   \n",
       "1               3.402500e-07               2.271500e-07     5.432200e-07   \n",
       "2               4.464700e-07               3.172500e-07     6.918500e-07   \n",
       "3               2.524400e-06               1.738400e-06     3.704800e-06   \n",
       "\n",
       "   end_core_emit_95percent_y  end_core_emit_90percent_y  \\\n",
       "0               4.078100e-07               3.469900e-07   \n",
       "1               4.220100e-07               3.409200e-07   \n",
       "2               5.341300e-07               4.446900e-07   \n",
       "3               2.990600e-06               2.489300e-06   \n",
       "\n",
       "   end_core_emit_80percent_y  ...  end_sigma_y  end_sigma_yp  end_cov_y__yp  \\\n",
       "0               2.568400e-07  ...     0.000087      0.000996   1.355454e-08   \n",
       "1               2.276500e-07  ...     0.000685      0.002865   1.958520e-06   \n",
       "2               3.210700e-07  ...     0.000137      0.002375   3.065713e-07   \n",
       "3               1.770300e-06  ...     0.002026      0.009530   1.929489e-05   \n",
       "\n",
       "   end_mean_kinetic_energy  end_sigma_z  end_sigma_energy  end_cov_z__energy  \\\n",
       "0                2689600.0     0.001536           56057.0         -85.980323   \n",
       "1                2199800.0     0.006216          130960.0         804.485108   \n",
       "2                2780700.0     0.004445           38976.0        -152.840318   \n",
       "3                2054800.0     0.002900           69033.0        -199.550819   \n",
       "\n",
       "   end_n_particle_loss  end_higher_order_energy_spread  \\\n",
       "0                    0                     1221.096584   \n",
       "1                    0                     1158.968572   \n",
       "2                    0                      660.223523   \n",
       "3                  616                     2334.885732   \n",
       "\n",
       "                        fingerprint  \n",
       "0  65a050c4e71153d97ec991f408df733d  \n",
       "1  93e34a7426640c70b158334b295e7bc2  \n",
       "2  09a96616154df30c21fef1755b9342ea  \n",
       "3  b1b2e584ff2f911ae4431cd58bbc8bb9  \n",
       "\n",
       "[4 rows x 30 columns]"
      ]
     },
     "execution_count": 25,
     "metadata": {},
     "output_type": "execute_result"
    }
   ],
   "source": [
    "outputs = pd.DataFrame(data['outputs'])\n",
    "outputs"
   ]
  },
  {
   "cell_type": "markdown",
   "metadata": {},
   "source": [
    "# Cleanup"
   ]
  },
  {
   "cell_type": "code",
   "execution_count": 26,
   "metadata": {},
   "outputs": [],
   "source": [
    "!rm -r dask-worker-space"
   ]
  },
  {
   "cell_type": "code",
   "execution_count": 27,
   "metadata": {},
   "outputs": [],
   "source": [
    "!rm test.yaml"
   ]
  },
  {
   "cell_type": "code",
   "execution_count": 28,
   "metadata": {},
   "outputs": [],
   "source": [
    "!rm NORRAN"
   ]
  },
  {
   "cell_type": "code",
   "execution_count": null,
   "metadata": {},
   "outputs": [],
   "source": []
  },
  {
   "cell_type": "code",
   "execution_count": null,
   "metadata": {},
   "outputs": [],
   "source": []
  }
 ],
 "metadata": {
  "kernelspec": {
   "display_name": "Python 3",
   "language": "python",
   "name": "python3"
  },
  "language_info": {
   "codemirror_mode": {
    "name": "ipython",
    "version": 3
   },
   "file_extension": ".py",
   "mimetype": "text/x-python",
   "name": "python",
   "nbconvert_exporter": "python",
   "pygments_lexer": "ipython3",
   "version": "3.7.6"
  }
 },
 "nbformat": 4,
 "nbformat_minor": 4
}
