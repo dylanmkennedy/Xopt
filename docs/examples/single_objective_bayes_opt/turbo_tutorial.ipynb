{
 "cells": [
  {
   "cell_type": "markdown",
   "source": [
    "# TuRBO Bayesian Optimization\n",
    "In this tutorial we demonstrate the use of Xopt to preform Trust Region Bayesian\n",
    "Optimization (TuRBO) on a simple test problem. During optimization of high\n",
    "dimensional input spaces off the shelf BO tends to over-emphasize exploration which\n",
    "severely degrades optimization performance. TuRBO attempts to prevent this by\n",
    "maintaining a surrogate model over a local (trust) region centered on the best\n",
    "observation so far and restricting optimization inside that local region. The trust\n",
    "region is expanded and contracted based on the number of `successful` (observations\n",
    "that improve over the best observed point) or `unsuccessful` (no improvement)\n",
    "observations in a row. See https://botorch.org/tutorials/turbo_1 for details."
   ],
   "metadata": {
    "collapsed": false
   }
  },
  {
   "cell_type": "markdown",
   "source": [
    "## Define the test problem\n",
    "Here we define a simple optimization problem, where we attempt to minimize a\n",
    "function in the domian [0,2*pi]. Note that the function used to evaluate the\n",
    "objective function takes a dictionary as input and returns a dictionary as the output."
   ],
   "metadata": {
    "collapsed": false
   }
  },
  {
   "cell_type": "code",
   "execution_count": 1,
   "outputs": [],
   "source": [
    "from xopt.vocs import VOCS\n",
    "import math\n",
    "\n",
    "# define variables and function objectives\n",
    "vocs = VOCS(\n",
    "    variables={\"x\": [0, 2 * math.pi]},\n",
    "    objectives={\"f\": \"MINIMIZE\"},\n",
    ")"
   ],
   "metadata": {
    "collapsed": false,
    "ExecuteTime": {
     "end_time": "2023-09-06T20:58:46.916679800Z",
     "start_time": "2023-09-06T20:58:43.775661800Z"
    }
   }
  },
  {
   "cell_type": "code",
   "execution_count": 2,
   "outputs": [],
   "source": [
    "# define a test function to optimize\n",
    "import numpy as np\n",
    "\n",
    "def sin_function(input_dict):\n",
    "    x = input_dict[\"x\"]\n",
    "    return {\"f\": -10*np.exp(-(x - np.pi)**2 / 0.01) + 0.5*np.sin(5*x)}"
   ],
   "metadata": {
    "collapsed": false,
    "ExecuteTime": {
     "end_time": "2023-09-06T20:58:46.932690400Z",
     "start_time": "2023-09-06T20:58:46.919661300Z"
    }
   }
  },
  {
   "cell_type": "markdown",
   "source": [
    "## Create Xopt objects\n",
    "Create the evaluator to evaluate our test function and create a generator that uses\n",
    "the Upper Confidence Bound acqusition function to perform Bayesian Optimization."
   ],
   "metadata": {
    "collapsed": false
   }
  },
  {
   "cell_type": "code",
   "execution_count": 3,
   "outputs": [],
   "source": [
    "from xopt.evaluator import Evaluator\n",
    "from xopt.generators.bayesian import UpperConfidenceBoundGenerator\n",
    "from xopt import Xopt\n",
    "\n",
    "\n",
    "evaluator = Evaluator(function=sin_function)\n",
    "generator = UpperConfidenceBoundGenerator(\n",
    "    vocs=vocs, turbo_controller=\"optimize\"\n",
    ")\n",
    "X = Xopt(evaluator=evaluator, generator=generator, vocs=vocs)"
   ],
   "metadata": {
    "collapsed": false,
    "ExecuteTime": {
     "end_time": "2023-09-06T20:58:46.955665700Z",
     "start_time": "2023-09-06T20:58:46.933690100Z"
    }
   }
  },
  {
   "cell_type": "code",
   "execution_count": 4,
   "outputs": [
    {
     "ename": "ValueError",
     "evalue": "dictionary update sequence element #0 has length 1; 2 is required",
     "output_type": "error",
     "traceback": [
      "\u001B[1;31m---------------------------------------------------------------------------\u001B[0m",
      "\u001B[1;31mValueError\u001B[0m                                Traceback (most recent call last)",
      "File \u001B[1;32m~\\mambaforge\\envs\\xopt-dev\\lib\\site-packages\\IPython\\core\\formatters.py:708\u001B[0m, in \u001B[0;36mPlainTextFormatter.__call__\u001B[1;34m(self, obj)\u001B[0m\n\u001B[0;32m    701\u001B[0m stream \u001B[38;5;241m=\u001B[39m StringIO()\n\u001B[0;32m    702\u001B[0m printer \u001B[38;5;241m=\u001B[39m pretty\u001B[38;5;241m.\u001B[39mRepresentationPrinter(stream, \u001B[38;5;28mself\u001B[39m\u001B[38;5;241m.\u001B[39mverbose,\n\u001B[0;32m    703\u001B[0m     \u001B[38;5;28mself\u001B[39m\u001B[38;5;241m.\u001B[39mmax_width, \u001B[38;5;28mself\u001B[39m\u001B[38;5;241m.\u001B[39mnewline,\n\u001B[0;32m    704\u001B[0m     max_seq_length\u001B[38;5;241m=\u001B[39m\u001B[38;5;28mself\u001B[39m\u001B[38;5;241m.\u001B[39mmax_seq_length,\n\u001B[0;32m    705\u001B[0m     singleton_pprinters\u001B[38;5;241m=\u001B[39m\u001B[38;5;28mself\u001B[39m\u001B[38;5;241m.\u001B[39msingleton_printers,\n\u001B[0;32m    706\u001B[0m     type_pprinters\u001B[38;5;241m=\u001B[39m\u001B[38;5;28mself\u001B[39m\u001B[38;5;241m.\u001B[39mtype_printers,\n\u001B[0;32m    707\u001B[0m     deferred_pprinters\u001B[38;5;241m=\u001B[39m\u001B[38;5;28mself\u001B[39m\u001B[38;5;241m.\u001B[39mdeferred_printers)\n\u001B[1;32m--> 708\u001B[0m \u001B[43mprinter\u001B[49m\u001B[38;5;241;43m.\u001B[39;49m\u001B[43mpretty\u001B[49m\u001B[43m(\u001B[49m\u001B[43mobj\u001B[49m\u001B[43m)\u001B[49m\n\u001B[0;32m    709\u001B[0m printer\u001B[38;5;241m.\u001B[39mflush()\n\u001B[0;32m    710\u001B[0m \u001B[38;5;28;01mreturn\u001B[39;00m stream\u001B[38;5;241m.\u001B[39mgetvalue()\n",
      "File \u001B[1;32m~\\mambaforge\\envs\\xopt-dev\\lib\\site-packages\\IPython\\lib\\pretty.py:410\u001B[0m, in \u001B[0;36mRepresentationPrinter.pretty\u001B[1;34m(self, obj)\u001B[0m\n\u001B[0;32m    407\u001B[0m                         \u001B[38;5;28;01mreturn\u001B[39;00m meth(obj, \u001B[38;5;28mself\u001B[39m, cycle)\n\u001B[0;32m    408\u001B[0m                 \u001B[38;5;28;01mif\u001B[39;00m \u001B[38;5;28mcls\u001B[39m \u001B[38;5;129;01mis\u001B[39;00m \u001B[38;5;129;01mnot\u001B[39;00m \u001B[38;5;28mobject\u001B[39m \\\n\u001B[0;32m    409\u001B[0m                         \u001B[38;5;129;01mand\u001B[39;00m \u001B[38;5;28mcallable\u001B[39m(\u001B[38;5;28mcls\u001B[39m\u001B[38;5;241m.\u001B[39m\u001B[38;5;18m__dict__\u001B[39m\u001B[38;5;241m.\u001B[39mget(\u001B[38;5;124m'\u001B[39m\u001B[38;5;124m__repr__\u001B[39m\u001B[38;5;124m'\u001B[39m)):\n\u001B[1;32m--> 410\u001B[0m                     \u001B[38;5;28;01mreturn\u001B[39;00m \u001B[43m_repr_pprint\u001B[49m\u001B[43m(\u001B[49m\u001B[43mobj\u001B[49m\u001B[43m,\u001B[49m\u001B[43m \u001B[49m\u001B[38;5;28;43mself\u001B[39;49m\u001B[43m,\u001B[49m\u001B[43m \u001B[49m\u001B[43mcycle\u001B[49m\u001B[43m)\u001B[49m\n\u001B[0;32m    412\u001B[0m     \u001B[38;5;28;01mreturn\u001B[39;00m _default_pprint(obj, \u001B[38;5;28mself\u001B[39m, cycle)\n\u001B[0;32m    413\u001B[0m \u001B[38;5;28;01mfinally\u001B[39;00m:\n",
      "File \u001B[1;32m~\\mambaforge\\envs\\xopt-dev\\lib\\site-packages\\IPython\\lib\\pretty.py:778\u001B[0m, in \u001B[0;36m_repr_pprint\u001B[1;34m(obj, p, cycle)\u001B[0m\n\u001B[0;32m    776\u001B[0m \u001B[38;5;250m\u001B[39m\u001B[38;5;124;03m\"\"\"A pprint that just redirects to the normal repr function.\"\"\"\u001B[39;00m\n\u001B[0;32m    777\u001B[0m \u001B[38;5;66;03m# Find newlines and replace them with p.break_()\u001B[39;00m\n\u001B[1;32m--> 778\u001B[0m output \u001B[38;5;241m=\u001B[39m \u001B[38;5;28;43mrepr\u001B[39;49m\u001B[43m(\u001B[49m\u001B[43mobj\u001B[49m\u001B[43m)\u001B[49m\n\u001B[0;32m    779\u001B[0m lines \u001B[38;5;241m=\u001B[39m output\u001B[38;5;241m.\u001B[39msplitlines()\n\u001B[0;32m    780\u001B[0m \u001B[38;5;28;01mwith\u001B[39;00m p\u001B[38;5;241m.\u001B[39mgroup():\n",
      "File \u001B[1;32m~\\Documents\\GitHub\\Xopt\\xopt\\base.py:234\u001B[0m, in \u001B[0;36mXopt.__repr__\u001B[1;34m(self)\u001B[0m\n\u001B[0;32m    226\u001B[0m         config \u001B[38;5;241m=\u001B[39m deepcopy(\u001B[38;5;28mself\u001B[39m\u001B[38;5;241m.\u001B[39mdict())\n\u001B[0;32m    227\u001B[0m         config\u001B[38;5;241m.\u001B[39mpop(\u001B[38;5;124m\"\u001B[39m\u001B[38;5;124mdata\u001B[39m\u001B[38;5;124m\"\u001B[39m)\n\u001B[0;32m    228\u001B[0m         \u001B[38;5;28;01mreturn\u001B[39;00m \u001B[38;5;124mf\u001B[39m\u001B[38;5;124m\"\"\"\u001B[39m\n\u001B[0;32m    229\u001B[0m \u001B[38;5;124m            Xopt\u001B[39m\n\u001B[0;32m    230\u001B[0m \u001B[38;5;124m________________________________\u001B[39m\n\u001B[0;32m    231\u001B[0m \u001B[38;5;124mVersion: \u001B[39m\u001B[38;5;132;01m{\u001B[39;00m__version__\u001B[38;5;132;01m}\u001B[39;00m\n\u001B[0;32m    232\u001B[0m \u001B[38;5;124mData size: \u001B[39m\u001B[38;5;132;01m{\u001B[39;00m\u001B[38;5;28mself\u001B[39m\u001B[38;5;241m.\u001B[39mn_data\u001B[38;5;132;01m}\u001B[39;00m\n\u001B[0;32m    233\u001B[0m \u001B[38;5;124mConfig as YAML:\u001B[39m\n\u001B[1;32m--> 234\u001B[0m \u001B[38;5;132;01m{\u001B[39;00myaml\u001B[38;5;241m.\u001B[39mdump(config\u001B[43m)\u001B[49m\u001B[38;5;132;43;01m}\u001B[39;49;00m\n\u001B[0;32m    235\u001B[0m \u001B[38;5;124m\"\"\"\u001B[39m\n",
      "File \u001B[1;32m~\\mambaforge\\envs\\xopt-dev\\lib\\site-packages\\yaml\\__init__.py:253\u001B[0m, in \u001B[0;36mdump\u001B[1;34m(data, stream, Dumper, **kwds)\u001B[0m\n\u001B[0;32m    248\u001B[0m \u001B[38;5;28;01mdef\u001B[39;00m \u001B[38;5;21mdump\u001B[39m(data, stream\u001B[38;5;241m=\u001B[39m\u001B[38;5;28;01mNone\u001B[39;00m, Dumper\u001B[38;5;241m=\u001B[39mDumper, \u001B[38;5;241m*\u001B[39m\u001B[38;5;241m*\u001B[39mkwds):\n\u001B[0;32m    249\u001B[0m \u001B[38;5;250m    \u001B[39m\u001B[38;5;124;03m\"\"\"\u001B[39;00m\n\u001B[0;32m    250\u001B[0m \u001B[38;5;124;03m    Serialize a Python object into a YAML stream.\u001B[39;00m\n\u001B[0;32m    251\u001B[0m \u001B[38;5;124;03m    If stream is None, return the produced string instead.\u001B[39;00m\n\u001B[0;32m    252\u001B[0m \u001B[38;5;124;03m    \"\"\"\u001B[39;00m\n\u001B[1;32m--> 253\u001B[0m     \u001B[38;5;28;01mreturn\u001B[39;00m dump_all([data], stream, Dumper\u001B[38;5;241m=\u001B[39mDumper, \u001B[38;5;241m*\u001B[39m\u001B[38;5;241m*\u001B[39mkwds)\n",
      "File \u001B[1;32m~\\mambaforge\\envs\\xopt-dev\\lib\\site-packages\\yaml\\__init__.py:241\u001B[0m, in \u001B[0;36mdump_all\u001B[1;34m(documents, stream, Dumper, default_style, default_flow_style, canonical, indent, width, allow_unicode, line_break, encoding, explicit_start, explicit_end, version, tags, sort_keys)\u001B[0m\n\u001B[0;32m    239\u001B[0m     dumper\u001B[38;5;241m.\u001B[39mopen()\n\u001B[0;32m    240\u001B[0m     \u001B[38;5;28;01mfor\u001B[39;00m data \u001B[38;5;129;01min\u001B[39;00m documents:\n\u001B[1;32m--> 241\u001B[0m         \u001B[43mdumper\u001B[49m\u001B[38;5;241;43m.\u001B[39;49m\u001B[43mrepresent\u001B[49m\u001B[43m(\u001B[49m\u001B[43mdata\u001B[49m\u001B[43m)\u001B[49m\n\u001B[0;32m    242\u001B[0m     dumper\u001B[38;5;241m.\u001B[39mclose()\n\u001B[0;32m    243\u001B[0m \u001B[38;5;28;01mfinally\u001B[39;00m:\n",
      "File \u001B[1;32m~\\mambaforge\\envs\\xopt-dev\\lib\\site-packages\\yaml\\representer.py:27\u001B[0m, in \u001B[0;36mBaseRepresenter.represent\u001B[1;34m(self, data)\u001B[0m\n\u001B[0;32m     26\u001B[0m \u001B[38;5;28;01mdef\u001B[39;00m \u001B[38;5;21mrepresent\u001B[39m(\u001B[38;5;28mself\u001B[39m, data):\n\u001B[1;32m---> 27\u001B[0m     node \u001B[38;5;241m=\u001B[39m \u001B[38;5;28;43mself\u001B[39;49m\u001B[38;5;241;43m.\u001B[39;49m\u001B[43mrepresent_data\u001B[49m\u001B[43m(\u001B[49m\u001B[43mdata\u001B[49m\u001B[43m)\u001B[49m\n\u001B[0;32m     28\u001B[0m     \u001B[38;5;28mself\u001B[39m\u001B[38;5;241m.\u001B[39mserialize(node)\n\u001B[0;32m     29\u001B[0m     \u001B[38;5;28mself\u001B[39m\u001B[38;5;241m.\u001B[39mrepresented_objects \u001B[38;5;241m=\u001B[39m {}\n",
      "File \u001B[1;32m~\\mambaforge\\envs\\xopt-dev\\lib\\site-packages\\yaml\\representer.py:48\u001B[0m, in \u001B[0;36mBaseRepresenter.represent_data\u001B[1;34m(self, data)\u001B[0m\n\u001B[0;32m     46\u001B[0m data_types \u001B[38;5;241m=\u001B[39m \u001B[38;5;28mtype\u001B[39m(data)\u001B[38;5;241m.\u001B[39m\u001B[38;5;18m__mro__\u001B[39m\n\u001B[0;32m     47\u001B[0m \u001B[38;5;28;01mif\u001B[39;00m data_types[\u001B[38;5;241m0\u001B[39m] \u001B[38;5;129;01min\u001B[39;00m \u001B[38;5;28mself\u001B[39m\u001B[38;5;241m.\u001B[39myaml_representers:\n\u001B[1;32m---> 48\u001B[0m     node \u001B[38;5;241m=\u001B[39m \u001B[38;5;28;43mself\u001B[39;49m\u001B[38;5;241;43m.\u001B[39;49m\u001B[43myaml_representers\u001B[49m\u001B[43m[\u001B[49m\u001B[43mdata_types\u001B[49m\u001B[43m[\u001B[49m\u001B[38;5;241;43m0\u001B[39;49m\u001B[43m]\u001B[49m\u001B[43m]\u001B[49m\u001B[43m(\u001B[49m\u001B[38;5;28;43mself\u001B[39;49m\u001B[43m,\u001B[49m\u001B[43m \u001B[49m\u001B[43mdata\u001B[49m\u001B[43m)\u001B[49m\n\u001B[0;32m     49\u001B[0m \u001B[38;5;28;01melse\u001B[39;00m:\n\u001B[0;32m     50\u001B[0m     \u001B[38;5;28;01mfor\u001B[39;00m data_type \u001B[38;5;129;01min\u001B[39;00m data_types:\n",
      "File \u001B[1;32m~\\mambaforge\\envs\\xopt-dev\\lib\\site-packages\\yaml\\representer.py:207\u001B[0m, in \u001B[0;36mSafeRepresenter.represent_dict\u001B[1;34m(self, data)\u001B[0m\n\u001B[0;32m    206\u001B[0m \u001B[38;5;28;01mdef\u001B[39;00m \u001B[38;5;21mrepresent_dict\u001B[39m(\u001B[38;5;28mself\u001B[39m, data):\n\u001B[1;32m--> 207\u001B[0m     \u001B[38;5;28;01mreturn\u001B[39;00m \u001B[38;5;28;43mself\u001B[39;49m\u001B[38;5;241;43m.\u001B[39;49m\u001B[43mrepresent_mapping\u001B[49m\u001B[43m(\u001B[49m\u001B[38;5;124;43m'\u001B[39;49m\u001B[38;5;124;43mtag:yaml.org,2002:map\u001B[39;49m\u001B[38;5;124;43m'\u001B[39;49m\u001B[43m,\u001B[49m\u001B[43m \u001B[49m\u001B[43mdata\u001B[49m\u001B[43m)\u001B[49m\n",
      "File \u001B[1;32m~\\mambaforge\\envs\\xopt-dev\\lib\\site-packages\\yaml\\representer.py:118\u001B[0m, in \u001B[0;36mBaseRepresenter.represent_mapping\u001B[1;34m(self, tag, mapping, flow_style)\u001B[0m\n\u001B[0;32m    116\u001B[0m \u001B[38;5;28;01mfor\u001B[39;00m item_key, item_value \u001B[38;5;129;01min\u001B[39;00m mapping:\n\u001B[0;32m    117\u001B[0m     node_key \u001B[38;5;241m=\u001B[39m \u001B[38;5;28mself\u001B[39m\u001B[38;5;241m.\u001B[39mrepresent_data(item_key)\n\u001B[1;32m--> 118\u001B[0m     node_value \u001B[38;5;241m=\u001B[39m \u001B[38;5;28;43mself\u001B[39;49m\u001B[38;5;241;43m.\u001B[39;49m\u001B[43mrepresent_data\u001B[49m\u001B[43m(\u001B[49m\u001B[43mitem_value\u001B[49m\u001B[43m)\u001B[49m\n\u001B[0;32m    119\u001B[0m     \u001B[38;5;28;01mif\u001B[39;00m \u001B[38;5;129;01mnot\u001B[39;00m (\u001B[38;5;28misinstance\u001B[39m(node_key, ScalarNode) \u001B[38;5;129;01mand\u001B[39;00m \u001B[38;5;129;01mnot\u001B[39;00m node_key\u001B[38;5;241m.\u001B[39mstyle):\n\u001B[0;32m    120\u001B[0m         best_style \u001B[38;5;241m=\u001B[39m \u001B[38;5;28;01mFalse\u001B[39;00m\n",
      "File \u001B[1;32m~\\mambaforge\\envs\\xopt-dev\\lib\\site-packages\\yaml\\representer.py:48\u001B[0m, in \u001B[0;36mBaseRepresenter.represent_data\u001B[1;34m(self, data)\u001B[0m\n\u001B[0;32m     46\u001B[0m data_types \u001B[38;5;241m=\u001B[39m \u001B[38;5;28mtype\u001B[39m(data)\u001B[38;5;241m.\u001B[39m\u001B[38;5;18m__mro__\u001B[39m\n\u001B[0;32m     47\u001B[0m \u001B[38;5;28;01mif\u001B[39;00m data_types[\u001B[38;5;241m0\u001B[39m] \u001B[38;5;129;01min\u001B[39;00m \u001B[38;5;28mself\u001B[39m\u001B[38;5;241m.\u001B[39myaml_representers:\n\u001B[1;32m---> 48\u001B[0m     node \u001B[38;5;241m=\u001B[39m \u001B[38;5;28;43mself\u001B[39;49m\u001B[38;5;241;43m.\u001B[39;49m\u001B[43myaml_representers\u001B[49m\u001B[43m[\u001B[49m\u001B[43mdata_types\u001B[49m\u001B[43m[\u001B[49m\u001B[38;5;241;43m0\u001B[39;49m\u001B[43m]\u001B[49m\u001B[43m]\u001B[49m\u001B[43m(\u001B[49m\u001B[38;5;28;43mself\u001B[39;49m\u001B[43m,\u001B[49m\u001B[43m \u001B[49m\u001B[43mdata\u001B[49m\u001B[43m)\u001B[49m\n\u001B[0;32m     49\u001B[0m \u001B[38;5;28;01melse\u001B[39;00m:\n\u001B[0;32m     50\u001B[0m     \u001B[38;5;28;01mfor\u001B[39;00m data_type \u001B[38;5;129;01min\u001B[39;00m data_types:\n",
      "File \u001B[1;32m~\\mambaforge\\envs\\xopt-dev\\lib\\site-packages\\yaml\\representer.py:207\u001B[0m, in \u001B[0;36mSafeRepresenter.represent_dict\u001B[1;34m(self, data)\u001B[0m\n\u001B[0;32m    206\u001B[0m \u001B[38;5;28;01mdef\u001B[39;00m \u001B[38;5;21mrepresent_dict\u001B[39m(\u001B[38;5;28mself\u001B[39m, data):\n\u001B[1;32m--> 207\u001B[0m     \u001B[38;5;28;01mreturn\u001B[39;00m \u001B[38;5;28;43mself\u001B[39;49m\u001B[38;5;241;43m.\u001B[39;49m\u001B[43mrepresent_mapping\u001B[49m\u001B[43m(\u001B[49m\u001B[38;5;124;43m'\u001B[39;49m\u001B[38;5;124;43mtag:yaml.org,2002:map\u001B[39;49m\u001B[38;5;124;43m'\u001B[39;49m\u001B[43m,\u001B[49m\u001B[43m \u001B[49m\u001B[43mdata\u001B[49m\u001B[43m)\u001B[49m\n",
      "File \u001B[1;32m~\\mambaforge\\envs\\xopt-dev\\lib\\site-packages\\yaml\\representer.py:118\u001B[0m, in \u001B[0;36mBaseRepresenter.represent_mapping\u001B[1;34m(self, tag, mapping, flow_style)\u001B[0m\n\u001B[0;32m    116\u001B[0m \u001B[38;5;28;01mfor\u001B[39;00m item_key, item_value \u001B[38;5;129;01min\u001B[39;00m mapping:\n\u001B[0;32m    117\u001B[0m     node_key \u001B[38;5;241m=\u001B[39m \u001B[38;5;28mself\u001B[39m\u001B[38;5;241m.\u001B[39mrepresent_data(item_key)\n\u001B[1;32m--> 118\u001B[0m     node_value \u001B[38;5;241m=\u001B[39m \u001B[38;5;28;43mself\u001B[39;49m\u001B[38;5;241;43m.\u001B[39;49m\u001B[43mrepresent_data\u001B[49m\u001B[43m(\u001B[49m\u001B[43mitem_value\u001B[49m\u001B[43m)\u001B[49m\n\u001B[0;32m    119\u001B[0m     \u001B[38;5;28;01mif\u001B[39;00m \u001B[38;5;129;01mnot\u001B[39;00m (\u001B[38;5;28misinstance\u001B[39m(node_key, ScalarNode) \u001B[38;5;129;01mand\u001B[39;00m \u001B[38;5;129;01mnot\u001B[39;00m node_key\u001B[38;5;241m.\u001B[39mstyle):\n\u001B[0;32m    120\u001B[0m         best_style \u001B[38;5;241m=\u001B[39m \u001B[38;5;28;01mFalse\u001B[39;00m\n",
      "    \u001B[1;31m[... skipping similar frames: BaseRepresenter.represent_data at line 48 (1 times), SafeRepresenter.represent_dict at line 207 (1 times), BaseRepresenter.represent_mapping at line 118 (1 times)]\u001B[0m\n",
      "File \u001B[1;32m~\\mambaforge\\envs\\xopt-dev\\lib\\site-packages\\yaml\\representer.py:48\u001B[0m, in \u001B[0;36mBaseRepresenter.represent_data\u001B[1;34m(self, data)\u001B[0m\n\u001B[0;32m     46\u001B[0m data_types \u001B[38;5;241m=\u001B[39m \u001B[38;5;28mtype\u001B[39m(data)\u001B[38;5;241m.\u001B[39m\u001B[38;5;18m__mro__\u001B[39m\n\u001B[0;32m     47\u001B[0m \u001B[38;5;28;01mif\u001B[39;00m data_types[\u001B[38;5;241m0\u001B[39m] \u001B[38;5;129;01min\u001B[39;00m \u001B[38;5;28mself\u001B[39m\u001B[38;5;241m.\u001B[39myaml_representers:\n\u001B[1;32m---> 48\u001B[0m     node \u001B[38;5;241m=\u001B[39m \u001B[38;5;28;43mself\u001B[39;49m\u001B[38;5;241;43m.\u001B[39;49m\u001B[43myaml_representers\u001B[49m\u001B[43m[\u001B[49m\u001B[43mdata_types\u001B[49m\u001B[43m[\u001B[49m\u001B[38;5;241;43m0\u001B[39;49m\u001B[43m]\u001B[49m\u001B[43m]\u001B[49m\u001B[43m(\u001B[49m\u001B[38;5;28;43mself\u001B[39;49m\u001B[43m,\u001B[49m\u001B[43m \u001B[49m\u001B[43mdata\u001B[49m\u001B[43m)\u001B[49m\n\u001B[0;32m     49\u001B[0m \u001B[38;5;28;01melse\u001B[39;00m:\n\u001B[0;32m     50\u001B[0m     \u001B[38;5;28;01mfor\u001B[39;00m data_type \u001B[38;5;129;01min\u001B[39;00m data_types:\n",
      "File \u001B[1;32m~\\mambaforge\\envs\\xopt-dev\\lib\\site-packages\\yaml\\representer.py:207\u001B[0m, in \u001B[0;36mSafeRepresenter.represent_dict\u001B[1;34m(self, data)\u001B[0m\n\u001B[0;32m    206\u001B[0m \u001B[38;5;28;01mdef\u001B[39;00m \u001B[38;5;21mrepresent_dict\u001B[39m(\u001B[38;5;28mself\u001B[39m, data):\n\u001B[1;32m--> 207\u001B[0m     \u001B[38;5;28;01mreturn\u001B[39;00m \u001B[38;5;28;43mself\u001B[39;49m\u001B[38;5;241;43m.\u001B[39;49m\u001B[43mrepresent_mapping\u001B[49m\u001B[43m(\u001B[49m\u001B[38;5;124;43m'\u001B[39;49m\u001B[38;5;124;43mtag:yaml.org,2002:map\u001B[39;49m\u001B[38;5;124;43m'\u001B[39;49m\u001B[43m,\u001B[49m\u001B[43m \u001B[49m\u001B[43mdata\u001B[49m\u001B[43m)\u001B[49m\n",
      "File \u001B[1;32m~\\mambaforge\\envs\\xopt-dev\\lib\\site-packages\\yaml\\representer.py:118\u001B[0m, in \u001B[0;36mBaseRepresenter.represent_mapping\u001B[1;34m(self, tag, mapping, flow_style)\u001B[0m\n\u001B[0;32m    116\u001B[0m \u001B[38;5;28;01mfor\u001B[39;00m item_key, item_value \u001B[38;5;129;01min\u001B[39;00m mapping:\n\u001B[0;32m    117\u001B[0m     node_key \u001B[38;5;241m=\u001B[39m \u001B[38;5;28mself\u001B[39m\u001B[38;5;241m.\u001B[39mrepresent_data(item_key)\n\u001B[1;32m--> 118\u001B[0m     node_value \u001B[38;5;241m=\u001B[39m \u001B[38;5;28;43mself\u001B[39;49m\u001B[38;5;241;43m.\u001B[39;49m\u001B[43mrepresent_data\u001B[49m\u001B[43m(\u001B[49m\u001B[43mitem_value\u001B[49m\u001B[43m)\u001B[49m\n\u001B[0;32m    119\u001B[0m     \u001B[38;5;28;01mif\u001B[39;00m \u001B[38;5;129;01mnot\u001B[39;00m (\u001B[38;5;28misinstance\u001B[39m(node_key, ScalarNode) \u001B[38;5;129;01mand\u001B[39;00m \u001B[38;5;129;01mnot\u001B[39;00m node_key\u001B[38;5;241m.\u001B[39mstyle):\n\u001B[0;32m    120\u001B[0m         best_style \u001B[38;5;241m=\u001B[39m \u001B[38;5;28;01mFalse\u001B[39;00m\n",
      "File \u001B[1;32m~\\mambaforge\\envs\\xopt-dev\\lib\\site-packages\\yaml\\representer.py:52\u001B[0m, in \u001B[0;36mBaseRepresenter.represent_data\u001B[1;34m(self, data)\u001B[0m\n\u001B[0;32m     50\u001B[0m \u001B[38;5;28;01mfor\u001B[39;00m data_type \u001B[38;5;129;01min\u001B[39;00m data_types:\n\u001B[0;32m     51\u001B[0m     \u001B[38;5;28;01mif\u001B[39;00m data_type \u001B[38;5;129;01min\u001B[39;00m \u001B[38;5;28mself\u001B[39m\u001B[38;5;241m.\u001B[39myaml_multi_representers:\n\u001B[1;32m---> 52\u001B[0m         node \u001B[38;5;241m=\u001B[39m \u001B[38;5;28;43mself\u001B[39;49m\u001B[38;5;241;43m.\u001B[39;49m\u001B[43myaml_multi_representers\u001B[49m\u001B[43m[\u001B[49m\u001B[43mdata_type\u001B[49m\u001B[43m]\u001B[49m\u001B[43m(\u001B[49m\u001B[38;5;28;43mself\u001B[39;49m\u001B[43m,\u001B[49m\u001B[43m \u001B[49m\u001B[43mdata\u001B[49m\u001B[43m)\u001B[49m\n\u001B[0;32m     53\u001B[0m         \u001B[38;5;28;01mbreak\u001B[39;00m\n\u001B[0;32m     54\u001B[0m \u001B[38;5;28;01melse\u001B[39;00m:\n",
      "File \u001B[1;32m~\\mambaforge\\envs\\xopt-dev\\lib\\site-packages\\yaml\\representer.py:330\u001B[0m, in \u001B[0;36mRepresenter.represent_object\u001B[1;34m(self, data)\u001B[0m\n\u001B[0;32m    328\u001B[0m     listitems \u001B[38;5;241m=\u001B[39m \u001B[38;5;28mlist\u001B[39m(listitems)\n\u001B[0;32m    329\u001B[0m \u001B[38;5;28;01mif\u001B[39;00m dictitems \u001B[38;5;129;01mis\u001B[39;00m \u001B[38;5;129;01mnot\u001B[39;00m \u001B[38;5;28;01mNone\u001B[39;00m:\n\u001B[1;32m--> 330\u001B[0m     dictitems \u001B[38;5;241m=\u001B[39m \u001B[38;5;28;43mdict\u001B[39;49m\u001B[43m(\u001B[49m\u001B[43mdictitems\u001B[49m\u001B[43m)\u001B[49m\n\u001B[0;32m    331\u001B[0m \u001B[38;5;28;01mif\u001B[39;00m function\u001B[38;5;241m.\u001B[39m\u001B[38;5;18m__name__\u001B[39m \u001B[38;5;241m==\u001B[39m \u001B[38;5;124m'\u001B[39m\u001B[38;5;124m__newobj__\u001B[39m\u001B[38;5;124m'\u001B[39m:\n\u001B[0;32m    332\u001B[0m     function \u001B[38;5;241m=\u001B[39m args[\u001B[38;5;241m0\u001B[39m]\n",
      "\u001B[1;31mValueError\u001B[0m: dictionary update sequence element #0 has length 1; 2 is required"
     ]
    }
   ],
   "source": [
    "X"
   ],
   "metadata": {
    "collapsed": false,
    "ExecuteTime": {
     "end_time": "2023-09-06T20:58:47.951672600Z",
     "start_time": "2023-09-06T20:58:46.948666500Z"
    }
   }
  },
  {
   "cell_type": "markdown",
   "source": [
    "## Generate and evaluate initial points\n",
    "To begin optimization, we must generate some random initial data points. The first call\n",
    "to `X.step()` will generate and evaluate a number of randomly points specified by the\n",
    " generator. Note that if we add data to xopt before calling `X.step()` by assigning\n",
    " the data to `X.data`, calls to `X.step()` will ignore the random generation and\n",
    " proceed to generating points via Bayesian optimization."
   ],
   "metadata": {
    "collapsed": false
   }
  },
  {
   "cell_type": "code",
   "execution_count": 5,
   "outputs": [
    {
     "data": {
      "text/plain": "      x         f  xopt_runtime  xopt_error\n0  3.00 -1.021664      0.000024       False\n1  1.75  0.312362      0.000004       False\n2  2.00 -0.272011      0.000003       False",
      "text/html": "<div>\n<style scoped>\n    .dataframe tbody tr th:only-of-type {\n        vertical-align: middle;\n    }\n\n    .dataframe tbody tr th {\n        vertical-align: top;\n    }\n\n    .dataframe thead th {\n        text-align: right;\n    }\n</style>\n<table border=\"1\" class=\"dataframe\">\n  <thead>\n    <tr style=\"text-align: right;\">\n      <th></th>\n      <th>x</th>\n      <th>f</th>\n      <th>xopt_runtime</th>\n      <th>xopt_error</th>\n    </tr>\n  </thead>\n  <tbody>\n    <tr>\n      <th>0</th>\n      <td>3.00</td>\n      <td>-1.021664</td>\n      <td>0.000024</td>\n      <td>False</td>\n    </tr>\n    <tr>\n      <th>1</th>\n      <td>1.75</td>\n      <td>0.312362</td>\n      <td>0.000004</td>\n      <td>False</td>\n    </tr>\n    <tr>\n      <th>2</th>\n      <td>2.00</td>\n      <td>-0.272011</td>\n      <td>0.000003</td>\n      <td>False</td>\n    </tr>\n  </tbody>\n</table>\n</div>"
     },
     "execution_count": 5,
     "metadata": {},
     "output_type": "execute_result"
    }
   ],
   "source": [
    "import pandas as pd\n",
    "X.evaluate_data(pd.DataFrame({\"x\":[3.0, 1.75, 2.0]}))\n",
    "\n",
    "# inspect the gathered data\n",
    "X.data"
   ],
   "metadata": {
    "collapsed": false,
    "ExecuteTime": {
     "end_time": "2023-09-06T20:58:48.010672Z",
     "start_time": "2023-09-06T20:58:47.953674400Z"
    }
   }
  },
  {
   "cell_type": "code",
   "execution_count": 6,
   "outputs": [
    {
     "ename": "AttributeError",
     "evalue": "'NoneType' object has no attribute 'index'",
     "output_type": "error",
     "traceback": [
      "\u001B[1;31m---------------------------------------------------------------------------\u001B[0m",
      "\u001B[1;31mAttributeError\u001B[0m                            Traceback (most recent call last)",
      "Cell \u001B[1;32mIn[6], line 3\u001B[0m\n\u001B[0;32m      1\u001B[0m \u001B[38;5;66;03m# determine trust region from gathered data\u001B[39;00m\n\u001B[0;32m      2\u001B[0m X\u001B[38;5;241m.\u001B[39mgenerator\u001B[38;5;241m.\u001B[39mtrain_model()\n\u001B[1;32m----> 3\u001B[0m \u001B[43mX\u001B[49m\u001B[38;5;241;43m.\u001B[39;49m\u001B[43mgenerator\u001B[49m\u001B[38;5;241;43m.\u001B[39;49m\u001B[43mturbo_controller\u001B[49m\u001B[38;5;241;43m.\u001B[39;49m\u001B[43mupdate_state\u001B[49m\u001B[43m(\u001B[49m\u001B[43mgenerator\u001B[49m\u001B[38;5;241;43m.\u001B[39;49m\u001B[43mdata\u001B[49m\u001B[43m)\u001B[49m\n\u001B[0;32m      4\u001B[0m X\u001B[38;5;241m.\u001B[39mgenerator\u001B[38;5;241m.\u001B[39mturbo_controller\u001B[38;5;241m.\u001B[39mget_trust_region(generator\u001B[38;5;241m.\u001B[39mmodel)\n",
      "File \u001B[1;32m~\\Documents\\GitHub\\Xopt\\xopt\\generators\\bayesian\\turbo.py:165\u001B[0m, in \u001B[0;36mOptimizeTurboController.update_state\u001B[1;34m(self, data, previous_batch_size)\u001B[0m\n\u001B[0;32m    143\u001B[0m \u001B[38;5;250m\u001B[39m\u001B[38;5;124;03m\"\"\"\u001B[39;00m\n\u001B[0;32m    144\u001B[0m \u001B[38;5;124;03mUpdate turbo state class using min of data points that are feasible.\u001B[39;00m\n\u001B[0;32m    145\u001B[0m \u001B[38;5;124;03mOtherwise raise an error\u001B[39;00m\n\u001B[1;32m   (...)\u001B[0m\n\u001B[0;32m    162\u001B[0m \n\u001B[0;32m    163\u001B[0m \u001B[38;5;124;03m\"\"\"\u001B[39;00m\n\u001B[0;32m    164\u001B[0m \u001B[38;5;66;03m# get locations of valid data samples\u001B[39;00m\n\u001B[1;32m--> 165\u001B[0m feas_data \u001B[38;5;241m=\u001B[39m \u001B[38;5;28;43mself\u001B[39;49m\u001B[38;5;241;43m.\u001B[39;49m\u001B[43mvocs\u001B[49m\u001B[38;5;241;43m.\u001B[39;49m\u001B[43mfeasibility_data\u001B[49m\u001B[43m(\u001B[49m\u001B[43mdata\u001B[49m\u001B[43m)\u001B[49m\n\u001B[0;32m    167\u001B[0m \u001B[38;5;28;01mif\u001B[39;00m \u001B[38;5;28mlen\u001B[39m(data[feas_data[\u001B[38;5;124m\"\u001B[39m\u001B[38;5;124mfeasible\u001B[39m\u001B[38;5;124m\"\u001B[39m]]) \u001B[38;5;241m==\u001B[39m \u001B[38;5;241m0\u001B[39m:\n\u001B[0;32m    168\u001B[0m     \u001B[38;5;28;01mraise\u001B[39;00m \u001B[38;5;167;01mRuntimeError\u001B[39;00m(\n\u001B[0;32m    169\u001B[0m         \u001B[38;5;124m\"\u001B[39m\u001B[38;5;124mturbo requires at least one valid point in training \u001B[39m\u001B[38;5;124m\"\u001B[39m \u001B[38;5;124m\"\u001B[39m\u001B[38;5;124mdataset\u001B[39m\u001B[38;5;124m\"\u001B[39m\n\u001B[0;32m    170\u001B[0m     )\n",
      "File \u001B[1;32m~\\Documents\\GitHub\\Xopt\\xopt\\vocs.py:352\u001B[0m, in \u001B[0;36mVOCS.feasibility_data\u001B[1;34m(self, data, prefix)\u001B[0m\n\u001B[0;32m    335\u001B[0m \u001B[38;5;28;01mdef\u001B[39;00m \u001B[38;5;21mfeasibility_data\u001B[39m(\n\u001B[0;32m    336\u001B[0m     \u001B[38;5;28mself\u001B[39m,\n\u001B[0;32m    337\u001B[0m     data: Union[pd\u001B[38;5;241m.\u001B[39mDataFrame, List[Dict], List[Dict]],\n\u001B[0;32m    338\u001B[0m     prefix: \u001B[38;5;28mstr\u001B[39m \u001B[38;5;241m=\u001B[39m \u001B[38;5;124m\"\u001B[39m\u001B[38;5;124mfeasible_\u001B[39m\u001B[38;5;124m\"\u001B[39m,\n\u001B[0;32m    339\u001B[0m ) \u001B[38;5;241m-\u001B[39m\u001B[38;5;241m>\u001B[39m pd\u001B[38;5;241m.\u001B[39mDataFrame:\n\u001B[0;32m    340\u001B[0m \u001B[38;5;250m    \u001B[39m\u001B[38;5;124;03m\"\"\"\u001B[39;00m\n\u001B[0;32m    341\u001B[0m \u001B[38;5;124;03m    Returns a dataframe containing booleans denoting if a constraint is satisfied or\u001B[39;00m\n\u001B[0;32m    342\u001B[0m \u001B[38;5;124;03m    not. Returned dataframe also contains a column `feasible` which denotes if\u001B[39;00m\n\u001B[1;32m   (...)\u001B[0m\n\u001B[0;32m    350\u001B[0m \u001B[38;5;124;03m        result: processed Dataframe\u001B[39;00m\n\u001B[0;32m    351\u001B[0m \u001B[38;5;124;03m    \"\"\"\u001B[39;00m\n\u001B[1;32m--> 352\u001B[0m     \u001B[38;5;28;01mreturn\u001B[39;00m \u001B[43mform_feasibility_data\u001B[49m\u001B[43m(\u001B[49m\u001B[38;5;28;43mself\u001B[39;49m\u001B[38;5;241;43m.\u001B[39;49m\u001B[43mconstraints\u001B[49m\u001B[43m,\u001B[49m\u001B[43m \u001B[49m\u001B[43mdata\u001B[49m\u001B[43m,\u001B[49m\u001B[43m \u001B[49m\u001B[43mprefix\u001B[49m\u001B[43m)\u001B[49m\n",
      "File \u001B[1;32m~\\Documents\\GitHub\\Xopt\\xopt\\vocs.py:532\u001B[0m, in \u001B[0;36mform_feasibility_data\u001B[1;34m(constraints, data, prefix)\u001B[0m\n\u001B[0;32m    526\u001B[0m \u001B[38;5;250m\u001B[39m\u001B[38;5;124;03m\"\"\"\u001B[39;00m\n\u001B[0;32m    527\u001B[0m \u001B[38;5;124;03mUse constraint dict and data to identify feasible points in the the dataset.\u001B[39;00m\n\u001B[0;32m    528\u001B[0m \n\u001B[0;32m    529\u001B[0m \u001B[38;5;124;03mReturns a dataframe with the feasible data.\u001B[39;00m\n\u001B[0;32m    530\u001B[0m \u001B[38;5;124;03m\"\"\"\u001B[39;00m\n\u001B[0;32m    531\u001B[0m \u001B[38;5;28;01mif\u001B[39;00m \u001B[38;5;129;01mnot\u001B[39;00m constraints:\n\u001B[1;32m--> 532\u001B[0m     df \u001B[38;5;241m=\u001B[39m pd\u001B[38;5;241m.\u001B[39mDataFrame(index\u001B[38;5;241m=\u001B[39m\u001B[43mdata\u001B[49m\u001B[38;5;241;43m.\u001B[39;49m\u001B[43mindex\u001B[49m)\n\u001B[0;32m    533\u001B[0m     df[\u001B[38;5;124m\"\u001B[39m\u001B[38;5;124mfeasible\u001B[39m\u001B[38;5;124m\"\u001B[39m] \u001B[38;5;241m=\u001B[39m \u001B[38;5;28;01mTrue\u001B[39;00m\n\u001B[0;32m    534\u001B[0m     \u001B[38;5;28;01mreturn\u001B[39;00m df\n",
      "\u001B[1;31mAttributeError\u001B[0m: 'NoneType' object has no attribute 'index'"
     ]
    }
   ],
   "source": [
    "# determine trust region from gathered data\n",
    "X.generator.train_model()\n",
    "X.generator.turbo_controller.update_state(X.generator.data)\n",
    "X.generator.turbo_controller.get_trust_region(X.generator.model)"
   ],
   "metadata": {
    "collapsed": false,
    "ExecuteTime": {
     "end_time": "2023-09-06T20:58:48.400671200Z",
     "start_time": "2023-09-06T20:58:47.982673500Z"
    }
   }
  },
  {
   "cell_type": "markdown",
   "source": [
    "## Do bayesian optimization steps\n",
    "Notice that when the number of successive successes or failures reaches 2 the trust\n",
    "region expands or contracts and counters are reset to zero. Counters are also reset\n",
    "to zero during alternate successes/failures. Finally, the model is most accurate\n",
    "inside the trust region, which supports our goal of local optimization."
   ],
   "metadata": {
    "collapsed": false
   }
  },
  {
   "cell_type": "code",
   "execution_count": null,
   "outputs": [],
   "source": [
    "import torch\n",
    "import matplotlib.pyplot as plt\n",
    "\n",
    "# test points for plotting\n",
    "test_x = torch.linspace(*X.vocs.bounds.flatten(),500).double()\n",
    "\n",
    "for i in range(10):\n",
    "\n",
    "    # get the Gaussian process model from the generator\n",
    "    model = X.generator.train_model()\n",
    "\n",
    "    # get trust region\n",
    "    trust_region = X.generator.turbo_controller.get_trust_region(model)\\\n",
    "        .squeeze()\n",
    "    scale_factor = X.generator.turbo_controller.length\n",
    "    region_width = trust_region[1] - trust_region[0]\n",
    "    best_value = X.generator.turbo_controller.best_value\n",
    "\n",
    "    # get number of successes and failures\n",
    "    n_successes = X.generator.turbo_controller.success_counter\n",
    "    n_failures = X.generator.turbo_controller.failure_counter\n",
    "\n",
    "    # get acquisition function from generator\n",
    "    acq = X.generator.get_acquisition(model)\n",
    "\n",
    "    # calculate model posterior and acquisition function at each test point\n",
    "    # NOTE: need to add a dimension to the input tensor for evaluating the\n",
    "    # posterior and another for the acquisition function, see\n",
    "    # https://botorch.org/docs/batching for details\n",
    "    # NOTE: we use the `torch.no_grad()` environment to speed up computation by\n",
    "    # skipping calculations for backpropagation\n",
    "    with torch.no_grad():\n",
    "        posterior = model.posterior(test_x.unsqueeze(1))\n",
    "        acq_val = acq(test_x.reshape(-1,1,1))\n",
    "\n",
    "    # get mean function and confidence regions\n",
    "    mean = posterior.mean\n",
    "    l,u = posterior.mvn.confidence_region()\n",
    "\n",
    "    # plot model and acquisition function\n",
    "    fig,ax = plt.subplots(2,1,sharex=\"all\")\n",
    "\n",
    "    # add title for successes and failures\n",
    "    ax[0].set_title(f\"n_successes: {n_successes}, n_failures: {n_failures}, \"\n",
    "                    f\"scale_factor: {scale_factor}, region_width: {region_width:.2}, \"\n",
    "                    f\"best_value: {best_value:.4}\")\n",
    "\n",
    "    # plot model posterior\n",
    "    ax[0].plot(test_x, mean, label=\"Posterior mean\")\n",
    "    ax[0].fill_between(test_x, l, u,alpha=0.25, label=\"Confidence region\")\n",
    "\n",
    "    # add data to model plot\n",
    "    ax[0].plot(X.data[\"x\"],X.data[\"f\"],\"C1o\", label=\"Training data\")\n",
    "\n",
    "    # plot true function\n",
    "    true_f = sin_function({\"x\": test_x})[\"f\"]\n",
    "    ax[0].plot(test_x, true_f,'--', label=\"Ground truth\")\n",
    "\n",
    "    # add legend\n",
    "    ax[0].legend(fontsize=\"x-small\")\n",
    "\n",
    "    # plot acquisition function\n",
    "    ax[1].plot(test_x, acq_val.flatten())\n",
    "\n",
    "    ax[0].set_ylabel(\"f\")\n",
    "    ax[0].set_ylim(-12,10)\n",
    "    ax[1].set_ylabel(r\"$\\alpha(x)$\")\n",
    "    ax[1].set_xlabel(\"x\")\n",
    "\n",
    "    # plot trust region\n",
    "    for a in ax:\n",
    "        a.axvline(trust_region[0],c=\"r\")\n",
    "        a.axvline(trust_region[1],c=\"r\")\n",
    "\n",
    "    fig.tight_layout()\n",
    "    X.step()\n"
   ],
   "metadata": {
    "collapsed": false,
    "ExecuteTime": {
     "start_time": "2023-09-06T20:58:48.374675200Z"
    }
   }
  },
  {
   "cell_type": "code",
   "execution_count": null,
   "outputs": [],
   "source": [
    "# access the collected data\n",
    "X.generator.turbo_controller"
   ],
   "metadata": {
    "collapsed": false
   }
  },
  {
   "cell_type": "code",
   "execution_count": null,
   "outputs": [],
   "source": [
    "X.data"
   ],
   "metadata": {
    "collapsed": false
   }
  },
  {
   "cell_type": "code",
   "execution_count": null,
   "outputs": [],
   "source": [
    "list(model.named_parameters())"
   ],
   "metadata": {
    "collapsed": false
   }
  }
 ],
 "metadata": {
  "kernelspec": {
   "display_name": "Python 3",
   "language": "python",
   "name": "python3"
  },
  "language_info": {
   "codemirror_mode": {
    "name": "ipython",
    "version": 2
   },
   "file_extension": ".py",
   "mimetype": "text/x-python",
   "name": "python",
   "nbconvert_exporter": "python",
   "pygments_lexer": "ipython2",
   "version": "2.7.6"
  }
 },
 "nbformat": 4,
 "nbformat_minor": 0
}
