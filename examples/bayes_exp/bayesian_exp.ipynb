{
 "cells": [
  {
   "cell_type": "markdown",
   "id": "9e1b3d38-fe20-4a94-9901-9fe80e3fb1d8",
   "metadata": {},
   "source": [
    "# Bayesian exploration using script"
   ]
  },
  {
   "cell_type": "code",
   "execution_count": 1,
   "id": "4a9be9bf-b3c5-468d-84f6-c7b8cf25806e",
   "metadata": {},
   "outputs": [
    {
     "data": {
      "text/plain": [
       "\u001b[1;31mSignature:\u001b[0m\n",
       "\u001b[0mbayesian_optimize\u001b[0m\u001b[1;33m(\u001b[0m\u001b[1;33m\n",
       "\u001b[0m    \u001b[0mvocs\u001b[0m\u001b[1;33m,\u001b[0m\u001b[1;33m\n",
       "\u001b[0m    \u001b[0mevaluate_f\u001b[0m\u001b[1;33m,\u001b[0m\u001b[1;33m\n",
       "\u001b[0m    \u001b[0mcandidate_generator\u001b[0m\u001b[1;33m,\u001b[0m\u001b[1;33m\n",
       "\u001b[0m    \u001b[0moutput_path\u001b[0m\u001b[1;33m=\u001b[0m\u001b[1;32mNone\u001b[0m\u001b[1;33m,\u001b[0m\u001b[1;33m\n",
       "\u001b[0m    \u001b[0mcustom_model\u001b[0m\u001b[1;33m=\u001b[0m\u001b[1;32mNone\u001b[0m\u001b[1;33m,\u001b[0m\u001b[1;33m\n",
       "\u001b[0m    \u001b[0mexecutor\u001b[0m\u001b[1;33m=\u001b[0m\u001b[1;33m<\u001b[0m\u001b[0mxopt\u001b[0m\u001b[1;33m.\u001b[0m\u001b[0mtools\u001b[0m\u001b[1;33m.\u001b[0m\u001b[0mDummyExecutor\u001b[0m \u001b[0mobject\u001b[0m \u001b[0mat\u001b[0m \u001b[1;36m0x0000020B0A2A2B50\u001b[0m\u001b[1;33m>\u001b[0m\u001b[1;33m,\u001b[0m\u001b[1;33m\n",
       "\u001b[0m    \u001b[0mrestart_file\u001b[0m\u001b[1;33m=\u001b[0m\u001b[1;32mNone\u001b[0m\u001b[1;33m,\u001b[0m\u001b[1;33m\n",
       "\u001b[0m    \u001b[0minitial_x\u001b[0m\u001b[1;33m=\u001b[0m\u001b[1;32mNone\u001b[0m\u001b[1;33m,\u001b[0m\u001b[1;33m\n",
       "\u001b[0m    \u001b[0mn_initial_samples\u001b[0m\u001b[1;33m=\u001b[0m\u001b[1;36m1\u001b[0m\u001b[1;33m,\u001b[0m\u001b[1;33m\n",
       "\u001b[0m    \u001b[0mn_steps\u001b[0m\u001b[1;33m=\u001b[0m\u001b[1;36m1\u001b[0m\u001b[1;33m,\u001b[0m\u001b[1;33m\n",
       "\u001b[0m    \u001b[0mverbose\u001b[0m\u001b[1;33m=\u001b[0m\u001b[1;32mTrue\u001b[0m\u001b[1;33m,\u001b[0m\u001b[1;33m\n",
       "\u001b[0m    \u001b[0mref\u001b[0m\u001b[1;33m=\u001b[0m\u001b[1;32mNone\u001b[0m\u001b[1;33m,\u001b[0m\u001b[1;33m\n",
       "\u001b[0m\u001b[1;33m)\u001b[0m\u001b[1;33m\u001b[0m\u001b[1;33m\u001b[0m\u001b[0m\n",
       "\u001b[1;31mDocstring:\u001b[0m\n",
       "Parameters\n",
       "----------\n",
       "ref\n",
       "vocs\n",
       "verbose\n",
       "n_steps\n",
       "n_initial_samples\n",
       "initial_x\n",
       "executor\n",
       "restart_file\n",
       "custom_model\n",
       "output_path\n",
       "candidate_generator\n",
       "config : dict\n",
       "    Varabiles, objectives, constraints and statics dictionary, see xopt documentation for detials\n",
       "\n",
       "evaluate_f : callable\n",
       "    Returns dict of outputs after problem has been evaluated\n",
       "\n",
       "gen_candidate : callable\n",
       "    Callable that takes the form f(model, bounds, vocs, **kwargs) and returns 1 or more candidates\n",
       "\n",
       "**kwargs\n",
       "    Optional arguments for acquisition function optimization\n",
       "\n",
       "Returns\n",
       "-------\n",
       "results : dict\n",
       "    Dictionary object containing optimization points + other info\n",
       "\u001b[1;31mFile:\u001b[0m      c:\\users\\ryan roussel\\documents\\github\\xopt\\xopt\\bayesian\\optimize.py\n",
       "\u001b[1;31mType:\u001b[0m      function\n"
      ]
     },
     "metadata": {},
     "output_type": "display_data"
    }
   ],
   "source": [
    "# main function\n",
    "import numpy as np\n",
    "import torch\n",
    "import matplotlib.pyplot as plt\n",
    "\n",
    "from xopt.bayesian.optimize import bayesian_optimize\n",
    "from xopt.bayesian.generators import exploration\n",
    "\n",
    "# test function\n",
    "from xopt.evaluators import test_TNK\n",
    "?bayesian_optimize"
   ]
  },
  {
   "cell_type": "code",
   "execution_count": 2,
   "id": "c408bff1-fd32-4b08-a6f2-779cce3fed7c",
   "metadata": {},
   "outputs": [
    {
     "name": "stdout",
     "output_type": "stream",
     "text": [
      "Candidate(s): tensor([[0.4976, 0.0000]], dtype=torch.float64)\n",
      "Candidate(s): tensor([[3.1416, 0.0000]], dtype=torch.float64)\n",
      "Candidate(s): tensor([[0.9853, 0.8781]], dtype=torch.float64)\n",
      "Candidate(s): tensor([[0.0000, 0.7723]], dtype=torch.float64)\n",
      "Candidate(s): tensor([[0.6467, 0.9942]], dtype=torch.float64)\n",
      "Candidate(s): tensor([[0.3528, 1.0396]], dtype=torch.float64)\n",
      "Candidate(s): tensor([[1.1273, 0.5109]], dtype=torch.float64)\n",
      "Candidate(s): tensor([[1.1011, 0.2908]], dtype=torch.float64)\n",
      "Candidate(s): tensor([[1.0344, 0.1118]], dtype=torch.float64)\n",
      "Candidate(s): tensor([[0.2362, 1.1010]], dtype=torch.float64)\n",
      "Candidate(s): tensor([[0.7698, 1.0879]], dtype=torch.float64)\n",
      "Candidate(s): tensor([[0.8186, 0.7341]], dtype=torch.float64)\n",
      "Candidate(s): tensor([[1.1047, 0.8159]], dtype=torch.float64)\n",
      "Candidate(s): tensor([[0.1116, 1.0619]], dtype=torch.float64)\n",
      "Candidate(s): tensor([[0.5606, 1.1702]], dtype=torch.float64)\n",
      "Candidate(s): tensor([[1.0480, 0.0806]], dtype=torch.float64)\n",
      "Candidate(s): tensor([[0.8969, 1.0581]], dtype=torch.float64)\n",
      "Candidate(s): tensor([[0.8322, 0.6849]], dtype=torch.float64)\n",
      "Candidate(s): tensor([[0.0795, 1.0500]], dtype=torch.float64)\n",
      "Candidate(s): tensor([[1.1790, 0.6176]], dtype=torch.float64)\n",
      "Candidate(s): tensor([[0.4977, 0.9293]], dtype=torch.float64)\n",
      "Candidate(s): tensor([[0.4727, 1.1874]], dtype=torch.float64)\n",
      "Candidate(s): tensor([[1.0459, 0.0713]], dtype=torch.float64)\n",
      "Candidate(s): tensor([[0.9626, 1.0145]], dtype=torch.float64)\n",
      "Candidate(s): tensor([[0.0000, 0.0383]], dtype=torch.float64)\n",
      "Candidate(s): tensor([[0.8369, 0.5378]], dtype=torch.float64)\n",
      "Candidate(s): tensor([[0.0686, 1.0454]], dtype=torch.float64)\n",
      "Candidate(s): tensor([[1.1862, 0.6052]], dtype=torch.float64)\n",
      "Candidate(s): tensor([[0.8262, 0.5050]], dtype=torch.float64)\n",
      "Candidate(s): tensor([[0.3392, 0.9849]], dtype=torch.float64)\n"
     ]
    }
   ],
   "source": [
    "# Get VOCS\n",
    "VOCS = test_TNK.VOCS\n",
    "\n",
    "# technically this is not necessary, but its good to be explict\n",
    "VOCS['objectives'] = {'y1' : None}\n",
    "\n",
    "# Get evaluate function\n",
    "EVALUATE = test_TNK.evaluate_TNK\n",
    "\n",
    "# create sample generator\n",
    "gen = exploration.BayesianExplorationGenerator()\n",
    "\n",
    "# Run - see comments for example options\n",
    "results = bayesian_optimize(VOCS, EVALUATE, gen,\n",
    "                               n_initial_samples=5,                   ## Specify number of initial random samples\n",
    "                               initial_x=None,                        ## Specify explicit initial sample locations (overwrites n_initial_samples)\n",
    "                               n_steps=30,                            ## number of optimization step\n",
    "                               # restart_data_file = 'results.json',  ## restart optimization file\n",
    "                               # custom_model = myCustomModel,        ## Specify custom model creation function\n",
    "                                verbose=True)"
   ]
  },
  {
   "cell_type": "code",
   "execution_count": 3,
   "id": "7d7b9312-17fe-438c-8120-c0fc458b6a3c",
   "metadata": {},
   "outputs": [
    {
     "name": "stdout",
     "output_type": "stream",
     "text": [
      "dict_keys(['variables', 'objectives', 'constraints', 'constraint_status', 'feasibility', 'model'])\n"
     ]
    },
    {
     "data": {
      "image/png": "[encoded data removed]",
      "text/plain": [
       "<Figure size 432x288 with 1 Axes>"
      ]
     },
     "metadata": {
      "needs_background": "light"
     },
     "output_type": "display_data"
    }
   ],
   "source": [
    "# plot exploration results and path - exploration should explore the feasible region of the TNK problem - See Table V in https://www.iitk.ac.in/kangal/Deb_NSGA-II.pdf\n",
    "fig, ax = plt.subplots()\n",
    "print(results.keys())\n",
    "variables = results['variables']\n",
    "valid = results['variables'][results['feasibility'].flatten()]\n",
    "ax.plot(variables[:, 0], variables[:, 1], '-o')\n",
    "ax.plot(valid[:, 0], valid[:, 1], 'o')\n",
    "ax.set_xlabel('$x_1$')\n",
    "ax.set_ylabel('$x_2$')\n",
    "\n",
    "plt.show()"
   ]
  },
  {
   "cell_type": "markdown",
   "id": "6f8e7e01-3e2b-4297-bec7-84440e185b71",
   "metadata": {},
   "source": [
    "### Bayesian exploration with proximal biasing\n",
    "- should result in a smoother path through input space"
   ]
  },
  {
   "cell_type": "code",
   "execution_count": 4,
   "id": "f89ac46e-5fc5-40fb-8f45-b524a312884b",
   "metadata": {},
   "outputs": [
    {
     "ename": "NameError",
     "evalue": "name 'bayesian_exploration' is not defined",
     "output_type": "error",
     "traceback": [
      "\u001b[1;31m---------------------------------------------------------------------------\u001b[0m",
      "\u001b[1;31mNameError\u001b[0m                                 Traceback (most recent call last)",
      "\u001b[1;32mC:\\Users\\RYANRO~1\\AppData\\Local\\Temp/ipykernel_15716/969648215.py\u001b[0m in \u001b[0;36m<module>\u001b[1;34m\u001b[0m\n\u001b[0;32m      9\u001b[0m \u001b[1;33m\u001b[0m\u001b[0m\n\u001b[0;32m     10\u001b[0m \u001b[1;31m# Run - see comments for example options\u001b[0m\u001b[1;33m\u001b[0m\u001b[1;33m\u001b[0m\u001b[1;33m\u001b[0m\u001b[0m\n\u001b[1;32m---> 11\u001b[1;33m results = bayesian_exploration(VOCS, EVALUATE,\n\u001b[0m\u001b[0;32m     12\u001b[0m                                \u001b[0mn_initial_samples\u001b[0m\u001b[1;33m=\u001b[0m\u001b[1;36m5\u001b[0m\u001b[1;33m,\u001b[0m                   \u001b[1;31m## Specify number of initial random samples\u001b[0m\u001b[1;33m\u001b[0m\u001b[1;33m\u001b[0m\u001b[0m\n\u001b[0;32m     13\u001b[0m                                \u001b[0minitial_x\u001b[0m\u001b[1;33m=\u001b[0m\u001b[1;32mNone\u001b[0m\u001b[1;33m,\u001b[0m                        \u001b[1;31m## Specify explicit initial sample locations (overwrites n_initial_samples)\u001b[0m\u001b[1;33m\u001b[0m\u001b[1;33m\u001b[0m\u001b[0m\n",
      "\u001b[1;31mNameError\u001b[0m: name 'bayesian_exploration' is not defined"
     ]
    }
   ],
   "source": [
    "# Get VOCS\n",
    "VOCS = test_TNK.VOCS\n",
    "\n",
    "# technically this is not necessary, but its good to be explict\n",
    "VOCS['objectives'] = {'y1' : None}\n",
    "# Get evaluate function\n",
    "EVALUATE = test_TNK.evaluate_TNK\n",
    "\n",
    "\n",
    "# Run - see comments for example options\n",
    "results = bayesian_exploration(VOCS, EVALUATE,\n",
    "                               n_initial_samples=5,                   ## Specify number of initial random samples\n",
    "                               initial_x=None,                        ## Specify explicit initial sample locations (overwrites n_initial_samples)\n",
    "                               use_gpu=False,                         ## Use GPU\n",
    "                               n_steps=30,                            ## number of optimization step\n",
    "                               # restart_data_file = 'results.json',  ## restart optimization file\n",
    "                               # batch_size = 5,                      ## Specify batched exploration\n",
    "                               # custom_model = myCustomModel,        ## Specify custom model creation function\n",
    "                               sigma=torch.eye(2) * 0.5,            ## Specify proximal term (requires batch_size = 1)\n",
    "                               verbose=False)"
   ]
  },
  {
   "cell_type": "code",
   "execution_count": null,
   "id": "388eff19-8ac4-4055-badf-de9544036836",
   "metadata": {},
   "outputs": [],
   "source": [
    "# plot exploration results and path - exploration should explore the feasible region of the TNK problem - See Table V in https://www.iitk.ac.in/kangal/Deb_NSGA-II.pdf\n",
    "fig, ax = plt.subplots()\n",
    "print(results.keys())\n",
    "variables = results['variables']\n",
    "valid = results['variables'][results['feasibility'].flatten()]\n",
    "ax.plot(variables[:, 0], variables[:, 1], '-o')\n",
    "ax.plot(valid[:, 0], valid[:, 1], 'o')\n",
    "ax.set_xlabel('$x_1$')\n",
    "ax.set_ylabel('$x_2$')\n",
    "\n",
    "plt.show()"
   ]
  },
  {
   "cell_type": "code",
   "execution_count": null,
   "id": "5460ba9c-2f58-4d92-8069-f2a4ea8edb15",
   "metadata": {},
   "outputs": [],
   "source": []
  }
 ],
 "metadata": {
  "kernelspec": {
   "display_name": "xopt",
   "language": "python",
   "name": "xopt"
  },
  "language_info": {
   "codemirror_mode": {
    "name": "ipython",
    "version": 3
   },
   "file_extension": ".py",
   "mimetype": "text/x-python",
   "name": "python",
   "nbconvert_exporter": "python",
   "pygments_lexer": "ipython3",
   "version": "3.9.6"
  }
 },
 "nbformat": 4,
 "nbformat_minor": 5
}
